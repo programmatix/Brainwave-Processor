{
 "cells": [
  {
   "metadata": {
    "ExecuteTime": {
     "end_time": "2024-11-11T14:29:21.620727Z",
     "start_time": "2024-11-11T14:29:21.522054Z"
    }
   },
   "cell_type": "code",
   "source": [
    "# Autoreload possibly interferes with IntelliJ debugging\n",
    "%reload_ext autoreload\n",
    "%autoreload 2\n",
    "import logging\n",
    "logging.basicConfig(level=logging.INFO, format='%(asctime)s - %(levelname)s - %(message)s')\n",
    "log = lambda msg: logging.info(msg)\n"
   ],
   "id": "f7782d5066f4ab6c",
   "outputs": [],
   "execution_count": 2
  },
  {
   "metadata": {
    "ExecuteTime": {
     "end_time": "2024-11-11T14:29:23.502824Z",
     "start_time": "2024-11-11T14:29:22.433998Z"
    }
   },
   "cell_type": "code",
   "source": [
    "import pandas as pd\n",
    "import os\n",
    "\n",
    "input_dir = \"C:\\\\dev\\\\play\\\\brainwave-data\"\n",
    "stats_df = pd.read_csv(input_dir + os.path.sep + \"stats.csv\")\n"
   ],
   "id": "f4ddf0e010c1d015",
   "outputs": [],
   "execution_count": 3
  },
  {
   "cell_type": "code",
   "id": "initial_id",
   "metadata": {
    "collapsed": true,
    "ExecuteTime": {
     "end_time": "2024-11-11T14:30:22.985499Z",
     "start_time": "2024-11-11T14:30:17.650347Z"
    }
   },
   "source": [
    "errors = []\n",
    "dfs = []\n",
    "\n",
    "for root, dirs, files in os.walk(input_dir):\n",
    "    for idx, dir_name in enumerate(dirs):\n",
    "        input_file = os.path.join(root, dir_name, \"raw.post_human.csv\")\n",
    "        log(\"Processing file: \" + input_file)\n",
    "        if os.path.exists(input_file):\n",
    "            dfs.append(pd.read_csv(input_file))\n",
    "\n",
    "for err in errors:\n",
    "    log(err)\n",
    "\n",
    "df = pd.concat(dfs, ignore_index=True)"
   ],
   "outputs": [
    {
     "name": "stderr",
     "output_type": "stream",
     "text": [
      "2024-11-11 14:30:17,742 - INFO - Processing file: C:\\dev\\play\\brainwave-data\\08-07-2024--22-51-16\\raw.post_human.csv\n",
      "2024-11-11 14:30:17,742 - INFO - Processing file: C:\\dev\\play\\brainwave-data\\09-07-2024--22-52-25\\raw.post_human.csv\n",
      "2024-11-11 14:30:17,742 - INFO - Processing file: C:\\dev\\play\\brainwave-data\\2024-07-08-22-51-16\\raw.post_human.csv\n",
      "2024-11-11 14:30:17,775 - INFO - Processing file: C:\\dev\\play\\brainwave-data\\2024-07-11-22-46-18\\raw.post_human.csv\n",
      "2024-11-11 14:30:17,894 - INFO - Processing file: C:\\dev\\play\\brainwave-data\\2024-07-12-22-38-58\\raw.post_human.csv\n",
      "2024-11-11 14:30:18,013 - INFO - Processing file: C:\\dev\\play\\brainwave-data\\2024-07-13-21-41-55\\raw.post_human.csv\n",
      "2024-11-11 14:30:18,113 - INFO - Processing file: C:\\dev\\play\\brainwave-data\\2024-07-14-22-27-26\\raw.post_human.csv\n",
      "2024-11-11 14:30:18,214 - INFO - Processing file: C:\\dev\\play\\brainwave-data\\2024-07-15-09-10-07\\raw.post_human.csv\n",
      "2024-11-11 14:30:18,214 - INFO - Processing file: C:\\dev\\play\\brainwave-data\\2024-07-15-22-33-27\\raw.post_human.csv\n",
      "2024-11-11 14:30:18,316 - INFO - Processing file: C:\\dev\\play\\brainwave-data\\2024-07-16-23-14-52\\raw.post_human.csv\n",
      "2024-11-11 14:30:18,405 - INFO - Processing file: C:\\dev\\play\\brainwave-data\\2024-07-17-22-48-49\\raw.post_human.csv\n",
      "2024-11-11 14:30:18,520 - INFO - Processing file: C:\\dev\\play\\brainwave-data\\2024-07-21-22-22-16\\raw.post_human.csv\n",
      "2024-11-11 14:30:18,574 - INFO - Processing file: C:\\dev\\play\\brainwave-data\\2024-07-22-22-24-06\\raw.post_human.csv\n",
      "2024-11-11 14:30:18,690 - INFO - Processing file: C:\\dev\\play\\brainwave-data\\2024-07-23-22-40-25\\raw.post_human.csv\n",
      "2024-11-11 14:30:18,690 - INFO - Processing file: C:\\dev\\play\\brainwave-data\\2024-07-24-18-57-03\\raw.post_human.csv\n",
      "2024-11-11 14:30:18,690 - INFO - Processing file: C:\\dev\\play\\brainwave-data\\2024-07-24-22-42-26\\raw.post_human.csv\n",
      "2024-11-11 14:30:18,754 - INFO - Processing file: C:\\dev\\play\\brainwave-data\\2024-07-26-22-36-26\\raw.post_human.csv\n",
      "2024-11-11 14:30:18,876 - INFO - Processing file: C:\\dev\\play\\brainwave-data\\2024-07-27-22-16-21\\raw.post_human.csv\n",
      "2024-11-11 14:30:18,994 - INFO - Processing file: C:\\dev\\play\\brainwave-data\\2024-07-28-22-29-49\\raw.post_human.csv\n",
      "2024-11-11 14:30:18,994 - INFO - Processing file: C:\\dev\\play\\brainwave-data\\2024-08-03-22-57-15\\raw.post_human.csv\n",
      "2024-11-11 14:30:18,994 - INFO - Processing file: C:\\dev\\play\\brainwave-data\\2024-08-18-21-33-07\\raw.post_human.csv\n",
      "2024-11-11 14:30:19,115 - INFO - Processing file: C:\\dev\\play\\brainwave-data\\2024-08-19-21-43-56\\raw.post_human.csv\n",
      "2024-11-11 14:30:19,255 - INFO - Processing file: C:\\dev\\play\\brainwave-data\\2024-08-20-21-17-32\\raw.post_human.csv\n",
      "2024-11-11 14:30:19,391 - INFO - Processing file: C:\\dev\\play\\brainwave-data\\2024-08-21-21-40-16\\raw.post_human.csv\n",
      "2024-11-11 14:30:19,486 - INFO - Processing file: C:\\dev\\play\\brainwave-data\\2024-08-22-21-26-19\\raw.post_human.csv\n",
      "2024-11-11 14:30:19,568 - INFO - Processing file: C:\\dev\\play\\brainwave-data\\2024-08-23-21-29-46\\raw.post_human.csv\n",
      "2024-11-11 14:30:19,649 - INFO - Processing file: C:\\dev\\play\\brainwave-data\\2024-08-24-21-11-51\\raw.post_human.csv\n",
      "2024-11-11 14:30:19,759 - INFO - Processing file: C:\\dev\\play\\brainwave-data\\2024-08-25-21-25-33\\raw.post_human.csv\n",
      "2024-11-11 14:30:19,874 - INFO - Processing file: C:\\dev\\play\\brainwave-data\\2024-08-26-20-56-10\\raw.post_human.csv\n",
      "2024-11-11 14:30:19,994 - INFO - Processing file: C:\\dev\\play\\brainwave-data\\2024-09-01-21-11-15\\raw.post_human.csv\n",
      "2024-11-11 14:30:20,042 - INFO - Processing file: C:\\dev\\play\\brainwave-data\\2024-09-02-21-42-00\\raw.post_human.csv\n",
      "2024-11-11 14:30:20,105 - INFO - Processing file: C:\\dev\\play\\brainwave-data\\2024-09-03-21-10-58\\raw.post_human.csv\n",
      "2024-11-11 14:30:20,200 - INFO - Processing file: C:\\dev\\play\\brainwave-data\\2024-09-04-21-44-08\\raw.post_human.csv\n",
      "2024-11-11 14:30:20,247 - INFO - Processing file: C:\\dev\\play\\brainwave-data\\2024-09-05-21-32-05\\raw.post_human.csv\n",
      "2024-11-11 14:30:20,318 - INFO - Processing file: C:\\dev\\play\\brainwave-data\\2024-09-08-21-01-39\\raw.post_human.csv\n",
      "2024-11-11 14:30:20,374 - INFO - Processing file: C:\\dev\\play\\brainwave-data\\2024-09-10-21-22-21\\raw.post_human.csv\n",
      "2024-11-11 14:30:20,374 - INFO - Processing file: C:\\dev\\play\\brainwave-data\\2024-09-11-21-19-21\\raw.post_human.csv\n",
      "2024-11-11 14:30:20,422 - INFO - Processing file: C:\\dev\\play\\brainwave-data\\2024-09-13-21-24-32\\raw.post_human.csv\n",
      "2024-11-11 14:30:20,485 - INFO - Processing file: C:\\dev\\play\\brainwave-data\\2024-09-15-21-14-05\\raw.post_human.csv\n",
      "2024-11-11 14:30:20,564 - INFO - Processing file: C:\\dev\\play\\brainwave-data\\2024-09-16-21-04-27\\raw.post_human.csv\n",
      "2024-11-11 14:30:20,586 - INFO - Processing file: C:\\dev\\play\\brainwave-data\\2024-09-17-21-33-14\\raw.post_human.csv\n",
      "2024-11-11 14:30:20,644 - INFO - Processing file: C:\\dev\\play\\brainwave-data\\2024-09-18-21-28-11\\raw.post_human.csv\n",
      "2024-11-11 14:30:20,644 - INFO - Processing file: C:\\dev\\play\\brainwave-data\\2024-09-19-21-29-42\\raw.post_human.csv\n",
      "2024-11-11 14:30:20,644 - INFO - Processing file: C:\\dev\\play\\brainwave-data\\2024-09-20-21-19-28\\raw.post_human.csv\n",
      "2024-11-11 14:30:20,691 - INFO - Processing file: C:\\dev\\play\\brainwave-data\\2024-09-22-21-30-59\\raw.post_human.csv\n",
      "2024-11-11 14:30:20,759 - INFO - Processing file: C:\\dev\\play\\brainwave-data\\2024-09-24-22-43-11\\raw.post_human.csv\n",
      "2024-11-11 14:30:20,806 - INFO - Processing file: C:\\dev\\play\\brainwave-data\\2024-09-24-22-43-12\\raw.post_human.csv\n",
      "2024-11-11 14:30:20,858 - INFO - Processing file: C:\\dev\\play\\brainwave-data\\2024-09-25-21-57-01\\raw.post_human.csv\n",
      "2024-11-11 14:30:20,919 - INFO - Processing file: C:\\dev\\play\\brainwave-data\\2024-09-26-21-24-52\\raw.post_human.csv\n",
      "2024-11-11 14:30:20,965 - INFO - Processing file: C:\\dev\\play\\brainwave-data\\2024-09-28-21-33-28\\raw.post_human.csv\n",
      "2024-11-11 14:30:21,026 - INFO - Processing file: C:\\dev\\play\\brainwave-data\\2024-09-30-21-27-49\\raw.post_human.csv\n",
      "2024-11-11 14:30:21,088 - INFO - Processing file: C:\\dev\\play\\brainwave-data\\2024-10-01-21-36-11\\raw.post_human.csv\n",
      "2024-11-11 14:30:21,148 - INFO - Processing file: C:\\dev\\play\\brainwave-data\\2024-10-02-21-20-34\\raw.post_human.csv\n",
      "2024-11-11 14:30:21,148 - INFO - Processing file: C:\\dev\\play\\brainwave-data\\2024-10-02-21-21-15\\raw.post_human.csv\n",
      "2024-11-11 14:30:21,199 - INFO - Processing file: C:\\dev\\play\\brainwave-data\\2024-10-04-21-13-39\\raw.post_human.csv\n",
      "2024-11-11 14:30:21,250 - INFO - Processing file: C:\\dev\\play\\brainwave-data\\2024-10-05-21-09-46\\raw.post_human.csv\n",
      "2024-11-11 14:30:21,300 - INFO - Processing file: C:\\dev\\play\\brainwave-data\\2024-10-06-21-29-18\\raw.post_human.csv\n",
      "2024-11-11 14:30:21,355 - INFO - Processing file: C:\\dev\\play\\brainwave-data\\2024-10-07-21-35-17\\raw.post_human.csv\n",
      "2024-11-11 14:30:21,395 - INFO - Processing file: C:\\dev\\play\\brainwave-data\\2024-10-08-21-21-34\\raw.post_human.csv\n",
      "2024-11-11 14:30:21,445 - INFO - Processing file: C:\\dev\\play\\brainwave-data\\2024-10-09-21-22-04\\raw.post_human.csv\n",
      "2024-11-11 14:30:21,497 - INFO - Processing file: C:\\dev\\play\\brainwave-data\\2024-10-11-21-16-27\\raw.post_human.csv\n",
      "2024-11-11 14:30:21,569 - INFO - Processing file: C:\\dev\\play\\brainwave-data\\2024-10-15-22-01-52\\raw.post_human.csv\n",
      "2024-11-11 14:30:21,640 - INFO - Processing file: C:\\dev\\play\\brainwave-data\\2024-10-20-20-09-48\\raw.post_human.csv\n",
      "2024-11-11 14:30:21,650 - INFO - Processing file: C:\\dev\\play\\brainwave-data\\2024-10-21-21-30-18\\raw.post_human.csv\n",
      "2024-11-11 14:30:21,710 - INFO - Processing file: C:\\dev\\play\\brainwave-data\\2024-10-22-21-32-45\\raw.post_human.csv\n",
      "2024-11-11 14:30:21,781 - INFO - Processing file: C:\\dev\\play\\brainwave-data\\2024-10-23-21-24-02\\raw.post_human.csv\n",
      "2024-11-11 14:30:21,842 - INFO - Processing file: C:\\dev\\play\\brainwave-data\\2024-10-24-21-35-33\\raw.post_human.csv\n",
      "2024-11-11 14:30:21,892 - INFO - Processing file: C:\\dev\\play\\brainwave-data\\2024-10-29-20-42-12\\raw.post_human.csv\n",
      "2024-11-11 14:30:21,909 - INFO - Processing file: C:\\dev\\play\\brainwave-data\\2024-10-30-21-26-55\\raw.post_human.csv\n",
      "2024-11-11 14:30:21,959 - INFO - Processing file: C:\\dev\\play\\brainwave-data\\2024-11-01-21-32-22\\raw.post_human.csv\n",
      "2024-11-11 14:30:22,010 - INFO - Processing file: C:\\dev\\play\\brainwave-data\\2024-11-02-21-29-03\\raw.post_human.csv\n",
      "2024-11-11 14:30:22,061 - INFO - Processing file: C:\\dev\\play\\brainwave-data\\2024-11-03-21-20-37\\raw.post_human.csv\n",
      "2024-11-11 14:30:22,071 - INFO - Processing file: C:\\dev\\play\\brainwave-data\\2024-11-04-21-20-51\\raw.post_human.csv\n",
      "2024-11-11 14:30:22,131 - INFO - Processing file: C:\\dev\\play\\brainwave-data\\2024-11-05-21-34-15\\raw.post_human.csv\n",
      "2024-11-11 14:30:22,181 - INFO - Processing file: C:\\dev\\play\\brainwave-data\\2024-11-07-21-26-18\\raw.post_human.csv\n",
      "2024-11-11 14:30:22,238 - INFO - Processing file: C:\\dev\\play\\brainwave-data\\2024-11-08-21-16-53\\raw.post_human.csv\n",
      "2024-11-11 14:30:22,238 - INFO - Processing file: C:\\dev\\play\\brainwave-data\\2024-11-09-21-27-51\\raw.post_human.csv\n",
      "2024-11-11 14:30:22,238 - INFO - Processing file: C:\\dev\\play\\brainwave-data\\compressed_files\\raw.post_human.csv\n",
      "2024-11-11 14:30:22,238 - INFO - Processing file: C:\\dev\\play\\brainwave-data\\nonnight\\raw.post_human.csv\n",
      "2024-11-11 14:30:22,253 - INFO - Processing file: C:\\dev\\play\\brainwave-data\\nonnight\\2024-07-15-09-10-07\\raw.post_human.csv\n",
      "2024-11-11 14:30:22,253 - INFO - Processing file: C:\\dev\\play\\brainwave-data\\nonnight\\2024-07-16-07-17-07\\raw.post_human.csv\n",
      "2024-11-11 14:30:22,253 - INFO - Processing file: C:\\dev\\play\\brainwave-data\\nonnight\\2024-07-17-08-17-29\\raw.post_human.csv\n",
      "2024-11-11 14:30:22,253 - INFO - Processing file: C:\\dev\\play\\brainwave-data\\nonnight\\2024-07-18-09-10-29\\raw.post_human.csv\n",
      "2024-11-11 14:30:22,253 - INFO - Processing file: C:\\dev\\play\\brainwave-data\\nonnight\\2024-07-22-09-14-52\\raw.post_human.csv\n",
      "2024-11-11 14:30:22,253 - INFO - Processing file: C:\\dev\\play\\brainwave-data\\nonnight\\2024-07-27-09-40-07\\raw.post_human.csv\n",
      "2024-11-11 14:30:22,253 - INFO - Processing file: C:\\dev\\play\\brainwave-data\\nonnight\\2024-07-28-22-29-49\\raw.post_human.csv\n",
      "2024-11-11 14:30:22,253 - INFO - Processing file: C:\\dev\\play\\brainwave-data\\nonnight\\2024-07-29-08-39-51\\raw.post_human.csv\n",
      "2024-11-11 14:30:22,253 - INFO - Processing file: C:\\dev\\play\\brainwave-data\\nonnight\\2024-07-30-20-52-24\\raw.post_human.csv\n",
      "2024-11-11 14:30:22,253 - INFO - Processing file: C:\\dev\\play\\brainwave-data\\nonnight\\2024-08-01-17-03-14\\raw.post_human.csv\n",
      "2024-11-11 14:30:22,253 - INFO - Processing file: C:\\dev\\play\\brainwave-data\\nonnight\\2024-08-02-10-27-18\\raw.post_human.csv\n",
      "2024-11-11 14:30:22,253 - INFO - Processing file: C:\\dev\\play\\brainwave-data\\nonnight\\2024-08-04-08-15-28\\raw.post_human.csv\n"
     ]
    }
   ],
   "execution_count": 4
  },
  {
   "metadata": {
    "ExecuteTime": {
     "end_time": "2024-11-11T14:30:37.657311Z",
     "start_time": "2024-11-11T14:30:37.562221Z"
    }
   },
   "cell_type": "code",
   "source": "df.shape",
   "id": "33abeff79174eee5",
   "outputs": [
    {
     "data": {
      "text/plain": [
       "(67926, 1625)"
      ]
     },
     "execution_count": 5,
     "metadata": {},
     "output_type": "execute_result"
    }
   ],
   "execution_count": 5
  },
  {
   "metadata": {
    "ExecuteTime": {
     "end_time": "2024-11-11T14:31:59.638689Z",
     "start_time": "2024-11-11T14:31:59.529873Z"
    }
   },
   "cell_type": "code",
   "source": "df['dayAndNightOf'].unique().shape",
   "id": "b34f55c8af358475",
   "outputs": [
    {
     "data": {
      "text/plain": [
       "(63,)"
      ]
     },
     "execution_count": 13,
     "metadata": {},
     "output_type": "execute_result"
    }
   ],
   "execution_count": 13
  },
  {
   "metadata": {
    "ExecuteTime": {
     "end_time": "2024-11-11T14:31:23.437289Z",
     "start_time": "2024-11-11T14:31:23.299943Z"
    }
   },
   "cell_type": "code",
   "source": "has_tired_or_wired = df[df['TiredVsWired'].notnull()]",
   "id": "44aa1c5131af2c3e",
   "outputs": [],
   "execution_count": 8
  },
  {
   "metadata": {
    "ExecuteTime": {
     "end_time": "2024-11-11T14:31:28.641264Z",
     "start_time": "2024-11-11T14:31:28.529993Z"
    }
   },
   "cell_type": "code",
   "source": "has_tired_or_wired.shape",
   "id": "48a259fbc35c70fe",
   "outputs": [
    {
     "data": {
      "text/plain": [
       "(7289, 1625)"
      ]
     },
     "execution_count": 9,
     "metadata": {},
     "output_type": "execute_result"
    }
   ],
   "execution_count": 9
  },
  {
   "metadata": {
    "ExecuteTime": {
     "end_time": "2024-11-11T14:31:55.689719Z",
     "start_time": "2024-11-11T14:31:55.599390Z"
    }
   },
   "cell_type": "code",
   "source": "has_tired_or_wired['dayAndNightOf'].unique().shape",
   "id": "362401c02b1b6c75",
   "outputs": [
    {
     "data": {
      "text/plain": [
       "(61,)"
      ]
     },
     "execution_count": 12,
     "metadata": {},
     "output_type": "execute_result"
    }
   ],
   "execution_count": 12
  },
  {
   "metadata": {
    "ExecuteTime": {
     "end_time": "2024-11-11T14:33:16.026975Z",
     "start_time": "2024-11-11T14:33:15.911863Z"
    }
   },
   "cell_type": "code",
   "source": [
    "# Group by 'dayAndNightOf' and calculate the mean of 'TiredVsWired'\n",
    "grouped_means = has_tired_or_wired.groupby('dayAndNightOf')['TiredVsWired'].mean().reset_index()"
   ],
   "id": "9e3d1e3512643128",
   "outputs": [],
   "execution_count": 14
  },
  {
   "metadata": {
    "ExecuteTime": {
     "end_time": "2024-11-11T14:33:17.645437Z",
     "start_time": "2024-11-11T14:33:17.537075Z"
    }
   },
   "cell_type": "code",
   "source": "grouped_means",
   "id": "e183a56fc901cbda",
   "outputs": [
    {
     "data": {
      "text/plain": [
       "   dayAndNightOf  TiredVsWired\n",
       "0     2024-07-08      0.897758\n",
       "1     2024-07-11      0.802782\n",
       "2     2024-07-12      0.869185\n",
       "3     2024-07-13      0.883433\n",
       "4     2024-07-14      0.907553\n",
       "..           ...           ...\n",
       "56    2024-11-02      0.514820\n",
       "57    2024-11-03      0.843293\n",
       "58    2024-11-04      0.478617\n",
       "59    2024-11-05      0.917533\n",
       "60    2024-11-07      0.565063\n",
       "\n",
       "[61 rows x 2 columns]"
      ],
      "text/html": [
       "<div>\n",
       "<style scoped>\n",
       "    .dataframe tbody tr th:only-of-type {\n",
       "        vertical-align: middle;\n",
       "    }\n",
       "\n",
       "    .dataframe tbody tr th {\n",
       "        vertical-align: top;\n",
       "    }\n",
       "\n",
       "    .dataframe thead th {\n",
       "        text-align: right;\n",
       "    }\n",
       "</style>\n",
       "<table border=\"1\" class=\"dataframe\">\n",
       "  <thead>\n",
       "    <tr style=\"text-align: right;\">\n",
       "      <th></th>\n",
       "      <th>dayAndNightOf</th>\n",
       "      <th>TiredVsWired</th>\n",
       "    </tr>\n",
       "  </thead>\n",
       "  <tbody>\n",
       "    <tr>\n",
       "      <th>0</th>\n",
       "      <td>2024-07-08</td>\n",
       "      <td>0.897758</td>\n",
       "    </tr>\n",
       "    <tr>\n",
       "      <th>1</th>\n",
       "      <td>2024-07-11</td>\n",
       "      <td>0.802782</td>\n",
       "    </tr>\n",
       "    <tr>\n",
       "      <th>2</th>\n",
       "      <td>2024-07-12</td>\n",
       "      <td>0.869185</td>\n",
       "    </tr>\n",
       "    <tr>\n",
       "      <th>3</th>\n",
       "      <td>2024-07-13</td>\n",
       "      <td>0.883433</td>\n",
       "    </tr>\n",
       "    <tr>\n",
       "      <th>4</th>\n",
       "      <td>2024-07-14</td>\n",
       "      <td>0.907553</td>\n",
       "    </tr>\n",
       "    <tr>\n",
       "      <th>...</th>\n",
       "      <td>...</td>\n",
       "      <td>...</td>\n",
       "    </tr>\n",
       "    <tr>\n",
       "      <th>56</th>\n",
       "      <td>2024-11-02</td>\n",
       "      <td>0.514820</td>\n",
       "    </tr>\n",
       "    <tr>\n",
       "      <th>57</th>\n",
       "      <td>2024-11-03</td>\n",
       "      <td>0.843293</td>\n",
       "    </tr>\n",
       "    <tr>\n",
       "      <th>58</th>\n",
       "      <td>2024-11-04</td>\n",
       "      <td>0.478617</td>\n",
       "    </tr>\n",
       "    <tr>\n",
       "      <th>59</th>\n",
       "      <td>2024-11-05</td>\n",
       "      <td>0.917533</td>\n",
       "    </tr>\n",
       "    <tr>\n",
       "      <th>60</th>\n",
       "      <td>2024-11-07</td>\n",
       "      <td>0.565063</td>\n",
       "    </tr>\n",
       "  </tbody>\n",
       "</table>\n",
       "<p>61 rows × 2 columns</p>\n",
       "</div>"
      ]
     },
     "execution_count": 15,
     "metadata": {},
     "output_type": "execute_result"
    }
   ],
   "execution_count": 15
  },
  {
   "metadata": {},
   "cell_type": "code",
   "outputs": [],
   "execution_count": null,
   "source": [
    "# date - whether I seem tired/wired from my notes, whether it agress with prediction\n",
    "\n",
    "# November\n",
    "\n",
    "# 1 - tired, yes\n",
    "# 2 - wired, yes\n",
    "# 3 - mostly tired but a bit wired, yes\n",
    "# 4 - wired, yes\n",
    "# 5 - tired, yes\n",
    "# 7 - wired, yes\n"
   ],
   "id": "3889e17c1bfe8562"
  }
 ],
 "metadata": {
  "kernelspec": {
   "display_name": "Python 3",
   "language": "python",
   "name": "python3"
  },
  "language_info": {
   "codemirror_mode": {
    "name": "ipython",
    "version": 2
   },
   "file_extension": ".py",
   "mimetype": "text/x-python",
   "name": "python",
   "nbconvert_exporter": "python",
   "pygments_lexer": "ipython2",
   "version": "2.7.6"
  }
 },
 "nbformat": 4,
 "nbformat_minor": 5
}
