{
 "cells": [
  {
   "metadata": {},
   "cell_type": "markdown",
   "source": "# Running the final wake model",
   "id": "f0be76e3d049bf47"
  },
  {
   "metadata": {
    "ExecuteTime": {
     "end_time": "2024-12-19T17:56:03.974527Z",
     "start_time": "2024-12-19T17:56:03.964349Z"
    }
   },
   "cell_type": "code",
   "source": "input_dir = \"C:\\\\dev\\\\play\\\\brainwave-data\"\n",
   "id": "c6d61c89e826f14",
   "outputs": [],
   "execution_count": 2
  },
  {
   "metadata": {
    "ExecuteTime": {
     "end_time": "2024-12-19T17:56:04.335056Z",
     "start_time": "2024-12-19T17:56:04.325962Z"
    }
   },
   "cell_type": "code",
   "source": [
    "from jupyter_client.manager import KernelManager\n",
    "km = KernelManager()"
   ],
   "id": "996c2771ed7cff24",
   "outputs": [],
   "execution_count": 3
  },
  {
   "metadata": {
    "ExecuteTime": {
     "end_time": "2024-12-19T17:59:37.866112Z",
     "start_time": "2024-12-19T17:59:37.846051Z"
    }
   },
   "cell_type": "code",
   "source": [
    "from datetime import datetime\n",
    "import papermill as pm\n",
    "import pandas as pd\n",
    "from tqdm.auto import tqdm\n",
    "import os\n",
    "import scrapbook as sb\n",
    "from memory import garbage_collect\n",
    "\n",
    "def process_dir_for_final_wake_model(input_dir, dir_name, force=False):\n",
    "    predictions_df = None\n",
    "    predictions_post_human_df = None\n",
    "    skip = False\n",
    "    output_file4 = os.path.join(input_dir, dir_name, \"raw.raw.final_wake_model.json.json\")\n",
    "    output_file3 = os.path.join(input_dir, dir_name, \"raw.final_wake_model_post_human.json\")\n",
    "    if os.path.exists(output_file4):\n",
    "        os.rename(output_file4, output_file3)\n",
    "\n",
    "    output_file1 = os.path.join(input_dir, dir_name, \"raw.final_wake_model.csv\")\n",
    "    output_file2 = os.path.join(input_dir, dir_name, \"raw.final_wake_model_post_human.csv\")\n",
    "    post_human_file = os.path.join(input_dir, dir_name, \"raw.post_human.csv\")\n",
    "\n",
    "\n",
    "\n",
    "    if not force and os.path.exists(output_file1) and (os.path.exists(output_file2) or not os.path.exists(post_human_file)) and (os.path.exists(output_file3) or not os.path.exists(post_human_file)):\n",
    "        skip = True\n",
    "\n",
    "    if not skip:\n",
    "        # print(f\"Executing at {datetime.now()}\")\n",
    "        tqdm.write(f\"Processing notebook in: {dir_name}\")\n",
    "\n",
    "        output_filename = f'papermill_out/FinalWakePipeline{dir_name}.ipynb'\n",
    "        pm.execute_notebook(\n",
    "            'FinalWakePipelineSingleFile.ipynb',\n",
    "            output_filename,\n",
    "            km,\n",
    "            parameters=dict(input_dir=input_dir, dir_name=dir_name)\n",
    "        )\n",
    "\n",
    "        garbage_collect(print)\n",
    "\n",
    "# Testing\n",
    "process_dir_for_final_wake_model(input_dir, \"2024-07-11-22-46-18\", False)\n",
    "#predictions_df, predictions_post_human_df = process_dir_for_final_wake_model(input_dir, \"not_exist\", False)"
   ],
   "id": "75e1ed4dc1fbeb50",
   "outputs": [],
   "execution_count": 11
  },
  {
   "metadata": {
    "ExecuteTime": {
     "end_time": "2024-12-19T17:59:53.237127Z",
     "start_time": "2024-12-19T17:59:47.322645Z"
    }
   },
   "cell_type": "code",
   "source": [
    "from tqdm.auto import tqdm\n",
    "import os\n",
    "\n",
    "import papermill as pm\n",
    "\n",
    "# root, dirs, files = os.walk(input_dir)\n",
    "dirs = next(os.walk(input_dir))[1]\n",
    "for idx, dir_name in enumerate(tqdm(dirs)):\n",
    "# for idx, dir_name in enumerate(tqdm(['2024-07-08-22-51-16'])):\n",
    "    process_dir_for_final_wake_model(input_dir, dir_name)\n"
   ],
   "id": "e39e2b631736e7a2",
   "outputs": [
    {
     "data": {
      "text/plain": [
       "  0%|          | 0/111 [00:00<?, ?it/s]"
      ],
      "application/vnd.jupyter.widget-view+json": {
       "version_major": 2,
       "version_minor": 0,
       "model_id": "2a02565b1e8f4a4aaa9a8bfc8d5ccebe"
      }
     },
     "metadata": {},
     "output_type": "display_data"
    },
    {
     "name": "stdout",
     "output_type": "stream",
     "text": [
      "Processing notebook in: 08-07-2024--22-51-16\n"
     ]
    },
    {
     "data": {
      "text/plain": [
       "Executing:   0%|          | 0/25 [00:00<?, ?cell/s]"
      ],
      "application/vnd.jupyter.widget-view+json": {
       "version_major": 2,
       "version_minor": 0,
       "model_id": "3fe0ec2db16c4df3bd071ab9a3323fb3"
      }
     },
     "metadata": {},
     "output_type": "display_data"
    },
    {
     "name": "stdout",
     "output_type": "stream",
     "text": [
      "Memory Usage: 149.12 MB GC to 149.12 MB\n",
      "Processing notebook in: 09-07-2024--22-52-25\n"
     ]
    },
    {
     "data": {
      "text/plain": [
       "Executing:   0%|          | 0/25 [00:00<?, ?cell/s]"
      ],
      "application/vnd.jupyter.widget-view+json": {
       "version_major": 2,
       "version_minor": 0,
       "model_id": "e1fcb077597f4a4281da6755666cc13b"
      }
     },
     "metadata": {},
     "output_type": "display_data"
    },
    {
     "name": "stdout",
     "output_type": "stream",
     "text": [
      "Memory Usage: 149.43 MB GC to 149.43 MB\n",
      "Processing notebook in: 2024-07-15-09-10-07\n"
     ]
    },
    {
     "data": {
      "text/plain": [
       "Executing:   0%|          | 0/25 [00:00<?, ?cell/s]"
      ],
      "application/vnd.jupyter.widget-view+json": {
       "version_major": 2,
       "version_minor": 0,
       "model_id": "af3ac5cd67f34d9fb0eb9bb6ab2f21b4"
      }
     },
     "metadata": {},
     "output_type": "display_data"
    },
    {
     "name": "stdout",
     "output_type": "stream",
     "text": [
      "Memory Usage: 149.85 MB GC to 149.85 MB\n",
      "Processing notebook in: 2024-07-23-22-40-25\n"
     ]
    },
    {
     "data": {
      "text/plain": [
       "Executing:   0%|          | 0/25 [00:00<?, ?cell/s]"
      ],
      "application/vnd.jupyter.widget-view+json": {
       "version_major": 2,
       "version_minor": 0,
       "model_id": "7df2a30ea1864d34b89d05f3d8244860"
      }
     },
     "metadata": {},
     "output_type": "display_data"
    },
    {
     "name": "stdout",
     "output_type": "stream",
     "text": [
      "Memory Usage: 150.20 MB GC to 150.20 MB\n",
      "Processing notebook in: 2024-07-24-18-57-03\n"
     ]
    },
    {
     "data": {
      "text/plain": [
       "Executing:   0%|          | 0/25 [00:00<?, ?cell/s]"
      ],
      "application/vnd.jupyter.widget-view+json": {
       "version_major": 2,
       "version_minor": 0,
       "model_id": "044c3dda6c0f4d54b93a884ee9fc0872"
      }
     },
     "metadata": {},
     "output_type": "display_data"
    },
    {
     "name": "stdout",
     "output_type": "stream",
     "text": [
      "Memory Usage: 150.51 MB GC to 150.51 MB\n",
      "Processing notebook in: 2024-07-28-22-29-49\n"
     ]
    },
    {
     "data": {
      "text/plain": [
       "Executing:   0%|          | 0/25 [00:00<?, ?cell/s]"
      ],
      "application/vnd.jupyter.widget-view+json": {
       "version_major": 2,
       "version_minor": 0,
       "model_id": "58fd7db8836e4ecdb784bfa289523fd1"
      }
     },
     "metadata": {},
     "output_type": "display_data"
    },
    {
     "name": "stdout",
     "output_type": "stream",
     "text": [
      "Memory Usage: 150.67 MB GC to 150.67 MB\n",
      "Processing notebook in: 2024-09-10-21-22-21\n"
     ]
    },
    {
     "data": {
      "text/plain": [
       "Executing:   0%|          | 0/25 [00:00<?, ?cell/s]"
      ],
      "application/vnd.jupyter.widget-view+json": {
       "version_major": 2,
       "version_minor": 0,
       "model_id": "9e4fbfb70ee3432caaa840c8dfd6f084"
      }
     },
     "metadata": {},
     "output_type": "display_data"
    },
    {
     "name": "stdout",
     "output_type": "stream",
     "text": [
      "Memory Usage: 150.98 MB GC to 150.98 MB\n",
      "Processing notebook in: 2024-09-18-21-28-11\n"
     ]
    },
    {
     "data": {
      "text/plain": [
       "Executing:   0%|          | 0/25 [00:00<?, ?cell/s]"
      ],
      "application/vnd.jupyter.widget-view+json": {
       "version_major": 2,
       "version_minor": 0,
       "model_id": "7b52c48739374dd8b703956a949ab86b"
      }
     },
     "metadata": {},
     "output_type": "display_data"
    },
    {
     "name": "stdout",
     "output_type": "stream",
     "text": [
      "Memory Usage: 151.13 MB GC to 151.13 MB\n",
      "Processing notebook in: 2024-09-19-21-29-42\n"
     ]
    },
    {
     "data": {
      "text/plain": [
       "Executing:   0%|          | 0/25 [00:00<?, ?cell/s]"
      ],
      "application/vnd.jupyter.widget-view+json": {
       "version_major": 2,
       "version_minor": 0,
       "model_id": "5552fe2237fb4a0e84fb9fc89539f328"
      }
     },
     "metadata": {},
     "output_type": "display_data"
    },
    {
     "name": "stdout",
     "output_type": "stream",
     "text": [
      "Memory Usage: 151.36 MB GC to 151.36 MB\n",
      "Processing notebook in: 2024-10-02-21-20-34\n"
     ]
    },
    {
     "data": {
      "text/plain": [
       "Executing:   0%|          | 0/25 [00:00<?, ?cell/s]"
      ],
      "application/vnd.jupyter.widget-view+json": {
       "version_major": 2,
       "version_minor": 0,
       "model_id": "39e00a7886bc473f9997149a96ecbe3e"
      }
     },
     "metadata": {},
     "output_type": "display_data"
    },
    {
     "name": "stdout",
     "output_type": "stream",
     "text": [
      "Memory Usage: 151.79 MB GC to 151.79 MB\n",
      "Processing notebook in: compressed_files\n"
     ]
    },
    {
     "data": {
      "text/plain": [
       "Executing:   0%|          | 0/25 [00:00<?, ?cell/s]"
      ],
      "application/vnd.jupyter.widget-view+json": {
       "version_major": 2,
       "version_minor": 0,
       "model_id": "78b629b74f2d4b62ac873003b409a8a6"
      }
     },
     "metadata": {},
     "output_type": "display_data"
    },
    {
     "name": "stdout",
     "output_type": "stream",
     "text": [
      "Memory Usage: 151.96 MB GC to 151.96 MB\n",
      "Processing notebook in: nonnight\n"
     ]
    },
    {
     "data": {
      "text/plain": [
       "Executing:   0%|          | 0/25 [00:00<?, ?cell/s]"
      ],
      "application/vnd.jupyter.widget-view+json": {
       "version_major": 2,
       "version_minor": 0,
       "model_id": "0a489f0b8e4b43ddbae0397bbf25ac6c"
      }
     },
     "metadata": {},
     "output_type": "display_data"
    },
    {
     "name": "stdout",
     "output_type": "stream",
     "text": [
      "Memory Usage: 152.12 MB GC to 152.12 MB\n"
     ]
    }
   ],
   "execution_count": 12
  },
  {
   "metadata": {},
   "cell_type": "code",
   "outputs": [],
   "execution_count": null,
   "source": "",
   "id": "8c8b3ebd83788176"
  }
 ],
 "metadata": {
  "kernelspec": {
   "display_name": "Python 3",
   "language": "python",
   "name": "python3"
  },
  "language_info": {
   "codemirror_mode": {
    "name": "ipython",
    "version": 2
   },
   "file_extension": ".py",
   "mimetype": "text/x-python",
   "name": "python",
   "nbconvert_exporter": "python",
   "pygments_lexer": "ipython2",
   "version": "2.7.6"
  }
 },
 "nbformat": 4,
 "nbformat_minor": 5
}
