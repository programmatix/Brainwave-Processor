{
 "cells": [
  {
   "metadata": {},
   "cell_type": "markdown",
   "source": "# Running the final wake model",
   "id": "f0be76e3d049bf47"
  },
  {
   "metadata": {},
   "cell_type": "code",
   "source": "from datetime import datetime",
   "id": "cfcd52a58ffbbb92",
   "outputs": [],
   "execution_count": null
  },
  {
   "metadata": {
    "tags": [
     "parameters"
    ]
   },
   "cell_type": "code",
   "source": [
    "# papermill parameters\n",
    "# dir_name = \"2024-12-16-21-26-57\"\n",
    "dir_name = \"2024-12-11-21-31-37\"\n",
    "input_dir = \"C:\\\\dev\\\\play\\\\brainwave-data\"\n",
    "force = False\n",
    "print(f\"Executing at {datetime.now()}\")"
   ],
   "id": "2260c448d82bf640",
   "outputs": [],
   "execution_count": null
  },
  {
   "metadata": {},
   "cell_type": "code",
   "source": [
    "print(f\"Executing at {datetime.now()}\")\n",
    "\n",
    "from models.util.papermill_util import exit_early\n",
    "import os\n",
    "\n",
    "physical_features_input_file = os.path.join(input_dir, dir_name, \"raw.physical_features.csv\")\n",
    "post_yasa_file = os.path.join(input_dir, dir_name, \"raw.post_yasa.csv\")\n",
    "post_human_file = os.path.join(input_dir, dir_name, \"raw.post_human.csv\")\n",
    "\n",
    "print(f\"Executing at {datetime.now()}\")\n",
    "\n",
    "\n",
    "if not (os.path.exists(physical_features_input_file)):\n",
    "    print(f\"Executing at {datetime.now()}\")\n",
    "    exit_early(\"Missing file\")\n",
    "if not os.path.exists(post_yasa_file):\n",
    "    print(f\"Executing at {datetime.now()}\")\n",
    "    exit_early(\"Missing file\")\n"
   ],
   "id": "80ea689d455334fe",
   "outputs": [],
   "execution_count": null
  },
  {
   "metadata": {},
   "cell_type": "code",
   "source": [
    "# import pandas as pd\n",
    "# import scrapbook as sb\n",
    "#\n",
    "output_file1 = os.path.join(input_dir, dir_name, \"raw.final_wake_model.csv\")\n",
    "output_file2 = os.path.join(input_dir, dir_name, \"raw.final_wake_model_post_human.csv\")\n",
    "#\n",
    "# if os.path.exists(output_file1) and (os.path.exists(output_file2) or not os.path.exists(post_human_file)):\n",
    "#     predictions_df = pd.read_csv(output_file1)\n",
    "#     sb.glue(\"predictions_df\", predictions_df)\n",
    "#\n",
    "#     if os.path.exists(output_file2):\n",
    "#         predictions_post_human_df = pd.read_csv(output_file1)\n",
    "#         sb.glue(\"predictions_post_human_df\", predictions_post_human_df)\n",
    "#\n",
    "#     exit_early(\"Output file exists\")"
   ],
   "id": "7d0fdc8bbccc2ca",
   "outputs": [],
   "execution_count": null
  },
  {
   "metadata": {},
   "cell_type": "code",
   "source": [
    "%%prun -T \"prof.cell7.txt\"\n",
    "\n",
    "print(f\"Executing at {datetime.now()}\")\n",
    "# import run_post_yasa_pipeline\n",
    "# import run_feature_pipeline\n",
    "from importlib import reload\n",
    "# import run_physical_features_pipeline\n",
    "print(f\"Executing at {datetime.now()}\")\n",
    "\n",
    "# reload(run_feature_pipeline)\n",
    "# reload(run_physical_features_pipeline)\n",
    "import pandas as pd\n",
    "import os\n",
    "# import sys\n",
    "print(f\"Executing at {datetime.now()}\")\n",
    "\n",
    "physical_features_input_file = os.path.join(input_dir, dir_name, \"raw.physical_features.csv\")\n",
    "post_yasa_file = os.path.join(input_dir, dir_name, \"raw.post_yasa.csv\")\n",
    "print(f\"Executing at {datetime.now()}\")\n",
    "\n",
    "\n",
    "if not (os.path.exists(physical_features_input_file)):\n",
    "    print(f\"Executing at {datetime.now()}\")\n",
    "    exit_early(\"Missing file\")\n",
    "if not os.path.exists(post_yasa_file):\n",
    "    print(f\"Executing at {datetime.now()}\")\n",
    "    exit_early(\"Missing file\")\n",
    "\n",
    "from run_physical_features_pipeline import cached_physical_features_pipeline\n",
    "\n",
    "#post_human_df = pd.read_csv(post_human_file)\n",
    "input_file = os.path.join(input_dir, dir_name, \"raw.fif\")\n",
    "post_yasa_df  = pd.read_csv(post_yasa_file)\n",
    "physical_features_df, _ = cached_physical_features_pipeline(print, input_file, post_yasa_df, False, False, True)\n",
    "\n",
    "#post_human_df.reset_index(drop=True, inplace=True)\n",
    "physical_features_df.reset_index(drop=True, inplace=True)\n",
    "df = pd.DataFrame.merge(post_yasa_df, physical_features_df, left_index=True, right_index=True)\n",
    "# df = physical_features_df\n",
    "#     #predictions_df = run_all(df)\n",
    "#\n",
    "#     return df, output_buffer.getvalue(), True\n",
    "# else:\n",
    "#     return None, output_buffer.getvalue(), \"Missing file\"\n",
    "#\n",
    "# # Testing\n",
    "# predictions_df, stdout, success_or_msg = process_file_for_final_wake_model(input_dir, \"2024-11-29-21-18-33\", False)\n",
    "# stdout, success_or_msg"
   ],
   "id": "75e1ed4dc1fbeb50",
   "outputs": [],
   "execution_count": null
  },
  {
   "metadata": {},
   "cell_type": "code",
   "source": [
    "print(f\"Executing at {datetime.now()}\")\n",
    "\n",
    "import models.util.features\n",
    "reload(models.util.features)\n",
    "\n",
    "from importlib import reload\n",
    "import models.final_wake.final_wake_model\n",
    "reload(models.final_wake.final_wake_model)\n",
    "from models.final_wake.final_wake_model import create_and_add_all\n",
    "\n",
    "models_and_data = create_and_add_all(df, True)\n"
   ],
   "id": "4d10fbbb028dabb9",
   "outputs": [],
   "execution_count": null
  },
  {
   "metadata": {},
   "cell_type": "code",
   "source": [
    "print(f\"Executing at {datetime.now()}\")\n",
    "\n",
    "from models.final_wake.final_wake_model import load_model\n",
    "import xgboost as xgb\n",
    "\n",
    "# all_models_filenames = [\n",
    "#     # \"models/PredictFinalWakeWithinNext10MinsAll_xgboost_model.cbm\",\n",
    "#     # \"models/PredictFinalWakeWithinNext10MinsAll_xgboost_model.cbm\",\n",
    "#     # \"models/PredictFinalWakeWithinNext10Mins_xgboost_model.cbm\",\n",
    "#     \"models/PredictFinalWakeWithinNext10MinsEEGOnly_xgboost_model.cbm\"\n",
    "# ]\n",
    "predictions_df = pd.DataFrame(index=df.index)\n",
    "\n",
    "for md in models_and_data:\n",
    "    model_filename = f\"models/{md.name}_xgboost_model.cbm\"\n",
    "    model = load_model(model_filename)\n",
    "    print(f\"Loaded model {model_filename} which expects features {model.feature_names}\")\n",
    "    dmatrix = xgb.DMatrix(md.X)\n",
    "    predictions = model.predict(dmatrix)\n",
    "    predictions_df[md.name + \"Prediction\"] = predictions\n"
   ],
   "id": "e39e2b631736e7a2",
   "outputs": [],
   "execution_count": null
  },
  {
   "metadata": {},
   "cell_type": "code",
   "source": [
    "print(f\"Executing at {datetime.now()}\")\n",
    "\n",
    "predictions_df.to_csv(os.path.join(input_dir, dir_name, output_file1))\n",
    "import scrapbook as sb\n",
    "sb.glue(\"predictions_df\", predictions_df)"
   ],
   "id": "ea94516461005db6",
   "outputs": [],
   "execution_count": null
  },
  {
   "metadata": {},
   "cell_type": "code",
   "source": [
    "print(f\"Executing at {datetime.now()}\")\n",
    "\n",
    "import matplotlib.pyplot as plt\n",
    "\n",
    "# Calculate the rolling average of the minsUntilWake column with a window size of 10\n",
    "rolling_average = predictions_df['minsUntilWakePrediction'].rolling(window=10).mean()\n",
    "\n",
    "# Plot the rolling average\n",
    "plt.figure(figsize=(10, 6))\n",
    "plt.plot(predictions_df['minsUntilWakePrediction'], label='minsUntilWakePrediction', alpha=0.5)\n",
    "plt.plot(rolling_average, label='Rolling Average (window=10)', color='red')\n",
    "plt.xlabel('Index')\n",
    "plt.ylabel('minsUntilWakePrediction')\n",
    "plt.title('Plot of minsUntilWake with Rolling Average')\n",
    "plt.legend()\n",
    "plt.show()"
   ],
   "id": "671dede959b2a16d",
   "outputs": [],
   "execution_count": null
  },
  {
   "metadata": {},
   "cell_type": "markdown",
   "source": "# Post-human tests (optional)",
   "id": "5ec877ee758d20fd"
  },
  {
   "metadata": {},
   "cell_type": "code",
   "source": [
    "import sys\n",
    "\n",
    "\n",
    "if not os.path.exists(post_human_file):\n",
    "    exit_early(\"Missing file\")"
   ],
   "id": "994ec722ad3f4ffa",
   "outputs": [],
   "execution_count": null
  },
  {
   "metadata": {},
   "cell_type": "code",
   "source": [
    "print(f\"Executing at {datetime.now()}\")\n",
    "\n",
    "post_human_df = pd.read_csv(post_human_file)\n",
    "merged = post_human_df.merge(predictions_df, left_index=True, right_index=True)\n",
    "sb.glue(\"merged\", merged)"
   ],
   "id": "2bf588bdf12dcf88",
   "outputs": [],
   "execution_count": null
  },
  {
   "metadata": {},
   "cell_type": "code",
   "source": [
    "print(f\"Executing at {datetime.now()}\")\n",
    "\n",
    "merged['minsUntilWakePredictionError'] = merged['minsUntilWakePrediction'] - merged['minsUntilWake']"
   ],
   "id": "d64c27effe8043b7",
   "outputs": [],
   "execution_count": null
  },
  {
   "metadata": {},
   "cell_type": "code",
   "source": [
    "print(f\"Executing at {datetime.now()}\")\n",
    "\n",
    "import matplotlib.pyplot as plt\n",
    "\n",
    "# Calculate the rolling average of the minsUntilWake column with a window size of 10\n",
    "rolling_average = merged['minsUntilWakePrediction'].rolling(window=10).mean()\n",
    "\n",
    "# Plot the rolling average\n",
    "plt.figure(figsize=(10, 6))\n",
    "plt.plot(merged['minsUntilWake'], label='minsUntilWake real', alpha=0.5)\n",
    "#plt.plot(merged['minsUntilWakePredictionError'], label='minsUntilWakePredictionError', alpha=0.5, color='green')\n",
    "plt.plot(rolling_average, label='Rolling Average (window=10)', color='red')\n",
    "plt.xlabel('Index')\n",
    "plt.ylabel('minsUntilWake')\n",
    "plt.title('Plot of minsUntilWake with Rolling Average')\n",
    "plt.legend()\n",
    "plt.show()"
   ],
   "id": "e13989212d19e19c",
   "outputs": [],
   "execution_count": null
  },
  {
   "metadata": {},
   "cell_type": "code",
   "source": [
    "print(f\"Executing at {datetime.now()}\")\n",
    "\n",
    "import matplotlib.pyplot as plt\n",
    "plt.figure(figsize=(10, 6))\n",
    "plt.plot(merged['minsUntilWakePredictionError'], alpha=0.5, color='green')\n",
    "plt.xlabel('Index')\n",
    "plt.ylabel('minsUntilWakePredictionError')\n",
    "plt.show()"
   ],
   "id": "88f19163c69925b8",
   "outputs": [],
   "execution_count": null
  },
  {
   "metadata": {},
   "cell_type": "code",
   "source": [
    "print(f\"Executing at {datetime.now()}\")\n",
    "\n",
    "predictions_post_human_df = predictions_df.copy()\n",
    "predictions_post_human_df['minsUntilWakeActual'] = merged['minsUntilWake']\n",
    "predictions_post_human_df['minsUntilWakePredictionError'] = merged['minsUntilWakePredictionError']\n",
    "predictions_post_human_df"
   ],
   "id": "3e35b2f97bf296f9",
   "outputs": [],
   "execution_count": null
  },
  {
   "metadata": {},
   "cell_type": "code",
   "source": [
    "print(f\"Executing at {datetime.now()}\")\n",
    "\n",
    "predictions_post_human_df.to_csv(output_file2)\n",
    "# import scrapbook as sb\n",
    "# sb.glue(\"predictions_post_human_df\", predictions_post_human_df)"
   ],
   "id": "7ebb4d9c679e29ba",
   "outputs": [],
   "execution_count": null
  },
  {
   "metadata": {},
   "cell_type": "markdown",
   "source": "#",
   "id": "2ef70a55acaa12db"
  },
  {
   "metadata": {},
   "cell_type": "markdown",
   "source": "# JSON output",
   "id": "451df8442d24c1a4"
  },
  {
   "metadata": {},
   "cell_type": "code",
   "source": "predictions_post_human_df",
   "id": "f1ee5aaa3c090b3",
   "outputs": [],
   "execution_count": null
  },
  {
   "metadata": {},
   "cell_type": "code",
   "source": [
    "import json\n",
    "# minsUntilWakeMeanPredictionError =\n",
    "# minsUntilWakePredictionInitial=('minsUntilWakePrediction', lambda x: pd.to_timedelta(x.head(10).mean(), unit='m')),\n",
    "# TempCount=('Temp', 'count'),\n",
    "# HRCount=('HR', 'count'),\n",
    "\n",
    "minsUntilWakePredictionInitial = predictions_post_human_df['minsUntilWakePrediction'].head(10).mean()\n",
    "\n",
    "j = {\n",
    "    'minsUntilWakeAllEpochsPredictionMeanError': float(predictions_post_human_df['minsUntilWakePredictionError'].abs().mean()),\n",
    "    'minsUntilWakeInitialEpochsPredictionError': float(minsUntilWakePredictionInitial - predictions_post_human_df['minsUntilWakeActual'].head(10).mean()),\n",
    "    'minsUntilWakeInitialEpochsPrediction': float(minsUntilWakePredictionInitial)\n",
    "}\n",
    "\n",
    "j"
   ],
   "id": "36162c7988798358",
   "outputs": [],
   "execution_count": null
  },
  {
   "metadata": {},
   "cell_type": "code",
   "source": [
    "filename = os.path.join(input_dir, dir_name, 'raw.final_wake_model_post_human.json')\n",
    "print(f\"Writing {filename}\")\n",
    "with open(filename, 'w') as file:\n",
    "    json.dump(j, file, indent=4)  # `indent=4` makes the JSON file more readable"
   ],
   "id": "128a0962d72ecfaf",
   "outputs": [],
   "execution_count": null
  },
  {
   "metadata": {},
   "cell_type": "code",
   "source": "",
   "id": "8306fa3cc4cf0b3f",
   "outputs": [],
   "execution_count": null
  }
 ],
 "metadata": {
  "kernelspec": {
   "display_name": "Python 3",
   "language": "python",
   "name": "python3"
  },
  "language_info": {
   "codemirror_mode": {
    "name": "ipython",
    "version": 2
   },
   "file_extension": ".py",
   "mimetype": "text/x-python",
   "name": "python",
   "nbconvert_exporter": "python",
   "pygments_lexer": "ipython2",
   "version": "2.7.6"
  }
 },
 "nbformat": 4,
 "nbformat_minor": 5
}
