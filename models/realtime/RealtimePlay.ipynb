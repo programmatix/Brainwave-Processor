{
 "cells": [
  {
   "metadata": {},
   "cell_type": "markdown",
   "source": "# Get realtime models working",
   "id": "1cdf38c9e2243ec2"
  },
  {
   "cell_type": "code",
   "id": "initial_id",
   "metadata": {
    "collapsed": true,
    "ExecuteTime": {
     "end_time": "2024-11-13T10:52:06.045896Z",
     "start_time": "2024-11-13T10:52:05.551845Z"
    }
   },
   "source": [
    "# Autoreload possibly interferes with IntelliJ debugging\n",
    "# %reload_ext autoreload\n",
    "# %autoreload 2\n",
    "import logging\n",
    "\n",
    "from models.realtime.realtime import mne_from_buffer\n",
    "\n",
    "logging.basicConfig(level=logging.INFO, format='%(asctime)s - %(levelname)s - %(message)s')\n",
    "log = lambda msg: logging.info(msg)"
   ],
   "outputs": [],
   "execution_count": 1
  },
  {
   "metadata": {
    "ExecuteTime": {
     "end_time": "2024-11-13T10:52:06.485848Z",
     "start_time": "2024-11-13T10:52:06.143407Z"
    }
   },
   "cell_type": "code",
   "source": [
    "import numpy as np\n",
    "import mne\n",
    "from realtime import mne_from_buffer\n",
    "\n",
    "buffer = np.zeros((1, 7501), dtype=np.float32)\n",
    "ch_names = ['Fpz-M1']\n",
    "\n",
    "raw, mne_filtered = mne_from_buffer(buffer, ch_names, 250)"
   ],
   "id": "17705670db2d75f1",
   "outputs": [
    {
     "name": "stdout",
     "output_type": "stream",
     "text": [
      "Creating RawArray with float64 data, n_channels=1, n_times=7501\n",
      "    Range : 0 ... 7500 =      0.000 ...    30.000 secs\n",
      "Ready.\n",
      "Filtering raw data in 1 contiguous segment\n",
      "Setting up band-pass filter from 0.3 - 35 Hz\n",
      "\n",
      "FIR filter parameters\n",
      "---------------------\n",
      "Designing a one-pass, zero-phase, non-causal bandpass filter:\n",
      "- Windowed time-domain design (firwin) method\n",
      "- Hamming window with 0.0194 passband ripple and 53 dB stopband attenuation\n",
      "- Lower passband edge: 0.30\n",
      "- Lower transition bandwidth: 0.30 Hz (-6 dB cutoff frequency: 0.15 Hz)\n",
      "- Upper passband edge: 35.00 Hz\n",
      "- Upper transition bandwidth: 8.75 Hz (-6 dB cutoff frequency: 39.38 Hz)\n",
      "- Filter length: 2751 samples (11.004 s)\n",
      "\n",
      "Filtering raw data in 1 contiguous segment\n",
      "Setting up band-stop filter\n",
      "\n",
      "FIR filter parameters\n",
      "---------------------\n",
      "Designing a one-pass, zero-phase, non-causal bandstop filter:\n",
      "- Windowed time-domain design (firwin) method\n",
      "- Hamming window with 0.0194 passband ripple and 53 dB stopband attenuation\n",
      "- Lower transition bandwidth: 0.50 Hz\n",
      "- Upper transition bandwidth: 0.50 Hz\n",
      "- Filter length: 1651 samples (6.604 s)\n",
      "\n"
     ]
    }
   ],
   "execution_count": 2
  },
  {
   "metadata": {
    "ExecuteTime": {
     "end_time": "2024-11-13T09:53:06.955079Z",
     "start_time": "2024-11-13T09:53:06.924719Z"
    }
   },
   "cell_type": "code",
   "source": [
    "# import io\n",
    "# import sys\n",
    "# import contextlib\n",
    "# from convert import get_filtered_and_scaled_data\n",
    "# import mne\n",
    "# \n",
    "# # Create a buffer to capture both stdout and stderr\n",
    "# output_buffer = io.StringIO()\n",
    "# \n",
    "# # Redirect both stdout and stderr to the buffer\n",
    "# with contextlib.redirect_stdout(output_buffer), contextlib.redirect_stderr(output_buffer):\n",
    "#     # Run the function that produces output and warnings\n",
    "#     mne_filtered = get_filtered_and_scaled_data(raw)\n",
    "# \n",
    "# # Display all the captured output in one block\n",
    "# print(output_buffer.getvalue())\n"
   ],
   "id": "fc7e7a5e0584633e",
   "outputs": [
    {
     "name": "stdout",
     "output_type": "stream",
     "text": [
      "Filtering raw data in 1 contiguous segment\n",
      "Setting up band-pass filter from 0.3 - 35 Hz\n",
      "\n",
      "FIR filter parameters\n",
      "---------------------\n",
      "Designing a one-pass, zero-phase, non-causal bandpass filter:\n",
      "- Windowed time-domain design (firwin) method\n",
      "- Hamming window with 0.0194 passband ripple and 53 dB stopband attenuation\n",
      "- Lower passband edge: 0.30\n",
      "- Lower transition bandwidth: 0.30 Hz (-6 dB cutoff frequency: 0.15 Hz)\n",
      "- Upper passband edge: 35.00 Hz\n",
      "- Upper transition bandwidth: 8.75 Hz (-6 dB cutoff frequency: 39.38 Hz)\n",
      "- Filter length: 2751 samples (11.004 s)\n",
      "\n",
      "Filtering raw data in 1 contiguous segment\n",
      "Setting up band-stop filter\n",
      "\n",
      "FIR filter parameters\n",
      "---------------------\n",
      "Designing a one-pass, zero-phase, non-causal bandstop filter:\n",
      "- Windowed time-domain design (firwin) method\n",
      "- Hamming window with 0.0194 passband ripple and 53 dB stopband attenuation\n",
      "- Lower transition bandwidth: 0.50 Hz\n",
      "- Upper transition bandwidth: 0.50 Hz\n",
      "- Filter length: 1651 samples (6.604 s)\n",
      "\n",
      "\n"
     ]
    }
   ],
   "execution_count": 6
  },
  {
   "metadata": {
    "ExecuteTime": {
     "end_time": "2024-11-13T09:54:11.161452Z",
     "start_time": "2024-11-13T09:54:11.145822Z"
    }
   },
   "cell_type": "code",
   "source": [
    "# df = mne_filtered.get_data(picks='Fpz-M1', units=dict(eeg=\"uV\"), return_times=True)\n",
    "# df[1]"
   ],
   "id": "5e93e0935765bb9",
   "outputs": [
    {
     "data": {
      "text/plain": [
       "array([0.0000e+00, 4.0000e-03, 8.0000e-03, ..., 2.9992e+01, 2.9996e+01,\n",
       "       3.0000e+01])"
      ]
     },
     "execution_count": 10,
     "metadata": {},
     "output_type": "execute_result"
    }
   ],
   "execution_count": 10
  },
  {
   "metadata": {
    "ExecuteTime": {
     "end_time": "2024-11-13T10:53:20.772199Z",
     "start_time": "2024-11-13T10:53:15.998960Z"
    }
   },
   "cell_type": "code",
   "source": [
    "import yasa_features\n",
    "\n",
    "channels = raw.info['ch_names']\n",
    "sfreq = raw.info['sfreq']\n",
    "\n",
    "yasa_feats, channel_feats_dict = yasa_features.extract_yasa_features2(log, channels, mne_filtered)\n"
   ],
   "id": "2c521d9a5c7370e8",
   "outputs": [
    {
     "name": "stderr",
     "output_type": "stream",
     "text": [
      "C:\\Users\\graha\\.conda\\envs\\tf\\lib\\site-packages\\antropy\\entropy.py:1012: RuntimeWarning: invalid value encountered in divide\n",
      "  mob = np.sqrt(dx_var / x_var)\n",
      "C:\\Users\\graha\\.conda\\envs\\tf\\lib\\site-packages\\antropy\\entropy.py:1013: RuntimeWarning: invalid value encountered in divide\n",
      "  com = np.sqrt(ddx_var / dx_var) / mob\n",
      "C:\\Users\\graha\\.conda\\envs\\tf\\lib\\site-packages\\yasa\\spectral.py:358: RuntimeWarning: invalid value encountered in divide\n",
      "  bp /= total_power\n",
      "C:\\dev\\play\\brainwave-processor\\yasa_features.py:114: RuntimeWarning: invalid value encountered in divide\n",
      "  spectral_centroid = np.sum(freqs * psd, axis=1) / np.sum(psd, axis=1)\n",
      "C:\\Users\\graha\\.conda\\envs\\tf\\lib\\site-packages\\antropy\\entropy.py:253: RuntimeWarning: invalid value encountered in divide\n",
      "  psd_norm = psd / psd.sum(axis=axis, keepdims=True)\n",
      "C:\\Users\\graha\\.conda\\envs\\tf\\lib\\site-packages\\antropy\\entropy.py:366: RuntimeWarning: invalid value encountered in divide\n",
      "  W /= sum(W)\n",
      "C:\\Users\\graha\\.conda\\envs\\tf\\lib\\site-packages\\sklearn\\preprocessing\\_data.py:1614: RuntimeWarning: All-NaN slice encountered\n",
      "  self.center_ = np.nanmedian(X, axis=0)\n",
      "C:\\Users\\graha\\.conda\\envs\\tf\\lib\\site-packages\\numpy\\lib\\nanfunctions.py:1384: RuntimeWarning: All-NaN slice encountered\n",
      "  return _nanquantile_unchecked(\n",
      "C:\\Users\\graha\\.conda\\envs\\tf\\lib\\site-packages\\sklearn\\preprocessing\\_data.py:1614: RuntimeWarning: All-NaN slice encountered\n",
      "  self.center_ = np.nanmedian(X, axis=0)\n",
      "C:\\Users\\graha\\.conda\\envs\\tf\\lib\\site-packages\\numpy\\lib\\nanfunctions.py:1384: RuntimeWarning: All-NaN slice encountered\n",
      "  return _nanquantile_unchecked(\n"
     ]
    }
   ],
   "execution_count": 3
  },
  {
   "metadata": {
    "ExecuteTime": {
     "end_time": "2024-11-13T10:53:25.019317Z",
     "start_time": "2024-11-13T10:53:25.003641Z"
    }
   },
   "cell_type": "code",
   "source": "yasa_feats_orig = yasa_feats.copy()",
   "id": "c35fcd7838d5d819",
   "outputs": [],
   "execution_count": 4
  },
  {
   "metadata": {
    "ExecuteTime": {
     "end_time": "2024-11-13T10:53:25.294297Z",
     "start_time": "2024-11-13T10:53:25.286220Z"
    }
   },
   "cell_type": "code",
   "source": "yasa_feats = yasa_feats_orig.copy()",
   "id": "433b8ec7b3bf656c",
   "outputs": [],
   "execution_count": 5
  },
  {
   "metadata": {
    "ExecuteTime": {
     "end_time": "2024-11-13T10:47:43.196267Z",
     "start_time": "2024-11-13T10:47:43.165283Z"
    }
   },
   "cell_type": "code",
   "source": [
    "# # Drop columns containing 'c7' or 'p2' in their names\n",
    "# columns_to_drop = yasa_feats.filter(regex='c7|p2').columns\n",
    "# yasa_feats.drop(columns=columns_to_drop, inplace=True)"
   ],
   "id": "5979dbd43edf1fb",
   "outputs": [],
   "execution_count": 46
  },
  {
   "metadata": {
    "ExecuteTime": {
     "end_time": "2024-11-13T10:53:28.771816Z",
     "start_time": "2024-11-13T10:53:28.755795Z"
    }
   },
   "cell_type": "code",
   "source": "yasa_feats.transpose()",
   "id": "b874f98d8950befe",
   "outputs": [
    {
     "data": {
      "text/plain": [
       "epoch                               0\n",
       "Fpz-M1_eeg_abspow                 0.0\n",
       "Fpz-M1_eeg_abspow_c7min_norm      0.0\n",
       "Fpz-M1_eeg_abspow_p2min_norm      0.0\n",
       "Fpz-M1_eeg_alpha                  NaN\n",
       "Fpz-M1_eeg_alpha_c7min_norm       NaN\n",
       "...                               ...\n",
       "Fpz-M1_eeg_thetaabsaa_c7min_norm  0.0\n",
       "Fpz-M1_eeg_thetaabsaa_p2min_norm  0.0\n",
       "Fpz-M1_eeg_thetaabsab             0.0\n",
       "Fpz-M1_eeg_thetaabsab_c7min_norm  0.0\n",
       "Fpz-M1_eeg_thetaabsab_p2min_norm  0.0\n",
       "\n",
       "[144 rows x 1 columns]"
      ],
      "text/html": [
       "<div>\n",
       "<style scoped>\n",
       "    .dataframe tbody tr th:only-of-type {\n",
       "        vertical-align: middle;\n",
       "    }\n",
       "\n",
       "    .dataframe tbody tr th {\n",
       "        vertical-align: top;\n",
       "    }\n",
       "\n",
       "    .dataframe thead th {\n",
       "        text-align: right;\n",
       "    }\n",
       "</style>\n",
       "<table border=\"1\" class=\"dataframe\">\n",
       "  <thead>\n",
       "    <tr style=\"text-align: right;\">\n",
       "      <th>epoch</th>\n",
       "      <th>0</th>\n",
       "    </tr>\n",
       "  </thead>\n",
       "  <tbody>\n",
       "    <tr>\n",
       "      <th>Fpz-M1_eeg_abspow</th>\n",
       "      <td>0.0</td>\n",
       "    </tr>\n",
       "    <tr>\n",
       "      <th>Fpz-M1_eeg_abspow_c7min_norm</th>\n",
       "      <td>0.0</td>\n",
       "    </tr>\n",
       "    <tr>\n",
       "      <th>Fpz-M1_eeg_abspow_p2min_norm</th>\n",
       "      <td>0.0</td>\n",
       "    </tr>\n",
       "    <tr>\n",
       "      <th>Fpz-M1_eeg_alpha</th>\n",
       "      <td>NaN</td>\n",
       "    </tr>\n",
       "    <tr>\n",
       "      <th>Fpz-M1_eeg_alpha_c7min_norm</th>\n",
       "      <td>NaN</td>\n",
       "    </tr>\n",
       "    <tr>\n",
       "      <th>...</th>\n",
       "      <td>...</td>\n",
       "    </tr>\n",
       "    <tr>\n",
       "      <th>Fpz-M1_eeg_thetaabsaa_c7min_norm</th>\n",
       "      <td>0.0</td>\n",
       "    </tr>\n",
       "    <tr>\n",
       "      <th>Fpz-M1_eeg_thetaabsaa_p2min_norm</th>\n",
       "      <td>0.0</td>\n",
       "    </tr>\n",
       "    <tr>\n",
       "      <th>Fpz-M1_eeg_thetaabsab</th>\n",
       "      <td>0.0</td>\n",
       "    </tr>\n",
       "    <tr>\n",
       "      <th>Fpz-M1_eeg_thetaabsab_c7min_norm</th>\n",
       "      <td>0.0</td>\n",
       "    </tr>\n",
       "    <tr>\n",
       "      <th>Fpz-M1_eeg_thetaabsab_p2min_norm</th>\n",
       "      <td>0.0</td>\n",
       "    </tr>\n",
       "  </tbody>\n",
       "</table>\n",
       "<p>144 rows × 1 columns</p>\n",
       "</div>"
      ]
     },
     "execution_count": 6,
     "metadata": {},
     "output_type": "execute_result"
    }
   ],
   "execution_count": 6
  },
  {
   "metadata": {
    "ExecuteTime": {
     "end_time": "2024-11-13T10:47:45.208607Z",
     "start_time": "2024-11-13T10:47:45.158037Z"
    }
   },
   "cell_type": "code",
   "source": [
    "import os\n",
    "import pandas as pd\n",
    "import scaling\n",
    "\n",
    "input_dir = \"C:\\\\dev\\\\play\\\\brainwave-data\"\n",
    "stats_df = pd.read_csv(input_dir + os.path.sep + \"stats.csv\")\n",
    "# Find Brainflow files that haven't been copied over\n",
    "\n",
    "scale_by_stats = scaling.scale_by_stats(yasa_feats, stats_df)\n",
    "yasa_feats = yasa_feats.join(scale_by_stats.add_suffix('_s'))\n"
   ],
   "id": "3fc4c4dc408c2a9d",
   "outputs": [],
   "execution_count": 48
  },
  {
   "metadata": {
    "ExecuteTime": {
     "end_time": "2024-11-13T10:47:46.101435Z",
     "start_time": "2024-11-13T10:47:46.074295Z"
    }
   },
   "cell_type": "code",
   "source": "yasa_feats.transpose()",
   "id": "4ab6f39f161a681c",
   "outputs": [
    {
     "data": {
      "text/plain": [
       "epoch                           0\n",
       "Fpz-M1_eeg_abspow        0.000000\n",
       "Fpz-M1_eeg_alpha              NaN\n",
       "Fpz-M1_eeg_alphaaa            NaN\n",
       "Fpz-M1_eeg_alphaab            NaN\n",
       "Fpz-M1_eeg_alphaabs      0.000000\n",
       "...                           ...\n",
       "Fpz-M1_eeg_thetaaa_s          NaN\n",
       "Fpz-M1_eeg_thetaab_s          NaN\n",
       "Fpz-M1_eeg_thetaabs_s   -0.075955\n",
       "Fpz-M1_eeg_thetaabsaa_s -0.111960\n",
       "Fpz-M1_eeg_thetaabsab_s -0.025055\n",
       "\n",
       "[96 rows x 1 columns]"
      ],
      "text/html": [
       "<div>\n",
       "<style scoped>\n",
       "    .dataframe tbody tr th:only-of-type {\n",
       "        vertical-align: middle;\n",
       "    }\n",
       "\n",
       "    .dataframe tbody tr th {\n",
       "        vertical-align: top;\n",
       "    }\n",
       "\n",
       "    .dataframe thead th {\n",
       "        text-align: right;\n",
       "    }\n",
       "</style>\n",
       "<table border=\"1\" class=\"dataframe\">\n",
       "  <thead>\n",
       "    <tr style=\"text-align: right;\">\n",
       "      <th>epoch</th>\n",
       "      <th>0</th>\n",
       "    </tr>\n",
       "  </thead>\n",
       "  <tbody>\n",
       "    <tr>\n",
       "      <th>Fpz-M1_eeg_abspow</th>\n",
       "      <td>0.000000</td>\n",
       "    </tr>\n",
       "    <tr>\n",
       "      <th>Fpz-M1_eeg_alpha</th>\n",
       "      <td>NaN</td>\n",
       "    </tr>\n",
       "    <tr>\n",
       "      <th>Fpz-M1_eeg_alphaaa</th>\n",
       "      <td>NaN</td>\n",
       "    </tr>\n",
       "    <tr>\n",
       "      <th>Fpz-M1_eeg_alphaab</th>\n",
       "      <td>NaN</td>\n",
       "    </tr>\n",
       "    <tr>\n",
       "      <th>Fpz-M1_eeg_alphaabs</th>\n",
       "      <td>0.000000</td>\n",
       "    </tr>\n",
       "    <tr>\n",
       "      <th>...</th>\n",
       "      <td>...</td>\n",
       "    </tr>\n",
       "    <tr>\n",
       "      <th>Fpz-M1_eeg_thetaaa_s</th>\n",
       "      <td>NaN</td>\n",
       "    </tr>\n",
       "    <tr>\n",
       "      <th>Fpz-M1_eeg_thetaab_s</th>\n",
       "      <td>NaN</td>\n",
       "    </tr>\n",
       "    <tr>\n",
       "      <th>Fpz-M1_eeg_thetaabs_s</th>\n",
       "      <td>-0.075955</td>\n",
       "    </tr>\n",
       "    <tr>\n",
       "      <th>Fpz-M1_eeg_thetaabsaa_s</th>\n",
       "      <td>-0.111960</td>\n",
       "    </tr>\n",
       "    <tr>\n",
       "      <th>Fpz-M1_eeg_thetaabsab_s</th>\n",
       "      <td>-0.025055</td>\n",
       "    </tr>\n",
       "  </tbody>\n",
       "</table>\n",
       "<p>96 rows × 1 columns</p>\n",
       "</div>"
      ]
     },
     "execution_count": 49,
     "metadata": {},
     "output_type": "execute_result"
    }
   ],
   "execution_count": 49
  },
  {
   "metadata": {
    "ExecuteTime": {
     "end_time": "2024-11-13T10:47:46.778728Z",
     "start_time": "2024-11-13T10:47:46.758770Z"
    }
   },
   "cell_type": "code",
   "source": [
    "yasa_df = yasa_feats\n",
    "yasa_df['60MinsBeforeReadyToSleep'] = 1 "
   ],
   "id": "3c82b9a717a8d037",
   "outputs": [],
   "execution_count": 50
  },
  {
   "metadata": {
    "ExecuteTime": {
     "end_time": "2024-11-13T10:47:47.678517Z",
     "start_time": "2024-11-13T10:47:47.662916Z"
    }
   },
   "cell_type": "code",
   "source": [
    "# Rename columns that start with 'Fpz-M1' to 'Main'\n",
    "yasa_df.rename(columns=lambda x: x.replace('Fpz-M1', 'Main') if x.startswith('Fpz-M1') else x, inplace=True)\n",
    "# Keep only columns that end with '_s' and the '60MinsBeforeReadyToSleep' column\n",
    "# columns_to_keep = yasa_df.filter(regex='_s$').columns.tolist()\n",
    "# columns_to_keep.append('60MinsBeforeReadyToSleep')\n",
    "# yasa_df = yasa_df[columns_to_keep]"
   ],
   "id": "9eb3f8b1cd9a03cc",
   "outputs": [],
   "execution_count": 51
  },
  {
   "metadata": {
    "ExecuteTime": {
     "end_time": "2024-11-13T10:47:49.664426Z",
     "start_time": "2024-11-13T10:47:49.648790Z"
    }
   },
   "cell_type": "code",
   "source": "yasa_df.transpose()",
   "id": "e7a8ccd19387262e",
   "outputs": [
    {
     "data": {
      "text/plain": [
       "epoch                            0\n",
       "Main_eeg_abspow           0.000000\n",
       "Main_eeg_alpha                 NaN\n",
       "Main_eeg_alphaaa               NaN\n",
       "Main_eeg_alphaab               NaN\n",
       "Main_eeg_alphaabs         0.000000\n",
       "...                            ...\n",
       "Main_eeg_thetaab_s             NaN\n",
       "Main_eeg_thetaabs_s      -0.075955\n",
       "Main_eeg_thetaabsaa_s    -0.111960\n",
       "Main_eeg_thetaabsab_s    -0.025055\n",
       "60MinsBeforeReadyToSleep  1.000000\n",
       "\n",
       "[97 rows x 1 columns]"
      ],
      "text/html": [
       "<div>\n",
       "<style scoped>\n",
       "    .dataframe tbody tr th:only-of-type {\n",
       "        vertical-align: middle;\n",
       "    }\n",
       "\n",
       "    .dataframe tbody tr th {\n",
       "        vertical-align: top;\n",
       "    }\n",
       "\n",
       "    .dataframe thead th {\n",
       "        text-align: right;\n",
       "    }\n",
       "</style>\n",
       "<table border=\"1\" class=\"dataframe\">\n",
       "  <thead>\n",
       "    <tr style=\"text-align: right;\">\n",
       "      <th>epoch</th>\n",
       "      <th>0</th>\n",
       "    </tr>\n",
       "  </thead>\n",
       "  <tbody>\n",
       "    <tr>\n",
       "      <th>Main_eeg_abspow</th>\n",
       "      <td>0.000000</td>\n",
       "    </tr>\n",
       "    <tr>\n",
       "      <th>Main_eeg_alpha</th>\n",
       "      <td>NaN</td>\n",
       "    </tr>\n",
       "    <tr>\n",
       "      <th>Main_eeg_alphaaa</th>\n",
       "      <td>NaN</td>\n",
       "    </tr>\n",
       "    <tr>\n",
       "      <th>Main_eeg_alphaab</th>\n",
       "      <td>NaN</td>\n",
       "    </tr>\n",
       "    <tr>\n",
       "      <th>Main_eeg_alphaabs</th>\n",
       "      <td>0.000000</td>\n",
       "    </tr>\n",
       "    <tr>\n",
       "      <th>...</th>\n",
       "      <td>...</td>\n",
       "    </tr>\n",
       "    <tr>\n",
       "      <th>Main_eeg_thetaab_s</th>\n",
       "      <td>NaN</td>\n",
       "    </tr>\n",
       "    <tr>\n",
       "      <th>Main_eeg_thetaabs_s</th>\n",
       "      <td>-0.075955</td>\n",
       "    </tr>\n",
       "    <tr>\n",
       "      <th>Main_eeg_thetaabsaa_s</th>\n",
       "      <td>-0.111960</td>\n",
       "    </tr>\n",
       "    <tr>\n",
       "      <th>Main_eeg_thetaabsab_s</th>\n",
       "      <td>-0.025055</td>\n",
       "    </tr>\n",
       "    <tr>\n",
       "      <th>60MinsBeforeReadyToSleep</th>\n",
       "      <td>1.000000</td>\n",
       "    </tr>\n",
       "  </tbody>\n",
       "</table>\n",
       "<p>97 rows × 1 columns</p>\n",
       "</div>"
      ]
     },
     "execution_count": 52,
     "metadata": {},
     "output_type": "execute_result"
    }
   ],
   "execution_count": 52
  },
  {
   "metadata": {
    "ExecuteTime": {
     "end_time": "2024-11-13T10:58:19.821010Z",
     "start_time": "2024-11-13T10:58:19.789741Z"
    }
   },
   "cell_type": "code",
   "source": [
    "import realtime\n",
    "\n",
    "tired_vs_wired_prediction = realtime.run_tired_vs_wired(yasa_df)\n",
    "tired_vs_wired_prediction"
   ],
   "id": "7ca8096efd1a3711",
   "outputs": [
    {
     "ename": "AttributeError",
     "evalue": "module 'realtime' has no attribute 'run_tired_vs_wired'",
     "output_type": "error",
     "traceback": [
      "\u001B[1;31m---------------------------------------------------------------------------\u001B[0m",
      "\u001B[1;31mAttributeError\u001B[0m                            Traceback (most recent call last)",
      "Cell \u001B[1;32mIn[11], line 3\u001B[0m\n\u001B[0;32m      1\u001B[0m \u001B[38;5;28;01mimport\u001B[39;00m \u001B[38;5;21;01mrealtime\u001B[39;00m\n\u001B[1;32m----> 3\u001B[0m tired_vs_wired_prediction \u001B[38;5;241m=\u001B[39m \u001B[43mrealtime\u001B[49m\u001B[38;5;241;43m.\u001B[39;49m\u001B[43mrun_tired_vs_wired\u001B[49m(yasa_df)\n\u001B[0;32m      4\u001B[0m tired_vs_wired_prediction\n",
      "\u001B[1;31mAttributeError\u001B[0m: module 'realtime' has no attribute 'run_tired_vs_wired'"
     ]
    }
   ],
   "execution_count": 11
  }
 ],
 "metadata": {
  "kernelspec": {
   "display_name": "Python 3",
   "language": "python",
   "name": "python3"
  },
  "language_info": {
   "codemirror_mode": {
    "name": "ipython",
    "version": 2
   },
   "file_extension": ".py",
   "mimetype": "text/x-python",
   "name": "python",
   "nbconvert_exporter": "python",
   "pygments_lexer": "ipython2",
   "version": "2.7.6"
  }
 },
 "nbformat": 4,
 "nbformat_minor": 5
}
