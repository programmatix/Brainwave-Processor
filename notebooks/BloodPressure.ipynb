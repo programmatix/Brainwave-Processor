{
 "cells": [
  {
   "metadata": {
    "ExecuteTime": {
     "end_time": "2025-01-11T09:46:37.705761Z",
     "start_time": "2025-01-11T09:46:37.696497Z"
    }
   },
   "cell_type": "code",
   "source": "input_dir = \"c:\\\\dev\\\\play\\\\bloodpressure-data\"",
   "id": "55fa36dc9cbc7bde",
   "outputs": [],
   "execution_count": 8
  },
  {
   "metadata": {
    "ExecuteTime": {
     "end_time": "2025-01-11T09:46:37.748653Z",
     "start_time": "2025-01-11T09:46:37.728705Z"
    }
   },
   "cell_type": "code",
   "source": [
    "import os\n",
    "import hashlib\n",
    "from pydrive.auth import GoogleAuth\n",
    "from pydrive.drive import GoogleDrive\n",
    "\n",
    "def compute_file_hash(file_path):\n",
    "    \"\"\"Compute the SHA256 hash of the file.\"\"\"\n",
    "    sha256_hash = hashlib.sha256()\n",
    "    with open(file_path, \"rb\") as f:\n",
    "        for byte_block in iter(lambda: f.read(4096), b\"\"):\n",
    "            sha256_hash.update(byte_block)\n",
    "    return sha256_hash.hexdigest()\n",
    "\n",
    "def download_file(file, destination):\n",
    "    \"\"\"Download the file from Google Drive to the destination.\"\"\"\n",
    "    file.GetContentFile(destination)\n",
    "    print(f\"Downloaded: {file['title']}\")\n",
    "\n",
    "# Authenticate and create the PyDrive client\n",
    "gauth = GoogleAuth()\n",
    "gauth.LoadClientConfigFile('C:\\\\Users\\\\graha\\\\client_secret_468958631927-kd7vtqnup9ma5l1iq22469aht4b88oqk.apps.googleusercontent.com.json')\n",
    "\n",
    "# Try to load saved client credentials\n",
    "gauth.LoadCredentialsFile('credentials.json')\n",
    "\n",
    "if gauth.credentials is None:\n",
    "    # Authenticate if they're not there\n",
    "    gauth.LocalWebserverAuth()\n",
    "    # Save the current credentials to a file\n",
    "    gauth.SaveCredentialsFile('credentials.json')\n",
    "elif gauth.access_token_expired:\n",
    "    # Refresh them if expired\n",
    "    gauth.Refresh()\n",
    "else:\n",
    "    # Initialize the saved creds\n",
    "    gauth.Authorize()\n",
    "\n",
    "drive = GoogleDrive(gauth)\n"
   ],
   "id": "ef9712f4589beb39",
   "outputs": [],
   "execution_count": 9
  },
  {
   "metadata": {
    "ExecuteTime": {
     "end_time": "2025-01-11T09:47:19.351823Z",
     "start_time": "2025-01-11T09:46:37.854713Z"
    }
   },
   "cell_type": "code",
   "source": [
    "from tqdm import tqdm as tdqm\n",
    "\n",
    "# Find the Aktiia folder\n",
    "folder_name = 'Aktiia'\n",
    "file_list = drive.ListFile({'q': f\"title='{folder_name}' and mimeType='application/vnd.google-apps.folder' and trashed=false\"}).GetList()\n",
    "\n",
    "if not file_list:\n",
    "    print(f\"Folder '{folder_name}' not found.\")\n",
    "else:\n",
    "    folder_id = file_list[0]['id']\n",
    "    # List all files in the Aktiia folder\n",
    "    file_list = drive.ListFile({'q': f\"'{folder_id}' in parents and trashed=false\"}).GetList()\n",
    "\n",
    "    for file in tdqm(file_list, desc='Checking files', total=len(file_list)):\n",
    "        file_path = os.path.join(input_dir, file['title'])\n",
    "        if os.path.exists(file_path):\n",
    "            local_file_hash = compute_file_hash(file_path)\n",
    "            file.GetContentFile('temp_file')\n",
    "            remote_file_hash = compute_file_hash('temp_file')\n",
    "            os.remove('temp_file')\n",
    "            if local_file_hash != remote_file_hash:\n",
    "                print(f\"File '{file['title']}' has changed. Downloading the new version.\")\n",
    "                download_file(file, file_path)\n",
    "            else:\n",
    "                print(f\"File '{file['title']}' has not changed.\")\n",
    "        else:\n",
    "            print(f\"File '{file['title']}' does not exist. Downloading.\")\n",
    "            download_file(file, file_path)"
   ],
   "id": "765879e24a885b00",
   "outputs": [
    {
     "name": "stderr",
     "output_type": "stream",
     "text": [
      "Checking files:   0%|          | 0/9 [00:00<?, ?it/s]"
     ]
    },
    {
     "name": "stdout",
     "output_type": "stream",
     "text": [
      "File 'AktiiaReport_GP_Jan2025.pdf' does not exist. Downloading.\n"
     ]
    },
    {
     "name": "stderr",
     "output_type": "stream",
     "text": [
      "Checking files:  11%|█         | 1/9 [00:03<00:31,  3.90s/it]"
     ]
    },
    {
     "name": "stdout",
     "output_type": "stream",
     "text": [
      "Downloaded: AktiiaReport_GP_Jan2025.pdf\n"
     ]
    },
    {
     "name": "stderr",
     "output_type": "stream",
     "text": [
      "Checking files:  22%|██▏       | 2/9 [00:07<00:27,  3.91s/it]"
     ]
    },
    {
     "name": "stdout",
     "output_type": "stream",
     "text": [
      "File 'AktiiaReport_GP_Dec2024.pdf' has changed. Downloading the new version.\n",
      "Downloaded: AktiiaReport_GP_Dec2024.pdf\n"
     ]
    },
    {
     "name": "stderr",
     "output_type": "stream",
     "text": [
      "Checking files:  33%|███▎      | 3/9 [00:14<00:30,  5.10s/it]"
     ]
    },
    {
     "name": "stdout",
     "output_type": "stream",
     "text": [
      "File 'AktiiaReport_GP_Nov2024.pdf' has changed. Downloading the new version.\n",
      "Downloaded: AktiiaReport_GP_Nov2024.pdf\n"
     ]
    },
    {
     "name": "stderr",
     "output_type": "stream",
     "text": [
      "Checking files:  44%|████▍     | 4/9 [00:21<00:28,  5.74s/it]"
     ]
    },
    {
     "name": "stdout",
     "output_type": "stream",
     "text": [
      "File 'AktiiaReport_GP_Dec2024.pdf' has changed. Downloading the new version.\n",
      "Downloaded: AktiiaReport_GP_Dec2024.pdf\n"
     ]
    },
    {
     "name": "stderr",
     "output_type": "stream",
     "text": [
      "Checking files:  56%|█████▌    | 5/9 [00:27<00:24,  6.08s/it]"
     ]
    },
    {
     "name": "stdout",
     "output_type": "stream",
     "text": [
      "File 'AktiiaReport_GP_Dec2024.pdf' has changed. Downloading the new version.\n",
      "Downloaded: AktiiaReport_GP_Dec2024.pdf\n"
     ]
    },
    {
     "name": "stderr",
     "output_type": "stream",
     "text": [
      "Checking files:  67%|██████▋   | 6/9 [00:31<00:15,  5.14s/it]"
     ]
    },
    {
     "name": "stdout",
     "output_type": "stream",
     "text": [
      "File 'AktiiaReport_GP_Nov2024.pdf' has changed. Downloading the new version.\n",
      "Downloaded: AktiiaReport_GP_Nov2024.pdf\n"
     ]
    },
    {
     "name": "stderr",
     "output_type": "stream",
     "text": [
      "Checking files:  78%|███████▊  | 7/9 [00:35<00:09,  4.96s/it]"
     ]
    },
    {
     "name": "stdout",
     "output_type": "stream",
     "text": [
      "File 'AktiiaReport_GP_Nov2024.pdf' has changed. Downloading the new version.\n",
      "Downloaded: AktiiaReport_GP_Nov2024.pdf\n"
     ]
    },
    {
     "name": "stderr",
     "output_type": "stream",
     "text": [
      "Checking files:  89%|████████▉ | 8/9 [00:37<00:04,  4.11s/it]"
     ]
    },
    {
     "name": "stdout",
     "output_type": "stream",
     "text": [
      "File 'AktiiaReport_GP_Oct2024.pdf' has not changed.\n"
     ]
    },
    {
     "name": "stderr",
     "output_type": "stream",
     "text": [
      "Checking files: 100%|██████████| 9/9 [00:39<00:00,  4.44s/it]"
     ]
    },
    {
     "name": "stdout",
     "output_type": "stream",
     "text": [
      "File 'AktiiaReport_GP_Nov2024.pdf' has changed. Downloading the new version.\n",
      "Downloaded: AktiiaReport_GP_Nov2024.pdf\n"
     ]
    },
    {
     "name": "stderr",
     "output_type": "stream",
     "text": [
      "\n"
     ]
    }
   ],
   "execution_count": 10
  },
  {
   "metadata": {
    "ExecuteTime": {
     "end_time": "2025-01-11T09:47:19.426521Z",
     "start_time": "2025-01-11T09:47:19.370967Z"
    }
   },
   "cell_type": "code",
   "source": [
    "import os\n",
    "import fitz  # PyMuPDF\n",
    "import re\n",
    "from datetime import datetime\n",
    "import pytz\n",
    "\n",
    "class BloodPressureReport:\n",
    "    def __init__(self, input_file):\n",
    "        self.input_file = input_file\n",
    "        self.pattern = re.compile(r'(\\d{1,2} \\w+, \\d{2})\\n(\\d{2}:\\d{2})\\n(\\d+)\\n(\\d+)\\n(\\d+)')\n",
    "        self.uk_timezone = pytz.timezone('Europe/London')\n",
    "\n",
    "    def parse_pdf(self):\n",
    "        pdf_document = fitz.open(self.input_file)\n",
    "        records = []\n",
    "\n",
    "        for page_num in range(1, len(pdf_document) - 1):\n",
    "            page = pdf_document.load_page(page_num)\n",
    "            text = page.get_text()\n",
    "            matches = self.pattern.findall(text)\n",
    "\n",
    "            for match in matches:\n",
    "                date_str, time_str, systolic, diastolic, heart_rate = match\n",
    "                date_time_str = f\"{date_str} {time_str}\"\n",
    "                date_time_obj = datetime.strptime(date_time_str, \"%d %B, %y %H:%M\")\n",
    "                date_time_uk = self.uk_timezone.localize(date_time_obj)\n",
    "                record = {\n",
    "                    'datetime': date_time_uk,\n",
    "                    'systolic': int(systolic),\n",
    "                    'diastolic': int(diastolic),\n",
    "                    'heart_rate': int(heart_rate)\n",
    "                }\n",
    "                records.append(record)\n",
    "\n",
    "        return records\n",
    "\n",
    "all = []\n",
    "\n",
    "# Loop over each file in the directory\n",
    "for filename in os.listdir(input_dir):\n",
    "    if filename.endswith('.pdf'):\n",
    "        input_file = os.path.join(input_dir, filename)\n",
    "        report = BloodPressureReport(input_file)\n",
    "        records = report.parse_pdf()\n",
    "        all.extend(records)\n",
    "\n",
    "        # for record in records:\n",
    "        #     print(record)"
   ],
   "id": "33917ecec2a2d998",
   "outputs": [],
   "execution_count": 11
  },
  {
   "metadata": {
    "ExecuteTime": {
     "end_time": "2025-01-11T09:47:19.495530Z",
     "start_time": "2025-01-11T09:47:19.486807Z"
    }
   },
   "cell_type": "code",
   "source": [
    "from sleep_events import connect_to_firebase\n",
    "\n",
    "db = connect_to_firebase()"
   ],
   "id": "92ba18be2d4175ad",
   "outputs": [],
   "execution_count": 12
  },
  {
   "metadata": {
    "ExecuteTime": {
     "end_time": "2025-01-11T09:47:19.529473Z",
     "start_time": "2025-01-11T09:47:19.517148Z"
    }
   },
   "cell_type": "code",
   "source": "collection_ref = db.collection('bloodPressure')",
   "id": "7159314c82eaef61",
   "outputs": [],
   "execution_count": 13
  },
  {
   "metadata": {
    "ExecuteTime": {
     "end_time": "2025-01-11T09:47:19.918071Z",
     "start_time": "2025-01-11T09:47:19.543306Z"
    }
   },
   "cell_type": "code",
   "source": [
    "\n",
    "all_sorted = sorted(all, key=lambda record: record['datetime'])\n",
    "collection_ref.document('aktiia').set({'records': all_sorted})"
   ],
   "id": "353ec4246be30a8f",
   "outputs": [
    {
     "data": {
      "text/plain": [
       "update_time {\n",
       "  seconds: 1736588840\n",
       "  nanos: 344661000\n",
       "}"
      ]
     },
     "execution_count": 14,
     "metadata": {},
     "output_type": "execute_result"
    }
   ],
   "execution_count": 14
  },
  {
   "metadata": {
    "ExecuteTime": {
     "end_time": "2025-01-11T09:47:19.946314Z",
     "start_time": "2025-01-11T09:47:19.928630Z"
    }
   },
   "cell_type": "code",
   "source": "",
   "id": "3a8624e41e1946c7",
   "outputs": [],
   "execution_count": null
  }
 ],
 "metadata": {
  "kernelspec": {
   "display_name": "Python 3",
   "language": "python",
   "name": "python3"
  },
  "language_info": {
   "codemirror_mode": {
    "name": "ipython",
    "version": 2
   },
   "file_extension": ".py",
   "mimetype": "text/x-python",
   "name": "python",
   "nbconvert_exporter": "python",
   "pygments_lexer": "ipython2",
   "version": "2.7.6"
  }
 },
 "nbformat": 4,
 "nbformat_minor": 5
}
