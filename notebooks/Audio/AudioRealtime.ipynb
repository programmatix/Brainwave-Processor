{
 "cells": [
  {
   "cell_type": "code",
   "execution_count": null,
   "metadata": {},
   "outputs": [],
   "source": [
    "import logging\n",
    "from datetime import datetime\n",
    "from tqdm.auto import tqdm\n",
    "\n",
    "from importlib import reload\n",
    "\n",
    "logging.basicConfig(level=logging.INFO, format='%(asctime)s - %(levelname)s - %(message)s')\n",
    "log = lambda msg: print(f\"{datetime.today()} {msg}\")\n",
    "\n",
    "import pandas as pd\n",
    "import os\n",
    "\n",
    "import sys\n",
    "root_dir = os.path.abspath(os.path.join(os.path.dirname('__file__'), '../..'))\n",
    "sys.path.append(root_dir)\n"
   ]
  },
  {
   "cell_type": "code",
   "execution_count": 17,
   "metadata": {},
   "outputs": [
    {
     "name": "stdout",
     "output_type": "stream",
     "text": [
      "Requirement already satisfied: numpy in c:\\dev\\brainwave-processor\\.venv\\lib\\site-packages (2.2.4)\n",
      "Requirement already satisfied: matplotlib in c:\\dev\\brainwave-processor\\.venv\\lib\\site-packages (3.10.3)\n",
      "Requirement already satisfied: sounddevice in c:\\dev\\brainwave-processor\\.venv\\lib\\site-packages (0.5.1)\n",
      "Requirement already satisfied: scipy in c:\\dev\\brainwave-processor\\.venv\\lib\\site-packages (1.15.2)\n",
      "Collecting ipywidgets\n",
      "  Downloading ipywidgets-8.1.7-py3-none-any.whl.metadata (2.4 kB)\n",
      "Requirement already satisfied: contourpy>=1.0.1 in c:\\dev\\brainwave-processor\\.venv\\lib\\site-packages (from matplotlib) (1.3.2)\n",
      "Requirement already satisfied: cycler>=0.10 in c:\\dev\\brainwave-processor\\.venv\\lib\\site-packages (from matplotlib) (0.12.1)\n",
      "Requirement already satisfied: fonttools>=4.22.0 in c:\\dev\\brainwave-processor\\.venv\\lib\\site-packages (from matplotlib) (4.58.0)\n",
      "Requirement already satisfied: kiwisolver>=1.3.1 in c:\\dev\\brainwave-processor\\.venv\\lib\\site-packages (from matplotlib) (1.4.8)\n",
      "Requirement already satisfied: packaging>=20.0 in c:\\dev\\brainwave-processor\\.venv\\lib\\site-packages (from matplotlib) (24.2)\n",
      "Requirement already satisfied: pillow>=8 in c:\\dev\\brainwave-processor\\.venv\\lib\\site-packages (from matplotlib) (11.2.1)\n",
      "Requirement already satisfied: pyparsing>=2.3.1 in c:\\dev\\brainwave-processor\\.venv\\lib\\site-packages (from matplotlib) (3.2.1)\n",
      "Requirement already satisfied: python-dateutil>=2.7 in c:\\dev\\brainwave-processor\\.venv\\lib\\site-packages (from matplotlib) (2.9.0.post0)\n",
      "Requirement already satisfied: CFFI>=1.0 in c:\\dev\\brainwave-processor\\.venv\\lib\\site-packages (from sounddevice) (1.17.1)\n",
      "Requirement already satisfied: comm>=0.1.3 in c:\\dev\\brainwave-processor\\.venv\\lib\\site-packages (from ipywidgets) (0.2.2)\n",
      "Requirement already satisfied: ipython>=6.1.0 in c:\\dev\\brainwave-processor\\.venv\\lib\\site-packages (from ipywidgets) (8.32.0)\n",
      "Requirement already satisfied: traitlets>=4.3.1 in c:\\dev\\brainwave-processor\\.venv\\lib\\site-packages (from ipywidgets) (5.14.3)\n",
      "Collecting widgetsnbextension~=4.0.14 (from ipywidgets)\n",
      "  Using cached widgetsnbextension-4.0.14-py3-none-any.whl.metadata (1.6 kB)\n",
      "Collecting jupyterlab_widgets~=3.0.15 (from ipywidgets)\n",
      "  Downloading jupyterlab_widgets-3.0.15-py3-none-any.whl.metadata (20 kB)\n",
      "Requirement already satisfied: pycparser in c:\\dev\\brainwave-processor\\.venv\\lib\\site-packages (from CFFI>=1.0->sounddevice) (2.22)\n",
      "Requirement already satisfied: colorama in c:\\dev\\brainwave-processor\\.venv\\lib\\site-packages (from ipython>=6.1.0->ipywidgets) (0.4.6)\n",
      "Requirement already satisfied: decorator in c:\\dev\\brainwave-processor\\.venv\\lib\\site-packages (from ipython>=6.1.0->ipywidgets) (5.2.1)\n",
      "Requirement already satisfied: jedi>=0.16 in c:\\dev\\brainwave-processor\\.venv\\lib\\site-packages (from ipython>=6.1.0->ipywidgets) (0.19.2)\n",
      "Requirement already satisfied: matplotlib-inline in c:\\dev\\brainwave-processor\\.venv\\lib\\site-packages (from ipython>=6.1.0->ipywidgets) (0.1.7)\n",
      "Requirement already satisfied: prompt_toolkit<3.1.0,>=3.0.41 in c:\\dev\\brainwave-processor\\.venv\\lib\\site-packages (from ipython>=6.1.0->ipywidgets) (3.0.50)\n",
      "Requirement already satisfied: pygments>=2.4.0 in c:\\dev\\brainwave-processor\\.venv\\lib\\site-packages (from ipython>=6.1.0->ipywidgets) (2.19.1)\n",
      "Requirement already satisfied: stack_data in c:\\dev\\brainwave-processor\\.venv\\lib\\site-packages (from ipython>=6.1.0->ipywidgets) (0.6.3)\n",
      "Requirement already satisfied: six>=1.5 in c:\\dev\\brainwave-processor\\.venv\\lib\\site-packages (from python-dateutil>=2.7->matplotlib) (1.17.0)\n",
      "Requirement already satisfied: parso<0.9.0,>=0.8.4 in c:\\dev\\brainwave-processor\\.venv\\lib\\site-packages (from jedi>=0.16->ipython>=6.1.0->ipywidgets) (0.8.4)\n",
      "Requirement already satisfied: wcwidth in c:\\dev\\brainwave-processor\\.venv\\lib\\site-packages (from prompt_toolkit<3.1.0,>=3.0.41->ipython>=6.1.0->ipywidgets) (0.2.13)\n",
      "Requirement already satisfied: executing>=1.2.0 in c:\\dev\\brainwave-processor\\.venv\\lib\\site-packages (from stack_data->ipython>=6.1.0->ipywidgets) (2.2.0)\n",
      "Requirement already satisfied: asttokens>=2.1.0 in c:\\dev\\brainwave-processor\\.venv\\lib\\site-packages (from stack_data->ipython>=6.1.0->ipywidgets) (3.0.0)\n",
      "Requirement already satisfied: pure-eval in c:\\dev\\brainwave-processor\\.venv\\lib\\site-packages (from stack_data->ipython>=6.1.0->ipywidgets) (0.2.3)\n",
      "Downloading ipywidgets-8.1.7-py3-none-any.whl (139 kB)\n",
      "Downloading jupyterlab_widgets-3.0.15-py3-none-any.whl (216 kB)\n",
      "Using cached widgetsnbextension-4.0.14-py3-none-any.whl (2.2 MB)\n",
      "Installing collected packages: widgetsnbextension, jupyterlab_widgets, ipywidgets\n",
      "Successfully installed ipywidgets-8.1.7 jupyterlab_widgets-3.0.15 widgetsnbextension-4.0.14\n"
     ]
    },
    {
     "name": "stderr",
     "output_type": "stream",
     "text": [
      "\n",
      "[notice] A new release of pip is available: 25.0.1 -> 25.1.1\n",
      "[notice] To update, run: python.exe -m pip install --upgrade pip\n"
     ]
    }
   ],
   "source": [
    "\n",
    "!pip install numpy matplotlib sounddevice scipy ipywidgets"
   ]
  },
  {
   "cell_type": "code",
   "execution_count": 18,
   "metadata": {},
   "outputs": [
    {
     "name": "stdout",
     "output_type": "stream",
     "text": [
      "Initialized audio buffer with size 88200 (2 seconds at 44100 Hz)\n",
      "Found UMC device at index 1\n",
      "Using device: Microphone (UMC202HD 192k)\n",
      "Device channels: input=2, output=0\n",
      "Device default samplerate: 44100.0\n",
      "Plot setup complete\n"
     ]
    },
    {
     "data": {
      "text/plain": [
       "<matplotlib.backends.backend_agg.FigureCanvasAgg at 0x1c954ca8750>"
      ]
     },
     "metadata": {},
     "output_type": "display_data"
    },
    {
     "name": "stdout",
     "output_type": "stream",
     "text": [
      "Audio stream created\n",
      "Update plot called 1 times\n",
      "Update plot called 2 times\n",
      "Animation created with interval=100ms\n"
     ]
    },
    {
     "data": {
      "application/vnd.jupyter.widget-view+json": {
       "model_id": "f567aef5b8f541f59c10d67d918b7c50",
       "version_major": 2,
       "version_minor": 0
      },
      "text/plain": [
       "Button(description='Stop Stream', style=ButtonStyle())"
      ]
     },
     "metadata": {},
     "output_type": "display_data"
    },
    {
     "name": "stdout",
     "output_type": "stream",
     "text": [
      "Starting audio stream...\n",
      "Audio callback called 10 times. Buffer shape: (88200,), indata shape: (1136, 1)\n",
      "Audio data range: -0.0009 to 0.0013\n",
      "Audio callback called 20 times. Buffer shape: (88200,), indata shape: (1136, 1)\n",
      "Audio data range: -0.0011 to 0.0007\n",
      "Audio callback called 30 times. Buffer shape: (88200,), indata shape: (1136, 1)\n",
      "Audio data range: -0.0006 to 0.0007\n",
      "Audio callback called 40 times. Buffer shape: (88200,), indata shape: (1136, 1)\n",
      "Audio data range: -0.0006 to 0.0007\n",
      "Audio callback called 50 times. Buffer shape: (88200,), indata shape: (1136, 1)\n",
      "Audio data range: -0.0005 to 0.0006\n",
      "Audio callback called 60 times. Buffer shape: (88200,), indata shape: (1136, 1)\n",
      "Audio data range: -0.0005 to 0.0004\n",
      "Audio callback called 70 times. Buffer shape: (88200,), indata shape: (1136, 1)\n",
      "Audio data range: -0.0007 to 0.0005\n",
      "Audio callback called 80 times. Buffer shape: (88200,), indata shape: (1136, 1)\n",
      "Audio data range: -0.0006 to 0.0005\n",
      "Audio callback called 90 times. Buffer shape: (88200,), indata shape: (1136, 1)\n",
      "Audio data range: -0.0006 to 0.0006\n",
      "Audio callback called 100 times. Buffer shape: (88200,), indata shape: (1136, 1)\n",
      "Audio data range: -0.0004 to 0.0004\n",
      "Audio callback called 110 times. Buffer shape: (88200,), indata shape: (1136, 1)\n",
      "Audio data range: -0.0005 to 0.0005\n",
      "Audio callback called 120 times. Buffer shape: (88200,), indata shape: (1136, 1)\n",
      "Audio data range: -0.0004 to 0.0005\n",
      "Audio callback called 130 times. Buffer shape: (88200,), indata shape: (1136, 1)\n",
      "Audio data range: -0.0004 to 0.0004\n",
      "Audio callback called 140 times. Buffer shape: (88200,), indata shape: (1136, 1)\n",
      "Audio data range: -0.0004 to 0.0004\n",
      "Audio callback called 150 times. Buffer shape: (88200,), indata shape: (1136, 1)\n",
      "Audio data range: -0.0004 to 0.0005\n",
      "Audio callback called 160 times. Buffer shape: (88200,), indata shape: (1136, 1)\n",
      "Audio data range: -0.0004 to 0.0003\n",
      "Audio callback called 170 times. Buffer shape: (88200,), indata shape: (1136, 1)\n",
      "Audio data range: -0.0004 to 0.0002\n",
      "Audio callback called 180 times. Buffer shape: (88200,), indata shape: (1136, 1)\n",
      "Audio data range: -0.0005 to 0.0004\n",
      "Audio callback called 190 times. Buffer shape: (88200,), indata shape: (1136, 1)\n",
      "Audio data range: -0.0004 to 0.0003\n",
      "Audio callback called 200 times. Buffer shape: (88200,), indata shape: (1136, 1)\n",
      "Audio data range: -0.0003 to 0.0003\n",
      "Audio callback called 210 times. Buffer shape: (88200,), indata shape: (1136, 1)\n",
      "Audio data range: -0.0005 to 0.0008\n",
      "Audio callback called 220 times. Buffer shape: (88200,), indata shape: (1136, 1)\n",
      "Audio data range: -0.0004 to 0.0004\n",
      "Audio callback called 230 times. Buffer shape: (88200,), indata shape: (1136, 1)\n",
      "Audio data range: -0.0006 to 0.0006\n",
      "Audio callback called 240 times. Buffer shape: (88200,), indata shape: (1136, 1)\n",
      "Audio data range: -0.0004 to 0.0004\n",
      "Audio callback called 250 times. Buffer shape: (88200,), indata shape: (1136, 1)\n",
      "Audio data range: -0.0006 to 0.0007\n",
      "Audio callback called 260 times. Buffer shape: (88200,), indata shape: (1136, 1)\n",
      "Audio data range: -0.0006 to 0.0005\n",
      "Stopping audio stream\n"
     ]
    },
    {
     "data": {
      "image/png": "[encoded data removed]",
      "text/plain": [
       "<Figure size 1000x600 with 1 Axes>"
      ]
     },
     "metadata": {},
     "output_type": "display_data"
    }
   ],
   "source": [
    "from importlib import reload\n",
    "\n",
    "import audio_realtime\n",
    "reload(audio_realtime)\n",
    "\n",
    "audio_realtime.do_plot()\n"
   ]
  }
 ],
 "metadata": {
  "kernelspec": {
   "display_name": ".venv",
   "language": "python",
   "name": "python3"
  },
  "language_info": {
   "codemirror_mode": {
    "name": "ipython",
    "version": 3
   },
   "file_extension": ".py",
   "mimetype": "text/x-python",
   "name": "python",
   "nbconvert_exporter": "python",
   "pygments_lexer": "ipython3",
   "version": "3.13.1"
  }
 },
 "nbformat": 4,
 "nbformat_minor": 2
}
