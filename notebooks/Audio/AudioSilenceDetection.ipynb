{
 "cells": [
  {
   "cell_type": "code",
   "execution_count": 1,
   "metadata": {},
   "outputs": [],
   "source": [
    "import logging\n",
    "from datetime import datetime\n",
    "from tqdm.auto import tqdm\n",
    "\n",
    "from importlib import reload\n",
    "\n",
    "logging.basicConfig(level=logging.INFO, format='%(asctime)s - %(levelname)s - %(message)s')\n",
    "log = lambda msg: print(f\"{datetime.today()} {msg}\")\n",
    "\n",
    "import pandas as pd\n",
    "import os\n",
    "\n",
    "import sys\n",
    "root_dir = os.path.abspath(os.path.join(os.path.dirname('__file__'), '../..'))\n",
    "sys.path.append(root_dir)\n"
   ]
  },
  {
   "cell_type": "code",
   "execution_count": 2,
   "metadata": {},
   "outputs": [
    {
     "name": "stderr",
     "output_type": "stream",
     "text": [
      "2025-05-16 09:54:09,180 - INFO - Connected (version 2.0, client OpenSSH_9.6)\n",
      "2025-05-16 09:54:09,308 - INFO - Authentication (password) successful!\n",
      "2025-05-16 09:54:11,635 - INFO - [chan 1] Opened sftp connection (server version 3)\n"
     ]
    }
   ],
   "source": [
    "import paramiko\n",
    "\n",
    "hostname = os.getenv('SSH_HOST')\n",
    "username = os.getenv('SSH_USERNAME')\n",
    "password = os.getenv('SSH_PASSWORD')\n",
    "remote_dir = '/home/graham/audio'\n",
    "\n",
    "# Create an SSH client\n",
    "ssh = paramiko.SSHClient()\n",
    "ssh.set_missing_host_key_policy(paramiko.AutoAddPolicy())\n",
    "ssh.connect(hostname, username=username, password=password, compress=True)\n",
    "\n",
    "# List files in the remote directory\n",
    "stdin, stdout, stderr = ssh.exec_command(f'ls {remote_dir}')\n",
    "remote_files = [f for f in stdout.read().decode().splitlines() if f.endswith(\".opus\")]\n",
    "\n",
    "sftp = ssh.open_sftp()\n",
    "\n"
   ]
  },
  {
   "cell_type": "markdown",
   "metadata": {},
   "source": [
    "# Tests"
   ]
  },
  {
   "cell_type": "code",
   "execution_count": 3,
   "metadata": {},
   "outputs": [
    {
     "name": "stdout",
     "output_type": "stream",
     "text": [
      "Downloading remote:/home/graham/audio/recording_20250513_054004.opus to memory\n"
     ]
    },
    {
     "name": "stderr",
     "output_type": "stream",
     "text": [
      "recording_20250513_054004.opus: 100%|##########| 463k/463k [00:00<00:00, 1.38MB/s]\n"
     ]
    },
    {
     "name": "stdout",
     "output_type": "stream",
     "text": [
      "Temp filename:  C:\\Users\\graha\\AppData\\Local\\Temp\\tmp7vui1cm0.opus\n",
      "\n",
      "Read Ogg Opus file\n",
      "Channels:\n",
      "   1\n",
      "Frequency (samples per second):\n",
      "   48000\n",
      "Buffer Length (bytes):\n",
      "   2880000\n",
      "Original audio data shape: (1440000, 1)\n",
      "Original audio data type: int16\n",
      "Original audio data range: -1036 to 1027\n",
      "Original audio data mean: 0.04660902777777778\n",
      "Original audio data std dev: 84.36350829866926\n",
      "Sample rate: 48000 Hz\n",
      "Original duration: 30.00 seconds\n",
      "Downloading remote:/home/graham/audio/recording_20250513_054835.opus to memory\n"
     ]
    },
    {
     "name": "stderr",
     "output_type": "stream",
     "text": [
      "recording_20250513_054835.opus: 100%|##########| 463k/463k [00:00<00:00, 1.67MB/s]\n"
     ]
    },
    {
     "name": "stdout",
     "output_type": "stream",
     "text": [
      "Temp filename:  C:\\Users\\graha\\AppData\\Local\\Temp\\tmp02ajknwg.opus\n",
      "\n",
      "Read Ogg Opus file\n",
      "Channels:\n",
      "   1\n",
      "Frequency (samples per second):\n",
      "   48000\n",
      "Buffer Length (bytes):\n",
      "   2880000\n",
      "Original audio data shape: (1440000, 1)\n",
      "Original audio data type: int16\n",
      "Original audio data range: -213 to 198\n",
      "Original audio data mean: -0.03665416666666667\n",
      "Original audio data std dev: 77.93049916128871\n",
      "Sample rate: 48000 Hz\n",
      "Original duration: 30.00 seconds\n",
      "Downloading remote:/home/graham/audio/recording_20250513_054535.opus to memory\n"
     ]
    },
    {
     "name": "stderr",
     "output_type": "stream",
     "text": [
      "recording_20250513_054535.opus: 100%|##########| 464k/464k [00:00<00:00, 2.59MB/s]\n"
     ]
    },
    {
     "name": "stdout",
     "output_type": "stream",
     "text": [
      "Temp filename:  C:\\Users\\graha\\AppData\\Local\\Temp\\tmp4_dd_5mr.opus\n",
      "\n",
      "Read Ogg Opus file\n",
      "Channels:\n",
      "   1\n",
      "Frequency (samples per second):\n",
      "   48000\n",
      "Buffer Length (bytes):\n",
      "   2880000\n",
      "Original audio data shape: (1440000, 1)\n",
      "Original audio data type: int16\n",
      "Original audio data range: -358 to 227\n",
      "Original audio data mean: 0.026611805555555555\n",
      "Original audio data std dev: 78.68472959649105\n",
      "Sample rate: 48000 Hz\n",
      "Original duration: 30.00 seconds\n",
      "Best parameters found (but not perfect):\n",
      "{'amplitude_threshold': 230, 'min_event_duration': 0.05, 'merge_distance': 0.3}\n",
      "Total error: 1\n",
      "\n",
      "Events found in each file:\n",
      "recording_20250513_054004.opus: 7 events\n",
      "  (minimum required: 2)\n",
      "recording_20250513_054835.opus: 0 events\n",
      "  (minimum required: 1)\n",
      "recording_20250513_054535.opus: 0 events\n"
     ]
    },
    {
     "data": {
      "text/plain": [
       "{'amplitude_threshold': 230, 'min_event_duration': 0.05, 'merge_distance': 0.3}"
      ]
     },
     "execution_count": 3,
     "metadata": {},
     "output_type": "execute_result"
    }
   ],
   "source": [
    "import audio\n",
    "reload(audio)\n",
    "\n",
    "\n",
    "audio.train_find_audio_events_new_mic(sftp, remote_dir)"
   ]
  },
  {
   "cell_type": "code",
   "execution_count": 6,
   "metadata": {},
   "outputs": [
    {
     "data": {
      "application/vnd.jupyter.widget-view+json": {
       "model_id": "1da8e7e241d3456cb27bc852548c6683",
       "version_major": 2,
       "version_minor": 0
      },
      "text/plain": [
       "  0%|          | 0/1438 [00:00<?, ?it/s]"
      ]
     },
     "metadata": {},
     "output_type": "display_data"
    },
    {
     "ename": "KeyboardInterrupt",
     "evalue": "",
     "output_type": "error",
     "traceback": [
      "\u001b[31m---------------------------------------------------------------------------\u001b[39m",
      "\u001b[31mKeyboardInterrupt\u001b[39m                         Traceback (most recent call last)",
      "\u001b[36mCell\u001b[39m\u001b[36m \u001b[39m\u001b[32mIn[6]\u001b[39m\u001b[32m, line 16\u001b[39m\n\u001b[32m     13\u001b[39m \u001b[38;5;28mprint\u001b[39m(i)\n\u001b[32m     15\u001b[39m copied = audio.copy_audio_file(sftp, remote_dir, i)\n\u001b[32m---> \u001b[39m\u001b[32m16\u001b[39m data_array, ogg, temp_filename = \u001b[43maudio\u001b[49m\u001b[43m.\u001b[49m\u001b[43mload_audio_as_ogg\u001b[49m\u001b[43m(\u001b[49m\u001b[43mcopied\u001b[49m\u001b[43m.\u001b[49m\u001b[43mgetvalue\u001b[49m\u001b[43m(\u001b[49m\u001b[43m)\u001b[49m\u001b[43m)\u001b[49m\n\u001b[32m     17\u001b[39m events = audio.find_audio_events(data_array, ogg.frequency, i,\n\u001b[32m     18\u001b[39m                     window_size=bp[\u001b[33m'\u001b[39m\u001b[33mwindow_size\u001b[39m\u001b[33m'\u001b[39m],\n\u001b[32m     19\u001b[39m                     threshold_multiplier=bp[\u001b[33m'\u001b[39m\u001b[33mthreshold_multiplier\u001b[39m\u001b[33m'\u001b[39m],\n\u001b[32m     20\u001b[39m                     min_event_duration=bp[\u001b[33m'\u001b[39m\u001b[33mmin_event_duration\u001b[39m\u001b[33m'\u001b[39m],\n\u001b[32m     21\u001b[39m                     merge_distance=bp[\u001b[33m'\u001b[39m\u001b[33mmerge_distance\u001b[39m\u001b[33m'\u001b[39m])\n\u001b[32m     22\u001b[39m remote_path = audio.save_events_metadata(events, i, sftp, remote_dir)\n",
      "\u001b[36mFile \u001b[39m\u001b[32mc:\\dev\\Brainwave-Processor\\notebooks\\Audio\\audio.py:20\u001b[39m, in \u001b[36mload_audio_as_ogg\u001b[39m\u001b[34m(buffer)\u001b[39m\n\u001b[32m     17\u001b[39m     \u001b[38;5;28mprint\u001b[39m(\u001b[33m\"\u001b[39m\u001b[33mTemp filename: \u001b[39m\u001b[33m\"\u001b[39m, temp_filename)\n\u001b[32m     19\u001b[39m \u001b[38;5;66;03m#ogg = pyogg.OpusFile(\"C:\\\\Users\\\\graha\\\\AppData\\\\Local\\\\Temp\\\\tmpxxtfwd25.opus\")\u001b[39;00m\n\u001b[32m---> \u001b[39m\u001b[32m20\u001b[39m ogg = \u001b[43mpyogg\u001b[49m\u001b[43m.\u001b[49m\u001b[43mOpusFile\u001b[49m\u001b[43m(\u001b[49m\u001b[43mtemp_filename\u001b[49m\u001b[43m)\u001b[49m\n\u001b[32m     21\u001b[39m \u001b[38;5;66;03m#import numpy as np\u001b[39;00m\n\u001b[32m     22\u001b[39m \u001b[38;5;66;03m#data_array = np.ctypeslib.as_array(ogg.buffer, shape=(ogg.buffer_length,))\u001b[39;00m\n\u001b[32m     23\u001b[39m data_array = ogg.as_array()\n",
      "\u001b[36mFile \u001b[39m\u001b[32mc:\\dev\\brainwave-processor\\notebooks\\audio\\pyogg\\pyogg\\opus_file.py:65\u001b[39m, in \u001b[36mOpusFile.__init__\u001b[39m\u001b[34m(self, path)\u001b[39m\n\u001b[32m     59\u001b[39m ptr = ctypes.cast(\n\u001b[32m     60\u001b[39m     buf_ptr,\n\u001b[32m     61\u001b[39m     ctypes.POINTER(opus.opus_int16)\n\u001b[32m     62\u001b[39m )\n\u001b[32m     64\u001b[39m \u001b[38;5;66;03m# Read the next section of PCM\u001b[39;00m\n\u001b[32m---> \u001b[39m\u001b[32m65\u001b[39m ns = \u001b[43mopus\u001b[49m\u001b[43m.\u001b[49m\u001b[43mop_read\u001b[49m\u001b[43m(\u001b[49m\n\u001b[32m     66\u001b[39m \u001b[43m    \u001b[49m\u001b[43mof\u001b[49m\u001b[43m,\u001b[49m\n\u001b[32m     67\u001b[39m \u001b[43m    \u001b[49m\u001b[43mptr\u001b[49m\u001b[43m,\u001b[49m\n\u001b[32m     68\u001b[39m \u001b[43m    \u001b[49m\u001b[43mremaining_buffer\u001b[49m\u001b[43m,\u001b[49m\n\u001b[32m     69\u001b[39m \u001b[43m    \u001b[49m\u001b[43mogg\u001b[49m\u001b[43m.\u001b[49m\u001b[43mc_int_p\u001b[49m\u001b[43m(\u001b[49m\u001b[43m)\u001b[49m\n\u001b[32m     70\u001b[39m \u001b[43m\u001b[49m\u001b[43m)\u001b[49m\n\u001b[32m     72\u001b[39m \u001b[38;5;66;03m# Check for errors\u001b[39;00m\n\u001b[32m     73\u001b[39m \u001b[38;5;28;01mif\u001b[39;00m ns<\u001b[32m0\u001b[39m:\n",
      "\u001b[36mFile \u001b[39m\u001b[32mc:\\dev\\brainwave-processor\\notebooks\\audio\\pyogg\\pyogg\\opus.py:1191\u001b[39m, in \u001b[36mop_read\u001b[39m\u001b[34m(_of, _pcm, _buf_size, _li)\u001b[39m\n\u001b[32m   1190\u001b[39m \u001b[38;5;28;01mdef\u001b[39;00m\u001b[38;5;250m \u001b[39m\u001b[34mop_read\u001b[39m(_of, _pcm, _buf_size, _li):\n\u001b[32m-> \u001b[39m\u001b[32m1191\u001b[39m     \u001b[38;5;28;01mreturn\u001b[39;00m \u001b[43mlibopusfile\u001b[49m\u001b[43m.\u001b[49m\u001b[43mop_read\u001b[49m\u001b[43m(\u001b[49m\u001b[43m_of\u001b[49m\u001b[43m,\u001b[49m\u001b[43m \u001b[49m\u001b[43m_pcm\u001b[49m\u001b[43m,\u001b[49m\u001b[43m \u001b[49m\u001b[43m_buf_size\u001b[49m\u001b[43m,\u001b[49m\u001b[43m \u001b[49m\u001b[43m_li\u001b[49m\u001b[43m)\u001b[49m\n",
      "\u001b[31mKeyboardInterrupt\u001b[39m: "
     ]
    }
   ],
   "source": [
    "from tqdm.auto import tqdm\n",
    "import io\n",
    "import contextlib\n",
    "from notebooks.Util.DayAndNightOfFinder import day_and_night_of\n",
    "reload(audio)\n",
    "\n",
    "bp = audio.best_silence_detection_params\n",
    "\n",
    "interesting = [f for f in remote_files if day_and_night_of(f.removeprefix('recording_').removesuffix('.opus')) == '2025-05-12']\n",
    "for idx, i in tqdm(enumerate(interesting), total=len(interesting)):\n",
    "    output_buffer = io.StringIO()\n",
    "    with contextlib.redirect_stdout(output_buffer), contextlib.redirect_stderr(output_buffer):\n",
    "        print(i)\n",
    "\n",
    "        copied = audio.copy_audio_file(sftp, remote_dir, i)\n",
    "        data_array, ogg, temp_filename = audio.load_audio_as_ogg(copied.getvalue())\n",
    "        events = audio.find_audio_events(data_array, ogg.frequency, i,\n",
    "                            window_size=bp['window_size'],\n",
    "                            threshold_multiplier=bp['threshold_multiplier'],\n",
    "                            min_event_duration=bp['min_event_duration'],\n",
    "                            merge_distance=bp['merge_distance'])\n",
    "        remote_path = audio.save_events_metadata(events, i, sftp, remote_dir)\n",
    "        print(f\"Saved metadata to {remote_path}\")\n"
   ]
  }
 ],
 "metadata": {
  "kernelspec": {
   "display_name": "py3.13",
   "language": "python",
   "name": "python3"
  },
  "language_info": {
   "codemirror_mode": {
    "name": "ipython",
    "version": 3
   },
   "file_extension": ".py",
   "mimetype": "text/x-python",
   "name": "python",
   "nbconvert_exporter": "python",
   "pygments_lexer": "ipython3",
   "version": "3.13.2"
  }
 },
 "nbformat": 4,
 "nbformat_minor": 2
}
