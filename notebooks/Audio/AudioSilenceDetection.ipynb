{
 "cells": [
  {
   "cell_type": "code",
   "execution_count": 10,
   "metadata": {},
   "outputs": [],
   "source": [
    "import logging\n",
    "from datetime import datetime\n",
    "from tqdm.auto import tqdm\n",
    "\n",
    "from importlib import reload\n",
    "\n",
    "logging.basicConfig(level=logging.INFO, format='%(asctime)s - %(levelname)s - %(message)s')\n",
    "log = lambda msg: print(f\"{datetime.today()} {msg}\")\n",
    "\n",
    "import pandas as pd\n",
    "import os\n",
    "\n",
    "import sys\n",
    "root_dir = os.path.abspath(os.path.join(os.path.dirname('__file__'), '../..'))\n",
    "sys.path.append(root_dir)\n"
   ]
  },
  {
   "cell_type": "code",
   "execution_count": 2,
   "metadata": {},
   "outputs": [
    {
     "name": "stderr",
     "output_type": "stream",
     "text": [
      "2025-04-05 08:48:13,013 - INFO - Connected (version 2.0, client OpenSSH_9.6)\n",
      "2025-04-05 08:48:13,201 - INFO - Authentication (password) successful!\n",
      "2025-04-05 08:48:15,581 - INFO - [chan 1] Opened sftp connection (server version 3)\n"
     ]
    }
   ],
   "source": [
    "import paramiko\n",
    "\n",
    "hostname = os.getenv('SSH_HOST')\n",
    "username = os.getenv('SSH_USERNAME')\n",
    "password = os.getenv('SSH_PASSWORD')\n",
    "remote_dir = '/home/graham/audio'\n",
    "\n",
    "# Create an SSH client\n",
    "ssh = paramiko.SSHClient()\n",
    "ssh.set_missing_host_key_policy(paramiko.AutoAddPolicy())\n",
    "ssh.connect(hostname, username=username, password=password, compress=True)\n",
    "\n",
    "# List files in the remote directory\n",
    "stdin, stdout, stderr = ssh.exec_command(f'ls {remote_dir}')\n",
    "remote_files = [f for f in stdout.read().decode().splitlines() if f.endswith(\".opus\")]\n",
    "\n",
    "sftp = ssh.open_sftp()\n",
    "\n"
   ]
  },
  {
   "cell_type": "markdown",
   "metadata": {},
   "source": [
    "# Tests"
   ]
  },
  {
   "cell_type": "code",
   "execution_count": 13,
   "metadata": {},
   "outputs": [
    {
     "name": "stdout",
     "output_type": "stream",
     "text": [
      "Downloading remote:/home/graham/audio/recording_20250404_011856.opus to memory\n"
     ]
    },
    {
     "name": "stderr",
     "output_type": "stream",
     "text": [
      "recording_20250404_011856.opus: 100%|##########| 298k/298k [00:00<00:00, 1.60MB/s]\n"
     ]
    },
    {
     "name": "stdout",
     "output_type": "stream",
     "text": [
      "Temp filename:  C:\\Users\\graha\\AppData\\Local\\Temp\\tmpmsgqfskt.opus\n",
      "Downloading remote:/home/graham/audio/recording_20250404_013557.opus to memory\n"
     ]
    },
    {
     "name": "stderr",
     "output_type": "stream",
     "text": [
      "recording_20250404_013557.opus: 100%|##########| 300k/300k [00:00<00:00, 778kB/s] \n"
     ]
    },
    {
     "name": "stdout",
     "output_type": "stream",
     "text": [
      "Temp filename:  C:\\Users\\graha\\AppData\\Local\\Temp\\tmpcliy0pgi.opus\n",
      "Downloading remote:/home/graham/audio/recording_20250404_011125.opus to memory\n"
     ]
    },
    {
     "name": "stderr",
     "output_type": "stream",
     "text": [
      "recording_20250404_011125.opus: 100%|##########| 299k/299k [00:00<00:00, 1.04MB/s]\n"
     ]
    },
    {
     "name": "stdout",
     "output_type": "stream",
     "text": [
      "Temp filename:  C:\\Users\\graha\\AppData\\Local\\Temp\\tmpm98inubw.opus\n",
      "Downloading remote:/home/graham/audio/recording_20250403_212804.opus to memory\n"
     ]
    },
    {
     "name": "stderr",
     "output_type": "stream",
     "text": [
      "recording_20250403_212804.opus: 100%|##########| 307k/307k [00:00<00:00, 1.53MB/s]\n"
     ]
    },
    {
     "name": "stdout",
     "output_type": "stream",
     "text": [
      "Temp filename:  C:\\Users\\graha\\AppData\\Local\\Temp\\tmplro6jwjy.opus\n",
      "Downloading remote:/home/graham/audio/recording_20250403_212734.opus to memory\n"
     ]
    },
    {
     "name": "stderr",
     "output_type": "stream",
     "text": [
      "recording_20250403_212734.opus: 100%|##########| 305k/305k [00:00<00:00, 1.25MB/s]\n"
     ]
    },
    {
     "name": "stdout",
     "output_type": "stream",
     "text": [
      "Temp filename:  C:\\Users\\graha\\AppData\\Local\\Temp\\tmp3ic83aaw.opus\n",
      "Downloading remote:/home/graham/audio/recording_20250405_010934.opus to memory\n"
     ]
    },
    {
     "name": "stderr",
     "output_type": "stream",
     "text": [
      "recording_20250405_010934.opus: 100%|##########| 299k/299k [00:00<00:00, 1.24MB/s]\n"
     ]
    },
    {
     "name": "stdout",
     "output_type": "stream",
     "text": [
      "Temp filename:  C:\\Users\\graha\\AppData\\Local\\Temp\\tmp_72266_0.opus\n",
      "Downloading remote:/home/graham/audio/recording_20250405_011034.opus to memory\n"
     ]
    },
    {
     "name": "stderr",
     "output_type": "stream",
     "text": [
      "recording_20250405_011034.opus: 100%|##########| 299k/299k [00:00<00:00, 1.30MB/s]\n"
     ]
    },
    {
     "name": "stdout",
     "output_type": "stream",
     "text": [
      "Temp filename:  C:\\Users\\graha\\AppData\\Local\\Temp\\tmp58d1ey_r.opus\n",
      "Found perfect parameters!\n",
      "{'window_size': 2048, 'threshold_multiplier': 1.5, 'min_event_duration': 0.2, 'merge_distance': 0.3}\n",
      "\n",
      "Events found in each file:\n",
      "recording_20250404_011856.opus: 0 events\n",
      "recording_20250404_013557.opus: 0 events\n",
      "recording_20250404_011125.opus: 0 events\n",
      "recording_20250403_212804.opus: 12 events\n",
      "  (minimum required: 10)\n",
      "recording_20250403_212734.opus: 9 events\n",
      "  (minimum required: 8)\n",
      "recording_20250405_010934.opus: 0 events\n",
      "recording_20250405_011034.opus: 1 events\n",
      "  (minimum required: 1)\n"
     ]
    },
    {
     "data": {
      "text/plain": [
       "{'window_size': 2048,\n",
       " 'threshold_multiplier': 1.5,\n",
       " 'min_event_duration': 0.2,\n",
       " 'merge_distance': 0.3}"
      ]
     },
     "execution_count": 13,
     "metadata": {},
     "output_type": "execute_result"
    }
   ],
   "source": [
    "import audio\n",
    "reload(audio)\n",
    "\n",
    "\n",
    "audio.train_find_audio_events(sftp, remote_dir)"
   ]
  },
  {
   "cell_type": "code",
   "execution_count": null,
   "metadata": {},
   "outputs": [
    {
     "data": {
      "application/vnd.jupyter.widget-view+json": {
       "model_id": "75531c15673843b8a5d9435e4cd7e09f",
       "version_major": 2,
       "version_minor": 0
      },
      "text/plain": [
       "  0%|          | 0/1414 [00:00<?, ?it/s]"
      ]
     },
     "metadata": {},
     "output_type": "display_data"
    },
    {
     "name": "stderr",
     "output_type": "stream",
     "text": [
      "2025-04-05 10:39:01,378 - ERROR - Socket exception: An existing connection was forcibly closed by the remote host (10054)\n"
     ]
    }
   ],
   "source": [
    "from tqdm.auto import tqdm\n",
    "import io\n",
    "import contextlib\n",
    "from notebooks.Util.DayAndNightOfFinder import day_and_night_of\n",
    "reload(audio)\n",
    "\n",
    "bp = audio.best_silence_detection_params\n",
    "\n",
    "interesting = [f for f in remote_files if day_and_night_of(f.removeprefix('recording_').removesuffix('.opus')) == '2025-04-04']\n",
    "for idx, i in tqdm(enumerate(interesting), total=len(interesting)):\n",
    "    output_buffer = io.StringIO()\n",
    "    with contextlib.redirect_stdout(output_buffer), contextlib.redirect_stderr(output_buffer):\n",
    "        print(i)\n",
    "\n",
    "        copied = audio.copy_audio_file(sftp, remote_dir, i)\n",
    "        data_array, ogg, temp_filename = audio.load_audio_as_ogg(copied.getvalue())\n",
    "        events = audio.find_audio_events(data_array, ogg.frequency, i,\n",
    "                            window_size=bp['window_size'],\n",
    "                            threshold_multiplier=bp['threshold_multiplier'],\n",
    "                            min_event_duration=bp['min_event_duration'],\n",
    "                            merge_distance=bp['merge_distance'])\n",
    "        remote_path = audio.save_events_metadata(events, i, sftp, remote_dir)\n",
    "        print(f\"Saved metadata to {remote_path}\")\n"
   ]
  }
 ],
 "metadata": {
  "kernelspec": {
   "display_name": "3.10-tf",
   "language": "python",
   "name": "python3"
  },
  "language_info": {
   "codemirror_mode": {
    "name": "ipython",
    "version": 3
   },
   "file_extension": ".py",
   "mimetype": "text/x-python",
   "name": "python",
   "nbconvert_exporter": "python",
   "pygments_lexer": "ipython3",
   "version": "3.10.16"
  }
 },
 "nbformat": 4,
 "nbformat_minor": 2
}
