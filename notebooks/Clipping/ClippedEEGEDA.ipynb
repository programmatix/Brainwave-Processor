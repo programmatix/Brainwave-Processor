{
 "cells": [
  {
   "metadata": {
    "ExecuteTime": {
     "end_time": "2025-01-01T15:03:39.898047Z",
     "start_time": "2025-01-01T15:03:39.883980Z"
    }
   },
   "cell_type": "code",
   "source": [
    "import logging\n",
    "import numpy as np\n",
    "import pandas as pd\n",
    "\n",
    "from memory import garbage_collect\n",
    "\n",
    "log = lambda msg: logging.info(msg)\n"
   ],
   "id": "e7b3ecab1d3c58ab",
   "outputs": [],
   "execution_count": 1
  },
  {
   "metadata": {},
   "cell_type": "markdown",
   "source": "# Load data",
   "id": "4ea06b488bd85917"
  },
  {
   "metadata": {
    "ExecuteTime": {
     "end_time": "2025-01-01T15:03:39.914119Z",
     "start_time": "2025-01-01T15:03:39.909114Z"
    }
   },
   "cell_type": "code",
   "source": "input_dir = \"C:\\\\dev\\\\play\\\\brainwave-data\"\n",
   "id": "4f67469e437f3c26",
   "outputs": [],
   "execution_count": 2
  },
  {
   "metadata": {
    "ExecuteTime": {
     "end_time": "2025-01-01T15:04:10.854335Z",
     "start_time": "2025-01-01T15:03:39.930704Z"
    }
   },
   "cell_type": "code",
   "source": [
    "import stitch_pipeline_results\n",
    "from importlib import reload\n",
    "reload(stitch_pipeline_results)\n",
    "\n",
    "df_orig = stitch_pipeline_results.stitch_all_days_optimised(input_dir, include_microwakings=False)\n",
    "df = df_orig.copy()"
   ],
   "id": "1ddfe61246ca65fc",
   "outputs": [
    {
     "data": {
      "text/plain": [
       "  0%|          | 0/119 [00:00<?, ?it/s]"
      ],
      "application/vnd.jupyter.widget-view+json": {
       "version_major": 2,
       "version_minor": 0,
       "model_id": "106ed2650cf24c109bd6c8a8afbb43f5"
      }
     },
     "metadata": {},
     "output_type": "display_data"
    },
    {
     "name": "stderr",
     "output_type": "stream",
     "text": [
      "C:\\dev\\play\\brainwave-processor\\stitch_pipeline_results.py:158: FutureWarning: The behavior of DataFrame concatenation with empty or all-NA entries is deprecated. In a future version, this will no longer exclude empty or all-NA columns when determining the result dtypes. To retain the old behavior, exclude the relevant entries before the concat operation.\n",
      "  return post_stitch(pd.concat(all_dfs), should_remove_days_per_questionnaire)\n",
      "C:\\dev\\play\\brainwave-processor\\stitch_pipeline_results.py:52: FutureWarning: Setting an item of incompatible dtype is deprecated and will raise an error in a future version of pandas. Value '[ 190.5  190.   189.5 ... -425.  -425.5 -426. ]' has dtype incompatible with int64, please explicitly cast to a compatible dtype first.\n",
      "  df.loc[group.index, 'SSMinsUntilLongWake'] = (df.loc[first_long_wake_idx, 'Timestamp'] - df.loc[group.index, 'Timestamp']).dt.total_seconds() / 60\n"
     ]
    }
   ],
   "execution_count": 3
  },
  {
   "metadata": {
    "ExecuteTime": {
     "end_time": "2025-01-01T14:47:12.271528Z",
     "start_time": "2025-01-01T14:47:12.255934Z"
    }
   },
   "cell_type": "code",
   "source": "df['Main_eeg_std'].describe(percentiles=[0.9, 0.95, 0.99, 0.999])",
   "id": "3628db270de1621d",
   "outputs": [
    {
     "data": {
      "text/plain": [
       "count    93471.000000\n",
       "mean         0.000135\n",
       "std          0.001422\n",
       "min          0.000000\n",
       "50%          0.000021\n",
       "90%          0.000101\n",
       "95%          0.000274\n",
       "99%          0.001044\n",
       "99.9%        0.022780\n",
       "max          0.087295\n",
       "Name: Main_eeg_std, dtype: float64"
      ]
     },
     "execution_count": 9,
     "metadata": {},
     "output_type": "execute_result"
    }
   ],
   "execution_count": 9
  },
  {
   "metadata": {
    "ExecuteTime": {
     "end_time": "2025-01-01T15:19:26.191936Z",
     "start_time": "2025-01-01T15:19:25.873209Z"
    }
   },
   "cell_type": "code",
   "source": [
    "eeg_only = [col for col in df.columns if \"_eeg_\" in col]\n",
    "df_eeg = df_orig.copy()[eeg_only]"
   ],
   "id": "9101f6f51ff262bc",
   "outputs": [],
   "execution_count": 50
  },
  {
   "metadata": {
    "ExecuteTime": {
     "end_time": "2025-01-01T15:14:27.053034Z",
     "start_time": "2025-01-01T15:14:25.432168Z"
    }
   },
   "cell_type": "code",
   "source": "df_eeg.describe()",
   "id": "ce852264a047cf8b",
   "outputs": [
    {
     "name": "stderr",
     "output_type": "stream",
     "text": [
      "C:\\Users\\graha\\.conda\\envs\\tf\\lib\\site-packages\\numpy\\core\\_methods.py:49: RuntimeWarning: invalid value encountered in reduce\n",
      "  return umr_sum(a, axis, dtype, out, keepdims, initial, where)\n",
      "C:\\Users\\graha\\.conda\\envs\\tf\\lib\\site-packages\\numpy\\lib\\function_base.py:4655: RuntimeWarning: invalid value encountered in subtract\n",
      "  diff_b_a = subtract(b, a)\n"
     ]
    },
    {
     "data": {
      "text/plain": [
       "       Main_eeg_abspow  Main_eeg_abspow_c7min_norm  \\\n",
       "count     9.347100e+04                93471.000000   \n",
       "mean      3.978953e-10                    0.086126   \n",
       "std       4.568750e-10                    0.189781   \n",
       "min       0.000000e+00                   -0.224198   \n",
       "25%       6.796731e-11                   -0.046838   \n",
       "50%       1.552399e-10                    0.000019   \n",
       "75%       6.115834e-10                    0.168832   \n",
       "max       1.427008e-09                    0.492338   \n",
       "\n",
       "       Main_eeg_abspow_p2min_norm  Main_eeg_alpha  Main_eeg_alpha_c7min_norm  \\\n",
       "count                93471.000000    93438.000000               93452.000000   \n",
       "mean                     0.102459        0.054025                  -0.029644   \n",
       "std                      0.206415        0.038861                   0.339305   \n",
       "min                     -0.208810        0.000007                  -0.733886   \n",
       "25%                     -0.040798        0.018461                  -0.325319   \n",
       "50%                      0.000057        0.049287                  -0.000840   \n",
       "75%                      0.196588        0.081259                   0.215003   \n",
       "max                      0.552666        0.175455                   1.025485   \n",
       "\n",
       "       Main_eeg_alpha_p2min_norm  Main_eeg_alphaaa  \\\n",
       "count               93441.000000      93438.000000   \n",
       "mean                   -0.003988          0.109841   \n",
       "std                     0.338317          0.080802   \n",
       "min                    -0.724918          0.000013   \n",
       "25%                    -0.294078          0.038928   \n",
       "50%                    -0.000771          0.098171   \n",
       "75%                     0.239261          0.162335   \n",
       "max                     1.039269          0.347446   \n",
       "\n",
       "       Main_eeg_alphaaa_c7min_norm  Main_eeg_alphaaa_p2min_norm  \\\n",
       "count                 93452.000000                 93441.000000   \n",
       "mean                     -0.020327                     0.002492   \n",
       "std                       0.332533                     0.334008   \n",
       "min                      -0.784459                    -0.724422   \n",
       "25%                      -0.287881                    -0.271828   \n",
       "50%                      -0.000901                    -0.000707   \n",
       "75%                       0.223104                     0.242364   \n",
       "max                       0.989581                     1.013651   \n",
       "\n",
       "       Main_eeg_alphaab  ...  Main_eeg_thetaab_p2min_norm_s  \\\n",
       "count      93438.000000  ...                   93441.000000   \n",
       "mean           0.944530  ...                       0.499087   \n",
       "std            0.057503  ...                       0.393488   \n",
       "min            0.796875  ...                      -0.666881   \n",
       "25%            0.908329  ...                       0.215395   \n",
       "50%            0.945929  ...                       0.496424   \n",
       "75%            0.982632  ...                       0.803579   \n",
       "max            1.094086  ...                       1.685855   \n",
       "\n",
       "       Main_eeg_thetaabs_s  Main_eeg_thetaabs_c7min_norm_s  \\\n",
       "count         93471.000000                    93471.000000   \n",
       "mean              0.146019                        0.196777   \n",
       "std               0.164640                        0.220476   \n",
       "min              -0.242606                       -0.288394   \n",
       "25%               0.024418                        0.054919   \n",
       "50%               0.078961                        0.105386   \n",
       "75%               0.202434                        0.283795   \n",
       "max               0.469459                        0.627108   \n",
       "\n",
       "       Main_eeg_thetaabs_p2min_norm_s  Main_eeg_thetaabsaa_s  \\\n",
       "count                    93471.000000           93471.000000   \n",
       "mean                         0.201012               0.166369   \n",
       "std                          0.223401               0.180031   \n",
       "min                         -0.294233              -0.259735   \n",
       "25%                          0.054170               0.035093   \n",
       "50%                          0.112658               0.097844   \n",
       "75%                          0.286439               0.231645   \n",
       "max                          0.634843               0.526473   \n",
       "\n",
       "       Main_eeg_thetaabsaa_c7min_norm_s  Main_eeg_thetaabsaa_p2min_norm_s  \\\n",
       "count                      93471.000000                      93471.000000   \n",
       "mean                           0.196124                          0.209214   \n",
       "std                            0.197051                          0.212211   \n",
       "min                           -0.231506                         -0.259311   \n",
       "25%                            0.069882                          0.070101   \n",
       "50%                            0.123180                          0.132631   \n",
       "75%                            0.270807                          0.289708   \n",
       "max                            0.572194                          0.619119   \n",
       "\n",
       "       Main_eeg_thetaabsab_s  Main_eeg_thetaabsab_c7min_norm_s  \\\n",
       "count           93471.000000                      93471.000000   \n",
       "mean                0.263325                          0.277523   \n",
       "std                 0.343887                          0.321422   \n",
       "min                -0.040733                         -0.232208   \n",
       "25%                 0.015269                          0.051796   \n",
       "50%                 0.079281                          0.130112   \n",
       "75%                 0.425693                          0.418691   \n",
       "max                 1.041329                          0.969034   \n",
       "\n",
       "       Main_eeg_thetaabsab_p2min_norm_s  \n",
       "count                      93471.000000  \n",
       "mean                           0.285396  \n",
       "std                            0.346373  \n",
       "min                           -0.221521  \n",
       "25%                            0.045324  \n",
       "50%                            0.112823  \n",
       "75%                            0.446949  \n",
       "max                            1.049386  \n",
       "\n",
       "[8 rows x 282 columns]"
      ],
      "text/html": [
       "<div>\n",
       "<style scoped>\n",
       "    .dataframe tbody tr th:only-of-type {\n",
       "        vertical-align: middle;\n",
       "    }\n",
       "\n",
       "    .dataframe tbody tr th {\n",
       "        vertical-align: top;\n",
       "    }\n",
       "\n",
       "    .dataframe thead th {\n",
       "        text-align: right;\n",
       "    }\n",
       "</style>\n",
       "<table border=\"1\" class=\"dataframe\">\n",
       "  <thead>\n",
       "    <tr style=\"text-align: right;\">\n",
       "      <th></th>\n",
       "      <th>Main_eeg_abspow</th>\n",
       "      <th>Main_eeg_abspow_c7min_norm</th>\n",
       "      <th>Main_eeg_abspow_p2min_norm</th>\n",
       "      <th>Main_eeg_alpha</th>\n",
       "      <th>Main_eeg_alpha_c7min_norm</th>\n",
       "      <th>Main_eeg_alpha_p2min_norm</th>\n",
       "      <th>Main_eeg_alphaaa</th>\n",
       "      <th>Main_eeg_alphaaa_c7min_norm</th>\n",
       "      <th>Main_eeg_alphaaa_p2min_norm</th>\n",
       "      <th>Main_eeg_alphaab</th>\n",
       "      <th>...</th>\n",
       "      <th>Main_eeg_thetaab_p2min_norm_s</th>\n",
       "      <th>Main_eeg_thetaabs_s</th>\n",
       "      <th>Main_eeg_thetaabs_c7min_norm_s</th>\n",
       "      <th>Main_eeg_thetaabs_p2min_norm_s</th>\n",
       "      <th>Main_eeg_thetaabsaa_s</th>\n",
       "      <th>Main_eeg_thetaabsaa_c7min_norm_s</th>\n",
       "      <th>Main_eeg_thetaabsaa_p2min_norm_s</th>\n",
       "      <th>Main_eeg_thetaabsab_s</th>\n",
       "      <th>Main_eeg_thetaabsab_c7min_norm_s</th>\n",
       "      <th>Main_eeg_thetaabsab_p2min_norm_s</th>\n",
       "    </tr>\n",
       "  </thead>\n",
       "  <tbody>\n",
       "    <tr>\n",
       "      <th>count</th>\n",
       "      <td>9.347100e+04</td>\n",
       "      <td>93471.000000</td>\n",
       "      <td>93471.000000</td>\n",
       "      <td>93438.000000</td>\n",
       "      <td>93452.000000</td>\n",
       "      <td>93441.000000</td>\n",
       "      <td>93438.000000</td>\n",
       "      <td>93452.000000</td>\n",
       "      <td>93441.000000</td>\n",
       "      <td>93438.000000</td>\n",
       "      <td>...</td>\n",
       "      <td>93441.000000</td>\n",
       "      <td>93471.000000</td>\n",
       "      <td>93471.000000</td>\n",
       "      <td>93471.000000</td>\n",
       "      <td>93471.000000</td>\n",
       "      <td>93471.000000</td>\n",
       "      <td>93471.000000</td>\n",
       "      <td>93471.000000</td>\n",
       "      <td>93471.000000</td>\n",
       "      <td>93471.000000</td>\n",
       "    </tr>\n",
       "    <tr>\n",
       "      <th>mean</th>\n",
       "      <td>3.978953e-10</td>\n",
       "      <td>0.086126</td>\n",
       "      <td>0.102459</td>\n",
       "      <td>0.054025</td>\n",
       "      <td>-0.029644</td>\n",
       "      <td>-0.003988</td>\n",
       "      <td>0.109841</td>\n",
       "      <td>-0.020327</td>\n",
       "      <td>0.002492</td>\n",
       "      <td>0.944530</td>\n",
       "      <td>...</td>\n",
       "      <td>0.499087</td>\n",
       "      <td>0.146019</td>\n",
       "      <td>0.196777</td>\n",
       "      <td>0.201012</td>\n",
       "      <td>0.166369</td>\n",
       "      <td>0.196124</td>\n",
       "      <td>0.209214</td>\n",
       "      <td>0.263325</td>\n",
       "      <td>0.277523</td>\n",
       "      <td>0.285396</td>\n",
       "    </tr>\n",
       "    <tr>\n",
       "      <th>std</th>\n",
       "      <td>4.568750e-10</td>\n",
       "      <td>0.189781</td>\n",
       "      <td>0.206415</td>\n",
       "      <td>0.038861</td>\n",
       "      <td>0.339305</td>\n",
       "      <td>0.338317</td>\n",
       "      <td>0.080802</td>\n",
       "      <td>0.332533</td>\n",
       "      <td>0.334008</td>\n",
       "      <td>0.057503</td>\n",
       "      <td>...</td>\n",
       "      <td>0.393488</td>\n",
       "      <td>0.164640</td>\n",
       "      <td>0.220476</td>\n",
       "      <td>0.223401</td>\n",
       "      <td>0.180031</td>\n",
       "      <td>0.197051</td>\n",
       "      <td>0.212211</td>\n",
       "      <td>0.343887</td>\n",
       "      <td>0.321422</td>\n",
       "      <td>0.346373</td>\n",
       "    </tr>\n",
       "    <tr>\n",
       "      <th>min</th>\n",
       "      <td>0.000000e+00</td>\n",
       "      <td>-0.224198</td>\n",
       "      <td>-0.208810</td>\n",
       "      <td>0.000007</td>\n",
       "      <td>-0.733886</td>\n",
       "      <td>-0.724918</td>\n",
       "      <td>0.000013</td>\n",
       "      <td>-0.784459</td>\n",
       "      <td>-0.724422</td>\n",
       "      <td>0.796875</td>\n",
       "      <td>...</td>\n",
       "      <td>-0.666881</td>\n",
       "      <td>-0.242606</td>\n",
       "      <td>-0.288394</td>\n",
       "      <td>-0.294233</td>\n",
       "      <td>-0.259735</td>\n",
       "      <td>-0.231506</td>\n",
       "      <td>-0.259311</td>\n",
       "      <td>-0.040733</td>\n",
       "      <td>-0.232208</td>\n",
       "      <td>-0.221521</td>\n",
       "    </tr>\n",
       "    <tr>\n",
       "      <th>25%</th>\n",
       "      <td>6.796731e-11</td>\n",
       "      <td>-0.046838</td>\n",
       "      <td>-0.040798</td>\n",
       "      <td>0.018461</td>\n",
       "      <td>-0.325319</td>\n",
       "      <td>-0.294078</td>\n",
       "      <td>0.038928</td>\n",
       "      <td>-0.287881</td>\n",
       "      <td>-0.271828</td>\n",
       "      <td>0.908329</td>\n",
       "      <td>...</td>\n",
       "      <td>0.215395</td>\n",
       "      <td>0.024418</td>\n",
       "      <td>0.054919</td>\n",
       "      <td>0.054170</td>\n",
       "      <td>0.035093</td>\n",
       "      <td>0.069882</td>\n",
       "      <td>0.070101</td>\n",
       "      <td>0.015269</td>\n",
       "      <td>0.051796</td>\n",
       "      <td>0.045324</td>\n",
       "    </tr>\n",
       "    <tr>\n",
       "      <th>50%</th>\n",
       "      <td>1.552399e-10</td>\n",
       "      <td>0.000019</td>\n",
       "      <td>0.000057</td>\n",
       "      <td>0.049287</td>\n",
       "      <td>-0.000840</td>\n",
       "      <td>-0.000771</td>\n",
       "      <td>0.098171</td>\n",
       "      <td>-0.000901</td>\n",
       "      <td>-0.000707</td>\n",
       "      <td>0.945929</td>\n",
       "      <td>...</td>\n",
       "      <td>0.496424</td>\n",
       "      <td>0.078961</td>\n",
       "      <td>0.105386</td>\n",
       "      <td>0.112658</td>\n",
       "      <td>0.097844</td>\n",
       "      <td>0.123180</td>\n",
       "      <td>0.132631</td>\n",
       "      <td>0.079281</td>\n",
       "      <td>0.130112</td>\n",
       "      <td>0.112823</td>\n",
       "    </tr>\n",
       "    <tr>\n",
       "      <th>75%</th>\n",
       "      <td>6.115834e-10</td>\n",
       "      <td>0.168832</td>\n",
       "      <td>0.196588</td>\n",
       "      <td>0.081259</td>\n",
       "      <td>0.215003</td>\n",
       "      <td>0.239261</td>\n",
       "      <td>0.162335</td>\n",
       "      <td>0.223104</td>\n",
       "      <td>0.242364</td>\n",
       "      <td>0.982632</td>\n",
       "      <td>...</td>\n",
       "      <td>0.803579</td>\n",
       "      <td>0.202434</td>\n",
       "      <td>0.283795</td>\n",
       "      <td>0.286439</td>\n",
       "      <td>0.231645</td>\n",
       "      <td>0.270807</td>\n",
       "      <td>0.289708</td>\n",
       "      <td>0.425693</td>\n",
       "      <td>0.418691</td>\n",
       "      <td>0.446949</td>\n",
       "    </tr>\n",
       "    <tr>\n",
       "      <th>max</th>\n",
       "      <td>1.427008e-09</td>\n",
       "      <td>0.492338</td>\n",
       "      <td>0.552666</td>\n",
       "      <td>0.175455</td>\n",
       "      <td>1.025485</td>\n",
       "      <td>1.039269</td>\n",
       "      <td>0.347446</td>\n",
       "      <td>0.989581</td>\n",
       "      <td>1.013651</td>\n",
       "      <td>1.094086</td>\n",
       "      <td>...</td>\n",
       "      <td>1.685855</td>\n",
       "      <td>0.469459</td>\n",
       "      <td>0.627108</td>\n",
       "      <td>0.634843</td>\n",
       "      <td>0.526473</td>\n",
       "      <td>0.572194</td>\n",
       "      <td>0.619119</td>\n",
       "      <td>1.041329</td>\n",
       "      <td>0.969034</td>\n",
       "      <td>1.049386</td>\n",
       "    </tr>\n",
       "  </tbody>\n",
       "</table>\n",
       "<p>8 rows × 282 columns</p>\n",
       "</div>"
      ]
     },
     "execution_count": 34,
     "metadata": {},
     "output_type": "execute_result"
    }
   ],
   "execution_count": 34
  },
  {
   "metadata": {},
   "cell_type": "markdown",
   "source": "",
   "id": "9796300f57be825c"
  },
  {
   "metadata": {
    "ExecuteTime": {
     "end_time": "2025-01-01T15:39:33.329535Z",
     "start_time": "2025-01-01T15:39:30.475070Z"
    }
   },
   "cell_type": "code",
   "source": [
    "def clip_outliers_iqr(df, lower_percentile=0.001, upper_percentile=0.999, multiplier=0):\n",
    "    clipped_counts = {}\n",
    "    for column in df.columns:\n",
    "        # if not column == 'Main_eeg_at':\n",
    "        #     continue\n",
    "        col = df[column]\n",
    "        Q1 = col.quantile(lower_percentile)\n",
    "        Q3 = col.quantile(upper_percentile)\n",
    "        IQR = Q3 - Q1\n",
    "        extra = multiplier * IQR\n",
    "        lower_bound = Q1 - extra\n",
    "        upper_bound = Q3 + extra\n",
    "        lower_clipped = (col < lower_bound).sum()\n",
    "        upper_clipped = (col > upper_bound).sum()\n",
    "        col_clipped = col.clip(lower=lower_bound, upper=upper_bound)\n",
    "\n",
    "        z_scores = (col - col.mean()) / col.std()\n",
    "        z_scores_clipped = (col_clipped - col_clipped.mean()) / col_clipped.std()\n",
    "\n",
    "        clipped_counts[column] = {\n",
    "            'feature': column,\n",
    "            'zscore > 2': (z_scores > 2).sum(),\n",
    "            'zscore > 3': (z_scores > 3).sum(),\n",
    "            'zscore > 4': (z_scores > 4).sum(),\n",
    "            'zscore_clip > 2': (z_scores_clipped > 2).sum(),\n",
    "            'zscore_clip > 3': (z_scores_clipped > 3).sum(),\n",
    "            'zscore_clip > 4': (z_scores_clipped > 4).sum(),\n",
    "            'lower_clipped': lower_clipped,\n",
    "            'upper_clipped': upper_clipped,\n",
    "            'total_clipped': lower_clipped + upper_clipped\n",
    "        }\n",
    "        df[column] = col_clipped\n",
    "\n",
    "    return df, pd.DataFrame(clipped_counts).T\n",
    "\n",
    "# Example usage\n",
    "# df_clipped, clipped_summary = clip_outliers_iqr(df_eeg.copy(), 0.25, 0.75, 4)\n",
    "df_clipped, clipped_summary = clip_outliers_iqr(df_eeg.copy(), 0.01, 0.99, 0)\n",
    "clipped_summary"
   ],
   "id": "7f7f2d63a5de7202",
   "outputs": [
    {
     "name": "stderr",
     "output_type": "stream",
     "text": [
      "C:\\Users\\graha\\.conda\\envs\\tf\\lib\\site-packages\\numpy\\lib\\function_base.py:4655: RuntimeWarning: invalid value encountered in subtract\n",
      "  diff_b_a = subtract(b, a)\n",
      "C:\\Users\\graha\\.conda\\envs\\tf\\lib\\site-packages\\numpy\\lib\\function_base.py:4655: RuntimeWarning: invalid value encountered in subtract\n",
      "  diff_b_a = subtract(b, a)\n",
      "C:\\Users\\graha\\.conda\\envs\\tf\\lib\\site-packages\\numpy\\core\\_methods.py:49: RuntimeWarning: invalid value encountered in reduce\n",
      "  return umr_sum(a, axis, dtype, out, keepdims, initial, where)\n"
     ]
    },
    {
     "data": {
      "text/plain": [
       "                                                           feature zscore > 2  \\\n",
       "Main_eeg_abspow                                    Main_eeg_abspow         64   \n",
       "Main_eeg_abspow_c7min_norm              Main_eeg_abspow_c7min_norm        260   \n",
       "Main_eeg_abspow_p2min_norm              Main_eeg_abspow_p2min_norm        105   \n",
       "Main_eeg_alpha                                      Main_eeg_alpha       2585   \n",
       "Main_eeg_alpha_c7min_norm                Main_eeg_alpha_c7min_norm       1726   \n",
       "...                                                            ...        ...   \n",
       "Main_eeg_thetaabsaa_c7min_norm_s  Main_eeg_thetaabsaa_c7min_norm_s        377   \n",
       "Main_eeg_thetaabsaa_p2min_norm_s  Main_eeg_thetaabsaa_p2min_norm_s        191   \n",
       "Main_eeg_thetaabsab_s                        Main_eeg_thetaabsab_s         64   \n",
       "Main_eeg_thetaabsab_c7min_norm_s  Main_eeg_thetaabsab_c7min_norm_s        264   \n",
       "Main_eeg_thetaabsab_p2min_norm_s  Main_eeg_thetaabsab_p2min_norm_s        107   \n",
       "\n",
       "                                 zscore > 3 zscore > 4 zscore_clip > 2  \\\n",
       "Main_eeg_abspow                          60         57            2673   \n",
       "Main_eeg_abspow_c7min_norm              190        160            1209   \n",
       "Main_eeg_abspow_p2min_norm               81         62            2238   \n",
       "Main_eeg_alpha                          863        453            3271   \n",
       "Main_eeg_alpha_c7min_norm               312         85            1905   \n",
       "...                                     ...        ...             ...   \n",
       "Main_eeg_thetaabsaa_c7min_norm_s        316        278            1149   \n",
       "Main_eeg_thetaabsaa_p2min_norm_s        171        157            3180   \n",
       "Main_eeg_thetaabsab_s                    59         56            2760   \n",
       "Main_eeg_thetaabsab_c7min_norm_s        198        162            1264   \n",
       "Main_eeg_thetaabsab_p2min_norm_s         84         69            2264   \n",
       "\n",
       "                                 zscore_clip > 3 zscore_clip > 4  \\\n",
       "Main_eeg_abspow                             2280            1528   \n",
       "Main_eeg_abspow_c7min_norm                  1112            1070   \n",
       "Main_eeg_abspow_p2min_norm                  1716            1388   \n",
       "Main_eeg_alpha                              1004               0   \n",
       "Main_eeg_alpha_c7min_norm                      0               0   \n",
       "...                                          ...             ...   \n",
       "Main_eeg_thetaabsaa_c7min_norm_s            1073            1033   \n",
       "Main_eeg_thetaabsaa_p2min_norm_s            1996            1465   \n",
       "Main_eeg_thetaabsab_s                       1774            1455   \n",
       "Main_eeg_thetaabsab_c7min_norm_s            1123            1071   \n",
       "Main_eeg_thetaabsab_p2min_norm_s            1671            1410   \n",
       "\n",
       "                                 lower_clipped upper_clipped total_clipped  \n",
       "Main_eeg_abspow                            935           935          1870  \n",
       "Main_eeg_abspow_c7min_norm                 935           935          1870  \n",
       "Main_eeg_abspow_p2min_norm                 935           935          1870  \n",
       "Main_eeg_alpha                             935           935          1870  \n",
       "Main_eeg_alpha_c7min_norm                  935           935          1870  \n",
       "...                                        ...           ...           ...  \n",
       "Main_eeg_thetaabsaa_c7min_norm_s           935           935          1870  \n",
       "Main_eeg_thetaabsaa_p2min_norm_s           935           935          1870  \n",
       "Main_eeg_thetaabsab_s                      935           935          1870  \n",
       "Main_eeg_thetaabsab_c7min_norm_s           935           935          1870  \n",
       "Main_eeg_thetaabsab_p2min_norm_s           935           935          1870  \n",
       "\n",
       "[282 rows x 10 columns]"
      ],
      "text/html": [
       "<div>\n",
       "<style scoped>\n",
       "    .dataframe tbody tr th:only-of-type {\n",
       "        vertical-align: middle;\n",
       "    }\n",
       "\n",
       "    .dataframe tbody tr th {\n",
       "        vertical-align: top;\n",
       "    }\n",
       "\n",
       "    .dataframe thead th {\n",
       "        text-align: right;\n",
       "    }\n",
       "</style>\n",
       "<table border=\"1\" class=\"dataframe\">\n",
       "  <thead>\n",
       "    <tr style=\"text-align: right;\">\n",
       "      <th></th>\n",
       "      <th>feature</th>\n",
       "      <th>zscore &gt; 2</th>\n",
       "      <th>zscore &gt; 3</th>\n",
       "      <th>zscore &gt; 4</th>\n",
       "      <th>zscore_clip &gt; 2</th>\n",
       "      <th>zscore_clip &gt; 3</th>\n",
       "      <th>zscore_clip &gt; 4</th>\n",
       "      <th>lower_clipped</th>\n",
       "      <th>upper_clipped</th>\n",
       "      <th>total_clipped</th>\n",
       "    </tr>\n",
       "  </thead>\n",
       "  <tbody>\n",
       "    <tr>\n",
       "      <th>Main_eeg_abspow</th>\n",
       "      <td>Main_eeg_abspow</td>\n",
       "      <td>64</td>\n",
       "      <td>60</td>\n",
       "      <td>57</td>\n",
       "      <td>2673</td>\n",
       "      <td>2280</td>\n",
       "      <td>1528</td>\n",
       "      <td>935</td>\n",
       "      <td>935</td>\n",
       "      <td>1870</td>\n",
       "    </tr>\n",
       "    <tr>\n",
       "      <th>Main_eeg_abspow_c7min_norm</th>\n",
       "      <td>Main_eeg_abspow_c7min_norm</td>\n",
       "      <td>260</td>\n",
       "      <td>190</td>\n",
       "      <td>160</td>\n",
       "      <td>1209</td>\n",
       "      <td>1112</td>\n",
       "      <td>1070</td>\n",
       "      <td>935</td>\n",
       "      <td>935</td>\n",
       "      <td>1870</td>\n",
       "    </tr>\n",
       "    <tr>\n",
       "      <th>Main_eeg_abspow_p2min_norm</th>\n",
       "      <td>Main_eeg_abspow_p2min_norm</td>\n",
       "      <td>105</td>\n",
       "      <td>81</td>\n",
       "      <td>62</td>\n",
       "      <td>2238</td>\n",
       "      <td>1716</td>\n",
       "      <td>1388</td>\n",
       "      <td>935</td>\n",
       "      <td>935</td>\n",
       "      <td>1870</td>\n",
       "    </tr>\n",
       "    <tr>\n",
       "      <th>Main_eeg_alpha</th>\n",
       "      <td>Main_eeg_alpha</td>\n",
       "      <td>2585</td>\n",
       "      <td>863</td>\n",
       "      <td>453</td>\n",
       "      <td>3271</td>\n",
       "      <td>1004</td>\n",
       "      <td>0</td>\n",
       "      <td>935</td>\n",
       "      <td>935</td>\n",
       "      <td>1870</td>\n",
       "    </tr>\n",
       "    <tr>\n",
       "      <th>Main_eeg_alpha_c7min_norm</th>\n",
       "      <td>Main_eeg_alpha_c7min_norm</td>\n",
       "      <td>1726</td>\n",
       "      <td>312</td>\n",
       "      <td>85</td>\n",
       "      <td>1905</td>\n",
       "      <td>0</td>\n",
       "      <td>0</td>\n",
       "      <td>935</td>\n",
       "      <td>935</td>\n",
       "      <td>1870</td>\n",
       "    </tr>\n",
       "    <tr>\n",
       "      <th>...</th>\n",
       "      <td>...</td>\n",
       "      <td>...</td>\n",
       "      <td>...</td>\n",
       "      <td>...</td>\n",
       "      <td>...</td>\n",
       "      <td>...</td>\n",
       "      <td>...</td>\n",
       "      <td>...</td>\n",
       "      <td>...</td>\n",
       "      <td>...</td>\n",
       "    </tr>\n",
       "    <tr>\n",
       "      <th>Main_eeg_thetaabsaa_c7min_norm_s</th>\n",
       "      <td>Main_eeg_thetaabsaa_c7min_norm_s</td>\n",
       "      <td>377</td>\n",
       "      <td>316</td>\n",
       "      <td>278</td>\n",
       "      <td>1149</td>\n",
       "      <td>1073</td>\n",
       "      <td>1033</td>\n",
       "      <td>935</td>\n",
       "      <td>935</td>\n",
       "      <td>1870</td>\n",
       "    </tr>\n",
       "    <tr>\n",
       "      <th>Main_eeg_thetaabsaa_p2min_norm_s</th>\n",
       "      <td>Main_eeg_thetaabsaa_p2min_norm_s</td>\n",
       "      <td>191</td>\n",
       "      <td>171</td>\n",
       "      <td>157</td>\n",
       "      <td>3180</td>\n",
       "      <td>1996</td>\n",
       "      <td>1465</td>\n",
       "      <td>935</td>\n",
       "      <td>935</td>\n",
       "      <td>1870</td>\n",
       "    </tr>\n",
       "    <tr>\n",
       "      <th>Main_eeg_thetaabsab_s</th>\n",
       "      <td>Main_eeg_thetaabsab_s</td>\n",
       "      <td>64</td>\n",
       "      <td>59</td>\n",
       "      <td>56</td>\n",
       "      <td>2760</td>\n",
       "      <td>1774</td>\n",
       "      <td>1455</td>\n",
       "      <td>935</td>\n",
       "      <td>935</td>\n",
       "      <td>1870</td>\n",
       "    </tr>\n",
       "    <tr>\n",
       "      <th>Main_eeg_thetaabsab_c7min_norm_s</th>\n",
       "      <td>Main_eeg_thetaabsab_c7min_norm_s</td>\n",
       "      <td>264</td>\n",
       "      <td>198</td>\n",
       "      <td>162</td>\n",
       "      <td>1264</td>\n",
       "      <td>1123</td>\n",
       "      <td>1071</td>\n",
       "      <td>935</td>\n",
       "      <td>935</td>\n",
       "      <td>1870</td>\n",
       "    </tr>\n",
       "    <tr>\n",
       "      <th>Main_eeg_thetaabsab_p2min_norm_s</th>\n",
       "      <td>Main_eeg_thetaabsab_p2min_norm_s</td>\n",
       "      <td>107</td>\n",
       "      <td>84</td>\n",
       "      <td>69</td>\n",
       "      <td>2264</td>\n",
       "      <td>1671</td>\n",
       "      <td>1410</td>\n",
       "      <td>935</td>\n",
       "      <td>935</td>\n",
       "      <td>1870</td>\n",
       "    </tr>\n",
       "  </tbody>\n",
       "</table>\n",
       "<p>282 rows × 10 columns</p>\n",
       "</div>"
      ]
     },
     "execution_count": 88,
     "metadata": {},
     "output_type": "execute_result"
    }
   ],
   "execution_count": 88
  },
  {
   "metadata": {
    "ExecuteTime": {
     "end_time": "2025-01-01T15:11:30.314057Z",
     "start_time": "2025-01-01T15:11:30.298431Z"
    }
   },
   "cell_type": "code",
   "source": "clipped_summary[clipped_summary['feature'] == 'Main_eeg_std']",
   "id": "ef5daec337565c95",
   "outputs": [
    {
     "data": {
      "text/plain": [
       "                   feature lower_clipped upper_clipped total_clipped\n",
       "Main_eeg_std  Main_eeg_std             0             0             0"
      ],
      "text/html": [
       "<div>\n",
       "<style scoped>\n",
       "    .dataframe tbody tr th:only-of-type {\n",
       "        vertical-align: middle;\n",
       "    }\n",
       "\n",
       "    .dataframe tbody tr th {\n",
       "        vertical-align: top;\n",
       "    }\n",
       "\n",
       "    .dataframe thead th {\n",
       "        text-align: right;\n",
       "    }\n",
       "</style>\n",
       "<table border=\"1\" class=\"dataframe\">\n",
       "  <thead>\n",
       "    <tr style=\"text-align: right;\">\n",
       "      <th></th>\n",
       "      <th>feature</th>\n",
       "      <th>lower_clipped</th>\n",
       "      <th>upper_clipped</th>\n",
       "      <th>total_clipped</th>\n",
       "    </tr>\n",
       "  </thead>\n",
       "  <tbody>\n",
       "    <tr>\n",
       "      <th>Main_eeg_std</th>\n",
       "      <td>Main_eeg_std</td>\n",
       "      <td>0</td>\n",
       "      <td>0</td>\n",
       "      <td>0</td>\n",
       "    </tr>\n",
       "  </tbody>\n",
       "</table>\n",
       "</div>"
      ]
     },
     "execution_count": 26,
     "metadata": {},
     "output_type": "execute_result"
    }
   ],
   "execution_count": 26
  },
  {
   "metadata": {
    "ExecuteTime": {
     "end_time": "2025-01-01T15:37:14.532385Z",
     "start_time": "2025-01-01T15:37:14.511376Z"
    }
   },
   "cell_type": "code",
   "source": "df_clipped['Main_eeg_std_c7min_norm'].describe(percentiles=[0.9, 0.95, 0.99, 0.999])",
   "id": "34c76a0af04a3895",
   "outputs": [
    {
     "data": {
      "text/plain": [
       "count    93471.000000\n",
       "mean         0.357552\n",
       "std          4.304063\n",
       "min         -0.310291\n",
       "50%          0.000000\n",
       "90%          0.514062\n",
       "95%          0.868045\n",
       "99%          3.463405\n",
       "99.9%       61.562492\n",
       "max        304.532140\n",
       "Name: Main_eeg_std_c7min_norm, dtype: float64"
      ]
     },
     "execution_count": 82,
     "metadata": {},
     "output_type": "execute_result"
    }
   ],
   "execution_count": 82
  },
  {
   "metadata": {
    "ExecuteTime": {
     "end_time": "2025-01-01T15:06:47.381207Z",
     "start_time": "2025-01-01T15:06:47.349637Z"
    }
   },
   "cell_type": "code",
   "source": "df['Main_eeg_std'].describe(percentiles=[0.9, 0.95, 0.99, 0.999])\n",
   "id": "89a2609baa8a1f48",
   "outputs": [
    {
     "data": {
      "text/plain": [
       "count    93471.000000\n",
       "mean         0.000135\n",
       "std          0.001422\n",
       "min          0.000000\n",
       "50%          0.000021\n",
       "90%          0.000101\n",
       "95%          0.000274\n",
       "99%          0.001044\n",
       "99.9%        0.022780\n",
       "max          0.087295\n",
       "Name: Main_eeg_std, dtype: float64"
      ]
     },
     "execution_count": 11,
     "metadata": {},
     "output_type": "execute_result"
    }
   ],
   "execution_count": 11
  },
  {
   "metadata": {
    "ExecuteTime": {
     "end_time": "2025-01-01T15:38:19.304804Z",
     "start_time": "2025-01-01T15:38:19.289152Z"
    }
   },
   "cell_type": "code",
   "source": "df['Main_eeg_std_c7min_norm']",
   "id": "f81ba0689b8e982a",
   "outputs": [
    {
     "data": {
      "text/plain": [
       "0        0.723854\n",
       "1        0.763491\n",
       "2        0.811791\n",
       "3        0.815111\n",
       "4        0.813442\n",
       "           ...   \n",
       "93466    0.361789\n",
       "93467    0.430535\n",
       "93468    0.455524\n",
       "93469    0.490745\n",
       "93470    0.493742\n",
       "Name: Main_eeg_std_c7min_norm, Length: 93471, dtype: float64"
      ]
     },
     "execution_count": 87,
     "metadata": {},
     "output_type": "execute_result"
    }
   ],
   "execution_count": 87
  },
  {
   "metadata": {
    "ExecuteTime": {
     "end_time": "2025-01-01T15:38:06.868178Z",
     "start_time": "2025-01-01T15:38:04.874905Z"
    }
   },
   "cell_type": "code",
   "source": "df['Main_eeg_std_c7min_norm'].hist(log=True)",
   "id": "10f9cb875f9430ee",
   "outputs": [
    {
     "ename": "AttributeError",
     "evalue": "Rectangle.set() got an unexpected keyword argument 'buckets'",
     "output_type": "error",
     "traceback": [
      "\u001B[1;31m---------------------------------------------------------------------------\u001B[0m",
      "\u001B[1;31mAttributeError\u001B[0m                            Traceback (most recent call last)",
      "Cell \u001B[1;32mIn[86], line 1\u001B[0m\n\u001B[1;32m----> 1\u001B[0m \u001B[43mdf\u001B[49m\u001B[43m[\u001B[49m\u001B[38;5;124;43m'\u001B[39;49m\u001B[38;5;124;43mMain_eeg_std_c7min_norm\u001B[39;49m\u001B[38;5;124;43m'\u001B[39;49m\u001B[43m]\u001B[49m\u001B[38;5;241;43m.\u001B[39;49m\u001B[43mhist\u001B[49m\u001B[43m(\u001B[49m\u001B[43mlog\u001B[49m\u001B[38;5;241;43m=\u001B[39;49m\u001B[38;5;28;43;01mTrue\u001B[39;49;00m\u001B[43m,\u001B[49m\u001B[43m \u001B[49m\u001B[43mbuckets\u001B[49m\u001B[38;5;241;43m=\u001B[39;49m\u001B[38;5;241;43m100\u001B[39;49m\u001B[43m)\u001B[49m\n",
      "File \u001B[1;32m~\\.conda\\envs\\tf\\lib\\site-packages\\pandas\\plotting\\_core.py:129\u001B[0m, in \u001B[0;36mhist_series\u001B[1;34m(self, by, ax, grid, xlabelsize, xrot, ylabelsize, yrot, figsize, bins, backend, legend, **kwargs)\u001B[0m\n\u001B[0;32m     62\u001B[0m \u001B[38;5;250m\u001B[39m\u001B[38;5;124;03m\"\"\"\u001B[39;00m\n\u001B[0;32m     63\u001B[0m \u001B[38;5;124;03mDraw histogram of the input series using matplotlib.\u001B[39;00m\n\u001B[0;32m     64\u001B[0m \n\u001B[1;32m   (...)\u001B[0m\n\u001B[0;32m    126\u001B[0m \u001B[38;5;124;03m    >>> hist = ser.groupby(level=0).hist()\u001B[39;00m\n\u001B[0;32m    127\u001B[0m \u001B[38;5;124;03m\"\"\"\u001B[39;00m\n\u001B[0;32m    128\u001B[0m plot_backend \u001B[38;5;241m=\u001B[39m _get_plot_backend(backend)\n\u001B[1;32m--> 129\u001B[0m \u001B[38;5;28;01mreturn\u001B[39;00m plot_backend\u001B[38;5;241m.\u001B[39mhist_series(\n\u001B[0;32m    130\u001B[0m     \u001B[38;5;28mself\u001B[39m,\n\u001B[0;32m    131\u001B[0m     by\u001B[38;5;241m=\u001B[39mby,\n\u001B[0;32m    132\u001B[0m     ax\u001B[38;5;241m=\u001B[39max,\n\u001B[0;32m    133\u001B[0m     grid\u001B[38;5;241m=\u001B[39mgrid,\n\u001B[0;32m    134\u001B[0m     xlabelsize\u001B[38;5;241m=\u001B[39mxlabelsize,\n\u001B[0;32m    135\u001B[0m     xrot\u001B[38;5;241m=\u001B[39mxrot,\n\u001B[0;32m    136\u001B[0m     ylabelsize\u001B[38;5;241m=\u001B[39mylabelsize,\n\u001B[0;32m    137\u001B[0m     yrot\u001B[38;5;241m=\u001B[39myrot,\n\u001B[0;32m    138\u001B[0m     figsize\u001B[38;5;241m=\u001B[39mfigsize,\n\u001B[0;32m    139\u001B[0m     bins\u001B[38;5;241m=\u001B[39mbins,\n\u001B[0;32m    140\u001B[0m     legend\u001B[38;5;241m=\u001B[39mlegend,\n\u001B[0;32m    141\u001B[0m     \u001B[38;5;241m*\u001B[39m\u001B[38;5;241m*\u001B[39mkwargs,\n\u001B[0;32m    142\u001B[0m )\n",
      "File \u001B[1;32m~\\.conda\\envs\\tf\\lib\\site-packages\\pandas\\plotting\\_matplotlib\\hist.py:454\u001B[0m, in \u001B[0;36mhist_series\u001B[1;34m(self, by, ax, grid, xlabelsize, xrot, ylabelsize, yrot, figsize, bins, legend, **kwds)\u001B[0m\n\u001B[0;32m    452\u001B[0m \u001B[38;5;28;01mif\u001B[39;00m legend:\n\u001B[0;32m    453\u001B[0m     kwds[\u001B[38;5;124m\"\u001B[39m\u001B[38;5;124mlabel\u001B[39m\u001B[38;5;124m\"\u001B[39m] \u001B[38;5;241m=\u001B[39m \u001B[38;5;28mself\u001B[39m\u001B[38;5;241m.\u001B[39mname\n\u001B[1;32m--> 454\u001B[0m ax\u001B[38;5;241m.\u001B[39mhist(values, bins\u001B[38;5;241m=\u001B[39mbins, \u001B[38;5;241m*\u001B[39m\u001B[38;5;241m*\u001B[39mkwds)\n\u001B[0;32m    455\u001B[0m \u001B[38;5;28;01mif\u001B[39;00m legend:\n\u001B[0;32m    456\u001B[0m     ax\u001B[38;5;241m.\u001B[39mlegend()\n",
      "File \u001B[1;32m~\\.conda\\envs\\tf\\lib\\site-packages\\matplotlib\\__init__.py:1473\u001B[0m, in \u001B[0;36m_preprocess_data.<locals>.inner\u001B[1;34m(ax, data, *args, **kwargs)\u001B[0m\n\u001B[0;32m   1470\u001B[0m \u001B[38;5;129m@functools\u001B[39m\u001B[38;5;241m.\u001B[39mwraps(func)\n\u001B[0;32m   1471\u001B[0m \u001B[38;5;28;01mdef\u001B[39;00m \u001B[38;5;21minner\u001B[39m(ax, \u001B[38;5;241m*\u001B[39margs, data\u001B[38;5;241m=\u001B[39m\u001B[38;5;28;01mNone\u001B[39;00m, \u001B[38;5;241m*\u001B[39m\u001B[38;5;241m*\u001B[39mkwargs):\n\u001B[0;32m   1472\u001B[0m     \u001B[38;5;28;01mif\u001B[39;00m data \u001B[38;5;129;01mis\u001B[39;00m \u001B[38;5;28;01mNone\u001B[39;00m:\n\u001B[1;32m-> 1473\u001B[0m         \u001B[38;5;28;01mreturn\u001B[39;00m func(\n\u001B[0;32m   1474\u001B[0m             ax,\n\u001B[0;32m   1475\u001B[0m             \u001B[38;5;241m*\u001B[39m\u001B[38;5;28mmap\u001B[39m(sanitize_sequence, args),\n\u001B[0;32m   1476\u001B[0m             \u001B[38;5;241m*\u001B[39m\u001B[38;5;241m*\u001B[39m{k: sanitize_sequence(v) \u001B[38;5;28;01mfor\u001B[39;00m k, v \u001B[38;5;129;01min\u001B[39;00m kwargs\u001B[38;5;241m.\u001B[39mitems()})\n\u001B[0;32m   1478\u001B[0m     bound \u001B[38;5;241m=\u001B[39m new_sig\u001B[38;5;241m.\u001B[39mbind(ax, \u001B[38;5;241m*\u001B[39margs, \u001B[38;5;241m*\u001B[39m\u001B[38;5;241m*\u001B[39mkwargs)\n\u001B[0;32m   1479\u001B[0m     auto_label \u001B[38;5;241m=\u001B[39m (bound\u001B[38;5;241m.\u001B[39marguments\u001B[38;5;241m.\u001B[39mget(label_namer)\n\u001B[0;32m   1480\u001B[0m                   \u001B[38;5;129;01mor\u001B[39;00m bound\u001B[38;5;241m.\u001B[39mkwargs\u001B[38;5;241m.\u001B[39mget(label_namer))\n",
      "File \u001B[1;32m~\\.conda\\envs\\tf\\lib\\site-packages\\matplotlib\\axes\\_axes.py:7154\u001B[0m, in \u001B[0;36mAxes.hist\u001B[1;34m(self, x, bins, range, density, weights, cumulative, bottom, histtype, align, orientation, rwidth, log, color, label, stacked, **kwargs)\u001B[0m\n\u001B[0;32m   7152\u001B[0m \u001B[38;5;28;01mif\u001B[39;00m patch:\n\u001B[0;32m   7153\u001B[0m     p \u001B[38;5;241m=\u001B[39m patch[\u001B[38;5;241m0\u001B[39m]\n\u001B[1;32m-> 7154\u001B[0m     \u001B[43mp\u001B[49m\u001B[38;5;241;43m.\u001B[39;49m\u001B[43m_internal_update\u001B[49m\u001B[43m(\u001B[49m\u001B[43mkwargs\u001B[49m\u001B[43m)\u001B[49m\n\u001B[0;32m   7155\u001B[0m     \u001B[38;5;28;01mif\u001B[39;00m lbl \u001B[38;5;129;01mis\u001B[39;00m \u001B[38;5;129;01mnot\u001B[39;00m \u001B[38;5;28;01mNone\u001B[39;00m:\n\u001B[0;32m   7156\u001B[0m         p\u001B[38;5;241m.\u001B[39mset_label(lbl)\n",
      "File \u001B[1;32m~\\.conda\\envs\\tf\\lib\\site-packages\\matplotlib\\artist.py:1216\u001B[0m, in \u001B[0;36mArtist._internal_update\u001B[1;34m(self, kwargs)\u001B[0m\n\u001B[0;32m   1209\u001B[0m \u001B[38;5;28;01mdef\u001B[39;00m \u001B[38;5;21m_internal_update\u001B[39m(\u001B[38;5;28mself\u001B[39m, kwargs):\n\u001B[0;32m   1210\u001B[0m \u001B[38;5;250m    \u001B[39m\u001B[38;5;124;03m\"\"\"\u001B[39;00m\n\u001B[0;32m   1211\u001B[0m \u001B[38;5;124;03m    Update artist properties without prenormalizing them, but generating\u001B[39;00m\n\u001B[0;32m   1212\u001B[0m \u001B[38;5;124;03m    errors as if calling `set`.\u001B[39;00m\n\u001B[0;32m   1213\u001B[0m \n\u001B[0;32m   1214\u001B[0m \u001B[38;5;124;03m    The lack of prenormalization is to maintain backcompatibility.\u001B[39;00m\n\u001B[0;32m   1215\u001B[0m \u001B[38;5;124;03m    \"\"\"\u001B[39;00m\n\u001B[1;32m-> 1216\u001B[0m     \u001B[38;5;28;01mreturn\u001B[39;00m \u001B[38;5;28;43mself\u001B[39;49m\u001B[38;5;241;43m.\u001B[39;49m\u001B[43m_update_props\u001B[49m\u001B[43m(\u001B[49m\n\u001B[0;32m   1217\u001B[0m \u001B[43m        \u001B[49m\u001B[43mkwargs\u001B[49m\u001B[43m,\u001B[49m\u001B[43m \u001B[49m\u001B[38;5;124;43m\"\u001B[39;49m\u001B[38;5;132;43;01m{cls.__name__}\u001B[39;49;00m\u001B[38;5;124;43m.set() got an unexpected keyword argument \u001B[39;49m\u001B[38;5;124;43m\"\u001B[39;49m\n\u001B[0;32m   1218\u001B[0m \u001B[43m        \u001B[49m\u001B[38;5;124;43m\"\u001B[39;49m\u001B[38;5;132;43;01m{prop_name!r}\u001B[39;49;00m\u001B[38;5;124;43m\"\u001B[39;49m\u001B[43m)\u001B[49m\n",
      "File \u001B[1;32m~\\.conda\\envs\\tf\\lib\\site-packages\\matplotlib\\artist.py:1190\u001B[0m, in \u001B[0;36mArtist._update_props\u001B[1;34m(self, props, errfmt)\u001B[0m\n\u001B[0;32m   1188\u001B[0m             func \u001B[38;5;241m=\u001B[39m \u001B[38;5;28mgetattr\u001B[39m(\u001B[38;5;28mself\u001B[39m, \u001B[38;5;124mf\u001B[39m\u001B[38;5;124m\"\u001B[39m\u001B[38;5;124mset_\u001B[39m\u001B[38;5;132;01m{\u001B[39;00mk\u001B[38;5;132;01m}\u001B[39;00m\u001B[38;5;124m\"\u001B[39m, \u001B[38;5;28;01mNone\u001B[39;00m)\n\u001B[0;32m   1189\u001B[0m             \u001B[38;5;28;01mif\u001B[39;00m \u001B[38;5;129;01mnot\u001B[39;00m \u001B[38;5;28mcallable\u001B[39m(func):\n\u001B[1;32m-> 1190\u001B[0m                 \u001B[38;5;28;01mraise\u001B[39;00m \u001B[38;5;167;01mAttributeError\u001B[39;00m(\n\u001B[0;32m   1191\u001B[0m                     errfmt\u001B[38;5;241m.\u001B[39mformat(\u001B[38;5;28mcls\u001B[39m\u001B[38;5;241m=\u001B[39m\u001B[38;5;28mtype\u001B[39m(\u001B[38;5;28mself\u001B[39m), prop_name\u001B[38;5;241m=\u001B[39mk))\n\u001B[0;32m   1192\u001B[0m             ret\u001B[38;5;241m.\u001B[39mappend(func(v))\n\u001B[0;32m   1193\u001B[0m \u001B[38;5;28;01mif\u001B[39;00m ret:\n",
      "\u001B[1;31mAttributeError\u001B[0m: Rectangle.set() got an unexpected keyword argument 'buckets'"
     ]
    },
    {
     "data": {
      "text/plain": [
       "<Figure size 640x480 with 1 Axes>"
      ],
      "image/png": "[encoded data removed]"
     },
     "metadata": {},
     "output_type": "display_data"
    }
   ],
   "execution_count": 86
  },
  {
   "metadata": {
    "ExecuteTime": {
     "end_time": "2025-01-01T15:40:01.612296Z",
     "start_time": "2025-01-01T15:40:01.596669Z"
    }
   },
   "cell_type": "code",
   "source": "df_clipped['Main_eeg_std'].describe()",
   "id": "1e3cfd60dfb3d324",
   "outputs": [
    {
     "data": {
      "text/plain": [
       "count    93471.000000\n",
       "mean         0.000060\n",
       "std          0.000146\n",
       "min          0.000006\n",
       "25%          0.000012\n",
       "50%          0.000021\n",
       "75%          0.000034\n",
       "max          0.001044\n",
       "Name: Main_eeg_std, dtype: float64"
      ]
     },
     "execution_count": 90,
     "metadata": {},
     "output_type": "execute_result"
    }
   ],
   "execution_count": 90
  },
  {
   "metadata": {
    "ExecuteTime": {
     "end_time": "2025-01-01T15:39:41.401650Z",
     "start_time": "2025-01-01T15:39:41.080377Z"
    }
   },
   "cell_type": "code",
   "source": "df_clipped['Main_eeg_std'].hist(log=True)",
   "id": "d6d76a1be77bb97c",
   "outputs": [
    {
     "data": {
      "text/plain": [
       "<Axes: >"
      ]
     },
     "execution_count": 89,
     "metadata": {},
     "output_type": "execute_result"
    },
    {
     "data": {
      "text/plain": [
       "<Figure size 640x480 with 1 Axes>"
      ],
      "image/png": "[encoded data removed]"
     },
     "metadata": {},
     "output_type": "display_data"
    }
   ],
   "execution_count": 89
  },
  {
   "metadata": {
    "ExecuteTime": {
     "end_time": "2025-01-01T14:59:28.103406Z",
     "start_time": "2025-01-01T14:57:48.234243Z"
    }
   },
   "cell_type": "code",
   "source": [
    "import pandas as pd\n",
    "\n",
    "def count_clipped_values(df, lower_percentile, upper_percentile):\n",
    "    clipped_counts = {}\n",
    "    for column in df.columns:\n",
    "        col = df[column]\n",
    "        z_scores = (col - col.mean()) / col.std()\n",
    "        lower_bound = col.quantile(lower_percentile)\n",
    "        upper_bound = col.quantile(upper_percentile)\n",
    "        lower_clipped = (col < lower_bound).sum()\n",
    "        upper_clipped = (col > upper_bound).sum()\n",
    "        col_clipped = col[(col >= lower_bound) & (col <= upper_bound)]\n",
    "        z_scores_clipped = (col_clipped - col_clipped.mean()) / col_clipped.std()\n",
    "        clipped_counts[column] = {\n",
    "            # 'lower_clipped': lower_clipped,\n",
    "            # 'upper_clipped': upper_clipped,\n",
    "            'total_clipped': len(col_clipped) - len(col),\n",
    "            'zscore_pre_clip': z_scores,\n",
    "            'zscore_post_clip': z_scores_clipped,\n",
    "        }\n",
    "\n",
    "    return pd.DataFrame(clipped_counts).T\n",
    "\n",
    "# Example usage\n",
    "clipping_levels = [(0.001, 0.999), (0.01, 0.99), (0.05, 0.95)]\n",
    "all_clipped_df = pd.DataFrame()\n",
    "\n",
    "for lower, upper in clipping_levels:\n",
    "    clipped_df = count_clipped_values(df_eeg, lower, upper)\n",
    "    clipped_df['clipping_level'] = f\"{lower*100}% - {upper*100}%\"\n",
    "    all_clipped_df = pd.concat([all_clipped_df, clipped_df])\n",
    "\n",
    "all_clipped_df"
   ],
   "id": "b3d4fc1780003c02",
   "outputs": [
    {
     "name": "stderr",
     "output_type": "stream",
     "text": [
      "C:\\Users\\graha\\.conda\\envs\\tf\\lib\\site-packages\\numpy\\core\\_methods.py:49: RuntimeWarning: invalid value encountered in reduce\n",
      "  return umr_sum(a, axis, dtype, out, keepdims, initial, where)\n",
      "C:\\Users\\graha\\.conda\\envs\\tf\\lib\\site-packages\\numpy\\lib\\function_base.py:4655: RuntimeWarning: invalid value encountered in subtract\n",
      "  diff_b_a = subtract(b, a)\n",
      "C:\\Users\\graha\\.conda\\envs\\tf\\lib\\site-packages\\numpy\\lib\\function_base.py:4655: RuntimeWarning: invalid value encountered in subtract\n",
      "  diff_b_a = subtract(b, a)\n",
      "C:\\Users\\graha\\.conda\\envs\\tf\\lib\\site-packages\\numpy\\core\\_methods.py:49: RuntimeWarning: invalid value encountered in reduce\n",
      "  return umr_sum(a, axis, dtype, out, keepdims, initial, where)\n",
      "C:\\Users\\graha\\.conda\\envs\\tf\\lib\\site-packages\\numpy\\lib\\function_base.py:4655: RuntimeWarning: invalid value encountered in subtract\n",
      "  diff_b_a = subtract(b, a)\n",
      "C:\\Users\\graha\\.conda\\envs\\tf\\lib\\site-packages\\numpy\\lib\\function_base.py:4655: RuntimeWarning: invalid value encountered in subtract\n",
      "  diff_b_a = subtract(b, a)\n",
      "C:\\Users\\graha\\.conda\\envs\\tf\\lib\\site-packages\\numpy\\core\\_methods.py:49: RuntimeWarning: invalid value encountered in reduce\n",
      "  return umr_sum(a, axis, dtype, out, keepdims, initial, where)\n",
      "C:\\Users\\graha\\.conda\\envs\\tf\\lib\\site-packages\\numpy\\lib\\function_base.py:4655: RuntimeWarning: invalid value encountered in subtract\n",
      "  diff_b_a = subtract(b, a)\n",
      "C:\\Users\\graha\\.conda\\envs\\tf\\lib\\site-packages\\numpy\\lib\\function_base.py:4655: RuntimeWarning: invalid value encountered in subtract\n",
      "  diff_b_a = subtract(b, a)\n",
      "\n",
      "KeyboardInterrupt\n",
      "\n"
     ]
    }
   ],
   "execution_count": 27
  },
  {
   "metadata": {
    "ExecuteTime": {
     "end_time": "2025-01-01T14:49:34.243035Z",
     "start_time": "2025-01-01T14:49:34.227243Z"
    }
   },
   "cell_type": "code",
   "source": "all_clipped_df['clipping_level'].unique()",
   "id": "befe54109bc281f7",
   "outputs": [
    {
     "data": {
      "text/plain": [
       "array(['0.1% - 99.9%', '1.0% - 99.0%', '5.0% - 95.0%'], dtype=object)"
      ]
     },
     "execution_count": 15,
     "metadata": {},
     "output_type": "execute_result"
    }
   ],
   "execution_count": 15
  },
  {
   "metadata": {
    "ExecuteTime": {
     "end_time": "2025-01-01T14:49:51.609255Z",
     "start_time": "2025-01-01T14:49:51.577828Z"
    }
   },
   "cell_type": "code",
   "source": "all_clipped_df[all_clipped_df['clipping_level'] == '1.0% - 99.0%']",
   "id": "3016afec271f8783",
   "outputs": [
    {
     "data": {
      "text/plain": [
       "                                  lower_clipped  upper_clipped  total_clipped  \\\n",
       "Main_eeg_abspow                             935            935           1870   \n",
       "Main_eeg_abspow_c7min_norm                  935            935           1870   \n",
       "Main_eeg_abspow_p2min_norm                  935            935           1870   \n",
       "Main_eeg_alpha                              935            935           1870   \n",
       "Main_eeg_alpha_c7min_norm                   935            935           1870   \n",
       "...                                         ...            ...            ...   \n",
       "Main_eeg_thetaabsaa_c7min_norm_s            935            935           1870   \n",
       "Main_eeg_thetaabsaa_p2min_norm_s            935            935           1870   \n",
       "Main_eeg_thetaabsab_s                       935            935           1870   \n",
       "Main_eeg_thetaabsab_c7min_norm_s            935            935           1870   \n",
       "Main_eeg_thetaabsab_p2min_norm_s            935            935           1870   \n",
       "\n",
       "                                 clipping_level  \n",
       "Main_eeg_abspow                    1.0% - 99.0%  \n",
       "Main_eeg_abspow_c7min_norm         1.0% - 99.0%  \n",
       "Main_eeg_abspow_p2min_norm         1.0% - 99.0%  \n",
       "Main_eeg_alpha                     1.0% - 99.0%  \n",
       "Main_eeg_alpha_c7min_norm          1.0% - 99.0%  \n",
       "...                                         ...  \n",
       "Main_eeg_thetaabsaa_c7min_norm_s   1.0% - 99.0%  \n",
       "Main_eeg_thetaabsaa_p2min_norm_s   1.0% - 99.0%  \n",
       "Main_eeg_thetaabsab_s              1.0% - 99.0%  \n",
       "Main_eeg_thetaabsab_c7min_norm_s   1.0% - 99.0%  \n",
       "Main_eeg_thetaabsab_p2min_norm_s   1.0% - 99.0%  \n",
       "\n",
       "[282 rows x 4 columns]"
      ],
      "text/html": [
       "<div>\n",
       "<style scoped>\n",
       "    .dataframe tbody tr th:only-of-type {\n",
       "        vertical-align: middle;\n",
       "    }\n",
       "\n",
       "    .dataframe tbody tr th {\n",
       "        vertical-align: top;\n",
       "    }\n",
       "\n",
       "    .dataframe thead th {\n",
       "        text-align: right;\n",
       "    }\n",
       "</style>\n",
       "<table border=\"1\" class=\"dataframe\">\n",
       "  <thead>\n",
       "    <tr style=\"text-align: right;\">\n",
       "      <th></th>\n",
       "      <th>lower_clipped</th>\n",
       "      <th>upper_clipped</th>\n",
       "      <th>total_clipped</th>\n",
       "      <th>clipping_level</th>\n",
       "    </tr>\n",
       "  </thead>\n",
       "  <tbody>\n",
       "    <tr>\n",
       "      <th>Main_eeg_abspow</th>\n",
       "      <td>935</td>\n",
       "      <td>935</td>\n",
       "      <td>1870</td>\n",
       "      <td>1.0% - 99.0%</td>\n",
       "    </tr>\n",
       "    <tr>\n",
       "      <th>Main_eeg_abspow_c7min_norm</th>\n",
       "      <td>935</td>\n",
       "      <td>935</td>\n",
       "      <td>1870</td>\n",
       "      <td>1.0% - 99.0%</td>\n",
       "    </tr>\n",
       "    <tr>\n",
       "      <th>Main_eeg_abspow_p2min_norm</th>\n",
       "      <td>935</td>\n",
       "      <td>935</td>\n",
       "      <td>1870</td>\n",
       "      <td>1.0% - 99.0%</td>\n",
       "    </tr>\n",
       "    <tr>\n",
       "      <th>Main_eeg_alpha</th>\n",
       "      <td>935</td>\n",
       "      <td>935</td>\n",
       "      <td>1870</td>\n",
       "      <td>1.0% - 99.0%</td>\n",
       "    </tr>\n",
       "    <tr>\n",
       "      <th>Main_eeg_alpha_c7min_norm</th>\n",
       "      <td>935</td>\n",
       "      <td>935</td>\n",
       "      <td>1870</td>\n",
       "      <td>1.0% - 99.0%</td>\n",
       "    </tr>\n",
       "    <tr>\n",
       "      <th>...</th>\n",
       "      <td>...</td>\n",
       "      <td>...</td>\n",
       "      <td>...</td>\n",
       "      <td>...</td>\n",
       "    </tr>\n",
       "    <tr>\n",
       "      <th>Main_eeg_thetaabsaa_c7min_norm_s</th>\n",
       "      <td>935</td>\n",
       "      <td>935</td>\n",
       "      <td>1870</td>\n",
       "      <td>1.0% - 99.0%</td>\n",
       "    </tr>\n",
       "    <tr>\n",
       "      <th>Main_eeg_thetaabsaa_p2min_norm_s</th>\n",
       "      <td>935</td>\n",
       "      <td>935</td>\n",
       "      <td>1870</td>\n",
       "      <td>1.0% - 99.0%</td>\n",
       "    </tr>\n",
       "    <tr>\n",
       "      <th>Main_eeg_thetaabsab_s</th>\n",
       "      <td>935</td>\n",
       "      <td>935</td>\n",
       "      <td>1870</td>\n",
       "      <td>1.0% - 99.0%</td>\n",
       "    </tr>\n",
       "    <tr>\n",
       "      <th>Main_eeg_thetaabsab_c7min_norm_s</th>\n",
       "      <td>935</td>\n",
       "      <td>935</td>\n",
       "      <td>1870</td>\n",
       "      <td>1.0% - 99.0%</td>\n",
       "    </tr>\n",
       "    <tr>\n",
       "      <th>Main_eeg_thetaabsab_p2min_norm_s</th>\n",
       "      <td>935</td>\n",
       "      <td>935</td>\n",
       "      <td>1870</td>\n",
       "      <td>1.0% - 99.0%</td>\n",
       "    </tr>\n",
       "  </tbody>\n",
       "</table>\n",
       "<p>282 rows × 4 columns</p>\n",
       "</div>"
      ]
     },
     "execution_count": 16,
     "metadata": {},
     "output_type": "execute_result"
    }
   ],
   "execution_count": 16
  },
  {
   "metadata": {
    "ExecuteTime": {
     "end_time": "2025-01-01T14:50:01.455198Z",
     "start_time": "2025-01-01T14:50:01.423284Z"
    }
   },
   "cell_type": "code",
   "source": "df.shape",
   "id": "fe863fcfbd6f2ae9",
   "outputs": [
    {
     "data": {
      "text/plain": [
       "(93471, 352)"
      ]
     },
     "execution_count": 17,
     "metadata": {},
     "output_type": "execute_result"
    }
   ],
   "execution_count": 17
  }
 ],
 "metadata": {
  "kernelspec": {
   "display_name": "Python 3",
   "language": "python",
   "name": "python3"
  },
  "language_info": {
   "codemirror_mode": {
    "name": "ipython",
    "version": 2
   },
   "file_extension": ".py",
   "mimetype": "text/x-python",
   "name": "python",
   "nbconvert_exporter": "python",
   "pygments_lexer": "ipython2",
   "version": "2.7.6"
  }
 },
 "nbformat": 4,
 "nbformat_minor": 5
}
