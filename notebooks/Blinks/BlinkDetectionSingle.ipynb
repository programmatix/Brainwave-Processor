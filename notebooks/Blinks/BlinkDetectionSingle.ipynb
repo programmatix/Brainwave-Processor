{
 "cells": [
  {
   "metadata": {},
   "cell_type": "markdown",
   "source": [
    "# EEG Blink Detection Single File\n",
    "Detecting blink frequency and duration in a single EEG file."
   ],
   "id": "376ef89d361a0089"
  },
  {
   "metadata": {},
   "cell_type": "code",
   "source": [
    "# %reload_ext autoreload\n",
    "# %autoreload 2\n",
    "import logging\n",
    "import os\n",
    "\n",
    "log = lambda msg: logging.info(msg)\n"
   ],
   "id": "f05b8f353000e59b",
   "outputs": [],
   "execution_count": null
  },
  {
   "metadata": {},
   "cell_type": "markdown",
   "source": "# Load data",
   "id": "bebd4fbf3361aa5"
  },
  {
   "metadata": {},
   "cell_type": "markdown",
   "source": "",
   "id": "a31284fe4ea4810"
  },
  {
   "metadata": {},
   "cell_type": "code",
   "source": [
    "input_file = \"C:\\\\dev\\\\play\\\\brainwave-data\\\\2024-12-08-21-23-50\\\\raw.fif\"\n",
    "input_file_without_ext = os.path.splitext(input_file)[0]\n"
   ],
   "id": "35e1696f53c4dc15",
   "outputs": [],
   "execution_count": null
  },
  {
   "metadata": {},
   "cell_type": "code",
   "source": [
    "from convert import load_mne_file\n",
    "raw, input_file_without_ext, mne_filtered = load_mne_file(log, input_file)\n"
   ],
   "id": "1f4365f1450feed5",
   "outputs": [],
   "execution_count": null
  },
  {
   "metadata": {},
   "cell_type": "markdown",
   "source": "# Find blinks",
   "id": "88a19709b566069b"
  },
  {
   "metadata": {
    "ExecuteTime": {
     "end_time": "2024-12-10T09:50:05.125936Z",
     "start_time": "2024-12-10T09:50:04.872992Z"
    }
   },
   "cell_type": "code",
   "source": [
    "def extract_epoch(epoch_idx: int, raw):\n",
    "    sfreq = 250\n",
    "    start_sample = epoch_idx * (30 * sfreq)\n",
    "    end_sample = start_sample + (30 * sfreq)\n",
    "    \n",
    "    print(\"Start sample:\", start_sample)\n",
    "    print(\"End sample:\", end_sample)\n",
    "    \n",
    "    # Extract the data for the specified epoch\n",
    "    actual_raw = raw.get_data(units=dict(eeg=\"uV\")) #/ 1_000_000\n",
    "    epoch_data = actual_raw[:, start_sample:end_sample].flatten()\n",
    "    \n",
    "    # Print the shape of the extracted data\n",
    "    print(\"Epoch data shape:\", epoch_data.shape)\n",
    "    \n",
    "    return epoch_data\n",
    "\n",
    "epoch_data = extract_epoch(1, mne_filtered)\n",
    "\n",
    "import matplotlib.pyplot as plt\n",
    "\n",
    "# Assuming epoch_data is already defined\n",
    "plt.figure(figsize=(10, 6))\n",
    "plt.hist(epoch_data.flatten(), bins=50, edgecolor='black')\n",
    "plt.title('Histogram of epoch_data values')\n",
    "plt.xlabel('Value')\n",
    "plt.ylabel('Frequency')\n",
    "plt.grid(True)\n",
    "plt.show()"
   ],
   "id": "310e93517c5a9038",
   "outputs": [
    {
     "name": "stdout",
     "output_type": "stream",
     "text": [
      "Start sample: 7500\n",
      "End sample: 15000\n",
      "Epoch data shape: (7500,)\n"
     ]
    },
    {
     "data": {
      "text/plain": [
       "<Figure size 1000x600 with 1 Axes>"
      ],
      "image/png": "[encoded data removed]"
     },
     "metadata": {},
     "output_type": "display_data"
    }
   ],
   "execution_count": 29
  },
  {
   "metadata": {
    "ExecuteTime": {
     "end_time": "2024-12-10T09:55:10.280830Z",
     "start_time": "2024-12-10T09:55:10.217489Z"
    }
   },
   "cell_type": "code",
   "source": [
    "import numpy as np\n",
    "from scipy.ndimage import gaussian_filter1d\n",
    "\n",
    "threshold=-75\n",
    "max_duration=0.5\n",
    "\n",
    "epoch_data = extract_epoch(1, mne_filtered)\n",
    "\n",
    "softened = gaussian_filter1d(epoch_data, 1)\n",
    "\n",
    "# Detect threshold crossings\n",
    "crossings = np.where(softened < threshold)[0]\n",
    "crossings\n",
    "\n"
   ],
   "id": "c084dd707044ff04",
   "outputs": [
    {
     "name": "stdout",
     "output_type": "stream",
     "text": [
      "Start sample: 7500\n",
      "End sample: 15000\n",
      "Epoch data shape: (7500,)\n"
     ]
    },
    {
     "data": {
      "text/plain": [
       "array([  42,   43,   44,   45,   46,   47,   48,   49,   50,   51,   52,\n",
       "         53,   54,   55,   56,   57,   58,   59,   60,   61,   62,   63,\n",
       "         64,   65,   66,   67,   68,   69,   70,   71,   72,   73,   74,\n",
       "         75,   76,   77,   78,   79,   80,   81,   82, 1940, 1941, 1942,\n",
       "       1943, 1944, 1945, 1946, 1947, 1948, 1949, 1950, 1951, 1952, 1953,\n",
       "       1954, 1955, 1956, 1957, 1958, 1959, 1960, 1961, 1962, 1963, 1964,\n",
       "       1965, 1966, 1967, 1968, 1969, 1970, 1971, 1972, 1973, 1974, 1975,\n",
       "       1976, 1977, 1978, 1979, 1980, 1981, 1982, 1983, 1984, 1985, 1986,\n",
       "       1987, 1988, 1989, 1990, 1991, 2730, 2731, 2732, 2733, 2734, 2735,\n",
       "       2736, 2737, 2738, 2739, 2740, 2741, 2742, 2743, 2744, 2745, 2746,\n",
       "       2747, 2748, 2749, 2750, 2751, 2752, 2753, 2754, 2755, 2756, 2757,\n",
       "       2758, 2759, 2760, 2761, 2762, 2763, 2764, 2765, 2766, 2767, 2768,\n",
       "       2769, 2770, 2771, 2772, 2773, 2774, 2775, 2776, 2777, 2778, 2779,\n",
       "       2780, 2781, 2782, 2783, 2784, 2785, 2786, 2787, 2788, 2789, 2790,\n",
       "       2791, 3483, 3484, 3485, 3486, 3487, 3488, 3489, 3490, 3491, 3492,\n",
       "       3493, 3494, 3495, 3496, 3497, 3498, 3499, 3500, 3501, 3502, 3503,\n",
       "       3504, 3505, 3506, 3507, 3508, 3509, 3510, 3511, 4120, 4121, 4122,\n",
       "       4123, 4124, 4125, 4126, 4203, 4204, 4205, 4206, 4207, 4208, 4209,\n",
       "       4210, 4211, 4212, 4213, 4214, 4215, 4216, 4217, 4218, 4219, 4220,\n",
       "       4221, 4222, 4223, 4224, 4225, 4226, 4227, 4228, 4229, 4230, 4231,\n",
       "       4232, 4233, 4234, 4235, 4236, 4237, 4238, 4239, 4240, 4241, 4242,\n",
       "       4243, 4244, 4660, 4661, 4662, 4663, 4664, 4665, 4666, 4667, 4668,\n",
       "       4669, 4670, 4671, 4672, 4673, 4674, 4675, 4676, 4677, 6218, 6219,\n",
       "       6220, 6221, 6222, 6223, 6224, 6225, 6226, 6227, 6228, 6229, 6230,\n",
       "       6231, 6232, 6233, 6234, 6235, 6236, 6237, 6238, 6239, 6240, 6241,\n",
       "       6242, 6243, 6244, 6245, 6246, 6247, 6248, 6362, 6363, 6364, 6365,\n",
       "       6366, 6367, 6368, 6369, 6370, 6371, 6372, 6373, 6374, 6375, 6376,\n",
       "       6377, 6378, 6379, 6380, 6381, 6382, 6383, 6384, 6385, 6386, 6387,\n",
       "       6388, 6389, 6390, 6391, 6392, 6393, 6394, 6395, 6396, 6397, 6398,\n",
       "       6399, 6400, 7152, 7153, 7154, 7155, 7156, 7157, 7158, 7159, 7160,\n",
       "       7161, 7162, 7163, 7164, 7165, 7166, 7167, 7168, 7169, 7170, 7171,\n",
       "       7172, 7173, 7174, 7175, 7176, 7177, 7178, 7179, 7180, 7181, 7182,\n",
       "       7183, 7184, 7185, 7186, 7187, 7188, 7189], dtype=int64)"
      ]
     },
     "execution_count": 43,
     "metadata": {},
     "output_type": "execute_result"
    }
   ],
   "execution_count": 43
  },
  {
   "metadata": {
    "ExecuteTime": {
     "end_time": "2024-12-10T09:58:00.959156Z",
     "start_time": "2024-12-10T09:58:00.943435Z"
    }
   },
   "cell_type": "code",
   "source": [
    "def group_crossings(crossings, fs, max_duration=0.1):\n",
    "    \"\"\"\n",
    "    Groups consecutive indices into separate events based on gaps and duration.\n",
    "\n",
    "    Parameters:\n",
    "    - crossings: Array of indices where the condition is met.\n",
    "    - fs: Sampling rate (Hz).\n",
    "    - max_duration: Maximum event duration (seconds).\n",
    "\n",
    "    Returns:\n",
    "    - List of arrays, each containing indices of a single event.\n",
    "    \"\"\"\n",
    "    events = []\n",
    "    current_event = [crossings[0]]\n",
    "\n",
    "    # Define maximum gap as 1 sample after the event ends\n",
    "    max_gap = int(fs * max_duration)\n",
    "\n",
    "    for i in range(1, len(crossings)):\n",
    "        if crossings[i] - crossings[i - 1] <= max_gap:\n",
    "            current_event.append(crossings[i])\n",
    "        else:\n",
    "            # Save current event and start a new one\n",
    "            events.append(np.array(current_event))\n",
    "            current_event = [crossings[i]]\n",
    "\n",
    "    # Add the last event\n",
    "    if current_event:\n",
    "        events.append(np.array(current_event))\n",
    "\n",
    "    return events\n",
    "\n",
    "blinks = group_crossings(crossings, 250)\n",
    "len(blinks)"
   ],
   "id": "51eaa7868b560dc",
   "outputs": [
    {
     "name": "stdout",
     "output_type": "stream",
     "text": [
      "BlinkPeak(peak_idx=56, peak_value=-197.1456011026515, blink_length=41)\n",
      "BlinkPeak(peak_idx=1955, peak_value=-264.966334937009, blink_length=52)\n",
      "BlinkPeak(peak_idx=2752, peak_value=-252.78882600415633, blink_length=62)\n",
      "BlinkPeak(peak_idx=3493, peak_value=-191.387908442898, blink_length=29)\n",
      "BlinkPeak(peak_idx=4122, peak_value=-84.16236161643955, blink_length=7)\n",
      "BlinkPeak(peak_idx=4219, peak_value=-253.05054266440624, blink_length=42)\n",
      "BlinkPeak(peak_idx=4667, peak_value=-123.81637230302967, blink_length=18)\n",
      "BlinkPeak(peak_idx=6228, peak_value=-199.4420952417784, blink_length=31)\n",
      "BlinkPeak(peak_idx=6375, peak_value=-246.7309747200722, blink_length=39)\n",
      "BlinkPeak(peak_idx=7163, peak_value=-221.50093904020721, blink_length=38)\n"
     ]
    }
   ],
   "execution_count": 51
  },
  {
   "metadata": {
    "ExecuteTime": {
     "end_time": "2024-12-10T09:58:11.520488Z",
     "start_time": "2024-12-10T09:58:11.506632Z"
    }
   },
   "cell_type": "code",
   "source": [
    "from dataclasses import dataclass\n",
    "from typing import List, Tuple\n",
    "\n",
    "@dataclass\n",
    "class BlinkPeak:\n",
    "    peak_idx: int\n",
    "    peak_value: float\n",
    "    blink_length: int\n",
    "\n",
    "def extract_blink_peaks(eeg_data: List[float], blinks: List[List[int]]) -> List[BlinkPeak]:\n",
    "    # Extract blink peaks\n",
    "    blink_peaks = []\n",
    "    for blink in blinks:\n",
    "        peak_idx = np.argmin(eeg_data[blink]) + blink[0]  # Find min in each blink\n",
    "        blink_peaks.append(BlinkPeak(peak_idx, eeg_data[peak_idx], len(blink)))\n",
    "\n",
    "    return blink_peaks\n",
    "\n",
    "# Example usage\n",
    "blink_peaks = extract_blink_peaks(epoch_data, blinks)\n",
    "for peak in blink_peaks:\n",
    "    print(peak)"
   ],
   "id": "88c641aaf1ee26d0",
   "outputs": [
    {
     "name": "stdout",
     "output_type": "stream",
     "text": [
      "BlinkPeak(peak_idx=56, peak_value=-197.1456011026515, blink_length=41)\n",
      "BlinkPeak(peak_idx=1955, peak_value=-264.966334937009, blink_length=52)\n",
      "BlinkPeak(peak_idx=2752, peak_value=-252.78882600415633, blink_length=62)\n",
      "BlinkPeak(peak_idx=3493, peak_value=-191.387908442898, blink_length=29)\n",
      "BlinkPeak(peak_idx=4122, peak_value=-84.16236161643955, blink_length=7)\n",
      "BlinkPeak(peak_idx=4219, peak_value=-253.05054266440624, blink_length=42)\n",
      "BlinkPeak(peak_idx=4667, peak_value=-123.81637230302967, blink_length=18)\n",
      "BlinkPeak(peak_idx=6228, peak_value=-199.4420952417784, blink_length=31)\n",
      "BlinkPeak(peak_idx=6375, peak_value=-246.7309747200722, blink_length=39)\n",
      "BlinkPeak(peak_idx=7163, peak_value=-221.50093904020721, blink_length=38)\n"
     ]
    }
   ],
   "execution_count": 52
  },
  {
   "metadata": {
    "ExecuteTime": {
     "end_time": "2024-12-10T10:02:41.007844Z",
     "start_time": "2024-12-10T10:02:40.944368Z"
    }
   },
   "cell_type": "code",
   "source": [
    "import numpy as np\n",
    "\n",
    "def detect_blinks(eeg_data, fs, threshold=-75, max_duration=0.3):\n",
    "    softened = gaussian_filter1d(epoch_data, 1)\n",
    "    # Detect threshold crossings\n",
    "    crossings = np.where(softened < threshold)[0]\n",
    "    blinks_raw = group_crossings(crossings, fs, max_duration)\n",
    "    return extract_blink_peaks(eeg_data, blinks_raw)\n",
    "\n",
    "epoch_data = extract_epoch(112, mne_filtered)\n",
    "detect_blinks(epoch_data, 250)"
   ],
   "id": "2001d516fbb88878",
   "outputs": [
    {
     "name": "stdout",
     "output_type": "stream",
     "text": [
      "Start sample: 840000\n",
      "End sample: 847500\n",
      "Epoch data shape: (7500,)\n"
     ]
    },
    {
     "data": {
      "text/plain": [
       "[BlinkPeak(peak_idx=510, peak_value=-118.85543957268686, blink_length=27),\n",
       " BlinkPeak(peak_idx=7099, peak_value=-110.44563709562814, blink_length=31)]"
      ]
     },
     "execution_count": 56,
     "metadata": {},
     "output_type": "execute_result"
    }
   ],
   "execution_count": 56
  },
  {
   "metadata": {},
   "cell_type": "code",
   "outputs": [],
   "execution_count": null,
   "source": "",
   "id": "b01bec6fe2d283b"
  }
 ],
 "metadata": {
  "kernelspec": {
   "display_name": "Python 3",
   "language": "python",
   "name": "python3"
  },
  "language_info": {
   "codemirror_mode": {
    "name": "ipython",
    "version": 2
   },
   "file_extension": ".py",
   "mimetype": "text/x-python",
   "name": "python",
   "nbconvert_exporter": "python",
   "pygments_lexer": "ipython2",
   "version": "2.7.6"
  }
 },
 "nbformat": 4,
 "nbformat_minor": 5
}
