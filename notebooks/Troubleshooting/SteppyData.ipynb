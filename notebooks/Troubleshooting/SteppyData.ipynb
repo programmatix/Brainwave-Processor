{
 "cells": [
  {
   "metadata": {
    "ExecuteTime": {
     "end_time": "2024-12-11T07:33:14.692700Z",
     "start_time": "2024-12-11T07:33:14.678030Z"
    }
   },
   "cell_type": "code",
   "source": [
    "#%reload_ext autoreload\n",
    "#%autoreload 2\n",
    "import logging\n",
    "log = lambda msg: logging.info(msg)\n",
    "import os\n",
    "logging.basicConfig(level=logging.INFO, format='%(asctime)s - %(levelname)s - %(message)s')\n"
   ],
   "id": "34b2ec6a149ab9b1",
   "outputs": [],
   "execution_count": 2
  },
  {
   "metadata": {},
   "cell_type": "markdown",
   "source": "# Inspect why some EEG files are 'steppy'",
   "id": "2140c92f6e1c50de"
  },
  {
   "metadata": {
    "ExecuteTime": {
     "end_time": "2024-12-11T07:37:09.077029Z",
     "start_time": "2024-12-11T07:37:09.061007Z"
    }
   },
   "cell_type": "code",
   "source": [
    "import pandas as pd\n",
    "\n",
    "input_file = \"C:\\\\dev\\\\play\\\\brainwave-data\\\\2024-12-09-21-29-08\\\\raw.fif\"\n",
    "\n",
    "input_file_without_ext = os.path.splitext(input_file)[0]\n",
    "input_dir = \"C:\\\\dev\\\\play\\\\brainwave-data\"\n"
   ],
   "id": "38badb0fe1b17412",
   "outputs": [],
   "execution_count": 9
  },
  {
   "metadata": {
    "ExecuteTime": {
     "end_time": "2024-12-11T07:37:12.000603Z",
     "start_time": "2024-12-11T07:37:10.070153Z"
    }
   },
   "cell_type": "code",
   "source": [
    "from convert import load_mne_file\n",
    "raw, input_file_without_ext, mne_filtered = load_mne_file(log, input_file)"
   ],
   "id": "a0b46a47302eaee2",
   "outputs": [
    {
     "name": "stderr",
     "output_type": "stream",
     "text": [
      "2024-12-11 07:37:10,072 - INFO - Reading file C:\\dev\\play\\brainwave-data\\2024-12-09-21-29-08\\raw.fif\n"
     ]
    },
    {
     "name": "stdout",
     "output_type": "stream",
     "text": [
      "Opening raw data file C:\\dev\\play\\brainwave-data\\2024-12-09-21-29-08\\raw.fif...\n",
      "Isotrak not found\n",
      "    Range : 0 ... 9281681 =      0.000 ... 37126.724 secs\n",
      "Ready.\n",
      "Reading 0 ... 9281681  =      0.000 ... 37126.724 secs...\n"
     ]
    },
    {
     "name": "stderr",
     "output_type": "stream",
     "text": [
      "2024-12-11 07:37:10,709 - INFO - Finished reading file C:\\dev\\play\\brainwave-data\\2024-12-09-21-29-08\\raw.fif\n"
     ]
    }
   ],
   "execution_count": 10
  },
  {
   "metadata": {
    "ExecuteTime": {
     "end_time": "2024-12-11T07:37:12.964149Z",
     "start_time": "2024-12-11T07:37:12.915931Z"
    }
   },
   "cell_type": "code",
   "source": "data = raw.get_data(units=dict(eeg=\"uV\"))",
   "id": "c523dbefdefc5521",
   "outputs": [],
   "execution_count": 11
  },
  {
   "metadata": {
    "ExecuteTime": {
     "end_time": "2024-12-11T07:37:13.978483Z",
     "start_time": "2024-12-11T07:37:13.290811Z"
    }
   },
   "cell_type": "code",
   "source": [
    "import numpy as np\n",
    "num_unique = len(np.unique(data))\n",
    "unique_ratio = num_unique / len(data)\n",
    "unique_ratio"
   ],
   "id": "c1e940543e33ee82",
   "outputs": [
    {
     "data": {
      "text/plain": [
       "1046394.0"
      ]
     },
     "execution_count": 12,
     "metadata": {},
     "output_type": "execute_result"
    }
   ],
   "execution_count": 12
  },
  {
   "metadata": {},
   "cell_type": "code",
   "outputs": [],
   "execution_count": null,
   "source": "",
   "id": "5cbff3db8cf02106"
  }
 ],
 "metadata": {
  "kernelspec": {
   "display_name": "Python 3",
   "language": "python",
   "name": "python3"
  },
  "language_info": {
   "codemirror_mode": {
    "name": "ipython",
    "version": 2
   },
   "file_extension": ".py",
   "mimetype": "text/x-python",
   "name": "python",
   "nbconvert_exporter": "python",
   "pygments_lexer": "ipython2",
   "version": "2.7.6"
  }
 },
 "nbformat": 4,
 "nbformat_minor": 5
}
