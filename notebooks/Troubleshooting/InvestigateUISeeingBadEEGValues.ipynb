{
 "cells": [
  {
   "metadata": {},
   "cell_type": "markdown",
   "source": "If a given feature is showing weird values, perhaps for a particular day, this notebook will track down where the issue is (unless it's on UI side).",
   "id": "3892a2293c45c123"
  },
  {
   "cell_type": "code",
   "id": "initial_id",
   "metadata": {
    "collapsed": true,
    "ExecuteTime": {
     "end_time": "2025-02-07T09:10:56.361120Z",
     "start_time": "2025-02-07T09:10:56.350122Z"
    }
   },
   "source": [
    "import logging\n",
    "logging.basicConfig(level=logging.INFO, format='%(asctime)s - %(levelname)s - %(message)s')\n",
    "log = lambda msg: logging.info(msg)\n"
   ],
   "outputs": [],
   "execution_count": 1
  },
  {
   "metadata": {
    "ExecuteTime": {
     "end_time": "2025-02-07T09:10:57.160310Z",
     "start_time": "2025-02-07T09:10:56.372206Z"
    }
   },
   "cell_type": "code",
   "source": [
    "import pandas as pd\n",
    "import os\n",
    "\n",
    "input_dir = \"C:\\\\dev\\\\play\\\\brainwave-data\"\n",
    "stats_df = pd.read_csv(input_dir + os.path.sep + \"stats.csv\")"
   ],
   "id": "69fc66b1853d1db9",
   "outputs": [],
   "execution_count": 2
  },
  {
   "metadata": {
    "ExecuteTime": {
     "end_time": "2025-02-07T09:11:14.422536Z",
     "start_time": "2025-02-07T09:10:57.256402Z"
    }
   },
   "cell_type": "code",
   "source": [
    "from sleep_events import load_days_data\n",
    "\n",
    "day_data = load_days_data(True)"
   ],
   "id": "b2c59836f7290a88",
   "outputs": [],
   "execution_count": 3
  },
  {
   "metadata": {
    "ExecuteTime": {
     "end_time": "2025-02-07T09:11:14.469910Z",
     "start_time": "2025-02-07T09:11:14.448561Z"
    }
   },
   "cell_type": "code",
   "source": "[col for col in day_data.columns if 'R:sdeltaabs' in col]",
   "id": "5eec5844ffe848f",
   "outputs": [
    {
     "data": {
      "text/plain": [
       "['night:yasaExtended:R:sdeltaabs_s:mean',\n",
       " 'night:yasaExtended:R:sdeltaabs:mean']"
      ]
     },
     "execution_count": 4,
     "metadata": {},
     "output_type": "execute_result"
    }
   ],
   "execution_count": 4
  },
  {
   "metadata": {
    "ExecuteTime": {
     "end_time": "2025-02-07T09:11:14.550194Z",
     "start_time": "2025-02-07T09:11:14.533882Z"
    }
   },
   "cell_type": "code",
   "source": "bad_feat = 'night:yasaExtended:R:sdeltaabs:mean'",
   "id": "f62658d531f5f1a6",
   "outputs": [],
   "execution_count": 6
  },
  {
   "metadata": {},
   "cell_type": "markdown",
   "source": "# Find days where UI data is bad\n",
   "id": "f379dc2892c07032"
  },
  {
   "metadata": {
    "ExecuteTime": {
     "end_time": "2025-02-07T09:11:14.584996Z",
     "start_time": "2025-02-07T09:11:14.570675Z"
    }
   },
   "cell_type": "code",
   "source": "day_data[bad_feat].describe()",
   "id": "4b14900e003cf1e3",
   "outputs": [
    {
     "data": {
      "text/plain": [
       "count    84.000000\n",
       "mean      0.051364\n",
       "std       0.085321\n",
       "min       0.018287\n",
       "25%       0.023069\n",
       "50%       0.025542\n",
       "75%       0.027835\n",
       "max       0.439318\n",
       "Name: night:yasaExtended:R:sdeltaabs:mean, dtype: float64"
      ]
     },
     "execution_count": 7,
     "metadata": {},
     "output_type": "execute_result"
    }
   ],
   "execution_count": 7
  },
  {
   "metadata": {
    "ExecuteTime": {
     "end_time": "2025-02-07T09:11:14.717246Z",
     "start_time": "2025-02-07T09:11:14.685590Z"
    }
   },
   "cell_type": "code",
   "source": "day_data[['dayAndNightOf', bad_feat]].dropna()",
   "id": "f0e01eb74bdb70c",
   "outputs": [
    {
     "data": {
      "text/plain": [
       "    dayAndNightOf  night:yasaExtended:R:sdeltaabs:mean\n",
       "119    2024-08-18                             0.026505\n",
       "120    2024-08-19                             0.027335\n",
       "121    2024-08-20                             0.018287\n",
       "122    2024-08-21                             0.019832\n",
       "123    2024-08-22                             0.022546\n",
       "..            ...                                  ...\n",
       "277    2025-01-23                             0.101339\n",
       "281    2025-01-27                             0.405882\n",
       "282    2025-01-28                             0.077918\n",
       "284    2025-01-30                             0.398514\n",
       "285    2025-01-31                             0.326771\n",
       "\n",
       "[84 rows x 2 columns]"
      ],
      "text/html": [
       "<div>\n",
       "<style scoped>\n",
       "    .dataframe tbody tr th:only-of-type {\n",
       "        vertical-align: middle;\n",
       "    }\n",
       "\n",
       "    .dataframe tbody tr th {\n",
       "        vertical-align: top;\n",
       "    }\n",
       "\n",
       "    .dataframe thead th {\n",
       "        text-align: right;\n",
       "    }\n",
       "</style>\n",
       "<table border=\"1\" class=\"dataframe\">\n",
       "  <thead>\n",
       "    <tr style=\"text-align: right;\">\n",
       "      <th></th>\n",
       "      <th>dayAndNightOf</th>\n",
       "      <th>night:yasaExtended:R:sdeltaabs:mean</th>\n",
       "    </tr>\n",
       "  </thead>\n",
       "  <tbody>\n",
       "    <tr>\n",
       "      <th>119</th>\n",
       "      <td>2024-08-18</td>\n",
       "      <td>0.026505</td>\n",
       "    </tr>\n",
       "    <tr>\n",
       "      <th>120</th>\n",
       "      <td>2024-08-19</td>\n",
       "      <td>0.027335</td>\n",
       "    </tr>\n",
       "    <tr>\n",
       "      <th>121</th>\n",
       "      <td>2024-08-20</td>\n",
       "      <td>0.018287</td>\n",
       "    </tr>\n",
       "    <tr>\n",
       "      <th>122</th>\n",
       "      <td>2024-08-21</td>\n",
       "      <td>0.019832</td>\n",
       "    </tr>\n",
       "    <tr>\n",
       "      <th>123</th>\n",
       "      <td>2024-08-22</td>\n",
       "      <td>0.022546</td>\n",
       "    </tr>\n",
       "    <tr>\n",
       "      <th>...</th>\n",
       "      <td>...</td>\n",
       "      <td>...</td>\n",
       "    </tr>\n",
       "    <tr>\n",
       "      <th>277</th>\n",
       "      <td>2025-01-23</td>\n",
       "      <td>0.101339</td>\n",
       "    </tr>\n",
       "    <tr>\n",
       "      <th>281</th>\n",
       "      <td>2025-01-27</td>\n",
       "      <td>0.405882</td>\n",
       "    </tr>\n",
       "    <tr>\n",
       "      <th>282</th>\n",
       "      <td>2025-01-28</td>\n",
       "      <td>0.077918</td>\n",
       "    </tr>\n",
       "    <tr>\n",
       "      <th>284</th>\n",
       "      <td>2025-01-30</td>\n",
       "      <td>0.398514</td>\n",
       "    </tr>\n",
       "    <tr>\n",
       "      <th>285</th>\n",
       "      <td>2025-01-31</td>\n",
       "      <td>0.326771</td>\n",
       "    </tr>\n",
       "  </tbody>\n",
       "</table>\n",
       "<p>84 rows × 2 columns</p>\n",
       "</div>"
      ]
     },
     "execution_count": 8,
     "metadata": {},
     "output_type": "execute_result"
    }
   ],
   "execution_count": 8
  },
  {
   "metadata": {
    "ExecuteTime": {
     "end_time": "2025-02-07T09:24:32.814290Z",
     "start_time": "2025-02-07T09:24:32.805408Z"
    }
   },
   "cell_type": "code",
   "source": [
    "bad_day = '2025-01-31'\n",
    "bad_folder = '2025-01-31-21-45-23'\n",
    "good_day = '2025-01-07  '\n",
    "good_folder = '2025-01-07-21-12-58'"
   ],
   "id": "dd33f6d6e69966f7",
   "outputs": [],
   "execution_count": 29
  },
  {
   "metadata": {},
   "cell_type": "markdown",
   "source": "# Data files",
   "id": "9adc9668e7bd928d"
  },
  {
   "metadata": {
    "ExecuteTime": {
     "end_time": "2025-02-07T09:24:58.082984Z",
     "start_time": "2025-02-07T09:24:58.067316Z"
    }
   },
   "cell_type": "code",
   "source": [
    "def files_for_folder(folder_name: str):\n",
    "    file_info = []\n",
    "\n",
    "    for file_name in os.listdir(os.path.join(input_dir, folder_name)):\n",
    "        if file_name.endswith('.csv'):\n",
    "            full_path = os.path.join(input_dir, folder_name, file_name)\n",
    "            modification_time = os.path.getmtime(full_path)\n",
    "            file_info.append({'file_name': file_name, 'full_path': full_path, 'modification_time': modification_time})\n",
    "    df_files = pd.DataFrame(file_info)\n",
    "    df_files['modification_time'] = pd.to_datetime(df_files['modification_time'], unit='s')\n",
    "    return df_files\n",
    "\n",
    "df_files = files_for_folder(bad_folder)\n",
    "df_files"
   ],
   "id": "b59d3e6f8b3fe4df",
   "outputs": [
    {
     "data": {
      "text/plain": [
       "                     file_name  \\\n",
       "0         raw.microwakings.csv   \n",
       "1    raw.physical_features.csv   \n",
       "2           raw.post_human.csv   \n",
       "3            raw.post_yasa.csv   \n",
       "4         raw.sleep_stages.csv   \n",
       "5  raw.sleep_stages.Fpz-M1.csv   \n",
       "6        raw.with_features.csv   \n",
       "7                 raw.yasa.csv   \n",
       "\n",
       "                                           full_path  \\\n",
       "0  C:\\dev\\play\\brainwave-data\\2025-01-31-21-45-23...   \n",
       "1  C:\\dev\\play\\brainwave-data\\2025-01-31-21-45-23...   \n",
       "2  C:\\dev\\play\\brainwave-data\\2025-01-31-21-45-23...   \n",
       "3  C:\\dev\\play\\brainwave-data\\2025-01-31-21-45-23...   \n",
       "4  C:\\dev\\play\\brainwave-data\\2025-01-31-21-45-23...   \n",
       "5  C:\\dev\\play\\brainwave-data\\2025-01-31-21-45-23...   \n",
       "6  C:\\dev\\play\\brainwave-data\\2025-01-31-21-45-23...   \n",
       "7  C:\\dev\\play\\brainwave-data\\2025-01-31-21-45-23...   \n",
       "\n",
       "              modification_time  \n",
       "0 2025-02-01 14:08:55.712017298  \n",
       "1 2025-02-01 14:07:31.228470087  \n",
       "2 2025-02-03 07:57:56.651539803  \n",
       "3 2025-02-01 14:08:12.456092119  \n",
       "4 2025-02-01 14:07:12.195030451  \n",
       "5 2025-02-01 14:06:56.863138676  \n",
       "6 2025-02-01 14:10:14.104509592  \n",
       "7 2025-02-01 14:07:28.430262566  "
      ],
      "text/html": [
       "<div>\n",
       "<style scoped>\n",
       "    .dataframe tbody tr th:only-of-type {\n",
       "        vertical-align: middle;\n",
       "    }\n",
       "\n",
       "    .dataframe tbody tr th {\n",
       "        vertical-align: top;\n",
       "    }\n",
       "\n",
       "    .dataframe thead th {\n",
       "        text-align: right;\n",
       "    }\n",
       "</style>\n",
       "<table border=\"1\" class=\"dataframe\">\n",
       "  <thead>\n",
       "    <tr style=\"text-align: right;\">\n",
       "      <th></th>\n",
       "      <th>file_name</th>\n",
       "      <th>full_path</th>\n",
       "      <th>modification_time</th>\n",
       "    </tr>\n",
       "  </thead>\n",
       "  <tbody>\n",
       "    <tr>\n",
       "      <th>0</th>\n",
       "      <td>raw.microwakings.csv</td>\n",
       "      <td>C:\\dev\\play\\brainwave-data\\2025-01-31-21-45-23...</td>\n",
       "      <td>2025-02-01 14:08:55.712017298</td>\n",
       "    </tr>\n",
       "    <tr>\n",
       "      <th>1</th>\n",
       "      <td>raw.physical_features.csv</td>\n",
       "      <td>C:\\dev\\play\\brainwave-data\\2025-01-31-21-45-23...</td>\n",
       "      <td>2025-02-01 14:07:31.228470087</td>\n",
       "    </tr>\n",
       "    <tr>\n",
       "      <th>2</th>\n",
       "      <td>raw.post_human.csv</td>\n",
       "      <td>C:\\dev\\play\\brainwave-data\\2025-01-31-21-45-23...</td>\n",
       "      <td>2025-02-03 07:57:56.651539803</td>\n",
       "    </tr>\n",
       "    <tr>\n",
       "      <th>3</th>\n",
       "      <td>raw.post_yasa.csv</td>\n",
       "      <td>C:\\dev\\play\\brainwave-data\\2025-01-31-21-45-23...</td>\n",
       "      <td>2025-02-01 14:08:12.456092119</td>\n",
       "    </tr>\n",
       "    <tr>\n",
       "      <th>4</th>\n",
       "      <td>raw.sleep_stages.csv</td>\n",
       "      <td>C:\\dev\\play\\brainwave-data\\2025-01-31-21-45-23...</td>\n",
       "      <td>2025-02-01 14:07:12.195030451</td>\n",
       "    </tr>\n",
       "    <tr>\n",
       "      <th>5</th>\n",
       "      <td>raw.sleep_stages.Fpz-M1.csv</td>\n",
       "      <td>C:\\dev\\play\\brainwave-data\\2025-01-31-21-45-23...</td>\n",
       "      <td>2025-02-01 14:06:56.863138676</td>\n",
       "    </tr>\n",
       "    <tr>\n",
       "      <th>6</th>\n",
       "      <td>raw.with_features.csv</td>\n",
       "      <td>C:\\dev\\play\\brainwave-data\\2025-01-31-21-45-23...</td>\n",
       "      <td>2025-02-01 14:10:14.104509592</td>\n",
       "    </tr>\n",
       "    <tr>\n",
       "      <th>7</th>\n",
       "      <td>raw.yasa.csv</td>\n",
       "      <td>C:\\dev\\play\\brainwave-data\\2025-01-31-21-45-23...</td>\n",
       "      <td>2025-02-01 14:07:28.430262566</td>\n",
       "    </tr>\n",
       "  </tbody>\n",
       "</table>\n",
       "</div>"
      ]
     },
     "execution_count": 33,
     "metadata": {},
     "output_type": "execute_result"
    }
   ],
   "execution_count": 33
  },
  {
   "metadata": {
    "ExecuteTime": {
     "end_time": "2025-02-07T09:12:24.627176Z",
     "start_time": "2025-02-07T09:12:24.570276Z"
    }
   },
   "cell_type": "code",
   "source": [
    "# This is what the UI uses\n",
    "file_path = df_files[df_files['file_name'] == 'raw.with_features.csv']['full_path'].values[0]\n",
    "df = pd.read_csv(file_path)"
   ],
   "id": "32b6824c26d8967",
   "outputs": [],
   "execution_count": 11
  },
  {
   "metadata": {
    "ExecuteTime": {
     "end_time": "2025-02-07T09:12:26.228518Z",
     "start_time": "2025-02-07T09:12:26.218542Z"
    }
   },
   "cell_type": "code",
   "source": "[col for col in df.columns if 'sdeltaabs' in col]",
   "id": "888c3bfb5b7149fd",
   "outputs": [
    {
     "data": {
      "text/plain": [
       "['Main_eeg_sdeltaabs',\n",
       " 'Main_eeg_sdeltaabs_c7min_norm',\n",
       " 'Main_eeg_sdeltaabs_p2min_norm',\n",
       " 'Main_eeg_sdeltaabs_s',\n",
       " 'Main_eeg_sdeltaabs_c7min_norm_s',\n",
       " 'Main_eeg_sdeltaabs_p2min_norm_s']"
      ]
     },
     "execution_count": 12,
     "metadata": {},
     "output_type": "execute_result"
    }
   ],
   "execution_count": 12
  },
  {
   "metadata": {
    "ExecuteTime": {
     "end_time": "2025-02-07T09:12:32.491306Z",
     "start_time": "2025-02-07T09:12:32.481291Z"
    }
   },
   "cell_type": "code",
   "source": "bad_feat_eeg = 'Main_eeg_sdeltaabs'",
   "id": "23a106864f45db4c",
   "outputs": [],
   "execution_count": 13
  },
  {
   "metadata": {
    "ExecuteTime": {
     "end_time": "2025-02-07T09:28:15.096106Z",
     "start_time": "2025-02-07T09:28:15.019661Z"
    }
   },
   "cell_type": "code",
   "source": [
    "file_path = df_files[df_files['file_name'] == 'raw.post_yasa.csv']['full_path'].values[0]\n",
    "post_yasa_df = pd.read_csv(file_path)\n",
    "R = post_yasa_df[post_yasa_df['Stage'] == 'R']\n",
    "R[bad_feat_eeg].describe()"
   ],
   "id": "b3ffc01c83431029",
   "outputs": [
    {
     "data": {
      "text/plain": [
       "count    298.000000\n",
       "mean       7.725530\n",
       "std       53.645499\n",
       "min        0.006301\n",
       "25%        0.013400\n",
       "50%        0.032253\n",
       "75%        0.125037\n",
       "max      709.547670\n",
       "Name: Main_eeg_sdeltaabs, dtype: float64"
      ]
     },
     "execution_count": 40,
     "metadata": {},
     "output_type": "execute_result"
    }
   ],
   "execution_count": 40
  },
  {
   "metadata": {
    "ExecuteTime": {
     "end_time": "2025-02-07T09:14:27.898859Z",
     "start_time": "2025-02-07T09:14:27.883236Z"
    }
   },
   "cell_type": "code",
   "source": "R[['Epoch', 'Stage', 'Timestamp', bad_feat_eeg]]",
   "id": "135c7e36a15b030c",
   "outputs": [
    {
     "data": {
      "text/plain": [
       "      Epoch Stage                            Timestamp  Main_eeg_sdeltaabs\n",
       "398     398     R  2025-02-01 01:04:23.727721930+00:00           10.058379\n",
       "399     399     R  2025-02-01 01:04:53.727721930+00:00            0.067572\n",
       "400     400     R  2025-02-01 01:05:23.727721930+00:00            0.046309\n",
       "401     401     R  2025-02-01 01:05:53.727721930+00:00            0.027815\n",
       "402     402     R  2025-02-01 01:06:23.727721930+00:00            0.064676\n",
       "...     ...   ...                                  ...                 ...\n",
       "1204   1204     R  2025-02-01 07:47:23.727721930+00:00            0.043711\n",
       "1205   1205     R  2025-02-01 07:47:53.727721930+00:00            0.010118\n",
       "1206   1206     R  2025-02-01 07:48:23.727721930+00:00            0.012985\n",
       "1207   1207     R  2025-02-01 07:48:53.727721930+00:00            0.012762\n",
       "1208   1208     R  2025-02-01 07:49:23.727721930+00:00           14.533446\n",
       "\n",
       "[298 rows x 4 columns]"
      ],
      "text/html": [
       "<div>\n",
       "<style scoped>\n",
       "    .dataframe tbody tr th:only-of-type {\n",
       "        vertical-align: middle;\n",
       "    }\n",
       "\n",
       "    .dataframe tbody tr th {\n",
       "        vertical-align: top;\n",
       "    }\n",
       "\n",
       "    .dataframe thead th {\n",
       "        text-align: right;\n",
       "    }\n",
       "</style>\n",
       "<table border=\"1\" class=\"dataframe\">\n",
       "  <thead>\n",
       "    <tr style=\"text-align: right;\">\n",
       "      <th></th>\n",
       "      <th>Epoch</th>\n",
       "      <th>Stage</th>\n",
       "      <th>Timestamp</th>\n",
       "      <th>Main_eeg_sdeltaabs</th>\n",
       "    </tr>\n",
       "  </thead>\n",
       "  <tbody>\n",
       "    <tr>\n",
       "      <th>398</th>\n",
       "      <td>398</td>\n",
       "      <td>R</td>\n",
       "      <td>2025-02-01 01:04:23.727721930+00:00</td>\n",
       "      <td>10.058379</td>\n",
       "    </tr>\n",
       "    <tr>\n",
       "      <th>399</th>\n",
       "      <td>399</td>\n",
       "      <td>R</td>\n",
       "      <td>2025-02-01 01:04:53.727721930+00:00</td>\n",
       "      <td>0.067572</td>\n",
       "    </tr>\n",
       "    <tr>\n",
       "      <th>400</th>\n",
       "      <td>400</td>\n",
       "      <td>R</td>\n",
       "      <td>2025-02-01 01:05:23.727721930+00:00</td>\n",
       "      <td>0.046309</td>\n",
       "    </tr>\n",
       "    <tr>\n",
       "      <th>401</th>\n",
       "      <td>401</td>\n",
       "      <td>R</td>\n",
       "      <td>2025-02-01 01:05:53.727721930+00:00</td>\n",
       "      <td>0.027815</td>\n",
       "    </tr>\n",
       "    <tr>\n",
       "      <th>402</th>\n",
       "      <td>402</td>\n",
       "      <td>R</td>\n",
       "      <td>2025-02-01 01:06:23.727721930+00:00</td>\n",
       "      <td>0.064676</td>\n",
       "    </tr>\n",
       "    <tr>\n",
       "      <th>...</th>\n",
       "      <td>...</td>\n",
       "      <td>...</td>\n",
       "      <td>...</td>\n",
       "      <td>...</td>\n",
       "    </tr>\n",
       "    <tr>\n",
       "      <th>1204</th>\n",
       "      <td>1204</td>\n",
       "      <td>R</td>\n",
       "      <td>2025-02-01 07:47:23.727721930+00:00</td>\n",
       "      <td>0.043711</td>\n",
       "    </tr>\n",
       "    <tr>\n",
       "      <th>1205</th>\n",
       "      <td>1205</td>\n",
       "      <td>R</td>\n",
       "      <td>2025-02-01 07:47:53.727721930+00:00</td>\n",
       "      <td>0.010118</td>\n",
       "    </tr>\n",
       "    <tr>\n",
       "      <th>1206</th>\n",
       "      <td>1206</td>\n",
       "      <td>R</td>\n",
       "      <td>2025-02-01 07:48:23.727721930+00:00</td>\n",
       "      <td>0.012985</td>\n",
       "    </tr>\n",
       "    <tr>\n",
       "      <th>1207</th>\n",
       "      <td>1207</td>\n",
       "      <td>R</td>\n",
       "      <td>2025-02-01 07:48:53.727721930+00:00</td>\n",
       "      <td>0.012762</td>\n",
       "    </tr>\n",
       "    <tr>\n",
       "      <th>1208</th>\n",
       "      <td>1208</td>\n",
       "      <td>R</td>\n",
       "      <td>2025-02-01 07:49:23.727721930+00:00</td>\n",
       "      <td>14.533446</td>\n",
       "    </tr>\n",
       "  </tbody>\n",
       "</table>\n",
       "<p>298 rows × 4 columns</p>\n",
       "</div>"
      ]
     },
     "execution_count": 22,
     "metadata": {},
     "output_type": "execute_result"
    }
   ],
   "execution_count": 22
  },
  {
   "metadata": {},
   "cell_type": "markdown",
   "source": "# Compare to days where UI data is fine",
   "id": "f86556578f4ff08"
  },
  {
   "metadata": {
    "ExecuteTime": {
     "end_time": "2025-02-07T09:25:00.074708Z",
     "start_time": "2025-02-07T09:24:59.981222Z"
    }
   },
   "cell_type": "code",
   "source": [
    "good_files = files_for_folder(good_folder)\n",
    "\n",
    "# This is what the UI uses\n",
    "good_with_features_file_path = good_files[good_files['file_name'] == 'raw.with_features.csv']['full_path'].values[0]\n",
    "good_df = pd.read_csv(good_with_features_file_path)\n",
    "good_df[bad_feat_eeg].describe()"
   ],
   "id": "e45105c1f59cc9cb",
   "outputs": [
    {
     "data": {
      "text/plain": [
       "count     1271.000000\n",
       "mean        43.193170\n",
       "std        979.545555\n",
       "min          0.000001\n",
       "25%          0.024653\n",
       "50%          0.061637\n",
       "75%          0.281348\n",
       "max      29615.360000\n",
       "Name: Main_eeg_sdeltaabs, dtype: float64"
      ]
     },
     "execution_count": 34,
     "metadata": {},
     "output_type": "execute_result"
    }
   ],
   "execution_count": 34
  },
  {
   "metadata": {
    "ExecuteTime": {
     "end_time": "2025-02-07T09:28:37.229350Z",
     "start_time": "2025-02-07T09:28:37.144174Z"
    }
   },
   "cell_type": "code",
   "source": [
    "file_path = good_files[good_files['file_name'] == 'raw.post_yasa.csv']['full_path'].values[0]\n",
    "good_post_yasa_df = pd.read_csv(file_path)\n",
    "good_R = good_post_yasa_df[good_post_yasa_df['Stage'] == 'R']\n",
    "good_R[bad_feat_eeg].describe()"
   ],
   "id": "7274dfdb90206b6a",
   "outputs": [
    {
     "data": {
      "text/plain": [
       "count    292.000000\n",
       "mean       0.047768\n",
       "std        0.080415\n",
       "min        0.006128\n",
       "25%        0.015164\n",
       "50%        0.023577\n",
       "75%        0.044886\n",
       "max        0.888901\n",
       "Name: Main_eeg_sdeltaabs, dtype: float64"
      ]
     },
     "execution_count": 41,
     "metadata": {},
     "output_type": "execute_result"
    }
   ],
   "execution_count": 41
  },
  {
   "metadata": {
    "ExecuteTime": {
     "end_time": "2025-02-07T09:28:45.423672Z",
     "start_time": "2025-02-07T09:28:45.408041Z"
    }
   },
   "cell_type": "code",
   "source": "good_R[['Epoch', 'Stage', 'Timestamp', bad_feat_eeg]]",
   "id": "34b7daf104fffca3",
   "outputs": [
    {
     "data": {
      "text/plain": [
       "      Epoch Stage                            Timestamp  Main_eeg_sdeltaabs\n",
       "283     283     R  2025-01-07 23:34:28.465799093+00:00            0.025504\n",
       "288     288     R  2025-01-07 23:36:58.465799093+00:00            0.018964\n",
       "289     289     R  2025-01-07 23:37:28.465799093+00:00            0.024894\n",
       "290     290     R  2025-01-07 23:37:58.465799093+00:00            0.013525\n",
       "291     291     R  2025-01-07 23:38:28.465799093+00:00            0.019112\n",
       "...     ...   ...                                  ...                 ...\n",
       "1221   1221     R  2025-01-08 07:23:28.465799093+00:00            0.013356\n",
       "1222   1222     R  2025-01-08 07:23:58.465799093+00:00            0.016545\n",
       "1223   1223     R  2025-01-08 07:24:28.465799093+00:00            0.016897\n",
       "1224   1224     R  2025-01-08 07:24:58.465799093+00:00            0.012112\n",
       "1225   1225     R  2025-01-08 07:25:28.465799093+00:00            0.023505\n",
       "\n",
       "[292 rows x 4 columns]"
      ],
      "text/html": [
       "<div>\n",
       "<style scoped>\n",
       "    .dataframe tbody tr th:only-of-type {\n",
       "        vertical-align: middle;\n",
       "    }\n",
       "\n",
       "    .dataframe tbody tr th {\n",
       "        vertical-align: top;\n",
       "    }\n",
       "\n",
       "    .dataframe thead th {\n",
       "        text-align: right;\n",
       "    }\n",
       "</style>\n",
       "<table border=\"1\" class=\"dataframe\">\n",
       "  <thead>\n",
       "    <tr style=\"text-align: right;\">\n",
       "      <th></th>\n",
       "      <th>Epoch</th>\n",
       "      <th>Stage</th>\n",
       "      <th>Timestamp</th>\n",
       "      <th>Main_eeg_sdeltaabs</th>\n",
       "    </tr>\n",
       "  </thead>\n",
       "  <tbody>\n",
       "    <tr>\n",
       "      <th>283</th>\n",
       "      <td>283</td>\n",
       "      <td>R</td>\n",
       "      <td>2025-01-07 23:34:28.465799093+00:00</td>\n",
       "      <td>0.025504</td>\n",
       "    </tr>\n",
       "    <tr>\n",
       "      <th>288</th>\n",
       "      <td>288</td>\n",
       "      <td>R</td>\n",
       "      <td>2025-01-07 23:36:58.465799093+00:00</td>\n",
       "      <td>0.018964</td>\n",
       "    </tr>\n",
       "    <tr>\n",
       "      <th>289</th>\n",
       "      <td>289</td>\n",
       "      <td>R</td>\n",
       "      <td>2025-01-07 23:37:28.465799093+00:00</td>\n",
       "      <td>0.024894</td>\n",
       "    </tr>\n",
       "    <tr>\n",
       "      <th>290</th>\n",
       "      <td>290</td>\n",
       "      <td>R</td>\n",
       "      <td>2025-01-07 23:37:58.465799093+00:00</td>\n",
       "      <td>0.013525</td>\n",
       "    </tr>\n",
       "    <tr>\n",
       "      <th>291</th>\n",
       "      <td>291</td>\n",
       "      <td>R</td>\n",
       "      <td>2025-01-07 23:38:28.465799093+00:00</td>\n",
       "      <td>0.019112</td>\n",
       "    </tr>\n",
       "    <tr>\n",
       "      <th>...</th>\n",
       "      <td>...</td>\n",
       "      <td>...</td>\n",
       "      <td>...</td>\n",
       "      <td>...</td>\n",
       "    </tr>\n",
       "    <tr>\n",
       "      <th>1221</th>\n",
       "      <td>1221</td>\n",
       "      <td>R</td>\n",
       "      <td>2025-01-08 07:23:28.465799093+00:00</td>\n",
       "      <td>0.013356</td>\n",
       "    </tr>\n",
       "    <tr>\n",
       "      <th>1222</th>\n",
       "      <td>1222</td>\n",
       "      <td>R</td>\n",
       "      <td>2025-01-08 07:23:58.465799093+00:00</td>\n",
       "      <td>0.016545</td>\n",
       "    </tr>\n",
       "    <tr>\n",
       "      <th>1223</th>\n",
       "      <td>1223</td>\n",
       "      <td>R</td>\n",
       "      <td>2025-01-08 07:24:28.465799093+00:00</td>\n",
       "      <td>0.016897</td>\n",
       "    </tr>\n",
       "    <tr>\n",
       "      <th>1224</th>\n",
       "      <td>1224</td>\n",
       "      <td>R</td>\n",
       "      <td>2025-01-08 07:24:58.465799093+00:00</td>\n",
       "      <td>0.012112</td>\n",
       "    </tr>\n",
       "    <tr>\n",
       "      <th>1225</th>\n",
       "      <td>1225</td>\n",
       "      <td>R</td>\n",
       "      <td>2025-01-08 07:25:28.465799093+00:00</td>\n",
       "      <td>0.023505</td>\n",
       "    </tr>\n",
       "  </tbody>\n",
       "</table>\n",
       "<p>292 rows × 4 columns</p>\n",
       "</div>"
      ]
     },
     "execution_count": 42,
     "metadata": {},
     "output_type": "execute_result"
    }
   ],
   "execution_count": 42
  }
 ],
 "metadata": {
  "kernelspec": {
   "display_name": "Python 3",
   "language": "python",
   "name": "python3"
  },
  "language_info": {
   "codemirror_mode": {
    "name": "ipython",
    "version": 2
   },
   "file_extension": ".py",
   "mimetype": "text/x-python",
   "name": "python",
   "nbconvert_exporter": "python",
   "pygments_lexer": "ipython2",
   "version": "2.7.6"
  }
 },
 "nbformat": 4,
 "nbformat_minor": 5
}
