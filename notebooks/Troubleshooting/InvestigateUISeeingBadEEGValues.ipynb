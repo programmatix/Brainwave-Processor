{
 "cells": [
  {
   "cell_type": "markdown",
   "id": "3892a2293c45c123",
   "metadata": {},
   "source": [
    "If a given feature is showing weird values, perhaps for a particular day, this notebook will track down where the issue is (unless it's on UI side)."
   ]
  },
  {
   "cell_type": "code",
   "execution_count": 7,
   "id": "initial_id",
   "metadata": {
    "ExecuteTime": {
     "end_time": "2025-02-07T09:10:56.361120Z",
     "start_time": "2025-02-07T09:10:56.350122Z"
    },
    "collapsed": true
   },
   "outputs": [],
   "source": [
    "import logging\n",
    "logging.basicConfig(level=logging.INFO, format='%(asctime)s - %(levelname)s - %(message)s')\n",
    "log = lambda msg: logging.info(msg)\n",
    "\n",
    "import os\n",
    "import sys\n",
    "root_dir = os.path.abspath(os.path.join(os.path.dirname('__file__'), '../..'))\n",
    "sys.path.append(root_dir)\n"
   ]
  },
  {
   "cell_type": "code",
   "execution_count": 8,
   "id": "69fc66b1853d1db9",
   "metadata": {
    "ExecuteTime": {
     "end_time": "2025-02-07T09:10:57.160310Z",
     "start_time": "2025-02-07T09:10:56.372206Z"
    }
   },
   "outputs": [],
   "source": [
    "import pandas as pd\n",
    "import os\n",
    "\n",
    "input_dir = \"C:\\\\dev\\\\play\\\\brainwave-data\"\n",
    "stats_df = pd.read_csv(input_dir + os.path.sep + \"stats.csv\")"
   ]
  },
  {
   "cell_type": "code",
   "execution_count": 9,
   "id": "b2c59836f7290a88",
   "metadata": {
    "ExecuteTime": {
     "end_time": "2025-02-07T09:11:14.422536Z",
     "start_time": "2025-02-07T09:10:57.256402Z"
    }
   },
   "outputs": [],
   "source": [
    "from sleep_events import load_days_data\n",
    "\n",
    "day_data = load_days_data(True)"
   ]
  },
  {
   "cell_type": "code",
   "execution_count": 10,
   "id": "5eec5844ffe848f",
   "metadata": {
    "ExecuteTime": {
     "end_time": "2025-02-07T09:11:14.469910Z",
     "start_time": "2025-02-07T09:11:14.448561Z"
    }
   },
   "outputs": [
    {
     "data": {
      "text/plain": [
       "['night:yasaExtended:R:sdeltaabs:mean',\n",
       " 'night:yasaExtended:R:sdeltaabs_s:mean']"
      ]
     },
     "execution_count": 10,
     "metadata": {},
     "output_type": "execute_result"
    }
   ],
   "source": [
    "[col for col in day_data.columns if 'R:sdeltaabs' in col]"
   ]
  },
  {
   "cell_type": "code",
   "execution_count": 29,
   "id": "f62658d531f5f1a6",
   "metadata": {
    "ExecuteTime": {
     "end_time": "2025-02-07T09:11:14.550194Z",
     "start_time": "2025-02-07T09:11:14.533882Z"
    }
   },
   "outputs": [],
   "source": [
    "bad_feat = 'night:yasaExtended:W:alphaabs:mean'"
   ]
  },
  {
   "cell_type": "markdown",
   "id": "f379dc2892c07032",
   "metadata": {},
   "source": [
    "# Find days where UI data is bad\n"
   ]
  },
  {
   "cell_type": "code",
   "execution_count": 30,
   "id": "4b14900e003cf1e3",
   "metadata": {
    "ExecuteTime": {
     "end_time": "2025-02-07T09:11:14.584996Z",
     "start_time": "2025-02-07T09:11:14.570675Z"
    }
   },
   "outputs": [
    {
     "data": {
      "text/plain": [
       "count    116.000000\n",
       "mean       0.024999\n",
       "std        0.100769\n",
       "min        0.007544\n",
       "25%        0.011305\n",
       "50%        0.013581\n",
       "75%        0.015776\n",
       "max        1.092700\n",
       "Name: night:yasaExtended:W:alphaabs:mean, dtype: float64"
      ]
     },
     "execution_count": 30,
     "metadata": {},
     "output_type": "execute_result"
    }
   ],
   "source": [
    "day_data[bad_feat].describe()"
   ]
  },
  {
   "cell_type": "code",
   "execution_count": 49,
   "id": "f0e01eb74bdb70c",
   "metadata": {
    "ExecuteTime": {
     "end_time": "2025-02-07T09:11:14.717246Z",
     "start_time": "2025-02-07T09:11:14.685590Z"
    }
   },
   "outputs": [
    {
     "data": {
      "text/html": [
       "<div>\n",
       "<style scoped>\n",
       "    .dataframe tbody tr th:only-of-type {\n",
       "        vertical-align: middle;\n",
       "    }\n",
       "\n",
       "    .dataframe tbody tr th {\n",
       "        vertical-align: top;\n",
       "    }\n",
       "\n",
       "    .dataframe thead th {\n",
       "        text-align: right;\n",
       "    }\n",
       "</style>\n",
       "<table border=\"1\" class=\"dataframe\">\n",
       "  <thead>\n",
       "    <tr style=\"text-align: right;\">\n",
       "      <th></th>\n",
       "      <th>dayAndNightOf</th>\n",
       "      <th>night:yasaExtended:W:alphaabs:mean</th>\n",
       "    </tr>\n",
       "  </thead>\n",
       "  <tbody>\n",
       "    <tr>\n",
       "      <th>262</th>\n",
       "      <td>2024-09-03</td>\n",
       "      <td>1.092700</td>\n",
       "    </tr>\n",
       "    <tr>\n",
       "      <th>79</th>\n",
       "      <td>2024-08-20</td>\n",
       "      <td>0.137212</td>\n",
       "    </tr>\n",
       "    <tr>\n",
       "      <th>171</th>\n",
       "      <td>2024-12-16</td>\n",
       "      <td>0.036965</td>\n",
       "    </tr>\n",
       "    <tr>\n",
       "      <th>215</th>\n",
       "      <td>2024-08-25</td>\n",
       "      <td>0.034695</td>\n",
       "    </tr>\n",
       "    <tr>\n",
       "      <th>295</th>\n",
       "      <td>2025-02-09</td>\n",
       "      <td>0.031797</td>\n",
       "    </tr>\n",
       "    <tr>\n",
       "      <th>200</th>\n",
       "      <td>2025-01-19</td>\n",
       "      <td>0.030773</td>\n",
       "    </tr>\n",
       "    <tr>\n",
       "      <th>306</th>\n",
       "      <td>2025-03-07</td>\n",
       "      <td>0.029247</td>\n",
       "    </tr>\n",
       "    <tr>\n",
       "      <th>318</th>\n",
       "      <td>2025-02-26</td>\n",
       "      <td>0.026924</td>\n",
       "    </tr>\n",
       "    <tr>\n",
       "      <th>319</th>\n",
       "      <td>2025-02-27</td>\n",
       "      <td>0.024168</td>\n",
       "    </tr>\n",
       "    <tr>\n",
       "      <th>301</th>\n",
       "      <td>2025-02-16</td>\n",
       "      <td>0.024122</td>\n",
       "    </tr>\n",
       "  </tbody>\n",
       "</table>\n",
       "</div>"
      ],
      "text/plain": [
       "    dayAndNightOf  night:yasaExtended:W:alphaabs:mean\n",
       "262    2024-09-03                            1.092700\n",
       "79     2024-08-20                            0.137212\n",
       "171    2024-12-16                            0.036965\n",
       "215    2024-08-25                            0.034695\n",
       "295    2025-02-09                            0.031797\n",
       "200    2025-01-19                            0.030773\n",
       "306    2025-03-07                            0.029247\n",
       "318    2025-02-26                            0.026924\n",
       "319    2025-02-27                            0.024168\n",
       "301    2025-02-16                            0.024122"
      ]
     },
     "execution_count": 49,
     "metadata": {},
     "output_type": "execute_result"
    }
   ],
   "source": [
    "day_data[['dayAndNightOf', bad_feat]].dropna().sort_values(by=bad_feat, ascending=False).head(10)"
   ]
  },
  {
   "cell_type": "code",
   "execution_count": 35,
   "id": "dd33f6d6e69966f7",
   "metadata": {
    "ExecuteTime": {
     "end_time": "2025-02-07T09:24:32.814290Z",
     "start_time": "2025-02-07T09:24:32.805408Z"
    }
   },
   "outputs": [],
   "source": [
    "from notebooks.Util.DayAndNightOfFinder import day_and_night_of_dir\n",
    "\n",
    "bad_day = '2024-09-03'\n",
    "bad_folder, bad_folder_name = day_and_night_of_dir(input_dir, bad_day)\n",
    "good_day = '2025-01-07'\n",
    "good_folder, good_folder_name = day_and_night_of_dir(input_dir, good_day)\n"
   ]
  },
  {
   "cell_type": "markdown",
   "id": "9adc9668e7bd928d",
   "metadata": {},
   "source": [
    "# Data files"
   ]
  },
  {
   "cell_type": "code",
   "execution_count": 36,
   "id": "b59d3e6f8b3fe4df",
   "metadata": {
    "ExecuteTime": {
     "end_time": "2025-02-07T09:24:58.082984Z",
     "start_time": "2025-02-07T09:24:58.067316Z"
    }
   },
   "outputs": [
    {
     "data": {
      "text/html": [
       "<div>\n",
       "<style scoped>\n",
       "    .dataframe tbody tr th:only-of-type {\n",
       "        vertical-align: middle;\n",
       "    }\n",
       "\n",
       "    .dataframe tbody tr th {\n",
       "        vertical-align: top;\n",
       "    }\n",
       "\n",
       "    .dataframe thead th {\n",
       "        text-align: right;\n",
       "    }\n",
       "</style>\n",
       "<table border=\"1\" class=\"dataframe\">\n",
       "  <thead>\n",
       "    <tr style=\"text-align: right;\">\n",
       "      <th></th>\n",
       "      <th>file_name</th>\n",
       "      <th>full_path</th>\n",
       "      <th>modification_time</th>\n",
       "    </tr>\n",
       "  </thead>\n",
       "  <tbody>\n",
       "    <tr>\n",
       "      <th>0</th>\n",
       "      <td>raw.artifacts.csv</td>\n",
       "      <td>C:\\dev\\play\\brainwave-data\\2024-09-03-21-10-58...</td>\n",
       "      <td>2025-03-11 19:12:48.419289589</td>\n",
       "    </tr>\n",
       "    <tr>\n",
       "      <th>1</th>\n",
       "      <td>raw.final_wake_model.csv</td>\n",
       "      <td>C:\\dev\\play\\brainwave-data\\2024-09-03-21-10-58...</td>\n",
       "      <td>2024-12-19 17:25:16.000000000</td>\n",
       "    </tr>\n",
       "    <tr>\n",
       "      <th>2</th>\n",
       "      <td>raw.final_wake_model_post_human.csv</td>\n",
       "      <td>C:\\dev\\play\\brainwave-data\\2024-09-03-21-10-58...</td>\n",
       "      <td>2024-12-19 17:25:18.000000000</td>\n",
       "    </tr>\n",
       "    <tr>\n",
       "      <th>3</th>\n",
       "      <td>raw.microwakings.csv</td>\n",
       "      <td>C:\\dev\\play\\brainwave-data\\2024-09-03-21-10-58...</td>\n",
       "      <td>2025-01-08 11:17:52.000000000</td>\n",
       "    </tr>\n",
       "    <tr>\n",
       "      <th>4</th>\n",
       "      <td>raw.night_events.csv</td>\n",
       "      <td>C:\\dev\\play\\brainwave-data\\2024-09-03-21-10-58...</td>\n",
       "      <td>2024-12-02 03:27:54.000000000</td>\n",
       "    </tr>\n",
       "    <tr>\n",
       "      <th>5</th>\n",
       "      <td>raw.physical_features.1s.csv</td>\n",
       "      <td>C:\\dev\\play\\brainwave-data\\2024-09-03-21-10-58...</td>\n",
       "      <td>2025-03-20 07:42:17.572556257</td>\n",
       "    </tr>\n",
       "    <tr>\n",
       "      <th>6</th>\n",
       "      <td>raw.physical_features.csv</td>\n",
       "      <td>C:\\dev\\play\\brainwave-data\\2024-09-03-21-10-58...</td>\n",
       "      <td>2025-01-10 18:32:38.000000000</td>\n",
       "    </tr>\n",
       "    <tr>\n",
       "      <th>7</th>\n",
       "      <td>raw.post_human.csv</td>\n",
       "      <td>C:\\dev\\play\\brainwave-data\\2024-09-03-21-10-58...</td>\n",
       "      <td>2025-03-08 09:45:22.384139061</td>\n",
       "    </tr>\n",
       "    <tr>\n",
       "      <th>8</th>\n",
       "      <td>raw.post_yasa.csv</td>\n",
       "      <td>C:\\dev\\play\\brainwave-data\\2024-09-03-21-10-58...</td>\n",
       "      <td>2025-03-11 19:53:10.121223688</td>\n",
       "    </tr>\n",
       "    <tr>\n",
       "      <th>9</th>\n",
       "      <td>raw.sleep_stages.csv</td>\n",
       "      <td>C:\\dev\\play\\brainwave-data\\2024-09-03-21-10-58...</td>\n",
       "      <td>2025-01-10 17:54:52.000000000</td>\n",
       "    </tr>\n",
       "    <tr>\n",
       "      <th>10</th>\n",
       "      <td>raw.sleep_stages.Fpz-M1.csv</td>\n",
       "      <td>C:\\dev\\play\\brainwave-data\\2024-09-03-21-10-58...</td>\n",
       "      <td>2025-01-10 17:54:38.000000000</td>\n",
       "    </tr>\n",
       "    <tr>\n",
       "      <th>11</th>\n",
       "      <td>raw.sleep_stages.Fpz.csv</td>\n",
       "      <td>C:\\dev\\play\\brainwave-data\\2024-09-03-21-10-58...</td>\n",
       "      <td>2024-09-21 15:03:24.000000000</td>\n",
       "    </tr>\n",
       "    <tr>\n",
       "      <th>12</th>\n",
       "      <td>raw.sw_summary.csv</td>\n",
       "      <td>C:\\dev\\play\\brainwave-data\\2024-09-03-21-10-58...</td>\n",
       "      <td>2024-11-12 14:59:26.000000000</td>\n",
       "    </tr>\n",
       "    <tr>\n",
       "      <th>13</th>\n",
       "      <td>raw.with_features.csv</td>\n",
       "      <td>C:\\dev\\play\\brainwave-data\\2024-09-03-21-10-58...</td>\n",
       "      <td>2025-03-11 20:45:14.763519287</td>\n",
       "    </tr>\n",
       "    <tr>\n",
       "      <th>14</th>\n",
       "      <td>raw.yasa.csv</td>\n",
       "      <td>C:\\dev\\play\\brainwave-data\\2024-09-03-21-10-58...</td>\n",
       "      <td>2025-01-10 17:55:12.000000000</td>\n",
       "    </tr>\n",
       "  </tbody>\n",
       "</table>\n",
       "</div>"
      ],
      "text/plain": [
       "                              file_name  \\\n",
       "0                     raw.artifacts.csv   \n",
       "1              raw.final_wake_model.csv   \n",
       "2   raw.final_wake_model_post_human.csv   \n",
       "3                  raw.microwakings.csv   \n",
       "4                  raw.night_events.csv   \n",
       "5          raw.physical_features.1s.csv   \n",
       "6             raw.physical_features.csv   \n",
       "7                    raw.post_human.csv   \n",
       "8                     raw.post_yasa.csv   \n",
       "9                  raw.sleep_stages.csv   \n",
       "10          raw.sleep_stages.Fpz-M1.csv   \n",
       "11             raw.sleep_stages.Fpz.csv   \n",
       "12                   raw.sw_summary.csv   \n",
       "13                raw.with_features.csv   \n",
       "14                         raw.yasa.csv   \n",
       "\n",
       "                                            full_path  \\\n",
       "0   C:\\dev\\play\\brainwave-data\\2024-09-03-21-10-58...   \n",
       "1   C:\\dev\\play\\brainwave-data\\2024-09-03-21-10-58...   \n",
       "2   C:\\dev\\play\\brainwave-data\\2024-09-03-21-10-58...   \n",
       "3   C:\\dev\\play\\brainwave-data\\2024-09-03-21-10-58...   \n",
       "4   C:\\dev\\play\\brainwave-data\\2024-09-03-21-10-58...   \n",
       "5   C:\\dev\\play\\brainwave-data\\2024-09-03-21-10-58...   \n",
       "6   C:\\dev\\play\\brainwave-data\\2024-09-03-21-10-58...   \n",
       "7   C:\\dev\\play\\brainwave-data\\2024-09-03-21-10-58...   \n",
       "8   C:\\dev\\play\\brainwave-data\\2024-09-03-21-10-58...   \n",
       "9   C:\\dev\\play\\brainwave-data\\2024-09-03-21-10-58...   \n",
       "10  C:\\dev\\play\\brainwave-data\\2024-09-03-21-10-58...   \n",
       "11  C:\\dev\\play\\brainwave-data\\2024-09-03-21-10-58...   \n",
       "12  C:\\dev\\play\\brainwave-data\\2024-09-03-21-10-58...   \n",
       "13  C:\\dev\\play\\brainwave-data\\2024-09-03-21-10-58...   \n",
       "14  C:\\dev\\play\\brainwave-data\\2024-09-03-21-10-58...   \n",
       "\n",
       "               modification_time  \n",
       "0  2025-03-11 19:12:48.419289589  \n",
       "1  2024-12-19 17:25:16.000000000  \n",
       "2  2024-12-19 17:25:18.000000000  \n",
       "3  2025-01-08 11:17:52.000000000  \n",
       "4  2024-12-02 03:27:54.000000000  \n",
       "5  2025-03-20 07:42:17.572556257  \n",
       "6  2025-01-10 18:32:38.000000000  \n",
       "7  2025-03-08 09:45:22.384139061  \n",
       "8  2025-03-11 19:53:10.121223688  \n",
       "9  2025-01-10 17:54:52.000000000  \n",
       "10 2025-01-10 17:54:38.000000000  \n",
       "11 2024-09-21 15:03:24.000000000  \n",
       "12 2024-11-12 14:59:26.000000000  \n",
       "13 2025-03-11 20:45:14.763519287  \n",
       "14 2025-01-10 17:55:12.000000000  "
      ]
     },
     "execution_count": 36,
     "metadata": {},
     "output_type": "execute_result"
    }
   ],
   "source": [
    "def files_for_folder(folder_name: str):\n",
    "    file_info = []\n",
    "\n",
    "    for file_name in os.listdir(os.path.join(input_dir, folder_name)):\n",
    "        if file_name.endswith('.csv'):\n",
    "            full_path = os.path.join(input_dir, folder_name, file_name)\n",
    "            modification_time = os.path.getmtime(full_path)\n",
    "            file_info.append({'file_name': file_name, 'full_path': full_path, 'modification_time': modification_time})\n",
    "    df_files = pd.DataFrame(file_info)\n",
    "    df_files['modification_time'] = pd.to_datetime(df_files['modification_time'], unit='s')\n",
    "    return df_files\n",
    "\n",
    "df_files = files_for_folder(bad_folder)\n",
    "df_files"
   ]
  },
  {
   "cell_type": "code",
   "execution_count": 37,
   "id": "32b6824c26d8967",
   "metadata": {
    "ExecuteTime": {
     "end_time": "2025-02-07T09:12:24.627176Z",
     "start_time": "2025-02-07T09:12:24.570276Z"
    }
   },
   "outputs": [],
   "source": [
    "# This is what the UI uses\n",
    "file_path = df_files[df_files['file_name'] == 'raw.with_features.csv']['full_path'].values[0]\n",
    "df = pd.read_csv(file_path)"
   ]
  },
  {
   "cell_type": "code",
   "execution_count": 38,
   "id": "888c3bfb5b7149fd",
   "metadata": {
    "ExecuteTime": {
     "end_time": "2025-02-07T09:12:26.228518Z",
     "start_time": "2025-02-07T09:12:26.218542Z"
    }
   },
   "outputs": [
    {
     "data": {
      "text/plain": [
       "['Main_eeg_betaabs',\n",
       " 'Main_eeg_betaabs_c7min_norm',\n",
       " 'Main_eeg_betaabs_p2min_norm',\n",
       " 'Main_eeg_betaabs_s',\n",
       " 'Main_eeg_betaabs_c7min_norm_s',\n",
       " 'Main_eeg_betaabs_p2min_norm_s']"
      ]
     },
     "execution_count": 38,
     "metadata": {},
     "output_type": "execute_result"
    }
   ],
   "source": [
    "[col for col in df.columns if 'betaabs' in col]"
   ]
  },
  {
   "cell_type": "code",
   "execution_count": 39,
   "id": "23a106864f45db4c",
   "metadata": {
    "ExecuteTime": {
     "end_time": "2025-02-07T09:12:32.491306Z",
     "start_time": "2025-02-07T09:12:32.481291Z"
    }
   },
   "outputs": [],
   "source": [
    "bad_feat_eeg = 'Main_eeg_betaabs'"
   ]
  },
  {
   "cell_type": "code",
   "execution_count": 42,
   "id": "b3ffc01c83431029",
   "metadata": {
    "ExecuteTime": {
     "end_time": "2025-02-07T09:28:15.096106Z",
     "start_time": "2025-02-07T09:28:15.019661Z"
    }
   },
   "outputs": [
    {
     "data": {
      "text/plain": [
       "count    884.000000\n",
       "mean       1.498085\n",
       "std        2.176180\n",
       "min        0.001469\n",
       "25%        0.050718\n",
       "50%        1.907079\n",
       "75%        2.032990\n",
       "max       41.115040\n",
       "Name: Main_eeg_betaabs, dtype: float64"
      ]
     },
     "execution_count": 42,
     "metadata": {},
     "output_type": "execute_result"
    }
   ],
   "source": [
    "file_path = df_files[df_files['file_name'] == 'raw.post_yasa.csv']['full_path'].values[0]\n",
    "post_yasa_df = pd.read_csv(file_path)\n",
    "R = post_yasa_df[post_yasa_df['Stage'] == 'W']\n",
    "R[bad_feat_eeg].describe()"
   ]
  },
  {
   "cell_type": "code",
   "execution_count": 43,
   "id": "135c7e36a15b030c",
   "metadata": {
    "ExecuteTime": {
     "end_time": "2025-02-07T09:14:27.898859Z",
     "start_time": "2025-02-07T09:14:27.883236Z"
    }
   },
   "outputs": [
    {
     "data": {
      "text/html": [
       "<div>\n",
       "<style scoped>\n",
       "    .dataframe tbody tr th:only-of-type {\n",
       "        vertical-align: middle;\n",
       "    }\n",
       "\n",
       "    .dataframe tbody tr th {\n",
       "        vertical-align: top;\n",
       "    }\n",
       "\n",
       "    .dataframe thead th {\n",
       "        text-align: right;\n",
       "    }\n",
       "</style>\n",
       "<table border=\"1\" class=\"dataframe\">\n",
       "  <thead>\n",
       "    <tr style=\"text-align: right;\">\n",
       "      <th></th>\n",
       "      <th>Epoch</th>\n",
       "      <th>Stage</th>\n",
       "      <th>Timestamp</th>\n",
       "      <th>Main_eeg_betaabs</th>\n",
       "    </tr>\n",
       "  </thead>\n",
       "  <tbody>\n",
       "    <tr>\n",
       "      <th>0</th>\n",
       "      <td>0</td>\n",
       "      <td>W</td>\n",
       "      <td>2024-09-03 21:10:58.197338104+01:00</td>\n",
       "      <td>0.068979</td>\n",
       "    </tr>\n",
       "    <tr>\n",
       "      <th>1</th>\n",
       "      <td>1</td>\n",
       "      <td>W</td>\n",
       "      <td>2024-09-03 21:11:28.197338104+01:00</td>\n",
       "      <td>0.124669</td>\n",
       "    </tr>\n",
       "    <tr>\n",
       "      <th>2</th>\n",
       "      <td>2</td>\n",
       "      <td>W</td>\n",
       "      <td>2024-09-03 21:11:58.197338104+01:00</td>\n",
       "      <td>0.049194</td>\n",
       "    </tr>\n",
       "    <tr>\n",
       "      <th>3</th>\n",
       "      <td>3</td>\n",
       "      <td>W</td>\n",
       "      <td>2024-09-03 21:12:28.197338104+01:00</td>\n",
       "      <td>0.061551</td>\n",
       "    </tr>\n",
       "    <tr>\n",
       "      <th>4</th>\n",
       "      <td>4</td>\n",
       "      <td>W</td>\n",
       "      <td>2024-09-03 21:12:58.197338104+01:00</td>\n",
       "      <td>0.203375</td>\n",
       "    </tr>\n",
       "    <tr>\n",
       "      <th>...</th>\n",
       "      <td>...</td>\n",
       "      <td>...</td>\n",
       "      <td>...</td>\n",
       "      <td>...</td>\n",
       "    </tr>\n",
       "    <tr>\n",
       "      <th>1775</th>\n",
       "      <td>1775</td>\n",
       "      <td>W</td>\n",
       "      <td>2024-09-04 11:58:28.197338104+01:00</td>\n",
       "      <td>2.009964</td>\n",
       "    </tr>\n",
       "    <tr>\n",
       "      <th>1776</th>\n",
       "      <td>1776</td>\n",
       "      <td>W</td>\n",
       "      <td>2024-09-04 11:58:58.197338104+01:00</td>\n",
       "      <td>2.006756</td>\n",
       "    </tr>\n",
       "    <tr>\n",
       "      <th>1777</th>\n",
       "      <td>1777</td>\n",
       "      <td>W</td>\n",
       "      <td>2024-09-04 11:59:28.197338104+01:00</td>\n",
       "      <td>2.098285</td>\n",
       "    </tr>\n",
       "    <tr>\n",
       "      <th>1778</th>\n",
       "      <td>1778</td>\n",
       "      <td>W</td>\n",
       "      <td>2024-09-04 11:59:58.197338104+01:00</td>\n",
       "      <td>2.142219</td>\n",
       "    </tr>\n",
       "    <tr>\n",
       "      <th>1779</th>\n",
       "      <td>1779</td>\n",
       "      <td>W</td>\n",
       "      <td>2024-09-04 12:00:28.197338104+01:00</td>\n",
       "      <td>2.060148</td>\n",
       "    </tr>\n",
       "  </tbody>\n",
       "</table>\n",
       "<p>938 rows × 4 columns</p>\n",
       "</div>"
      ],
      "text/plain": [
       "      Epoch Stage                            Timestamp  Main_eeg_betaabs\n",
       "0         0     W  2024-09-03 21:10:58.197338104+01:00          0.068979\n",
       "1         1     W  2024-09-03 21:11:28.197338104+01:00          0.124669\n",
       "2         2     W  2024-09-03 21:11:58.197338104+01:00          0.049194\n",
       "3         3     W  2024-09-03 21:12:28.197338104+01:00          0.061551\n",
       "4         4     W  2024-09-03 21:12:58.197338104+01:00          0.203375\n",
       "...     ...   ...                                  ...               ...\n",
       "1775   1775     W  2024-09-04 11:58:28.197338104+01:00          2.009964\n",
       "1776   1776     W  2024-09-04 11:58:58.197338104+01:00          2.006756\n",
       "1777   1777     W  2024-09-04 11:59:28.197338104+01:00          2.098285\n",
       "1778   1778     W  2024-09-04 11:59:58.197338104+01:00          2.142219\n",
       "1779   1779     W  2024-09-04 12:00:28.197338104+01:00          2.060148\n",
       "\n",
       "[938 rows x 4 columns]"
      ]
     },
     "execution_count": 43,
     "metadata": {},
     "output_type": "execute_result"
    }
   ],
   "source": [
    "R[['Epoch', 'Stage', 'Timestamp', bad_feat_eeg]]"
   ]
  },
  {
   "cell_type": "markdown",
   "id": "f86556578f4ff08",
   "metadata": {},
   "source": [
    "# Compare to days where UI data is fine"
   ]
  },
  {
   "cell_type": "code",
   "execution_count": 44,
   "id": "e45105c1f59cc9cb",
   "metadata": {
    "ExecuteTime": {
     "end_time": "2025-02-07T09:25:00.074708Z",
     "start_time": "2025-02-07T09:24:59.981222Z"
    }
   },
   "outputs": [
    {
     "data": {
      "text/plain": [
       "count    1.263000e+03\n",
       "mean     1.063741e-02\n",
       "std      5.513943e-02\n",
       "min      5.147581e-07\n",
       "25%      2.251533e-03\n",
       "50%      2.776523e-03\n",
       "75%      4.222165e-03\n",
       "max      1.163897e+00\n",
       "Name: Main_eeg_betaabs, dtype: float64"
      ]
     },
     "execution_count": 44,
     "metadata": {},
     "output_type": "execute_result"
    }
   ],
   "source": [
    "good_files = files_for_folder(good_folder)\n",
    "\n",
    "# This is what the UI uses\n",
    "good_with_features_file_path = good_files[good_files['file_name'] == 'raw.with_features.csv']['full_path'].values[0]\n",
    "good_df = pd.read_csv(good_with_features_file_path)\n",
    "good_df[bad_feat_eeg].describe()"
   ]
  },
  {
   "cell_type": "code",
   "execution_count": 46,
   "id": "7274dfdb90206b6a",
   "metadata": {
    "ExecuteTime": {
     "end_time": "2025-02-07T09:28:37.229350Z",
     "start_time": "2025-02-07T09:28:37.144174Z"
    }
   },
   "outputs": [
    {
     "data": {
      "text/plain": [
       "count    2.240000e+02\n",
       "mean     4.510523e-02\n",
       "std      1.251861e-01\n",
       "min      5.147581e-07\n",
       "25%      8.017677e-03\n",
       "50%      1.624881e-02\n",
       "75%      3.218697e-02\n",
       "max      1.163897e+00\n",
       "Name: Main_eeg_betaabs, dtype: float64"
      ]
     },
     "execution_count": 46,
     "metadata": {},
     "output_type": "execute_result"
    }
   ],
   "source": [
    "file_path = good_files[good_files['file_name'] == 'raw.post_yasa.csv']['full_path'].values[0]\n",
    "good_post_yasa_df = pd.read_csv(file_path)\n",
    "good_R = good_post_yasa_df[good_post_yasa_df['Stage'] == 'W']\n",
    "good_R[bad_feat_eeg].describe()"
   ]
  },
  {
   "cell_type": "code",
   "execution_count": 47,
   "id": "34b7daf104fffca3",
   "metadata": {
    "ExecuteTime": {
     "end_time": "2025-02-07T09:28:45.423672Z",
     "start_time": "2025-02-07T09:28:45.408041Z"
    }
   },
   "outputs": [
    {
     "data": {
      "text/html": [
       "<div>\n",
       "<style scoped>\n",
       "    .dataframe tbody tr th:only-of-type {\n",
       "        vertical-align: middle;\n",
       "    }\n",
       "\n",
       "    .dataframe tbody tr th {\n",
       "        vertical-align: top;\n",
       "    }\n",
       "\n",
       "    .dataframe thead th {\n",
       "        text-align: right;\n",
       "    }\n",
       "</style>\n",
       "<table border=\"1\" class=\"dataframe\">\n",
       "  <thead>\n",
       "    <tr style=\"text-align: right;\">\n",
       "      <th></th>\n",
       "      <th>Epoch</th>\n",
       "      <th>Stage</th>\n",
       "      <th>Timestamp</th>\n",
       "      <th>Main_eeg_betaabs</th>\n",
       "    </tr>\n",
       "  </thead>\n",
       "  <tbody>\n",
       "    <tr>\n",
       "      <th>0</th>\n",
       "      <td>0</td>\n",
       "      <td>W</td>\n",
       "      <td>2025-01-07 21:12:58.465799093+00:00</td>\n",
       "      <td>0.300296</td>\n",
       "    </tr>\n",
       "    <tr>\n",
       "      <th>1</th>\n",
       "      <td>1</td>\n",
       "      <td>W</td>\n",
       "      <td>2025-01-07 21:13:28.465799093+00:00</td>\n",
       "      <td>0.113829</td>\n",
       "    </tr>\n",
       "    <tr>\n",
       "      <th>2</th>\n",
       "      <td>2</td>\n",
       "      <td>W</td>\n",
       "      <td>2025-01-07 21:13:58.465799093+00:00</td>\n",
       "      <td>0.164073</td>\n",
       "    </tr>\n",
       "    <tr>\n",
       "      <th>3</th>\n",
       "      <td>3</td>\n",
       "      <td>W</td>\n",
       "      <td>2025-01-07 21:14:28.465799093+00:00</td>\n",
       "      <td>0.072593</td>\n",
       "    </tr>\n",
       "    <tr>\n",
       "      <th>4</th>\n",
       "      <td>4</td>\n",
       "      <td>W</td>\n",
       "      <td>2025-01-07 21:14:58.465799093+00:00</td>\n",
       "      <td>0.216930</td>\n",
       "    </tr>\n",
       "    <tr>\n",
       "      <th>...</th>\n",
       "      <td>...</td>\n",
       "      <td>...</td>\n",
       "      <td>...</td>\n",
       "      <td>...</td>\n",
       "    </tr>\n",
       "    <tr>\n",
       "      <th>1266</th>\n",
       "      <td>1266</td>\n",
       "      <td>W</td>\n",
       "      <td>2025-01-08 07:45:58.465799093+00:00</td>\n",
       "      <td>0.008161</td>\n",
       "    </tr>\n",
       "    <tr>\n",
       "      <th>1267</th>\n",
       "      <td>1267</td>\n",
       "      <td>W</td>\n",
       "      <td>2025-01-08 07:46:28.465799093+00:00</td>\n",
       "      <td>0.014268</td>\n",
       "    </tr>\n",
       "    <tr>\n",
       "      <th>1268</th>\n",
       "      <td>1268</td>\n",
       "      <td>W</td>\n",
       "      <td>2025-01-08 07:46:58.465799093+00:00</td>\n",
       "      <td>0.015100</td>\n",
       "    </tr>\n",
       "    <tr>\n",
       "      <th>1269</th>\n",
       "      <td>1269</td>\n",
       "      <td>W</td>\n",
       "      <td>2025-01-08 07:47:28.465799093+00:00</td>\n",
       "      <td>0.016128</td>\n",
       "    </tr>\n",
       "    <tr>\n",
       "      <th>1270</th>\n",
       "      <td>1270</td>\n",
       "      <td>W</td>\n",
       "      <td>2025-01-08 07:47:58.465799093+00:00</td>\n",
       "      <td>0.056438</td>\n",
       "    </tr>\n",
       "  </tbody>\n",
       "</table>\n",
       "<p>232 rows × 4 columns</p>\n",
       "</div>"
      ],
      "text/plain": [
       "      Epoch Stage                            Timestamp  Main_eeg_betaabs\n",
       "0         0     W  2025-01-07 21:12:58.465799093+00:00          0.300296\n",
       "1         1     W  2025-01-07 21:13:28.465799093+00:00          0.113829\n",
       "2         2     W  2025-01-07 21:13:58.465799093+00:00          0.164073\n",
       "3         3     W  2025-01-07 21:14:28.465799093+00:00          0.072593\n",
       "4         4     W  2025-01-07 21:14:58.465799093+00:00          0.216930\n",
       "...     ...   ...                                  ...               ...\n",
       "1266   1266     W  2025-01-08 07:45:58.465799093+00:00          0.008161\n",
       "1267   1267     W  2025-01-08 07:46:28.465799093+00:00          0.014268\n",
       "1268   1268     W  2025-01-08 07:46:58.465799093+00:00          0.015100\n",
       "1269   1269     W  2025-01-08 07:47:28.465799093+00:00          0.016128\n",
       "1270   1270     W  2025-01-08 07:47:58.465799093+00:00          0.056438\n",
       "\n",
       "[232 rows x 4 columns]"
      ]
     },
     "execution_count": 47,
     "metadata": {},
     "output_type": "execute_result"
    }
   ],
   "source": [
    "good_R[['Epoch', 'Stage', 'Timestamp', bad_feat_eeg]]"
   ]
  },
  {
   "cell_type": "code",
   "execution_count": null,
   "id": "5867a284",
   "metadata": {},
   "outputs": [],
   "source": []
  }
 ],
 "metadata": {
  "kernelspec": {
   "display_name": "3.10-tf",
   "language": "python",
   "name": "python3"
  },
  "language_info": {
   "codemirror_mode": {
    "name": "ipython",
    "version": 3
   },
   "file_extension": ".py",
   "mimetype": "text/x-python",
   "name": "python",
   "nbconvert_exporter": "python",
   "pygments_lexer": "ipython3",
   "version": "3.10.16"
  }
 },
 "nbformat": 4,
 "nbformat_minor": 5
}
