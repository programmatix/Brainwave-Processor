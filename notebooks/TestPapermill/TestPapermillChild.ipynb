{
 "cells": [
  {
   "cell_type": "code",
   "id": "initial_id",
   "metadata": {
    "collapsed": true,
    "tags": [
     "parameters"
    ],
    "ExecuteTime": {
     "end_time": "2024-12-17T15:17:17.273688Z",
     "start_time": "2024-12-17T15:17:17.259816Z"
    }
   },
   "source": [
    "%%prun -T \"cell1.txt\"\n",
    "from datetime import datetime\n",
    "print(f\"Executing at {datetime.now()}\")\n",
    "\n",
    "param = 'foo'"
   ],
   "outputs": [],
   "execution_count": 1
  },
  {
   "metadata": {
    "ExecuteTime": {
     "end_time": "2024-12-17T15:17:17.301455Z",
     "start_time": "2024-12-17T15:17:17.285798Z"
    }
   },
   "cell_type": "code",
   "source": [
    "%%prun -T \"cell2.txt\"\n",
    "print(f\"Executing at {datetime.now()}\")\n",
    "\n",
    "print(param)"
   ],
   "id": "4fec1e22cb367f68",
   "outputs": [
    {
     "name": "stdout",
     "output_type": "stream",
     "text": [
      "foo\n"
     ]
    }
   ],
   "execution_count": 2
  },
  {
   "metadata": {},
   "cell_type": "code",
   "outputs": [],
   "execution_count": null,
   "source": [
    "# import scrapbook as sb\n",
    "#\n",
    "# sb.glue(\"hello\", \"world\")\n"
   ],
   "id": "95667caee794ec40"
  }
 ],
 "metadata": {
  "kernelspec": {
   "display_name": "Python 3",
   "language": "python",
   "name": "python3"
  },
  "language_info": {
   "codemirror_mode": {
    "name": "ipython",
    "version": 2
   },
   "file_extension": ".py",
   "mimetype": "text/x-python",
   "name": "python",
   "nbconvert_exporter": "python",
   "pygments_lexer": "ipython2",
   "version": "2.7.6"
  }
 },
 "nbformat": 4,
 "nbformat_minor": 5
}
