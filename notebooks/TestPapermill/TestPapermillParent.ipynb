{
 "cells": [
  {
   "cell_type": "code",
   "id": "initial_id",
   "metadata": {
    "collapsed": true,
    "ExecuteTime": {
     "end_time": "2024-12-18T06:10:14.966359Z",
     "start_time": "2024-12-18T06:10:03.459157Z"
    }
   },
   "source": "!pip install papermill scrapbook",
   "outputs": [
    {
     "name": "stdout",
     "output_type": "stream",
     "text": [
      "Requirement already satisfied: papermill in c:\\users\\graha\\.conda\\envs\\tf\\lib\\site-packages (2.6.0)\n",
      "Collecting scrapbook\n",
      "  Downloading scrapbook-0.5.0-py3-none-any.whl.metadata (18 kB)\n",
      "Requirement already satisfied: click in c:\\users\\graha\\.conda\\envs\\tf\\lib\\site-packages (from papermill) (8.1.7)\n",
      "Requirement already satisfied: pyyaml in c:\\users\\graha\\.conda\\envs\\tf\\lib\\site-packages (from papermill) (6.0.2)\n",
      "Requirement already satisfied: nbformat>=5.2.0 in c:\\users\\graha\\.conda\\envs\\tf\\lib\\site-packages (from papermill) (5.10.4)\n",
      "Requirement already satisfied: nbclient>=0.2.0 in c:\\users\\graha\\.conda\\envs\\tf\\lib\\site-packages (from papermill) (0.10.0)\n",
      "Requirement already satisfied: tqdm>=4.32.2 in c:\\users\\graha\\.conda\\envs\\tf\\lib\\site-packages (from papermill) (4.66.5)\n",
      "Requirement already satisfied: requests in c:\\users\\graha\\.conda\\envs\\tf\\lib\\site-packages (from papermill) (2.32.3)\n",
      "Requirement already satisfied: entrypoints in c:\\users\\graha\\.conda\\envs\\tf\\lib\\site-packages (from papermill) (0.4)\n",
      "Requirement already satisfied: tenacity>=5.0.2 in c:\\users\\graha\\.conda\\envs\\tf\\lib\\site-packages (from papermill) (9.0.0)\n",
      "Requirement already satisfied: ansicolors in c:\\users\\graha\\.conda\\envs\\tf\\lib\\site-packages (from papermill) (1.1.8)\n",
      "Requirement already satisfied: pandas in c:\\users\\graha\\.conda\\envs\\tf\\lib\\site-packages (from scrapbook) (2.2.2)\n",
      "Requirement already satisfied: jsonschema in c:\\users\\graha\\.conda\\envs\\tf\\lib\\site-packages (from scrapbook) (4.23.0)\n",
      "Requirement already satisfied: ipython in c:\\users\\graha\\.conda\\envs\\tf\\lib\\site-packages (from scrapbook) (8.27.0)\n",
      "Collecting pyarrow (from scrapbook)\n",
      "  Downloading pyarrow-18.1.0-cp310-cp310-win_amd64.whl.metadata (3.4 kB)\n",
      "Requirement already satisfied: jupyter-client>=6.1.12 in c:\\users\\graha\\.conda\\envs\\tf\\lib\\site-packages (from nbclient>=0.2.0->papermill) (8.6.0)\n",
      "Requirement already satisfied: jupyter-core!=5.0.*,>=4.12 in c:\\users\\graha\\.conda\\envs\\tf\\lib\\site-packages (from nbclient>=0.2.0->papermill) (5.7.2)\n",
      "Requirement already satisfied: traitlets>=5.4 in c:\\users\\graha\\.conda\\envs\\tf\\lib\\site-packages (from nbclient>=0.2.0->papermill) (5.14.3)\n",
      "Requirement already satisfied: fastjsonschema>=2.15 in c:\\users\\graha\\.conda\\envs\\tf\\lib\\site-packages (from nbformat>=5.2.0->papermill) (2.16.2)\n",
      "Requirement already satisfied: attrs>=22.2.0 in c:\\users\\graha\\.conda\\envs\\tf\\lib\\site-packages (from jsonschema->scrapbook) (24.2.0)\n",
      "Requirement already satisfied: jsonschema-specifications>=2023.03.6 in c:\\users\\graha\\.conda\\envs\\tf\\lib\\site-packages (from jsonschema->scrapbook) (2023.12.1)\n",
      "Requirement already satisfied: referencing>=0.28.4 in c:\\users\\graha\\.conda\\envs\\tf\\lib\\site-packages (from jsonschema->scrapbook) (0.35.1)\n",
      "Requirement already satisfied: rpds-py>=0.7.1 in c:\\users\\graha\\.conda\\envs\\tf\\lib\\site-packages (from jsonschema->scrapbook) (0.10.6)\n",
      "Requirement already satisfied: colorama in c:\\users\\graha\\.conda\\envs\\tf\\lib\\site-packages (from tqdm>=4.32.2->papermill) (0.4.6)\n",
      "Requirement already satisfied: decorator in c:\\users\\graha\\.conda\\envs\\tf\\lib\\site-packages (from ipython->scrapbook) (5.1.1)\n",
      "Requirement already satisfied: jedi>=0.16 in c:\\users\\graha\\.conda\\envs\\tf\\lib\\site-packages (from ipython->scrapbook) (0.19.1)\n",
      "Requirement already satisfied: matplotlib-inline in c:\\users\\graha\\.conda\\envs\\tf\\lib\\site-packages (from ipython->scrapbook) (0.1.6)\n",
      "Requirement already satisfied: prompt-toolkit<3.1.0,>=3.0.41 in c:\\users\\graha\\.conda\\envs\\tf\\lib\\site-packages (from ipython->scrapbook) (3.0.43)\n",
      "Requirement already satisfied: pygments>=2.4.0 in c:\\users\\graha\\.conda\\envs\\tf\\lib\\site-packages (from ipython->scrapbook) (2.15.1)\n",
      "Requirement already satisfied: stack-data in c:\\users\\graha\\.conda\\envs\\tf\\lib\\site-packages (from ipython->scrapbook) (0.2.0)\n",
      "Requirement already satisfied: exceptiongroup in c:\\users\\graha\\.conda\\envs\\tf\\lib\\site-packages (from ipython->scrapbook) (1.2.0)\n",
      "Requirement already satisfied: typing-extensions>=4.6 in c:\\users\\graha\\.conda\\envs\\tf\\lib\\site-packages (from ipython->scrapbook) (4.11.0)\n",
      "Requirement already satisfied: numpy>=1.22.4 in c:\\users\\graha\\.conda\\envs\\tf\\lib\\site-packages (from pandas->scrapbook) (1.26.4)\n",
      "Requirement already satisfied: python-dateutil>=2.8.2 in c:\\users\\graha\\.conda\\envs\\tf\\lib\\site-packages (from pandas->scrapbook) (2.8.2)\n",
      "Requirement already satisfied: pytz>=2020.1 in c:\\users\\graha\\.conda\\envs\\tf\\lib\\site-packages (from pandas->scrapbook) (2024.1)\n",
      "Requirement already satisfied: tzdata>=2022.7 in c:\\users\\graha\\.conda\\envs\\tf\\lib\\site-packages (from pandas->scrapbook) (2024.1)\n",
      "Requirement already satisfied: charset-normalizer<4,>=2 in c:\\users\\graha\\.conda\\envs\\tf\\lib\\site-packages (from requests->papermill) (3.3.2)\n",
      "Requirement already satisfied: idna<4,>=2.5 in c:\\users\\graha\\.conda\\envs\\tf\\lib\\site-packages (from requests->papermill) (3.7)\n",
      "Requirement already satisfied: urllib3<3,>=1.21.1 in c:\\users\\graha\\.conda\\envs\\tf\\lib\\site-packages (from requests->papermill) (2.2.2)\n",
      "Requirement already satisfied: certifi>=2017.4.17 in c:\\users\\graha\\.conda\\envs\\tf\\lib\\site-packages (from requests->papermill) (2024.8.30)\n",
      "Requirement already satisfied: parso<0.9.0,>=0.8.3 in c:\\users\\graha\\.conda\\envs\\tf\\lib\\site-packages (from jedi>=0.16->ipython->scrapbook) (0.8.3)\n",
      "Requirement already satisfied: pyzmq>=23.0 in c:\\users\\graha\\.conda\\envs\\tf\\lib\\site-packages (from jupyter-client>=6.1.12->nbclient>=0.2.0->papermill) (25.1.2)\n",
      "Requirement already satisfied: tornado>=6.2 in c:\\users\\graha\\.conda\\envs\\tf\\lib\\site-packages (from jupyter-client>=6.1.12->nbclient>=0.2.0->papermill) (6.4.1)\n",
      "Requirement already satisfied: platformdirs>=2.5 in c:\\users\\graha\\.conda\\envs\\tf\\lib\\site-packages (from jupyter-core!=5.0.*,>=4.12->nbclient>=0.2.0->papermill) (3.10.0)\n",
      "Requirement already satisfied: pywin32>=300 in c:\\users\\graha\\.conda\\envs\\tf\\lib\\site-packages (from jupyter-core!=5.0.*,>=4.12->nbclient>=0.2.0->papermill) (305.1)\n",
      "Requirement already satisfied: wcwidth in c:\\users\\graha\\.conda\\envs\\tf\\lib\\site-packages (from prompt-toolkit<3.1.0,>=3.0.41->ipython->scrapbook) (0.2.13)\n",
      "Requirement already satisfied: six>=1.5 in c:\\users\\graha\\.conda\\envs\\tf\\lib\\site-packages (from python-dateutil>=2.8.2->pandas->scrapbook) (1.16.0)\n",
      "Requirement already satisfied: executing in c:\\users\\graha\\.conda\\envs\\tf\\lib\\site-packages (from stack-data->ipython->scrapbook) (0.8.3)\n",
      "Requirement already satisfied: asttokens in c:\\users\\graha\\.conda\\envs\\tf\\lib\\site-packages (from stack-data->ipython->scrapbook) (2.0.5)\n",
      "Requirement already satisfied: pure-eval in c:\\users\\graha\\.conda\\envs\\tf\\lib\\site-packages (from stack-data->ipython->scrapbook) (0.2.2)\n",
      "Downloading scrapbook-0.5.0-py3-none-any.whl (34 kB)\n",
      "Downloading pyarrow-18.1.0-cp310-cp310-win_amd64.whl (25.1 MB)\n",
      "   ---------------------------------------- 0.0/25.1 MB ? eta -:--:--\n",
      "   - -------------------------------------- 0.8/25.1 MB 5.6 MB/s eta 0:00:05\n",
      "   -- ------------------------------------- 1.6/25.1 MB 5.6 MB/s eta 0:00:05\n",
      "   --- ------------------------------------ 2.4/25.1 MB 4.2 MB/s eta 0:00:06\n",
      "   ----- ---------------------------------- 3.1/25.1 MB 4.1 MB/s eta 0:00:06\n",
      "   ------ --------------------------------- 3.9/25.1 MB 4.1 MB/s eta 0:00:06\n",
      "   ------- -------------------------------- 5.0/25.1 MB 4.2 MB/s eta 0:00:05\n",
      "   --------- ------------------------------ 6.0/25.1 MB 4.3 MB/s eta 0:00:05\n",
      "   ----------- ---------------------------- 7.3/25.1 MB 4.6 MB/s eta 0:00:04\n",
      "   ------------- -------------------------- 8.7/25.1 MB 4.8 MB/s eta 0:00:04\n",
      "   --------------- ------------------------ 10.0/25.1 MB 5.0 MB/s eta 0:00:04\n",
      "   ----------------- ---------------------- 11.3/25.1 MB 5.1 MB/s eta 0:00:03\n",
      "   -------------------- ------------------- 12.6/25.1 MB 5.2 MB/s eta 0:00:03\n",
      "   ---------------------- ----------------- 13.9/25.1 MB 5.3 MB/s eta 0:00:03\n",
      "   ------------------------ --------------- 15.5/25.1 MB 5.4 MB/s eta 0:00:02\n",
      "   ------------------------- -------------- 16.3/25.1 MB 5.5 MB/s eta 0:00:02\n",
      "   ------------------------- -------------- 16.3/25.1 MB 5.5 MB/s eta 0:00:02\n",
      "   ---------------------------- ----------- 17.8/25.1 MB 5.1 MB/s eta 0:00:02\n",
      "   ------------------------------ --------- 19.1/25.1 MB 5.2 MB/s eta 0:00:02\n",
      "   -------------------------------- ------- 20.4/25.1 MB 5.3 MB/s eta 0:00:01\n",
      "   ---------------------------------- ----- 21.8/25.1 MB 5.3 MB/s eta 0:00:01\n",
      "   ------------------------------------ --- 23.1/25.1 MB 5.4 MB/s eta 0:00:01\n",
      "   -------------------------------------- - 24.4/25.1 MB 5.4 MB/s eta 0:00:01\n",
      "   ---------------------------------------- 25.1/25.1 MB 5.3 MB/s eta 0:00:00\n",
      "Installing collected packages: pyarrow, scrapbook\n",
      "Successfully installed pyarrow-18.1.0 scrapbook-0.5.0\n"
     ]
    }
   ],
   "execution_count": 4
  },
  {
   "metadata": {
    "ExecuteTime": {
     "end_time": "2024-12-18T09:49:24.330223Z",
     "start_time": "2024-12-18T09:49:24.314587Z"
    }
   },
   "cell_type": "code",
   "source": [
    "from jupyter_client.manager import KernelManager\n",
    "km = KernelManager()\n"
   ],
   "id": "5cfcd286a0f0911c",
   "outputs": [],
   "execution_count": 4
  },
  {
   "metadata": {
    "ExecuteTime": {
     "end_time": "2024-12-18T09:49:42.900729Z",
     "start_time": "2024-12-18T09:49:42.550616Z"
    }
   },
   "cell_type": "code",
   "source": [
    "# %%prun\n",
    "import papermill\n",
    "from importlib import reload\n",
    "reload(papermill)\n",
    "from datetime import datetime\n",
    "\n",
    "\n",
    "output = 'TestPapermillOutput.ipynb'\n",
    "print(f\"{datetime.now()} Executing\")\n",
    "\n",
    "nb, _ = papermill.execute_notebook(\n",
    "    'TestPapermillChild.ipynb',\n",
    "    output,\n",
    "    km,\n",
    "    parameters=dict(param='bar')\n",
    ")\n",
    "\n",
    "print(f\"{datetime.now()} Executing done\")\n",
    "\n"
   ],
   "id": "539af813ba655a8",
   "outputs": [
    {
     "name": "stdout",
     "output_type": "stream",
     "text": [
      "2024-12-18 09:49:42.556828 Executing\n",
      "2024-12-18 09:49:42.558827 Engine execute_notebook start \n"
     ]
    },
    {
     "data": {
      "text/plain": [
       "Executing:   0%|          | 0/4 [00:00<?, ?cell/s]"
      ],
      "application/vnd.jupyter.widget-view+json": {
       "version_major": 2,
       "version_minor": 0,
       "model_id": "6913c0d0915c4b23b51536ae975fa251"
      }
     },
     "metadata": {},
     "output_type": "display_data"
    },
    {
     "name": "stdout",
     "output_type": "stream",
     "text": [
      "2024-12-18 09:49:42.569775 Engine execute_notebook running \n",
      "2024-12-18 09:49:42.569775 Engine execute_managed_notebook start \n",
      "2024-12-18 09:49:42.570301 Client execute_notebook start km_in=<jupyter_client.manager.KernelManager object at 0x000001D51DB377C0>\n",
      "2024-12-18 09:49:42.801167 Client execute_notebook setup_kernel end \n",
      "2024-12-18 09:49:42.802161 papermill_execute_cells cell 0 start \n",
      "2024-12-18 09:49:42.804897 papermill_execute_cells cell 0 end \n",
      "2024-12-18 09:49:42.826664 papermill_execute_cells cell 0 execute_cell end \n",
      "2024-12-18 09:49:42.826664 papermill_execute_cells cell 0 complete \n",
      "2024-12-18 09:49:42.831277 papermill_execute_cells cell 1 start \n",
      "2024-12-18 09:49:42.834432 papermill_execute_cells cell 1 end \n",
      "2024-12-18 09:49:42.848432 papermill_execute_cells cell 1 execute_cell end \n",
      "2024-12-18 09:49:42.848432 papermill_execute_cells cell 1 complete \n",
      "2024-12-18 09:49:42.850568 papermill_execute_cells cell 2 start \n",
      "2024-12-18 09:49:42.852078 papermill_execute_cells cell 2 end \n",
      "2024-12-18 09:49:42.869950 papermill_execute_cells cell 2 execute_cell end \n",
      "2024-12-18 09:49:42.869950 papermill_execute_cells cell 2 complete \n",
      "2024-12-18 09:49:42.870981 papermill_execute_cells cell 3 start \n",
      "2024-12-18 09:49:42.872980 papermill_execute_cells cell 3 end \n",
      "2024-12-18 09:49:42.887069 papermill_execute_cells cell 3 execute_cell end \n",
      "2024-12-18 09:49:42.887069 papermill_execute_cells cell 3 complete \n",
      "2024-12-18 09:49:42.892075 Client execute_notebook about to stop kernel \n",
      "2024-12-18 09:49:42.892075 Client execute_notebook end km_in=<jupyter_client.manager.KernelManager object at 0x000001D51DB377C0> km_out=<jupyter_client.manager.KernelManager object at 0x000001D51DB377C0>\n",
      "2024-12-18 09:49:42.892075 Engine execute_notebook cleanup \n",
      "2024-12-18 09:49:42.895078 Engine execute_notebook end km_in=<jupyter_client.manager.KernelManager object at 0x000001D51DB377C0> km_out=<jupyter_client.manager.KernelManager object at 0x000001D51DB377C0>\n",
      "2024-12-18 09:49:42.896680 Executing done\n"
     ]
    }
   ],
   "execution_count": 7
  },
  {
   "metadata": {
    "ExecuteTime": {
     "end_time": "2024-12-18T09:41:21.938797Z",
     "start_time": "2024-12-18T09:41:21.907095Z"
    }
   },
   "cell_type": "code",
   "source": "display(km)",
   "id": "3c2f3c604f0c9638",
   "outputs": [
    {
     "data": {
      "text/plain": [
       "None"
      ]
     },
     "metadata": {},
     "output_type": "display_data"
    }
   ],
   "execution_count": 3
  },
  {
   "metadata": {
    "ExecuteTime": {
     "end_time": "2024-12-18T06:13:12.744374Z",
     "start_time": "2024-12-18T06:13:12.647579Z"
    }
   },
   "cell_type": "code",
   "source": [
    "import scrapbook as sb\n",
    "\n",
    "nb = sb.read_notebook(output)\n",
    "display(nb.metadata)\n",
    "display(nb.scraps)"
   ],
   "id": "1f4fba6c66148d68",
   "outputs": [
    {
     "data": {
      "text/plain": [
       "{'kernelspec': {'display_name': 'Python 3',\n",
       "  'language': 'python',\n",
       "  'name': 'python3'},\n",
       " 'language_info': {'codemirror_mode': {'name': 'ipython', 'version': 3},\n",
       "  'file_extension': '.py',\n",
       "  'mimetype': 'text/x-python',\n",
       "  'name': 'python',\n",
       "  'nbconvert_exporter': 'python',\n",
       "  'pygments_lexer': 'ipython3',\n",
       "  'version': '3.10.14'},\n",
       " 'papermill': {'default_parameters': {},\n",
       "  'duration': 3.355939,\n",
       "  'end_time': '2024-12-18T06:13:11.302931',\n",
       "  'environment_variables': {},\n",
       "  'exception': None,\n",
       "  'input_path': 'TestPapermillChild.ipynb',\n",
       "  'output_path': 'TestPapermillOutput.ipynb',\n",
       "  'parameters': {'param': 'bar'},\n",
       "  'start_time': '2024-12-18T06:13:07.946992',\n",
       "  'version': '2.6.0'}}"
      ]
     },
     "metadata": {},
     "output_type": "display_data"
    },
    {
     "data": {
      "text/plain": [
       "Scraps([('hello',\n",
       "         Scrap(name='hello', data='world', encoder='text', display=None))])"
      ]
     },
     "metadata": {},
     "output_type": "display_data"
    }
   ],
   "execution_count": 6
  },
  {
   "metadata": {},
   "cell_type": "code",
   "outputs": [],
   "execution_count": null,
   "source": [
    "nb_man = NotebookExecutionManager(\n",
    "    nb,\n",
    "    output_path=output_path,\n",
    "    progress_bar=progress_bar,\n",
    "    log_output=log_output,\n",
    "    autosave_cell_every=autosave_cell_every,\n",
    ")\n",
    "\n",
    "nb_man.notebook_start()\n",
    "try:\n",
    "    print(f\"{datetime.datetime.now()} Engine execute_notebook running \")\n",
    "    cls.execute_managed_notebook(nb_man, kernel_name, log_output=log_output, **kwargs)\n",
    "finally:\n",
    "    print(f\"{datetime.datetime.now()} Engine execute_notebook cleanup \")\n",
    "    nb_man.cleanup_pbar()\n",
    "    nb_man.notebook_complete()\n",
    "print(f\"{datetime.datetime.now()} Engine execute_notebook end \")\n"
   ],
   "id": "a6007bcf8603b7fc"
  }
 ],
 "metadata": {
  "kernelspec": {
   "display_name": "Python 3",
   "language": "python",
   "name": "python3"
  },
  "language_info": {
   "codemirror_mode": {
    "name": "ipython",
    "version": 2
   },
   "file_extension": ".py",
   "mimetype": "text/x-python",
   "name": "python",
   "nbconvert_exporter": "python",
   "pygments_lexer": "ipython2",
   "version": "2.7.6"
  }
 },
 "nbformat": 4,
 "nbformat_minor": 5
}
