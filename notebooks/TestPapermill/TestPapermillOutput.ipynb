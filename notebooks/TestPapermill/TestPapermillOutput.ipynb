{
 "cells": [
  {
   "cell_type": "code",
   "execution_count": 9,
   "id": "initial_id",
   "metadata": {
    "ExecuteTime": {
     "end_time": "2024-12-17T15:17:17.273688Z",
     "start_time": "2024-12-17T15:17:17.259816Z"
    },
    "collapsed": true,
    "execution": {
     "iopub.execute_input": "2024-12-18T09:49:42.808025Z",
     "iopub.status.busy": "2024-12-18T09:49:42.808025Z",
     "iopub.status.idle": "2024-12-18T09:49:42.824662Z",
     "shell.execute_reply": "2024-12-18T09:49:42.822659Z"
    },
    "papermill": {
     "duration": 0.024503,
     "end_time": "2024-12-18T09:49:42.826664",
     "exception": false,
     "start_time": "2024-12-18T09:49:42.802161",
     "status": "completed"
    },
    "tags": [
     "parameters"
    ]
   },
   "outputs": [
    {
     "name": "stdout",
     "output_type": "stream",
     "text": [
      "Executing at 2024-12-18 09:49:42.812026\n",
      " \n",
      "*** Profile printout saved to text file 'cell1.txt'.\n"
     ]
    }
   ],
   "source": [
    "%%prun -T \"cell1.txt\"\n",
    "from datetime import datetime\n",
    "print(f\"Executing at {datetime.now()}\")\n",
    "\n",
    "param = 'foo'"
   ]
  },
  {
   "cell_type": "code",
   "execution_count": 10,
   "id": "3f2fb483",
   "metadata": {
    "execution": {
     "iopub.execute_input": "2024-12-18T09:49:42.836431Z",
     "iopub.status.busy": "2024-12-18T09:49:42.835434Z",
     "iopub.status.idle": "2024-12-18T09:49:42.846430Z",
     "shell.execute_reply": "2024-12-18T09:49:42.845429Z"
    },
    "papermill": {
     "duration": 0.017155,
     "end_time": "2024-12-18T09:49:42.848432",
     "exception": false,
     "start_time": "2024-12-18T09:49:42.831277",
     "status": "completed"
    },
    "tags": [
     "injected-parameters"
    ]
   },
   "outputs": [],
   "source": [
    "# Parameters\n",
    "param = \"bar\"\n"
   ]
  },
  {
   "cell_type": "code",
   "execution_count": 11,
   "id": "4fec1e22cb367f68",
   "metadata": {
    "ExecuteTime": {
     "end_time": "2024-12-17T15:17:17.301455Z",
     "start_time": "2024-12-17T15:17:17.285798Z"
    },
    "execution": {
     "iopub.execute_input": "2024-12-18T09:49:42.854123Z",
     "iopub.status.busy": "2024-12-18T09:49:42.854123Z",
     "iopub.status.idle": "2024-12-18T09:49:42.868130Z",
     "shell.execute_reply": "2024-12-18T09:49:42.867130Z"
    },
    "papermill": {
     "duration": 0.019104,
     "end_time": "2024-12-18T09:49:42.869950",
     "exception": false,
     "start_time": "2024-12-18T09:49:42.850846",
     "status": "completed"
    },
    "tags": []
   },
   "outputs": [
    {
     "name": "stdout",
     "output_type": "stream",
     "text": [
      "Executing at 2024-12-18 09:49:42.856124\n",
      "bar\n",
      " \n",
      "*** Profile printout saved to text file 'cell2.txt'.\n"
     ]
    }
   ],
   "source": [
    "%%prun -T \"cell2.txt\"\n",
    "print(f\"Executing at {datetime.now()}\")\n",
    "\n",
    "print(param)"
   ]
  },
  {
   "cell_type": "code",
   "execution_count": 12,
   "id": "95667caee794ec40",
   "metadata": {
    "execution": {
     "iopub.execute_input": "2024-12-18T09:49:42.873981Z",
     "iopub.status.busy": "2024-12-18T09:49:42.873981Z",
     "iopub.status.idle": "2024-12-18T09:49:42.886069Z",
     "shell.execute_reply": "2024-12-18T09:49:42.885071Z"
    },
    "papermill": {
     "duration": 0.016088,
     "end_time": "2024-12-18T09:49:42.887069",
     "exception": false,
     "start_time": "2024-12-18T09:49:42.870981",
     "status": "completed"
    },
    "tags": []
   },
   "outputs": [],
   "source": [
    "# import scrapbook as sb\n",
    "#\n",
    "# sb.glue(\"hello\", \"world\")\n"
   ]
  }
 ],
 "metadata": {
  "kernelspec": {
   "display_name": "Python 3",
   "language": "python",
   "name": "python3"
  },
  "language_info": {
   "codemirror_mode": {
    "name": "ipython",
    "version": 3
   },
   "file_extension": ".py",
   "mimetype": "text/x-python",
   "name": "python",
   "nbconvert_exporter": "python",
   "pygments_lexer": "ipython3",
   "version": "3.10.14"
  },
  "papermill": {
   "default_parameters": {},
   "duration": 0.326241,
   "end_time": "2024-12-18T09:49:42.893075",
   "environment_variables": {},
   "exception": null,
   "input_path": "TestPapermillChild.ipynb",
   "output_path": "TestPapermillOutput.ipynb",
   "parameters": {
    "param": "bar"
   },
   "start_time": "2024-12-18T09:49:42.566834",
   "version": "2.6.0"
  }
 },
 "nbformat": 4,
 "nbformat_minor": 5
}