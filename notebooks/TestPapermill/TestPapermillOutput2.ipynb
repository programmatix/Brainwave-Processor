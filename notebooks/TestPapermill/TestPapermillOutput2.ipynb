{
 "cells": [
  {
   "cell_type": "code",
   "execution_count": 1,
   "id": "initial_id",
   "metadata": {
    "ExecuteTime": {
     "end_time": "2024-12-17T15:17:17.273688Z",
     "start_time": "2024-12-17T15:17:17.259816Z"
    },
    "collapsed": true,
    "execution": {
     "iopub.execute_input": "2024-12-17T15:18:09.922074Z",
     "iopub.status.busy": "2024-12-17T15:18:09.922074Z",
     "iopub.status.idle": "2024-12-17T15:18:09.954422Z",
     "shell.execute_reply": "2024-12-17T15:18:09.953817Z"
    },
    "papermill": {
     "duration": 0.032348,
     "end_time": "2024-12-17T15:18:09.954422",
     "exception": false,
     "start_time": "2024-12-17T15:18:09.922074",
     "status": "completed"
    },
    "tags": [
     "parameters"
    ]
   },
   "outputs": [],
   "source": [
    "param = 'foo'"
   ]
  },
  {
   "cell_type": "code",
   "execution_count": 2,
   "id": "8362ab9d",
   "metadata": {
    "execution": {
     "iopub.execute_input": "2024-12-17T15:18:09.960502Z",
     "iopub.status.busy": "2024-12-17T15:18:09.960502Z",
     "iopub.status.idle": "2024-12-17T15:18:09.975881Z",
     "shell.execute_reply": "2024-12-17T15:18:09.974673Z"
    },
    "papermill": {
     "duration": 0.018401,
     "end_time": "2024-12-17T15:18:09.978903",
     "exception": false,
     "start_time": "2024-12-17T15:18:09.960502",
     "status": "completed"
    },
    "tags": [
     "injected-parameters"
    ]
   },
   "outputs": [],
   "source": [
    "# Parameters\n",
    "param = \"bar\"\n"
   ]
  },
  {
   "cell_type": "code",
   "execution_count": 3,
   "id": "4fec1e22cb367f68",
   "metadata": {
    "ExecuteTime": {
     "end_time": "2024-12-17T15:17:17.301455Z",
     "start_time": "2024-12-17T15:17:17.285798Z"
    },
    "execution": {
     "iopub.execute_input": "2024-12-17T15:18:09.986896Z",
     "iopub.status.busy": "2024-12-17T15:18:09.986896Z",
     "iopub.status.idle": "2024-12-17T15:18:09.994743Z",
     "shell.execute_reply": "2024-12-17T15:18:09.994743Z"
    },
    "papermill": {
     "duration": 0.015203,
     "end_time": "2024-12-17T15:18:09.997104",
     "exception": false,
     "start_time": "2024-12-17T15:18:09.981901",
     "status": "completed"
    },
    "tags": []
   },
   "outputs": [
    {
     "name": "stdout",
     "output_type": "stream",
     "text": [
      "bar\n"
     ]
    }
   ],
   "source": [
    "print(param)"
   ]
  },
  {
   "cell_type": "code",
   "execution_count": null,
   "id": "95667caee794ec40",
   "metadata": {
    "papermill": {
     "duration": 0.0,
     "end_time": "2024-12-17T15:18:09.998231",
     "exception": false,
     "start_time": "2024-12-17T15:18:09.998231",
     "status": "completed"
    },
    "tags": []
   },
   "outputs": [],
   "source": []
  }
 ],
 "metadata": {
  "kernelspec": {
   "display_name": "Python 3",
   "language": "python",
   "name": "python3"
  },
  "language_info": {
   "codemirror_mode": {
    "name": "ipython",
    "version": 3
   },
   "file_extension": ".py",
   "mimetype": "text/x-python",
   "name": "python",
   "nbconvert_exporter": "python",
   "pygments_lexer": "ipython3",
   "version": "3.10.14"
  },
  "papermill": {
   "default_parameters": {},
   "duration": 5.130297,
   "end_time": "2024-12-17T15:18:13.597026",
   "environment_variables": {},
   "exception": null,
   "input_path": "TestPapermillChild.ipynb",
   "output_path": "TestPapermillOutput2.ipynb",
   "parameters": {
    "param": "bar"
   },
   "start_time": "2024-12-17T15:18:08.466729",
   "version": "2.6.0"
  }
 },
 "nbformat": 4,
 "nbformat_minor": 5
}