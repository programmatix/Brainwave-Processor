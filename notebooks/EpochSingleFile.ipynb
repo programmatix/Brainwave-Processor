{
 "cells": [
  {
   "metadata": {},
   "cell_type": "markdown",
   "source": [
    "# Epoch Single File\n",
    "Added ReadyToSleep phases etc.  Has been copied into main multi pipeline."
   ],
   "id": "b4f8c67b56e5d197"
  },
  {
   "metadata": {},
   "cell_type": "code",
   "source": [
    "%reload_ext autoreload\n",
    "%autoreload 2\n",
    "import numpy as np\n",
    "import pandas as pd\n",
    "import run_yasa\n",
    "import logging\n",
    "import mne\n",
    "import yasa\n",
    "import os\n",
    "import argparse\n",
    "import os\n",
    "\n",
    "import mne\n",
    "import numpy as np\n",
    "import pandas as pd\n",
    "from brainflow.board_shim import BoardShim, BoardIds\n",
    "from brainflow.data_filter import DataFilter\n",
    "log = lambda msg: logging.info(msg)\n"
   ],
   "id": "e7b3ecab1d3c58ab",
   "outputs": [],
   "execution_count": null
  },
  {
   "metadata": {},
   "cell_type": "markdown",
   "source": "# Load data",
   "id": "4ea06b488bd85917"
  },
  {
   "metadata": {},
   "cell_type": "code",
   "source": [
    "input_dir = \"C:\\\\dev\\\\play\\\\brainwave-data\"\n",
    "stats_df = pd.read_csv(input_dir + os.path.sep + \"stats.csv\")\n"
   ],
   "id": "4f67469e437f3c26",
   "outputs": [],
   "execution_count": null
  },
  {
   "metadata": {},
   "cell_type": "markdown",
   "source": "",
   "id": "a78c54b5b4a8d49"
  },
  {
   "metadata": {},
   "cell_type": "code",
   "source": [
    "from sleep_events import load_days_data\n",
    "\n",
    "days_data = load_days_data()\n",
    "days_data_orig = days_data.copy()"
   ],
   "id": "de1a3e008d3c572a",
   "outputs": [],
   "execution_count": null
  },
  {
   "metadata": {},
   "cell_type": "code",
   "source": [
    "from sleep_events import pimp_my_days_data\n",
    "\n",
    "days_data = pimp_my_days_data(days_data)"
   ],
   "id": "2a829c432bc7d090",
   "outputs": [],
   "execution_count": null
  },
  {
   "metadata": {},
   "cell_type": "code",
   "source": "days_data['asleepTime'].info()",
   "id": "84204f1846c3e422",
   "outputs": [],
   "execution_count": null
  },
  {
   "metadata": {},
   "cell_type": "code",
   "source": "[col for col in days_data.columns if \"lep:\" in col.lower()]",
   "id": "f12f35ff0f84dd2c",
   "outputs": [],
   "execution_count": null
  },
  {
   "metadata": {},
   "cell_type": "code",
   "source": "",
   "id": "5b32e5b821d76d81",
   "outputs": [],
   "execution_count": null
  },
  {
   "metadata": {},
   "cell_type": "code",
   "source": "# yasa_df",
   "id": "f080b0b093524adf",
   "outputs": [],
   "execution_count": null
  },
  {
   "metadata": {
    "ExecuteTime": {
     "end_time": "2024-11-08T08:25:14.087094Z",
     "start_time": "2024-11-08T08:25:13.902087Z"
    }
   },
   "cell_type": "code",
   "source": [
    "from sleep_events import convert_timestamp_to_uk\n",
    "\n",
    "\n",
    "def process_file(dir_name, input_file):\n",
    "    day_and_night_of_date = datetime.strptime(dir_name, \"%Y-%m-%d-%H-%M-%S\")\n",
    "    day_and_night_of = day_and_night_of_date.date().isoformat()\n",
    "    yasa_df = run_feature_pipeline.cached_pipeline(log, input_file, stats_df)\n",
    "    yasa_df['dayAndNightOf'] = day_and_night_of\n",
    "    row = days_data[days_data['dayAndNightOf'] == day_and_night_of]\n",
    "    if not row.empty:\n",
    "        yasa_df['asleepTime'] = row['asleepTime'].iloc[0]\n",
    "        yasa_df['wakeTime'] = row['wakeTime'].iloc[0]\n",
    "        yasa_df['gotIntoBedTime'] = row['gotIntoBedTime'].iloc[0]\n",
    "        yasa_df['readyToSleepTime'] = row['readyToSleepTime'].iloc[0]\n",
    "        yasa_df['LEPTime'] = row['LEPTime'].iloc[0]\n",
    "        # print(row['asleepTime'].iloc[0])\n",
    "        # print(row['asleepTime'].iloc[0].dtype)\n",
    "    \n",
    "        # print(row['asleepTime'].dtype)\n",
    "        # # print(row['asleepTime'].values[0])\n",
    "        # # print(row['asleepTime'].values[0].dtype)\n",
    "        # print(row['asleepTime'].iloc[0])\n",
    "        # print(row['asleepTime'].iloc[0].dtype)\n",
    "        # print(yasa_df['asleepTime'].dtype)\n",
    "\n",
    "    yasa_df['Timestamp'] = df['Timestamp'].apply(convert_timestamp_to_uk)\n",
    "    return yasa_df\n",
    "    \n",
    "df = process_file(\"2024-11-01-21-32-22\", \"C:\\\\dev\\\\play\\\\brainwave-data\\\\2024-11-01-21-32-22\\\\raw.fif\")"
   ],
   "id": "17354e324cd1dd44",
   "outputs": [],
   "execution_count": 47
  },
  {
   "metadata": {
    "ExecuteTime": {
     "end_time": "2024-11-08T08:25:15.059299Z",
     "start_time": "2024-11-08T08:25:14.932674Z"
    }
   },
   "cell_type": "code",
   "source": "df[['Stage', 'Timestamp', 'asleepTime', 'dayAndNightOf']].info()",
   "id": "8061b7f8857e246e",
   "outputs": [
    {
     "name": "stdout",
     "output_type": "stream",
     "text": [
      "<class 'pandas.core.frame.DataFrame'>\n",
      "Index: 1026 entries, 0 to 1025\n",
      "Data columns (total 4 columns):\n",
      " #   Column         Non-Null Count  Dtype                        \n",
      "---  ------         --------------  -----                        \n",
      " 0   Stage          1026 non-null   object                       \n",
      " 1   Timestamp      1026 non-null   datetime64[ns, Europe/London]\n",
      " 2   asleepTime     1026 non-null   datetime64[ns, Europe/London]\n",
      " 3   dayAndNightOf  1026 non-null   object                       \n",
      "dtypes: datetime64[ns, Europe/London](2), object(2)\n",
      "memory usage: 40.1+ KB\n"
     ]
    }
   ],
   "execution_count": 48
  },
  {
   "metadata": {
    "ExecuteTime": {
     "end_time": "2024-11-08T08:25:36.834595Z",
     "start_time": "2024-11-08T08:25:30.249765Z"
    }
   },
   "cell_type": "code",
   "source": [
    "from sleep_events import convert_timestamps_to_uk\n",
    "from datetime import datetime\n",
    "import os\n",
    "import run_feature_pipeline\n",
    "errors = []\n",
    "\n",
    "dfs = []\n",
    "# Could get these working later\n",
    "skip_list = ['2024-07-23-22-40-25', '2024-07-28-22-29-49', '2024-09-18-21-25-08', '2024-09-18-21-28-11', '2024-09-19-21-29-42']\n",
    "\n",
    "def assign_timestamps_with_tz(df, source_col, target_col):\n",
    "    \"\"\"\n",
    "    Assign timezone-aware timestamps from one column to another in a DataFrame.\n",
    "    \n",
    "    Parameters:\n",
    "    -----------\n",
    "    df : pandas.DataFrame\n",
    "        The DataFrame to assign the values to\n",
    "    source_col : str\n",
    "        The name of the column containing the source timestamps\n",
    "    target_col : str\n",
    "        The name of the column to assign the values to\n",
    "    \"\"\"\n",
    "    # Check if the target column exists\n",
    "    if target_col not in df.columns:\n",
    "        df[target_col] = pd.NaT\n",
    "\n",
    "    # Assign the values while preserving the timezone\n",
    "    df[target_col] = df[source_col]\n",
    "\n",
    "\n",
    "for root, dirs, files in os.walk(input_dir):\n",
    "    for idx, dir_name in enumerate(dirs):\n",
    "        input_file = os.path.join(root, dir_name, \"raw.fif\")\n",
    "        if dir_name in skip_list:\n",
    "            log(f\"Skipping {idx} of {len(dirs)}: \" + input_file)\n",
    "            continue\n",
    "        try:\n",
    "            log(\"Processing file: \" + input_file)\n",
    "            if os.path.exists(input_file):\n",
    "                yasa_df = process_file(dir_name, input_file)\n",
    "                dfs.append(yasa_df)\n",
    "\n",
    "        except Exception as e:\n",
    "            log(\"Error processing file: \" + input_file)\n",
    "            errors.append(\"Error processing file: \" + input_file + \" - \" + str(e))\n",
    "            log(e)\n",
    "\n",
    "for err in errors:\n",
    "    log(err)\n",
    "    \n",
    "yasa_df = pd.concat(dfs)\n",
    "yasa_df_orig = yasa_df.copy()"
   ],
   "id": "d6b0f77aa2bc14e2",
   "outputs": [
    {
     "name": "stderr",
     "output_type": "stream",
     "text": [
      "C:\\dev\\play\\brainwave-processor\\sleep_events.py:33: UserWarning: Boolean Series key will be reindexed to match DataFrame index.\n",
      "  ha_events_for_file = ha_events[ha_events['timestamp'] >= start_date][ha_events['timestamp'] <= end_date][ha_events['event'] == 'wake']\n",
      "C:\\dev\\play\\brainwave-processor\\sleep_events.py:33: UserWarning: Boolean Series key will be reindexed to match DataFrame index.\n",
      "  ha_events_for_file = ha_events[ha_events['timestamp'] >= start_date][ha_events['timestamp'] <= end_date][ha_events['event'] == 'wake']\n"
     ]
    }
   ],
   "execution_count": 49
  },
  {
   "metadata": {
    "ExecuteTime": {
     "end_time": "2024-11-08T08:25:41.552421Z",
     "start_time": "2024-11-08T08:25:41.372362Z"
    }
   },
   "cell_type": "code",
   "source": [
    "row = days_data[days_data['dayAndNightOf'] == '2024-11-01']\n",
    "# yasa_df['asleepTime'] = row['asleepTime'].iloc[0]\n",
    "# yasa_df['wakeTime'] = row['wakeTime'].iloc[0]\n",
    "# yasa_df['gotIntoBedTime'] = row['gotIntoBedTime'].iloc[0]\n",
    "# yasa_df['readyToSleepTime'] = row['readyToSleepTime'].iloc[0]\n",
    "# yasa_df['LEPTime'] = row['LEPTime'].iloc[0]\n",
    "# print(row['asleepTime'].iloc[0])\n",
    "# print(row['asleepTime'].iloc[0].dtype)\n",
    "print(row)\n",
    "print(row.empty)\n",
    "print(row['asleepTime'].dtype)\n",
    "print(row['asleepTime'].values[0])\n",
    "print(row['asleepTime'].values[0].dtype)\n",
    "print(row['asleepTime'].iloc[0])\n",
    "print(row['asleepTime'].iloc[0].dtype)\n",
    "print(yasa_df['asleepTime'].dtype)\n"
   ],
   "id": "7aa1e1d1b4b996a4",
   "outputs": [
    {
     "name": "stdout",
     "output_type": "stream",
     "text": [
      "    dayAndNightOf  exercise:fitbit:heartRateZones:OutofRange:caloriesOut  \\\n",
      "194    2024-11-01                                          962.97656       \n",
      "\n",
      "     exercise:fitbit:activityLevels:very:distance  \\\n",
      "194                                        0.3532   \n",
      "\n",
      "     exercise:byExercise:Run:averageHeartRate  \\\n",
      "194                                       0.0   \n",
      "\n",
      "     exercise:fitbit:heartRateZones:Peak:min  \\\n",
      "194                                    160.0   \n",
      "\n",
      "     drugsAndSupplements:MultivitQuantity  \\\n",
      "194                                   0.0   \n",
      "\n",
      "     exercise:byExercise:Treadmill:firstDurationSecs  \\\n",
      "194                                              0.0   \n",
      "\n",
      "     exercise:byExercise:Treadmill:totalSteps  exercise:fitbit:floors  \\\n",
      "194                                       0.0                     5.0   \n",
      "\n",
      "     date:month  ...  drugsAndSupplements:VitaminD3FirstSSM:vsDayMinus1  \\\n",
      "194          11  ...                                                NaN   \n",
      "\n",
      "     night:morningQuestionnaire:pajamas:bottoms  \\\n",
      "194                                         NaN   \n",
      "\n",
      "     night:morningQuestionnaire:pajamas:tops  \\\n",
      "194                                      NaN   \n",
      "\n",
      "     night:yasaExtended:Stability:Fpz-M1:De ep  \\\n",
      "194                                        NaN   \n",
      "\n",
      "     night:yasaExtended:Stability:Aggregated:De ep                asleepTime  \\\n",
      "194                                            NaN 2024-11-01 22:31:23+00:00   \n",
      "\n",
      "                     wakeTime            gotIntoBedTime  \\\n",
      "194 2024-11-02 04:24:53+00:00 2024-11-01 21:34:06+00:00   \n",
      "\n",
      "             readyToSleepTime                   LEPTime  \n",
      "194 2024-11-01 22:25:30+00:00 2024-11-01 21:28:00+00:00  \n",
      "\n",
      "[1 rows x 6222 columns]\n",
      "False\n",
      "datetime64[ns, Europe/London]\n",
      "2024-11-01T22:31:23.000000000\n",
      "datetime64[ns]\n",
      "2024-11-01 22:31:23+00:00\n"
     ]
    },
    {
     "ename": "AttributeError",
     "evalue": "'Timestamp' object has no attribute 'dtype'",
     "output_type": "error",
     "traceback": [
      "\u001B[1;31m---------------------------------------------------------------------------\u001B[0m",
      "\u001B[1;31mAttributeError\u001B[0m                            Traceback (most recent call last)",
      "Cell \u001B[1;32mIn[50], line 15\u001B[0m\n\u001B[0;32m     13\u001B[0m \u001B[38;5;28mprint\u001B[39m(row[\u001B[38;5;124m'\u001B[39m\u001B[38;5;124masleepTime\u001B[39m\u001B[38;5;124m'\u001B[39m]\u001B[38;5;241m.\u001B[39mvalues[\u001B[38;5;241m0\u001B[39m]\u001B[38;5;241m.\u001B[39mdtype)\n\u001B[0;32m     14\u001B[0m \u001B[38;5;28mprint\u001B[39m(row[\u001B[38;5;124m'\u001B[39m\u001B[38;5;124masleepTime\u001B[39m\u001B[38;5;124m'\u001B[39m]\u001B[38;5;241m.\u001B[39miloc[\u001B[38;5;241m0\u001B[39m])\n\u001B[1;32m---> 15\u001B[0m \u001B[38;5;28mprint\u001B[39m(\u001B[43mrow\u001B[49m\u001B[43m[\u001B[49m\u001B[38;5;124;43m'\u001B[39;49m\u001B[38;5;124;43masleepTime\u001B[39;49m\u001B[38;5;124;43m'\u001B[39;49m\u001B[43m]\u001B[49m\u001B[38;5;241;43m.\u001B[39;49m\u001B[43miloc\u001B[49m\u001B[43m[\u001B[49m\u001B[38;5;241;43m0\u001B[39;49m\u001B[43m]\u001B[49m\u001B[38;5;241;43m.\u001B[39;49m\u001B[43mdtype\u001B[49m)\n\u001B[0;32m     16\u001B[0m \u001B[38;5;28mprint\u001B[39m(yasa_df[\u001B[38;5;124m'\u001B[39m\u001B[38;5;124masleepTime\u001B[39m\u001B[38;5;124m'\u001B[39m]\u001B[38;5;241m.\u001B[39mdtype)\n",
      "\u001B[1;31mAttributeError\u001B[0m: 'Timestamp' object has no attribute 'dtype'"
     ]
    }
   ],
   "execution_count": 50
  },
  {
   "metadata": {
    "ExecuteTime": {
     "end_time": "2024-11-08T08:18:31.645363Z",
     "start_time": "2024-11-08T08:18:31.498289Z"
    }
   },
   "cell_type": "code",
   "source": "errors",
   "id": "1ad9b81c1e973bce",
   "outputs": [
    {
     "data": {
      "text/plain": [
       "['Error processing file: C:\\\\dev\\\\play\\\\brainwave-data\\\\2024-10-02-21-20-34\\\\raw.fif - Sliding window size may not exceed size of selected axis',\n",
       " 'Error processing file: C:\\\\dev\\\\play\\\\brainwave-data\\\\2024-11-05-21-34-15\\\\raw.fif - No file or directory found at ./microwakings_multi1.h5']"
      ]
     },
     "execution_count": 34,
     "metadata": {},
     "output_type": "execute_result"
    }
   ],
   "execution_count": 34
  },
  {
   "metadata": {
    "ExecuteTime": {
     "end_time": "2024-11-08T08:25:47.182079Z",
     "start_time": "2024-11-08T08:25:47.049097Z"
    }
   },
   "cell_type": "code",
   "source": "yasa_df[['Stage', 'Timestamp', 'asleepTime']].info()",
   "id": "ca52366622b1a587",
   "outputs": [
    {
     "name": "stdout",
     "output_type": "stream",
     "text": [
      "<class 'pandas.core.frame.DataFrame'>\n",
      "Index: 68930 entries, 0 to 1244\n",
      "Data columns (total 3 columns):\n",
      " #   Column      Non-Null Count  Dtype                        \n",
      "---  ------      --------------  -----                        \n",
      " 0   Stage       68930 non-null  object                       \n",
      " 1   Timestamp   61691 non-null  datetime64[ns, Europe/London]\n",
      " 2   asleepTime  64200 non-null  object                       \n",
      "dtypes: datetime64[ns, Europe/London](1), object(2)\n",
      "memory usage: 2.1+ MB\n"
     ]
    }
   ],
   "execution_count": 51
  },
  {
   "metadata": {},
   "cell_type": "code",
   "source": "yasa_df[['Stage', 'Timestamp', 'asleepTime']].info()",
   "id": "9c676879e92c72fa",
   "outputs": [],
   "execution_count": null
  },
  {
   "metadata": {},
   "cell_type": "code",
   "source": "yasa_df['Timestamp'].info()",
   "id": "bd919c6a53a1fd00",
   "outputs": [],
   "execution_count": null
  },
  {
   "metadata": {},
   "cell_type": "code",
   "source": "yasa_df['Timestamp'].to_datetime()",
   "id": "e4c74601c000cc8",
   "outputs": [],
   "execution_count": null
  },
  {
   "metadata": {},
   "cell_type": "code",
   "source": "yasa_df['Timestamp2'] = pd.to_datetime(yasa_df['Timestamp'].astype(str), format='mixed', errors='coerce')",
   "id": "708b1a3ec7d8a1bd",
   "outputs": [],
   "execution_count": null
  },
  {
   "metadata": {},
   "cell_type": "code",
   "source": "yasa_df['Timestamp2'].isna().any()",
   "id": "149e786879059b89",
   "outputs": [],
   "execution_count": null
  },
  {
   "metadata": {
    "ExecuteTime": {
     "end_time": "2024-11-08T08:26:09.362305Z",
     "start_time": "2024-11-08T08:26:09.211669Z"
    }
   },
   "cell_type": "code",
   "source": "yasa_df['asleepTime'].apply(type).value_counts()",
   "id": "c5614f30b55376cc",
   "outputs": [
    {
     "data": {
      "text/plain": [
       "asleepTime\n",
       "<class 'pandas._libs.tslibs.timestamps.Timestamp'>    64200\n",
       "<class 'pandas._libs.tslibs.nattype.NaTType'>          4730\n",
       "Name: count, dtype: int64"
      ]
     },
     "execution_count": 52,
     "metadata": {},
     "output_type": "execute_result"
    }
   ],
   "execution_count": 52
  },
  {
   "metadata": {},
   "cell_type": "code",
   "source": [
    "yasa_df['Timestamp3'] = pd.to_datetime(yasa_df['Timestamp2'], errors='coerce')\n",
    "print(yasa_df['Timestamp3'].dtype)\n"
   ],
   "id": "619c929e2951fdf3",
   "outputs": [],
   "execution_count": null
  },
  {
   "metadata": {},
   "cell_type": "code",
   "source": [
    "\n",
    "\n",
    "yasa_df = convert_timestamps_to_uk(yasa_df)"
   ],
   "id": "8437c75f2ab9b566",
   "outputs": [],
   "execution_count": null
  },
  {
   "metadata": {},
   "cell_type": "code",
   "source": "#df_timestamps[['TimestampUK', 'Timestamp']]",
   "id": "c8be270ba51f6f8b",
   "outputs": [],
   "execution_count": null
  },
  {
   "metadata": {},
   "cell_type": "code",
   "source": "# yasa_df['TimestampUTC'] = yasa_df['Timestamp3'].tz_localize('UTC')",
   "id": "9c12b7a48f8d10a6",
   "outputs": [],
   "execution_count": null
  },
  {
   "metadata": {},
   "cell_type": "code",
   "source": "# yasa_df[yasa_df['Timestamp2'].isna()]['Timestamp']",
   "id": "79642489f6502654",
   "outputs": [],
   "execution_count": null
  },
  {
   "metadata": {},
   "cell_type": "code",
   "source": "# yasa_df['Timestamp2'].info()",
   "id": "b06f0dd2cea34bf2",
   "outputs": [],
   "execution_count": null
  },
  {
   "metadata": {},
   "cell_type": "code",
   "source": "# print(yasa_df['Timestamp'].value_counts().head())\n",
   "id": "8c5648b7f5850323",
   "outputs": [],
   "execution_count": null
  },
  {
   "metadata": {},
   "cell_type": "code",
   "source": "# print(yasa_df['Timestamp'].head())\n",
   "id": "4dff387ad214d590",
   "outputs": [],
   "execution_count": null
  },
  {
   "metadata": {},
   "cell_type": "code",
   "source": [
    "# Attempt conversion with debug information\n",
    "# problematic_rows = []\n",
    "# for idx, timestamp in yasa_df['Timestamp'].items():\n",
    "#     try:\n",
    "#         pd.to_datetime(timestamp, format='ISO8601')\n",
    "#     except Exception as e:\n",
    "#         problematic_rows.append((idx, timestamp, str(e)))\n",
    "#         if len(problematic_rows) >= 5:  # Show first 5 problems\n",
    "#             break\n",
    "# \n",
    "# if problematic_rows:\n",
    "#     print(\"First few problematic timestamps:\")\n",
    "#     for idx, ts, error in problematic_rows:\n",
    "#         print(f\"Index {idx}: {ts}\")\n",
    "#         print(f\"Error: {error}\\n\")"
   ],
   "id": "39062169e25d6318",
   "outputs": [],
   "execution_count": null
  },
  {
   "metadata": {},
   "cell_type": "code",
   "source": [
    "# # Show the actual format of the first few timestamps\n",
    "# print(\"Sample timestamp format:\")\n",
    "# print(yasa_df['Timestamp'].head().apply(lambda x: f\"Length: {len(str(x))}, Value: {x}\"))"
   ],
   "id": "7fd6c20064328dcd",
   "outputs": [],
   "execution_count": null
  },
  {
   "metadata": {},
   "cell_type": "code",
   "source": [
    "# # Ensure the 'Timestamp' column is in datetime format\n",
    "# yasa_df['TimestampISO'] = pd.to_datetime(yasa_df['Timestamp'], format='ISO8601', errors='coerce')\n",
    "# \n",
    "# # Localize the 'Timestamp' column to UTC\n",
    "# yasa_df['TimestampUTC'] = yasa_df['TimestampISO'].tz_localize('UTC')\n",
    "# \n",
    "# # Convert the 'Timestamp' column from UTC to UK time\n",
    "# yasa_df['TimestampUK'] = yasa_df['TimestampUTC'].dt.tz_convert('Europe/London')"
   ],
   "id": "10505ced5db3e004",
   "outputs": [],
   "execution_count": null
  },
  {
   "metadata": {},
   "cell_type": "code",
   "source": "# yasa_df['TimestampISO'].isna().any()",
   "id": "cc7a21192c2e1e1b",
   "outputs": [],
   "execution_count": null
  },
  {
   "metadata": {},
   "cell_type": "code",
   "source": "# print(yasa_df['TimestampISO'].dtype)\n",
   "id": "abde1d61def2a336",
   "outputs": [],
   "execution_count": null
  },
  {
   "metadata": {},
   "cell_type": "code",
   "source": "# yasa_df[['Stage', 'Timestamp', 'TimestampISO', 'asleepTime']]",
   "id": "68e26fc8f15be866",
   "outputs": [],
   "execution_count": null
  },
  {
   "metadata": {},
   "cell_type": "code",
   "source": [
    "# # Ensure the 'Timestamp' column is in datetime format\n",
    "# yasa_df['TimestampISO'] = pd.to_datetime(yasa_df['Timestamp'], format='ISO8601')\n",
    "# \n",
    "# # Convert the 'Timestamp' column from UTC to UK time\n",
    "# yasa_df['TimestampUK'] = yasa_df['Timestamp'].dt.tz_convert('Europe/London')"
   ],
   "id": "11e997d28ac24c18",
   "outputs": [],
   "execution_count": null
  },
  {
   "metadata": {
    "ExecuteTime": {
     "end_time": "2024-11-08T08:35:54.037474Z",
     "start_time": "2024-11-08T08:35:52.734068Z"
    }
   },
   "cell_type": "code",
   "source": [
    "yasa_df['timeSinceSleep'] = yasa_df['Timestamp'] - yasa_df['asleepTime']\n",
    "yasa_df['timeSinceReadyToSleep'] = yasa_df['Timestamp'] - yasa_df['readyToSleepTime']\n",
    "yasa_df['timeSinceGotIntoBed'] = yasa_df['Timestamp'] - yasa_df['gotIntoBedTime']\n",
    "yasa_df['timeSinceLEP'] = yasa_df['Timestamp'] - yasa_df['LEPTime']\n",
    "#yasa_df['timeUntilWake'] = yasa_df['wakeTime'] - yasa_df['Timestamp']\n",
    "yasa_df['15MinsBeforeSleep'] = ((yasa_df['timeSinceSleep'] >= pd.Timedelta(minutes=-15)) &\n",
    "                                (yasa_df['timeSinceSleep'] <= pd.Timedelta(minutes=0))).astype(int)\n",
    "yasa_df['30MinsBeforeSleep'] = ((yasa_df['timeSinceSleep'] >= pd.Timedelta(minutes=-30)) &\n",
    "                                (yasa_df['timeSinceSleep'] <= pd.Timedelta(minutes=0))).astype(int)\n",
    "yasa_df['45MinsBeforeSleep'] = ((yasa_df['timeSinceSleep'] >= pd.Timedelta(minutes=-45)) &\n",
    "                                (yasa_df['timeSinceSleep'] <= pd.Timedelta(minutes=0))).astype(int)\n",
    "yasa_df['60MinsBeforeSleep'] = ((yasa_df['timeSinceSleep'] >= pd.Timedelta(minutes=-60)) &\n",
    "                                (yasa_df['timeSinceSleep'] <= pd.Timedelta(minutes=0))).astype(int)\n",
    "yasa_df['DuringReadyToSleep'] = ((yasa_df['Timestamp'] >= yasa_df['readyToSleepTime']) & (yasa_df['Timestamp'] <= yasa_df['asleepTime'])).astype(int)\n",
    "yasa_df['SleepHour1'] = ((yasa_df['timeSinceSleep'] <= pd.Timedelta(hours=1)) & (yasa_df['timeSinceSleep'] >= pd.Timedelta(hours=0))).astype(int)\n",
    "yasa_df['SleepHour2'] = ((yasa_df['timeSinceSleep'] <= pd.Timedelta(hours=2)) & (yasa_df['timeSinceSleep'] >= pd.Timedelta(hours=1))).astype(int)\n",
    "yasa_df['SleepHour3'] = ((yasa_df['timeSinceSleep'] <= pd.Timedelta(hours=3)) & (yasa_df['timeSinceSleep'] >= pd.Timedelta(hours=2))).astype(int)\n",
    "yasa_df['SleepHour4'] = ((yasa_df['timeSinceSleep'] <= pd.Timedelta(hours=4)) & (yasa_df['timeSinceSleep'] >= pd.Timedelta(hours=3))).astype(int)\n",
    "yasa_df['SleepHour5'] = ((yasa_df['timeSinceSleep'] <= pd.Timedelta(hours=5)) & (yasa_df['timeSinceSleep'] >= pd.Timedelta(hours=4))).astype(int)\n",
    "yasa_df['SleepHour6'] = ((yasa_df['timeSinceSleep'] <= pd.Timedelta(hours=6)) & (yasa_df['timeSinceSleep'] >= pd.Timedelta(hours=5))).astype(int)\n",
    "yasa_df['SleepHour7'] = ((yasa_df['timeSinceSleep'] <= pd.Timedelta(hours=7)) & (yasa_df['timeSinceSleep'] >= pd.Timedelta(hours=6))).astype(int)\n",
    "yasa_df['SleepHour8'] = ((yasa_df['timeSinceSleep'] <= pd.Timedelta(hours=8)) & (yasa_df['timeSinceSleep'] >= pd.Timedelta(hours=7))).astype(int)\n"
   ],
   "id": "8c8fd70d64b6528c",
   "outputs": [
    {
     "name": "stderr",
     "output_type": "stream",
     "text": [
      "C:\\Users\\graha\\AppData\\Local\\Temp\\ipykernel_34116\\1972786365.py:1: PerformanceWarning: Adding/subtracting object-dtype array to DatetimeArray not vectorized.\n",
      "  yasa_df['timeSinceSleep'] = yasa_df['Timestamp'] - yasa_df['asleepTime']\n",
      "C:\\Users\\graha\\AppData\\Local\\Temp\\ipykernel_34116\\1972786365.py:2: PerformanceWarning: Adding/subtracting object-dtype array to DatetimeArray not vectorized.\n",
      "  yasa_df['timeSinceReadyToSleep'] = yasa_df['Timestamp'] - yasa_df['readyToSleepTime']\n",
      "C:\\Users\\graha\\AppData\\Local\\Temp\\ipykernel_34116\\1972786365.py:3: PerformanceWarning: Adding/subtracting object-dtype array to DatetimeArray not vectorized.\n",
      "  yasa_df['timeSinceGotIntoBed'] = yasa_df['Timestamp'] - yasa_df['gotIntoBedTime']\n",
      "C:\\Users\\graha\\AppData\\Local\\Temp\\ipykernel_34116\\1972786365.py:4: PerformanceWarning: Adding/subtracting object-dtype array to DatetimeArray not vectorized.\n",
      "  yasa_df['timeSinceLEP'] = yasa_df['Timestamp'] - yasa_df['LEPTime']\n",
      "C:\\Users\\graha\\AppData\\Local\\Temp\\ipykernel_34116\\1972786365.py:14: PerformanceWarning: DataFrame is highly fragmented.  This is usually the result of calling `frame.insert` many times, which has poor performance.  Consider joining all columns at once using pd.concat(axis=1) instead. To get a de-fragmented frame, use `newframe = frame.copy()`\n",
      "  yasa_df['DuringReadyToSleep'] = ((yasa_df['Timestamp'] >= yasa_df['readyToSleepTime']) & (yasa_df['Timestamp'] <= yasa_df['asleepTime'])).astype(int)\n",
      "C:\\Users\\graha\\AppData\\Local\\Temp\\ipykernel_34116\\1972786365.py:15: PerformanceWarning: DataFrame is highly fragmented.  This is usually the result of calling `frame.insert` many times, which has poor performance.  Consider joining all columns at once using pd.concat(axis=1) instead. To get a de-fragmented frame, use `newframe = frame.copy()`\n",
      "  yasa_df['SleepHour1'] = ((yasa_df['timeSinceSleep'] <= pd.Timedelta(hours=1)) & (yasa_df['timeSinceSleep'] >= pd.Timedelta(hours=0))).astype(int)\n",
      "C:\\Users\\graha\\AppData\\Local\\Temp\\ipykernel_34116\\1972786365.py:16: PerformanceWarning: DataFrame is highly fragmented.  This is usually the result of calling `frame.insert` many times, which has poor performance.  Consider joining all columns at once using pd.concat(axis=1) instead. To get a de-fragmented frame, use `newframe = frame.copy()`\n",
      "  yasa_df['SleepHour2'] = ((yasa_df['timeSinceSleep'] <= pd.Timedelta(hours=2)) & (yasa_df['timeSinceSleep'] >= pd.Timedelta(hours=1))).astype(int)\n",
      "C:\\Users\\graha\\AppData\\Local\\Temp\\ipykernel_34116\\1972786365.py:17: PerformanceWarning: DataFrame is highly fragmented.  This is usually the result of calling `frame.insert` many times, which has poor performance.  Consider joining all columns at once using pd.concat(axis=1) instead. To get a de-fragmented frame, use `newframe = frame.copy()`\n",
      "  yasa_df['SleepHour3'] = ((yasa_df['timeSinceSleep'] <= pd.Timedelta(hours=3)) & (yasa_df['timeSinceSleep'] >= pd.Timedelta(hours=2))).astype(int)\n",
      "C:\\Users\\graha\\AppData\\Local\\Temp\\ipykernel_34116\\1972786365.py:18: PerformanceWarning: DataFrame is highly fragmented.  This is usually the result of calling `frame.insert` many times, which has poor performance.  Consider joining all columns at once using pd.concat(axis=1) instead. To get a de-fragmented frame, use `newframe = frame.copy()`\n",
      "  yasa_df['SleepHour4'] = ((yasa_df['timeSinceSleep'] <= pd.Timedelta(hours=4)) & (yasa_df['timeSinceSleep'] >= pd.Timedelta(hours=3))).astype(int)\n",
      "C:\\Users\\graha\\AppData\\Local\\Temp\\ipykernel_34116\\1972786365.py:19: PerformanceWarning: DataFrame is highly fragmented.  This is usually the result of calling `frame.insert` many times, which has poor performance.  Consider joining all columns at once using pd.concat(axis=1) instead. To get a de-fragmented frame, use `newframe = frame.copy()`\n",
      "  yasa_df['SleepHour5'] = ((yasa_df['timeSinceSleep'] <= pd.Timedelta(hours=5)) & (yasa_df['timeSinceSleep'] >= pd.Timedelta(hours=4))).astype(int)\n",
      "C:\\Users\\graha\\AppData\\Local\\Temp\\ipykernel_34116\\1972786365.py:20: PerformanceWarning: DataFrame is highly fragmented.  This is usually the result of calling `frame.insert` many times, which has poor performance.  Consider joining all columns at once using pd.concat(axis=1) instead. To get a de-fragmented frame, use `newframe = frame.copy()`\n",
      "  yasa_df['SleepHour6'] = ((yasa_df['timeSinceSleep'] <= pd.Timedelta(hours=6)) & (yasa_df['timeSinceSleep'] >= pd.Timedelta(hours=5))).astype(int)\n",
      "C:\\Users\\graha\\AppData\\Local\\Temp\\ipykernel_34116\\1972786365.py:21: PerformanceWarning: DataFrame is highly fragmented.  This is usually the result of calling `frame.insert` many times, which has poor performance.  Consider joining all columns at once using pd.concat(axis=1) instead. To get a de-fragmented frame, use `newframe = frame.copy()`\n",
      "  yasa_df['SleepHour7'] = ((yasa_df['timeSinceSleep'] <= pd.Timedelta(hours=7)) & (yasa_df['timeSinceSleep'] >= pd.Timedelta(hours=6))).astype(int)\n",
      "C:\\Users\\graha\\AppData\\Local\\Temp\\ipykernel_34116\\1972786365.py:22: PerformanceWarning: DataFrame is highly fragmented.  This is usually the result of calling `frame.insert` many times, which has poor performance.  Consider joining all columns at once using pd.concat(axis=1) instead. To get a de-fragmented frame, use `newframe = frame.copy()`\n",
      "  yasa_df['SleepHour8'] = ((yasa_df['timeSinceSleep'] <= pd.Timedelta(hours=8)) & (yasa_df['timeSinceSleep'] >= pd.Timedelta(hours=7))).astype(int)\n"
     ]
    }
   ],
   "execution_count": 66
  },
  {
   "metadata": {
    "ExecuteTime": {
     "end_time": "2024-11-08T08:36:19.542949Z",
     "start_time": "2024-11-08T08:36:19.409268Z"
    }
   },
   "cell_type": "code",
   "source": "yasa_df[yasa_df['dayAndNightOf'] == '2024-11-01'][['Stage', 'dayAndNightOf', 'Timestamp', 'readyToSleepTime', 'asleepTime', 'DuringReadyToSleep', '60MinsBeforeSleep', '30MinsBeforeSleep', 'SleepHour1', 'SleepHour2']]",
   "id": "a7ba73c49e9b53bb",
   "outputs": [
    {
     "data": {
      "text/plain": [
       "      Stage dayAndNightOf                           Timestamp  \\\n",
       "epoch                                                           \n",
       "0         W    2024-11-01 2024-11-01 21:32:22.923768044+00:00   \n",
       "1         W    2024-11-01 2024-11-01 21:32:52.923768044+00:00   \n",
       "2         W    2024-11-01 2024-11-01 21:33:22.923768044+00:00   \n",
       "3         W    2024-11-01 2024-11-01 21:33:52.923768044+00:00   \n",
       "4         W    2024-11-01 2024-11-01 21:34:22.923768044+00:00   \n",
       "...     ...           ...                                 ...   \n",
       "1021      W    2024-11-01 2024-11-02 06:02:52.923768044+00:00   \n",
       "1022      W    2024-11-01 2024-11-02 06:03:22.923768044+00:00   \n",
       "1023      W    2024-11-01 2024-11-02 06:03:52.923768044+00:00   \n",
       "1024      W    2024-11-01 2024-11-02 06:04:22.923768044+00:00   \n",
       "1025      W    2024-11-01 2024-11-02 06:04:52.923768044+00:00   \n",
       "\n",
       "                readyToSleepTime                 asleepTime  \\\n",
       "epoch                                                         \n",
       "0      2024-11-01 22:25:30+00:00  2024-11-01 22:31:23+00:00   \n",
       "1      2024-11-01 22:25:30+00:00  2024-11-01 22:31:23+00:00   \n",
       "2      2024-11-01 22:25:30+00:00  2024-11-01 22:31:23+00:00   \n",
       "3      2024-11-01 22:25:30+00:00  2024-11-01 22:31:23+00:00   \n",
       "4      2024-11-01 22:25:30+00:00  2024-11-01 22:31:23+00:00   \n",
       "...                          ...                        ...   \n",
       "1021   2024-11-01 22:25:30+00:00  2024-11-01 22:31:23+00:00   \n",
       "1022   2024-11-01 22:25:30+00:00  2024-11-01 22:31:23+00:00   \n",
       "1023   2024-11-01 22:25:30+00:00  2024-11-01 22:31:23+00:00   \n",
       "1024   2024-11-01 22:25:30+00:00  2024-11-01 22:31:23+00:00   \n",
       "1025   2024-11-01 22:25:30+00:00  2024-11-01 22:31:23+00:00   \n",
       "\n",
       "       DuringReadyToSleep  60MinsBeforeSleep  30MinsBeforeSleep  SleepHour1  \\\n",
       "epoch                                                                         \n",
       "0                       0                  1                  0           0   \n",
       "1                       0                  1                  0           0   \n",
       "2                       0                  1                  0           0   \n",
       "3                       0                  1                  0           0   \n",
       "4                       0                  1                  0           0   \n",
       "...                   ...                ...                ...         ...   \n",
       "1021                    0                  0                  0           0   \n",
       "1022                    0                  0                  0           0   \n",
       "1023                    0                  0                  0           0   \n",
       "1024                    0                  0                  0           0   \n",
       "1025                    0                  0                  0           0   \n",
       "\n",
       "       SleepHour2  \n",
       "epoch              \n",
       "0               0  \n",
       "1               0  \n",
       "2               0  \n",
       "3               0  \n",
       "4               0  \n",
       "...           ...  \n",
       "1021            0  \n",
       "1022            0  \n",
       "1023            0  \n",
       "1024            0  \n",
       "1025            0  \n",
       "\n",
       "[1026 rows x 10 columns]"
      ],
      "text/html": [
       "<div>\n",
       "<style scoped>\n",
       "    .dataframe tbody tr th:only-of-type {\n",
       "        vertical-align: middle;\n",
       "    }\n",
       "\n",
       "    .dataframe tbody tr th {\n",
       "        vertical-align: top;\n",
       "    }\n",
       "\n",
       "    .dataframe thead th {\n",
       "        text-align: right;\n",
       "    }\n",
       "</style>\n",
       "<table border=\"1\" class=\"dataframe\">\n",
       "  <thead>\n",
       "    <tr style=\"text-align: right;\">\n",
       "      <th></th>\n",
       "      <th>Stage</th>\n",
       "      <th>dayAndNightOf</th>\n",
       "      <th>Timestamp</th>\n",
       "      <th>readyToSleepTime</th>\n",
       "      <th>asleepTime</th>\n",
       "      <th>DuringReadyToSleep</th>\n",
       "      <th>60MinsBeforeSleep</th>\n",
       "      <th>30MinsBeforeSleep</th>\n",
       "      <th>SleepHour1</th>\n",
       "      <th>SleepHour2</th>\n",
       "    </tr>\n",
       "    <tr>\n",
       "      <th>epoch</th>\n",
       "      <th></th>\n",
       "      <th></th>\n",
       "      <th></th>\n",
       "      <th></th>\n",
       "      <th></th>\n",
       "      <th></th>\n",
       "      <th></th>\n",
       "      <th></th>\n",
       "      <th></th>\n",
       "      <th></th>\n",
       "    </tr>\n",
       "  </thead>\n",
       "  <tbody>\n",
       "    <tr>\n",
       "      <th>0</th>\n",
       "      <td>W</td>\n",
       "      <td>2024-11-01</td>\n",
       "      <td>2024-11-01 21:32:22.923768044+00:00</td>\n",
       "      <td>2024-11-01 22:25:30+00:00</td>\n",
       "      <td>2024-11-01 22:31:23+00:00</td>\n",
       "      <td>0</td>\n",
       "      <td>1</td>\n",
       "      <td>0</td>\n",
       "      <td>0</td>\n",
       "      <td>0</td>\n",
       "    </tr>\n",
       "    <tr>\n",
       "      <th>1</th>\n",
       "      <td>W</td>\n",
       "      <td>2024-11-01</td>\n",
       "      <td>2024-11-01 21:32:52.923768044+00:00</td>\n",
       "      <td>2024-11-01 22:25:30+00:00</td>\n",
       "      <td>2024-11-01 22:31:23+00:00</td>\n",
       "      <td>0</td>\n",
       "      <td>1</td>\n",
       "      <td>0</td>\n",
       "      <td>0</td>\n",
       "      <td>0</td>\n",
       "    </tr>\n",
       "    <tr>\n",
       "      <th>2</th>\n",
       "      <td>W</td>\n",
       "      <td>2024-11-01</td>\n",
       "      <td>2024-11-01 21:33:22.923768044+00:00</td>\n",
       "      <td>2024-11-01 22:25:30+00:00</td>\n",
       "      <td>2024-11-01 22:31:23+00:00</td>\n",
       "      <td>0</td>\n",
       "      <td>1</td>\n",
       "      <td>0</td>\n",
       "      <td>0</td>\n",
       "      <td>0</td>\n",
       "    </tr>\n",
       "    <tr>\n",
       "      <th>3</th>\n",
       "      <td>W</td>\n",
       "      <td>2024-11-01</td>\n",
       "      <td>2024-11-01 21:33:52.923768044+00:00</td>\n",
       "      <td>2024-11-01 22:25:30+00:00</td>\n",
       "      <td>2024-11-01 22:31:23+00:00</td>\n",
       "      <td>0</td>\n",
       "      <td>1</td>\n",
       "      <td>0</td>\n",
       "      <td>0</td>\n",
       "      <td>0</td>\n",
       "    </tr>\n",
       "    <tr>\n",
       "      <th>4</th>\n",
       "      <td>W</td>\n",
       "      <td>2024-11-01</td>\n",
       "      <td>2024-11-01 21:34:22.923768044+00:00</td>\n",
       "      <td>2024-11-01 22:25:30+00:00</td>\n",
       "      <td>2024-11-01 22:31:23+00:00</td>\n",
       "      <td>0</td>\n",
       "      <td>1</td>\n",
       "      <td>0</td>\n",
       "      <td>0</td>\n",
       "      <td>0</td>\n",
       "    </tr>\n",
       "    <tr>\n",
       "      <th>...</th>\n",
       "      <td>...</td>\n",
       "      <td>...</td>\n",
       "      <td>...</td>\n",
       "      <td>...</td>\n",
       "      <td>...</td>\n",
       "      <td>...</td>\n",
       "      <td>...</td>\n",
       "      <td>...</td>\n",
       "      <td>...</td>\n",
       "      <td>...</td>\n",
       "    </tr>\n",
       "    <tr>\n",
       "      <th>1021</th>\n",
       "      <td>W</td>\n",
       "      <td>2024-11-01</td>\n",
       "      <td>2024-11-02 06:02:52.923768044+00:00</td>\n",
       "      <td>2024-11-01 22:25:30+00:00</td>\n",
       "      <td>2024-11-01 22:31:23+00:00</td>\n",
       "      <td>0</td>\n",
       "      <td>0</td>\n",
       "      <td>0</td>\n",
       "      <td>0</td>\n",
       "      <td>0</td>\n",
       "    </tr>\n",
       "    <tr>\n",
       "      <th>1022</th>\n",
       "      <td>W</td>\n",
       "      <td>2024-11-01</td>\n",
       "      <td>2024-11-02 06:03:22.923768044+00:00</td>\n",
       "      <td>2024-11-01 22:25:30+00:00</td>\n",
       "      <td>2024-11-01 22:31:23+00:00</td>\n",
       "      <td>0</td>\n",
       "      <td>0</td>\n",
       "      <td>0</td>\n",
       "      <td>0</td>\n",
       "      <td>0</td>\n",
       "    </tr>\n",
       "    <tr>\n",
       "      <th>1023</th>\n",
       "      <td>W</td>\n",
       "      <td>2024-11-01</td>\n",
       "      <td>2024-11-02 06:03:52.923768044+00:00</td>\n",
       "      <td>2024-11-01 22:25:30+00:00</td>\n",
       "      <td>2024-11-01 22:31:23+00:00</td>\n",
       "      <td>0</td>\n",
       "      <td>0</td>\n",
       "      <td>0</td>\n",
       "      <td>0</td>\n",
       "      <td>0</td>\n",
       "    </tr>\n",
       "    <tr>\n",
       "      <th>1024</th>\n",
       "      <td>W</td>\n",
       "      <td>2024-11-01</td>\n",
       "      <td>2024-11-02 06:04:22.923768044+00:00</td>\n",
       "      <td>2024-11-01 22:25:30+00:00</td>\n",
       "      <td>2024-11-01 22:31:23+00:00</td>\n",
       "      <td>0</td>\n",
       "      <td>0</td>\n",
       "      <td>0</td>\n",
       "      <td>0</td>\n",
       "      <td>0</td>\n",
       "    </tr>\n",
       "    <tr>\n",
       "      <th>1025</th>\n",
       "      <td>W</td>\n",
       "      <td>2024-11-01</td>\n",
       "      <td>2024-11-02 06:04:52.923768044+00:00</td>\n",
       "      <td>2024-11-01 22:25:30+00:00</td>\n",
       "      <td>2024-11-01 22:31:23+00:00</td>\n",
       "      <td>0</td>\n",
       "      <td>0</td>\n",
       "      <td>0</td>\n",
       "      <td>0</td>\n",
       "      <td>0</td>\n",
       "    </tr>\n",
       "  </tbody>\n",
       "</table>\n",
       "<p>1026 rows × 10 columns</p>\n",
       "</div>"
      ]
     },
     "execution_count": 68,
     "metadata": {},
     "output_type": "execute_result"
    }
   ],
   "execution_count": 68
  }
 ],
 "metadata": {
  "kernelspec": {
   "display_name": "Python 3",
   "language": "python",
   "name": "python3"
  },
  "language_info": {
   "codemirror_mode": {
    "name": "ipython",
    "version": 2
   },
   "file_extension": ".py",
   "mimetype": "text/x-python",
   "name": "python",
   "nbconvert_exporter": "python",
   "pygments_lexer": "ipython2",
   "version": "2.7.6"
  }
 },
 "nbformat": 4,
 "nbformat_minor": 5
}
