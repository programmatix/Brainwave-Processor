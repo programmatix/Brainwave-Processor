{
 "cells": [
  {
   "metadata": {
    "ExecuteTime": {
     "end_time": "2025-01-09T09:48:14.554894Z",
     "start_time": "2025-01-09T09:48:14.540806Z"
    }
   },
   "cell_type": "code",
   "source": [
    "#%reload_ext autoreload\n",
    "#%autoreload 2\n",
    "import logging\n",
    "log = lambda msg: logging.info(msg)\n",
    "import os\n",
    "logging.basicConfig(level=logging.INFO, format='%(asctime)s - %(levelname)s - %(message)s')\n"
   ],
   "id": "34b2ec6a149ab9b1",
   "outputs": [],
   "execution_count": 1
  },
  {
   "metadata": {},
   "cell_type": "markdown",
   "source": [
    "# Inspect why some EEG files are 'steppy'\n",
    "Currently I know:\n",
    "* The FIF data itself, that all the calculations are based on, is fine.\n",
    "* The steppiness is introduced when writing the EDF file - probably because EDF is 16-bit and tries to scale data into that range.  I probably need to move to FIF or GDF, or figuring out https://www.edfplus.info/specs/edffloat.html.\n",
    "* Since it's only affecting how the data is presented in the epoch viewer, it's not a priority."
   ],
   "id": "2140c92f6e1c50de"
  },
  {
   "metadata": {
    "ExecuteTime": {
     "end_time": "2025-01-09T09:48:14.570227Z",
     "start_time": "2025-01-09T09:48:14.564176Z"
    }
   },
   "cell_type": "code",
   "source": "input_dir = \"C:\\\\dev\\\\play\\\\brainwave-data\"\n",
   "id": "9321749d0abdc1fd",
   "outputs": [],
   "execution_count": 2
  },
  {
   "metadata": {
    "ExecuteTime": {
     "end_time": "2025-01-09T09:48:14.585332Z",
     "start_time": "2025-01-09T09:48:14.574249Z"
    }
   },
   "cell_type": "code",
   "source": [
    "known_steppy = ['2024-12-19-21-18-48', '2024-11-25-21-27-21', '2024-09-03-21-10-58']\n",
    "known_not_steppy = ['2024-09-08-21-01-39', '2024-09-01-21-11-15', '2024-12-14-21-26-54']"
   ],
   "id": "ad5b4936876bc8b",
   "outputs": [],
   "execution_count": 3
  },
  {
   "metadata": {
    "ExecuteTime": {
     "end_time": "2025-01-10T07:52:57.907593Z",
     "start_time": "2025-01-10T07:46:31.176671Z"
    }
   },
   "cell_type": "code",
   "source": [
    "import contextlib\n",
    "import os\n",
    "import io\n",
    "from importlib import reload\n",
    "import convert\n",
    "reload(convert)\n",
    "from convert import load_mne_file, save_mne_as_edf\n",
    "import numpy as np\n",
    "import pandas as pd\n",
    "\n",
    "def process_steppiness(root, dir_name, force=False):\n",
    "    output_buffer = io.StringIO()\n",
    "    with contextlib.redirect_stdout(output_buffer), contextlib.redirect_stderr(output_buffer):\n",
    "        input_file = os.path.join(root, dir_name, \"raw.fif\")\n",
    "        if not os.path.exists(input_file):\n",
    "            return None\n",
    "        raw, input_file_without_ext, mne_filtered = load_mne_file(log, input_file)\n",
    "        #save_mne_as_edf(print,  mne_filtered, input_file_without_ext)\n",
    "        data = mne_filtered.get_data(units=dict(eeg=\"uV\"))\n",
    "        yasa = pd.read_csv(os.path.join(root, dir_name, \"raw.yasa.csv\"))\n",
    "        # Want a good non-chaotic epoch\n",
    "        first = yasa[(yasa['Stage'] == 'N3') & (yasa['Confidence'] > 0.8)].index[0]\n",
    "        epoch_data = data[:, first * 7500: (first + 1) * 7500]\n",
    "        num_unique = len(np.unique(epoch_data))\n",
    "        unique_ratio = num_unique / len(epoch_data)\n",
    "        abs_mean_distance = np.mean(np.abs(np.diff(epoch_data, axis=1)))\n",
    "        return unique_ratio, first, abs_mean_distance\n",
    "\n",
    "# Testing\n",
    "for dir_name in known_steppy[:1]:\n",
    "    steppiness, first, abs_mean_distance = process_steppiness(input_dir, dir_name, False)\n",
    "    display(\"Steppy: \", dir_name, steppiness, first, abs_mean_distance)\n",
    "# for dir_name in known_not_steppy[-1:]:\n",
    "#     steppiness, first, abs_mean_distance = process_steppiness(\"C:\\\\dev\\\\play\\\\brainwave-data\", dir_name, False)\n",
    "#     display(\"Not-steppy: \", dir_name, steppiness, first, abs_mean_distance)\n"
   ],
   "id": "70ec7c4e2ed1b69c",
   "outputs": [
    {
     "name": "stderr",
     "output_type": "stream",
     "text": [
      "2025-01-10 07:46:31,212 - INFO - Reading file C:\\dev\\play\\brainwave-data\\2024-12-19-21-18-48\\raw.fif\n",
      "2025-01-10 07:46:31,854 - INFO - Finished reading file C:\\dev\\play\\brainwave-data\\2024-12-19-21-18-48\\raw.fif\n",
      "\n",
      "KeyboardInterrupt\n",
      "\n"
     ]
    }
   ],
   "execution_count": 7
  },
  {
   "metadata": {
    "ExecuteTime": {
     "end_time": "2025-01-10T07:53:01.424642Z",
     "start_time": "2025-01-10T07:52:59.653545Z"
    }
   },
   "cell_type": "code",
   "source": [
    "input_file = os.path.join(input_dir, known_steppy[0], \"raw.fif\")\n",
    "raw, input_file_without_ext, mne_filtered = load_mne_file(log, input_file)\n"
   ],
   "id": "5c0397bb80317317",
   "outputs": [
    {
     "name": "stderr",
     "output_type": "stream",
     "text": [
      "2025-01-10 07:52:59,654 - INFO - Reading file C:\\dev\\play\\brainwave-data\\2024-12-19-21-18-48\\raw.fif\n"
     ]
    },
    {
     "name": "stdout",
     "output_type": "stream",
     "text": [
      "Opening raw data file C:\\dev\\play\\brainwave-data\\2024-12-19-21-18-48\\raw.fif...\n",
      "Isotrak not found\n",
      "    Range : 0 ... 7892024 =      0.000 ... 31568.096 secs\n",
      "Ready.\n",
      "Reading 0 ... 7892024  =      0.000 ... 31568.096 secs...\n"
     ]
    },
    {
     "name": "stderr",
     "output_type": "stream",
     "text": [
      "2025-01-10 07:53:00,678 - INFO - Finished reading file C:\\dev\\play\\brainwave-data\\2024-12-19-21-18-48\\raw.fif\n"
     ]
    }
   ],
   "execution_count": 8
  },
  {
   "metadata": {
    "ExecuteTime": {
     "end_time": "2025-01-10T08:15:41.294219Z",
     "start_time": "2025-01-10T08:15:41.119865Z"
    }
   },
   "cell_type": "code",
   "source": [
    "import notebooks.Util.DrawEpochs\n",
    "reload(notebooks.Util.DrawEpochs)\n",
    "from notebooks.Util.DrawEpochs import plot_eeg_epoch\n",
    "\n",
    "epoch_data = notebooks.Util.DrawEpochs.get_epoch(mne_filtered, 279)[:20]\n",
    "notebooks.Util.DrawEpochs.plot_eeg_data(epoch_data)"
   ],
   "id": "c1f1b42807ba7b72",
   "outputs": [
    {
     "data": {
      "text/plain": [
       "<Figure size 1600x400 with 1 Axes>"
      ],
      "image/png": "[encoded data removed]"
     },
     "metadata": {},
     "output_type": "display_data"
    }
   ],
   "execution_count": 38
  },
  {
   "metadata": {
    "ExecuteTime": {
     "end_time": "2025-01-10T07:59:38.067218Z",
     "start_time": "2025-01-10T07:59:38.051173Z"
    }
   },
   "cell_type": "code",
   "source": "epoch_data",
   "id": "1b89feae419eb09",
   "outputs": [
    {
     "data": {
      "text/plain": [
       "array([-2.19477983, -1.62307309, -0.63709401,  0.61893543,  1.62322596,\n",
       "        1.74721904,  0.66450172, -1.38820471, -3.6967371 , -5.45900928,\n",
       "       -6.22825565, -6.12449441, -5.69211237, -5.51897714, -5.87543688,\n",
       "       -6.5954551 , -7.23405168, -7.3649081 , -6.81500838, -5.71618389])"
      ]
     },
     "execution_count": 20,
     "metadata": {},
     "output_type": "execute_result"
    }
   ],
   "execution_count": 20
  },
  {
   "metadata": {
    "jupyter": {
     "is_executing": true
    },
    "ExecuteTime": {
     "start_time": "2025-01-10T08:42:46.214267Z"
    }
   },
   "cell_type": "code",
   "source": [
    "\n",
    "edf_file_path = os.path.join(input_dir, known_steppy[0], \"raw.test_filtered4.edf\")\n",
    "# save_mne_as_edf(print,  raw, input_file_without_ext + \".test_raw.edf\")\n",
    "mne.export.export_raw(edf_file_path, mne_filtered, overwrite=True)"
   ],
   "id": "8b09b14c3746064",
   "outputs": [
    {
     "name": "stdout",
     "output_type": "stream",
     "text": [
      "Overwriting existing file.\n"
     ]
    },
    {
     "name": "stderr",
     "output_type": "stream",
     "text": [
      "C:\\Users\\graha\\AppData\\Local\\Temp\\ipykernel_22056\\2543278979.py:4: RuntimeWarning: EDF format requires equal-length data blocks, so 0.9 seconds of edge values were appended to all channels when writing the final block.\n",
      "  mne.export.export_raw(edf_file_path, mne_filtered, overwrite=True)\n"
     ]
    }
   ],
   "execution_count": null
  },
  {
   "metadata": {
    "ExecuteTime": {
     "end_time": "2025-01-10T08:41:17.665377Z",
     "start_time": "2025-01-10T08:41:17.636219Z"
    }
   },
   "cell_type": "code",
   "source": "sfreq",
   "id": "b6b3ca6be8b452cb",
   "outputs": [
    {
     "ename": "NameError",
     "evalue": "name 'sfreq' is not defined",
     "output_type": "error",
     "traceback": [
      "\u001B[1;31m---------------------------------------------------------------------------\u001B[0m",
      "\u001B[1;31mNameError\u001B[0m                                 Traceback (most recent call last)",
      "Cell \u001B[1;32mIn[62], line 1\u001B[0m\n\u001B[1;32m----> 1\u001B[0m \u001B[43msfreq\u001B[49m\n",
      "\u001B[1;31mNameError\u001B[0m: name 'sfreq' is not defined"
     ]
    }
   ],
   "execution_count": 62
  },
  {
   "metadata": {
    "ExecuteTime": {
     "end_time": "2025-01-10T08:41:43.283481Z",
     "start_time": "2025-01-10T08:41:36.995311Z"
    }
   },
   "cell_type": "code",
   "source": [
    "import pyedflib\n",
    "import numpy as np\n",
    "\n",
    "def save_mne_as_edf_with_pyedflib(mne_raw, edf_file_path):\n",
    "    data = mne_raw.get_data(units=dict(eeg=\"uV\"))\n",
    "    n_channels = data.shape[0]\n",
    "    sfreq = int(mne_raw.info['sfreq'])\n",
    "    channel_names = mne_raw.info['ch_names']\n",
    "\n",
    "    file = pyedflib.EdfWriter(edf_file_path, n_channels, file_type=pyedflib.FILETYPE_EDFPLUS)\n",
    "\n",
    "    channel_info = []\n",
    "    for ch in channel_names:\n",
    "        channel_info.append({\n",
    "            'label': ch,\n",
    "            'dimension': 'uV',\n",
    "            'sample_rate': sfreq,\n",
    "            'physical_min': -100000,\n",
    "            'physical_max': 100000,\n",
    "            'digital_min': -32768,\n",
    "            'digital_max': 32767,\n",
    "            'transducer': '',\n",
    "            'prefilter': ''\n",
    "        })\n",
    "\n",
    "    file.setSignalHeaders(channel_info)\n",
    "    file.writeSamples(data)\n",
    "    file.close()\n",
    "\n",
    "# Usage\n",
    "edf_file_path = os.path.join(input_dir, known_steppy[0], \"raw.test_filtered4.edf\")\n",
    "\n",
    "save_mne_as_edf_with_pyedflib(mne_filtered, edf_file_path)\n",
    "#reread_edf = mne.io.read_raw_edf(edf_file_path, preload=True)"
   ],
   "id": "7f6aca5d2b330eb",
   "outputs": [
    {
     "ename": "KeyboardInterrupt",
     "evalue": "",
     "output_type": "error",
     "traceback": [
      "\u001B[1;31m---------------------------------------------------------------------------\u001B[0m",
      "\u001B[1;31mKeyboardInterrupt\u001B[0m                         Traceback (most recent call last)",
      "Cell \u001B[1;32mIn[64], line 33\u001B[0m\n\u001B[0;32m     30\u001B[0m \u001B[38;5;66;03m# Usage\u001B[39;00m\n\u001B[0;32m     31\u001B[0m edf_file_path \u001B[38;5;241m=\u001B[39m os\u001B[38;5;241m.\u001B[39mpath\u001B[38;5;241m.\u001B[39mjoin(input_dir, known_steppy[\u001B[38;5;241m0\u001B[39m], \u001B[38;5;124m\"\u001B[39m\u001B[38;5;124mraw.test_filtered4.edf\u001B[39m\u001B[38;5;124m\"\u001B[39m)\n\u001B[1;32m---> 33\u001B[0m \u001B[43msave_mne_as_edf_with_pyedflib\u001B[49m\u001B[43m(\u001B[49m\u001B[43mmne_filtered\u001B[49m\u001B[43m,\u001B[49m\u001B[43m \u001B[49m\u001B[43medf_file_path\u001B[49m\u001B[43m)\u001B[49m\n",
      "Cell \u001B[1;32mIn[64], line 27\u001B[0m, in \u001B[0;36msave_mne_as_edf_with_pyedflib\u001B[1;34m(mne_raw, edf_file_path)\u001B[0m\n\u001B[0;32m     14\u001B[0m     channel_info\u001B[38;5;241m.\u001B[39mappend({\n\u001B[0;32m     15\u001B[0m         \u001B[38;5;124m'\u001B[39m\u001B[38;5;124mlabel\u001B[39m\u001B[38;5;124m'\u001B[39m: ch,\n\u001B[0;32m     16\u001B[0m         \u001B[38;5;124m'\u001B[39m\u001B[38;5;124mdimension\u001B[39m\u001B[38;5;124m'\u001B[39m: \u001B[38;5;124m'\u001B[39m\u001B[38;5;124muV\u001B[39m\u001B[38;5;124m'\u001B[39m,\n\u001B[1;32m   (...)\u001B[0m\n\u001B[0;32m     23\u001B[0m         \u001B[38;5;124m'\u001B[39m\u001B[38;5;124mprefilter\u001B[39m\u001B[38;5;124m'\u001B[39m: \u001B[38;5;124m'\u001B[39m\u001B[38;5;124m'\u001B[39m\n\u001B[0;32m     24\u001B[0m     })\n\u001B[0;32m     26\u001B[0m file\u001B[38;5;241m.\u001B[39msetSignalHeaders(channel_info)\n\u001B[1;32m---> 27\u001B[0m \u001B[43mfile\u001B[49m\u001B[38;5;241;43m.\u001B[39;49m\u001B[43mwriteSamples\u001B[49m\u001B[43m(\u001B[49m\u001B[43mdata\u001B[49m\u001B[43m)\u001B[49m\n\u001B[0;32m     28\u001B[0m file\u001B[38;5;241m.\u001B[39mclose()\n",
      "File \u001B[1;32m~\\.conda\\envs\\tf\\lib\\site-packages\\pyedflib\\edfwriter.py:878\u001B[0m, in \u001B[0;36mEdfWriter.writeSamples\u001B[1;34m(self, data_list, digital)\u001B[0m\n\u001B[0;32m    876\u001B[0m dataRecord \u001B[38;5;241m=\u001B[39m np\u001B[38;5;241m.\u001B[39marray([], dtype\u001B[38;5;241m=\u001B[39mnp\u001B[38;5;241m.\u001B[39mint32 \u001B[38;5;28;01mif\u001B[39;00m digital \u001B[38;5;28;01melse\u001B[39;00m \u001B[38;5;28;01mNone\u001B[39;00m)\n\u001B[0;32m    877\u001B[0m \u001B[38;5;28;01mfor\u001B[39;00m i \u001B[38;5;129;01min\u001B[39;00m np\u001B[38;5;241m.\u001B[39marange(\u001B[38;5;28mlen\u001B[39m(data_list)):\n\u001B[1;32m--> 878\u001B[0m     dataRecord \u001B[38;5;241m=\u001B[39m \u001B[43mnp\u001B[49m\u001B[38;5;241;43m.\u001B[39;49m\u001B[43mappend\u001B[49m\u001B[43m(\u001B[49m\u001B[43mdataRecord\u001B[49m\u001B[43m,\u001B[49m\u001B[43m \u001B[49m\u001B[43mdata_list\u001B[49m\u001B[43m[\u001B[49m\u001B[43mi\u001B[49m\u001B[43m]\u001B[49m\u001B[43m[\u001B[49m\u001B[38;5;28;43mint\u001B[39;49m\u001B[43m(\u001B[49m\u001B[43mind\u001B[49m\u001B[43m[\u001B[49m\u001B[43mi\u001B[49m\u001B[43m]\u001B[49m\u001B[43m)\u001B[49m\u001B[43m:\u001B[49m\u001B[38;5;28;43mint\u001B[39;49m\u001B[43m(\u001B[49m\u001B[43mind\u001B[49m\u001B[43m[\u001B[49m\u001B[43mi\u001B[49m\u001B[43m]\u001B[49m\u001B[38;5;241;43m+\u001B[39;49m\u001B[43msmp_per_record\u001B[49m\u001B[43m[\u001B[49m\u001B[43mi\u001B[49m\u001B[43m]\u001B[49m\u001B[43m)\u001B[49m\u001B[43m]\u001B[49m\u001B[43m)\u001B[49m\n\u001B[0;32m    879\u001B[0m     ind[i] \u001B[38;5;241m+\u001B[39m\u001B[38;5;241m=\u001B[39m smp_per_record[i]\n\u001B[0;32m    880\u001B[0m \u001B[38;5;28;01mif\u001B[39;00m digital:\n",
      "File \u001B[1;32m~\\.conda\\envs\\tf\\lib\\site-packages\\numpy\\lib\\function_base.py:5618\u001B[0m, in \u001B[0;36mappend\u001B[1;34m(arr, values, axis)\u001B[0m\n\u001B[0;32m   5616\u001B[0m     values \u001B[38;5;241m=\u001B[39m ravel(values)\n\u001B[0;32m   5617\u001B[0m     axis \u001B[38;5;241m=\u001B[39m arr\u001B[38;5;241m.\u001B[39mndim\u001B[38;5;241m-\u001B[39m\u001B[38;5;241m1\u001B[39m\n\u001B[1;32m-> 5618\u001B[0m \u001B[38;5;28;01mreturn\u001B[39;00m \u001B[43mconcatenate\u001B[49m\u001B[43m(\u001B[49m\u001B[43m(\u001B[49m\u001B[43marr\u001B[49m\u001B[43m,\u001B[49m\u001B[43m \u001B[49m\u001B[43mvalues\u001B[49m\u001B[43m)\u001B[49m\u001B[43m,\u001B[49m\u001B[43m \u001B[49m\u001B[43maxis\u001B[49m\u001B[38;5;241;43m=\u001B[39;49m\u001B[43maxis\u001B[49m\u001B[43m)\u001B[49m\n",
      "\u001B[1;31mKeyboardInterrupt\u001B[0m: "
     ]
    }
   ],
   "execution_count": 64
  },
  {
   "metadata": {
    "ExecuteTime": {
     "end_time": "2025-01-10T08:41:05.679352700Z",
     "start_time": "2025-01-10T08:22:15.115065Z"
    }
   },
   "cell_type": "code",
   "source": [
    "import notebooks.Util.DrawEpochs\n",
    "reload(notebooks.Util.DrawEpochs)\n",
    "\n",
    "reread_edf = mne.io.read_raw_edf(edf_file_path, preload=True)\n",
    "\n",
    "epoch_data_edf = notebooks.Util.DrawEpochs.get_epoch(reread_edf, 279)[:100]\n",
    "notebooks.Util.DrawEpochs.plot_eeg_data(epoch_data_edf)"
   ],
   "id": "1bce51675f2a5e07",
   "outputs": [
    {
     "data": {
      "text/plain": [
       "<Figure size 1600x400 with 1 Axes>"
      ],
      "image/png": "[encoded data removed]"
     },
     "metadata": {},
     "output_type": "display_data"
    }
   ],
   "execution_count": 50
  },
  {
   "metadata": {
    "ExecuteTime": {
     "end_time": "2025-01-10T08:22:17.911046Z",
     "start_time": "2025-01-10T08:22:17.744186Z"
    }
   },
   "cell_type": "code",
   "source": [
    "import notebooks.Util.DrawEpochs\n",
    "reload(notebooks.Util.DrawEpochs)\n",
    "from notebooks.Util.DrawEpochs import plot_eeg_epoch\n",
    "\n",
    "epoch_data = notebooks.Util.DrawEpochs.get_epoch(mne_filtered, 279)[:100]\n",
    "notebooks.Util.DrawEpochs.plot_eeg_data(epoch_data)"
   ],
   "id": "3d395597917b1692",
   "outputs": [
    {
     "data": {
      "text/plain": [
       "<Figure size 1600x400 with 1 Axes>"
      ],
      "image/png": "[encoded data removed]"
     },
     "metadata": {},
     "output_type": "display_data"
    }
   ],
   "execution_count": 51
  },
  {
   "metadata": {
    "ExecuteTime": {
     "end_time": "2025-01-09T09:19:21.684723Z",
     "start_time": "2025-01-09T09:14:52.690108Z"
    }
   },
   "cell_type": "code",
   "source": [
    "from tqdm.auto import tqdm\n",
    "import pandas as pd\n",
    "\n",
    "results = pd.DataFrame(columns=['dir_name', 'unique_ratio'])\n",
    "\n",
    "dirs = next(os.walk(input_dir))[1]\n",
    "for idx, dir_name in enumerate(tqdm(dirs)):\n",
    "    # print(dir_name)\n",
    "    unique_ratio = process_steppiness(input_dir, dir_name)\n",
    "    results.loc[len(results)] = [dir_name, unique_ratio]\n",
    "\n",
    "results"
   ],
   "id": "f43b636a3389d65",
   "outputs": [
    {
     "data": {
      "text/plain": [
       "  0%|          | 0/125 [00:00<?, ?it/s]"
      ],
      "application/vnd.jupyter.widget-view+json": {
       "version_major": 2,
       "version_minor": 0,
       "model_id": "de622b33402a4a69afc48806bd2c6b38"
      }
     },
     "metadata": {},
     "output_type": "display_data"
    },
    {
     "name": "stderr",
     "output_type": "stream",
     "text": [
      "2025-01-09 09:14:52,702 - INFO - Reading file C:\\dev\\play\\brainwave-data\\2024-07-08-22-51-16\\raw.fif\n",
      "2025-01-09 09:14:52,998 - INFO - Finished reading file C:\\dev\\play\\brainwave-data\\2024-07-08-22-51-16\\raw.fif\n",
      "C:\\Users\\graha\\AppData\\Local\\Temp\\ipykernel_44024\\189623836.py:10: FutureWarning: The behavior of DataFrame concatenation with empty or all-NA entries is deprecated. In a future version, this will no longer exclude empty or all-NA columns when determining the result dtypes. To retain the old behavior, exclude the relevant entries before the concat operation.\n",
      "  results.loc[len(results)] = [dir_name, unique_ratio]\n",
      "2025-01-09 09:14:53,969 - INFO - Reading file C:\\dev\\play\\brainwave-data\\2024-07-11-22-46-18\\raw.fif\n",
      "2025-01-09 09:14:54,967 - INFO - Finished reading file C:\\dev\\play\\brainwave-data\\2024-07-11-22-46-18\\raw.fif\n",
      "2025-01-09 09:14:57,069 - INFO - Reading file C:\\dev\\play\\brainwave-data\\2024-07-12-22-38-58\\raw.fif\n",
      "2025-01-09 09:14:58,046 - INFO - Finished reading file C:\\dev\\play\\brainwave-data\\2024-07-12-22-38-58\\raw.fif\n",
      "2025-01-09 09:14:59,970 - INFO - Reading file C:\\dev\\play\\brainwave-data\\2024-07-13-21-41-55\\raw.fif\n",
      "2025-01-09 09:15:00,895 - INFO - Finished reading file C:\\dev\\play\\brainwave-data\\2024-07-13-21-41-55\\raw.fif\n",
      "2025-01-09 09:15:02,570 - INFO - Reading file C:\\dev\\play\\brainwave-data\\2024-07-14-22-27-26\\raw.fif\n",
      "2025-01-09 09:15:03,479 - INFO - Finished reading file C:\\dev\\play\\brainwave-data\\2024-07-14-22-27-26\\raw.fif\n",
      "C:\\Users\\graha\\AppData\\Local\\Temp\\ipykernel_44024\\189623836.py:10: FutureWarning: The behavior of DataFrame concatenation with empty or all-NA entries is deprecated. In a future version, this will no longer exclude empty or all-NA columns when determining the result dtypes. To retain the old behavior, exclude the relevant entries before the concat operation.\n",
      "  results.loc[len(results)] = [dir_name, unique_ratio]\n",
      "2025-01-09 09:15:05,431 - INFO - Reading file C:\\dev\\play\\brainwave-data\\2024-07-15-22-33-27\\raw.fif\n",
      "2025-01-09 09:15:06,398 - INFO - Finished reading file C:\\dev\\play\\brainwave-data\\2024-07-15-22-33-27\\raw.fif\n",
      "2025-01-09 09:15:08,161 - INFO - Reading file C:\\dev\\play\\brainwave-data\\2024-07-16-23-14-52\\raw.fif\n",
      "2025-01-09 09:15:08,971 - INFO - Finished reading file C:\\dev\\play\\brainwave-data\\2024-07-16-23-14-52\\raw.fif\n",
      "2025-01-09 09:15:10,463 - INFO - Reading file C:\\dev\\play\\brainwave-data\\2024-07-17-22-48-49\\raw.fif\n",
      "2025-01-09 09:15:11,516 - INFO - Finished reading file C:\\dev\\play\\brainwave-data\\2024-07-17-22-48-49\\raw.fif\n",
      "2025-01-09 09:15:13,436 - INFO - Reading file C:\\dev\\play\\brainwave-data\\2024-07-21-22-22-16\\raw.fif\n",
      "2025-01-09 09:15:13,934 - INFO - Finished reading file C:\\dev\\play\\brainwave-data\\2024-07-21-22-22-16\\raw.fif\n",
      "2025-01-09 09:15:17,068 - INFO - Reading file C:\\dev\\play\\brainwave-data\\2024-07-22-22-24-06\\raw.fif\n",
      "2025-01-09 09:15:19,500 - INFO - Finished reading file C:\\dev\\play\\brainwave-data\\2024-07-22-22-24-06\\raw.fif\n",
      "2025-01-09 09:15:23,870 - INFO - Reading file C:\\dev\\play\\brainwave-data\\2024-07-23-22-40-25\\raw.fif\n",
      "2025-01-09 09:15:24,941 - INFO - Finished reading file C:\\dev\\play\\brainwave-data\\2024-07-23-22-40-25\\raw.fif\n",
      "C:\\Users\\graha\\AppData\\Local\\Temp\\ipykernel_44024\\189623836.py:10: FutureWarning: The behavior of DataFrame concatenation with empty or all-NA entries is deprecated. In a future version, this will no longer exclude empty or all-NA columns when determining the result dtypes. To retain the old behavior, exclude the relevant entries before the concat operation.\n",
      "  results.loc[len(results)] = [dir_name, unique_ratio]\n",
      "2025-01-09 09:15:26,737 - INFO - Reading file C:\\dev\\play\\brainwave-data\\2024-07-24-22-42-26\\raw.fif\n",
      "2025-01-09 09:15:27,269 - INFO - Finished reading file C:\\dev\\play\\brainwave-data\\2024-07-24-22-42-26\\raw.fif\n",
      "2025-01-09 09:15:28,539 - INFO - Reading file C:\\dev\\play\\brainwave-data\\2024-07-26-22-36-26\\raw.fif\n",
      "2025-01-09 09:15:29,592 - INFO - Finished reading file C:\\dev\\play\\brainwave-data\\2024-07-26-22-36-26\\raw.fif\n",
      "2025-01-09 09:15:31,483 - INFO - Reading file C:\\dev\\play\\brainwave-data\\2024-07-27-22-16-21\\raw.fif\n",
      "2025-01-09 09:15:32,662 - INFO - Finished reading file C:\\dev\\play\\brainwave-data\\2024-07-27-22-16-21\\raw.fif\n",
      "2025-01-09 09:15:34,630 - INFO - Reading file C:\\dev\\play\\brainwave-data\\2024-07-28-22-29-49\\raw.fif\n",
      "2025-01-09 09:15:35,693 - INFO - Finished reading file C:\\dev\\play\\brainwave-data\\2024-07-28-22-29-49\\raw.fif\n",
      "2025-01-09 09:15:37,539 - INFO - Reading file C:\\dev\\play\\brainwave-data\\2024-08-03-22-57-15\\raw.fif\n",
      "2025-01-09 09:15:38,355 - INFO - Finished reading file C:\\dev\\play\\brainwave-data\\2024-08-03-22-57-15\\raw.fif\n",
      "2025-01-09 09:15:39,905 - INFO - Reading file C:\\dev\\play\\brainwave-data\\2024-08-18-21-33-07\\raw.fif\n",
      "2025-01-09 09:15:41,044 - INFO - Finished reading file C:\\dev\\play\\brainwave-data\\2024-08-18-21-33-07\\raw.fif\n",
      "2025-01-09 09:15:46,318 - INFO - Reading file C:\\dev\\play\\brainwave-data\\2024-08-19-21-43-56\\raw.fif\n",
      "2025-01-09 09:15:50,154 - INFO - Finished reading file C:\\dev\\play\\brainwave-data\\2024-08-19-21-43-56\\raw.fif\n",
      "2025-01-09 09:15:56,564 - INFO - Reading file C:\\dev\\play\\brainwave-data\\2024-08-20-21-17-32\\raw.fif\n",
      "2025-01-09 09:15:57,662 - INFO - Finished reading file C:\\dev\\play\\brainwave-data\\2024-08-20-21-17-32\\raw.fif\n",
      "2025-01-09 09:15:59,676 - INFO - Reading file C:\\dev\\play\\brainwave-data\\2024-08-21-21-40-16\\raw.fif\n",
      "2025-01-09 09:16:00,527 - INFO - Finished reading file C:\\dev\\play\\brainwave-data\\2024-08-21-21-40-16\\raw.fif\n",
      "2025-01-09 09:16:02,269 - INFO - Reading file C:\\dev\\play\\brainwave-data\\2024-08-22-21-26-19\\raw.fif\n",
      "2025-01-09 09:16:02,941 - INFO - Finished reading file C:\\dev\\play\\brainwave-data\\2024-08-22-21-26-19\\raw.fif\n",
      "2025-01-09 09:16:04,306 - INFO - Reading file C:\\dev\\play\\brainwave-data\\2024-08-23-21-29-46\\raw.fif\n",
      "2025-01-09 09:16:05,183 - INFO - Finished reading file C:\\dev\\play\\brainwave-data\\2024-08-23-21-29-46\\raw.fif\n",
      "2025-01-09 09:16:06,718 - INFO - Reading file C:\\dev\\play\\brainwave-data\\2024-08-24-21-11-51\\raw.fif\n",
      "2025-01-09 09:16:07,689 - INFO - Finished reading file C:\\dev\\play\\brainwave-data\\2024-08-24-21-11-51\\raw.fif\n",
      "2025-01-09 09:16:09,432 - INFO - Reading file C:\\dev\\play\\brainwave-data\\2024-08-25-21-25-33\\raw.fif\n",
      "2025-01-09 09:16:10,317 - INFO - Finished reading file C:\\dev\\play\\brainwave-data\\2024-08-25-21-25-33\\raw.fif\n",
      "2025-01-09 09:16:12,075 - INFO - Reading file C:\\dev\\play\\brainwave-data\\2024-08-26-20-56-10\\raw.fif\n",
      "2025-01-09 09:16:13,201 - INFO - Finished reading file C:\\dev\\play\\brainwave-data\\2024-08-26-20-56-10\\raw.fif\n",
      "2025-01-09 09:16:15,241 - INFO - Reading file C:\\dev\\play\\brainwave-data\\2024-09-01-21-11-15\\raw.fif\n",
      "2025-01-09 09:16:15,843 - INFO - Finished reading file C:\\dev\\play\\brainwave-data\\2024-09-01-21-11-15\\raw.fif\n",
      "2025-01-09 09:16:17,009 - INFO - Reading file C:\\dev\\play\\brainwave-data\\2024-09-02-21-42-00\\raw.fif\n",
      "2025-01-09 09:16:17,600 - INFO - Finished reading file C:\\dev\\play\\brainwave-data\\2024-09-02-21-42-00\\raw.fif\n",
      "2025-01-09 09:16:18,755 - INFO - Reading file C:\\dev\\play\\brainwave-data\\2024-09-03-21-10-58\\raw.fif\n",
      "2025-01-09 09:16:19,672 - INFO - Finished reading file C:\\dev\\play\\brainwave-data\\2024-09-03-21-10-58\\raw.fif\n",
      "2025-01-09 09:16:21,254 - INFO - Reading file C:\\dev\\play\\brainwave-data\\2024-09-04-21-44-08\\raw.fif\n",
      "2025-01-09 09:16:21,833 - INFO - Finished reading file C:\\dev\\play\\brainwave-data\\2024-09-04-21-44-08\\raw.fif\n",
      "2025-01-09 09:16:22,994 - INFO - Reading file C:\\dev\\play\\brainwave-data\\2024-09-05-21-32-05\\raw.fif\n",
      "2025-01-09 09:16:23,518 - INFO - Finished reading file C:\\dev\\play\\brainwave-data\\2024-09-05-21-32-05\\raw.fif\n",
      "2025-01-09 09:16:24,808 - INFO - Reading file C:\\dev\\play\\brainwave-data\\2024-09-08-21-01-39\\raw.fif\n",
      "2025-01-09 09:16:25,371 - INFO - Finished reading file C:\\dev\\play\\brainwave-data\\2024-09-08-21-01-39\\raw.fif\n",
      "C:\\Users\\graha\\AppData\\Local\\Temp\\ipykernel_44024\\189623836.py:10: FutureWarning: The behavior of DataFrame concatenation with empty or all-NA entries is deprecated. In a future version, this will no longer exclude empty or all-NA columns when determining the result dtypes. To retain the old behavior, exclude the relevant entries before the concat operation.\n",
      "  results.loc[len(results)] = [dir_name, unique_ratio]\n",
      "2025-01-09 09:16:26,637 - INFO - Reading file C:\\dev\\play\\brainwave-data\\2024-09-11-21-19-21\\raw.fif\n",
      "2025-01-09 09:16:27,265 - INFO - Finished reading file C:\\dev\\play\\brainwave-data\\2024-09-11-21-19-21\\raw.fif\n",
      "2025-01-09 09:16:28,489 - INFO - Reading file C:\\dev\\play\\brainwave-data\\2024-09-13-21-24-32\\raw.fif\n",
      "2025-01-09 09:16:29,085 - INFO - Finished reading file C:\\dev\\play\\brainwave-data\\2024-09-13-21-24-32\\raw.fif\n",
      "2025-01-09 09:16:30,268 - INFO - Reading file C:\\dev\\play\\brainwave-data\\2024-09-15-21-14-05\\raw.fif\n",
      "2025-01-09 09:16:30,952 - INFO - Finished reading file C:\\dev\\play\\brainwave-data\\2024-09-15-21-14-05\\raw.fif\n",
      "2025-01-09 09:16:32,272 - INFO - Reading file C:\\dev\\play\\brainwave-data\\2024-09-16-21-04-27\\raw.fif\n",
      "2025-01-09 09:16:32,415 - INFO - Finished reading file C:\\dev\\play\\brainwave-data\\2024-09-16-21-04-27\\raw.fif\n",
      "2025-01-09 09:16:33,126 - INFO - Reading file C:\\dev\\play\\brainwave-data\\2024-09-17-21-33-14\\raw.fif\n",
      "2025-01-09 09:16:33,753 - INFO - Finished reading file C:\\dev\\play\\brainwave-data\\2024-09-17-21-33-14\\raw.fif\n",
      "2025-01-09 09:16:34,958 - INFO - Reading file C:\\dev\\play\\brainwave-data\\2024-09-18-21-28-11\\raw.fif\n",
      "2025-01-09 09:16:35,505 - INFO - Finished reading file C:\\dev\\play\\brainwave-data\\2024-09-18-21-28-11\\raw.fif\n",
      "2025-01-09 09:16:36,832 - INFO - Reading file C:\\dev\\play\\brainwave-data\\2024-09-19-21-29-42\\raw.fif\n",
      "2025-01-09 09:16:37,397 - INFO - Finished reading file C:\\dev\\play\\brainwave-data\\2024-09-19-21-29-42\\raw.fif\n",
      "2025-01-09 09:16:38,726 - INFO - Reading file C:\\dev\\play\\brainwave-data\\2024-09-20-21-19-28\\raw.fif\n",
      "2025-01-09 09:16:39,291 - INFO - Finished reading file C:\\dev\\play\\brainwave-data\\2024-09-20-21-19-28\\raw.fif\n",
      "2025-01-09 09:16:40,553 - INFO - Reading file C:\\dev\\play\\brainwave-data\\2024-09-22-21-30-59\\raw.fif\n",
      "2025-01-09 09:16:41,183 - INFO - Finished reading file C:\\dev\\play\\brainwave-data\\2024-09-22-21-30-59\\raw.fif\n",
      "2025-01-09 09:16:42,418 - INFO - Reading file C:\\dev\\play\\brainwave-data\\2024-09-24-22-43-11\\raw.fif\n",
      "2025-01-09 09:16:42,999 - INFO - Finished reading file C:\\dev\\play\\brainwave-data\\2024-09-24-22-43-11\\raw.fif\n",
      "2025-01-09 09:16:44,187 - INFO - Reading file C:\\dev\\play\\brainwave-data\\2024-09-24-22-43-12\\raw.fif\n",
      "2025-01-09 09:16:44,677 - INFO - Finished reading file C:\\dev\\play\\brainwave-data\\2024-09-24-22-43-12\\raw.fif\n",
      "2025-01-09 09:16:45,991 - INFO - Reading file C:\\dev\\play\\brainwave-data\\2024-09-25-21-57-01\\raw.fif\n",
      "2025-01-09 09:16:46,521 - INFO - Finished reading file C:\\dev\\play\\brainwave-data\\2024-09-25-21-57-01\\raw.fif\n",
      "2025-01-09 09:16:47,818 - INFO - Reading file C:\\dev\\play\\brainwave-data\\2024-09-26-21-24-52\\raw.fif\n",
      "2025-01-09 09:16:48,369 - INFO - Finished reading file C:\\dev\\play\\brainwave-data\\2024-09-26-21-24-52\\raw.fif\n",
      "2025-01-09 09:16:49,532 - INFO - Reading file C:\\dev\\play\\brainwave-data\\2024-09-28-21-33-28\\raw.fif\n",
      "2025-01-09 09:16:50,149 - INFO - Finished reading file C:\\dev\\play\\brainwave-data\\2024-09-28-21-33-28\\raw.fif\n",
      "2025-01-09 09:16:51,398 - INFO - Reading file C:\\dev\\play\\brainwave-data\\2024-09-30-21-27-49\\raw.fif\n",
      "2025-01-09 09:16:51,937 - INFO - Finished reading file C:\\dev\\play\\brainwave-data\\2024-09-30-21-27-49\\raw.fif\n",
      "2025-01-09 09:16:53,200 - INFO - Reading file C:\\dev\\play\\brainwave-data\\2024-10-01-21-36-11\\raw.fif\n",
      "2025-01-09 09:16:53,815 - INFO - Finished reading file C:\\dev\\play\\brainwave-data\\2024-10-01-21-36-11\\raw.fif\n",
      "2025-01-09 09:16:55,077 - INFO - Reading file C:\\dev\\play\\brainwave-data\\2024-10-02-21-20-34\\raw.fif\n",
      "2025-01-09 09:16:55,091 - INFO - Finished reading file C:\\dev\\play\\brainwave-data\\2024-10-02-21-20-34\\raw.fif\n",
      "2025-01-09 09:16:55,658 - INFO - Reading file C:\\dev\\play\\brainwave-data\\2024-10-02-21-21-15\\raw.fif\n",
      "2025-01-09 09:16:56,251 - INFO - Finished reading file C:\\dev\\play\\brainwave-data\\2024-10-02-21-21-15\\raw.fif\n",
      "2025-01-09 09:16:57,498 - INFO - Reading file C:\\dev\\play\\brainwave-data\\2024-10-04-21-13-39\\raw.fif\n",
      "2025-01-09 09:16:58,099 - INFO - Finished reading file C:\\dev\\play\\brainwave-data\\2024-10-04-21-13-39\\raw.fif\n",
      "2025-01-09 09:16:59,336 - INFO - Reading file C:\\dev\\play\\brainwave-data\\2024-10-05-21-09-46\\raw.fif\n",
      "2025-01-09 09:16:59,865 - INFO - Finished reading file C:\\dev\\play\\brainwave-data\\2024-10-05-21-09-46\\raw.fif\n",
      "2025-01-09 09:17:01,214 - INFO - Reading file C:\\dev\\play\\brainwave-data\\2024-10-06-21-29-18\\raw.fif\n",
      "2025-01-09 09:17:01,713 - INFO - Finished reading file C:\\dev\\play\\brainwave-data\\2024-10-06-21-29-18\\raw.fif\n",
      "2025-01-09 09:17:02,938 - INFO - Reading file C:\\dev\\play\\brainwave-data\\2024-10-07-21-35-17\\raw.fif\n",
      "2025-01-09 09:17:03,468 - INFO - Finished reading file C:\\dev\\play\\brainwave-data\\2024-10-07-21-35-17\\raw.fif\n",
      "2025-01-09 09:17:04,630 - INFO - Reading file C:\\dev\\play\\brainwave-data\\2024-10-08-21-21-34\\raw.fif\n",
      "2025-01-09 09:17:05,093 - INFO - Finished reading file C:\\dev\\play\\brainwave-data\\2024-10-08-21-21-34\\raw.fif\n",
      "2025-01-09 09:17:06,344 - INFO - Reading file C:\\dev\\play\\brainwave-data\\2024-10-09-21-22-04\\raw.fif\n",
      "2025-01-09 09:17:06,923 - INFO - Finished reading file C:\\dev\\play\\brainwave-data\\2024-10-09-21-22-04\\raw.fif\n",
      "2025-01-09 09:17:08,307 - INFO - Reading file C:\\dev\\play\\brainwave-data\\2024-10-11-21-16-27\\raw.fif\n",
      "2025-01-09 09:17:08,971 - INFO - Finished reading file C:\\dev\\play\\brainwave-data\\2024-10-11-21-16-27\\raw.fif\n",
      "2025-01-09 09:17:10,494 - INFO - Reading file C:\\dev\\play\\brainwave-data\\2024-10-15-22-01-52\\raw.fif\n",
      "2025-01-09 09:17:11,052 - INFO - Finished reading file C:\\dev\\play\\brainwave-data\\2024-10-15-22-01-52\\raw.fif\n",
      "2025-01-09 09:17:12,302 - INFO - Reading file C:\\dev\\play\\brainwave-data\\2024-10-20-20-09-48\\raw.fif\n",
      "2025-01-09 09:17:12,360 - INFO - Finished reading file C:\\dev\\play\\brainwave-data\\2024-10-20-20-09-48\\raw.fif\n",
      "2025-01-09 09:17:12,941 - INFO - Reading file C:\\dev\\play\\brainwave-data\\2024-10-21-21-30-18\\raw.fif\n",
      "2025-01-09 09:17:13,591 - INFO - Finished reading file C:\\dev\\play\\brainwave-data\\2024-10-21-21-30-18\\raw.fif\n",
      "2025-01-09 09:17:14,863 - INFO - Reading file C:\\dev\\play\\brainwave-data\\2024-10-23-21-24-02\\raw.fif\n",
      "2025-01-09 09:17:15,502 - INFO - Finished reading file C:\\dev\\play\\brainwave-data\\2024-10-23-21-24-02\\raw.fif\n",
      "2025-01-09 09:17:16,748 - INFO - Reading file C:\\dev\\play\\brainwave-data\\2024-10-24-21-35-33\\raw.fif\n",
      "2025-01-09 09:17:17,287 - INFO - Finished reading file C:\\dev\\play\\brainwave-data\\2024-10-24-21-35-33\\raw.fif\n",
      "2025-01-09 09:17:18,419 - INFO - Reading file C:\\dev\\play\\brainwave-data\\2024-10-29-20-42-12\\raw.fif\n",
      "2025-01-09 09:17:18,500 - INFO - Finished reading file C:\\dev\\play\\brainwave-data\\2024-10-29-20-42-12\\raw.fif\n",
      "2025-01-09 09:17:19,107 - INFO - Reading file C:\\dev\\play\\brainwave-data\\2024-10-30-21-26-55\\raw.fif\n",
      "2025-01-09 09:17:19,601 - INFO - Finished reading file C:\\dev\\play\\brainwave-data\\2024-10-30-21-26-55\\raw.fif\n",
      "2025-01-09 09:17:20,744 - INFO - Reading file C:\\dev\\play\\brainwave-data\\2024-11-01-21-32-22\\raw.fif\n",
      "2025-01-09 09:17:21,302 - INFO - Finished reading file C:\\dev\\play\\brainwave-data\\2024-11-01-21-32-22\\raw.fif\n",
      "2025-01-09 09:17:22,466 - INFO - Reading file C:\\dev\\play\\brainwave-data\\2024-11-02-21-29-03\\raw.fif\n",
      "2025-01-09 09:17:23,077 - INFO - Finished reading file C:\\dev\\play\\brainwave-data\\2024-11-02-21-29-03\\raw.fif\n",
      "2025-01-09 09:17:24,338 - INFO - Reading file C:\\dev\\play\\brainwave-data\\2024-11-03-21-20-37\\raw.fif\n",
      "2025-01-09 09:17:24,393 - INFO - Finished reading file C:\\dev\\play\\brainwave-data\\2024-11-03-21-20-37\\raw.fif\n",
      "2025-01-09 09:17:24,996 - INFO - Reading file C:\\dev\\play\\brainwave-data\\2024-11-04-21-20-51\\raw.fif\n",
      "2025-01-09 09:17:25,648 - INFO - Finished reading file C:\\dev\\play\\brainwave-data\\2024-11-04-21-20-51\\raw.fif\n",
      "2025-01-09 09:17:26,926 - INFO - Reading file C:\\dev\\play\\brainwave-data\\2024-11-05-21-34-15\\raw.fif\n",
      "2025-01-09 09:17:27,347 - INFO - Finished reading file C:\\dev\\play\\brainwave-data\\2024-11-05-21-34-15\\raw.fif\n",
      "2025-01-09 09:17:28,426 - INFO - Reading file C:\\dev\\play\\brainwave-data\\2024-11-07-21-26-18\\raw.fif\n",
      "2025-01-09 09:17:29,108 - INFO - Finished reading file C:\\dev\\play\\brainwave-data\\2024-11-07-21-26-18\\raw.fif\n",
      "2025-01-09 09:17:30,414 - INFO - Reading file C:\\dev\\play\\brainwave-data\\2024-11-08-21-16-53\\raw.fif\n",
      "2025-01-09 09:17:31,026 - INFO - Finished reading file C:\\dev\\play\\brainwave-data\\2024-11-08-21-16-53\\raw.fif\n",
      "2025-01-09 09:17:32,264 - INFO - Reading file C:\\dev\\play\\brainwave-data\\2024-11-09-21-27-51\\raw.fif\n",
      "2025-01-09 09:17:32,956 - INFO - Finished reading file C:\\dev\\play\\brainwave-data\\2024-11-09-21-27-51\\raw.fif\n",
      "2025-01-09 09:17:34,302 - INFO - Reading file C:\\dev\\play\\brainwave-data\\2024-11-12-21-11-43\\raw.fif\n",
      "2025-01-09 09:17:34,949 - INFO - Finished reading file C:\\dev\\play\\brainwave-data\\2024-11-12-21-11-43\\raw.fif\n",
      "2025-01-09 09:17:36,222 - INFO - Reading file C:\\dev\\play\\brainwave-data\\2024-11-16-21-54-46\\raw.fif\n",
      "2025-01-09 09:17:36,769 - INFO - Finished reading file C:\\dev\\play\\brainwave-data\\2024-11-16-21-54-46\\raw.fif\n",
      "2025-01-09 09:17:38,094 - INFO - Reading file C:\\dev\\play\\brainwave-data\\2024-11-19-21-29-04\\raw.fif\n",
      "2025-01-09 09:17:38,671 - INFO - Finished reading file C:\\dev\\play\\brainwave-data\\2024-11-19-21-29-04\\raw.fif\n",
      "2025-01-09 09:17:40,063 - INFO - Reading file C:\\dev\\play\\brainwave-data\\2024-11-20-21-30-29\\raw.fif\n",
      "2025-01-09 09:17:40,390 - INFO - Finished reading file C:\\dev\\play\\brainwave-data\\2024-11-20-21-30-29\\raw.fif\n",
      "2025-01-09 09:17:41,437 - INFO - Reading file C:\\dev\\play\\brainwave-data\\2024-11-21-21-15-26\\raw.fif\n",
      "2025-01-09 09:17:42,073 - INFO - Finished reading file C:\\dev\\play\\brainwave-data\\2024-11-21-21-15-26\\raw.fif\n",
      "2025-01-09 09:17:43,574 - INFO - Reading file C:\\dev\\play\\brainwave-data\\2024-11-22-21-30-12\\raw.fif\n",
      "2025-01-09 09:17:44,003 - INFO - Finished reading file C:\\dev\\play\\brainwave-data\\2024-11-22-21-30-12\\raw.fif\n",
      "2025-01-09 09:17:45,249 - INFO - Reading file C:\\dev\\play\\brainwave-data\\2024-11-23-21-14-58\\raw.fif\n",
      "2025-01-09 09:17:45,957 - INFO - Finished reading file C:\\dev\\play\\brainwave-data\\2024-11-23-21-14-58\\raw.fif\n",
      "2025-01-09 09:17:47,605 - INFO - Reading file C:\\dev\\play\\brainwave-data\\2024-11-24-21-21-31\\raw.fif\n",
      "2025-01-09 09:17:47,679 - INFO - Finished reading file C:\\dev\\play\\brainwave-data\\2024-11-24-21-21-31\\raw.fif\n",
      "2025-01-09 09:17:48,335 - INFO - Reading file C:\\dev\\play\\brainwave-data\\2024-11-24-22-33-06\\raw.fif\n",
      "2025-01-09 09:17:48,344 - INFO - Finished reading file C:\\dev\\play\\brainwave-data\\2024-11-24-22-33-06\\raw.fif\n",
      "2025-01-09 09:17:49,014 - INFO - Reading file C:\\dev\\play\\brainwave-data\\2024-11-24-22-37-54\\raw.fif\n",
      "2025-01-09 09:17:49,032 - INFO - Finished reading file C:\\dev\\play\\brainwave-data\\2024-11-24-22-37-54\\raw.fif\n",
      "2025-01-09 09:17:49,626 - INFO - Reading file C:\\dev\\play\\brainwave-data\\2024-11-25-21-27-21\\raw.fif\n",
      "2025-01-09 09:17:50,278 - INFO - Finished reading file C:\\dev\\play\\brainwave-data\\2024-11-25-21-27-21\\raw.fif\n",
      "2025-01-09 09:17:52,389 - INFO - Reading file C:\\dev\\play\\brainwave-data\\2024-11-26-21-35-46\\raw.fif\n",
      "2025-01-09 09:17:54,240 - INFO - Finished reading file C:\\dev\\play\\brainwave-data\\2024-11-26-21-35-46\\raw.fif\n",
      "2025-01-09 09:17:58,615 - INFO - Reading file C:\\dev\\play\\brainwave-data\\2024-11-27-21-14-24\\raw.fif\n",
      "2025-01-09 09:17:58,639 - INFO - Finished reading file C:\\dev\\play\\brainwave-data\\2024-11-27-21-14-24\\raw.fif\n",
      "2025-01-09 09:17:59,951 - INFO - Reading file C:\\dev\\play\\brainwave-data\\2024-11-27-21-18-50\\raw.fif\n",
      "2025-01-09 09:18:01,609 - INFO - Finished reading file C:\\dev\\play\\brainwave-data\\2024-11-27-21-18-50\\raw.fif\n",
      "2025-01-09 09:18:04,886 - INFO - Reading file C:\\dev\\play\\brainwave-data\\2024-11-28-21-50-57\\raw.fif\n",
      "2025-01-09 09:18:06,588 - INFO - Finished reading file C:\\dev\\play\\brainwave-data\\2024-11-28-21-50-57\\raw.fif\n",
      "2025-01-09 09:18:10,498 - INFO - Reading file C:\\dev\\play\\brainwave-data\\2024-11-29-21-18-33\\raw.fif\n",
      "2025-01-09 09:18:12,261 - INFO - Finished reading file C:\\dev\\play\\brainwave-data\\2024-11-29-21-18-33\\raw.fif\n",
      "2025-01-09 09:18:16,129 - INFO - Reading file C:\\dev\\play\\brainwave-data\\2024-11-30-21-21-05\\raw.fif\n",
      "2025-01-09 09:18:18,174 - INFO - Finished reading file C:\\dev\\play\\brainwave-data\\2024-11-30-21-21-05\\raw.fif\n",
      "2025-01-09 09:18:22,177 - INFO - Reading file C:\\dev\\play\\brainwave-data\\2024-12-01-21-29-13\\raw.fif\n",
      "2025-01-09 09:18:23,456 - INFO - Finished reading file C:\\dev\\play\\brainwave-data\\2024-12-01-21-29-13\\raw.fif\n",
      "2025-01-09 09:18:25,897 - INFO - Reading file C:\\dev\\play\\brainwave-data\\2024-12-03-21-15-08\\raw.fif\n",
      "2025-01-09 09:18:26,481 - INFO - Finished reading file C:\\dev\\play\\brainwave-data\\2024-12-03-21-15-08\\raw.fif\n",
      "2025-01-09 09:18:28,743 - INFO - Reading file C:\\dev\\play\\brainwave-data\\2024-12-04-21-15-17\\raw.fif\n",
      "2025-01-09 09:18:29,313 - INFO - Finished reading file C:\\dev\\play\\brainwave-data\\2024-12-04-21-15-17\\raw.fif\n",
      "2025-01-09 09:18:30,749 - INFO - Reading file C:\\dev\\play\\brainwave-data\\2024-12-05-21-15-24\\raw.fif\n",
      "2025-01-09 09:18:31,406 - INFO - Finished reading file C:\\dev\\play\\brainwave-data\\2024-12-05-21-15-24\\raw.fif\n",
      "2025-01-09 09:18:32,904 - INFO - Reading file C:\\dev\\play\\brainwave-data\\2024-12-06-21-32-04\\raw.fif\n",
      "2025-01-09 09:18:33,491 - INFO - Finished reading file C:\\dev\\play\\brainwave-data\\2024-12-06-21-32-04\\raw.fif\n",
      "2025-01-09 09:18:34,867 - INFO - Reading file C:\\dev\\play\\brainwave-data\\2024-12-07-21-19-09\\raw.fif\n",
      "2025-01-09 09:18:35,457 - INFO - Finished reading file C:\\dev\\play\\brainwave-data\\2024-12-07-21-19-09\\raw.fif\n",
      "2025-01-09 09:18:36,735 - INFO - Reading file C:\\dev\\play\\brainwave-data\\2024-12-08-21-23-50\\raw.fif\n",
      "2025-01-09 09:18:37,389 - INFO - Finished reading file C:\\dev\\play\\brainwave-data\\2024-12-08-21-23-50\\raw.fif\n",
      "2025-01-09 09:18:38,712 - INFO - Reading file C:\\dev\\play\\brainwave-data\\2024-12-09-21-29-08\\raw.fif\n",
      "2025-01-09 09:18:39,198 - INFO - Finished reading file C:\\dev\\play\\brainwave-data\\2024-12-09-21-29-08\\raw.fif\n",
      "2025-01-09 09:18:40,646 - INFO - Reading file C:\\dev\\play\\brainwave-data\\2024-12-10-21-14-13\\raw.fif\n",
      "2025-01-09 09:18:41,296 - INFO - Finished reading file C:\\dev\\play\\brainwave-data\\2024-12-10-21-14-13\\raw.fif\n",
      "2025-01-09 09:18:42,617 - INFO - Reading file C:\\dev\\play\\brainwave-data\\2024-12-11-21-31-37\\raw.fif\n",
      "2025-01-09 09:18:43,324 - INFO - Finished reading file C:\\dev\\play\\brainwave-data\\2024-12-11-21-31-37\\raw.fif\n",
      "2025-01-09 09:18:44,752 - INFO - Reading file C:\\dev\\play\\brainwave-data\\2024-12-12-21-20-17\\raw.fif\n",
      "2025-01-09 09:18:45,419 - INFO - Finished reading file C:\\dev\\play\\brainwave-data\\2024-12-12-21-20-17\\raw.fif\n",
      "2025-01-09 09:18:46,921 - INFO - Reading file C:\\dev\\play\\brainwave-data\\2024-12-13-21-23-37\\raw.fif\n",
      "2025-01-09 09:18:47,545 - INFO - Finished reading file C:\\dev\\play\\brainwave-data\\2024-12-13-21-23-37\\raw.fif\n",
      "2025-01-09 09:18:48,888 - INFO - Reading file C:\\dev\\play\\brainwave-data\\2024-12-14-21-26-54\\raw.fif\n",
      "2025-01-09 09:18:49,542 - INFO - Finished reading file C:\\dev\\play\\brainwave-data\\2024-12-14-21-26-54\\raw.fif\n",
      "2025-01-09 09:18:50,806 - INFO - Reading file C:\\dev\\play\\brainwave-data\\2024-12-16-21-26-57\\raw.fif\n",
      "2025-01-09 09:18:51,438 - INFO - Finished reading file C:\\dev\\play\\brainwave-data\\2024-12-16-21-26-57\\raw.fif\n",
      "2025-01-09 09:18:52,692 - INFO - Reading file C:\\dev\\play\\brainwave-data\\2024-12-17-21-24-11\\raw.fif\n",
      "2025-01-09 09:18:53,256 - INFO - Finished reading file C:\\dev\\play\\brainwave-data\\2024-12-17-21-24-11\\raw.fif\n",
      "2025-01-09 09:18:54,446 - INFO - Reading file C:\\dev\\play\\brainwave-data\\2024-12-18-21-32-18\\raw.fif\n",
      "2025-01-09 09:18:55,064 - INFO - Finished reading file C:\\dev\\play\\brainwave-data\\2024-12-18-21-32-18\\raw.fif\n",
      "2025-01-09 09:18:56,472 - INFO - Reading file C:\\dev\\play\\brainwave-data\\2024-12-19-21-18-48\\raw.fif\n",
      "2025-01-09 09:18:57,012 - INFO - Finished reading file C:\\dev\\play\\brainwave-data\\2024-12-19-21-18-48\\raw.fif\n",
      "2025-01-09 09:18:58,211 - INFO - Reading file C:\\dev\\play\\brainwave-data\\2024-12-20-21-31-19\\raw.fif\n",
      "2025-01-09 09:18:58,817 - INFO - Finished reading file C:\\dev\\play\\brainwave-data\\2024-12-20-21-31-19\\raw.fif\n",
      "2025-01-09 09:19:00,027 - INFO - Reading file C:\\dev\\play\\brainwave-data\\2024-12-21-21-43-12\\raw.fif\n",
      "2025-01-09 09:19:00,693 - INFO - Finished reading file C:\\dev\\play\\brainwave-data\\2024-12-21-21-43-12\\raw.fif\n",
      "2025-01-09 09:19:02,018 - INFO - Reading file C:\\dev\\play\\brainwave-data\\2024-12-27-21-21-34\\raw.fif\n",
      "2025-01-09 09:19:02,709 - INFO - Finished reading file C:\\dev\\play\\brainwave-data\\2024-12-27-21-21-34\\raw.fif\n",
      "2025-01-09 09:19:04,065 - INFO - Reading file C:\\dev\\play\\brainwave-data\\2024-12-28-21-33-53\\raw.fif\n",
      "2025-01-09 09:19:04,700 - INFO - Finished reading file C:\\dev\\play\\brainwave-data\\2024-12-28-21-33-53\\raw.fif\n",
      "2025-01-09 09:19:06,164 - INFO - Reading file C:\\dev\\play\\brainwave-data\\2024-12-29-21-15-24\\raw.fif\n",
      "2025-01-09 09:19:06,810 - INFO - Finished reading file C:\\dev\\play\\brainwave-data\\2024-12-29-21-15-24\\raw.fif\n",
      "2025-01-09 09:19:08,259 - INFO - Reading file C:\\dev\\play\\brainwave-data\\2024-12-30-21-34-52\\raw.fif\n",
      "2025-01-09 09:19:08,864 - INFO - Finished reading file C:\\dev\\play\\brainwave-data\\2024-12-30-21-34-52\\raw.fif\n",
      "2025-01-09 09:19:10,188 - INFO - Reading file C:\\dev\\play\\brainwave-data\\2024-12-31-21-12-28\\raw.fif\n",
      "2025-01-09 09:19:10,892 - INFO - Finished reading file C:\\dev\\play\\brainwave-data\\2024-12-31-21-12-28\\raw.fif\n",
      "C:\\Users\\graha\\AppData\\Local\\Temp\\ipykernel_44024\\189623836.py:10: FutureWarning: The behavior of DataFrame concatenation with empty or all-NA entries is deprecated. In a future version, this will no longer exclude empty or all-NA columns when determining the result dtypes. To retain the old behavior, exclude the relevant entries before the concat operation.\n",
      "  results.loc[len(results)] = [dir_name, unique_ratio]\n",
      "2025-01-09 09:19:12,240 - INFO - Reading file C:\\dev\\play\\brainwave-data\\2025-01-01-21-42-08\\raw.fif\n",
      "2025-01-09 09:19:12,866 - INFO - Finished reading file C:\\dev\\play\\brainwave-data\\2025-01-01-21-42-08\\raw.fif\n",
      "2025-01-09 09:19:14,083 - INFO - Reading file C:\\dev\\play\\brainwave-data\\2025-01-05-21-10-59\\raw.fif\n",
      "2025-01-09 09:19:14,848 - INFO - Finished reading file C:\\dev\\play\\brainwave-data\\2025-01-05-21-10-59\\raw.fif\n",
      "2025-01-09 09:19:16,152 - INFO - Reading file C:\\dev\\play\\brainwave-data\\2025-01-06-21-35-21\\raw.fif\n",
      "2025-01-09 09:19:16,817 - INFO - Finished reading file C:\\dev\\play\\brainwave-data\\2025-01-06-21-35-21\\raw.fif\n",
      "2025-01-09 09:19:18,050 - INFO - Reading file C:\\dev\\play\\brainwave-data\\2025-01-07-21-12-58\\raw.fif\n",
      "2025-01-09 09:19:18,676 - INFO - Finished reading file C:\\dev\\play\\brainwave-data\\2025-01-07-21-12-58\\raw.fif\n",
      "2025-01-09 09:19:20,077 - INFO - Reading file C:\\dev\\play\\brainwave-data\\2025-01-08-21-41-09\\raw.fif\n",
      "2025-01-09 09:19:20,554 - INFO - Finished reading file C:\\dev\\play\\brainwave-data\\2025-01-08-21-41-09\\raw.fif\n",
      "C:\\Users\\graha\\AppData\\Local\\Temp\\ipykernel_44024\\189623836.py:10: FutureWarning: The behavior of DataFrame concatenation with empty or all-NA entries is deprecated. In a future version, this will no longer exclude empty or all-NA columns when determining the result dtypes. To retain the old behavior, exclude the relevant entries before the concat operation.\n",
      "  results.loc[len(results)] = [dir_name, unique_ratio]\n",
      "C:\\Users\\graha\\AppData\\Local\\Temp\\ipykernel_44024\\189623836.py:10: FutureWarning: The behavior of DataFrame concatenation with empty or all-NA entries is deprecated. In a future version, this will no longer exclude empty or all-NA columns when determining the result dtypes. To retain the old behavior, exclude the relevant entries before the concat operation.\n",
      "  results.loc[len(results)] = [dir_name, unique_ratio]\n"
     ]
    },
    {
     "data": {
      "text/plain": [
       "                 dir_name  unique_ratio\n",
       "0    08-07-2024--22-51-16           NaN\n",
       "1    09-07-2024--22-52-25           NaN\n",
       "2     2024-07-08-22-51-16     1046394.0\n",
       "3     2024-07-11-22-46-18     1046394.0\n",
       "4     2024-07-12-22-38-58     1046394.0\n",
       "..                    ...           ...\n",
       "120   2025-01-06-21-35-21     1046394.0\n",
       "121   2025-01-07-21-12-58     1046394.0\n",
       "122   2025-01-08-21-41-09     1046394.0\n",
       "123      compressed_files           NaN\n",
       "124              nonnight           NaN\n",
       "\n",
       "[125 rows x 2 columns]"
      ],
      "text/html": [
       "<div>\n",
       "<style scoped>\n",
       "    .dataframe tbody tr th:only-of-type {\n",
       "        vertical-align: middle;\n",
       "    }\n",
       "\n",
       "    .dataframe tbody tr th {\n",
       "        vertical-align: top;\n",
       "    }\n",
       "\n",
       "    .dataframe thead th {\n",
       "        text-align: right;\n",
       "    }\n",
       "</style>\n",
       "<table border=\"1\" class=\"dataframe\">\n",
       "  <thead>\n",
       "    <tr style=\"text-align: right;\">\n",
       "      <th></th>\n",
       "      <th>dir_name</th>\n",
       "      <th>unique_ratio</th>\n",
       "    </tr>\n",
       "  </thead>\n",
       "  <tbody>\n",
       "    <tr>\n",
       "      <th>0</th>\n",
       "      <td>08-07-2024--22-51-16</td>\n",
       "      <td>NaN</td>\n",
       "    </tr>\n",
       "    <tr>\n",
       "      <th>1</th>\n",
       "      <td>09-07-2024--22-52-25</td>\n",
       "      <td>NaN</td>\n",
       "    </tr>\n",
       "    <tr>\n",
       "      <th>2</th>\n",
       "      <td>2024-07-08-22-51-16</td>\n",
       "      <td>1046394.0</td>\n",
       "    </tr>\n",
       "    <tr>\n",
       "      <th>3</th>\n",
       "      <td>2024-07-11-22-46-18</td>\n",
       "      <td>1046394.0</td>\n",
       "    </tr>\n",
       "    <tr>\n",
       "      <th>4</th>\n",
       "      <td>2024-07-12-22-38-58</td>\n",
       "      <td>1046394.0</td>\n",
       "    </tr>\n",
       "    <tr>\n",
       "      <th>...</th>\n",
       "      <td>...</td>\n",
       "      <td>...</td>\n",
       "    </tr>\n",
       "    <tr>\n",
       "      <th>120</th>\n",
       "      <td>2025-01-06-21-35-21</td>\n",
       "      <td>1046394.0</td>\n",
       "    </tr>\n",
       "    <tr>\n",
       "      <th>121</th>\n",
       "      <td>2025-01-07-21-12-58</td>\n",
       "      <td>1046394.0</td>\n",
       "    </tr>\n",
       "    <tr>\n",
       "      <th>122</th>\n",
       "      <td>2025-01-08-21-41-09</td>\n",
       "      <td>1046394.0</td>\n",
       "    </tr>\n",
       "    <tr>\n",
       "      <th>123</th>\n",
       "      <td>compressed_files</td>\n",
       "      <td>NaN</td>\n",
       "    </tr>\n",
       "    <tr>\n",
       "      <th>124</th>\n",
       "      <td>nonnight</td>\n",
       "      <td>NaN</td>\n",
       "    </tr>\n",
       "  </tbody>\n",
       "</table>\n",
       "<p>125 rows × 2 columns</p>\n",
       "</div>"
      ]
     },
     "execution_count": 10,
     "metadata": {},
     "output_type": "execute_result"
    }
   ],
   "execution_count": 10
  },
  {
   "metadata": {
    "ExecuteTime": {
     "end_time": "2025-01-09T09:11:01.686436Z",
     "start_time": "2025-01-09T09:11:01.670896Z"
    }
   },
   "cell_type": "code",
   "source": [
    "import pandas as pd\n",
    "\n",
    "input_file = \"C:\\\\dev\\\\play\\\\brainwave-data\\\\2024-12-09-21-29-08\\\\raw.fif\"\n",
    "\n",
    "input_file_without_ext = os.path.splitext(input_file)[0]\n",
    "input_dir = \"C:\\\\dev\\\\play\\\\brainwave-data\"\n"
   ],
   "id": "38badb0fe1b17412",
   "outputs": [],
   "execution_count": 2
  },
  {
   "metadata": {
    "ExecuteTime": {
     "end_time": "2025-01-09T09:11:04.439963Z",
     "start_time": "2025-01-09T09:11:01.753951Z"
    }
   },
   "cell_type": "code",
   "source": [
    "from convert import load_mne_file\n",
    "raw, input_file_without_ext, mne_filtered = load_mne_file(log, input_file)"
   ],
   "id": "a0b46a47302eaee2",
   "outputs": [
    {
     "name": "stderr",
     "output_type": "stream",
     "text": [
      "2025-01-09 09:11:02,415 - INFO - Reading file C:\\dev\\play\\brainwave-data\\2024-12-09-21-29-08\\raw.fif\n"
     ]
    },
    {
     "name": "stdout",
     "output_type": "stream",
     "text": [
      "Opening raw data file C:\\dev\\play\\brainwave-data\\2024-12-09-21-29-08\\raw.fif...\n",
      "Isotrak not found\n",
      "    Range : 0 ... 9281681 =      0.000 ... 37126.724 secs\n",
      "Ready.\n",
      "Reading 0 ... 9281681  =      0.000 ... 37126.724 secs...\n"
     ]
    },
    {
     "name": "stderr",
     "output_type": "stream",
     "text": [
      "2025-01-09 09:11:03,450 - INFO - Finished reading file C:\\dev\\play\\brainwave-data\\2024-12-09-21-29-08\\raw.fif\n"
     ]
    }
   ],
   "execution_count": 3
  },
  {
   "metadata": {
    "ExecuteTime": {
     "end_time": "2025-01-09T09:11:04.521934Z",
     "start_time": "2025-01-09T09:11:04.487270Z"
    }
   },
   "cell_type": "code",
   "source": "data = raw.get_data(units=dict(eeg=\"uV\"))",
   "id": "c523dbefdefc5521",
   "outputs": [],
   "execution_count": 4
  },
  {
   "metadata": {
    "ExecuteTime": {
     "end_time": "2025-01-09T09:11:05.127169Z",
     "start_time": "2025-01-09T09:11:04.569680Z"
    }
   },
   "cell_type": "code",
   "source": [
    "import numpy as np\n",
    "num_unique = len(np.unique(data))\n",
    "unique_ratio = num_unique / len(data)\n",
    "unique_ratio"
   ],
   "id": "c1e940543e33ee82",
   "outputs": [
    {
     "data": {
      "text/plain": [
       "1046394.0"
      ]
     },
     "execution_count": 5,
     "metadata": {},
     "output_type": "execute_result"
    }
   ],
   "execution_count": 5
  },
  {
   "metadata": {
    "ExecuteTime": {
     "end_time": "2025-01-09T09:11:05.166305Z",
     "start_time": "2025-01-09T09:11:05.163762Z"
    }
   },
   "cell_type": "code",
   "source": "",
   "id": "5cbff3db8cf02106",
   "outputs": [],
   "execution_count": null
  }
 ],
 "metadata": {
  "kernelspec": {
   "display_name": "Python 3",
   "language": "python",
   "name": "python3"
  },
  "language_info": {
   "codemirror_mode": {
    "name": "ipython",
    "version": 2
   },
   "file_extension": ".py",
   "mimetype": "text/x-python",
   "name": "python",
   "nbconvert_exporter": "python",
   "pygments_lexer": "ipython2",
   "version": "2.7.6"
  }
 },
 "nbformat": 4,
 "nbformat_minor": 5
}
