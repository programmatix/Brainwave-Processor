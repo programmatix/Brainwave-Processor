{
 "cells": [
  {
   "cell_type": "markdown",
   "metadata": {},
   "source": [
    "# Discover correct sample rate"
   ]
  },
  {
   "cell_type": "code",
   "execution_count": 2,
   "metadata": {},
   "outputs": [],
   "source": [
    "import numpy as np\n",
    "import pandas as pd\n",
    "import logging\n",
    "import os\n",
    "import sys\n",
    "\n",
    "root_dir = os.path.abspath(os.path.join(os.path.dirname('__file__'), '../..'))\n",
    "sys.path.append(root_dir)\n",
    "\n"
   ]
  },
  {
   "cell_type": "code",
   "execution_count": 3,
   "metadata": {},
   "outputs": [],
   "source": [
    "import sleep_events\n",
    "db = sleep_events.connect_to_firebase()"
   ]
  },
  {
   "cell_type": "code",
   "execution_count": 4,
   "metadata": {},
   "outputs": [],
   "source": [
    "docs = db.collection('eegEvents').stream()\n",
    "records = [doc.to_dict() for doc in docs]\n",
    "ha_events = pd.DataFrame(records)\n"
   ]
  },
  {
   "cell_type": "code",
   "execution_count": 5,
   "metadata": {},
   "outputs": [
    {
     "data": {
      "text/html": [
       "<div>\n",
       "<style scoped>\n",
       "    .dataframe tbody tr th:only-of-type {\n",
       "        vertical-align: middle;\n",
       "    }\n",
       "\n",
       "    .dataframe tbody tr th {\n",
       "        vertical-align: top;\n",
       "    }\n",
       "\n",
       "    .dataframe thead th {\n",
       "        text-align: right;\n",
       "    }\n",
       "</style>\n",
       "<table border=\"1\" class=\"dataframe\">\n",
       "  <thead>\n",
       "    <tr style=\"text-align: right;\">\n",
       "      <th></th>\n",
       "      <th>type</th>\n",
       "      <th>timestampCreated</th>\n",
       "      <th>timestampFor</th>\n",
       "      <th>dayAndNightOf</th>\n",
       "      <th>timestampUpdated</th>\n",
       "    </tr>\n",
       "  </thead>\n",
       "  <tbody>\n",
       "    <tr>\n",
       "      <th>0</th>\n",
       "      <td>brainflow_recording_start_attempted</td>\n",
       "      <td>2024-10-03 17:26:28.581000+00:00</td>\n",
       "      <td>2024-10-03 17:26:27+00:00</td>\n",
       "      <td>2024-10-03</td>\n",
       "      <td>2024-10-03 17:26:28.581000+00:00</td>\n",
       "    </tr>\n",
       "    <tr>\n",
       "      <th>1</th>\n",
       "      <td>brainflow_recording_start_failed</td>\n",
       "      <td>2024-10-03 17:26:28.586000+00:00</td>\n",
       "      <td>2024-10-03 17:26:28+00:00</td>\n",
       "      <td>2024-10-03</td>\n",
       "      <td>2024-10-03 17:26:28.586000+00:00</td>\n",
       "    </tr>\n",
       "    <tr>\n",
       "      <th>2</th>\n",
       "      <td>brainflow_recording_start_attempted</td>\n",
       "      <td>2024-10-03 17:28:17.710000+00:00</td>\n",
       "      <td>2024-10-03 17:28:16+00:00</td>\n",
       "      <td>2024-10-03</td>\n",
       "      <td>2024-10-03 17:28:17.710000+00:00</td>\n",
       "    </tr>\n",
       "    <tr>\n",
       "      <th>3</th>\n",
       "      <td>brainflow_recording_start_failed</td>\n",
       "      <td>2024-10-03 17:28:17.713000+00:00</td>\n",
       "      <td>2024-10-03 17:28:17+00:00</td>\n",
       "      <td>2024-10-03</td>\n",
       "      <td>2024-10-03 17:28:17.713000+00:00</td>\n",
       "    </tr>\n",
       "    <tr>\n",
       "      <th>4</th>\n",
       "      <td>brainflow_recording_start_attempted</td>\n",
       "      <td>2024-10-05 20:09:49.652000+00:00</td>\n",
       "      <td>2024-10-05 20:09:36+00:00</td>\n",
       "      <td>2024-10-05</td>\n",
       "      <td>2024-10-05 20:09:49.652000+00:00</td>\n",
       "    </tr>\n",
       "  </tbody>\n",
       "</table>\n",
       "</div>"
      ],
      "text/plain": [
       "                                  type                 timestampCreated  \\\n",
       "0  brainflow_recording_start_attempted 2024-10-03 17:26:28.581000+00:00   \n",
       "1     brainflow_recording_start_failed 2024-10-03 17:26:28.586000+00:00   \n",
       "2  brainflow_recording_start_attempted 2024-10-03 17:28:17.710000+00:00   \n",
       "3     brainflow_recording_start_failed 2024-10-03 17:28:17.713000+00:00   \n",
       "4  brainflow_recording_start_attempted 2024-10-05 20:09:49.652000+00:00   \n",
       "\n",
       "               timestampFor dayAndNightOf                 timestampUpdated  \n",
       "0 2024-10-03 17:26:27+00:00    2024-10-03 2024-10-03 17:26:28.581000+00:00  \n",
       "1 2024-10-03 17:26:28+00:00    2024-10-03 2024-10-03 17:26:28.586000+00:00  \n",
       "2 2024-10-03 17:28:16+00:00    2024-10-03 2024-10-03 17:28:17.710000+00:00  \n",
       "3 2024-10-03 17:28:17+00:00    2024-10-03 2024-10-03 17:28:17.713000+00:00  \n",
       "4 2024-10-05 20:09:36+00:00    2024-10-05 2024-10-05 20:09:49.652000+00:00  "
      ]
     },
     "execution_count": 5,
     "metadata": {},
     "output_type": "execute_result"
    }
   ],
   "source": [
    "ha_events.head()"
   ]
  },
  {
   "cell_type": "code",
   "execution_count": 6,
   "metadata": {},
   "outputs": [
    {
     "data": {
      "text/plain": [
       "type\n",
       "brainflow_recording_start_attempted    164\n",
       "brainflow_recording_pre_file_start     139\n",
       "brainflow_recording_post_file_start    139\n",
       "brainflow_recording_file_stop          126\n",
       "brainflow_recording_start_failed        24\n",
       "Name: count, dtype: int64"
      ]
     },
     "execution_count": 6,
     "metadata": {},
     "output_type": "execute_result"
    }
   ],
   "source": [
    "ha_events['type'].value_counts()\n"
   ]
  },
  {
   "cell_type": "code",
   "execution_count": 7,
   "metadata": {},
   "outputs": [
    {
     "name": "stderr",
     "output_type": "stream",
     "text": [
      "C:\\Users\\graha\\AppData\\Local\\Temp\\ipykernel_14284\\3036257409.py:13: FutureWarning: The behavior of DataFrame concatenation with empty or all-NA entries is deprecated. In a future version, this will no longer exclude empty or all-NA columns when determining the result dtypes. To retain the old behavior, exclude the relevant entries before the concat operation.\n",
      "  grouped = pd.concat([grouped, pd.DataFrame({\n"
     ]
    },
    {
     "data": {
      "text/html": [
       "<div>\n",
       "<style scoped>\n",
       "    .dataframe tbody tr th:only-of-type {\n",
       "        vertical-align: middle;\n",
       "    }\n",
       "\n",
       "    .dataframe tbody tr th {\n",
       "        vertical-align: top;\n",
       "    }\n",
       "\n",
       "    .dataframe thead th {\n",
       "        text-align: right;\n",
       "    }\n",
       "</style>\n",
       "<table border=\"1\" class=\"dataframe\">\n",
       "  <thead>\n",
       "    <tr style=\"text-align: right;\">\n",
       "      <th></th>\n",
       "      <th>dayAndNightOf</th>\n",
       "      <th>RecordedStop</th>\n",
       "      <th>RecordedStart</th>\n",
       "    </tr>\n",
       "  </thead>\n",
       "  <tbody>\n",
       "    <tr>\n",
       "      <th>0</th>\n",
       "      <td>2024-10-06</td>\n",
       "      <td>2024-10-07 05:30:58+00:00</td>\n",
       "      <td>2024-10-06 20:29:18+00:00</td>\n",
       "    </tr>\n",
       "    <tr>\n",
       "      <th>1</th>\n",
       "      <td>2024-10-07</td>\n",
       "      <td>2024-10-08 04:42:13+00:00</td>\n",
       "      <td>2024-10-07 20:35:18+00:00</td>\n",
       "    </tr>\n",
       "    <tr>\n",
       "      <th>2</th>\n",
       "      <td>2024-10-08</td>\n",
       "      <td>2024-10-09 04:31:16+00:00</td>\n",
       "      <td>2024-10-08 20:21:34+00:00</td>\n",
       "    </tr>\n",
       "    <tr>\n",
       "      <th>3</th>\n",
       "      <td>2024-10-09</td>\n",
       "      <td>2024-10-10 06:18:35+00:00</td>\n",
       "      <td>2024-10-09 20:22:04+00:00</td>\n",
       "    </tr>\n",
       "    <tr>\n",
       "      <th>4</th>\n",
       "      <td>2024-10-11</td>\n",
       "      <td>2024-10-12 08:07:17+00:00</td>\n",
       "      <td>2024-10-11 20:16:27+00:00</td>\n",
       "    </tr>\n",
       "  </tbody>\n",
       "</table>\n",
       "</div>"
      ],
      "text/plain": [
       "  dayAndNightOf              RecordedStop             RecordedStart\n",
       "0    2024-10-06 2024-10-07 05:30:58+00:00 2024-10-06 20:29:18+00:00\n",
       "1    2024-10-07 2024-10-08 04:42:13+00:00 2024-10-07 20:35:18+00:00\n",
       "2    2024-10-08 2024-10-09 04:31:16+00:00 2024-10-08 20:21:34+00:00\n",
       "3    2024-10-09 2024-10-10 06:18:35+00:00 2024-10-09 20:22:04+00:00\n",
       "4    2024-10-11 2024-10-12 08:07:17+00:00 2024-10-11 20:16:27+00:00"
      ]
     },
     "execution_count": 7,
     "metadata": {},
     "output_type": "execute_result"
    }
   ],
   "source": [
    "# ... existing code ...\n",
    "stop_events = ha_events[ha_events['type'] == 'brainflow_recording_file_stop']\n",
    "start_events = ha_events[ha_events['type'] == 'brainflow_recording_post_file_start']\n",
    "\n",
    "grouped = pd.DataFrame()\n",
    "for day in stop_events['dayAndNightOf'].unique():\n",
    "    day_stops = stop_events[stop_events['dayAndNightOf'] == day]\n",
    "    day_starts = start_events[start_events['dayAndNightOf'] == day]\n",
    "    \n",
    "    last_stop = day_stops['timestampFor'].max() if not day_stops.empty else None\n",
    "    last_start = day_starts['timestampFor'].max() if not day_starts.empty else None\n",
    "    \n",
    "    grouped = pd.concat([grouped, pd.DataFrame({\n",
    "        'dayAndNightOf': [day],\n",
    "        'RecordedStop': [last_stop],\n",
    "        'RecordedStart': [last_start]\n",
    "    })], ignore_index=True)\n",
    "\n",
    "grouped['dayAndNightOf'] = grouped['dayAndNightOf'].astype(str)\n",
    "\n",
    "grouped.head()\n",
    "# ... existing code ..."
   ]
  },
  {
   "cell_type": "code",
   "execution_count": 23,
   "metadata": {},
   "outputs": [
    {
     "name": "stdout",
     "output_type": "stream",
     "text": [
      "Reading file C:\\dev\\play\\brainwave-data\\2025-03-20-21-22-08\\raw.fif\n",
      "Opening raw data file C:\\dev\\play\\brainwave-data\\2025-03-20-21-22-08\\raw.fif...\n",
      "Isotrak not found\n",
      "    Range : 0 ... 7979121 =      0.000 ... 31916.484 secs\n",
      "Ready.\n",
      "Reading 0 ... 7979121  =      0.000 ... 31916.484 secs...\n",
      "Finished reading file C:\\dev\\play\\brainwave-data\\2025-03-20-21-22-08\\raw.fif\n",
      "file C:\\dev\\play\\brainwave-data\\2025-03-20-21-22-08\\raw.fif Start date: 2025-03-20 21:22:08.886214+00:00, End date: 2025-03-21 06:14:05.370214+00:00, Samples: 7979122\n"
     ]
    },
    {
     "name": "stderr",
     "output_type": "stream",
     "text": [
      "C:\\Users\\graha\\AppData\\Local\\Temp\\ipykernel_14284\\2647281243.py:19: FutureWarning: The behavior of DataFrame concatenation with empty or all-NA entries is deprecated. In a future version, this will no longer exclude empty or all-NA columns when determining the result dtypes. To retain the old behavior, exclude the relevant entries before the concat operation.\n",
      "  df = pd.concat([df, pd.DataFrame({'DayAndNightOf': [day], 'EEGStart': [start_date], 'EEGStop': [end_date], 'Samples': [samples]})], ignore_index=True)\n"
     ]
    },
    {
     "data": {
      "text/html": [
       "<div>\n",
       "<style scoped>\n",
       "    .dataframe tbody tr th:only-of-type {\n",
       "        vertical-align: middle;\n",
       "    }\n",
       "\n",
       "    .dataframe tbody tr th {\n",
       "        vertical-align: top;\n",
       "    }\n",
       "\n",
       "    .dataframe thead th {\n",
       "        text-align: right;\n",
       "    }\n",
       "</style>\n",
       "<table border=\"1\" class=\"dataframe\">\n",
       "  <thead>\n",
       "    <tr style=\"text-align: right;\">\n",
       "      <th></th>\n",
       "      <th>DayAndNightOf</th>\n",
       "      <th>EEGStart</th>\n",
       "      <th>EEGStop</th>\n",
       "      <th>Samples</th>\n",
       "    </tr>\n",
       "  </thead>\n",
       "  <tbody>\n",
       "    <tr>\n",
       "      <th>0</th>\n",
       "      <td>2025-03-20</td>\n",
       "      <td>2025-03-20 21:22:08.886214+00:00</td>\n",
       "      <td>2025-03-21 06:14:05.370214+00:00</td>\n",
       "      <td>7979122</td>\n",
       "    </tr>\n",
       "  </tbody>\n",
       "</table>\n",
       "</div>"
      ],
      "text/plain": [
       "  DayAndNightOf                         EEGStart  \\\n",
       "0    2025-03-20 2025-03-20 21:22:08.886214+00:00   \n",
       "\n",
       "                           EEGStop  Samples  \n",
       "0 2025-03-21 06:14:05.370214+00:00  7979122  "
      ]
     },
     "execution_count": 23,
     "metadata": {},
     "output_type": "execute_result"
    }
   ],
   "source": [
    "import convert\n",
    "from datetime import timedelta, datetime\n",
    "from notebooks.Util.DayAndNightOfFinder import day_and_night_of_dir\n",
    "\n",
    "input_dir = \"C:\\\\dev\\\\play\\\\brainwave-data\"\n",
    "\n",
    "df = pd.DataFrame(columns=['DayAndNightOf', 'EEGStart', 'EEGStop', 'Samples'])\n",
    "\n",
    "for day in list(grouped['dayAndNightOf'])[-1:]:\n",
    "    try:\n",
    "        dir, _ = day_and_night_of_dir(input_dir, day)\n",
    "        input_file = os.path.join(dir, \"raw.fif\")\n",
    "        raw, _, _ = convert.load_mne_file(print, input_file)\n",
    "        start_date = raw.info['meas_date']\n",
    "        duration = timedelta(seconds=float(raw.times[-1]))\n",
    "        samples = raw.get_data().shape[1]\n",
    "        end_date = start_date + duration\n",
    "        print(f\"file {input_file} Start date: {start_date}, End date: {end_date}, Samples: {samples}\")\n",
    "        df = pd.concat([df, pd.DataFrame({'DayAndNightOf': [day], 'EEGStart': [start_date], 'EEGStop': [end_date], 'Samples': [samples]})], ignore_index=True)\n",
    "    except Exception as e:\n",
    "        print(f\"Error loading file {input_file}: {e}\")\n",
    "\n",
    "df\n"
   ]
  },
  {
   "cell_type": "code",
   "execution_count": 22,
   "metadata": {},
   "outputs": [
    {
     "data": {
      "text/html": [
       "<div>\n",
       "<style scoped>\n",
       "    .dataframe tbody tr th:only-of-type {\n",
       "        vertical-align: middle;\n",
       "    }\n",
       "\n",
       "    .dataframe tbody tr th {\n",
       "        vertical-align: top;\n",
       "    }\n",
       "\n",
       "    .dataframe thead th {\n",
       "        text-align: right;\n",
       "    }\n",
       "</style>\n",
       "<table border=\"1\" class=\"dataframe\">\n",
       "  <thead>\n",
       "    <tr style=\"text-align: right;\">\n",
       "      <th></th>\n",
       "      <th>DayAndNightOf</th>\n",
       "      <th>EEGStart</th>\n",
       "      <th>EEGStop</th>\n",
       "      <th>Samples</th>\n",
       "      <th>dayAndNightOf</th>\n",
       "      <th>RecordedStop</th>\n",
       "      <th>RecordedStart</th>\n",
       "      <th>BetweenRecordings</th>\n",
       "      <th>StopDiff</th>\n",
       "      <th>StartDiff</th>\n",
       "      <th>SampleRate</th>\n",
       "    </tr>\n",
       "  </thead>\n",
       "  <tbody>\n",
       "    <tr>\n",
       "      <th>0</th>\n",
       "      <td>2025-03-18</td>\n",
       "      <td>2025-03-18 21:40:28.301187+00:00</td>\n",
       "      <td>2025-03-19 06:38:51.681187+00:00</td>\n",
       "      <td>8075846</td>\n",
       "      <td>2025-03-18</td>\n",
       "      <td>2025-03-19 06:37:56+00:00</td>\n",
       "      <td>2025-03-18 21:40:28+00:00</td>\n",
       "      <td>0 days 08:57:28</td>\n",
       "      <td>0 days 00:00:55.681187</td>\n",
       "      <td>0 days 00:00:00.301187</td>\n",
       "      <td>250.42936</td>\n",
       "    </tr>\n",
       "    <tr>\n",
       "      <th>1</th>\n",
       "      <td>2025-03-19</td>\n",
       "      <td>2025-03-19 21:45:19.286570+00:00</td>\n",
       "      <td>2025-03-20 06:10:13.582570+00:00</td>\n",
       "      <td>7573575</td>\n",
       "      <td>2025-03-19</td>\n",
       "      <td>2025-03-20 06:09:25+00:00</td>\n",
       "      <td>2025-03-19 21:45:19+00:00</td>\n",
       "      <td>0 days 08:24:06</td>\n",
       "      <td>0 days 00:00:48.582570</td>\n",
       "      <td>0 days 00:00:00.286570</td>\n",
       "      <td>250.399226</td>\n",
       "    </tr>\n",
       "    <tr>\n",
       "      <th>2</th>\n",
       "      <td>2025-03-20</td>\n",
       "      <td>2025-03-20 21:22:08.886214+00:00</td>\n",
       "      <td>2025-03-21 06:14:05.370214+00:00</td>\n",
       "      <td>7979122</td>\n",
       "      <td>2025-03-20</td>\n",
       "      <td>2025-03-21 06:13:12+00:00</td>\n",
       "      <td>2025-03-20 21:22:08+00:00</td>\n",
       "      <td>0 days 08:51:04</td>\n",
       "      <td>0 days 00:00:53.370214</td>\n",
       "      <td>0 days 00:00:00.886214</td>\n",
       "      <td>250.411813</td>\n",
       "    </tr>\n",
       "  </tbody>\n",
       "</table>\n",
       "</div>"
      ],
      "text/plain": [
       "  DayAndNightOf                         EEGStart  \\\n",
       "0    2025-03-18 2025-03-18 21:40:28.301187+00:00   \n",
       "1    2025-03-19 2025-03-19 21:45:19.286570+00:00   \n",
       "2    2025-03-20 2025-03-20 21:22:08.886214+00:00   \n",
       "\n",
       "                           EEGStop  Samples dayAndNightOf  \\\n",
       "0 2025-03-19 06:38:51.681187+00:00  8075846    2025-03-18   \n",
       "1 2025-03-20 06:10:13.582570+00:00  7573575    2025-03-19   \n",
       "2 2025-03-21 06:14:05.370214+00:00  7979122    2025-03-20   \n",
       "\n",
       "               RecordedStop             RecordedStart BetweenRecordings  \\\n",
       "0 2025-03-19 06:37:56+00:00 2025-03-18 21:40:28+00:00   0 days 08:57:28   \n",
       "1 2025-03-20 06:09:25+00:00 2025-03-19 21:45:19+00:00   0 days 08:24:06   \n",
       "2 2025-03-21 06:13:12+00:00 2025-03-20 21:22:08+00:00   0 days 08:51:04   \n",
       "\n",
       "                StopDiff              StartDiff  SampleRate  \n",
       "0 0 days 00:00:55.681187 0 days 00:00:00.301187   250.42936  \n",
       "1 0 days 00:00:48.582570 0 days 00:00:00.286570  250.399226  \n",
       "2 0 days 00:00:53.370214 0 days 00:00:00.886214  250.411813  "
      ]
     },
     "execution_count": 22,
     "metadata": {},
     "output_type": "execute_result"
    }
   ],
   "source": [
    "df['DayAndNightOf'] = df['DayAndNightOf'].astype(str)\n",
    "\n",
    "# Then use merge instead of join with the correct column names\n",
    "\n",
    "joined = pd.merge(df, grouped, left_on='DayAndNightOf', right_on='dayAndNightOf', how='left')\n",
    "joined['BetweenRecordings'] = (joined['RecordedStop'] - joined['RecordedStart']).abs()\n",
    "joined['StopDiff'] = (joined['RecordedStop'] - joined['EEGStop']).abs()\n",
    "joined['StartDiff'] = (joined['RecordedStart'] - joined['EEGStart']).abs()\n",
    "joined['SampleRate'] = joined['Samples'] / joined['BetweenRecordings'].dt.total_seconds()\n",
    "joined\n",
    "\n"
   ]
  },
  {
   "cell_type": "code",
   "execution_count": 20,
   "metadata": {},
   "outputs": [
    {
     "data": {
      "text/plain": [
       "0      250.41636\n",
       "1     250.428094\n",
       "2     250.468735\n",
       "4     250.468796\n",
       "5     250.483321\n",
       "6     250.437843\n",
       "7     250.438039\n",
       "8     250.412954\n",
       "9     250.274351\n",
       "10    250.438405\n",
       "11    250.439659\n",
       "12    250.436267\n",
       "13    250.412936\n",
       "14    250.404737\n",
       "15    250.284372\n",
       "16     250.42936\n",
       "17    250.399226\n",
       "18    250.411813\n",
       "Name: SampleRate, dtype: object"
      ]
     },
     "metadata": {},
     "output_type": "display_data"
    },
    {
     "data": {
      "text/plain": [
       "250.4158482144943"
      ]
     },
     "execution_count": 20,
     "metadata": {},
     "output_type": "execute_result"
    }
   ],
   "source": [
    "# ... existing code ...\n",
    "# Calculate Q1, Q3, and IQR for SampleRate\n",
    "Q1 = joined['SampleRate'].quantile(0.1)\n",
    "Q3 = joined['SampleRate'].quantile(0.9)\n",
    "IQR = Q3 - Q1\n",
    "\n",
    "# Define bounds for outliers\n",
    "lower_bound = Q1 - 1.5 * IQR\n",
    "upper_bound = Q3 + 1.5 * IQR\n",
    "\n",
    "# Filter out the outliers\n",
    "filtered_sample_rate = joined['SampleRate'][(joined['SampleRate'] >= lower_bound) & \n",
    "                                           (joined['SampleRate'] <= upper_bound)]\n",
    "\n",
    "display(filtered_sample_rate)\n",
    "# Calculate mean without outliers\n",
    "mean_sample_rate = filtered_sample_rate.mean()\n",
    "mean_sample_rate\n",
    "# ... existing code ..."
   ]
  },
  {
   "cell_type": "code",
   "execution_count": null,
   "metadata": {},
   "outputs": [],
   "source": [
    "# This rate will be used from  night of 20th March 2025 onwards.\n"
   ]
  },
  {
   "cell_type": "markdown",
   "metadata": {},
   "source": [
    "# Test new rate"
   ]
  },
  {
   "cell_type": "code",
   "execution_count": 27,
   "metadata": {},
   "outputs": [
    {
     "name": "stdout",
     "output_type": "stream",
     "text": [
      "Memory Usage: 580.49 MB GC to 580.49 MB\n",
      "Reading Brainflow file C:\\dev\\play\\brainwave-data\\2025-03-20-21-22-08.brainflow.csv\n",
      "Finished reading Brainflow file\n",
      "Memory Usage: 1999.99 MB GC to 1999.99 MB\n",
      "EEG channels: [1, 2, 3, 4, 5, 6, 7, 8]\n"
     ]
    },
    {
     "name": "stderr",
     "output_type": "stream",
     "text": [
      "c:\\dev\\Brainwave-Processor\\convert.py:182: SettingWithCopyWarning: \n",
      "A value is trying to be set on a copy of a slice from a DataFrame.\n",
      "Try using .loc[row_indexer,col_indexer] = value instead\n",
      "\n",
      "See the caveats in the documentation: https://pandas.pydata.org/pandas-docs/stable/user_guide/indexing.html#returning-a-view-versus-a-copy\n",
      "  idx_and_eeg_channels_and_timestamp['datetime'] = pd.to_datetime(idx_and_eeg_channels_and_timestamp['timestamp'],unit=\"s\").dt.tz_localize('UTC')\n",
      "Processing rows: 100%|██████████| 7936687/7936687 [00:06<00:00, 1322238.47it/s]\n"
     ]
    },
    {
     "name": "stdout",
     "output_type": "stream",
     "text": [
      "Gaps:  datetime\n",
      "False    7931224\n",
      "True          27\n",
      "Name: count, dtype: int64\n"
     ]
    },
    {
     "name": "stderr",
     "output_type": "stream",
     "text": [
      "Processing rows:   1%|          | 55606/7931250 [00:00<01:18, 100396.94it/s]"
     ]
    },
    {
     "name": "stdout",
     "output_type": "stream",
     "text": [
      "Gap 36394 start time:  2025-03-20 21:24:34.284627914+00:00\n",
      "Gap 36394 end time:  2025-03-20 21:24:35.209925890+00:00\n",
      "Gap 36883 start time:  2025-03-20 21:24:37.253129959+00:00\n",
      "Gap 36883 end time:  2025-03-20 21:24:38.136048079+00:00\n"
     ]
    },
    {
     "name": "stderr",
     "output_type": "stream",
     "text": [
      "Processing rows:   7%|▋         | 590148/7931250 [00:05<01:16, 96090.48it/s] "
     ]
    },
    {
     "name": "stdout",
     "output_type": "stream",
     "text": [
      "Gap 578640 start time:  2025-03-20 22:00:41.503294945+00:00\n",
      "Gap 578640 end time:  2025-03-20 22:00:43.636815071+00:00\n",
      "Gap 578642 start time:  2025-03-20 22:00:43.636892080+00:00\n",
      "Gap 578642 end time:  2025-03-20 22:00:44.421345949+00:00\n",
      "Gap 578644 start time:  2025-03-20 22:00:44.443382025+00:00\n",
      "Gap 578644 end time:  2025-03-20 22:00:47.545509100+00:00\n",
      "Gap 578788 start time:  2025-03-20 22:00:48.183696032+00:00\n",
      "Gap 578788 end time:  2025-03-20 22:01:26.058260918+00:00\n",
      "Gap 578789 start time:  2025-03-20 22:01:26.058260918+00:00\n",
      "Gap 578789 end time:  2025-03-20 22:01:27.061367989+00:00\n",
      "Gap 578790 start time:  2025-03-20 22:01:27.061367989+00:00\n",
      "Gap 578790 end time:  2025-03-20 22:01:30.143058062+00:00\n",
      "Gap 578808 start time:  2025-03-20 22:01:30.281250954+00:00\n",
      "Gap 578808 end time:  2025-03-20 22:01:31.081108093+00:00\n",
      "Gap 580957 start time:  2025-03-20 22:01:39.872884035+00:00\n",
      "Gap 580957 end time:  2025-03-20 22:01:40.780877113+00:00\n"
     ]
    },
    {
     "name": "stderr",
     "output_type": "stream",
     "text": [
      "Processing rows:  14%|█▎        | 1075379/7931250 [00:09<00:52, 131669.78it/s]"
     ]
    },
    {
     "name": "stdout",
     "output_type": "stream",
     "text": [
      "Gap 1053301 start time:  2025-03-20 22:33:06.818521023+00:00\n",
      "Gap 1053301 end time:  2025-03-20 22:33:07.838494062+00:00\n"
     ]
    },
    {
     "name": "stderr",
     "output_type": "stream",
     "text": [
      "Processing rows:  16%|█▌        | 1274363/7931250 [00:10<01:04, 103257.10it/s]"
     ]
    },
    {
     "name": "stdout",
     "output_type": "stream",
     "text": [
      "Gap 1259671 start time:  2025-03-20 22:46:51.836566925+00:00\n",
      "Gap 1259671 end time:  2025-03-20 22:46:52.856838942+00:00\n"
     ]
    },
    {
     "name": "stderr",
     "output_type": "stream",
     "text": [
      "Processing rows:  28%|██▊       | 2248770/7931250 [00:19<01:30, 62627.08it/s] "
     ]
    },
    {
     "name": "stdout",
     "output_type": "stream",
     "text": [
      "Gap 2246593 start time:  2025-03-20 23:52:33.657413960+00:00\n",
      "Gap 2246593 end time:  2025-03-20 23:52:34.564877987+00:00\n",
      "Gap 2246663 start time:  2025-03-20 23:52:34.993335962+00:00\n",
      "Gap 2246663 end time:  2025-03-20 23:52:35.911988974+00:00\n",
      "Gap 2246718 start time:  2025-03-20 23:52:36.247479916+00:00\n",
      "Gap 2246718 end time:  2025-03-20 23:52:37.103400946+00:00\n",
      "Gap 2246732 start time:  2025-03-20 23:52:37.475651026+00:00\n",
      "Gap 2246732 end time:  2025-03-20 23:53:29.751147985+00:00\n",
      "Gap 2246733 start time:  2025-03-20 23:53:29.751147985+00:00\n",
      "Gap 2246733 end time:  2025-03-20 23:53:34.398108006+00:00\n",
      "Gap 2247507 start time:  2025-03-20 23:53:37.626188993+00:00\n",
      "Gap 2247507 end time:  2025-03-20 23:53:38.498730898+00:00\n"
     ]
    },
    {
     "name": "stderr",
     "output_type": "stream",
     "text": [
      "Processing rows:  40%|████      | 3207506/7931250 [00:27<00:42, 110833.19it/s]"
     ]
    },
    {
     "name": "stdout",
     "output_type": "stream",
     "text": [
      "Gap 3188748 start time:  2025-03-21 00:56:16.739051104+00:00\n",
      "Gap 3188748 end time:  2025-03-21 00:56:17.760585070+00:00\n"
     ]
    },
    {
     "name": "stderr",
     "output_type": "stream",
     "text": [
      "Processing rows:  55%|█████▌    | 4389133/7931250 [00:37<00:28, 124583.90it/s]"
     ]
    },
    {
     "name": "stdout",
     "output_type": "stream",
     "text": [
      "Gap 4376416 start time:  2025-03-21 02:15:20.257642031+00:00\n",
      "Gap 4376416 end time:  2025-03-21 02:15:21.202254057+00:00\n",
      "Gap 4382297 start time:  2025-03-21 02:15:44.751677036+00:00\n",
      "Gap 4382297 end time:  2025-03-21 02:15:45.747037888+00:00\n"
     ]
    },
    {
     "name": "stderr",
     "output_type": "stream",
     "text": [
      "Processing rows:  67%|██████▋   | 5350325/7931250 [00:45<00:23, 110076.12it/s]"
     ]
    },
    {
     "name": "stdout",
     "output_type": "stream",
     "text": [
      "Gap 5339187 start time:  2025-03-21 03:19:26.667718887+00:00\n",
      "Gap 5339187 end time:  2025-03-21 03:19:27.720694065+00:00\n"
     ]
    },
    {
     "name": "stderr",
     "output_type": "stream",
     "text": [
      "Processing rows:  81%|████████  | 6428309/7931250 [00:54<00:14, 106352.64it/s]"
     ]
    },
    {
     "name": "stdout",
     "output_type": "stream",
     "text": [
      "Gap 6414472 start time:  2025-03-21 04:31:01.626135111+00:00\n",
      "Gap 6414472 end time:  2025-03-21 04:31:02.645756960+00:00\n"
     ]
    },
    {
     "name": "stderr",
     "output_type": "stream",
     "text": [
      "Processing rows:  95%|█████████▍| 7504832/7931250 [01:04<00:04, 97346.44it/s] "
     ]
    },
    {
     "name": "stdout",
     "output_type": "stream",
     "text": [
      "Gap 7489734 start time:  2025-03-21 05:42:36.550658941+00:00\n",
      "Gap 7489734 end time:  2025-03-21 05:42:37.632085085+00:00\n"
     ]
    },
    {
     "name": "stderr",
     "output_type": "stream",
     "text": [
      "Processing rows:  99%|█████████▉| 7854878/7931250 [01:07<00:00, 111714.11it/s]"
     ]
    },
    {
     "name": "stdout",
     "output_type": "stream",
     "text": [
      "Gap 7860464 start time:  2025-03-21 06:07:18.242873907+00:00\n",
      "Gap 7860464 end time:  2025-03-21 06:08:24.651217937+00:00\n",
      "Gap 7860465 start time:  2025-03-21 06:08:24.651217937+00:00\n",
      "Gap 7860465 end time:  2025-03-21 06:08:28.663851023+00:00\n"
     ]
    },
    {
     "name": "stderr",
     "output_type": "stream",
     "text": [
      "Processing rows: 100%|█████████▉| 7892001/7931250 [01:08<00:00, 91243.28it/s] "
     ]
    },
    {
     "name": "stdout",
     "output_type": "stream",
     "text": [
      "Gap 7860466 start time:  2025-03-21 06:08:28.663851023+00:00\n",
      "Gap 7860466 end time:  2025-03-21 06:08:29.551333904+00:00\n"
     ]
    },
    {
     "name": "stderr",
     "output_type": "stream",
     "text": [
      "Processing rows: 100%|██████████| 7931250/7931250 [01:08<00:00, 115311.95it/s]\n",
      "c:\\dev\\Brainwave-Processor\\convert.py:152: FutureWarning: Setting an item of incompatible dtype is deprecated and will raise an error in a future version of pandas. Value '' has dtype incompatible with float64, please explicitly cast to a compatible dtype first.\n",
      "  copied.fillna('', inplace=True)\n"
     ]
    },
    {
     "name": "stdout",
     "output_type": "stream",
     "text": [
      "Initial timestamp: 2025-03-20 21:22:08.886214972+00:00 from 1742505728.886215\n",
      "Creating RawArray with float64 data, n_channels=1, n_times=7979204\n",
      "    Range : 0 ... 7979203 =      0.000 ... 31863.810 secs\n",
      "Ready.\n",
      "Info <Info | 7 non-empty values\n",
      " bads: []\n",
      " ch_names: Fpz-M1\n",
      " chs: 1 EEG\n",
      " custom_ref_applied: False\n",
      " highpass: 0.0 Hz\n",
      " lowpass: 125.2 Hz\n",
      " meas_date: 2025-03-20 21:22:08 UTC\n",
      " nchan: 1\n",
      " projs: []\n",
      " sfreq: 250.4 Hz\n",
      ">\n",
      "Memory Usage: 2683.81 MB GC to 2683.81 MB\n",
      "Saving to C:\\dev\\play\\brainwave-data\\2025-03-20\\raw.250.41.fif\n",
      "Writing C:\\dev\\play\\brainwave-data\\2025-03-20\\raw.250.41.fif\n"
     ]
    },
    {
     "name": "stderr",
     "output_type": "stream",
     "text": [
      "c:\\dev\\Brainwave-Processor\\convert.py:211: RuntimeWarning: This filename (C:\\dev\\play\\brainwave-data\\2025-03-20\\raw.250.41.fif) does not conform to MNE naming conventions. All raw files should end with raw.fif, raw_sss.fif, raw_tsss.fif, _meg.fif, _eeg.fif, _ieeg.fif, raw.fif.gz, raw_sss.fif.gz, raw_tsss.fif.gz, _meg.fif.gz, _eeg.fif.gz or _ieeg.fif.gz\n",
      "  log(f\"Saving to {output_file}\")\n"
     ]
    },
    {
     "name": "stdout",
     "output_type": "stream",
     "text": [
      "Closing C:\\dev\\play\\brainwave-data\\2025-03-20\\raw.250.41.fif\n",
      "[done]\n",
      "Memory Usage: 501.29 MB GC to 501.29 MB\n",
      "Reading Brainflow file C:\\dev\\play\\brainwave-data\\2025-03-20-21-22-08.brainflow.csv\n",
      "Finished reading Brainflow file\n",
      "Memory Usage: 1954.54 MB GC to 1954.54 MB\n",
      "EEG channels: [1, 2, 3, 4, 5, 6, 7, 8]\n"
     ]
    },
    {
     "name": "stderr",
     "output_type": "stream",
     "text": [
      "c:\\dev\\Brainwave-Processor\\convert.py:182: SettingWithCopyWarning: \n",
      "A value is trying to be set on a copy of a slice from a DataFrame.\n",
      "Try using .loc[row_indexer,col_indexer] = value instead\n",
      "\n",
      "See the caveats in the documentation: https://pandas.pydata.org/pandas-docs/stable/user_guide/indexing.html#returning-a-view-versus-a-copy\n",
      "  idx_and_eeg_channels_and_timestamp['datetime'] = pd.to_datetime(idx_and_eeg_channels_and_timestamp['timestamp'],unit=\"s\").dt.tz_localize('UTC')\n",
      "Processing rows: 100%|██████████| 7936687/7936687 [00:06<00:00, 1276325.02it/s]\n"
     ]
    },
    {
     "name": "stdout",
     "output_type": "stream",
     "text": [
      "Gaps:  datetime\n",
      "False    7931224\n",
      "True          27\n",
      "Name: count, dtype: int64\n"
     ]
    },
    {
     "name": "stderr",
     "output_type": "stream",
     "text": [
      "Processing rows:   1%|          | 49666/7931250 [00:00<01:12, 108896.51it/s]"
     ]
    },
    {
     "name": "stdout",
     "output_type": "stream",
     "text": [
      "Gap 36394 start time:  2025-03-20 21:24:34.284627914+00:00\n",
      "Gap 36394 end time:  2025-03-20 21:24:35.209925890+00:00\n",
      "Gap 36883 start time:  2025-03-20 21:24:37.253129959+00:00\n",
      "Gap 36883 end time:  2025-03-20 21:24:38.136048079+00:00\n"
     ]
    },
    {
     "name": "stderr",
     "output_type": "stream",
     "text": [
      "Processing rows:   7%|▋         | 580326/7931250 [00:05<01:29, 82501.99it/s] "
     ]
    },
    {
     "name": "stdout",
     "output_type": "stream",
     "text": [
      "Gap 578640 start time:  2025-03-20 22:00:41.503294945+00:00\n",
      "Gap 578640 end time:  2025-03-20 22:00:43.636815071+00:00\n",
      "Gap 578642 start time:  2025-03-20 22:00:43.636892080+00:00\n",
      "Gap 578642 end time:  2025-03-20 22:00:44.421345949+00:00\n",
      "Gap 578644 start time:  2025-03-20 22:00:44.443382025+00:00\n",
      "Gap 578644 end time:  2025-03-20 22:00:47.545509100+00:00\n",
      "Gap 578788 start time:  2025-03-20 22:00:48.183696032+00:00\n",
      "Gap 578788 end time:  2025-03-20 22:01:26.058260918+00:00\n",
      "Gap 578789 start time:  2025-03-20 22:01:26.058260918+00:00\n",
      "Gap 578789 end time:  2025-03-20 22:01:27.061367989+00:00\n",
      "Gap 578790 start time:  2025-03-20 22:01:27.061367989+00:00\n",
      "Gap 578790 end time:  2025-03-20 22:01:30.143058062+00:00\n",
      "Gap 578808 start time:  2025-03-20 22:01:30.281250954+00:00\n",
      "Gap 578808 end time:  2025-03-20 22:01:31.081108093+00:00\n",
      "Gap 580957 start time:  2025-03-20 22:01:39.872884035+00:00\n",
      "Gap 580957 end time:  2025-03-20 22:01:40.780877113+00:00\n"
     ]
    },
    {
     "name": "stderr",
     "output_type": "stream",
     "text": [
      "Processing rows:  14%|█▎        | 1071582/7931250 [00:09<01:04, 106214.75it/s]"
     ]
    },
    {
     "name": "stdout",
     "output_type": "stream",
     "text": [
      "Gap 1053301 start time:  2025-03-20 22:33:06.818521023+00:00\n",
      "Gap 1053301 end time:  2025-03-20 22:33:07.838494062+00:00\n"
     ]
    },
    {
     "name": "stderr",
     "output_type": "stream",
     "text": [
      "Processing rows:  16%|█▌        | 1275945/7931250 [00:11<01:01, 109011.29it/s]"
     ]
    },
    {
     "name": "stdout",
     "output_type": "stream",
     "text": [
      "Gap 1259671 start time:  2025-03-20 22:46:51.836566925+00:00\n",
      "Gap 1259671 end time:  2025-03-20 22:46:52.856838942+00:00\n"
     ]
    },
    {
     "name": "stderr",
     "output_type": "stream",
     "text": [
      "Processing rows:  28%|██▊       | 2254492/7931250 [00:19<01:11, 79426.54it/s] "
     ]
    },
    {
     "name": "stdout",
     "output_type": "stream",
     "text": [
      "Gap 2246593 start time:  2025-03-20 23:52:33.657413960+00:00\n",
      "Gap 2246593 end time:  2025-03-20 23:52:34.564877987+00:00\n",
      "Gap 2246663 start time:  2025-03-20 23:52:34.993335962+00:00\n",
      "Gap 2246663 end time:  2025-03-20 23:52:35.911988974+00:00\n",
      "Gap 2246718 start time:  2025-03-20 23:52:36.247479916+00:00\n",
      "Gap 2246718 end time:  2025-03-20 23:52:37.103400946+00:00\n",
      "Gap 2246732 start time:  2025-03-20 23:52:37.475651026+00:00\n",
      "Gap 2246732 end time:  2025-03-20 23:53:29.751147985+00:00\n",
      "Gap 2246733 start time:  2025-03-20 23:53:29.751147985+00:00\n",
      "Gap 2246733 end time:  2025-03-20 23:53:34.398108006+00:00\n",
      "Gap 2247507 start time:  2025-03-20 23:53:37.626188993+00:00\n",
      "Gap 2247507 end time:  2025-03-20 23:53:38.498730898+00:00\n"
     ]
    },
    {
     "name": "stderr",
     "output_type": "stream",
     "text": [
      "Processing rows:  40%|████      | 3206297/7931250 [00:27<00:46, 101489.80it/s]"
     ]
    },
    {
     "name": "stdout",
     "output_type": "stream",
     "text": [
      "Gap 3188748 start time:  2025-03-21 00:56:16.739051104+00:00\n",
      "Gap 3188748 end time:  2025-03-21 00:56:17.760585070+00:00\n"
     ]
    },
    {
     "name": "stderr",
     "output_type": "stream",
     "text": [
      "Processing rows:  55%|█████▌    | 4389072/7931250 [00:38<00:33, 104511.65it/s]"
     ]
    },
    {
     "name": "stdout",
     "output_type": "stream",
     "text": [
      "Gap 4376416 start time:  2025-03-21 02:15:20.257642031+00:00\n",
      "Gap 4376416 end time:  2025-03-21 02:15:21.202254057+00:00\n",
      "Gap 4382297 start time:  2025-03-21 02:15:44.751677036+00:00\n",
      "Gap 4382297 end time:  2025-03-21 02:15:45.747037888+00:00\n"
     ]
    },
    {
     "name": "stderr",
     "output_type": "stream",
     "text": [
      "Processing rows:  68%|██████▊   | 5360080/7931250 [00:46<00:22, 112614.21it/s]"
     ]
    },
    {
     "name": "stdout",
     "output_type": "stream",
     "text": [
      "Gap 5339187 start time:  2025-03-21 03:19:26.667718887+00:00\n",
      "Gap 5339187 end time:  2025-03-21 03:19:27.720694065+00:00\n"
     ]
    },
    {
     "name": "stderr",
     "output_type": "stream",
     "text": [
      "Processing rows:  81%|████████  | 6427465/7931250 [00:56<00:14, 103854.56it/s]"
     ]
    },
    {
     "name": "stdout",
     "output_type": "stream",
     "text": [
      "Gap 6414472 start time:  2025-03-21 04:31:01.626135111+00:00\n",
      "Gap 6414472 end time:  2025-03-21 04:31:02.645756960+00:00\n"
     ]
    },
    {
     "name": "stderr",
     "output_type": "stream",
     "text": [
      "Processing rows:  95%|█████████▍| 7506171/7931250 [01:05<00:03, 136908.59it/s]"
     ]
    },
    {
     "name": "stdout",
     "output_type": "stream",
     "text": [
      "Gap 7489734 start time:  2025-03-21 05:42:36.550658941+00:00\n",
      "Gap 7489734 end time:  2025-03-21 05:42:37.632085085+00:00\n"
     ]
    },
    {
     "name": "stderr",
     "output_type": "stream",
     "text": [
      "Processing rows:  99%|█████████▉| 7858851/7931250 [01:08<00:00, 123917.21it/s]"
     ]
    },
    {
     "name": "stdout",
     "output_type": "stream",
     "text": [
      "Gap 7860464 start time:  2025-03-21 06:07:18.242873907+00:00\n",
      "Gap 7860464 end time:  2025-03-21 06:08:24.651217937+00:00\n"
     ]
    },
    {
     "name": "stderr",
     "output_type": "stream",
     "text": [
      "Processing rows:  99%|█████████▉| 7871400/7931250 [01:08<00:00, 61394.32it/s] "
     ]
    },
    {
     "name": "stdout",
     "output_type": "stream",
     "text": [
      "Gap 7860465 start time:  2025-03-21 06:08:24.651217937+00:00\n",
      "Gap 7860465 end time:  2025-03-21 06:08:28.663851023+00:00\n",
      "Gap 7860466 start time:  2025-03-21 06:08:28.663851023+00:00\n",
      "Gap 7860466 end time:  2025-03-21 06:08:29.551333904+00:00\n"
     ]
    },
    {
     "name": "stderr",
     "output_type": "stream",
     "text": [
      "Processing rows: 100%|██████████| 7931250/7931250 [01:09<00:00, 114813.67it/s]\n",
      "c:\\dev\\Brainwave-Processor\\convert.py:152: FutureWarning: Setting an item of incompatible dtype is deprecated and will raise an error in a future version of pandas. Value '' has dtype incompatible with float64, please explicitly cast to a compatible dtype first.\n",
      "  copied.fillna('', inplace=True)\n"
     ]
    },
    {
     "name": "stdout",
     "output_type": "stream",
     "text": [
      "Initial timestamp: 2025-03-20 21:22:08.886214972+00:00 from 1742505728.886215\n",
      "Creating RawArray with float64 data, n_channels=1, n_times=7979122\n",
      "    Range : 0 ... 7979121 =      0.000 ... 31916.484 secs\n",
      "Ready.\n",
      "Info <Info | 7 non-empty values\n",
      " bads: []\n",
      " ch_names: Fpz-M1\n",
      " chs: 1 EEG\n",
      " custom_ref_applied: False\n",
      " highpass: 0.0 Hz\n",
      " lowpass: 125.0 Hz\n",
      " meas_date: 2025-03-20 21:22:08 UTC\n",
      " nchan: 1\n",
      " projs: []\n",
      " sfreq: 250.0 Hz\n",
      ">\n",
      "Memory Usage: 2673.93 MB GC to 2673.93 MB\n",
      "Saving to C:\\dev\\play\\brainwave-data\\2025-03-20\\raw.250.fif\n",
      "Writing C:\\dev\\play\\brainwave-data\\2025-03-20\\raw.250.fif\n"
     ]
    },
    {
     "name": "stderr",
     "output_type": "stream",
     "text": [
      "c:\\dev\\Brainwave-Processor\\convert.py:211: RuntimeWarning: This filename (C:\\dev\\play\\brainwave-data\\2025-03-20\\raw.250.fif) does not conform to MNE naming conventions. All raw files should end with raw.fif, raw_sss.fif, raw_tsss.fif, _meg.fif, _eeg.fif, _ieeg.fif, raw.fif.gz, raw_sss.fif.gz, raw_tsss.fif.gz, _meg.fif.gz, _eeg.fif.gz or _ieeg.fif.gz\n",
      "  log(f\"Saving to {output_file}\")\n"
     ]
    },
    {
     "name": "stdout",
     "output_type": "stream",
     "text": [
      "Closing C:\\dev\\play\\brainwave-data\\2025-03-20\\raw.250.fif\n",
      "[done]\n"
     ]
    },
    {
     "data": {
      "text/html": [
       "<script type=\"text/javascript\">\n",
       "    // must be `var` (not `const`) because this can get embedded multiple times on a page\n",
       "var toggleVisibility = (className) => {\n",
       "\n",
       "    const elements = document.querySelectorAll(`.${className}`);\n",
       "\n",
       "    elements.forEach(element => {\n",
       "        if (element.classList.contains(\"mne-repr-section-header\")) {\n",
       "            return  // Don't collapse the section header row\n",
       "        }\n",
       "        element.classList.toggle(\"mne-repr-collapsed\");\n",
       "    });\n",
       "\n",
       "    // trigger caret to rotate\n",
       "    var sel = `.mne-repr-section-header.${className} > th.mne-repr-section-toggle > button`;\n",
       "    const button = document.querySelector(sel);\n",
       "    button.classList.toggle(\"collapsed\");\n",
       "\n",
       "    // adjust tooltip\n",
       "    sel = `tr.mne-repr-section-header.${className}`;\n",
       "    const secHeadRow = document.querySelector(sel);\n",
       "    secHeadRow.classList.toggle(\"collapsed\");\n",
       "    secHeadRow.title = secHeadRow.title === \"Hide section\" ? \"Show section\" : \"Hide section\";\n",
       "}\n",
       "</script>\n",
       "\n",
       "<style type=\"text/css\">\n",
       "    /*\n",
       "Styles in this section apply both to the sphinx-built website docs and to notebooks\n",
       "rendered in an IDE or in Jupyter. In our web docs, styles here are complemented by\n",
       "doc/_static/styles.css and other CSS files (e.g. from the sphinx theme, sphinx-gallery,\n",
       "or bootstrap). In IDEs/Jupyter, those style files are unavailable, so only the rules in\n",
       "this file apply (plus whatever default styling the IDE applies).\n",
       "*/\n",
       ".mne-repr-table {\n",
       "    display: inline;  /* prevent using full container width */\n",
       "}\n",
       ".mne-repr-table tr.mne-repr-section-header > th {\n",
       "    padding-top: 1rem;\n",
       "    text-align: left;\n",
       "    vertical-align: middle;\n",
       "}\n",
       ".mne-repr-section-toggle > button {\n",
       "    all: unset;\n",
       "    display: block;\n",
       "    height: 1rem;\n",
       "    width: 1rem;\n",
       "}\n",
       ".mne-repr-section-toggle > button > svg {\n",
       "    height: 60%;\n",
       "}\n",
       "\n",
       "/* transition (rotation) effects on the collapser button */\n",
       ".mne-repr-section-toggle > button.collapsed > svg {\n",
       "    transition: 0.1s ease-out;\n",
       "    transform: rotate(-90deg);\n",
       "}\n",
       ".mne-repr-section-toggle > button:not(.collapsed) > svg {\n",
       "    transition: 0.1s ease-out;\n",
       "    transform: rotate(0deg);\n",
       "}\n",
       "\n",
       "/* hide collapsed table rows */\n",
       ".mne-repr-collapsed {\n",
       "    display: none;\n",
       "}\n",
       "\n",
       "\n",
       "@layer {\n",
       "    /*\n",
       "    Selectors in a `@layer` will always be lower-precedence than selectors outside the\n",
       "    layer. So even though e.g. `div.output_html` is present in the sphinx-rendered\n",
       "    website docs, the styles here won't take effect there as long as some other rule\n",
       "    somewhere in the page's CSS targets the same element.\n",
       "\n",
       "    In IDEs or Jupyter notebooks, though, the CSS files from the sphinx theme,\n",
       "    sphinx-gallery, and bootstrap are unavailable, so these styles will apply.\n",
       "\n",
       "    Notes:\n",
       "\n",
       "    - the selector `.accordion-body` is for MNE Reports\n",
       "    - the selector `.output_html` is for VSCode's notebook interface\n",
       "    - the selector `.jp-RenderedHTML` is for Jupyter notebook\n",
       "    - variables starting with `--theme-` are VSCode-specific.\n",
       "    - variables starting with `--jp-` are Jupyter styles, *some of which* are also\n",
       "      available in VSCode. Here we try the `--theme-` variable first, then fall back to\n",
       "      the `--jp-` ones.\n",
       "    */\n",
       "    .mne-repr-table {\n",
       "        --mne-toggle-color: var(--theme-foreground, var(--jp-ui-font-color1));\n",
       "        --mne-button-bg-color: var(--theme-button-background, var(--jp-info-color0, var(--jp-content-link-color)));\n",
       "        --mne-button-fg-color: var(--theme-button-foreground, var(--jp-ui-inverse-font-color0, var(--jp-editor-background)));\n",
       "        --mne-button-hover-bg-color: var(--theme-button-hover-background, var(--jp-info-color1));\n",
       "        --mne-button-radius: var(--jp-border-radius, 0.25rem);\n",
       "    }\n",
       "    /* chevron position/alignment; in VSCode it looks ok without adjusting */\n",
       "    .accordion-body .mne-repr-section-toggle > button,\n",
       "    .jp-RenderedHTML .mne-repr-section-toggle > button {\n",
       "        padding: 0 0 45% 25% !important;\n",
       "    }\n",
       "    /* chevron color; MNE Report doesn't have light/dark mode */\n",
       "    div.output_html .mne-repr-section-toggle > button > svg > path,\n",
       "    .jp-RenderedHTML .mne-repr-section-toggle > button > svg > path {\n",
       "        fill: var(--mne-toggle-color);\n",
       "    }\n",
       "    .accordion-body .mne-ch-names-btn,\n",
       "    div.output_html .mne-ch-names-btn,\n",
       "    .jp-RenderedHTML .mne-ch-names-btn {\n",
       "        -webkit-border-radius: var(--mne-button-radius);\n",
       "        -moz-border-radius: var(--mne-button-radius);\n",
       "        border-radius: var(--mne-button-radius);\n",
       "        border: none;\n",
       "        background-image: none;\n",
       "        background-color: var(--mne-button-bg-color);\n",
       "        color: var(--mne-button-fg-color);\n",
       "        font-size: inherit;\n",
       "        min-width: 1.5rem;\n",
       "        padding: 0.25rem;\n",
       "        text-align: center;\n",
       "        text-decoration: none;\n",
       "    }\n",
       "    .accordion-body .mne-ch-names-btn:hover,\n",
       "    div.output_html .mne.ch-names-btn:hover,\n",
       "    .jp-RenderedHTML .mne-ch-names-btn:hover {\n",
       "        background-color: var(--mne-button-hover-bg-color);\n",
       "        text-decoration: underline;\n",
       "    }\n",
       "    .accordion-body .mne-ch-names-btn:focus-visible,\n",
       "    div.output_html .mne-ch-names-btn:focus-visible,\n",
       "    .jp-RenderedHTML .mne-ch-names-btn:focus-visible {\n",
       "        outline: 0.1875rem solid var(--mne-button-bg-color) !important;\n",
       "        outline-offset: 0.1875rem !important;\n",
       "    }\n",
       "}\n",
       "</style>\n",
       "\n",
       "\n",
       "\n",
       "<table class=\"table mne-repr-table\">\n",
       "    \n",
       "\n",
       "\n",
       "\n",
       "\n",
       "\n",
       "\n",
       "\n",
       "<tr class=\"mne-repr-section-header general-c4d6d4a0-141f-4f8b-8fe9-7199d36801d4\"\n",
       "     title=\"Hide section\" \n",
       "    onclick=\"toggleVisibility('general-c4d6d4a0-141f-4f8b-8fe9-7199d36801d4')\">\n",
       "    <th class=\"mne-repr-section-toggle\">\n",
       "        <button >\n",
       "            <svg xmlns=\"http://www.w3.org/2000/svg\" viewBox=\"0 0 512 512\"><!--!Font Awesome Free 6.6.0 by @fontawesome - https://fontawesome.com License - https://fontawesome.com/license/free Copyright 2024 Fonticons, Inc.--><path d=\"M233.4 406.6c12.5 12.5 32.8 12.5 45.3 0l192-192c12.5-12.5 12.5-32.8 0-45.3s-32.8-12.5-45.3 0L256 338.7 86.6 169.4c-12.5-12.5-32.8-12.5-45.3 0s-12.5 32.8 0 45.3l192 192z\"/></svg>\n",
       "        </button>\n",
       "    </th>\n",
       "    <th colspan=\"2\">\n",
       "        <strong>General</strong>\n",
       "    </th>\n",
       "</tr>\n",
       "\n",
       "\n",
       "<tr class=\"repr-element general-c4d6d4a0-141f-4f8b-8fe9-7199d36801d4 \">\n",
       "    <td class=\"mne-repr-section-toggle\"></td>\n",
       "    <td>MNE object type</td>\n",
       "    <td>RawArray</td>\n",
       "</tr>\n",
       "<tr class=\"repr-element general-c4d6d4a0-141f-4f8b-8fe9-7199d36801d4 \">\n",
       "    <td class=\"mne-repr-section-toggle\"></td>\n",
       "    <td>Measurement date</td>\n",
       "    \n",
       "    <td>2025-03-20 at 21:22:08 UTC</td>\n",
       "    \n",
       "</tr>\n",
       "<tr class=\"repr-element general-c4d6d4a0-141f-4f8b-8fe9-7199d36801d4 \">\n",
       "    <td class=\"mne-repr-section-toggle\"></td>\n",
       "    <td>Participant</td>\n",
       "    \n",
       "    <td>Unknown</td>\n",
       "    \n",
       "</tr>\n",
       "<tr class=\"repr-element general-c4d6d4a0-141f-4f8b-8fe9-7199d36801d4 \">\n",
       "    <td class=\"mne-repr-section-toggle\"></td>\n",
       "    <td>Experimenter</td>\n",
       "    \n",
       "    <td>Unknown</td>\n",
       "    \n",
       "</tr>\n",
       "    \n",
       "\n",
       "\n",
       "\n",
       "\n",
       "\n",
       "\n",
       "\n",
       "<tr class=\"mne-repr-section-header acquisition-271d7d00-e25a-4012-93e8-cd48877e0fc4\"\n",
       "     title=\"Hide section\" \n",
       "    onclick=\"toggleVisibility('acquisition-271d7d00-e25a-4012-93e8-cd48877e0fc4')\">\n",
       "    <th class=\"mne-repr-section-toggle\">\n",
       "        <button >\n",
       "            <svg xmlns=\"http://www.w3.org/2000/svg\" viewBox=\"0 0 512 512\"><!--!Font Awesome Free 6.6.0 by @fontawesome - https://fontawesome.com License - https://fontawesome.com/license/free Copyright 2024 Fonticons, Inc.--><path d=\"M233.4 406.6c12.5 12.5 32.8 12.5 45.3 0l192-192c12.5-12.5 12.5-32.8 0-45.3s-32.8-12.5-45.3 0L256 338.7 86.6 169.4c-12.5-12.5-32.8-12.5-45.3 0s-12.5 32.8 0 45.3l192 192z\"/></svg>\n",
       "        </button>\n",
       "    </th>\n",
       "    <th colspan=\"2\">\n",
       "        <strong>Acquisition</strong>\n",
       "    </th>\n",
       "</tr>\n",
       "\n",
       "\n",
       "<tr class=\"repr-element acquisition-271d7d00-e25a-4012-93e8-cd48877e0fc4 \">\n",
       "    <td class=\"mne-repr-section-toggle\"></td>\n",
       "    <td>Duration</td>\n",
       "    <td>08:51:57 (HH:MM:SS)</td>\n",
       "</tr>\n",
       "\n",
       "\n",
       "\n",
       "\n",
       "\n",
       "\n",
       "\n",
       "\n",
       "<tr class=\"repr-element acquisition-271d7d00-e25a-4012-93e8-cd48877e0fc4 \">\n",
       "    <td class=\"mne-repr-section-toggle\"></td>\n",
       "    <td>Sampling frequency</td>\n",
       "    <td>250.00 Hz</td>\n",
       "</tr>\n",
       "\n",
       "\n",
       "<tr class=\"repr-element acquisition-271d7d00-e25a-4012-93e8-cd48877e0fc4 \">\n",
       "    <td class=\"mne-repr-section-toggle\"></td>\n",
       "    <td>Time points</td>\n",
       "    <td>7,979,122</td>\n",
       "</tr>\n",
       "\n",
       "\n",
       "    \n",
       "\n",
       "\n",
       "\n",
       "\n",
       "\n",
       "\n",
       "\n",
       "<tr class=\"mne-repr-section-header channels-8d7a71f6-2d35-4bb3-9f4b-bb25a8f54a00\"\n",
       "     title=\"Hide section\" \n",
       "    onclick=\"toggleVisibility('channels-8d7a71f6-2d35-4bb3-9f4b-bb25a8f54a00')\">\n",
       "    <th class=\"mne-repr-section-toggle\">\n",
       "        <button >\n",
       "            <svg xmlns=\"http://www.w3.org/2000/svg\" viewBox=\"0 0 512 512\"><!--!Font Awesome Free 6.6.0 by @fontawesome - https://fontawesome.com License - https://fontawesome.com/license/free Copyright 2024 Fonticons, Inc.--><path d=\"M233.4 406.6c12.5 12.5 32.8 12.5 45.3 0l192-192c12.5-12.5 12.5-32.8 0-45.3s-32.8-12.5-45.3 0L256 338.7 86.6 169.4c-12.5-12.5-32.8-12.5-45.3 0s-12.5 32.8 0 45.3l192 192z\"/></svg>\n",
       "        </button>\n",
       "    </th>\n",
       "    <th colspan=\"2\">\n",
       "        <strong>Channels</strong>\n",
       "    </th>\n",
       "</tr>\n",
       "\n",
       "\n",
       "    \n",
       "<tr class=\"repr-element channels-8d7a71f6-2d35-4bb3-9f4b-bb25a8f54a00 \">\n",
       "    <td class=\"mne-repr-section-toggle\"></td>\n",
       "    <td>EEG</td>\n",
       "    <td>\n",
       "        <button class=\"mne-ch-names-btn sd-sphinx-override sd-btn sd-btn-info sd-text-wrap sd-shadow-sm\" onclick=\"alert('Good EEG:\\n\\nFpz-M1')\" title=\"(Click to open in popup)&#13;&#13;Fpz-M1\">\n",
       "            1\n",
       "        </button>\n",
       "\n",
       "        \n",
       "    </td>\n",
       "</tr>\n",
       "\n",
       "\n",
       "<tr class=\"repr-element channels-8d7a71f6-2d35-4bb3-9f4b-bb25a8f54a00 \">\n",
       "    <td class=\"mne-repr-section-toggle\"></td>\n",
       "    <td>Head & sensor digitization</td>\n",
       "    \n",
       "    <td>Not available</td>\n",
       "    \n",
       "</tr>\n",
       "    \n",
       "\n",
       "\n",
       "\n",
       "\n",
       "\n",
       "\n",
       "\n",
       "<tr class=\"mne-repr-section-header filters-e99f8fad-c665-46e8-bf51-f65cf9f65e94\"\n",
       "     title=\"Hide section\" \n",
       "    onclick=\"toggleVisibility('filters-e99f8fad-c665-46e8-bf51-f65cf9f65e94')\">\n",
       "    <th class=\"mne-repr-section-toggle\">\n",
       "        <button >\n",
       "            <svg xmlns=\"http://www.w3.org/2000/svg\" viewBox=\"0 0 512 512\"><!--!Font Awesome Free 6.6.0 by @fontawesome - https://fontawesome.com License - https://fontawesome.com/license/free Copyright 2024 Fonticons, Inc.--><path d=\"M233.4 406.6c12.5 12.5 32.8 12.5 45.3 0l192-192c12.5-12.5 12.5-32.8 0-45.3s-32.8-12.5-45.3 0L256 338.7 86.6 169.4c-12.5-12.5-32.8-12.5-45.3 0s-12.5 32.8 0 45.3l192 192z\"/></svg>\n",
       "        </button>\n",
       "    </th>\n",
       "    <th colspan=\"2\">\n",
       "        <strong>Filters</strong>\n",
       "    </th>\n",
       "</tr>\n",
       "\n",
       "\n",
       "<tr class=\"repr-element filters-e99f8fad-c665-46e8-bf51-f65cf9f65e94 \">\n",
       "    <td class=\"mne-repr-section-toggle\"></td>\n",
       "    <td>Highpass</td>\n",
       "    <td>0.00 Hz</td>\n",
       "</tr>\n",
       "\n",
       "\n",
       "<tr class=\"repr-element filters-e99f8fad-c665-46e8-bf51-f65cf9f65e94 \">\n",
       "    <td class=\"mne-repr-section-toggle\"></td>\n",
       "    <td>Lowpass</td>\n",
       "    <td>125.00 Hz</td>\n",
       "</tr>\n",
       "\n",
       "\n",
       "</table>"
      ],
      "text/plain": [
       "<RawArray | 1 x 7979122 (31916.5 s), ~60.9 MiB, data loaded>"
      ]
     },
     "execution_count": 27,
     "metadata": {},
     "output_type": "execute_result"
    }
   ],
   "source": [
    "import convert\n",
    "from importlib import reload\n",
    "reload(convert)\n",
    "\n",
    "full_input_filename = \"C:\\\\dev\\\\play\\\\brainwave-data\\\\2025-03-20-21-22-08.brainflow.csv\"\n",
    "channels = ['Fpz-M1']\n",
    "convert.convert_and_save_brainflow_file_with_gap_filling(print, full_input_filename, \"C:\\\\dev\\\\play\\\\brainwave-data\\\\2025-03-20\\\\raw.250.41.fif\", channels, 250.4158482144943)\n",
    "convert.convert_and_save_brainflow_file_with_gap_filling(print, full_input_filename, \"C:\\\\dev\\\\play\\\\brainwave-data\\\\2025-03-20\\\\raw.250.fif\", channels, 250)"
   ]
  },
  {
   "cell_type": "code",
   "execution_count": 31,
   "metadata": {},
   "outputs": [
    {
     "name": "stdout",
     "output_type": "stream",
     "text": [
      "Reading file C:\\dev\\play\\brainwave-data\\2025-03-20\\raw.250.41.fif\n",
      "Opening raw data file C:\\dev\\play\\brainwave-data\\2025-03-20\\raw.250.41.fif...\n",
      "Isotrak not found\n"
     ]
    },
    {
     "name": "stderr",
     "output_type": "stream",
     "text": [
      "c:\\dev\\Brainwave-Processor\\convert.py:262: RuntimeWarning: This filename (C:\\dev\\play\\brainwave-data\\2025-03-20\\raw.250.41.fif) does not conform to MNE naming conventions. All raw files should end with raw.fif, raw_sss.fif, raw_tsss.fif, _meg.fif, _eeg.fif, _ieeg.fif, raw.fif.gz, raw_sss.fif.gz, raw_tsss.fif.gz, _meg.fif.gz, _eeg.fif.gz or _ieeg.fif.gz\n",
      "  log(f\"Reading file {input_file}\")\n"
     ]
    },
    {
     "name": "stdout",
     "output_type": "stream",
     "text": [
      "    Range : 0 ... 7979203 =      0.000 ... 31863.810 secs\n",
      "Ready.\n",
      "Reading 0 ... 7979203  =      0.000 ... 31863.810 secs...\n",
      "Finished reading file C:\\dev\\play\\brainwave-data\\2025-03-20\\raw.250.41.fif\n",
      "file C:\\dev\\play\\brainwave-data\\2025-03-20-21-22-08\\raw.fif Start date: 2025-03-20 21:22:08.886214+00:00, End date: 2025-03-21 06:13:12.696236+00:00, Samples: 7979204\n"
     ]
    }
   ],
   "source": [
    "raw, _, mne_filtered = convert.load_mne_file(print, \"C:\\\\dev\\\\play\\\\brainwave-data\\\\2025-03-20\\\\raw.250.41.fif\")\n",
    "start_date = raw.info['meas_date']\n",
    "duration = timedelta(seconds=float(raw.times[-1]))\n",
    "samples = raw.get_data().shape[1]\n",
    "end_date = start_date + duration\n",
    "print(f\"file {input_file} Start date: {start_date}, End date: {end_date}, Samples: {samples}\")\n"
   ]
  },
  {
   "cell_type": "code",
   "execution_count": 29,
   "metadata": {},
   "outputs": [
    {
     "name": "stdout",
     "output_type": "stream",
     "text": [
      "Reading file C:\\dev\\play\\brainwave-data\\2025-03-20\\raw.250.fif\n",
      "Opening raw data file C:\\dev\\play\\brainwave-data\\2025-03-20\\raw.250.fif...\n",
      "Isotrak not found\n",
      "    Range : 0 ... 7979121 =      0.000 ... 31916.484 secs\n",
      "Ready.\n"
     ]
    },
    {
     "name": "stderr",
     "output_type": "stream",
     "text": [
      "c:\\dev\\Brainwave-Processor\\convert.py:262: RuntimeWarning: This filename (C:\\dev\\play\\brainwave-data\\2025-03-20\\raw.250.fif) does not conform to MNE naming conventions. All raw files should end with raw.fif, raw_sss.fif, raw_tsss.fif, _meg.fif, _eeg.fif, _ieeg.fif, raw.fif.gz, raw_sss.fif.gz, raw_tsss.fif.gz, _meg.fif.gz, _eeg.fif.gz or _ieeg.fif.gz\n",
      "  log(f\"Reading file {input_file}\")\n"
     ]
    },
    {
     "name": "stdout",
     "output_type": "stream",
     "text": [
      "Reading 0 ... 7979121  =      0.000 ... 31916.484 secs...\n",
      "Finished reading file C:\\dev\\play\\brainwave-data\\2025-03-20\\raw.250.fif\n",
      "file C:\\dev\\play\\brainwave-data\\2025-03-20-21-22-08\\raw.fif Start date: 2025-03-20 21:22:08.886214+00:00, End date: 2025-03-21 06:14:05.370214+00:00, Samples: 7979122\n"
     ]
    }
   ],
   "source": [
    "raw, _, _ = convert.load_mne_file(print, \"C:\\\\dev\\\\play\\\\brainwave-data\\\\2025-03-20\\\\raw.250.fif\")\n",
    "start_date = raw.info['meas_date']\n",
    "duration = timedelta(seconds=float(raw.times[-1]))\n",
    "samples = raw.get_data().shape[1]\n",
    "end_date = start_date + duration\n",
    "print(f\"file {input_file} Start date: {start_date}, End date: {end_date}, Samples: {samples}\")\n"
   ]
  },
  {
   "cell_type": "code",
   "execution_count": 34,
   "metadata": {},
   "outputs": [
    {
     "name": "stderr",
     "output_type": "stream",
     "text": [
      "C:\\Users\\graha\\AppData\\Local\\Temp\\ipykernel_14284\\2562855017.py:22: RuntimeWarning: Data has a non-integer sampling rate of 250.4158477783203; writing to EDF format may cause a small change to sample times.\n",
      "  mne.export.export_raw(\"C:\\\\dev\\\\play\\\\brainwave-data\\\\2025-03-20\\\\raw.250.41.edf\", raw_copy, overwrite=True)\n"
     ]
    },
    {
     "ename": "ValueError",
     "evalue": "Signal duration of 31863.802168624s is not exactly divisible by data_record_duration of 0.998339s",
     "output_type": "error",
     "traceback": [
      "\u001b[1;31m---------------------------------------------------------------------------\u001b[0m",
      "\u001b[1;31mValueError\u001b[0m                                Traceback (most recent call last)",
      "Cell \u001b[1;32mIn[34], line 22\u001b[0m\n\u001b[0;32m      4\u001b[0m raw_copy \u001b[38;5;241m=\u001b[39m mne_filtered\u001b[38;5;241m.\u001b[39mcopy()\n\u001b[0;32m      5\u001b[0m \u001b[38;5;66;03m# duration = raw.times[-1]\u001b[39;00m\n\u001b[0;32m      6\u001b[0m \n\u001b[0;32m      7\u001b[0m \u001b[38;5;66;03m# # Calculate how many samples we need for whole seconds\u001b[39;00m\n\u001b[1;32m   (...)\u001b[0m\n\u001b[0;32m     19\u001b[0m \u001b[38;5;66;03m# else:\u001b[39;00m\n\u001b[0;32m     20\u001b[0m \u001b[38;5;66;03m#     print(\"No padding needed for EDF export\")\u001b[39;00m\n\u001b[1;32m---> 22\u001b[0m \u001b[43mmne\u001b[49m\u001b[38;5;241;43m.\u001b[39;49m\u001b[43mexport\u001b[49m\u001b[38;5;241;43m.\u001b[39;49m\u001b[43mexport_raw\u001b[49m\u001b[43m(\u001b[49m\u001b[38;5;124;43m\"\u001b[39;49m\u001b[38;5;124;43mC:\u001b[39;49m\u001b[38;5;130;43;01m\\\\\u001b[39;49;00m\u001b[38;5;124;43mdev\u001b[39;49m\u001b[38;5;130;43;01m\\\\\u001b[39;49;00m\u001b[38;5;124;43mplay\u001b[39;49m\u001b[38;5;130;43;01m\\\\\u001b[39;49;00m\u001b[38;5;124;43mbrainwave-data\u001b[39;49m\u001b[38;5;130;43;01m\\\\\u001b[39;49;00m\u001b[38;5;124;43m2025-03-20\u001b[39;49m\u001b[38;5;130;43;01m\\\\\u001b[39;49;00m\u001b[38;5;124;43mraw.250.41.edf\u001b[39;49m\u001b[38;5;124;43m\"\u001b[39;49m\u001b[43m,\u001b[49m\u001b[43m \u001b[49m\u001b[43mraw_copy\u001b[49m\u001b[43m,\u001b[49m\u001b[43m \u001b[49m\u001b[43moverwrite\u001b[49m\u001b[38;5;241;43m=\u001b[39;49m\u001b[38;5;28;43;01mTrue\u001b[39;49;00m\u001b[43m)\u001b[49m\n",
      "File \u001b[1;32m<decorator-gen-344>:12\u001b[0m, in \u001b[0;36mexport_raw\u001b[1;34m(fname, raw, fmt, physical_range, add_ch_type, overwrite, verbose)\u001b[0m\n",
      "File \u001b[1;32mc:\\Users\\graha\\.conda\\envs\\3.10-tf\\lib\\site-packages\\mne\\export\\_export.py:75\u001b[0m, in \u001b[0;36mexport_raw\u001b[1;34m(fname, raw, fmt, physical_range, add_ch_type, overwrite, verbose)\u001b[0m\n\u001b[0;32m     72\u001b[0m \u001b[38;5;28;01melif\u001b[39;00m fmt \u001b[38;5;241m==\u001b[39m \u001b[38;5;124m\"\u001b[39m\u001b[38;5;124medf\u001b[39m\u001b[38;5;124m\"\u001b[39m:\n\u001b[0;32m     73\u001b[0m     \u001b[38;5;28;01mfrom\u001b[39;00m\u001b[38;5;250m \u001b[39m\u001b[38;5;21;01m.\u001b[39;00m\u001b[38;5;21;01m_edf\u001b[39;00m\u001b[38;5;250m \u001b[39m\u001b[38;5;28;01mimport\u001b[39;00m _export_raw\n\u001b[1;32m---> 75\u001b[0m     \u001b[43m_export_raw\u001b[49m\u001b[43m(\u001b[49m\u001b[43mfname\u001b[49m\u001b[43m,\u001b[49m\u001b[43m \u001b[49m\u001b[43mraw\u001b[49m\u001b[43m,\u001b[49m\u001b[43m \u001b[49m\u001b[43mphysical_range\u001b[49m\u001b[43m,\u001b[49m\u001b[43m \u001b[49m\u001b[43madd_ch_type\u001b[49m\u001b[43m)\u001b[49m\n\u001b[0;32m     76\u001b[0m \u001b[38;5;28;01melif\u001b[39;00m fmt \u001b[38;5;241m==\u001b[39m \u001b[38;5;124m\"\u001b[39m\u001b[38;5;124mbrainvision\u001b[39m\u001b[38;5;124m\"\u001b[39m:\n\u001b[0;32m     77\u001b[0m     \u001b[38;5;28;01mfrom\u001b[39;00m\u001b[38;5;250m \u001b[39m\u001b[38;5;21;01m.\u001b[39;00m\u001b[38;5;21;01m_brainvision\u001b[39;00m\u001b[38;5;250m \u001b[39m\u001b[38;5;28;01mimport\u001b[39;00m _export_raw\n",
      "File \u001b[1;32mc:\\Users\\graha\\.conda\\envs\\3.10-tf\\lib\\site-packages\\mne\\export\\_edf.py:219\u001b[0m, in \u001b[0;36m_export_raw\u001b[1;34m(fname, raw, physical_range, add_ch_type)\u001b[0m\n\u001b[0;32m    216\u001b[0m     \u001b[38;5;28;01melse\u001b[39;00m:\n\u001b[0;32m    217\u001b[0m         annotations\u001b[38;5;241m.\u001b[39mappend(EdfAnnotation(onset, duration, desc))\n\u001b[1;32m--> 219\u001b[0m \u001b[43mEdf\u001b[49m\u001b[43m(\u001b[49m\n\u001b[0;32m    220\u001b[0m \u001b[43m    \u001b[49m\u001b[43msignals\u001b[49m\u001b[38;5;241;43m=\u001b[39;49m\u001b[43msignals\u001b[49m\u001b[43m,\u001b[49m\n\u001b[0;32m    221\u001b[0m \u001b[43m    \u001b[49m\u001b[43mpatient\u001b[49m\u001b[38;5;241;43m=\u001b[39;49m\u001b[43mpatient\u001b[49m\u001b[43m,\u001b[49m\n\u001b[0;32m    222\u001b[0m \u001b[43m    \u001b[49m\u001b[43mrecording\u001b[49m\u001b[38;5;241;43m=\u001b[39;49m\u001b[43mrecording\u001b[49m\u001b[43m,\u001b[49m\n\u001b[0;32m    223\u001b[0m \u001b[43m    \u001b[49m\u001b[43mstarttime\u001b[49m\u001b[38;5;241;43m=\u001b[39;49m\u001b[43mstarttime\u001b[49m\u001b[43m,\u001b[49m\n\u001b[0;32m    224\u001b[0m \u001b[43m    \u001b[49m\u001b[43mdata_record_duration\u001b[49m\u001b[38;5;241;43m=\u001b[39;49m\u001b[43mdata_record_duration\u001b[49m\u001b[43m,\u001b[49m\n\u001b[0;32m    225\u001b[0m \u001b[43m    \u001b[49m\u001b[43mannotations\u001b[49m\u001b[38;5;241;43m=\u001b[39;49m\u001b[43mannotations\u001b[49m\u001b[43m,\u001b[49m\n\u001b[0;32m    226\u001b[0m \u001b[43m\u001b[49m\u001b[43m)\u001b[49m\u001b[38;5;241m.\u001b[39mwrite(fname)\n",
      "File \u001b[1;32mc:\\Users\\graha\\.conda\\envs\\3.10-tf\\lib\\site-packages\\edfio\\edf.py:124\u001b[0m, in \u001b[0;36mEdf.__init__\u001b[1;34m(self, signals, patient, recording, starttime, data_record_duration, annotations)\u001b[0m\n\u001b[0;32m    119\u001b[0m     \u001b[38;5;28;01mraise\u001b[39;00m \u001b[38;5;167;01mValueError\u001b[39;00m(\n\u001b[0;32m    120\u001b[0m         \u001b[38;5;124m\"\u001b[39m\u001b[38;5;124mData record duration must be zero for annotation-only files\u001b[39m\u001b[38;5;124m\"\u001b[39m\n\u001b[0;32m    121\u001b[0m     )\n\u001b[0;32m    123\u001b[0m \u001b[38;5;28mself\u001b[39m\u001b[38;5;241m.\u001b[39m_set_data_record_duration(data_record_duration)\n\u001b[1;32m--> 124\u001b[0m \u001b[38;5;28;43mself\u001b[39;49m\u001b[38;5;241;43m.\u001b[39;49m\u001b[43m_set_num_data_records_with_signals\u001b[49m\u001b[43m(\u001b[49m\u001b[43msignals\u001b[49m\u001b[43m)\u001b[49m\n\u001b[0;32m    125\u001b[0m \u001b[38;5;28mself\u001b[39m\u001b[38;5;241m.\u001b[39m_set_version(\u001b[38;5;241m0\u001b[39m)\n\u001b[0;32m    126\u001b[0m \u001b[38;5;28mself\u001b[39m\u001b[38;5;241m.\u001b[39mlocal_patient_identification \u001b[38;5;241m=\u001b[39m patient\u001b[38;5;241m.\u001b[39m_to_str()\n",
      "File \u001b[1;32mc:\\Users\\graha\\.conda\\envs\\3.10-tf\\lib\\site-packages\\edfio\\edf.py:296\u001b[0m, in \u001b[0;36mEdf._set_num_data_records_with_signals\u001b[1;34m(self, signals)\u001b[0m\n\u001b[0;32m    292\u001b[0m \u001b[38;5;28;01mif\u001b[39;00m \u001b[38;5;28many\u001b[39m(v \u001b[38;5;241m!=\u001b[39m signal_durations[\u001b[38;5;241m0\u001b[39m] \u001b[38;5;28;01mfor\u001b[39;00m v \u001b[38;5;129;01min\u001b[39;00m signal_durations[\u001b[38;5;241m1\u001b[39m:]):\n\u001b[0;32m    293\u001b[0m     \u001b[38;5;28;01mraise\u001b[39;00m \u001b[38;5;167;01mValueError\u001b[39;00m(\n\u001b[0;32m    294\u001b[0m         \u001b[38;5;124mf\u001b[39m\u001b[38;5;124m\"\u001b[39m\u001b[38;5;124mInconsistent signal durations (in seconds): \u001b[39m\u001b[38;5;132;01m{\u001b[39;00msignal_durations\u001b[38;5;132;01m}\u001b[39;00m\u001b[38;5;124m\"\u001b[39m\n\u001b[0;32m    295\u001b[0m     )\n\u001b[1;32m--> 296\u001b[0m num_data_records \u001b[38;5;241m=\u001b[39m \u001b[43m_calculate_num_data_records\u001b[49m\u001b[43m(\u001b[49m\n\u001b[0;32m    297\u001b[0m \u001b[43m    \u001b[49m\u001b[43msignal_durations\u001b[49m\u001b[43m[\u001b[49m\u001b[38;5;241;43m0\u001b[39;49m\u001b[43m]\u001b[49m\u001b[43m,\u001b[49m\n\u001b[0;32m    298\u001b[0m \u001b[43m    \u001b[49m\u001b[38;5;28;43mself\u001b[39;49m\u001b[38;5;241;43m.\u001b[39;49m\u001b[43mdata_record_duration\u001b[49m\u001b[43m,\u001b[49m\n\u001b[0;32m    299\u001b[0m \u001b[43m\u001b[49m\u001b[43m)\u001b[49m\n\u001b[0;32m    300\u001b[0m signal_lengths \u001b[38;5;241m=\u001b[39m [\u001b[38;5;28mlen\u001b[39m(s\u001b[38;5;241m.\u001b[39mdigital) \u001b[38;5;28;01mfor\u001b[39;00m s \u001b[38;5;129;01min\u001b[39;00m signals]\n\u001b[0;32m    301\u001b[0m \u001b[38;5;28;01mif\u001b[39;00m \u001b[38;5;28many\u001b[39m(l \u001b[38;5;241m%\u001b[39m num_data_records \u001b[38;5;28;01mfor\u001b[39;00m l \u001b[38;5;129;01min\u001b[39;00m signal_lengths):\n",
      "File \u001b[1;32mc:\\Users\\graha\\.conda\\envs\\3.10-tf\\lib\\site-packages\\edfio\\edf.py:1083\u001b[0m, in \u001b[0;36m_calculate_num_data_records\u001b[1;34m(signal_duration, data_record_duration)\u001b[0m\n\u001b[0;32m   1081\u001b[0m     \u001b[38;5;28;01mif\u001b[39;00m required_num_data_records \u001b[38;5;241m==\u001b[39m \u001b[38;5;28mint\u001b[39m(required_num_data_records):\n\u001b[0;32m   1082\u001b[0m         \u001b[38;5;28;01mreturn\u001b[39;00m \u001b[38;5;28mint\u001b[39m(required_num_data_records)\n\u001b[1;32m-> 1083\u001b[0m \u001b[38;5;28;01mraise\u001b[39;00m \u001b[38;5;167;01mValueError\u001b[39;00m(\n\u001b[0;32m   1084\u001b[0m     \u001b[38;5;124mf\u001b[39m\u001b[38;5;124m\"\u001b[39m\u001b[38;5;124mSignal duration of \u001b[39m\u001b[38;5;132;01m{\u001b[39;00msignal_duration\u001b[38;5;132;01m}\u001b[39;00m\u001b[38;5;124ms is not exactly divisible by data_record_duration of \u001b[39m\u001b[38;5;132;01m{\u001b[39;00mdata_record_duration\u001b[38;5;132;01m}\u001b[39;00m\u001b[38;5;124ms\u001b[39m\u001b[38;5;124m\"\u001b[39m\n\u001b[0;32m   1085\u001b[0m )\n",
      "\u001b[1;31mValueError\u001b[0m: Signal duration of 31863.802168624s is not exactly divisible by data_record_duration of 0.998339s"
     ]
    }
   ],
   "source": [
    "import mne\n",
    "\n",
    "# Calculate the number of samples needed for exact divisibility\n",
    "raw_copy = mne_filtered.copy()\n",
    "# duration = raw.times[-1]\n",
    "\n",
    "# # Calculate how many samples we need for whole seconds\n",
    "# needed_duration = np.ceil(duration)\n",
    "# current_samples = raw.n_times\n",
    "# target_samples = int(needed_duration * raw.info['sfreq'])\n",
    "\n",
    "# # Pad with zeros if needed to get an exact number of seconds\n",
    "# if target_samples > current_samples:\n",
    "#     pad_samples = target_samples - current_samples\n",
    "#     pad_seconds = pad_samples / raw_copy.info['sfreq']\n",
    "#     print(f\"Padding EDF with {pad_samples} samples ({pad_seconds:.4f} seconds)\")\n",
    "#     padding = np.zeros((raw_copy.info['nchan'], pad_samples))\n",
    "#     raw_copy._data = np.hstack((raw_copy._data, padding))\n",
    "# else:\n",
    "#     print(\"No padding needed for EDF export\")\n",
    "\n",
    "mne.export.export_raw(\"C:\\\\dev\\\\play\\\\brainwave-data\\\\2025-03-20\\\\raw.250.41.edf\", raw_copy, overwrite=True)\n"
   ]
  },
  {
   "cell_type": "code",
   "execution_count": 36,
   "metadata": {},
   "outputs": [
    {
     "ename": "AssertionError",
     "evalue": "cannot accurately represent sampling frequencies with data record durations between 1-60s: [250.4158477783203]",
     "output_type": "error",
     "traceback": [
      "\u001b[1;31m---------------------------------------------------------------------------\u001b[0m",
      "\u001b[1;31mAssertionError\u001b[0m                            Traceback (most recent call last)",
      "Cell \u001b[1;32mIn[36], line 31\u001b[0m\n\u001b[0;32m     18\u001b[0m     ch_dict \u001b[38;5;241m=\u001b[39m {\n\u001b[0;32m     19\u001b[0m         \u001b[38;5;124m'\u001b[39m\u001b[38;5;124mlabel\u001b[39m\u001b[38;5;124m'\u001b[39m: ch_name,\n\u001b[0;32m     20\u001b[0m         \u001b[38;5;124m'\u001b[39m\u001b[38;5;124mdimension\u001b[39m\u001b[38;5;124m'\u001b[39m: \u001b[38;5;124m'\u001b[39m\u001b[38;5;124muV\u001b[39m\u001b[38;5;124m'\u001b[39m,\n\u001b[1;32m   (...)\u001b[0m\n\u001b[0;32m     27\u001b[0m         \u001b[38;5;124m'\u001b[39m\u001b[38;5;124mprefilter\u001b[39m\u001b[38;5;124m'\u001b[39m: \u001b[38;5;124m'\u001b[39m\u001b[38;5;124m'\u001b[39m\n\u001b[0;32m     28\u001b[0m     }\n\u001b[0;32m     29\u001b[0m     channel_info\u001b[38;5;241m.\u001b[39mappend(ch_dict)\n\u001b[1;32m---> 31\u001b[0m \u001b[43mwriter\u001b[49m\u001b[38;5;241;43m.\u001b[39;49m\u001b[43msetSignalHeaders\u001b[49m\u001b[43m(\u001b[49m\u001b[43mchannel_info\u001b[49m\u001b[43m)\u001b[49m\n\u001b[0;32m     32\u001b[0m writer\u001b[38;5;241m.\u001b[39msetTechnician(\u001b[38;5;124m'\u001b[39m\u001b[38;5;124mMNE to EDF export\u001b[39m\u001b[38;5;124m'\u001b[39m)\n\u001b[0;32m     34\u001b[0m \u001b[38;5;66;03m# Get the start time\u001b[39;00m\n",
      "File \u001b[1;32mc:\\Users\\graha\\.conda\\envs\\3.10-tf\\lib\\site-packages\\pyedflib\\edfwriter.py:387\u001b[0m, in \u001b[0;36mEdfWriter.setSignalHeaders\u001b[1;34m(self, signalHeaders)\u001b[0m\n\u001b[0;32m    385\u001b[0m \u001b[38;5;28;01mfor\u001b[39;00m edfsignal \u001b[38;5;129;01min\u001b[39;00m np\u001b[38;5;241m.\u001b[39marange(\u001b[38;5;28mself\u001b[39m\u001b[38;5;241m.\u001b[39mn_channels):\n\u001b[0;32m    386\u001b[0m     \u001b[38;5;28mself\u001b[39m\u001b[38;5;241m.\u001b[39mchannels[edfsignal]\u001b[38;5;241m.\u001b[39mupdate(signalHeaders[edfsignal])\n\u001b[1;32m--> 387\u001b[0m \u001b[38;5;28;43mself\u001b[39;49m\u001b[38;5;241;43m.\u001b[39;49m\u001b[43mupdate_header\u001b[49m\u001b[43m(\u001b[49m\u001b[43m)\u001b[49m\n",
      "File \u001b[1;32mc:\\Users\\graha\\.conda\\envs\\3.10-tf\\lib\\site-packages\\pyedflib\\edfwriter.py:285\u001b[0m, in \u001b[0;36mEdfWriter.update_header\u001b[1;34m(self)\u001b[0m\n\u001b[0;32m    277\u001b[0m     warnings\u001b[38;5;241m.\u001b[39mwarn(\u001b[38;5;124m'\u001b[39m\u001b[38;5;124mEquipment, technician, admincode and recording_additional combined must not be larger than 80 chars. \u001b[39m\u001b[38;5;124m'\u001b[39m \u001b[38;5;241m+\u001b[39m\n\u001b[0;32m    278\u001b[0m                   \u001b[38;5;124mf\u001b[39m\u001b[38;5;124m'\u001b[39m\u001b[38;5;124mCurrently has len of \u001b[39m\u001b[38;5;132;01m{\u001b[39;00mrecord_ident\u001b[38;5;132;01m}\u001b[39;00m\u001b[38;5;124m. See https://www.edfplus.info/specs/edfplus.html#additionalspecs\u001b[39m\u001b[38;5;124m'\u001b[39m)\n\u001b[0;32m    280\u001b[0m \u001b[38;5;66;03m# all data records (i.e. blocks of data of a channel) have one singular\u001b[39;00m\n\u001b[0;32m    281\u001b[0m \u001b[38;5;66;03m# length in seconds. If there are different sampling frequencies for\u001b[39;00m\n\u001b[0;32m    282\u001b[0m \u001b[38;5;66;03m# the channels, we need to find a common denominator so that all sample\u001b[39;00m\n\u001b[0;32m    283\u001b[0m \u001b[38;5;66;03m# frequencies can be represented accurately.\u001b[39;00m\n\u001b[0;32m    284\u001b[0m \u001b[38;5;66;03m# this can be overwritten by explicitly calling setDatarecordDuration\u001b[39;00m\n\u001b[1;32m--> 285\u001b[0m \u001b[38;5;28;43mself\u001b[39;49m\u001b[38;5;241;43m.\u001b[39;49m\u001b[43m_calculate_optimal_record_duration\u001b[49m\u001b[43m(\u001b[49m\u001b[43m)\u001b[49m\n\u001b[0;32m    287\u001b[0m set_technician(\u001b[38;5;28mself\u001b[39m\u001b[38;5;241m.\u001b[39mhandle, du(\u001b[38;5;28mself\u001b[39m\u001b[38;5;241m.\u001b[39mtechnician))\n\u001b[0;32m    288\u001b[0m set_recording_additional(\u001b[38;5;28mself\u001b[39m\u001b[38;5;241m.\u001b[39mhandle, du(\u001b[38;5;28mself\u001b[39m\u001b[38;5;241m.\u001b[39mrecording_additional))\n",
      "File \u001b[1;32mc:\\Users\\graha\\.conda\\envs\\3.10-tf\\lib\\site-packages\\pyedflib\\edfwriter.py:977\u001b[0m, in \u001b[0;36mEdfWriter._calculate_optimal_record_duration\u001b[1;34m(self)\u001b[0m\n\u001b[0;32m    975\u001b[0m         record_duration \u001b[38;5;241m=\u001b[39m i\n\u001b[0;32m    976\u001b[0m         \u001b[38;5;28;01mbreak\u001b[39;00m\n\u001b[1;32m--> 977\u001b[0m \u001b[38;5;28;01massert\u001b[39;00m record_duration\u001b[38;5;241m>\u001b[39m\u001b[38;5;241m0\u001b[39m, \u001b[38;5;124mf\u001b[39m\u001b[38;5;124m'\u001b[39m\u001b[38;5;124mcannot accurately represent sampling frequencies with data record durations between 1-60s: \u001b[39m\u001b[38;5;132;01m{\u001b[39;00mall_fs\u001b[38;5;132;01m}\u001b[39;00m\u001b[38;5;124m'\u001b[39m\n\u001b[0;32m    978\u001b[0m \u001b[38;5;28;01massert\u001b[39;00m record_duration\u001b[38;5;241m<\u001b[39m\u001b[38;5;241m=\u001b[39m\u001b[38;5;241m60\u001b[39m, \u001b[38;5;124m'\u001b[39m\u001b[38;5;124mrecord duration must be below 60 seconds\u001b[39m\u001b[38;5;124m'\u001b[39m\n\u001b[0;32m    979\u001b[0m \u001b[38;5;28mself\u001b[39m\u001b[38;5;241m.\u001b[39mrecord_duration \u001b[38;5;241m=\u001b[39m record_duration\n",
      "\u001b[1;31mAssertionError\u001b[0m: cannot accurately represent sampling frequencies with data record durations between 1-60s: [250.4158477783203]"
     ]
    }
   ],
   "source": [
    "import pyedflib\n",
    "\n",
    "# Get the data from MNE (in microvolts)\n",
    "data = mne_filtered.get_data(units=dict(eeg=\"uV\"))\n",
    "channel_names = mne_filtered.info['ch_names']\n",
    "sfreq = mne_filtered.info['sfreq']\n",
    "n_channels = len(channel_names)\n",
    "\n",
    "# Create output file path\n",
    "output_file =  \"test.edf\"\n",
    "\n",
    "# Create EDF writer\n",
    "writer = pyedflib.EdfWriter(output_file, n_channels=n_channels, file_type=pyedflib.FILETYPE_EDFPLUS)\n",
    "\n",
    "# Prepare channel information\n",
    "channel_info = []\n",
    "for ch_name in channel_names:\n",
    "    ch_dict = {\n",
    "        'label': ch_name,\n",
    "        'dimension': 'uV',\n",
    "        'sample_rate': sfreq,\n",
    "        'physical_min': -1500,\n",
    "        'physical_max': 1500,\n",
    "        'digital_min': -32768,\n",
    "        'digital_max': 32767,\n",
    "        'transducer': '',\n",
    "        'prefilter': ''\n",
    "    }\n",
    "    channel_info.append(ch_dict)\n",
    "\n",
    "writer.setSignalHeaders(channel_info)\n",
    "writer.setTechnician('MNE to EDF export')\n",
    "\n",
    "# Get the start time\n",
    "if mne_filtered.info['meas_date'] is not None:\n",
    "    start_dt = mne_filtered.info['meas_date']\n",
    "    writer.setStartdatetime(start_dt.replace(tzinfo=None))\n",
    "\n",
    "# Write the data\n",
    "try:\n",
    "    print(f\"Writing {data.shape[1]} samples for {n_channels} channels to EDF\")\n",
    "    writer.writeSamples(data)\n",
    "    print(\"Successfully wrote EDF file\")\n",
    "except Exception as e:\n",
    "    print(f\"Error writing EDF: {str(e)}\")\n",
    "    raise\n",
    "finally:\n",
    "    writer.close()\n",
    "    print(f\"Closed EDF file: {output_file}\")\n"
   ]
  },
  {
   "cell_type": "code",
   "execution_count": 40,
   "metadata": {},
   "outputs": [
    {
     "name": "stdout",
     "output_type": "stream",
     "text": [
      "Saved metadata to recording.json\n",
      "Saved recording data to recording.bin\n",
      "File size: 15.22 MB\n"
     ]
    }
   ],
   "source": [
    "import json\n",
    "import datetime\n",
    "import numpy as np\n",
    "import os\n",
    "import struct\n",
    "\n",
    "def save_recording_to_binary_format(data, channel_names, sfreq, output_base_path, meas_date=None):\n",
    "    \"\"\"\n",
    "    Save recording data to a binary format with a JSON file for metadata.\n",
    "    \n",
    "    Parameters:\n",
    "    -----------\n",
    "    data : numpy.ndarray\n",
    "        EEG data with shape (n_channels, n_samples)\n",
    "    channel_names : list\n",
    "        List of channel names\n",
    "    sfreq : float\n",
    "        Sampling frequency in Hz\n",
    "    output_base_path : str\n",
    "        Base path for output files (without extension)\n",
    "    meas_date : datetime or None\n",
    "        Measurement start date/time\n",
    "    \"\"\"\n",
    "    # Create metadata\n",
    "    metadata = {\n",
    "        \"sampling_frequency\": float(sfreq),\n",
    "        \"channels\": channel_names,\n",
    "        \"n_channels\": len(channel_names),\n",
    "        \"n_samples\": data.shape[1],\n",
    "        \"data_format\": \"int16\",\n",
    "        \"byte_order\": \"little-endian\"\n",
    "    }\n",
    "    \n",
    "    # Add timing information\n",
    "    if meas_date is not None:\n",
    "        start_time = meas_date.isoformat()\n",
    "        end_time = (meas_date + datetime.timedelta(seconds=data.shape[1]/sfreq)).isoformat()\n",
    "        metadata[\"start_time\"] = start_time\n",
    "        metadata[\"end_time\"] = end_time\n",
    "    \n",
    "    # Save metadata to JSON\n",
    "    json_path = f\"{output_base_path}.json\"\n",
    "    with open(json_path, 'w') as f:\n",
    "        json.dump(metadata, f, indent=4)\n",
    "    \n",
    "    # Prepare binary data file\n",
    "    bin_path = f\"{output_base_path}.bin\"\n",
    "    \n",
    "    # Convert data to int16 (2 bytes per sample) and clip values\n",
    "    int16_data = np.clip(data, -32768, 32767).astype(np.int16)\n",
    "    \n",
    "    # Write binary data (samples are stored channel by channel)\n",
    "    with open(bin_path, 'wb') as f:\n",
    "        int16_data.tofile(f)\n",
    "    \n",
    "    print(f\"Saved metadata to {json_path}\")\n",
    "    print(f\"Saved recording data to {bin_path}\")\n",
    "    print(f\"File size: {os.path.getsize(bin_path) / (1024*1024):.2f} MB\")\n",
    "    \n",
    "    return json_path, bin_path\n",
    "\n",
    "def read_binary_recording(metadata_path):\n",
    "    \"\"\"\n",
    "    Read recording data from binary format and metadata JSON.\n",
    "    \n",
    "    Parameters:\n",
    "    -----------\n",
    "    metadata_path : str\n",
    "        Path to the JSON metadata file\n",
    "    \n",
    "    Returns:\n",
    "    --------\n",
    "    data : numpy.ndarray\n",
    "        EEG data with shape (n_channels, n_samples)\n",
    "    metadata : dict\n",
    "        Recording metadata\n",
    "    \"\"\"\n",
    "    # Load metadata\n",
    "    with open(metadata_path, 'r') as f:\n",
    "        metadata = json.load(f)\n",
    "    \n",
    "    # Derive binary data path\n",
    "    bin_path = metadata_path.replace('.json', '.bin')\n",
    "    \n",
    "    # Read binary data\n",
    "    data = np.fromfile(bin_path, dtype=np.int16)\n",
    "    \n",
    "    # Reshape data based on metadata\n",
    "    data = data.reshape(metadata[\"n_channels\"], -1)\n",
    "    \n",
    "    return data, metadata\n",
    "\n",
    "# Example usage\n",
    "output_base_path = \"recording\"\n",
    "if mne_filtered.info['meas_date'] is not None:\n",
    "    start_dt = mne_filtered.info['meas_date']\n",
    "else:\n",
    "    start_dt = None\n",
    "\n",
    "# Get the data from MNE (in microvolts)\n",
    "data = mne_filtered.get_data(units=dict(eeg=\"uV\"))\n",
    "channel_names = mne_filtered.info['ch_names']\n",
    "sfreq = mne_filtered.info['sfreq']\n",
    "\n",
    "# Save to binary format\n",
    "json_path, bin_path = save_recording_to_binary_format(\n",
    "    data, \n",
    "    channel_names, \n",
    "    sfreq, \n",
    "    output_base_path, \n",
    "    meas_date=start_dt\n",
    ")"
   ]
  },
  {
   "cell_type": "code",
   "execution_count": null,
   "metadata": {},
   "outputs": [],
   "source": []
  }
 ],
 "metadata": {
  "kernelspec": {
   "display_name": "3.10-tf",
   "language": "python",
   "name": "python3"
  },
  "language_info": {
   "codemirror_mode": {
    "name": "ipython",
    "version": 3
   },
   "file_extension": ".py",
   "mimetype": "text/x-python",
   "name": "python",
   "nbconvert_exporter": "python",
   "pygments_lexer": "ipython3",
   "version": "3.10.16"
  }
 },
 "nbformat": 4,
 "nbformat_minor": 2
}
