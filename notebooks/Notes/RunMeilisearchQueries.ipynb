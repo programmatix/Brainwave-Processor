{
 "cells": [
  {
   "metadata": {
    "ExecuteTime": {
     "end_time": "2024-12-19T12:58:57.174022Z",
     "start_time": "2024-12-19T12:58:54.003940Z"
    }
   },
   "cell_type": "code",
   "source": "!pip3 install meilisearch\n",
   "id": "68d2f45488e95652",
   "outputs": [
    {
     "name": "stdout",
     "output_type": "stream",
     "text": [
      "Requirement already satisfied: meilisearch in c:\\users\\graha\\.conda\\envs\\tf\\lib\\site-packages (0.31.6)\n",
      "Requirement already satisfied: requests in c:\\users\\graha\\.conda\\envs\\tf\\lib\\site-packages (from meilisearch) (2.32.3)\n",
      "Requirement already satisfied: camel-converter[pydantic] in c:\\users\\graha\\.conda\\envs\\tf\\lib\\site-packages (from meilisearch) (4.0.1)\n",
      "Requirement already satisfied: pydantic>=2.0.0 in c:\\users\\graha\\.conda\\envs\\tf\\lib\\site-packages (from camel-converter[pydantic]->meilisearch) (2.9.2)\n",
      "Requirement already satisfied: charset-normalizer<4,>=2 in c:\\users\\graha\\.conda\\envs\\tf\\lib\\site-packages (from requests->meilisearch) (3.3.2)\n",
      "Requirement already satisfied: idna<4,>=2.5 in c:\\users\\graha\\.conda\\envs\\tf\\lib\\site-packages (from requests->meilisearch) (3.7)\n",
      "Requirement already satisfied: urllib3<3,>=1.21.1 in c:\\users\\graha\\.conda\\envs\\tf\\lib\\site-packages (from requests->meilisearch) (2.2.2)\n",
      "Requirement already satisfied: certifi>=2017.4.17 in c:\\users\\graha\\.conda\\envs\\tf\\lib\\site-packages (from requests->meilisearch) (2024.12.14)\n",
      "Requirement already satisfied: annotated-types>=0.6.0 in c:\\users\\graha\\.conda\\envs\\tf\\lib\\site-packages (from pydantic>=2.0.0->camel-converter[pydantic]->meilisearch) (0.7.0)\n",
      "Requirement already satisfied: pydantic-core==2.23.4 in c:\\users\\graha\\.conda\\envs\\tf\\lib\\site-packages (from pydantic>=2.0.0->camel-converter[pydantic]->meilisearch) (2.23.4)\n",
      "Requirement already satisfied: typing-extensions>=4.6.1 in c:\\users\\graha\\.conda\\envs\\tf\\lib\\site-packages (from pydantic>=2.0.0->camel-converter[pydantic]->meilisearch) (4.11.0)\n"
     ]
    }
   ],
   "execution_count": 1
  },
  {
   "metadata": {
    "ExecuteTime": {
     "end_time": "2024-12-19T12:58:57.963644Z",
     "start_time": "2024-12-19T12:58:57.185420Z"
    }
   },
   "cell_type": "code",
   "source": [
    "import meilisearch\n",
    "import json\n",
    "import json\n",
    "import re\n",
    "import os\n",
    "import dotenv\n",
    "dotenv.load_dotenv(\"../.env\")\n",
    "\n",
    "client = meilisearch.Client('https://examined-life.co.uk:7700', os.getenv('MEILISEARCH_MASTER_KEY'))\n",
    "\n"
   ],
   "id": "65b10b49b1acacf",
   "outputs": [],
   "execution_count": 2
  },
  {
   "metadata": {
    "ExecuteTime": {
     "end_time": "2024-12-19T12:58:58.064978Z",
     "start_time": "2024-12-19T12:58:58.058992Z"
    }
   },
   "cell_type": "code",
   "source": "",
   "id": "9a754fe44da8c60",
   "outputs": [],
   "execution_count": null
  },
  {
   "metadata": {
    "ExecuteTime": {
     "end_time": "2024-12-19T12:58:59.521993Z",
     "start_time": "2024-12-19T12:58:58.149074Z"
    }
   },
   "cell_type": "code",
   "source": [
    "index = client.index('notes')\n",
    "index.search(\"\", {\n",
    "    'filter': 'originalKey IN [\"2024-11-18T21:12:18.882Z\"]',\n",
    "})"
   ],
   "id": "be4def33d4848409",
   "outputs": [
    {
     "ename": "MeilisearchApiError",
     "evalue": "MeilisearchApiError. Error code: invalid_api_key. Error message: The provided API key is invalid.. Hint: It might not be working because you're not up to date with the Meilisearch version that search call requires. Error documentation: https://docs.meilisearch.com/errors#invalid_api_key Error type: auth",
     "output_type": "error",
     "traceback": [
      "\u001B[1;31m---------------------------------------------------------------------------\u001B[0m",
      "\u001B[1;31mHTTPError\u001B[0m                                 Traceback (most recent call last)",
      "File \u001B[1;32m~\\.conda\\envs\\tf\\lib\\site-packages\\meilisearch\\_httprequests.py:135\u001B[0m, in \u001B[0;36mHttpRequests.__validate\u001B[1;34m(request)\u001B[0m\n\u001B[0;32m    134\u001B[0m \u001B[38;5;28;01mtry\u001B[39;00m:\n\u001B[1;32m--> 135\u001B[0m     \u001B[43mrequest\u001B[49m\u001B[38;5;241;43m.\u001B[39;49m\u001B[43mraise_for_status\u001B[49m\u001B[43m(\u001B[49m\u001B[43m)\u001B[49m\n\u001B[0;32m    136\u001B[0m     \u001B[38;5;28;01mreturn\u001B[39;00m HttpRequests\u001B[38;5;241m.\u001B[39m__to_json(request)\n",
      "File \u001B[1;32m~\\.conda\\envs\\tf\\lib\\site-packages\\requests\\models.py:1024\u001B[0m, in \u001B[0;36mResponse.raise_for_status\u001B[1;34m(self)\u001B[0m\n\u001B[0;32m   1023\u001B[0m \u001B[38;5;28;01mif\u001B[39;00m http_error_msg:\n\u001B[1;32m-> 1024\u001B[0m     \u001B[38;5;28;01mraise\u001B[39;00m HTTPError(http_error_msg, response\u001B[38;5;241m=\u001B[39m\u001B[38;5;28mself\u001B[39m)\n",
      "\u001B[1;31mHTTPError\u001B[0m: 403 Client Error: Forbidden for url: https://examined-life.co.uk:7700/indexes/notes/search",
      "\nThe above exception was the direct cause of the following exception:\n",
      "\u001B[1;31mMeilisearchApiError\u001B[0m                       Traceback (most recent call last)",
      "Cell \u001B[1;32mIn[3], line 2\u001B[0m\n\u001B[0;32m      1\u001B[0m index \u001B[38;5;241m=\u001B[39m client\u001B[38;5;241m.\u001B[39mindex(\u001B[38;5;124m'\u001B[39m\u001B[38;5;124mnotes\u001B[39m\u001B[38;5;124m'\u001B[39m)\n\u001B[1;32m----> 2\u001B[0m \u001B[43mindex\u001B[49m\u001B[38;5;241;43m.\u001B[39;49m\u001B[43msearch\u001B[49m\u001B[43m(\u001B[49m\u001B[38;5;124;43m\"\u001B[39;49m\u001B[38;5;124;43m\"\u001B[39;49m\u001B[43m,\u001B[49m\u001B[43m \u001B[49m\u001B[43m{\u001B[49m\n\u001B[0;32m      3\u001B[0m \u001B[43m    \u001B[49m\u001B[38;5;124;43m'\u001B[39;49m\u001B[38;5;124;43mfilter\u001B[39;49m\u001B[38;5;124;43m'\u001B[39;49m\u001B[43m:\u001B[49m\u001B[43m \u001B[49m\u001B[38;5;124;43m'\u001B[39;49m\u001B[38;5;124;43moriginalKey IN [\u001B[39;49m\u001B[38;5;124;43m\"\u001B[39;49m\u001B[38;5;124;43m2024-11-18T21:12:18.882Z\u001B[39;49m\u001B[38;5;124;43m\"\u001B[39;49m\u001B[38;5;124;43m]\u001B[39;49m\u001B[38;5;124;43m'\u001B[39;49m\u001B[43m,\u001B[49m\n\u001B[0;32m      4\u001B[0m \u001B[43m}\u001B[49m\u001B[43m)\u001B[49m\n",
      "File \u001B[1;32m~\\.conda\\envs\\tf\\lib\\site-packages\\meilisearch\\errors.py:75\u001B[0m, in \u001B[0;36mversion_error_hint_message.<locals>.wrapper\u001B[1;34m(*args, **kwargs)\u001B[0m\n\u001B[0;32m     73\u001B[0m \u001B[38;5;28;01mexcept\u001B[39;00m MeilisearchApiError \u001B[38;5;28;01mas\u001B[39;00m exc:\n\u001B[0;32m     74\u001B[0m     exc\u001B[38;5;241m.\u001B[39mmessage \u001B[38;5;241m=\u001B[39m \u001B[38;5;124mf\u001B[39m\u001B[38;5;124m\"\u001B[39m\u001B[38;5;132;01m{\u001B[39;00mexc\u001B[38;5;241m.\u001B[39mmessage\u001B[38;5;132;01m}\u001B[39;00m\u001B[38;5;124m. Hint: It might not be working because you\u001B[39m\u001B[38;5;124m'\u001B[39m\u001B[38;5;124mre not up to date with the Meilisearch version that \u001B[39m\u001B[38;5;132;01m{\u001B[39;00mfunc\u001B[38;5;241m.\u001B[39m\u001B[38;5;18m__name__\u001B[39m\u001B[38;5;132;01m}\u001B[39;00m\u001B[38;5;124m call requires.\u001B[39m\u001B[38;5;124m\"\u001B[39m\n\u001B[1;32m---> 75\u001B[0m     \u001B[38;5;28;01mraise\u001B[39;00m exc\n",
      "File \u001B[1;32m~\\.conda\\envs\\tf\\lib\\site-packages\\meilisearch\\errors.py:72\u001B[0m, in \u001B[0;36mversion_error_hint_message.<locals>.wrapper\u001B[1;34m(*args, **kwargs)\u001B[0m\n\u001B[0;32m     69\u001B[0m \u001B[38;5;129m@wraps\u001B[39m(func)\n\u001B[0;32m     70\u001B[0m \u001B[38;5;28;01mdef\u001B[39;00m \u001B[38;5;21mwrapper\u001B[39m(\u001B[38;5;241m*\u001B[39margs: Any, \u001B[38;5;241m*\u001B[39m\u001B[38;5;241m*\u001B[39mkwargs: Any) \u001B[38;5;241m-\u001B[39m\u001B[38;5;241m>\u001B[39m Any:\n\u001B[0;32m     71\u001B[0m     \u001B[38;5;28;01mtry\u001B[39;00m:\n\u001B[1;32m---> 72\u001B[0m         \u001B[38;5;28;01mreturn\u001B[39;00m func(\u001B[38;5;241m*\u001B[39margs, \u001B[38;5;241m*\u001B[39m\u001B[38;5;241m*\u001B[39mkwargs)\n\u001B[0;32m     73\u001B[0m     \u001B[38;5;28;01mexcept\u001B[39;00m MeilisearchApiError \u001B[38;5;28;01mas\u001B[39;00m exc:\n\u001B[0;32m     74\u001B[0m         exc\u001B[38;5;241m.\u001B[39mmessage \u001B[38;5;241m=\u001B[39m \u001B[38;5;124mf\u001B[39m\u001B[38;5;124m\"\u001B[39m\u001B[38;5;132;01m{\u001B[39;00mexc\u001B[38;5;241m.\u001B[39mmessage\u001B[38;5;132;01m}\u001B[39;00m\u001B[38;5;124m. Hint: It might not be working because you\u001B[39m\u001B[38;5;124m'\u001B[39m\u001B[38;5;124mre not up to date with the Meilisearch version that \u001B[39m\u001B[38;5;132;01m{\u001B[39;00mfunc\u001B[38;5;241m.\u001B[39m\u001B[38;5;18m__name__\u001B[39m\u001B[38;5;132;01m}\u001B[39;00m\u001B[38;5;124m call requires.\u001B[39m\u001B[38;5;124m\"\u001B[39m\n",
      "File \u001B[1;32m~\\.conda\\envs\\tf\\lib\\site-packages\\meilisearch\\index.py:304\u001B[0m, in \u001B[0;36mIndex.search\u001B[1;34m(self, query, opt_params)\u001B[0m\n\u001B[0;32m    302\u001B[0m     opt_params \u001B[38;5;241m=\u001B[39m {}\n\u001B[0;32m    303\u001B[0m body \u001B[38;5;241m=\u001B[39m {\u001B[38;5;124m\"\u001B[39m\u001B[38;5;124mq\u001B[39m\u001B[38;5;124m\"\u001B[39m: query, \u001B[38;5;241m*\u001B[39m\u001B[38;5;241m*\u001B[39mopt_params}\n\u001B[1;32m--> 304\u001B[0m \u001B[38;5;28;01mreturn\u001B[39;00m \u001B[38;5;28;43mself\u001B[39;49m\u001B[38;5;241;43m.\u001B[39;49m\u001B[43mhttp\u001B[49m\u001B[38;5;241;43m.\u001B[39;49m\u001B[43mpost\u001B[49m\u001B[43m(\u001B[49m\n\u001B[0;32m    305\u001B[0m \u001B[43m    \u001B[49m\u001B[38;5;124;43mf\u001B[39;49m\u001B[38;5;124;43m\"\u001B[39;49m\u001B[38;5;132;43;01m{\u001B[39;49;00m\u001B[38;5;28;43mself\u001B[39;49m\u001B[38;5;241;43m.\u001B[39;49m\u001B[43mconfig\u001B[49m\u001B[38;5;241;43m.\u001B[39;49m\u001B[43mpaths\u001B[49m\u001B[38;5;241;43m.\u001B[39;49m\u001B[43mindex\u001B[49m\u001B[38;5;132;43;01m}\u001B[39;49;00m\u001B[38;5;124;43m/\u001B[39;49m\u001B[38;5;132;43;01m{\u001B[39;49;00m\u001B[38;5;28;43mself\u001B[39;49m\u001B[38;5;241;43m.\u001B[39;49m\u001B[43muid\u001B[49m\u001B[38;5;132;43;01m}\u001B[39;49;00m\u001B[38;5;124;43m/\u001B[39;49m\u001B[38;5;132;43;01m{\u001B[39;49;00m\u001B[38;5;28;43mself\u001B[39;49m\u001B[38;5;241;43m.\u001B[39;49m\u001B[43mconfig\u001B[49m\u001B[38;5;241;43m.\u001B[39;49m\u001B[43mpaths\u001B[49m\u001B[38;5;241;43m.\u001B[39;49m\u001B[43msearch\u001B[49m\u001B[38;5;132;43;01m}\u001B[39;49;00m\u001B[38;5;124;43m\"\u001B[39;49m\u001B[43m,\u001B[49m\n\u001B[0;32m    306\u001B[0m \u001B[43m    \u001B[49m\u001B[43mbody\u001B[49m\u001B[38;5;241;43m=\u001B[39;49m\u001B[43mbody\u001B[49m\u001B[43m,\u001B[49m\n\u001B[0;32m    307\u001B[0m \u001B[43m\u001B[49m\u001B[43m)\u001B[49m\n",
      "File \u001B[1;32m~\\.conda\\envs\\tf\\lib\\site-packages\\meilisearch\\_httprequests.py:88\u001B[0m, in \u001B[0;36mHttpRequests.post\u001B[1;34m(self, path, body, content_type, serializer)\u001B[0m\n\u001B[0;32m     78\u001B[0m \u001B[38;5;28;01mdef\u001B[39;00m \u001B[38;5;21mpost\u001B[39m(\n\u001B[0;32m     79\u001B[0m     \u001B[38;5;28mself\u001B[39m,\n\u001B[0;32m     80\u001B[0m     path: \u001B[38;5;28mstr\u001B[39m,\n\u001B[1;32m   (...)\u001B[0m\n\u001B[0;32m     86\u001B[0m     serializer: Optional[Type[json\u001B[38;5;241m.\u001B[39mJSONEncoder]] \u001B[38;5;241m=\u001B[39m \u001B[38;5;28;01mNone\u001B[39;00m,\n\u001B[0;32m     87\u001B[0m ) \u001B[38;5;241m-\u001B[39m\u001B[38;5;241m>\u001B[39m Any:\n\u001B[1;32m---> 88\u001B[0m     \u001B[38;5;28;01mreturn\u001B[39;00m \u001B[38;5;28;43mself\u001B[39;49m\u001B[38;5;241;43m.\u001B[39;49m\u001B[43msend_request\u001B[49m\u001B[43m(\u001B[49m\u001B[43mrequests\u001B[49m\u001B[38;5;241;43m.\u001B[39;49m\u001B[43mpost\u001B[49m\u001B[43m,\u001B[49m\u001B[43m \u001B[49m\u001B[43mpath\u001B[49m\u001B[43m,\u001B[49m\u001B[43m \u001B[49m\u001B[43mbody\u001B[49m\u001B[43m,\u001B[49m\u001B[43m \u001B[49m\u001B[43mcontent_type\u001B[49m\u001B[43m,\u001B[49m\u001B[43m \u001B[49m\u001B[43mserializer\u001B[49m\u001B[38;5;241;43m=\u001B[39;49m\u001B[43mserializer\u001B[49m\u001B[43m)\u001B[49m\n",
      "File \u001B[1;32m~\\.conda\\envs\\tf\\lib\\site-packages\\meilisearch\\_httprequests.py:68\u001B[0m, in \u001B[0;36mHttpRequests.send_request\u001B[1;34m(self, http_method, path, body, content_type, serializer)\u001B[0m\n\u001B[0;32m     63\u001B[0m         data \u001B[38;5;241m=\u001B[39m json\u001B[38;5;241m.\u001B[39mdumps(body, \u001B[38;5;28mcls\u001B[39m\u001B[38;5;241m=\u001B[39mserializer) \u001B[38;5;28;01mif\u001B[39;00m body \u001B[38;5;28;01melse\u001B[39;00m \u001B[38;5;124m\"\u001B[39m\u001B[38;5;124m\"\u001B[39m \u001B[38;5;28;01mif\u001B[39;00m body \u001B[38;5;241m==\u001B[39m \u001B[38;5;124m\"\u001B[39m\u001B[38;5;124m\"\u001B[39m \u001B[38;5;28;01melse\u001B[39;00m \u001B[38;5;124m\"\u001B[39m\u001B[38;5;124mnull\u001B[39m\u001B[38;5;124m\"\u001B[39m\n\u001B[0;32m     65\u001B[0m         request \u001B[38;5;241m=\u001B[39m http_method(\n\u001B[0;32m     66\u001B[0m             request_path, timeout\u001B[38;5;241m=\u001B[39m\u001B[38;5;28mself\u001B[39m\u001B[38;5;241m.\u001B[39mconfig\u001B[38;5;241m.\u001B[39mtimeout, headers\u001B[38;5;241m=\u001B[39m\u001B[38;5;28mself\u001B[39m\u001B[38;5;241m.\u001B[39mheaders, data\u001B[38;5;241m=\u001B[39mdata\n\u001B[0;32m     67\u001B[0m         )\n\u001B[1;32m---> 68\u001B[0m     \u001B[38;5;28;01mreturn\u001B[39;00m \u001B[38;5;28;43mself\u001B[39;49m\u001B[38;5;241;43m.\u001B[39;49m\u001B[43m__validate\u001B[49m\u001B[43m(\u001B[49m\u001B[43mrequest\u001B[49m\u001B[43m)\u001B[49m\n\u001B[0;32m     70\u001B[0m \u001B[38;5;28;01mexcept\u001B[39;00m requests\u001B[38;5;241m.\u001B[39mexceptions\u001B[38;5;241m.\u001B[39mTimeout \u001B[38;5;28;01mas\u001B[39;00m err:\n\u001B[0;32m     71\u001B[0m     \u001B[38;5;28;01mraise\u001B[39;00m MeilisearchTimeoutError(\u001B[38;5;28mstr\u001B[39m(err)) \u001B[38;5;28;01mfrom\u001B[39;00m \u001B[38;5;21;01merr\u001B[39;00m\n",
      "File \u001B[1;32m~\\.conda\\envs\\tf\\lib\\site-packages\\meilisearch\\_httprequests.py:138\u001B[0m, in \u001B[0;36mHttpRequests.__validate\u001B[1;34m(request)\u001B[0m\n\u001B[0;32m    136\u001B[0m     \u001B[38;5;28;01mreturn\u001B[39;00m HttpRequests\u001B[38;5;241m.\u001B[39m__to_json(request)\n\u001B[0;32m    137\u001B[0m \u001B[38;5;28;01mexcept\u001B[39;00m requests\u001B[38;5;241m.\u001B[39mexceptions\u001B[38;5;241m.\u001B[39mHTTPError \u001B[38;5;28;01mas\u001B[39;00m err:\n\u001B[1;32m--> 138\u001B[0m     \u001B[38;5;28;01mraise\u001B[39;00m MeilisearchApiError(\u001B[38;5;28mstr\u001B[39m(err), request) \u001B[38;5;28;01mfrom\u001B[39;00m \u001B[38;5;21;01merr\u001B[39;00m\n",
      "\u001B[1;31mMeilisearchApiError\u001B[0m: MeilisearchApiError. Error code: invalid_api_key. Error message: The provided API key is invalid.. Hint: It might not be working because you're not up to date with the Meilisearch version that search call requires. Error documentation: https://docs.meilisearch.com/errors#invalid_api_key Error type: auth"
     ]
    }
   ],
   "execution_count": 3
  },
  {
   "metadata": {
    "ExecuteTime": {
     "end_time": "2024-11-20T19:11:31.825573Z",
     "start_time": "2024-11-20T19:11:31.703222Z"
    }
   },
   "cell_type": "code",
   "source": [
    "index.search(\"\", {\n",
    "    'filter': 'timestampFor >= 1732008380',\n",
    "    'sort': ['timestampFor:desc']\n",
    "})['hits'][0]"
   ],
   "id": "915c7b06ac8c5deb",
   "outputs": [
    {
     "data": {
      "text/plain": [
       "{'id': '2024-11-20T18_59_11_445Z',\n",
       " 'dayAndNightOf': '2024-11-20',\n",
       " 'timestampFor': 1732129151,\n",
       " 'note': 'test3',\n",
       " 'timestampWritten': 1732129151,\n",
       " 'tags': [],\n",
       " 'dayAndNightOfEpoch': 1732060800,\n",
       " 'timestampUpdated': None}"
      ]
     },
     "execution_count": 43,
     "metadata": {},
     "output_type": "execute_result"
    }
   ],
   "execution_count": 43
  },
  {
   "metadata": {
    "ExecuteTime": {
     "end_time": "2024-11-20T19:02:35.704867Z",
     "start_time": "2024-11-20T19:02:35.395751Z"
    }
   },
   "cell_type": "code",
   "source": [
    "index.search(\"insomnia nights\", {\n",
    "    'hybrid': {\n",
    "        'embedder': 'openai',\n",
    "        'semanticRatio': 0.7\n",
    "    }\n",
    "})"
   ],
   "id": "d14a627533c47e46",
   "outputs": [
    {
     "ename": "MeilisearchApiError",
     "evalue": "MeilisearchApiError. Error code: feature_not_enabled. Error message: Passing `hybrid` as a parameter requires enabling the `vector store` experimental feature. See https://github.com/meilisearch/product/discussions/677. Hint: It might not be working because you're not up to date with the Meilisearch version that search call requires. Error documentation: https://docs.meilisearch.com/errors#feature_not_enabled Error type: invalid_request",
     "output_type": "error",
     "traceback": [
      "\u001B[1;31m---------------------------------------------------------------------------\u001B[0m",
      "\u001B[1;31mHTTPError\u001B[0m                                 Traceback (most recent call last)",
      "File \u001B[1;32m~\\.conda\\envs\\tf\\lib\\site-packages\\meilisearch\\_httprequests.py:135\u001B[0m, in \u001B[0;36mHttpRequests.__validate\u001B[1;34m(request)\u001B[0m\n\u001B[0;32m    134\u001B[0m \u001B[38;5;28;01mtry\u001B[39;00m:\n\u001B[1;32m--> 135\u001B[0m     \u001B[43mrequest\u001B[49m\u001B[38;5;241;43m.\u001B[39;49m\u001B[43mraise_for_status\u001B[49m\u001B[43m(\u001B[49m\u001B[43m)\u001B[49m\n\u001B[0;32m    136\u001B[0m     \u001B[38;5;28;01mreturn\u001B[39;00m HttpRequests\u001B[38;5;241m.\u001B[39m__to_json(request)\n",
      "File \u001B[1;32m~\\.conda\\envs\\tf\\lib\\site-packages\\requests\\models.py:1024\u001B[0m, in \u001B[0;36mResponse.raise_for_status\u001B[1;34m(self)\u001B[0m\n\u001B[0;32m   1023\u001B[0m \u001B[38;5;28;01mif\u001B[39;00m http_error_msg:\n\u001B[1;32m-> 1024\u001B[0m     \u001B[38;5;28;01mraise\u001B[39;00m HTTPError(http_error_msg, response\u001B[38;5;241m=\u001B[39m\u001B[38;5;28mself\u001B[39m)\n",
      "\u001B[1;31mHTTPError\u001B[0m: 400 Client Error: Bad Request for url: http://examined-life.co.uk:7700/indexes/notes/search",
      "\nThe above exception was the direct cause of the following exception:\n",
      "\u001B[1;31mMeilisearchApiError\u001B[0m                       Traceback (most recent call last)",
      "Cell \u001B[1;32mIn[41], line 1\u001B[0m\n\u001B[1;32m----> 1\u001B[0m \u001B[43mindex\u001B[49m\u001B[38;5;241;43m.\u001B[39;49m\u001B[43msearch\u001B[49m\u001B[43m(\u001B[49m\u001B[38;5;124;43m\"\u001B[39;49m\u001B[38;5;124;43minsomnia nights\u001B[39;49m\u001B[38;5;124;43m\"\u001B[39;49m\u001B[43m,\u001B[49m\u001B[43m \u001B[49m\u001B[43m{\u001B[49m\n\u001B[0;32m      2\u001B[0m \u001B[43m    \u001B[49m\u001B[38;5;124;43m'\u001B[39;49m\u001B[38;5;124;43mhybrid\u001B[39;49m\u001B[38;5;124;43m'\u001B[39;49m\u001B[43m:\u001B[49m\u001B[43m \u001B[49m\u001B[43m{\u001B[49m\n\u001B[0;32m      3\u001B[0m \u001B[43m        \u001B[49m\u001B[38;5;124;43m'\u001B[39;49m\u001B[38;5;124;43membedder\u001B[39;49m\u001B[38;5;124;43m'\u001B[39;49m\u001B[43m:\u001B[49m\u001B[43m \u001B[49m\u001B[38;5;124;43m'\u001B[39;49m\u001B[38;5;124;43mopenai\u001B[39;49m\u001B[38;5;124;43m'\u001B[39;49m\u001B[43m,\u001B[49m\n\u001B[0;32m      4\u001B[0m \u001B[43m        \u001B[49m\u001B[38;5;124;43m'\u001B[39;49m\u001B[38;5;124;43msemanticRatio\u001B[39;49m\u001B[38;5;124;43m'\u001B[39;49m\u001B[43m:\u001B[49m\u001B[43m \u001B[49m\u001B[38;5;241;43m0.7\u001B[39;49m\n\u001B[0;32m      5\u001B[0m \u001B[43m    \u001B[49m\u001B[43m}\u001B[49m\n\u001B[0;32m      6\u001B[0m \u001B[43m}\u001B[49m\u001B[43m)\u001B[49m\n",
      "File \u001B[1;32m~\\.conda\\envs\\tf\\lib\\site-packages\\meilisearch\\errors.py:75\u001B[0m, in \u001B[0;36mversion_error_hint_message.<locals>.wrapper\u001B[1;34m(*args, **kwargs)\u001B[0m\n\u001B[0;32m     73\u001B[0m \u001B[38;5;28;01mexcept\u001B[39;00m MeilisearchApiError \u001B[38;5;28;01mas\u001B[39;00m exc:\n\u001B[0;32m     74\u001B[0m     exc\u001B[38;5;241m.\u001B[39mmessage \u001B[38;5;241m=\u001B[39m \u001B[38;5;124mf\u001B[39m\u001B[38;5;124m\"\u001B[39m\u001B[38;5;132;01m{\u001B[39;00mexc\u001B[38;5;241m.\u001B[39mmessage\u001B[38;5;132;01m}\u001B[39;00m\u001B[38;5;124m. Hint: It might not be working because you\u001B[39m\u001B[38;5;124m'\u001B[39m\u001B[38;5;124mre not up to date with the Meilisearch version that \u001B[39m\u001B[38;5;132;01m{\u001B[39;00mfunc\u001B[38;5;241m.\u001B[39m\u001B[38;5;18m__name__\u001B[39m\u001B[38;5;132;01m}\u001B[39;00m\u001B[38;5;124m call requires.\u001B[39m\u001B[38;5;124m\"\u001B[39m\n\u001B[1;32m---> 75\u001B[0m     \u001B[38;5;28;01mraise\u001B[39;00m exc\n",
      "File \u001B[1;32m~\\.conda\\envs\\tf\\lib\\site-packages\\meilisearch\\errors.py:72\u001B[0m, in \u001B[0;36mversion_error_hint_message.<locals>.wrapper\u001B[1;34m(*args, **kwargs)\u001B[0m\n\u001B[0;32m     69\u001B[0m \u001B[38;5;129m@wraps\u001B[39m(func)\n\u001B[0;32m     70\u001B[0m \u001B[38;5;28;01mdef\u001B[39;00m \u001B[38;5;21mwrapper\u001B[39m(\u001B[38;5;241m*\u001B[39margs: Any, \u001B[38;5;241m*\u001B[39m\u001B[38;5;241m*\u001B[39mkwargs: Any) \u001B[38;5;241m-\u001B[39m\u001B[38;5;241m>\u001B[39m Any:\n\u001B[0;32m     71\u001B[0m     \u001B[38;5;28;01mtry\u001B[39;00m:\n\u001B[1;32m---> 72\u001B[0m         \u001B[38;5;28;01mreturn\u001B[39;00m func(\u001B[38;5;241m*\u001B[39margs, \u001B[38;5;241m*\u001B[39m\u001B[38;5;241m*\u001B[39mkwargs)\n\u001B[0;32m     73\u001B[0m     \u001B[38;5;28;01mexcept\u001B[39;00m MeilisearchApiError \u001B[38;5;28;01mas\u001B[39;00m exc:\n\u001B[0;32m     74\u001B[0m         exc\u001B[38;5;241m.\u001B[39mmessage \u001B[38;5;241m=\u001B[39m \u001B[38;5;124mf\u001B[39m\u001B[38;5;124m\"\u001B[39m\u001B[38;5;132;01m{\u001B[39;00mexc\u001B[38;5;241m.\u001B[39mmessage\u001B[38;5;132;01m}\u001B[39;00m\u001B[38;5;124m. Hint: It might not be working because you\u001B[39m\u001B[38;5;124m'\u001B[39m\u001B[38;5;124mre not up to date with the Meilisearch version that \u001B[39m\u001B[38;5;132;01m{\u001B[39;00mfunc\u001B[38;5;241m.\u001B[39m\u001B[38;5;18m__name__\u001B[39m\u001B[38;5;132;01m}\u001B[39;00m\u001B[38;5;124m call requires.\u001B[39m\u001B[38;5;124m\"\u001B[39m\n",
      "File \u001B[1;32m~\\.conda\\envs\\tf\\lib\\site-packages\\meilisearch\\index.py:304\u001B[0m, in \u001B[0;36mIndex.search\u001B[1;34m(self, query, opt_params)\u001B[0m\n\u001B[0;32m    302\u001B[0m     opt_params \u001B[38;5;241m=\u001B[39m {}\n\u001B[0;32m    303\u001B[0m body \u001B[38;5;241m=\u001B[39m {\u001B[38;5;124m\"\u001B[39m\u001B[38;5;124mq\u001B[39m\u001B[38;5;124m\"\u001B[39m: query, \u001B[38;5;241m*\u001B[39m\u001B[38;5;241m*\u001B[39mopt_params}\n\u001B[1;32m--> 304\u001B[0m \u001B[38;5;28;01mreturn\u001B[39;00m \u001B[38;5;28;43mself\u001B[39;49m\u001B[38;5;241;43m.\u001B[39;49m\u001B[43mhttp\u001B[49m\u001B[38;5;241;43m.\u001B[39;49m\u001B[43mpost\u001B[49m\u001B[43m(\u001B[49m\n\u001B[0;32m    305\u001B[0m \u001B[43m    \u001B[49m\u001B[38;5;124;43mf\u001B[39;49m\u001B[38;5;124;43m\"\u001B[39;49m\u001B[38;5;132;43;01m{\u001B[39;49;00m\u001B[38;5;28;43mself\u001B[39;49m\u001B[38;5;241;43m.\u001B[39;49m\u001B[43mconfig\u001B[49m\u001B[38;5;241;43m.\u001B[39;49m\u001B[43mpaths\u001B[49m\u001B[38;5;241;43m.\u001B[39;49m\u001B[43mindex\u001B[49m\u001B[38;5;132;43;01m}\u001B[39;49;00m\u001B[38;5;124;43m/\u001B[39;49m\u001B[38;5;132;43;01m{\u001B[39;49;00m\u001B[38;5;28;43mself\u001B[39;49m\u001B[38;5;241;43m.\u001B[39;49m\u001B[43muid\u001B[49m\u001B[38;5;132;43;01m}\u001B[39;49;00m\u001B[38;5;124;43m/\u001B[39;49m\u001B[38;5;132;43;01m{\u001B[39;49;00m\u001B[38;5;28;43mself\u001B[39;49m\u001B[38;5;241;43m.\u001B[39;49m\u001B[43mconfig\u001B[49m\u001B[38;5;241;43m.\u001B[39;49m\u001B[43mpaths\u001B[49m\u001B[38;5;241;43m.\u001B[39;49m\u001B[43msearch\u001B[49m\u001B[38;5;132;43;01m}\u001B[39;49;00m\u001B[38;5;124;43m\"\u001B[39;49m\u001B[43m,\u001B[49m\n\u001B[0;32m    306\u001B[0m \u001B[43m    \u001B[49m\u001B[43mbody\u001B[49m\u001B[38;5;241;43m=\u001B[39;49m\u001B[43mbody\u001B[49m\u001B[43m,\u001B[49m\n\u001B[0;32m    307\u001B[0m \u001B[43m\u001B[49m\u001B[43m)\u001B[49m\n",
      "File \u001B[1;32m~\\.conda\\envs\\tf\\lib\\site-packages\\meilisearch\\_httprequests.py:88\u001B[0m, in \u001B[0;36mHttpRequests.post\u001B[1;34m(self, path, body, content_type, serializer)\u001B[0m\n\u001B[0;32m     78\u001B[0m \u001B[38;5;28;01mdef\u001B[39;00m \u001B[38;5;21mpost\u001B[39m(\n\u001B[0;32m     79\u001B[0m     \u001B[38;5;28mself\u001B[39m,\n\u001B[0;32m     80\u001B[0m     path: \u001B[38;5;28mstr\u001B[39m,\n\u001B[1;32m   (...)\u001B[0m\n\u001B[0;32m     86\u001B[0m     serializer: Optional[Type[json\u001B[38;5;241m.\u001B[39mJSONEncoder]] \u001B[38;5;241m=\u001B[39m \u001B[38;5;28;01mNone\u001B[39;00m,\n\u001B[0;32m     87\u001B[0m ) \u001B[38;5;241m-\u001B[39m\u001B[38;5;241m>\u001B[39m Any:\n\u001B[1;32m---> 88\u001B[0m     \u001B[38;5;28;01mreturn\u001B[39;00m \u001B[38;5;28;43mself\u001B[39;49m\u001B[38;5;241;43m.\u001B[39;49m\u001B[43msend_request\u001B[49m\u001B[43m(\u001B[49m\u001B[43mrequests\u001B[49m\u001B[38;5;241;43m.\u001B[39;49m\u001B[43mpost\u001B[49m\u001B[43m,\u001B[49m\u001B[43m \u001B[49m\u001B[43mpath\u001B[49m\u001B[43m,\u001B[49m\u001B[43m \u001B[49m\u001B[43mbody\u001B[49m\u001B[43m,\u001B[49m\u001B[43m \u001B[49m\u001B[43mcontent_type\u001B[49m\u001B[43m,\u001B[49m\u001B[43m \u001B[49m\u001B[43mserializer\u001B[49m\u001B[38;5;241;43m=\u001B[39;49m\u001B[43mserializer\u001B[49m\u001B[43m)\u001B[49m\n",
      "File \u001B[1;32m~\\.conda\\envs\\tf\\lib\\site-packages\\meilisearch\\_httprequests.py:68\u001B[0m, in \u001B[0;36mHttpRequests.send_request\u001B[1;34m(self, http_method, path, body, content_type, serializer)\u001B[0m\n\u001B[0;32m     63\u001B[0m         data \u001B[38;5;241m=\u001B[39m json\u001B[38;5;241m.\u001B[39mdumps(body, \u001B[38;5;28mcls\u001B[39m\u001B[38;5;241m=\u001B[39mserializer) \u001B[38;5;28;01mif\u001B[39;00m body \u001B[38;5;28;01melse\u001B[39;00m \u001B[38;5;124m\"\u001B[39m\u001B[38;5;124m\"\u001B[39m \u001B[38;5;28;01mif\u001B[39;00m body \u001B[38;5;241m==\u001B[39m \u001B[38;5;124m\"\u001B[39m\u001B[38;5;124m\"\u001B[39m \u001B[38;5;28;01melse\u001B[39;00m \u001B[38;5;124m\"\u001B[39m\u001B[38;5;124mnull\u001B[39m\u001B[38;5;124m\"\u001B[39m\n\u001B[0;32m     65\u001B[0m         request \u001B[38;5;241m=\u001B[39m http_method(\n\u001B[0;32m     66\u001B[0m             request_path, timeout\u001B[38;5;241m=\u001B[39m\u001B[38;5;28mself\u001B[39m\u001B[38;5;241m.\u001B[39mconfig\u001B[38;5;241m.\u001B[39mtimeout, headers\u001B[38;5;241m=\u001B[39m\u001B[38;5;28mself\u001B[39m\u001B[38;5;241m.\u001B[39mheaders, data\u001B[38;5;241m=\u001B[39mdata\n\u001B[0;32m     67\u001B[0m         )\n\u001B[1;32m---> 68\u001B[0m     \u001B[38;5;28;01mreturn\u001B[39;00m \u001B[38;5;28;43mself\u001B[39;49m\u001B[38;5;241;43m.\u001B[39;49m\u001B[43m__validate\u001B[49m\u001B[43m(\u001B[49m\u001B[43mrequest\u001B[49m\u001B[43m)\u001B[49m\n\u001B[0;32m     70\u001B[0m \u001B[38;5;28;01mexcept\u001B[39;00m requests\u001B[38;5;241m.\u001B[39mexceptions\u001B[38;5;241m.\u001B[39mTimeout \u001B[38;5;28;01mas\u001B[39;00m err:\n\u001B[0;32m     71\u001B[0m     \u001B[38;5;28;01mraise\u001B[39;00m MeilisearchTimeoutError(\u001B[38;5;28mstr\u001B[39m(err)) \u001B[38;5;28;01mfrom\u001B[39;00m \u001B[38;5;21;01merr\u001B[39;00m\n",
      "File \u001B[1;32m~\\.conda\\envs\\tf\\lib\\site-packages\\meilisearch\\_httprequests.py:138\u001B[0m, in \u001B[0;36mHttpRequests.__validate\u001B[1;34m(request)\u001B[0m\n\u001B[0;32m    136\u001B[0m     \u001B[38;5;28;01mreturn\u001B[39;00m HttpRequests\u001B[38;5;241m.\u001B[39m__to_json(request)\n\u001B[0;32m    137\u001B[0m \u001B[38;5;28;01mexcept\u001B[39;00m requests\u001B[38;5;241m.\u001B[39mexceptions\u001B[38;5;241m.\u001B[39mHTTPError \u001B[38;5;28;01mas\u001B[39;00m err:\n\u001B[1;32m--> 138\u001B[0m     \u001B[38;5;28;01mraise\u001B[39;00m MeilisearchApiError(\u001B[38;5;28mstr\u001B[39m(err), request) \u001B[38;5;28;01mfrom\u001B[39;00m \u001B[38;5;21;01merr\u001B[39;00m\n",
      "\u001B[1;31mMeilisearchApiError\u001B[0m: MeilisearchApiError. Error code: feature_not_enabled. Error message: Passing `hybrid` as a parameter requires enabling the `vector store` experimental feature. See https://github.com/meilisearch/product/discussions/677. Hint: It might not be working because you're not up to date with the Meilisearch version that search call requires. Error documentation: https://docs.meilisearch.com/errors#feature_not_enabled Error type: invalid_request"
     ]
    }
   ],
   "execution_count": 41
  }
 ],
 "metadata": {
  "kernelspec": {
   "display_name": "Python 3",
   "language": "python",
   "name": "python3"
  },
  "language_info": {
   "codemirror_mode": {
    "name": "ipython",
    "version": 2
   },
   "file_extension": ".py",
   "mimetype": "text/x-python",
   "name": "python",
   "nbconvert_exporter": "python",
   "pygments_lexer": "ipython2",
   "version": "2.7.6"
  }
 },
 "nbformat": 4,
 "nbformat_minor": 5
}
