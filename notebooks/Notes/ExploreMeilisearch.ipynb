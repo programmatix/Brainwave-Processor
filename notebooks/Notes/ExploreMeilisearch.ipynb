{
 "cells": [
  {
   "metadata": {
    "ExecuteTime": {
     "end_time": "2025-01-09T17:41:09.147251Z",
     "start_time": "2025-01-09T17:41:08.308105Z"
    }
   },
   "cell_type": "code",
   "source": [
    "import os\n",
    "\n",
    "from sleep_events import connect_to_firebase\n",
    "\n",
    "firebase = connect_to_firebase()"
   ],
   "id": "10b1109ebce68afb",
   "outputs": [],
   "execution_count": 1
  },
  {
   "metadata": {
    "ExecuteTime": {
     "end_time": "2025-01-09T17:41:10.129090Z",
     "start_time": "2025-01-09T17:41:09.149762Z"
    }
   },
   "cell_type": "code",
   "source": [
    "import pandas as pd\n",
    "\n",
    "docs = firebase.collection('notesExperimental').stream()\n",
    "\n",
    "note_records = [{'id': doc.id, **doc.to_dict()} for doc in docs]\n",
    "\n",
    "note_df = pd.DataFrame(note_records)"
   ],
   "id": "9340414b9e579582",
   "outputs": [],
   "execution_count": 2
  },
  {
   "metadata": {
    "ExecuteTime": {
     "end_time": "2025-01-09T17:43:32.270790Z",
     "start_time": "2025-01-09T17:43:32.254892Z"
    }
   },
   "cell_type": "code",
   "source": "note_df[note_df['dayAndNightOf'].isnull()]",
   "id": "f4f36b1a91b026ec",
   "outputs": [
    {
     "data": {
      "text/plain": [
       "Empty DataFrame\n",
       "Columns: [id, note, dayAndNightOf, timestampForUTC, timestampWritten, timestampFor, tags, timestampWrittenUTC, timestampUpdated, isPreviousDay]\n",
       "Index: []"
      ],
      "text/html": [
       "<div>\n",
       "<style scoped>\n",
       "    .dataframe tbody tr th:only-of-type {\n",
       "        vertical-align: middle;\n",
       "    }\n",
       "\n",
       "    .dataframe tbody tr th {\n",
       "        vertical-align: top;\n",
       "    }\n",
       "\n",
       "    .dataframe thead th {\n",
       "        text-align: right;\n",
       "    }\n",
       "</style>\n",
       "<table border=\"1\" class=\"dataframe\">\n",
       "  <thead>\n",
       "    <tr style=\"text-align: right;\">\n",
       "      <th></th>\n",
       "      <th>id</th>\n",
       "      <th>note</th>\n",
       "      <th>dayAndNightOf</th>\n",
       "      <th>timestampForUTC</th>\n",
       "      <th>timestampWritten</th>\n",
       "      <th>timestampFor</th>\n",
       "      <th>tags</th>\n",
       "      <th>timestampWrittenUTC</th>\n",
       "      <th>timestampUpdated</th>\n",
       "      <th>isPreviousDay</th>\n",
       "    </tr>\n",
       "  </thead>\n",
       "  <tbody>\n",
       "  </tbody>\n",
       "</table>\n",
       "</div>"
      ]
     },
     "execution_count": 7,
     "metadata": {},
     "output_type": "execute_result"
    }
   ],
   "execution_count": 7
  },
  {
   "metadata": {
    "ExecuteTime": {
     "end_time": "2025-01-09T17:54:22.607676Z",
     "start_time": "2025-01-09T17:54:22.592049Z"
    }
   },
   "cell_type": "code",
   "source": [
    "firebase_grouped = note_df.groupby('dayAndNightOf').size()\n",
    "firebase_grouped"
   ],
   "id": "c50142a5fd6367b3",
   "outputs": [
    {
     "data": {
      "text/plain": [
       "dayAndNightOf\n",
       "2024-05-03     2\n",
       "2024-05-04     1\n",
       "2024-05-05     8\n",
       "2024-05-06     7\n",
       "2024-05-07     8\n",
       "              ..\n",
       "2025-01-05     6\n",
       "2025-01-06     8\n",
       "2025-01-07    10\n",
       "2025-01-08    14\n",
       "2025-01-09    11\n",
       "Length: 250, dtype: int64"
      ]
     },
     "execution_count": 34,
     "metadata": {},
     "output_type": "execute_result"
    }
   ],
   "execution_count": 34
  },
  {
   "metadata": {
    "ExecuteTime": {
     "end_time": "2025-01-09T17:41:33.093605Z",
     "start_time": "2025-01-09T17:41:33.077963Z"
    }
   },
   "cell_type": "code",
   "source": "note_df[note_df['dayAndNightOf'] == '2024-07-11']",
   "id": "7a62f7a4841fa06e",
   "outputs": [
    {
     "data": {
      "text/plain": [
       "Empty DataFrame\n",
       "Columns: [id, note, dayAndNightOf, timestampForUTC, timestampWritten, timestampFor, tags, timestampWrittenUTC, timestampUpdated, isPreviousDay]\n",
       "Index: []"
      ],
      "text/html": [
       "<div>\n",
       "<style scoped>\n",
       "    .dataframe tbody tr th:only-of-type {\n",
       "        vertical-align: middle;\n",
       "    }\n",
       "\n",
       "    .dataframe tbody tr th {\n",
       "        vertical-align: top;\n",
       "    }\n",
       "\n",
       "    .dataframe thead th {\n",
       "        text-align: right;\n",
       "    }\n",
       "</style>\n",
       "<table border=\"1\" class=\"dataframe\">\n",
       "  <thead>\n",
       "    <tr style=\"text-align: right;\">\n",
       "      <th></th>\n",
       "      <th>id</th>\n",
       "      <th>note</th>\n",
       "      <th>dayAndNightOf</th>\n",
       "      <th>timestampForUTC</th>\n",
       "      <th>timestampWritten</th>\n",
       "      <th>timestampFor</th>\n",
       "      <th>tags</th>\n",
       "      <th>timestampWrittenUTC</th>\n",
       "      <th>timestampUpdated</th>\n",
       "      <th>isPreviousDay</th>\n",
       "    </tr>\n",
       "  </thead>\n",
       "  <tbody>\n",
       "  </tbody>\n",
       "</table>\n",
       "</div>"
      ]
     },
     "execution_count": 4,
     "metadata": {},
     "output_type": "execute_result"
    }
   ],
   "execution_count": 4
  },
  {
   "metadata": {
    "ExecuteTime": {
     "end_time": "2024-12-19T12:59:17.343754200Z",
     "start_time": "2024-11-20T19:23:04.002791Z"
    }
   },
   "cell_type": "code",
   "source": "cloned_note_records[0]",
   "id": "67e9c701441f4dc7",
   "outputs": [
    {
     "data": {
      "text/plain": [
       "{'id': '2024-05-03T16_48_08_446_01_00',\n",
       " 'timestampWritten': 1714751288,\n",
       " 'note': \"Interesting ritalin thing.. It suppresses my inhibition enough to make me respond quicker, and that's really making me realise that I am a bit autistic. Maybe?\",\n",
       " 'tags': ['ritalin', 'inhibition', 'autistic'],\n",
       " 'timestampFor': 1714751237,\n",
       " 'dayAndNightOf': '2024-05-03',\n",
       " 'originalKey': '2024-05-03T16:48:08.446+01:00',\n",
       " 'dayAndNightOfEpoch': 1714690800}"
      ]
     },
     "execution_count": 59,
     "metadata": {},
     "output_type": "execute_result"
    }
   ],
   "execution_count": 59
  },
  {
   "metadata": {
    "ExecuteTime": {
     "end_time": "2025-01-09T17:56:36.314026Z",
     "start_time": "2025-01-09T17:56:36.298509Z"
    }
   },
   "cell_type": "code",
   "source": [
    "import meilisearch\n",
    "import json\n",
    "import json\n",
    "import re\n",
    "import os\n",
    "import dotenv\n",
    "dotenv.load_dotenv(\"../../.env\")\n",
    "\n",
    "client = meilisearch.Client('https://examined-life.co.uk:7700', os.getenv('MEILISEARCH_MASTER_KEY'))\n",
    "index = client.index('notes')\n"
   ],
   "id": "65b10b49b1acacf",
   "outputs": [],
   "execution_count": 39
  },
  {
   "metadata": {
    "ExecuteTime": {
     "end_time": "2024-12-19T12:59:17.517973300Z",
     "start_time": "2024-11-20T09:17:51.426900Z"
    }
   },
   "cell_type": "code",
   "source": [
    "from meilisearch import Client\n",
    "import itertools\n",
    "\n",
    "def get_all_unique_tags(client, index_name):\n",
    "    \"\"\"\n",
    "    Retrieves all unique tags from documents in a Meilisearch index.\n",
    "\n",
    "    Args:\n",
    "        client: Meilisearch client instance\n",
    "        index_name: Name of the index to query\n",
    "\n",
    "    Returns:\n",
    "        set: A set of unique tags\n",
    "    \"\"\"\n",
    "    # Get the index\n",
    "    index = client.index(index_name)\n",
    "\n",
    "    # Get all documents - we'll paginate to handle large datasets\n",
    "    limit = 1000\n",
    "    offset = 0\n",
    "    all_tags = set()\n",
    "\n",
    "    while True:\n",
    "        print(f\"Fetching documents from offset {offset}...\")\n",
    "        # Fetch batch of documents\n",
    "        index = client.index('notes')\n",
    "        results = index.get_documents({\n",
    "        'limit': limit,\n",
    "        'offset': offset\n",
    "        })\n",
    "        \n",
    "        # Break if no more documents\n",
    "        if not results.results:\n",
    "            break\n",
    "\n",
    "        # Extract tags from each document and add to set\n",
    "        batch_tags = set(itertools.chain.from_iterable(\n",
    "            doc.tags for doc in results.results\n",
    "        ))\n",
    "        all_tags.update(batch_tags)\n",
    "\n",
    "        # Move to next batch\n",
    "        offset += limit\n",
    "\n",
    "    return all_tags\n",
    "\n",
    "get_all_unique_tags(client, 'notes')"
   ],
   "id": "2bf27528c59fc46c",
   "outputs": [
    {
     "name": "stdout",
     "output_type": "stream",
     "text": [
      "Fetching documents from offset 0...\n",
      "Fetching documents from offset 1000...\n",
      "Fetching documents from offset 2000...\n"
     ]
    },
    {
     "data": {
      "text/plain": [
       "{'5htp',\n",
       " 'adhd',\n",
       " 'adhd:obsessive-research',\n",
       " 'adhd:protein',\n",
       " 'air-purifier',\n",
       " 'apnea',\n",
       " 'appetite:exercise',\n",
       " 'appetite:sun',\n",
       " 'autistic',\n",
       " 'awake-early',\n",
       " 'bath',\n",
       " 'bedroom-heater',\n",
       " 'blood-pressure',\n",
       " 'breathing',\n",
       " 'chamomile',\n",
       " 'circadian-rhythm',\n",
       " 'circadian-rhythm: shower',\n",
       " 'circadian-rhythm:alarm',\n",
       " 'circadian-rhythm:daylight-savings',\n",
       " 'circadian-rhythm:energy',\n",
       " 'circadian-rhythm:heart-rate:early-evening',\n",
       " 'circadian-rhythm:lep',\n",
       " 'circadian-rhythm:lep:late-night',\n",
       " 'circadian-rhythm:lep:sleepiness',\n",
       " 'circadian-rhythm:second-wind',\n",
       " 'circadian-rhythm:summary',\n",
       " 'cleaning',\n",
       " 'co2',\n",
       " 'concerta:27mg',\n",
       " 'concerta:cleaning',\n",
       " 'concerta:drinking',\n",
       " 'concerta:emotional',\n",
       " 'concerta:ending',\n",
       " 'concerta:insomnia',\n",
       " 'concerta:kicking-in',\n",
       " 'concerta:protein',\n",
       " 'concerta:settling',\n",
       " 'concerta:skipped-breakfast',\n",
       " 'concerta:social',\n",
       " 'concerta:vitamin-c',\n",
       " 'context',\n",
       " 'context:fatigue',\n",
       " 'data',\n",
       " 'data:core',\n",
       " 'data:food',\n",
       " 'data:lux',\n",
       " 'data:viatom',\n",
       " 'data:yasa',\n",
       " 'dehydration',\n",
       " 'diary',\n",
       " 'drinking',\n",
       " 'eeg',\n",
       " 'eeg:lost',\n",
       " 'eeg:motivation',\n",
       " 'eeg:temp',\n",
       " 'elvanse',\n",
       " 'elvanse:10mg',\n",
       " 'elvanse:30mg',\n",
       " 'elvanse:50mg',\n",
       " 'elvanse:appetite',\n",
       " 'elvanse:chats',\n",
       " 'elvanse:co2',\n",
       " 'elvanse:discomfort',\n",
       " 'elvanse:ending',\n",
       " 'elvanse:face',\n",
       " 'elvanse:insomnia',\n",
       " 'elvanse:kicks-in',\n",
       " 'elvanse:mood',\n",
       " 'elvanse:nausea',\n",
       " 'elvanse:pressure',\n",
       " 'elvanse:productivity',\n",
       " 'elvanse:settling',\n",
       " 'elvanse:task-prioritisation',\n",
       " 'elvanse:vitamin-c',\n",
       " 'energized',\n",
       " 'energy:afternoon-slump',\n",
       " 'energy:eeg',\n",
       " 'energy:food:perking',\n",
       " 'energy:good',\n",
       " 'energy:improved-by-large-meal',\n",
       " 'energy:late-morning-slump',\n",
       " 'energy:slumps',\n",
       " 'energy:slumps:blood-sugar',\n",
       " 'energy:slumps:post-morning-walk',\n",
       " 'energy:slumps:temp',\n",
       " 'energy:stop-work',\n",
       " 'energy:temp',\n",
       " 'evening:avoid-slack',\n",
       " 'exercise',\n",
       " 'experiment:morning-walk',\n",
       " 'eye-fatigue',\n",
       " 'food-slump',\n",
       " 'glucose',\n",
       " 'hayfever',\n",
       " 'hunger',\n",
       " 'hypo',\n",
       " 'ideas',\n",
       " 'important',\n",
       " 'inhibition',\n",
       " 'late-morning-slump',\n",
       " 'libido',\n",
       " 'magnesium:circadian-rhythm',\n",
       " 'magnesium:experiment',\n",
       " 'massage-gun',\n",
       " 'melatonin:insomnia',\n",
       " 'morning-light',\n",
       " 'morning-light:eeg',\n",
       " 'morning-slump',\n",
       " 'morning-walk',\n",
       " 'morning-walk:experiment',\n",
       " 'mounjaro',\n",
       " 'mounjaro:fatigue',\n",
       " 'night-summary',\n",
       " 'o2',\n",
       " 'o2:sleep',\n",
       " 'pillow:levitex',\n",
       " 'poor-settling-leads-to-poor-sleep',\n",
       " 'productivity',\n",
       " 'productivity:temp',\n",
       " 'psg:montage',\n",
       " 'reasons-to-leave-couchbase',\n",
       " 'relationship-issues',\n",
       " 'restricted-breathing',\n",
       " 'ritalin',\n",
       " 'ritalin:10mg-too-much',\n",
       " 'ritalin:20mg',\n",
       " 'ritalin:5mg',\n",
       " 'ritalin:5mg-not-enough',\n",
       " 'ritalin:5mg-not-enough:mylan',\n",
       " 'ritalin:5mg-too-much',\n",
       " 'ritalin:affecting-sleep',\n",
       " 'ritalin:anger',\n",
       " 'ritalin:blood-pressure',\n",
       " 'ritalin:cold-feet',\n",
       " 'ritalin:duration',\n",
       " 'ritalin:focus',\n",
       " 'ritalin:insomnia',\n",
       " 'ritalin:kicking-in',\n",
       " 'ritalin:late',\n",
       " 'ritalin:media',\n",
       " 'ritalin:meetings',\n",
       " 'ritalin:mylan',\n",
       " 'ritalin:mylan:10mg',\n",
       " 'ritalin:mylan:10mg:settling',\n",
       " 'ritalin:mylan:5mg',\n",
       " 'ritalin:mylan:5mg-enough',\n",
       " 'ritalin:protein',\n",
       " 'ritalin:settling',\n",
       " 'ritalin:sleep-dose',\n",
       " 'ritalin:task-prioritisation',\n",
       " 'ritalin:vs-elvanse',\n",
       " 'run',\n",
       " 'run:post-run-fatigue',\n",
       " 'rybelsus',\n",
       " 'settle',\n",
       " 'settle:audiobooks',\n",
       " 'settle:back-rub',\n",
       " 'settle:calm',\n",
       " 'settle:early',\n",
       " 'settle:meditation',\n",
       " 'settle:no-games',\n",
       " 'settle:work-stress',\n",
       " 'settling',\n",
       " 'settling:adhd',\n",
       " 'settling:audio',\n",
       " 'settling:audiobooks',\n",
       " 'settling:back-rub',\n",
       " 'settling:charlie-bedtime',\n",
       " 'settling:dodow',\n",
       " 'settling:early',\n",
       " 'settling:fap',\n",
       " 'settling:fiction',\n",
       " 'settling:fired-up',\n",
       " 'settling:games',\n",
       " 'settling:helped-by-morning-walk',\n",
       " 'settling:hrv',\n",
       " 'settling:internet',\n",
       " 'settling:meditation',\n",
       " 'settling:morning-light',\n",
       " 'settling:phone-away',\n",
       " 'settling:rgm',\n",
       " 'settling:ritalin',\n",
       " 'settling:slack',\n",
       " 'settling:sleep-quality',\n",
       " 'settling:temp',\n",
       " 'settling:too-much-data',\n",
       " 'settling:too-warm',\n",
       " 'settling:upstairs-2130',\n",
       " 'settling:upstairs-early',\n",
       " 'settling:window',\n",
       " 'shower',\n",
       " 'sleep',\n",
       " 'sleep:45-degree',\n",
       " 'sleep:blackouts',\n",
       " 'sleep:co2',\n",
       " 'sleep:cold-feet',\n",
       " 'sleep:comparison',\n",
       " 'sleep:deprivation',\n",
       " 'sleep:disturbance:car-noise',\n",
       " 'sleep:disturbance:cat',\n",
       " 'sleep:disturbance:cat:hogging',\n",
       " 'sleep:disturbance:charlie',\n",
       " 'sleep:disturbance:cold',\n",
       " 'sleep:disturbance:dog',\n",
       " 'sleep:disturbance:dopamine',\n",
       " 'sleep:disturbance:early-waking',\n",
       " 'sleep:disturbance:eeg',\n",
       " 'sleep:disturbance:food',\n",
       " 'sleep:disturbance:light',\n",
       " 'sleep:disturbance:noise',\n",
       " 'sleep:disturbance:squeaky-bed',\n",
       " 'sleep:disturbance:sunlight',\n",
       " 'sleep:disturbance:temperature',\n",
       " 'sleep:disturbance:work-stress',\n",
       " 'sleep:disturbances:cat',\n",
       " 'sleep:disturbances:eeg',\n",
       " 'sleep:disturbances:light',\n",
       " 'sleep:disturbances:pee',\n",
       " 'sleep:disturbances:pyjamas',\n",
       " 'sleep:disturbances:work-stress',\n",
       " 'sleep:duration',\n",
       " 'sleep:early-night',\n",
       " 'sleep:exercise',\n",
       " 'sleep:good',\n",
       " 'sleep:helped-by-morning-walk',\n",
       " 'sleep:histamine',\n",
       " 'sleep:holiday',\n",
       " 'sleep:insomnia',\n",
       " 'sleep:insomnia:adhd',\n",
       " 'sleep:insomnia:creative',\n",
       " 'sleep:insomnia:distraction',\n",
       " 'sleep:insomnia:evening-meal',\n",
       " 'sleep:late-night',\n",
       " 'sleep:obsessive-research',\n",
       " 'sleep:rgm',\n",
       " 'sleep:signal',\n",
       " 'sleep:statistics',\n",
       " 'sleep:summary',\n",
       " 'sleep:temp',\n",
       " 'sleep:treadmill',\n",
       " 'sleep:wake-early',\n",
       " 'sleep:walking',\n",
       " 'sleep:weed',\n",
       " 'sober',\n",
       " 'sunlight',\n",
       " 'tracking',\n",
       " 'treadmill',\n",
       " 'waking:sunlight',\n",
       " 'walk',\n",
       " 'weed',\n",
       " 'woke-early',\n",
       " 'work-productivity',\n",
       " 'work-slacks',\n",
       " 'work-stress',\n",
       " 'work:blocked',\n",
       " 'yasa:eeg-requirements',\n",
       " 'yasa:inaccuracies'}"
      ]
     },
     "execution_count": 212,
     "metadata": {},
     "output_type": "execute_result"
    }
   ],
   "execution_count": 212
  },
  {
   "metadata": {
    "ExecuteTime": {
     "end_time": "2025-01-09T17:49:42.004214Z",
     "start_time": "2025-01-09T17:49:40.886256Z"
    }
   },
   "cell_type": "code",
   "source": [
    "from meilisearch import Client\n",
    "import itertools\n",
    "\n",
    "def get_all_notes(client, index_name):\n",
    "    index = client.index(index_name)\n",
    "\n",
    "    # Get all documents - we'll paginate to handle large datasets\n",
    "    limit = 1000\n",
    "    offset = 0\n",
    "    docs = []\n",
    "\n",
    "    while True:\n",
    "        print(f\"Fetching documents from offset {offset}...\")\n",
    "        # Fetch batch of documents\n",
    "        results = index.get_documents({\n",
    "            'limit': limit,\n",
    "            'offset': offset\n",
    "        })\n",
    "\n",
    "        if not results.results:\n",
    "            break\n",
    "\n",
    "        docs.extend([doc for doc in results.results])\n",
    "\n",
    "        # Move to next batch\n",
    "        offset += limit\n",
    "\n",
    "    return docs\n",
    "\n",
    "all_docs = get_all_notes(client, 'notes')"
   ],
   "id": "4e687429e4278daa",
   "outputs": [
    {
     "name": "stdout",
     "output_type": "stream",
     "text": [
      "Fetching documents from offset 0...\n",
      "Fetching documents from offset 1000...\n",
      "Fetching documents from offset 2000...\n",
      "Fetching documents from offset 3000...\n"
     ]
    }
   ],
   "execution_count": 19
  },
  {
   "metadata": {
    "ExecuteTime": {
     "end_time": "2025-01-09T17:51:51.796740Z",
     "start_time": "2025-01-09T17:51:51.781104Z"
    }
   },
   "cell_type": "code",
   "source": "dir(all_docs[0])",
   "id": "53581cdc9f27f68e",
   "outputs": [
    {
     "data": {
      "text/plain": [
       "['_Document__doc',\n",
       " '__annotations__',\n",
       " '__class__',\n",
       " '__delattr__',\n",
       " '__dict__',\n",
       " '__dir__',\n",
       " '__doc__',\n",
       " '__eq__',\n",
       " '__format__',\n",
       " '__ge__',\n",
       " '__getattr__',\n",
       " '__getattribute__',\n",
       " '__gt__',\n",
       " '__hash__',\n",
       " '__init__',\n",
       " '__init_subclass__',\n",
       " '__iter__',\n",
       " '__le__',\n",
       " '__lt__',\n",
       " '__module__',\n",
       " '__ne__',\n",
       " '__new__',\n",
       " '__reduce__',\n",
       " '__reduce_ex__',\n",
       " '__repr__',\n",
       " '__setattr__',\n",
       " '__sizeof__',\n",
       " '__str__',\n",
       " '__subclasshook__',\n",
       " '__weakref__',\n",
       " 'dayAndNightOf',\n",
       " 'dayAndNightOfEpoch',\n",
       " 'id',\n",
       " 'note',\n",
       " 'originalKey',\n",
       " 'tags',\n",
       " 'timestampFor',\n",
       " 'timestampWritten']"
      ]
     },
     "execution_count": 29,
     "metadata": {},
     "output_type": "execute_result"
    }
   ],
   "execution_count": 29
  },
  {
   "metadata": {
    "ExecuteTime": {
     "end_time": "2025-01-09T17:50:48.152520Z",
     "start_time": "2025-01-09T17:50:48.136886Z"
    }
   },
   "cell_type": "code",
   "source": "[c for c in dir(all_docs[0]) if not c.startswith('_')]",
   "id": "c6afab2df92ad3ae",
   "outputs": [
    {
     "data": {
      "text/plain": [
       "['dayAndNightOf',\n",
       " 'dayAndNightOfEpoch',\n",
       " 'id',\n",
       " 'note',\n",
       " 'originalKey',\n",
       " 'tags',\n",
       " 'timestampFor',\n",
       " 'timestampWritten']"
      ]
     },
     "execution_count": 25,
     "metadata": {},
     "output_type": "execute_result"
    }
   ],
   "execution_count": 25
  },
  {
   "metadata": {
    "ExecuteTime": {
     "end_time": "2025-01-09T17:54:07.509247Z",
     "start_time": "2025-01-09T17:54:07.498699Z"
    }
   },
   "cell_type": "code",
   "source": [
    "import pandas as pd\n",
    "\n",
    "# Extract headers from the first document\n",
    "headers = [c for c in dir(all_docs[0]) if not c.startswith('_')]\n",
    "\n",
    "# Convert the list of documents to a DataFrame using the extracted headers\n",
    "all_docs_dicts = [doc.__dict__ if hasattr(doc, '__dict__') else doc for doc in all_docs]\n",
    "\n",
    "all_docs_df = pd.DataFrame(all_docs_dicts, columns=headers)\n",
    "\n",
    "# Display the DataFrame\n",
    "all_docs_ml_grouped = all_docs_df.groupby('dayAndNightOf').size()\n",
    "all_docs_ml_grouped"
   ],
   "id": "6e55c209a33fe0a5",
   "outputs": [
    {
     "data": {
      "text/plain": [
       "dayAndNightOf\n",
       "2024-05-03     2\n",
       "2024-05-04     1\n",
       "2024-05-05     8\n",
       "2024-05-06     7\n",
       "2024-05-07     8\n",
       "              ..\n",
       "2025-01-05     6\n",
       "2025-01-06     8\n",
       "2025-01-07    10\n",
       "2025-01-08    14\n",
       "2025-01-09    11\n",
       "Length: 250, dtype: int64"
      ]
     },
     "execution_count": 33,
     "metadata": {},
     "output_type": "execute_result"
    }
   ],
   "execution_count": 33
  },
  {
   "metadata": {
    "ExecuteTime": {
     "end_time": "2025-01-09T17:54:51.307596Z",
     "start_time": "2025-01-09T17:54:51.292079Z"
    }
   },
   "cell_type": "code",
   "source": "firebase_grouped",
   "id": "c1a7a61ed9fa802c",
   "outputs": [
    {
     "data": {
      "text/plain": [
       "dayAndNightOf\n",
       "2024-05-03     2\n",
       "2024-05-04     1\n",
       "2024-05-05     8\n",
       "2024-05-06     7\n",
       "2024-05-07     8\n",
       "              ..\n",
       "2025-01-05     6\n",
       "2025-01-06     8\n",
       "2025-01-07    10\n",
       "2025-01-08    14\n",
       "2025-01-09    11\n",
       "Length: 250, dtype: int64"
      ]
     },
     "execution_count": 37,
     "metadata": {},
     "output_type": "execute_result"
    }
   ],
   "execution_count": 37
  },
  {
   "metadata": {
    "ExecuteTime": {
     "end_time": "2025-01-09T17:54:40.077323Z",
     "start_time": "2025-01-09T17:54:40.046058Z"
    }
   },
   "cell_type": "code",
   "source": [
    "comparison = firebase_grouped.compare(all_docs_ml_grouped)\n",
    "comparison"
   ],
   "id": "94d5c38e55e7229b",
   "outputs": [
    {
     "data": {
      "text/plain": [
       "Empty DataFrame\n",
       "Columns: [self, other]\n",
       "Index: []"
      ],
      "text/html": [
       "<div>\n",
       "<style scoped>\n",
       "    .dataframe tbody tr th:only-of-type {\n",
       "        vertical-align: middle;\n",
       "    }\n",
       "\n",
       "    .dataframe tbody tr th {\n",
       "        vertical-align: top;\n",
       "    }\n",
       "\n",
       "    .dataframe thead th {\n",
       "        text-align: right;\n",
       "    }\n",
       "</style>\n",
       "<table border=\"1\" class=\"dataframe\">\n",
       "  <thead>\n",
       "    <tr style=\"text-align: right;\">\n",
       "      <th></th>\n",
       "      <th>self</th>\n",
       "      <th>other</th>\n",
       "    </tr>\n",
       "    <tr>\n",
       "      <th>dayAndNightOf</th>\n",
       "      <th></th>\n",
       "      <th></th>\n",
       "    </tr>\n",
       "  </thead>\n",
       "  <tbody>\n",
       "  </tbody>\n",
       "</table>\n",
       "</div>"
      ]
     },
     "execution_count": 36,
     "metadata": {},
     "output_type": "execute_result"
    }
   ],
   "execution_count": 36
  },
  {
   "metadata": {
    "ExecuteTime": {
     "end_time": "2025-01-09T17:57:03.619880Z",
     "start_time": "2025-01-09T17:57:03.588289Z"
    }
   },
   "cell_type": "code",
   "source": "all_docs_df[all_docs_df['dayAndNightOf'] == '2024-07-12']",
   "id": "40424a3ba6f6acab",
   "outputs": [
    {
     "data": {
      "text/plain": [
       "    dayAndNightOf  dayAndNightOfEpoch                             id  \\\n",
       "309    2024-07-12          1720738800  2024-07-12T10_21_13_254_01_00   \n",
       "310    2024-07-12          1720738800  2024-07-12T14_36_12_049_01_00   \n",
       "311    2024-07-12          1720738800  2024-07-13T13_15_33_200_01_00   \n",
       "\n",
       "                                                  note  \\\n",
       "309  Am feeling a lot better this morning.\\nGot the...   \n",
       "310  Today has been pretty good until now when I'm ...   \n",
       "311  Night of 12th: Co2 change: pumped air out alon...   \n",
       "\n",
       "                       originalKey  \\\n",
       "309  2024-07-12T10:21:13.254+01:00   \n",
       "310  2024-07-12T14:36:12.049+01:00   \n",
       "311  2024-07-13T13:15:33.200+01:00   \n",
       "\n",
       "                                                  tags  timestampFor  \\\n",
       "309                        [sleep:summary, sleep:temp]  1.720776e+09   \n",
       "310  [co2, sleep:summary, energy:good, sleep:good, ...  1.720791e+09   \n",
       "311                                              [co2]           NaN   \n",
       "\n",
       "     timestampWritten  \n",
       "309      1.720776e+09  \n",
       "310      1.720791e+09  \n",
       "311      1.720971e+09  "
      ],
      "text/html": [
       "<div>\n",
       "<style scoped>\n",
       "    .dataframe tbody tr th:only-of-type {\n",
       "        vertical-align: middle;\n",
       "    }\n",
       "\n",
       "    .dataframe tbody tr th {\n",
       "        vertical-align: top;\n",
       "    }\n",
       "\n",
       "    .dataframe thead th {\n",
       "        text-align: right;\n",
       "    }\n",
       "</style>\n",
       "<table border=\"1\" class=\"dataframe\">\n",
       "  <thead>\n",
       "    <tr style=\"text-align: right;\">\n",
       "      <th></th>\n",
       "      <th>dayAndNightOf</th>\n",
       "      <th>dayAndNightOfEpoch</th>\n",
       "      <th>id</th>\n",
       "      <th>note</th>\n",
       "      <th>originalKey</th>\n",
       "      <th>tags</th>\n",
       "      <th>timestampFor</th>\n",
       "      <th>timestampWritten</th>\n",
       "    </tr>\n",
       "  </thead>\n",
       "  <tbody>\n",
       "    <tr>\n",
       "      <th>309</th>\n",
       "      <td>2024-07-12</td>\n",
       "      <td>1720738800</td>\n",
       "      <td>2024-07-12T10_21_13_254_01_00</td>\n",
       "      <td>Am feeling a lot better this morning.\\nGot the...</td>\n",
       "      <td>2024-07-12T10:21:13.254+01:00</td>\n",
       "      <td>[sleep:summary, sleep:temp]</td>\n",
       "      <td>1.720776e+09</td>\n",
       "      <td>1.720776e+09</td>\n",
       "    </tr>\n",
       "    <tr>\n",
       "      <th>310</th>\n",
       "      <td>2024-07-12</td>\n",
       "      <td>1720738800</td>\n",
       "      <td>2024-07-12T14_36_12_049_01_00</td>\n",
       "      <td>Today has been pretty good until now when I'm ...</td>\n",
       "      <td>2024-07-12T14:36:12.049+01:00</td>\n",
       "      <td>[co2, sleep:summary, energy:good, sleep:good, ...</td>\n",
       "      <td>1.720791e+09</td>\n",
       "      <td>1.720791e+09</td>\n",
       "    </tr>\n",
       "    <tr>\n",
       "      <th>311</th>\n",
       "      <td>2024-07-12</td>\n",
       "      <td>1720738800</td>\n",
       "      <td>2024-07-13T13_15_33_200_01_00</td>\n",
       "      <td>Night of 12th: Co2 change: pumped air out alon...</td>\n",
       "      <td>2024-07-13T13:15:33.200+01:00</td>\n",
       "      <td>[co2]</td>\n",
       "      <td>NaN</td>\n",
       "      <td>1.720971e+09</td>\n",
       "    </tr>\n",
       "  </tbody>\n",
       "</table>\n",
       "</div>"
      ]
     },
     "execution_count": 42,
     "metadata": {},
     "output_type": "execute_result"
    }
   ],
   "execution_count": 42
  },
  {
   "metadata": {
    "ExecuteTime": {
     "end_time": "2025-01-09T18:12:54.185334Z",
     "start_time": "2025-01-09T18:12:53.644072Z"
    }
   },
   "cell_type": "code",
   "source": [
    "index.search(\"\", {\n",
    "    \"filter\": \"dayAndNightOfEpoch >= 1720742400  AND dayAndNightOfEpoch <= 1720742400 \",\n",
    "    \"limit\": 1000,\n",
    "    \"offset\": 0\n",
    "})"
   ],
   "id": "786acee4d68c0d57",
   "outputs": [
    {
     "data": {
      "text/plain": [
       "{'hits': [{'note': 'Am feeling a lot better this morning.\\nGot the bedroom nice and cool yday.',\n",
       "   'timestampFor': 1720776073,\n",
       "   'timestampWritten': 1720776073,\n",
       "   'dayAndNightOf': '2024-07-12',\n",
       "   'tags': ['sleep:summary', 'sleep:temp'],\n",
       "   'id': '2024-07-12T10_21_13_254_01_00',\n",
       "   'originalKey': '2024-07-12T10:21:13.254+01:00',\n",
       "   'dayAndNightOfEpoch': 1720742400},\n",
       "  {'note': \"Today has been pretty good until now when I'm slumping after sandwich lunch.  Yday:\\nDinner was brown rice + chicken and veg, 7 to 8 ish.\\nWorked on XL until 9.  Watched Clarksons Farm, upstairs about 10.  Had a shower.  Was in bed at 10.45 after sorting out EEG montage, fans, windows etc.  Was pretty wired.  \\nListened to podcast and used Dodow to settle, same as previous day.  Worked ok, less well.  Charlie still wasn't upstairs and I think I was lights out about 11.30 and she finally came up a bit later (unusual).  \\nDifferences from usual: only 2nd night of using podcast.  Haven't had wholegrain carbs in evening for a while.  Managed to get the BR much cooler than usual finally.  Only 2nd night of pumping in air from corridor to try and help co2.\\nStuff that's working as usual: only one AF beer in evening, max 2.  So no peeing.  Using Helen's contoured memory foam pillow (it's ok).  Blackouts. \",\n",
       "   'timestampFor': 1720791372,\n",
       "   'timestampWritten': 1720791372,\n",
       "   'dayAndNightOf': '2024-07-12',\n",
       "   'tags': ['co2',\n",
       "    'sleep:summary',\n",
       "    'energy:good',\n",
       "    'sleep:good',\n",
       "    'settling:audiobooks',\n",
       "    'sleep:disturbance:temperature',\n",
       "    'sleep:blackouts'],\n",
       "   'id': '2024-07-12T14_36_12_049_01_00',\n",
       "   'originalKey': '2024-07-12T14:36:12.049+01:00',\n",
       "   'dayAndNightOfEpoch': 1720742400},\n",
       "  {'note': \"Night of 12th: Co2 change: pumped air out along a new very long duct into the study. Seemed to work ok for a bit, not great - then stopped. It was already a bit loud don't want to pump it up more.\",\n",
       "   'timestampWritten': 1720971320,\n",
       "   'dayAndNightOf': '2024-07-12',\n",
       "   'tags': ['co2'],\n",
       "   'id': '2024-07-13T13_15_33_200_01_00',\n",
       "   'originalKey': '2024-07-13T13:15:33.200+01:00',\n",
       "   'dayAndNightOfEpoch': 1720742400,\n",
       "   'isPreviousDay': False}],\n",
       " 'query': '',\n",
       " 'processingTimeMs': 0,\n",
       " 'limit': 1000,\n",
       " 'offset': 0,\n",
       " 'estimatedTotalHits': 3}"
      ]
     },
     "execution_count": 50,
     "metadata": {},
     "output_type": "execute_result"
    }
   ],
   "execution_count": 50
  },
  {
   "metadata": {},
   "cell_type": "code",
   "outputs": [],
   "execution_count": null,
   "source": [
    "# Query\n",
    "# 1720742400  == Friday, 12 July 2024 00:00:00, Friday, 12 July 2024 01:00:00 GMT+01:00 DST\n",
    "# Documents\n",
    "# 1720738800 == Thursday, 11 July 2024 23:00:00 UTC, Friday, 12 July 2024 00:00:00 GMT+01:00 DST"
   ],
   "id": "382bbca41e899d2f"
  },
  {
   "metadata": {
    "ExecuteTime": {
     "end_time": "2025-01-09T18:04:11.877220Z",
     "start_time": "2025-01-09T18:04:11.862691Z"
    }
   },
   "cell_type": "code",
   "source": [
    "from datetime import datetime, timezone\n",
    "\n",
    "dt = datetime.strptime(\"2024-07-12\", '%Y-%m-%d').replace(tzinfo=timezone.utc)\n",
    "int(dt.timestamp())\n"
   ],
   "id": "22fa8bc2a455af60",
   "outputs": [
    {
     "data": {
      "text/plain": [
       "1720742400"
      ]
     },
     "execution_count": 48,
     "metadata": {},
     "output_type": "execute_result"
    }
   ],
   "execution_count": 48
  }
 ],
 "metadata": {
  "kernelspec": {
   "display_name": "Python 3",
   "language": "python",
   "name": "python3"
  },
  "language_info": {
   "codemirror_mode": {
    "name": "ipython",
    "version": 2
   },
   "file_extension": ".py",
   "mimetype": "text/x-python",
   "name": "python",
   "nbconvert_exporter": "python",
   "pygments_lexer": "ipython2",
   "version": "2.7.6"
  }
 },
 "nbformat": 4,
 "nbformat_minor": 5
}
