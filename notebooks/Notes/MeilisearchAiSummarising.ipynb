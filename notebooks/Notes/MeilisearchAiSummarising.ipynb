{
 "cells": [
  {
   "metadata": {
    "ExecuteTime": {
     "end_time": "2024-12-11T09:46:03.947147Z",
     "start_time": "2024-12-11T09:46:03.537866Z"
    }
   },
   "cell_type": "code",
   "source": [
    "import os\n",
    "\n",
    "from sleep_events import connect_to_firebase\n",
    "\n",
    "firebase = connect_to_firebase()"
   ],
   "id": "10b1109ebce68afb",
   "outputs": [],
   "execution_count": 1
  },
  {
   "metadata": {
    "ExecuteTime": {
     "end_time": "2024-12-11T09:47:06.002564Z",
     "start_time": "2024-12-11T09:47:05.993461Z"
    }
   },
   "cell_type": "code",
   "source": [
    "import meilisearch\n",
    "import json\n",
    "import json\n",
    "import re\n",
    "import os\n",
    "import dotenv\n",
    "dotenv.load_dotenv(\"../../.env\")\n",
    "\n",
    "client = meilisearch.Client('https://examined-life.co.uk:7700', os.getenv('MEILISEARCH_MASTER_KEY'))\n",
    "index = client.index('notes')\n"
   ],
   "id": "65b10b49b1acacf",
   "outputs": [],
   "execution_count": 8
  },
  {
   "metadata": {
    "ExecuteTime": {
     "end_time": "2024-12-11T09:47:07.149996Z",
     "start_time": "2024-12-11T09:47:07.133976Z"
    }
   },
   "cell_type": "code",
   "source": "",
   "id": "83370e907d50f071",
   "outputs": [],
   "execution_count": null
  },
  {
   "metadata": {
    "ExecuteTime": {
     "end_time": "2024-12-11T09:47:07.803423Z",
     "start_time": "2024-12-11T09:47:07.446736Z"
    }
   },
   "cell_type": "code",
   "source": [
    "import os\n",
    "import meilisearch\n",
    "import openai\n",
    "from langchain import OpenAI\n",
    "from langchain.llms import OpenAI\n",
    "from langchain.chains import LLMChain\n",
    "from langchain.prompts import PromptTemplate\n",
    "from langchain.chat_models import ChatOpenAI\n",
    "\n",
    "# Load environment variables\n",
    "from dotenv import load_dotenv\n",
    "load_dotenv(\"../.env\")\n",
    "\n",
    "# Initialize OpenAI client\n",
    "openai_api_key = os.getenv('OPENAI_NOTES_API_KEY')\n",
    "llm = ChatOpenAI(api_key=openai_api_key, model=\"gpt-4o\")\n",
    "\n",
    "\n",
    "\n"
   ],
   "id": "be4def33d4848409",
   "outputs": [],
   "execution_count": 9
  },
  {
   "metadata": {
    "ExecuteTime": {
     "end_time": "2024-12-11T09:47:49.786508Z",
     "start_time": "2024-12-11T09:47:49.770455Z"
    }
   },
   "cell_type": "code",
   "source": [
    "def just_query(query_str, query):\n",
    "    results = index.search(query_str, query)\n",
    "\n",
    "    # for result in results['hits']:\n",
    "    #     print(f\"{result['dayAndNightOf']}: {result['note']}\")\n",
    "\n",
    "    # Extract the notes from the results\n",
    "    notes = [f\"{hit['dayAndNightOf']}: {hit['note']} (tags: {hit['tags']})\" for hit in results['hits']]\n",
    "    return results, notes\n",
    "\n",
    "def summarise_notes(prompt_addl: str, query_str, query):\n",
    "    results, notes = just_query(query_str, query)\n",
    "    \n",
    "    # Create a prompt template for summarization\n",
    "    prompt_template = PromptTemplate(\n",
    "        input_variables=[\"notes\", \"prompt_addl\"],\n",
    "        template=\"Summarize the following notes for a user named Graham.  Give a long summary, a few paragraphs, and break it into multiple sections with headings.  Graham provides this additional context: {prompt_addl} \\n{notes}\",\n",
    "    )\n",
    "    \n",
    "    # Create an LLMChain for summarization\n",
    "    chain = LLMChain(llm=llm, prompt=prompt_template)\n",
    "    return chain.run(notes=\"\\n\".join(notes), prompt_addl=prompt_addl), results, notes"
   ],
   "id": "e9f39cc6697aed15",
   "outputs": [],
   "execution_count": 15
  },
  {
   "metadata": {
    "ExecuteTime": {
     "end_time": "2024-12-11T09:47:53.533689Z",
     "start_time": "2024-12-11T09:47:53.347079Z"
    }
   },
   "cell_type": "code",
   "source": [
    "results, notes = just_query(\"concerta\", {\n",
    "    'sort': ['dayAndNightOf:desc'],\n",
    "    'limit': 1000\n",
    "})\n",
    "notes"
   ],
   "id": "daad0c6c6f2816b",
   "outputs": [
    {
     "data": {
      "text/plain": [
       "[\"2024-12-11: Continue to feel good. Charged up hill. (tags: ['concerta'])\",\n",
       " \"2024-12-11: Bah. Don't think I've been asleep. Certainly wide awake from rgm.\\nBiiig problems with concerta today.\\nNot sure why. Breaking the fast with the big late binge is the main thing out of the ordinary today.  (tags: ['concerta:settling'])\",\n",
       " \"2024-12-11: Waking feeling kinda how I did during settling: too awake. Still concerta? If so, is it building up on cumulative days?\\nRecall some waking. \\nFinal wake quite horny again. (tags: ['concerta:cumulative', 'sleep:summary'])\",\n",
       " \"2024-12-11: Feel like I'm affected by concerta now, before the next dose will have kicked in.  Mood is good, energy is quite high, feel a bit stimulated.  So I suspect it does hang around the system a long time, and perhaps that has a cumulative effect over days. (tags: ['concerta:cumulative'])\",\n",
       " \"2024-12-11: Feel unreasonable good given the night, and straightaway productive on XL.\\nSuspect concerta from yday still impacting me. (tags: ['concerta:despite-poor-sleep'])\",\n",
       " \"2024-12-11: Night looks like dog shit but I feel great?! Can concerta really prop me up this well  (tags: ['concerta:despite-poor-sleep'])\",\n",
       " \"2024-12-11: Found online that many saying they have reduced appetites on concerta.  So maybe that's why the fast has been going so well... Started both together I think. (tags: ['fast:concerta', 'concerta:appetite'])\",\n",
       " \"2024-12-11: Guess I'm fasting, though I now realise it's more I'm just not hungry on concerta. Has taken the wind out of my sails.. (tags: ['fast', 'fast:concerta'])\",\n",
       " \"2024-12-10: Scoring as near worst since I'm fine on Reddit but that's about all I'm capable of. Still happy enough so I guess concerta is still doing something  (tags: ['concerta'])\",\n",
       " \"2024-12-10: My thought of just powering through poor sleep with concerta isn't really working on. Some days I feel great on it, sometimes pretty tired and crap.\\nAnd continue to suspect concerta causes settling issues sometimes, and perhaps poor sleep - seems to impact iqr, auc etc badly.\\nSuspect: when I've had a break from it for a bit it feels incredible. But it has a cumulative impact on sleep and after a while I'm feeling like crap.\\n\\nUpdate: maybe I spoke too soon. It did eventually kick in and I've had some useful lift out of it.  (tags: ['concerta:settling', 'concerta:sleep-score', 'important', 'concerta:differing-effectiveness'])\",\n",
       " \"2024-12-10: Feel like concerta has at last kicked in. Not sure how long it has. Energy and mood definitely better. (tags: ['concerta:kicking-in'])\",\n",
       " \"2024-12-10: Trying vit c again to see if it shuts down concerta  (tags: ['concerta:vitamin-c'])\",\n",
       " \"2024-12-10: Now very clear that concerta can cause settling problems. Unclear why it does some nights and not others though.\\nThe vitc trick has not worked, tonight at least.\\nDid have a flurry of late food tonight. (tags: ['concerta:settling'])\",\n",
       " \"2024-12-10: Feet very cold tonight. Concerta symptoms? (tags: ['settling:cold-feet', 'concerta:cold-feet'])\",\n",
       " \"2024-12-10: Headspace has left me heavily sedated.. but still fairly alert, probably concerta  (tags: ['settling:meditation', 'concerta', 'settling:meditation:headspace'])\",\n",
       " \"2024-12-09: Yeah pretty confident concerta kicks in at 45m. But felt like I was already on course for a good day when the fog cleared. (tags: ['concerta:kicking-in'])\",\n",
       " \"2024-12-09: One big issue with concerta: I need to take it early and it works fast. So I'm still foggy, and don't really get a chance to see 'natural' energy, and whether I slept well.  (tags: ['concerta:sleep-score'])\",\n",
       " \"2024-12-09: Tired and a bit stressed/fedup. Still working though, so the drug is still doing a lot. (tags: ['concerta:afternoon-slump'])\",\n",
       " \"2024-12-09: Really overwhelmed. Threw something at cat. Sometimes strongly suspect concerta gets me quite emotional. Or is the issue that I should have stopped work a long time ago but it gives me just enough energy to press on. (tags: ['concerta:emotional'])\",\n",
       " \"2024-12-09: Some concern I'm affected by concerta still. Feel tired but a bit alert. Somewhat dopamine seeking. Want to plan XL. (tags: ['concerta:settling'])\",\n",
       " \"2024-12-09: Looks like another trickier settle, likely due to concerta. I'm tired but also somewhat alert, and in no immediate danger of sleep. Just have to wait I guess. (tags: ['concerta:settling'])\",\n",
       " \"2024-12-09: Settled near perfectly despite concerta. Felt an ok night. Recall a couple of wakings. One was long enough to use creative trick and this time was able to, after a bit. \\nCat slept with us but on C's side and wasn't an issue.\\nStill foggy and maybe feel good behind it. C has said I'm full of beans. (tags: ['sleep:summary', 'concerta:settling'])\",\n",
       " '2024-12-09: Today I feel more tired but propped up by concerta. Yday and day before felt better. (tags: [])',\n",
       " \"2024-12-09: I settled really well last night. Why? \\nI've wondered before if ADHD meds actually help my mind be calm if they're not stimulating me too much - as they're meant to. So maybe concerta helped. \\nHad a fast day then a massive meal about 3. So maybe dinner disrupts it usually?\\nDidn't do much XL or work as social day. A little XL when back but just 10m.\\nWas feeling pretty tired and drowsy from before drive back started. Maybe that was 6.\\n (tags: ['settling', 'mystery', 'concerta:settling'])\",\n",
       " '2024-12-09: Feeling great today. Despite what my sleep score says I feel it was a decent night, then concerta on top. Mood great, f&p great, energy getting good as fog clears. (tags: [])',\n",
       " '2024-12-09: Mood continues to be good, f&p good, but feeling tired and that been concerta-d over (tags: [])',\n",
       " \"2024-12-08: I mean say I don't sleep well on concerta. I don't sleep well anyway. Maybe it's ok to prop myself up daily? It's what most do with coffee (tags: ['concerta'])\",\n",
       " \"2024-12-08: I'm so much happier and more energetic and productive and better on concerta. Yes it screws with my sleep or at least my settling - but my sleep sucks without it too. (tags: ['concerta:settling'])\",\n",
       " \"2024-12-08: In sociable situations with family and helping a lot (tags: ['concerta:social'])\",\n",
       " '2024-12-08: Too foggy and distracted by sex to say what energy like before concerta (tags: [])',\n",
       " \"2024-12-07: Very productive bashing out XL. Very focussed, very into it. God bless concerta (tags: ['concerta'])\",\n",
       " \"2024-12-07: Concerta doing great things for me today (tags: ['concerta'])\",\n",
       " \"2024-12-07: F&p remain incredible. Great day on concerta, very productive. Just this slight veil. (tags: ['concerta'])\",\n",
       " \"2024-12-07: Having concerta earlier to reduce settling issues (tags: ['concerta:27mg'])\",\n",
       " \"2024-12-07: Maybe felt concerta kick on after 45m today. Not sure. (tags: ['concerta:kicking-in'])\",\n",
       " \"2024-12-07: Face and cheeks feel a bit weird. (tags: ['concerta:physical-sides'])\",\n",
       " \"2024-12-07: Meds helping immensely with motivation to do boring chores (present wrapping) I usually hate.\\nJust a slight veil otherwise today has been v good (tags: ['concerta:chores'])\",\n",
       " \"2024-12-07: Hmm. Feeling rather awake. Struggling to stay on my book. Suspect concerta.. (tags: ['concerta:settling'])\",\n",
       " \"2024-12-07: Still struggling. Just pretty alert and awake. On Reddit. Hard not to suspect concerta  (tags: ['concerta:settling'])\",\n",
       " \"2024-12-07: Still struggling. Concerta had a much stronger effect today than yday, and probably why it's causing problems now despite me taking it much earlier.\\nNot sure why it's worked better today. Better night's sleep? Was fasting both days so food not relevant. Had long walk today. Was working on my own project as weekend so more into it.  (tags: ['concerta:differing-effectiveness', 'concerta:settling', 'mystery:settling'])\",\n",
       " \"2024-12-07: I'm feeling better this morning than I've been used to. \\nIn retrospectbyhis was when concerta kicked in, but was feeling somewhat better before that (tags: [])\",\n",
       " \"2024-12-06: Omg forgot i took a concerta today! Forget exactly when too. Think it just kicked in though.\\nFeel immediately so much better. Fog is mostly lifting. (tags: ['concerta'])\",\n",
       " \"2024-12-06: Wow this feels amazing. Smooth 'high'. Still a little tired so it doesn't feel like an artificial stimulant high. Just - a better version of myself. More energy, focus, sociability, funniness, quick wittedness. I've really missed this. This is the me I want to be.\\nGiven I've been sleeping like crap without stimulants: maybe it's worth just living with that, and accepting that I'm going to be propping myself up each morning with this stuff.  (tags: ['concerta:summary'])\",\n",
       " \"2024-12-06: After spending so long getting by unmedicated: this is such a wonderful breath of fresh air.  Days have been such a drag and this is so much better. (tags: ['concerta:summary', 'ritalin:doing-without'])\",\n",
       " \"2024-12-06: Kinda back to last 2 days now: I'm productive and part of me is alert, but another part is quite tired, so that's how I'm scoring. So concerta is not a magic bullet for that. However mood remains much better. Still much happier on concerta than off it. (tags: ['concerta', 'tired-but-wired'])\",\n",
       " \"2024-12-06: Ok so concerta has 'settled in' for a while now. Energy isn't, tbf, a million miles from where it's been last 2 days: good f&p at work and part of me is alert, but there's a tired veil over it and I'm forced to score it as tired. (Note that being on this state for last 2 days is substantially better than before that, and might be down to camomile tea in evening). Mood, sociability, are substantially better.\\nOverall: after the initial boost has gone, it's less clear cut. It's a definite improvement, but if it causes sleep issues.. (tags: ['concerta', 'chamomile'])\",\n",
       " \"2024-12-06: Headspace has done good stuff tonight. Yawning heavily.\\nDidn't feel attention related - was still zoning out of it. So not concerta I think. (tags: ['concerta:settling:focus'])\",\n",
       " \"2024-12-06: Gotta say, for someone on concerta, I'm pretty damn sleepy. More so than I have been for a while. (tags: ['concerta:settling'])\",\n",
       " \"2024-12-06: Gotta say, for someone on concerta, I'm pretty damn sleepy. More so than I have been for a while. (tags: ['concerta:settling'])\",\n",
       " \"2024-12-06: K think I'm finally reaching a sleeping point. Not sure when had concerta today. Maybe 9? So perhaps 2 hours earlier would help? (tags: ['concerta:settling'])\",\n",
       " \"2024-12-06: The fast is easy so far. Concerta maybe helping now but was easy before that too. Just not a hungry day.\\nI wonder if eating sort of awakens the appetite too? (tags: ['fast', 'concerta:skipped-breakfast'])\",\n",
       " \"2024-12-06: Chamomile is helping and who knows what the fast is doing, but concerta doesn't seem to be hurting settling at least at this stage.  (tags: ['chamomile', 'concerta:settling'])\",\n",
       " \"2024-12-06: Bah. Maybe concerta is causing problems after all. I've been solidly on kindle app for ages, absorbed by book. But just lost my sleepiness.\\nAlso suggests the chamomile effect might be fairly short. (tags: ['chamomile', 'concerta:settling', 'settling:phone-away'])\",\n",
       " '2024-12-06: Feel same as earlier. F&p is better this pm - so more sustained energy on concerta. Still having to score tired though. \\n (tags: [])',\n",
       " '2024-12-06: Was a late work due to late meeting. Was able to keep attention and be a part of it. Possibly concerta helping? (tags: [])',\n",
       " \"2024-10-23: Ugh late start after awful night.\\nStill struggled after going back to bed. Took a while to get back to sleep as I lay there thinking about stuff to add to XL.\\nAnd I woke thinking about XL.\\nAlso a problem was when I checked slacks about 6 because I'd had a lazy day, and found Saurabh with an annoying request for me to teach him stuff he can figure out himself. \\nThere are clear lessons to learn. I shouldn't work on XL so hard, so late. I probably need to stop at 7 if I'm well into it like that.\\nI should just stop work slacks after 4 or something. If I've not got cycles to tackle them immediately. \\nI maybe need to experiment with ADHD meds later to stop racing brain. Yday seemed very ADHDey. Latching on to XL obsessively as it was giving me dopamine, then waking with extremely restless brain..plus the concerta nights were oddly quiet. (tags: ['sleep:insomnia:adhd', 'evening:avoid-slack', 'work-slacks'])\",\n",
       " \"2024-10-04: Somewhat tired and mood only ok. Concerta not doing it's usual thing.. (tags: ['concerta:27mg'])\",\n",
       " \"2024-10-04: Feel conderta finally starting to kick in.\\nFrom the graph it is meant to work like this, and does mean I don't really feel medicated until nearly 3 hours in. Maybe ritalin is actually better? (tags: ['concerta:kicking-in', 'ritalin'])\",\n",
       " \"2024-10-04: After a flaky start it's basically been a decent productive day. Concerta helped a lot presumably  (tags: [])\",\n",
       " '2024-10-04: Trying to reproduce 09/30. Have ran, pasta dinner, morning walk, stopped work and XL early, chill night. Have had concerta though.  (tags: [])',\n",
       " \"2024-10-04: BP is dropping rapidly. First time I'm doing this and jot sure if it's VitC killing concerta, or just I was pumped up from moving upstairs. I should get recordings downstairs before move  (tags: ['blood-pressure'])\",\n",
       " \"2024-10-02: Kinda tired  (tags: ['concerta:ending'])\",\n",
       " \"2024-10-02: Definitely still affected. In car on drive back was doing impressions. Feel like I'm firing well. Trying VitC  (tags: ['concerta:vitamin-c', 'concerta:ending'])\",\n",
       " \"2024-10-02: Actually feeling pretty good now I've got going. Driving to Manchester so won't be able to update until concerta has kicked in. But possibly actually a good day? (tags: [])\",\n",
       " \"2024-10-01: Today continues to be v good. Feel like I'm on concerta. Just the very slightest bit of tiredness.  (tags: [])\",\n",
       " \"2024-09-29: Feeling good. Maybe concerta kicking in  (tags: ['concerta:kicking-in'])\",\n",
       " \"2024-09-29: Tiredness didn't last long and feel good currently. Concerta helping of course but overall would say this is a good day.\\nAnd a good day after a concerta night! (tags: ['concerta:insomnia'])\",\n",
       " \"2024-09-29: Still feeling very much powered up with concerta (tags: ['concerta:ending'])\",\n",
       " \"2024-09-29: Continue to feel great. kinda worried about getting to sleep. Had the VitC earlier  (tags: ['concerta:vitamin-c'])\",\n",
       " \"2024-09-28: Yeah kinda slumpy now, despite concerta. Annoying. Feels early for 11nslump (tags: ['concerta:27mg'])\",\n",
       " \"2024-09-28: Slumpiness didn't last long but am a bit foggy/tired despite concerta. If I was at computer I'd be fine. Overall would guess this is an ok day but it started very good. (tags: [])\",\n",
       " \"2024-09-26: Feeling pretty good now concerta has kicked in.  Tiredness mostly masked, F&P good, mood is reasonable.\\nI was expecting rit yday to feel more stop-start.  It's not really like that, it's quite similar to concerta esp if I chain it.  Concerta maybe a bit more smooth, but I could manage either.\\nInsomnia is remaining very tricky.  I slept badly last night and that was just rit.  It's hard to know if the bad sleep is concerta related or not. (tags: ['concerta:27mg', 'concerta:insomnia'])\",\n",
       " \"2024-09-25: Feeling kinda glum and down. Good to know it's not necessarily caused by concerta  (tags: ['concerta:emotional'])\",\n",
       " \"2024-09-24: Feeling a bit better with the ritalin, but still, pretty tired.\\nThere's a lot of evidence pointing at concerta for insomnia (or well, poor sleep). But still don't think it's had a completely fair shake. Yday I took it early and had a big dose of vitc early. But I was excited by finishing my book and also stayed up on XL too late.\\nPutting the phone the other side of the room worked really well btw. (tags: ['concerta:insomnia', 'important'])\",\n",
       " \"2024-09-23: Same. F&p on XL are great but I'm tired and a bit glum, and concerta is not able to paper over it.\\nWhich is fine. I don't need a magic pill. (tags: ['concerta:27mg'])\",\n",
       " \"2024-09-23: Finally feeling better and getting more into work.\\nI know from the graphs that concerta takes a few hours to really hit its peak  (tags: ['concerta:kicking-in'])\",\n",
       " \"2024-09-23: Crappy tired day despite the concerta.\\nSuspect it's working less well partly due to skipped brekkie. (tags: ['concerta:skipped-breakfast'])\",\n",
       " '2024-09-23: Knackered even despite concerta (tags: [])',\n",
       " \"2024-09-23: Continue to be tired and glum, concerta continues to not punch through. Skipping brekkie which maybe doesn't help? (tags: [])\",\n",
       " \"2024-09-22: Was feeling pretty slump at maybe 3.30 but I can tell concerta was still affecting me at e.g. 6.30 during drive back. Sharper and wittier. Trying the vit c trick. (tags: ['concerta:vitamin-c', 'concerta:ending'])\",\n",
       " \"2024-09-22: Yeah kinda sleepy now. This is a more normal night and even though I had the concerta late, looks like maybe vitc helped get me off at closer to normal time. Even though I skipped walk today (but lots of outside time at food festival) (tags: ['morning-walk', 'concerta:vitamin-c', 'concerta:27mg'])\",\n",
       " \"2024-09-21: Am feeling somewhat better with concerta.  Still noticeable tired behind it, when I'd usually expect that to be more masked.  And still a bit down - same.  So even concerta isn't fixing me.  But F&P are fine and I am better. (tags: ['concerta:27mg'])\",\n",
       " \"2024-09-21: Out walking with Charlie and her friend. Just zero desire to chat or socialise. Dunno if it's tiredness or concerta. Am feeling bit tired but withdrawn. (tags: ['concerta:social'])\",\n",
       " \"2024-09-21: Starting to feel down again and wondering if this is just a side effect of concerta.  But it is normal for me to get slumpy this time of day.  But I'm not that tired, F&P is fine, working on XL - but am getting glum (tags: ['concerta:emotional'])\",\n",
       " \"2024-09-21: Putting 2 and 2 together - the drinking urge is coming from a desire for dopamine, because ironically concerta has depleted me.\\nMaybe I'm not fuelling myself well?  Giving myself adequate protein to sustain things? (tags: ['concerta:emotional', 'concerta:drinking', 'concerta:protein', 'drinking', 'important'])\",\n",
       " \"2024-09-21: Not feeling at all sleepy or settled, so have taken the vit c (tags: ['concerta:vitamin-c'])\",\n",
       " \"2024-09-20: Bah. Serious problems with settling and suspect concerta (tags: ['concerta:insomnia', 'concerta:settling'])\",\n",
       " \"2024-09-20: Feeling good now, on all axes. Good old concerta. (tags: ['concerta:27mg'])\",\n",
       " \"2024-09-20: Trying to think why I had so much trouble settling.. it was a late work. So didn't get much XL. Wasn't really into the TV show but was on internet instead. Finding my current book just ok gripping-wise and gave to have the light on, so settling gas been a bit trickier since starting it. I'm not sure any of these add up to why I just wasn't sleepy. Still worried it's concerta \\nHowever, once finally asleep, it was maybe a good night (tags: ['concerta:insomnia', 'concerta:settling'])\",\n",
       " \"2024-09-20: Feeling quite garrulous maybe a bit too much so. Feels like concerta really kicked in fully (tags: ['concerta:27mg'])\",\n",
       " \"2024-09-20: Got into bed. Can't focus, can't work. Way too emotional. Is concerta part of it? Is it real? (tags: ['concerta:emotional'])\",\n",
       " \"2024-09-20: I'm in absolute shambles. Lying in bed in middle of day, crying, unable to work.  (tags: ['concerta:emotional'])\",\n",
       " \"2024-09-20: Feeling tired and quite down. (tags: ['concerta:emotional'])\",\n",
       " \"2024-09-20: Remain despondent and down in the dumps. Charlie's friend Roxy is over and I just CBA. Don't want to socialise.  (tags: ['concerta:emotional'])\",\n",
       " \"2024-09-20: I need to rememver the possible hack of vit c  (tags: ['concerta:insomnia', 'concerta:settling'])\",\n",
       " \"2024-09-20: Mon and Fri are cleaning days, an dit feels like I get loads done but in a horrible mood, pissed off at C because I'm doing so much more of the share.  I don't know if it's the drugs or if I'm genuinely hard done by. (tags: ['cleaning', 'concerta:cleaning'])\",\n",
       " \"2024-09-19: Think jury is out on concerta and insomnia currently.  Been a couple of tired nights. (tags: ['concerta:insomnia'])\",\n",
       " \"2024-09-19: Usual good story with concerta.  Despite some tiredness in background I'm sailing through. F&P good, mood decent, sociable enough.  But it's all subtle enough that I don't feel drugged.  I probably prefer the feeling to ritalin, and certainly like the one a day nature.  Might be best drug for me.  Just hope no insomnia.. (tags: ['concerta:27mg', 'concerta:insomnia'])\",\n",
       " \"2024-09-19: Sailing through today on concerta.  It really helps mask the tiredness so I'm not sure, but suspect it would be a crappy day without it from how I felt this am (tags: ['concerta:27mg'])\",\n",
       " \"2024-09-19: Can maybe feel it pooping out now (tags: ['concerta:ending'])\",\n",
       " \"2024-09-19: Suspicion is mourning that concerta continues to affect me at this time. I just screwed up and shrugged it off. I don't feel settled or even particularly tired.\\nAnd this is without protein. Had cereals for brekkie. (tags: ['concerta:settling'])\",\n",
       " \"2024-09-19: Feeling alright.  Concerta is papering over thr cracks well enough though I suspect I'm tired behind it. (tags: [])\",\n",
       " \"2024-09-18: Post walk I am very tired now, and glum.\\nCharlie reminded me that a fdying ire alarm in the study went off about 0430.  And someone was reparing a bus up the road about 0130.  She had a very bad night.\\nSo maybe this isn't concerta's fault.  And maybe the struggles with settling are because LEP was pushed way back. (tags: ['concerta:insomnia'])\",\n",
       " \"2024-09-18: Concerta is definitely in.  It definitely feels better than before.  I was at a pretty low level so I'm not great.  Still kinda glum (but less), still a bit tired (but less), focus and productivity remain good.\\nSo there may be days where I want more than 27mg, or maybe want the IR ritalin on hand. (tags: ['concerta:27mg'])\",\n",
       " \"2024-09-18: Pretty saggy and have been for some time. Do think I got longer out of it with the protein shake (tags: ['concerta:protein'])\",\n",
       " \"2024-09-18: Trying a superfood protein smoothy  (tags: ['adhd:protein', 'concerta:protein'])\",\n",
       " \"2024-09-17: First day with Concerta XL 27mg.  Don't feel anything obvious yet.  Everything remains about the same (not bad at all). (tags: ['concerta:27mg'])\",\n",
       " \"2024-09-17: Possibly it's kicking in now.  Fairly subtle still.  But feel some of that ritalin goodness. (tags: ['concerta:kicking-in'])\",\n",
       " \"2024-09-17: Ok think it's in and it's feeling pretty good.  Most of that fog has gone, mood is decent (but was before), focus & productivity is great (but was before), and feel I could shift gears if needed.  Much like ritalin but maybe a bit smoother? (tags: ['concerta:27mg'])\",\n",
       " \"2024-09-17: I assume concerta is in. If so it's definitely more subtle than ritalin. Have all the good stuff from earlier (still a bit foggy).  (tags: ['concerta:27mg'])\",\n",
       " \"2024-09-17: Have been on a long call all morning.  Everything seems good, without being OTT.  Mood is decent, focus & productivity are fine, energy is decent.  I would lock this in.  Could be in public etc.  This.. might be perfect? (tags: ['concerta:27mg'])\",\n",
       " \"2024-09-17: Lunch/PM slump fighting with concerta, and think concerta has won  (tags: ['concerta:27mg'])\",\n",
       " \"2024-09-17: Feeling... ok.  Kinda tired, but concerta is plastering over that and F&P are fine.  Mood is alright.  I do think it's a crappy tired day but concerta is doing a good job. (tags: ['concerta:27mg'])\",\n",
       " '2024-09-10: Enough ritalin that I can get stuff done.\\nAnd ADHD360 are going to send me some Concerta - score (tags: [])',\n",
       " '2024-05-22: 0737 LN I setup blackouts on the door, and the cumulative effect is I\\'m blocking most light from the room now.  I also made a concerted effort to settle, doing audiobook and then (separately) a backrub.  Together these got me the longest night in a long time, and I\\'m feeling \"not quite fine\" already.  Looks like a restless night though.\\nThe cat slept right next to me, just below the pillow, which probably contributed.  Very cute but I\\'ll have to stop her. (tags: [\\'sleep:disturbances:light\\', \\'settle:audiobooks\\', \\'settle:back-rub\\', \\'sleep:blackouts\\', \\'morning-light\\', \\'sleep:disturbances:cat\\'])']"
      ]
     },
     "execution_count": 16,
     "metadata": {},
     "output_type": "execute_result"
    }
   ],
   "execution_count": 16
  },
  {
   "metadata": {
    "ExecuteTime": {
     "end_time": "2024-12-09T09:14:11.540311Z",
     "start_time": "2024-12-09T09:14:02.316080Z"
    }
   },
   "cell_type": "code",
   "source": [
    "summary, results, notes = summarise_notes(\"\", \"co2\", {\n",
    "    'sort': ['dayAndNightOf:desc'],\n",
    "    'limit': 1000\n",
    "})\n",
    "display(Markdown(summary))"
   ],
   "id": "75ebfc24c9ad51f2",
   "outputs": [
    {
     "data": {
      "text/plain": [
       "<IPython.core.display.Markdown object>"
      ],
      "text/markdown": "## CO2 and Indoor Air Quality Concerns\n\nGraham has been grappling with issues related to CO2 levels in his home environment, particularly the bedroom and study. Over the past few months, he has been experimenting with various setups to manage CO2 levels effectively, as elevated CO2 seems to be affecting his energy levels and sleep quality. From the notes, it is evident that Graham has made several changes in his routine, such as adjusting the bedroom curtain, using a duct fan, and managing the study window, to find a balance between fresh air intake and maintaining a comfortable sleeping environment. Despite these efforts, the CO2 levels have fluctuated, with occasional spikes when certain equipment was either not functioning optimally or when the room was more occupied.\n\n### Sleep Quality and Temperature Management\n\nGraham's sleep quality appears to be closely linked with the ambient temperature and CO2 levels in his environment. He notes that nights where he felt warmer often led to restless sleep, while cooler settings, at times aided by air conditioning during a trip to Amsterdam, provided some relief. However, managing temperature is not without its challenges. For instance, the use of a CO2 fan often led to uncomfortable temperature drops, leaving exposed areas feeling chilly. Graham has experimented with different heating and fan settings, trying to find a sweet spot that balances warmth with adequate ventilation. Additionally, he has considered the impact of light disturbances from his blackout curtains and has occasionally had to leave doors partially open for his pet, which complicates temperature control.\n\n### Experimentation and Observations\n\nGraham has been diligent in documenting his observations and experiments regarding CO2 and other environmental factors. His notes suggest a significant effort to understand how different factors, such as the presence of others in the room or adjustments to the curtain and fan, influence CO2 levels. He has observed that having fewer people in the room tends to correlate with better CO2 readings. Graham has also explored the psychological and physiological effects of these environmental changes, noting variations in energy levels, mood, and sleep patterns. Despite the ongoing challenges, there have been periods where he felt an improvement, which he attributes to managing CO2 levels more effectively.\n\n### Future Considerations and Potential Solutions\n\nGraham's ongoing struggle with CO2 management indicates a need for more stable solutions. He might consider investing in more advanced air filtration systems or CO2 monitors to provide real-time feedback and ensure optimal indoor air quality. Additionally, Graham could explore further how different medications, such as Elvanse and Ritalin, might interact with his sleep and energy levels, especially in relation to CO2 exposure. Continued experimentation, perhaps with professional guidance, could help him find a more sustainable balance, potentially improving both his sleep quality and daytime energy levels."
     },
     "metadata": {},
     "output_type": "display_data"
    }
   ],
   "execution_count": 76
  },
  {
   "metadata": {
    "ExecuteTime": {
     "end_time": "2024-12-09T08:59:34.992741Z",
     "start_time": "2024-12-09T08:59:34.976810Z"
    }
   },
   "cell_type": "code",
   "source": [
    "summary, results, notes = summarise_notes(\"Compare ritalin, concerta and elvanse. m5=Mylan 5mg ritalin, m10=Mylan 10mg ritalin.\", \"ritalin | elvanse | m5 | m10 | concerta\", {\n",
    "    'sort': ['dayAndNightOf:desc'],\n",
    "    'limit': 1000\n",
    "})\n",
    "display(Markdown(summary))\n"
   ],
   "id": "69a30ed34723289d",
   "outputs": [
    {
     "data": {
      "text/plain": [
       "<IPython.core.display.Markdown object>"
      ],
      "text/markdown": "### Graham's Experience with Ritalin, Concerta, and Elvanse\n\nGraham has been experimenting with different ADHD medications, primarily Ritalin, while also assessing Concerta and Elvanse to manage symptoms such as focus, energy, and motivation. Over time, Graham has noted various effects and challenges with these medications, which have influenced his daily activities and overall well-being.\n\n#### Ritalin: Pros and Cons\n\nGraham has used Ritalin extensively, noting its immediate effects on energy and mood. It tends to kick in about 45 minutes after ingestion, providing a boost in energy, mood, and sociability for about 2 to 2.5 hours. However, Graham has experienced inconsistent effects with Ritalin, particularly with the Mylan brand. While it sometimes provides a significant energy boost, other times it falls short, leaving him tired or overstimulated. The variability in Ritalin's effects has led Graham to question the reliability of the Mylan brand compared to others like Tranquilyn. Despite its benefits, Graham finds Ritalin somewhat cumbersome due to the need for multiple doses throughout the day, and occasional issues with sleep disturbances when taken later.\n\n#### Comparing Concerta and Elvanse\n\nConcerta and Elvanse have also been part of Graham's regimen as he explores alternatives to Ritalin. Concerta, which contains the same active ingredient as Ritalin but in an extended-release form, offers a smoother and more sustained effect. Graham appreciates Concerta's subtlety and the convenience of once-daily dosing. However, he remains cautious about potential insomnia, a known side effect of stimulant medications. On the other hand, Elvanse provides a different experience. Although it offers a gentle mood lift and focus, Graham finds it less effective for social situations compared to Ritalin. He has noted that Elvanse's effects can sometimes feel too singularly focused, limiting his ability to switch tasks easily.\n\n#### Challenges and Considerations\n\nThroughout his notes, Graham reflects on challenges such as afternoon energy slumps and the difficulty of maintaining motivation for both work and leisure activities. He often grapples with balancing medication doses to avoid overstimulation while still managing ADHD symptoms effectively. Sleep disturbances are a recurring theme, with Graham noting that both Ritalin and Elvanse can affect his ability to settle at night if taken too late in the day. Additionally, variations in daily routines, such as protein intake or exercise, seem to influence the effectiveness of these medications.\n\n#### Conclusion\n\nGraham's experiences highlight the complexities of managing ADHD with medication. While Ritalin, Concerta, and Elvanse each offer unique benefits, they also pose challenges that require careful consideration and adjustment. Graham's ongoing exploration and documentation of these effects underscore the importance of personalized medication management in addressing ADHD symptoms while minimizing adverse impacts on daily life."
     },
     "metadata": {},
     "output_type": "display_data"
    }
   ],
   "execution_count": 64
  },
  {
   "metadata": {},
   "cell_type": "code",
   "outputs": [],
   "execution_count": null,
   "source": "",
   "id": "31cb5ebeb5f99acb"
  }
 ],
 "metadata": {
  "kernelspec": {
   "display_name": "Python 3",
   "language": "python",
   "name": "python3"
  },
  "language_info": {
   "codemirror_mode": {
    "name": "ipython",
    "version": 2
   },
   "file_extension": ".py",
   "mimetype": "text/x-python",
   "name": "python",
   "nbconvert_exporter": "python",
   "pygments_lexer": "ipython2",
   "version": "2.7.6"
  }
 },
 "nbformat": 4,
 "nbformat_minor": 5
}
