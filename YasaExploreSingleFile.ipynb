{
 "cells": [
  {
   "cell_type": "markdown",
   "id": "7ae5181103fe018c",
   "metadata": {},
   "source": [
    "# For playing with YASA and sleep data in an individual file"
   ]
  },
  {
   "cell_type": "markdown",
   "id": "922c064a279e219d",
   "metadata": {},
   "source": []
  },
  {
   "cell_type": "code",
   "execution_count": 1,
   "id": "6ac22875a59210ef",
   "metadata": {
    "ExecuteTime": {
     "end_time": "2024-08-21T17:52:29.634055Z",
     "start_time": "2024-08-21T17:52:29.584714Z"
    }
   },
   "outputs": [],
   "source": [
    "%reload_ext autoreload\n",
    "%autoreload 2\n"
   ]
  },
  {
   "cell_type": "code",
   "execution_count": 1,
   "id": "d56ac52552c3b167",
   "metadata": {
    "ExecuteTime": {
     "end_time": "2024-08-21T17:58:22.297645Z",
     "start_time": "2024-08-21T17:58:21.051020Z"
    }
   },
   "outputs": [],
   "source": [
    "import numpy as np\n",
    "import pandas as pd\n",
    "import run_yasa\n",
    "import logging\n",
    "import mne\n",
    "import yasa\n",
    "import os\n",
    "import argparse\n",
    "import os\n",
    "\n",
    "import mne\n",
    "import numpy as np\n",
    "import pandas as pd\n",
    "from brainflow.board_shim import BoardShim, BoardIds\n",
    "from brainflow.data_filter import DataFilter\n"
   ]
  },
  {
   "cell_type": "code",
   "execution_count": 2,
   "id": "5b05676fa6842507",
   "metadata": {},
   "outputs": [],
   "source": [
    "log = lambda msg: logging.info(msg)\n"
   ]
  },
  {
   "cell_type": "code",
   "execution_count": null,
   "id": "3f62d2a8d7d3b4a3",
   "metadata": {},
   "outputs": [],
   "source": []
  },
  {
   "cell_type": "markdown",
   "id": "2f311bf87b389205",
   "metadata": {},
   "source": [
    "# Load MNE data"
   ]
  },
  {
   "cell_type": "code",
   "execution_count": 5,
   "id": "76a0485b106b7acf",
   "metadata": {},
   "outputs": [],
   "source": [
    "input_file = \"C:\\\\dev\\\\play\\\\brainwave-data\\\\2024-08-26-20-56-10\\\\raw.fif\""
   ]
  },
  {
   "cell_type": "code",
   "execution_count": 6,
   "id": "275f216462e532fd",
   "metadata": {},
   "outputs": [
    {
     "name": "stdout",
     "output_type": "stream",
     "text": [
      "Opening raw data file C:\\dev\\play\\brainwave-data\\2024-08-26-20-56-10\\raw.fif...\n",
      "Isotrak not found\n",
      "    Range : 0 ... 9111965 =      0.000 ... 36447.860 secs\n",
      "Ready.\n",
      "Reading 0 ... 9111965  =      0.000 ... 36447.860 secs...\n"
     ]
    }
   ],
   "source": [
    "log(f\"Reading file {input_file}\")\n",
    "raw = mne.io.read_raw_fif(input_file, preload=True)\n",
    "log(f\"Finished reading file {input_file}\")\n",
    "input_file_without_ext = os.path.splitext(input_file)[0]\n"
   ]
  },
  {
   "cell_type": "code",
   "execution_count": 18,
   "id": "c808ee0f8a9ac9f2",
   "metadata": {},
   "outputs": [
    {
     "data": {
      "text/plain": [
       "['F8-M1', 'Fpz-M1', 'F4-M1']"
      ]
     },
     "metadata": {},
     "output_type": "display_data"
    },
    {
     "data": {
      "text/plain": [
       "250.0"
      ]
     },
     "metadata": {},
     "output_type": "display_data"
    },
    {
     "data": {
      "text/plain": [
       "datetime.datetime(2024, 8, 26, 19, 56, 10, 722846, tzinfo=datetime.timezone.utc)"
      ]
     },
     "metadata": {},
     "output_type": "display_data"
    },
    {
     "data": {
      "text/plain": [
       "'C:\\\\dev\\\\play\\\\brainwave-data\\\\2024-08-26-20-56-10\\\\raw'"
      ]
     },
     "metadata": {},
     "output_type": "display_data"
    },
    {
     "data": {
      "text/plain": [
       "9111966"
      ]
     },
     "metadata": {},
     "output_type": "display_data"
    },
    {
     "data": {
      "text/plain": [
       "0.0"
      ]
     },
     "metadata": {},
     "output_type": "display_data"
    },
    {
     "data": {
      "text/plain": [
       "36447.86"
      ]
     },
     "metadata": {},
     "output_type": "display_data"
    },
    {
     "data": {
      "text/plain": [
       "datetime.datetime(2024, 8, 27, 6, 3, 38, 582846, tzinfo=datetime.timezone.utc)"
      ]
     },
     "metadata": {},
     "output_type": "display_data"
    }
   ],
   "source": [
    "from datetime import datetime, timedelta\n",
    "\n",
    "channels = raw.info['ch_names']\n",
    "sfreq = raw.info['sfreq']\n",
    "start_date = raw.info['meas_date']\n",
    "end_date = start_date + timedelta(seconds=float(raw.times[-1]))\n",
    "\n",
    "display(channels)\n",
    "display(sfreq)\n",
    "display(start_date)\n",
    "display(input_file_without_ext)\n",
    "display(raw.n_times)\n",
    "display(raw.times[0])\n",
    "display(raw.times[-1])\n",
    "display(end_date)\n"
   ]
  },
  {
   "cell_type": "markdown",
   "id": "96e6319ab331dcf7",
   "metadata": {},
   "source": [
    "## Load Brainflow data"
   ]
  },
  {
   "cell_type": "code",
   "execution_count": null,
   "id": "2e3e53ca175b574c",
   "metadata": {},
   "outputs": [],
   "source": []
  },
  {
   "cell_type": "code",
   "execution_count": null,
   "id": "49b2a6c8b8f3805f",
   "metadata": {
    "ExecuteTime": {
     "end_time": "2024-08-21T18:05:42.535578Z",
     "start_time": "2024-08-21T18:05:42.465574Z"
    }
   },
   "outputs": [],
   "source": [
    "brainflow_input_file = \"C:\\\\dev\\\\play\\\\brainwave-processor\\\\2024-08-18-21-33-07.brainflow.csv\"\n",
    "board_id = BoardIds.CYTON_BOARD.value\n",
    "channels = ['F8-M1', 'Fpz-M1']"
   ]
  },
  {
   "cell_type": "code",
   "execution_count": null,
   "id": "a830923395eaa194",
   "metadata": {
    "ExecuteTime": {
     "end_time": "2024-08-21T18:07:21.449488Z",
     "start_time": "2024-08-21T18:05:50.549409Z"
    }
   },
   "outputs": [],
   "source": [
    "log(f\"Reading file {input_file}\")\n",
    "restored_data = DataFilter.read_file(brainflow_input_file)\n",
    "log(\"Finished reading file\")\n",
    "restored_df = pd.DataFrame(np.transpose(restored_data))\n"
   ]
  },
  {
   "cell_type": "code",
   "execution_count": null,
   "id": "65d68358e5fae1c7",
   "metadata": {
    "ExecuteTime": {
     "end_time": "2024-08-21T18:26:53.536800Z",
     "start_time": "2024-08-21T18:26:51.751618Z"
    }
   },
   "outputs": [
    {
     "name": "stdout",
     "output_type": "stream",
     "text": [
      "Creating RawArray with float64 data, n_channels=2, n_times=8057714\n",
      "    Range : 0 ... 8057713 =      0.000 ... 32230.852 secs\n",
      "Ready.\n"
     ]
    },
    {
     "name": "stderr",
     "output_type": "stream",
     "text": [
      "C:\\Users\\graha\\AppData\\Local\\Temp\\ipykernel_14900\\2258503004.py:14: SettingWithCopyWarning: \n",
      "A value is trying to be set on a copy of a slice from a DataFrame.\n",
      "Try using .loc[row_indexer,col_indexer] = value instead\n",
      "\n",
      "See the caveats in the documentation: https://pandas.pydata.org/pandas-docs/stable/user_guide/indexing.html#returning-a-view-versus-a-copy\n",
      "  idx_and_eeg_channels_and_timestamp['datetime'] = pd.to_datetime(idx_and_eeg_channels_and_timestamp['timestamp'],unit=\"s\").dt.tz_localize('UTC')\n"
     ]
    }
   ],
   "source": [
    "\n",
    "eeg_channels = BoardShim.get_eeg_channels(board_id)\n",
    "\n",
    "log(f\"EEG channels: {eeg_channels}\")\n",
    "\n",
    "selected_columns = [restored_df.columns[0]]\n",
    "num_eeg_channels_to_select = min(len(eeg_channels), len(channels))\n",
    "selected_eeg_channels = [eeg_channels[i] for i in range(num_eeg_channels_to_select)]\n",
    "selected_columns.extend(selected_eeg_channels)\n",
    "selected_columns.append(restored_df.columns[-2])\n",
    "idx_and_eeg_channels_and_timestamp = restored_df[selected_columns]\n",
    "\n",
    "column_names = ['sampleIdx'] + channels + ['timestamp']\n",
    "idx_and_eeg_channels_and_timestamp.columns = column_names\n",
    "idx_and_eeg_channels_and_timestamp['datetime'] = pd.to_datetime(idx_and_eeg_channels_and_timestamp['timestamp'],unit=\"s\").dt.tz_localize('UTC')\n",
    "\n",
    "eeg_channels_only = idx_and_eeg_channels_and_timestamp[channels]\n",
    "\n",
    "\n",
    "# Brainflow Cyton data in uV, MNE expects V\n",
    "scaled = eeg_channels_only / 1_000_000\n",
    "\n",
    "ch_types = ['eeg'] * len(channels)\n",
    "\n",
    "initial_timestamp = idx_and_eeg_channels_and_timestamp['datetime'].iloc[0]\n",
    "\n",
    "sfreq = BoardShim.get_sampling_rate(board_id)\n",
    "info = mne.create_info(ch_names=channels, sfreq=sfreq, ch_types=ch_types)\n",
    "info.set_meas_date(initial_timestamp)\n",
    "toSave = mne.io.RawArray(np.transpose(scaled), info)"
   ]
  },
  {
   "cell_type": "markdown",
   "id": "e9f2d542ccaa4698",
   "metadata": {},
   "source": []
  },
  {
   "cell_type": "code",
   "execution_count": null,
   "id": "d7ae37a563f76fb9",
   "metadata": {
    "ExecuteTime": {
     "end_time": "2024-08-21T18:27:00.778833Z",
     "start_time": "2024-08-21T18:27:00.690739Z"
    }
   },
   "outputs": [
    {
     "data": {
      "text/plain": [
       "0   2024-08-18 20:33:07.498431921+00:00\n",
       "1   2024-08-18 20:33:07.498481035+00:00\n",
       "2   2024-08-18 20:33:07.498507977+00:00\n",
       "3   2024-08-18 20:33:07.498532057+00:00\n",
       "4   2024-08-18 20:33:07.498555899+00:00\n",
       "Name: datetime, dtype: datetime64[ns, UTC]"
      ]
     },
     "execution_count": 28,
     "metadata": {},
     "output_type": "execute_result"
    }
   ],
   "source": [
    "idx_and_eeg_channels_and_timestamp['datetime'].head()"
   ]
  },
  {
   "cell_type": "code",
   "execution_count": null,
   "id": "6c5ec3eaddcf0c29",
   "metadata": {
    "ExecuteTime": {
     "end_time": "2024-08-21T18:27:04.239245Z",
     "start_time": "2024-08-21T18:27:04.237240Z"
    }
   },
   "outputs": [],
   "source": []
  },
  {
   "cell_type": "code",
   "execution_count": null,
   "id": "691ae82482a159d8",
   "metadata": {
    "ExecuteTime": {
     "end_time": "2024-08-21T18:27:08.444046Z",
     "start_time": "2024-08-21T18:27:08.361490Z"
    }
   },
   "outputs": [
    {
     "data": {
      "text/html": [
       "<div>\n",
       "<style scoped>\n",
       "    .dataframe tbody tr th:only-of-type {\n",
       "        vertical-align: middle;\n",
       "    }\n",
       "\n",
       "    .dataframe tbody tr th {\n",
       "        vertical-align: top;\n",
       "    }\n",
       "\n",
       "    .dataframe thead th {\n",
       "        text-align: right;\n",
       "    }\n",
       "</style>\n",
       "<table border=\"1\" class=\"dataframe\">\n",
       "  <thead>\n",
       "    <tr style=\"text-align: right;\">\n",
       "      <th></th>\n",
       "      <th>0</th>\n",
       "      <th>1</th>\n",
       "      <th>2</th>\n",
       "      <th>3</th>\n",
       "      <th>4</th>\n",
       "      <th>5</th>\n",
       "      <th>6</th>\n",
       "      <th>7</th>\n",
       "      <th>8</th>\n",
       "      <th>9</th>\n",
       "      <th>...</th>\n",
       "      <th>14</th>\n",
       "      <th>15</th>\n",
       "      <th>16</th>\n",
       "      <th>17</th>\n",
       "      <th>18</th>\n",
       "      <th>19</th>\n",
       "      <th>20</th>\n",
       "      <th>21</th>\n",
       "      <th>22</th>\n",
       "      <th>23</th>\n",
       "    </tr>\n",
       "  </thead>\n",
       "  <tbody>\n",
       "    <tr>\n",
       "      <th>0</th>\n",
       "      <td>0.0</td>\n",
       "      <td>-12948.186749</td>\n",
       "      <td>13474.413869</td>\n",
       "      <td>-46959.584589</td>\n",
       "      <td>-187500.022352</td>\n",
       "      <td>-187500.022352</td>\n",
       "      <td>-187500.022352</td>\n",
       "      <td>-187500.022352</td>\n",
       "      <td>-187500.022352</td>\n",
       "      <td>0.004</td>\n",
       "      <td>...</td>\n",
       "      <td>32.0</td>\n",
       "      <td>245.0</td>\n",
       "      <td>208.0</td>\n",
       "      <td>12.0</td>\n",
       "      <td>192.0</td>\n",
       "      <td>0.0</td>\n",
       "      <td>0.0</td>\n",
       "      <td>0.0</td>\n",
       "      <td>1.724013e+09</td>\n",
       "      <td>0.0</td>\n",
       "    </tr>\n",
       "    <tr>\n",
       "      <th>1</th>\n",
       "      <td>1.0</td>\n",
       "      <td>-12953.819389</td>\n",
       "      <td>13692.924523</td>\n",
       "      <td>-46873.977408</td>\n",
       "      <td>-187500.022352</td>\n",
       "      <td>-187500.022352</td>\n",
       "      <td>-187500.022352</td>\n",
       "      <td>-187500.022352</td>\n",
       "      <td>-187500.022352</td>\n",
       "      <td>0.004</td>\n",
       "      <td>...</td>\n",
       "      <td>0.0</td>\n",
       "      <td>0.0</td>\n",
       "      <td>0.0</td>\n",
       "      <td>0.0</td>\n",
       "      <td>0.0</td>\n",
       "      <td>0.0</td>\n",
       "      <td>0.0</td>\n",
       "      <td>0.0</td>\n",
       "      <td>1.724013e+09</td>\n",
       "      <td>0.0</td>\n",
       "    </tr>\n",
       "    <tr>\n",
       "      <th>2</th>\n",
       "      <td>2.0</td>\n",
       "      <td>-12944.588118</td>\n",
       "      <td>13916.374912</td>\n",
       "      <td>-46825.854102</td>\n",
       "      <td>-187500.022352</td>\n",
       "      <td>-187500.022352</td>\n",
       "      <td>-187500.022352</td>\n",
       "      <td>-187500.022352</td>\n",
       "      <td>-187500.022352</td>\n",
       "      <td>0.004</td>\n",
       "      <td>...</td>\n",
       "      <td>0.0</td>\n",
       "      <td>0.0</td>\n",
       "      <td>0.0</td>\n",
       "      <td>0.0</td>\n",
       "      <td>0.0</td>\n",
       "      <td>0.0</td>\n",
       "      <td>0.0</td>\n",
       "      <td>0.0</td>\n",
       "      <td>1.724013e+09</td>\n",
       "      <td>0.0</td>\n",
       "    </tr>\n",
       "    <tr>\n",
       "      <th>3</th>\n",
       "      <td>3.0</td>\n",
       "      <td>-12954.668755</td>\n",
       "      <td>13869.436248</td>\n",
       "      <td>-46873.306855</td>\n",
       "      <td>-187500.022352</td>\n",
       "      <td>-187500.022352</td>\n",
       "      <td>-187500.022352</td>\n",
       "      <td>-187500.022352</td>\n",
       "      <td>-187500.022352</td>\n",
       "      <td>0.004</td>\n",
       "      <td>...</td>\n",
       "      <td>0.0</td>\n",
       "      <td>0.0</td>\n",
       "      <td>0.0</td>\n",
       "      <td>0.0</td>\n",
       "      <td>0.0</td>\n",
       "      <td>0.0</td>\n",
       "      <td>0.0</td>\n",
       "      <td>0.0</td>\n",
       "      <td>1.724013e+09</td>\n",
       "      <td>0.0</td>\n",
       "    </tr>\n",
       "    <tr>\n",
       "      <th>4</th>\n",
       "      <td>4.0</td>\n",
       "      <td>-12949.416095</td>\n",
       "      <td>13660.223920</td>\n",
       "      <td>-46929.566196</td>\n",
       "      <td>-187500.022352</td>\n",
       "      <td>-187500.022352</td>\n",
       "      <td>-187500.022352</td>\n",
       "      <td>-187500.022352</td>\n",
       "      <td>-187500.022352</td>\n",
       "      <td>0.004</td>\n",
       "      <td>...</td>\n",
       "      <td>0.0</td>\n",
       "      <td>0.0</td>\n",
       "      <td>0.0</td>\n",
       "      <td>0.0</td>\n",
       "      <td>0.0</td>\n",
       "      <td>0.0</td>\n",
       "      <td>0.0</td>\n",
       "      <td>0.0</td>\n",
       "      <td>1.724013e+09</td>\n",
       "      <td>0.0</td>\n",
       "    </tr>\n",
       "  </tbody>\n",
       "</table>\n",
       "<p>5 rows × 24 columns</p>\n",
       "</div>"
      ],
      "text/plain": [
       "    0             1             2             3              4   \\\n",
       "0  0.0 -12948.186749  13474.413869 -46959.584589 -187500.022352   \n",
       "1  1.0 -12953.819389  13692.924523 -46873.977408 -187500.022352   \n",
       "2  2.0 -12944.588118  13916.374912 -46825.854102 -187500.022352   \n",
       "3  3.0 -12954.668755  13869.436248 -46873.306855 -187500.022352   \n",
       "4  4.0 -12949.416095  13660.223920 -46929.566196 -187500.022352   \n",
       "\n",
       "              5              6              7              8      9   ...  \\\n",
       "0 -187500.022352 -187500.022352 -187500.022352 -187500.022352  0.004  ...   \n",
       "1 -187500.022352 -187500.022352 -187500.022352 -187500.022352  0.004  ...   \n",
       "2 -187500.022352 -187500.022352 -187500.022352 -187500.022352  0.004  ...   \n",
       "3 -187500.022352 -187500.022352 -187500.022352 -187500.022352  0.004  ...   \n",
       "4 -187500.022352 -187500.022352 -187500.022352 -187500.022352  0.004  ...   \n",
       "\n",
       "     14     15     16    17     18   19   20   21            22   23  \n",
       "0  32.0  245.0  208.0  12.0  192.0  0.0  0.0  0.0  1.724013e+09  0.0  \n",
       "1   0.0    0.0    0.0   0.0    0.0  0.0  0.0  0.0  1.724013e+09  0.0  \n",
       "2   0.0    0.0    0.0   0.0    0.0  0.0  0.0  0.0  1.724013e+09  0.0  \n",
       "3   0.0    0.0    0.0   0.0    0.0  0.0  0.0  0.0  1.724013e+09  0.0  \n",
       "4   0.0    0.0    0.0   0.0    0.0  0.0  0.0  0.0  1.724013e+09  0.0  \n",
       "\n",
       "[5 rows x 24 columns]"
      ]
     },
     "execution_count": 29,
     "metadata": {},
     "output_type": "execute_result"
    }
   ],
   "source": [
    "restored_df.head()"
   ]
  },
  {
   "cell_type": "code",
   "execution_count": null,
   "id": "89716a9790431093",
   "metadata": {
    "ExecuteTime": {
     "end_time": "2024-08-21T18:27:12.625116Z",
     "start_time": "2024-08-21T18:27:12.550996Z"
    }
   },
   "outputs": [
    {
     "data": {
      "text/html": [
       "<div>\n",
       "<style scoped>\n",
       "    .dataframe tbody tr th:only-of-type {\n",
       "        vertical-align: middle;\n",
       "    }\n",
       "\n",
       "    .dataframe tbody tr th {\n",
       "        vertical-align: top;\n",
       "    }\n",
       "\n",
       "    .dataframe thead th {\n",
       "        text-align: right;\n",
       "    }\n",
       "</style>\n",
       "<table border=\"1\" class=\"dataframe\">\n",
       "  <thead>\n",
       "    <tr style=\"text-align: right;\">\n",
       "      <th></th>\n",
       "      <th>sampleIdx</th>\n",
       "      <th>F8-M1</th>\n",
       "      <th>Fpz-M1</th>\n",
       "      <th>timestamp</th>\n",
       "      <th>datetime</th>\n",
       "    </tr>\n",
       "  </thead>\n",
       "  <tbody>\n",
       "    <tr>\n",
       "      <th>0</th>\n",
       "      <td>0.0</td>\n",
       "      <td>-12948.186749</td>\n",
       "      <td>13474.413869</td>\n",
       "      <td>1.724013e+09</td>\n",
       "      <td>2024-08-18 20:33:07.498431921+00:00</td>\n",
       "    </tr>\n",
       "    <tr>\n",
       "      <th>1</th>\n",
       "      <td>1.0</td>\n",
       "      <td>-12953.819389</td>\n",
       "      <td>13692.924523</td>\n",
       "      <td>1.724013e+09</td>\n",
       "      <td>2024-08-18 20:33:07.498481035+00:00</td>\n",
       "    </tr>\n",
       "    <tr>\n",
       "      <th>2</th>\n",
       "      <td>2.0</td>\n",
       "      <td>-12944.588118</td>\n",
       "      <td>13916.374912</td>\n",
       "      <td>1.724013e+09</td>\n",
       "      <td>2024-08-18 20:33:07.498507977+00:00</td>\n",
       "    </tr>\n",
       "    <tr>\n",
       "      <th>3</th>\n",
       "      <td>3.0</td>\n",
       "      <td>-12954.668755</td>\n",
       "      <td>13869.436248</td>\n",
       "      <td>1.724013e+09</td>\n",
       "      <td>2024-08-18 20:33:07.498532057+00:00</td>\n",
       "    </tr>\n",
       "    <tr>\n",
       "      <th>4</th>\n",
       "      <td>4.0</td>\n",
       "      <td>-12949.416095</td>\n",
       "      <td>13660.223920</td>\n",
       "      <td>1.724013e+09</td>\n",
       "      <td>2024-08-18 20:33:07.498555899+00:00</td>\n",
       "    </tr>\n",
       "  </tbody>\n",
       "</table>\n",
       "</div>"
      ],
      "text/plain": [
       "   sampleIdx         F8-M1        Fpz-M1     timestamp  \\\n",
       "0        0.0 -12948.186749  13474.413869  1.724013e+09   \n",
       "1        1.0 -12953.819389  13692.924523  1.724013e+09   \n",
       "2        2.0 -12944.588118  13916.374912  1.724013e+09   \n",
       "3        3.0 -12954.668755  13869.436248  1.724013e+09   \n",
       "4        4.0 -12949.416095  13660.223920  1.724013e+09   \n",
       "\n",
       "                             datetime  \n",
       "0 2024-08-18 20:33:07.498431921+00:00  \n",
       "1 2024-08-18 20:33:07.498481035+00:00  \n",
       "2 2024-08-18 20:33:07.498507977+00:00  \n",
       "3 2024-08-18 20:33:07.498532057+00:00  \n",
       "4 2024-08-18 20:33:07.498555899+00:00  "
      ]
     },
     "execution_count": 30,
     "metadata": {},
     "output_type": "execute_result"
    }
   ],
   "source": [
    "idx_and_eeg_channels_and_timestamp.head()"
   ]
  },
  {
   "cell_type": "code",
   "execution_count": null,
   "id": "a575926e0e12b7a8",
   "metadata": {
    "ExecuteTime": {
     "end_time": "2024-08-21T17:53:07.365231Z",
     "start_time": "2024-08-21T17:53:05.822707Z"
    }
   },
   "outputs": [
    {
     "name": "stdout",
     "output_type": "stream",
     "text": [
      "Opening raw data file C:\\dev\\play\\brainwave-processor\\2024-08-18-21-33-07\\raw.fif...\n",
      "Isotrak not found\n",
      "    Range : 0 ... 8057713 =      0.000 ... 32230.852 secs\n",
      "Ready.\n",
      "Reading 0 ... 8057713  =      0.000 ... 32230.852 secs...\n"
     ]
    }
   ],
   "source": []
  },
  {
   "cell_type": "code",
   "execution_count": null,
   "id": "d207d6474f07425e",
   "metadata": {
    "ExecuteTime": {
     "end_time": "2024-08-21T17:53:07.493189Z",
     "start_time": "2024-08-21T17:53:07.366332Z"
    }
   },
   "outputs": [
    {
     "data": {
      "text/plain": [
       "['F8-M1', 'Fpz-M1', 'F4-M1']"
      ]
     },
     "metadata": {},
     "output_type": "display_data"
    },
    {
     "data": {
      "text/plain": [
       "250.0"
      ]
     },
     "metadata": {},
     "output_type": "display_data"
    },
    {
     "data": {
      "text/plain": [
       "datetime.datetime(1970, 1, 20, 22, 53, 33, 187498, tzinfo=datetime.timezone.utc)"
      ]
     },
     "metadata": {},
     "output_type": "display_data"
    },
    {
     "data": {
      "text/plain": [
       "'C:\\\\dev\\\\play\\\\brainwave-processor\\\\2024-08-18-21-33-07\\\\raw'"
      ]
     },
     "metadata": {},
     "output_type": "display_data"
    }
   ],
   "source": []
  },
  {
   "cell_type": "code",
   "execution_count": null,
   "id": "f11b7cb995aed4c0",
   "metadata": {
    "ExecuteTime": {
     "end_time": "2024-08-19T06:51:00.318263Z",
     "start_time": "2024-08-19T06:51:00.315982Z"
    }
   },
   "outputs": [],
   "source": []
  },
  {
   "cell_type": "markdown",
   "id": "44b464e9825be163",
   "metadata": {},
   "source": [
    "## Load other data"
   ]
  },
  {
   "cell_type": "markdown",
   "id": "7f798ce8ea21d41",
   "metadata": {},
   "source": [
    "## Run YASA"
   ]
  },
  {
   "cell_type": "code",
   "execution_count": null,
   "id": "35fd3370c11261dd",
   "metadata": {
    "ExecuteTime": {
     "end_time": "2024-08-19T06:51:37.372619Z",
     "start_time": "2024-08-19T06:51:00.318263Z"
    }
   },
   "outputs": [
    {
     "name": "stdout",
     "output_type": "stream",
     "text": [
      "NOTE: plot_psd() is a legacy function. New code should use .compute_psd().plot().\n",
      "Effective window size : 8.192 (s)\n",
      "Plotting power spectral density (dB=True).\n"
     ]
    },
    {
     "name": "stderr",
     "output_type": "stream",
     "text": [
      "C:\\dev\\play\\brainwave-processor\\run_yasa.py:83: FutureWarning: The value of `amplitude='auto'` will be removed in MNE 1.8.0, and the new default will be `amplitude=False`.\n",
      "  raw.plot_psd(average=False).savefig(input_file_without_ext + '.pre_filter_psd_plot.png', dpi=300)\n",
      "C:\\dev\\play\\brainwave-processor\\run_yasa.py:83: RuntimeWarning: Channel locations not available. Disabling spatial colors.\n",
      "  raw.plot_psd(average=False).savefig(input_file_without_ext + '.pre_filter_psd_plot.png', dpi=300)\n",
      "C:\\dev\\play\\brainwave-processor\\venv\\Lib\\site-packages\\mne\\viz\\utils.py:167: UserWarning: FigureCanvasAgg is non-interactive, and thus cannot be shown\n",
      "  (fig or plt).show(**kwargs)\n"
     ]
    },
    {
     "name": "stdout",
     "output_type": "stream",
     "text": [
      "Filtering raw data in 1 contiguous segment\n",
      "Setting up band-pass filter from 0.3 - 35 Hz\n",
      "\n",
      "FIR filter parameters\n",
      "---------------------\n",
      "Designing a one-pass, zero-phase, non-causal bandpass filter:\n",
      "- Windowed time-domain design (firwin) method\n",
      "- Hamming window with 0.0194 passband ripple and 53 dB stopband attenuation\n",
      "- Lower passband edge: 0.30\n",
      "- Lower transition bandwidth: 0.30 Hz (-6 dB cutoff frequency: 0.15 Hz)\n",
      "- Upper passband edge: 35.00 Hz\n",
      "- Upper transition bandwidth: 8.75 Hz (-6 dB cutoff frequency: 39.38 Hz)\n",
      "- Filter length: 2751 samples (11.004 s)\n",
      "\n",
      "Filtering raw data in 1 contiguous segment\n",
      "Setting up band-stop filter\n",
      "\n",
      "FIR filter parameters\n",
      "---------------------\n",
      "Designing a one-pass, zero-phase, non-causal bandstop filter:\n",
      "- Windowed time-domain design (firwin) method\n",
      "- Hamming window with 0.0194 passband ripple and 53 dB stopband attenuation\n",
      "- Lower transition bandwidth: 0.50 Hz\n",
      "- Upper transition bandwidth: 0.50 Hz\n",
      "- Filter length: 1651 samples (6.604 s)\n",
      "\n",
      "NOTE: plot_psd() is a legacy function. New code should use .compute_psd().plot().\n",
      "Effective window size : 8.192 (s)\n",
      "Plotting power spectral density (dB=True).\n"
     ]
    },
    {
     "name": "stderr",
     "output_type": "stream",
     "text": [
      "C:\\dev\\play\\brainwave-processor\\run_yasa.py:86: FutureWarning: The value of `amplitude='auto'` will be removed in MNE 1.8.0, and the new default will be `amplitude=False`.\n",
      "  filtered.plot_psd(average=False).savefig(input_file_without_ext + '.post_filter_psd_plot.png', dpi=300)\n",
      "C:\\dev\\play\\brainwave-processor\\run_yasa.py:86: RuntimeWarning: Channel locations not available. Disabling spatial colors.\n",
      "  filtered.plot_psd(average=False).savefig(input_file_without_ext + '.post_filter_psd_plot.png', dpi=300)\n",
      "C:\\dev\\play\\brainwave-processor\\venv\\Lib\\site-packages\\mne\\viz\\utils.py:167: UserWarning: FigureCanvasAgg is non-interactive, and thus cannot be shown\n",
      "  (fig or plt).show(**kwargs)\n",
      "C:\\dev\\play\\brainwave-processor\\venv\\Lib\\site-packages\\sklearn\\base.py:376: InconsistentVersionWarning: Trying to unpickle estimator LabelEncoder from version 0.24.2 when using version 1.5.1. This might lead to breaking code or invalid results. Use at your own risk. For more info please refer to:\n",
      "https://scikit-learn.org/stable/model_persistence.html#security-maintainability-limitations\n",
      "  warnings.warn(\n",
      "19-Aug-24 07:51:05 | WARNING | Hypnogram is SHORTER than data by 10.86 seconds. Padding hypnogram with last value to match data.size.\n",
      "19-Aug-24 07:51:12 | INFO | Using pre-trained classifier: C:\\dev\\play\\brainwave-processor\\venv\\Lib\\site-packages\\yasa\\classifiers\\clf_eeg_lgb_0.5.0.joblib\n",
      "C:\\dev\\play\\brainwave-processor\\venv\\Lib\\site-packages\\sklearn\\base.py:376: InconsistentVersionWarning: Trying to unpickle estimator LabelEncoder from version 0.24.2 when using version 1.5.1. This might lead to breaking code or invalid results. Use at your own risk. For more info please refer to:\n",
      "https://scikit-learn.org/stable/model_persistence.html#security-maintainability-limitations\n",
      "  warnings.warn(\n",
      "19-Aug-24 07:51:13 | WARNING | Hypnogram is SHORTER than data by 10.86 seconds. Padding hypnogram with last value to match data.size.\n",
      "19-Aug-24 07:51:20 | INFO | Using pre-trained classifier: C:\\dev\\play\\brainwave-processor\\venv\\Lib\\site-packages\\yasa\\classifiers\\clf_eeg_lgb_0.5.0.joblib\n",
      "C:\\dev\\play\\brainwave-processor\\venv\\Lib\\site-packages\\sklearn\\base.py:376: InconsistentVersionWarning: Trying to unpickle estimator LabelEncoder from version 0.24.2 when using version 1.5.1. This might lead to breaking code or invalid results. Use at your own risk. For more info please refer to:\n",
      "https://scikit-learn.org/stable/model_persistence.html#security-maintainability-limitations\n",
      "  warnings.warn(\n",
      "19-Aug-24 07:51:20 | WARNING | Hypnogram is SHORTER than data by 10.86 seconds. Padding hypnogram with last value to match data.size.\n"
     ]
    },
    {
     "name": "stdout",
     "output_type": "stream",
     "text": [
      "{'Stability': {'F8-M1': {'AnyStage': 0.875, 'Wake': 0.837, 'N1': 0.322, 'N2': 0.828, 'Deep': 0.916, 'REM': 0.88}, 'Fpz-M1': {'AnyStage': 0.883, 'Wake': 0.859, 'N1': 0.294, 'N2': 0.837, 'Deep': 0.889, 'REM': 0.921}, 'F4-M1': {'AnyStage': 0.882, 'Wake': 0.823, 'N1': 0.327, 'N2': 0.854, 'Deep': 0.867, 'REM': 0.926}, 'Aggregated': {'AnyStage': 0.894, 'Wake': 0.856, 'N1': 0.296, 'N2': 0.866, 'Deep': 0.909, 'REM': 0.908}}, 'Spindles': {'Aggregated': {'Amplitude': 45.77192812769312, 'RMS': 9.111193625985186, 'AbsPower': 1.7061467902543175, 'RelPower': 0.31929755625291467, 'Frequency': 12.933909003579066, 'Oscillations': 9.068047708725674, 'Symmetry': 0.5556077587004221}, 'F4-M1': {'Amplitude': 46.16089078888318, 'RMS': 9.910556025695692, 'AbsPower': 1.840882233408207, 'RelPower': 0.3361347442967549, 'Frequency': 12.920628327283046, 'Oscillations': 9.248587570621469, 'Symmetry': 0.5148549198874355}, 'F8-M1': {'Amplitude': 41.99495421913245, 'RMS': 7.952632003459209, 'AbsPower': 1.625524329002897, 'RelPower': 0.3132047802776167, 'Frequency': 12.809181298768294, 'Oscillations': 9.126984126984127, 'Symmetry': 0.5865884083503556}, 'Fpz-M1': {'Amplitude': 49.15993937506375, 'RMS': 9.470392848800651, 'AbsPower': 1.652033808351849, 'RelPower': 0.3085531441843724, 'Frequency': 13.071917384685854, 'Oscillations': 8.82857142857143, 'Symmetry': 0.5653799478634752}}, 'SlowWaves': {'Aggregated': {'ValNegPeak': -61.37966977653475, 'ValPosPeak': 54.8150479254497, 'PTP': 116.19471770198443, 'Slope': 398.8611319282714, 'Frequency': 0.808767098741176}, 'F4-M1': {'ValNegPeak': -60.6730586706934, 'ValPosPeak': 57.79676892212438, 'PTP': 118.46982759281778, 'Slope': 415.2378718013899, 'Frequency': 0.8129461910382819}, 'F8-M1': {'ValNegPeak': -60.11321896809965, 'ValPosPeak': 50.58855947842102, 'PTP': 110.70177844652068, 'Slope': 358.52799596768057, 'Frequency': 0.7738518296723612}, 'Fpz-M1': {'ValNegPeak': -63.35273169081119, 'ValPosPeak': 56.059815375803666, 'PTP': 119.41254706661485, 'Slope': 422.81752801574385, 'Frequency': 0.8395032755128847}}, 'ChannelAgreement': {'F8-M1-Fpz-M1-F4-M1': 'Number of stages: 1074\\nStages where F8-M1 and Fpz-M1 do not agree: 146 13.59%\\nOf those stages of non-agreement:\\nF8-M1 5% more confident than Fpz-M1: 48 rows 4.47%\\n  Of these, 26 rows agree with F4-M1 2.42%\\nF8-M1 10% more confident than Fpz-M1: 33 rows 3.07%\\n  Of these, 23 rows agree with F4-M1 2.14%\\nF8-M1 20% more confident than Fpz-M1: 15 rows 1.40%\\n  Of these, 12 rows agree with F4-M1 1.12%\\nStages where F8-M1 and F4-M1 agree and disagree with Fpz-M1: 51 rows 4.75%\\n  Whether either F8-M1 or F4-M1 5% more confident than Fpz-M1: 30 rows 2.79%\\n  Whether either F8-M1 or F4-M1 10% more confident than Fpz-M1: 26 rows 2.42%\\n  Whether either F8-M1 or F4-M1 20% more confident than Fpz-M1: 15 rows 1.40%\\nStages where F8-M1 and F4-M1 agree and agree with Fpz-M1: 882 rows 82.12%', 'F8-M1-F4-M1-Fpz-M1': 'Number of stages: 1074\\nStages where F8-M1 and F4-M1 do not agree: 141 13.13%\\nOf those stages of non-agreement:\\nF8-M1 5% more confident than F4-M1: 41 rows 3.82%\\n  Of these, 18 rows agree with Fpz-M1 1.68%\\nF8-M1 10% more confident than F4-M1: 28 rows 2.61%\\n  Of these, 12 rows agree with Fpz-M1 1.12%\\nF8-M1 20% more confident than F4-M1: 11 rows 1.02%\\n  Of these, 7 rows agree with Fpz-M1 0.65%\\nStages where F8-M1 and Fpz-M1 agree and disagree with F4-M1: 46 rows 4.28%\\n  Whether either F8-M1 or Fpz-M1 5% more confident than F4-M1: 25 rows 2.33%\\n  Whether either F8-M1 or Fpz-M1 10% more confident than F4-M1: 20 rows 1.86%\\n  Whether either F8-M1 or Fpz-M1 20% more confident than F4-M1: 11 rows 1.02%\\nStages where F8-M1 and Fpz-M1 agree and agree with F4-M1: 882 rows 82.12%', 'Fpz-M1-F8-M1-F4-M1': 'Number of stages: 1074\\nStages where Fpz-M1 and F8-M1 do not agree: 146 13.59%\\nOf those stages of non-agreement:\\nFpz-M1 5% more confident than F8-M1: 66 rows 6.15%\\n  Of these, 54 rows agree with F4-M1 5.03%\\nFpz-M1 10% more confident than F8-M1: 53 rows 4.93%\\n  Of these, 43 rows agree with F4-M1 4.00%\\nFpz-M1 20% more confident than F8-M1: 26 rows 2.42%\\n  Of these, 24 rows agree with F4-M1 2.23%\\nStages where Fpz-M1 and F4-M1 agree and disagree with F8-M1: 88 rows 8.19%\\n  Whether either Fpz-M1 or F4-M1 5% more confident than F8-M1: 61 rows 5.68%\\n  Whether either Fpz-M1 or F4-M1 10% more confident than F8-M1: 54 rows 5.03%\\n  Whether either Fpz-M1 or F4-M1 20% more confident than F8-M1: 36 rows 3.35%\\nStages where Fpz-M1 and F4-M1 agree and agree with F8-M1: 882 rows 82.12%', 'Fpz-M1-F4-M1-F8-M1': 'Number of stages: 1074\\nStages where Fpz-M1 and F4-M1 do not agree: 104 9.68%\\nOf those stages of non-agreement:\\nFpz-M1 5% more confident than F4-M1: 34 rows 3.17%\\n  Of these, 16 rows agree with F8-M1 1.49%\\nFpz-M1 10% more confident than F4-M1: 26 rows 2.42%\\n  Of these, 12 rows agree with F8-M1 1.12%\\nFpz-M1 20% more confident than F4-M1: 10 rows 0.93%\\n  Of these, 6 rows agree with F8-M1 0.56%\\nStages where Fpz-M1 and F8-M1 agree and disagree with F4-M1: 46 rows 4.28%\\n  Whether either Fpz-M1 or F8-M1 5% more confident than F4-M1: 25 rows 2.33%\\n  Whether either Fpz-M1 or F8-M1 10% more confident than F4-M1: 20 rows 1.86%\\n  Whether either Fpz-M1 or F8-M1 20% more confident than F4-M1: 11 rows 1.02%\\nStages where Fpz-M1 and F8-M1 agree and agree with F4-M1: 882 rows 82.12%', 'F4-M1-F8-M1-Fpz-M1': 'Number of stages: 1074\\nStages where F4-M1 and F8-M1 do not agree: 141 13.13%\\nOf those stages of non-agreement:\\nF4-M1 5% more confident than F8-M1: 70 rows 6.52%\\n  Of these, 54 rows agree with Fpz-M1 5.03%\\nF4-M1 10% more confident than F8-M1: 61 rows 5.68%\\n  Of these, 49 rows agree with Fpz-M1 4.56%\\nF4-M1 20% more confident than F8-M1: 36 rows 3.35%\\n  Of these, 33 rows agree with Fpz-M1 3.07%\\nStages where F4-M1 and Fpz-M1 agree and disagree with F8-M1: 88 rows 8.19%\\n  Whether either F4-M1 or Fpz-M1 5% more confident than F8-M1: 61 rows 5.68%\\n  Whether either F4-M1 or Fpz-M1 10% more confident than F8-M1: 54 rows 5.03%\\n  Whether either F4-M1 or Fpz-M1 20% more confident than F8-M1: 36 rows 3.35%\\nStages where F4-M1 and Fpz-M1 agree and agree with F8-M1: 882 rows 82.12%', 'F4-M1-Fpz-M1-F8-M1': 'Number of stages: 1074\\nStages where F4-M1 and Fpz-M1 do not agree: 104 9.68%\\nOf those stages of non-agreement:\\nF4-M1 5% more confident than Fpz-M1: 48 rows 4.47%\\n  Of these, 24 rows agree with F8-M1 2.23%\\nF4-M1 10% more confident than Fpz-M1: 31 rows 2.89%\\n  Of these, 18 rows agree with F8-M1 1.68%\\nF4-M1 20% more confident than Fpz-M1: 15 rows 1.40%\\n  Of these, 11 rows agree with F8-M1 1.02%\\nStages where F4-M1 and F8-M1 agree and disagree with Fpz-M1: 51 rows 4.75%\\n  Whether either F4-M1 or F8-M1 5% more confident than Fpz-M1: 30 rows 2.79%\\n  Whether either F4-M1 or F8-M1 10% more confident than Fpz-M1: 26 rows 2.42%\\n  Whether either F4-M1 or F8-M1 20% more confident than Fpz-M1: 15 rows 1.40%\\nStages where F4-M1 and F8-M1 agree and agree with Fpz-M1: 882 rows 82.12%'}}\n"
     ]
    }
   ],
   "source": [
    "df, json_out = run_yasa.run_yasa_report(log, input_file_without_ext, raw)"
   ]
  },
  {
   "cell_type": "code",
   "execution_count": null,
   "id": "97cc9160f3c178ba",
   "metadata": {
    "ExecuteTime": {
     "end_time": "2024-08-19T06:51:37.434463Z",
     "start_time": "2024-08-19T06:51:37.373635Z"
    }
   },
   "outputs": [
    {
     "data": {
      "text/html": [
       "<div>\n",
       "<style scoped>\n",
       "    .dataframe tbody tr th:only-of-type {\n",
       "        vertical-align: middle;\n",
       "    }\n",
       "\n",
       "    .dataframe tbody tr th {\n",
       "        vertical-align: top;\n",
       "    }\n",
       "\n",
       "    .dataframe thead th {\n",
       "        text-align: right;\n",
       "    }\n",
       "</style>\n",
       "<table border=\"1\" class=\"dataframe\">\n",
       "  <thead>\n",
       "    <tr style=\"text-align: right;\">\n",
       "      <th></th>\n",
       "      <th>Stage</th>\n",
       "      <th>Confidence</th>\n",
       "      <th>Epoch</th>\n",
       "      <th>Timestamp</th>\n",
       "      <th>Source</th>\n",
       "      <th>F8-M1_Stage</th>\n",
       "      <th>F8-M1_Confidence</th>\n",
       "      <th>Fpz-M1_Stage</th>\n",
       "      <th>Fpz-M1_Confidence</th>\n",
       "      <th>F4-M1_Stage</th>\n",
       "      <th>F4-M1_Confidence</th>\n",
       "      <th>StageInt</th>\n",
       "    </tr>\n",
       "  </thead>\n",
       "  <tbody>\n",
       "    <tr>\n",
       "      <th>0</th>\n",
       "      <td>W</td>\n",
       "      <td>0.999648</td>\n",
       "      <td>0</td>\n",
       "      <td>1970-01-20 23:53:33.187498+01:00</td>\n",
       "      <td>F8-M1</td>\n",
       "      <td>W</td>\n",
       "      <td>0.999648</td>\n",
       "      <td>W</td>\n",
       "      <td>0.999146</td>\n",
       "      <td>W</td>\n",
       "      <td>0.999644</td>\n",
       "      <td>0</td>\n",
       "    </tr>\n",
       "    <tr>\n",
       "      <th>1</th>\n",
       "      <td>W</td>\n",
       "      <td>0.999878</td>\n",
       "      <td>1</td>\n",
       "      <td>1970-01-20 23:54:03.187498+01:00</td>\n",
       "      <td>F8-M1</td>\n",
       "      <td>W</td>\n",
       "      <td>0.999878</td>\n",
       "      <td>W</td>\n",
       "      <td>0.997847</td>\n",
       "      <td>W</td>\n",
       "      <td>0.999458</td>\n",
       "      <td>0</td>\n",
       "    </tr>\n",
       "    <tr>\n",
       "      <th>2</th>\n",
       "      <td>W</td>\n",
       "      <td>0.999914</td>\n",
       "      <td>2</td>\n",
       "      <td>1970-01-20 23:54:33.187498+01:00</td>\n",
       "      <td>F4-M1</td>\n",
       "      <td>W</td>\n",
       "      <td>0.999866</td>\n",
       "      <td>W</td>\n",
       "      <td>0.999774</td>\n",
       "      <td>W</td>\n",
       "      <td>0.999914</td>\n",
       "      <td>0</td>\n",
       "    </tr>\n",
       "    <tr>\n",
       "      <th>3</th>\n",
       "      <td>W</td>\n",
       "      <td>0.999890</td>\n",
       "      <td>3</td>\n",
       "      <td>1970-01-20 23:55:03.187498+01:00</td>\n",
       "      <td>Fpz-M1</td>\n",
       "      <td>W</td>\n",
       "      <td>0.999825</td>\n",
       "      <td>W</td>\n",
       "      <td>0.999890</td>\n",
       "      <td>W</td>\n",
       "      <td>0.999874</td>\n",
       "      <td>0</td>\n",
       "    </tr>\n",
       "    <tr>\n",
       "      <th>4</th>\n",
       "      <td>W</td>\n",
       "      <td>0.999823</td>\n",
       "      <td>4</td>\n",
       "      <td>1970-01-20 23:55:33.187498+01:00</td>\n",
       "      <td>Fpz-M1</td>\n",
       "      <td>W</td>\n",
       "      <td>0.999770</td>\n",
       "      <td>W</td>\n",
       "      <td>0.999823</td>\n",
       "      <td>W</td>\n",
       "      <td>0.999415</td>\n",
       "      <td>0</td>\n",
       "    </tr>\n",
       "    <tr>\n",
       "      <th>...</th>\n",
       "      <td>...</td>\n",
       "      <td>...</td>\n",
       "      <td>...</td>\n",
       "      <td>...</td>\n",
       "      <td>...</td>\n",
       "      <td>...</td>\n",
       "      <td>...</td>\n",
       "      <td>...</td>\n",
       "      <td>...</td>\n",
       "      <td>...</td>\n",
       "      <td>...</td>\n",
       "      <td>...</td>\n",
       "    </tr>\n",
       "    <tr>\n",
       "      <th>1069</th>\n",
       "      <td>W</td>\n",
       "      <td>0.888333</td>\n",
       "      <td>1069</td>\n",
       "      <td>1970-01-21 08:48:03.187498+01:00</td>\n",
       "      <td>Fpz-M1</td>\n",
       "      <td>W</td>\n",
       "      <td>0.631320</td>\n",
       "      <td>W</td>\n",
       "      <td>0.888333</td>\n",
       "      <td>W</td>\n",
       "      <td>0.761468</td>\n",
       "      <td>0</td>\n",
       "    </tr>\n",
       "    <tr>\n",
       "      <th>1070</th>\n",
       "      <td>W</td>\n",
       "      <td>0.879404</td>\n",
       "      <td>1070</td>\n",
       "      <td>1970-01-21 08:48:33.187498+01:00</td>\n",
       "      <td>Fpz-M1</td>\n",
       "      <td>W</td>\n",
       "      <td>0.814413</td>\n",
       "      <td>W</td>\n",
       "      <td>0.879404</td>\n",
       "      <td>W</td>\n",
       "      <td>0.736621</td>\n",
       "      <td>0</td>\n",
       "    </tr>\n",
       "    <tr>\n",
       "      <th>1071</th>\n",
       "      <td>W</td>\n",
       "      <td>0.962852</td>\n",
       "      <td>1071</td>\n",
       "      <td>1970-01-21 08:49:03.187498+01:00</td>\n",
       "      <td>Fpz-M1</td>\n",
       "      <td>W</td>\n",
       "      <td>0.723112</td>\n",
       "      <td>W</td>\n",
       "      <td>0.962852</td>\n",
       "      <td>W</td>\n",
       "      <td>0.791457</td>\n",
       "      <td>0</td>\n",
       "    </tr>\n",
       "    <tr>\n",
       "      <th>1072</th>\n",
       "      <td>W</td>\n",
       "      <td>0.970005</td>\n",
       "      <td>1072</td>\n",
       "      <td>1970-01-21 08:49:33.187498+01:00</td>\n",
       "      <td>Fpz-M1</td>\n",
       "      <td>W</td>\n",
       "      <td>0.922054</td>\n",
       "      <td>W</td>\n",
       "      <td>0.970005</td>\n",
       "      <td>W</td>\n",
       "      <td>0.652743</td>\n",
       "      <td>0</td>\n",
       "    </tr>\n",
       "    <tr>\n",
       "      <th>1073</th>\n",
       "      <td>W</td>\n",
       "      <td>0.992050</td>\n",
       "      <td>1073</td>\n",
       "      <td>1970-01-21 08:50:03.187498+01:00</td>\n",
       "      <td>Fpz-M1</td>\n",
       "      <td>W</td>\n",
       "      <td>0.964918</td>\n",
       "      <td>W</td>\n",
       "      <td>0.992050</td>\n",
       "      <td>W</td>\n",
       "      <td>0.978710</td>\n",
       "      <td>0</td>\n",
       "    </tr>\n",
       "  </tbody>\n",
       "</table>\n",
       "<p>1074 rows × 12 columns</p>\n",
       "</div>"
      ],
      "text/plain": [
       "     Stage  Confidence  Epoch                        Timestamp  Source  \\\n",
       "0        W    0.999648      0 1970-01-20 23:53:33.187498+01:00   F8-M1   \n",
       "1        W    0.999878      1 1970-01-20 23:54:03.187498+01:00   F8-M1   \n",
       "2        W    0.999914      2 1970-01-20 23:54:33.187498+01:00   F4-M1   \n",
       "3        W    0.999890      3 1970-01-20 23:55:03.187498+01:00  Fpz-M1   \n",
       "4        W    0.999823      4 1970-01-20 23:55:33.187498+01:00  Fpz-M1   \n",
       "...    ...         ...    ...                              ...     ...   \n",
       "1069     W    0.888333   1069 1970-01-21 08:48:03.187498+01:00  Fpz-M1   \n",
       "1070     W    0.879404   1070 1970-01-21 08:48:33.187498+01:00  Fpz-M1   \n",
       "1071     W    0.962852   1071 1970-01-21 08:49:03.187498+01:00  Fpz-M1   \n",
       "1072     W    0.970005   1072 1970-01-21 08:49:33.187498+01:00  Fpz-M1   \n",
       "1073     W    0.992050   1073 1970-01-21 08:50:03.187498+01:00  Fpz-M1   \n",
       "\n",
       "     F8-M1_Stage  F8-M1_Confidence Fpz-M1_Stage  Fpz-M1_Confidence  \\\n",
       "0              W          0.999648            W           0.999146   \n",
       "1              W          0.999878            W           0.997847   \n",
       "2              W          0.999866            W           0.999774   \n",
       "3              W          0.999825            W           0.999890   \n",
       "4              W          0.999770            W           0.999823   \n",
       "...          ...               ...          ...                ...   \n",
       "1069           W          0.631320            W           0.888333   \n",
       "1070           W          0.814413            W           0.879404   \n",
       "1071           W          0.723112            W           0.962852   \n",
       "1072           W          0.922054            W           0.970005   \n",
       "1073           W          0.964918            W           0.992050   \n",
       "\n",
       "     F4-M1_Stage  F4-M1_Confidence  StageInt  \n",
       "0              W          0.999644         0  \n",
       "1              W          0.999458         0  \n",
       "2              W          0.999914         0  \n",
       "3              W          0.999874         0  \n",
       "4              W          0.999415         0  \n",
       "...          ...               ...       ...  \n",
       "1069           W          0.761468         0  \n",
       "1070           W          0.736621         0  \n",
       "1071           W          0.791457         0  \n",
       "1072           W          0.652743         0  \n",
       "1073           W          0.978710         0  \n",
       "\n",
       "[1074 rows x 12 columns]"
      ]
     },
     "execution_count": 7,
     "metadata": {},
     "output_type": "execute_result"
    }
   ],
   "source": [
    "df"
   ]
  },
  {
   "cell_type": "code",
   "execution_count": null,
   "id": "3eafced5b3fcf968",
   "metadata": {
    "ExecuteTime": {
     "end_time": "2024-08-19T06:51:37.487304Z",
     "start_time": "2024-08-19T06:51:37.434463Z"
    }
   },
   "outputs": [
    {
     "data": {
      "text/plain": [
       "{'Stability': {'F8-M1': {'AnyStage': 0.875,\n",
       "   'Wake': 0.837,\n",
       "   'N1': 0.322,\n",
       "   'N2': 0.828,\n",
       "   'Deep': 0.916,\n",
       "   'REM': 0.88},\n",
       "  'Fpz-M1': {'AnyStage': 0.883,\n",
       "   'Wake': 0.859,\n",
       "   'N1': 0.294,\n",
       "   'N2': 0.837,\n",
       "   'Deep': 0.889,\n",
       "   'REM': 0.921},\n",
       "  'F4-M1': {'AnyStage': 0.882,\n",
       "   'Wake': 0.823,\n",
       "   'N1': 0.327,\n",
       "   'N2': 0.854,\n",
       "   'Deep': 0.867,\n",
       "   'REM': 0.926},\n",
       "  'Aggregated': {'AnyStage': 0.894,\n",
       "   'Wake': 0.856,\n",
       "   'N1': 0.296,\n",
       "   'N2': 0.866,\n",
       "   'Deep': 0.909,\n",
       "   'REM': 0.908}},\n",
       " 'Spindles': {'Aggregated': {'Amplitude': 45.77192812769312,\n",
       "   'RMS': 9.111193625985186,\n",
       "   'AbsPower': 1.7061467902543175,\n",
       "   'RelPower': 0.31929755625291467,\n",
       "   'Frequency': 12.933909003579066,\n",
       "   'Oscillations': 9.068047708725674,\n",
       "   'Symmetry': 0.5556077587004221},\n",
       "  'F4-M1': {'Amplitude': 46.16089078888318,\n",
       "   'RMS': 9.910556025695692,\n",
       "   'AbsPower': 1.840882233408207,\n",
       "   'RelPower': 0.3361347442967549,\n",
       "   'Frequency': 12.920628327283046,\n",
       "   'Oscillations': 9.248587570621469,\n",
       "   'Symmetry': 0.5148549198874355},\n",
       "  'F8-M1': {'Amplitude': 41.99495421913245,\n",
       "   'RMS': 7.952632003459209,\n",
       "   'AbsPower': 1.625524329002897,\n",
       "   'RelPower': 0.3132047802776167,\n",
       "   'Frequency': 12.809181298768294,\n",
       "   'Oscillations': 9.126984126984127,\n",
       "   'Symmetry': 0.5865884083503556},\n",
       "  'Fpz-M1': {'Amplitude': 49.15993937506375,\n",
       "   'RMS': 9.470392848800651,\n",
       "   'AbsPower': 1.652033808351849,\n",
       "   'RelPower': 0.3085531441843724,\n",
       "   'Frequency': 13.071917384685854,\n",
       "   'Oscillations': 8.82857142857143,\n",
       "   'Symmetry': 0.5653799478634752}},\n",
       " 'SlowWaves': {'Aggregated': {'ValNegPeak': -61.37966977653475,\n",
       "   'ValPosPeak': 54.8150479254497,\n",
       "   'PTP': 116.19471770198443,\n",
       "   'Slope': 398.8611319282714,\n",
       "   'Frequency': 0.808767098741176},\n",
       "  'F4-M1': {'ValNegPeak': -60.6730586706934,\n",
       "   'ValPosPeak': 57.79676892212438,\n",
       "   'PTP': 118.46982759281778,\n",
       "   'Slope': 415.2378718013899,\n",
       "   'Frequency': 0.8129461910382819},\n",
       "  'F8-M1': {'ValNegPeak': -60.11321896809965,\n",
       "   'ValPosPeak': 50.58855947842102,\n",
       "   'PTP': 110.70177844652068,\n",
       "   'Slope': 358.52799596768057,\n",
       "   'Frequency': 0.7738518296723612},\n",
       "  'Fpz-M1': {'ValNegPeak': -63.35273169081119,\n",
       "   'ValPosPeak': 56.059815375803666,\n",
       "   'PTP': 119.41254706661485,\n",
       "   'Slope': 422.81752801574385,\n",
       "   'Frequency': 0.8395032755128847}},\n",
       " 'ChannelAgreement': {'F8-M1-Fpz-M1-F4-M1': 'Number of stages: 1074\\nStages where F8-M1 and Fpz-M1 do not agree: 146 13.59%\\nOf those stages of non-agreement:\\nF8-M1 5% more confident than Fpz-M1: 48 rows 4.47%\\n  Of these, 26 rows agree with F4-M1 2.42%\\nF8-M1 10% more confident than Fpz-M1: 33 rows 3.07%\\n  Of these, 23 rows agree with F4-M1 2.14%\\nF8-M1 20% more confident than Fpz-M1: 15 rows 1.40%\\n  Of these, 12 rows agree with F4-M1 1.12%\\nStages where F8-M1 and F4-M1 agree and disagree with Fpz-M1: 51 rows 4.75%\\n  Whether either F8-M1 or F4-M1 5% more confident than Fpz-M1: 30 rows 2.79%\\n  Whether either F8-M1 or F4-M1 10% more confident than Fpz-M1: 26 rows 2.42%\\n  Whether either F8-M1 or F4-M1 20% more confident than Fpz-M1: 15 rows 1.40%\\nStages where F8-M1 and F4-M1 agree and agree with Fpz-M1: 882 rows 82.12%',\n",
       "  'F8-M1-F4-M1-Fpz-M1': 'Number of stages: 1074\\nStages where F8-M1 and F4-M1 do not agree: 141 13.13%\\nOf those stages of non-agreement:\\nF8-M1 5% more confident than F4-M1: 41 rows 3.82%\\n  Of these, 18 rows agree with Fpz-M1 1.68%\\nF8-M1 10% more confident than F4-M1: 28 rows 2.61%\\n  Of these, 12 rows agree with Fpz-M1 1.12%\\nF8-M1 20% more confident than F4-M1: 11 rows 1.02%\\n  Of these, 7 rows agree with Fpz-M1 0.65%\\nStages where F8-M1 and Fpz-M1 agree and disagree with F4-M1: 46 rows 4.28%\\n  Whether either F8-M1 or Fpz-M1 5% more confident than F4-M1: 25 rows 2.33%\\n  Whether either F8-M1 or Fpz-M1 10% more confident than F4-M1: 20 rows 1.86%\\n  Whether either F8-M1 or Fpz-M1 20% more confident than F4-M1: 11 rows 1.02%\\nStages where F8-M1 and Fpz-M1 agree and agree with F4-M1: 882 rows 82.12%',\n",
       "  'Fpz-M1-F8-M1-F4-M1': 'Number of stages: 1074\\nStages where Fpz-M1 and F8-M1 do not agree: 146 13.59%\\nOf those stages of non-agreement:\\nFpz-M1 5% more confident than F8-M1: 66 rows 6.15%\\n  Of these, 54 rows agree with F4-M1 5.03%\\nFpz-M1 10% more confident than F8-M1: 53 rows 4.93%\\n  Of these, 43 rows agree with F4-M1 4.00%\\nFpz-M1 20% more confident than F8-M1: 26 rows 2.42%\\n  Of these, 24 rows agree with F4-M1 2.23%\\nStages where Fpz-M1 and F4-M1 agree and disagree with F8-M1: 88 rows 8.19%\\n  Whether either Fpz-M1 or F4-M1 5% more confident than F8-M1: 61 rows 5.68%\\n  Whether either Fpz-M1 or F4-M1 10% more confident than F8-M1: 54 rows 5.03%\\n  Whether either Fpz-M1 or F4-M1 20% more confident than F8-M1: 36 rows 3.35%\\nStages where Fpz-M1 and F4-M1 agree and agree with F8-M1: 882 rows 82.12%',\n",
       "  'Fpz-M1-F4-M1-F8-M1': 'Number of stages: 1074\\nStages where Fpz-M1 and F4-M1 do not agree: 104 9.68%\\nOf those stages of non-agreement:\\nFpz-M1 5% more confident than F4-M1: 34 rows 3.17%\\n  Of these, 16 rows agree with F8-M1 1.49%\\nFpz-M1 10% more confident than F4-M1: 26 rows 2.42%\\n  Of these, 12 rows agree with F8-M1 1.12%\\nFpz-M1 20% more confident than F4-M1: 10 rows 0.93%\\n  Of these, 6 rows agree with F8-M1 0.56%\\nStages where Fpz-M1 and F8-M1 agree and disagree with F4-M1: 46 rows 4.28%\\n  Whether either Fpz-M1 or F8-M1 5% more confident than F4-M1: 25 rows 2.33%\\n  Whether either Fpz-M1 or F8-M1 10% more confident than F4-M1: 20 rows 1.86%\\n  Whether either Fpz-M1 or F8-M1 20% more confident than F4-M1: 11 rows 1.02%\\nStages where Fpz-M1 and F8-M1 agree and agree with F4-M1: 882 rows 82.12%',\n",
       "  'F4-M1-F8-M1-Fpz-M1': 'Number of stages: 1074\\nStages where F4-M1 and F8-M1 do not agree: 141 13.13%\\nOf those stages of non-agreement:\\nF4-M1 5% more confident than F8-M1: 70 rows 6.52%\\n  Of these, 54 rows agree with Fpz-M1 5.03%\\nF4-M1 10% more confident than F8-M1: 61 rows 5.68%\\n  Of these, 49 rows agree with Fpz-M1 4.56%\\nF4-M1 20% more confident than F8-M1: 36 rows 3.35%\\n  Of these, 33 rows agree with Fpz-M1 3.07%\\nStages where F4-M1 and Fpz-M1 agree and disagree with F8-M1: 88 rows 8.19%\\n  Whether either F4-M1 or Fpz-M1 5% more confident than F8-M1: 61 rows 5.68%\\n  Whether either F4-M1 or Fpz-M1 10% more confident than F8-M1: 54 rows 5.03%\\n  Whether either F4-M1 or Fpz-M1 20% more confident than F8-M1: 36 rows 3.35%\\nStages where F4-M1 and Fpz-M1 agree and agree with F8-M1: 882 rows 82.12%',\n",
       "  'F4-M1-Fpz-M1-F8-M1': 'Number of stages: 1074\\nStages where F4-M1 and Fpz-M1 do not agree: 104 9.68%\\nOf those stages of non-agreement:\\nF4-M1 5% more confident than Fpz-M1: 48 rows 4.47%\\n  Of these, 24 rows agree with F8-M1 2.23%\\nF4-M1 10% more confident than Fpz-M1: 31 rows 2.89%\\n  Of these, 18 rows agree with F8-M1 1.68%\\nF4-M1 20% more confident than Fpz-M1: 15 rows 1.40%\\n  Of these, 11 rows agree with F8-M1 1.02%\\nStages where F4-M1 and F8-M1 agree and disagree with Fpz-M1: 51 rows 4.75%\\n  Whether either F4-M1 or F8-M1 5% more confident than Fpz-M1: 30 rows 2.79%\\n  Whether either F4-M1 or F8-M1 10% more confident than Fpz-M1: 26 rows 2.42%\\n  Whether either F4-M1 or F8-M1 20% more confident than Fpz-M1: 15 rows 1.40%\\nStages where F4-M1 and F8-M1 agree and agree with Fpz-M1: 882 rows 82.12%'}}"
      ]
     },
     "execution_count": 8,
     "metadata": {},
     "output_type": "execute_result"
    }
   ],
   "source": [
    "json_out"
   ]
  },
  {
   "cell_type": "markdown",
   "id": "492bce37798f50f5",
   "metadata": {},
   "source": [
    "## How much value are the other channels adding"
   ]
  },
  {
   "cell_type": "code",
   "execution_count": null,
   "id": "1e90c7f7c908e159",
   "metadata": {
    "ExecuteTime": {
     "end_time": "2024-08-19T06:51:37.539574Z",
     "start_time": "2024-08-19T06:51:37.489344Z"
    }
   },
   "outputs": [],
   "source": [
    "import yasa_helpers"
   ]
  },
  {
   "cell_type": "code",
   "execution_count": null,
   "id": "f8392930033aa99",
   "metadata": {
    "ExecuteTime": {
     "end_time": "2024-08-19T06:52:23.727138Z",
     "start_time": "2024-08-19T06:52:23.642105Z"
    }
   },
   "outputs": [
    {
     "name": "stdout",
     "output_type": "stream",
     "text": [
      "{'F8-M1-Fpz-M1-F4-M1': 'Number of stages: 1074\\nStages where F8-M1 and Fpz-M1 do not agree: 146 13.59%\\nOf those stages of non-agreement:\\nF8-M1 5% more confident than Fpz-M1: 48 rows 4.47%\\n  Of these, 26 rows agree with F4-M1 2.42%\\nF8-M1 10% more confident than Fpz-M1: 33 rows 3.07%\\n  Of these, 23 rows agree with F4-M1 2.14%\\nF8-M1 20% more confident than Fpz-M1: 15 rows 1.40%\\n  Of these, 12 rows agree with F4-M1 1.12%\\nStages where F8-M1 and F4-M1 agree and disagree with Fpz-M1: 51 rows 4.75%\\n  Whether either F8-M1 or F4-M1 5% more confident than Fpz-M1: 30 rows 2.79%\\n  Whether either F8-M1 or F4-M1 10% more confident than Fpz-M1: 26 rows 2.42%\\n  Whether either F8-M1 or F4-M1 20% more confident than Fpz-M1: 15 rows 1.40%\\nStages where F8-M1 and F4-M1 agree and agree with Fpz-M1: 882 rows 82.12%', 'F8-M1-F4-M1-Fpz-M1': 'Number of stages: 1074\\nStages where F8-M1 and F4-M1 do not agree: 141 13.13%\\nOf those stages of non-agreement:\\nF8-M1 5% more confident than F4-M1: 41 rows 3.82%\\n  Of these, 18 rows agree with Fpz-M1 1.68%\\nF8-M1 10% more confident than F4-M1: 28 rows 2.61%\\n  Of these, 12 rows agree with Fpz-M1 1.12%\\nF8-M1 20% more confident than F4-M1: 11 rows 1.02%\\n  Of these, 7 rows agree with Fpz-M1 0.65%\\nStages where F8-M1 and Fpz-M1 agree and disagree with F4-M1: 46 rows 4.28%\\n  Whether either F8-M1 or Fpz-M1 5% more confident than F4-M1: 25 rows 2.33%\\n  Whether either F8-M1 or Fpz-M1 10% more confident than F4-M1: 20 rows 1.86%\\n  Whether either F8-M1 or Fpz-M1 20% more confident than F4-M1: 11 rows 1.02%\\nStages where F8-M1 and Fpz-M1 agree and agree with F4-M1: 882 rows 82.12%', 'Fpz-M1-F8-M1-F4-M1': 'Number of stages: 1074\\nStages where Fpz-M1 and F8-M1 do not agree: 146 13.59%\\nOf those stages of non-agreement:\\nFpz-M1 5% more confident than F8-M1: 66 rows 6.15%\\n  Of these, 54 rows agree with F4-M1 5.03%\\nFpz-M1 10% more confident than F8-M1: 53 rows 4.93%\\n  Of these, 43 rows agree with F4-M1 4.00%\\nFpz-M1 20% more confident than F8-M1: 26 rows 2.42%\\n  Of these, 24 rows agree with F4-M1 2.23%\\nStages where Fpz-M1 and F4-M1 agree and disagree with F8-M1: 88 rows 8.19%\\n  Whether either Fpz-M1 or F4-M1 5% more confident than F8-M1: 61 rows 5.68%\\n  Whether either Fpz-M1 or F4-M1 10% more confident than F8-M1: 54 rows 5.03%\\n  Whether either Fpz-M1 or F4-M1 20% more confident than F8-M1: 36 rows 3.35%\\nStages where Fpz-M1 and F4-M1 agree and agree with F8-M1: 882 rows 82.12%', 'Fpz-M1-F4-M1-F8-M1': 'Number of stages: 1074\\nStages where Fpz-M1 and F4-M1 do not agree: 104 9.68%\\nOf those stages of non-agreement:\\nFpz-M1 5% more confident than F4-M1: 34 rows 3.17%\\n  Of these, 16 rows agree with F8-M1 1.49%\\nFpz-M1 10% more confident than F4-M1: 26 rows 2.42%\\n  Of these, 12 rows agree with F8-M1 1.12%\\nFpz-M1 20% more confident than F4-M1: 10 rows 0.93%\\n  Of these, 6 rows agree with F8-M1 0.56%\\nStages where Fpz-M1 and F8-M1 agree and disagree with F4-M1: 46 rows 4.28%\\n  Whether either Fpz-M1 or F8-M1 5% more confident than F4-M1: 25 rows 2.33%\\n  Whether either Fpz-M1 or F8-M1 10% more confident than F4-M1: 20 rows 1.86%\\n  Whether either Fpz-M1 or F8-M1 20% more confident than F4-M1: 11 rows 1.02%\\nStages where Fpz-M1 and F8-M1 agree and agree with F4-M1: 882 rows 82.12%', 'F4-M1-F8-M1-Fpz-M1': 'Number of stages: 1074\\nStages where F4-M1 and F8-M1 do not agree: 141 13.13%\\nOf those stages of non-agreement:\\nF4-M1 5% more confident than F8-M1: 70 rows 6.52%\\n  Of these, 54 rows agree with Fpz-M1 5.03%\\nF4-M1 10% more confident than F8-M1: 61 rows 5.68%\\n  Of these, 49 rows agree with Fpz-M1 4.56%\\nF4-M1 20% more confident than F8-M1: 36 rows 3.35%\\n  Of these, 33 rows agree with Fpz-M1 3.07%\\nStages where F4-M1 and Fpz-M1 agree and disagree with F8-M1: 88 rows 8.19%\\n  Whether either F4-M1 or Fpz-M1 5% more confident than F8-M1: 61 rows 5.68%\\n  Whether either F4-M1 or Fpz-M1 10% more confident than F8-M1: 54 rows 5.03%\\n  Whether either F4-M1 or Fpz-M1 20% more confident than F8-M1: 36 rows 3.35%\\nStages where F4-M1 and Fpz-M1 agree and agree with F8-M1: 882 rows 82.12%', 'F4-M1-Fpz-M1-F8-M1': 'Number of stages: 1074\\nStages where F4-M1 and Fpz-M1 do not agree: 104 9.68%\\nOf those stages of non-agreement:\\nF4-M1 5% more confident than Fpz-M1: 48 rows 4.47%\\n  Of these, 24 rows agree with F8-M1 2.23%\\nF4-M1 10% more confident than Fpz-M1: 31 rows 2.89%\\n  Of these, 18 rows agree with F8-M1 1.68%\\nF4-M1 20% more confident than Fpz-M1: 15 rows 1.40%\\n  Of these, 11 rows agree with F8-M1 1.02%\\nStages where F4-M1 and F8-M1 agree and disagree with Fpz-M1: 51 rows 4.75%\\n  Whether either F4-M1 or F8-M1 5% more confident than Fpz-M1: 30 rows 2.79%\\n  Whether either F4-M1 or F8-M1 10% more confident than Fpz-M1: 26 rows 2.42%\\n  Whether either F4-M1 or F8-M1 20% more confident than Fpz-M1: 15 rows 1.40%\\nStages where F4-M1 and F8-M1 agree and agree with Fpz-M1: 882 rows 82.12%'}\n"
     ]
    }
   ],
   "source": [
    "print(yasa_helpers.channel_comparison(df, channels))\n"
   ]
  },
  {
   "cell_type": "code",
   "execution_count": null,
   "id": "1f1e6c8b56e7b897",
   "metadata": {},
   "outputs": [],
   "source": []
  },
  {
   "cell_type": "code",
   "execution_count": null,
   "id": "9e2fdf65ed6df9ce",
   "metadata": {},
   "outputs": [],
   "source": []
  },
  {
   "cell_type": "markdown",
   "id": "b66c7bf0a8b73a90",
   "metadata": {},
   "source": []
  },
  {
   "cell_type": "code",
   "execution_count": null,
   "id": "e1ecc1caef378c2c",
   "metadata": {},
   "outputs": [],
   "source": []
  },
  {
   "cell_type": "markdown",
   "id": "95bc992db021b677",
   "metadata": {},
   "source": [
    "## Probability of changing from one stage to another"
   ]
  },
  {
   "cell_type": "code",
   "execution_count": null,
   "id": "1cedba4d1eff5ed2",
   "metadata": {
    "ExecuteTime": {
     "end_time": "2024-08-19T06:55:08.793818Z",
     "start_time": "2024-08-19T06:55:08.730366Z"
    }
   },
   "outputs": [
    {
     "name": "stdout",
     "output_type": "stream",
     "text": [
      "To Stage        0      1      2      3      4\n",
      "From Stage                                   \n",
      "0           0.856  0.095  0.020  0.005  0.025\n",
      "1           0.130  0.296  0.463  0.000  0.111\n",
      "2           0.035  0.035  0.866  0.035  0.030\n",
      "3           0.006  0.000  0.085  0.909  0.000\n",
      "4           0.028  0.020  0.044  0.000  0.908\n",
      "Chance of staying in the same stage on any given epoch = 0.894\n",
      "Chance of staying in wake           on any given epoch = 0.856\n",
      "Chance of staying in N1 sleep       on any given epoch = 0.296\n",
      "Chance of staying in N2 sleep       on any given epoch = 0.866\n",
      "Chance of staying in deep sleep     on any given epoch = 0.909\n"
     ]
    }
   ],
   "source": [
    "# 0 = \"W\", 1 = \"N1\", 2 = \"N2\", 3 = \"N3\", 4 = \"REM\"\n",
    "counts, probs = yasa.transition_matrix(df['StageInt'])\n",
    "print(probs.round(3))\n",
    "\n",
    "sleep_stability_any_stage = np.diag(probs.loc[2:, 2:]).mean().round(3)\n",
    "sleep_stability_wake = probs.loc[0, 0].round(3)\n",
    "sleep_stability_n1 = probs.loc[1, 1].round(3)\n",
    "sleep_stability_n2 = probs.loc[2, 2].round(3)\n",
    "sleep_stability_deep = probs.loc[3, 3].round(3)\n",
    "sleep_stability_rem = probs.loc[4, 4].round(3)\n",
    "print (f\"Chance of staying in the same stage on any given epoch = {sleep_stability_any_stage}\")\n",
    "print (f\"Chance of staying in wake           on any given epoch = {sleep_stability_wake}\")\n",
    "print (f\"Chance of staying in N1 sleep       on any given epoch = {sleep_stability_n1}\")\n",
    "print (f\"Chance of staying in N2 sleep       on any given epoch = {sleep_stability_n2}\")\n",
    "print (f\"Chance of staying in deep sleep     on any given epoch = {sleep_stability_deep}\")\n"
   ]
  },
  {
   "cell_type": "code",
   "execution_count": null,
   "id": "ce647906bb3fb440",
   "metadata": {
    "ExecuteTime": {
     "end_time": "2024-08-19T06:55:09.637891Z",
     "start_time": "2024-08-19T06:55:09.568215Z"
    }
   },
   "outputs": [
    {
     "data": {
      "text/plain": [
       "{'AnyStage': 0.894,\n",
       " 'Wake': 0.856,\n",
       " 'N1': 0.296,\n",
       " 'N2': 0.866,\n",
       " 'Deep': 0.909,\n",
       " 'REM': 0.908}"
      ]
     },
     "execution_count": 13,
     "metadata": {},
     "output_type": "execute_result"
    }
   ],
   "source": [
    "ss = yasa_helpers.sleep_stability(df['StageInt'])\n",
    "ss"
   ]
  },
  {
   "cell_type": "markdown",
   "id": "301002aba6b0b590",
   "metadata": {},
   "source": [
    "## Spindle investigation"
   ]
  },
  {
   "cell_type": "code",
   "execution_count": null,
   "id": "bb2ff3586481b34c",
   "metadata": {
    "ExecuteTime": {
     "end_time": "2024-08-19T06:55:15.593108Z",
     "start_time": "2024-08-19T06:55:15.590582Z"
    }
   },
   "outputs": [],
   "source": []
  },
  {
   "cell_type": "code",
   "execution_count": null,
   "id": "51c1f4664111f947",
   "metadata": {
    "ExecuteTime": {
     "end_time": "2024-08-19T06:55:17.285771Z",
     "start_time": "2024-08-19T06:55:16.069727Z"
    }
   },
   "outputs": [
    {
     "name": "stdout",
     "output_type": "stream",
     "text": [
      "Filtering raw data in 1 contiguous segment\n",
      "Setting up band-pass filter from 0.3 - 35 Hz\n",
      "\n",
      "FIR filter parameters\n",
      "---------------------\n",
      "Designing a one-pass, zero-phase, non-causal bandpass filter:\n",
      "- Windowed time-domain design (firwin) method\n",
      "- Hamming window with 0.0194 passband ripple and 53 dB stopband attenuation\n",
      "- Lower passband edge: 0.30\n",
      "- Lower transition bandwidth: 0.30 Hz (-6 dB cutoff frequency: 0.15 Hz)\n",
      "- Upper passband edge: 35.00 Hz\n",
      "- Upper transition bandwidth: 8.75 Hz (-6 dB cutoff frequency: 39.38 Hz)\n",
      "- Filter length: 2751 samples (11.004 s)\n",
      "\n",
      "Filtering raw data in 1 contiguous segment\n",
      "Setting up band-stop filter\n",
      "\n",
      "FIR filter parameters\n",
      "---------------------\n",
      "Designing a one-pass, zero-phase, non-causal bandstop filter:\n",
      "- Windowed time-domain design (firwin) method\n",
      "- Hamming window with 0.0194 passband ripple and 53 dB stopband attenuation\n",
      "- Lower transition bandwidth: 0.50 Hz\n",
      "- Upper transition bandwidth: 0.50 Hz\n",
      "- Filter length: 1651 samples (6.604 s)\n",
      "\n"
     ]
    }
   ],
   "source": [
    "filtered = run_yasa.get_filtered_and_scaled_data(raw)\n"
   ]
  },
  {
   "cell_type": "code",
   "execution_count": null,
   "id": "a6ab23b9d7addab4",
   "metadata": {
    "ExecuteTime": {
     "end_time": "2024-08-19T06:55:18.725735Z",
     "start_time": "2024-08-19T06:55:18.723410Z"
    }
   },
   "outputs": [],
   "source": []
  },
  {
   "cell_type": "code",
   "execution_count": null,
   "id": "5e7ca0c506626ea3",
   "metadata": {
    "ExecuteTime": {
     "end_time": "2024-08-19T06:55:18.928648Z",
     "start_time": "2024-08-19T06:55:18.926034Z"
    }
   },
   "outputs": [],
   "source": []
  },
  {
   "cell_type": "code",
   "execution_count": null,
   "id": "76ad5c769852053c",
   "metadata": {
    "ExecuteTime": {
     "end_time": "2024-08-19T06:55:29.282314Z",
     "start_time": "2024-08-19T06:55:19.349402Z"
    }
   },
   "outputs": [],
   "source": [
    "sp = yasa.spindles_detect(filtered, sfreq)\n"
   ]
  },
  {
   "cell_type": "code",
   "execution_count": null,
   "id": "2ea06f28c869081c",
   "metadata": {
    "ExecuteTime": {
     "end_time": "2024-08-19T06:55:29.347916Z",
     "start_time": "2024-08-19T06:55:29.283350Z"
    }
   },
   "outputs": [
    {
     "data": {
      "text/html": [
       "<div>\n",
       "<style scoped>\n",
       "    .dataframe tbody tr th:only-of-type {\n",
       "        vertical-align: middle;\n",
       "    }\n",
       "\n",
       "    .dataframe tbody tr th {\n",
       "        vertical-align: top;\n",
       "    }\n",
       "\n",
       "    .dataframe thead th {\n",
       "        text-align: right;\n",
       "    }\n",
       "</style>\n",
       "<table border=\"1\" class=\"dataframe\">\n",
       "  <thead>\n",
       "    <tr style=\"text-align: right;\">\n",
       "      <th></th>\n",
       "      <th>Start</th>\n",
       "      <th>Peak</th>\n",
       "      <th>End</th>\n",
       "      <th>Duration</th>\n",
       "      <th>Amplitude</th>\n",
       "      <th>RMS</th>\n",
       "      <th>AbsPower</th>\n",
       "      <th>RelPower</th>\n",
       "      <th>Frequency</th>\n",
       "      <th>Oscillations</th>\n",
       "      <th>Symmetry</th>\n",
       "      <th>Channel</th>\n",
       "      <th>IdxChannel</th>\n",
       "    </tr>\n",
       "  </thead>\n",
       "  <tbody>\n",
       "    <tr>\n",
       "      <th>0</th>\n",
       "      <td>20.868</td>\n",
       "      <td>21.440</td>\n",
       "      <td>21.512</td>\n",
       "      <td>0.644</td>\n",
       "      <td>44.179288</td>\n",
       "      <td>8.522891</td>\n",
       "      <td>1.786185</td>\n",
       "      <td>0.312781</td>\n",
       "      <td>13.429184</td>\n",
       "      <td>8.0</td>\n",
       "      <td>0.882716</td>\n",
       "      <td>F8-M1</td>\n",
       "      <td>0</td>\n",
       "    </tr>\n",
       "    <tr>\n",
       "      <th>1</th>\n",
       "      <td>3377.280</td>\n",
       "      <td>3377.536</td>\n",
       "      <td>3378.000</td>\n",
       "      <td>0.720</td>\n",
       "      <td>54.951888</td>\n",
       "      <td>9.062417</td>\n",
       "      <td>1.661560</td>\n",
       "      <td>0.335658</td>\n",
       "      <td>12.995033</td>\n",
       "      <td>9.0</td>\n",
       "      <td>0.353591</td>\n",
       "      <td>F8-M1</td>\n",
       "      <td>0</td>\n",
       "    </tr>\n",
       "    <tr>\n",
       "      <th>2</th>\n",
       "      <td>3540.560</td>\n",
       "      <td>3541.112</td>\n",
       "      <td>3541.252</td>\n",
       "      <td>0.692</td>\n",
       "      <td>43.749677</td>\n",
       "      <td>9.606439</td>\n",
       "      <td>1.876675</td>\n",
       "      <td>0.335431</td>\n",
       "      <td>12.512334</td>\n",
       "      <td>8.0</td>\n",
       "      <td>0.793103</td>\n",
       "      <td>F8-M1</td>\n",
       "      <td>0</td>\n",
       "    </tr>\n",
       "    <tr>\n",
       "      <th>3</th>\n",
       "      <td>3589.792</td>\n",
       "      <td>3590.316</td>\n",
       "      <td>3590.504</td>\n",
       "      <td>0.712</td>\n",
       "      <td>44.118203</td>\n",
       "      <td>8.304437</td>\n",
       "      <td>1.687262</td>\n",
       "      <td>0.241835</td>\n",
       "      <td>13.397101</td>\n",
       "      <td>9.0</td>\n",
       "      <td>0.731844</td>\n",
       "      <td>F8-M1</td>\n",
       "      <td>0</td>\n",
       "    </tr>\n",
       "    <tr>\n",
       "      <th>4</th>\n",
       "      <td>3649.452</td>\n",
       "      <td>3649.752</td>\n",
       "      <td>3649.976</td>\n",
       "      <td>0.524</td>\n",
       "      <td>38.477853</td>\n",
       "      <td>8.360699</td>\n",
       "      <td>1.885057</td>\n",
       "      <td>0.410345</td>\n",
       "      <td>12.686107</td>\n",
       "      <td>7.0</td>\n",
       "      <td>0.568182</td>\n",
       "      <td>F8-M1</td>\n",
       "      <td>0</td>\n",
       "    </tr>\n",
       "    <tr>\n",
       "      <th>...</th>\n",
       "      <td>...</td>\n",
       "      <td>...</td>\n",
       "      <td>...</td>\n",
       "      <td>...</td>\n",
       "      <td>...</td>\n",
       "      <td>...</td>\n",
       "      <td>...</td>\n",
       "      <td>...</td>\n",
       "      <td>...</td>\n",
       "      <td>...</td>\n",
       "      <td>...</td>\n",
       "      <td>...</td>\n",
       "      <td>...</td>\n",
       "    </tr>\n",
       "    <tr>\n",
       "      <th>270</th>\n",
       "      <td>31012.196</td>\n",
       "      <td>31012.960</td>\n",
       "      <td>31013.152</td>\n",
       "      <td>0.956</td>\n",
       "      <td>71.287718</td>\n",
       "      <td>14.364883</td>\n",
       "      <td>2.057752</td>\n",
       "      <td>0.259753</td>\n",
       "      <td>12.712272</td>\n",
       "      <td>12.0</td>\n",
       "      <td>0.795833</td>\n",
       "      <td>F4-M1</td>\n",
       "      <td>2</td>\n",
       "    </tr>\n",
       "    <tr>\n",
       "      <th>271</th>\n",
       "      <td>31026.012</td>\n",
       "      <td>31026.452</td>\n",
       "      <td>31026.652</td>\n",
       "      <td>0.640</td>\n",
       "      <td>48.825754</td>\n",
       "      <td>9.612551</td>\n",
       "      <td>1.949254</td>\n",
       "      <td>0.438554</td>\n",
       "      <td>12.430706</td>\n",
       "      <td>8.0</td>\n",
       "      <td>0.683230</td>\n",
       "      <td>F4-M1</td>\n",
       "      <td>2</td>\n",
       "    </tr>\n",
       "    <tr>\n",
       "      <th>272</th>\n",
       "      <td>31203.404</td>\n",
       "      <td>31203.736</td>\n",
       "      <td>31203.912</td>\n",
       "      <td>0.508</td>\n",
       "      <td>128.287640</td>\n",
       "      <td>28.884658</td>\n",
       "      <td>2.741596</td>\n",
       "      <td>0.219151</td>\n",
       "      <td>13.609761</td>\n",
       "      <td>6.0</td>\n",
       "      <td>0.648438</td>\n",
       "      <td>F4-M1</td>\n",
       "      <td>2</td>\n",
       "    </tr>\n",
       "    <tr>\n",
       "      <th>273</th>\n",
       "      <td>31329.188</td>\n",
       "      <td>31329.292</td>\n",
       "      <td>31330.224</td>\n",
       "      <td>1.036</td>\n",
       "      <td>38.375108</td>\n",
       "      <td>5.747104</td>\n",
       "      <td>1.436992</td>\n",
       "      <td>0.325000</td>\n",
       "      <td>13.567681</td>\n",
       "      <td>14.0</td>\n",
       "      <td>0.100000</td>\n",
       "      <td>F4-M1</td>\n",
       "      <td>2</td>\n",
       "    </tr>\n",
       "    <tr>\n",
       "      <th>274</th>\n",
       "      <td>31371.692</td>\n",
       "      <td>31372.264</td>\n",
       "      <td>31372.448</td>\n",
       "      <td>0.756</td>\n",
       "      <td>41.958184</td>\n",
       "      <td>6.977877</td>\n",
       "      <td>1.448108</td>\n",
       "      <td>0.304027</td>\n",
       "      <td>13.691551</td>\n",
       "      <td>9.0</td>\n",
       "      <td>0.752632</td>\n",
       "      <td>F4-M1</td>\n",
       "      <td>2</td>\n",
       "    </tr>\n",
       "  </tbody>\n",
       "</table>\n",
       "<p>275 rows × 13 columns</p>\n",
       "</div>"
      ],
      "text/plain": [
       "         Start       Peak        End  Duration   Amplitude        RMS  \\\n",
       "0       20.868     21.440     21.512     0.644   44.179288   8.522891   \n",
       "1     3377.280   3377.536   3378.000     0.720   54.951888   9.062417   \n",
       "2     3540.560   3541.112   3541.252     0.692   43.749677   9.606439   \n",
       "3     3589.792   3590.316   3590.504     0.712   44.118203   8.304437   \n",
       "4     3649.452   3649.752   3649.976     0.524   38.477853   8.360699   \n",
       "..         ...        ...        ...       ...         ...        ...   \n",
       "270  31012.196  31012.960  31013.152     0.956   71.287718  14.364883   \n",
       "271  31026.012  31026.452  31026.652     0.640   48.825754   9.612551   \n",
       "272  31203.404  31203.736  31203.912     0.508  128.287640  28.884658   \n",
       "273  31329.188  31329.292  31330.224     1.036   38.375108   5.747104   \n",
       "274  31371.692  31372.264  31372.448     0.756   41.958184   6.977877   \n",
       "\n",
       "     AbsPower  RelPower  Frequency  Oscillations  Symmetry Channel  IdxChannel  \n",
       "0    1.786185  0.312781  13.429184           8.0  0.882716   F8-M1           0  \n",
       "1    1.661560  0.335658  12.995033           9.0  0.353591   F8-M1           0  \n",
       "2    1.876675  0.335431  12.512334           8.0  0.793103   F8-M1           0  \n",
       "3    1.687262  0.241835  13.397101           9.0  0.731844   F8-M1           0  \n",
       "4    1.885057  0.410345  12.686107           7.0  0.568182   F8-M1           0  \n",
       "..        ...       ...        ...           ...       ...     ...         ...  \n",
       "270  2.057752  0.259753  12.712272          12.0  0.795833   F4-M1           2  \n",
       "271  1.949254  0.438554  12.430706           8.0  0.683230   F4-M1           2  \n",
       "272  2.741596  0.219151  13.609761           6.0  0.648438   F4-M1           2  \n",
       "273  1.436992  0.325000  13.567681          14.0  0.100000   F4-M1           2  \n",
       "274  1.448108  0.304027  13.691551           9.0  0.752632   F4-M1           2  \n",
       "\n",
       "[275 rows x 13 columns]"
      ]
     },
     "execution_count": 16,
     "metadata": {},
     "output_type": "execute_result"
    }
   ],
   "source": [
    "sp.summary()"
   ]
  },
  {
   "cell_type": "code",
   "execution_count": null,
   "id": "d3599eb84c50a9f1",
   "metadata": {
    "ExecuteTime": {
     "end_time": "2024-08-19T06:55:29.402232Z",
     "start_time": "2024-08-19T06:55:29.348923Z"
    }
   },
   "outputs": [
    {
     "data": {
      "text/plain": [
       "275"
      ]
     },
     "execution_count": 17,
     "metadata": {},
     "output_type": "execute_result"
    }
   ],
   "source": [
    "len(sp.summary())"
   ]
  },
  {
   "cell_type": "code",
   "execution_count": null,
   "id": "91d2363450eaa560",
   "metadata": {
    "ExecuteTime": {
     "end_time": "2024-08-19T06:55:29.405251Z",
     "start_time": "2024-08-19T06:55:29.402232Z"
    }
   },
   "outputs": [],
   "source": []
  },
  {
   "cell_type": "code",
   "execution_count": null,
   "id": "a6380b776b18d8a0",
   "metadata": {
    "ExecuteTime": {
     "end_time": "2024-08-19T06:55:29.457094Z",
     "start_time": "2024-08-19T06:55:29.406271Z"
    }
   },
   "outputs": [
    {
     "data": {
      "text/html": [
       "<div>\n",
       "<style scoped>\n",
       "    .dataframe tbody tr th:only-of-type {\n",
       "        vertical-align: middle;\n",
       "    }\n",
       "\n",
       "    .dataframe tbody tr th {\n",
       "        vertical-align: top;\n",
       "    }\n",
       "\n",
       "    .dataframe thead th {\n",
       "        text-align: right;\n",
       "    }\n",
       "</style>\n",
       "<table border=\"1\" class=\"dataframe\">\n",
       "  <thead>\n",
       "    <tr style=\"text-align: right;\">\n",
       "      <th></th>\n",
       "      <th>Count</th>\n",
       "      <th>Duration</th>\n",
       "      <th>Amplitude</th>\n",
       "      <th>RMS</th>\n",
       "      <th>AbsPower</th>\n",
       "      <th>RelPower</th>\n",
       "      <th>Frequency</th>\n",
       "      <th>Oscillations</th>\n",
       "      <th>Symmetry</th>\n",
       "    </tr>\n",
       "    <tr>\n",
       "      <th>Channel</th>\n",
       "      <th></th>\n",
       "      <th></th>\n",
       "      <th></th>\n",
       "      <th></th>\n",
       "      <th></th>\n",
       "      <th></th>\n",
       "      <th></th>\n",
       "      <th></th>\n",
       "      <th></th>\n",
       "    </tr>\n",
       "  </thead>\n",
       "  <tbody>\n",
       "    <tr>\n",
       "      <th>F4-M1</th>\n",
       "      <td>177</td>\n",
       "      <td>0.748746</td>\n",
       "      <td>46.160891</td>\n",
       "      <td>9.910556</td>\n",
       "      <td>1.840882</td>\n",
       "      <td>0.336135</td>\n",
       "      <td>12.920628</td>\n",
       "      <td>9.248588</td>\n",
       "      <td>0.514855</td>\n",
       "    </tr>\n",
       "    <tr>\n",
       "      <th>F8-M1</th>\n",
       "      <td>63</td>\n",
       "      <td>0.752571</td>\n",
       "      <td>41.994954</td>\n",
       "      <td>7.952632</td>\n",
       "      <td>1.625524</td>\n",
       "      <td>0.313205</td>\n",
       "      <td>12.809181</td>\n",
       "      <td>9.126984</td>\n",
       "      <td>0.586588</td>\n",
       "    </tr>\n",
       "    <tr>\n",
       "      <th>Fpz-M1</th>\n",
       "      <td>35</td>\n",
       "      <td>0.737600</td>\n",
       "      <td>49.159939</td>\n",
       "      <td>9.470393</td>\n",
       "      <td>1.652034</td>\n",
       "      <td>0.308553</td>\n",
       "      <td>13.071917</td>\n",
       "      <td>8.828571</td>\n",
       "      <td>0.565380</td>\n",
       "    </tr>\n",
       "  </tbody>\n",
       "</table>\n",
       "</div>"
      ],
      "text/plain": [
       "         Count  Duration  Amplitude       RMS  AbsPower  RelPower  Frequency  \\\n",
       "Channel                                                                        \n",
       "F4-M1      177  0.748746  46.160891  9.910556  1.840882  0.336135  12.920628   \n",
       "F8-M1       63  0.752571  41.994954  7.952632  1.625524  0.313205  12.809181   \n",
       "Fpz-M1      35  0.737600  49.159939  9.470393  1.652034  0.308553  13.071917   \n",
       "\n",
       "         Oscillations  Symmetry  \n",
       "Channel                          \n",
       "F4-M1        9.248588  0.514855  \n",
       "F8-M1        9.126984  0.586588  \n",
       "Fpz-M1       8.828571  0.565380  "
      ]
     },
     "execution_count": 18,
     "metadata": {},
     "output_type": "execute_result"
    }
   ],
   "source": [
    "sp.summary(grp_chan=True, aggfunc='mean')\n"
   ]
  },
  {
   "cell_type": "code",
   "execution_count": null,
   "id": "a79f28b157ded109",
   "metadata": {
    "ExecuteTime": {
     "end_time": "2024-08-19T06:55:29.459450Z",
     "start_time": "2024-08-19T06:55:29.457094Z"
    }
   },
   "outputs": [],
   "source": []
  },
  {
   "cell_type": "code",
   "execution_count": null,
   "id": "93144028206bfa3c",
   "metadata": {
    "ExecuteTime": {
     "end_time": "2024-08-19T06:55:29.461711Z",
     "start_time": "2024-08-19T06:55:29.459450Z"
    }
   },
   "outputs": [],
   "source": []
  },
  {
   "cell_type": "code",
   "execution_count": null,
   "id": "115024f9bd469e32",
   "metadata": {
    "ExecuteTime": {
     "end_time": "2024-08-19T06:55:29.464163Z",
     "start_time": "2024-08-19T06:55:29.461711Z"
    }
   },
   "outputs": [],
   "source": []
  },
  {
   "cell_type": "code",
   "execution_count": null,
   "id": "ade7b8d05e9c1ba0",
   "metadata": {
    "ExecuteTime": {
     "end_time": "2024-08-19T07:19:22.162870Z",
     "start_time": "2024-08-19T07:19:11.120050Z"
    }
   },
   "outputs": [
    {
     "data": {
      "text/plain": [
       "<Figure size 640x480 with 0 Axes>"
      ]
     },
     "metadata": {},
     "output_type": "display_data"
    },
    {
     "data": {
      "image/png": "[encoded data removed]",
      "text/plain": [
       "<Figure size 600x450 with 1 Axes>"
      ]
     },
     "metadata": {},
     "output_type": "display_data"
    }
   ],
   "source": [
    "%matplotlib inline\n",
    "import matplotlib.pyplot as plt\n",
    "plt.clf()\n",
    "axes = sp.plot_average(center='Peak', time_before=1, time_after=1)\n"
   ]
  },
  {
   "cell_type": "code",
   "execution_count": null,
   "id": "ddcc103ea11ccf72",
   "metadata": {
    "ExecuteTime": {
     "end_time": "2024-08-19T07:19:23.448658Z",
     "start_time": "2024-08-19T07:19:23.199206Z"
    }
   },
   "outputs": [],
   "source": [
    "axes.get_figure().savefig(input_file_without_ext + f'.average_spindle.png', dpi=300)"
   ]
  },
  {
   "cell_type": "code",
   "execution_count": null,
   "id": "b462a09a24a51677",
   "metadata": {
    "ExecuteTime": {
     "end_time": "2024-08-19T06:55:42.450303Z",
     "start_time": "2024-08-19T06:55:42.344794Z"
    }
   },
   "outputs": [
    {
     "data": {
      "text/html": [
       "<div>\n",
       "<style scoped>\n",
       "    .dataframe tbody tr th:only-of-type {\n",
       "        vertical-align: middle;\n",
       "    }\n",
       "\n",
       "    .dataframe tbody tr th {\n",
       "        vertical-align: top;\n",
       "    }\n",
       "\n",
       "    .dataframe thead th {\n",
       "        text-align: right;\n",
       "    }\n",
       "</style>\n",
       "<table border=\"1\" class=\"dataframe\">\n",
       "  <thead>\n",
       "    <tr style=\"text-align: right;\">\n",
       "      <th>Channel</th>\n",
       "      <th>F8-M1</th>\n",
       "      <th>Fpz-M1</th>\n",
       "      <th>F4-M1</th>\n",
       "    </tr>\n",
       "    <tr>\n",
       "      <th>Channel</th>\n",
       "      <th></th>\n",
       "      <th></th>\n",
       "      <th></th>\n",
       "    </tr>\n",
       "  </thead>\n",
       "  <tbody>\n",
       "    <tr>\n",
       "      <th>F8-M1</th>\n",
       "      <td>1.000</td>\n",
       "      <td>0.270</td>\n",
       "      <td>0.714</td>\n",
       "    </tr>\n",
       "    <tr>\n",
       "      <th>Fpz-M1</th>\n",
       "      <td>0.486</td>\n",
       "      <td>1.000</td>\n",
       "      <td>0.600</td>\n",
       "    </tr>\n",
       "    <tr>\n",
       "      <th>F4-M1</th>\n",
       "      <td>0.254</td>\n",
       "      <td>0.119</td>\n",
       "      <td>1.000</td>\n",
       "    </tr>\n",
       "  </tbody>\n",
       "</table>\n",
       "</div>"
      ],
      "text/plain": [
       "Channel  F8-M1  Fpz-M1  F4-M1\n",
       "Channel                      \n",
       "F8-M1    1.000   0.270  0.714\n",
       "Fpz-M1   0.486   1.000  0.600\n",
       "F4-M1    0.254   0.119  1.000"
      ]
     },
     "execution_count": 20,
     "metadata": {},
     "output_type": "execute_result"
    }
   ],
   "source": [
    "# How well do the channels agree?\n",
    "sp.compare_channels(score=\"recall\", max_distance_sec=0.5).round(3)\n",
    "\n",
    "# (So on row 0, column 1, 0.63 would mean 63% of spindles on C0 were also found by C1)\n"
   ]
  },
  {
   "cell_type": "code",
   "execution_count": null,
   "id": "cc2683b829b72736",
   "metadata": {
    "ExecuteTime": {
     "end_time": "2024-08-19T06:55:42.543251Z",
     "start_time": "2024-08-19T06:55:42.450303Z"
    }
   },
   "outputs": [
    {
     "data": {
      "text/html": [
       "<div>\n",
       "<style scoped>\n",
       "    .dataframe tbody tr th:only-of-type {\n",
       "        vertical-align: middle;\n",
       "    }\n",
       "\n",
       "    .dataframe tbody tr th {\n",
       "        vertical-align: top;\n",
       "    }\n",
       "\n",
       "    .dataframe thead th {\n",
       "        text-align: right;\n",
       "    }\n",
       "</style>\n",
       "<table border=\"1\" class=\"dataframe\">\n",
       "  <thead>\n",
       "    <tr style=\"text-align: right;\">\n",
       "      <th>Channel</th>\n",
       "      <th>F8-M1</th>\n",
       "      <th>Fpz-M1</th>\n",
       "      <th>F4-M1</th>\n",
       "    </tr>\n",
       "    <tr>\n",
       "      <th>Channel</th>\n",
       "      <th></th>\n",
       "      <th></th>\n",
       "      <th></th>\n",
       "    </tr>\n",
       "  </thead>\n",
       "  <tbody>\n",
       "    <tr>\n",
       "      <th>F8-M1</th>\n",
       "      <td>1.000</td>\n",
       "      <td>0.347</td>\n",
       "      <td>0.375</td>\n",
       "    </tr>\n",
       "    <tr>\n",
       "      <th>Fpz-M1</th>\n",
       "      <td>0.347</td>\n",
       "      <td>1.000</td>\n",
       "      <td>0.198</td>\n",
       "    </tr>\n",
       "    <tr>\n",
       "      <th>F4-M1</th>\n",
       "      <td>0.375</td>\n",
       "      <td>0.198</td>\n",
       "      <td>1.000</td>\n",
       "    </tr>\n",
       "  </tbody>\n",
       "</table>\n",
       "</div>"
      ],
      "text/plain": [
       "Channel  F8-M1  Fpz-M1  F4-M1\n",
       "Channel                      \n",
       "F8-M1    1.000   0.347  0.375\n",
       "Fpz-M1   0.347   1.000  0.198\n",
       "F4-M1    0.375   0.198  1.000"
      ]
     },
     "execution_count": 21,
     "metadata": {},
     "output_type": "execute_result"
    }
   ],
   "source": [
    "# F1-score is very similar view of the same data\n",
    "sp.compare_channels(max_distance_sec=0.5).round(3)\n"
   ]
  },
  {
   "cell_type": "code",
   "execution_count": null,
   "id": "25c1b89c72df82cc",
   "metadata": {
    "ExecuteTime": {
     "end_time": "2024-08-19T06:55:52.104160Z",
     "start_time": "2024-08-19T06:55:42.543251Z"
    }
   },
   "outputs": [
    {
     "name": "stdout",
     "output_type": "stream",
     "text": [
      "111 spindles detected that are common to at least two electrodes.\n"
     ]
    },
    {
     "data": {
      "text/html": [
       "<div>\n",
       "<style scoped>\n",
       "    .dataframe tbody tr th:only-of-type {\n",
       "        vertical-align: middle;\n",
       "    }\n",
       "\n",
       "    .dataframe tbody tr th {\n",
       "        vertical-align: top;\n",
       "    }\n",
       "\n",
       "    .dataframe thead th {\n",
       "        text-align: right;\n",
       "    }\n",
       "</style>\n",
       "<table border=\"1\" class=\"dataframe\">\n",
       "  <thead>\n",
       "    <tr style=\"text-align: right;\">\n",
       "      <th></th>\n",
       "      <th>Start</th>\n",
       "      <th>Peak</th>\n",
       "      <th>End</th>\n",
       "      <th>Duration</th>\n",
       "      <th>Amplitude</th>\n",
       "      <th>RMS</th>\n",
       "      <th>AbsPower</th>\n",
       "      <th>RelPower</th>\n",
       "      <th>Frequency</th>\n",
       "      <th>Oscillations</th>\n",
       "      <th>Symmetry</th>\n",
       "      <th>Channel</th>\n",
       "      <th>IdxChannel</th>\n",
       "    </tr>\n",
       "  </thead>\n",
       "  <tbody>\n",
       "    <tr>\n",
       "      <th>0</th>\n",
       "      <td>20.868</td>\n",
       "      <td>21.440</td>\n",
       "      <td>21.512</td>\n",
       "      <td>0.644</td>\n",
       "      <td>44.179</td>\n",
       "      <td>8.523</td>\n",
       "      <td>1.786</td>\n",
       "      <td>0.313</td>\n",
       "      <td>13.429</td>\n",
       "      <td>8.0</td>\n",
       "      <td>0.883</td>\n",
       "      <td>F8-M1</td>\n",
       "      <td>0</td>\n",
       "    </tr>\n",
       "    <tr>\n",
       "      <th>1</th>\n",
       "      <td>3377.280</td>\n",
       "      <td>3377.536</td>\n",
       "      <td>3378.000</td>\n",
       "      <td>0.720</td>\n",
       "      <td>54.952</td>\n",
       "      <td>9.062</td>\n",
       "      <td>1.662</td>\n",
       "      <td>0.336</td>\n",
       "      <td>12.995</td>\n",
       "      <td>9.0</td>\n",
       "      <td>0.354</td>\n",
       "      <td>F8-M1</td>\n",
       "      <td>0</td>\n",
       "    </tr>\n",
       "    <tr>\n",
       "      <th>2</th>\n",
       "      <td>3540.560</td>\n",
       "      <td>3541.112</td>\n",
       "      <td>3541.252</td>\n",
       "      <td>0.692</td>\n",
       "      <td>43.750</td>\n",
       "      <td>9.606</td>\n",
       "      <td>1.877</td>\n",
       "      <td>0.335</td>\n",
       "      <td>12.512</td>\n",
       "      <td>8.0</td>\n",
       "      <td>0.793</td>\n",
       "      <td>F8-M1</td>\n",
       "      <td>0</td>\n",
       "    </tr>\n",
       "    <tr>\n",
       "      <th>3</th>\n",
       "      <td>3649.452</td>\n",
       "      <td>3649.752</td>\n",
       "      <td>3649.976</td>\n",
       "      <td>0.524</td>\n",
       "      <td>38.478</td>\n",
       "      <td>8.361</td>\n",
       "      <td>1.885</td>\n",
       "      <td>0.410</td>\n",
       "      <td>12.686</td>\n",
       "      <td>7.0</td>\n",
       "      <td>0.568</td>\n",
       "      <td>F8-M1</td>\n",
       "      <td>0</td>\n",
       "    </tr>\n",
       "    <tr>\n",
       "      <th>4</th>\n",
       "      <td>8041.652</td>\n",
       "      <td>8042.096</td>\n",
       "      <td>8042.260</td>\n",
       "      <td>0.608</td>\n",
       "      <td>55.348</td>\n",
       "      <td>10.753</td>\n",
       "      <td>1.971</td>\n",
       "      <td>0.326</td>\n",
       "      <td>12.220</td>\n",
       "      <td>7.0</td>\n",
       "      <td>0.725</td>\n",
       "      <td>F8-M1</td>\n",
       "      <td>0</td>\n",
       "    </tr>\n",
       "  </tbody>\n",
       "</table>\n",
       "</div>"
      ],
      "text/plain": [
       "      Start      Peak       End  Duration  Amplitude     RMS  AbsPower  \\\n",
       "0    20.868    21.440    21.512     0.644     44.179   8.523     1.786   \n",
       "1  3377.280  3377.536  3378.000     0.720     54.952   9.062     1.662   \n",
       "2  3540.560  3541.112  3541.252     0.692     43.750   9.606     1.877   \n",
       "3  3649.452  3649.752  3649.976     0.524     38.478   8.361     1.885   \n",
       "4  8041.652  8042.096  8042.260     0.608     55.348  10.753     1.971   \n",
       "\n",
       "   RelPower  Frequency  Oscillations  Symmetry Channel  IdxChannel  \n",
       "0     0.313     13.429           8.0     0.883   F8-M1           0  \n",
       "1     0.336     12.995           9.0     0.354   F8-M1           0  \n",
       "2     0.335     12.512           8.0     0.793   F8-M1           0  \n",
       "3     0.410     12.686           7.0     0.568   F8-M1           0  \n",
       "4     0.326     12.220           7.0     0.725   F8-M1           0  "
      ]
     },
     "execution_count": 22,
     "metadata": {},
     "output_type": "execute_result"
    }
   ],
   "source": [
    "sp_multi = yasa.spindles_detect(filtered, sfreq, ch_names=channels, multi_only=True, remove_outliers=True)\n",
    "all_spindles = sp_multi.summary()\n",
    "print(all_spindles.shape[0], 'spindles detected that are common to at least two electrodes.')\n",
    "all_spindles.head().round(3)\n"
   ]
  },
  {
   "cell_type": "markdown",
   "id": "fb7cea24d1207ae4",
   "metadata": {},
   "source": []
  },
  {
   "cell_type": "code",
   "execution_count": null,
   "id": "841e3333d5907b51",
   "metadata": {
    "ExecuteTime": {
     "end_time": "2024-08-19T06:55:52.169646Z",
     "start_time": "2024-08-19T06:55:52.104160Z"
    }
   },
   "outputs": [
    {
     "data": {
      "text/html": [
       "<div>\n",
       "<style scoped>\n",
       "    .dataframe tbody tr th:only-of-type {\n",
       "        vertical-align: middle;\n",
       "    }\n",
       "\n",
       "    .dataframe tbody tr th {\n",
       "        vertical-align: top;\n",
       "    }\n",
       "\n",
       "    .dataframe thead th {\n",
       "        text-align: right;\n",
       "    }\n",
       "</style>\n",
       "<table border=\"1\" class=\"dataframe\">\n",
       "  <thead>\n",
       "    <tr style=\"text-align: right;\">\n",
       "      <th></th>\n",
       "      <th>Count</th>\n",
       "      <th>Duration</th>\n",
       "      <th>Amplitude</th>\n",
       "      <th>RMS</th>\n",
       "      <th>AbsPower</th>\n",
       "      <th>RelPower</th>\n",
       "      <th>Frequency</th>\n",
       "      <th>Oscillations</th>\n",
       "      <th>Symmetry</th>\n",
       "    </tr>\n",
       "    <tr>\n",
       "      <th>Channel</th>\n",
       "      <th></th>\n",
       "      <th></th>\n",
       "      <th></th>\n",
       "      <th></th>\n",
       "      <th></th>\n",
       "      <th></th>\n",
       "      <th></th>\n",
       "      <th></th>\n",
       "      <th></th>\n",
       "    </tr>\n",
       "  </thead>\n",
       "  <tbody>\n",
       "    <tr>\n",
       "      <th>F4-M1</th>\n",
       "      <td>47</td>\n",
       "      <td>0.773191</td>\n",
       "      <td>41.713164</td>\n",
       "      <td>8.858387</td>\n",
       "      <td>1.809971</td>\n",
       "      <td>0.345488</td>\n",
       "      <td>12.745438</td>\n",
       "      <td>9.574468</td>\n",
       "      <td>0.546904</td>\n",
       "    </tr>\n",
       "    <tr>\n",
       "      <th>F8-M1</th>\n",
       "      <td>43</td>\n",
       "      <td>0.711442</td>\n",
       "      <td>36.344822</td>\n",
       "      <td>7.184102</td>\n",
       "      <td>1.607110</td>\n",
       "      <td>0.310589</td>\n",
       "      <td>12.802567</td>\n",
       "      <td>8.604651</td>\n",
       "      <td>0.607054</td>\n",
       "    </tr>\n",
       "    <tr>\n",
       "      <th>Fpz-M1</th>\n",
       "      <td>21</td>\n",
       "      <td>0.742286</td>\n",
       "      <td>32.772103</td>\n",
       "      <td>6.600920</td>\n",
       "      <td>1.549899</td>\n",
       "      <td>0.331183</td>\n",
       "      <td>12.995819</td>\n",
       "      <td>9.000000</td>\n",
       "      <td>0.568469</td>\n",
       "    </tr>\n",
       "  </tbody>\n",
       "</table>\n",
       "</div>"
      ],
      "text/plain": [
       "         Count  Duration  Amplitude       RMS  AbsPower  RelPower  Frequency  \\\n",
       "Channel                                                                        \n",
       "F4-M1       47  0.773191  41.713164  8.858387  1.809971  0.345488  12.745438   \n",
       "F8-M1       43  0.711442  36.344822  7.184102  1.607110  0.310589  12.802567   \n",
       "Fpz-M1      21  0.742286  32.772103  6.600920  1.549899  0.331183  12.995819   \n",
       "\n",
       "         Oscillations  Symmetry  \n",
       "Channel                          \n",
       "F4-M1        9.574468  0.546904  \n",
       "F8-M1        8.604651  0.607054  \n",
       "Fpz-M1       9.000000  0.568469  "
      ]
     },
     "execution_count": 23,
     "metadata": {},
     "output_type": "execute_result"
    }
   ],
   "source": [
    "sp_multi.summary(grp_chan=True)\n"
   ]
  },
  {
   "cell_type": "code",
   "execution_count": null,
   "id": "4e9052acc0b66285",
   "metadata": {
    "ExecuteTime": {
     "end_time": "2024-08-19T06:55:52.173578Z",
     "start_time": "2024-08-19T06:55:52.171651Z"
    }
   },
   "outputs": [],
   "source": []
  },
  {
   "cell_type": "code",
   "execution_count": null,
   "id": "f2af04e7cefbce6",
   "metadata": {
    "ExecuteTime": {
     "end_time": "2024-08-19T06:55:52.440793Z",
     "start_time": "2024-08-19T06:55:52.173578Z"
    }
   },
   "outputs": [
    {
     "data": {
      "text/html": [
       "<div>\n",
       "<style scoped>\n",
       "    .dataframe tbody tr th:only-of-type {\n",
       "        vertical-align: middle;\n",
       "    }\n",
       "\n",
       "    .dataframe tbody tr th {\n",
       "        vertical-align: top;\n",
       "    }\n",
       "\n",
       "    .dataframe thead th {\n",
       "        text-align: right;\n",
       "    }\n",
       "</style>\n",
       "<table border=\"1\" class=\"dataframe\">\n",
       "  <thead>\n",
       "    <tr style=\"text-align: right;\">\n",
       "      <th>Channel</th>\n",
       "      <th>F8-M1</th>\n",
       "      <th>Fpz-M1</th>\n",
       "      <th>F4-M1</th>\n",
       "    </tr>\n",
       "    <tr>\n",
       "      <th>Channel</th>\n",
       "      <th></th>\n",
       "      <th></th>\n",
       "      <th></th>\n",
       "    </tr>\n",
       "  </thead>\n",
       "  <tbody>\n",
       "    <tr>\n",
       "      <th>F8-M1</th>\n",
       "      <td>1.000000</td>\n",
       "      <td>0.000041</td>\n",
       "      <td>0.000019</td>\n",
       "    </tr>\n",
       "    <tr>\n",
       "      <th>Fpz-M1</th>\n",
       "      <td>0.000041</td>\n",
       "      <td>1.000000</td>\n",
       "      <td>0.000016</td>\n",
       "    </tr>\n",
       "    <tr>\n",
       "      <th>F4-M1</th>\n",
       "      <td>0.000019</td>\n",
       "      <td>0.000016</td>\n",
       "      <td>1.000000</td>\n",
       "    </tr>\n",
       "  </tbody>\n",
       "</table>\n",
       "</div>"
      ],
      "text/plain": [
       "Channel     F8-M1    Fpz-M1     F4-M1\n",
       "Channel                              \n",
       "F8-M1    1.000000  0.000041  0.000019\n",
       "Fpz-M1   0.000041  1.000000  0.000016\n",
       "F4-M1    0.000019  0.000016  1.000000"
      ]
     },
     "execution_count": 24,
     "metadata": {},
     "output_type": "execute_result"
    }
   ],
   "source": [
    "coincidence = sp.get_coincidence_matrix()\n",
    "coincidence\n"
   ]
  },
  {
   "cell_type": "code",
   "execution_count": null,
   "id": "87f15d65d7fd820f",
   "metadata": {
    "ExecuteTime": {
     "end_time": "2024-08-19T06:55:52.561933Z",
     "start_time": "2024-08-19T06:55:52.440793Z"
    }
   },
   "outputs": [
    {
     "data": {
      "image/png": "[encoded data removed]",
      "text/plain": [
       "<Figure size 700x500 with 2 Axes>"
      ]
     },
     "metadata": {},
     "output_type": "display_data"
    }
   ],
   "source": [
    "import seaborn as sns\n",
    "sns.set(style=\"white\", font_scale=1.25)\n",
    "\n",
    "mask = np.zeros_like(coincidence)\n",
    "mask[np.triu_indices_from(mask)] = True\n",
    "\n",
    "f, ax = plt.subplots(figsize=(7, 5))\n",
    "ax = sns.heatmap(coincidence, mask=mask, square=True, cmap=\"rocket\")\n"
   ]
  },
  {
   "cell_type": "markdown",
   "id": "d97b46425aa54368",
   "metadata": {},
   "source": [
    "Conclusions:\n",
    "\n",
    "2024-07-28: \n",
    "- Each channel (F8, T4, O2) catching a bunch of spindles the others missed.\n",
    "- F8 weakest.  O2 catches 3x as many as F8.  T4 2x F8.\n"
   ]
  },
  {
   "cell_type": "code",
   "execution_count": null,
   "id": "d9cb6060b4058a9d",
   "metadata": {
    "ExecuteTime": {
     "end_time": "2024-08-19T06:56:34.586057Z",
     "start_time": "2024-08-19T06:56:24.797040Z"
    }
   },
   "outputs": [],
   "source": [
    "out = yasa_helpers.spindles(filtered)"
   ]
  },
  {
   "cell_type": "code",
   "execution_count": null,
   "id": "29d30e45f457c13e",
   "metadata": {
    "ExecuteTime": {
     "end_time": "2024-08-19T06:56:34.647796Z",
     "start_time": "2024-08-19T06:56:34.587083Z"
    }
   },
   "outputs": [
    {
     "data": {
      "text/plain": [
       "{'Aggregated': {'Amplitude': 45.77192812769312,\n",
       "  'RMS': 9.111193625985186,\n",
       "  'AbsPower': 1.7061467902543175,\n",
       "  'RelPower': 0.31929755625291467,\n",
       "  'Frequency': 12.933909003579066,\n",
       "  'Oscillations': 9.068047708725674,\n",
       "  'Symmetry': 0.5556077587004221},\n",
       " 'F4-M1': {'Amplitude': 46.16089078888318,\n",
       "  'RMS': 9.910556025695692,\n",
       "  'AbsPower': 1.840882233408207,\n",
       "  'RelPower': 0.3361347442967549,\n",
       "  'Frequency': 12.920628327283046,\n",
       "  'Oscillations': 9.248587570621469,\n",
       "  'Symmetry': 0.5148549198874355},\n",
       " 'F8-M1': {'Amplitude': 41.99495421913245,\n",
       "  'RMS': 7.952632003459209,\n",
       "  'AbsPower': 1.625524329002897,\n",
       "  'RelPower': 0.3132047802776167,\n",
       "  'Frequency': 12.809181298768294,\n",
       "  'Oscillations': 9.126984126984127,\n",
       "  'Symmetry': 0.5865884083503556},\n",
       " 'Fpz-M1': {'Amplitude': 49.15993937506375,\n",
       "  'RMS': 9.470392848800651,\n",
       "  'AbsPower': 1.652033808351849,\n",
       "  'RelPower': 0.3085531441843724,\n",
       "  'Frequency': 13.071917384685854,\n",
       "  'Oscillations': 8.82857142857143,\n",
       "  'Symmetry': 0.5653799478634752}}"
      ]
     },
     "execution_count": 28,
     "metadata": {},
     "output_type": "execute_result"
    }
   ],
   "source": [
    "out"
   ]
  },
  {
   "cell_type": "markdown",
   "id": "fc496d326972fe63",
   "metadata": {},
   "source": [
    "## Slow waves"
   ]
  },
  {
   "cell_type": "code",
   "execution_count": null,
   "id": "fbd420029c5e19e5",
   "metadata": {
    "ExecuteTime": {
     "end_time": "2024-08-19T06:56:34.699233Z",
     "start_time": "2024-08-19T06:56:34.647796Z"
    }
   },
   "outputs": [],
   "source": [
    "import mne\n",
    "import yasa\n",
    "import numpy as np\n",
    "import pandas as pd\n",
    "import seaborn as sns\n",
    "import matplotlib.pyplot as plt\n",
    "from scipy.stats import skewnorm\n",
    "from scipy.linalg import eigh\n",
    "from scipy.interpolate import RectBivariateSpline\n",
    "from scipy.signal import find_peaks, welch, detrend\n",
    "sns.set(context='notebook', font_scale=1.3)\n",
    "sf = sfreq\n",
    "from yasa import sw_detect\n",
    "\n"
   ]
  },
  {
   "cell_type": "code",
   "execution_count": null,
   "id": "8de1c92af96c4778",
   "metadata": {
    "ExecuteTime": {
     "end_time": "2024-08-19T06:56:36.354652Z",
     "start_time": "2024-08-19T06:56:34.700240Z"
    }
   },
   "outputs": [],
   "source": [
    "sw = sw_detect(filtered, sf)\n"
   ]
  },
  {
   "cell_type": "code",
   "execution_count": null,
   "id": "98cb4f927503605c",
   "metadata": {
    "ExecuteTime": {
     "end_time": "2024-08-19T06:56:36.406510Z",
     "start_time": "2024-08-19T06:56:36.354652Z"
    }
   },
   "outputs": [
    {
     "data": {
      "text/html": [
       "<div>\n",
       "<style scoped>\n",
       "    .dataframe tbody tr th:only-of-type {\n",
       "        vertical-align: middle;\n",
       "    }\n",
       "\n",
       "    .dataframe tbody tr th {\n",
       "        vertical-align: top;\n",
       "    }\n",
       "\n",
       "    .dataframe thead th {\n",
       "        text-align: right;\n",
       "    }\n",
       "</style>\n",
       "<table border=\"1\" class=\"dataframe\">\n",
       "  <thead>\n",
       "    <tr style=\"text-align: right;\">\n",
       "      <th></th>\n",
       "      <th>Start</th>\n",
       "      <th>NegPeak</th>\n",
       "      <th>MidCrossing</th>\n",
       "      <th>PosPeak</th>\n",
       "      <th>End</th>\n",
       "      <th>Duration</th>\n",
       "      <th>ValNegPeak</th>\n",
       "      <th>ValPosPeak</th>\n",
       "      <th>PTP</th>\n",
       "      <th>Slope</th>\n",
       "      <th>Frequency</th>\n",
       "      <th>Channel</th>\n",
       "      <th>IdxChannel</th>\n",
       "    </tr>\n",
       "  </thead>\n",
       "  <tbody>\n",
       "    <tr>\n",
       "      <th>0</th>\n",
       "      <td>28.092</td>\n",
       "      <td>28.504</td>\n",
       "      <td>28.736</td>\n",
       "      <td>28.956</td>\n",
       "      <td>29.160</td>\n",
       "      <td>1.068</td>\n",
       "      <td>-45.718268</td>\n",
       "      <td>49.194944</td>\n",
       "      <td>94.913211</td>\n",
       "      <td>409.108669</td>\n",
       "      <td>0.936330</td>\n",
       "      <td>F8-M1</td>\n",
       "      <td>0</td>\n",
       "    </tr>\n",
       "    <tr>\n",
       "      <th>1</th>\n",
       "      <td>29.160</td>\n",
       "      <td>29.400</td>\n",
       "      <td>29.704</td>\n",
       "      <td>29.940</td>\n",
       "      <td>30.392</td>\n",
       "      <td>1.232</td>\n",
       "      <td>-59.146246</td>\n",
       "      <td>18.603997</td>\n",
       "      <td>77.750242</td>\n",
       "      <td>255.757376</td>\n",
       "      <td>0.811688</td>\n",
       "      <td>F8-M1</td>\n",
       "      <td>0</td>\n",
       "    </tr>\n",
       "    <tr>\n",
       "      <th>2</th>\n",
       "      <td>36.556</td>\n",
       "      <td>36.940</td>\n",
       "      <td>37.252</td>\n",
       "      <td>37.384</td>\n",
       "      <td>37.532</td>\n",
       "      <td>0.976</td>\n",
       "      <td>-64.184227</td>\n",
       "      <td>14.893486</td>\n",
       "      <td>79.077713</td>\n",
       "      <td>253.454208</td>\n",
       "      <td>1.024590</td>\n",
       "      <td>F8-M1</td>\n",
       "      <td>0</td>\n",
       "    </tr>\n",
       "    <tr>\n",
       "      <th>3</th>\n",
       "      <td>68.984</td>\n",
       "      <td>69.264</td>\n",
       "      <td>69.532</td>\n",
       "      <td>69.788</td>\n",
       "      <td>70.212</td>\n",
       "      <td>1.228</td>\n",
       "      <td>-43.865761</td>\n",
       "      <td>32.297267</td>\n",
       "      <td>76.163027</td>\n",
       "      <td>284.190401</td>\n",
       "      <td>0.814332</td>\n",
       "      <td>F8-M1</td>\n",
       "      <td>0</td>\n",
       "    </tr>\n",
       "    <tr>\n",
       "      <th>4</th>\n",
       "      <td>71.176</td>\n",
       "      <td>71.420</td>\n",
       "      <td>71.744</td>\n",
       "      <td>72.272</td>\n",
       "      <td>72.540</td>\n",
       "      <td>1.364</td>\n",
       "      <td>-41.991057</td>\n",
       "      <td>33.426686</td>\n",
       "      <td>75.417743</td>\n",
       "      <td>232.770811</td>\n",
       "      <td>0.733138</td>\n",
       "      <td>F8-M1</td>\n",
       "      <td>0</td>\n",
       "    </tr>\n",
       "    <tr>\n",
       "      <th>...</th>\n",
       "      <td>...</td>\n",
       "      <td>...</td>\n",
       "      <td>...</td>\n",
       "      <td>...</td>\n",
       "      <td>...</td>\n",
       "      <td>...</td>\n",
       "      <td>...</td>\n",
       "      <td>...</td>\n",
       "      <td>...</td>\n",
       "      <td>...</td>\n",
       "      <td>...</td>\n",
       "      <td>...</td>\n",
       "      <td>...</td>\n",
       "    </tr>\n",
       "    <tr>\n",
       "      <th>3651</th>\n",
       "      <td>31408.596</td>\n",
       "      <td>31408.792</td>\n",
       "      <td>31409.044</td>\n",
       "      <td>31409.160</td>\n",
       "      <td>31409.272</td>\n",
       "      <td>0.676</td>\n",
       "      <td>-104.529895</td>\n",
       "      <td>24.476410</td>\n",
       "      <td>129.006305</td>\n",
       "      <td>511.929782</td>\n",
       "      <td>1.479290</td>\n",
       "      <td>F4-M1</td>\n",
       "      <td>2</td>\n",
       "    </tr>\n",
       "    <tr>\n",
       "      <th>3652</th>\n",
       "      <td>31507.000</td>\n",
       "      <td>31507.264</td>\n",
       "      <td>31507.520</td>\n",
       "      <td>31507.696</td>\n",
       "      <td>31507.892</td>\n",
       "      <td>0.892</td>\n",
       "      <td>-72.310703</td>\n",
       "      <td>37.067300</td>\n",
       "      <td>109.378003</td>\n",
       "      <td>427.257824</td>\n",
       "      <td>1.121076</td>\n",
       "      <td>F4-M1</td>\n",
       "      <td>2</td>\n",
       "    </tr>\n",
       "    <tr>\n",
       "      <th>3653</th>\n",
       "      <td>31508.988</td>\n",
       "      <td>31509.292</td>\n",
       "      <td>31509.668</td>\n",
       "      <td>31510.156</td>\n",
       "      <td>31510.612</td>\n",
       "      <td>1.624</td>\n",
       "      <td>-82.774017</td>\n",
       "      <td>104.135846</td>\n",
       "      <td>186.909863</td>\n",
       "      <td>497.100700</td>\n",
       "      <td>0.615764</td>\n",
       "      <td>F4-M1</td>\n",
       "      <td>2</td>\n",
       "    </tr>\n",
       "    <tr>\n",
       "      <th>3654</th>\n",
       "      <td>31521.076</td>\n",
       "      <td>31521.456</td>\n",
       "      <td>31521.740</td>\n",
       "      <td>31521.992</td>\n",
       "      <td>31522.736</td>\n",
       "      <td>1.660</td>\n",
       "      <td>-43.116271</td>\n",
       "      <td>38.599661</td>\n",
       "      <td>81.715933</td>\n",
       "      <td>287.732158</td>\n",
       "      <td>0.602410</td>\n",
       "      <td>F4-M1</td>\n",
       "      <td>2</td>\n",
       "    </tr>\n",
       "    <tr>\n",
       "      <th>3655</th>\n",
       "      <td>32220.360</td>\n",
       "      <td>32220.676</td>\n",
       "      <td>32221.096</td>\n",
       "      <td>32221.752</td>\n",
       "      <td>32222.020</td>\n",
       "      <td>1.660</td>\n",
       "      <td>-52.435902</td>\n",
       "      <td>31.047759</td>\n",
       "      <td>83.483661</td>\n",
       "      <td>198.770622</td>\n",
       "      <td>0.602410</td>\n",
       "      <td>F4-M1</td>\n",
       "      <td>2</td>\n",
       "    </tr>\n",
       "  </tbody>\n",
       "</table>\n",
       "<p>3656 rows × 13 columns</p>\n",
       "</div>"
      ],
      "text/plain": [
       "          Start    NegPeak  MidCrossing    PosPeak        End  Duration  \\\n",
       "0        28.092     28.504       28.736     28.956     29.160     1.068   \n",
       "1        29.160     29.400       29.704     29.940     30.392     1.232   \n",
       "2        36.556     36.940       37.252     37.384     37.532     0.976   \n",
       "3        68.984     69.264       69.532     69.788     70.212     1.228   \n",
       "4        71.176     71.420       71.744     72.272     72.540     1.364   \n",
       "...         ...        ...          ...        ...        ...       ...   \n",
       "3651  31408.596  31408.792    31409.044  31409.160  31409.272     0.676   \n",
       "3652  31507.000  31507.264    31507.520  31507.696  31507.892     0.892   \n",
       "3653  31508.988  31509.292    31509.668  31510.156  31510.612     1.624   \n",
       "3654  31521.076  31521.456    31521.740  31521.992  31522.736     1.660   \n",
       "3655  32220.360  32220.676    32221.096  32221.752  32222.020     1.660   \n",
       "\n",
       "      ValNegPeak  ValPosPeak         PTP       Slope  Frequency Channel  \\\n",
       "0     -45.718268   49.194944   94.913211  409.108669   0.936330   F8-M1   \n",
       "1     -59.146246   18.603997   77.750242  255.757376   0.811688   F8-M1   \n",
       "2     -64.184227   14.893486   79.077713  253.454208   1.024590   F8-M1   \n",
       "3     -43.865761   32.297267   76.163027  284.190401   0.814332   F8-M1   \n",
       "4     -41.991057   33.426686   75.417743  232.770811   0.733138   F8-M1   \n",
       "...          ...         ...         ...         ...        ...     ...   \n",
       "3651 -104.529895   24.476410  129.006305  511.929782   1.479290   F4-M1   \n",
       "3652  -72.310703   37.067300  109.378003  427.257824   1.121076   F4-M1   \n",
       "3653  -82.774017  104.135846  186.909863  497.100700   0.615764   F4-M1   \n",
       "3654  -43.116271   38.599661   81.715933  287.732158   0.602410   F4-M1   \n",
       "3655  -52.435902   31.047759   83.483661  198.770622   0.602410   F4-M1   \n",
       "\n",
       "      IdxChannel  \n",
       "0              0  \n",
       "1              0  \n",
       "2              0  \n",
       "3              0  \n",
       "4              0  \n",
       "...          ...  \n",
       "3651           2  \n",
       "3652           2  \n",
       "3653           2  \n",
       "3654           2  \n",
       "3655           2  \n",
       "\n",
       "[3656 rows x 13 columns]"
      ]
     },
     "execution_count": 31,
     "metadata": {},
     "output_type": "execute_result"
    }
   ],
   "source": [
    "summary = sw.summary()\n",
    "# Fields all covered https://github.com/raphaelvallat/yasa/blob/master/notebooks/05_sw_detection.ipynb\n",
    "summary"
   ]
  },
  {
   "cell_type": "code",
   "execution_count": null,
   "id": "a69f0d1261ceb04f",
   "metadata": {
    "ExecuteTime": {
     "end_time": "2024-08-19T06:56:36.458038Z",
     "start_time": "2024-08-19T06:56:36.406510Z"
    }
   },
   "outputs": [
    {
     "data": {
      "text/html": [
       "<div>\n",
       "<style scoped>\n",
       "    .dataframe tbody tr th:only-of-type {\n",
       "        vertical-align: middle;\n",
       "    }\n",
       "\n",
       "    .dataframe tbody tr th {\n",
       "        vertical-align: top;\n",
       "    }\n",
       "\n",
       "    .dataframe thead th {\n",
       "        text-align: right;\n",
       "    }\n",
       "</style>\n",
       "<table border=\"1\" class=\"dataframe\">\n",
       "  <thead>\n",
       "    <tr style=\"text-align: right;\">\n",
       "      <th></th>\n",
       "      <th>Count</th>\n",
       "      <th>Duration</th>\n",
       "      <th>ValNegPeak</th>\n",
       "      <th>ValPosPeak</th>\n",
       "      <th>PTP</th>\n",
       "      <th>Slope</th>\n",
       "      <th>Frequency</th>\n",
       "    </tr>\n",
       "    <tr>\n",
       "      <th>Channel</th>\n",
       "      <th></th>\n",
       "      <th></th>\n",
       "      <th></th>\n",
       "      <th></th>\n",
       "      <th></th>\n",
       "      <th></th>\n",
       "      <th></th>\n",
       "    </tr>\n",
       "  </thead>\n",
       "  <tbody>\n",
       "    <tr>\n",
       "      <th>F4-M1</th>\n",
       "      <td>1163</td>\n",
       "      <td>1.317909</td>\n",
       "      <td>-60.673059</td>\n",
       "      <td>57.796769</td>\n",
       "      <td>118.469828</td>\n",
       "      <td>415.237872</td>\n",
       "      <td>0.812946</td>\n",
       "    </tr>\n",
       "    <tr>\n",
       "      <th>F8-M1</th>\n",
       "      <td>861</td>\n",
       "      <td>1.378337</td>\n",
       "      <td>-60.113219</td>\n",
       "      <td>50.588559</td>\n",
       "      <td>110.701778</td>\n",
       "      <td>358.527996</td>\n",
       "      <td>0.773852</td>\n",
       "    </tr>\n",
       "    <tr>\n",
       "      <th>Fpz-M1</th>\n",
       "      <td>1632</td>\n",
       "      <td>1.280221</td>\n",
       "      <td>-63.352732</td>\n",
       "      <td>56.059815</td>\n",
       "      <td>119.412547</td>\n",
       "      <td>422.817528</td>\n",
       "      <td>0.839503</td>\n",
       "    </tr>\n",
       "  </tbody>\n",
       "</table>\n",
       "</div>"
      ],
      "text/plain": [
       "         Count  Duration  ValNegPeak  ValPosPeak         PTP       Slope  \\\n",
       "Channel                                                                    \n",
       "F4-M1     1163  1.317909  -60.673059   57.796769  118.469828  415.237872   \n",
       "F8-M1      861  1.378337  -60.113219   50.588559  110.701778  358.527996   \n",
       "Fpz-M1    1632  1.280221  -63.352732   56.059815  119.412547  422.817528   \n",
       "\n",
       "         Frequency  \n",
       "Channel             \n",
       "F4-M1     0.812946  \n",
       "F8-M1     0.773852  \n",
       "Fpz-M1    0.839503  "
      ]
     },
     "execution_count": 32,
     "metadata": {},
     "output_type": "execute_result"
    }
   ],
   "source": [
    "sw.summary(grp_chan=True, aggfunc='mean')"
   ]
  },
  {
   "cell_type": "code",
   "execution_count": null,
   "id": "d76d3cb919fa6dd8",
   "metadata": {
    "ExecuteTime": {
     "end_time": "2024-08-19T06:56:36.507219Z",
     "start_time": "2024-08-19T06:56:36.458038Z"
    }
   },
   "outputs": [
    {
     "name": "stdout",
     "output_type": "stream",
     "text": [
      "ValPosPeakMean: 55.323854119437286 (stddev = 27.580841666496145)\n",
      "ValNegPeakMean: -61.73739247400275 (stddev = 20.23704149868295)\n",
      "DurationMean: 1.315316192560175 (stddev = 0.3473106253001016)\n"
     ]
    }
   ],
   "source": [
    "ValPosPeakMean = summary[\"ValPosPeak\"].mean()\n",
    "ValPosPeakStdDev = summary[\"ValPosPeak\"].std()\n",
    "ValNegPeakMean = summary[\"ValNegPeak\"].mean()\n",
    "ValNegPeakStdDev = summary[\"ValNegPeak\"].std()\n",
    "DurationMean = summary[\"Duration\"].mean()\n",
    "DurationStdDev = summary[\"Duration\"].std()\n",
    "\n",
    "print(f\"ValPosPeakMean: {ValPosPeakMean} (stddev = {ValPosPeakStdDev})\")\n",
    "print(f\"ValNegPeakMean: {ValNegPeakMean} (stddev = {ValNegPeakStdDev})\")\n",
    "print(f\"DurationMean: {DurationMean} (stddev = {DurationStdDev})\")\n"
   ]
  },
  {
   "cell_type": "code",
   "execution_count": null,
   "id": "baec70c207726248",
   "metadata": {
    "ExecuteTime": {
     "end_time": "2024-08-19T06:56:36.556713Z",
     "start_time": "2024-08-19T06:56:36.507219Z"
    }
   },
   "outputs": [
    {
     "data": {
      "text/plain": [
       "3656"
      ]
     },
     "execution_count": 34,
     "metadata": {},
     "output_type": "execute_result"
    }
   ],
   "source": [
    "len(sw.summary())"
   ]
  },
  {
   "cell_type": "code",
   "execution_count": null,
   "id": "71bc51233e49bc42",
   "metadata": {
    "ExecuteTime": {
     "end_time": "2024-08-19T06:56:36.610492Z",
     "start_time": "2024-08-19T06:56:36.556713Z"
    }
   },
   "outputs": [
    {
     "data": {
      "text/html": [
       "<div>\n",
       "<style scoped>\n",
       "    .dataframe tbody tr th:only-of-type {\n",
       "        vertical-align: middle;\n",
       "    }\n",
       "\n",
       "    .dataframe tbody tr th {\n",
       "        vertical-align: top;\n",
       "    }\n",
       "\n",
       "    .dataframe thead th {\n",
       "        text-align: right;\n",
       "    }\n",
       "</style>\n",
       "<table border=\"1\" class=\"dataframe\">\n",
       "  <thead>\n",
       "    <tr style=\"text-align: right;\">\n",
       "      <th></th>\n",
       "      <th>Count</th>\n",
       "      <th>Duration</th>\n",
       "      <th>ValNegPeak</th>\n",
       "      <th>ValPosPeak</th>\n",
       "      <th>PTP</th>\n",
       "      <th>Slope</th>\n",
       "      <th>Frequency</th>\n",
       "    </tr>\n",
       "    <tr>\n",
       "      <th>Channel</th>\n",
       "      <th></th>\n",
       "      <th></th>\n",
       "      <th></th>\n",
       "      <th></th>\n",
       "      <th></th>\n",
       "      <th></th>\n",
       "      <th></th>\n",
       "    </tr>\n",
       "  </thead>\n",
       "  <tbody>\n",
       "    <tr>\n",
       "      <th>F4-M1</th>\n",
       "      <td>1163</td>\n",
       "      <td>1.317909</td>\n",
       "      <td>-60.673059</td>\n",
       "      <td>57.796769</td>\n",
       "      <td>118.469828</td>\n",
       "      <td>415.237872</td>\n",
       "      <td>0.812946</td>\n",
       "    </tr>\n",
       "    <tr>\n",
       "      <th>F8-M1</th>\n",
       "      <td>861</td>\n",
       "      <td>1.378337</td>\n",
       "      <td>-60.113219</td>\n",
       "      <td>50.588559</td>\n",
       "      <td>110.701778</td>\n",
       "      <td>358.527996</td>\n",
       "      <td>0.773852</td>\n",
       "    </tr>\n",
       "    <tr>\n",
       "      <th>Fpz-M1</th>\n",
       "      <td>1632</td>\n",
       "      <td>1.280221</td>\n",
       "      <td>-63.352732</td>\n",
       "      <td>56.059815</td>\n",
       "      <td>119.412547</td>\n",
       "      <td>422.817528</td>\n",
       "      <td>0.839503</td>\n",
       "    </tr>\n",
       "  </tbody>\n",
       "</table>\n",
       "</div>"
      ],
      "text/plain": [
       "         Count  Duration  ValNegPeak  ValPosPeak         PTP       Slope  \\\n",
       "Channel                                                                    \n",
       "F4-M1     1163  1.317909  -60.673059   57.796769  118.469828  415.237872   \n",
       "F8-M1      861  1.378337  -60.113219   50.588559  110.701778  358.527996   \n",
       "Fpz-M1    1632  1.280221  -63.352732   56.059815  119.412547  422.817528   \n",
       "\n",
       "         Frequency  \n",
       "Channel             \n",
       "F4-M1     0.812946  \n",
       "F8-M1     0.773852  \n",
       "Fpz-M1    0.839503  "
      ]
     },
     "execution_count": 35,
     "metadata": {},
     "output_type": "execute_result"
    }
   ],
   "source": [
    "sw.summary(grp_chan=True, aggfunc='mean')\n"
   ]
  },
  {
   "cell_type": "code",
   "execution_count": null,
   "id": "60d8413b93c99bea",
   "metadata": {
    "ExecuteTime": {
     "end_time": "2024-08-19T06:56:50.047188Z",
     "start_time": "2024-08-19T06:56:36.611531Z"
    }
   },
   "outputs": [
    {
     "data": {
      "text/plain": [
       "<Figure size 640x480 with 0 Axes>"
      ]
     },
     "metadata": {},
     "output_type": "display_data"
    },
    {
     "data": {
      "image/png": "[encoded data removed]",
      "text/plain": [
       "<Figure size 600x450 with 1 Axes>"
      ]
     },
     "metadata": {},
     "output_type": "display_data"
    }
   ],
   "source": [
    "plt.clf()\n",
    "sw.plot_average(time_before=0.4, time_after=0.8, center=\"NegPeak\");\n"
   ]
  },
  {
   "cell_type": "code",
   "execution_count": null,
   "id": "f640598fd44029b3",
   "metadata": {
    "ExecuteTime": {
     "end_time": "2024-08-19T06:56:52.304339Z",
     "start_time": "2024-08-19T06:56:50.048240Z"
    }
   },
   "outputs": [
    {
     "ename": "ValueError",
     "evalue": "too many values to unpack (expected 2)",
     "output_type": "error",
     "traceback": [
      "\u001b[1;31m---------------------------------------------------------------------------\u001b[0m",
      "\u001b[1;31mValueError\u001b[0m                                Traceback (most recent call last)",
      "Cell \u001b[1;32mIn[37], line 2\u001b[0m\n\u001b[0;32m      1\u001b[0m \u001b[38;5;28;01mimport\u001b[39;00m \u001b[38;5;21;01myasa_helpers\u001b[39;00m\n\u001b[1;32m----> 2\u001b[0m out, summary \u001b[38;5;241m=\u001b[39m yasa_helpers\u001b[38;5;241m.\u001b[39mslow_waves(filtered)\n",
      "\u001b[1;31mValueError\u001b[0m: too many values to unpack (expected 2)"
     ]
    }
   ],
   "source": [
    "import yasa_helpers\n",
    "out, summary = yasa_helpers.slow_waves(filtered)"
   ]
  },
  {
   "cell_type": "code",
   "execution_count": null,
   "id": "b4792cf36a2f1991",
   "metadata": {},
   "outputs": [],
   "source": [
    "out"
   ]
  },
  {
   "cell_type": "code",
   "execution_count": null,
   "id": "9117d6f9e41eb7c5",
   "metadata": {},
   "outputs": [],
   "source": []
  },
  {
   "cell_type": "markdown",
   "id": "f83a6adf58db101d",
   "metadata": {},
   "source": [
    "# Sleep stats"
   ]
  },
  {
   "cell_type": "code",
   "execution_count": null,
   "id": "a084f0a7fa8159e",
   "metadata": {
    "ExecuteTime": {
     "end_time": "2024-08-19T07:02:01.572331Z",
     "start_time": "2024-08-19T07:02:01.523297Z"
    }
   },
   "outputs": [],
   "source": [
    "ss = yasa.sleep_statistics(df['StageInt'], sf_hyp=1/30)"
   ]
  },
  {
   "cell_type": "code",
   "execution_count": null,
   "id": "948ea1ea21f35d32",
   "metadata": {
    "ExecuteTime": {
     "end_time": "2024-08-19T07:02:04.488211Z",
     "start_time": "2024-08-19T07:02:04.441005Z"
    }
   },
   "outputs": [
    {
     "data": {
      "text/plain": [
       "{'TIB': 537.0,\n",
       " 'SPT': 465.0,\n",
       " 'WASO': 29.0,\n",
       " 'TST': 436.0,\n",
       " 'N1': 27.0,\n",
       " 'N2': 201.5,\n",
       " 'N3': 82.0,\n",
       " 'REM': 125.5,\n",
       " 'NREM': 310.5,\n",
       " 'SOL': 54.5,\n",
       " 'Lat_N1': 54.5,\n",
       " 'Lat_N2': 56.0,\n",
       " 'Lat_N3': 67.0,\n",
       " 'Lat_REM': 134.5,\n",
       " '%N1': 6.192660550458716,\n",
       " '%N2': 46.21559633027523,\n",
       " '%N3': 18.807339449541285,\n",
       " '%REM': 28.78440366972477,\n",
       " '%NREM': 71.21559633027523,\n",
       " 'SE': 81.19180633147114,\n",
       " 'SME': 93.76344086021506}"
      ]
     },
     "execution_count": 40,
     "metadata": {},
     "output_type": "execute_result"
    }
   ],
   "source": [
    "ss"
   ]
  },
  {
   "cell_type": "code",
   "execution_count": null,
   "id": "69f38d4a8b914790",
   "metadata": {},
   "outputs": [],
   "source": []
  }
 ],
 "metadata": {
  "kernelspec": {
   "display_name": "Python 3 (ipykernel)",
   "language": "python",
   "name": "python3"
  },
  "language_info": {
   "codemirror_mode": {
    "name": "ipython",
    "version": 3
   },
   "file_extension": ".py",
   "mimetype": "text/x-python",
   "name": "python",
   "nbconvert_exporter": "python",
   "pygments_lexer": "ipython3",
   "version": "3.11.3"
  }
 },
 "nbformat": 4,
 "nbformat_minor": 5
}
