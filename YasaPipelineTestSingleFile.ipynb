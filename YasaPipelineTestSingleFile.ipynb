{
 "cells": [
  {
   "metadata": {
    "ExecuteTime": {
     "end_time": "2024-11-29T07:31:44.258835Z",
     "start_time": "2024-11-29T07:31:44.211258Z"
    }
   },
   "cell_type": "code",
   "source": [
    "%reload_ext autoreload\n",
    "%autoreload 2\n",
    "import logging\n",
    "log = lambda msg: logging.info(msg)\n",
    "import os\n",
    "logging.basicConfig(level=logging.INFO, format='%(asctime)s - %(levelname)s - %(message)s')\n"
   ],
   "id": "34b2ec6a149ab9b1",
   "outputs": [],
   "execution_count": 1
  },
  {
   "metadata": {},
   "cell_type": "markdown",
   "source": "# Full pipeline (single file)",
   "id": "9b74b3d3f5890d7c"
  },
  {
   "metadata": {
    "ExecuteTime": {
     "end_time": "2024-11-29T07:31:44.999243Z",
     "start_time": "2024-11-29T07:31:44.268086Z"
    }
   },
   "cell_type": "code",
   "source": [
    "import pandas as pd\n",
    "\n",
    "#input_file = \"C:\\\\dev\\\\play\\\\brainwave-data\\\\2024-07-15-22-33-27\\\\raw.fif\"\n",
    "# input_file = \"C:\\\\dev\\\\play\\\\brainwave-data\\\\2024-07-15-22-33-27\\\\raw.fif\"\n",
    "input_file = \"C:\\\\dev\\\\play\\\\brainwave-data\\\\2024-11-21-21-15-26\\\\raw.fif\"\n",
    "input_file_without_ext = os.path.splitext(input_file)[0]\n",
    "input_dir = \"C:\\\\dev\\\\play\\\\brainwave-data\"\n",
    "stats_df = pd.read_csv(input_dir + os.path.sep + \"stats.csv\")\n",
    "\n"
   ],
   "id": "38badb0fe1b17412",
   "outputs": [],
   "execution_count": 2
  },
  {
   "metadata": {
    "ExecuteTime": {
     "end_time": "2024-11-29T07:31:46.975006Z",
     "start_time": "2024-11-29T07:31:45.094124Z"
    }
   },
   "cell_type": "code",
   "source": [
    "import run_feature_pipeline\n",
    "# df = run_feature_pipeline.cached_pipeline(log, input_file, stats_df, )\n",
    "df = run_feature_pipeline.pipeline(log, input_file, stats_df)\n",
    "df"
   ],
   "id": "a0b46a47302eaee2",
   "outputs": [
    {
     "name": "stderr",
     "output_type": "stream",
     "text": [
      "\n",
      "KeyboardInterrupt\n",
      "\n"
     ]
    }
   ],
   "execution_count": 3
  },
  {
   "metadata": {},
   "cell_type": "code",
   "source": "[col for col in df.columns if 'sigmaabsaa_s' in col]",
   "id": "d7a6acecf628d41c",
   "outputs": [],
   "execution_count": null
  },
  {
   "metadata": {},
   "cell_type": "code",
   "source": "df['Main_eeg_sigmaabsaa_s'].describe()",
   "id": "45992493e505c499",
   "outputs": [],
   "execution_count": null
  },
  {
   "metadata": {},
   "cell_type": "code",
   "source": [
    "from upload import upload_dir_to_gcs_skipping_existing\n",
    "\n",
    "full_dir_name = os.path.dirname(input_file)\n",
    "dir_name = os.path.basename(full_dir_name)\n",
    "display(full_dir_name)\n",
    "display(dir_name)\n",
    "upload_dir_to_gcs_skipping_existing(log, 'examined-life-derived-eeg', full_dir_name, dir_name)"
   ],
   "id": "56745f4aeaf5b1f3",
   "outputs": [],
   "execution_count": null
  },
  {
   "metadata": {},
   "cell_type": "markdown",
   "source": "# Testing potential pipeline enhancements",
   "id": "97a23350d47df437"
  },
  {
   "metadata": {},
   "cell_type": "markdown",
   "source": "",
   "id": "f12246d497b7393a"
  }
 ],
 "metadata": {
  "kernelspec": {
   "display_name": "Python 3",
   "language": "python",
   "name": "python3"
  },
  "language_info": {
   "codemirror_mode": {
    "name": "ipython",
    "version": 2
   },
   "file_extension": ".py",
   "mimetype": "text/x-python",
   "name": "python",
   "nbconvert_exporter": "python",
   "pygments_lexer": "ipython2",
   "version": "2.7.6"
  }
 },
 "nbformat": 4,
 "nbformat_minor": 5
}
