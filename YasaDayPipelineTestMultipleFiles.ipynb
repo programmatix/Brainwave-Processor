{
 "cells": [
  {
   "metadata": {
    "ExecuteTime": {
     "end_time": "2024-11-16T11:28:27.927913Z",
     "start_time": "2024-11-16T11:28:27.853822Z"
    }
   },
   "cell_type": "code",
   "source": [
    "import tqdm\n",
    "# Autoreload possibly interferes with IntelliJ debugging\n",
    "%reload_ext autoreload\n",
    "%autoreload 2\n",
    "import logging\n",
    "class FlushHandler(logging.StreamHandler):\n",
    "    def emit(self, record):\n",
    "        super().emit(record)\n",
    "        self.flush()\n",
    "\n",
    "logging.basicConfig(level=logging.INFO, format='%(asctime)s - %(levelname)s - %(message)s', handlers=[FlushHandler()])\n",
    "log = lambda msg: logging.info(msg)\n"
   ],
   "id": "34b2ec6a149ab9b1",
   "outputs": [],
   "execution_count": 1
  },
  {
   "metadata": {},
   "cell_type": "markdown",
   "source": "# Full pipeline (multiple files)",
   "id": "2177b708d94480ca"
  },
  {
   "metadata": {
    "ExecuteTime": {
     "end_time": "2024-11-16T11:28:28.003433Z",
     "start_time": "2024-11-16T11:28:27.938898Z"
    }
   },
   "cell_type": "code",
   "source": [
    "import pandas as pd\n",
    "import os\n",
    "\n",
    "input_dir = \"C:\\\\dev\\\\play\\\\brainwave-data-day\"\n",
    "stats_df = pd.read_csv(input_dir + os.path.sep + \"day_stats.csv\")\n",
    "# stats_df = pd.read_csv(\"C:\\\\dev\\\\play\\\\brainwave-data\\\\stats.csv\")"
   ],
   "id": "4b29301dac33b36d",
   "outputs": [],
   "execution_count": 2
  },
  {
   "metadata": {},
   "cell_type": "markdown",
   "source": "## Convert Brainflow files to FIF",
   "id": "6558e15223cc8efc"
  },
  {
   "metadata": {
    "ExecuteTime": {
     "end_time": "2024-11-16T11:28:28.803960Z",
     "start_time": "2024-11-16T11:28:28.079984Z"
    }
   },
   "cell_type": "code",
   "source": [
    "def get_brainflow_compressed_filename(full_input_filename: str) -> str:\n",
    "    full_output_dirname = webserver.output_dirname(full_input_filename)\n",
    "    compressed_full_output_filename = str(os.path.join(full_output_dirname, os.path.basename(full_input_filename))) + '.bz2'\n",
    "    return compressed_full_output_filename"
   ],
   "id": "e93d35cf861b09fa",
   "outputs": [],
   "execution_count": 3
  },
  {
   "metadata": {
    "ExecuteTime": {
     "end_time": "2024-11-16T11:28:49.187065Z",
     "start_time": "2024-11-16T11:28:29.350848Z"
    }
   },
   "cell_type": "code",
   "source": [
    "from datetime import datetime\n",
    "\n",
    "import webserver\n",
    "import convert\n",
    "# import zstandard as zstd\n",
    "import os\n",
    "import bz2\n",
    "import time\n",
    "import shutil\n",
    "from tqdm.notebook import trange, tqdm\n",
    "\n",
    "errors = []\n",
    "processed = []\n",
    "\n",
    "# Could get these working later\n",
    "skip_list = []\n",
    "\n",
    "def compress_bz2(input_file, output_file):\n",
    "    start_time = time.time()\n",
    "    with open(input_file, 'rb') as f_in:\n",
    "        with bz2.open(output_file, 'wb', compresslevel=9) as f_out:\n",
    "            shutil.copyfileobj(f_in, f_out)\n",
    "    end_time = time.time()\n",
    "    return end_time - start_time, os.path.getsize(output_file)\n",
    "\n",
    "for root, dirs, files in os.walk(input_dir):\n",
    "    files = [file for file in files if file.endswith(\".brainflow.csv\")]\n",
    "    # Exclude the last file, which we assume to be the most recent, and possibly still being written\n",
    "    for idx, file_name in tqdm(enumerate(files[:-1]), desc=\"Processing directories\", total=len(files) - 1):  \n",
    "        full_input_filename = os.path.join(root, file_name)\n",
    "        try:\n",
    "            full_output_dirname = webserver.output_dirname(full_input_filename)\n",
    "            full_output_filename = str(os.path.join(full_output_dirname, 'raw.fif'))\n",
    "            \n",
    "            compressed_full_output_filename = get_brainflow_compressed_filename(full_input_filename)\n",
    "            \n",
    "            if not os.path.exists(compressed_full_output_filename):\n",
    "                log(f\"Compressing file {full_input_filename} to \" + compressed_full_output_filename)\n",
    "                processed.append(\"Compressing \" + full_input_filename)\n",
    "                try:\n",
    "                    os.mkdir(os.path.dirname(compressed_full_output_filename))\n",
    "                except:\n",
    "                    pass\n",
    "                compress_bz2(full_input_filename, compressed_full_output_filename) \n",
    "                \n",
    "            if os.path.exists(full_output_filename):\n",
    "                log(f\"Skipping file {full_input_filename} as {full_output_filename} and {compressed_full_output_filename} already exist\")\n",
    "                continue\n",
    "            should_skip = False\n",
    "            for s in skip_list:\n",
    "                if s in full_input_filename:\n",
    "                    log(f\"Skipping file {full_input_filename}\")\n",
    "                    should_skip = True\n",
    "            if not should_skip:\n",
    "                log(f\"Processing file {full_input_filename}\")\n",
    "                processed.append(\"Processing \" + full_input_filename)\n",
    "                channels = ['Fpz-M1']\n",
    "                date_time_str = os.path.basename(full_input_filename).removesuffix(\".brainflow.csv\")\n",
    "                date_time_obj = datetime.strptime(date_time_str, '%Y-%m-%d-%H-%M-%S')\n",
    "    \n",
    "                if channels is not None:\n",
    "                    log(f\"Processing file {full_input_filename} with channels {channels}\")\n",
    "                    convert.convert_and_save_brainflow_file(log, full_input_filename, full_output_filename, channels)\n",
    "\n",
    "        except Exception as e:\n",
    "            msg = \"Error processing file: \" + full_input_filename\n",
    "            log(msg)\n",
    "            log(e)\n",
    "            errors.append(msg)\n"
   ],
   "id": "21a84723f63a57a8",
   "outputs": [
    {
     "data": {
      "text/plain": [
       "Processing directories:   0%|          | 0/4 [00:00<?, ?it/s]"
      ],
      "application/vnd.jupyter.widget-view+json": {
       "version_major": 2,
       "version_minor": 0,
       "model_id": "ff1a6af5b6e94103ada5c1e4718a6d6a"
      }
     },
     "metadata": {},
     "output_type": "display_data"
    },
    {
     "name": "stderr",
     "output_type": "stream",
     "text": [
      "2024-11-16 11:28:35,519 - INFO - Skipping file C:\\dev\\play\\brainwave-data-day\\2024-11-15-09-10-50.brainflow.csv as C:\\dev\\play\\brainwave-data-day\\2024-11-15-09-10-50\\raw.fif and C:\\dev\\play\\brainwave-data-day\\2024-11-15-09-10-50\\2024-11-15-09-10-50.brainflow.csv.bz2 already exist\n",
      "2024-11-16 11:28:35,521 - INFO - Skipping file C:\\dev\\play\\brainwave-data-day\\2024-11-15-09-22-47.brainflow.csv as C:\\dev\\play\\brainwave-data-day\\2024-11-15-09-22-47\\raw.fif and C:\\dev\\play\\brainwave-data-day\\2024-11-15-09-22-47\\2024-11-15-09-22-47.brainflow.csv.bz2 already exist\n",
      "2024-11-16 11:28:35,522 - INFO - Skipping file C:\\dev\\play\\brainwave-data-day\\2024-11-15-09-26-33.brainflow.csv as C:\\dev\\play\\brainwave-data-day\\2024-11-15-09-26-33\\raw.fif and C:\\dev\\play\\brainwave-data-day\\2024-11-15-09-26-33\\2024-11-15-09-26-33.brainflow.csv.bz2 already exist\n",
      "2024-11-16 11:28:35,523 - INFO - Compressing file C:\\dev\\play\\brainwave-data-day\\2024-11-16-10-59-45.brainflow.csv to C:\\dev\\play\\brainwave-data-day\\2024-11-16-10-59-45\\2024-11-16-10-59-45.brainflow.csv.bz2\n",
      "2024-11-16 11:28:44,676 - INFO - Processing file C:\\dev\\play\\brainwave-data-day\\2024-11-16-10-59-45.brainflow.csv\n",
      "2024-11-16 11:28:44,677 - INFO - Processing file C:\\dev\\play\\brainwave-data-day\\2024-11-16-10-59-45.brainflow.csv with channels ['Fpz-M1']\n",
      "2024-11-16 11:28:44,794 - INFO - Memory Usage: 482.91 MB GC to 482.91 MB\n",
      "2024-11-16 11:28:44,795 - INFO - Reading Brainflow file C:\\dev\\play\\brainwave-data-day\\2024-11-16-10-59-45.brainflow.csv\n",
      "2024-11-16 11:28:49,066 - INFO - Error processing file: C:\\dev\\play\\brainwave-data-day\\2024-11-16-10-59-45.brainflow.csv\n",
      "2024-11-16 11:28:49,066 - INFO - exception: access violation writing 0x000001E355825000\n"
     ]
    },
    {
     "data": {
      "text/plain": [
       "Processing directories:   0%|          | 0/3 [00:00<?, ?it/s]"
      ],
      "application/vnd.jupyter.widget-view+json": {
       "version_major": 2,
       "version_minor": 0,
       "model_id": "86b205adc6e14d15a529756855db410e"
      }
     },
     "metadata": {},
     "output_type": "display_data"
    },
    {
     "data": {
      "text/plain": [
       "Processing directories:   0%|          | 0/3 [00:00<?, ?it/s]"
      ],
      "application/vnd.jupyter.widget-view+json": {
       "version_major": 2,
       "version_minor": 0,
       "model_id": "37289c45370945478308aceba0f81455"
      }
     },
     "metadata": {},
     "output_type": "display_data"
    },
    {
     "data": {
      "text/plain": [
       "Processing directories:   0%|          | 0/3 [00:00<?, ?it/s]"
      ],
      "application/vnd.jupyter.widget-view+json": {
       "version_major": 2,
       "version_minor": 0,
       "model_id": "3b03e0414d604b009b2c4cd9256e39f6"
      }
     },
     "metadata": {},
     "output_type": "display_data"
    }
   ],
   "execution_count": 4
  },
  {
   "metadata": {
    "ExecuteTime": {
     "end_time": "2024-11-16T11:28:49.323713Z",
     "start_time": "2024-11-16T11:28:49.199196Z"
    }
   },
   "cell_type": "code",
   "source": [
    "\n",
    "errors"
   ],
   "id": "b26100fa9d445409",
   "outputs": [
    {
     "data": {
      "text/plain": [
       "['Error processing file: C:\\\\dev\\\\play\\\\brainwave-data-day\\\\2024-11-16-10-59-45.brainflow.csv']"
      ]
     },
     "execution_count": 5,
     "metadata": {},
     "output_type": "execute_result"
    }
   ],
   "execution_count": 5
  },
  {
   "metadata": {
    "ExecuteTime": {
     "end_time": "2024-11-16T11:28:49.912199Z",
     "start_time": "2024-11-16T11:28:49.778628Z"
    }
   },
   "cell_type": "code",
   "source": "processed",
   "id": "5b5561ec7207ccd0",
   "outputs": [
    {
     "data": {
      "text/plain": [
       "['Compressing C:\\\\dev\\\\play\\\\brainwave-data-day\\\\2024-11-16-10-59-45.brainflow.csv',\n",
       " 'Processing C:\\\\dev\\\\play\\\\brainwave-data-day\\\\2024-11-16-10-59-45.brainflow.csv']"
      ]
     },
     "execution_count": 6,
     "metadata": {},
     "output_type": "execute_result"
    }
   ],
   "execution_count": 6
  },
  {
   "metadata": {},
   "cell_type": "markdown",
   "source": "## Run pipeline on FIF files",
   "id": "fd7176771a519eb7"
  },
  {
   "metadata": {
    "ExecuteTime": {
     "end_time": "2024-11-16T11:35:33.612099Z",
     "start_time": "2024-11-16T11:35:29.234785Z"
    }
   },
   "cell_type": "code",
   "source": [
    "import contextlib\n",
    "import io\n",
    "import run_day_pipeline\n",
    "import pandas as pd\n",
    "import os\n",
    "from concurrent.futures import ThreadPoolExecutor, as_completed\n",
    "from tqdm.notebook import trange, tqdm\n",
    "\n",
    "errors = []\n",
    "dataframes = []\n",
    "\n",
    "# Could get these working later\n",
    "skip_list = []\n",
    "\n",
    "def process_file(root, dir_name):\n",
    "    input_file = os.path.join(root, dir_name, \"raw.fif\")\n",
    "    if dir_name in skip_list:\n",
    "        log(f\"Skipping {dir_name}: \" + input_file)\n",
    "        return None\n",
    "    try:\n",
    "        log(f\"Processing file: \" + input_file)\n",
    "        if os.path.exists(input_file):\n",
    "            yasa_df = run_day_pipeline.cached_pipeline(log, input_file, stats_df)\n",
    "            #log(f\"Returning {yasa_df.head()}\")\n",
    "            return yasa_df\n",
    "    except Exception as e:\n",
    "        msg = f\"Error processing file: \" + input_file + \" - \" + str(e)\n",
    "        log(msg)\n",
    "        errors.append(msg)\n",
    "        log(e)\n",
    "    return None\n",
    "\n",
    "for root, dirs, files in os.walk(input_dir):\n",
    "    for dir_name in tqdm(dirs, desc=\"Processing directories\", total=len(dirs)):\n",
    "        output_buffer = io.StringIO()\n",
    "        with contextlib.redirect_stdout(output_buffer), contextlib.redirect_stderr(output_buffer):\n",
    "            df = process_file(root, dir_name)\n",
    "            if df is not None:\n",
    "                dataframes.append(df)\n",
    "\n",
    "all = pd.concat(dataframes)\n",
    "log(f\"Finished processing, have {len(all)} files in total\")"
   ],
   "id": "92b7b91355d9b1f7",
   "outputs": [
    {
     "data": {
      "text/plain": [
       "Processing directories:   0%|          | 0/3 [00:00<?, ?it/s]"
      ],
      "application/vnd.jupyter.widget-view+json": {
       "version_major": 2,
       "version_minor": 0,
       "model_id": "02c0969a265047a886cac31f67abe3d2"
      }
     },
     "metadata": {},
     "output_type": "display_data"
    },
    {
     "name": "stderr",
     "output_type": "stream",
     "text": [
      "2024-11-16 11:35:29,418 - INFO - Processing file: C:\\dev\\play\\brainwave-data-day\\2024-11-15-09-10-50\\raw.fif\n",
      "2024-11-16 11:35:29,420 - INFO - Loading cached file C:\\dev\\play\\brainwave-data-day\\2024-11-15-09-10-50\\raw.output.csv\n",
      "2024-11-16 11:35:29,431 - INFO - Cached file C:\\dev\\play\\brainwave-data-day\\2024-11-15-09-10-50\\raw.output.csv is missing DayEnergy, rebuilding\n",
      "2024-11-16 11:35:29,432 - INFO - Loading MNE file C:\\dev\\play\\brainwave-data-day\\2024-11-15-09-10-50\\raw.fif\n",
      "2024-11-16 11:35:29,433 - INFO - Reading file C:\\dev\\play\\brainwave-data-day\\2024-11-15-09-10-50\\raw.fif\n",
      "2024-11-16 11:35:29,456 - INFO - Finished reading file C:\\dev\\play\\brainwave-data-day\\2024-11-15-09-10-50\\raw.fif\n",
      "2024-11-16 11:35:29,520 - INFO - Start date: 2024-11-15 09:10:50.479561+00:00 end 2024-11-15 09:22:06.719561+00:00 duration 0:11:16.240000 channels: ['Fpz-M1'] sfreq: 250.0\n",
      "2024-11-16 11:35:29,657 - INFO - Memory Usage: 505.71 MB GC to 505.71 MB\n",
      "2024-11-16 11:35:29,658 - INFO - Saving as EDF\n",
      "2024-11-16 11:35:29,829 - INFO - Memory Usage: 511.56 MB GC to 511.56 MB\n",
      "2024-11-16 11:35:29,830 - INFO - Extracting YASA features\n",
      "2024-11-16 11:35:30,085 - INFO - All done! C:\\dev\\play\\brainwave-data-day\\2024-11-15-09-10-50\\raw.fif\n",
      "2024-11-16 11:35:30,088 - INFO - Processing file: C:\\dev\\play\\brainwave-data-day\\2024-11-15-09-22-47\\raw.fif\n",
      "2024-11-16 11:35:30,089 - INFO - Loading cached file C:\\dev\\play\\brainwave-data-day\\2024-11-15-09-22-47\\raw.output.csv\n",
      "2024-11-16 11:35:30,103 - INFO - Cached file C:\\dev\\play\\brainwave-data-day\\2024-11-15-09-22-47\\raw.output.csv is missing DayEnergy, rebuilding\n",
      "2024-11-16 11:35:30,104 - INFO - Loading MNE file C:\\dev\\play\\brainwave-data-day\\2024-11-15-09-22-47\\raw.fif\n",
      "2024-11-16 11:35:30,105 - INFO - Reading file C:\\dev\\play\\brainwave-data-day\\2024-11-15-09-22-47\\raw.fif\n",
      "2024-11-16 11:35:30,110 - INFO - Finished reading file C:\\dev\\play\\brainwave-data-day\\2024-11-15-09-22-47\\raw.fif\n",
      "2024-11-16 11:35:30,127 - INFO - Start date: 2024-11-15 09:22:47.870794+00:00 end 2024-11-15 09:25:47.278794+00:00 duration 0:02:59.408000 channels: ['Fpz-M1'] sfreq: 250.0\n",
      "2024-11-16 11:35:30,265 - INFO - Memory Usage: 514.33 MB GC to 514.33 MB\n",
      "2024-11-16 11:35:30,266 - INFO - Saving as EDF\n",
      "2024-11-16 11:35:30,416 - INFO - Memory Usage: 517.34 MB GC to 517.34 MB\n",
      "2024-11-16 11:35:30,417 - INFO - Extracting YASA features\n",
      "2024-11-16 11:35:30,596 - INFO - All done! C:\\dev\\play\\brainwave-data-day\\2024-11-15-09-22-47\\raw.fif\n",
      "2024-11-16 11:35:30,599 - INFO - Processing file: C:\\dev\\play\\brainwave-data-day\\2024-11-15-09-26-33\\raw.fif\n",
      "2024-11-16 11:35:30,601 - INFO - Loading cached file C:\\dev\\play\\brainwave-data-day\\2024-11-15-09-26-33\\raw.output.csv\n",
      "2024-11-16 11:35:30,635 - INFO - Cached file C:\\dev\\play\\brainwave-data-day\\2024-11-15-09-26-33\\raw.output.csv is missing DayEnergy, rebuilding\n",
      "2024-11-16 11:35:30,635 - INFO - Loading MNE file C:\\dev\\play\\brainwave-data-day\\2024-11-15-09-26-33\\raw.fif\n",
      "2024-11-16 11:35:30,637 - INFO - Reading file C:\\dev\\play\\brainwave-data-day\\2024-11-15-09-26-33\\raw.fif\n",
      "2024-11-16 11:35:30,794 - INFO - Finished reading file C:\\dev\\play\\brainwave-data-day\\2024-11-15-09-26-33\\raw.fif\n",
      "2024-11-16 11:35:31,086 - INFO - Start date: 2024-11-15 09:26:33.913368+00:00 end 2024-11-15 11:48:58.029368+00:00 duration 2:22:24.116000 channels: ['Fpz-M1'] sfreq: 250.0\n",
      "2024-11-16 11:35:31,221 - INFO - Memory Usage: 558.88 MB GC to 558.88 MB\n",
      "2024-11-16 11:35:31,224 - INFO - Saving as EDF\n",
      "2024-11-16 11:35:32,245 - INFO - Memory Usage: 695.40 MB GC to 695.40 MB\n",
      "2024-11-16 11:35:32,246 - INFO - Extracting YASA features\n",
      "2024-11-16 11:35:33,331 - INFO - All done! C:\\dev\\play\\brainwave-data-day\\2024-11-15-09-26-33\\raw.fif\n"
     ]
    },
    {
     "data": {
      "text/plain": [
       "Processing directories: 0it [00:00, ?it/s]"
      ],
      "application/vnd.jupyter.widget-view+json": {
       "version_major": 2,
       "version_minor": 0,
       "model_id": "b866d9398fe24105a2d601d3bc1db58d"
      }
     },
     "metadata": {},
     "output_type": "display_data"
    },
    {
     "data": {
      "text/plain": [
       "Processing directories: 0it [00:00, ?it/s]"
      ],
      "application/vnd.jupyter.widget-view+json": {
       "version_major": 2,
       "version_minor": 0,
       "model_id": "583e1bee90a442e3840c810d1ccb591d"
      }
     },
     "metadata": {},
     "output_type": "display_data"
    },
    {
     "data": {
      "text/plain": [
       "Processing directories: 0it [00:00, ?it/s]"
      ],
      "application/vnd.jupyter.widget-view+json": {
       "version_major": 2,
       "version_minor": 0,
       "model_id": "ff7edc64860b4af0967e8f513111cc01"
      }
     },
     "metadata": {},
     "output_type": "display_data"
    },
    {
     "ename": "ValueError",
     "evalue": "No objects to concatenate",
     "output_type": "error",
     "traceback": [
      "\u001B[1;31m---------------------------------------------------------------------------\u001B[0m",
      "\u001B[1;31mValueError\u001B[0m                                Traceback (most recent call last)",
      "Cell \u001B[1;32mIn[17], line 41\u001B[0m\n\u001B[0;32m     38\u001B[0m             \u001B[38;5;28;01mif\u001B[39;00m df \u001B[38;5;129;01mis\u001B[39;00m \u001B[38;5;129;01mnot\u001B[39;00m \u001B[38;5;28;01mNone\u001B[39;00m:\n\u001B[0;32m     39\u001B[0m                 dataframes\u001B[38;5;241m.\u001B[39mappend(df)\n\u001B[1;32m---> 41\u001B[0m \u001B[38;5;28mall\u001B[39m \u001B[38;5;241m=\u001B[39m \u001B[43mpd\u001B[49m\u001B[38;5;241;43m.\u001B[39;49m\u001B[43mconcat\u001B[49m\u001B[43m(\u001B[49m\u001B[43mdataframes\u001B[49m\u001B[43m)\u001B[49m\n\u001B[0;32m     42\u001B[0m log(\u001B[38;5;124mf\u001B[39m\u001B[38;5;124m\"\u001B[39m\u001B[38;5;124mFinished processing, have \u001B[39m\u001B[38;5;132;01m{\u001B[39;00m\u001B[38;5;28mlen\u001B[39m(\u001B[38;5;28mall\u001B[39m)\u001B[38;5;132;01m}\u001B[39;00m\u001B[38;5;124m files in total\u001B[39m\u001B[38;5;124m\"\u001B[39m)\n",
      "File \u001B[1;32m~\\.conda\\envs\\tf\\lib\\site-packages\\pandas\\core\\reshape\\concat.py:382\u001B[0m, in \u001B[0;36mconcat\u001B[1;34m(objs, axis, join, ignore_index, keys, levels, names, verify_integrity, sort, copy)\u001B[0m\n\u001B[0;32m    379\u001B[0m \u001B[38;5;28;01melif\u001B[39;00m copy \u001B[38;5;129;01mand\u001B[39;00m using_copy_on_write():\n\u001B[0;32m    380\u001B[0m     copy \u001B[38;5;241m=\u001B[39m \u001B[38;5;28;01mFalse\u001B[39;00m\n\u001B[1;32m--> 382\u001B[0m op \u001B[38;5;241m=\u001B[39m \u001B[43m_Concatenator\u001B[49m\u001B[43m(\u001B[49m\n\u001B[0;32m    383\u001B[0m \u001B[43m    \u001B[49m\u001B[43mobjs\u001B[49m\u001B[43m,\u001B[49m\n\u001B[0;32m    384\u001B[0m \u001B[43m    \u001B[49m\u001B[43maxis\u001B[49m\u001B[38;5;241;43m=\u001B[39;49m\u001B[43maxis\u001B[49m\u001B[43m,\u001B[49m\n\u001B[0;32m    385\u001B[0m \u001B[43m    \u001B[49m\u001B[43mignore_index\u001B[49m\u001B[38;5;241;43m=\u001B[39;49m\u001B[43mignore_index\u001B[49m\u001B[43m,\u001B[49m\n\u001B[0;32m    386\u001B[0m \u001B[43m    \u001B[49m\u001B[43mjoin\u001B[49m\u001B[38;5;241;43m=\u001B[39;49m\u001B[43mjoin\u001B[49m\u001B[43m,\u001B[49m\n\u001B[0;32m    387\u001B[0m \u001B[43m    \u001B[49m\u001B[43mkeys\u001B[49m\u001B[38;5;241;43m=\u001B[39;49m\u001B[43mkeys\u001B[49m\u001B[43m,\u001B[49m\n\u001B[0;32m    388\u001B[0m \u001B[43m    \u001B[49m\u001B[43mlevels\u001B[49m\u001B[38;5;241;43m=\u001B[39;49m\u001B[43mlevels\u001B[49m\u001B[43m,\u001B[49m\n\u001B[0;32m    389\u001B[0m \u001B[43m    \u001B[49m\u001B[43mnames\u001B[49m\u001B[38;5;241;43m=\u001B[39;49m\u001B[43mnames\u001B[49m\u001B[43m,\u001B[49m\n\u001B[0;32m    390\u001B[0m \u001B[43m    \u001B[49m\u001B[43mverify_integrity\u001B[49m\u001B[38;5;241;43m=\u001B[39;49m\u001B[43mverify_integrity\u001B[49m\u001B[43m,\u001B[49m\n\u001B[0;32m    391\u001B[0m \u001B[43m    \u001B[49m\u001B[43mcopy\u001B[49m\u001B[38;5;241;43m=\u001B[39;49m\u001B[43mcopy\u001B[49m\u001B[43m,\u001B[49m\n\u001B[0;32m    392\u001B[0m \u001B[43m    \u001B[49m\u001B[43msort\u001B[49m\u001B[38;5;241;43m=\u001B[39;49m\u001B[43msort\u001B[49m\u001B[43m,\u001B[49m\n\u001B[0;32m    393\u001B[0m \u001B[43m\u001B[49m\u001B[43m)\u001B[49m\n\u001B[0;32m    395\u001B[0m \u001B[38;5;28;01mreturn\u001B[39;00m op\u001B[38;5;241m.\u001B[39mget_result()\n",
      "File \u001B[1;32m~\\.conda\\envs\\tf\\lib\\site-packages\\pandas\\core\\reshape\\concat.py:445\u001B[0m, in \u001B[0;36m_Concatenator.__init__\u001B[1;34m(self, objs, axis, join, keys, levels, names, ignore_index, verify_integrity, copy, sort)\u001B[0m\n\u001B[0;32m    442\u001B[0m \u001B[38;5;28mself\u001B[39m\u001B[38;5;241m.\u001B[39mverify_integrity \u001B[38;5;241m=\u001B[39m verify_integrity\n\u001B[0;32m    443\u001B[0m \u001B[38;5;28mself\u001B[39m\u001B[38;5;241m.\u001B[39mcopy \u001B[38;5;241m=\u001B[39m copy\n\u001B[1;32m--> 445\u001B[0m objs, keys \u001B[38;5;241m=\u001B[39m \u001B[38;5;28;43mself\u001B[39;49m\u001B[38;5;241;43m.\u001B[39;49m\u001B[43m_clean_keys_and_objs\u001B[49m\u001B[43m(\u001B[49m\u001B[43mobjs\u001B[49m\u001B[43m,\u001B[49m\u001B[43m \u001B[49m\u001B[43mkeys\u001B[49m\u001B[43m)\u001B[49m\n\u001B[0;32m    447\u001B[0m \u001B[38;5;66;03m# figure out what our result ndim is going to be\u001B[39;00m\n\u001B[0;32m    448\u001B[0m ndims \u001B[38;5;241m=\u001B[39m \u001B[38;5;28mself\u001B[39m\u001B[38;5;241m.\u001B[39m_get_ndims(objs)\n",
      "File \u001B[1;32m~\\.conda\\envs\\tf\\lib\\site-packages\\pandas\\core\\reshape\\concat.py:507\u001B[0m, in \u001B[0;36m_Concatenator._clean_keys_and_objs\u001B[1;34m(self, objs, keys)\u001B[0m\n\u001B[0;32m    504\u001B[0m     objs_list \u001B[38;5;241m=\u001B[39m \u001B[38;5;28mlist\u001B[39m(objs)\n\u001B[0;32m    506\u001B[0m \u001B[38;5;28;01mif\u001B[39;00m \u001B[38;5;28mlen\u001B[39m(objs_list) \u001B[38;5;241m==\u001B[39m \u001B[38;5;241m0\u001B[39m:\n\u001B[1;32m--> 507\u001B[0m     \u001B[38;5;28;01mraise\u001B[39;00m \u001B[38;5;167;01mValueError\u001B[39;00m(\u001B[38;5;124m\"\u001B[39m\u001B[38;5;124mNo objects to concatenate\u001B[39m\u001B[38;5;124m\"\u001B[39m)\n\u001B[0;32m    509\u001B[0m \u001B[38;5;28;01mif\u001B[39;00m keys \u001B[38;5;129;01mis\u001B[39;00m \u001B[38;5;28;01mNone\u001B[39;00m:\n\u001B[0;32m    510\u001B[0m     objs_list \u001B[38;5;241m=\u001B[39m \u001B[38;5;28mlist\u001B[39m(com\u001B[38;5;241m.\u001B[39mnot_none(\u001B[38;5;241m*\u001B[39mobjs_list))\n",
      "\u001B[1;31mValueError\u001B[0m: No objects to concatenate"
     ]
    }
   ],
   "execution_count": 17
  },
  {
   "metadata": {
    "ExecuteTime": {
     "end_time": "2024-11-16T11:28:50.321181Z",
     "start_time": "2024-11-16T11:28:50.178319Z"
    }
   },
   "cell_type": "code",
   "source": "dataframes",
   "id": "15154612e4a627df",
   "outputs": [
    {
     "data": {
      "text/plain": [
       "[    epoch                          TimestampUK  Fpz-M1_eeg_abspow  \\\n",
       " 0       0  2024-11-15 09:10:50.479561090+00:00       7.072715e-09   \n",
       " 1       1  2024-11-15 09:11:20.479561090+00:00       2.076430e-09   \n",
       " 2       2  2024-11-15 09:11:50.479561090+00:00       4.383291e-09   \n",
       " 3       3  2024-11-15 09:12:20.479561090+00:00       1.534609e-09   \n",
       " 4       4  2024-11-15 09:12:50.479561090+00:00       3.456014e-09   \n",
       " 5       5  2024-11-15 09:13:20.479561090+00:00       1.229371e-09   \n",
       " 6       6  2024-11-15 09:13:50.479561090+00:00       1.208887e-09   \n",
       " 7       7  2024-11-15 09:14:20.479561090+00:00       6.455377e-09   \n",
       " 8       8  2024-11-15 09:14:50.479561090+00:00       6.425787e-09   \n",
       " 9       9  2024-11-15 09:15:20.479561090+00:00       5.458992e-09   \n",
       " 10     10  2024-11-15 09:15:50.479561090+00:00       3.031416e-09   \n",
       " 11     11  2024-11-15 09:16:20.479561090+00:00       2.131056e-09   \n",
       " 12     12  2024-11-15 09:16:50.479561090+00:00       3.173361e-09   \n",
       " 13     13  2024-11-15 09:17:20.479561090+00:00       2.336236e-09   \n",
       " 14     14  2024-11-15 09:17:50.479561090+00:00       2.513106e-09   \n",
       " 15     15  2024-11-15 09:18:20.479561090+00:00       3.996688e-09   \n",
       " 16     16  2024-11-15 09:18:50.479561090+00:00       1.776823e-09   \n",
       " 17     17  2024-11-15 09:19:20.479561090+00:00       3.473106e-09   \n",
       " 18     18  2024-11-15 09:19:50.479561090+00:00       1.545164e-09   \n",
       " 19     19  2024-11-15 09:20:20.479561090+00:00       1.221765e-09   \n",
       " 20     20  2024-11-15 09:20:50.479561090+00:00       2.790063e-09   \n",
       " 21     21  2024-11-15 09:21:20.479561090+00:00       1.703766e-09   \n",
       " \n",
       "     Fpz-M1_eeg_abspow_c7min_norm  Fpz-M1_eeg_abspow_p2min_norm  \\\n",
       " 0                       0.155163                      1.186594   \n",
       " 1                       0.059034                      0.463656   \n",
       " 2                       0.057731                      0.445204   \n",
       " 3                       0.027714                      0.229883   \n",
       " 4                       0.033122                     -0.031776   \n",
       " 5                       0.034908                     -0.093059   \n",
       " 6                       0.074112                     -0.322719   \n",
       " 7                       0.151462                      0.033286   \n",
       " 8                       0.169624                      0.248142   \n",
       " 9                       0.143733                      0.554145   \n",
       " 10                      0.058749                      0.686001   \n",
       " 11                     -0.027714                      0.373147   \n",
       " 12                     -0.130752                      0.137841   \n",
       " 13                     -0.234898                     -0.088082   \n",
       " 14                     -0.358189                     -0.125581   \n",
       " 15                     -0.493434                      0.009393   \n",
       " 16                     -0.621547                     -0.091643   \n",
       " 17                     -0.694852                     -0.009393   \n",
       " 18                     -0.765157                     -0.079421   \n",
       " 19                     -0.815498                     -0.280180   \n",
       " 20                     -0.846576                     -0.206875   \n",
       " 21                     -0.892334                     -0.334882   \n",
       " \n",
       "     Fpz-M1_eeg_alpha  Fpz-M1_eeg_alpha_c7min_norm  \\\n",
       " 0           0.012408                    -0.441512   \n",
       " 1           0.017996                    -0.463431   \n",
       " 2           0.006967                    -0.537483   \n",
       " 3           0.014031                    -0.403262   \n",
       " 4           0.011661                    -0.262787   \n",
       " 5           0.016853                    -0.032513   \n",
       " 6           0.014040                     0.070771   \n",
       " 7           0.009201                     0.185684   \n",
       " 8           0.012039                     0.343572   \n",
       " 9           0.018902                     0.534116   \n",
       " 10          0.015735                     0.597054   \n",
       " 11          0.017129                     0.537852   \n",
       " 12          0.019112                     0.494167   \n",
       " 13          0.010330                     0.311875   \n",
       " 14          0.015745                     0.207513   \n",
       " 15          0.008468                     0.063040   \n",
       " 16          0.014630                    -0.018112   \n",
       " 17          0.008247                    -0.149114   \n",
       " 18          0.013438                    -0.088781   \n",
       " 19          0.021633                     0.018112   \n",
       " 20          0.014007                    -0.051100   \n",
       " 21          0.010866                    -0.052029   \n",
       " \n",
       "     Fpz-M1_eeg_alpha_p2min_norm  Fpz-M1_eeg_alphaaa  \\\n",
       " 0                     -0.259280            0.017858   \n",
       " 1                      0.416601            0.026784   \n",
       " 2                     -0.247380            0.010442   \n",
       " 3                     -0.152210            0.022444   \n",
       " 4                     -0.197386            0.016679   \n",
       " 5                     -0.266527            0.025717   \n",
       " 6                      0.161199            0.025599   \n",
       " 7                     -0.130869            0.013683   \n",
       " 8                     -0.107969            0.017416   \n",
       " 9                      0.015945            0.024025   \n",
       " 10                     0.118435            0.021745   \n",
       " 11                     0.597845            0.024180   \n",
       " 12                     1.025562            0.025045   \n",
       " 13                     0.507170            0.017971   \n",
       " 14                     0.507787            0.022094   \n",
       " 15                    -0.015945            0.013334   \n",
       " 16                    -0.287029            0.022919   \n",
       " 17                    -0.412955            0.013674   \n",
       " 18                    -0.552487            0.024933   \n",
       " 19                     0.243597            0.035581   \n",
       " 20                     0.205941            0.022208   \n",
       " 21                     0.364332            0.020864   \n",
       " \n",
       "     Fpz-M1_eeg_alphaaa_c7min_norm  ...  Main_eeg_thetaab_p2min_norm_s  \\\n",
       " 0                       -0.389062  ...                       0.933191   \n",
       " 1                       -0.373252  ...                       0.351043   \n",
       " 2                       -0.426132  ...                       0.302478   \n",
       " 3                       -0.343588  ...                       0.393451   \n",
       " 4                       -0.278007  ...                       0.157906   \n",
       " 5                       -0.156359  ...                       0.106308   \n",
       " 6                       -0.111443  ...                       0.512764   \n",
       " 7                       -0.111680  ...                       0.556663   \n",
       " 8                       -0.077937  ...                       0.437637   \n",
       " 9                       -0.013813  ...                       0.744319   \n",
       " 10                       0.011516  ...                       0.563188   \n",
       " 11                      -0.004626  ...                       0.482729   \n",
       " 12                       0.028627  ...                       0.776937   \n",
       " 13                       0.004626  ...                       1.136054   \n",
       " 14                       0.035002  ...                       1.002582   \n",
       " 15                       0.079049  ...                       1.060153   \n",
       " 16                       0.169654  ...                       0.961946   \n",
       " 17                       0.229266  ...                       0.180449   \n",
       " 18                       0.408050  ...                      -0.067017   \n",
       " 19                       0.580615  ...                      -0.242639   \n",
       " 20                       0.613366  ...                      -0.043595   \n",
       " 21                       0.689974  ...                       1.360962   \n",
       " \n",
       "     Main_eeg_thetaabs_s  Main_eeg_thetaabs_c7min_norm_s  \\\n",
       " 0              8.659223                        0.186914   \n",
       " 1              3.110920                        0.071126   \n",
       " 2              4.238875                        0.091098   \n",
       " 3              1.159161                        0.099428   \n",
       " 4              3.059041                        0.176791   \n",
       " 5              1.658081                        0.280950   \n",
       " 6              1.255020                        0.419977   \n",
       " 7              8.889608                        0.620981   \n",
       " 8              8.266128                        0.703049   \n",
       " 9              8.755157                        0.716351   \n",
       " 10             3.886303                        0.604572   \n",
       " 11             3.450736                        0.475731   \n",
       " 12             4.720156                        0.293107   \n",
       " 13             2.477084                        0.079237   \n",
       " 14             3.622250                       -0.151845   \n",
       " 15             3.563519                       -0.414307   \n",
       " 16             2.249417                       -0.623148   \n",
       " 17             4.170496                       -0.756573   \n",
       " 18             2.138320                       -0.858018   \n",
       " 19             1.344110                       -0.938715   \n",
       " 20             3.825891                       -0.976071   \n",
       " 21             1.888629                       -1.031837   \n",
       " \n",
       "     Main_eeg_thetaabs_p2min_norm_s  Main_eeg_thetaabsaa_s  \\\n",
       " 0                         1.813158               6.655437   \n",
       " 1                         0.871326               2.436167   \n",
       " 2                         0.685031               3.100316   \n",
       " 3                         0.330490               0.967333   \n",
       " 4                        -0.144829               2.410881   \n",
       " 5                        -0.268140               1.277616   \n",
       " 6                        -0.521396               0.997867   \n",
       " 7                         0.134730               6.473762   \n",
       " 8                         0.576685               6.297091   \n",
       " 9                         1.179054               6.742061   \n",
       " 10                        1.402386               3.011297   \n",
       " 11                        0.940758               2.625568   \n",
       " 12                        0.639791               3.675368   \n",
       " 13                        0.106936               1.889625   \n",
       " 14                        0.084524               2.767140   \n",
       " 15                        0.094097               2.711467   \n",
       " 16                       -0.115609               1.756754   \n",
       " 17                        0.028121               3.081815   \n",
       " 18                       -0.097829               1.658405   \n",
       " 19                       -0.286203               1.161957   \n",
       " 20                       -0.152398               2.941476   \n",
       " 21                       -0.346073               1.437747   \n",
       " \n",
       "     Main_eeg_thetaabsaa_c7min_norm_s  Main_eeg_thetaabsaa_p2min_norm_s  \\\n",
       " 0                           0.224610                          1.869854   \n",
       " 1                           0.098082                          0.919893   \n",
       " 2                           0.111331                          0.702927   \n",
       " 3                           0.120250                          0.354325   \n",
       " 4                           0.196580                         -0.123502   \n",
       " 5                           0.299227                         -0.253925   \n",
       " 6                           0.437323                         -0.490606   \n",
       " 7                           0.637565                          0.129275   \n",
       " 8                           0.726055                          0.566762   \n",
       " 9                           0.746017                          1.181917   \n",
       " 10                          0.635445                          1.408577   \n",
       " 11                          0.504162                          0.975370   \n",
       " 12                          0.321724                          0.680232   \n",
       " 13                          0.106539                          0.133974   \n",
       " 14                         -0.126078                          0.106488   \n",
       " 15                         -0.389978                          0.116158   \n",
       " 16                         -0.603622                         -0.099829   \n",
       " 17                         -0.741529                          0.034381   \n",
       " 18                         -0.841566                         -0.090433   \n",
       " 19                         -0.919500                         -0.264868   \n",
       " 20                         -0.958251                         -0.131499   \n",
       " 21                         -1.014553                         -0.316579   \n",
       " \n",
       "     Main_eeg_thetaabsab_s  Main_eeg_thetaabsab_c7min_norm_s  \\\n",
       " 0                5.111267                          0.420865   \n",
       " 1                1.427058                          0.237766   \n",
       " 2                3.115556                          0.224837   \n",
       " 3                1.029705                          0.162226   \n",
       " 4                2.371310                          0.164572   \n",
       " 5                0.801729                          0.164013   \n",
       " 6                0.820543                          0.230935   \n",
       " 7                4.489770                          0.364093   \n",
       " 8                4.495162                          0.399070   \n",
       " 9                3.861067                          0.364248   \n",
       " 10               2.120960                          0.226207   \n",
       " 11               1.503555                          0.086148   \n",
       " 12               2.222164                         -0.085342   \n",
       " 13               1.655970                         -0.260034   \n",
       " 14               1.766208                         -0.469093   \n",
       " 15               2.847940                         -0.699289   \n",
       " 16               1.272652                         -0.920673   \n",
       " 17               2.440748                         -1.050527   \n",
       " 18               1.051038                         -1.175083   \n",
       " 19               0.803687                         -1.264318   \n",
       " 20               1.953484                         -1.317025   \n",
       " 21               1.226865                         -1.394602   \n",
       " \n",
       "     Main_eeg_thetaabsab_p2min_norm_s  \n",
       " 0                           2.177979  \n",
       " 1                           0.905256  \n",
       " 2                           0.869880  \n",
       " 3                           0.491910  \n",
       " 4                           0.018646  \n",
       " 5                          -0.089365  \n",
       " 6                          -0.485776  \n",
       " 7                           0.111870  \n",
       " 8                           0.478716  \n",
       " 9                           1.007146  \n",
       " 10                          1.231763  \n",
       " 11                          0.715963  \n",
       " 12                          0.323356  \n",
       " 13                         -0.057523  \n",
       " 14                         -0.118799  \n",
       " 15                          0.113413  \n",
       " 16                         -0.050593  \n",
       " 17                          0.084959  \n",
       " 18                         -0.038570  \n",
       " 19                         -0.391667  \n",
       " 20                         -0.274070  \n",
       " 21                         -0.483740  \n",
       " \n",
       " [22 rows x 435 columns],\n",
       "    epoch                          TimestampUK  Fpz-M1_eeg_abspow  \\\n",
       " 0      0  2024-11-15 09:22:47.870794058+00:00       2.376332e-09   \n",
       " 1      1  2024-11-15 09:23:17.870794058+00:00       3.936607e-09   \n",
       " 2      2  2024-11-15 09:23:47.870794058+00:00       1.347238e-09   \n",
       " 3      3  2024-11-15 09:24:17.870794058+00:00       2.575255e-10   \n",
       " 4      4  2024-11-15 09:24:47.870794058+00:00       1.381240e-09   \n",
       " \n",
       "    Fpz-M1_eeg_abspow_c7min_norm  Fpz-M1_eeg_abspow_p2min_norm  \\\n",
       " 0                      0.571471                      0.000000   \n",
       " 1                      0.436421                      0.621402   \n",
       " 2                      0.000000                      0.141034   \n",
       " 3                     -0.352630                     -0.316148   \n",
       " 4                     -0.481266                     -0.514302   \n",
       " \n",
       "    Fpz-M1_eeg_alpha  Fpz-M1_eeg_alpha_c7min_norm  Fpz-M1_eeg_alpha_p2min_norm  \\\n",
       " 0          0.019420                    -0.362154                     0.127738   \n",
       " 1          0.013158                    -0.297642                    -0.672486   \n",
       " 2          0.014868                     0.000000                    -0.793547   \n",
       " 3          0.028234                     0.492883                     0.000000   \n",
       " 4          0.023432                     0.690215                     0.256397   \n",
       " \n",
       "    Fpz-M1_eeg_alphaaa  Fpz-M1_eeg_alphaaa_c7min_norm  ...  \\\n",
       " 0            0.027999                      -0.497781  ...   \n",
       " 1            0.018306                      -0.348336  ...   \n",
       " 2            0.024157                       0.000000  ...   \n",
       " 3            0.070266                       0.506138  ...   \n",
       " 4            0.033941                       0.538600  ...   \n",
       " \n",
       "    Main_eeg_thetaab_p2min_norm_s  Main_eeg_thetaabs_s  \\\n",
       " 0                      -0.596663             3.860001   \n",
       " 1                       0.489773             5.624511   \n",
       " 2                       0.861178             1.808957   \n",
       " 3                       0.497746             0.323048   \n",
       " 4                       0.648938             2.167688   \n",
       " \n",
       "    Main_eeg_thetaabs_c7min_norm_s  Main_eeg_thetaabs_p2min_norm_s  \\\n",
       " 0                        1.110492                        0.183333   \n",
       " 1                        0.826013                        0.948327   \n",
       " 2                        0.095263                        0.100516   \n",
       " 3                       -0.468055                       -0.645493   \n",
       " 4                       -0.657427                       -1.012340   \n",
       " \n",
       "    Main_eeg_thetaabsaa_s  Main_eeg_thetaabsaa_c7min_norm_s  \\\n",
       " 0               3.011822                          1.151873   \n",
       " 1               4.226244                          0.852199   \n",
       " 2               1.388035                          0.115790   \n",
       " 3               0.296190                         -0.443860   \n",
       " 4               1.743930                         -0.621542   \n",
       " \n",
       "    Main_eeg_thetaabsaa_p2min_norm_s  Main_eeg_thetaabsab_s  \\\n",
       " 0                          0.276279               1.563944   \n",
       " 1                          0.959618               2.892077   \n",
       " 2                          0.122717               0.951272   \n",
       " 3                         -0.602917               0.146735   \n",
       " 4                         -0.959630               0.928593   \n",
       " \n",
       "    Main_eeg_thetaabsab_c7min_norm_s  Main_eeg_thetaabsab_p2min_norm_s  \n",
       " 0                          1.070492                          0.098414  \n",
       " 1                          0.880132                          1.378899  \n",
       " 2                          0.124187                          0.558277  \n",
       " 3                         -0.494319                         -0.239871  \n",
       " 4                         -0.725543                         -0.546149  \n",
       " \n",
       " [5 rows x 435 columns],\n",
       "      epoch                          TimestampUK  Fpz-M1_eeg_abspow  \\\n",
       " 0        0  2024-11-15 09:26:33.913367987+00:00       6.176673e-09   \n",
       " 1        1  2024-11-15 09:27:03.913367987+00:00       4.793729e-09   \n",
       " 2        2  2024-11-15 09:27:33.913367987+00:00       2.732233e-09   \n",
       " 3        3  2024-11-15 09:28:03.913367987+00:00       4.477972e-09   \n",
       " 4        4  2024-11-15 09:28:33.913367987+00:00       5.564690e-10   \n",
       " ..     ...                                  ...                ...   \n",
       " 279    279  2024-11-15 11:46:03.913367987+00:00       5.698911e-10   \n",
       " 280    280  2024-11-15 11:46:33.913367987+00:00       4.251687e-10   \n",
       " 281    281  2024-11-15 11:47:03.913367987+00:00       4.524738e-10   \n",
       " 282    282  2024-11-15 11:47:33.913367987+00:00       2.130309e-10   \n",
       " 283    283  2024-11-15 11:48:03.913367987+00:00       3.621887e-10   \n",
       " \n",
       "      Fpz-M1_eeg_abspow_c7min_norm  Fpz-M1_eeg_abspow_p2min_norm  \\\n",
       " 0                        0.440779                      0.938026   \n",
       " 1                        0.354770                      0.766664   \n",
       " 2                        0.294199                      0.539248   \n",
       " 3                        0.262025                      0.533698   \n",
       " 4                        0.230852                      0.185495   \n",
       " ..                            ...                           ...   \n",
       " 279                     -0.659453                     -0.479267   \n",
       " 280                     -0.681057                     -0.468223   \n",
       " 281                     -0.703470                     -0.472234   \n",
       " 282                     -0.716216                     -0.489812   \n",
       " 283                     -0.722909                     -0.502681   \n",
       " \n",
       "      Fpz-M1_eeg_alpha  Fpz-M1_eeg_alpha_c7min_norm  \\\n",
       " 0            0.010253                    -0.187265   \n",
       " 1            0.011490                    -0.160262   \n",
       " 2            0.012872                    -0.141557   \n",
       " 3            0.010234                    -0.122803   \n",
       " 4            0.025359                    -0.097883   \n",
       " ..                ...                          ...   \n",
       " 279          0.022562                     0.270177   \n",
       " 280          0.014979                     0.303907   \n",
       " 281          0.021224                     0.361342   \n",
       " 282          0.028330                     0.415775   \n",
       " 283          0.034296                     0.460462   \n",
       " \n",
       "      Fpz-M1_eeg_alpha_p2min_norm  Fpz-M1_eeg_alphaaa  \\\n",
       " 0                      -0.317793            0.015990   \n",
       " 1                      -0.283900            0.016814   \n",
       " 2                      -0.247349            0.022083   \n",
       " 3                      -0.265209            0.015935   \n",
       " 4                      -0.058277            0.049332   \n",
       " ..                           ...                 ...   \n",
       " 279                     0.413500            0.043066   \n",
       " 280                     0.246545            0.037027   \n",
       " 281                     0.172114            0.039850   \n",
       " 282                     0.313483            0.065085   \n",
       " 283                     0.474226            0.069038   \n",
       " \n",
       "      Fpz-M1_eeg_alphaaa_c7min_norm  ...  Main_eeg_thetaab_p2min_norm_s  \\\n",
       " 0                        -0.107151  ...                       0.754862   \n",
       " 1                        -0.087451  ...                       0.933496   \n",
       " 2                        -0.072530  ...                       0.734300   \n",
       " 3                        -0.060902  ...                       0.669681   \n",
       " 4                        -0.046370  ...                       0.510907   \n",
       " ..                             ...  ...                            ...   \n",
       " 279                       0.396677  ...                       0.172197   \n",
       " 280                       0.441196  ...                       0.316046   \n",
       " 281                       0.497981  ...                       0.257869   \n",
       " 282                       0.557814  ...                       0.209511   \n",
       " 283                       0.602106  ...                       0.065065   \n",
       " \n",
       "      Main_eeg_thetaabs_s  Main_eeg_thetaabs_c7min_norm_s  \\\n",
       " 0               0.422185                        0.794308   \n",
       " 1               0.634636                        0.751512   \n",
       " 2               0.178396                        0.704595   \n",
       " 3               0.427171                        0.688998   \n",
       " 4              -0.085561                        0.686281   \n",
       " ..                   ...                             ...   \n",
       " 279            -0.121740                       -0.142238   \n",
       " 280            -0.149393                       -0.164097   \n",
       " 281            -0.136967                       -0.182838   \n",
       " 282            -0.149626                       -0.195057   \n",
       " 283            -0.146600                       -0.204900   \n",
       " \n",
       "      Main_eeg_thetaabs_p2min_norm_s  Main_eeg_thetaabsaa_s  \\\n",
       " 0                          0.760124               0.468162   \n",
       " 1                          0.974036               0.623230   \n",
       " 2                          0.739088               0.192385   \n",
       " 3                          0.746857               0.432058   \n",
       " 4                          0.491237              -0.091523   \n",
       " ..                              ...                    ...   \n",
       " 279                       -0.339514              -0.128179   \n",
       " 280                       -0.334240              -0.165024   \n",
       " 281                       -0.346389              -0.150512   \n",
       " 282                       -0.370839              -0.168466   \n",
       " 283                       -0.383354              -0.147820   \n",
       " \n",
       "      Main_eeg_thetaabsaa_c7min_norm_s  Main_eeg_thetaabsaa_p2min_norm_s  \\\n",
       " 0                            0.800673                          0.832969   \n",
       " 1                            0.757397                          0.977977   \n",
       " 2                            0.712450                          0.757717   \n",
       " 3                            0.695210                          0.759649   \n",
       " 4                            0.689270                          0.497960   \n",
       " ..                                ...                               ...   \n",
       " 279                         -0.064252                         -0.295612   \n",
       " 280                         -0.083073                         -0.290245   \n",
       " 281                         -0.098783                         -0.303324   \n",
       " 282                         -0.109076                         -0.328846   \n",
       " 283                         -0.116301                         -0.338030   \n",
       " \n",
       "      Main_eeg_thetaabsab_s  Main_eeg_thetaabsab_c7min_norm_s  \\\n",
       " 0                 1.103567                          1.304964   \n",
       " 1                 0.783887                          1.210011   \n",
       " 2                 0.316105                          1.144078   \n",
       " 3                 0.714869                          1.111725   \n",
       " 4                -0.141494                          1.080055   \n",
       " ..                     ...                               ...   \n",
       " 279              -0.133734                          0.119488   \n",
       " 280              -0.165202                          0.096014   \n",
       " 281              -0.160792                          0.071635   \n",
       " 282              -0.211579                          0.057952   \n",
       " 283              -0.178525                          0.050689   \n",
       " \n",
       "      Main_eeg_thetaabsab_p2min_norm_s  \n",
       " 0                            1.417953  \n",
       " 1                            1.215401  \n",
       " 2                            0.950291  \n",
       " 3                            0.944065  \n",
       " 4                            0.549626  \n",
       " ..                                ...  \n",
       " 279                         -0.182493  \n",
       " 280                         -0.170277  \n",
       " 281                         -0.174452  \n",
       " 282                         -0.193176  \n",
       " 283                         -0.207365  \n",
       " \n",
       " [284 rows x 435 columns]]"
      ]
     },
     "execution_count": 8,
     "metadata": {},
     "output_type": "execute_result"
    }
   ],
   "execution_count": 8
  },
  {
   "metadata": {
    "ExecuteTime": {
     "end_time": "2024-11-16T11:28:50.518552Z",
     "start_time": "2024-11-16T11:28:50.382728Z"
    }
   },
   "cell_type": "code",
   "source": "errors",
   "id": "9b4587583e3b58ad",
   "outputs": [
    {
     "data": {
      "text/plain": [
       "[]"
      ]
     },
     "execution_count": 9,
     "metadata": {},
     "output_type": "execute_result"
    }
   ],
   "execution_count": 9
  },
  {
   "metadata": {},
   "cell_type": "markdown",
   "source": [
    "# Recalculate scalings\n",
    "N.b. can be run frequently but will only be picked up by new runs.  Maybe worth occasionally regenerating all old files.\n",
    "And yes, for new features have to rerun the pipeline on everything, then generate the stats here, then rerun the pipeline again on everything to have them use those."
   ],
   "id": "e8807e90215b2ad8"
  },
  {
   "metadata": {
    "ExecuteTime": {
     "end_time": "2024-11-16T11:28:50.896887Z",
     "start_time": "2024-11-16T11:28:50.549718Z"
    }
   },
   "cell_type": "code",
   "source": [
    "from scaling import only_eeg\n",
    "\n",
    "only_eeg_cols = list(only_eeg(all).columns)\n",
    "assert any(col.startswith(\"Main\") for col in only_eeg_cols), \"No column starting with 'Main' found in only_eeg_cols\""
   ],
   "id": "124e12f519886246",
   "outputs": [],
   "execution_count": 10
  },
  {
   "metadata": {
    "ExecuteTime": {
     "end_time": "2024-11-16T11:28:51.335878Z",
     "start_time": "2024-11-16T11:28:50.943444Z"
    }
   },
   "cell_type": "code",
   "source": [
    "import scaling\n",
    "\n",
    "stats = scaling.stats(all)\n",
    "stats.to_csv(input_dir + \"/day_stats.csv\")\n",
    "assert any(stats['Column'].str.startswith(\"Main\")), \"No row starting with 'Main' found in column_name\"\n",
    "stats"
   ],
   "id": "fdf438800f68bdd7",
   "outputs": [
    {
     "name": "stderr",
     "output_type": "stream",
     "text": [
      "C:\\Users\\graha\\.conda\\envs\\tf\\lib\\site-packages\\numpy\\core\\_methods.py:49: RuntimeWarning: invalid value encountered in reduce\n",
      "  return umr_sum(a, axis, dtype, out, keepdims, initial, where)\n",
      "C:\\Users\\graha\\.conda\\envs\\tf\\lib\\site-packages\\numpy\\core\\_methods.py:49: RuntimeWarning: invalid value encountered in reduce\n",
      "  return umr_sum(a, axis, dtype, out, keepdims, initial, where)\n",
      "C:\\Users\\graha\\.conda\\envs\\tf\\lib\\site-packages\\numpy\\core\\_methods.py:49: RuntimeWarning: invalid value encountered in reduce\n",
      "  return umr_sum(a, axis, dtype, out, keepdims, initial, where)\n",
      "C:\\Users\\graha\\.conda\\envs\\tf\\lib\\site-packages\\numpy\\core\\_methods.py:49: RuntimeWarning: invalid value encountered in reduce\n",
      "  return umr_sum(a, axis, dtype, out, keepdims, initial, where)\n",
      "C:\\Users\\graha\\.conda\\envs\\tf\\lib\\site-packages\\numpy\\core\\_methods.py:49: RuntimeWarning: invalid value encountered in reduce\n",
      "  return umr_sum(a, axis, dtype, out, keepdims, initial, where)\n",
      "C:\\Users\\graha\\.conda\\envs\\tf\\lib\\site-packages\\numpy\\core\\_methods.py:49: RuntimeWarning: invalid value encountered in reduce\n",
      "  return umr_sum(a, axis, dtype, out, keepdims, initial, where)\n",
      "C:\\Users\\graha\\.conda\\envs\\tf\\lib\\site-packages\\numpy\\core\\_methods.py:49: RuntimeWarning: invalid value encountered in reduce\n",
      "  return umr_sum(a, axis, dtype, out, keepdims, initial, where)\n",
      "C:\\Users\\graha\\.conda\\envs\\tf\\lib\\site-packages\\numpy\\core\\_methods.py:49: RuntimeWarning: invalid value encountered in reduce\n",
      "  return umr_sum(a, axis, dtype, out, keepdims, initial, where)\n"
     ]
    },
    {
     "data": {
      "text/plain": [
       "                               Column          Mean           P10  \\\n",
       "0                   Fpz-M1_eeg_abspow  2.567575e-09  5.564690e-10   \n",
       "1        Fpz-M1_eeg_abspow_c7min_norm -1.651346e-02 -3.526303e-01   \n",
       "2        Fpz-M1_eeg_abspow_p2min_norm  4.754711e-02 -2.935286e-01   \n",
       "3                    Fpz-M1_eeg_alpha  1.772328e-02  8.460448e-03   \n",
       "4         Fpz-M1_eeg_alpha_c7min_norm  6.357691e-02 -2.245662e-01   \n",
       "..                                ...           ...           ...   \n",
       "427  Main_eeg_thetaabsaa_c7min_norm_s  5.468189e-01  1.202499e-01   \n",
       "428  Main_eeg_thetaabsaa_p2min_norm_s  3.903255e-01 -9.043346e-02   \n",
       "429             Main_eeg_thetaabsab_s  4.389722e-01 -1.342933e-01   \n",
       "430  Main_eeg_thetaabsab_c7min_norm_s  7.349963e-01  2.462114e-01   \n",
       "431  Main_eeg_thetaabsab_p2min_norm_s  3.827293e-01 -1.307120e-02   \n",
       "\n",
       "              P90           Min           Max        StdDev  \n",
       "0    4.683932e-09  4.706757e-11  1.712247e-08  1.865730e-09  \n",
       "1    2.363201e-01 -8.923340e-01  8.949664e-01  2.959370e-01  \n",
       "2    4.393382e-01 -5.630067e-01  1.303757e+00  3.177617e-01  \n",
       "3    2.751043e-02  3.557820e-03  1.783833e-01  1.459351e-02  \n",
       "4    3.666280e-01 -5.374830e-01  1.396771e+00  3.086038e-01  \n",
       "..            ...           ...           ...           ...  \n",
       "427  8.495354e-01 -1.014553e+00  1.417242e+00  3.565414e-01  \n",
       "428  8.676401e-01 -9.596298e-01  2.102499e+00  4.135871e-01  \n",
       "429  1.038024e+00 -2.479550e-01  5.111267e+00  7.238551e-01  \n",
       "430  1.076950e+00 -1.394602e+00  1.772395e+00  4.446799e-01  \n",
       "431  8.291667e-01 -5.461493e-01  2.177979e+00  3.751992e-01  \n",
       "\n",
       "[432 rows x 7 columns]"
      ],
      "text/html": [
       "<div>\n",
       "<style scoped>\n",
       "    .dataframe tbody tr th:only-of-type {\n",
       "        vertical-align: middle;\n",
       "    }\n",
       "\n",
       "    .dataframe tbody tr th {\n",
       "        vertical-align: top;\n",
       "    }\n",
       "\n",
       "    .dataframe thead th {\n",
       "        text-align: right;\n",
       "    }\n",
       "</style>\n",
       "<table border=\"1\" class=\"dataframe\">\n",
       "  <thead>\n",
       "    <tr style=\"text-align: right;\">\n",
       "      <th></th>\n",
       "      <th>Column</th>\n",
       "      <th>Mean</th>\n",
       "      <th>P10</th>\n",
       "      <th>P90</th>\n",
       "      <th>Min</th>\n",
       "      <th>Max</th>\n",
       "      <th>StdDev</th>\n",
       "    </tr>\n",
       "  </thead>\n",
       "  <tbody>\n",
       "    <tr>\n",
       "      <th>0</th>\n",
       "      <td>Fpz-M1_eeg_abspow</td>\n",
       "      <td>2.567575e-09</td>\n",
       "      <td>5.564690e-10</td>\n",
       "      <td>4.683932e-09</td>\n",
       "      <td>4.706757e-11</td>\n",
       "      <td>1.712247e-08</td>\n",
       "      <td>1.865730e-09</td>\n",
       "    </tr>\n",
       "    <tr>\n",
       "      <th>1</th>\n",
       "      <td>Fpz-M1_eeg_abspow_c7min_norm</td>\n",
       "      <td>-1.651346e-02</td>\n",
       "      <td>-3.526303e-01</td>\n",
       "      <td>2.363201e-01</td>\n",
       "      <td>-8.923340e-01</td>\n",
       "      <td>8.949664e-01</td>\n",
       "      <td>2.959370e-01</td>\n",
       "    </tr>\n",
       "    <tr>\n",
       "      <th>2</th>\n",
       "      <td>Fpz-M1_eeg_abspow_p2min_norm</td>\n",
       "      <td>4.754711e-02</td>\n",
       "      <td>-2.935286e-01</td>\n",
       "      <td>4.393382e-01</td>\n",
       "      <td>-5.630067e-01</td>\n",
       "      <td>1.303757e+00</td>\n",
       "      <td>3.177617e-01</td>\n",
       "    </tr>\n",
       "    <tr>\n",
       "      <th>3</th>\n",
       "      <td>Fpz-M1_eeg_alpha</td>\n",
       "      <td>1.772328e-02</td>\n",
       "      <td>8.460448e-03</td>\n",
       "      <td>2.751043e-02</td>\n",
       "      <td>3.557820e-03</td>\n",
       "      <td>1.783833e-01</td>\n",
       "      <td>1.459351e-02</td>\n",
       "    </tr>\n",
       "    <tr>\n",
       "      <th>4</th>\n",
       "      <td>Fpz-M1_eeg_alpha_c7min_norm</td>\n",
       "      <td>6.357691e-02</td>\n",
       "      <td>-2.245662e-01</td>\n",
       "      <td>3.666280e-01</td>\n",
       "      <td>-5.374830e-01</td>\n",
       "      <td>1.396771e+00</td>\n",
       "      <td>3.086038e-01</td>\n",
       "    </tr>\n",
       "    <tr>\n",
       "      <th>...</th>\n",
       "      <td>...</td>\n",
       "      <td>...</td>\n",
       "      <td>...</td>\n",
       "      <td>...</td>\n",
       "      <td>...</td>\n",
       "      <td>...</td>\n",
       "      <td>...</td>\n",
       "    </tr>\n",
       "    <tr>\n",
       "      <th>427</th>\n",
       "      <td>Main_eeg_thetaabsaa_c7min_norm_s</td>\n",
       "      <td>5.468189e-01</td>\n",
       "      <td>1.202499e-01</td>\n",
       "      <td>8.495354e-01</td>\n",
       "      <td>-1.014553e+00</td>\n",
       "      <td>1.417242e+00</td>\n",
       "      <td>3.565414e-01</td>\n",
       "    </tr>\n",
       "    <tr>\n",
       "      <th>428</th>\n",
       "      <td>Main_eeg_thetaabsaa_p2min_norm_s</td>\n",
       "      <td>3.903255e-01</td>\n",
       "      <td>-9.043346e-02</td>\n",
       "      <td>8.676401e-01</td>\n",
       "      <td>-9.596298e-01</td>\n",
       "      <td>2.102499e+00</td>\n",
       "      <td>4.135871e-01</td>\n",
       "    </tr>\n",
       "    <tr>\n",
       "      <th>429</th>\n",
       "      <td>Main_eeg_thetaabsab_s</td>\n",
       "      <td>4.389722e-01</td>\n",
       "      <td>-1.342933e-01</td>\n",
       "      <td>1.038024e+00</td>\n",
       "      <td>-2.479550e-01</td>\n",
       "      <td>5.111267e+00</td>\n",
       "      <td>7.238551e-01</td>\n",
       "    </tr>\n",
       "    <tr>\n",
       "      <th>430</th>\n",
       "      <td>Main_eeg_thetaabsab_c7min_norm_s</td>\n",
       "      <td>7.349963e-01</td>\n",
       "      <td>2.462114e-01</td>\n",
       "      <td>1.076950e+00</td>\n",
       "      <td>-1.394602e+00</td>\n",
       "      <td>1.772395e+00</td>\n",
       "      <td>4.446799e-01</td>\n",
       "    </tr>\n",
       "    <tr>\n",
       "      <th>431</th>\n",
       "      <td>Main_eeg_thetaabsab_p2min_norm_s</td>\n",
       "      <td>3.827293e-01</td>\n",
       "      <td>-1.307120e-02</td>\n",
       "      <td>8.291667e-01</td>\n",
       "      <td>-5.461493e-01</td>\n",
       "      <td>2.177979e+00</td>\n",
       "      <td>3.751992e-01</td>\n",
       "    </tr>\n",
       "  </tbody>\n",
       "</table>\n",
       "<p>432 rows × 7 columns</p>\n",
       "</div>"
      ]
     },
     "execution_count": 11,
     "metadata": {},
     "output_type": "execute_result"
    }
   ],
   "execution_count": 11
  },
  {
   "metadata": {},
   "cell_type": "markdown",
   "source": "# Upload to GCS",
   "id": "482f89663710fa04"
  },
  {
   "metadata": {
    "ExecuteTime": {
     "end_time": "2024-11-16T13:14:56.131481Z",
     "start_time": "2024-11-16T13:14:44.222979Z"
    }
   },
   "cell_type": "code",
   "source": [
    "from upload import upload_dir_to_gcs_skipping_existing\n",
    "import os\n",
    "\n",
    "errors = []\n",
    "dataframes = []\n",
    "\n",
    "for root, dirs, files in os.walk(input_dir):\n",
    "    for dir_name in tqdm(reversed(dirs), desc=\"Uploading directories\", total=len(dirs)):\n",
    "        full_dir_name = os.path.join(root, dir_name)\n",
    "        try:\n",
    "            upload_dir_to_gcs_skipping_existing(log, 'examined-life-input-eeg-day', full_dir_name, dir_name)\n",
    "        except Exception as e:\n",
    "            log(\"Error processing file: \" + input_dir)\n",
    "            log(e)\n",
    "\n",
    "for error in errors:\n",
    "    log(error)\n",
    "\n",
    "log(\"All uploaded\")"
   ],
   "id": "30732b799791e42d",
   "outputs": [
    {
     "data": {
      "text/plain": [
       "Uploading directories:   0%|          | 0/3 [00:00<?, ?it/s]"
      ],
      "application/vnd.jupyter.widget-view+json": {
       "version_major": 2,
       "version_minor": 0,
       "model_id": "adea491d1e734c3f8e016a74723b0a14"
      }
     },
     "metadata": {},
     "output_type": "display_data"
    },
    {
     "name": "stderr",
     "output_type": "stream",
     "text": [
      "2024-11-16 13:14:46,571 - INFO - Skipping C:\\dev\\play\\brainwave-data-day\\2024-11-15-09-26-33\\2024-11-15-09-26-33.brainflow.csv.bz2, identical file already exists in GCS.\n",
      "2024-11-16 13:14:46,779 - INFO - Skipping C:\\dev\\play\\brainwave-data-day\\2024-11-15-09-26-33\\raw.edf, identical file already exists in GCS.\n",
      "2024-11-16 13:14:47,151 - INFO - Skipping C:\\dev\\play\\brainwave-data-day\\2024-11-15-09-26-33\\raw.fif, identical file already exists in GCS.\n",
      "2024-11-16 13:14:47,368 - INFO - C:\\dev\\play\\brainwave-data-day\\2024-11-15-09-26-33\\raw.output.csv uploading to 2024-11-15-09-26-33/raw.output.csv, does_not_exist=False has_changed=True\n",
      "2024-11-16 13:14:49,101 - INFO - Uploaded directory checksum for C:\\dev\\play\\brainwave-data-day\\2024-11-15-09-26-33 to 2024-11-15-09-26-33/directory_checksum.md5\n",
      "2024-11-16 13:14:50,849 - INFO - Skipping C:\\dev\\play\\brainwave-data-day\\2024-11-15-09-22-47\\2024-11-15-09-22-47.brainflow.csv.bz2, identical file already exists in GCS.\n",
      "2024-11-16 13:14:51,291 - INFO - Skipping C:\\dev\\play\\brainwave-data-day\\2024-11-15-09-22-47\\raw.edf, identical file already exists in GCS.\n",
      "2024-11-16 13:14:51,654 - INFO - Skipping C:\\dev\\play\\brainwave-data-day\\2024-11-15-09-22-47\\raw.fif, identical file already exists in GCS.\n",
      "2024-11-16 13:14:51,842 - INFO - C:\\dev\\play\\brainwave-data-day\\2024-11-15-09-22-47\\raw.output.csv uploading to 2024-11-15-09-22-47/raw.output.csv, does_not_exist=False has_changed=True\n",
      "2024-11-16 13:14:52,684 - INFO - Uploaded directory checksum for C:\\dev\\play\\brainwave-data-day\\2024-11-15-09-22-47 to 2024-11-15-09-22-47/directory_checksum.md5\n",
      "2024-11-16 13:14:54,357 - INFO - Skipping C:\\dev\\play\\brainwave-data-day\\2024-11-15-09-10-50\\2024-11-15-09-10-50.brainflow.csv.bz2, identical file already exists in GCS.\n",
      "2024-11-16 13:14:54,771 - INFO - Skipping C:\\dev\\play\\brainwave-data-day\\2024-11-15-09-10-50\\raw.edf, identical file already exists in GCS.\n",
      "2024-11-16 13:14:54,913 - INFO - Skipping C:\\dev\\play\\brainwave-data-day\\2024-11-15-09-10-50\\raw.fif, identical file already exists in GCS.\n",
      "2024-11-16 13:14:55,347 - INFO - C:\\dev\\play\\brainwave-data-day\\2024-11-15-09-10-50\\raw.output.csv uploading to 2024-11-15-09-10-50/raw.output.csv, does_not_exist=False has_changed=True\n",
      "2024-11-16 13:14:56,084 - INFO - Uploaded directory checksum for C:\\dev\\play\\brainwave-data-day\\2024-11-15-09-10-50 to 2024-11-15-09-10-50/directory_checksum.md5\n"
     ]
    },
    {
     "data": {
      "text/plain": [
       "Uploading directories: 0it [00:00, ?it/s]"
      ],
      "application/vnd.jupyter.widget-view+json": {
       "version_major": 2,
       "version_minor": 0,
       "model_id": "04663eb1688f45eebf90e988aa85d3ca"
      }
     },
     "metadata": {},
     "output_type": "display_data"
    },
    {
     "data": {
      "text/plain": [
       "Uploading directories: 0it [00:00, ?it/s]"
      ],
      "application/vnd.jupyter.widget-view+json": {
       "version_major": 2,
       "version_minor": 0,
       "model_id": "d7485e3165504622843e0c43bfc3bc7e"
      }
     },
     "metadata": {},
     "output_type": "display_data"
    },
    {
     "data": {
      "text/plain": [
       "Uploading directories: 0it [00:00, ?it/s]"
      ],
      "application/vnd.jupyter.widget-view+json": {
       "version_major": 2,
       "version_minor": 0,
       "model_id": "b36460d52f514cea9f061aa3835e558f"
      }
     },
     "metadata": {},
     "output_type": "display_data"
    },
    {
     "name": "stderr",
     "output_type": "stream",
     "text": [
      "2024-11-16 13:14:56,114 - INFO - All uploaded\n"
     ]
    }
   ],
   "execution_count": 18
  },
  {
   "metadata": {},
   "cell_type": "markdown",
   "source": "# Check if can delete Brainwave files that are safely backed up",
   "id": "6896e4e6423b928b"
  },
  {
   "metadata": {
    "ExecuteTime": {
     "end_time": "2024-11-16T11:29:04.400971Z",
     "start_time": "2024-11-16T11:29:04.266419Z"
    }
   },
   "cell_type": "code",
   "source": [
    "\n",
    "import os\n",
    "\n",
    "errors = []\n",
    "can_delete = []\n",
    "cannot_delete = []\n",
    "\n",
    "for root, dirs, files in os.walk(input_dir):\n",
    "    for idx, file_name in enumerate(files):\n",
    "        full_input_filename = os.path.join(root, file_name)\n",
    "        if full_input_filename.endswith(\".brainflow.csv\"):\n",
    "            compressed_full_output_filename = get_brainflow_compressed_filename(full_input_filename)\n",
    "                \n",
    "            if os.path.exists(compressed_full_output_filename):\n",
    "                can_delete.append({\n",
    "                    'backed_up': compressed_full_output_filename,\n",
    "                    'full_filename': full_input_filename\n",
    "                })\n",
    "            else:\n",
    "                cannot_delete.append(full_input_filename)\n",
    "    "
   ],
   "id": "54b1ee685c111770",
   "outputs": [],
   "execution_count": 13
  },
  {
   "metadata": {
    "ExecuteTime": {
     "end_time": "2024-11-16T11:29:04.566739Z",
     "start_time": "2024-11-16T11:29:04.432125Z"
    }
   },
   "cell_type": "code",
   "source": [
    "can_delete_df = pd.DataFrame(can_delete)\n",
    "can_delete_df"
   ],
   "id": "1b99c37e9a4b39e8",
   "outputs": [
    {
     "data": {
      "text/plain": [
       "                                           backed_up  \\\n",
       "0  C:\\dev\\play\\brainwave-data-day\\2024-11-15-09-1...   \n",
       "1  C:\\dev\\play\\brainwave-data-day\\2024-11-15-09-2...   \n",
       "2  C:\\dev\\play\\brainwave-data-day\\2024-11-15-09-2...   \n",
       "3  C:\\dev\\play\\brainwave-data-day\\2024-11-16-10-5...   \n",
       "\n",
       "                                       full_filename  \n",
       "0  C:\\dev\\play\\brainwave-data-day\\2024-11-15-09-1...  \n",
       "1  C:\\dev\\play\\brainwave-data-day\\2024-11-15-09-2...  \n",
       "2  C:\\dev\\play\\brainwave-data-day\\2024-11-15-09-2...  \n",
       "3  C:\\dev\\play\\brainwave-data-day\\2024-11-16-10-5...  "
      ],
      "text/html": [
       "<div>\n",
       "<style scoped>\n",
       "    .dataframe tbody tr th:only-of-type {\n",
       "        vertical-align: middle;\n",
       "    }\n",
       "\n",
       "    .dataframe tbody tr th {\n",
       "        vertical-align: top;\n",
       "    }\n",
       "\n",
       "    .dataframe thead th {\n",
       "        text-align: right;\n",
       "    }\n",
       "</style>\n",
       "<table border=\"1\" class=\"dataframe\">\n",
       "  <thead>\n",
       "    <tr style=\"text-align: right;\">\n",
       "      <th></th>\n",
       "      <th>backed_up</th>\n",
       "      <th>full_filename</th>\n",
       "    </tr>\n",
       "  </thead>\n",
       "  <tbody>\n",
       "    <tr>\n",
       "      <th>0</th>\n",
       "      <td>C:\\dev\\play\\brainwave-data-day\\2024-11-15-09-1...</td>\n",
       "      <td>C:\\dev\\play\\brainwave-data-day\\2024-11-15-09-1...</td>\n",
       "    </tr>\n",
       "    <tr>\n",
       "      <th>1</th>\n",
       "      <td>C:\\dev\\play\\brainwave-data-day\\2024-11-15-09-2...</td>\n",
       "      <td>C:\\dev\\play\\brainwave-data-day\\2024-11-15-09-2...</td>\n",
       "    </tr>\n",
       "    <tr>\n",
       "      <th>2</th>\n",
       "      <td>C:\\dev\\play\\brainwave-data-day\\2024-11-15-09-2...</td>\n",
       "      <td>C:\\dev\\play\\brainwave-data-day\\2024-11-15-09-2...</td>\n",
       "    </tr>\n",
       "    <tr>\n",
       "      <th>3</th>\n",
       "      <td>C:\\dev\\play\\brainwave-data-day\\2024-11-16-10-5...</td>\n",
       "      <td>C:\\dev\\play\\brainwave-data-day\\2024-11-16-10-5...</td>\n",
       "    </tr>\n",
       "  </tbody>\n",
       "</table>\n",
       "</div>"
      ]
     },
     "execution_count": 14,
     "metadata": {},
     "output_type": "execute_result"
    }
   ],
   "execution_count": 14
  },
  {
   "metadata": {
    "ExecuteTime": {
     "end_time": "2024-11-16T11:29:04.733289Z",
     "start_time": "2024-11-16T11:29:04.598304Z"
    }
   },
   "cell_type": "code",
   "source": "cannot_delete",
   "id": "d7c0794b5a6e8351",
   "outputs": [
    {
     "data": {
      "text/plain": [
       "[]"
      ]
     },
     "execution_count": 15,
     "metadata": {},
     "output_type": "execute_result"
    }
   ],
   "execution_count": 15
  },
  {
   "metadata": {
    "ExecuteTime": {
     "end_time": "2024-11-16T11:29:04.898759Z",
     "start_time": "2024-11-16T11:29:04.764573Z"
    }
   },
   "cell_type": "code",
   "source": "can_delete_df['full_filename']",
   "id": "83646d0ee8f59e2",
   "outputs": [
    {
     "data": {
      "text/plain": [
       "0    C:\\dev\\play\\brainwave-data-day\\2024-11-15-09-1...\n",
       "1    C:\\dev\\play\\brainwave-data-day\\2024-11-15-09-2...\n",
       "2    C:\\dev\\play\\brainwave-data-day\\2024-11-15-09-2...\n",
       "3    C:\\dev\\play\\brainwave-data-day\\2024-11-16-10-5...\n",
       "Name: full_filename, dtype: object"
      ]
     },
     "execution_count": 16,
     "metadata": {},
     "output_type": "execute_result"
    }
   ],
   "execution_count": 16
  }
 ],
 "metadata": {
  "kernelspec": {
   "display_name": "Python 3",
   "language": "python",
   "name": "python3"
  },
  "language_info": {
   "codemirror_mode": {
    "name": "ipython",
    "version": 2
   },
   "file_extension": ".py",
   "mimetype": "text/x-python",
   "name": "python",
   "nbconvert_exporter": "python",
   "pygments_lexer": "ipython2",
   "version": "2.7.6"
  }
 },
 "nbformat": 4,
 "nbformat_minor": 5
}
