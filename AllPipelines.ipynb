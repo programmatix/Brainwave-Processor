{
 "cells": [
  {
   "cell_type": "code",
   "id": "initial_id",
   "metadata": {
    "collapsed": true,
    "ExecuteTime": {
     "end_time": "2024-11-17T10:31:43.577270Z",
     "start_time": "2024-11-17T10:31:38.314217Z"
    }
   },
   "source": "%run YasaPipelineTestMultipleFiles.ipynb",
   "outputs": [
    {
     "ename": "NoValidConnectionsError",
     "evalue": "[Errno None] Unable to connect to port 22 on 127.0.0.1 or ::1",
     "output_type": "error",
     "traceback": [
      "\u001B[1;31m---------------------------------------------------------------------------\u001B[0m",
      "\u001B[1;31mNoValidConnectionsError\u001B[0m                   Traceback (most recent call last)",
      "File \u001B[1;32m~\\AppData\\Local\\Temp\\ipykernel_37752\\3290093600.py:23\u001B[0m\n\u001B[0;32m     21\u001B[0m ssh \u001B[38;5;241m=\u001B[39m paramiko\u001B[38;5;241m.\u001B[39mSSHClient()\n\u001B[0;32m     22\u001B[0m ssh\u001B[38;5;241m.\u001B[39mset_missing_host_key_policy(paramiko\u001B[38;5;241m.\u001B[39mAutoAddPolicy())\n\u001B[1;32m---> 23\u001B[0m \u001B[43mssh\u001B[49m\u001B[38;5;241;43m.\u001B[39;49m\u001B[43mconnect\u001B[49m\u001B[43m(\u001B[49m\u001B[43mhostname\u001B[49m\u001B[43m,\u001B[49m\u001B[43m \u001B[49m\u001B[43musername\u001B[49m\u001B[38;5;241;43m=\u001B[39;49m\u001B[43musername\u001B[49m\u001B[43m,\u001B[49m\u001B[43m \u001B[49m\u001B[43mpassword\u001B[49m\u001B[38;5;241;43m=\u001B[39;49m\u001B[43mpassword\u001B[49m\u001B[43m,\u001B[49m\u001B[43m \u001B[49m\u001B[43mcompress\u001B[49m\u001B[38;5;241;43m=\u001B[39;49m\u001B[38;5;28;43;01mTrue\u001B[39;49;00m\u001B[43m)\u001B[49m\n\u001B[0;32m     25\u001B[0m \u001B[38;5;66;03m# List files in the remote directory\u001B[39;00m\n\u001B[0;32m     26\u001B[0m stdin, stdout, stderr \u001B[38;5;241m=\u001B[39m ssh\u001B[38;5;241m.\u001B[39mexec_command(\u001B[38;5;124mf\u001B[39m\u001B[38;5;124m'\u001B[39m\u001B[38;5;124mls \u001B[39m\u001B[38;5;132;01m{\u001B[39;00mremote_dir\u001B[38;5;132;01m}\u001B[39;00m\u001B[38;5;124m'\u001B[39m)\n",
      "File \u001B[1;32m~\\.conda\\envs\\tf\\lib\\site-packages\\paramiko\\client.py:409\u001B[0m, in \u001B[0;36mSSHClient.connect\u001B[1;34m(self, hostname, port, username, password, pkey, key_filename, timeout, allow_agent, look_for_keys, compress, sock, gss_auth, gss_kex, gss_deleg_creds, gss_host, banner_timeout, auth_timeout, channel_timeout, gss_trust_dns, passphrase, disabled_algorithms, transport_factory, auth_strategy)\u001B[0m\n\u001B[0;32m    403\u001B[0m     \u001B[38;5;66;03m# Make sure we explode usefully if no address family attempts\u001B[39;00m\n\u001B[0;32m    404\u001B[0m     \u001B[38;5;66;03m# succeeded. We've no way of knowing which error is the \"right\"\u001B[39;00m\n\u001B[0;32m    405\u001B[0m     \u001B[38;5;66;03m# one, so we construct a hybrid exception containing all the real\u001B[39;00m\n\u001B[0;32m    406\u001B[0m     \u001B[38;5;66;03m# ones, of a subclass that client code should still be watching for\u001B[39;00m\n\u001B[0;32m    407\u001B[0m     \u001B[38;5;66;03m# (socket.error)\u001B[39;00m\n\u001B[0;32m    408\u001B[0m     \u001B[38;5;28;01mif\u001B[39;00m \u001B[38;5;28mlen\u001B[39m(errors) \u001B[38;5;241m==\u001B[39m \u001B[38;5;28mlen\u001B[39m(to_try):\n\u001B[1;32m--> 409\u001B[0m         \u001B[38;5;28;01mraise\u001B[39;00m NoValidConnectionsError(errors)\n\u001B[0;32m    411\u001B[0m \u001B[38;5;28;01mif\u001B[39;00m transport_factory \u001B[38;5;129;01mis\u001B[39;00m \u001B[38;5;28;01mNone\u001B[39;00m:\n\u001B[0;32m    412\u001B[0m     transport_factory \u001B[38;5;241m=\u001B[39m Transport\n",
      "\u001B[1;31mNoValidConnectionsError\u001B[0m: [Errno None] Unable to connect to port 22 on 127.0.0.1 or ::1"
     ]
    },
    {
     "ename": "NoValidConnectionsError",
     "evalue": "[Errno None] Unable to connect to port 22 on 127.0.0.1 or ::1",
     "output_type": "error",
     "traceback": [
      "\u001B[1;31m---------------------------------------------------------------------------\u001B[0m",
      "\u001B[1;31mNoValidConnectionsError\u001B[0m                   Traceback (most recent call last)",
      "Cell \u001B[1;32mIn[2], line 1\u001B[0m\n\u001B[1;32m----> 1\u001B[0m \u001B[43mget_ipython\u001B[49m\u001B[43m(\u001B[49m\u001B[43m)\u001B[49m\u001B[38;5;241;43m.\u001B[39;49m\u001B[43mrun_line_magic\u001B[49m\u001B[43m(\u001B[49m\u001B[38;5;124;43m'\u001B[39;49m\u001B[38;5;124;43mrun\u001B[39;49m\u001B[38;5;124;43m'\u001B[39;49m\u001B[43m,\u001B[49m\u001B[43m \u001B[49m\u001B[38;5;124;43m'\u001B[39;49m\u001B[38;5;124;43mYasaPipelineTestMultipleFiles.ipynb\u001B[39;49m\u001B[38;5;124;43m'\u001B[39;49m\u001B[43m)\u001B[49m\n",
      "File \u001B[1;32m~\\.conda\\envs\\tf\\lib\\site-packages\\IPython\\core\\interactiveshell.py:2480\u001B[0m, in \u001B[0;36mInteractiveShell.run_line_magic\u001B[1;34m(self, magic_name, line, _stack_depth)\u001B[0m\n\u001B[0;32m   2478\u001B[0m     kwargs[\u001B[38;5;124m'\u001B[39m\u001B[38;5;124mlocal_ns\u001B[39m\u001B[38;5;124m'\u001B[39m] \u001B[38;5;241m=\u001B[39m \u001B[38;5;28mself\u001B[39m\u001B[38;5;241m.\u001B[39mget_local_scope(stack_depth)\n\u001B[0;32m   2479\u001B[0m \u001B[38;5;28;01mwith\u001B[39;00m \u001B[38;5;28mself\u001B[39m\u001B[38;5;241m.\u001B[39mbuiltin_trap:\n\u001B[1;32m-> 2480\u001B[0m     result \u001B[38;5;241m=\u001B[39m fn(\u001B[38;5;241m*\u001B[39margs, \u001B[38;5;241m*\u001B[39m\u001B[38;5;241m*\u001B[39mkwargs)\n\u001B[0;32m   2482\u001B[0m \u001B[38;5;66;03m# The code below prevents the output from being displayed\u001B[39;00m\n\u001B[0;32m   2483\u001B[0m \u001B[38;5;66;03m# when using magics with decorator @output_can_be_silenced\u001B[39;00m\n\u001B[0;32m   2484\u001B[0m \u001B[38;5;66;03m# when the last Python token in the expression is a ';'.\u001B[39;00m\n\u001B[0;32m   2485\u001B[0m \u001B[38;5;28;01mif\u001B[39;00m \u001B[38;5;28mgetattr\u001B[39m(fn, magic\u001B[38;5;241m.\u001B[39mMAGIC_OUTPUT_CAN_BE_SILENCED, \u001B[38;5;28;01mFalse\u001B[39;00m):\n",
      "File \u001B[1;32m~\\.conda\\envs\\tf\\lib\\site-packages\\IPython\\core\\magics\\execution.py:737\u001B[0m, in \u001B[0;36mExecutionMagics.run\u001B[1;34m(self, parameter_s, runner, file_finder)\u001B[0m\n\u001B[0;32m    735\u001B[0m     \u001B[38;5;28;01mwith\u001B[39;00m preserve_keys(\u001B[38;5;28mself\u001B[39m\u001B[38;5;241m.\u001B[39mshell\u001B[38;5;241m.\u001B[39muser_ns, \u001B[38;5;124m'\u001B[39m\u001B[38;5;124m__file__\u001B[39m\u001B[38;5;124m'\u001B[39m):\n\u001B[0;32m    736\u001B[0m         \u001B[38;5;28mself\u001B[39m\u001B[38;5;241m.\u001B[39mshell\u001B[38;5;241m.\u001B[39muser_ns[\u001B[38;5;124m'\u001B[39m\u001B[38;5;124m__file__\u001B[39m\u001B[38;5;124m'\u001B[39m] \u001B[38;5;241m=\u001B[39m filename\n\u001B[1;32m--> 737\u001B[0m         \u001B[38;5;28;43mself\u001B[39;49m\u001B[38;5;241;43m.\u001B[39;49m\u001B[43mshell\u001B[49m\u001B[38;5;241;43m.\u001B[39;49m\u001B[43msafe_execfile_ipy\u001B[49m\u001B[43m(\u001B[49m\u001B[43mfilename\u001B[49m\u001B[43m,\u001B[49m\u001B[43m \u001B[49m\u001B[43mraise_exceptions\u001B[49m\u001B[38;5;241;43m=\u001B[39;49m\u001B[38;5;28;43;01mTrue\u001B[39;49;00m\u001B[43m)\u001B[49m\n\u001B[0;32m    738\u001B[0m     \u001B[38;5;28;01mreturn\u001B[39;00m\n\u001B[0;32m    740\u001B[0m \u001B[38;5;66;03m# Control the response to exit() calls made by the script being run\u001B[39;00m\n",
      "File \u001B[1;32m~\\.conda\\envs\\tf\\lib\\site-packages\\IPython\\core\\interactiveshell.py:3005\u001B[0m, in \u001B[0;36mInteractiveShell.safe_execfile_ipy\u001B[1;34m(self, fname, shell_futures, raise_exceptions)\u001B[0m\n\u001B[0;32m   3003\u001B[0m result \u001B[38;5;241m=\u001B[39m \u001B[38;5;28mself\u001B[39m\u001B[38;5;241m.\u001B[39mrun_cell(cell, silent\u001B[38;5;241m=\u001B[39m\u001B[38;5;28;01mTrue\u001B[39;00m, shell_futures\u001B[38;5;241m=\u001B[39mshell_futures)\n\u001B[0;32m   3004\u001B[0m \u001B[38;5;28;01mif\u001B[39;00m raise_exceptions:\n\u001B[1;32m-> 3005\u001B[0m     \u001B[43mresult\u001B[49m\u001B[38;5;241;43m.\u001B[39;49m\u001B[43mraise_error\u001B[49m\u001B[43m(\u001B[49m\u001B[43m)\u001B[49m\n\u001B[0;32m   3006\u001B[0m \u001B[38;5;28;01melif\u001B[39;00m \u001B[38;5;129;01mnot\u001B[39;00m result\u001B[38;5;241m.\u001B[39msuccess:\n\u001B[0;32m   3007\u001B[0m     \u001B[38;5;28;01mbreak\u001B[39;00m\n",
      "File \u001B[1;32m~\\.conda\\envs\\tf\\lib\\site-packages\\IPython\\core\\interactiveshell.py:308\u001B[0m, in \u001B[0;36mExecutionResult.raise_error\u001B[1;34m(self)\u001B[0m\n\u001B[0;32m    306\u001B[0m     \u001B[38;5;28;01mraise\u001B[39;00m \u001B[38;5;28mself\u001B[39m\u001B[38;5;241m.\u001B[39merror_before_exec\n\u001B[0;32m    307\u001B[0m \u001B[38;5;28;01mif\u001B[39;00m \u001B[38;5;28mself\u001B[39m\u001B[38;5;241m.\u001B[39merror_in_exec \u001B[38;5;129;01mis\u001B[39;00m \u001B[38;5;129;01mnot\u001B[39;00m \u001B[38;5;28;01mNone\u001B[39;00m:\n\u001B[1;32m--> 308\u001B[0m     \u001B[38;5;28;01mraise\u001B[39;00m \u001B[38;5;28mself\u001B[39m\u001B[38;5;241m.\u001B[39merror_in_exec\n",
      "    \u001B[1;31m[... skipping hidden 1 frame]\u001B[0m\n",
      "File \u001B[1;32m~\\AppData\\Local\\Temp\\ipykernel_37752\\3290093600.py:23\u001B[0m\n\u001B[0;32m     21\u001B[0m ssh \u001B[38;5;241m=\u001B[39m paramiko\u001B[38;5;241m.\u001B[39mSSHClient()\n\u001B[0;32m     22\u001B[0m ssh\u001B[38;5;241m.\u001B[39mset_missing_host_key_policy(paramiko\u001B[38;5;241m.\u001B[39mAutoAddPolicy())\n\u001B[1;32m---> 23\u001B[0m \u001B[43mssh\u001B[49m\u001B[38;5;241;43m.\u001B[39;49m\u001B[43mconnect\u001B[49m\u001B[43m(\u001B[49m\u001B[43mhostname\u001B[49m\u001B[43m,\u001B[49m\u001B[43m \u001B[49m\u001B[43musername\u001B[49m\u001B[38;5;241;43m=\u001B[39;49m\u001B[43musername\u001B[49m\u001B[43m,\u001B[49m\u001B[43m \u001B[49m\u001B[43mpassword\u001B[49m\u001B[38;5;241;43m=\u001B[39;49m\u001B[43mpassword\u001B[49m\u001B[43m,\u001B[49m\u001B[43m \u001B[49m\u001B[43mcompress\u001B[49m\u001B[38;5;241;43m=\u001B[39;49m\u001B[38;5;28;43;01mTrue\u001B[39;49;00m\u001B[43m)\u001B[49m\n\u001B[0;32m     25\u001B[0m \u001B[38;5;66;03m# List files in the remote directory\u001B[39;00m\n\u001B[0;32m     26\u001B[0m stdin, stdout, stderr \u001B[38;5;241m=\u001B[39m ssh\u001B[38;5;241m.\u001B[39mexec_command(\u001B[38;5;124mf\u001B[39m\u001B[38;5;124m'\u001B[39m\u001B[38;5;124mls \u001B[39m\u001B[38;5;132;01m{\u001B[39;00mremote_dir\u001B[38;5;132;01m}\u001B[39;00m\u001B[38;5;124m'\u001B[39m)\n",
      "File \u001B[1;32m~\\.conda\\envs\\tf\\lib\\site-packages\\paramiko\\client.py:409\u001B[0m, in \u001B[0;36mSSHClient.connect\u001B[1;34m(self, hostname, port, username, password, pkey, key_filename, timeout, allow_agent, look_for_keys, compress, sock, gss_auth, gss_kex, gss_deleg_creds, gss_host, banner_timeout, auth_timeout, channel_timeout, gss_trust_dns, passphrase, disabled_algorithms, transport_factory, auth_strategy)\u001B[0m\n\u001B[0;32m    403\u001B[0m     \u001B[38;5;66;03m# Make sure we explode usefully if no address family attempts\u001B[39;00m\n\u001B[0;32m    404\u001B[0m     \u001B[38;5;66;03m# succeeded. We've no way of knowing which error is the \"right\"\u001B[39;00m\n\u001B[0;32m    405\u001B[0m     \u001B[38;5;66;03m# one, so we construct a hybrid exception containing all the real\u001B[39;00m\n\u001B[0;32m    406\u001B[0m     \u001B[38;5;66;03m# ones, of a subclass that client code should still be watching for\u001B[39;00m\n\u001B[0;32m    407\u001B[0m     \u001B[38;5;66;03m# (socket.error)\u001B[39;00m\n\u001B[0;32m    408\u001B[0m     \u001B[38;5;28;01mif\u001B[39;00m \u001B[38;5;28mlen\u001B[39m(errors) \u001B[38;5;241m==\u001B[39m \u001B[38;5;28mlen\u001B[39m(to_try):\n\u001B[1;32m--> 409\u001B[0m         \u001B[38;5;28;01mraise\u001B[39;00m NoValidConnectionsError(errors)\n\u001B[0;32m    411\u001B[0m \u001B[38;5;28;01mif\u001B[39;00m transport_factory \u001B[38;5;129;01mis\u001B[39;00m \u001B[38;5;28;01mNone\u001B[39;00m:\n\u001B[0;32m    412\u001B[0m     transport_factory \u001B[38;5;241m=\u001B[39m Transport\n",
      "\u001B[1;31mNoValidConnectionsError\u001B[0m: [Errno None] Unable to connect to port 22 on 127.0.0.1 or ::1"
     ]
    }
   ],
   "execution_count": 2
  },
  {
   "metadata": {},
   "cell_type": "code",
   "outputs": [],
   "execution_count": null,
   "source": "",
   "id": "136e5d8b17a4ed41"
  }
 ],
 "metadata": {
  "kernelspec": {
   "display_name": "Python 3",
   "language": "python",
   "name": "python3"
  },
  "language_info": {
   "codemirror_mode": {
    "name": "ipython",
    "version": 2
   },
   "file_extension": ".py",
   "mimetype": "text/x-python",
   "name": "python",
   "nbconvert_exporter": "python",
   "pygments_lexer": "ipython2",
   "version": "2.7.6"
  }
 },
 "nbformat": 4,
 "nbformat_minor": 5
}
