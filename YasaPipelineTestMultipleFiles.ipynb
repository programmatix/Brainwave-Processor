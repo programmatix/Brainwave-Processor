{
 "cells": [
  {
   "metadata": {
    "ExecuteTime": {
     "end_time": "2024-12-20T06:30:07.062196Z",
     "start_time": "2024-12-20T06:30:07.051794Z"
    }
   },
   "cell_type": "code",
   "source": [
    "# Autoreload possibly interferes with IntelliJ debugging\n",
    "# %reload_ext autoreload\n",
    "# %autoreload 2\n",
    "import logging\n",
    "from datetime import datetime\n",
    "# class FlushHandler(logging.StreamHandler):\n",
    "#     def emit(self, record):e\n",
    "#         super().emit(record)\n",
    "#         self.flush()\n",
    "\n",
    "logging.basicConfig(level=logging.INFO, format='%(asctime)s - %(levelname)s - %(message)s')\n",
    "# log = lambda msg: logging.info(msg)\n",
    "log = lambda msg: print(f\"{datetime.today()} {msg}\")\n"
   ],
   "id": "34b2ec6a149ab9b1",
   "outputs": [],
   "execution_count": 7
  },
  {
   "metadata": {},
   "cell_type": "markdown",
   "source": "\n",
   "id": "f89ac5fec644dc7a"
  },
  {
   "metadata": {
    "ExecuteTime": {
     "end_time": "2024-12-20T06:30:07.200810Z",
     "start_time": "2024-12-20T06:30:07.191761Z"
    }
   },
   "cell_type": "code",
   "source": [
    "#assert False\n",
    "global_force = False"
   ],
   "id": "80044d81998b75e",
   "outputs": [],
   "execution_count": 8
  },
  {
   "metadata": {},
   "cell_type": "markdown",
   "source": "# Full night pipeline (multiple files)",
   "id": "2177b708d94480ca"
  },
  {
   "metadata": {
    "ExecuteTime": {
     "end_time": "2024-12-20T06:30:07.311295Z",
     "start_time": "2024-12-20T06:30:07.266083Z"
    }
   },
   "cell_type": "code",
   "source": [
    "import pandas as pd\n",
    "import os\n",
    "\n",
    "input_dir = \"C:\\\\dev\\\\play\\\\brainwave-data\"\n",
    "stats_df = pd.read_csv(input_dir + os.path.sep + \"stats.csv\")"
   ],
   "id": "4b29301dac33b36d",
   "outputs": [],
   "execution_count": 9
  },
  {
   "metadata": {},
   "cell_type": "markdown",
   "source": "# Find Brainflow files that haven't been copied over",
   "id": "a68b61c44f8dcdc1"
  },
  {
   "metadata": {
    "ExecuteTime": {
     "end_time": "2024-12-20T06:30:08.027389Z",
     "start_time": "2024-12-20T06:30:07.333417Z"
    }
   },
   "cell_type": "code",
   "source": [
    "import pytz\n",
    "from tqdm import tqdm\n",
    "import paramiko\n",
    "import re\n",
    "from datetime import datetime, timedelta\n",
    "import os\n",
    "import dotenv\n",
    "dotenv.load_dotenv()\n",
    "\n",
    "# Define the time window\n",
    "time_window = timedelta(minutes=10)\n",
    "\n",
    "# Define the remote server details\n",
    "hostname = os.getenv('SSH_HOST')\n",
    "username = os.getenv('SSH_USERNAME')\n",
    "password = os.getenv('SSH_PASSWORD')\n",
    "remote_dir = '/home/graham/dev/Brainwave-Data'\n",
    "local_dir = input_dir\n",
    "\n",
    "# Create an SSH client\n",
    "ssh = paramiko.SSHClient()\n",
    "ssh.set_missing_host_key_policy(paramiko.AutoAddPolicy())\n",
    "ssh.connect(hostname, username=username, password=password, compress=True)\n",
    "\n",
    "# List files in the remote directory\n",
    "stdin, stdout, stderr = ssh.exec_command(f'ls {remote_dir}')\n",
    "remote_brainflow_files = [f for f in stdout.read().decode().splitlines() if f.endswith(\".brainflow.csv\")]\n"
   ],
   "id": "de7c66d190ca587d",
   "outputs": [
    {
     "name": "stderr",
     "output_type": "stream",
     "text": [
      "2024-12-20 06:30:07,384 - INFO - Connected (version 2.0, client OpenSSH_9.6)\n",
      "2024-12-20 06:30:07,543 - INFO - Authentication (publickey) failed.\n",
      "2024-12-20 06:30:07,606 - INFO - Authentication (password) successful!\n"
     ]
    }
   ],
   "execution_count": 10
  },
  {
   "metadata": {
    "ExecuteTime": {
     "end_time": "2024-12-20T06:30:08.091299Z",
     "start_time": "2024-12-20T06:30:08.060348Z"
    }
   },
   "cell_type": "code",
   "source": "remote_brainflow_files",
   "id": "575825f9db239c2d",
   "outputs": [
    {
     "data": {
      "text/plain": [
       "['2024-09-30-21-27-49.brainflow.csv',\n",
       " '2024-10-01-21-36-11.brainflow.csv',\n",
       " '2024-10-02-21-21-15.brainflow.csv',\n",
       " '2024-10-04-21-13-39.brainflow.csv',\n",
       " '2024-10-05-21-09-47.brainflow.csv',\n",
       " '2024-10-06-21-29-18.brainflow.csv',\n",
       " '2024-10-07-21-35-18.brainflow.csv',\n",
       " '2024-10-08-21-21-34.brainflow.csv',\n",
       " '2024-10-09-21-22-04.brainflow.csv',\n",
       " '2024-10-11-21-16-27.brainflow.csv',\n",
       " '2024-10-15-22-01-52.brainflow.csv',\n",
       " '2024-10-21-21-30-19.brainflow.csv',\n",
       " '2024-10-23-21-24-03.brainflow.csv',\n",
       " '2024-10-24-21-35-33.brainflow.csv',\n",
       " '2024-10-29-20-42-12.brainflow.csv',\n",
       " '2024-10-30-21-26-55.brainflow.csv',\n",
       " '2024-11-01-21-32-22.brainflow.csv',\n",
       " '2024-11-02-21-29-03.brainflow.csv',\n",
       " '2024-11-04-21-20-51.brainflow.csv',\n",
       " '2024-11-05-21-34-15.brainflow.csv',\n",
       " '2024-11-07-21-26-18.brainflow.csv',\n",
       " '2024-11-08-21-16-53.brainflow.csv',\n",
       " '2024-11-09-21-27-51.brainflow.csv',\n",
       " '2024-11-12-21-11-43.brainflow.csv',\n",
       " '2024-11-16-21-54-46.brainflow.csv',\n",
       " '2024-11-19-21-29-04.brainflow.csv',\n",
       " '2024-11-20-21-30-29.brainflow.csv',\n",
       " '2024-11-21-21-15-26.brainflow.csv',\n",
       " '2024-11-22-21-30-12.brainflow.csv',\n",
       " '2024-11-23-21-14-58.brainflow.csv',\n",
       " '2024-11-24-21-21-31.brainflow.csv',\n",
       " '2024-11-24-22-33-06.brainflow.csv',\n",
       " '2024-11-24-22-37-54.brainflow.csv',\n",
       " '2024-11-26-21-35-46.brainflow.csv',\n",
       " '2024-11-27-21-14-24.brainflow.csv',\n",
       " '2024-11-27-21-18-50.brainflow.csv',\n",
       " '2024-11-28-21-50-57.brainflow.csv',\n",
       " '2024-11-29-21-18-33.brainflow.csv',\n",
       " '2024-11-30-21-21-05.brainflow.csv',\n",
       " '2024-12-01-21-29-13.brainflow.csv',\n",
       " '2024-12-03-21-15-08.brainflow.csv',\n",
       " '2024-12-04-21-15-17.brainflow.csv',\n",
       " '2024-12-05-21-15-24.brainflow.csv',\n",
       " '2024-12-06-21-32-04.brainflow.csv',\n",
       " '2024-12-07-21-19-09.brainflow.csv',\n",
       " '2024-12-08-21-23-50.brainflow.csv',\n",
       " '2024-12-09-21-29-08.brainflow.csv',\n",
       " '2024-12-10-21-14-13.brainflow.csv',\n",
       " '2024-12-11-21-31-37.brainflow.csv',\n",
       " '2024-12-12-21-20-17.brainflow.csv',\n",
       " '2024-12-13-21-23-37.brainflow.csv',\n",
       " '2024-12-14-21-26-54.brainflow.csv',\n",
       " '2024-12-16-21-26-57.brainflow.csv',\n",
       " '2024-12-17-21-24-11.brainflow.csv',\n",
       " '2024-12-18-21-32-18.brainflow.csv',\n",
       " '2024-12-19-21-18-48.brainflow.csv']"
      ]
     },
     "execution_count": 11,
     "metadata": {},
     "output_type": "execute_result"
    }
   ],
   "execution_count": 11
  },
  {
   "metadata": {
    "ExecuteTime": {
     "end_time": "2024-12-20T06:30:08.186960Z",
     "start_time": "2024-12-20T06:30:08.124246Z"
    }
   },
   "cell_type": "code",
   "source": [
    "files_to_copy = remote_brainflow_files.copy()\n",
    "\n",
    "for root, dirs, files in os.walk(input_dir):\n",
    "    #for idx, file_name in enumerate(tqdm(dirs, desc=\"Converting Brainflow to FIF\")):\n",
    "    for idx, file_name in enumerate(files):\n",
    "        full_input_filename = os.path.join(root, file_name)\n",
    "        if \".brainflow.csv.bz2\" in full_input_filename:\n",
    "            file_name_without_bz2 = file_name.removesuffix(\".bz2\")\n",
    "            already_have = file_name_without_bz2 in remote_brainflow_files\n",
    "            print(f\"Already have {full_input_filename}: {already_have}\")\n",
    "            if already_have:\n",
    "                files_to_copy.remove(file_name_without_bz2)\n",
    "\n"
   ],
   "id": "5cb4213ad55fa5c8",
   "outputs": [
    {
     "name": "stdout",
     "output_type": "stream",
     "text": [
      "Already have C:\\dev\\play\\brainwave-data\\08-07-2024--22-51-16\\08-07-2024--22-51-16.brainflow.csv.bz2: False\n",
      "Already have C:\\dev\\play\\brainwave-data\\09-07-2024--22-52-25\\09-07-2024--22-52-25.brainflow.csv.bz2: False\n",
      "Already have C:\\dev\\play\\brainwave-data\\2024-07-15-09-10-07\\2024-07-15-09-10-07.brainflow.csv.bz2: False\n",
      "Already have C:\\dev\\play\\brainwave-data\\2024-07-16-23-14-52\\2024-07-16-23-14-52.brainflow.csv.bz2: False\n",
      "Already have C:\\dev\\play\\brainwave-data\\2024-07-24-18-57-03\\2024-07-24-18-57-03.brainflow.csv.bz2: False\n",
      "Already have C:\\dev\\play\\brainwave-data\\2024-09-03-21-10-58\\2024-09-03-21-10-58.brainflow.csv.bz2: False\n",
      "Already have C:\\dev\\play\\brainwave-data\\2024-09-04-21-44-08\\2024-09-04-21-44-08.brainflow.csv.bz2: False\n",
      "Already have C:\\dev\\play\\brainwave-data\\2024-09-08-21-01-39\\2024-09-08-21-01-39.brainflow.csv.bz2: False\n",
      "Already have C:\\dev\\play\\brainwave-data\\2024-09-10-21-22-21\\2024-09-10-21-22-21.brainflow.csv.bz2: False\n",
      "Already have C:\\dev\\play\\brainwave-data\\2024-09-11-21-19-21\\2024-09-11-21-19-21.brainflow.csv.bz2: False\n",
      "Already have C:\\dev\\play\\brainwave-data\\2024-09-13-21-24-32\\2024-09-13-21-24-32.brainflow.csv.bz2: False\n",
      "Already have C:\\dev\\play\\brainwave-data\\2024-09-15-21-14-05\\2024-09-15-21-14-05.brainflow.csv.bz2: False\n",
      "Already have C:\\dev\\play\\brainwave-data\\2024-09-16-21-04-27\\2024-09-16-21-04-27.brainflow.csv.bz2: False\n",
      "Already have C:\\dev\\play\\brainwave-data\\2024-09-17-21-33-14\\2024-09-17-21-33-14.brainflow.csv.bz2: False\n",
      "Already have C:\\dev\\play\\brainwave-data\\2024-09-18-21-28-11\\2024-09-18-21-28-11.brainflow.csv.bz2: False\n",
      "Already have C:\\dev\\play\\brainwave-data\\2024-09-19-21-29-42\\2024-09-19-21-29-42.brainflow.csv.bz2: False\n",
      "Already have C:\\dev\\play\\brainwave-data\\2024-09-20-21-19-28\\2024-09-20-21-19-28.brainflow.csv.bz2: False\n",
      "Already have C:\\dev\\play\\brainwave-data\\2024-09-22-21-30-59\\2024-09-22-21-30-59.brainflow.csv.bz2: False\n",
      "Already have C:\\dev\\play\\brainwave-data\\2024-09-24-22-43-12\\2024-09-24-22-43-12.brainflow.csv.bz2: False\n",
      "Already have C:\\dev\\play\\brainwave-data\\2024-09-25-21-57-01\\2024-09-25-21-57-01.brainflow.csv.bz2: False\n",
      "Already have C:\\dev\\play\\brainwave-data\\2024-09-26-21-24-52\\2024-09-26-21-24-52.brainflow.csv.bz2: False\n",
      "Already have C:\\dev\\play\\brainwave-data\\2024-09-28-21-33-28\\2024-09-28-21-33-28.brainflow.csv.bz2: False\n",
      "Already have C:\\dev\\play\\brainwave-data\\2024-09-30-21-27-49\\2024-09-30-21-27-49.brainflow.csv.bz2: True\n",
      "Already have C:\\dev\\play\\brainwave-data\\2024-10-01-21-36-11\\2024-10-01-21-36-11.brainflow.csv.bz2: True\n",
      "Already have C:\\dev\\play\\brainwave-data\\2024-10-02-21-20-34\\2024-10-02-21-20-34.brainflow.csv.bz2: False\n",
      "Already have C:\\dev\\play\\brainwave-data\\2024-10-02-21-21-15\\2024-10-02-21-21-15.brainflow.csv.bz2: True\n",
      "Already have C:\\dev\\play\\brainwave-data\\2024-10-04-21-13-39\\2024-10-04-21-13-39.brainflow.csv.bz2: True\n",
      "Already have C:\\dev\\play\\brainwave-data\\2024-10-05-21-09-46\\2024-10-05-21-09-47.brainflow.csv.bz2: True\n",
      "Already have C:\\dev\\play\\brainwave-data\\2024-10-06-21-29-18\\2024-10-06-21-29-18.brainflow.csv.bz2: True\n",
      "Already have C:\\dev\\play\\brainwave-data\\2024-10-07-21-35-17\\2024-10-07-21-35-18.brainflow.csv.bz2: True\n",
      "Already have C:\\dev\\play\\brainwave-data\\2024-10-08-21-21-34\\2024-10-08-21-21-34.brainflow.csv.bz2: True\n",
      "Already have C:\\dev\\play\\brainwave-data\\2024-10-09-21-22-04\\2024-10-09-21-22-04.brainflow.csv.bz2: True\n",
      "Already have C:\\dev\\play\\brainwave-data\\2024-10-11-21-16-27\\2024-10-11-21-16-27.brainflow.csv.bz2: True\n",
      "Already have C:\\dev\\play\\brainwave-data\\2024-10-15-22-01-52\\2024-10-15-22-01-52.brainflow.csv.bz2: True\n",
      "Already have C:\\dev\\play\\brainwave-data\\2024-10-20-20-09-48\\2024-10-20-20-09-48.brainflow.csv.bz2: False\n",
      "Already have C:\\dev\\play\\brainwave-data\\2024-10-21-21-30-18\\2024-10-21-21-30-19.brainflow.csv.bz2: True\n",
      "Already have C:\\dev\\play\\brainwave-data\\2024-10-23-21-24-02\\2024-10-23-21-24-03.brainflow.csv.bz2: True\n",
      "Already have C:\\dev\\play\\brainwave-data\\2024-10-24-21-35-33\\2024-10-24-21-35-33.brainflow.csv.bz2: True\n",
      "Already have C:\\dev\\play\\brainwave-data\\2024-10-29-20-42-12\\2024-10-29-20-42-12.brainflow.csv.bz2: True\n",
      "Already have C:\\dev\\play\\brainwave-data\\2024-10-30-21-26-55\\2024-10-30-21-26-55.brainflow.csv.bz2: True\n",
      "Already have C:\\dev\\play\\brainwave-data\\2024-11-01-21-32-22\\2024-11-01-21-32-22.brainflow.csv.bz2: True\n",
      "Already have C:\\dev\\play\\brainwave-data\\2024-11-02-21-29-03\\2024-11-02-21-29-03.brainflow.csv.bz2: True\n",
      "Already have C:\\dev\\play\\brainwave-data\\2024-11-03-21-20-37\\2024-11-03-21-20-37.brainflow.csv.bz2: False\n",
      "Already have C:\\dev\\play\\brainwave-data\\2024-11-04-21-20-51\\2024-11-04-21-20-51.brainflow.csv.bz2: True\n",
      "Already have C:\\dev\\play\\brainwave-data\\2024-11-05-21-34-15\\2024-11-05-21-34-15.brainflow.csv.bz2: True\n",
      "Already have C:\\dev\\play\\brainwave-data\\2024-11-07-21-26-18\\2024-11-07-21-26-18.brainflow.csv.bz2: True\n",
      "Already have C:\\dev\\play\\brainwave-data\\2024-11-08-21-16-53\\2024-11-08-21-16-53.brainflow.csv.bz2: True\n",
      "Already have C:\\dev\\play\\brainwave-data\\2024-11-09-21-27-51\\2024-11-09-21-27-51.brainflow.csv.bz2: True\n",
      "Already have C:\\dev\\play\\brainwave-data\\2024-11-12-21-11-43\\2024-11-12-21-11-43.brainflow.csv.bz2: True\n",
      "Already have C:\\dev\\play\\brainwave-data\\2024-11-16-21-54-46\\2024-11-16-21-54-46.brainflow.csv.bz2: True\n",
      "Already have C:\\dev\\play\\brainwave-data\\2024-11-19-21-29-04\\2024-11-19-21-29-04.brainflow.csv.bz2: True\n",
      "Already have C:\\dev\\play\\brainwave-data\\2024-11-20-21-30-29\\2024-11-20-21-30-29.brainflow.csv.bz2: True\n",
      "Already have C:\\dev\\play\\brainwave-data\\2024-11-21-21-15-26\\2024-11-21-21-15-26.brainflow.csv.bz2: True\n",
      "Already have C:\\dev\\play\\brainwave-data\\2024-11-22-21-30-12\\2024-11-22-21-30-12.brainflow.csv.bz2: True\n",
      "Already have C:\\dev\\play\\brainwave-data\\2024-11-23-21-14-58\\2024-11-23-21-14-58.brainflow.csv.bz2: True\n",
      "Already have C:\\dev\\play\\brainwave-data\\2024-11-24-21-21-31\\2024-11-24-21-21-31.brainflow.csv.bz2: True\n",
      "Already have C:\\dev\\play\\brainwave-data\\2024-11-24-22-33-06\\2024-11-24-22-33-06.brainflow.csv.bz2: True\n",
      "Already have C:\\dev\\play\\brainwave-data\\2024-11-24-22-37-54\\2024-11-24-22-37-54.brainflow.csv.bz2: True\n",
      "Already have C:\\dev\\play\\brainwave-data\\2024-11-25-21-27-21\\2024-11-25-21-27-21.brainflow.csv.bz2: False\n",
      "Already have C:\\dev\\play\\brainwave-data\\2024-11-26-21-35-46\\2024-11-26-21-35-46.brainflow.csv.bz2: True\n",
      "Already have C:\\dev\\play\\brainwave-data\\2024-11-27-21-14-24\\2024-11-27-21-14-24.brainflow.csv.bz2: True\n",
      "Already have C:\\dev\\play\\brainwave-data\\2024-11-27-21-18-50\\2024-11-27-21-18-50.brainflow.csv.bz2: True\n",
      "Already have C:\\dev\\play\\brainwave-data\\2024-11-28-21-50-57\\2024-11-28-21-50-57.brainflow.csv.bz2: True\n",
      "Already have C:\\dev\\play\\brainwave-data\\2024-11-29-21-18-33\\2024-11-29-21-18-33.brainflow.csv.bz2: True\n",
      "Already have C:\\dev\\play\\brainwave-data\\2024-11-30-21-21-05\\2024-11-30-21-21-05.brainflow.csv.bz2: True\n",
      "Already have C:\\dev\\play\\brainwave-data\\2024-12-01-21-29-13\\2024-12-01-21-29-13.brainflow.csv.bz2: True\n",
      "Already have C:\\dev\\play\\brainwave-data\\2024-12-03-21-15-08\\2024-12-03-21-15-08.brainflow.csv.bz2: True\n",
      "Already have C:\\dev\\play\\brainwave-data\\2024-12-04-21-15-17\\2024-12-04-21-15-17.brainflow.csv.bz2: True\n",
      "Already have C:\\dev\\play\\brainwave-data\\2024-12-05-21-15-24\\2024-12-05-21-15-24.brainflow.csv.bz2: True\n",
      "Already have C:\\dev\\play\\brainwave-data\\2024-12-06-21-32-04\\2024-12-06-21-32-04.brainflow.csv.bz2: True\n",
      "Already have C:\\dev\\play\\brainwave-data\\2024-12-07-21-19-09\\2024-12-07-21-19-09.brainflow.csv.bz2: True\n",
      "Already have C:\\dev\\play\\brainwave-data\\2024-12-08-21-23-50\\2024-12-08-21-23-50.brainflow.csv.bz2: True\n",
      "Already have C:\\dev\\play\\brainwave-data\\2024-12-09-21-29-08\\2024-12-09-21-29-08.brainflow.csv.bz2: True\n",
      "Already have C:\\dev\\play\\brainwave-data\\2024-12-10-21-14-13\\2024-12-10-21-14-13.brainflow.csv.bz2: True\n",
      "Already have C:\\dev\\play\\brainwave-data\\2024-12-11-21-31-37\\2024-12-11-21-31-37.brainflow.csv.bz2: True\n",
      "Already have C:\\dev\\play\\brainwave-data\\2024-12-12-21-20-17\\2024-12-12-21-20-17.brainflow.csv.bz2: True\n",
      "Already have C:\\dev\\play\\brainwave-data\\2024-12-13-21-23-37\\2024-12-13-21-23-37.brainflow.csv.bz2: True\n",
      "Already have C:\\dev\\play\\brainwave-data\\2024-12-14-21-26-54\\2024-12-14-21-26-54.brainflow.csv.bz2: True\n",
      "Already have C:\\dev\\play\\brainwave-data\\2024-12-16-21-26-57\\2024-12-16-21-26-57.brainflow.csv.bz2: True\n",
      "Already have C:\\dev\\play\\brainwave-data\\2024-12-17-21-24-11\\2024-12-17-21-24-11.brainflow.csv.bz2: True\n",
      "Already have C:\\dev\\play\\brainwave-data\\2024-12-18-21-32-18\\2024-12-18-21-32-18.brainflow.csv.bz2: True\n",
      "Already have C:\\dev\\play\\brainwave-data\\nonnight\\2024-07-15-09-10-07\\2024-07-15-09-10-07.brainflow.csv.bz2: False\n",
      "Already have C:\\dev\\play\\brainwave-data\\nonnight\\2024-07-16-07-17-07\\2024-07-16-07-17-07.brainflow.csv.bz2: False\n",
      "Already have C:\\dev\\play\\brainwave-data\\nonnight\\2024-07-17-08-17-29\\2024-07-17-08-17-29.brainflow.csv.bz2: False\n",
      "Already have C:\\dev\\play\\brainwave-data\\nonnight\\2024-07-18-09-10-29\\2024-07-18-09-10-29.brainflow.csv.bz2: False\n",
      "Already have C:\\dev\\play\\brainwave-data\\nonnight\\2024-07-22-09-14-52\\2024-07-22-09-14-52.brainflow.csv.bz2: False\n",
      "Already have C:\\dev\\play\\brainwave-data\\nonnight\\2024-07-27-09-40-07\\2024-07-27-09-40-07.brainflow.csv.bz2: False\n",
      "Already have C:\\dev\\play\\brainwave-data\\nonnight\\2024-07-28-22-29-49\\2024-07-28-22-29-49.brainflow.csv.bz2: False\n",
      "Already have C:\\dev\\play\\brainwave-data\\nonnight\\2024-07-29-08-39-51\\2024-07-29-08-39-51.brainflow.csv.bz2: False\n",
      "Already have C:\\dev\\play\\brainwave-data\\nonnight\\2024-07-30-20-52-24\\2024-07-30-20-52-24.brainflow.csv.bz2: False\n",
      "Already have C:\\dev\\play\\brainwave-data\\nonnight\\2024-08-01-17-03-14\\2024-08-01-17-03-14.brainflow.csv.bz2: False\n",
      "Already have C:\\dev\\play\\brainwave-data\\nonnight\\2024-08-02-10-27-18\\2024-08-02-10-27-18.brainflow.csv.bz2: False\n",
      "Already have C:\\dev\\play\\brainwave-data\\nonnight\\2024-08-04-08-15-28\\2024-08-04-08-15-28.brainflow.csv.bz2: False\n"
     ]
    }
   ],
   "execution_count": 12
  },
  {
   "metadata": {
    "ExecuteTime": {
     "end_time": "2024-12-20T06:30:08.234134Z",
     "start_time": "2024-12-20T06:30:08.218539Z"
    }
   },
   "cell_type": "code",
   "source": "files_to_copy",
   "id": "423cd6c357456f29",
   "outputs": [
    {
     "data": {
      "text/plain": [
       "['2024-12-19-21-18-48.brainflow.csv']"
      ]
     },
     "execution_count": 13,
     "metadata": {},
     "output_type": "execute_result"
    }
   ],
   "execution_count": 13
  },
  {
   "metadata": {
    "ExecuteTime": {
     "end_time": "2024-12-20T06:30:29.669890Z",
     "start_time": "2024-12-20T06:30:08.250139Z"
    }
   },
   "cell_type": "code",
   "source": [
    "import os\n",
    "import bz2\n",
    "from tqdm import tqdm\n",
    "\n",
    "sftp = ssh.open_sftp()\n",
    "for file in files_to_copy:\n",
    "    remote_file_path = remote_dir + \"/\" + file\n",
    "    local_file_path = os.path.join(input_dir, file)\n",
    "    log(f\"Copying Brainflow backup remote:{remote_file_path} to {local_file_path}\")\n",
    "\n",
    "    # Get the file size\n",
    "    remote_file_size = sftp.stat(remote_file_path).st_size\n",
    "\n",
    "    with tqdm(total=remote_file_size, unit='B', unit_scale=True, desc=file, ascii=True) as pbar:\n",
    "        local_file_path = os.path.join(input_dir, file)\n",
    "    \n",
    "        def callback(transferred_so_far, total_to_transfer):\n",
    "            pbar.update(transferred_so_far - pbar.n)\n",
    "    \n",
    "        # Create a file-like object that writes to the local file\n",
    "        with open(local_file_path, 'wb') as local_file:\n",
    "            sftp.getfo(remote_file_path, local_file, callback=callback)\n",
    "sftp.close()"
   ],
   "id": "cb454f01364aee73",
   "outputs": [
    {
     "name": "stderr",
     "output_type": "stream",
     "text": [
      "2024-12-20 06:30:08,529 - INFO - [chan 1] Opened sftp connection (server version 3)\n"
     ]
    },
    {
     "name": "stdout",
     "output_type": "stream",
     "text": [
      "2024-12-20 06:30:08.529358 Copying Brainflow backup remote:/home/graham/dev/Brainwave-Data/2024-12-19-21-18-48.brainflow.csv to C:\\dev\\play\\brainwave-data\\2024-12-19-21-18-48.brainflow.csv\n"
     ]
    },
    {
     "name": "stderr",
     "output_type": "stream",
     "text": [
      "2024-12-19-21-18-48.brainflow.csv: 100%|##########| 1.91G/1.91G [00:21<00:00, 90.4MB/s]\n",
      "2024-12-20 06:30:29,654 - INFO - [chan 1] sftp session closed.\n"
     ]
    }
   ],
   "execution_count": 14
  },
  {
   "metadata": {
    "ExecuteTime": {
     "end_time": "2024-12-20T06:30:29.727804Z",
     "start_time": "2024-12-20T06:30:29.713198Z"
    }
   },
   "cell_type": "code",
   "source": "ssh.close()\n",
   "id": "42674aa9df2a9b98",
   "outputs": [],
   "execution_count": 15
  },
  {
   "metadata": {},
   "cell_type": "markdown",
   "source": "## Convert Brainflow files to FIF",
   "id": "6558e15223cc8efc"
  },
  {
   "metadata": {
    "ExecuteTime": {
     "end_time": "2024-12-20T06:30:29.743555Z",
     "start_time": "2024-12-20T06:30:29.728545Z"
    }
   },
   "cell_type": "code",
   "source": [
    "def get_brainflow_compressed_filename(full_input_filename: str) -> str:\n",
    "    full_output_dirname = webserver.output_dirname(full_input_filename)\n",
    "    compressed_full_output_filename = str(os.path.join(full_output_dirname, os.path.basename(full_input_filename))) + '.bz2'\n",
    "    return compressed_full_output_filename"
   ],
   "id": "e93d35cf861b09fa",
   "outputs": [],
   "execution_count": 16
  },
  {
   "metadata": {
    "jupyter": {
     "is_executing": true
    },
    "ExecuteTime": {
     "start_time": "2024-12-20T06:30:29.780050Z"
    }
   },
   "cell_type": "code",
   "source": [
    "from datetime import datetime\n",
    "\n",
    "import webserver\n",
    "import convert\n",
    "# import zstandard as zstd\n",
    "import os\n",
    "import bz2\n",
    "import time\n",
    "import shutil\n",
    "\n",
    "errors = []\n",
    "processed = []\n",
    "\n",
    "# Could get these working later\n",
    "skip_list = ['2024-09-10-21-22-21']\n",
    "\n",
    "def compress_bz2(input_file, output_file):\n",
    "    start_time = time.time()\n",
    "    with open(input_file, 'rb') as f_in:\n",
    "        with bz2.open(output_file, 'wb', compresslevel=9) as f_out:\n",
    "            shutil.copyfileobj(f_in, f_out)\n",
    "    end_time = time.time()\n",
    "    return end_time - start_time, os.path.getsize(output_file)\n",
    "\n",
    "for root, dirs, files in os.walk(input_dir):\n",
    "    #for idx, file_name in enumerate(tqdm(dirs, desc=\"Converting Brainflow to FIF\")):\n",
    "    for idx, file_name in enumerate(files):\n",
    "        full_input_filename = os.path.join(root, file_name)\n",
    "        try:\n",
    "            if full_input_filename.endswith(\".brainflow.csv\"):\n",
    "                full_output_dirname = webserver.output_dirname(full_input_filename)\n",
    "                full_output_filename = str(os.path.join(full_output_dirname, 'raw.fif'))\n",
    "                \n",
    "                compressed_full_output_filename = get_brainflow_compressed_filename(full_input_filename)\n",
    "                \n",
    "                if not os.path.exists(compressed_full_output_filename):\n",
    "                    log(f\"Compressing file {full_input_filename} to \" + compressed_full_output_filename)\n",
    "                    processed.append(\"Compressing \" + full_input_filename)\n",
    "                    try:\n",
    "                        os.mkdir(os.path.dirname(compressed_full_output_filename))\n",
    "                    except:\n",
    "                        pass\n",
    "                    compress_bz2(full_input_filename, compressed_full_output_filename) \n",
    "                    \n",
    "                if os.path.exists(full_output_filename):\n",
    "                    log(f\"Skipping file {full_input_filename} as {full_output_filename} and {compressed_full_output_filename} already exist\")\n",
    "                    continue\n",
    "                should_skip = False\n",
    "                for s in skip_list:\n",
    "                    if s in full_input_filename:\n",
    "                        log(f\"Skipping file {full_input_filename}\")\n",
    "                        should_skip = True\n",
    "                if not should_skip:\n",
    "                    log(f\"Processing file {full_input_filename}\")\n",
    "                    processed.append(\"Processing \" + full_input_filename)\n",
    "                    channels = None\n",
    "                    date_time_str = os.path.basename(full_input_filename).removesuffix(\".brainflow.csv\")\n",
    "                    date_time_obj = datetime.strptime(date_time_str, '%Y-%m-%d-%H-%M-%S')\n",
    "                    if (date_time_obj > datetime(2024, 9, 1, 0, 0, 0)):\n",
    "                        channels = ['Fpz-M1']\n",
    "        \n",
    "                    if channels is not None:\n",
    "                        log(f\"Processing file {full_input_filename} with channels {channels}\")\n",
    "                        # Changing to gap-filling on 30th Nov\n",
    "                        convert.convert_and_save_brainflow_file_with_gap_filling(log, full_input_filename, full_output_filename, channels)\n",
    "\n",
    "        except Exception as e:\n",
    "            msg = \"Error processing file: \" + full_input_filename\n",
    "            log(msg)\n",
    "            log(e)\n",
    "            errors.append(msg)\n"
   ],
   "id": "21a84723f63a57a8",
   "outputs": [
    {
     "name": "stdout",
     "output_type": "stream",
     "text": [
      "2024-12-20 06:30:44.501853 Skipping file C:\\dev\\play\\brainwave-data\\2024-10-02-21-20-34.brainflow.csv as C:\\dev\\play\\brainwave-data\\2024-10-02-21-20-34\\raw.fif and C:\\dev\\play\\brainwave-data\\2024-10-02-21-20-34\\2024-10-02-21-20-34.brainflow.csv.bz2 already exist\n",
      "2024-12-20 06:30:44.501853 Skipping file C:\\dev\\play\\brainwave-data\\2024-10-06-21-29-18.brainflow.csv as C:\\dev\\play\\brainwave-data\\2024-10-06-21-29-18\\raw.fif and C:\\dev\\play\\brainwave-data\\2024-10-06-21-29-18\\2024-10-06-21-29-18.brainflow.csv.bz2 already exist\n",
      "2024-12-20 06:30:44.501853 Skipping file C:\\dev\\play\\brainwave-data\\2024-10-08-21-21-34.brainflow.csv as C:\\dev\\play\\brainwave-data\\2024-10-08-21-21-34\\raw.fif and C:\\dev\\play\\brainwave-data\\2024-10-08-21-21-34\\2024-10-08-21-21-34.brainflow.csv.bz2 already exist\n",
      "2024-12-20 06:30:44.501853 Skipping file C:\\dev\\play\\brainwave-data\\2024-10-09-21-22-04.brainflow.csv as C:\\dev\\play\\brainwave-data\\2024-10-09-21-22-04\\raw.fif and C:\\dev\\play\\brainwave-data\\2024-10-09-21-22-04\\2024-10-09-21-22-04.brainflow.csv.bz2 already exist\n",
      "2024-12-20 06:30:44.501853 Skipping file C:\\dev\\play\\brainwave-data\\2024-10-11-21-16-27.brainflow.csv as C:\\dev\\play\\brainwave-data\\2024-10-11-21-16-27\\raw.fif and C:\\dev\\play\\brainwave-data\\2024-10-11-21-16-27\\2024-10-11-21-16-27.brainflow.csv.bz2 already exist\n",
      "2024-12-20 06:30:44.501853 Skipping file C:\\dev\\play\\brainwave-data\\2024-10-15-22-01-52.brainflow.csv as C:\\dev\\play\\brainwave-data\\2024-10-15-22-01-52\\raw.fif and C:\\dev\\play\\brainwave-data\\2024-10-15-22-01-52\\2024-10-15-22-01-52.brainflow.csv.bz2 already exist\n",
      "2024-12-20 06:30:44.501853 Skipping file C:\\dev\\play\\brainwave-data\\2024-10-20-20-09-48.brainflow.csv as C:\\dev\\play\\brainwave-data\\2024-10-20-20-09-48\\raw.fif and C:\\dev\\play\\brainwave-data\\2024-10-20-20-09-48\\2024-10-20-20-09-48.brainflow.csv.bz2 already exist\n",
      "2024-12-20 06:30:44.501853 Skipping file C:\\dev\\play\\brainwave-data\\2024-10-24-21-35-33.brainflow.csv as C:\\dev\\play\\brainwave-data\\2024-10-24-21-35-33\\raw.fif and C:\\dev\\play\\brainwave-data\\2024-10-24-21-35-33\\2024-10-24-21-35-33.brainflow.csv.bz2 already exist\n",
      "2024-12-20 06:30:44.501853 Skipping file C:\\dev\\play\\brainwave-data\\2024-10-29-20-42-12.brainflow.csv as C:\\dev\\play\\brainwave-data\\2024-10-29-20-42-12\\raw.fif and C:\\dev\\play\\brainwave-data\\2024-10-29-20-42-12\\2024-10-29-20-42-12.brainflow.csv.bz2 already exist\n",
      "2024-12-20 06:30:44.501853 Skipping file C:\\dev\\play\\brainwave-data\\2024-10-30-21-26-55.brainflow.csv as C:\\dev\\play\\brainwave-data\\2024-10-30-21-26-55\\raw.fif and C:\\dev\\play\\brainwave-data\\2024-10-30-21-26-55\\2024-10-30-21-26-55.brainflow.csv.bz2 already exist\n",
      "2024-12-20 06:30:44.501853 Skipping file C:\\dev\\play\\brainwave-data\\2024-11-01-21-32-22.brainflow.csv as C:\\dev\\play\\brainwave-data\\2024-11-01-21-32-22\\raw.fif and C:\\dev\\play\\brainwave-data\\2024-11-01-21-32-22\\2024-11-01-21-32-22.brainflow.csv.bz2 already exist\n",
      "2024-12-20 06:30:44.501853 Skipping file C:\\dev\\play\\brainwave-data\\2024-11-02-21-29-03.brainflow.csv as C:\\dev\\play\\brainwave-data\\2024-11-02-21-29-03\\raw.fif and C:\\dev\\play\\brainwave-data\\2024-11-02-21-29-03\\2024-11-02-21-29-03.brainflow.csv.bz2 already exist\n",
      "2024-12-20 06:30:44.501853 Skipping file C:\\dev\\play\\brainwave-data\\2024-11-03-21-20-37.brainflow.csv as C:\\dev\\play\\brainwave-data\\2024-11-03-21-20-37\\raw.fif and C:\\dev\\play\\brainwave-data\\2024-11-03-21-20-37\\2024-11-03-21-20-37.brainflow.csv.bz2 already exist\n",
      "2024-12-20 06:30:44.501853 Skipping file C:\\dev\\play\\brainwave-data\\2024-11-04-21-20-51.brainflow.csv as C:\\dev\\play\\brainwave-data\\2024-11-04-21-20-51\\raw.fif and C:\\dev\\play\\brainwave-data\\2024-11-04-21-20-51\\2024-11-04-21-20-51.brainflow.csv.bz2 already exist\n",
      "2024-12-20 06:30:44.501853 Skipping file C:\\dev\\play\\brainwave-data\\2024-11-05-21-34-15.brainflow.csv as C:\\dev\\play\\brainwave-data\\2024-11-05-21-34-15\\raw.fif and C:\\dev\\play\\brainwave-data\\2024-11-05-21-34-15\\2024-11-05-21-34-15.brainflow.csv.bz2 already exist\n",
      "2024-12-20 06:30:44.501853 Skipping file C:\\dev\\play\\brainwave-data\\2024-11-07-21-26-18.brainflow.csv as C:\\dev\\play\\brainwave-data\\2024-11-07-21-26-18\\raw.fif and C:\\dev\\play\\brainwave-data\\2024-11-07-21-26-18\\2024-11-07-21-26-18.brainflow.csv.bz2 already exist\n",
      "2024-12-20 06:30:44.501853 Skipping file C:\\dev\\play\\brainwave-data\\2024-11-08-21-16-53.brainflow.csv as C:\\dev\\play\\brainwave-data\\2024-11-08-21-16-53\\raw.fif and C:\\dev\\play\\brainwave-data\\2024-11-08-21-16-53\\2024-11-08-21-16-53.brainflow.csv.bz2 already exist\n",
      "2024-12-20 06:30:44.501853 Skipping file C:\\dev\\play\\brainwave-data\\2024-11-09-21-27-51.brainflow.csv as C:\\dev\\play\\brainwave-data\\2024-11-09-21-27-51\\raw.fif and C:\\dev\\play\\brainwave-data\\2024-11-09-21-27-51\\2024-11-09-21-27-51.brainflow.csv.bz2 already exist\n",
      "2024-12-20 06:30:44.501853 Skipping file C:\\dev\\play\\brainwave-data\\2024-11-12-21-11-43.brainflow.csv as C:\\dev\\play\\brainwave-data\\2024-11-12-21-11-43\\raw.fif and C:\\dev\\play\\brainwave-data\\2024-11-12-21-11-43\\2024-11-12-21-11-43.brainflow.csv.bz2 already exist\n",
      "2024-12-20 06:30:44.501853 Skipping file C:\\dev\\play\\brainwave-data\\2024-11-16-21-54-46.brainflow.csv as C:\\dev\\play\\brainwave-data\\2024-11-16-21-54-46\\raw.fif and C:\\dev\\play\\brainwave-data\\2024-11-16-21-54-46\\2024-11-16-21-54-46.brainflow.csv.bz2 already exist\n",
      "2024-12-20 06:30:44.501853 Skipping file C:\\dev\\play\\brainwave-data\\2024-11-19-21-29-04.brainflow.csv as C:\\dev\\play\\brainwave-data\\2024-11-19-21-29-04\\raw.fif and C:\\dev\\play\\brainwave-data\\2024-11-19-21-29-04\\2024-11-19-21-29-04.brainflow.csv.bz2 already exist\n",
      "2024-12-20 06:30:44.501853 Skipping file C:\\dev\\play\\brainwave-data\\2024-11-20-21-30-29.brainflow.csv as C:\\dev\\play\\brainwave-data\\2024-11-20-21-30-29\\raw.fif and C:\\dev\\play\\brainwave-data\\2024-11-20-21-30-29\\2024-11-20-21-30-29.brainflow.csv.bz2 already exist\n",
      "2024-12-20 06:30:44.501853 Skipping file C:\\dev\\play\\brainwave-data\\2024-11-21-21-15-26.brainflow.csv as C:\\dev\\play\\brainwave-data\\2024-11-21-21-15-26\\raw.fif and C:\\dev\\play\\brainwave-data\\2024-11-21-21-15-26\\2024-11-21-21-15-26.brainflow.csv.bz2 already exist\n",
      "2024-12-20 06:30:44.501853 Skipping file C:\\dev\\play\\brainwave-data\\2024-11-22-21-30-12.brainflow.csv as C:\\dev\\play\\brainwave-data\\2024-11-22-21-30-12\\raw.fif and C:\\dev\\play\\brainwave-data\\2024-11-22-21-30-12\\2024-11-22-21-30-12.brainflow.csv.bz2 already exist\n",
      "2024-12-20 06:30:44.501853 Skipping file C:\\dev\\play\\brainwave-data\\2024-11-23-21-14-58.brainflow.csv as C:\\dev\\play\\brainwave-data\\2024-11-23-21-14-58\\raw.fif and C:\\dev\\play\\brainwave-data\\2024-11-23-21-14-58\\2024-11-23-21-14-58.brainflow.csv.bz2 already exist\n",
      "2024-12-20 06:30:44.501853 Skipping file C:\\dev\\play\\brainwave-data\\2024-11-24-21-21-31.brainflow.csv as C:\\dev\\play\\brainwave-data\\2024-11-24-21-21-31\\raw.fif and C:\\dev\\play\\brainwave-data\\2024-11-24-21-21-31\\2024-11-24-21-21-31.brainflow.csv.bz2 already exist\n",
      "2024-12-20 06:30:44.501853 Skipping file C:\\dev\\play\\brainwave-data\\2024-11-24-22-33-06.brainflow.csv as C:\\dev\\play\\brainwave-data\\2024-11-24-22-33-06\\raw.fif and C:\\dev\\play\\brainwave-data\\2024-11-24-22-33-06\\2024-11-24-22-33-06.brainflow.csv.bz2 already exist\n",
      "2024-12-20 06:30:44.501853 Skipping file C:\\dev\\play\\brainwave-data\\2024-11-24-22-37-54.brainflow.csv as C:\\dev\\play\\brainwave-data\\2024-11-24-22-37-54\\raw.fif and C:\\dev\\play\\brainwave-data\\2024-11-24-22-37-54\\2024-11-24-22-37-54.brainflow.csv.bz2 already exist\n",
      "2024-12-20 06:30:44.501853 Skipping file C:\\dev\\play\\brainwave-data\\2024-11-25-21-27-21.brainflow.csv as C:\\dev\\play\\brainwave-data\\2024-11-25-21-27-21\\raw.fif and C:\\dev\\play\\brainwave-data\\2024-11-25-21-27-21\\2024-11-25-21-27-21.brainflow.csv.bz2 already exist\n",
      "2024-12-20 06:30:44.501853 Skipping file C:\\dev\\play\\brainwave-data\\2024-11-26-21-35-46.brainflow.csv as C:\\dev\\play\\brainwave-data\\2024-11-26-21-35-46\\raw.fif and C:\\dev\\play\\brainwave-data\\2024-11-26-21-35-46\\2024-11-26-21-35-46.brainflow.csv.bz2 already exist\n",
      "2024-12-20 06:30:44.501853 Skipping file C:\\dev\\play\\brainwave-data\\2024-11-27-21-14-24.brainflow.csv as C:\\dev\\play\\brainwave-data\\2024-11-27-21-14-24\\raw.fif and C:\\dev\\play\\brainwave-data\\2024-11-27-21-14-24\\2024-11-27-21-14-24.brainflow.csv.bz2 already exist\n",
      "2024-12-20 06:30:44.501853 Skipping file C:\\dev\\play\\brainwave-data\\2024-11-27-21-18-50.brainflow.csv as C:\\dev\\play\\brainwave-data\\2024-11-27-21-18-50\\raw.fif and C:\\dev\\play\\brainwave-data\\2024-11-27-21-18-50\\2024-11-27-21-18-50.brainflow.csv.bz2 already exist\n",
      "2024-12-20 06:30:44.501853 Skipping file C:\\dev\\play\\brainwave-data\\2024-11-28-21-50-57.brainflow.csv as C:\\dev\\play\\brainwave-data\\2024-11-28-21-50-57\\raw.fif and C:\\dev\\play\\brainwave-data\\2024-11-28-21-50-57\\2024-11-28-21-50-57.brainflow.csv.bz2 already exist\n",
      "2024-12-20 06:30:44.501853 Skipping file C:\\dev\\play\\brainwave-data\\2024-11-29-21-18-33.brainflow.csv as C:\\dev\\play\\brainwave-data\\2024-11-29-21-18-33\\raw.fif and C:\\dev\\play\\brainwave-data\\2024-11-29-21-18-33\\2024-11-29-21-18-33.brainflow.csv.bz2 already exist\n",
      "2024-12-20 06:30:44.501853 Skipping file C:\\dev\\play\\brainwave-data\\2024-11-30-21-21-05.brainflow.csv as C:\\dev\\play\\brainwave-data\\2024-11-30-21-21-05\\raw.fif and C:\\dev\\play\\brainwave-data\\2024-11-30-21-21-05\\2024-11-30-21-21-05.brainflow.csv.bz2 already exist\n",
      "2024-12-20 06:30:44.501853 Skipping file C:\\dev\\play\\brainwave-data\\2024-12-01-21-29-13.brainflow.csv as C:\\dev\\play\\brainwave-data\\2024-12-01-21-29-13\\raw.fif and C:\\dev\\play\\brainwave-data\\2024-12-01-21-29-13\\2024-12-01-21-29-13.brainflow.csv.bz2 already exist\n",
      "2024-12-20 06:30:44.501853 Skipping file C:\\dev\\play\\brainwave-data\\2024-12-03-21-15-08.brainflow.csv as C:\\dev\\play\\brainwave-data\\2024-12-03-21-15-08\\raw.fif and C:\\dev\\play\\brainwave-data\\2024-12-03-21-15-08\\2024-12-03-21-15-08.brainflow.csv.bz2 already exist\n",
      "2024-12-20 06:30:44.501853 Skipping file C:\\dev\\play\\brainwave-data\\2024-12-04-21-15-17.brainflow.csv as C:\\dev\\play\\brainwave-data\\2024-12-04-21-15-17\\raw.fif and C:\\dev\\play\\brainwave-data\\2024-12-04-21-15-17\\2024-12-04-21-15-17.brainflow.csv.bz2 already exist\n",
      "2024-12-20 06:30:44.501853 Skipping file C:\\dev\\play\\brainwave-data\\2024-12-05-21-15-24.brainflow.csv as C:\\dev\\play\\brainwave-data\\2024-12-05-21-15-24\\raw.fif and C:\\dev\\play\\brainwave-data\\2024-12-05-21-15-24\\2024-12-05-21-15-24.brainflow.csv.bz2 already exist\n",
      "2024-12-20 06:30:44.501853 Skipping file C:\\dev\\play\\brainwave-data\\2024-12-06-21-32-04.brainflow.csv as C:\\dev\\play\\brainwave-data\\2024-12-06-21-32-04\\raw.fif and C:\\dev\\play\\brainwave-data\\2024-12-06-21-32-04\\2024-12-06-21-32-04.brainflow.csv.bz2 already exist\n",
      "2024-12-20 06:30:44.501853 Skipping file C:\\dev\\play\\brainwave-data\\2024-12-07-21-19-09.brainflow.csv as C:\\dev\\play\\brainwave-data\\2024-12-07-21-19-09\\raw.fif and C:\\dev\\play\\brainwave-data\\2024-12-07-21-19-09\\2024-12-07-21-19-09.brainflow.csv.bz2 already exist\n",
      "2024-12-20 06:30:44.501853 Skipping file C:\\dev\\play\\brainwave-data\\2024-12-08-21-23-50.brainflow.csv as C:\\dev\\play\\brainwave-data\\2024-12-08-21-23-50\\raw.fif and C:\\dev\\play\\brainwave-data\\2024-12-08-21-23-50\\2024-12-08-21-23-50.brainflow.csv.bz2 already exist\n",
      "2024-12-20 06:30:44.510895 Skipping file C:\\dev\\play\\brainwave-data\\2024-12-09-21-29-08.brainflow.csv as C:\\dev\\play\\brainwave-data\\2024-12-09-21-29-08\\raw.fif and C:\\dev\\play\\brainwave-data\\2024-12-09-21-29-08\\2024-12-09-21-29-08.brainflow.csv.bz2 already exist\n",
      "2024-12-20 06:30:44.510895 Skipping file C:\\dev\\play\\brainwave-data\\2024-12-10-21-14-13.brainflow.csv as C:\\dev\\play\\brainwave-data\\2024-12-10-21-14-13\\raw.fif and C:\\dev\\play\\brainwave-data\\2024-12-10-21-14-13\\2024-12-10-21-14-13.brainflow.csv.bz2 already exist\n",
      "2024-12-20 06:30:44.510895 Skipping file C:\\dev\\play\\brainwave-data\\2024-12-11-21-31-37.brainflow.csv as C:\\dev\\play\\brainwave-data\\2024-12-11-21-31-37\\raw.fif and C:\\dev\\play\\brainwave-data\\2024-12-11-21-31-37\\2024-12-11-21-31-37.brainflow.csv.bz2 already exist\n",
      "2024-12-20 06:30:44.510895 Skipping file C:\\dev\\play\\brainwave-data\\2024-12-12-21-20-17.brainflow.csv as C:\\dev\\play\\brainwave-data\\2024-12-12-21-20-17\\raw.fif and C:\\dev\\play\\brainwave-data\\2024-12-12-21-20-17\\2024-12-12-21-20-17.brainflow.csv.bz2 already exist\n",
      "2024-12-20 06:30:44.510895 Skipping file C:\\dev\\play\\brainwave-data\\2024-12-13-21-23-37.brainflow.csv as C:\\dev\\play\\brainwave-data\\2024-12-13-21-23-37\\raw.fif and C:\\dev\\play\\brainwave-data\\2024-12-13-21-23-37\\2024-12-13-21-23-37.brainflow.csv.bz2 already exist\n",
      "2024-12-20 06:30:44.510895 Skipping file C:\\dev\\play\\brainwave-data\\2024-12-14-21-26-54.brainflow.csv as C:\\dev\\play\\brainwave-data\\2024-12-14-21-26-54\\raw.fif and C:\\dev\\play\\brainwave-data\\2024-12-14-21-26-54\\2024-12-14-21-26-54.brainflow.csv.bz2 already exist\n",
      "2024-12-20 06:30:44.510895 Skipping file C:\\dev\\play\\brainwave-data\\2024-12-16-21-26-57.brainflow.csv as C:\\dev\\play\\brainwave-data\\2024-12-16-21-26-57\\raw.fif and C:\\dev\\play\\brainwave-data\\2024-12-16-21-26-57\\2024-12-16-21-26-57.brainflow.csv.bz2 already exist\n",
      "2024-12-20 06:30:44.510895 Skipping file C:\\dev\\play\\brainwave-data\\2024-12-17-21-24-11.brainflow.csv as C:\\dev\\play\\brainwave-data\\2024-12-17-21-24-11\\raw.fif and C:\\dev\\play\\brainwave-data\\2024-12-17-21-24-11\\2024-12-17-21-24-11.brainflow.csv.bz2 already exist\n",
      "2024-12-20 06:30:44.510895 Skipping file C:\\dev\\play\\brainwave-data\\2024-12-18-21-32-18.brainflow.csv as C:\\dev\\play\\brainwave-data\\2024-12-18-21-32-18\\raw.fif and C:\\dev\\play\\brainwave-data\\2024-12-18-21-32-18\\2024-12-18-21-32-18.brainflow.csv.bz2 already exist\n",
      "2024-12-20 06:30:44.510895 Compressing file C:\\dev\\play\\brainwave-data\\2024-12-19-21-18-48.brainflow.csv to C:\\dev\\play\\brainwave-data\\2024-12-19-21-18-48\\2024-12-19-21-18-48.brainflow.csv.bz2\n"
     ]
    }
   ],
   "execution_count": null
  },
  {
   "metadata": {},
   "cell_type": "code",
   "source": "errors",
   "id": "b26100fa9d445409",
   "outputs": [],
   "execution_count": null
  },
  {
   "metadata": {},
   "cell_type": "code",
   "source": "processed",
   "id": "5b5561ec7207ccd0",
   "outputs": [],
   "execution_count": null
  },
  {
   "metadata": {},
   "cell_type": "markdown",
   "source": "## Run YASA pipeline on FIF files",
   "id": "fd7176771a519eb7"
  },
  {
   "metadata": {},
   "cell_type": "code",
   "source": [
    "import pandas as pd\n",
    "import run_feature_pipeline\n",
    "import os\n",
    "from concurrent.futures import ThreadPoolExecutor, as_completed\n",
    "\n",
    "errors = []\n",
    "dataframes = []\n",
    "\n",
    "# Could get these working later\n",
    "skip_list = ['2024-07-23-22-40-25', '2024-07-28-22-29-49', '2024-09-18-21-25-08', '2024-09-18-21-28-11', '2024-09-19-21-29-42']\n",
    "import io\n",
    "import sys\n",
    "import contextlib\n",
    "import traceback\n",
    "from importlib import reload\n",
    "\n",
    "reload(run_feature_pipeline)\n",
    "\n",
    "def process_file(root, dir_name, force=False):\n",
    "    output_buffer = io.StringIO()\n",
    "    with contextlib.redirect_stdout(output_buffer), contextlib.redirect_stderr(output_buffer):\n",
    "\n",
    "        try:\n",
    "            input_file = os.path.join(root, dir_name, \"raw.fif\")\n",
    "            if dir_name in skip_list:\n",
    "                log(f\"Skipping {dir_name}: {input_file}\")\n",
    "                return None, False, output_buffer.getvalue(), \"Skipped\"\n",
    "\n",
    "            log(f\"Processing file: {input_file}\")\n",
    "            if os.path.exists(input_file):\n",
    "                yasa_df, cached = run_feature_pipeline.cached_pipeline(log, input_file, force or global_force)\n",
    "                return yasa_df, cached, output_buffer.getvalue(), True\n",
    "            else:\n",
    "                log(f\"File not found: {input_file}\")\n",
    "                return None, False, output_buffer.getvalue(), \"File not found\"\n",
    "\n",
    "        except Exception as e:\n",
    "            msg = f\"Error processing file: {input_file} - {e}\"\n",
    "            log(msg)\n",
    "            errors.append(msg)\n",
    "            return None, False, output_buffer.getvalue(), \"Error: \" + str(e)\n",
    "\n",
    "# Testing\n",
    "# yasa_df, cached, stdout, success_or_msg = process_file(\"C:\\\\dev\\\\play\\\\brainwave-data\", \"2024-07-16-23-14-52\", False)\n",
    "# stdout, success_or_msg"
   ],
   "id": "92b7b91355d9b1f7",
   "outputs": [],
   "execution_count": null
  },
  {
   "metadata": {},
   "cell_type": "code",
   "source": [
    "results = pd.DataFrame(columns=['dir_name', 'cached', 'stdout', 'success_or_msg'])\n",
    "\n",
    "from tqdm.auto import tqdm\n",
    "\n",
    "dirs = next(os.walk(input_dir))[1]\n",
    "for idx, dir_name in enumerate(tqdm(dirs, desc=\"YASA pipeline\")):\n",
    "    yasa_df, cached, stdout, success_or_msg = process_file(input_dir, dir_name)\n",
    "    results.loc[len(results)] = [dir_name, cached, stdout, success_or_msg]\n",
    "\n",
    "results"
   ],
   "id": "3742c3bb21229387",
   "outputs": [],
   "execution_count": null
  },
  {
   "metadata": {},
   "cell_type": "markdown",
   "source": "# Physiological pipeline",
   "id": "ca8ab9ca6c09b972"
  },
  {
   "metadata": {},
   "cell_type": "code",
   "source": [
    "import traceback\n",
    "import os\n",
    "\n",
    "from importlib import reload\n",
    "import run_physical_features_pipeline\n",
    "reload(run_physical_features_pipeline)\n",
    "import io\n",
    "import contextlib\n",
    "from datetime import datetime, timedelta\n",
    "\n",
    "\n",
    "def process_file_for_physical(root, dir_name, force=False):\n",
    "    output_buffer = io.StringIO()\n",
    "    with contextlib.redirect_stdout(output_buffer), contextlib.redirect_stderr(output_buffer):\n",
    "        input_fif_file = os.path.join(root, dir_name, \"raw.fif\")\n",
    "        input_csv_file = os.path.join(root, dir_name, \"raw.yasa.csv\")\n",
    "        try:\n",
    "            if os.path.exists(input_csv_file):\n",
    "                yasa_df = pd.read_csv(input_csv_file)\n",
    "                physical_features_df, cached = run_physical_features_pipeline.cached_physical_features_pipeline(log, input_fif_file, yasa_df, force or global_force)\n",
    "                return physical_features_df, cached, output_buffer.getvalue(), True\n",
    "            else:\n",
    "                log(f\"File not found: {input_fif_file} or {input_csv_file}\")\n",
    "                return None, False, output_buffer.getvalue(), \"File not found\"\n",
    "        except Exception as e:\n",
    "            return None, False, output_buffer.getvalue(), (str(e) + \" \" + traceback.format_exc())\n",
    "\n",
    "# Testing\n",
    "physical_features_df, cached, stdout, success_or_msg = process_file_for_physical(\"C:\\\\dev\\\\play\\\\brainwave-data\", \"2024-12-11-21-31-37\", False)\n",
    "display(stdout)\n",
    "display(success_or_msg)\n",
    "display(physical_features_df)"
   ],
   "id": "9443abcb2ee130b2",
   "outputs": [],
   "execution_count": null
  },
  {
   "metadata": {},
   "cell_type": "code",
   "source": [
    "from tqdm import tqdm\n",
    "\n",
    "results = pd.DataFrame(columns=['dir_name', 'cached', 'stdout', 'success_or_msg'])\n",
    "\n",
    "dirs = next(os.walk(input_dir))[1]\n",
    "for idx, dir_name in enumerate(tqdm(dirs, desc=\"Physiological pipeline\")):\n",
    "    physical_features_df, cached, stdout, success_or_msg = process_file_for_physical(input_dir, dir_name)\n",
    "    results.loc[len(results)] = [dir_name, cached, stdout, success_or_msg]\n",
    "\n",
    "results"
   ],
   "id": "75c23704fb11b7eb",
   "outputs": [],
   "execution_count": null
  },
  {
   "metadata": {},
   "cell_type": "markdown",
   "source": "# Post-YASA pipeline",
   "id": "e25d23e0136d1aa1"
  },
  {
   "metadata": {},
   "cell_type": "code",
   "source": [
    "import traceback\n",
    "import os\n",
    "\n",
    "from importlib import reload\n",
    "import run_post_yasa_pipeline\n",
    "reload(run_post_yasa_pipeline)\n",
    "\n",
    "\n",
    "def process_file_for_post_yasa(root, dir_name, force=False):\n",
    "    output_buffer = io.StringIO()\n",
    "    with contextlib.redirect_stdout(output_buffer), contextlib.redirect_stderr(output_buffer):\n",
    "\n",
    "        input_fif_file = os.path.join(root, dir_name, \"raw.fif\")\n",
    "        input_csv_file = os.path.join(root, dir_name, \"raw.yasa.csv\")\n",
    "        try:\n",
    "            log(f\"Processing file: \" + input_fif_file)\n",
    "            if os.path.exists(input_fif_file) and os.path.exists(input_csv_file):\n",
    "                yasa_df = pd.read_csv(input_csv_file)\n",
    "                post_yasa_df, cached = run_post_yasa_pipeline.cached_post_yasa_pipeline(log, input_fif_file, yasa_df, stats_df, force or global_force)\n",
    "                return post_yasa_df, cached, output_buffer.getvalue(), True\n",
    "            else:\n",
    "                log(f\"File not found: {input_fif_file} or {input_csv_file}\")\n",
    "                return None, False, output_buffer.getvalue(), \"File not found\"\n",
    "        except Exception as e:\n",
    "            return None, False, output_buffer.getvalue(), e\n",
    "\n",
    "# Testing\n",
    "# post_yasa_df, cached, stdout, success_or_msg = process_file_for_post_yasa(\"C:\\\\dev\\\\play\\\\brainwave-data\", \"2024-07-16-23-14-52\", False)\n",
    "# display(stdout)\n",
    "# display(success_or_msg)"
   ],
   "id": "ac4c838f3988591c",
   "outputs": [],
   "execution_count": null
  },
  {
   "metadata": {},
   "cell_type": "code",
   "source": [
    "# import yasa_features\n",
    "# import mne\n",
    "# import scaling\n",
    "# import convert\n",
    "#     # Load MNE\n",
    "#\n",
    "# yasa_df = pd.read_csv(\"C:\\\\dev\\\\play\\\\brainwave-data\\\\2024-07-16-23-14-52\\\\raw.yasa.csv\")\n",
    "# mne.use_log_level(\"warning\")\n",
    "# raw, input_file_without_ext, mne_filtered = convert.load_mne_file(log, \"C:\\\\dev\\\\play\\\\brainwave-data\\\\2024-07-16-23-14-52\\\\raw.fif\")\n",
    "#\n",
    "# channels = raw.info['ch_names']\n",
    "# sfreq = raw.info['sfreq']\n",
    "# start_date = raw.info['meas_date']\n",
    "# end_date = start_date + timedelta(seconds=float(raw.times[-1]))\n",
    "#\n",
    "# # Sleep events - v expensive, needs pushdown filter, not used for much\n",
    "# # garbage_collect(log)\n",
    "# # log(\"Loading sleep events\")\n",
    "# # ha_events = sleep_events.load_sleep_events(log, start_date, end_date)\n",
    "# # output_csv_file = input_file_without_ext + \".night_events.csv\"\n",
    "# # ha_events.to_csv(output_csv_file, index=False)\n",
    "#\n",
    "#\n",
    "# # YASA features\n",
    "# log(\"Extracting YASA features\")\n",
    "# yasa_feats, channel_feats_dict = yasa_features.extract_yasa_features2(log, channels, mne_filtered)\n",
    "#\n",
    "# print(\"YASA_df: \", yasa_df.columns)\n",
    "# print(\"yasa_feats: \", yasa_feats.columns)\n",
    "#\n",
    "# # # Combine epochs and YASA features\n",
    "# # garbage_collect(log)\n",
    "# # df = yasa_feats.copy()\n",
    "# # df['epoch'] = df['Epoch']\n",
    "# # df.set_index('epoch', inplace=True)\n",
    "# combined_df = yasa_df.join(yasa_feats)\n",
    "#\n",
    "# print(\"combined_df: \", combined_df.columns)\n",
    "#\n",
    "# # Scaled\n",
    "# scale_by_stats = scaling.scale_by_stats(combined_df, stats_df)\n"
   ],
   "id": "dc02fbc7ade361a5",
   "outputs": [],
   "execution_count": null
  },
  {
   "metadata": {},
   "cell_type": "code",
   "source": [
    "results = pd.DataFrame(columns=['dir_name', 'cached', 'stdout', 'success_or_msg'])\n",
    "\n",
    "all_post_yasa_dfs = []\n",
    "\n",
    "dirs = next(os.walk(input_dir))[1]\n",
    "for idx, dir_name in enumerate(tqdm(dirs, desc=\"Post YASA pipeline\")):\n",
    "    post_yasa_df, cached, stdout, success_or_msg = process_file_for_post_yasa(input_dir, dir_name)\n",
    "    all_post_yasa_dfs.append(post_yasa_df)\n",
    "    results.loc[len(results)] = [dir_name, cached, stdout, success_or_msg]\n",
    "    # error_count = len(results[results['success_or_msg'] != True])\n",
    "    # if (error_count > 5):\n",
    "    #     log(f\"Stopping due to {error_count} errors\")\n",
    "    #     break\n",
    "\n",
    "results\n"
   ],
   "id": "83319905fde09809",
   "outputs": [],
   "execution_count": null
  },
  {
   "metadata": {},
   "cell_type": "markdown",
   "source": [
    "# Recalculate scalings\n",
    "N.b. can be run frequently but will only be picked up by new runs.  Maybe worth occasionally regenerating all old files.\n",
    "And yes, for new features have to rerun the pipeline on everything, then generate the stats here, then rerun the pipeline again on everything to have them use those."
   ],
   "id": "4c487ce7a385265e"
  },
  {
   "metadata": {},
   "cell_type": "code",
   "source": "# post_yasa_dfs_combined = pd.concat(all_post_yasa_dfs)",
   "id": "60c194d4c115d030",
   "outputs": [],
   "execution_count": null
  },
  {
   "metadata": {},
   "cell_type": "code",
   "source": [
    "# from scaling import only_eeg\n",
    "#\n",
    "# only_eeg_cols = list(only_eeg(post_yasa_dfs_combined).columns)\n",
    "# assert any(col.startswith(\"Main\") for col in only_eeg_cols), \"No column starting with 'Main' found in only_eeg_cols\""
   ],
   "id": "ea7c30608a88ddd9",
   "outputs": [],
   "execution_count": null
  },
  {
   "metadata": {},
   "cell_type": "code",
   "source": [
    "# Expensive to do every time now\n",
    "# import scaling\n",
    "# reload(scaling)\n",
    "#\n",
    "# stats = scaling.stats(post_yasa_dfs_combined)\n",
    "# stats.to_csv(input_dir + \"/stats.csv\")\n",
    "# # assert any(stats['Column'].str.startswith(\"Main\")), \"No row starting with 'Main' found in column_name\"\n",
    "# stats"
   ],
   "id": "b45325b82b166f42",
   "outputs": [],
   "execution_count": null
  },
  {
   "metadata": {
    "jupyter": {
     "is_executing": true
    },
    "ExecuteTime": {
     "start_time": "2024-12-14T14:21:26.533907Z"
    }
   },
   "cell_type": "markdown",
   "source": "# Microwakings",
   "id": "6e825bb10b9e135a"
  },
  {
   "metadata": {},
   "cell_type": "code",
   "source": [
    "from models.microwakings_1 import microwakings_pipeline\n",
    "import os\n",
    "\n",
    "import io\n",
    "\n",
    "from importlib import reload\n",
    "reload(microwakings_pipeline)\n",
    "\n",
    "def process_microwakings(root, dir_name, force=False):\n",
    "    output_buffer = io.StringIO()\n",
    "    with contextlib.redirect_stdout(output_buffer), contextlib.redirect_stderr(output_buffer):\n",
    "        input_fif_file = os.path.join(root, dir_name, \"raw.fif\")\n",
    "        input_csv_file = os.path.join(root, dir_name, \"raw.post_yasa.csv\")\n",
    "        try:\n",
    "            log(f\"Processing file: \" + input_fif_file)\n",
    "            tqdm.write(f\"Processing file: \" + input_fif_file)\n",
    "            if not os.path.exists(input_fif_file):\n",
    "                return None, False, output_buffer.getvalue(), \"File not found \" + input_fif_file\n",
    "            if not os.path.exists(input_csv_file):\n",
    "                return None, False, output_buffer.getvalue(), \"File not found \" + input_csv_file\n",
    "\n",
    "            post_yasa_df = pd.read_csv(input_csv_file)\n",
    "            microwakings_df, cached = microwakings_pipeline.cached_microwakings_pipeline(log, input_fif_file, post_yasa_df, force or global_force)\n",
    "            return microwakings_df, cached, output_buffer.getvalue(), True\n",
    "        except Exception as e:\n",
    "            return None, False, output_buffer.getvalue(), \"Error: \" + str(e)\n",
    "\n",
    "# Testing\n",
    "# microwakings_df, cached, stdout, success_or_msg = process_microwakings(\"C:\\\\dev\\\\play\\\\brainwave-data\", \"2024-11-29-21-18-33\", False)\n",
    "# stdout, success_or_msg"
   ],
   "id": "d62e36ec5e5980cd",
   "outputs": [],
   "execution_count": null
  },
  {
   "metadata": {},
   "cell_type": "code",
   "source": [
    "results = pd.DataFrame(columns=['dir_name', 'cached', 'stdout', 'success_or_msg'])\n",
    "\n",
    "dirs = next(os.walk(input_dir))[1]\n",
    "for idx, dir_name in enumerate(tqdm(dirs, desc=\"Microwakings pipeline\")):\n",
    "    # print(dir_name)\n",
    "    microwakings_df, cached, stdout, success_or_msg = process_microwakings(input_dir, dir_name)\n",
    "    results.loc[len(results)] = [dir_name, cached, stdout, success_or_msg]\n",
    "\n",
    "results"
   ],
   "id": "32e5f01fcd1ed033",
   "outputs": [],
   "execution_count": null
  },
  {
   "metadata": {},
   "cell_type": "markdown",
   "source": [
    "# Post-human pipeline\n",
    "This requires user interaction first to provide sleep times etc."
   ],
   "id": "7ebf4c256a66aab1"
  },
  {
   "metadata": {},
   "cell_type": "code",
   "source": [
    "from sleep_events import load_days_data\n",
    "from sleep_events import pimp_my_days_data\n",
    "\n",
    "days_data = load_days_data(True)"
   ],
   "id": "224421aa114f231b",
   "outputs": [],
   "execution_count": null
  },
  {
   "metadata": {},
   "cell_type": "code",
   "source": [
    "from models.eeg_states.eeg_states import load_and_prepare_settling_eeg_state_events\n",
    "\n",
    "tired_wired_eeg_state_events = load_and_prepare_settling_eeg_state_events()"
   ],
   "id": "a786118aa556417d",
   "outputs": [],
   "execution_count": null
  },
  {
   "metadata": {},
   "cell_type": "code",
   "source": [
    "import run_post_human_pipeline\n",
    "reload(run_post_human_pipeline)\n",
    "from run_post_human_pipeline import cached_post_human_pipeline\n",
    "\n",
    "def process_file_for_post_human(root, dir_name, force=False):\n",
    "    output_buffer = io.StringIO()\n",
    "    with contextlib.redirect_stdout(output_buffer), contextlib.redirect_stderr(output_buffer):\n",
    "\n",
    "        input_fif_file = os.path.join(root, dir_name, \"raw.fif\")\n",
    "        input_csv_file = os.path.join(root, dir_name, \"raw.yasa.csv\")\n",
    "        try:\n",
    "            log(f\"Processing file: \" + input_fif_file)\n",
    "            if not os.path.exists(input_fif_file):\n",
    "                return None, False, output_buffer.getvalue(), \"File not found \" + input_fif_file\n",
    "            if not os.path.exists(input_csv_file):\n",
    "                return None, False, output_buffer.getvalue(), \"File not found \" + input_csv_file\n",
    "\n",
    "            post_yasa_df = pd.read_csv(input_csv_file)\n",
    "            post_human_df, cached = cached_post_human_pipeline(log, dir_name, input_fif_file, stats_df, days_data, post_yasa_df, tired_wired_eeg_state_events, force or global_force)\n",
    "            return post_human_df, cached, output_buffer.getvalue(), True\n",
    "        except Exception as e:\n",
    "            return None, False, output_buffer.getvalue(), \"Error: \" + str(e)\n",
    "\n",
    "# Testing\n",
    "# post_human_df, cached, stdout, success_or_msg = process_file_for_post_human(\"C:\\\\dev\\\\play\\\\brainwave-data\", \"2024-11-29-21-18-33\", False)\n",
    "# stdout, success_or_msg"
   ],
   "id": "8810c9b6d565e572",
   "outputs": [],
   "execution_count": null
  },
  {
   "metadata": {},
   "cell_type": "code",
   "source": "",
   "id": "2a453c74dcb57ac3",
   "outputs": [],
   "execution_count": null
  },
  {
   "metadata": {},
   "cell_type": "code",
   "source": [
    "# For testing\n",
    "# from run_post_human_pipeline import cached_post_human_pipeline\n",
    "# import run_feature_pipeline\n",
    "#\n",
    "# dir_name = \"2024-12-12-21-20-17\"\n",
    "# input_file = f\"C:\\\\dev\\\\play\\\\brainwave-data\\\\{dir_name}\\\\raw.fif\"\n",
    "# row = days_data[days_data['dayAndNightOf'] == '2024-12-12']\n",
    "# yasa_df = run_feature_pipeline.cached_pipeline(log, input_file, stats_df)\n",
    "# post_human_df = cached_post_human_pipeline(log, dir_name, input_file, stats_df, days_data, yasa_df, tired_wired_eeg_state_events)\n",
    "# post_human_df"
   ],
   "id": "5f47d02e2265a17c",
   "outputs": [],
   "execution_count": null
  },
  {
   "metadata": {},
   "cell_type": "code",
   "source": [
    "from run_post_human_pipeline import cached_post_human_pipeline\n",
    "\n",
    "results = pd.DataFrame(columns=['dir_name', 'cached', 'stdout', 'success_or_msg'])\n",
    "\n",
    "dirs = next(os.walk(input_dir))[1]\n",
    "for idx, dir_name in enumerate(tqdm(dirs, desc=\"Post human pipeline\")):\n",
    "    post_human_df, cached, stdout, success_or_msg = process_file_for_post_human(input_dir, dir_name)\n",
    "    results.loc[len(results)] = [dir_name, cached, stdout, success_or_msg]\n",
    "\n",
    "results"
   ],
   "id": "dc932146086b8cb0",
   "outputs": [],
   "execution_count": null
  },
  {
   "metadata": {},
   "cell_type": "markdown",
   "source": "# Final wake model pipeline",
   "id": "fbf02a86ee1796d6"
  },
  {
   "metadata": {},
   "cell_type": "markdown",
   "source": "# Stitch all pipelines together",
   "id": "a5ae5c62e5b1eb"
  },
  {
   "metadata": {},
   "cell_type": "code",
   "source": [
    "def process_pipeline_stitch(root, dir_name, force=False):\n",
    "    output_buffer = io.StringIO()\n",
    "    with contextlib.redirect_stdout(output_buffer), contextlib.redirect_stderr(output_buffer):\n",
    "\n",
    "        post_yasa_file = os.path.join(root, dir_name, \"raw.post_yasa.csv\")\n",
    "        post_human_file = os.path.join(root, dir_name, \"raw.post_human.csv\")\n",
    "\n",
    "        try:\n",
    "            if os.path.exists(post_yasa_file):\n",
    "                # Multiple consumers expect this file\n",
    "                with_features = os.path.join(root, dir_name, \"raw.with_features.csv\")\n",
    "                if not os.path.exists(with_features) or force:\n",
    "                    post_yasa_df = pd.read_csv(post_yasa_file)\n",
    "                    post_yasa_df.to_csv(with_features, index=False)\n",
    "\n",
    "            return output_buffer.getvalue(), True\n",
    "        except Exception as e:\n",
    "            return output_buffer.getvalue(), \"Error: \" + str(e)\n",
    "\n",
    "\n",
    "# Testing\n",
    "stdout, success_or_msg = process_pipeline_stitch(\"C:\\\\dev\\\\play\\\\brainwave-data\", \"2024-12-14-21-26-54\", False)\n",
    "stdout, success_or_msg\n"
   ],
   "id": "820967d55d46177c",
   "outputs": [],
   "execution_count": null
  },
  {
   "metadata": {},
   "cell_type": "code",
   "source": [
    "results = pd.DataFrame(columns=['dir_name', 'stdout', 'success_or_msg'])\n",
    "\n",
    "dirs = next(os.walk(input_dir))[1]\n",
    "for idx, dir_name in enumerate(tqdm(dirs, desc=\"Stitching pipelines\")):\n",
    "    stdout, success_or_msg = process_pipeline_stitch(input_dir, dir_name)\n",
    "    results.loc[len(results)] = [dir_name, stdout, success_or_msg]\n",
    "\n",
    "results"
   ],
   "id": "574c63e466850c33",
   "outputs": [],
   "execution_count": null
  },
  {
   "metadata": {},
   "cell_type": "markdown",
   "source": "# Analyse data completeness",
   "id": "fb165f2ba385f1aa"
  },
  {
   "metadata": {},
   "cell_type": "code",
   "source": [
    "# import os\n",
    "# import pandas as pd\n",
    "# from datetime import datetime\n",
    "#\n",
    "# dfs = []\n",
    "# modification_times = []\n",
    "#\n",
    "# for root, dirs, files in os.walk(input_dir):\n",
    "#     for idx, dir_name in enumerate(dirs):\n",
    "#         input_file = os.path.join(root, dir_name, \"raw.post_human.csv\")\n",
    "#         if os.path.exists(input_file):\n",
    "#             df = pd.read_csv(input_file)\n",
    "#             dfs.append(df)\n",
    "#\n",
    "#             # Get the last modification time of the file\n",
    "#             mod_time = os.path.getmtime(input_file)\n",
    "#             mod_time_dt = datetime.fromtimestamp(mod_time)\n",
    "#             modification_times.append(mod_time_dt)\n",
    "#\n",
    "# # Concatenate all dataframes\n",
    "# yasa_df = pd.concat(dfs, ignore_index=True)\n",
    "#\n",
    "# # Calculate the number of days from today for each modification time\n",
    "# today = datetime.now()\n",
    "# days_since_modification = [(today - mod_time).days for mod_time in modification_times]\n",
    "#\n",
    "# # Create a DataFrame with the modification times and days since modification\n",
    "# modification_df = pd.DataFrame({\n",
    "#     'file': [os.path.join(root, dir_name, \"raw.post_human.csv\") for root, dirs, files in os.walk(input_dir) for dir_name in dirs if os.path.exists(os.path.join(root, dir_name, \"raw.post_human.csv\"))],\n",
    "#     'modification_time': modification_times,\n",
    "#     'days_since_modification': days_since_modification\n",
    "# })\n",
    "#\n",
    "# modification_df"
   ],
   "id": "4912068076cbcdcf",
   "outputs": [],
   "execution_count": null
  },
  {
   "metadata": {},
   "cell_type": "markdown",
   "source": "# Upload to GCS",
   "id": "482f89663710fa04"
  },
  {
   "metadata": {
    "ExecuteTime": {
     "end_time": "2024-12-19T18:08:21.790903Z",
     "start_time": "2024-12-19T18:00:39.140713Z"
    }
   },
   "cell_type": "code",
   "source": [
    "from upload import upload_dir_to_gcs_skipping_existing\n",
    "import os\n",
    "\n",
    "errors = []\n",
    "dataframes = []\n",
    "\n",
    "dirs = next(os.walk(input_dir))[1]\n",
    "for idx, dir_name in enumerate(tqdm(dirs)):\n",
    "# for root, dirs, files in os.walk(input_dir):\n",
    "#     for dir_name in reversed(dirs):\n",
    "    input_file = os.path.join(input_dir, dir_name, \"raw.fif\")\n",
    "    full_dir_name = os.path.join(input_dir, dir_name)\n",
    "    try:\n",
    "        upload_dir_to_gcs_skipping_existing(log, 'examined-life-derived-eeg', full_dir_name, dir_name)\n",
    "    except Exception as e:\n",
    "        log(\"Error processing file: \" + input_dir)\n",
    "        errors.append(\"Error processing file: \" + input_file + \" - \" + str(e))\n",
    "        log(e)\n",
    "\n",
    "for error in errors:\n",
    "    log(error)\n",
    "\n",
    "log(\"All uploaded\")"
   ],
   "id": "30732b799791e42d",
   "outputs": [
    {
     "name": "stderr",
     "output_type": "stream",
     "text": [
      "  1%|          | 1/111 [00:02<04:08,  2.26s/it]"
     ]
    },
    {
     "name": "stdout",
     "output_type": "stream",
     "text": [
      "2024-12-19 18:00:41.401134 Skipping upload of C:\\dev\\play\\brainwave-data\\08-07-2024--22-51-16, identical directory already exists in GCS.\n"
     ]
    },
    {
     "name": "stderr",
     "output_type": "stream",
     "text": [
      "  2%|▏         | 2/111 [00:04<04:06,  2.26s/it]"
     ]
    },
    {
     "name": "stdout",
     "output_type": "stream",
     "text": [
      "2024-12-19 18:00:43.657133 Skipping upload of C:\\dev\\play\\brainwave-data\\09-07-2024--22-52-25, identical directory already exists in GCS.\n",
      "2024-12-19 18:00:45.743491 Skipping C:\\dev\\play\\brainwave-data\\2024-07-08-22-51-16\\raw.average_slow_wave.png, identical file already exists in GCS.\n",
      "2024-12-19 18:00:45.807348 Skipping C:\\dev\\play\\brainwave-data\\2024-07-08-22-51-16\\raw.edf, identical file already exists in GCS.\n",
      "2024-12-19 18:00:45.950251 Skipping C:\\dev\\play\\brainwave-data\\2024-07-08-22-51-16\\raw.fif, identical file already exists in GCS.\n",
      "2024-12-19 18:00:45.996760 Skipping C:\\dev\\play\\brainwave-data\\2024-07-08-22-51-16\\raw.final_wake_model.csv, identical file already exists in GCS.\n",
      "2024-12-19 18:00:46.060430 Skipping C:\\dev\\play\\brainwave-data\\2024-07-08-22-51-16\\raw.final_wake_model_post_human.csv, identical file already exists in GCS.\n",
      "2024-12-19 18:00:46.125703 C:\\dev\\play\\brainwave-data\\2024-07-08-22-51-16\\raw.final_wake_model_post_human.json uploading to 2024-07-08-22-51-16/raw.final_wake_model_post_human.json, does_not_exist=True has_changed=True\n",
      "2024-12-19 18:00:46.312404 Skipping C:\\dev\\play\\brainwave-data\\2024-07-08-22-51-16\\raw.microwakings.csv, identical file already exists in GCS.\n",
      "2024-12-19 18:00:46.373225 Skipping C:\\dev\\play\\brainwave-data\\2024-07-08-22-51-16\\raw.night_events.csv, identical file already exists in GCS.\n",
      "2024-12-19 18:00:46.416216 Skipping C:\\dev\\play\\brainwave-data\\2024-07-08-22-51-16\\raw.physical_features.csv, identical file already exists in GCS.\n",
      "2024-12-19 18:00:46.478846 Skipping C:\\dev\\play\\brainwave-data\\2024-07-08-22-51-16\\raw.post_filter_psd_plot.png, identical file already exists in GCS.\n",
      "2024-12-19 18:00:46.588791 Skipping C:\\dev\\play\\brainwave-data\\2024-07-08-22-51-16\\raw.post_human.csv, identical file already exists in GCS.\n",
      "2024-12-19 18:00:46.720127 Skipping C:\\dev\\play\\brainwave-data\\2024-07-08-22-51-16\\raw.post_yasa.csv, identical file already exists in GCS.\n",
      "2024-12-19 18:00:46.767956 Skipping C:\\dev\\play\\brainwave-data\\2024-07-08-22-51-16\\raw.pre_filter_psd_plot.png, identical file already exists in GCS.\n",
      "2024-12-19 18:00:46.830481 Skipping C:\\dev\\play\\brainwave-data\\2024-07-08-22-51-16\\raw.sleep.json, identical file already exists in GCS.\n",
      "2024-12-19 18:00:46.879203 Skipping C:\\dev\\play\\brainwave-data\\2024-07-08-22-51-16\\raw.sleep_stages.csv, identical file already exists in GCS.\n",
      "2024-12-19 18:00:46.928759 Skipping C:\\dev\\play\\brainwave-data\\2024-07-08-22-51-16\\raw.sleep_stages.F8-M1.csv, identical file already exists in GCS.\n",
      "2024-12-19 18:00:46.991400 Skipping C:\\dev\\play\\brainwave-data\\2024-07-08-22-51-16\\raw.sleep_stages.O2-M1.csv, identical file already exists in GCS.\n",
      "2024-12-19 18:00:47.054345 Skipping C:\\dev\\play\\brainwave-data\\2024-07-08-22-51-16\\raw.sleep_stages.T4-M1.csv, identical file already exists in GCS.\n",
      "2024-12-19 18:00:47.133559 Skipping C:\\dev\\play\\brainwave-data\\2024-07-08-22-51-16\\raw.spectrogram.F8-M1.png, identical file already exists in GCS.\n",
      "2024-12-19 18:00:47.193403 Skipping C:\\dev\\play\\brainwave-data\\2024-07-08-22-51-16\\raw.spectrogram.O2-M1.png, identical file already exists in GCS.\n",
      "2024-12-19 18:00:47.251662 Skipping C:\\dev\\play\\brainwave-data\\2024-07-08-22-51-16\\raw.spectrogram.T4-M1.png, identical file already exists in GCS.\n",
      "2024-12-19 18:00:47.320400 Skipping C:\\dev\\play\\brainwave-data\\2024-07-08-22-51-16\\raw.spindle_summary.csv, identical file already exists in GCS.\n",
      "2024-12-19 18:00:47.394079 Skipping C:\\dev\\play\\brainwave-data\\2024-07-08-22-51-16\\raw.sw_summary.csv, identical file already exists in GCS.\n",
      "2024-12-19 18:00:47.473178 Skipping C:\\dev\\play\\brainwave-data\\2024-07-08-22-51-16\\raw.with_features.csv, identical file already exists in GCS.\n"
     ]
    },
    {
     "name": "stderr",
     "output_type": "stream",
     "text": [
      "  3%|▎         | 3/111 [00:08<05:32,  3.08s/it]"
     ]
    },
    {
     "name": "stdout",
     "output_type": "stream",
     "text": [
      "2024-12-19 18:00:47.568122 Skipping C:\\dev\\play\\brainwave-data\\2024-07-08-22-51-16\\raw.with_microwakings_multi1_debug.edf, identical file already exists in GCS.\n",
      "2024-12-19 18:00:47.614999 Skipping C:\\dev\\play\\brainwave-data\\2024-07-08-22-51-16\\raw.yasa.csv, identical file already exists in GCS.\n",
      "2024-12-19 18:00:47.715492 Uploaded directory checksum for C:\\dev\\play\\brainwave-data\\2024-07-08-22-51-16 to 2024-07-08-22-51-16/directory_checksum.md5\n",
      "2024-12-19 18:00:50.384191 Skipping C:\\dev\\play\\brainwave-data\\2024-07-11-22-46-18\\raw.average_slow_wave.png, identical file already exists in GCS.\n",
      "2024-12-19 18:00:50.529773 Skipping C:\\dev\\play\\brainwave-data\\2024-07-11-22-46-18\\raw.edf, identical file already exists in GCS.\n",
      "2024-12-19 18:00:50.831935 Skipping C:\\dev\\play\\brainwave-data\\2024-07-11-22-46-18\\raw.fif, identical file already exists in GCS.\n",
      "2024-12-19 18:00:50.928903 Skipping C:\\dev\\play\\brainwave-data\\2024-07-11-22-46-18\\raw.final_wake_model.csv, identical file already exists in GCS.\n",
      "2024-12-19 18:00:51.021259 Skipping C:\\dev\\play\\brainwave-data\\2024-07-11-22-46-18\\raw.final_wake_model_post_human.csv, identical file already exists in GCS.\n",
      "2024-12-19 18:00:51.100012 C:\\dev\\play\\brainwave-data\\2024-07-11-22-46-18\\raw.final_wake_model_post_human.json uploading to 2024-07-11-22-46-18/raw.final_wake_model_post_human.json, does_not_exist=True has_changed=True\n",
      "2024-12-19 18:00:51.265478 Skipping C:\\dev\\play\\brainwave-data\\2024-07-11-22-46-18\\raw.microwakings.csv, identical file already exists in GCS.\n",
      "2024-12-19 18:00:51.353740 Skipping C:\\dev\\play\\brainwave-data\\2024-07-11-22-46-18\\raw.night_events.csv, identical file already exists in GCS.\n",
      "2024-12-19 18:00:51.420369 Skipping C:\\dev\\play\\brainwave-data\\2024-07-11-22-46-18\\raw.physical_features.csv, identical file already exists in GCS.\n",
      "2024-12-19 18:00:51.485556 Skipping C:\\dev\\play\\brainwave-data\\2024-07-11-22-46-18\\raw.post_filter_psd_plot.png, identical file already exists in GCS.\n",
      "2024-12-19 18:00:51.573026 Skipping C:\\dev\\play\\brainwave-data\\2024-07-11-22-46-18\\raw.post_human.csv, identical file already exists in GCS.\n",
      "2024-12-19 18:00:51.675308 Skipping C:\\dev\\play\\brainwave-data\\2024-07-11-22-46-18\\raw.post_yasa.csv, identical file already exists in GCS.\n",
      "2024-12-19 18:00:51.750044 Skipping C:\\dev\\play\\brainwave-data\\2024-07-11-22-46-18\\raw.pre_filter_psd_plot.png, identical file already exists in GCS.\n",
      "2024-12-19 18:00:51.810194 Skipping C:\\dev\\play\\brainwave-data\\2024-07-11-22-46-18\\raw.sleep.json, identical file already exists in GCS.\n",
      "2024-12-19 18:00:51.876371 Skipping C:\\dev\\play\\brainwave-data\\2024-07-11-22-46-18\\raw.sleep_stages.csv, identical file already exists in GCS.\n",
      "2024-12-19 18:00:51.972459 Skipping C:\\dev\\play\\brainwave-data\\2024-07-11-22-46-18\\raw.sleep_stages.F8-M1.csv, identical file already exists in GCS.\n",
      "2024-12-19 18:00:52.041671 Skipping C:\\dev\\play\\brainwave-data\\2024-07-11-22-46-18\\raw.sleep_stages.O2-M1.csv, identical file already exists in GCS.\n",
      "2024-12-19 18:00:52.095874 Skipping C:\\dev\\play\\brainwave-data\\2024-07-11-22-46-18\\raw.sleep_stages.T4-M1.csv, identical file already exists in GCS.\n",
      "2024-12-19 18:00:52.167897 Skipping C:\\dev\\play\\brainwave-data\\2024-07-11-22-46-18\\raw.spectrogram.F8-M1.png, identical file already exists in GCS.\n",
      "2024-12-19 18:00:52.250196 Skipping C:\\dev\\play\\brainwave-data\\2024-07-11-22-46-18\\raw.spectrogram.O2-M1.png, identical file already exists in GCS.\n",
      "2024-12-19 18:00:52.321916 Skipping C:\\dev\\play\\brainwave-data\\2024-07-11-22-46-18\\raw.spectrogram.T4-M1.png, identical file already exists in GCS.\n",
      "2024-12-19 18:00:52.391202 Skipping C:\\dev\\play\\brainwave-data\\2024-07-11-22-46-18\\raw.spindle_summary.csv, identical file already exists in GCS.\n",
      "2024-12-19 18:00:52.450865 Skipping C:\\dev\\play\\brainwave-data\\2024-07-11-22-46-18\\raw.sw_summary.csv, identical file already exists in GCS.\n",
      "2024-12-19 18:00:52.540715 Skipping C:\\dev\\play\\brainwave-data\\2024-07-11-22-46-18\\raw.with_features.csv, identical file already exists in GCS.\n",
      "2024-12-19 18:00:52.612951 Skipping C:\\dev\\play\\brainwave-data\\2024-07-11-22-46-18\\raw.with_microwakings_multi1_debug.edf, identical file already exists in GCS.\n",
      "2024-12-19 18:00:52.659948 Skipping C:\\dev\\play\\brainwave-data\\2024-07-11-22-46-18\\raw.yasa.csv, identical file already exists in GCS.\n"
     ]
    },
    {
     "name": "stderr",
     "output_type": "stream",
     "text": [
      "  4%|▎         | 4/111 [00:13<06:52,  3.86s/it]"
     ]
    },
    {
     "name": "stdout",
     "output_type": "stream",
     "text": [
      "2024-12-19 18:00:52.768343 Uploaded directory checksum for C:\\dev\\play\\brainwave-data\\2024-07-11-22-46-18 to 2024-07-11-22-46-18/directory_checksum.md5\n",
      "2024-12-19 18:00:55.207350 Skipping C:\\dev\\play\\brainwave-data\\2024-07-12-22-38-58\\raw.average_slow_wave.png, identical file already exists in GCS.\n",
      "2024-12-19 18:00:55.333977 Skipping C:\\dev\\play\\brainwave-data\\2024-07-12-22-38-58\\raw.edf, identical file already exists in GCS.\n",
      "2024-12-19 18:00:55.599614 Skipping C:\\dev\\play\\brainwave-data\\2024-07-12-22-38-58\\raw.fif, identical file already exists in GCS.\n",
      "2024-12-19 18:00:55.664109 Skipping C:\\dev\\play\\brainwave-data\\2024-07-12-22-38-58\\raw.final_wake_model.csv, identical file already exists in GCS.\n",
      "2024-12-19 18:00:55.728207 Skipping C:\\dev\\play\\brainwave-data\\2024-07-12-22-38-58\\raw.final_wake_model_post_human.csv, identical file already exists in GCS.\n",
      "2024-12-19 18:00:55.780652 C:\\dev\\play\\brainwave-data\\2024-07-12-22-38-58\\raw.final_wake_model_post_human.json uploading to 2024-07-12-22-38-58/raw.final_wake_model_post_human.json, does_not_exist=True has_changed=True\n",
      "2024-12-19 18:00:55.925151 Skipping C:\\dev\\play\\brainwave-data\\2024-07-12-22-38-58\\raw.microwakings.csv, identical file already exists in GCS.\n",
      "2024-12-19 18:00:55.993551 Skipping C:\\dev\\play\\brainwave-data\\2024-07-12-22-38-58\\raw.night_events.csv, identical file already exists in GCS.\n",
      "2024-12-19 18:00:56.041042 Skipping C:\\dev\\play\\brainwave-data\\2024-07-12-22-38-58\\raw.physical_features.csv, identical file already exists in GCS.\n",
      "2024-12-19 18:00:56.121465 Skipping C:\\dev\\play\\brainwave-data\\2024-07-12-22-38-58\\raw.post_filter_psd_plot.png, identical file already exists in GCS.\n",
      "2024-12-19 18:00:56.199779 Skipping C:\\dev\\play\\brainwave-data\\2024-07-12-22-38-58\\raw.post_human.csv, identical file already exists in GCS.\n",
      "2024-12-19 18:00:56.282953 Skipping C:\\dev\\play\\brainwave-data\\2024-07-12-22-38-58\\raw.post_yasa.csv, identical file already exists in GCS.\n",
      "2024-12-19 18:00:56.346611 Skipping C:\\dev\\play\\brainwave-data\\2024-07-12-22-38-58\\raw.pre_filter_psd_plot.png, identical file already exists in GCS.\n",
      "2024-12-19 18:00:56.410770 Skipping C:\\dev\\play\\brainwave-data\\2024-07-12-22-38-58\\raw.sleep.json, identical file already exists in GCS.\n",
      "2024-12-19 18:00:56.463825 Skipping C:\\dev\\play\\brainwave-data\\2024-07-12-22-38-58\\raw.sleep_stages.csv, identical file already exists in GCS.\n",
      "2024-12-19 18:00:56.506243 Skipping C:\\dev\\play\\brainwave-data\\2024-07-12-22-38-58\\raw.sleep_stages.F8-M1.csv, identical file already exists in GCS.\n",
      "2024-12-19 18:00:56.570071 Skipping C:\\dev\\play\\brainwave-data\\2024-07-12-22-38-58\\raw.sleep_stages.O2-M1.csv, identical file already exists in GCS.\n",
      "2024-12-19 18:00:56.633254 Skipping C:\\dev\\play\\brainwave-data\\2024-07-12-22-38-58\\raw.sleep_stages.T4-M1.csv, identical file already exists in GCS.\n",
      "2024-12-19 18:00:56.695735 Skipping C:\\dev\\play\\brainwave-data\\2024-07-12-22-38-58\\raw.spectrogram.F8-M1.png, identical file already exists in GCS.\n",
      "2024-12-19 18:00:56.742703 Skipping C:\\dev\\play\\brainwave-data\\2024-07-12-22-38-58\\raw.spectrogram.O2-M1.png, identical file already exists in GCS.\n",
      "2024-12-19 18:00:56.820914 Skipping C:\\dev\\play\\brainwave-data\\2024-07-12-22-38-58\\raw.spectrogram.T4-M1.png, identical file already exists in GCS.\n",
      "2024-12-19 18:00:56.873219 Skipping C:\\dev\\play\\brainwave-data\\2024-07-12-22-38-58\\raw.spindle_summary.csv, identical file already exists in GCS.\n",
      "2024-12-19 18:00:56.951107 Skipping C:\\dev\\play\\brainwave-data\\2024-07-12-22-38-58\\raw.sw_summary.csv, identical file already exists in GCS.\n",
      "2024-12-19 18:00:57.051861 Skipping C:\\dev\\play\\brainwave-data\\2024-07-12-22-38-58\\raw.with_features.csv, identical file already exists in GCS.\n"
     ]
    },
    {
     "name": "stderr",
     "output_type": "stream",
     "text": [
      "  5%|▍         | 5/111 [00:18<07:15,  4.11s/it]"
     ]
    },
    {
     "name": "stdout",
     "output_type": "stream",
     "text": [
      "2024-12-19 18:00:57.146290 Skipping C:\\dev\\play\\brainwave-data\\2024-07-12-22-38-58\\raw.with_microwakings_multi1_debug.edf, identical file already exists in GCS.\n",
      "2024-12-19 18:00:57.209223 Skipping C:\\dev\\play\\brainwave-data\\2024-07-12-22-38-58\\raw.yasa.csv, identical file already exists in GCS.\n",
      "2024-12-19 18:00:57.311411 Uploaded directory checksum for C:\\dev\\play\\brainwave-data\\2024-07-12-22-38-58 to 2024-07-12-22-38-58/directory_checksum.md5\n",
      "2024-12-19 18:00:59.590699 Skipping C:\\dev\\play\\brainwave-data\\2024-07-13-21-41-55\\raw.average_slow_wave.png, identical file already exists in GCS.\n",
      "2024-12-19 18:00:59.741453 Skipping C:\\dev\\play\\brainwave-data\\2024-07-13-21-41-55\\raw.edf, identical file already exists in GCS.\n",
      "2024-12-19 18:00:59.991120 Skipping C:\\dev\\play\\brainwave-data\\2024-07-13-21-41-55\\raw.fif, identical file already exists in GCS.\n",
      "2024-12-19 18:01:00.053660 Skipping C:\\dev\\play\\brainwave-data\\2024-07-13-21-41-55\\raw.final_wake_model.csv, identical file already exists in GCS.\n",
      "2024-12-19 18:01:00.143972 Skipping C:\\dev\\play\\brainwave-data\\2024-07-13-21-41-55\\raw.final_wake_model_post_human.csv, identical file already exists in GCS.\n",
      "2024-12-19 18:01:00.196220 C:\\dev\\play\\brainwave-data\\2024-07-13-21-41-55\\raw.final_wake_model_post_human.json uploading to 2024-07-13-21-41-55/raw.final_wake_model_post_human.json, does_not_exist=True has_changed=True\n",
      "2024-12-19 18:01:00.352496 Skipping C:\\dev\\play\\brainwave-data\\2024-07-13-21-41-55\\raw.microwakings.csv, identical file already exists in GCS.\n",
      "2024-12-19 18:01:00.415398 Skipping C:\\dev\\play\\brainwave-data\\2024-07-13-21-41-55\\raw.night_events.csv, identical file already exists in GCS.\n",
      "2024-12-19 18:01:00.468201 Skipping C:\\dev\\play\\brainwave-data\\2024-07-13-21-41-55\\raw.physical_features.csv, identical file already exists in GCS.\n",
      "2024-12-19 18:01:00.547064 Skipping C:\\dev\\play\\brainwave-data\\2024-07-13-21-41-55\\raw.post_filter_psd_plot.png, identical file already exists in GCS.\n",
      "2024-12-19 18:01:00.636637 Skipping C:\\dev\\play\\brainwave-data\\2024-07-13-21-41-55\\raw.post_human.csv, identical file already exists in GCS.\n",
      "2024-12-19 18:01:00.732046 Skipping C:\\dev\\play\\brainwave-data\\2024-07-13-21-41-55\\raw.post_yasa.csv, identical file already exists in GCS.\n",
      "2024-12-19 18:01:00.772210 Skipping C:\\dev\\play\\brainwave-data\\2024-07-13-21-41-55\\raw.pre_filter_psd_plot.png, identical file already exists in GCS.\n",
      "2024-12-19 18:01:00.848149 Skipping C:\\dev\\play\\brainwave-data\\2024-07-13-21-41-55\\raw.sleep.json, identical file already exists in GCS.\n",
      "2024-12-19 18:01:00.892425 Skipping C:\\dev\\play\\brainwave-data\\2024-07-13-21-41-55\\raw.sleep_stages.csv, identical file already exists in GCS.\n",
      "2024-12-19 18:01:00.956449 Skipping C:\\dev\\play\\brainwave-data\\2024-07-13-21-41-55\\raw.sleep_stages.F8-M1.csv, identical file already exists in GCS.\n",
      "2024-12-19 18:01:01.015463 Skipping C:\\dev\\play\\brainwave-data\\2024-07-13-21-41-55\\raw.sleep_stages.O2-M1.csv, identical file already exists in GCS.\n",
      "2024-12-19 18:01:01.064134 Skipping C:\\dev\\play\\brainwave-data\\2024-07-13-21-41-55\\raw.sleep_stages.T4-M1.csv, identical file already exists in GCS.\n",
      "2024-12-19 18:01:01.144477 Skipping C:\\dev\\play\\brainwave-data\\2024-07-13-21-41-55\\raw.spectrogram.F8-M1.png, identical file already exists in GCS.\n",
      "2024-12-19 18:01:01.206436 Skipping C:\\dev\\play\\brainwave-data\\2024-07-13-21-41-55\\raw.spectrogram.O2-M1.png, identical file already exists in GCS.\n",
      "2024-12-19 18:01:01.270338 Skipping C:\\dev\\play\\brainwave-data\\2024-07-13-21-41-55\\raw.spectrogram.T4-M1.png, identical file already exists in GCS.\n",
      "2024-12-19 18:01:01.318454 Skipping C:\\dev\\play\\brainwave-data\\2024-07-13-21-41-55\\raw.spindle_summary.csv, identical file already exists in GCS.\n",
      "2024-12-19 18:01:01.382084 Skipping C:\\dev\\play\\brainwave-data\\2024-07-13-21-41-55\\raw.sw_summary.csv, identical file already exists in GCS.\n",
      "2024-12-19 18:01:01.471588 Skipping C:\\dev\\play\\brainwave-data\\2024-07-13-21-41-55\\raw.with_features.csv, identical file already exists in GCS.\n",
      "2024-12-19 18:01:01.552516 Skipping C:\\dev\\play\\brainwave-data\\2024-07-13-21-41-55\\raw.with_microwakings_multi1_debug.edf, identical file already exists in GCS.\n"
     ]
    },
    {
     "name": "stderr",
     "output_type": "stream",
     "text": [
      "  5%|▌         | 6/111 [00:22<07:23,  4.22s/it]"
     ]
    },
    {
     "name": "stdout",
     "output_type": "stream",
     "text": [
      "2024-12-19 18:01:01.646081 Skipping C:\\dev\\play\\brainwave-data\\2024-07-13-21-41-55\\raw.yasa.csv, identical file already exists in GCS.\n",
      "2024-12-19 18:01:01.752721 Uploaded directory checksum for C:\\dev\\play\\brainwave-data\\2024-07-13-21-41-55 to 2024-07-13-21-41-55/directory_checksum.md5\n",
      "2024-12-19 18:01:04.024358 Skipping C:\\dev\\play\\brainwave-data\\2024-07-14-22-27-26\\raw.average_slow_wave.png, identical file already exists in GCS.\n",
      "2024-12-19 18:01:04.174720 Skipping C:\\dev\\play\\brainwave-data\\2024-07-14-22-27-26\\raw.edf, identical file already exists in GCS.\n",
      "2024-12-19 18:01:04.443449 Skipping C:\\dev\\play\\brainwave-data\\2024-07-14-22-27-26\\raw.fif, identical file already exists in GCS.\n",
      "2024-12-19 18:01:04.491923 Skipping C:\\dev\\play\\brainwave-data\\2024-07-14-22-27-26\\raw.final_wake_model.csv, identical file already exists in GCS.\n",
      "2024-12-19 18:01:04.553844 Skipping C:\\dev\\play\\brainwave-data\\2024-07-14-22-27-26\\raw.final_wake_model_post_human.csv, identical file already exists in GCS.\n",
      "2024-12-19 18:01:04.650347 C:\\dev\\play\\brainwave-data\\2024-07-14-22-27-26\\raw.final_wake_model_post_human.json uploading to 2024-07-14-22-27-26/raw.final_wake_model_post_human.json, does_not_exist=True has_changed=True\n",
      "2024-12-19 18:01:04.812339 Skipping C:\\dev\\play\\brainwave-data\\2024-07-14-22-27-26\\raw.microwakings.csv, identical file already exists in GCS.\n",
      "2024-12-19 18:01:04.875941 Skipping C:\\dev\\play\\brainwave-data\\2024-07-14-22-27-26\\raw.night_events.csv, identical file already exists in GCS.\n",
      "2024-12-19 18:01:04.938019 Skipping C:\\dev\\play\\brainwave-data\\2024-07-14-22-27-26\\raw.physical_features.csv, identical file already exists in GCS.\n",
      "2024-12-19 18:01:05.012759 Skipping C:\\dev\\play\\brainwave-data\\2024-07-14-22-27-26\\raw.post_filter_psd_plot.png, identical file already exists in GCS.\n",
      "2024-12-19 18:01:05.091486 Skipping C:\\dev\\play\\brainwave-data\\2024-07-14-22-27-26\\raw.post_human.csv, identical file already exists in GCS.\n",
      "2024-12-19 18:01:05.169638 Skipping C:\\dev\\play\\brainwave-data\\2024-07-14-22-27-26\\raw.post_yasa.csv, identical file already exists in GCS.\n",
      "2024-12-19 18:01:05.240510 Skipping C:\\dev\\play\\brainwave-data\\2024-07-14-22-27-26\\raw.pre_filter_psd_plot.png, identical file already exists in GCS.\n",
      "2024-12-19 18:01:05.298529 Skipping C:\\dev\\play\\brainwave-data\\2024-07-14-22-27-26\\raw.sleep.json, identical file already exists in GCS.\n",
      "2024-12-19 18:01:05.368104 Skipping C:\\dev\\play\\brainwave-data\\2024-07-14-22-27-26\\raw.sleep_stages.csv, identical file already exists in GCS.\n",
      "2024-12-19 18:01:05.435007 Skipping C:\\dev\\play\\brainwave-data\\2024-07-14-22-27-26\\raw.sleep_stages.F8-M1.csv, identical file already exists in GCS.\n",
      "2024-12-19 18:01:05.483193 Skipping C:\\dev\\play\\brainwave-data\\2024-07-14-22-27-26\\raw.sleep_stages.O2-M1.csv, identical file already exists in GCS.\n",
      "2024-12-19 18:01:05.564188 Skipping C:\\dev\\play\\brainwave-data\\2024-07-14-22-27-26\\raw.sleep_stages.T4-M1.csv, identical file already exists in GCS.\n",
      "2024-12-19 18:01:05.627926 Skipping C:\\dev\\play\\brainwave-data\\2024-07-14-22-27-26\\raw.spectrogram.F8-M1.png, identical file already exists in GCS.\n",
      "2024-12-19 18:01:05.677572 Skipping C:\\dev\\play\\brainwave-data\\2024-07-14-22-27-26\\raw.spectrogram.O2-M1.png, identical file already exists in GCS.\n",
      "2024-12-19 18:01:05.739826 Skipping C:\\dev\\play\\brainwave-data\\2024-07-14-22-27-26\\raw.spectrogram.T4-M1.png, identical file already exists in GCS.\n",
      "2024-12-19 18:01:05.788978 Skipping C:\\dev\\play\\brainwave-data\\2024-07-14-22-27-26\\raw.spindle_summary.csv, identical file already exists in GCS.\n",
      "2024-12-19 18:01:05.839751 Skipping C:\\dev\\play\\brainwave-data\\2024-07-14-22-27-26\\raw.sw_summary.csv, identical file already exists in GCS.\n",
      "2024-12-19 18:01:05.930244 Skipping C:\\dev\\play\\brainwave-data\\2024-07-14-22-27-26\\raw.with_features.csv, identical file already exists in GCS.\n",
      "2024-12-19 18:01:06.013505 Skipping C:\\dev\\play\\brainwave-data\\2024-07-14-22-27-26\\raw.with_microwakings_multi1_debug.edf, identical file already exists in GCS.\n"
     ]
    },
    {
     "name": "stderr",
     "output_type": "stream",
     "text": [
      "  6%|▋         | 7/111 [00:27<07:26,  4.30s/it]"
     ]
    },
    {
     "name": "stdout",
     "output_type": "stream",
     "text": [
      "2024-12-19 18:01:06.081905 Skipping C:\\dev\\play\\brainwave-data\\2024-07-14-22-27-26\\raw.yasa.csv, identical file already exists in GCS.\n",
      "2024-12-19 18:01:06.212273 Uploaded directory checksum for C:\\dev\\play\\brainwave-data\\2024-07-14-22-27-26 to 2024-07-14-22-27-26/directory_checksum.md5\n"
     ]
    },
    {
     "name": "stderr",
     "output_type": "stream",
     "text": [
      "  7%|▋         | 8/111 [00:28<06:03,  3.53s/it]"
     ]
    },
    {
     "name": "stdout",
     "output_type": "stream",
     "text": [
      "2024-12-19 18:01:08.096647 Skipping upload of C:\\dev\\play\\brainwave-data\\2024-07-15-09-10-07, identical directory already exists in GCS.\n",
      "2024-12-19 18:01:10.550101 Skipping C:\\dev\\play\\brainwave-data\\2024-07-15-22-33-27\\raw.average_slow_wave.png, identical file already exists in GCS.\n",
      "2024-12-19 18:01:10.692497 Skipping C:\\dev\\play\\brainwave-data\\2024-07-15-22-33-27\\raw.edf, identical file already exists in GCS.\n",
      "2024-12-19 18:01:10.988807 Skipping C:\\dev\\play\\brainwave-data\\2024-07-15-22-33-27\\raw.fif, identical file already exists in GCS.\n",
      "2024-12-19 18:01:11.067556 Skipping C:\\dev\\play\\brainwave-data\\2024-07-15-22-33-27\\raw.final_wake_model.csv, identical file already exists in GCS.\n",
      "2024-12-19 18:01:11.125518 Skipping C:\\dev\\play\\brainwave-data\\2024-07-15-22-33-27\\raw.final_wake_model_post_human.csv, identical file already exists in GCS.\n",
      "2024-12-19 18:01:11.170844 C:\\dev\\play\\brainwave-data\\2024-07-15-22-33-27\\raw.final_wake_model_post_human.json uploading to 2024-07-15-22-33-27/raw.final_wake_model_post_human.json, does_not_exist=True has_changed=True\n",
      "2024-12-19 18:01:11.361506 Skipping C:\\dev\\play\\brainwave-data\\2024-07-15-22-33-27\\raw.microwakings.csv, identical file already exists in GCS.\n",
      "2024-12-19 18:01:11.424935 Skipping C:\\dev\\play\\brainwave-data\\2024-07-15-22-33-27\\raw.night_events.csv, identical file already exists in GCS.\n",
      "2024-12-19 18:01:11.487994 Skipping C:\\dev\\play\\brainwave-data\\2024-07-15-22-33-27\\raw.physical_features.csv, identical file already exists in GCS.\n",
      "2024-12-19 18:01:11.520030 Skipping C:\\dev\\play\\brainwave-data\\2024-07-15-22-33-27\\raw.post_filter_psd_plot.png, identical file already exists in GCS.\n",
      "2024-12-19 18:01:11.616040 Skipping C:\\dev\\play\\brainwave-data\\2024-07-15-22-33-27\\raw.post_human.csv, identical file already exists in GCS.\n",
      "2024-12-19 18:01:11.707776 Skipping C:\\dev\\play\\brainwave-data\\2024-07-15-22-33-27\\raw.post_yasa.csv, identical file already exists in GCS.\n",
      "2024-12-19 18:01:11.755766 Skipping C:\\dev\\play\\brainwave-data\\2024-07-15-22-33-27\\raw.pre_filter_psd_plot.png, identical file already exists in GCS.\n",
      "2024-12-19 18:01:11.834774 Skipping C:\\dev\\play\\brainwave-data\\2024-07-15-22-33-27\\raw.sleep.json, identical file already exists in GCS.\n",
      "2024-12-19 18:01:11.917111 Skipping C:\\dev\\play\\brainwave-data\\2024-07-15-22-33-27\\raw.sleep_stages.csv, identical file already exists in GCS.\n",
      "2024-12-19 18:01:11.978014 Skipping C:\\dev\\play\\brainwave-data\\2024-07-15-22-33-27\\raw.sleep_stages.F8-M1.csv, identical file already exists in GCS.\n",
      "2024-12-19 18:01:12.042854 Skipping C:\\dev\\play\\brainwave-data\\2024-07-15-22-33-27\\raw.sleep_stages.O2-M1.csv, identical file already exists in GCS.\n",
      "2024-12-19 18:01:12.120288 Skipping C:\\dev\\play\\brainwave-data\\2024-07-15-22-33-27\\raw.sleep_stages.T4-M1.csv, identical file already exists in GCS.\n",
      "2024-12-19 18:01:12.176395 Skipping C:\\dev\\play\\brainwave-data\\2024-07-15-22-33-27\\raw.spectrogram.F8-M1.png, identical file already exists in GCS.\n",
      "2024-12-19 18:01:12.224173 Skipping C:\\dev\\play\\brainwave-data\\2024-07-15-22-33-27\\raw.spectrogram.O2-M1.png, identical file already exists in GCS.\n",
      "2024-12-19 18:01:12.303456 Skipping C:\\dev\\play\\brainwave-data\\2024-07-15-22-33-27\\raw.spectrogram.T4-M1.png, identical file already exists in GCS.\n",
      "2024-12-19 18:01:12.351729 Skipping C:\\dev\\play\\brainwave-data\\2024-07-15-22-33-27\\raw.spindle_summary.csv, identical file already exists in GCS.\n",
      "2024-12-19 18:01:12.400800 Skipping C:\\dev\\play\\brainwave-data\\2024-07-15-22-33-27\\raw.sw_summary.csv, identical file already exists in GCS.\n",
      "2024-12-19 18:01:12.520505 Skipping C:\\dev\\play\\brainwave-data\\2024-07-15-22-33-27\\raw.with_features.csv, identical file already exists in GCS.\n",
      "2024-12-19 18:01:12.591542 Skipping C:\\dev\\play\\brainwave-data\\2024-07-15-22-33-27\\raw.with_microwakings_multi1_debug.edf, identical file already exists in GCS.\n",
      "2024-12-19 18:01:12.649431 Skipping C:\\dev\\play\\brainwave-data\\2024-07-15-22-33-27\\raw.yasa.csv, identical file already exists in GCS.\n"
     ]
    },
    {
     "name": "stderr",
     "output_type": "stream",
     "text": [
      "  8%|▊         | 9/111 [00:33<06:42,  3.95s/it]"
     ]
    },
    {
     "name": "stdout",
     "output_type": "stream",
     "text": [
      "2024-12-19 18:01:12.955758 Uploaded directory checksum for C:\\dev\\play\\brainwave-data\\2024-07-15-22-33-27 to 2024-07-15-22-33-27/directory_checksum.md5\n",
      "2024-12-19 18:01:15.397531 Skipping C:\\dev\\play\\brainwave-data\\2024-07-16-23-14-52\\2024-07-16-23-14-52.brainflow.csv.bz2, identical file already exists in GCS.\n",
      "2024-12-19 18:01:15.439162 Skipping C:\\dev\\play\\brainwave-data\\2024-07-16-23-14-52\\raw.average_slow_wave.png, identical file already exists in GCS.\n",
      "2024-12-19 18:01:15.549413 Skipping C:\\dev\\play\\brainwave-data\\2024-07-16-23-14-52\\raw.edf, identical file already exists in GCS.\n",
      "2024-12-19 18:01:15.742521 Skipping C:\\dev\\play\\brainwave-data\\2024-07-16-23-14-52\\raw.fif, identical file already exists in GCS.\n",
      "2024-12-19 18:01:15.884036 Skipping C:\\dev\\play\\brainwave-data\\2024-07-16-23-14-52\\raw.fif.bz2, identical file already exists in GCS.\n",
      "2024-12-19 18:01:15.947515 Skipping C:\\dev\\play\\brainwave-data\\2024-07-16-23-14-52\\raw.final_wake_model.csv, identical file already exists in GCS.\n",
      "2024-12-19 18:01:16.010259 Skipping C:\\dev\\play\\brainwave-data\\2024-07-16-23-14-52\\raw.final_wake_model_post_human.csv, identical file already exists in GCS.\n",
      "2024-12-19 18:01:16.092012 C:\\dev\\play\\brainwave-data\\2024-07-16-23-14-52\\raw.final_wake_model_post_human.json uploading to 2024-07-16-23-14-52/raw.final_wake_model_post_human.json, does_not_exist=True has_changed=True\n",
      "2024-12-19 18:01:16.270626 Skipping C:\\dev\\play\\brainwave-data\\2024-07-16-23-14-52\\raw.microwakings.csv, identical file already exists in GCS.\n",
      "2024-12-19 18:01:16.349390 Skipping C:\\dev\\play\\brainwave-data\\2024-07-16-23-14-52\\raw.night_events.csv, identical file already exists in GCS.\n",
      "2024-12-19 18:01:16.398404 Skipping C:\\dev\\play\\brainwave-data\\2024-07-16-23-14-52\\raw.physical_features.csv, identical file already exists in GCS.\n",
      "2024-12-19 18:01:16.460929 Skipping C:\\dev\\play\\brainwave-data\\2024-07-16-23-14-52\\raw.post_filter_psd_plot.png, identical file already exists in GCS.\n",
      "2024-12-19 18:01:16.533108 Skipping C:\\dev\\play\\brainwave-data\\2024-07-16-23-14-52\\raw.post_human.csv, identical file already exists in GCS.\n",
      "2024-12-19 18:01:16.603672 Skipping C:\\dev\\play\\brainwave-data\\2024-07-16-23-14-52\\raw.post_yasa.csv, identical file already exists in GCS.\n",
      "2024-12-19 18:01:16.707306 Skipping C:\\dev\\play\\brainwave-data\\2024-07-16-23-14-52\\raw.pre_filter_psd_plot.png, identical file already exists in GCS.\n",
      "2024-12-19 18:01:16.771202 Skipping C:\\dev\\play\\brainwave-data\\2024-07-16-23-14-52\\raw.sleep.json, identical file already exists in GCS.\n",
      "2024-12-19 18:01:16.834419 Skipping C:\\dev\\play\\brainwave-data\\2024-07-16-23-14-52\\raw.sleep_stages.csv, identical file already exists in GCS.\n",
      "2024-12-19 18:01:16.868606 Skipping C:\\dev\\play\\brainwave-data\\2024-07-16-23-14-52\\raw.sleep_stages.F8-M1.csv, identical file already exists in GCS.\n",
      "2024-12-19 18:01:16.931209 Skipping C:\\dev\\play\\brainwave-data\\2024-07-16-23-14-52\\raw.sleep_stages.O2-M1.csv, identical file already exists in GCS.\n",
      "2024-12-19 18:01:16.979008 Skipping C:\\dev\\play\\brainwave-data\\2024-07-16-23-14-52\\raw.sleep_stages.T4-M1.csv, identical file already exists in GCS.\n",
      "2024-12-19 18:01:17.074140 Skipping C:\\dev\\play\\brainwave-data\\2024-07-16-23-14-52\\raw.spectrogram.F8-M1.png, identical file already exists in GCS.\n",
      "2024-12-19 18:01:17.125841 Skipping C:\\dev\\play\\brainwave-data\\2024-07-16-23-14-52\\raw.spectrogram.O2-M1.png, identical file already exists in GCS.\n",
      "2024-12-19 18:01:17.188941 Skipping C:\\dev\\play\\brainwave-data\\2024-07-16-23-14-52\\raw.spectrogram.T4-M1.png, identical file already exists in GCS.\n",
      "2024-12-19 18:01:17.249408 Skipping C:\\dev\\play\\brainwave-data\\2024-07-16-23-14-52\\raw.spindle_summary.csv, identical file already exists in GCS.\n",
      "2024-12-19 18:01:17.314844 Skipping C:\\dev\\play\\brainwave-data\\2024-07-16-23-14-52\\raw.sw_summary.csv, identical file already exists in GCS.\n",
      "2024-12-19 18:01:17.394176 Skipping C:\\dev\\play\\brainwave-data\\2024-07-16-23-14-52\\raw.with_features.csv, identical file already exists in GCS.\n",
      "2024-12-19 18:01:17.473606 Skipping C:\\dev\\play\\brainwave-data\\2024-07-16-23-14-52\\raw.with_microwakings_multi1_debug.edf, identical file already exists in GCS.\n",
      "2024-12-19 18:01:17.549010 Skipping C:\\dev\\play\\brainwave-data\\2024-07-16-23-14-52\\raw.yasa.csv, identical file already exists in GCS.\n"
     ]
    },
    {
     "name": "stderr",
     "output_type": "stream",
     "text": [
      "  9%|▉         | 10/111 [00:38<07:02,  4.19s/it]"
     ]
    },
    {
     "name": "stdout",
     "output_type": "stream",
     "text": [
      "2024-12-19 18:01:17.681766 Uploaded directory checksum for C:\\dev\\play\\brainwave-data\\2024-07-16-23-14-52 to 2024-07-16-23-14-52/directory_checksum.md5\n",
      "2024-12-19 18:01:20.117544 Skipping C:\\dev\\play\\brainwave-data\\2024-07-17-22-48-49\\raw.average_slow_wave.png, identical file already exists in GCS.\n",
      "2024-12-19 18:01:20.275240 Skipping C:\\dev\\play\\brainwave-data\\2024-07-17-22-48-49\\raw.edf, identical file already exists in GCS.\n",
      "2024-12-19 18:01:20.582510 Skipping C:\\dev\\play\\brainwave-data\\2024-07-17-22-48-49\\raw.fif, identical file already exists in GCS.\n",
      "2024-12-19 18:01:20.632731 Skipping C:\\dev\\play\\brainwave-data\\2024-07-17-22-48-49\\raw.final_wake_model.csv, identical file already exists in GCS.\n",
      "2024-12-19 18:01:20.711618 Skipping C:\\dev\\play\\brainwave-data\\2024-07-17-22-48-49\\raw.final_wake_model_post_human.csv, identical file already exists in GCS.\n",
      "2024-12-19 18:01:20.775177 C:\\dev\\play\\brainwave-data\\2024-07-17-22-48-49\\raw.final_wake_model_post_human.json uploading to 2024-07-17-22-48-49/raw.final_wake_model_post_human.json, does_not_exist=True has_changed=True\n",
      "2024-12-19 18:01:20.926724 Skipping C:\\dev\\play\\brainwave-data\\2024-07-17-22-48-49\\raw.microwakings.csv, identical file already exists in GCS.\n",
      "2024-12-19 18:01:20.982261 Skipping C:\\dev\\play\\brainwave-data\\2024-07-17-22-48-49\\raw.night_events.csv, identical file already exists in GCS.\n",
      "2024-12-19 18:01:21.017860 Skipping C:\\dev\\play\\brainwave-data\\2024-07-17-22-48-49\\raw.physical_features.csv, identical file already exists in GCS.\n",
      "2024-12-19 18:01:21.095968 Skipping C:\\dev\\play\\brainwave-data\\2024-07-17-22-48-49\\raw.post_filter_psd_plot.png, identical file already exists in GCS.\n",
      "2024-12-19 18:01:21.190014 Skipping C:\\dev\\play\\brainwave-data\\2024-07-17-22-48-49\\raw.post_human.csv, identical file already exists in GCS.\n",
      "2024-12-19 18:01:21.262166 Skipping C:\\dev\\play\\brainwave-data\\2024-07-17-22-48-49\\raw.post_yasa.csv, identical file already exists in GCS.\n",
      "2024-12-19 18:01:21.328310 Skipping C:\\dev\\play\\brainwave-data\\2024-07-17-22-48-49\\raw.pre_filter_psd_plot.png, identical file already exists in GCS.\n",
      "2024-12-19 18:01:21.373412 Skipping C:\\dev\\play\\brainwave-data\\2024-07-17-22-48-49\\raw.sleep.json, identical file already exists in GCS.\n",
      "2024-12-19 18:01:21.436471 Skipping C:\\dev\\play\\brainwave-data\\2024-07-17-22-48-49\\raw.sleep_stages.csv, identical file already exists in GCS.\n",
      "2024-12-19 18:01:21.502457 Skipping C:\\dev\\play\\brainwave-data\\2024-07-17-22-48-49\\raw.sleep_stages.F8-M1.csv, identical file already exists in GCS.\n",
      "2024-12-19 18:01:21.548624 Skipping C:\\dev\\play\\brainwave-data\\2024-07-17-22-48-49\\raw.sleep_stages.O2-M1.csv, identical file already exists in GCS.\n",
      "2024-12-19 18:01:21.585297 Skipping C:\\dev\\play\\brainwave-data\\2024-07-17-22-48-49\\raw.sleep_stages.T4-M1.csv, identical file already exists in GCS.\n",
      "2024-12-19 18:01:21.633808 Skipping C:\\dev\\play\\brainwave-data\\2024-07-17-22-48-49\\raw.spectrogram.F8-M1.png, identical file already exists in GCS.\n",
      "2024-12-19 18:01:21.729156 Skipping C:\\dev\\play\\brainwave-data\\2024-07-17-22-48-49\\raw.spectrogram.O2-M1.png, identical file already exists in GCS.\n",
      "2024-12-19 18:01:21.784096 Skipping C:\\dev\\play\\brainwave-data\\2024-07-17-22-48-49\\raw.spectrogram.T4-M1.png, identical file already exists in GCS.\n",
      "2024-12-19 18:01:21.830817 Skipping C:\\dev\\play\\brainwave-data\\2024-07-17-22-48-49\\raw.spindle_summary.csv, identical file already exists in GCS.\n",
      "2024-12-19 18:01:21.882373 Skipping C:\\dev\\play\\brainwave-data\\2024-07-17-22-48-49\\raw.sw_summary.csv, identical file already exists in GCS.\n",
      "2024-12-19 18:01:21.960922 Skipping C:\\dev\\play\\brainwave-data\\2024-07-17-22-48-49\\raw.with_features.csv, identical file already exists in GCS.\n",
      "2024-12-19 18:01:22.042892 Skipping C:\\dev\\play\\brainwave-data\\2024-07-17-22-48-49\\raw.with_microwakings_multi1_debug.edf, identical file already exists in GCS.\n",
      "2024-12-19 18:01:22.108487 Skipping C:\\dev\\play\\brainwave-data\\2024-07-17-22-48-49\\raw.yasa.csv, identical file already exists in GCS.\n"
     ]
    },
    {
     "name": "stderr",
     "output_type": "stream",
     "text": [
      " 10%|▉         | 11/111 [00:43<07:09,  4.29s/it]"
     ]
    },
    {
     "name": "stdout",
     "output_type": "stream",
     "text": [
      "2024-12-19 18:01:22.215979 Uploaded directory checksum for C:\\dev\\play\\brainwave-data\\2024-07-17-22-48-49 to 2024-07-17-22-48-49/directory_checksum.md5\n",
      "2024-12-19 18:01:24.312356 Skipping C:\\dev\\play\\brainwave-data\\2024-07-21-22-22-16\\raw.average_slow_wave.png, identical file already exists in GCS.\n",
      "2024-12-19 18:01:24.420488 Skipping C:\\dev\\play\\brainwave-data\\2024-07-21-22-22-16\\raw.edf, identical file already exists in GCS.\n",
      "2024-12-19 18:01:24.578309 Skipping C:\\dev\\play\\brainwave-data\\2024-07-21-22-22-16\\raw.fif, identical file already exists in GCS.\n",
      "2024-12-19 18:01:24.645256 Skipping C:\\dev\\play\\brainwave-data\\2024-07-21-22-22-16\\raw.final_wake_model.csv, identical file already exists in GCS.\n",
      "2024-12-19 18:01:24.712591 Skipping C:\\dev\\play\\brainwave-data\\2024-07-21-22-22-16\\raw.final_wake_model_post_human.csv, identical file already exists in GCS.\n",
      "2024-12-19 18:01:24.757441 C:\\dev\\play\\brainwave-data\\2024-07-21-22-22-16\\raw.final_wake_model_post_human.json uploading to 2024-07-21-22-22-16/raw.final_wake_model_post_human.json, does_not_exist=True has_changed=True\n",
      "2024-12-19 18:01:24.939760 Skipping C:\\dev\\play\\brainwave-data\\2024-07-21-22-22-16\\raw.microwakings.csv, identical file already exists in GCS.\n",
      "2024-12-19 18:01:25.002321 Skipping C:\\dev\\play\\brainwave-data\\2024-07-21-22-22-16\\raw.night_events.csv, identical file already exists in GCS.\n",
      "2024-12-19 18:01:25.049340 Skipping C:\\dev\\play\\brainwave-data\\2024-07-21-22-22-16\\raw.physical_features.csv, identical file already exists in GCS.\n",
      "2024-12-19 18:01:25.113147 Skipping C:\\dev\\play\\brainwave-data\\2024-07-21-22-22-16\\raw.post_filter_psd_plot.png, identical file already exists in GCS.\n",
      "2024-12-19 18:01:25.192644 Skipping C:\\dev\\play\\brainwave-data\\2024-07-21-22-22-16\\raw.post_human.csv, identical file already exists in GCS.\n",
      "2024-12-19 18:01:25.289709 Skipping C:\\dev\\play\\brainwave-data\\2024-07-21-22-22-16\\raw.post_yasa.csv, identical file already exists in GCS.\n",
      "2024-12-19 18:01:25.338225 Skipping C:\\dev\\play\\brainwave-data\\2024-07-21-22-22-16\\raw.pre_filter_psd_plot.png, identical file already exists in GCS.\n",
      "2024-12-19 18:01:25.402010 Skipping C:\\dev\\play\\brainwave-data\\2024-07-21-22-22-16\\raw.sleep.json, identical file already exists in GCS.\n",
      "2024-12-19 18:01:25.452682 Skipping C:\\dev\\play\\brainwave-data\\2024-07-21-22-22-16\\raw.sleep_stages.csv, identical file already exists in GCS.\n",
      "2024-12-19 18:01:25.509845 Skipping C:\\dev\\play\\brainwave-data\\2024-07-21-22-22-16\\raw.sleep_stages.F8-M1.csv, identical file already exists in GCS.\n",
      "2024-12-19 18:01:25.580972 Skipping C:\\dev\\play\\brainwave-data\\2024-07-21-22-22-16\\raw.sleep_stages.O2-M1.csv, identical file already exists in GCS.\n",
      "2024-12-19 18:01:25.627733 Skipping C:\\dev\\play\\brainwave-data\\2024-07-21-22-22-16\\raw.sleep_stages.T4-M1.csv, identical file already exists in GCS.\n",
      "2024-12-19 18:01:25.691584 Skipping C:\\dev\\play\\brainwave-data\\2024-07-21-22-22-16\\raw.spectrogram.F8-M1.png, identical file already exists in GCS.\n",
      "2024-12-19 18:01:25.759305 Skipping C:\\dev\\play\\brainwave-data\\2024-07-21-22-22-16\\raw.spectrogram.O2-M1.png, identical file already exists in GCS.\n",
      "2024-12-19 18:01:25.822788 Skipping C:\\dev\\play\\brainwave-data\\2024-07-21-22-22-16\\raw.spectrogram.T4-M1.png, identical file already exists in GCS.\n",
      "2024-12-19 18:01:25.901911 Skipping C:\\dev\\play\\brainwave-data\\2024-07-21-22-22-16\\raw.spindle_summary.csv, identical file already exists in GCS.\n",
      "2024-12-19 18:01:25.949594 Skipping C:\\dev\\play\\brainwave-data\\2024-07-21-22-22-16\\raw.sw_summary.csv, identical file already exists in GCS.\n",
      "2024-12-19 18:01:26.032692 Skipping C:\\dev\\play\\brainwave-data\\2024-07-21-22-22-16\\raw.with_features.csv, identical file already exists in GCS.\n"
     ]
    },
    {
     "name": "stderr",
     "output_type": "stream",
     "text": [
      " 11%|█         | 12/111 [00:47<06:58,  4.23s/it]"
     ]
    },
    {
     "name": "stdout",
     "output_type": "stream",
     "text": [
      "2024-12-19 18:01:26.126657 Skipping C:\\dev\\play\\brainwave-data\\2024-07-21-22-22-16\\raw.with_microwakings_multi1_debug.edf, identical file already exists in GCS.\n",
      "2024-12-19 18:01:26.190600 Skipping C:\\dev\\play\\brainwave-data\\2024-07-21-22-22-16\\raw.yasa.csv, identical file already exists in GCS.\n",
      "2024-12-19 18:01:26.286849 Uploaded directory checksum for C:\\dev\\play\\brainwave-data\\2024-07-21-22-22-16 to 2024-07-21-22-22-16/directory_checksum.md5\n",
      "2024-12-19 18:01:28.736739 Skipping C:\\dev\\play\\brainwave-data\\2024-07-22-22-24-06\\raw.average_slow_wave.png, identical file already exists in GCS.\n",
      "2024-12-19 18:01:28.856410 Skipping C:\\dev\\play\\brainwave-data\\2024-07-22-22-24-06\\raw.edf, identical file already exists in GCS.\n",
      "2024-12-19 18:01:29.152311 Skipping C:\\dev\\play\\brainwave-data\\2024-07-22-22-24-06\\raw.fif, identical file already exists in GCS.\n",
      "2024-12-19 18:01:29.219281 Skipping C:\\dev\\play\\brainwave-data\\2024-07-22-22-24-06\\raw.final_wake_model.csv, identical file already exists in GCS.\n",
      "2024-12-19 18:01:29.275023 Skipping C:\\dev\\play\\brainwave-data\\2024-07-22-22-24-06\\raw.final_wake_model_post_human.csv, identical file already exists in GCS.\n",
      "2024-12-19 18:01:29.330451 C:\\dev\\play\\brainwave-data\\2024-07-22-22-24-06\\raw.final_wake_model_post_human.json uploading to 2024-07-22-22-24-06/raw.final_wake_model_post_human.json, does_not_exist=True has_changed=True\n",
      "2024-12-19 18:01:29.487069 Skipping C:\\dev\\play\\brainwave-data\\2024-07-22-22-24-06\\raw.microwakings.csv, identical file already exists in GCS.\n",
      "2024-12-19 18:01:29.575403 Skipping C:\\dev\\play\\brainwave-data\\2024-07-22-22-24-06\\raw.night_events.csv, identical file already exists in GCS.\n",
      "2024-12-19 18:01:29.694842 Skipping C:\\dev\\play\\brainwave-data\\2024-07-22-22-24-06\\raw.physical_features.csv, identical file already exists in GCS.\n",
      "2024-12-19 18:01:29.774349 Skipping C:\\dev\\play\\brainwave-data\\2024-07-22-22-24-06\\raw.post_filter_psd_plot.png, identical file already exists in GCS.\n",
      "2024-12-19 18:01:29.858500 Skipping C:\\dev\\play\\brainwave-data\\2024-07-22-22-24-06\\raw.post_human.csv, identical file already exists in GCS.\n",
      "2024-12-19 18:01:29.954391 Skipping C:\\dev\\play\\brainwave-data\\2024-07-22-22-24-06\\raw.post_yasa.csv, identical file already exists in GCS.\n",
      "2024-12-19 18:01:30.017938 Skipping C:\\dev\\play\\brainwave-data\\2024-07-22-22-24-06\\raw.pre_filter_psd_plot.png, identical file already exists in GCS.\n",
      "2024-12-19 18:01:30.080682 Skipping C:\\dev\\play\\brainwave-data\\2024-07-22-22-24-06\\raw.sleep.json, identical file already exists in GCS.\n",
      "2024-12-19 18:01:30.136728 Skipping C:\\dev\\play\\brainwave-data\\2024-07-22-22-24-06\\raw.sleep_stages.csv, identical file already exists in GCS.\n",
      "2024-12-19 18:01:30.185952 Skipping C:\\dev\\play\\brainwave-data\\2024-07-22-22-24-06\\raw.sleep_stages.F8-M1.csv, identical file already exists in GCS.\n",
      "2024-12-19 18:01:30.269338 Skipping C:\\dev\\play\\brainwave-data\\2024-07-22-22-24-06\\raw.sleep_stages.O2-M1.csv, identical file already exists in GCS.\n",
      "2024-12-19 18:01:30.323037 Skipping C:\\dev\\play\\brainwave-data\\2024-07-22-22-24-06\\raw.sleep_stages.T4-M1.csv, identical file already exists in GCS.\n",
      "2024-12-19 18:01:30.398415 Skipping C:\\dev\\play\\brainwave-data\\2024-07-22-22-24-06\\raw.spectrogram.F8-M1.png, identical file already exists in GCS.\n",
      "2024-12-19 18:01:30.478503 Skipping C:\\dev\\play\\brainwave-data\\2024-07-22-22-24-06\\raw.spectrogram.O2-M1.png, identical file already exists in GCS.\n",
      "2024-12-19 18:01:30.537685 Skipping C:\\dev\\play\\brainwave-data\\2024-07-22-22-24-06\\raw.spectrogram.T4-M1.png, identical file already exists in GCS.\n",
      "2024-12-19 18:01:30.589901 Skipping C:\\dev\\play\\brainwave-data\\2024-07-22-22-24-06\\raw.spindle_summary.csv, identical file already exists in GCS.\n",
      "2024-12-19 18:01:30.643101 Skipping C:\\dev\\play\\brainwave-data\\2024-07-22-22-24-06\\raw.sw_summary.csv, identical file already exists in GCS.\n",
      "2024-12-19 18:01:30.738729 Skipping C:\\dev\\play\\brainwave-data\\2024-07-22-22-24-06\\raw.with_features.csv, identical file already exists in GCS.\n",
      "2024-12-19 18:01:30.801650 Skipping C:\\dev\\play\\brainwave-data\\2024-07-22-22-24-06\\raw.with_microwakings_multi1_debug.edf, identical file already exists in GCS.\n"
     ]
    },
    {
     "name": "stderr",
     "output_type": "stream",
     "text": [
      " 12%|█▏        | 13/111 [00:51<07:08,  4.37s/it]"
     ]
    },
    {
     "name": "stdout",
     "output_type": "stream",
     "text": [
      "2024-12-19 18:01:30.866952 Skipping C:\\dev\\play\\brainwave-data\\2024-07-22-22-24-06\\raw.yasa.csv, identical file already exists in GCS.\n",
      "2024-12-19 18:01:30.987156 Uploaded directory checksum for C:\\dev\\play\\brainwave-data\\2024-07-22-22-24-06 to 2024-07-22-22-24-06/directory_checksum.md5\n"
     ]
    },
    {
     "name": "stderr",
     "output_type": "stream",
     "text": [
      " 13%|█▎        | 14/111 [00:54<06:14,  3.86s/it]"
     ]
    },
    {
     "name": "stdout",
     "output_type": "stream",
     "text": [
      "2024-12-19 18:01:33.656862 Skipping upload of C:\\dev\\play\\brainwave-data\\2024-07-23-22-40-25, identical directory already exists in GCS.\n"
     ]
    },
    {
     "name": "stderr",
     "output_type": "stream",
     "text": [
      " 14%|█▎        | 15/111 [00:56<05:08,  3.22s/it]"
     ]
    },
    {
     "name": "stdout",
     "output_type": "stream",
     "text": [
      "2024-12-19 18:01:35.396849 Skipping upload of C:\\dev\\play\\brainwave-data\\2024-07-24-18-57-03, identical directory already exists in GCS.\n",
      "2024-12-19 18:01:37.899534 Skipping C:\\dev\\play\\brainwave-data\\2024-07-24-22-42-26\\raw.average_slow_wave.png, identical file already exists in GCS.\n",
      "2024-12-19 18:01:38.044974 Skipping C:\\dev\\play\\brainwave-data\\2024-07-24-22-42-26\\raw.edf, identical file already exists in GCS.\n",
      "2024-12-19 18:01:38.263811 Skipping C:\\dev\\play\\brainwave-data\\2024-07-24-22-42-26\\raw.fif, identical file already exists in GCS.\n",
      "2024-12-19 18:01:38.360750 Skipping C:\\dev\\play\\brainwave-data\\2024-07-24-22-42-26\\raw.final_wake_model.csv, identical file already exists in GCS.\n",
      "2024-12-19 18:01:38.431920 Skipping C:\\dev\\play\\brainwave-data\\2024-07-24-22-42-26\\raw.final_wake_model_post_human.csv, identical file already exists in GCS.\n",
      "2024-12-19 18:01:38.528399 C:\\dev\\play\\brainwave-data\\2024-07-24-22-42-26\\raw.final_wake_model_post_human.json uploading to 2024-07-24-22-42-26/raw.final_wake_model_post_human.json, does_not_exist=True has_changed=True\n",
      "2024-12-19 18:01:38.716390 Skipping C:\\dev\\play\\brainwave-data\\2024-07-24-22-42-26\\raw.microwakings.csv, identical file already exists in GCS.\n",
      "2024-12-19 18:01:38.771018 Skipping C:\\dev\\play\\brainwave-data\\2024-07-24-22-42-26\\raw.night_events.csv, identical file already exists in GCS.\n",
      "2024-12-19 18:01:38.839800 Skipping C:\\dev\\play\\brainwave-data\\2024-07-24-22-42-26\\raw.physical_features.csv, identical file already exists in GCS.\n",
      "2024-12-19 18:01:38.898139 Skipping C:\\dev\\play\\brainwave-data\\2024-07-24-22-42-26\\raw.post_filter_psd_plot.png, identical file already exists in GCS.\n",
      "2024-12-19 18:01:38.980965 Skipping C:\\dev\\play\\brainwave-data\\2024-07-24-22-42-26\\raw.post_human.csv, identical file already exists in GCS.\n",
      "2024-12-19 18:01:39.080182 Skipping C:\\dev\\play\\brainwave-data\\2024-07-24-22-42-26\\raw.post_yasa.csv, identical file already exists in GCS.\n",
      "2024-12-19 18:01:39.170291 Skipping C:\\dev\\play\\brainwave-data\\2024-07-24-22-42-26\\raw.pre_filter_psd_plot.png, identical file already exists in GCS.\n",
      "2024-12-19 18:01:39.240352 Skipping C:\\dev\\play\\brainwave-data\\2024-07-24-22-42-26\\raw.sleep.json, identical file already exists in GCS.\n",
      "2024-12-19 18:01:39.300478 Skipping C:\\dev\\play\\brainwave-data\\2024-07-24-22-42-26\\raw.sleep_stages.csv, identical file already exists in GCS.\n",
      "2024-12-19 18:01:39.371053 Skipping C:\\dev\\play\\brainwave-data\\2024-07-24-22-42-26\\raw.sleep_stages.F8-M1.csv, identical file already exists in GCS.\n",
      "2024-12-19 18:01:39.431268 Skipping C:\\dev\\play\\brainwave-data\\2024-07-24-22-42-26\\raw.sleep_stages.O2-M1.csv, identical file already exists in GCS.\n",
      "2024-12-19 18:01:39.471937 Skipping C:\\dev\\play\\brainwave-data\\2024-07-24-22-42-26\\raw.sleep_stages.T4-M1.csv, identical file already exists in GCS.\n",
      "2024-12-19 18:01:39.542900 Skipping C:\\dev\\play\\brainwave-data\\2024-07-24-22-42-26\\raw.spectrogram.F8-M1.png, identical file already exists in GCS.\n",
      "2024-12-19 18:01:39.606820 Skipping C:\\dev\\play\\brainwave-data\\2024-07-24-22-42-26\\raw.spectrogram.O2-M1.png, identical file already exists in GCS.\n",
      "2024-12-19 18:01:39.664077 Skipping C:\\dev\\play\\brainwave-data\\2024-07-24-22-42-26\\raw.spectrogram.T4-M1.png, identical file already exists in GCS.\n",
      "2024-12-19 18:01:39.715626 Skipping C:\\dev\\play\\brainwave-data\\2024-07-24-22-42-26\\raw.spindle_summary.csv, identical file already exists in GCS.\n",
      "2024-12-19 18:01:39.787239 Skipping C:\\dev\\play\\brainwave-data\\2024-07-24-22-42-26\\raw.sw_summary.csv, identical file already exists in GCS.\n",
      "2024-12-19 18:01:39.871123 Skipping C:\\dev\\play\\brainwave-data\\2024-07-24-22-42-26\\raw.with_features.csv, identical file already exists in GCS.\n"
     ]
    },
    {
     "name": "stderr",
     "output_type": "stream",
     "text": [
      " 14%|█▍        | 16/111 [01:00<05:48,  3.67s/it]"
     ]
    },
    {
     "name": "stdout",
     "output_type": "stream",
     "text": [
      "2024-12-19 18:01:39.959967 Skipping C:\\dev\\play\\brainwave-data\\2024-07-24-22-42-26\\raw.with_microwakings_multi1_debug.edf, identical file already exists in GCS.\n",
      "2024-12-19 18:01:40.040880 Skipping C:\\dev\\play\\brainwave-data\\2024-07-24-22-42-26\\raw.yasa.csv, identical file already exists in GCS.\n",
      "2024-12-19 18:01:40.116059 Uploaded directory checksum for C:\\dev\\play\\brainwave-data\\2024-07-24-22-42-26 to 2024-07-24-22-42-26/directory_checksum.md5\n",
      "2024-12-19 18:01:43.068510 Skipping C:\\dev\\play\\brainwave-data\\2024-07-26-22-36-26\\raw.average_slow_wave.png, identical file already exists in GCS.\n",
      "2024-12-19 18:01:43.261078 Skipping C:\\dev\\play\\brainwave-data\\2024-07-26-22-36-26\\raw.edf, identical file already exists in GCS.\n",
      "2024-12-19 18:01:43.778505 Skipping C:\\dev\\play\\brainwave-data\\2024-07-26-22-36-26\\raw.fif, identical file already exists in GCS.\n",
      "2024-12-19 18:01:43.837823 Skipping C:\\dev\\play\\brainwave-data\\2024-07-26-22-36-26\\raw.final_wake_model.csv, identical file already exists in GCS.\n",
      "2024-12-19 18:01:43.897021 Skipping C:\\dev\\play\\brainwave-data\\2024-07-26-22-36-26\\raw.final_wake_model_post_human.csv, identical file already exists in GCS.\n",
      "2024-12-19 18:01:43.958674 C:\\dev\\play\\brainwave-data\\2024-07-26-22-36-26\\raw.final_wake_model_post_human.json uploading to 2024-07-26-22-36-26/raw.final_wake_model_post_human.json, does_not_exist=True has_changed=True\n",
      "2024-12-19 18:01:44.130427 Skipping C:\\dev\\play\\brainwave-data\\2024-07-26-22-36-26\\raw.microwakings.csv, identical file already exists in GCS.\n",
      "2024-12-19 18:01:44.193022 Skipping C:\\dev\\play\\brainwave-data\\2024-07-26-22-36-26\\raw.night_events.csv, identical file already exists in GCS.\n",
      "2024-12-19 18:01:44.244049 Skipping C:\\dev\\play\\brainwave-data\\2024-07-26-22-36-26\\raw.physical_features.csv, identical file already exists in GCS.\n",
      "2024-12-19 18:01:44.315069 Skipping C:\\dev\\play\\brainwave-data\\2024-07-26-22-36-26\\raw.post_filter_psd_plot.png, identical file already exists in GCS.\n",
      "2024-12-19 18:01:44.427181 Skipping C:\\dev\\play\\brainwave-data\\2024-07-26-22-36-26\\raw.post_human.csv, identical file already exists in GCS.\n",
      "2024-12-19 18:01:44.536041 Skipping C:\\dev\\play\\brainwave-data\\2024-07-26-22-36-26\\raw.post_yasa.csv, identical file already exists in GCS.\n",
      "2024-12-19 18:01:44.585785 Skipping C:\\dev\\play\\brainwave-data\\2024-07-26-22-36-26\\raw.pre_filter_psd_plot.png, identical file already exists in GCS.\n",
      "2024-12-19 18:01:44.659110 Skipping C:\\dev\\play\\brainwave-data\\2024-07-26-22-36-26\\raw.sleep.json, identical file already exists in GCS.\n",
      "2024-12-19 18:01:44.706280 Skipping C:\\dev\\play\\brainwave-data\\2024-07-26-22-36-26\\raw.sleep_stages.csv, identical file already exists in GCS.\n",
      "2024-12-19 18:01:44.754554 Skipping C:\\dev\\play\\brainwave-data\\2024-07-26-22-36-26\\raw.sleep_stages.F8-M1.csv, identical file already exists in GCS.\n",
      "2024-12-19 18:01:44.831544 Skipping C:\\dev\\play\\brainwave-data\\2024-07-26-22-36-26\\raw.sleep_stages.O2-M1.csv, identical file already exists in GCS.\n",
      "2024-12-19 18:01:44.870018 Skipping C:\\dev\\play\\brainwave-data\\2024-07-26-22-36-26\\raw.sleep_stages.T4-M1.csv, identical file already exists in GCS.\n",
      "2024-12-19 18:01:44.925310 Skipping C:\\dev\\play\\brainwave-data\\2024-07-26-22-36-26\\raw.spectrogram.F8-M1.png, identical file already exists in GCS.\n",
      "2024-12-19 18:01:44.986498 Skipping C:\\dev\\play\\brainwave-data\\2024-07-26-22-36-26\\raw.spectrogram.O2-M1.png, identical file already exists in GCS.\n",
      "2024-12-19 18:01:45.050488 Skipping C:\\dev\\play\\brainwave-data\\2024-07-26-22-36-26\\raw.spectrogram.T4-M1.png, identical file already exists in GCS.\n",
      "2024-12-19 18:01:45.102953 Skipping C:\\dev\\play\\brainwave-data\\2024-07-26-22-36-26\\raw.spindle_summary.csv, identical file already exists in GCS.\n",
      "2024-12-19 18:01:45.150481 Skipping C:\\dev\\play\\brainwave-data\\2024-07-26-22-36-26\\raw.sw_summary.csv, identical file already exists in GCS.\n",
      "2024-12-19 18:01:45.274033 Skipping C:\\dev\\play\\brainwave-data\\2024-07-26-22-36-26\\raw.with_features.csv, identical file already exists in GCS.\n"
     ]
    },
    {
     "name": "stderr",
     "output_type": "stream",
     "text": [
      " 15%|█▌        | 17/111 [01:06<06:33,  4.19s/it]"
     ]
    },
    {
     "name": "stdout",
     "output_type": "stream",
     "text": [
      "2024-12-19 18:01:45.349241 Skipping C:\\dev\\play\\brainwave-data\\2024-07-26-22-36-26\\raw.with_microwakings_multi1_debug.edf, identical file already exists in GCS.\n",
      "2024-12-19 18:01:45.405089 Skipping C:\\dev\\play\\brainwave-data\\2024-07-26-22-36-26\\raw.yasa.csv, identical file already exists in GCS.\n",
      "2024-12-19 18:01:45.508086 Uploaded directory checksum for C:\\dev\\play\\brainwave-data\\2024-07-26-22-36-26 to 2024-07-26-22-36-26/directory_checksum.md5\n",
      "2024-12-19 18:01:48.621336 Skipping C:\\dev\\play\\brainwave-data\\2024-07-27-22-16-21\\raw.average_slow_wave.png, identical file already exists in GCS.\n",
      "2024-12-19 18:01:48.817492 Skipping C:\\dev\\play\\brainwave-data\\2024-07-27-22-16-21\\raw.edf, identical file already exists in GCS.\n",
      "2024-12-19 18:01:49.380463 Skipping C:\\dev\\play\\brainwave-data\\2024-07-27-22-16-21\\raw.fif, identical file already exists in GCS.\n",
      "2024-12-19 18:01:49.446622 Skipping C:\\dev\\play\\brainwave-data\\2024-07-27-22-16-21\\raw.final_wake_model.csv, identical file already exists in GCS.\n",
      "2024-12-19 18:01:49.502873 Skipping C:\\dev\\play\\brainwave-data\\2024-07-27-22-16-21\\raw.final_wake_model_post_human.csv, identical file already exists in GCS.\n",
      "2024-12-19 18:01:49.554317 C:\\dev\\play\\brainwave-data\\2024-07-27-22-16-21\\raw.final_wake_model_post_human.json uploading to 2024-07-27-22-16-21/raw.final_wake_model_post_human.json, does_not_exist=True has_changed=True\n",
      "2024-12-19 18:01:49.697791 Skipping C:\\dev\\play\\brainwave-data\\2024-07-27-22-16-21\\raw.microwakings.csv, identical file already exists in GCS.\n",
      "2024-12-19 18:01:49.756018 Skipping C:\\dev\\play\\brainwave-data\\2024-07-27-22-16-21\\raw.night_events.csv, identical file already exists in GCS.\n",
      "2024-12-19 18:01:49.815501 Skipping C:\\dev\\play\\brainwave-data\\2024-07-27-22-16-21\\raw.physical_features.csv, identical file already exists in GCS.\n",
      "2024-12-19 18:01:49.881910 Skipping C:\\dev\\play\\brainwave-data\\2024-07-27-22-16-21\\raw.post_filter_psd_plot.png, identical file already exists in GCS.\n",
      "2024-12-19 18:01:50.021169 Skipping C:\\dev\\play\\brainwave-data\\2024-07-27-22-16-21\\raw.post_human.csv, identical file already exists in GCS.\n",
      "2024-12-19 18:01:50.145283 Skipping C:\\dev\\play\\brainwave-data\\2024-07-27-22-16-21\\raw.post_yasa.csv, identical file already exists in GCS.\n",
      "2024-12-19 18:01:50.200064 Skipping C:\\dev\\play\\brainwave-data\\2024-07-27-22-16-21\\raw.pre_filter_psd_plot.png, identical file already exists in GCS.\n",
      "2024-12-19 18:01:50.256644 Skipping C:\\dev\\play\\brainwave-data\\2024-07-27-22-16-21\\raw.sleep.json, identical file already exists in GCS.\n",
      "2024-12-19 18:01:50.340714 Skipping C:\\dev\\play\\brainwave-data\\2024-07-27-22-16-21\\raw.sleep_stages.csv, identical file already exists in GCS.\n",
      "2024-12-19 18:01:50.397872 Skipping C:\\dev\\play\\brainwave-data\\2024-07-27-22-16-21\\raw.sleep_stages.F8-M1.csv, identical file already exists in GCS.\n",
      "2024-12-19 18:01:50.468743 Skipping C:\\dev\\play\\brainwave-data\\2024-07-27-22-16-21\\raw.sleep_stages.O2-M1.csv, identical file already exists in GCS.\n",
      "2024-12-19 18:01:50.529893 Skipping C:\\dev\\play\\brainwave-data\\2024-07-27-22-16-21\\raw.sleep_stages.T4-M1.csv, identical file already exists in GCS.\n",
      "2024-12-19 18:01:50.587882 Skipping C:\\dev\\play\\brainwave-data\\2024-07-27-22-16-21\\raw.spectrogram.F8-M1.png, identical file already exists in GCS.\n",
      "2024-12-19 18:01:50.656414 Skipping C:\\dev\\play\\brainwave-data\\2024-07-27-22-16-21\\raw.spectrogram.O2-M1.png, identical file already exists in GCS.\n",
      "2024-12-19 18:01:50.716561 Skipping C:\\dev\\play\\brainwave-data\\2024-07-27-22-16-21\\raw.spectrogram.T4-M1.png, identical file already exists in GCS.\n",
      "2024-12-19 18:01:50.768565 Skipping C:\\dev\\play\\brainwave-data\\2024-07-27-22-16-21\\raw.spindle_summary.csv, identical file already exists in GCS.\n",
      "2024-12-19 18:01:50.845711 Skipping C:\\dev\\play\\brainwave-data\\2024-07-27-22-16-21\\raw.sw_summary.csv, identical file already exists in GCS.\n",
      "2024-12-19 18:01:50.976279 Skipping C:\\dev\\play\\brainwave-data\\2024-07-27-22-16-21\\raw.with_features.csv, identical file already exists in GCS.\n"
     ]
    },
    {
     "name": "stderr",
     "output_type": "stream",
     "text": [
      " 16%|█▌        | 18/111 [01:12<07:13,  4.66s/it]"
     ]
    },
    {
     "name": "stdout",
     "output_type": "stream",
     "text": [
      "2024-12-19 18:01:51.058601 Skipping C:\\dev\\play\\brainwave-data\\2024-07-27-22-16-21\\raw.with_microwakings_multi1_debug.edf, identical file already exists in GCS.\n",
      "2024-12-19 18:01:51.121013 Skipping C:\\dev\\play\\brainwave-data\\2024-07-27-22-16-21\\raw.yasa.csv, identical file already exists in GCS.\n",
      "2024-12-19 18:01:51.260333 Uploaded directory checksum for C:\\dev\\play\\brainwave-data\\2024-07-27-22-16-21 to 2024-07-27-22-16-21/directory_checksum.md5\n",
      "2024-12-19 18:01:53.953355 Skipping C:\\dev\\play\\brainwave-data\\2024-07-28-22-29-49\\raw.average_slow_wave.png, identical file already exists in GCS.\n",
      "2024-12-19 18:01:54.171897 Skipping C:\\dev\\play\\brainwave-data\\2024-07-28-22-29-49\\raw.edf, identical file already exists in GCS.\n",
      "2024-12-19 18:01:54.733942 Skipping C:\\dev\\play\\brainwave-data\\2024-07-28-22-29-49\\raw.fif, identical file already exists in GCS.\n",
      "2024-12-19 18:01:54.784037 Skipping C:\\dev\\play\\brainwave-data\\2024-07-28-22-29-49\\raw.microwakings.csv, identical file already exists in GCS.\n",
      "2024-12-19 18:01:54.852117 Skipping C:\\dev\\play\\brainwave-data\\2024-07-28-22-29-49\\raw.night_events.csv, identical file already exists in GCS.\n",
      "2024-12-19 18:01:54.918804 Skipping C:\\dev\\play\\brainwave-data\\2024-07-28-22-29-49\\raw.post_filter_psd_plot.png, identical file already exists in GCS.\n",
      "2024-12-19 18:01:54.971958 Skipping C:\\dev\\play\\brainwave-data\\2024-07-28-22-29-49\\raw.pre_filter_psd_plot.png, identical file already exists in GCS.\n",
      "2024-12-19 18:01:55.048521 Skipping C:\\dev\\play\\brainwave-data\\2024-07-28-22-29-49\\raw.sleep.json, identical file already exists in GCS.\n",
      "2024-12-19 18:01:55.104890 Skipping C:\\dev\\play\\brainwave-data\\2024-07-28-22-29-49\\raw.sleep_stages.csv, identical file already exists in GCS.\n",
      "2024-12-19 18:01:55.157124 Skipping C:\\dev\\play\\brainwave-data\\2024-07-28-22-29-49\\raw.sleep_stages.F8-M1.csv, identical file already exists in GCS.\n",
      "2024-12-19 18:01:55.202183 Skipping C:\\dev\\play\\brainwave-data\\2024-07-28-22-29-49\\raw.sleep_stages.O2-M1.csv, identical file already exists in GCS.\n",
      "2024-12-19 18:01:55.263369 Skipping C:\\dev\\play\\brainwave-data\\2024-07-28-22-29-49\\raw.sleep_stages.T4-M1.csv, identical file already exists in GCS.\n",
      "2024-12-19 18:01:55.328148 Skipping C:\\dev\\play\\brainwave-data\\2024-07-28-22-29-49\\raw.spectrogram.F8-M1.png, identical file already exists in GCS.\n",
      "2024-12-19 18:01:55.392740 Skipping C:\\dev\\play\\brainwave-data\\2024-07-28-22-29-49\\raw.spectrogram.O2-M1.png, identical file already exists in GCS.\n",
      "2024-12-19 18:01:55.457404 Skipping C:\\dev\\play\\brainwave-data\\2024-07-28-22-29-49\\raw.spectrogram.T4-M1.png, identical file already exists in GCS.\n",
      "2024-12-19 18:01:55.510544 Skipping C:\\dev\\play\\brainwave-data\\2024-07-28-22-29-49\\raw.sw_summary.csv, identical file already exists in GCS.\n",
      "2024-12-19 18:01:55.570040 Skipping C:\\dev\\play\\brainwave-data\\2024-07-28-22-29-49\\raw.with_features.csv, identical file already exists in GCS.\n"
     ]
    },
    {
     "name": "stderr",
     "output_type": "stream",
     "text": [
      " 17%|█▋        | 19/111 [01:16<07:02,  4.60s/it]"
     ]
    },
    {
     "name": "stdout",
     "output_type": "stream",
     "text": [
      "2024-12-19 18:01:55.711711 Uploaded directory checksum for C:\\dev\\play\\brainwave-data\\2024-07-28-22-29-49 to 2024-07-28-22-29-49/directory_checksum.md5\n"
     ]
    },
    {
     "name": "stderr",
     "output_type": "stream",
     "text": [
      " 18%|█▊        | 20/111 [01:19<05:59,  3.95s/it]"
     ]
    },
    {
     "name": "stdout",
     "output_type": "stream",
     "text": [
      "2024-12-19 18:01:58.151333 Skipping upload of C:\\dev\\play\\brainwave-data\\2024-08-03-22-57-15, identical directory already exists in GCS.\n",
      "2024-12-19 18:02:01.206577 Skipping C:\\dev\\play\\brainwave-data\\2024-08-18-21-33-07\\raw.average_slow_wave.png, identical file already exists in GCS.\n",
      "2024-12-19 18:02:01.262942 Skipping C:\\dev\\play\\brainwave-data\\2024-08-18-21-33-07\\raw.average_spindle.png, identical file already exists in GCS.\n",
      "2024-12-19 18:02:01.470390 Skipping C:\\dev\\play\\brainwave-data\\2024-08-18-21-33-07\\raw.edf, identical file already exists in GCS.\n",
      "2024-12-19 18:02:02.001724 Skipping C:\\dev\\play\\brainwave-data\\2024-08-18-21-33-07\\raw.fif, identical file already exists in GCS.\n",
      "2024-12-19 18:02:02.052437 Skipping C:\\dev\\play\\brainwave-data\\2024-08-18-21-33-07\\raw.final_wake_model.csv, identical file already exists in GCS.\n",
      "2024-12-19 18:02:02.103214 Skipping C:\\dev\\play\\brainwave-data\\2024-08-18-21-33-07\\raw.final_wake_model_post_human.csv, identical file already exists in GCS.\n",
      "2024-12-19 18:02:02.155179 C:\\dev\\play\\brainwave-data\\2024-08-18-21-33-07\\raw.final_wake_model_post_human.json uploading to 2024-08-18-21-33-07/raw.final_wake_model_post_human.json, does_not_exist=True has_changed=True\n",
      "2024-12-19 18:02:02.299094 Skipping C:\\dev\\play\\brainwave-data\\2024-08-18-21-33-07\\raw.microwakings.csv, identical file already exists in GCS.\n",
      "2024-12-19 18:02:02.363596 Skipping C:\\dev\\play\\brainwave-data\\2024-08-18-21-33-07\\raw.night_events.csv, identical file already exists in GCS.\n",
      "2024-12-19 18:02:02.411500 Skipping C:\\dev\\play\\brainwave-data\\2024-08-18-21-33-07\\raw.physical_features.csv, identical file already exists in GCS.\n",
      "2024-12-19 18:02:02.465436 Skipping C:\\dev\\play\\brainwave-data\\2024-08-18-21-33-07\\raw.post_filter_psd_plot.png, identical file already exists in GCS.\n",
      "2024-12-19 18:02:02.578643 Skipping C:\\dev\\play\\brainwave-data\\2024-08-18-21-33-07\\raw.post_human.csv, identical file already exists in GCS.\n",
      "2024-12-19 18:02:02.692634 Skipping C:\\dev\\play\\brainwave-data\\2024-08-18-21-33-07\\raw.post_yasa.csv, identical file already exists in GCS.\n",
      "2024-12-19 18:02:02.769588 Skipping C:\\dev\\play\\brainwave-data\\2024-08-18-21-33-07\\raw.pre_filter_psd_plot.png, identical file already exists in GCS.\n",
      "2024-12-19 18:02:02.839505 Skipping C:\\dev\\play\\brainwave-data\\2024-08-18-21-33-07\\raw.sleep.json, identical file already exists in GCS.\n",
      "2024-12-19 18:02:02.911409 Skipping C:\\dev\\play\\brainwave-data\\2024-08-18-21-33-07\\raw.sleep_stages.csv, identical file already exists in GCS.\n",
      "2024-12-19 18:02:02.957416 Skipping C:\\dev\\play\\brainwave-data\\2024-08-18-21-33-07\\raw.sleep_stages.F4-M1.csv, identical file already exists in GCS.\n",
      "2024-12-19 18:02:03.006450 Skipping C:\\dev\\play\\brainwave-data\\2024-08-18-21-33-07\\raw.sleep_stages.F8-M1.csv, identical file already exists in GCS.\n",
      "2024-12-19 18:02:03.069479 Skipping C:\\dev\\play\\brainwave-data\\2024-08-18-21-33-07\\raw.sleep_stages.Fpz-M1.csv, identical file already exists in GCS.\n",
      "2024-12-19 18:02:03.128966 Skipping C:\\dev\\play\\brainwave-data\\2024-08-18-21-33-07\\raw.spectrogram.F4-M1.png, identical file already exists in GCS.\n",
      "2024-12-19 18:02:03.193866 Skipping C:\\dev\\play\\brainwave-data\\2024-08-18-21-33-07\\raw.spectrogram.F8-M1.png, identical file already exists in GCS.\n",
      "2024-12-19 18:02:03.306640 Skipping C:\\dev\\play\\brainwave-data\\2024-08-18-21-33-07\\raw.spectrogram.Fpz-M1.png, identical file already exists in GCS.\n",
      "2024-12-19 18:02:03.361052 Skipping C:\\dev\\play\\brainwave-data\\2024-08-18-21-33-07\\raw.spindle_summary.csv, identical file already exists in GCS.\n",
      "2024-12-19 18:02:03.431846 Skipping C:\\dev\\play\\brainwave-data\\2024-08-18-21-33-07\\raw.sw_summary.csv, identical file already exists in GCS.\n",
      "2024-12-19 18:02:03.545598 Skipping C:\\dev\\play\\brainwave-data\\2024-08-18-21-33-07\\raw.with_features.csv, identical file already exists in GCS.\n",
      "2024-12-19 18:02:03.635972 Skipping C:\\dev\\play\\brainwave-data\\2024-08-18-21-33-07\\raw.with_microwakings_multi1_debug.edf, identical file already exists in GCS.\n",
      "2024-12-19 18:02:03.707490 Skipping C:\\dev\\play\\brainwave-data\\2024-08-18-21-33-07\\raw.with_predictions.edf, identical file already exists in GCS.\n",
      "2024-12-19 18:02:03.744196 Skipping C:\\dev\\play\\brainwave-data\\2024-08-18-21-33-07\\raw.with_predictions.scorings.json, identical file already exists in GCS.\n"
     ]
    },
    {
     "name": "stderr",
     "output_type": "stream",
     "text": [
      " 19%|█▉        | 21/111 [01:24<06:44,  4.50s/it]"
     ]
    },
    {
     "name": "stdout",
     "output_type": "stream",
     "text": [
      "2024-12-19 18:02:03.795911 Skipping C:\\dev\\play\\brainwave-data\\2024-08-18-21-33-07\\raw.yasa.csv, identical file already exists in GCS.\n",
      "2024-12-19 18:02:03.926358 Uploaded directory checksum for C:\\dev\\play\\brainwave-data\\2024-08-18-21-33-07 to 2024-08-18-21-33-07/directory_checksum.md5\n",
      "2024-12-19 18:02:07.203048 Skipping C:\\dev\\play\\brainwave-data\\2024-08-19-21-43-56\\raw.average_slow_wave.png, identical file already exists in GCS.\n",
      "2024-12-19 18:02:07.464046 Skipping C:\\dev\\play\\brainwave-data\\2024-08-19-21-43-56\\raw.edf, identical file already exists in GCS.\n",
      "2024-12-19 18:02:08.176109 Skipping C:\\dev\\play\\brainwave-data\\2024-08-19-21-43-56\\raw.fif, identical file already exists in GCS.\n",
      "2024-12-19 18:02:08.228509 Skipping C:\\dev\\play\\brainwave-data\\2024-08-19-21-43-56\\raw.final_wake_model.csv, identical file already exists in GCS.\n",
      "2024-12-19 18:02:08.294805 Skipping C:\\dev\\play\\brainwave-data\\2024-08-19-21-43-56\\raw.final_wake_model_post_human.csv, identical file already exists in GCS.\n",
      "2024-12-19 18:02:08.355411 C:\\dev\\play\\brainwave-data\\2024-08-19-21-43-56\\raw.final_wake_model_post_human.json uploading to 2024-08-19-21-43-56/raw.final_wake_model_post_human.json, does_not_exist=True has_changed=True\n",
      "2024-12-19 18:02:08.491287 Skipping C:\\dev\\play\\brainwave-data\\2024-08-19-21-43-56\\raw.microwakings.csv, identical file already exists in GCS.\n",
      "2024-12-19 18:02:08.549782 Skipping C:\\dev\\play\\brainwave-data\\2024-08-19-21-43-56\\raw.night_events.csv, identical file already exists in GCS.\n",
      "2024-12-19 18:02:08.602874 Skipping C:\\dev\\play\\brainwave-data\\2024-08-19-21-43-56\\raw.physical_features.csv, identical file already exists in GCS.\n",
      "2024-12-19 18:02:08.664703 Skipping C:\\dev\\play\\brainwave-data\\2024-08-19-21-43-56\\raw.post_filter_psd_plot.png, identical file already exists in GCS.\n",
      "2024-12-19 18:02:08.802185 Skipping C:\\dev\\play\\brainwave-data\\2024-08-19-21-43-56\\raw.post_human.csv, identical file already exists in GCS.\n",
      "2024-12-19 18:02:08.940875 Skipping C:\\dev\\play\\brainwave-data\\2024-08-19-21-43-56\\raw.post_yasa.csv, identical file already exists in GCS.\n",
      "2024-12-19 18:02:09.015017 Skipping C:\\dev\\play\\brainwave-data\\2024-08-19-21-43-56\\raw.pre_filter_psd_plot.png, identical file already exists in GCS.\n",
      "2024-12-19 18:02:09.052265 Skipping C:\\dev\\play\\brainwave-data\\2024-08-19-21-43-56\\raw.scorings.json, identical file already exists in GCS.\n",
      "2024-12-19 18:02:09.102396 Skipping C:\\dev\\play\\brainwave-data\\2024-08-19-21-43-56\\raw.sleep.json, identical file already exists in GCS.\n",
      "2024-12-19 18:02:09.173533 Skipping C:\\dev\\play\\brainwave-data\\2024-08-19-21-43-56\\raw.sleep_stages.csv, identical file already exists in GCS.\n",
      "2024-12-19 18:02:09.245016 Skipping C:\\dev\\play\\brainwave-data\\2024-08-19-21-43-56\\raw.sleep_stages.F8-M1.csv, identical file already exists in GCS.\n",
      "2024-12-19 18:02:09.292383 Skipping C:\\dev\\play\\brainwave-data\\2024-08-19-21-43-56\\raw.sleep_stages.Fpz-M1.csv, identical file already exists in GCS.\n",
      "2024-12-19 18:02:09.393029 Skipping C:\\dev\\play\\brainwave-data\\2024-08-19-21-43-56\\raw.spectrogram.F8-M1.png, identical file already exists in GCS.\n",
      "2024-12-19 18:02:09.470176 Skipping C:\\dev\\play\\brainwave-data\\2024-08-19-21-43-56\\raw.spectrogram.Fpz-M1.png, identical file already exists in GCS.\n",
      "2024-12-19 18:02:09.526032 Skipping C:\\dev\\play\\brainwave-data\\2024-08-19-21-43-56\\raw.spindle_summary.csv, identical file already exists in GCS.\n",
      "2024-12-19 18:02:09.589736 Skipping C:\\dev\\play\\brainwave-data\\2024-08-19-21-43-56\\raw.sw_summary.csv, identical file already exists in GCS.\n",
      "2024-12-19 18:02:09.690031 Skipping C:\\dev\\play\\brainwave-data\\2024-08-19-21-43-56\\raw.with_features.csv, identical file already exists in GCS.\n",
      "2024-12-19 18:02:09.784772 Skipping C:\\dev\\play\\brainwave-data\\2024-08-19-21-43-56\\raw.with_microwakings_multi1_debug.edf, identical file already exists in GCS.\n",
      "2024-12-19 18:02:09.869036 Skipping C:\\dev\\play\\brainwave-data\\2024-08-19-21-43-56\\raw.with_predictions.edf, identical file already exists in GCS.\n"
     ]
    },
    {
     "name": "stderr",
     "output_type": "stream",
     "text": [
      " 20%|█▉        | 22/111 [01:30<07:25,  5.01s/it]"
     ]
    },
    {
     "name": "stdout",
     "output_type": "stream",
     "text": [
      "2024-12-19 18:02:09.942263 Skipping C:\\dev\\play\\brainwave-data\\2024-08-19-21-43-56\\raw.with_predictions.scorings.json, identical file already exists in GCS.\n",
      "2024-12-19 18:02:10.016217 Skipping C:\\dev\\play\\brainwave-data\\2024-08-19-21-43-56\\raw.yasa.csv, identical file already exists in GCS.\n",
      "2024-12-19 18:02:10.117913 Uploaded directory checksum for C:\\dev\\play\\brainwave-data\\2024-08-19-21-43-56 to 2024-08-19-21-43-56/directory_checksum.md5\n",
      "2024-12-19 18:02:13.258641 Skipping C:\\dev\\play\\brainwave-data\\2024-08-20-21-17-32\\raw.average_slow_wave.png, identical file already exists in GCS.\n",
      "2024-12-19 18:02:13.486563 Skipping C:\\dev\\play\\brainwave-data\\2024-08-20-21-17-32\\raw.edf, identical file already exists in GCS.\n",
      "2024-12-19 18:02:14.037723 Skipping C:\\dev\\play\\brainwave-data\\2024-08-20-21-17-32\\raw.fif, identical file already exists in GCS.\n",
      "2024-12-19 18:02:14.094371 Skipping C:\\dev\\play\\brainwave-data\\2024-08-20-21-17-32\\raw.final_wake_model.csv, identical file already exists in GCS.\n",
      "2024-12-19 18:02:14.162031 Skipping C:\\dev\\play\\brainwave-data\\2024-08-20-21-17-32\\raw.final_wake_model_post_human.csv, identical file already exists in GCS.\n",
      "2024-12-19 18:02:14.230175 C:\\dev\\play\\brainwave-data\\2024-08-20-21-17-32\\raw.final_wake_model_post_human.json uploading to 2024-08-20-21-17-32/raw.final_wake_model_post_human.json, does_not_exist=True has_changed=True\n",
      "2024-12-19 18:02:14.385641 Skipping C:\\dev\\play\\brainwave-data\\2024-08-20-21-17-32\\raw.microwakings.csv, identical file already exists in GCS.\n",
      "2024-12-19 18:02:14.456573 Skipping C:\\dev\\play\\brainwave-data\\2024-08-20-21-17-32\\raw.night_events.csv, identical file already exists in GCS.\n",
      "2024-12-19 18:02:14.521016 Skipping C:\\dev\\play\\brainwave-data\\2024-08-20-21-17-32\\raw.physical_features.csv, identical file already exists in GCS.\n",
      "2024-12-19 18:02:14.606332 Skipping C:\\dev\\play\\brainwave-data\\2024-08-20-21-17-32\\raw.post_filter_psd_plot.png, identical file already exists in GCS.\n",
      "2024-12-19 18:02:14.718077 Skipping C:\\dev\\play\\brainwave-data\\2024-08-20-21-17-32\\raw.post_human.csv, identical file already exists in GCS.\n",
      "2024-12-19 18:02:14.833661 Skipping C:\\dev\\play\\brainwave-data\\2024-08-20-21-17-32\\raw.post_yasa.csv, identical file already exists in GCS.\n",
      "2024-12-19 18:02:14.893203 Skipping C:\\dev\\play\\brainwave-data\\2024-08-20-21-17-32\\raw.pre_filter_psd_plot.png, identical file already exists in GCS.\n",
      "2024-12-19 18:02:14.949931 Skipping C:\\dev\\play\\brainwave-data\\2024-08-20-21-17-32\\raw.scorings.json, identical file already exists in GCS.\n",
      "2024-12-19 18:02:14.998925 Skipping C:\\dev\\play\\brainwave-data\\2024-08-20-21-17-32\\raw.sleep.json, identical file already exists in GCS.\n",
      "2024-12-19 18:02:15.052404 Skipping C:\\dev\\play\\brainwave-data\\2024-08-20-21-17-32\\raw.sleep_stages.csv, identical file already exists in GCS.\n",
      "2024-12-19 18:02:15.109250 Skipping C:\\dev\\play\\brainwave-data\\2024-08-20-21-17-32\\raw.sleep_stages.F8-M1.csv, identical file already exists in GCS.\n",
      "2024-12-19 18:02:15.158522 Skipping C:\\dev\\play\\brainwave-data\\2024-08-20-21-17-32\\raw.sleep_stages.Fpz-M1.csv, identical file already exists in GCS.\n",
      "2024-12-19 18:02:15.215622 Skipping C:\\dev\\play\\brainwave-data\\2024-08-20-21-17-32\\raw.spectrogram.F8-M1.png, identical file already exists in GCS.\n",
      "2024-12-19 18:02:15.269942 Skipping C:\\dev\\play\\brainwave-data\\2024-08-20-21-17-32\\raw.spectrogram.Fpz-M1.png, identical file already exists in GCS.\n",
      "2024-12-19 18:02:15.319174 Skipping C:\\dev\\play\\brainwave-data\\2024-08-20-21-17-32\\raw.spindle_summary.csv, identical file already exists in GCS.\n",
      "2024-12-19 18:02:15.375316 Skipping C:\\dev\\play\\brainwave-data\\2024-08-20-21-17-32\\raw.sw_summary.csv, identical file already exists in GCS.\n",
      "2024-12-19 18:02:15.486908 Skipping C:\\dev\\play\\brainwave-data\\2024-08-20-21-17-32\\raw.with_features.csv, identical file already exists in GCS.\n",
      "2024-12-19 18:02:15.575508 Skipping C:\\dev\\play\\brainwave-data\\2024-08-20-21-17-32\\raw.with_microwakings_multi1_debug.edf, identical file already exists in GCS.\n",
      "2024-12-19 18:02:15.633723 Skipping C:\\dev\\play\\brainwave-data\\2024-08-20-21-17-32\\raw.yasa.csv, identical file already exists in GCS.\n"
     ]
    },
    {
     "name": "stderr",
     "output_type": "stream",
     "text": [
      " 21%|██        | 23/111 [01:36<07:37,  5.20s/it]"
     ]
    },
    {
     "name": "stdout",
     "output_type": "stream",
     "text": [
      "2024-12-19 18:02:15.762881 Uploaded directory checksum for C:\\dev\\play\\brainwave-data\\2024-08-20-21-17-32 to 2024-08-20-21-17-32/directory_checksum.md5\n",
      "2024-12-19 18:02:18.600231 Skipping C:\\dev\\play\\brainwave-data\\2024-08-21-21-40-16\\raw.average_slow_wave.png, identical file already exists in GCS.\n",
      "2024-12-19 18:02:18.764827 Skipping C:\\dev\\play\\brainwave-data\\2024-08-21-21-40-16\\raw.edf, identical file already exists in GCS.\n",
      "2024-12-19 18:02:19.131690 Skipping C:\\dev\\play\\brainwave-data\\2024-08-21-21-40-16\\raw.fif, identical file already exists in GCS.\n",
      "2024-12-19 18:02:19.191739 Skipping C:\\dev\\play\\brainwave-data\\2024-08-21-21-40-16\\raw.final_wake_model.csv, identical file already exists in GCS.\n",
      "2024-12-19 18:02:19.244967 Skipping C:\\dev\\play\\brainwave-data\\2024-08-21-21-40-16\\raw.final_wake_model_post_human.csv, identical file already exists in GCS.\n",
      "2024-12-19 18:02:19.285304 C:\\dev\\play\\brainwave-data\\2024-08-21-21-40-16\\raw.final_wake_model_post_human.json uploading to 2024-08-21-21-40-16/raw.final_wake_model_post_human.json, does_not_exist=True has_changed=True\n",
      "2024-12-19 18:02:19.436548 Skipping C:\\dev\\play\\brainwave-data\\2024-08-21-21-40-16\\raw.microwakings.csv, identical file already exists in GCS.\n",
      "2024-12-19 18:02:19.487658 Skipping C:\\dev\\play\\brainwave-data\\2024-08-21-21-40-16\\raw.night_events.csv, identical file already exists in GCS.\n",
      "2024-12-19 18:02:19.543711 Skipping C:\\dev\\play\\brainwave-data\\2024-08-21-21-40-16\\raw.physical_features.csv, identical file already exists in GCS.\n",
      "2024-12-19 18:02:19.604513 Skipping C:\\dev\\play\\brainwave-data\\2024-08-21-21-40-16\\raw.post_filter_psd_plot.png, identical file already exists in GCS.\n",
      "2024-12-19 18:02:19.719115 Skipping C:\\dev\\play\\brainwave-data\\2024-08-21-21-40-16\\raw.post_human.csv, identical file already exists in GCS.\n",
      "2024-12-19 18:02:19.831814 Skipping C:\\dev\\play\\brainwave-data\\2024-08-21-21-40-16\\raw.post_yasa.csv, identical file already exists in GCS.\n",
      "2024-12-19 18:02:19.883722 Skipping C:\\dev\\play\\brainwave-data\\2024-08-21-21-40-16\\raw.pre_filter_psd_plot.png, identical file already exists in GCS.\n",
      "2024-12-19 18:02:19.952343 Skipping C:\\dev\\play\\brainwave-data\\2024-08-21-21-40-16\\raw.sleep.json, identical file already exists in GCS.\n",
      "2024-12-19 18:02:20.003582 Skipping C:\\dev\\play\\brainwave-data\\2024-08-21-21-40-16\\raw.sleep_stages.csv, identical file already exists in GCS.\n",
      "2024-12-19 18:02:20.067107 Skipping C:\\dev\\play\\brainwave-data\\2024-08-21-21-40-16\\raw.sleep_stages.F8-M1.csv, identical file already exists in GCS.\n",
      "2024-12-19 18:02:20.123300 Skipping C:\\dev\\play\\brainwave-data\\2024-08-21-21-40-16\\raw.sleep_stages.Fpz-M1.csv, identical file already exists in GCS.\n",
      "2024-12-19 18:02:20.182485 Skipping C:\\dev\\play\\brainwave-data\\2024-08-21-21-40-16\\raw.spectrogram.F8-M1.png, identical file already exists in GCS.\n",
      "2024-12-19 18:02:20.246873 Skipping C:\\dev\\play\\brainwave-data\\2024-08-21-21-40-16\\raw.spectrogram.Fpz-M1.png, identical file already exists in GCS.\n",
      "2024-12-19 18:02:20.291940 Skipping C:\\dev\\play\\brainwave-data\\2024-08-21-21-40-16\\raw.spindle_summary.csv, identical file already exists in GCS.\n",
      "2024-12-19 18:02:20.340780 Skipping C:\\dev\\play\\brainwave-data\\2024-08-21-21-40-16\\raw.sw_summary.csv, identical file already exists in GCS.\n",
      "2024-12-19 18:02:20.444056 Skipping C:\\dev\\play\\brainwave-data\\2024-08-21-21-40-16\\raw.with_features.csv, identical file already exists in GCS.\n",
      "2024-12-19 18:02:20.521916 Skipping C:\\dev\\play\\brainwave-data\\2024-08-21-21-40-16\\raw.with_microwakings_multi1_debug.edf, identical file already exists in GCS.\n",
      "2024-12-19 18:02:20.596588 Skipping C:\\dev\\play\\brainwave-data\\2024-08-21-21-40-16\\raw.yasa.csv, identical file already exists in GCS.\n"
     ]
    },
    {
     "name": "stderr",
     "output_type": "stream",
     "text": [
      " 22%|██▏       | 24/111 [01:41<07:24,  5.11s/it]"
     ]
    },
    {
     "name": "stdout",
     "output_type": "stream",
     "text": [
      "2024-12-19 18:02:20.682224 Uploaded directory checksum for C:\\dev\\play\\brainwave-data\\2024-08-21-21-40-16 to 2024-08-21-21-40-16/directory_checksum.md5\n",
      "2024-12-19 18:02:23.800610 Skipping C:\\dev\\play\\brainwave-data\\2024-08-22-21-26-19\\raw.average_slow_wave.png, identical file already exists in GCS.\n",
      "2024-12-19 18:02:23.927981 Skipping C:\\dev\\play\\brainwave-data\\2024-08-22-21-26-19\\raw.edf, identical file already exists in GCS.\n",
      "2024-12-19 18:02:24.225718 Skipping C:\\dev\\play\\brainwave-data\\2024-08-22-21-26-19\\raw.fif, identical file already exists in GCS.\n",
      "2024-12-19 18:02:24.288647 Skipping C:\\dev\\play\\brainwave-data\\2024-08-22-21-26-19\\raw.final_wake_model.csv, identical file already exists in GCS.\n",
      "2024-12-19 18:02:24.336169 Skipping C:\\dev\\play\\brainwave-data\\2024-08-22-21-26-19\\raw.final_wake_model_post_human.csv, identical file already exists in GCS.\n",
      "2024-12-19 18:02:24.396462 C:\\dev\\play\\brainwave-data\\2024-08-22-21-26-19\\raw.final_wake_model_post_human.json uploading to 2024-08-22-21-26-19/raw.final_wake_model_post_human.json, does_not_exist=True has_changed=True\n",
      "2024-12-19 18:02:24.573308 Skipping C:\\dev\\play\\brainwave-data\\2024-08-22-21-26-19\\raw.microwakings.csv, identical file already exists in GCS.\n",
      "2024-12-19 18:02:24.652253 Skipping C:\\dev\\play\\brainwave-data\\2024-08-22-21-26-19\\raw.night_events.csv, identical file already exists in GCS.\n",
      "2024-12-19 18:02:24.902830 Skipping C:\\dev\\play\\brainwave-data\\2024-08-22-21-26-19\\raw.physical_features.csv, identical file already exists in GCS.\n",
      "2024-12-19 18:02:24.952683 Skipping C:\\dev\\play\\brainwave-data\\2024-08-22-21-26-19\\raw.post_filter_psd_plot.png, identical file already exists in GCS.\n",
      "2024-12-19 18:02:25.055105 Skipping C:\\dev\\play\\brainwave-data\\2024-08-22-21-26-19\\raw.post_human.csv, identical file already exists in GCS.\n",
      "2024-12-19 18:02:25.148614 Skipping C:\\dev\\play\\brainwave-data\\2024-08-22-21-26-19\\raw.post_yasa.csv, identical file already exists in GCS.\n",
      "2024-12-19 18:02:25.199323 Skipping C:\\dev\\play\\brainwave-data\\2024-08-22-21-26-19\\raw.pre_filter_psd_plot.png, identical file already exists in GCS.\n",
      "2024-12-19 18:02:25.276745 Skipping C:\\dev\\play\\brainwave-data\\2024-08-22-21-26-19\\raw.scorings.json, identical file already exists in GCS.\n",
      "2024-12-19 18:02:25.324487 Skipping C:\\dev\\play\\brainwave-data\\2024-08-22-21-26-19\\raw.sleep.json, identical file already exists in GCS.\n",
      "2024-12-19 18:02:25.371755 Skipping C:\\dev\\play\\brainwave-data\\2024-08-22-21-26-19\\raw.sleep_stages.csv, identical file already exists in GCS.\n",
      "2024-12-19 18:02:25.480403 Skipping C:\\dev\\play\\brainwave-data\\2024-08-22-21-26-19\\raw.sleep_stages.F8-M1.csv, identical file already exists in GCS.\n",
      "2024-12-19 18:02:25.528142 Skipping C:\\dev\\play\\brainwave-data\\2024-08-22-21-26-19\\raw.sleep_stages.Fpz-M1.csv, identical file already exists in GCS.\n",
      "2024-12-19 18:02:25.575016 Skipping C:\\dev\\play\\brainwave-data\\2024-08-22-21-26-19\\raw.spectrogram.F8-M1.png, identical file already exists in GCS.\n",
      "2024-12-19 18:02:25.687878 Skipping C:\\dev\\play\\brainwave-data\\2024-08-22-21-26-19\\raw.spectrogram.Fpz-M1.png, identical file already exists in GCS.\n",
      "2024-12-19 18:02:25.788042 Skipping C:\\dev\\play\\brainwave-data\\2024-08-22-21-26-19\\raw.spindle_summary.csv, identical file already exists in GCS.\n",
      "2024-12-19 18:02:25.851754 Skipping C:\\dev\\play\\brainwave-data\\2024-08-22-21-26-19\\raw.sw_summary.csv, identical file already exists in GCS.\n",
      "2024-12-19 18:02:25.955406 Skipping C:\\dev\\play\\brainwave-data\\2024-08-22-21-26-19\\raw.with_features.csv, identical file already exists in GCS.\n",
      "2024-12-19 18:02:26.053816 Skipping C:\\dev\\play\\brainwave-data\\2024-08-22-21-26-19\\raw.with_microwakings_multi1_debug.edf, identical file already exists in GCS.\n",
      "2024-12-19 18:02:26.142592 Skipping C:\\dev\\play\\brainwave-data\\2024-08-22-21-26-19\\raw.with_predictions.edf, identical file already exists in GCS.\n",
      "2024-12-19 18:02:26.212682 Skipping C:\\dev\\play\\brainwave-data\\2024-08-22-21-26-19\\raw.yasa.csv, identical file already exists in GCS.\n"
     ]
    },
    {
     "name": "stderr",
     "output_type": "stream",
     "text": [
      " 23%|██▎       | 25/111 [01:47<07:33,  5.27s/it]"
     ]
    },
    {
     "name": "stdout",
     "output_type": "stream",
     "text": [
      "2024-12-19 18:02:26.320885 Uploaded directory checksum for C:\\dev\\play\\brainwave-data\\2024-08-22-21-26-19 to 2024-08-22-21-26-19/directory_checksum.md5\n",
      "2024-12-19 18:02:29.347116 Skipping C:\\dev\\play\\brainwave-data\\2024-08-23-21-29-46\\raw.average_slow_wave.png, identical file already exists in GCS.\n",
      "2024-12-19 18:02:29.518642 Skipping C:\\dev\\play\\brainwave-data\\2024-08-23-21-29-46\\raw.edf, identical file already exists in GCS.\n",
      "2024-12-19 18:02:29.779165 Skipping C:\\dev\\play\\brainwave-data\\2024-08-23-21-29-46\\raw.fif, identical file already exists in GCS.\n",
      "2024-12-19 18:02:29.825870 Skipping C:\\dev\\play\\brainwave-data\\2024-08-23-21-29-46\\raw.final_wake_model.csv, identical file already exists in GCS.\n",
      "2024-12-19 18:02:29.895643 Skipping C:\\dev\\play\\brainwave-data\\2024-08-23-21-29-46\\raw.final_wake_model_post_human.csv, identical file already exists in GCS.\n",
      "2024-12-19 18:02:29.966519 C:\\dev\\play\\brainwave-data\\2024-08-23-21-29-46\\raw.final_wake_model_post_human.json uploading to 2024-08-23-21-29-46/raw.final_wake_model_post_human.json, does_not_exist=True has_changed=True\n",
      "2024-12-19 18:02:30.127029 Skipping C:\\dev\\play\\brainwave-data\\2024-08-23-21-29-46\\raw.microwakings.csv, identical file already exists in GCS.\n",
      "2024-12-19 18:02:30.206716 Skipping C:\\dev\\play\\brainwave-data\\2024-08-23-21-29-46\\raw.night_events.csv, identical file already exists in GCS.\n",
      "2024-12-19 18:02:30.262396 Skipping C:\\dev\\play\\brainwave-data\\2024-08-23-21-29-46\\raw.physical_features.csv, identical file already exists in GCS.\n",
      "2024-12-19 18:02:30.325768 Skipping C:\\dev\\play\\brainwave-data\\2024-08-23-21-29-46\\raw.post_filter_psd_plot.png, identical file already exists in GCS.\n",
      "2024-12-19 18:02:30.415189 Skipping C:\\dev\\play\\brainwave-data\\2024-08-23-21-29-46\\raw.post_human.csv, identical file already exists in GCS.\n",
      "2024-12-19 18:02:30.506160 Skipping C:\\dev\\play\\brainwave-data\\2024-08-23-21-29-46\\raw.post_yasa.csv, identical file already exists in GCS.\n",
      "2024-12-19 18:02:30.553860 Skipping C:\\dev\\play\\brainwave-data\\2024-08-23-21-29-46\\raw.pre_filter_psd_plot.png, identical file already exists in GCS.\n",
      "2024-12-19 18:02:30.606369 Skipping C:\\dev\\play\\brainwave-data\\2024-08-23-21-29-46\\raw.sleep.json, identical file already exists in GCS.\n",
      "2024-12-19 18:02:30.654754 Skipping C:\\dev\\play\\brainwave-data\\2024-08-23-21-29-46\\raw.sleep_stages.csv, identical file already exists in GCS.\n",
      "2024-12-19 18:02:30.710222 Skipping C:\\dev\\play\\brainwave-data\\2024-08-23-21-29-46\\raw.sleep_stages.F8-M1.csv, identical file already exists in GCS.\n",
      "2024-12-19 18:02:30.758660 Skipping C:\\dev\\play\\brainwave-data\\2024-08-23-21-29-46\\raw.sleep_stages.Fpz-M1.csv, identical file already exists in GCS.\n",
      "2024-12-19 18:02:30.812788 Skipping C:\\dev\\play\\brainwave-data\\2024-08-23-21-29-46\\raw.spectrogram.F8-M1.png, identical file already exists in GCS.\n",
      "2024-12-19 18:02:30.864743 Skipping C:\\dev\\play\\brainwave-data\\2024-08-23-21-29-46\\raw.spectrogram.Fpz-M1.png, identical file already exists in GCS.\n",
      "2024-12-19 18:02:30.923489 Skipping C:\\dev\\play\\brainwave-data\\2024-08-23-21-29-46\\raw.spindle_summary.csv, identical file already exists in GCS.\n",
      "2024-12-19 18:02:30.978746 Skipping C:\\dev\\play\\brainwave-data\\2024-08-23-21-29-46\\raw.sw_summary.csv, identical file already exists in GCS.\n",
      "2024-12-19 18:02:31.054990 Skipping C:\\dev\\play\\brainwave-data\\2024-08-23-21-29-46\\raw.with_features.csv, identical file already exists in GCS.\n"
     ]
    },
    {
     "name": "stderr",
     "output_type": "stream",
     "text": [
      " 23%|██▎       | 26/111 [01:52<07:20,  5.18s/it]"
     ]
    },
    {
     "name": "stdout",
     "output_type": "stream",
     "text": [
      "2024-12-19 18:02:31.135335 Skipping C:\\dev\\play\\brainwave-data\\2024-08-23-21-29-46\\raw.with_microwakings_multi1_debug.edf, identical file already exists in GCS.\n",
      "2024-12-19 18:02:31.193557 Skipping C:\\dev\\play\\brainwave-data\\2024-08-23-21-29-46\\raw.yasa.csv, identical file already exists in GCS.\n",
      "2024-12-19 18:02:31.299418 Uploaded directory checksum for C:\\dev\\play\\brainwave-data\\2024-08-23-21-29-46 to 2024-08-23-21-29-46/directory_checksum.md5\n",
      "2024-12-19 18:02:33.410596 Skipping C:\\dev\\play\\brainwave-data\\2024-08-24-21-11-51\\raw.average_slow_wave.png, identical file already exists in GCS.\n",
      "2024-12-19 18:02:33.541383 Skipping C:\\dev\\play\\brainwave-data\\2024-08-24-21-11-51\\raw.edf, identical file already exists in GCS.\n",
      "2024-12-19 18:02:33.787437 Skipping C:\\dev\\play\\brainwave-data\\2024-08-24-21-11-51\\raw.fif, identical file already exists in GCS.\n",
      "2024-12-19 18:02:33.835176 Skipping C:\\dev\\play\\brainwave-data\\2024-08-24-21-11-51\\raw.final_wake_model.csv, identical file already exists in GCS.\n",
      "2024-12-19 18:02:33.874931 Skipping C:\\dev\\play\\brainwave-data\\2024-08-24-21-11-51\\raw.final_wake_model_post_human.csv, identical file already exists in GCS.\n",
      "2024-12-19 18:02:33.935694 C:\\dev\\play\\brainwave-data\\2024-08-24-21-11-51\\raw.final_wake_model_post_human.json uploading to 2024-08-24-21-11-51/raw.final_wake_model_post_human.json, does_not_exist=True has_changed=True\n",
      "2024-12-19 18:02:34.082995 Skipping C:\\dev\\play\\brainwave-data\\2024-08-24-21-11-51\\raw.microwakings.csv, identical file already exists in GCS.\n",
      "2024-12-19 18:02:34.127873 Skipping C:\\dev\\play\\brainwave-data\\2024-08-24-21-11-51\\raw.night_events.csv, identical file already exists in GCS.\n",
      "2024-12-19 18:02:34.177581 Skipping C:\\dev\\play\\brainwave-data\\2024-08-24-21-11-51\\raw.physical_features.csv, identical file already exists in GCS.\n",
      "2024-12-19 18:02:34.240736 Skipping C:\\dev\\play\\brainwave-data\\2024-08-24-21-11-51\\raw.post_filter_psd_plot.png, identical file already exists in GCS.\n",
      "2024-12-19 18:02:34.308655 Skipping C:\\dev\\play\\brainwave-data\\2024-08-24-21-11-51\\raw.post_human.csv, identical file already exists in GCS.\n",
      "2024-12-19 18:02:34.402263 Skipping C:\\dev\\play\\brainwave-data\\2024-08-24-21-11-51\\raw.post_yasa.csv, identical file already exists in GCS.\n",
      "2024-12-19 18:02:34.448683 Skipping C:\\dev\\play\\brainwave-data\\2024-08-24-21-11-51\\raw.pre_filter_psd_plot.png, identical file already exists in GCS.\n",
      "2024-12-19 18:02:34.497147 Skipping C:\\dev\\play\\brainwave-data\\2024-08-24-21-11-51\\raw.sleep.json, identical file already exists in GCS.\n",
      "2024-12-19 18:02:34.563468 Skipping C:\\dev\\play\\brainwave-data\\2024-08-24-21-11-51\\raw.sleep_stages.csv, identical file already exists in GCS.\n",
      "2024-12-19 18:02:34.608804 Skipping C:\\dev\\play\\brainwave-data\\2024-08-24-21-11-51\\raw.sleep_stages.F8-M1.csv, identical file already exists in GCS.\n",
      "2024-12-19 18:02:34.657661 Skipping C:\\dev\\play\\brainwave-data\\2024-08-24-21-11-51\\raw.sleep_stages.Fpz-M1.csv, identical file already exists in GCS.\n",
      "2024-12-19 18:02:34.718316 Skipping C:\\dev\\play\\brainwave-data\\2024-08-24-21-11-51\\raw.spectrogram.F8-M1.png, identical file already exists in GCS.\n",
      "2024-12-19 18:02:34.766068 Skipping C:\\dev\\play\\brainwave-data\\2024-08-24-21-11-51\\raw.spectrogram.Fpz-M1.png, identical file already exists in GCS.\n",
      "2024-12-19 18:02:34.824508 Skipping C:\\dev\\play\\brainwave-data\\2024-08-24-21-11-51\\raw.spindle_summary.csv, identical file already exists in GCS.\n",
      "2024-12-19 18:02:34.872944 Skipping C:\\dev\\play\\brainwave-data\\2024-08-24-21-11-51\\raw.sw_summary.csv, identical file already exists in GCS.\n",
      "2024-12-19 18:02:34.941810 Skipping C:\\dev\\play\\brainwave-data\\2024-08-24-21-11-51\\raw.with_features.csv, identical file already exists in GCS.\n",
      "2024-12-19 18:02:35.021502 Skipping C:\\dev\\play\\brainwave-data\\2024-08-24-21-11-51\\raw.with_microwakings_multi1_debug.edf, identical file already exists in GCS.\n"
     ]
    },
    {
     "name": "stderr",
     "output_type": "stream",
     "text": [
      " 24%|██▍       | 27/111 [01:56<06:42,  4.79s/it]"
     ]
    },
    {
     "name": "stdout",
     "output_type": "stream",
     "text": [
      "2024-12-19 18:02:35.067546 Skipping C:\\dev\\play\\brainwave-data\\2024-08-24-21-11-51\\raw.yasa.csv, identical file already exists in GCS.\n",
      "2024-12-19 18:02:35.175159 Uploaded directory checksum for C:\\dev\\play\\brainwave-data\\2024-08-24-21-11-51 to 2024-08-24-21-11-51/directory_checksum.md5\n",
      "2024-12-19 18:02:37.398287 Skipping C:\\dev\\play\\brainwave-data\\2024-08-25-21-25-33\\raw.average_slow_wave.png, identical file already exists in GCS.\n",
      "2024-12-19 18:02:37.516696 Skipping C:\\dev\\play\\brainwave-data\\2024-08-25-21-25-33\\raw.edf, identical file already exists in GCS.\n",
      "2024-12-19 18:02:37.812252 Skipping C:\\dev\\play\\brainwave-data\\2024-08-25-21-25-33\\raw.fif, identical file already exists in GCS.\n",
      "2024-12-19 18:02:37.873347 Skipping C:\\dev\\play\\brainwave-data\\2024-08-25-21-25-33\\raw.final_wake_model.csv, identical file already exists in GCS.\n",
      "2024-12-19 18:02:37.923906 Skipping C:\\dev\\play\\brainwave-data\\2024-08-25-21-25-33\\raw.final_wake_model_post_human.csv, identical file already exists in GCS.\n",
      "2024-12-19 18:02:37.994046 C:\\dev\\play\\brainwave-data\\2024-08-25-21-25-33\\raw.final_wake_model_post_human.json uploading to 2024-08-25-21-25-33/raw.final_wake_model_post_human.json, does_not_exist=True has_changed=True\n",
      "2024-12-19 18:02:38.153181 Skipping C:\\dev\\play\\brainwave-data\\2024-08-25-21-25-33\\raw.microwakings.csv, identical file already exists in GCS.\n",
      "2024-12-19 18:02:38.215300 Skipping C:\\dev\\play\\brainwave-data\\2024-08-25-21-25-33\\raw.night_events.csv, identical file already exists in GCS.\n",
      "2024-12-19 18:02:38.273303 Skipping C:\\dev\\play\\brainwave-data\\2024-08-25-21-25-33\\raw.physical_features.csv, identical file already exists in GCS.\n",
      "2024-12-19 18:02:38.332104 Skipping C:\\dev\\play\\brainwave-data\\2024-08-25-21-25-33\\raw.post_filter_psd_plot.png, identical file already exists in GCS.\n",
      "2024-12-19 18:02:38.444908 Skipping C:\\dev\\play\\brainwave-data\\2024-08-25-21-25-33\\raw.post_human.csv, identical file already exists in GCS.\n",
      "2024-12-19 18:02:38.539233 Skipping C:\\dev\\play\\brainwave-data\\2024-08-25-21-25-33\\raw.post_yasa.csv, identical file already exists in GCS.\n",
      "2024-12-19 18:02:38.582341 Skipping C:\\dev\\play\\brainwave-data\\2024-08-25-21-25-33\\raw.pre_filter_psd_plot.png, identical file already exists in GCS.\n",
      "2024-12-19 18:02:38.628119 Skipping C:\\dev\\play\\brainwave-data\\2024-08-25-21-25-33\\raw.scorings.json, identical file already exists in GCS.\n",
      "2024-12-19 18:02:38.676002 Skipping C:\\dev\\play\\brainwave-data\\2024-08-25-21-25-33\\raw.sleep.json, identical file already exists in GCS.\n",
      "2024-12-19 18:02:38.734457 Skipping C:\\dev\\play\\brainwave-data\\2024-08-25-21-25-33\\raw.sleep_stages.csv, identical file already exists in GCS.\n",
      "2024-12-19 18:02:38.795386 Skipping C:\\dev\\play\\brainwave-data\\2024-08-25-21-25-33\\raw.sleep_stages.F8-M1.csv, identical file already exists in GCS.\n",
      "2024-12-19 18:02:38.857547 Skipping C:\\dev\\play\\brainwave-data\\2024-08-25-21-25-33\\raw.sleep_stages.Fpz-M1.csv, identical file already exists in GCS.\n",
      "2024-12-19 18:02:38.940092 Skipping C:\\dev\\play\\brainwave-data\\2024-08-25-21-25-33\\raw.spectrogram.F8-M1.png, identical file already exists in GCS.\n",
      "2024-12-19 18:02:39.008062 Skipping C:\\dev\\play\\brainwave-data\\2024-08-25-21-25-33\\raw.spectrogram.Fpz-M1.png, identical file already exists in GCS.\n",
      "2024-12-19 18:02:39.048752 Skipping C:\\dev\\play\\brainwave-data\\2024-08-25-21-25-33\\raw.spindle_summary.csv, identical file already exists in GCS.\n",
      "2024-12-19 18:02:39.098201 Skipping C:\\dev\\play\\brainwave-data\\2024-08-25-21-25-33\\raw.sw_summary.csv, identical file already exists in GCS.\n",
      "2024-12-19 18:02:39.196877 Skipping C:\\dev\\play\\brainwave-data\\2024-08-25-21-25-33\\raw.with_features.csv, identical file already exists in GCS.\n",
      "2024-12-19 18:02:39.294195 Skipping C:\\dev\\play\\brainwave-data\\2024-08-25-21-25-33\\raw.with_microwakings_multi1_debug.edf, identical file already exists in GCS.\n",
      "2024-12-19 18:02:39.338357 Skipping C:\\dev\\play\\brainwave-data\\2024-08-25-21-25-33\\raw.yasa.csv, identical file already exists in GCS.\n"
     ]
    },
    {
     "name": "stderr",
     "output_type": "stream",
     "text": [
      " 25%|██▌       | 28/111 [02:00<06:24,  4.63s/it]"
     ]
    },
    {
     "name": "stdout",
     "output_type": "stream",
     "text": [
      "2024-12-19 18:02:39.444238 Uploaded directory checksum for C:\\dev\\play\\brainwave-data\\2024-08-25-21-25-33 to 2024-08-25-21-25-33/directory_checksum.md5\n",
      "2024-12-19 18:02:42.068222 Skipping C:\\dev\\play\\brainwave-data\\2024-08-26-20-56-10\\raw.average_slow_wave.png, identical file already exists in GCS.\n",
      "2024-12-19 18:02:42.123110 Skipping C:\\dev\\play\\brainwave-data\\2024-08-26-20-56-10\\raw.bak.scorings.temp.json, identical file already exists in GCS.\n",
      "2024-12-19 18:02:42.296493 Skipping C:\\dev\\play\\brainwave-data\\2024-08-26-20-56-10\\raw.edf, identical file already exists in GCS.\n",
      "2024-12-19 18:02:42.710642 Skipping C:\\dev\\play\\brainwave-data\\2024-08-26-20-56-10\\raw.fif, identical file already exists in GCS.\n",
      "2024-12-19 18:02:42.772278 Skipping C:\\dev\\play\\brainwave-data\\2024-08-26-20-56-10\\raw.final_wake_model.csv, identical file already exists in GCS.\n",
      "2024-12-19 18:02:42.818721 Skipping C:\\dev\\play\\brainwave-data\\2024-08-26-20-56-10\\raw.final_wake_model_post_human.csv, identical file already exists in GCS.\n",
      "2024-12-19 18:02:42.868529 C:\\dev\\play\\brainwave-data\\2024-08-26-20-56-10\\raw.final_wake_model_post_human.json uploading to 2024-08-26-20-56-10/raw.final_wake_model_post_human.json, does_not_exist=True has_changed=True\n",
      "2024-12-19 18:02:43.047651 Skipping C:\\dev\\play\\brainwave-data\\2024-08-26-20-56-10\\raw.fitbit_hypnogram.csv, identical file already exists in GCS.\n",
      "2024-12-19 18:02:43.094867 Skipping C:\\dev\\play\\brainwave-data\\2024-08-26-20-56-10\\raw.microwakings.csv, identical file already exists in GCS.\n",
      "2024-12-19 18:02:43.136740 Skipping C:\\dev\\play\\brainwave-data\\2024-08-26-20-56-10\\raw.night_events.csv, identical file already exists in GCS.\n",
      "2024-12-19 18:02:43.201903 Skipping C:\\dev\\play\\brainwave-data\\2024-08-26-20-56-10\\raw.physical_features.csv, identical file already exists in GCS.\n",
      "2024-12-19 18:02:43.253629 Skipping C:\\dev\\play\\brainwave-data\\2024-08-26-20-56-10\\raw.post_filter_psd_plot.png, identical file already exists in GCS.\n",
      "2024-12-19 18:02:43.340378 Skipping C:\\dev\\play\\brainwave-data\\2024-08-26-20-56-10\\raw.post_human.csv, identical file already exists in GCS.\n",
      "2024-12-19 18:02:43.444903 Skipping C:\\dev\\play\\brainwave-data\\2024-08-26-20-56-10\\raw.post_yasa.csv, identical file already exists in GCS.\n",
      "2024-12-19 18:02:43.502631 Skipping C:\\dev\\play\\brainwave-data\\2024-08-26-20-56-10\\raw.pre_filter_psd_plot.png, identical file already exists in GCS.\n",
      "2024-12-19 18:02:43.545950 Skipping C:\\dev\\play\\brainwave-data\\2024-08-26-20-56-10\\raw.scorings.json, identical file already exists in GCS.\n",
      "2024-12-19 18:02:43.593947 Skipping C:\\dev\\play\\brainwave-data\\2024-08-26-20-56-10\\raw.scorings.temp.json, identical file already exists in GCS.\n",
      "2024-12-19 18:02:43.653912 Skipping C:\\dev\\play\\brainwave-data\\2024-08-26-20-56-10\\raw.sleep.json, identical file already exists in GCS.\n",
      "2024-12-19 18:02:43.726891 Skipping C:\\dev\\play\\brainwave-data\\2024-08-26-20-56-10\\raw.sleep_stages.csv, identical file already exists in GCS.\n",
      "2024-12-19 18:02:43.781515 Skipping C:\\dev\\play\\brainwave-data\\2024-08-26-20-56-10\\raw.sleep_stages.F4-M1.csv, identical file already exists in GCS.\n",
      "2024-12-19 18:02:43.858046 Skipping C:\\dev\\play\\brainwave-data\\2024-08-26-20-56-10\\raw.sleep_stages.F8-M1.csv, identical file already exists in GCS.\n",
      "2024-12-19 18:02:43.916027 Skipping C:\\dev\\play\\brainwave-data\\2024-08-26-20-56-10\\raw.sleep_stages.Fpz-M1.csv, identical file already exists in GCS.\n",
      "2024-12-19 18:02:43.967948 Skipping C:\\dev\\play\\brainwave-data\\2024-08-26-20-56-10\\raw.spectrogram.F4-M1.png, identical file already exists in GCS.\n",
      "2024-12-19 18:02:44.029830 Skipping C:\\dev\\play\\brainwave-data\\2024-08-26-20-56-10\\raw.spectrogram.F8-M1.png, identical file already exists in GCS.\n",
      "2024-12-19 18:02:44.094249 Skipping C:\\dev\\play\\brainwave-data\\2024-08-26-20-56-10\\raw.spectrogram.Fpz-M1.png, identical file already exists in GCS.\n",
      "2024-12-19 18:02:44.139445 Skipping C:\\dev\\play\\brainwave-data\\2024-08-26-20-56-10\\raw.spindle_summary.csv, identical file already exists in GCS.\n",
      "2024-12-19 18:02:44.199143 Skipping C:\\dev\\play\\brainwave-data\\2024-08-26-20-56-10\\raw.sw_summary.csv, identical file already exists in GCS.\n",
      "2024-12-19 18:02:44.247848 Skipping C:\\dev\\play\\brainwave-data\\2024-08-26-20-56-10\\raw.with_features.csv, identical file already exists in GCS.\n",
      "2024-12-19 18:02:44.335232 Skipping C:\\dev\\play\\brainwave-data\\2024-08-26-20-56-10\\raw.with_microwakings_multi1_debug.edf, identical file already exists in GCS.\n",
      "2024-12-19 18:02:44.386783 Skipping C:\\dev\\play\\brainwave-data\\2024-08-26-20-56-10\\raw.with_predictions.csv, identical file already exists in GCS.\n",
      "2024-12-19 18:02:44.451981 Skipping C:\\dev\\play\\brainwave-data\\2024-08-26-20-56-10\\raw.with_predictions.edf, identical file already exists in GCS.\n"
     ]
    },
    {
     "name": "stderr",
     "output_type": "stream",
     "text": [
      " 26%|██▌       | 29/111 [02:05<06:34,  4.81s/it]"
     ]
    },
    {
     "name": "stdout",
     "output_type": "stream",
     "text": [
      "2024-12-19 18:02:44.492846 Skipping C:\\dev\\play\\brainwave-data\\2024-08-26-20-56-10\\raw.with_predictions.scorings.json, identical file already exists in GCS.\n",
      "2024-12-19 18:02:44.545119 Skipping C:\\dev\\play\\brainwave-data\\2024-08-26-20-56-10\\raw.yasa.csv, identical file already exists in GCS.\n",
      "2024-12-19 18:02:44.670660 Uploaded directory checksum for C:\\dev\\play\\brainwave-data\\2024-08-26-20-56-10 to 2024-08-26-20-56-10/directory_checksum.md5\n",
      "2024-12-19 18:02:46.749215 Skipping C:\\dev\\play\\brainwave-data\\2024-09-01-21-11-15\\raw.average_slow_wave.png, identical file already exists in GCS.\n",
      "2024-12-19 18:02:46.851465 Skipping C:\\dev\\play\\brainwave-data\\2024-09-01-21-11-15\\raw.edf, identical file already exists in GCS.\n",
      "2024-12-19 18:02:46.992690 Skipping C:\\dev\\play\\brainwave-data\\2024-09-01-21-11-15\\raw.fif, identical file already exists in GCS.\n",
      "2024-12-19 18:02:47.049200 Skipping C:\\dev\\play\\brainwave-data\\2024-09-01-21-11-15\\raw.final_wake_model.csv, identical file already exists in GCS.\n",
      "2024-12-19 18:02:47.118689 Skipping C:\\dev\\play\\brainwave-data\\2024-09-01-21-11-15\\raw.final_wake_model_post_human.csv, identical file already exists in GCS.\n",
      "2024-12-19 18:02:47.191427 C:\\dev\\play\\brainwave-data\\2024-09-01-21-11-15\\raw.final_wake_model_post_human.json uploading to 2024-09-01-21-11-15/raw.final_wake_model_post_human.json, does_not_exist=True has_changed=True\n",
      "2024-12-19 18:02:47.366789 Skipping C:\\dev\\play\\brainwave-data\\2024-09-01-21-11-15\\raw.manual_sleep_scoring_model.pkl, identical file already exists in GCS.\n",
      "2024-12-19 18:02:47.446790 Skipping C:\\dev\\play\\brainwave-data\\2024-09-01-21-11-15\\raw.microwakings.csv, identical file already exists in GCS.\n",
      "2024-12-19 18:02:47.507592 Skipping C:\\dev\\play\\brainwave-data\\2024-09-01-21-11-15\\raw.night_events.csv, identical file already exists in GCS.\n",
      "2024-12-19 18:02:47.564022 Skipping C:\\dev\\play\\brainwave-data\\2024-09-01-21-11-15\\raw.physical_features.csv, identical file already exists in GCS.\n",
      "2024-12-19 18:02:47.609907 Skipping C:\\dev\\play\\brainwave-data\\2024-09-01-21-11-15\\raw.post_filter_psd_plot.png, identical file already exists in GCS.\n",
      "2024-12-19 18:02:47.691746 Skipping C:\\dev\\play\\brainwave-data\\2024-09-01-21-11-15\\raw.post_human.csv, identical file already exists in GCS.\n",
      "2024-12-19 18:02:47.752182 Skipping C:\\dev\\play\\brainwave-data\\2024-09-01-21-11-15\\raw.post_yasa.csv, identical file already exists in GCS.\n",
      "2024-12-19 18:02:47.803888 Skipping C:\\dev\\play\\brainwave-data\\2024-09-01-21-11-15\\raw.pre_filter_psd_plot.png, identical file already exists in GCS.\n",
      "2024-12-19 18:02:47.849592 Skipping C:\\dev\\play\\brainwave-data\\2024-09-01-21-11-15\\raw.scorings - Copy.json, identical file already exists in GCS.\n",
      "2024-12-19 18:02:47.906321 Skipping C:\\dev\\play\\brainwave-data\\2024-09-01-21-11-15\\raw.scorings.json, identical file already exists in GCS.\n",
      "2024-12-19 18:02:47.949030 Skipping C:\\dev\\play\\brainwave-data\\2024-09-01-21-11-15\\raw.sleep.json, identical file already exists in GCS.\n",
      "2024-12-19 18:02:48.010240 Skipping C:\\dev\\play\\brainwave-data\\2024-09-01-21-11-15\\raw.sleep_scoring_catboost_model.cbm, identical file already exists in GCS.\n",
      "2024-12-19 18:02:48.052631 Skipping C:\\dev\\play\\brainwave-data\\2024-09-01-21-11-15\\raw.sleep_stages.csv, identical file already exists in GCS.\n",
      "2024-12-19 18:02:48.098835 Skipping C:\\dev\\play\\brainwave-data\\2024-09-01-21-11-15\\raw.sleep_stages.Fpz-M1.csv, identical file already exists in GCS.\n",
      "2024-12-19 18:02:48.168566 Skipping C:\\dev\\play\\brainwave-data\\2024-09-01-21-11-15\\raw.spectrogram.Fpz-M1.png, identical file already exists in GCS.\n",
      "2024-12-19 18:02:48.254081 Skipping C:\\dev\\play\\brainwave-data\\2024-09-01-21-11-15\\raw.spindle_summary.csv, identical file already exists in GCS.\n",
      "2024-12-19 18:02:48.303068 Skipping C:\\dev\\play\\brainwave-data\\2024-09-01-21-11-15\\raw.sw_summary.csv, identical file already exists in GCS.\n",
      "2024-12-19 18:02:48.373462 Skipping C:\\dev\\play\\brainwave-data\\2024-09-01-21-11-15\\raw.trained_models.pkl, identical file already exists in GCS.\n",
      "2024-12-19 18:02:48.435129 Skipping C:\\dev\\play\\brainwave-data\\2024-09-01-21-11-15\\raw.with_features.csv, identical file already exists in GCS.\n"
     ]
    },
    {
     "name": "stderr",
     "output_type": "stream",
     "text": [
      " 27%|██▋       | 30/111 [02:09<06:10,  4.57s/it]"
     ]
    },
    {
     "name": "stdout",
     "output_type": "stream",
     "text": [
      "2024-12-19 18:02:48.514736 Skipping C:\\dev\\play\\brainwave-data\\2024-09-01-21-11-15\\raw.with_microwakings_multi1_debug.edf, identical file already exists in GCS.\n",
      "2024-12-19 18:02:48.569831 Skipping C:\\dev\\play\\brainwave-data\\2024-09-01-21-11-15\\raw.yasa.csv, identical file already exists in GCS.\n",
      "2024-12-19 18:02:48.685979 Uploaded directory checksum for C:\\dev\\play\\brainwave-data\\2024-09-01-21-11-15 to 2024-09-01-21-11-15/directory_checksum.md5\n",
      "2024-12-19 18:02:50.748530 Skipping C:\\dev\\play\\brainwave-data\\2024-09-02-21-42-00\\raw.average_slow_wave.png, identical file already exists in GCS.\n",
      "2024-12-19 18:02:50.857266 Skipping C:\\dev\\play\\brainwave-data\\2024-09-02-21-42-00\\raw.edf, identical file already exists in GCS.\n",
      "2024-12-19 18:02:51.008517 Skipping C:\\dev\\play\\brainwave-data\\2024-09-02-21-42-00\\raw.fif, identical file already exists in GCS.\n",
      "2024-12-19 18:02:51.068021 Skipping C:\\dev\\play\\brainwave-data\\2024-09-02-21-42-00\\raw.final_wake_model.csv, identical file already exists in GCS.\n",
      "2024-12-19 18:02:51.123651 Skipping C:\\dev\\play\\brainwave-data\\2024-09-02-21-42-00\\raw.final_wake_model_post_human.csv, identical file already exists in GCS.\n",
      "2024-12-19 18:02:51.168965 C:\\dev\\play\\brainwave-data\\2024-09-02-21-42-00\\raw.final_wake_model_post_human.json uploading to 2024-09-02-21-42-00/raw.final_wake_model_post_human.json, does_not_exist=True has_changed=True\n",
      "2024-12-19 18:02:51.318762 Skipping C:\\dev\\play\\brainwave-data\\2024-09-02-21-42-00\\raw.microwakings.csv, identical file already exists in GCS.\n",
      "2024-12-19 18:02:51.368392 Skipping C:\\dev\\play\\brainwave-data\\2024-09-02-21-42-00\\raw.microwakins.csv, identical file already exists in GCS.\n",
      "2024-12-19 18:02:51.420240 Skipping C:\\dev\\play\\brainwave-data\\2024-09-02-21-42-00\\raw.night_events.csv, identical file already exists in GCS.\n",
      "2024-12-19 18:02:51.473243 Skipping C:\\dev\\play\\brainwave-data\\2024-09-02-21-42-00\\raw.physical_features.csv, identical file already exists in GCS.\n",
      "2024-12-19 18:02:51.528383 Skipping C:\\dev\\play\\brainwave-data\\2024-09-02-21-42-00\\raw.post_filter_psd_plot.png, identical file already exists in GCS.\n",
      "2024-12-19 18:02:51.609553 Skipping C:\\dev\\play\\brainwave-data\\2024-09-02-21-42-00\\raw.post_human.csv, identical file already exists in GCS.\n",
      "2024-12-19 18:02:51.715742 Skipping C:\\dev\\play\\brainwave-data\\2024-09-02-21-42-00\\raw.post_yasa.csv, identical file already exists in GCS.\n",
      "2024-12-19 18:02:51.791196 Skipping C:\\dev\\play\\brainwave-data\\2024-09-02-21-42-00\\raw.pre_filter_psd_plot.png, identical file already exists in GCS.\n",
      "2024-12-19 18:02:51.839752 Skipping C:\\dev\\play\\brainwave-data\\2024-09-02-21-42-00\\raw.scorings - Copy.json, identical file already exists in GCS.\n",
      "2024-12-19 18:02:51.904247 Skipping C:\\dev\\play\\brainwave-data\\2024-09-02-21-42-00\\raw.scorings.json, identical file already exists in GCS.\n",
      "2024-12-19 18:02:51.966086 Skipping C:\\dev\\play\\brainwave-data\\2024-09-02-21-42-00\\raw.sleep.json, identical file already exists in GCS.\n",
      "2024-12-19 18:02:52.022208 Skipping C:\\dev\\play\\brainwave-data\\2024-09-02-21-42-00\\raw.sleep_stages.csv, identical file already exists in GCS.\n",
      "2024-12-19 18:02:52.070133 Skipping C:\\dev\\play\\brainwave-data\\2024-09-02-21-42-00\\raw.sleep_stages.Fpz-M1.csv, identical file already exists in GCS.\n",
      "2024-12-19 18:02:52.131996 Skipping C:\\dev\\play\\brainwave-data\\2024-09-02-21-42-00\\raw.spectrogram.Fpz-M1.png, identical file already exists in GCS.\n",
      "2024-12-19 18:02:52.209044 Skipping C:\\dev\\play\\brainwave-data\\2024-09-02-21-42-00\\raw.spindle_summary.csv, identical file already exists in GCS.\n",
      "2024-12-19 18:02:52.251956 Skipping C:\\dev\\play\\brainwave-data\\2024-09-02-21-42-00\\raw.sw_summary.csv, identical file already exists in GCS.\n",
      "2024-12-19 18:02:52.328359 Skipping C:\\dev\\play\\brainwave-data\\2024-09-02-21-42-00\\raw.with_features.csv, identical file already exists in GCS.\n",
      "2024-12-19 18:02:52.408095 Skipping C:\\dev\\play\\brainwave-data\\2024-09-02-21-42-00\\raw.with_microwakings_multi1_debug.edf, identical file already exists in GCS.\n",
      "2024-12-19 18:02:52.461159 Skipping C:\\dev\\play\\brainwave-data\\2024-09-02-21-42-00\\raw.yasa.csv, identical file already exists in GCS.\n"
     ]
    },
    {
     "name": "stderr",
     "output_type": "stream",
     "text": [
      " 28%|██▊       | 31/111 [02:13<05:48,  4.36s/it]"
     ]
    },
    {
     "name": "stdout",
     "output_type": "stream",
     "text": [
      "2024-12-19 18:02:52.550939 Uploaded directory checksum for C:\\dev\\play\\brainwave-data\\2024-09-02-21-42-00 to 2024-09-02-21-42-00/directory_checksum.md5\n",
      "2024-12-19 18:02:55.726734 Skipping C:\\dev\\play\\brainwave-data\\2024-09-03-21-10-58\\2024-09-03-21-10-58.brainflow.csv.bz2, identical file already exists in GCS.\n",
      "2024-12-19 18:02:55.783595 Skipping C:\\dev\\play\\brainwave-data\\2024-09-03-21-10-58\\raw.average_slow_wave.png, identical file already exists in GCS.\n",
      "2024-12-19 18:02:55.907013 Skipping C:\\dev\\play\\brainwave-data\\2024-09-03-21-10-58\\raw.edf, identical file already exists in GCS.\n",
      "2024-12-19 18:02:56.115373 Skipping C:\\dev\\play\\brainwave-data\\2024-09-03-21-10-58\\raw.fif, identical file already exists in GCS.\n",
      "2024-12-19 18:02:56.269853 Skipping C:\\dev\\play\\brainwave-data\\2024-09-03-21-10-58\\raw.fif.bz2, identical file already exists in GCS.\n",
      "2024-12-19 18:02:56.331780 Skipping C:\\dev\\play\\brainwave-data\\2024-09-03-21-10-58\\raw.final_wake_model.csv, identical file already exists in GCS.\n",
      "2024-12-19 18:02:56.384690 Skipping C:\\dev\\play\\brainwave-data\\2024-09-03-21-10-58\\raw.final_wake_model_post_human.csv, identical file already exists in GCS.\n",
      "2024-12-19 18:02:56.445429 C:\\dev\\play\\brainwave-data\\2024-09-03-21-10-58\\raw.final_wake_model_post_human.json uploading to 2024-09-03-21-10-58/raw.final_wake_model_post_human.json, does_not_exist=True has_changed=True\n",
      "2024-12-19 18:02:56.586224 Skipping C:\\dev\\play\\brainwave-data\\2024-09-03-21-10-58\\raw.microwakings.csv, identical file already exists in GCS.\n",
      "2024-12-19 18:02:56.646339 Skipping C:\\dev\\play\\brainwave-data\\2024-09-03-21-10-58\\raw.night_events.csv, identical file already exists in GCS.\n",
      "2024-12-19 18:02:56.702104 Skipping C:\\dev\\play\\brainwave-data\\2024-09-03-21-10-58\\raw.physical_features.csv, identical file already exists in GCS.\n",
      "2024-12-19 18:02:56.751537 Skipping C:\\dev\\play\\brainwave-data\\2024-09-03-21-10-58\\raw.post_filter_psd_plot.png, identical file already exists in GCS.\n",
      "2024-12-19 18:02:56.845142 Skipping C:\\dev\\play\\brainwave-data\\2024-09-03-21-10-58\\raw.post_human.csv, identical file already exists in GCS.\n",
      "2024-12-19 18:02:56.947057 Skipping C:\\dev\\play\\brainwave-data\\2024-09-03-21-10-58\\raw.post_yasa.csv, identical file already exists in GCS.\n",
      "2024-12-19 18:02:57.021426 Skipping C:\\dev\\play\\brainwave-data\\2024-09-03-21-10-58\\raw.pre_filter_psd_plot.png, identical file already exists in GCS.\n",
      "2024-12-19 18:02:57.085381 Skipping C:\\dev\\play\\brainwave-data\\2024-09-03-21-10-58\\raw.sleep.json, identical file already exists in GCS.\n",
      "2024-12-19 18:02:57.137332 Skipping C:\\dev\\play\\brainwave-data\\2024-09-03-21-10-58\\raw.sleep_stages.csv, identical file already exists in GCS.\n",
      "2024-12-19 18:02:57.178776 Skipping C:\\dev\\play\\brainwave-data\\2024-09-03-21-10-58\\raw.sleep_stages.Fpz-M1.csv, identical file already exists in GCS.\n",
      "2024-12-19 18:02:57.237357 Skipping C:\\dev\\play\\brainwave-data\\2024-09-03-21-10-58\\raw.sleep_stages.Fpz.csv, identical file already exists in GCS.\n",
      "2024-12-19 18:02:57.305928 Skipping C:\\dev\\play\\brainwave-data\\2024-09-03-21-10-58\\raw.spectrogram.Fpz-M1.png, identical file already exists in GCS.\n",
      "2024-12-19 18:02:57.382995 Skipping C:\\dev\\play\\brainwave-data\\2024-09-03-21-10-58\\raw.spectrogram.Fpz.png, identical file already exists in GCS.\n",
      "2024-12-19 18:02:57.434956 Skipping C:\\dev\\play\\brainwave-data\\2024-09-03-21-10-58\\raw.sw_summary.csv, identical file already exists in GCS.\n"
     ]
    },
    {
     "name": "stderr",
     "output_type": "stream",
     "text": [
      " 29%|██▉       | 32/111 [02:18<06:02,  4.59s/it]"
     ]
    },
    {
     "name": "stdout",
     "output_type": "stream",
     "text": [
      "2024-12-19 18:02:57.527370 Skipping C:\\dev\\play\\brainwave-data\\2024-09-03-21-10-58\\raw.with_features.csv, identical file already exists in GCS.\n",
      "2024-12-19 18:02:57.583050 Skipping C:\\dev\\play\\brainwave-data\\2024-09-03-21-10-58\\raw.yasa.csv, identical file already exists in GCS.\n",
      "2024-12-19 18:02:57.675771 Uploaded directory checksum for C:\\dev\\play\\brainwave-data\\2024-09-03-21-10-58 to 2024-09-03-21-10-58/directory_checksum.md5\n",
      "2024-12-19 18:03:00.291818 Skipping C:\\dev\\play\\brainwave-data\\2024-09-04-21-44-08\\2024-09-04-21-44-08.brainflow.csv.bz2, identical file already exists in GCS.\n",
      "2024-12-19 18:03:00.340334 Skipping C:\\dev\\play\\brainwave-data\\2024-09-04-21-44-08\\raw.average_slow_wave.png, identical file already exists in GCS.\n",
      "2024-12-19 18:03:00.429601 Skipping C:\\dev\\play\\brainwave-data\\2024-09-04-21-44-08\\raw.edf, identical file already exists in GCS.\n",
      "2024-12-19 18:03:00.579377 Skipping C:\\dev\\play\\brainwave-data\\2024-09-04-21-44-08\\raw.fif, identical file already exists in GCS.\n",
      "2024-12-19 18:03:00.698273 Skipping C:\\dev\\play\\brainwave-data\\2024-09-04-21-44-08\\raw.fif.bz2, identical file already exists in GCS.\n",
      "2024-12-19 18:03:00.760565 Skipping C:\\dev\\play\\brainwave-data\\2024-09-04-21-44-08\\raw.final_wake_model.csv, identical file already exists in GCS.\n",
      "2024-12-19 18:03:00.816595 Skipping C:\\dev\\play\\brainwave-data\\2024-09-04-21-44-08\\raw.final_wake_model_post_human.csv, identical file already exists in GCS.\n",
      "2024-12-19 18:03:00.881036 C:\\dev\\play\\brainwave-data\\2024-09-04-21-44-08\\raw.final_wake_model_post_human.json uploading to 2024-09-04-21-44-08/raw.final_wake_model_post_human.json, does_not_exist=True has_changed=True\n",
      "2024-12-19 18:03:01.009683 Skipping C:\\dev\\play\\brainwave-data\\2024-09-04-21-44-08\\raw.microwakings.csv, identical file already exists in GCS.\n",
      "2024-12-19 18:03:01.053382 Skipping C:\\dev\\play\\brainwave-data\\2024-09-04-21-44-08\\raw.night_events.csv, identical file already exists in GCS.\n",
      "2024-12-19 18:03:01.118621 Skipping C:\\dev\\play\\brainwave-data\\2024-09-04-21-44-08\\raw.physical_features.csv, identical file already exists in GCS.\n",
      "2024-12-19 18:03:01.165013 Skipping C:\\dev\\play\\brainwave-data\\2024-09-04-21-44-08\\raw.post_filter_psd_plot.png, identical file already exists in GCS.\n",
      "2024-12-19 18:03:01.233388 Skipping C:\\dev\\play\\brainwave-data\\2024-09-04-21-44-08\\raw.post_human.csv, identical file already exists in GCS.\n",
      "2024-12-19 18:03:01.310313 Skipping C:\\dev\\play\\brainwave-data\\2024-09-04-21-44-08\\raw.post_yasa.csv, identical file already exists in GCS.\n",
      "2024-12-19 18:03:01.364591 Skipping C:\\dev\\play\\brainwave-data\\2024-09-04-21-44-08\\raw.pre_filter_psd_plot.png, identical file already exists in GCS.\n",
      "2024-12-19 18:03:01.442048 Skipping C:\\dev\\play\\brainwave-data\\2024-09-04-21-44-08\\raw.sleep.json, identical file already exists in GCS.\n",
      "2024-12-19 18:03:01.490527 Skipping C:\\dev\\play\\brainwave-data\\2024-09-04-21-44-08\\raw.sleep_stages.csv, identical file already exists in GCS.\n",
      "2024-12-19 18:03:01.537197 Skipping C:\\dev\\play\\brainwave-data\\2024-09-04-21-44-08\\raw.sleep_stages.Fpz-M1.csv, identical file already exists in GCS.\n",
      "2024-12-19 18:03:01.593676 Skipping C:\\dev\\play\\brainwave-data\\2024-09-04-21-44-08\\raw.spectrogram.Fpz-M1.png, identical file already exists in GCS.\n",
      "2024-12-19 18:03:01.640983 Skipping C:\\dev\\play\\brainwave-data\\2024-09-04-21-44-08\\raw.spindle_summary.csv, identical file already exists in GCS.\n",
      "2024-12-19 18:03:01.704573 Skipping C:\\dev\\play\\brainwave-data\\2024-09-04-21-44-08\\raw.sw_summary.csv, identical file already exists in GCS.\n",
      "2024-12-19 18:03:01.768044 Skipping C:\\dev\\play\\brainwave-data\\2024-09-04-21-44-08\\raw.with_features.csv, identical file already exists in GCS.\n",
      "2024-12-19 18:03:01.862838 Skipping C:\\dev\\play\\brainwave-data\\2024-09-04-21-44-08\\raw.with_microwakings_multi1_debug.edf, identical file already exists in GCS.\n",
      "2024-12-19 18:03:01.911208 Skipping C:\\dev\\play\\brainwave-data\\2024-09-04-21-44-08\\raw.yasa.csv, identical file already exists in GCS.\n"
     ]
    },
    {
     "name": "stderr",
     "output_type": "stream",
     "text": [
      " 30%|██▉       | 33/111 [02:22<05:52,  4.52s/it]"
     ]
    },
    {
     "name": "stdout",
     "output_type": "stream",
     "text": [
      "2024-12-19 18:03:02.036102 Uploaded directory checksum for C:\\dev\\play\\brainwave-data\\2024-09-04-21-44-08 to 2024-09-04-21-44-08/directory_checksum.md5\n",
      "2024-12-19 18:03:04.220197 Skipping C:\\dev\\play\\brainwave-data\\2024-09-05-21-32-05\\raw.average_slow_wave.png, identical file already exists in GCS.\n",
      "2024-12-19 18:03:04.315944 Skipping C:\\dev\\play\\brainwave-data\\2024-09-05-21-32-05\\raw.edf, identical file already exists in GCS.\n",
      "2024-12-19 18:03:04.447339 Skipping C:\\dev\\play\\brainwave-data\\2024-09-05-21-32-05\\raw.fif, identical file already exists in GCS.\n",
      "2024-12-19 18:03:04.517306 Skipping C:\\dev\\play\\brainwave-data\\2024-09-05-21-32-05\\raw.final_wake_model.csv, identical file already exists in GCS.\n",
      "2024-12-19 18:03:04.571432 Skipping C:\\dev\\play\\brainwave-data\\2024-09-05-21-32-05\\raw.final_wake_model_post_human.csv, identical file already exists in GCS.\n",
      "2024-12-19 18:03:04.632753 C:\\dev\\play\\brainwave-data\\2024-09-05-21-32-05\\raw.final_wake_model_post_human.json uploading to 2024-09-05-21-32-05/raw.final_wake_model_post_human.json, does_not_exist=True has_changed=True\n",
      "2024-12-19 18:03:04.783215 Skipping C:\\dev\\play\\brainwave-data\\2024-09-05-21-32-05\\raw.microwakings.csv, identical file already exists in GCS.\n",
      "2024-12-19 18:03:04.831765 Skipping C:\\dev\\play\\brainwave-data\\2024-09-05-21-32-05\\raw.night_events.csv, identical file already exists in GCS.\n",
      "2024-12-19 18:03:04.893905 Skipping C:\\dev\\play\\brainwave-data\\2024-09-05-21-32-05\\raw.physical_features.csv, identical file already exists in GCS.\n",
      "2024-12-19 18:03:04.953549 Skipping C:\\dev\\play\\brainwave-data\\2024-09-05-21-32-05\\raw.post_filter_psd_plot.png, identical file already exists in GCS.\n",
      "2024-12-19 18:03:05.023774 Skipping C:\\dev\\play\\brainwave-data\\2024-09-05-21-32-05\\raw.post_human.csv, identical file already exists in GCS.\n",
      "2024-12-19 18:03:05.096343 Skipping C:\\dev\\play\\brainwave-data\\2024-09-05-21-32-05\\raw.post_yasa.csv, identical file already exists in GCS.\n",
      "2024-12-19 18:03:05.156949 Skipping C:\\dev\\play\\brainwave-data\\2024-09-05-21-32-05\\raw.pre_filter_psd_plot.png, identical file already exists in GCS.\n",
      "2024-12-19 18:03:05.214085 Skipping C:\\dev\\play\\brainwave-data\\2024-09-05-21-32-05\\raw.sleep.json, identical file already exists in GCS.\n",
      "2024-12-19 18:03:05.279539 Skipping C:\\dev\\play\\brainwave-data\\2024-09-05-21-32-05\\raw.sleep_stages.csv, identical file already exists in GCS.\n",
      "2024-12-19 18:03:05.355193 Skipping C:\\dev\\play\\brainwave-data\\2024-09-05-21-32-05\\raw.sleep_stages.Fpz-M1.csv, identical file already exists in GCS.\n",
      "2024-12-19 18:03:05.407815 Skipping C:\\dev\\play\\brainwave-data\\2024-09-05-21-32-05\\raw.spectrogram.Fpz-M1.png, identical file already exists in GCS.\n",
      "2024-12-19 18:03:05.473896 Skipping C:\\dev\\play\\brainwave-data\\2024-09-05-21-32-05\\raw.spindle_summary.csv, identical file already exists in GCS.\n",
      "2024-12-19 18:03:05.532900 Skipping C:\\dev\\play\\brainwave-data\\2024-09-05-21-32-05\\raw.sw_summary.csv, identical file already exists in GCS.\n",
      "2024-12-19 18:03:05.596149 Skipping C:\\dev\\play\\brainwave-data\\2024-09-05-21-32-05\\raw.with_features.csv, identical file already exists in GCS.\n",
      "2024-12-19 18:03:05.674961 Skipping C:\\dev\\play\\brainwave-data\\2024-09-05-21-32-05\\raw.with_microwakings_multi1_debug.edf, identical file already exists in GCS.\n"
     ]
    },
    {
     "name": "stderr",
     "output_type": "stream",
     "text": [
      " 31%|███       | 34/111 [02:26<05:32,  4.32s/it]"
     ]
    },
    {
     "name": "stdout",
     "output_type": "stream",
     "text": [
      "2024-12-19 18:03:05.755383 Skipping C:\\dev\\play\\brainwave-data\\2024-09-05-21-32-05\\raw.yasa.csv, identical file already exists in GCS.\n",
      "2024-12-19 18:03:05.893147 Uploaded directory checksum for C:\\dev\\play\\brainwave-data\\2024-09-05-21-32-05 to 2024-09-05-21-32-05/directory_checksum.md5\n",
      "2024-12-19 18:03:08.940841 Skipping C:\\dev\\play\\brainwave-data\\2024-09-08-21-01-39\\2024-09-08-21-01-39.brainflow.csv.bz2, identical file already exists in GCS.\n",
      "2024-12-19 18:03:08.996061 Skipping C:\\dev\\play\\brainwave-data\\2024-09-08-21-01-39\\raw.average_slow_wave.png, identical file already exists in GCS.\n",
      "2024-12-19 18:03:09.114320 Skipping C:\\dev\\play\\brainwave-data\\2024-09-08-21-01-39\\raw.edf, identical file already exists in GCS.\n",
      "2024-12-19 18:03:09.302090 Skipping C:\\dev\\play\\brainwave-data\\2024-09-08-21-01-39\\raw.fif, identical file already exists in GCS.\n",
      "2024-12-19 18:03:09.408524 Skipping C:\\dev\\play\\brainwave-data\\2024-09-08-21-01-39\\raw.fif.bz2, identical file already exists in GCS.\n",
      "2024-12-19 18:03:09.449749 Skipping C:\\dev\\play\\brainwave-data\\2024-09-08-21-01-39\\raw.final_wake_model.csv, identical file already exists in GCS.\n",
      "2024-12-19 18:03:09.496443 Skipping C:\\dev\\play\\brainwave-data\\2024-09-08-21-01-39\\raw.final_wake_model_post_human.csv, identical file already exists in GCS.\n",
      "2024-12-19 18:03:09.549848 C:\\dev\\play\\brainwave-data\\2024-09-08-21-01-39\\raw.final_wake_model_post_human.json uploading to 2024-09-08-21-01-39/raw.final_wake_model_post_human.json, does_not_exist=True has_changed=True\n",
      "2024-12-19 18:03:09.736571 Skipping C:\\dev\\play\\brainwave-data\\2024-09-08-21-01-39\\raw.microwakings.csv, identical file already exists in GCS.\n",
      "2024-12-19 18:03:09.787270 Skipping C:\\dev\\play\\brainwave-data\\2024-09-08-21-01-39\\raw.night_events.csv, identical file already exists in GCS.\n",
      "2024-12-19 18:03:09.829164 Skipping C:\\dev\\play\\brainwave-data\\2024-09-08-21-01-39\\raw.physical_features.csv, identical file already exists in GCS.\n",
      "2024-12-19 18:03:09.892050 Skipping C:\\dev\\play\\brainwave-data\\2024-09-08-21-01-39\\raw.post_filter_psd_plot.png, identical file already exists in GCS.\n",
      "2024-12-19 18:03:09.960341 Skipping C:\\dev\\play\\brainwave-data\\2024-09-08-21-01-39\\raw.post_human.csv, identical file already exists in GCS.\n",
      "2024-12-19 18:03:10.044502 Skipping C:\\dev\\play\\brainwave-data\\2024-09-08-21-01-39\\raw.post_yasa.csv, identical file already exists in GCS.\n",
      "2024-12-19 18:03:10.142635 Skipping C:\\dev\\play\\brainwave-data\\2024-09-08-21-01-39\\raw.pre_filter_psd_plot.png, identical file already exists in GCS.\n",
      "2024-12-19 18:03:10.189531 Skipping C:\\dev\\play\\brainwave-data\\2024-09-08-21-01-39\\raw.sleep.json, identical file already exists in GCS.\n",
      "2024-12-19 18:03:10.237281 Skipping C:\\dev\\play\\brainwave-data\\2024-09-08-21-01-39\\raw.sleep_stages.csv, identical file already exists in GCS.\n",
      "2024-12-19 18:03:10.310260 Skipping C:\\dev\\play\\brainwave-data\\2024-09-08-21-01-39\\raw.sleep_stages.Fpz-M1.csv, identical file already exists in GCS.\n",
      "2024-12-19 18:03:10.379275 Skipping C:\\dev\\play\\brainwave-data\\2024-09-08-21-01-39\\raw.spectrogram.Fpz-M1.png, identical file already exists in GCS.\n",
      "2024-12-19 18:03:10.418672 Skipping C:\\dev\\play\\brainwave-data\\2024-09-08-21-01-39\\raw.spindle_summary.csv, identical file already exists in GCS.\n",
      "2024-12-19 18:03:10.475255 Skipping C:\\dev\\play\\brainwave-data\\2024-09-08-21-01-39\\raw.sw_summary.csv, identical file already exists in GCS.\n",
      "2024-12-19 18:03:10.556303 Skipping C:\\dev\\play\\brainwave-data\\2024-09-08-21-01-39\\raw.with_features.csv, identical file already exists in GCS.\n",
      "2024-12-19 18:03:10.619244 Skipping C:\\dev\\play\\brainwave-data\\2024-09-08-21-01-39\\raw.with_microwakings_multi1_debug.edf, identical file already exists in GCS.\n",
      "2024-12-19 18:03:10.666156 Skipping C:\\dev\\play\\brainwave-data\\2024-09-08-21-01-39\\raw.yasa.csv, identical file already exists in GCS.\n"
     ]
    },
    {
     "name": "stderr",
     "output_type": "stream",
     "text": [
      " 32%|███▏      | 35/111 [02:31<05:41,  4.49s/it]"
     ]
    },
    {
     "name": "stdout",
     "output_type": "stream",
     "text": [
      "2024-12-19 18:03:10.777134 Uploaded directory checksum for C:\\dev\\play\\brainwave-data\\2024-09-08-21-01-39 to 2024-09-08-21-01-39/directory_checksum.md5\n"
     ]
    },
    {
     "name": "stderr",
     "output_type": "stream",
     "text": [
      " 32%|███▏      | 36/111 [02:34<04:51,  3.89s/it]"
     ]
    },
    {
     "name": "stdout",
     "output_type": "stream",
     "text": [
      "2024-12-19 18:03:13.267977 Skipping upload of C:\\dev\\play\\brainwave-data\\2024-09-10-21-22-21, identical directory already exists in GCS.\n",
      "2024-12-19 18:03:15.935739 Skipping C:\\dev\\play\\brainwave-data\\2024-09-11-21-19-21\\2024-09-11-21-19-21.brainflow.csv.bz2, identical file already exists in GCS.\n",
      "2024-12-19 18:03:15.994861 Skipping C:\\dev\\play\\brainwave-data\\2024-09-11-21-19-21\\raw.average_slow_wave.png, identical file already exists in GCS.\n",
      "2024-12-19 18:03:16.079847 Skipping C:\\dev\\play\\brainwave-data\\2024-09-11-21-19-21\\raw.edf, identical file already exists in GCS.\n",
      "2024-12-19 18:03:16.217529 Skipping C:\\dev\\play\\brainwave-data\\2024-09-11-21-19-21\\raw.fif, identical file already exists in GCS.\n",
      "2024-12-19 18:03:16.280766 Skipping C:\\dev\\play\\brainwave-data\\2024-09-11-21-19-21\\raw.fif.bz2, identical file already exists in GCS.\n",
      "2024-12-19 18:03:16.327810 Skipping C:\\dev\\play\\brainwave-data\\2024-09-11-21-19-21\\raw.final_wake_model.csv, identical file already exists in GCS.\n",
      "2024-12-19 18:03:16.416026 Skipping C:\\dev\\play\\brainwave-data\\2024-09-11-21-19-21\\raw.final_wake_model_post_human.csv, identical file already exists in GCS.\n",
      "2024-12-19 18:03:16.460311 C:\\dev\\play\\brainwave-data\\2024-09-11-21-19-21\\raw.final_wake_model_post_human.json uploading to 2024-09-11-21-19-21/raw.final_wake_model_post_human.json, does_not_exist=True has_changed=True\n",
      "2024-12-19 18:03:16.603781 Skipping C:\\dev\\play\\brainwave-data\\2024-09-11-21-19-21\\raw.microwakings.csv, identical file already exists in GCS.\n",
      "2024-12-19 18:03:16.661499 Skipping C:\\dev\\play\\brainwave-data\\2024-09-11-21-19-21\\raw.night_events.csv, identical file already exists in GCS.\n",
      "2024-12-19 18:03:16.709250 Skipping C:\\dev\\play\\brainwave-data\\2024-09-11-21-19-21\\raw.physical_features.csv, identical file already exists in GCS.\n",
      "2024-12-19 18:03:16.753135 Skipping C:\\dev\\play\\brainwave-data\\2024-09-11-21-19-21\\raw.post_filter_psd_plot.png, identical file already exists in GCS.\n",
      "2024-12-19 18:03:16.822017 Skipping C:\\dev\\play\\brainwave-data\\2024-09-11-21-19-21\\raw.post_human.csv, identical file already exists in GCS.\n",
      "2024-12-19 18:03:16.868477 Skipping C:\\dev\\play\\brainwave-data\\2024-09-11-21-19-21\\raw.post_yasa.csv, identical file already exists in GCS.\n",
      "2024-12-19 18:03:16.919630 Skipping C:\\dev\\play\\brainwave-data\\2024-09-11-21-19-21\\raw.pre_filter_psd_plot.png, identical file already exists in GCS.\n",
      "2024-12-19 18:03:16.977316 Skipping C:\\dev\\play\\brainwave-data\\2024-09-11-21-19-21\\raw.scorings.json, identical file already exists in GCS.\n",
      "2024-12-19 18:03:17.037226 Skipping C:\\dev\\play\\brainwave-data\\2024-09-11-21-19-21\\raw.sleep.json, identical file already exists in GCS.\n",
      "2024-12-19 18:03:17.094091 Skipping C:\\dev\\play\\brainwave-data\\2024-09-11-21-19-21\\raw.sleep_stages.csv, identical file already exists in GCS.\n",
      "2024-12-19 18:03:17.157658 Skipping C:\\dev\\play\\brainwave-data\\2024-09-11-21-19-21\\raw.sleep_stages.Fpz-M1.csv, identical file already exists in GCS.\n",
      "2024-12-19 18:03:17.220646 Skipping C:\\dev\\play\\brainwave-data\\2024-09-11-21-19-21\\raw.spectrogram.Fpz-M1.png, identical file already exists in GCS.\n",
      "2024-12-19 18:03:17.276928 Skipping C:\\dev\\play\\brainwave-data\\2024-09-11-21-19-21\\raw.sw_summary.csv, identical file already exists in GCS.\n"
     ]
    },
    {
     "name": "stderr",
     "output_type": "stream",
     "text": [
      " 33%|███▎      | 37/111 [02:38<04:56,  4.00s/it]"
     ]
    },
    {
     "name": "stdout",
     "output_type": "stream",
     "text": [
      "2024-12-19 18:03:17.370243 Skipping C:\\dev\\play\\brainwave-data\\2024-09-11-21-19-21\\raw.with_features.csv, identical file already exists in GCS.\n",
      "2024-12-19 18:03:17.419490 Skipping C:\\dev\\play\\brainwave-data\\2024-09-11-21-19-21\\raw.yasa.csv, identical file already exists in GCS.\n",
      "2024-12-19 18:03:17.525213 Uploaded directory checksum for C:\\dev\\play\\brainwave-data\\2024-09-11-21-19-21 to 2024-09-11-21-19-21/directory_checksum.md5\n",
      "2024-12-19 18:03:20.185202 Skipping C:\\dev\\play\\brainwave-data\\2024-09-13-21-24-32\\2024-09-13-21-24-32.brainflow.csv.bz2, identical file already exists in GCS.\n",
      "2024-12-19 18:03:20.232490 Skipping C:\\dev\\play\\brainwave-data\\2024-09-13-21-24-32\\raw.average_slow_wave.png, identical file already exists in GCS.\n",
      "2024-12-19 18:03:20.325026 Skipping C:\\dev\\play\\brainwave-data\\2024-09-13-21-24-32\\raw.edf, identical file already exists in GCS.\n",
      "2024-12-19 18:03:20.428673 Skipping C:\\dev\\play\\brainwave-data\\2024-09-13-21-24-32\\raw.fif, identical file already exists in GCS.\n",
      "2024-12-19 18:03:20.500730 Skipping C:\\dev\\play\\brainwave-data\\2024-09-13-21-24-32\\raw.fif.bz2, identical file already exists in GCS.\n",
      "2024-12-19 18:03:20.551376 Skipping C:\\dev\\play\\brainwave-data\\2024-09-13-21-24-32\\raw.final_wake_model.csv, identical file already exists in GCS.\n",
      "2024-12-19 18:03:20.628697 Skipping C:\\dev\\play\\brainwave-data\\2024-09-13-21-24-32\\raw.final_wake_model_post_human.csv, identical file already exists in GCS.\n",
      "2024-12-19 18:03:20.704765 C:\\dev\\play\\brainwave-data\\2024-09-13-21-24-32\\raw.final_wake_model_post_human.json uploading to 2024-09-13-21-24-32/raw.final_wake_model_post_human.json, does_not_exist=True has_changed=True\n",
      "2024-12-19 18:03:20.877614 Skipping C:\\dev\\play\\brainwave-data\\2024-09-13-21-24-32\\raw.microwakings.csv, identical file already exists in GCS.\n",
      "2024-12-19 18:03:20.942930 Skipping C:\\dev\\play\\brainwave-data\\2024-09-13-21-24-32\\raw.night_events.csv, identical file already exists in GCS.\n",
      "2024-12-19 18:03:21.038819 Skipping C:\\dev\\play\\brainwave-data\\2024-09-13-21-24-32\\raw.physical_features.csv, identical file already exists in GCS.\n",
      "2024-12-19 18:03:21.090607 Skipping C:\\dev\\play\\brainwave-data\\2024-09-13-21-24-32\\raw.post_filter_psd_plot.png, identical file already exists in GCS.\n",
      "2024-12-19 18:03:21.180664 Skipping C:\\dev\\play\\brainwave-data\\2024-09-13-21-24-32\\raw.post_human.csv, identical file already exists in GCS.\n",
      "2024-12-19 18:03:21.258900 Skipping C:\\dev\\play\\brainwave-data\\2024-09-13-21-24-32\\raw.post_yasa.csv, identical file already exists in GCS.\n",
      "2024-12-19 18:03:21.327353 Skipping C:\\dev\\play\\brainwave-data\\2024-09-13-21-24-32\\raw.pre_filter_psd_plot.png, identical file already exists in GCS.\n",
      "2024-12-19 18:03:21.400615 Skipping C:\\dev\\play\\brainwave-data\\2024-09-13-21-24-32\\raw.sleep.json, identical file already exists in GCS.\n",
      "2024-12-19 18:03:21.459429 Skipping C:\\dev\\play\\brainwave-data\\2024-09-13-21-24-32\\raw.sleep_stages.csv, identical file already exists in GCS.\n",
      "2024-12-19 18:03:21.527104 Skipping C:\\dev\\play\\brainwave-data\\2024-09-13-21-24-32\\raw.sleep_stages.Fpz-M1.csv, identical file already exists in GCS.\n",
      "2024-12-19 18:03:21.590381 Skipping C:\\dev\\play\\brainwave-data\\2024-09-13-21-24-32\\raw.sleep_stages.Fpz.csv, identical file already exists in GCS.\n",
      "2024-12-19 18:03:21.671516 Skipping C:\\dev\\play\\brainwave-data\\2024-09-13-21-24-32\\raw.spectrogram.Fpz-M1.png, identical file already exists in GCS.\n",
      "2024-12-19 18:03:21.734321 Skipping C:\\dev\\play\\brainwave-data\\2024-09-13-21-24-32\\raw.spectrogram.Fpz.png, identical file already exists in GCS.\n",
      "2024-12-19 18:03:21.797212 Skipping C:\\dev\\play\\brainwave-data\\2024-09-13-21-24-32\\raw.sw_summary.csv, identical file already exists in GCS.\n",
      "2024-12-19 18:03:21.916924 Skipping C:\\dev\\play\\brainwave-data\\2024-09-13-21-24-32\\raw.with_features.csv, identical file already exists in GCS.\n",
      "2024-12-19 18:03:21.986998 Skipping C:\\dev\\play\\brainwave-data\\2024-09-13-21-24-32\\raw.yasa.csv, identical file already exists in GCS.\n"
     ]
    },
    {
     "name": "stderr",
     "output_type": "stream",
     "text": [
      " 34%|███▍      | 38/111 [02:42<05:04,  4.17s/it]"
     ]
    },
    {
     "name": "stdout",
     "output_type": "stream",
     "text": [
      "2024-12-19 18:03:22.105830 Uploaded directory checksum for C:\\dev\\play\\brainwave-data\\2024-09-13-21-24-32 to 2024-09-13-21-24-32/directory_checksum.md5\n",
      "2024-12-19 18:03:24.978001 Skipping C:\\dev\\play\\brainwave-data\\2024-09-15-21-14-05\\2024-09-15-21-14-05.brainflow.csv.bz2, identical file already exists in GCS.\n",
      "2024-12-19 18:03:25.034079 Skipping C:\\dev\\play\\brainwave-data\\2024-09-15-21-14-05\\raw.average_slow_wave.png, identical file already exists in GCS.\n",
      "2024-12-19 18:03:25.128896 Skipping C:\\dev\\play\\brainwave-data\\2024-09-15-21-14-05\\raw.edf, identical file already exists in GCS.\n",
      "2024-12-19 18:03:25.286214 Skipping C:\\dev\\play\\brainwave-data\\2024-09-15-21-14-05\\raw.fif, identical file already exists in GCS.\n",
      "2024-12-19 18:03:25.334041 Skipping C:\\dev\\play\\brainwave-data\\2024-09-15-21-14-05\\raw.final_wake_model.csv, identical file already exists in GCS.\n",
      "2024-12-19 18:03:25.394704 Skipping C:\\dev\\play\\brainwave-data\\2024-09-15-21-14-05\\raw.final_wake_model_post_human.csv, identical file already exists in GCS.\n",
      "2024-12-19 18:03:25.451924 C:\\dev\\play\\brainwave-data\\2024-09-15-21-14-05\\raw.final_wake_model_post_human.json uploading to 2024-09-15-21-14-05/raw.final_wake_model_post_human.json, does_not_exist=True has_changed=True\n",
      "2024-12-19 18:03:25.616137 Skipping C:\\dev\\play\\brainwave-data\\2024-09-15-21-14-05\\raw.microwakings.csv, identical file already exists in GCS.\n",
      "2024-12-19 18:03:25.662704 Skipping C:\\dev\\play\\brainwave-data\\2024-09-15-21-14-05\\raw.night_events.csv, identical file already exists in GCS.\n",
      "2024-12-19 18:03:25.727986 Skipping C:\\dev\\play\\brainwave-data\\2024-09-15-21-14-05\\raw.physical_features.csv, identical file already exists in GCS.\n",
      "2024-12-19 18:03:25.772539 Skipping C:\\dev\\play\\brainwave-data\\2024-09-15-21-14-05\\raw.post_filter_psd_plot.png, identical file already exists in GCS.\n",
      "2024-12-19 18:03:25.843685 Skipping C:\\dev\\play\\brainwave-data\\2024-09-15-21-14-05\\raw.post_human.csv, identical file already exists in GCS.\n",
      "2024-12-19 18:03:25.914448 Skipping C:\\dev\\play\\brainwave-data\\2024-09-15-21-14-05\\raw.post_yasa.csv, identical file already exists in GCS.\n",
      "2024-12-19 18:03:25.964351 Skipping C:\\dev\\play\\brainwave-data\\2024-09-15-21-14-05\\raw.pre_filter_psd_plot.png, identical file already exists in GCS.\n",
      "2024-12-19 18:03:26.006314 Skipping C:\\dev\\play\\brainwave-data\\2024-09-15-21-14-05\\raw.sleep.json, identical file already exists in GCS.\n",
      "2024-12-19 18:03:26.054945 Skipping C:\\dev\\play\\brainwave-data\\2024-09-15-21-14-05\\raw.sleep_stages.csv, identical file already exists in GCS.\n",
      "2024-12-19 18:03:26.124741 Skipping C:\\dev\\play\\brainwave-data\\2024-09-15-21-14-05\\raw.sleep_stages.Fpz-M1.csv, identical file already exists in GCS.\n",
      "2024-12-19 18:03:26.168604 Skipping C:\\dev\\play\\brainwave-data\\2024-09-15-21-14-05\\raw.sleep_stages.Fpz.csv, identical file already exists in GCS.\n",
      "2024-12-19 18:03:26.225408 Skipping C:\\dev\\play\\brainwave-data\\2024-09-15-21-14-05\\raw.spectrogram.Fpz-M1.png, identical file already exists in GCS.\n",
      "2024-12-19 18:03:26.281112 Skipping C:\\dev\\play\\brainwave-data\\2024-09-15-21-14-05\\raw.spectrogram.Fpz.png, identical file already exists in GCS.\n",
      "2024-12-19 18:03:26.339380 Skipping C:\\dev\\play\\brainwave-data\\2024-09-15-21-14-05\\raw.sw_summary.csv, identical file already exists in GCS.\n",
      "2024-12-19 18:03:26.409129 Skipping C:\\dev\\play\\brainwave-data\\2024-09-15-21-14-05\\raw.with_features.csv, identical file already exists in GCS.\n",
      "2024-12-19 18:03:26.470661 Skipping C:\\dev\\play\\brainwave-data\\2024-09-15-21-14-05\\raw.yasa.csv, identical file already exists in GCS.\n"
     ]
    },
    {
     "name": "stderr",
     "output_type": "stream",
     "text": [
      " 35%|███▌      | 39/111 [02:47<05:07,  4.27s/it]"
     ]
    },
    {
     "name": "stdout",
     "output_type": "stream",
     "text": [
      "2024-12-19 18:03:26.606156 Uploaded directory checksum for C:\\dev\\play\\brainwave-data\\2024-09-15-21-14-05 to 2024-09-15-21-14-05/directory_checksum.md5\n",
      "2024-12-19 18:03:31.577115 Skipping C:\\dev\\play\\brainwave-data\\2024-09-16-21-04-27\\2024-09-16-21-04-27.brainflow.csv.bz2, identical file already exists in GCS.\n",
      "2024-12-19 18:03:31.685326 Skipping C:\\dev\\play\\brainwave-data\\2024-09-16-21-04-27\\raw.average_slow_wave.png, identical file already exists in GCS.\n",
      "2024-12-19 18:03:31.772966 Skipping C:\\dev\\play\\brainwave-data\\2024-09-16-21-04-27\\raw.edf, identical file already exists in GCS.\n",
      "2024-12-19 18:03:31.860463 Skipping C:\\dev\\play\\brainwave-data\\2024-09-16-21-04-27\\raw.fif, identical file already exists in GCS.\n",
      "2024-12-19 18:03:31.943783 Skipping C:\\dev\\play\\brainwave-data\\2024-09-16-21-04-27\\raw.final_wake_model.csv, identical file already exists in GCS.\n",
      "2024-12-19 18:03:32.014718 Skipping C:\\dev\\play\\brainwave-data\\2024-09-16-21-04-27\\raw.final_wake_model_post_human.csv, identical file already exists in GCS.\n",
      "2024-12-19 18:03:32.098011 C:\\dev\\play\\brainwave-data\\2024-09-16-21-04-27\\raw.final_wake_model_post_human.json uploading to 2024-09-16-21-04-27/raw.final_wake_model_post_human.json, does_not_exist=True has_changed=True\n",
      "2024-12-19 18:03:32.294576 Skipping C:\\dev\\play\\brainwave-data\\2024-09-16-21-04-27\\raw.microwakings.csv, identical file already exists in GCS.\n",
      "2024-12-19 18:03:32.360360 Skipping C:\\dev\\play\\brainwave-data\\2024-09-16-21-04-27\\raw.night_events.csv, identical file already exists in GCS.\n",
      "2024-12-19 18:03:32.440918 Skipping C:\\dev\\play\\brainwave-data\\2024-09-16-21-04-27\\raw.physical_features.csv, identical file already exists in GCS.\n",
      "2024-12-19 18:03:32.510896 Skipping C:\\dev\\play\\brainwave-data\\2024-09-16-21-04-27\\raw.post_filter_psd_plot.png, identical file already exists in GCS.\n",
      "2024-12-19 18:03:32.590091 Skipping C:\\dev\\play\\brainwave-data\\2024-09-16-21-04-27\\raw.post_human.csv, identical file already exists in GCS.\n",
      "2024-12-19 18:03:32.668498 Skipping C:\\dev\\play\\brainwave-data\\2024-09-16-21-04-27\\raw.post_yasa.csv, identical file already exists in GCS.\n",
      "2024-12-19 18:03:32.754832 Skipping C:\\dev\\play\\brainwave-data\\2024-09-16-21-04-27\\raw.pre_filter_psd_plot.png, identical file already exists in GCS.\n",
      "2024-12-19 18:03:32.823226 Skipping C:\\dev\\play\\brainwave-data\\2024-09-16-21-04-27\\raw.sleep.json, identical file already exists in GCS.\n",
      "2024-12-19 18:03:32.914485 Skipping C:\\dev\\play\\brainwave-data\\2024-09-16-21-04-27\\raw.sleep_stages.csv, identical file already exists in GCS.\n",
      "2024-12-19 18:03:32.981219 Skipping C:\\dev\\play\\brainwave-data\\2024-09-16-21-04-27\\raw.sleep_stages.Fpz-M1.csv, identical file already exists in GCS.\n",
      "2024-12-19 18:03:33.027148 Skipping C:\\dev\\play\\brainwave-data\\2024-09-16-21-04-27\\raw.sleep_stages.Fpz.csv, identical file already exists in GCS.\n",
      "2024-12-19 18:03:33.093727 Skipping C:\\dev\\play\\brainwave-data\\2024-09-16-21-04-27\\raw.spectrogram.Fpz-M1.png, identical file already exists in GCS.\n",
      "2024-12-19 18:03:33.133468 Skipping C:\\dev\\play\\brainwave-data\\2024-09-16-21-04-27\\raw.spectrogram.Fpz.png, identical file already exists in GCS.\n",
      "2024-12-19 18:03:33.191852 Skipping C:\\dev\\play\\brainwave-data\\2024-09-16-21-04-27\\raw.sw_summary.csv, identical file already exists in GCS.\n"
     ]
    },
    {
     "name": "stderr",
     "output_type": "stream",
     "text": [
      " 36%|███▌      | 40/111 [02:54<05:57,  5.03s/it]"
     ]
    },
    {
     "name": "stdout",
     "output_type": "stream",
     "text": [
      "2024-12-19 18:03:33.249037 Skipping C:\\dev\\play\\brainwave-data\\2024-09-16-21-04-27\\raw.with_features.csv, identical file already exists in GCS.\n",
      "2024-12-19 18:03:33.301952 Skipping C:\\dev\\play\\brainwave-data\\2024-09-16-21-04-27\\raw.yasa.csv, identical file already exists in GCS.\n",
      "2024-12-19 18:03:33.406384 Uploaded directory checksum for C:\\dev\\play\\brainwave-data\\2024-09-16-21-04-27 to 2024-09-16-21-04-27/directory_checksum.md5\n",
      "2024-12-19 18:03:38.402064 Skipping C:\\dev\\play\\brainwave-data\\2024-09-17-21-33-14\\2024-09-17-21-33-14.brainflow.csv.bz2, identical file already exists in GCS.\n",
      "2024-12-19 18:03:38.447941 Skipping C:\\dev\\play\\brainwave-data\\2024-09-17-21-33-14\\raw.average_slow_wave.png, identical file already exists in GCS.\n",
      "2024-12-19 18:03:38.539422 Skipping C:\\dev\\play\\brainwave-data\\2024-09-17-21-33-14\\raw.edf, identical file already exists in GCS.\n",
      "2024-12-19 18:03:38.668969 Skipping C:\\dev\\play\\brainwave-data\\2024-09-17-21-33-14\\raw.fif, identical file already exists in GCS.\n",
      "2024-12-19 18:03:38.711056 Skipping C:\\dev\\play\\brainwave-data\\2024-09-17-21-33-14\\raw.final_wake_model.csv, identical file already exists in GCS.\n",
      "2024-12-19 18:03:38.768910 Skipping C:\\dev\\play\\brainwave-data\\2024-09-17-21-33-14\\raw.final_wake_model_post_human.csv, identical file already exists in GCS.\n",
      "2024-12-19 18:03:38.885666 C:\\dev\\play\\brainwave-data\\2024-09-17-21-33-14\\raw.final_wake_model_post_human.json uploading to 2024-09-17-21-33-14/raw.final_wake_model_post_human.json, does_not_exist=True has_changed=True\n",
      "2024-12-19 18:03:39.073295 Skipping C:\\dev\\play\\brainwave-data\\2024-09-17-21-33-14\\raw.microwakings.csv, identical file already exists in GCS.\n",
      "2024-12-19 18:03:39.142872 Skipping C:\\dev\\play\\brainwave-data\\2024-09-17-21-33-14\\raw.night_events.csv, identical file already exists in GCS.\n",
      "2024-12-19 18:03:39.206640 Skipping C:\\dev\\play\\brainwave-data\\2024-09-17-21-33-14\\raw.physical_features.csv, identical file already exists in GCS.\n",
      "2024-12-19 18:03:39.253901 Skipping C:\\dev\\play\\brainwave-data\\2024-09-17-21-33-14\\raw.post_filter_psd_plot.png, identical file already exists in GCS.\n",
      "2024-12-19 18:03:39.310508 Skipping C:\\dev\\play\\brainwave-data\\2024-09-17-21-33-14\\raw.post_human.csv, identical file already exists in GCS.\n",
      "2024-12-19 18:03:39.410685 Skipping C:\\dev\\play\\brainwave-data\\2024-09-17-21-33-14\\raw.post_yasa.csv, identical file already exists in GCS.\n",
      "2024-12-19 18:03:39.456387 Skipping C:\\dev\\play\\brainwave-data\\2024-09-17-21-33-14\\raw.pre_filter_psd_plot.png, identical file already exists in GCS.\n",
      "2024-12-19 18:03:39.498043 Skipping C:\\dev\\play\\brainwave-data\\2024-09-17-21-33-14\\raw.sleep.json, identical file already exists in GCS.\n",
      "2024-12-19 18:03:39.544926 Skipping C:\\dev\\play\\brainwave-data\\2024-09-17-21-33-14\\raw.sleep_stages.csv, identical file already exists in GCS.\n",
      "2024-12-19 18:03:39.598006 Skipping C:\\dev\\play\\brainwave-data\\2024-09-17-21-33-14\\raw.sleep_stages.Fpz-M1.csv, identical file already exists in GCS.\n",
      "2024-12-19 18:03:39.649625 Skipping C:\\dev\\play\\brainwave-data\\2024-09-17-21-33-14\\raw.sleep_stages.Fpz.csv, identical file already exists in GCS.\n",
      "2024-12-19 18:03:39.710912 Skipping C:\\dev\\play\\brainwave-data\\2024-09-17-21-33-14\\raw.spectrogram.Fpz-M1.png, identical file already exists in GCS.\n",
      "2024-12-19 18:03:39.777936 Skipping C:\\dev\\play\\brainwave-data\\2024-09-17-21-33-14\\raw.spectrogram.Fpz.png, identical file already exists in GCS.\n",
      "2024-12-19 18:03:39.827522 Skipping C:\\dev\\play\\brainwave-data\\2024-09-17-21-33-14\\raw.sw_summary.csv, identical file already exists in GCS.\n"
     ]
    },
    {
     "name": "stderr",
     "output_type": "stream",
     "text": [
      " 37%|███▋      | 41/111 [03:00<06:26,  5.52s/it]"
     ]
    },
    {
     "name": "stdout",
     "output_type": "stream",
     "text": [
      "2024-12-19 18:03:39.906579 Skipping C:\\dev\\play\\brainwave-data\\2024-09-17-21-33-14\\raw.with_features.csv, identical file already exists in GCS.\n",
      "2024-12-19 18:03:39.956520 Skipping C:\\dev\\play\\brainwave-data\\2024-09-17-21-33-14\\raw.yasa.csv, identical file already exists in GCS.\n",
      "2024-12-19 18:03:40.052564 Uploaded directory checksum for C:\\dev\\play\\brainwave-data\\2024-09-17-21-33-14 to 2024-09-17-21-33-14/directory_checksum.md5\n"
     ]
    },
    {
     "name": "stderr",
     "output_type": "stream",
     "text": [
      " 38%|███▊      | 42/111 [03:06<06:13,  5.42s/it]"
     ]
    },
    {
     "name": "stdout",
     "output_type": "stream",
     "text": [
      "2024-12-19 18:03:45.237076 Skipping upload of C:\\dev\\play\\brainwave-data\\2024-09-18-21-28-11, identical directory already exists in GCS.\n"
     ]
    },
    {
     "name": "stderr",
     "output_type": "stream",
     "text": [
      " 39%|███▊      | 43/111 [03:08<05:07,  4.53s/it]"
     ]
    },
    {
     "name": "stdout",
     "output_type": "stream",
     "text": [
      "2024-12-19 18:03:47.690736 Skipping upload of C:\\dev\\play\\brainwave-data\\2024-09-19-21-29-42, identical directory already exists in GCS.\n",
      "2024-12-19 18:03:50.237250 Skipping C:\\dev\\play\\brainwave-data\\2024-09-20-21-19-28\\2024-09-20-21-19-28.brainflow.csv.bz2, identical file already exists in GCS.\n",
      "2024-12-19 18:03:50.286443 Skipping C:\\dev\\play\\brainwave-data\\2024-09-20-21-19-28\\raw.average_slow_wave.png, identical file already exists in GCS.\n",
      "2024-12-19 18:03:50.386696 Skipping C:\\dev\\play\\brainwave-data\\2024-09-20-21-19-28\\raw.edf, identical file already exists in GCS.\n",
      "2024-12-19 18:03:50.553388 Skipping C:\\dev\\play\\brainwave-data\\2024-09-20-21-19-28\\raw.fif, identical file already exists in GCS.\n",
      "2024-12-19 18:03:50.615764 Skipping C:\\dev\\play\\brainwave-data\\2024-09-20-21-19-28\\raw.final_wake_model.csv, identical file already exists in GCS.\n",
      "2024-12-19 18:03:50.679962 Skipping C:\\dev\\play\\brainwave-data\\2024-09-20-21-19-28\\raw.final_wake_model_post_human.csv, identical file already exists in GCS.\n",
      "2024-12-19 18:03:50.726611 C:\\dev\\play\\brainwave-data\\2024-09-20-21-19-28\\raw.final_wake_model_post_human.json uploading to 2024-09-20-21-19-28/raw.final_wake_model_post_human.json, does_not_exist=True has_changed=True\n",
      "2024-12-19 18:03:50.900047 Skipping C:\\dev\\play\\brainwave-data\\2024-09-20-21-19-28\\raw.microwakings.csv, identical file already exists in GCS.\n",
      "2024-12-19 18:03:50.946967 Skipping C:\\dev\\play\\brainwave-data\\2024-09-20-21-19-28\\raw.night_events.csv, identical file already exists in GCS.\n",
      "2024-12-19 18:03:51.009239 Skipping C:\\dev\\play\\brainwave-data\\2024-09-20-21-19-28\\raw.physical_features.csv, identical file already exists in GCS.\n",
      "2024-12-19 18:03:51.072189 Skipping C:\\dev\\play\\brainwave-data\\2024-09-20-21-19-28\\raw.post_filter_psd_plot.png, identical file already exists in GCS.\n",
      "2024-12-19 18:03:51.136594 Skipping C:\\dev\\play\\brainwave-data\\2024-09-20-21-19-28\\raw.post_human.csv, identical file already exists in GCS.\n",
      "2024-12-19 18:03:51.217462 Skipping C:\\dev\\play\\brainwave-data\\2024-09-20-21-19-28\\raw.post_yasa.csv, identical file already exists in GCS.\n",
      "2024-12-19 18:03:51.259305 Skipping C:\\dev\\play\\brainwave-data\\2024-09-20-21-19-28\\raw.pre_filter_psd_plot.png, identical file already exists in GCS.\n",
      "2024-12-19 18:03:51.338099 Skipping C:\\dev\\play\\brainwave-data\\2024-09-20-21-19-28\\raw.sleep.json, identical file already exists in GCS.\n",
      "2024-12-19 18:03:51.389261 Skipping C:\\dev\\play\\brainwave-data\\2024-09-20-21-19-28\\raw.sleep_stages.csv, identical file already exists in GCS.\n",
      "2024-12-19 18:03:51.453043 Skipping C:\\dev\\play\\brainwave-data\\2024-09-20-21-19-28\\raw.sleep_stages.Fpz-M1.csv, identical file already exists in GCS.\n",
      "2024-12-19 18:03:51.510663 Skipping C:\\dev\\play\\brainwave-data\\2024-09-20-21-19-28\\raw.sleep_stages.Fpz.csv, identical file already exists in GCS.\n",
      "2024-12-19 18:03:51.562232 Skipping C:\\dev\\play\\brainwave-data\\2024-09-20-21-19-28\\raw.spectrogram.Fpz-M1.png, identical file already exists in GCS.\n",
      "2024-12-19 18:03:51.626252 Skipping C:\\dev\\play\\brainwave-data\\2024-09-20-21-19-28\\raw.spectrogram.Fpz.png, identical file already exists in GCS.\n",
      "2024-12-19 18:03:51.739196 Skipping C:\\dev\\play\\brainwave-data\\2024-09-20-21-19-28\\raw.sw_summary.csv, identical file already exists in GCS.\n",
      "2024-12-19 18:03:51.832422 Skipping C:\\dev\\play\\brainwave-data\\2024-09-20-21-19-28\\raw.with_features.csv, identical file already exists in GCS.\n"
     ]
    },
    {
     "name": "stderr",
     "output_type": "stream",
     "text": [
      " 40%|███▉      | 44/111 [03:12<04:59,  4.47s/it]"
     ]
    },
    {
     "name": "stdout",
     "output_type": "stream",
     "text": [
      "2024-12-19 18:03:51.900380 Skipping C:\\dev\\play\\brainwave-data\\2024-09-20-21-19-28\\raw.yasa.csv, identical file already exists in GCS.\n",
      "2024-12-19 18:03:52.038909 Uploaded directory checksum for C:\\dev\\play\\brainwave-data\\2024-09-20-21-19-28 to 2024-09-20-21-19-28/directory_checksum.md5\n",
      "2024-12-19 18:03:54.544191 Skipping C:\\dev\\play\\brainwave-data\\2024-09-22-21-30-59\\2024-09-22-21-30-59.brainflow.csv.bz2, identical file already exists in GCS.\n",
      "2024-12-19 18:03:54.614837 Skipping C:\\dev\\play\\brainwave-data\\2024-09-22-21-30-59\\raw.average_slow_wave.png, identical file already exists in GCS.\n",
      "2024-12-19 18:03:54.703222 Skipping C:\\dev\\play\\brainwave-data\\2024-09-22-21-30-59\\raw.edf, identical file already exists in GCS.\n",
      "2024-12-19 18:03:54.845273 Skipping C:\\dev\\play\\brainwave-data\\2024-09-22-21-30-59\\raw.fif, identical file already exists in GCS.\n",
      "2024-12-19 18:03:54.902164 Skipping C:\\dev\\play\\brainwave-data\\2024-09-22-21-30-59\\raw.final_wake_model.csv, identical file already exists in GCS.\n",
      "2024-12-19 18:03:54.952152 Skipping C:\\dev\\play\\brainwave-data\\2024-09-22-21-30-59\\raw.final_wake_model_post_human.csv, identical file already exists in GCS.\n",
      "2024-12-19 18:03:55.010003 C:\\dev\\play\\brainwave-data\\2024-09-22-21-30-59\\raw.final_wake_model_post_human.json uploading to 2024-09-22-21-30-59/raw.final_wake_model_post_human.json, does_not_exist=True has_changed=True\n",
      "2024-12-19 18:03:55.171195 Skipping C:\\dev\\play\\brainwave-data\\2024-09-22-21-30-59\\raw.microwakings.csv, identical file already exists in GCS.\n",
      "2024-12-19 18:03:55.215240 Skipping C:\\dev\\play\\brainwave-data\\2024-09-22-21-30-59\\raw.night_events.csv, identical file already exists in GCS.\n",
      "2024-12-19 18:03:55.290336 Skipping C:\\dev\\play\\brainwave-data\\2024-09-22-21-30-59\\raw.physical_features.csv, identical file already exists in GCS.\n",
      "2024-12-19 18:03:55.333523 Skipping C:\\dev\\play\\brainwave-data\\2024-09-22-21-30-59\\raw.post_filter_psd_plot.png, identical file already exists in GCS.\n",
      "2024-12-19 18:03:55.423705 Skipping C:\\dev\\play\\brainwave-data\\2024-09-22-21-30-59\\raw.post_human.csv, identical file already exists in GCS.\n",
      "2024-12-19 18:03:55.486112 Skipping C:\\dev\\play\\brainwave-data\\2024-09-22-21-30-59\\raw.post_yasa.csv, identical file already exists in GCS.\n",
      "2024-12-19 18:03:55.541582 Skipping C:\\dev\\play\\brainwave-data\\2024-09-22-21-30-59\\raw.pre_filter_psd_plot.png, identical file already exists in GCS.\n",
      "2024-12-19 18:03:55.597996 Skipping C:\\dev\\play\\brainwave-data\\2024-09-22-21-30-59\\raw.sleep.json, identical file already exists in GCS.\n",
      "2024-12-19 18:03:55.671157 Skipping C:\\dev\\play\\brainwave-data\\2024-09-22-21-30-59\\raw.sleep_stages.csv, identical file already exists in GCS.\n",
      "2024-12-19 18:03:55.738178 Skipping C:\\dev\\play\\brainwave-data\\2024-09-22-21-30-59\\raw.sleep_stages.Fpz-M1.csv, identical file already exists in GCS.\n",
      "2024-12-19 18:03:55.804223 Skipping C:\\dev\\play\\brainwave-data\\2024-09-22-21-30-59\\raw.sleep_stages.Fpz.csv, identical file already exists in GCS.\n",
      "2024-12-19 18:03:55.874977 Skipping C:\\dev\\play\\brainwave-data\\2024-09-22-21-30-59\\raw.spectrogram.Fpz-M1.png, identical file already exists in GCS.\n",
      "2024-12-19 18:03:55.942747 Skipping C:\\dev\\play\\brainwave-data\\2024-09-22-21-30-59\\raw.spectrogram.Fpz.png, identical file already exists in GCS.\n",
      "2024-12-19 18:03:55.982902 Skipping C:\\dev\\play\\brainwave-data\\2024-09-22-21-30-59\\raw.sw_summary.csv, identical file already exists in GCS.\n",
      "2024-12-19 18:03:56.047647 Skipping C:\\dev\\play\\brainwave-data\\2024-09-22-21-30-59\\raw.with_features.csv, identical file already exists in GCS.\n"
     ]
    },
    {
     "name": "stderr",
     "output_type": "stream",
     "text": [
      " 41%|████      | 45/111 [03:17<04:49,  4.38s/it]"
     ]
    },
    {
     "name": "stdout",
     "output_type": "stream",
     "text": [
      "2024-12-19 18:03:56.094177 Skipping C:\\dev\\play\\brainwave-data\\2024-09-22-21-30-59\\raw.yasa.csv, identical file already exists in GCS.\n",
      "2024-12-19 18:03:56.216441 Uploaded directory checksum for C:\\dev\\play\\brainwave-data\\2024-09-22-21-30-59 to 2024-09-22-21-30-59/directory_checksum.md5\n",
      "2024-12-19 18:03:58.402203 Skipping C:\\dev\\play\\brainwave-data\\2024-09-24-22-43-11\\OBCI_0B.TXT.bz2, identical file already exists in GCS.\n",
      "2024-12-19 18:03:58.469394 Skipping C:\\dev\\play\\brainwave-data\\2024-09-24-22-43-11\\raw.average_slow_wave.png, identical file already exists in GCS.\n",
      "2024-12-19 18:03:58.562104 Skipping C:\\dev\\play\\brainwave-data\\2024-09-24-22-43-11\\raw.edf, identical file already exists in GCS.\n",
      "2024-12-19 18:03:58.689463 Skipping C:\\dev\\play\\brainwave-data\\2024-09-24-22-43-11\\raw.fif, identical file already exists in GCS.\n",
      "2024-12-19 18:03:58.731039 Skipping C:\\dev\\play\\brainwave-data\\2024-09-24-22-43-11\\raw.final_wake_model.csv, identical file already exists in GCS.\n",
      "2024-12-19 18:03:58.782020 Skipping C:\\dev\\play\\brainwave-data\\2024-09-24-22-43-11\\raw.final_wake_model_post_human.csv, identical file already exists in GCS.\n",
      "2024-12-19 18:03:58.831639 C:\\dev\\play\\brainwave-data\\2024-09-24-22-43-11\\raw.final_wake_model_post_human.json uploading to 2024-09-24-22-43-11/raw.final_wake_model_post_human.json, does_not_exist=True has_changed=True\n",
      "2024-12-19 18:03:58.981624 Skipping C:\\dev\\play\\brainwave-data\\2024-09-24-22-43-11\\raw.microwakings.csv, identical file already exists in GCS.\n",
      "2024-12-19 18:03:59.023012 Skipping C:\\dev\\play\\brainwave-data\\2024-09-24-22-43-11\\raw.night_events.csv, identical file already exists in GCS.\n",
      "2024-12-19 18:03:59.068613 Skipping C:\\dev\\play\\brainwave-data\\2024-09-24-22-43-11\\raw.physical_features.csv, identical file already exists in GCS.\n",
      "2024-12-19 18:03:59.110337 Skipping C:\\dev\\play\\brainwave-data\\2024-09-24-22-43-11\\raw.post_filter_psd_plot.png, identical file already exists in GCS.\n",
      "2024-12-19 18:03:59.169255 Skipping C:\\dev\\play\\brainwave-data\\2024-09-24-22-43-11\\raw.post_human.csv, identical file already exists in GCS.\n",
      "2024-12-19 18:03:59.248387 Skipping C:\\dev\\play\\brainwave-data\\2024-09-24-22-43-11\\raw.post_yasa.csv, identical file already exists in GCS.\n",
      "2024-12-19 18:03:59.290609 Skipping C:\\dev\\play\\brainwave-data\\2024-09-24-22-43-11\\raw.pre_filter_psd_plot.png, identical file already exists in GCS.\n",
      "2024-12-19 18:03:59.331256 Skipping C:\\dev\\play\\brainwave-data\\2024-09-24-22-43-11\\raw.sleep.json, identical file already exists in GCS.\n",
      "2024-12-19 18:03:59.368821 Skipping C:\\dev\\play\\brainwave-data\\2024-09-24-22-43-11\\raw.sleep_stages.csv, identical file already exists in GCS.\n",
      "2024-12-19 18:03:59.415284 Skipping C:\\dev\\play\\brainwave-data\\2024-09-24-22-43-11\\raw.sleep_stages.Fpz-M1.csv, identical file already exists in GCS.\n",
      "2024-12-19 18:03:59.456089 Skipping C:\\dev\\play\\brainwave-data\\2024-09-24-22-43-11\\raw.sleep_stages.Fpz.csv, identical file already exists in GCS.\n",
      "2024-12-19 18:03:59.506526 Skipping C:\\dev\\play\\brainwave-data\\2024-09-24-22-43-11\\raw.spectrogram.Fpz-M1.png, identical file already exists in GCS.\n",
      "2024-12-19 18:03:59.557582 Skipping C:\\dev\\play\\brainwave-data\\2024-09-24-22-43-11\\raw.spectrogram.Fpz.png, identical file already exists in GCS.\n",
      "2024-12-19 18:03:59.598878 Skipping C:\\dev\\play\\brainwave-data\\2024-09-24-22-43-11\\raw.sw_summary.csv, identical file already exists in GCS.\n",
      "2024-12-19 18:03:59.650662 Skipping C:\\dev\\play\\brainwave-data\\2024-09-24-22-43-11\\raw.with_features.csv, identical file already exists in GCS.\n",
      "2024-12-19 18:03:59.691467 Skipping C:\\dev\\play\\brainwave-data\\2024-09-24-22-43-11\\raw.yasa.csv, identical file already exists in GCS.\n"
     ]
    },
    {
     "name": "stderr",
     "output_type": "stream",
     "text": [
      " 41%|████▏     | 46/111 [03:20<04:29,  4.15s/it]"
     ]
    },
    {
     "name": "stdout",
     "output_type": "stream",
     "text": [
      "2024-12-19 18:03:59.812673 Uploaded directory checksum for C:\\dev\\play\\brainwave-data\\2024-09-24-22-43-11 to 2024-09-24-22-43-11/directory_checksum.md5\n",
      "2024-12-19 18:04:02.721765 Skipping C:\\dev\\play\\brainwave-data\\2024-09-24-22-43-12\\2024-09-24-22-43-12.brainflow.csv.bz2, identical file already exists in GCS.\n",
      "2024-12-19 18:04:02.785586 Skipping C:\\dev\\play\\brainwave-data\\2024-09-24-22-43-12\\raw.average_slow_wave.png, identical file already exists in GCS.\n",
      "2024-12-19 18:04:02.880696 Skipping C:\\dev\\play\\brainwave-data\\2024-09-24-22-43-12\\raw.edf, identical file already exists in GCS.\n",
      "2024-12-19 18:04:03.064174 Skipping C:\\dev\\play\\brainwave-data\\2024-09-24-22-43-12\\raw.fif, identical file already exists in GCS.\n",
      "2024-12-19 18:04:03.106588 Skipping C:\\dev\\play\\brainwave-data\\2024-09-24-22-43-12\\raw.final_wake_model.csv, identical file already exists in GCS.\n",
      "2024-12-19 18:04:03.160289 Skipping C:\\dev\\play\\brainwave-data\\2024-09-24-22-43-12\\raw.final_wake_model_post_human.csv, identical file already exists in GCS.\n",
      "2024-12-19 18:04:03.214217 C:\\dev\\play\\brainwave-data\\2024-09-24-22-43-12\\raw.final_wake_model_post_human.json uploading to 2024-09-24-22-43-12/raw.final_wake_model_post_human.json, does_not_exist=True has_changed=True\n",
      "2024-12-19 18:04:03.368653 Skipping C:\\dev\\play\\brainwave-data\\2024-09-24-22-43-12\\raw.microwakings.csv, identical file already exists in GCS.\n",
      "2024-12-19 18:04:03.423488 Skipping C:\\dev\\play\\brainwave-data\\2024-09-24-22-43-12\\raw.night_events.csv, identical file already exists in GCS.\n",
      "2024-12-19 18:04:03.464364 Skipping C:\\dev\\play\\brainwave-data\\2024-09-24-22-43-12\\raw.physical_features.csv, identical file already exists in GCS.\n",
      "2024-12-19 18:04:03.519584 Skipping C:\\dev\\play\\brainwave-data\\2024-09-24-22-43-12\\raw.post_filter_psd_plot.png, identical file already exists in GCS.\n",
      "2024-12-19 18:04:03.581035 Skipping C:\\dev\\play\\brainwave-data\\2024-09-24-22-43-12\\raw.post_human.csv, identical file already exists in GCS.\n",
      "2024-12-19 18:04:03.661488 Skipping C:\\dev\\play\\brainwave-data\\2024-09-24-22-43-12\\raw.post_yasa.csv, identical file already exists in GCS.\n",
      "2024-12-19 18:04:03.714931 Skipping C:\\dev\\play\\brainwave-data\\2024-09-24-22-43-12\\raw.pre_filter_psd_plot.png, identical file already exists in GCS.\n",
      "2024-12-19 18:04:03.778026 Skipping C:\\dev\\play\\brainwave-data\\2024-09-24-22-43-12\\raw.sleep.json, identical file already exists in GCS.\n",
      "2024-12-19 18:04:03.841015 Skipping C:\\dev\\play\\brainwave-data\\2024-09-24-22-43-12\\raw.sleep_stages.csv, identical file already exists in GCS.\n",
      "2024-12-19 18:04:03.897417 Skipping C:\\dev\\play\\brainwave-data\\2024-09-24-22-43-12\\raw.sleep_stages.Fpz-M1.csv, identical file already exists in GCS.\n",
      "2024-12-19 18:04:03.956721 Skipping C:\\dev\\play\\brainwave-data\\2024-09-24-22-43-12\\raw.sleep_stages.Fpz.csv, identical file already exists in GCS.\n",
      "2024-12-19 18:04:04.031316 Skipping C:\\dev\\play\\brainwave-data\\2024-09-24-22-43-12\\raw.spectrogram.Fpz-M1.png, identical file already exists in GCS.\n",
      "2024-12-19 18:04:04.109167 Skipping C:\\dev\\play\\brainwave-data\\2024-09-24-22-43-12\\raw.spectrogram.Fpz.png, identical file already exists in GCS.\n",
      "2024-12-19 18:04:04.163502 Skipping C:\\dev\\play\\brainwave-data\\2024-09-24-22-43-12\\raw.sw_summary.csv, identical file already exists in GCS.\n",
      "2024-12-19 18:04:04.239581 Skipping C:\\dev\\play\\brainwave-data\\2024-09-24-22-43-12\\raw.with_features.csv, identical file already exists in GCS.\n",
      "2024-12-19 18:04:04.299127 Skipping C:\\dev\\play\\brainwave-data\\2024-09-24-22-43-12\\raw.yasa.csv, identical file already exists in GCS.\n"
     ]
    },
    {
     "name": "stderr",
     "output_type": "stream",
     "text": [
      " 42%|████▏     | 47/111 [03:25<04:34,  4.29s/it]"
     ]
    },
    {
     "name": "stdout",
     "output_type": "stream",
     "text": [
      "2024-12-19 18:04:04.419213 Uploaded directory checksum for C:\\dev\\play\\brainwave-data\\2024-09-24-22-43-12 to 2024-09-24-22-43-12/directory_checksum.md5\n",
      "2024-12-19 18:04:07.539597 Skipping C:\\dev\\play\\brainwave-data\\2024-09-25-21-57-01\\2024-09-25-21-57-01.brainflow.csv.bz2, identical file already exists in GCS.\n",
      "2024-12-19 18:04:07.707236 Skipping C:\\dev\\play\\brainwave-data\\2024-09-25-21-57-01\\OBCI_0D.TXT.bz2, identical file already exists in GCS.\n",
      "2024-12-19 18:04:07.766405 Skipping C:\\dev\\play\\brainwave-data\\2024-09-25-21-57-01\\raw.average_slow_wave.png, identical file already exists in GCS.\n",
      "2024-12-19 18:04:07.907749 Skipping C:\\dev\\play\\brainwave-data\\2024-09-25-21-57-01\\raw.edf, identical file already exists in GCS.\n",
      "2024-12-19 18:04:08.052417 Skipping C:\\dev\\play\\brainwave-data\\2024-09-25-21-57-01\\raw.fif, identical file already exists in GCS.\n",
      "2024-12-19 18:04:08.097552 Skipping C:\\dev\\play\\brainwave-data\\2024-09-25-21-57-01\\raw.final_wake_model.csv, identical file already exists in GCS.\n",
      "2024-12-19 18:04:08.145666 Skipping C:\\dev\\play\\brainwave-data\\2024-09-25-21-57-01\\raw.final_wake_model_post_human.csv, identical file already exists in GCS.\n",
      "2024-12-19 18:04:08.199294 C:\\dev\\play\\brainwave-data\\2024-09-25-21-57-01\\raw.final_wake_model_post_human.json uploading to 2024-09-25-21-57-01/raw.final_wake_model_post_human.json, does_not_exist=True has_changed=True\n",
      "2024-12-19 18:04:08.349701 Skipping C:\\dev\\play\\brainwave-data\\2024-09-25-21-57-01\\raw.microwakings.csv, identical file already exists in GCS.\n",
      "2024-12-19 18:04:08.399833 Skipping C:\\dev\\play\\brainwave-data\\2024-09-25-21-57-01\\raw.night_events.csv, identical file already exists in GCS.\n",
      "2024-12-19 18:04:08.453987 Skipping C:\\dev\\play\\brainwave-data\\2024-09-25-21-57-01\\raw.physical_features.csv, identical file already exists in GCS.\n",
      "2024-12-19 18:04:08.506196 Skipping C:\\dev\\play\\brainwave-data\\2024-09-25-21-57-01\\raw.post_filter_psd_plot.png, identical file already exists in GCS.\n",
      "2024-12-19 18:04:08.585609 Skipping C:\\dev\\play\\brainwave-data\\2024-09-25-21-57-01\\raw.post_human.csv, identical file already exists in GCS.\n",
      "2024-12-19 18:04:08.668461 Skipping C:\\dev\\play\\brainwave-data\\2024-09-25-21-57-01\\raw.post_yasa.csv, identical file already exists in GCS.\n",
      "2024-12-19 18:04:08.722888 Skipping C:\\dev\\play\\brainwave-data\\2024-09-25-21-57-01\\raw.pre_filter_psd_plot.png, identical file already exists in GCS.\n",
      "2024-12-19 18:04:08.777058 Skipping C:\\dev\\play\\brainwave-data\\2024-09-25-21-57-01\\raw.sleep.json, identical file already exists in GCS.\n",
      "2024-12-19 18:04:08.827868 Skipping C:\\dev\\play\\brainwave-data\\2024-09-25-21-57-01\\raw.sleep_stages.csv, identical file already exists in GCS.\n",
      "2024-12-19 18:04:08.864293 Skipping C:\\dev\\play\\brainwave-data\\2024-09-25-21-57-01\\raw.sleep_stages.Fpz-M1.csv, identical file already exists in GCS.\n",
      "2024-12-19 18:04:08.918588 Skipping C:\\dev\\play\\brainwave-data\\2024-09-25-21-57-01\\raw.sleep_stages.Fpz.csv, identical file already exists in GCS.\n",
      "2024-12-19 18:04:08.968740 Skipping C:\\dev\\play\\brainwave-data\\2024-09-25-21-57-01\\raw.spectrogram.Fpz-M1.png, identical file already exists in GCS.\n",
      "2024-12-19 18:04:09.028924 Skipping C:\\dev\\play\\brainwave-data\\2024-09-25-21-57-01\\raw.spectrogram.Fpz.png, identical file already exists in GCS.\n",
      "2024-12-19 18:04:09.075720 Skipping C:\\dev\\play\\brainwave-data\\2024-09-25-21-57-01\\raw.sw_summary.csv, identical file already exists in GCS.\n",
      "2024-12-19 18:04:09.140252 Skipping C:\\dev\\play\\brainwave-data\\2024-09-25-21-57-01\\raw.with_features.csv, identical file already exists in GCS.\n",
      "2024-12-19 18:04:09.212323 Skipping C:\\dev\\play\\brainwave-data\\2024-09-25-21-57-01\\raw.yasa.csv, identical file already exists in GCS.\n"
     ]
    },
    {
     "name": "stderr",
     "output_type": "stream",
     "text": [
      " 43%|████▎     | 48/111 [03:30<04:41,  4.48s/it]"
     ]
    },
    {
     "name": "stdout",
     "output_type": "stream",
     "text": [
      "2024-12-19 18:04:09.338288 Uploaded directory checksum for C:\\dev\\play\\brainwave-data\\2024-09-25-21-57-01 to 2024-09-25-21-57-01/directory_checksum.md5\n",
      "2024-12-19 18:04:12.228178 Skipping C:\\dev\\play\\brainwave-data\\2024-09-26-21-24-52\\2024-09-26-21-24-52.brainflow.csv.bz2, identical file already exists in GCS.\n",
      "2024-12-19 18:04:12.296992 Skipping C:\\dev\\play\\brainwave-data\\2024-09-26-21-24-52\\raw.average_slow_wave.png, identical file already exists in GCS.\n",
      "2024-12-19 18:04:12.382990 Skipping C:\\dev\\play\\brainwave-data\\2024-09-26-21-24-52\\raw.edf, identical file already exists in GCS.\n",
      "2024-12-19 18:04:12.543406 Skipping C:\\dev\\play\\brainwave-data\\2024-09-26-21-24-52\\raw.fif, identical file already exists in GCS.\n",
      "2024-12-19 18:04:12.609807 Skipping C:\\dev\\play\\brainwave-data\\2024-09-26-21-24-52\\raw.final_wake_model.csv, identical file already exists in GCS.\n",
      "2024-12-19 18:04:12.655896 Skipping C:\\dev\\play\\brainwave-data\\2024-09-26-21-24-52\\raw.final_wake_model_post_human.csv, identical file already exists in GCS.\n",
      "2024-12-19 18:04:12.687653 C:\\dev\\play\\brainwave-data\\2024-09-26-21-24-52\\raw.final_wake_model_post_human.json uploading to 2024-09-26-21-24-52/raw.final_wake_model_post_human.json, does_not_exist=True has_changed=True\n",
      "2024-12-19 18:04:12.855865 Skipping C:\\dev\\play\\brainwave-data\\2024-09-26-21-24-52\\raw.microwakings.csv, identical file already exists in GCS.\n",
      "2024-12-19 18:04:12.914238 Skipping C:\\dev\\play\\brainwave-data\\2024-09-26-21-24-52\\raw.night_events.csv, identical file already exists in GCS.\n",
      "2024-12-19 18:04:12.982614 Skipping C:\\dev\\play\\brainwave-data\\2024-09-26-21-24-52\\raw.physical_features.csv, identical file already exists in GCS.\n",
      "2024-12-19 18:04:13.045387 Skipping C:\\dev\\play\\brainwave-data\\2024-09-26-21-24-52\\raw.post_filter_psd_plot.png, identical file already exists in GCS.\n",
      "2024-12-19 18:04:13.124372 Skipping C:\\dev\\play\\brainwave-data\\2024-09-26-21-24-52\\raw.post_human.csv, identical file already exists in GCS.\n",
      "2024-12-19 18:04:13.202819 Skipping C:\\dev\\play\\brainwave-data\\2024-09-26-21-24-52\\raw.post_yasa.csv, identical file already exists in GCS.\n",
      "2024-12-19 18:04:13.249474 Skipping C:\\dev\\play\\brainwave-data\\2024-09-26-21-24-52\\raw.pre_filter_psd_plot.png, identical file already exists in GCS.\n",
      "2024-12-19 18:04:13.296292 Skipping C:\\dev\\play\\brainwave-data\\2024-09-26-21-24-52\\raw.sleep.json, identical file already exists in GCS.\n",
      "2024-12-19 18:04:13.346624 Skipping C:\\dev\\play\\brainwave-data\\2024-09-26-21-24-52\\raw.sleep_stages.csv, identical file already exists in GCS.\n",
      "2024-12-19 18:04:13.403729 Skipping C:\\dev\\play\\brainwave-data\\2024-09-26-21-24-52\\raw.sleep_stages.Fpz-M1.csv, identical file already exists in GCS.\n",
      "2024-12-19 18:04:13.457173 Skipping C:\\dev\\play\\brainwave-data\\2024-09-26-21-24-52\\raw.sleep_stages.Fpz.csv, identical file already exists in GCS.\n",
      "2024-12-19 18:04:13.517428 Skipping C:\\dev\\play\\brainwave-data\\2024-09-26-21-24-52\\raw.spectrogram.Fpz-M1.png, identical file already exists in GCS.\n",
      "2024-12-19 18:04:13.570663 Skipping C:\\dev\\play\\brainwave-data\\2024-09-26-21-24-52\\raw.spectrogram.Fpz.png, identical file already exists in GCS.\n",
      "2024-12-19 18:04:13.615749 Skipping C:\\dev\\play\\brainwave-data\\2024-09-26-21-24-52\\raw.sw_summary.csv, identical file already exists in GCS.\n",
      "2024-12-19 18:04:13.677126 Skipping C:\\dev\\play\\brainwave-data\\2024-09-26-21-24-52\\raw.with_features.csv, identical file already exists in GCS.\n",
      "2024-12-19 18:04:13.726207 Skipping C:\\dev\\play\\brainwave-data\\2024-09-26-21-24-52\\raw.yasa.csv, identical file already exists in GCS.\n"
     ]
    },
    {
     "name": "stderr",
     "output_type": "stream",
     "text": [
      " 44%|████▍     | 49/111 [03:34<04:37,  4.48s/it]"
     ]
    },
    {
     "name": "stdout",
     "output_type": "stream",
     "text": [
      "2024-12-19 18:04:13.822730 Uploaded directory checksum for C:\\dev\\play\\brainwave-data\\2024-09-26-21-24-52 to 2024-09-26-21-24-52/directory_checksum.md5\n",
      "2024-12-19 18:04:16.431038 Skipping C:\\dev\\play\\brainwave-data\\2024-09-28-21-33-28\\2024-09-28-21-33-28.brainflow.csv.bz2, identical file already exists in GCS.\n",
      "2024-12-19 18:04:16.480846 Skipping C:\\dev\\play\\brainwave-data\\2024-09-28-21-33-28\\raw.average_slow_wave.png, identical file already exists in GCS.\n",
      "2024-12-19 18:04:16.567146 Skipping C:\\dev\\play\\brainwave-data\\2024-09-28-21-33-28\\raw.edf, identical file already exists in GCS.\n",
      "2024-12-19 18:04:16.752626 Skipping C:\\dev\\play\\brainwave-data\\2024-09-28-21-33-28\\raw.fif, identical file already exists in GCS.\n",
      "2024-12-19 18:04:16.808168 Skipping C:\\dev\\play\\brainwave-data\\2024-09-28-21-33-28\\raw.final_wake_model.csv, identical file already exists in GCS.\n",
      "2024-12-19 18:04:16.871783 Skipping C:\\dev\\play\\brainwave-data\\2024-09-28-21-33-28\\raw.final_wake_model_post_human.csv, identical file already exists in GCS.\n",
      "2024-12-19 18:04:16.927912 C:\\dev\\play\\brainwave-data\\2024-09-28-21-33-28\\raw.final_wake_model_post_human.json uploading to 2024-09-28-21-33-28/raw.final_wake_model_post_human.json, does_not_exist=True has_changed=True\n",
      "2024-12-19 18:04:17.058829 Skipping C:\\dev\\play\\brainwave-data\\2024-09-28-21-33-28\\raw.microwakings.csv, identical file already exists in GCS.\n",
      "2024-12-19 18:04:17.118448 Skipping C:\\dev\\play\\brainwave-data\\2024-09-28-21-33-28\\raw.night_events.csv, identical file already exists in GCS.\n",
      "2024-12-19 18:04:17.197832 Skipping C:\\dev\\play\\brainwave-data\\2024-09-28-21-33-28\\raw.physical_features.csv, identical file already exists in GCS.\n",
      "2024-12-19 18:04:17.250825 Skipping C:\\dev\\play\\brainwave-data\\2024-09-28-21-33-28\\raw.post_filter_psd_plot.png, identical file already exists in GCS.\n",
      "2024-12-19 18:04:17.318910 Skipping C:\\dev\\play\\brainwave-data\\2024-09-28-21-33-28\\raw.post_human.csv, identical file already exists in GCS.\n",
      "2024-12-19 18:04:17.398725 Skipping C:\\dev\\play\\brainwave-data\\2024-09-28-21-33-28\\raw.post_yasa.csv, identical file already exists in GCS.\n",
      "2024-12-19 18:04:17.451168 Skipping C:\\dev\\play\\brainwave-data\\2024-09-28-21-33-28\\raw.pre_filter_psd_plot.png, identical file already exists in GCS.\n",
      "2024-12-19 18:04:17.511499 Skipping C:\\dev\\play\\brainwave-data\\2024-09-28-21-33-28\\raw.sleep.json, identical file already exists in GCS.\n",
      "2024-12-19 18:04:17.567226 Skipping C:\\dev\\play\\brainwave-data\\2024-09-28-21-33-28\\raw.sleep_stages.csv, identical file already exists in GCS.\n",
      "2024-12-19 18:04:17.609476 Skipping C:\\dev\\play\\brainwave-data\\2024-09-28-21-33-28\\raw.sleep_stages.Fpz-M1.csv, identical file already exists in GCS.\n",
      "2024-12-19 18:04:17.671114 Skipping C:\\dev\\play\\brainwave-data\\2024-09-28-21-33-28\\raw.sleep_stages.Fpz.csv, identical file already exists in GCS.\n",
      "2024-12-19 18:04:17.753016 Skipping C:\\dev\\play\\brainwave-data\\2024-09-28-21-33-28\\raw.spectrogram.Fpz-M1.png, identical file already exists in GCS.\n",
      "2024-12-19 18:04:17.804987 Skipping C:\\dev\\play\\brainwave-data\\2024-09-28-21-33-28\\raw.spectrogram.Fpz.png, identical file already exists in GCS.\n",
      "2024-12-19 18:04:17.857147 Skipping C:\\dev\\play\\brainwave-data\\2024-09-28-21-33-28\\raw.sw_summary.csv, identical file already exists in GCS.\n",
      "2024-12-19 18:04:17.966471 Skipping C:\\dev\\play\\brainwave-data\\2024-09-28-21-33-28\\raw.with_features.csv, identical file already exists in GCS.\n"
     ]
    },
    {
     "name": "stderr",
     "output_type": "stream",
     "text": [
      " 45%|████▌     | 50/111 [03:39<04:30,  4.44s/it]"
     ]
    },
    {
     "name": "stdout",
     "output_type": "stream",
     "text": [
      "2024-12-19 18:04:18.055981 Skipping C:\\dev\\play\\brainwave-data\\2024-09-28-21-33-28\\raw.yasa.csv, identical file already exists in GCS.\n",
      "2024-12-19 18:04:18.166848 Uploaded directory checksum for C:\\dev\\play\\brainwave-data\\2024-09-28-21-33-28 to 2024-09-28-21-33-28/directory_checksum.md5\n",
      "2024-12-19 18:04:20.998217 Skipping C:\\dev\\play\\brainwave-data\\2024-09-30-21-27-49\\2024-09-30-21-27-49.brainflow.csv.bz2, identical file already exists in GCS.\n",
      "2024-12-19 18:04:21.043489 Skipping C:\\dev\\play\\brainwave-data\\2024-09-30-21-27-49\\raw.average_slow_wave.png, identical file already exists in GCS.\n",
      "2024-12-19 18:04:21.171502 Skipping C:\\dev\\play\\brainwave-data\\2024-09-30-21-27-49\\raw.edf, identical file already exists in GCS.\n",
      "2024-12-19 18:04:21.294238 Skipping C:\\dev\\play\\brainwave-data\\2024-09-30-21-27-49\\raw.fif, identical file already exists in GCS.\n",
      "2024-12-19 18:04:21.351735 Skipping C:\\dev\\play\\brainwave-data\\2024-09-30-21-27-49\\raw.final_wake_model.csv, identical file already exists in GCS.\n",
      "2024-12-19 18:04:21.430754 Skipping C:\\dev\\play\\brainwave-data\\2024-09-30-21-27-49\\raw.final_wake_model_post_human.csv, identical file already exists in GCS.\n",
      "2024-12-19 18:04:21.486301 C:\\dev\\play\\brainwave-data\\2024-09-30-21-27-49\\raw.final_wake_model_post_human.json uploading to 2024-09-30-21-27-49/raw.final_wake_model_post_human.json, does_not_exist=True has_changed=True\n",
      "2024-12-19 18:04:21.655821 Skipping C:\\dev\\play\\brainwave-data\\2024-09-30-21-27-49\\raw.microwakings.csv, identical file already exists in GCS.\n",
      "2024-12-19 18:04:21.697499 Skipping C:\\dev\\play\\brainwave-data\\2024-09-30-21-27-49\\raw.night_events.csv, identical file already exists in GCS.\n",
      "2024-12-19 18:04:21.753707 Skipping C:\\dev\\play\\brainwave-data\\2024-09-30-21-27-49\\raw.physical_features.csv, identical file already exists in GCS.\n",
      "2024-12-19 18:04:21.822428 Skipping C:\\dev\\play\\brainwave-data\\2024-09-30-21-27-49\\raw.post_filter_psd_plot.png, identical file already exists in GCS.\n",
      "2024-12-19 18:04:21.907564 Skipping C:\\dev\\play\\brainwave-data\\2024-09-30-21-27-49\\raw.post_human.csv, identical file already exists in GCS.\n",
      "2024-12-19 18:04:21.964537 Skipping C:\\dev\\play\\brainwave-data\\2024-09-30-21-27-49\\raw.post_yasa.csv, identical file already exists in GCS.\n",
      "2024-12-19 18:04:22.025218 Skipping C:\\dev\\play\\brainwave-data\\2024-09-30-21-27-49\\raw.pre_filter_psd_plot.png, identical file already exists in GCS.\n",
      "2024-12-19 18:04:22.077359 Skipping C:\\dev\\play\\brainwave-data\\2024-09-30-21-27-49\\raw.scorings.json, identical file already exists in GCS.\n",
      "2024-12-19 18:04:22.129878 Skipping C:\\dev\\play\\brainwave-data\\2024-09-30-21-27-49\\raw.sleep.json, identical file already exists in GCS.\n",
      "2024-12-19 18:04:22.181352 Skipping C:\\dev\\play\\brainwave-data\\2024-09-30-21-27-49\\raw.sleep_stages.csv, identical file already exists in GCS.\n",
      "2024-12-19 18:04:22.226930 Skipping C:\\dev\\play\\brainwave-data\\2024-09-30-21-27-49\\raw.sleep_stages.Fpz-M1.csv, identical file already exists in GCS.\n",
      "2024-12-19 18:04:22.289345 Skipping C:\\dev\\play\\brainwave-data\\2024-09-30-21-27-49\\raw.sleep_stages.Fpz.csv, identical file already exists in GCS.\n",
      "2024-12-19 18:04:22.327583 Skipping C:\\dev\\play\\brainwave-data\\2024-09-30-21-27-49\\raw.spectrogram.Fpz-M1.png, identical file already exists in GCS.\n",
      "2024-12-19 18:04:22.416476 Skipping C:\\dev\\play\\brainwave-data\\2024-09-30-21-27-49\\raw.spectrogram.Fpz.png, identical file already exists in GCS.\n",
      "2024-12-19 18:04:22.489512 Skipping C:\\dev\\play\\brainwave-data\\2024-09-30-21-27-49\\raw.sw_summary.csv, identical file already exists in GCS.\n",
      "2024-12-19 18:04:22.589390 Skipping C:\\dev\\play\\brainwave-data\\2024-09-30-21-27-49\\raw.with_features.csv, identical file already exists in GCS.\n"
     ]
    },
    {
     "name": "stderr",
     "output_type": "stream",
     "text": [
      " 46%|████▌     | 51/111 [03:43<04:28,  4.48s/it]"
     ]
    },
    {
     "name": "stdout",
     "output_type": "stream",
     "text": [
      "2024-12-19 18:04:22.649761 Skipping C:\\dev\\play\\brainwave-data\\2024-09-30-21-27-49\\raw.yasa.csv, identical file already exists in GCS.\n",
      "2024-12-19 18:04:22.752991 Uploaded directory checksum for C:\\dev\\play\\brainwave-data\\2024-09-30-21-27-49 to 2024-09-30-21-27-49/directory_checksum.md5\n",
      "2024-12-19 18:04:25.542338 Skipping C:\\dev\\play\\brainwave-data\\2024-10-01-21-36-11\\2024-10-01-21-36-11.brainflow.csv.bz2, identical file already exists in GCS.\n",
      "2024-12-19 18:04:25.656595 Skipping C:\\dev\\play\\brainwave-data\\2024-10-01-21-36-11\\OBCI_1F.TXT.bz2, identical file already exists in GCS.\n",
      "2024-12-19 18:04:25.713474 Skipping C:\\dev\\play\\brainwave-data\\2024-10-01-21-36-11\\raw.average_slow_wave.png, identical file already exists in GCS.\n",
      "2024-12-19 18:04:25.866574 Skipping C:\\dev\\play\\brainwave-data\\2024-10-01-21-36-11\\raw.edf, identical file already exists in GCS.\n",
      "2024-12-19 18:04:25.993652 Skipping C:\\dev\\play\\brainwave-data\\2024-10-01-21-36-11\\raw.fif, identical file already exists in GCS.\n",
      "2024-12-19 18:04:26.062753 Skipping C:\\dev\\play\\brainwave-data\\2024-10-01-21-36-11\\raw.final_wake_model.csv, identical file already exists in GCS.\n",
      "2024-12-19 18:04:26.128378 Skipping C:\\dev\\play\\brainwave-data\\2024-10-01-21-36-11\\raw.final_wake_model_post_human.csv, identical file already exists in GCS.\n",
      "2024-12-19 18:04:26.179446 C:\\dev\\play\\brainwave-data\\2024-10-01-21-36-11\\raw.final_wake_model_post_human.json uploading to 2024-10-01-21-36-11/raw.final_wake_model_post_human.json, does_not_exist=True has_changed=True\n",
      "2024-12-19 18:04:26.369459 Skipping C:\\dev\\play\\brainwave-data\\2024-10-01-21-36-11\\raw.microwakings.csv, identical file already exists in GCS.\n",
      "2024-12-19 18:04:26.422797 Skipping C:\\dev\\play\\brainwave-data\\2024-10-01-21-36-11\\raw.night_events.csv, identical file already exists in GCS.\n",
      "2024-12-19 18:04:26.460760 Skipping C:\\dev\\play\\brainwave-data\\2024-10-01-21-36-11\\raw.physical_features.csv, identical file already exists in GCS.\n",
      "2024-12-19 18:04:26.522700 Skipping C:\\dev\\play\\brainwave-data\\2024-10-01-21-36-11\\raw.post_filter_psd_plot.png, identical file already exists in GCS.\n",
      "2024-12-19 18:04:26.610597 Skipping C:\\dev\\play\\brainwave-data\\2024-10-01-21-36-11\\raw.post_human.csv, identical file already exists in GCS.\n",
      "2024-12-19 18:04:26.668746 Skipping C:\\dev\\play\\brainwave-data\\2024-10-01-21-36-11\\raw.post_yasa.csv, identical file already exists in GCS.\n",
      "2024-12-19 18:04:26.715283 Skipping C:\\dev\\play\\brainwave-data\\2024-10-01-21-36-11\\raw.pre_filter_psd_plot.png, identical file already exists in GCS.\n",
      "2024-12-19 18:04:26.757192 Skipping C:\\dev\\play\\brainwave-data\\2024-10-01-21-36-11\\raw.sleep.json, identical file already exists in GCS.\n",
      "2024-12-19 18:04:26.798726 Skipping C:\\dev\\play\\brainwave-data\\2024-10-01-21-36-11\\raw.sleep_stages.csv, identical file already exists in GCS.\n",
      "2024-12-19 18:04:26.839468 Skipping C:\\dev\\play\\brainwave-data\\2024-10-01-21-36-11\\raw.sleep_stages.Fpz-M1.csv, identical file already exists in GCS.\n",
      "2024-12-19 18:04:26.885602 Skipping C:\\dev\\play\\brainwave-data\\2024-10-01-21-36-11\\raw.sleep_stages.Fpz.csv, identical file already exists in GCS.\n",
      "2024-12-19 18:04:26.954282 Skipping C:\\dev\\play\\brainwave-data\\2024-10-01-21-36-11\\raw.spectrogram.Fpz-M1.png, identical file already exists in GCS.\n",
      "2024-12-19 18:04:27.016526 Skipping C:\\dev\\play\\brainwave-data\\2024-10-01-21-36-11\\raw.spectrogram.Fpz.png, identical file already exists in GCS.\n",
      "2024-12-19 18:04:27.056704 Skipping C:\\dev\\play\\brainwave-data\\2024-10-01-21-36-11\\raw.sw_summary.csv, identical file already exists in GCS.\n",
      "2024-12-19 18:04:27.157334 Skipping C:\\dev\\play\\brainwave-data\\2024-10-01-21-36-11\\raw.with_features.csv, identical file already exists in GCS.\n",
      "2024-12-19 18:04:27.200097 Skipping C:\\dev\\play\\brainwave-data\\2024-10-01-21-36-11\\raw.yasa.csv, identical file already exists in GCS.\n"
     ]
    },
    {
     "name": "stderr",
     "output_type": "stream",
     "text": [
      " 47%|████▋     | 52/111 [03:48<04:25,  4.50s/it]"
     ]
    },
    {
     "name": "stdout",
     "output_type": "stream",
     "text": [
      "2024-12-19 18:04:27.290375 Uploaded directory checksum for C:\\dev\\play\\brainwave-data\\2024-10-01-21-36-11 to 2024-10-01-21-36-11/directory_checksum.md5\n"
     ]
    },
    {
     "name": "stderr",
     "output_type": "stream",
     "text": [
      " 48%|████▊     | 53/111 [03:50<03:42,  3.83s/it]"
     ]
    },
    {
     "name": "stdout",
     "output_type": "stream",
     "text": [
      "2024-12-19 18:04:29.570512 Skipping upload of C:\\dev\\play\\brainwave-data\\2024-10-02-21-20-34, identical directory already exists in GCS.\n",
      "2024-12-19 18:04:32.391966 Skipping C:\\dev\\play\\brainwave-data\\2024-10-02-21-21-15\\2024-10-02-21-21-15.brainflow.csv.bz2, identical file already exists in GCS.\n",
      "2024-12-19 18:04:32.438854 Skipping C:\\dev\\play\\brainwave-data\\2024-10-02-21-21-15\\raw.average_slow_wave.png, identical file already exists in GCS.\n",
      "2024-12-19 18:04:32.541047 Skipping C:\\dev\\play\\brainwave-data\\2024-10-02-21-21-15\\raw.edf, identical file already exists in GCS.\n",
      "2024-12-19 18:04:32.667103 Skipping C:\\dev\\play\\brainwave-data\\2024-10-02-21-21-15\\raw.fif, identical file already exists in GCS.\n",
      "2024-12-19 18:04:32.714441 Skipping C:\\dev\\play\\brainwave-data\\2024-10-02-21-21-15\\raw.final_wake_model.csv, identical file already exists in GCS.\n",
      "2024-12-19 18:04:32.761751 Skipping C:\\dev\\play\\brainwave-data\\2024-10-02-21-21-15\\raw.final_wake_model_post_human.csv, identical file already exists in GCS.\n",
      "2024-12-19 18:04:32.855949 C:\\dev\\play\\brainwave-data\\2024-10-02-21-21-15\\raw.final_wake_model_post_human.json uploading to 2024-10-02-21-21-15/raw.final_wake_model_post_human.json, does_not_exist=True has_changed=True\n",
      "2024-12-19 18:04:32.998054 Skipping C:\\dev\\play\\brainwave-data\\2024-10-02-21-21-15\\raw.microwakings.csv, identical file already exists in GCS.\n",
      "2024-12-19 18:04:33.047673 Skipping C:\\dev\\play\\brainwave-data\\2024-10-02-21-21-15\\raw.night_events.csv, identical file already exists in GCS.\n",
      "2024-12-19 18:04:33.110612 Skipping C:\\dev\\play\\brainwave-data\\2024-10-02-21-21-15\\raw.physical_features.csv, identical file already exists in GCS.\n",
      "2024-12-19 18:04:33.157928 Skipping C:\\dev\\play\\brainwave-data\\2024-10-02-21-21-15\\raw.post_filter_psd_plot.png, identical file already exists in GCS.\n",
      "2024-12-19 18:04:33.236498 Skipping C:\\dev\\play\\brainwave-data\\2024-10-02-21-21-15\\raw.post_human.csv, identical file already exists in GCS.\n",
      "2024-12-19 18:04:33.299869 Skipping C:\\dev\\play\\brainwave-data\\2024-10-02-21-21-15\\raw.post_yasa.csv, identical file already exists in GCS.\n",
      "2024-12-19 18:04:33.360357 Skipping C:\\dev\\play\\brainwave-data\\2024-10-02-21-21-15\\raw.pre_filter_psd_plot.png, identical file already exists in GCS.\n",
      "2024-12-19 18:04:33.396148 Skipping C:\\dev\\play\\brainwave-data\\2024-10-02-21-21-15\\raw.sleep.json, identical file already exists in GCS.\n",
      "2024-12-19 18:04:33.459280 Skipping C:\\dev\\play\\brainwave-data\\2024-10-02-21-21-15\\raw.sleep_stages.csv, identical file already exists in GCS.\n",
      "2024-12-19 18:04:33.525013 Skipping C:\\dev\\play\\brainwave-data\\2024-10-02-21-21-15\\raw.sleep_stages.Fpz-M1.csv, identical file already exists in GCS.\n",
      "2024-12-19 18:04:33.568542 Skipping C:\\dev\\play\\brainwave-data\\2024-10-02-21-21-15\\raw.sleep_stages.Fpz.csv, identical file already exists in GCS.\n",
      "2024-12-19 18:04:33.615451 Skipping C:\\dev\\play\\brainwave-data\\2024-10-02-21-21-15\\raw.spectrogram.Fpz-M1.png, identical file already exists in GCS.\n",
      "2024-12-19 18:04:33.681919 Skipping C:\\dev\\play\\brainwave-data\\2024-10-02-21-21-15\\raw.spectrogram.Fpz.png, identical file already exists in GCS.\n",
      "2024-12-19 18:04:33.805482 Skipping C:\\dev\\play\\brainwave-data\\2024-10-02-21-21-15\\raw.sw_summary.csv, identical file already exists in GCS.\n",
      "2024-12-19 18:04:33.868312 Skipping C:\\dev\\play\\brainwave-data\\2024-10-02-21-21-15\\raw.with_features.csv, identical file already exists in GCS.\n"
     ]
    },
    {
     "name": "stderr",
     "output_type": "stream",
     "text": [
      " 49%|████▊     | 54/111 [03:54<03:48,  4.02s/it]"
     ]
    },
    {
     "name": "stdout",
     "output_type": "stream",
     "text": [
      "2024-12-19 18:04:33.916009 Skipping C:\\dev\\play\\brainwave-data\\2024-10-02-21-21-15\\raw.yasa.csv, identical file already exists in GCS.\n",
      "2024-12-19 18:04:34.010694 Uploaded directory checksum for C:\\dev\\play\\brainwave-data\\2024-10-02-21-21-15 to 2024-10-02-21-21-15/directory_checksum.md5\n",
      "2024-12-19 18:04:36.805635 Skipping C:\\dev\\play\\brainwave-data\\2024-10-04-21-13-39\\2024-10-04-21-13-39.brainflow.csv.bz2, identical file already exists in GCS.\n",
      "2024-12-19 18:04:36.967307 Skipping C:\\dev\\play\\brainwave-data\\2024-10-04-21-13-39\\OBCI_22.TXT.bz2, identical file already exists in GCS.\n",
      "2024-12-19 18:04:37.030078 Skipping C:\\dev\\play\\brainwave-data\\2024-10-04-21-13-39\\raw.average_slow_wave.png, identical file already exists in GCS.\n",
      "2024-12-19 18:04:37.126189 Skipping C:\\dev\\play\\brainwave-data\\2024-10-04-21-13-39\\raw.edf, identical file already exists in GCS.\n",
      "2024-12-19 18:04:37.318519 Skipping C:\\dev\\play\\brainwave-data\\2024-10-04-21-13-39\\raw.fif, identical file already exists in GCS.\n",
      "2024-12-19 18:04:37.360707 Skipping C:\\dev\\play\\brainwave-data\\2024-10-04-21-13-39\\raw.final_wake_model.csv, identical file already exists in GCS.\n",
      "2024-12-19 18:04:37.407857 Skipping C:\\dev\\play\\brainwave-data\\2024-10-04-21-13-39\\raw.final_wake_model_post_human.csv, identical file already exists in GCS.\n",
      "2024-12-19 18:04:37.455703 C:\\dev\\play\\brainwave-data\\2024-10-04-21-13-39\\raw.final_wake_model_post_human.json uploading to 2024-10-04-21-13-39/raw.final_wake_model_post_human.json, does_not_exist=True has_changed=True\n",
      "2024-12-19 18:04:37.630636 Skipping C:\\dev\\play\\brainwave-data\\2024-10-04-21-13-39\\raw.microwakings.csv, identical file already exists in GCS.\n",
      "2024-12-19 18:04:37.694106 Skipping C:\\dev\\play\\brainwave-data\\2024-10-04-21-13-39\\raw.night_events.csv, identical file already exists in GCS.\n",
      "2024-12-19 18:04:37.746289 Skipping C:\\dev\\play\\brainwave-data\\2024-10-04-21-13-39\\raw.physical_features.csv, identical file already exists in GCS.\n",
      "2024-12-19 18:04:37.795643 Skipping C:\\dev\\play\\brainwave-data\\2024-10-04-21-13-39\\raw.post_filter_psd_plot.png, identical file already exists in GCS.\n",
      "2024-12-19 18:04:37.865068 Skipping C:\\dev\\play\\brainwave-data\\2024-10-04-21-13-39\\raw.post_human.csv, identical file already exists in GCS.\n",
      "2024-12-19 18:04:37.946280 Skipping C:\\dev\\play\\brainwave-data\\2024-10-04-21-13-39\\raw.post_yasa.csv, identical file already exists in GCS.\n",
      "2024-12-19 18:04:37.992266 Skipping C:\\dev\\play\\brainwave-data\\2024-10-04-21-13-39\\raw.pre_filter_psd_plot.png, identical file already exists in GCS.\n",
      "2024-12-19 18:04:38.056308 Skipping C:\\dev\\play\\brainwave-data\\2024-10-04-21-13-39\\raw.sleep.json, identical file already exists in GCS.\n",
      "2024-12-19 18:04:38.104955 Skipping C:\\dev\\play\\brainwave-data\\2024-10-04-21-13-39\\raw.sleep_stages.csv, identical file already exists in GCS.\n",
      "2024-12-19 18:04:38.151044 Skipping C:\\dev\\play\\brainwave-data\\2024-10-04-21-13-39\\raw.sleep_stages.Fpz-M1.csv, identical file already exists in GCS.\n",
      "2024-12-19 18:04:38.222707 Skipping C:\\dev\\play\\brainwave-data\\2024-10-04-21-13-39\\raw.sleep_stages.Fpz.csv, identical file already exists in GCS.\n",
      "2024-12-19 18:04:38.292728 Skipping C:\\dev\\play\\brainwave-data\\2024-10-04-21-13-39\\raw.spectrogram.Fpz-M1.png, identical file already exists in GCS.\n",
      "2024-12-19 18:04:38.359255 Skipping C:\\dev\\play\\brainwave-data\\2024-10-04-21-13-39\\raw.spectrogram.Fpz.png, identical file already exists in GCS.\n",
      "2024-12-19 18:04:38.411579 Skipping C:\\dev\\play\\brainwave-data\\2024-10-04-21-13-39\\raw.sw_summary.csv, identical file already exists in GCS.\n",
      "2024-12-19 18:04:38.506233 Skipping C:\\dev\\play\\brainwave-data\\2024-10-04-21-13-39\\raw.with_features.csv, identical file already exists in GCS.\n",
      "2024-12-19 18:04:38.547451 Skipping C:\\dev\\play\\brainwave-data\\2024-10-04-21-13-39\\raw.yasa.csv, identical file already exists in GCS.\n"
     ]
    },
    {
     "name": "stderr",
     "output_type": "stream",
     "text": [
      " 50%|████▉     | 55/111 [03:59<03:55,  4.20s/it]"
     ]
    },
    {
     "name": "stdout",
     "output_type": "stream",
     "text": [
      "2024-12-19 18:04:38.648922 Uploaded directory checksum for C:\\dev\\play\\brainwave-data\\2024-10-04-21-13-39 to 2024-10-04-21-13-39/directory_checksum.md5\n",
      "2024-12-19 18:04:41.551654 Skipping C:\\dev\\play\\brainwave-data\\2024-10-05-21-09-46\\2024-10-05-21-09-47.brainflow.csv.bz2, identical file already exists in GCS.\n",
      "2024-12-19 18:04:41.725025 Skipping C:\\dev\\play\\brainwave-data\\2024-10-05-21-09-46\\OBCI_23.TXT.bz2, identical file already exists in GCS.\n",
      "2024-12-19 18:04:41.772642 Skipping C:\\dev\\play\\brainwave-data\\2024-10-05-21-09-46\\raw.average_slow_wave.png, identical file already exists in GCS.\n",
      "2024-12-19 18:04:41.868798 Skipping C:\\dev\\play\\brainwave-data\\2024-10-05-21-09-46\\raw.edf, identical file already exists in GCS.\n",
      "2024-12-19 18:04:42.031577 Skipping C:\\dev\\play\\brainwave-data\\2024-10-05-21-09-46\\raw.fif, identical file already exists in GCS.\n",
      "2024-12-19 18:04:42.072129 Skipping C:\\dev\\play\\brainwave-data\\2024-10-05-21-09-46\\raw.final_wake_model.csv, identical file already exists in GCS.\n",
      "2024-12-19 18:04:42.118709 Skipping C:\\dev\\play\\brainwave-data\\2024-10-05-21-09-46\\raw.final_wake_model_post_human.csv, identical file already exists in GCS.\n",
      "2024-12-19 18:04:42.182825 C:\\dev\\play\\brainwave-data\\2024-10-05-21-09-46\\raw.final_wake_model_post_human.json uploading to 2024-10-05-21-09-46/raw.final_wake_model_post_human.json, does_not_exist=True has_changed=True\n",
      "2024-12-19 18:04:42.356424 Skipping C:\\dev\\play\\brainwave-data\\2024-10-05-21-09-46\\raw.microwakings.csv, identical file already exists in GCS.\n",
      "2024-12-19 18:04:42.419039 Skipping C:\\dev\\play\\brainwave-data\\2024-10-05-21-09-46\\raw.night_events.csv, identical file already exists in GCS.\n",
      "2024-12-19 18:04:42.466384 Skipping C:\\dev\\play\\brainwave-data\\2024-10-05-21-09-46\\raw.physical_features.csv, identical file already exists in GCS.\n",
      "2024-12-19 18:04:42.528907 Skipping C:\\dev\\play\\brainwave-data\\2024-10-05-21-09-46\\raw.post_filter_psd_plot.png, identical file already exists in GCS.\n",
      "2024-12-19 18:04:42.614824 Skipping C:\\dev\\play\\brainwave-data\\2024-10-05-21-09-46\\raw.post_human.csv, identical file already exists in GCS.\n",
      "2024-12-19 18:04:42.694727 Skipping C:\\dev\\play\\brainwave-data\\2024-10-05-21-09-46\\raw.post_yasa.csv, identical file already exists in GCS.\n",
      "2024-12-19 18:04:42.774313 Skipping C:\\dev\\play\\brainwave-data\\2024-10-05-21-09-46\\raw.pre_filter_psd_plot.png, identical file already exists in GCS.\n",
      "2024-12-19 18:04:42.851835 Skipping C:\\dev\\play\\brainwave-data\\2024-10-05-21-09-46\\raw.sleep.json, identical file already exists in GCS.\n",
      "2024-12-19 18:04:42.898192 Skipping C:\\dev\\play\\brainwave-data\\2024-10-05-21-09-46\\raw.sleep_stages.csv, identical file already exists in GCS.\n",
      "2024-12-19 18:04:42.953871 Skipping C:\\dev\\play\\brainwave-data\\2024-10-05-21-09-46\\raw.sleep_stages.Fpz-M1.csv, identical file already exists in GCS.\n",
      "2024-12-19 18:04:42.992581 Skipping C:\\dev\\play\\brainwave-data\\2024-10-05-21-09-46\\raw.sleep_stages.Fpz.csv, identical file already exists in GCS.\n",
      "2024-12-19 18:04:43.056963 Skipping C:\\dev\\play\\brainwave-data\\2024-10-05-21-09-46\\raw.spectrogram.Fpz-M1.png, identical file already exists in GCS.\n",
      "2024-12-19 18:04:43.119404 Skipping C:\\dev\\play\\brainwave-data\\2024-10-05-21-09-46\\raw.spectrogram.Fpz.png, identical file already exists in GCS.\n",
      "2024-12-19 18:04:43.166924 Skipping C:\\dev\\play\\brainwave-data\\2024-10-05-21-09-46\\raw.sw_summary.csv, identical file already exists in GCS.\n",
      "2024-12-19 18:04:43.254438 Skipping C:\\dev\\play\\brainwave-data\\2024-10-05-21-09-46\\raw.with_features.csv, identical file already exists in GCS.\n"
     ]
    },
    {
     "name": "stderr",
     "output_type": "stream",
     "text": [
      " 50%|█████     | 56/111 [04:04<03:59,  4.36s/it]"
     ]
    },
    {
     "name": "stdout",
     "output_type": "stream",
     "text": [
      "2024-12-19 18:04:43.292151 Skipping C:\\dev\\play\\brainwave-data\\2024-10-05-21-09-46\\raw.yasa.csv, identical file already exists in GCS.\n",
      "2024-12-19 18:04:43.389097 Uploaded directory checksum for C:\\dev\\play\\brainwave-data\\2024-10-05-21-09-46 to 2024-10-05-21-09-46/directory_checksum.md5\n",
      "2024-12-19 18:04:46.057161 Skipping C:\\dev\\play\\brainwave-data\\2024-10-06-21-29-18\\2024-10-06-21-29-18.brainflow.csv.bz2, identical file already exists in GCS.\n",
      "2024-12-19 18:04:46.132114 Skipping C:\\dev\\play\\brainwave-data\\2024-10-06-21-29-18\\raw.average_slow_wave.png, identical file already exists in GCS.\n",
      "2024-12-19 18:04:46.229564 Skipping C:\\dev\\play\\brainwave-data\\2024-10-06-21-29-18\\raw.edf, identical file already exists in GCS.\n",
      "2024-12-19 18:04:46.395732 Skipping C:\\dev\\play\\brainwave-data\\2024-10-06-21-29-18\\raw.fif, identical file already exists in GCS.\n",
      "2024-12-19 18:04:46.443589 Skipping C:\\dev\\play\\brainwave-data\\2024-10-06-21-29-18\\raw.final_wake_model.csv, identical file already exists in GCS.\n",
      "2024-12-19 18:04:46.507123 Skipping C:\\dev\\play\\brainwave-data\\2024-10-06-21-29-18\\raw.final_wake_model_post_human.csv, identical file already exists in GCS.\n",
      "2024-12-19 18:04:46.606547 C:\\dev\\play\\brainwave-data\\2024-10-06-21-29-18\\raw.final_wake_model_post_human.json uploading to 2024-10-06-21-29-18/raw.final_wake_model_post_human.json, does_not_exist=True has_changed=True\n",
      "2024-12-19 18:04:46.814971 Skipping C:\\dev\\play\\brainwave-data\\2024-10-06-21-29-18\\raw.microwakings.csv, identical file already exists in GCS.\n",
      "2024-12-19 18:04:46.892303 Skipping C:\\dev\\play\\brainwave-data\\2024-10-06-21-29-18\\raw.night_events.csv, identical file already exists in GCS.\n",
      "2024-12-19 18:04:46.958051 Skipping C:\\dev\\play\\brainwave-data\\2024-10-06-21-29-18\\raw.physical_features.csv, identical file already exists in GCS.\n",
      "2024-12-19 18:04:47.018857 Skipping C:\\dev\\play\\brainwave-data\\2024-10-06-21-29-18\\raw.post_filter_psd_plot.png, identical file already exists in GCS.\n",
      "2024-12-19 18:04:47.097841 Skipping C:\\dev\\play\\brainwave-data\\2024-10-06-21-29-18\\raw.post_human.csv, identical file already exists in GCS.\n",
      "2024-12-19 18:04:47.209177 Skipping C:\\dev\\play\\brainwave-data\\2024-10-06-21-29-18\\raw.post_yasa.csv, identical file already exists in GCS.\n",
      "2024-12-19 18:04:47.258716 Skipping C:\\dev\\play\\brainwave-data\\2024-10-06-21-29-18\\raw.pre_filter_psd_plot.png, identical file already exists in GCS.\n",
      "2024-12-19 18:04:47.312696 Skipping C:\\dev\\play\\brainwave-data\\2024-10-06-21-29-18\\raw.sleep.json, identical file already exists in GCS.\n",
      "2024-12-19 18:04:47.360930 Skipping C:\\dev\\play\\brainwave-data\\2024-10-06-21-29-18\\raw.sleep_stages.csv, identical file already exists in GCS.\n",
      "2024-12-19 18:04:47.440139 Skipping C:\\dev\\play\\brainwave-data\\2024-10-06-21-29-18\\raw.sleep_stages.Fpz-M1.csv, identical file already exists in GCS.\n",
      "2024-12-19 18:04:47.505540 Skipping C:\\dev\\play\\brainwave-data\\2024-10-06-21-29-18\\raw.spectrogram.Fpz-M1.png, identical file already exists in GCS.\n",
      "2024-12-19 18:04:47.600140 Skipping C:\\dev\\play\\brainwave-data\\2024-10-06-21-29-18\\raw.sw_summary.csv, identical file already exists in GCS.\n"
     ]
    },
    {
     "name": "stderr",
     "output_type": "stream",
     "text": [
      " 51%|█████▏    | 57/111 [04:08<03:57,  4.40s/it]"
     ]
    },
    {
     "name": "stdout",
     "output_type": "stream",
     "text": [
      "2024-12-19 18:04:47.709888 Skipping C:\\dev\\play\\brainwave-data\\2024-10-06-21-29-18\\raw.with_features.csv, identical file already exists in GCS.\n",
      "2024-12-19 18:04:47.773313 Skipping C:\\dev\\play\\brainwave-data\\2024-10-06-21-29-18\\raw.yasa.csv, identical file already exists in GCS.\n",
      "2024-12-19 18:04:47.889845 Uploaded directory checksum for C:\\dev\\play\\brainwave-data\\2024-10-06-21-29-18 to 2024-10-06-21-29-18/directory_checksum.md5\n",
      "2024-12-19 18:04:50.630822 Skipping C:\\dev\\play\\brainwave-data\\2024-10-07-21-35-17\\2024-10-07-21-35-18.brainflow.csv.bz2, identical file already exists in GCS.\n",
      "2024-12-19 18:04:50.711394 Skipping C:\\dev\\play\\brainwave-data\\2024-10-07-21-35-17\\raw.average_slow_wave.png, identical file already exists in GCS.\n",
      "2024-12-19 18:04:50.847043 Skipping C:\\dev\\play\\brainwave-data\\2024-10-07-21-35-17\\raw.edf, identical file already exists in GCS.\n",
      "2024-12-19 18:04:50.992084 Skipping C:\\dev\\play\\brainwave-data\\2024-10-07-21-35-17\\raw.fif, identical file already exists in GCS.\n",
      "2024-12-19 18:04:51.040759 Skipping C:\\dev\\play\\brainwave-data\\2024-10-07-21-35-17\\raw.final_wake_model.csv, identical file already exists in GCS.\n",
      "2024-12-19 18:04:51.095960 Skipping C:\\dev\\play\\brainwave-data\\2024-10-07-21-35-17\\raw.final_wake_model_post_human.csv, identical file already exists in GCS.\n",
      "2024-12-19 18:04:51.175688 C:\\dev\\play\\brainwave-data\\2024-10-07-21-35-17\\raw.final_wake_model_post_human.json uploading to 2024-10-07-21-35-17/raw.final_wake_model_post_human.json, does_not_exist=True has_changed=True\n",
      "2024-12-19 18:04:51.356484 Skipping C:\\dev\\play\\brainwave-data\\2024-10-07-21-35-17\\raw.microwakings.csv, identical file already exists in GCS.\n",
      "2024-12-19 18:04:51.404970 Skipping C:\\dev\\play\\brainwave-data\\2024-10-07-21-35-17\\raw.night_events.csv, identical file already exists in GCS.\n",
      "2024-12-19 18:04:51.471602 Skipping C:\\dev\\play\\brainwave-data\\2024-10-07-21-35-17\\raw.physical_features.csv, identical file already exists in GCS.\n",
      "2024-12-19 18:04:51.518280 Skipping C:\\dev\\play\\brainwave-data\\2024-10-07-21-35-17\\raw.post_filter_psd_plot.png, identical file already exists in GCS.\n",
      "2024-12-19 18:04:51.590258 Skipping C:\\dev\\play\\brainwave-data\\2024-10-07-21-35-17\\raw.post_human.csv, identical file already exists in GCS.\n",
      "2024-12-19 18:04:51.668494 Skipping C:\\dev\\play\\brainwave-data\\2024-10-07-21-35-17\\raw.post_yasa.csv, identical file already exists in GCS.\n",
      "2024-12-19 18:04:51.716177 Skipping C:\\dev\\play\\brainwave-data\\2024-10-07-21-35-17\\raw.pre_filter_psd_plot.png, identical file already exists in GCS.\n",
      "2024-12-19 18:04:51.798729 Skipping C:\\dev\\play\\brainwave-data\\2024-10-07-21-35-17\\raw.sleep.json, identical file already exists in GCS.\n",
      "2024-12-19 18:04:51.876838 Skipping C:\\dev\\play\\brainwave-data\\2024-10-07-21-35-17\\raw.sleep_stages.csv, identical file already exists in GCS.\n",
      "2024-12-19 18:04:51.940445 Skipping C:\\dev\\play\\brainwave-data\\2024-10-07-21-35-17\\raw.sleep_stages.Fpz-M1.csv, identical file already exists in GCS.\n",
      "2024-12-19 18:04:51.999579 Skipping C:\\dev\\play\\brainwave-data\\2024-10-07-21-35-17\\raw.spectrogram.Fpz-M1.png, identical file already exists in GCS.\n",
      "2024-12-19 18:04:52.064833 Skipping C:\\dev\\play\\brainwave-data\\2024-10-07-21-35-17\\raw.sw_summary.csv, identical file already exists in GCS.\n",
      "2024-12-19 18:04:52.140033 Skipping C:\\dev\\play\\brainwave-data\\2024-10-07-21-35-17\\raw.with_features.csv, identical file already exists in GCS.\n",
      "2024-12-19 18:04:52.223749 Skipping C:\\dev\\play\\brainwave-data\\2024-10-07-21-35-17\\raw.yasa.csv, identical file already exists in GCS.\n"
     ]
    },
    {
     "name": "stderr",
     "output_type": "stream",
     "text": [
      " 52%|█████▏    | 58/111 [04:13<03:54,  4.42s/it]"
     ]
    },
    {
     "name": "stdout",
     "output_type": "stream",
     "text": [
      "2024-12-19 18:04:52.356119 Uploaded directory checksum for C:\\dev\\play\\brainwave-data\\2024-10-07-21-35-17 to 2024-10-07-21-35-17/directory_checksum.md5\n",
      "2024-12-19 18:04:55.420284 Skipping C:\\dev\\play\\brainwave-data\\2024-10-08-21-21-34\\2024-10-08-21-21-34.brainflow.csv.bz2, identical file already exists in GCS.\n",
      "2024-12-19 18:04:55.491231 Skipping C:\\dev\\play\\brainwave-data\\2024-10-08-21-21-34\\raw.average_slow_wave.png, identical file already exists in GCS.\n",
      "2024-12-19 18:04:55.624856 Skipping C:\\dev\\play\\brainwave-data\\2024-10-08-21-21-34\\raw.edf, identical file already exists in GCS.\n",
      "2024-12-19 18:04:55.835867 Skipping C:\\dev\\play\\brainwave-data\\2024-10-08-21-21-34\\raw.fif, identical file already exists in GCS.\n",
      "2024-12-19 18:04:55.906007 Skipping C:\\dev\\play\\brainwave-data\\2024-10-08-21-21-34\\raw.final_wake_model.csv, identical file already exists in GCS.\n",
      "2024-12-19 18:04:55.976446 Skipping C:\\dev\\play\\brainwave-data\\2024-10-08-21-21-34\\raw.final_wake_model_post_human.csv, identical file already exists in GCS.\n",
      "2024-12-19 18:04:56.047427 C:\\dev\\play\\brainwave-data\\2024-10-08-21-21-34\\raw.final_wake_model_post_human.json uploading to 2024-10-08-21-21-34/raw.final_wake_model_post_human.json, does_not_exist=True has_changed=True\n",
      "2024-12-19 18:04:56.222962 Skipping C:\\dev\\play\\brainwave-data\\2024-10-08-21-21-34\\raw.microwakings.csv, identical file already exists in GCS.\n",
      "2024-12-19 18:04:56.303858 Skipping C:\\dev\\play\\brainwave-data\\2024-10-08-21-21-34\\raw.night_events.csv, identical file already exists in GCS.\n",
      "2024-12-19 18:04:56.365664 Skipping C:\\dev\\play\\brainwave-data\\2024-10-08-21-21-34\\raw.physical_features.csv, identical file already exists in GCS.\n",
      "2024-12-19 18:04:56.426785 Skipping C:\\dev\\play\\brainwave-data\\2024-10-08-21-21-34\\raw.post_filter_psd_plot.png, identical file already exists in GCS.\n",
      "2024-12-19 18:04:56.502672 Skipping C:\\dev\\play\\brainwave-data\\2024-10-08-21-21-34\\raw.post_human.csv, identical file already exists in GCS.\n",
      "2024-12-19 18:04:56.588500 Skipping C:\\dev\\play\\brainwave-data\\2024-10-08-21-21-34\\raw.post_yasa.csv, identical file already exists in GCS.\n",
      "2024-12-19 18:04:56.630738 Skipping C:\\dev\\play\\brainwave-data\\2024-10-08-21-21-34\\raw.pre_filter_psd_plot.png, identical file already exists in GCS.\n",
      "2024-12-19 18:04:56.698376 Skipping C:\\dev\\play\\brainwave-data\\2024-10-08-21-21-34\\raw.sleep.json, identical file already exists in GCS.\n",
      "2024-12-19 18:04:56.746351 Skipping C:\\dev\\play\\brainwave-data\\2024-10-08-21-21-34\\raw.sleep_stages.csv, identical file already exists in GCS.\n",
      "2024-12-19 18:04:56.803014 Skipping C:\\dev\\play\\brainwave-data\\2024-10-08-21-21-34\\raw.sleep_stages.Fpz-M1.csv, identical file already exists in GCS.\n",
      "2024-12-19 18:04:56.881654 Skipping C:\\dev\\play\\brainwave-data\\2024-10-08-21-21-34\\raw.spectrogram.Fpz-M1.png, identical file already exists in GCS.\n",
      "2024-12-19 18:04:56.945832 Skipping C:\\dev\\play\\brainwave-data\\2024-10-08-21-21-34\\raw.sw_summary.csv, identical file already exists in GCS.\n"
     ]
    },
    {
     "name": "stderr",
     "output_type": "stream",
     "text": [
      " 53%|█████▎    | 59/111 [04:18<03:56,  4.54s/it]"
     ]
    },
    {
     "name": "stdout",
     "output_type": "stream",
     "text": [
      "2024-12-19 18:04:57.007626 Skipping C:\\dev\\play\\brainwave-data\\2024-10-08-21-21-34\\raw.with_features.csv, identical file already exists in GCS.\n",
      "2024-12-19 18:04:57.059389 Skipping C:\\dev\\play\\brainwave-data\\2024-10-08-21-21-34\\raw.yasa.csv, identical file already exists in GCS.\n",
      "2024-12-19 18:04:57.182990 Uploaded directory checksum for C:\\dev\\play\\brainwave-data\\2024-10-08-21-21-34 to 2024-10-08-21-21-34/directory_checksum.md5\n",
      "2024-12-19 18:04:59.973994 Skipping C:\\dev\\play\\brainwave-data\\2024-10-09-21-22-04\\2024-10-09-21-22-04.brainflow.csv.bz2, identical file already exists in GCS.\n",
      "2024-12-19 18:05:00.049095 Skipping C:\\dev\\play\\brainwave-data\\2024-10-09-21-22-04\\raw.average_slow_wave.png, identical file already exists in GCS.\n",
      "2024-12-19 18:05:00.174958 Skipping C:\\dev\\play\\brainwave-data\\2024-10-09-21-22-04\\raw.edf, identical file already exists in GCS.\n",
      "2024-12-19 18:05:00.353342 Skipping C:\\dev\\play\\brainwave-data\\2024-10-09-21-22-04\\raw.fif, identical file already exists in GCS.\n",
      "2024-12-19 18:05:00.412839 Skipping C:\\dev\\play\\brainwave-data\\2024-10-09-21-22-04\\raw.final_wake_model.csv, identical file already exists in GCS.\n",
      "2024-12-19 18:05:00.485111 Skipping C:\\dev\\play\\brainwave-data\\2024-10-09-21-22-04\\raw.final_wake_model_post_human.csv, identical file already exists in GCS.\n",
      "2024-12-19 18:05:00.543427 C:\\dev\\play\\brainwave-data\\2024-10-09-21-22-04\\raw.final_wake_model_post_human.json uploading to 2024-10-09-21-22-04/raw.final_wake_model_post_human.json, does_not_exist=True has_changed=True\n",
      "2024-12-19 18:05:00.694376 Skipping C:\\dev\\play\\brainwave-data\\2024-10-09-21-22-04\\raw.microwakings.csv, identical file already exists in GCS.\n",
      "2024-12-19 18:05:00.761261 Skipping C:\\dev\\play\\brainwave-data\\2024-10-09-21-22-04\\raw.night_events.csv, identical file already exists in GCS.\n",
      "2024-12-19 18:05:00.811888 Skipping C:\\dev\\play\\brainwave-data\\2024-10-09-21-22-04\\raw.physical_features.csv, identical file already exists in GCS.\n",
      "2024-12-19 18:05:00.860062 Skipping C:\\dev\\play\\brainwave-data\\2024-10-09-21-22-04\\raw.post_filter_psd_plot.png, identical file already exists in GCS.\n",
      "2024-12-19 18:05:00.911096 Skipping C:\\dev\\play\\brainwave-data\\2024-10-09-21-22-04\\raw.post_human.csv, identical file already exists in GCS.\n",
      "2024-12-19 18:05:00.979372 Skipping C:\\dev\\play\\brainwave-data\\2024-10-09-21-22-04\\raw.post_yasa.csv, identical file already exists in GCS.\n",
      "2024-12-19 18:05:01.026464 Skipping C:\\dev\\play\\brainwave-data\\2024-10-09-21-22-04\\raw.pre_filter_psd_plot.png, identical file already exists in GCS.\n",
      "2024-12-19 18:05:01.064371 Skipping C:\\dev\\play\\brainwave-data\\2024-10-09-21-22-04\\raw.sleep.json, identical file already exists in GCS.\n",
      "2024-12-19 18:05:01.115169 Skipping C:\\dev\\play\\brainwave-data\\2024-10-09-21-22-04\\raw.sleep_stages.csv, identical file already exists in GCS.\n",
      "2024-12-19 18:05:01.170736 Skipping C:\\dev\\play\\brainwave-data\\2024-10-09-21-22-04\\raw.sleep_stages.Fpz-M1.csv, identical file already exists in GCS.\n",
      "2024-12-19 18:05:01.234967 Skipping C:\\dev\\play\\brainwave-data\\2024-10-09-21-22-04\\raw.spectrogram.Fpz-M1.png, identical file already exists in GCS.\n",
      "2024-12-19 18:05:01.371390 Skipping C:\\dev\\play\\brainwave-data\\2024-10-09-21-22-04\\raw.sw_summary.csv, identical file already exists in GCS.\n"
     ]
    },
    {
     "name": "stderr",
     "output_type": "stream",
     "text": [
      " 54%|█████▍    | 60/111 [04:22<03:49,  4.51s/it]"
     ]
    },
    {
     "name": "stdout",
     "output_type": "stream",
     "text": [
      "2024-12-19 18:05:01.440144 Skipping C:\\dev\\play\\brainwave-data\\2024-10-09-21-22-04\\raw.with_features.csv, identical file already exists in GCS.\n",
      "2024-12-19 18:05:01.497803 Skipping C:\\dev\\play\\brainwave-data\\2024-10-09-21-22-04\\raw.yasa.csv, identical file already exists in GCS.\n",
      "2024-12-19 18:05:01.606689 Uploaded directory checksum for C:\\dev\\play\\brainwave-data\\2024-10-09-21-22-04 to 2024-10-09-21-22-04/directory_checksum.md5\n",
      "2024-12-19 18:05:04.433120 Skipping C:\\dev\\play\\brainwave-data\\2024-10-11-21-16-27\\2024-10-11-21-16-27.brainflow.csv.bz2, identical file already exists in GCS.\n",
      "2024-12-19 18:05:04.480629 Skipping C:\\dev\\play\\brainwave-data\\2024-10-11-21-16-27\\raw.average_slow_wave.png, identical file already exists in GCS.\n",
      "2024-12-19 18:05:04.606040 Skipping C:\\dev\\play\\brainwave-data\\2024-10-11-21-16-27\\raw.edf, identical file already exists in GCS.\n",
      "2024-12-19 18:05:04.802266 Skipping C:\\dev\\play\\brainwave-data\\2024-10-11-21-16-27\\raw.fif, identical file already exists in GCS.\n",
      "2024-12-19 18:05:04.848703 Skipping C:\\dev\\play\\brainwave-data\\2024-10-11-21-16-27\\raw.final_wake_model.csv, identical file already exists in GCS.\n",
      "2024-12-19 18:05:04.897813 Skipping C:\\dev\\play\\brainwave-data\\2024-10-11-21-16-27\\raw.final_wake_model_post_human.csv, identical file already exists in GCS.\n",
      "2024-12-19 18:05:04.961011 C:\\dev\\play\\brainwave-data\\2024-10-11-21-16-27\\raw.final_wake_model_post_human.json uploading to 2024-10-11-21-16-27/raw.final_wake_model_post_human.json, does_not_exist=True has_changed=True\n",
      "2024-12-19 18:05:05.109016 Skipping C:\\dev\\play\\brainwave-data\\2024-10-11-21-16-27\\raw.microwakings.csv, identical file already exists in GCS.\n",
      "2024-12-19 18:05:05.166724 Skipping C:\\dev\\play\\brainwave-data\\2024-10-11-21-16-27\\raw.night_events.csv, identical file already exists in GCS.\n",
      "2024-12-19 18:05:05.214967 Skipping C:\\dev\\play\\brainwave-data\\2024-10-11-21-16-27\\raw.physical_features.csv, identical file already exists in GCS.\n",
      "2024-12-19 18:05:05.276752 Skipping C:\\dev\\play\\brainwave-data\\2024-10-11-21-16-27\\raw.post_filter_psd_plot.png, identical file already exists in GCS.\n",
      "2024-12-19 18:05:05.339299 Skipping C:\\dev\\play\\brainwave-data\\2024-10-11-21-16-27\\raw.post_human.csv, identical file already exists in GCS.\n",
      "2024-12-19 18:05:05.420938 Skipping C:\\dev\\play\\brainwave-data\\2024-10-11-21-16-27\\raw.post_yasa.csv, identical file already exists in GCS.\n",
      "2024-12-19 18:05:05.476741 Skipping C:\\dev\\play\\brainwave-data\\2024-10-11-21-16-27\\raw.pre_filter_psd_plot.png, identical file already exists in GCS.\n",
      "2024-12-19 18:05:05.517402 Skipping C:\\dev\\play\\brainwave-data\\2024-10-11-21-16-27\\raw.sleep.json, identical file already exists in GCS.\n",
      "2024-12-19 18:05:05.580029 Skipping C:\\dev\\play\\brainwave-data\\2024-10-11-21-16-27\\raw.sleep_stages.csv, identical file already exists in GCS.\n",
      "2024-12-19 18:05:05.630916 Skipping C:\\dev\\play\\brainwave-data\\2024-10-11-21-16-27\\raw.sleep_stages.Fpz-M1.csv, identical file already exists in GCS.\n",
      "2024-12-19 18:05:05.706537 Skipping C:\\dev\\play\\brainwave-data\\2024-10-11-21-16-27\\raw.spectrogram.Fpz-M1.png, identical file already exists in GCS.\n",
      "2024-12-19 18:05:05.753397 Skipping C:\\dev\\play\\brainwave-data\\2024-10-11-21-16-27\\raw.sw_summary.csv, identical file already exists in GCS.\n",
      "2024-12-19 18:05:05.840587 Skipping C:\\dev\\play\\brainwave-data\\2024-10-11-21-16-27\\raw.with_features.csv, identical file already exists in GCS.\n",
      "2024-12-19 18:05:05.907817 Skipping C:\\dev\\play\\brainwave-data\\2024-10-11-21-16-27\\raw.yasa.csv, identical file already exists in GCS.\n"
     ]
    },
    {
     "name": "stderr",
     "output_type": "stream",
     "text": [
      " 55%|█████▍    | 61/111 [04:27<03:46,  4.54s/it]"
     ]
    },
    {
     "name": "stdout",
     "output_type": "stream",
     "text": [
      "2024-12-19 18:05:06.209930 Uploaded directory checksum for C:\\dev\\play\\brainwave-data\\2024-10-11-21-16-27 to 2024-10-11-21-16-27/directory_checksum.md5\n",
      "2024-12-19 18:05:08.931756 Skipping C:\\dev\\play\\brainwave-data\\2024-10-15-22-01-52\\2024-10-15-22-01-52.brainflow.csv.bz2, identical file already exists in GCS.\n",
      "2024-12-19 18:05:08.984348 Skipping C:\\dev\\play\\brainwave-data\\2024-10-15-22-01-52\\raw.average_slow_wave.png, identical file already exists in GCS.\n",
      "2024-12-19 18:05:09.064105 Skipping C:\\dev\\play\\brainwave-data\\2024-10-15-22-01-52\\raw.edf, identical file already exists in GCS.\n",
      "2024-12-19 18:05:09.201764 Skipping C:\\dev\\play\\brainwave-data\\2024-10-15-22-01-52\\raw.fif, identical file already exists in GCS.\n",
      "2024-12-19 18:05:09.289937 Skipping C:\\dev\\play\\brainwave-data\\2024-10-15-22-01-52\\raw.final_wake_model.csv, identical file already exists in GCS.\n",
      "2024-12-19 18:05:09.346546 Skipping C:\\dev\\play\\brainwave-data\\2024-10-15-22-01-52\\raw.final_wake_model_post_human.csv, identical file already exists in GCS.\n",
      "2024-12-19 18:05:09.414573 C:\\dev\\play\\brainwave-data\\2024-10-15-22-01-52\\raw.final_wake_model_post_human.json uploading to 2024-10-15-22-01-52/raw.final_wake_model_post_human.json, does_not_exist=True has_changed=True\n",
      "2024-12-19 18:05:09.576763 Skipping C:\\dev\\play\\brainwave-data\\2024-10-15-22-01-52\\raw.microwakings.csv, identical file already exists in GCS.\n",
      "2024-12-19 18:05:09.633078 Skipping C:\\dev\\play\\brainwave-data\\2024-10-15-22-01-52\\raw.night_events.csv, identical file already exists in GCS.\n",
      "2024-12-19 18:05:09.677710 Skipping C:\\dev\\play\\brainwave-data\\2024-10-15-22-01-52\\raw.physical_features.csv, identical file already exists in GCS.\n",
      "2024-12-19 18:05:09.739968 Skipping C:\\dev\\play\\brainwave-data\\2024-10-15-22-01-52\\raw.post_filter_psd_plot.png, identical file already exists in GCS.\n",
      "2024-12-19 18:05:09.819719 Skipping C:\\dev\\play\\brainwave-data\\2024-10-15-22-01-52\\raw.post_human.csv, identical file already exists in GCS.\n",
      "2024-12-19 18:05:09.899425 Skipping C:\\dev\\play\\brainwave-data\\2024-10-15-22-01-52\\raw.post_yasa.csv, identical file already exists in GCS.\n",
      "2024-12-19 18:05:09.936743 Skipping C:\\dev\\play\\brainwave-data\\2024-10-15-22-01-52\\raw.pre_filter_psd_plot.png, identical file already exists in GCS.\n",
      "2024-12-19 18:05:09.987169 Skipping C:\\dev\\play\\brainwave-data\\2024-10-15-22-01-52\\raw.sleep.json, identical file already exists in GCS.\n",
      "2024-12-19 18:05:10.031433 Skipping C:\\dev\\play\\brainwave-data\\2024-10-15-22-01-52\\raw.sleep_stages.csv, identical file already exists in GCS.\n",
      "2024-12-19 18:05:10.087361 Skipping C:\\dev\\play\\brainwave-data\\2024-10-15-22-01-52\\raw.sleep_stages.Fpz-M1.csv, identical file already exists in GCS.\n",
      "2024-12-19 18:05:10.156110 Skipping C:\\dev\\play\\brainwave-data\\2024-10-15-22-01-52\\raw.spectrogram.Fpz-M1.png, identical file already exists in GCS.\n",
      "2024-12-19 18:05:10.236856 Skipping C:\\dev\\play\\brainwave-data\\2024-10-15-22-01-52\\raw.sw_summary.csv, identical file already exists in GCS.\n"
     ]
    },
    {
     "name": "stderr",
     "output_type": "stream",
     "text": [
      " 56%|█████▌    | 62/111 [04:31<03:37,  4.45s/it]"
     ]
    },
    {
     "name": "stdout",
     "output_type": "stream",
     "text": [
      "2024-12-19 18:05:10.315626 Skipping C:\\dev\\play\\brainwave-data\\2024-10-15-22-01-52\\raw.with_features.csv, identical file already exists in GCS.\n",
      "2024-12-19 18:05:10.363816 Skipping C:\\dev\\play\\brainwave-data\\2024-10-15-22-01-52\\raw.yasa.csv, identical file already exists in GCS.\n",
      "2024-12-19 18:05:10.450905 Uploaded directory checksum for C:\\dev\\play\\brainwave-data\\2024-10-15-22-01-52 to 2024-10-15-22-01-52/directory_checksum.md5\n",
      "2024-12-19 18:05:12.478195 Skipping C:\\dev\\play\\brainwave-data\\2024-10-20-20-09-48\\2024-10-20-20-09-48.brainflow.csv.bz2, identical file already exists in GCS.\n",
      "2024-12-19 18:05:12.525530 Skipping C:\\dev\\play\\brainwave-data\\2024-10-20-20-09-48\\raw.edf, identical file already exists in GCS.\n",
      "2024-12-19 18:05:12.589502 Skipping C:\\dev\\play\\brainwave-data\\2024-10-20-20-09-48\\raw.fif, identical file already exists in GCS.\n",
      "2024-12-19 18:05:12.643212 Skipping C:\\dev\\play\\brainwave-data\\2024-10-20-20-09-48\\raw.final_wake_model.csv, identical file already exists in GCS.\n",
      "2024-12-19 18:05:12.690613 Skipping C:\\dev\\play\\brainwave-data\\2024-10-20-20-09-48\\raw.final_wake_model_post_human.csv, identical file already exists in GCS.\n",
      "2024-12-19 18:05:12.736157 C:\\dev\\play\\brainwave-data\\2024-10-20-20-09-48\\raw.final_wake_model_post_human.json uploading to 2024-10-20-20-09-48/raw.final_wake_model_post_human.json, does_not_exist=True has_changed=True\n",
      "2024-12-19 18:05:12.903400 Skipping C:\\dev\\play\\brainwave-data\\2024-10-20-20-09-48\\raw.microwakings.csv, identical file already exists in GCS.\n",
      "2024-12-19 18:05:12.934085 Skipping C:\\dev\\play\\brainwave-data\\2024-10-20-20-09-48\\raw.night_events.csv, identical file already exists in GCS.\n",
      "2024-12-19 18:05:12.997973 Skipping C:\\dev\\play\\brainwave-data\\2024-10-20-20-09-48\\raw.physical_features.csv, identical file already exists in GCS.\n",
      "2024-12-19 18:05:13.060908 Skipping C:\\dev\\play\\brainwave-data\\2024-10-20-20-09-48\\raw.post_filter_psd_plot.png, identical file already exists in GCS.\n",
      "2024-12-19 18:05:13.116236 Skipping C:\\dev\\play\\brainwave-data\\2024-10-20-20-09-48\\raw.post_human.csv, identical file already exists in GCS.\n",
      "2024-12-19 18:05:13.165574 Skipping C:\\dev\\play\\brainwave-data\\2024-10-20-20-09-48\\raw.post_yasa.csv, identical file already exists in GCS.\n",
      "2024-12-19 18:05:13.197327 Skipping C:\\dev\\play\\brainwave-data\\2024-10-20-20-09-48\\raw.pre_filter_psd_plot.png, identical file already exists in GCS.\n",
      "2024-12-19 18:05:13.258113 Skipping C:\\dev\\play\\brainwave-data\\2024-10-20-20-09-48\\raw.sleep.json, identical file already exists in GCS.\n",
      "2024-12-19 18:05:13.307866 Skipping C:\\dev\\play\\brainwave-data\\2024-10-20-20-09-48\\raw.sleep_stages.csv, identical file already exists in GCS.\n",
      "2024-12-19 18:05:13.354756 Skipping C:\\dev\\play\\brainwave-data\\2024-10-20-20-09-48\\raw.sleep_stages.Fpz-M1.csv, identical file already exists in GCS.\n",
      "2024-12-19 18:05:13.402797 Skipping C:\\dev\\play\\brainwave-data\\2024-10-20-20-09-48\\raw.spectrogram.Fpz-M1.png, identical file already exists in GCS.\n",
      "2024-12-19 18:05:13.451693 Skipping C:\\dev\\play\\brainwave-data\\2024-10-20-20-09-48\\raw.with_features.csv, identical file already exists in GCS.\n",
      "2024-12-19 18:05:13.537051 Skipping C:\\dev\\play\\brainwave-data\\2024-10-20-20-09-48\\raw.yasa.csv, identical file already exists in GCS.\n"
     ]
    },
    {
     "name": "stderr",
     "output_type": "stream",
     "text": [
      " 57%|█████▋    | 63/111 [04:34<03:15,  4.07s/it]"
     ]
    },
    {
     "name": "stdout",
     "output_type": "stream",
     "text": [
      "2024-12-19 18:05:13.622771 Uploaded directory checksum for C:\\dev\\play\\brainwave-data\\2024-10-20-20-09-48 to 2024-10-20-20-09-48/directory_checksum.md5\n",
      "2024-12-19 18:05:16.567929 Skipping C:\\dev\\play\\brainwave-data\\2024-10-21-21-30-18\\2024-10-21-21-30-19.brainflow.csv.bz2, identical file already exists in GCS.\n",
      "2024-12-19 18:05:16.760764 Skipping C:\\dev\\play\\brainwave-data\\2024-10-21-21-30-18\\OBCI_F7.TXT.bz2, identical file already exists in GCS.\n",
      "2024-12-19 18:05:16.861361 Skipping C:\\dev\\play\\brainwave-data\\2024-10-21-21-30-18\\raw.edf, identical file already exists in GCS.\n",
      "2024-12-19 18:05:16.999810 Skipping C:\\dev\\play\\brainwave-data\\2024-10-21-21-30-18\\raw.fif, identical file already exists in GCS.\n",
      "2024-12-19 18:05:17.082312 Skipping C:\\dev\\play\\brainwave-data\\2024-10-21-21-30-18\\raw.final_wake_model.csv, identical file already exists in GCS.\n",
      "2024-12-19 18:05:17.144406 Skipping C:\\dev\\play\\brainwave-data\\2024-10-21-21-30-18\\raw.final_wake_model_post_human.csv, identical file already exists in GCS.\n",
      "2024-12-19 18:05:17.214272 C:\\dev\\play\\brainwave-data\\2024-10-21-21-30-18\\raw.final_wake_model_post_human.json uploading to 2024-10-21-21-30-18/raw.final_wake_model_post_human.json, does_not_exist=True has_changed=True\n",
      "2024-12-19 18:05:17.389224 Skipping C:\\dev\\play\\brainwave-data\\2024-10-21-21-30-18\\raw.microwakings.csv, identical file already exists in GCS.\n",
      "2024-12-19 18:05:17.440262 Skipping C:\\dev\\play\\brainwave-data\\2024-10-21-21-30-18\\raw.night_events.csv, identical file already exists in GCS.\n",
      "2024-12-19 18:05:17.485467 Skipping C:\\dev\\play\\brainwave-data\\2024-10-21-21-30-18\\raw.physical_features.csv, identical file already exists in GCS.\n",
      "2024-12-19 18:05:17.536463 Skipping C:\\dev\\play\\brainwave-data\\2024-10-21-21-30-18\\raw.post_filter_psd_plot.png, identical file already exists in GCS.\n",
      "2024-12-19 18:05:17.615907 Skipping C:\\dev\\play\\brainwave-data\\2024-10-21-21-30-18\\raw.post_human.csv, identical file already exists in GCS.\n",
      "2024-12-19 18:05:17.700367 Skipping C:\\dev\\play\\brainwave-data\\2024-10-21-21-30-18\\raw.post_yasa.csv, identical file already exists in GCS.\n",
      "2024-12-19 18:05:17.758680 Skipping C:\\dev\\play\\brainwave-data\\2024-10-21-21-30-18\\raw.pre_filter_psd_plot.png, identical file already exists in GCS.\n",
      "2024-12-19 18:05:17.806069 Skipping C:\\dev\\play\\brainwave-data\\2024-10-21-21-30-18\\raw.sleep.json, identical file already exists in GCS.\n",
      "2024-12-19 18:05:17.852980 Skipping C:\\dev\\play\\brainwave-data\\2024-10-21-21-30-18\\raw.sleep_stages.csv, identical file already exists in GCS.\n",
      "2024-12-19 18:05:17.902223 Skipping C:\\dev\\play\\brainwave-data\\2024-10-21-21-30-18\\raw.sleep_stages.Fpz-M1.csv, identical file already exists in GCS.\n",
      "2024-12-19 18:05:17.948028 Skipping C:\\dev\\play\\brainwave-data\\2024-10-21-21-30-18\\raw.spectrogram.Fpz-M1.png, identical file already exists in GCS.\n"
     ]
    },
    {
     "name": "stderr",
     "output_type": "stream",
     "text": [
      " 58%|█████▊    | 64/111 [04:39<03:19,  4.24s/it]"
     ]
    },
    {
     "name": "stdout",
     "output_type": "stream",
     "text": [
      "2024-12-19 18:05:18.065345 Skipping C:\\dev\\play\\brainwave-data\\2024-10-21-21-30-18\\raw.with_features.csv, identical file already exists in GCS.\n",
      "2024-12-19 18:05:18.154830 Skipping C:\\dev\\play\\brainwave-data\\2024-10-21-21-30-18\\raw.yasa.csv, identical file already exists in GCS.\n",
      "2024-12-19 18:05:18.265810 Uploaded directory checksum for C:\\dev\\play\\brainwave-data\\2024-10-21-21-30-18 to 2024-10-21-21-30-18/directory_checksum.md5\n",
      "2024-12-19 18:05:21.326590 Skipping C:\\dev\\play\\brainwave-data\\2024-10-23-21-24-02\\2024-10-23-21-24-03.brainflow.csv.bz2, identical file already exists in GCS.\n",
      "2024-12-19 18:05:21.491353 Skipping C:\\dev\\play\\brainwave-data\\2024-10-23-21-24-02\\OBCI_03.TXT.bz2, identical file already exists in GCS.\n",
      "2024-12-19 18:05:21.554118 Skipping C:\\dev\\play\\brainwave-data\\2024-10-23-21-24-02\\raw.average_slow_wave.png, identical file already exists in GCS.\n",
      "2024-12-19 18:05:21.668202 Skipping C:\\dev\\play\\brainwave-data\\2024-10-23-21-24-02\\raw.edf, identical file already exists in GCS.\n",
      "2024-12-19 18:05:21.806464 Skipping C:\\dev\\play\\brainwave-data\\2024-10-23-21-24-02\\raw.fif, identical file already exists in GCS.\n",
      "2024-12-19 18:05:21.855842 Skipping C:\\dev\\play\\brainwave-data\\2024-10-23-21-24-02\\raw.final_wake_model.csv, identical file already exists in GCS.\n",
      "2024-12-19 18:05:21.916474 Skipping C:\\dev\\play\\brainwave-data\\2024-10-23-21-24-02\\raw.final_wake_model_post_human.csv, identical file already exists in GCS.\n",
      "2024-12-19 18:05:21.964112 C:\\dev\\play\\brainwave-data\\2024-10-23-21-24-02\\raw.final_wake_model_post_human.json uploading to 2024-10-23-21-24-02/raw.final_wake_model_post_human.json, does_not_exist=True has_changed=True\n",
      "2024-12-19 18:05:22.147593 Skipping C:\\dev\\play\\brainwave-data\\2024-10-23-21-24-02\\raw.microwakings.csv, identical file already exists in GCS.\n",
      "2024-12-19 18:05:22.205635 Skipping C:\\dev\\play\\brainwave-data\\2024-10-23-21-24-02\\raw.night_events.csv, identical file already exists in GCS.\n",
      "2024-12-19 18:05:22.266695 Skipping C:\\dev\\play\\brainwave-data\\2024-10-23-21-24-02\\raw.physical_features.csv, identical file already exists in GCS.\n",
      "2024-12-19 18:05:22.455443 Skipping C:\\dev\\play\\brainwave-data\\2024-10-23-21-24-02\\raw.post_filter_psd_plot.png, identical file already exists in GCS.\n",
      "2024-12-19 18:05:22.539914 Skipping C:\\dev\\play\\brainwave-data\\2024-10-23-21-24-02\\raw.post_human.csv, identical file already exists in GCS.\n",
      "2024-12-19 18:05:22.606061 Skipping C:\\dev\\play\\brainwave-data\\2024-10-23-21-24-02\\raw.post_yasa.csv, identical file already exists in GCS.\n",
      "2024-12-19 18:05:22.663187 Skipping C:\\dev\\play\\brainwave-data\\2024-10-23-21-24-02\\raw.pre_filter_psd_plot.png, identical file already exists in GCS.\n",
      "2024-12-19 18:05:22.712680 Skipping C:\\dev\\play\\brainwave-data\\2024-10-23-21-24-02\\raw.sleep.json, identical file already exists in GCS.\n",
      "2024-12-19 18:05:22.759398 Skipping C:\\dev\\play\\brainwave-data\\2024-10-23-21-24-02\\raw.sleep_stages.csv, identical file already exists in GCS.\n",
      "2024-12-19 18:05:22.807014 Skipping C:\\dev\\play\\brainwave-data\\2024-10-23-21-24-02\\raw.sleep_stages.Fpz-M1.csv, identical file already exists in GCS.\n",
      "2024-12-19 18:05:22.870878 Skipping C:\\dev\\play\\brainwave-data\\2024-10-23-21-24-02\\raw.spectrogram.Fpz-M1.png, identical file already exists in GCS.\n",
      "2024-12-19 18:05:22.917977 Skipping C:\\dev\\play\\brainwave-data\\2024-10-23-21-24-02\\raw.sw_summary.csv, identical file already exists in GCS.\n",
      "2024-12-19 18:05:23.006981 Skipping C:\\dev\\play\\brainwave-data\\2024-10-23-21-24-02\\raw.with_features.csv, identical file already exists in GCS.\n",
      "2024-12-19 18:05:23.053077 Skipping C:\\dev\\play\\brainwave-data\\2024-10-23-21-24-02\\raw.yasa.csv, identical file already exists in GCS.\n"
     ]
    },
    {
     "name": "stderr",
     "output_type": "stream",
     "text": [
      " 59%|█████▊    | 65/111 [04:44<03:23,  4.43s/it]"
     ]
    },
    {
     "name": "stdout",
     "output_type": "stream",
     "text": [
      "2024-12-19 18:05:23.156256 Uploaded directory checksum for C:\\dev\\play\\brainwave-data\\2024-10-23-21-24-02 to 2024-10-23-21-24-02/directory_checksum.md5\n",
      "2024-12-19 18:05:25.836292 Skipping C:\\dev\\play\\brainwave-data\\2024-10-24-21-35-33\\2024-10-24-21-35-33.brainflow.csv.bz2, identical file already exists in GCS.\n",
      "2024-12-19 18:05:25.900345 Skipping C:\\dev\\play\\brainwave-data\\2024-10-24-21-35-33\\raw.average_slow_wave.png, identical file already exists in GCS.\n",
      "2024-12-19 18:05:25.987476 Skipping C:\\dev\\play\\brainwave-data\\2024-10-24-21-35-33\\raw.edf, identical file already exists in GCS.\n",
      "2024-12-19 18:05:26.139078 Skipping C:\\dev\\play\\brainwave-data\\2024-10-24-21-35-33\\raw.fif, identical file already exists in GCS.\n",
      "2024-12-19 18:05:26.213513 Skipping C:\\dev\\play\\brainwave-data\\2024-10-24-21-35-33\\raw.final_wake_model.csv, identical file already exists in GCS.\n",
      "2024-12-19 18:05:26.262196 Skipping C:\\dev\\play\\brainwave-data\\2024-10-24-21-35-33\\raw.final_wake_model_post_human.csv, identical file already exists in GCS.\n",
      "2024-12-19 18:05:26.308206 C:\\dev\\play\\brainwave-data\\2024-10-24-21-35-33\\raw.final_wake_model_post_human.json uploading to 2024-10-24-21-35-33/raw.final_wake_model_post_human.json, does_not_exist=True has_changed=True\n",
      "2024-12-19 18:05:26.473261 Skipping C:\\dev\\play\\brainwave-data\\2024-10-24-21-35-33\\raw.microwakings.csv, identical file already exists in GCS.\n",
      "2024-12-19 18:05:26.510524 Skipping C:\\dev\\play\\brainwave-data\\2024-10-24-21-35-33\\raw.night_events.csv, identical file already exists in GCS.\n",
      "2024-12-19 18:05:26.592160 Skipping C:\\dev\\play\\brainwave-data\\2024-10-24-21-35-33\\raw.physical_features.csv, identical file already exists in GCS.\n",
      "2024-12-19 18:05:26.648826 Skipping C:\\dev\\play\\brainwave-data\\2024-10-24-21-35-33\\raw.post_filter_psd_plot.png, identical file already exists in GCS.\n",
      "2024-12-19 18:05:26.722695 Skipping C:\\dev\\play\\brainwave-data\\2024-10-24-21-35-33\\raw.post_human.csv, identical file already exists in GCS.\n",
      "2024-12-19 18:05:26.816126 Skipping C:\\dev\\play\\brainwave-data\\2024-10-24-21-35-33\\raw.post_yasa.csv, identical file already exists in GCS.\n",
      "2024-12-19 18:05:26.876925 Skipping C:\\dev\\play\\brainwave-data\\2024-10-24-21-35-33\\raw.pre_filter_psd_plot.png, identical file already exists in GCS.\n",
      "2024-12-19 18:05:26.955758 Skipping C:\\dev\\play\\brainwave-data\\2024-10-24-21-35-33\\raw.sleep.json, identical file already exists in GCS.\n",
      "2024-12-19 18:05:27.012589 Skipping C:\\dev\\play\\brainwave-data\\2024-10-24-21-35-33\\raw.sleep_stages.csv, identical file already exists in GCS.\n",
      "2024-12-19 18:05:27.056923 Skipping C:\\dev\\play\\brainwave-data\\2024-10-24-21-35-33\\raw.sleep_stages.Fpz-M1.csv, identical file already exists in GCS.\n",
      "2024-12-19 18:05:27.111904 Skipping C:\\dev\\play\\brainwave-data\\2024-10-24-21-35-33\\raw.spectrogram.Fpz-M1.png, identical file already exists in GCS.\n",
      "2024-12-19 18:05:27.155555 Skipping C:\\dev\\play\\brainwave-data\\2024-10-24-21-35-33\\raw.sw_summary.csv, identical file already exists in GCS.\n"
     ]
    },
    {
     "name": "stderr",
     "output_type": "stream",
     "text": [
      " 59%|█████▉    | 66/111 [04:48<03:16,  4.37s/it]"
     ]
    },
    {
     "name": "stdout",
     "output_type": "stream",
     "text": [
      "2024-12-19 18:05:27.222756 Skipping C:\\dev\\play\\brainwave-data\\2024-10-24-21-35-33\\raw.with_features.csv, identical file already exists in GCS.\n",
      "2024-12-19 18:05:27.275266 Skipping C:\\dev\\play\\brainwave-data\\2024-10-24-21-35-33\\raw.yasa.csv, identical file already exists in GCS.\n",
      "2024-12-19 18:05:27.388209 Uploaded directory checksum for C:\\dev\\play\\brainwave-data\\2024-10-24-21-35-33 to 2024-10-24-21-35-33/directory_checksum.md5\n",
      "2024-12-19 18:05:29.737271 Skipping C:\\dev\\play\\brainwave-data\\2024-10-29-20-42-12\\2024-10-29-20-42-12.brainflow.csv.bz2, identical file already exists in GCS.\n",
      "2024-12-19 18:05:29.823123 Skipping C:\\dev\\play\\brainwave-data\\2024-10-29-20-42-12\\raw.average_slow_wave.png, identical file already exists in GCS.\n",
      "2024-12-19 18:05:29.885623 Skipping C:\\dev\\play\\brainwave-data\\2024-10-29-20-42-12\\raw.edf, identical file already exists in GCS.\n",
      "2024-12-19 18:05:29.957448 Skipping C:\\dev\\play\\brainwave-data\\2024-10-29-20-42-12\\raw.fif, identical file already exists in GCS.\n",
      "2024-12-19 18:05:30.019999 Skipping C:\\dev\\play\\brainwave-data\\2024-10-29-20-42-12\\raw.final_wake_model.csv, identical file already exists in GCS.\n",
      "2024-12-19 18:05:30.067243 Skipping C:\\dev\\play\\brainwave-data\\2024-10-29-20-42-12\\raw.final_wake_model_post_human.csv, identical file already exists in GCS.\n",
      "2024-12-19 18:05:30.147943 C:\\dev\\play\\brainwave-data\\2024-10-29-20-42-12\\raw.final_wake_model_post_human.json uploading to 2024-10-29-20-42-12/raw.final_wake_model_post_human.json, does_not_exist=True has_changed=True\n",
      "2024-12-19 18:05:30.291060 Skipping C:\\dev\\play\\brainwave-data\\2024-10-29-20-42-12\\raw.microwakings.csv, identical file already exists in GCS.\n",
      "2024-12-19 18:05:30.338390 Skipping C:\\dev\\play\\brainwave-data\\2024-10-29-20-42-12\\raw.night_events.csv, identical file already exists in GCS.\n",
      "2024-12-19 18:05:30.385991 Skipping C:\\dev\\play\\brainwave-data\\2024-10-29-20-42-12\\raw.physical_features.csv, identical file already exists in GCS.\n",
      "2024-12-19 18:05:30.463253 Skipping C:\\dev\\play\\brainwave-data\\2024-10-29-20-42-12\\raw.post_filter_psd_plot.png, identical file already exists in GCS.\n",
      "2024-12-19 18:05:30.516065 Skipping C:\\dev\\play\\brainwave-data\\2024-10-29-20-42-12\\raw.post_human.csv, identical file already exists in GCS.\n",
      "2024-12-19 18:05:30.559479 Skipping C:\\dev\\play\\brainwave-data\\2024-10-29-20-42-12\\raw.post_yasa.csv, identical file already exists in GCS.\n",
      "2024-12-19 18:05:30.621061 Skipping C:\\dev\\play\\brainwave-data\\2024-10-29-20-42-12\\raw.pre_filter_psd_plot.png, identical file already exists in GCS.\n",
      "2024-12-19 18:05:30.668055 Skipping C:\\dev\\play\\brainwave-data\\2024-10-29-20-42-12\\raw.sleep.json, identical file already exists in GCS.\n",
      "2024-12-19 18:05:30.716009 Skipping C:\\dev\\play\\brainwave-data\\2024-10-29-20-42-12\\raw.sleep_stages.csv, identical file already exists in GCS.\n",
      "2024-12-19 18:05:30.778430 Skipping C:\\dev\\play\\brainwave-data\\2024-10-29-20-42-12\\raw.sleep_stages.Fpz-M1.csv, identical file already exists in GCS.\n",
      "2024-12-19 18:05:30.827788 Skipping C:\\dev\\play\\brainwave-data\\2024-10-29-20-42-12\\raw.spectrogram.Fpz-M1.png, identical file already exists in GCS.\n",
      "2024-12-19 18:05:30.859058 Skipping C:\\dev\\play\\brainwave-data\\2024-10-29-20-42-12\\raw.sw_summary.csv, identical file already exists in GCS.\n",
      "2024-12-19 18:05:30.922069 Skipping C:\\dev\\play\\brainwave-data\\2024-10-29-20-42-12\\raw.with_features.csv, identical file already exists in GCS.\n",
      "2024-12-19 18:05:30.964472 Skipping C:\\dev\\play\\brainwave-data\\2024-10-29-20-42-12\\raw.yasa.csv, identical file already exists in GCS.\n"
     ]
    },
    {
     "name": "stderr",
     "output_type": "stream",
     "text": [
      " 60%|██████    | 67/111 [04:51<03:03,  4.16s/it]"
     ]
    },
    {
     "name": "stdout",
     "output_type": "stream",
     "text": [
      "2024-12-19 18:05:31.065361 Uploaded directory checksum for C:\\dev\\play\\brainwave-data\\2024-10-29-20-42-12 to 2024-10-29-20-42-12/directory_checksum.md5\n",
      "2024-12-19 18:05:33.826574 Skipping C:\\dev\\play\\brainwave-data\\2024-10-30-21-26-55\\2024-10-30-21-26-55.brainflow.csv.bz2, identical file already exists in GCS.\n",
      "2024-12-19 18:05:33.888752 Skipping C:\\dev\\play\\brainwave-data\\2024-10-30-21-26-55\\raw.average_slow_wave.png, identical file already exists in GCS.\n",
      "2024-12-19 18:05:33.966223 Skipping C:\\dev\\play\\brainwave-data\\2024-10-30-21-26-55\\raw.edf, identical file already exists in GCS.\n",
      "2024-12-19 18:05:34.108511 Skipping C:\\dev\\play\\brainwave-data\\2024-10-30-21-26-55\\raw.fif, identical file already exists in GCS.\n",
      "2024-12-19 18:05:34.164821 Skipping C:\\dev\\play\\brainwave-data\\2024-10-30-21-26-55\\raw.final_wake_model.csv, identical file already exists in GCS.\n",
      "2024-12-19 18:05:34.221221 Skipping C:\\dev\\play\\brainwave-data\\2024-10-30-21-26-55\\raw.final_wake_model_post_human.csv, identical file already exists in GCS.\n",
      "2024-12-19 18:05:34.259317 C:\\dev\\play\\brainwave-data\\2024-10-30-21-26-55\\raw.final_wake_model_post_human.json uploading to 2024-10-30-21-26-55/raw.final_wake_model_post_human.json, does_not_exist=True has_changed=True\n",
      "2024-12-19 18:05:34.432913 Skipping C:\\dev\\play\\brainwave-data\\2024-10-30-21-26-55\\raw.microwakings.csv, identical file already exists in GCS.\n",
      "2024-12-19 18:05:34.495755 Skipping C:\\dev\\play\\brainwave-data\\2024-10-30-21-26-55\\raw.night_events.csv, identical file already exists in GCS.\n",
      "2024-12-19 18:05:34.567560 Skipping C:\\dev\\play\\brainwave-data\\2024-10-30-21-26-55\\raw.physical_features.csv, identical file already exists in GCS.\n",
      "2024-12-19 18:05:34.629351 Skipping C:\\dev\\play\\brainwave-data\\2024-10-30-21-26-55\\raw.post_filter_psd_plot.png, identical file already exists in GCS.\n",
      "2024-12-19 18:05:34.710142 Skipping C:\\dev\\play\\brainwave-data\\2024-10-30-21-26-55\\raw.post_human.csv, identical file already exists in GCS.\n",
      "2024-12-19 18:05:34.780179 Skipping C:\\dev\\play\\brainwave-data\\2024-10-30-21-26-55\\raw.post_yasa.csv, identical file already exists in GCS.\n",
      "2024-12-19 18:05:34.841258 Skipping C:\\dev\\play\\brainwave-data\\2024-10-30-21-26-55\\raw.pre_filter_psd_plot.png, identical file already exists in GCS.\n",
      "2024-12-19 18:05:34.874797 Skipping C:\\dev\\play\\brainwave-data\\2024-10-30-21-26-55\\raw.sleep.json, identical file already exists in GCS.\n",
      "2024-12-19 18:05:34.938208 Skipping C:\\dev\\play\\brainwave-data\\2024-10-30-21-26-55\\raw.sleep_stages.csv, identical file already exists in GCS.\n",
      "2024-12-19 18:05:34.999822 Skipping C:\\dev\\play\\brainwave-data\\2024-10-30-21-26-55\\raw.sleep_stages.Fpz-M1.csv, identical file already exists in GCS.\n",
      "2024-12-19 18:05:35.052097 Skipping C:\\dev\\play\\brainwave-data\\2024-10-30-21-26-55\\raw.spectrogram.Fpz-M1.png, identical file already exists in GCS.\n",
      "2024-12-19 18:05:35.100248 Skipping C:\\dev\\play\\brainwave-data\\2024-10-30-21-26-55\\raw.sw_summary.csv, identical file already exists in GCS.\n"
     ]
    },
    {
     "name": "stderr",
     "output_type": "stream",
     "text": [
      " 61%|██████▏   | 68/111 [04:56<03:00,  4.19s/it]"
     ]
    },
    {
     "name": "stdout",
     "output_type": "stream",
     "text": [
      "2024-12-19 18:05:35.162198 Skipping C:\\dev\\play\\brainwave-data\\2024-10-30-21-26-55\\raw.with_features.csv, identical file already exists in GCS.\n",
      "2024-12-19 18:05:35.218028 Skipping C:\\dev\\play\\brainwave-data\\2024-10-30-21-26-55\\raw.yasa.csv, identical file already exists in GCS.\n",
      "2024-12-19 18:05:35.313168 Uploaded directory checksum for C:\\dev\\play\\brainwave-data\\2024-10-30-21-26-55 to 2024-10-30-21-26-55/directory_checksum.md5\n",
      "2024-12-19 18:05:37.788116 Skipping C:\\dev\\play\\brainwave-data\\2024-11-01-21-32-22\\2024-11-01-21-32-22.brainflow.csv.bz2, identical file already exists in GCS.\n",
      "2024-12-19 18:05:37.847696 Skipping C:\\dev\\play\\brainwave-data\\2024-11-01-21-32-22\\raw.average_slow_wave.png, identical file already exists in GCS.\n",
      "2024-12-19 18:05:37.940385 Skipping C:\\dev\\play\\brainwave-data\\2024-11-01-21-32-22\\raw.edf, identical file already exists in GCS.\n",
      "2024-12-19 18:05:38.122848 Skipping C:\\dev\\play\\brainwave-data\\2024-11-01-21-32-22\\raw.fif, identical file already exists in GCS.\n",
      "2024-12-19 18:05:38.160461 Skipping C:\\dev\\play\\brainwave-data\\2024-11-01-21-32-22\\raw.final_wake_model.csv, identical file already exists in GCS.\n",
      "2024-12-19 18:05:38.210418 Skipping C:\\dev\\play\\brainwave-data\\2024-11-01-21-32-22\\raw.final_wake_model_post_human.csv, identical file already exists in GCS.\n",
      "2024-12-19 18:05:38.265821 C:\\dev\\play\\brainwave-data\\2024-11-01-21-32-22\\raw.final_wake_model_post_human.json uploading to 2024-11-01-21-32-22/raw.final_wake_model_post_human.json, does_not_exist=True has_changed=True\n",
      "2024-12-19 18:05:38.416319 Skipping C:\\dev\\play\\brainwave-data\\2024-11-01-21-32-22\\raw.microwakings.csv, identical file already exists in GCS.\n",
      "2024-12-19 18:05:38.466922 Skipping C:\\dev\\play\\brainwave-data\\2024-11-01-21-32-22\\raw.night_events.csv, identical file already exists in GCS.\n",
      "2024-12-19 18:05:38.514843 Skipping C:\\dev\\play\\brainwave-data\\2024-11-01-21-32-22\\raw.physical_features.csv, identical file already exists in GCS.\n",
      "2024-12-19 18:05:38.570235 Skipping C:\\dev\\play\\brainwave-data\\2024-11-01-21-32-22\\raw.post_filter_psd_plot.png, identical file already exists in GCS.\n",
      "2024-12-19 18:05:38.630663 Skipping C:\\dev\\play\\brainwave-data\\2024-11-01-21-32-22\\raw.post_human.csv, identical file already exists in GCS.\n",
      "2024-12-19 18:05:38.687060 Skipping C:\\dev\\play\\brainwave-data\\2024-11-01-21-32-22\\raw.post_yasa.csv, identical file already exists in GCS.\n",
      "2024-12-19 18:05:38.744830 Skipping C:\\dev\\play\\brainwave-data\\2024-11-01-21-32-22\\raw.pre_filter_psd_plot.png, identical file already exists in GCS.\n",
      "2024-12-19 18:05:38.783527 Skipping C:\\dev\\play\\brainwave-data\\2024-11-01-21-32-22\\raw.sleep.json, identical file already exists in GCS.\n",
      "2024-12-19 18:05:38.846990 Skipping C:\\dev\\play\\brainwave-data\\2024-11-01-21-32-22\\raw.sleep_stages.csv, identical file already exists in GCS.\n",
      "2024-12-19 18:05:38.906141 Skipping C:\\dev\\play\\brainwave-data\\2024-11-01-21-32-22\\raw.sleep_stages.Fpz-M1.csv, identical file already exists in GCS.\n",
      "2024-12-19 18:05:38.958168 Skipping C:\\dev\\play\\brainwave-data\\2024-11-01-21-32-22\\raw.spectrogram.Fpz-M1.png, identical file already exists in GCS.\n",
      "2024-12-19 18:05:39.003706 Skipping C:\\dev\\play\\brainwave-data\\2024-11-01-21-32-22\\raw.sw_summary.csv, identical file already exists in GCS.\n"
     ]
    },
    {
     "name": "stderr",
     "output_type": "stream",
     "text": [
      " 62%|██████▏   | 69/111 [05:00<02:52,  4.10s/it]"
     ]
    },
    {
     "name": "stdout",
     "output_type": "stream",
     "text": [
      "2024-12-19 18:05:39.083821 Skipping C:\\dev\\play\\brainwave-data\\2024-11-01-21-32-22\\raw.with_features.csv, identical file already exists in GCS.\n",
      "2024-12-19 18:05:39.130024 Skipping C:\\dev\\play\\brainwave-data\\2024-11-01-21-32-22\\raw.yasa.csv, identical file already exists in GCS.\n",
      "2024-12-19 18:05:39.214089 Uploaded directory checksum for C:\\dev\\play\\brainwave-data\\2024-11-01-21-32-22 to 2024-11-01-21-32-22/directory_checksum.md5\n",
      "2024-12-19 18:05:42.022452 Skipping C:\\dev\\play\\brainwave-data\\2024-11-02-21-29-03\\2024-11-02-21-29-03.brainflow.csv.bz2, identical file already exists in GCS.\n",
      "2024-12-19 18:05:42.062281 Skipping C:\\dev\\play\\brainwave-data\\2024-11-02-21-29-03\\raw.average_slow_wave.png, identical file already exists in GCS.\n",
      "2024-12-19 18:05:42.202983 Skipping C:\\dev\\play\\brainwave-data\\2024-11-02-21-29-03\\raw.edf, identical file already exists in GCS.\n",
      "2024-12-19 18:05:42.352897 Skipping C:\\dev\\play\\brainwave-data\\2024-11-02-21-29-03\\raw.fif, identical file already exists in GCS.\n",
      "2024-12-19 18:05:42.402573 Skipping C:\\dev\\play\\brainwave-data\\2024-11-02-21-29-03\\raw.final_wake_model.csv, identical file already exists in GCS.\n",
      "2024-12-19 18:05:42.472881 Skipping C:\\dev\\play\\brainwave-data\\2024-11-02-21-29-03\\raw.final_wake_model_post_human.csv, identical file already exists in GCS.\n",
      "2024-12-19 18:05:42.518737 C:\\dev\\play\\brainwave-data\\2024-11-02-21-29-03\\raw.final_wake_model_post_human.json uploading to 2024-11-02-21-29-03/raw.final_wake_model_post_human.json, does_not_exist=True has_changed=True\n",
      "2024-12-19 18:05:42.703056 Skipping C:\\dev\\play\\brainwave-data\\2024-11-02-21-29-03\\raw.microwakings.csv, identical file already exists in GCS.\n",
      "2024-12-19 18:05:42.760892 Skipping C:\\dev\\play\\brainwave-data\\2024-11-02-21-29-03\\raw.night_events.csv, identical file already exists in GCS.\n",
      "2024-12-19 18:05:42.809864 Skipping C:\\dev\\play\\brainwave-data\\2024-11-02-21-29-03\\raw.physical_features.csv, identical file already exists in GCS.\n",
      "2024-12-19 18:05:42.861099 Skipping C:\\dev\\play\\brainwave-data\\2024-11-02-21-29-03\\raw.post_filter_psd_plot.png, identical file already exists in GCS.\n",
      "2024-12-19 18:05:42.963418 Skipping C:\\dev\\play\\brainwave-data\\2024-11-02-21-29-03\\raw.post_human.csv, identical file already exists in GCS.\n",
      "2024-12-19 18:05:43.046117 Skipping C:\\dev\\play\\brainwave-data\\2024-11-02-21-29-03\\raw.post_yasa.csv, identical file already exists in GCS.\n",
      "2024-12-19 18:05:43.080910 Skipping C:\\dev\\play\\brainwave-data\\2024-11-02-21-29-03\\raw.pre_filter_psd_plot.png, identical file already exists in GCS.\n",
      "2024-12-19 18:05:43.122470 Skipping C:\\dev\\play\\brainwave-data\\2024-11-02-21-29-03\\raw.sleep.json, identical file already exists in GCS.\n",
      "2024-12-19 18:05:43.159925 Skipping C:\\dev\\play\\brainwave-data\\2024-11-02-21-29-03\\raw.sleep_stages.csv, identical file already exists in GCS.\n",
      "2024-12-19 18:05:43.220052 Skipping C:\\dev\\play\\brainwave-data\\2024-11-02-21-29-03\\raw.sleep_stages.Fpz-M1.csv, identical file already exists in GCS.\n",
      "2024-12-19 18:05:43.286946 Skipping C:\\dev\\play\\brainwave-data\\2024-11-02-21-29-03\\raw.spectrogram.Fpz-M1.png, identical file already exists in GCS.\n",
      "2024-12-19 18:05:43.344334 Skipping C:\\dev\\play\\brainwave-data\\2024-11-02-21-29-03\\raw.sw_summary.csv, identical file already exists in GCS.\n"
     ]
    },
    {
     "name": "stderr",
     "output_type": "stream",
     "text": [
      " 63%|██████▎   | 70/111 [05:04<02:51,  4.19s/it]"
     ]
    },
    {
     "name": "stdout",
     "output_type": "stream",
     "text": [
      "2024-12-19 18:05:43.436202 Skipping C:\\dev\\play\\brainwave-data\\2024-11-02-21-29-03\\raw.with_features.csv, identical file already exists in GCS.\n",
      "2024-12-19 18:05:43.493728 Skipping C:\\dev\\play\\brainwave-data\\2024-11-02-21-29-03\\raw.yasa.csv, identical file already exists in GCS.\n",
      "2024-12-19 18:05:43.615976 Uploaded directory checksum for C:\\dev\\play\\brainwave-data\\2024-11-02-21-29-03 to 2024-11-02-21-29-03/directory_checksum.md5\n",
      "2024-12-19 18:05:45.844069 Skipping C:\\dev\\play\\brainwave-data\\2024-11-03-21-20-37\\2024-11-03-21-20-37.brainflow.csv.bz2, identical file already exists in GCS.\n",
      "2024-12-19 18:05:45.893741 Skipping C:\\dev\\play\\brainwave-data\\2024-11-03-21-20-37\\raw.average_slow_wave.png, identical file already exists in GCS.\n",
      "2024-12-19 18:05:45.948375 Skipping C:\\dev\\play\\brainwave-data\\2024-11-03-21-20-37\\raw.edf, identical file already exists in GCS.\n",
      "2024-12-19 18:05:46.010453 Skipping C:\\dev\\play\\brainwave-data\\2024-11-03-21-20-37\\raw.fif, identical file already exists in GCS.\n",
      "2024-12-19 18:05:46.061304 Skipping C:\\dev\\play\\brainwave-data\\2024-11-03-21-20-37\\raw.final_wake_model.csv, identical file already exists in GCS.\n",
      "2024-12-19 18:05:46.138639 Skipping C:\\dev\\play\\brainwave-data\\2024-11-03-21-20-37\\raw.final_wake_model_post_human.csv, identical file already exists in GCS.\n",
      "2024-12-19 18:05:46.184820 C:\\dev\\play\\brainwave-data\\2024-11-03-21-20-37\\raw.final_wake_model_post_human.json uploading to 2024-11-03-21-20-37/raw.final_wake_model_post_human.json, does_not_exist=True has_changed=True\n",
      "2024-12-19 18:05:46.359380 Skipping C:\\dev\\play\\brainwave-data\\2024-11-03-21-20-37\\raw.microwakings.csv, identical file already exists in GCS.\n",
      "2024-12-19 18:05:46.422815 Skipping C:\\dev\\play\\brainwave-data\\2024-11-03-21-20-37\\raw.night_events.csv, identical file already exists in GCS.\n",
      "2024-12-19 18:05:46.498636 Skipping C:\\dev\\play\\brainwave-data\\2024-11-03-21-20-37\\raw.physical_features.csv, identical file already exists in GCS.\n",
      "2024-12-19 18:05:46.550523 Skipping C:\\dev\\play\\brainwave-data\\2024-11-03-21-20-37\\raw.post_filter_psd_plot.png, identical file already exists in GCS.\n",
      "2024-12-19 18:05:46.589546 Skipping C:\\dev\\play\\brainwave-data\\2024-11-03-21-20-37\\raw.post_human.csv, identical file already exists in GCS.\n",
      "2024-12-19 18:05:46.654133 Skipping C:\\dev\\play\\brainwave-data\\2024-11-03-21-20-37\\raw.post_yasa.csv, identical file already exists in GCS.\n",
      "2024-12-19 18:05:46.716673 Skipping C:\\dev\\play\\brainwave-data\\2024-11-03-21-20-37\\raw.pre_filter_psd_plot.png, identical file already exists in GCS.\n",
      "2024-12-19 18:05:46.767311 Skipping C:\\dev\\play\\brainwave-data\\2024-11-03-21-20-37\\raw.sleep.json, identical file already exists in GCS.\n",
      "2024-12-19 18:05:46.809862 Skipping C:\\dev\\play\\brainwave-data\\2024-11-03-21-20-37\\raw.sleep_stages.csv, identical file already exists in GCS.\n",
      "2024-12-19 18:05:46.870699 Skipping C:\\dev\\play\\brainwave-data\\2024-11-03-21-20-37\\raw.sleep_stages.Fpz-M1.csv, identical file already exists in GCS.\n",
      "2024-12-19 18:05:46.934852 Skipping C:\\dev\\play\\brainwave-data\\2024-11-03-21-20-37\\raw.spectrogram.Fpz-M1.png, identical file already exists in GCS.\n",
      "2024-12-19 18:05:46.982883 Skipping C:\\dev\\play\\brainwave-data\\2024-11-03-21-20-37\\raw.sw_summary.csv, identical file already exists in GCS.\n"
     ]
    },
    {
     "name": "stderr",
     "output_type": "stream",
     "text": [
      " 64%|██████▍   | 71/111 [05:08<02:39,  4.00s/it]"
     ]
    },
    {
     "name": "stdout",
     "output_type": "stream",
     "text": [
      "2024-12-19 18:05:47.034847 Skipping C:\\dev\\play\\brainwave-data\\2024-11-03-21-20-37\\raw.with_features.csv, identical file already exists in GCS.\n",
      "2024-12-19 18:05:47.069256 Skipping C:\\dev\\play\\brainwave-data\\2024-11-03-21-20-37\\raw.yasa.csv, identical file already exists in GCS.\n",
      "2024-12-19 18:05:47.164543 Uploaded directory checksum for C:\\dev\\play\\brainwave-data\\2024-11-03-21-20-37 to 2024-11-03-21-20-37/directory_checksum.md5\n",
      "2024-12-19 18:05:49.678779 Skipping C:\\dev\\play\\brainwave-data\\2024-11-04-21-20-51\\2024-11-04-21-20-51.brainflow.csv.bz2, identical file already exists in GCS.\n",
      "2024-12-19 18:05:49.742302 Skipping C:\\dev\\play\\brainwave-data\\2024-11-04-21-20-51\\raw.average_slow_wave.png, identical file already exists in GCS.\n",
      "2024-12-19 18:05:49.828846 Skipping C:\\dev\\play\\brainwave-data\\2024-11-04-21-20-51\\raw.edf, identical file already exists in GCS.\n",
      "2024-12-19 18:05:49.964187 Skipping C:\\dev\\play\\brainwave-data\\2024-11-04-21-20-51\\raw.fif, identical file already exists in GCS.\n",
      "2024-12-19 18:05:50.009204 Skipping C:\\dev\\play\\brainwave-data\\2024-11-04-21-20-51\\raw.final_wake_model.csv, identical file already exists in GCS.\n",
      "2024-12-19 18:05:50.059310 Skipping C:\\dev\\play\\brainwave-data\\2024-11-04-21-20-51\\raw.final_wake_model_post_human.csv, identical file already exists in GCS.\n",
      "2024-12-19 18:05:50.119332 C:\\dev\\play\\brainwave-data\\2024-11-04-21-20-51\\raw.final_wake_model_post_human.json uploading to 2024-11-04-21-20-51/raw.final_wake_model_post_human.json, does_not_exist=True has_changed=True\n",
      "2024-12-19 18:05:50.300442 Skipping C:\\dev\\play\\brainwave-data\\2024-11-04-21-20-51\\raw.microwakings.csv, identical file already exists in GCS.\n",
      "2024-12-19 18:05:50.350472 Skipping C:\\dev\\play\\brainwave-data\\2024-11-04-21-20-51\\raw.night_events.csv, identical file already exists in GCS.\n",
      "2024-12-19 18:05:50.400882 Skipping C:\\dev\\play\\brainwave-data\\2024-11-04-21-20-51\\raw.physical_features.csv, identical file already exists in GCS.\n",
      "2024-12-19 18:05:50.450912 Skipping C:\\dev\\play\\brainwave-data\\2024-11-04-21-20-51\\raw.post_filter_psd_plot.png, identical file already exists in GCS.\n",
      "2024-12-19 18:05:50.521107 Skipping C:\\dev\\play\\brainwave-data\\2024-11-04-21-20-51\\raw.post_human.csv, identical file already exists in GCS.\n",
      "2024-12-19 18:05:50.581420 Skipping C:\\dev\\play\\brainwave-data\\2024-11-04-21-20-51\\raw.post_yasa.csv, identical file already exists in GCS.\n",
      "2024-12-19 18:05:50.621431 Skipping C:\\dev\\play\\brainwave-data\\2024-11-04-21-20-51\\raw.pre_filter_psd_plot.png, identical file already exists in GCS.\n",
      "2024-12-19 18:05:50.666957 Skipping C:\\dev\\play\\brainwave-data\\2024-11-04-21-20-51\\raw.sleep.json, identical file already exists in GCS.\n",
      "2024-12-19 18:05:50.721613 Skipping C:\\dev\\play\\brainwave-data\\2024-11-04-21-20-51\\raw.sleep_stages.csv, identical file already exists in GCS.\n",
      "2024-12-19 18:05:50.771690 Skipping C:\\dev\\play\\brainwave-data\\2024-11-04-21-20-51\\raw.sleep_stages.Fpz-M1.csv, identical file already exists in GCS.\n",
      "2024-12-19 18:05:50.821700 Skipping C:\\dev\\play\\brainwave-data\\2024-11-04-21-20-51\\raw.spectrogram.Fpz-M1.png, identical file already exists in GCS.\n",
      "2024-12-19 18:05:50.867605 Skipping C:\\dev\\play\\brainwave-data\\2024-11-04-21-20-51\\raw.sw_summary.csv, identical file already exists in GCS.\n"
     ]
    },
    {
     "name": "stderr",
     "output_type": "stream",
     "text": [
      " 65%|██████▍   | 72/111 [05:11<02:35,  3.98s/it]"
     ]
    },
    {
     "name": "stdout",
     "output_type": "stream",
     "text": [
      "2024-12-19 18:05:50.932130 Skipping C:\\dev\\play\\brainwave-data\\2024-11-04-21-20-51\\raw.with_features.csv, identical file already exists in GCS.\n",
      "2024-12-19 18:05:51.002271 Skipping C:\\dev\\play\\brainwave-data\\2024-11-04-21-20-51\\raw.yasa.csv, identical file already exists in GCS.\n",
      "2024-12-19 18:05:51.092442 Uploaded directory checksum for C:\\dev\\play\\brainwave-data\\2024-11-04-21-20-51 to 2024-11-04-21-20-51/directory_checksum.md5\n",
      "2024-12-19 18:05:53.576500 Skipping C:\\dev\\play\\brainwave-data\\2024-11-05-21-34-15\\2024-11-05-21-34-15.brainflow.csv.bz2, identical file already exists in GCS.\n",
      "2024-12-19 18:05:53.626130 Skipping C:\\dev\\play\\brainwave-data\\2024-11-05-21-34-15\\raw.average_slow_wave.png, identical file already exists in GCS.\n",
      "2024-12-19 18:05:53.713466 Skipping C:\\dev\\play\\brainwave-data\\2024-11-05-21-34-15\\raw.edf, identical file already exists in GCS.\n",
      "2024-12-19 18:05:53.862741 Skipping C:\\dev\\play\\brainwave-data\\2024-11-05-21-34-15\\raw.fif, identical file already exists in GCS.\n",
      "2024-12-19 18:05:53.909087 Skipping C:\\dev\\play\\brainwave-data\\2024-11-05-21-34-15\\raw.final_wake_model.csv, identical file already exists in GCS.\n",
      "2024-12-19 18:05:53.986068 Skipping C:\\dev\\play\\brainwave-data\\2024-11-05-21-34-15\\raw.final_wake_model_post_human.csv, identical file already exists in GCS.\n",
      "2024-12-19 18:05:54.038613 C:\\dev\\play\\brainwave-data\\2024-11-05-21-34-15\\raw.final_wake_model_post_human.json uploading to 2024-11-05-21-34-15/raw.final_wake_model_post_human.json, does_not_exist=True has_changed=True\n",
      "2024-12-19 18:05:54.205333 Skipping C:\\dev\\play\\brainwave-data\\2024-11-05-21-34-15\\raw.microwakings.csv, identical file already exists in GCS.\n",
      "2024-12-19 18:05:54.253412 Skipping C:\\dev\\play\\brainwave-data\\2024-11-05-21-34-15\\raw.night_events.csv, identical file already exists in GCS.\n",
      "2024-12-19 18:05:54.315633 Skipping C:\\dev\\play\\brainwave-data\\2024-11-05-21-34-15\\raw.physical_features.csv, identical file already exists in GCS.\n",
      "2024-12-19 18:05:54.364063 Skipping C:\\dev\\play\\brainwave-data\\2024-11-05-21-34-15\\raw.post_filter_psd_plot.png, identical file already exists in GCS.\n",
      "2024-12-19 18:05:54.434501 Skipping C:\\dev\\play\\brainwave-data\\2024-11-05-21-34-15\\raw.post_human.csv, identical file already exists in GCS.\n",
      "2024-12-19 18:05:54.494623 Skipping C:\\dev\\play\\brainwave-data\\2024-11-05-21-34-15\\raw.post_yasa.csv, identical file already exists in GCS.\n",
      "2024-12-19 18:05:54.539489 Skipping C:\\dev\\play\\brainwave-data\\2024-11-05-21-34-15\\raw.pre_filter_psd_plot.png, identical file already exists in GCS.\n",
      "2024-12-19 18:05:54.585570 Skipping C:\\dev\\play\\brainwave-data\\2024-11-05-21-34-15\\raw.sleep.json, identical file already exists in GCS.\n",
      "2024-12-19 18:05:54.625697 Skipping C:\\dev\\play\\brainwave-data\\2024-11-05-21-34-15\\raw.sleep_stages.csv, identical file already exists in GCS.\n",
      "2024-12-19 18:05:54.699220 Skipping C:\\dev\\play\\brainwave-data\\2024-11-05-21-34-15\\raw.sleep_stages.Fpz-M1.csv, identical file already exists in GCS.\n",
      "2024-12-19 18:05:54.751369 Skipping C:\\dev\\play\\brainwave-data\\2024-11-05-21-34-15\\raw.spectrogram.Fpz-M1.png, identical file already exists in GCS.\n",
      "2024-12-19 18:05:54.801328 Skipping C:\\dev\\play\\brainwave-data\\2024-11-05-21-34-15\\raw.sw_summary.csv, identical file already exists in GCS.\n",
      "2024-12-19 18:05:54.879578 Skipping C:\\dev\\play\\brainwave-data\\2024-11-05-21-34-15\\raw.with_features.csv, identical file already exists in GCS.\n"
     ]
    },
    {
     "name": "stderr",
     "output_type": "stream",
     "text": [
      " 66%|██████▌   | 73/111 [05:15<02:30,  3.96s/it]"
     ]
    },
    {
     "name": "stdout",
     "output_type": "stream",
     "text": [
      "2024-12-19 18:05:54.929078 Skipping C:\\dev\\play\\brainwave-data\\2024-11-05-21-34-15\\raw.yasa.csv, identical file already exists in GCS.\n",
      "2024-12-19 18:05:55.027211 Uploaded directory checksum for C:\\dev\\play\\brainwave-data\\2024-11-05-21-34-15 to 2024-11-05-21-34-15/directory_checksum.md5\n",
      "2024-12-19 18:05:57.917521 Skipping C:\\dev\\play\\brainwave-data\\2024-11-07-21-26-18\\2024-11-07-21-26-18.brainflow.csv.bz2, identical file already exists in GCS.\n",
      "2024-12-19 18:05:57.965754 Skipping C:\\dev\\play\\brainwave-data\\2024-11-07-21-26-18\\raw.average_slow_wave.png, identical file already exists in GCS.\n",
      "2024-12-19 18:05:58.051581 Skipping C:\\dev\\play\\brainwave-data\\2024-11-07-21-26-18\\raw.edf, identical file already exists in GCS.\n",
      "2024-12-19 18:05:58.245083 Skipping C:\\dev\\play\\brainwave-data\\2024-11-07-21-26-18\\raw.fif, identical file already exists in GCS.\n",
      "2024-12-19 18:05:58.284000 Skipping C:\\dev\\play\\brainwave-data\\2024-11-07-21-26-18\\raw.final_wake_model.csv, identical file already exists in GCS.\n",
      "2024-12-19 18:05:58.328185 Skipping C:\\dev\\play\\brainwave-data\\2024-11-07-21-26-18\\raw.final_wake_model_post_human.csv, identical file already exists in GCS.\n",
      "2024-12-19 18:05:58.386048 C:\\dev\\play\\brainwave-data\\2024-11-07-21-26-18\\raw.final_wake_model_post_human.json uploading to 2024-11-07-21-26-18/raw.final_wake_model_post_human.json, does_not_exist=True has_changed=True\n",
      "2024-12-19 18:05:58.570608 Skipping C:\\dev\\play\\brainwave-data\\2024-11-07-21-26-18\\raw.microwakings.csv, identical file already exists in GCS.\n",
      "2024-12-19 18:05:58.619246 Skipping C:\\dev\\play\\brainwave-data\\2024-11-07-21-26-18\\raw.night_events.csv, identical file already exists in GCS.\n",
      "2024-12-19 18:05:58.666565 Skipping C:\\dev\\play\\brainwave-data\\2024-11-07-21-26-18\\raw.physical_features.csv, identical file already exists in GCS.\n",
      "2024-12-19 18:05:58.730994 Skipping C:\\dev\\play\\brainwave-data\\2024-11-07-21-26-18\\raw.post_filter_psd_plot.png, identical file already exists in GCS.\n",
      "2024-12-19 18:05:58.797492 Skipping C:\\dev\\play\\brainwave-data\\2024-11-07-21-26-18\\raw.post_human.csv, identical file already exists in GCS.\n",
      "2024-12-19 18:05:58.885438 Skipping C:\\dev\\play\\brainwave-data\\2024-11-07-21-26-18\\raw.post_yasa.csv, identical file already exists in GCS.\n",
      "2024-12-19 18:05:58.932919 Skipping C:\\dev\\play\\brainwave-data\\2024-11-07-21-26-18\\raw.pre_filter_psd_plot.png, identical file already exists in GCS.\n",
      "2024-12-19 18:05:58.996146 Skipping C:\\dev\\play\\brainwave-data\\2024-11-07-21-26-18\\raw.sleep.json, identical file already exists in GCS.\n",
      "2024-12-19 18:05:59.059112 Skipping C:\\dev\\play\\brainwave-data\\2024-11-07-21-26-18\\raw.sleep_stages.csv, identical file already exists in GCS.\n",
      "2024-12-19 18:05:59.118065 Skipping C:\\dev\\play\\brainwave-data\\2024-11-07-21-26-18\\raw.sleep_stages.Fpz-M1.csv, identical file already exists in GCS.\n",
      "2024-12-19 18:05:59.187523 Skipping C:\\dev\\play\\brainwave-data\\2024-11-07-21-26-18\\raw.spectrogram.Fpz-M1.png, identical file already exists in GCS.\n",
      "2024-12-19 18:05:59.240990 Skipping C:\\dev\\play\\brainwave-data\\2024-11-07-21-26-18\\raw.sw_summary.csv, identical file already exists in GCS.\n"
     ]
    },
    {
     "name": "stderr",
     "output_type": "stream",
     "text": [
      " 67%|██████▋   | 74/111 [05:20<02:32,  4.13s/it]"
     ]
    },
    {
     "name": "stdout",
     "output_type": "stream",
     "text": [
      "2024-12-19 18:05:59.331650 Skipping C:\\dev\\play\\brainwave-data\\2024-11-07-21-26-18\\raw.with_features.csv, identical file already exists in GCS.\n",
      "2024-12-19 18:05:59.396781 Skipping C:\\dev\\play\\brainwave-data\\2024-11-07-21-26-18\\raw.yasa.csv, identical file already exists in GCS.\n",
      "2024-12-19 18:05:59.525722 Uploaded directory checksum for C:\\dev\\play\\brainwave-data\\2024-11-07-21-26-18 to 2024-11-07-21-26-18/directory_checksum.md5\n",
      "2024-12-19 18:06:02.465687 Skipping C:\\dev\\play\\brainwave-data\\2024-11-08-21-16-53\\2024-11-08-21-16-53.brainflow.csv.bz2, identical file already exists in GCS.\n",
      "2024-12-19 18:06:02.516194 Skipping C:\\dev\\play\\brainwave-data\\2024-11-08-21-16-53\\raw.average_slow_wave.png, identical file already exists in GCS.\n",
      "2024-12-19 18:06:02.636564 Skipping C:\\dev\\play\\brainwave-data\\2024-11-08-21-16-53\\raw.edf, identical file already exists in GCS.\n",
      "2024-12-19 18:06:02.796956 Skipping C:\\dev\\play\\brainwave-data\\2024-11-08-21-16-53\\raw.fif, identical file already exists in GCS.\n",
      "2024-12-19 18:06:02.856838 Skipping C:\\dev\\play\\brainwave-data\\2024-11-08-21-16-53\\raw.final_wake_model.csv, identical file already exists in GCS.\n",
      "2024-12-19 18:06:02.918991 Skipping C:\\dev\\play\\brainwave-data\\2024-11-08-21-16-53\\raw.final_wake_model_post_human.csv, identical file already exists in GCS.\n",
      "2024-12-19 18:06:02.970146 C:\\dev\\play\\brainwave-data\\2024-11-08-21-16-53\\raw.final_wake_model_post_human.json uploading to 2024-11-08-21-16-53/raw.final_wake_model_post_human.json, does_not_exist=True has_changed=True\n",
      "2024-12-19 18:06:03.131392 Skipping C:\\dev\\play\\brainwave-data\\2024-11-08-21-16-53\\raw.microwakings.csv, identical file already exists in GCS.\n",
      "2024-12-19 18:06:03.191040 Skipping C:\\dev\\play\\brainwave-data\\2024-11-08-21-16-53\\raw.night_events.csv, identical file already exists in GCS.\n",
      "2024-12-19 18:06:03.249990 Skipping C:\\dev\\play\\brainwave-data\\2024-11-08-21-16-53\\raw.physical_features.csv, identical file already exists in GCS.\n",
      "2024-12-19 18:06:03.282068 Skipping C:\\dev\\play\\brainwave-data\\2024-11-08-21-16-53\\raw.post_filter_psd_plot.png, identical file already exists in GCS.\n",
      "2024-12-19 18:06:03.362413 Skipping C:\\dev\\play\\brainwave-data\\2024-11-08-21-16-53\\raw.post_human.csv, identical file already exists in GCS.\n",
      "2024-12-19 18:06:03.439549 Skipping C:\\dev\\play\\brainwave-data\\2024-11-08-21-16-53\\raw.post_yasa.csv, identical file already exists in GCS.\n",
      "2024-12-19 18:06:03.486522 Skipping C:\\dev\\play\\brainwave-data\\2024-11-08-21-16-53\\raw.pre_filter_psd_plot.png, identical file already exists in GCS.\n",
      "2024-12-19 18:06:03.550547 Skipping C:\\dev\\play\\brainwave-data\\2024-11-08-21-16-53\\raw.sleep.json, identical file already exists in GCS.\n",
      "2024-12-19 18:06:03.596841 Skipping C:\\dev\\play\\brainwave-data\\2024-11-08-21-16-53\\raw.sleep_stages.csv, identical file already exists in GCS.\n",
      "2024-12-19 18:06:03.661358 Skipping C:\\dev\\play\\brainwave-data\\2024-11-08-21-16-53\\raw.sleep_stages.Fpz-M1.csv, identical file already exists in GCS.\n",
      "2024-12-19 18:06:03.723090 Skipping C:\\dev\\play\\brainwave-data\\2024-11-08-21-16-53\\raw.spectrogram.Fpz-M1.png, identical file already exists in GCS.\n",
      "2024-12-19 18:06:03.786755 Skipping C:\\dev\\play\\brainwave-data\\2024-11-08-21-16-53\\raw.sw_summary.csv, identical file already exists in GCS.\n"
     ]
    },
    {
     "name": "stderr",
     "output_type": "stream",
     "text": [
      " 68%|██████▊   | 75/111 [05:24<02:32,  4.24s/it]"
     ]
    },
    {
     "name": "stdout",
     "output_type": "stream",
     "text": [
      "2024-12-19 18:06:03.866061 Skipping C:\\dev\\play\\brainwave-data\\2024-11-08-21-16-53\\raw.with_features.csv, identical file already exists in GCS.\n",
      "2024-12-19 18:06:03.912964 Skipping C:\\dev\\play\\brainwave-data\\2024-11-08-21-16-53\\raw.yasa.csv, identical file already exists in GCS.\n",
      "2024-12-19 18:06:04.023070 Uploaded directory checksum for C:\\dev\\play\\brainwave-data\\2024-11-08-21-16-53 to 2024-11-08-21-16-53/directory_checksum.md5\n",
      "2024-12-19 18:06:06.628951 Skipping C:\\dev\\play\\brainwave-data\\2024-11-09-21-27-51\\2024-11-09-21-27-51.brainflow.csv.bz2, identical file already exists in GCS.\n",
      "2024-12-19 18:06:06.702209 Skipping C:\\dev\\play\\brainwave-data\\2024-11-09-21-27-51\\raw.average_slow_wave.png, identical file already exists in GCS.\n",
      "2024-12-19 18:06:06.789620 Skipping C:\\dev\\play\\brainwave-data\\2024-11-09-21-27-51\\raw.edf, identical file already exists in GCS.\n",
      "2024-12-19 18:06:06.946742 Skipping C:\\dev\\play\\brainwave-data\\2024-11-09-21-27-51\\raw.fif, identical file already exists in GCS.\n",
      "2024-12-19 18:06:06.993683 Skipping C:\\dev\\play\\brainwave-data\\2024-11-09-21-27-51\\raw.final_wake_model.csv, identical file already exists in GCS.\n",
      "2024-12-19 18:06:07.040499 Skipping C:\\dev\\play\\brainwave-data\\2024-11-09-21-27-51\\raw.final_wake_model_post_human.csv, identical file already exists in GCS.\n",
      "2024-12-19 18:06:07.087278 C:\\dev\\play\\brainwave-data\\2024-11-09-21-27-51\\raw.final_wake_model_post_human.json uploading to 2024-11-09-21-27-51/raw.final_wake_model_post_human.json, does_not_exist=True has_changed=True\n",
      "2024-12-19 18:06:07.260710 Skipping C:\\dev\\play\\brainwave-data\\2024-11-09-21-27-51\\raw.microwakings.csv, identical file already exists in GCS.\n",
      "2024-12-19 18:06:07.325152 Skipping C:\\dev\\play\\brainwave-data\\2024-11-09-21-27-51\\raw.night_events.csv, identical file already exists in GCS.\n",
      "2024-12-19 18:06:07.378464 Skipping C:\\dev\\play\\brainwave-data\\2024-11-09-21-27-51\\raw.physical_features.csv, identical file already exists in GCS.\n",
      "2024-12-19 18:06:07.436404 Skipping C:\\dev\\play\\brainwave-data\\2024-11-09-21-27-51\\raw.post_filter_psd_plot.png, identical file already exists in GCS.\n",
      "2024-12-19 18:06:07.514775 Skipping C:\\dev\\play\\brainwave-data\\2024-11-09-21-27-51\\raw.post_human.csv, identical file already exists in GCS.\n",
      "2024-12-19 18:06:07.566412 Skipping C:\\dev\\play\\brainwave-data\\2024-11-09-21-27-51\\raw.post_yasa.csv, identical file already exists in GCS.\n",
      "2024-12-19 18:06:07.625792 Skipping C:\\dev\\play\\brainwave-data\\2024-11-09-21-27-51\\raw.pre_filter_psd_plot.png, identical file already exists in GCS.\n",
      "2024-12-19 18:06:07.666816 Skipping C:\\dev\\play\\brainwave-data\\2024-11-09-21-27-51\\raw.sleep.json, identical file already exists in GCS.\n",
      "2024-12-19 18:06:07.705646 Skipping C:\\dev\\play\\brainwave-data\\2024-11-09-21-27-51\\raw.sleep_stages.csv, identical file already exists in GCS.\n",
      "2024-12-19 18:06:07.752300 Skipping C:\\dev\\play\\brainwave-data\\2024-11-09-21-27-51\\raw.sleep_stages.Fpz-M1.csv, identical file already exists in GCS.\n",
      "2024-12-19 18:06:07.799740 Skipping C:\\dev\\play\\brainwave-data\\2024-11-09-21-27-51\\raw.spectrogram.Fpz-M1.png, identical file already exists in GCS.\n",
      "2024-12-19 18:06:07.848560 Skipping C:\\dev\\play\\brainwave-data\\2024-11-09-21-27-51\\raw.sw_summary.csv, identical file already exists in GCS.\n",
      "2024-12-19 18:06:07.927278 Skipping C:\\dev\\play\\brainwave-data\\2024-11-09-21-27-51\\raw.with_features.csv, identical file already exists in GCS.\n"
     ]
    },
    {
     "name": "stderr",
     "output_type": "stream",
     "text": [
      " 68%|██████▊   | 76/111 [05:28<02:26,  4.19s/it]"
     ]
    },
    {
     "name": "stdout",
     "output_type": "stream",
     "text": [
      "2024-12-19 18:06:07.989899 Skipping C:\\dev\\play\\brainwave-data\\2024-11-09-21-27-51\\raw.yasa.csv, identical file already exists in GCS.\n",
      "2024-12-19 18:06:08.087385 Uploaded directory checksum for C:\\dev\\play\\brainwave-data\\2024-11-09-21-27-51 to 2024-11-09-21-27-51/directory_checksum.md5\n",
      "2024-12-19 18:06:10.443229 Skipping C:\\dev\\play\\brainwave-data\\2024-11-12-21-11-43\\2024-11-12-21-11-43.brainflow.csv.bz2, identical file already exists in GCS.\n",
      "2024-12-19 18:06:10.500488 Skipping C:\\dev\\play\\brainwave-data\\2024-11-12-21-11-43\\raw.average_slow_wave.png, identical file already exists in GCS.\n",
      "2024-12-19 18:06:10.592136 Skipping C:\\dev\\play\\brainwave-data\\2024-11-12-21-11-43\\raw.edf, identical file already exists in GCS.\n",
      "2024-12-19 18:06:10.777395 Skipping C:\\dev\\play\\brainwave-data\\2024-11-12-21-11-43\\raw.fif, identical file already exists in GCS.\n",
      "2024-12-19 18:06:10.830207 Skipping C:\\dev\\play\\brainwave-data\\2024-11-12-21-11-43\\raw.final_wake_model.csv, identical file already exists in GCS.\n",
      "2024-12-19 18:06:10.889994 Skipping C:\\dev\\play\\brainwave-data\\2024-11-12-21-11-43\\raw.final_wake_model_post_human.csv, identical file already exists in GCS.\n",
      "2024-12-19 18:06:10.933328 C:\\dev\\play\\brainwave-data\\2024-11-12-21-11-43\\raw.final_wake_model_post_human.json uploading to 2024-11-12-21-11-43/raw.final_wake_model_post_human.json, does_not_exist=True has_changed=True\n",
      "2024-12-19 18:06:11.105579 Skipping C:\\dev\\play\\brainwave-data\\2024-11-12-21-11-43\\raw.microwakings.csv, identical file already exists in GCS.\n",
      "2024-12-19 18:06:11.151860 Skipping C:\\dev\\play\\brainwave-data\\2024-11-12-21-11-43\\raw.night_events.csv, identical file already exists in GCS.\n",
      "2024-12-19 18:06:11.214202 Skipping C:\\dev\\play\\brainwave-data\\2024-11-12-21-11-43\\raw.physical_features.csv, identical file already exists in GCS.\n",
      "2024-12-19 18:06:11.276287 Skipping C:\\dev\\play\\brainwave-data\\2024-11-12-21-11-43\\raw.post_filter_psd_plot.png, identical file already exists in GCS.\n",
      "2024-12-19 18:06:11.372876 Skipping C:\\dev\\play\\brainwave-data\\2024-11-12-21-11-43\\raw.post_human.csv, identical file already exists in GCS.\n",
      "2024-12-19 18:06:11.456604 Skipping C:\\dev\\play\\brainwave-data\\2024-11-12-21-11-43\\raw.post_yasa.csv, identical file already exists in GCS.\n",
      "2024-12-19 18:06:11.514328 Skipping C:\\dev\\play\\brainwave-data\\2024-11-12-21-11-43\\raw.pre_filter_psd_plot.png, identical file already exists in GCS.\n",
      "2024-12-19 18:06:11.560071 Skipping C:\\dev\\play\\brainwave-data\\2024-11-12-21-11-43\\raw.sleep.json, identical file already exists in GCS.\n",
      "2024-12-19 18:06:11.639066 Skipping C:\\dev\\play\\brainwave-data\\2024-11-12-21-11-43\\raw.sleep_stages.csv, identical file already exists in GCS.\n",
      "2024-12-19 18:06:11.681438 Skipping C:\\dev\\play\\brainwave-data\\2024-11-12-21-11-43\\raw.sleep_stages.Fpz-M1.csv, identical file already exists in GCS.\n",
      "2024-12-19 18:06:11.745246 Skipping C:\\dev\\play\\brainwave-data\\2024-11-12-21-11-43\\raw.spectrogram.Fpz-M1.png, identical file already exists in GCS.\n",
      "2024-12-19 18:06:11.872992 Skipping C:\\dev\\play\\brainwave-data\\2024-11-12-21-11-43\\raw.sw_summary.csv, identical file already exists in GCS.\n",
      "2024-12-19 18:06:11.942341 Skipping C:\\dev\\play\\brainwave-data\\2024-11-12-21-11-43\\raw.with_features.csv, identical file already exists in GCS.\n"
     ]
    },
    {
     "name": "stderr",
     "output_type": "stream",
     "text": [
      " 69%|██████▉   | 77/111 [05:33<02:22,  4.18s/it]"
     ]
    },
    {
     "name": "stdout",
     "output_type": "stream",
     "text": [
      "2024-12-19 18:06:12.149196 Skipping C:\\dev\\play\\brainwave-data\\2024-11-12-21-11-43\\raw.yasa.csv, identical file already exists in GCS.\n",
      "2024-12-19 18:06:12.261684 Uploaded directory checksum for C:\\dev\\play\\brainwave-data\\2024-11-12-21-11-43 to 2024-11-12-21-11-43/directory_checksum.md5\n",
      "2024-12-19 18:06:15.206606 Skipping C:\\dev\\play\\brainwave-data\\2024-11-16-21-54-46\\2024-11-16-21-54-46.brainflow.csv.bz2, identical file already exists in GCS.\n",
      "2024-12-19 18:06:15.264236 Skipping C:\\dev\\play\\brainwave-data\\2024-11-16-21-54-46\\raw.average_slow_wave.png, identical file already exists in GCS.\n",
      "2024-12-19 18:06:15.381500 Skipping C:\\dev\\play\\brainwave-data\\2024-11-16-21-54-46\\raw.edf, identical file already exists in GCS.\n",
      "2024-12-19 18:06:15.525810 Skipping C:\\dev\\play\\brainwave-data\\2024-11-16-21-54-46\\raw.fif, identical file already exists in GCS.\n",
      "2024-12-19 18:06:15.570963 Skipping C:\\dev\\play\\brainwave-data\\2024-11-16-21-54-46\\raw.final_wake_model.csv, identical file already exists in GCS.\n",
      "2024-12-19 18:06:15.606398 Skipping C:\\dev\\play\\brainwave-data\\2024-11-16-21-54-46\\raw.final_wake_model_post_human.csv, identical file already exists in GCS.\n",
      "2024-12-19 18:06:15.662947 C:\\dev\\play\\brainwave-data\\2024-11-16-21-54-46\\raw.final_wake_model_post_human.json uploading to 2024-11-16-21-54-46/raw.final_wake_model_post_human.json, does_not_exist=True has_changed=True\n",
      "2024-12-19 18:06:15.829067 Skipping C:\\dev\\play\\brainwave-data\\2024-11-16-21-54-46\\raw.microwakings.csv, identical file already exists in GCS.\n",
      "2024-12-19 18:06:15.868522 Skipping C:\\dev\\play\\brainwave-data\\2024-11-16-21-54-46\\raw.night_events.csv, identical file already exists in GCS.\n",
      "2024-12-19 18:06:15.916755 Skipping C:\\dev\\play\\brainwave-data\\2024-11-16-21-54-46\\raw.physical_features.csv, identical file already exists in GCS.\n",
      "2024-12-19 18:06:15.963074 Skipping C:\\dev\\play\\brainwave-data\\2024-11-16-21-54-46\\raw.post_filter_psd_plot.png, identical file already exists in GCS.\n",
      "2024-12-19 18:06:16.054753 Skipping C:\\dev\\play\\brainwave-data\\2024-11-16-21-54-46\\raw.post_human.csv, identical file already exists in GCS.\n",
      "2024-12-19 18:06:16.141070 Skipping C:\\dev\\play\\brainwave-data\\2024-11-16-21-54-46\\raw.post_yasa.csv, identical file already exists in GCS.\n",
      "2024-12-19 18:06:16.190507 Skipping C:\\dev\\play\\brainwave-data\\2024-11-16-21-54-46\\raw.pre_filter_psd_plot.png, identical file already exists in GCS.\n",
      "2024-12-19 18:06:16.230325 Skipping C:\\dev\\play\\brainwave-data\\2024-11-16-21-54-46\\raw.sleep.json, identical file already exists in GCS.\n",
      "2024-12-19 18:06:16.285488 Skipping C:\\dev\\play\\brainwave-data\\2024-11-16-21-54-46\\raw.sleep_stages.csv, identical file already exists in GCS.\n",
      "2024-12-19 18:06:16.334700 Skipping C:\\dev\\play\\brainwave-data\\2024-11-16-21-54-46\\raw.sleep_stages.Fpz-M1.csv, identical file already exists in GCS.\n",
      "2024-12-19 18:06:16.397770 Skipping C:\\dev\\play\\brainwave-data\\2024-11-16-21-54-46\\raw.spectrogram.Fpz-M1.png, identical file already exists in GCS.\n",
      "2024-12-19 18:06:16.455807 Skipping C:\\dev\\play\\brainwave-data\\2024-11-16-21-54-46\\raw.sw_summary.csv, identical file already exists in GCS.\n"
     ]
    },
    {
     "name": "stderr",
     "output_type": "stream",
     "text": [
      " 70%|███████   | 78/111 [05:37<02:20,  4.25s/it]"
     ]
    },
    {
     "name": "stdout",
     "output_type": "stream",
     "text": [
      "2024-12-19 18:06:16.535167 Skipping C:\\dev\\play\\brainwave-data\\2024-11-16-21-54-46\\raw.with_features.csv, identical file already exists in GCS.\n",
      "2024-12-19 18:06:16.572475 Skipping C:\\dev\\play\\brainwave-data\\2024-11-16-21-54-46\\raw.yasa.csv, identical file already exists in GCS.\n",
      "2024-12-19 18:06:16.665068 Uploaded directory checksum for C:\\dev\\play\\brainwave-data\\2024-11-16-21-54-46 to 2024-11-16-21-54-46/directory_checksum.md5\n",
      "2024-12-19 18:06:19.494774 Skipping C:\\dev\\play\\brainwave-data\\2024-11-19-21-29-04\\2024-11-19-21-29-04.brainflow.csv.bz2, identical file already exists in GCS.\n",
      "2024-12-19 18:06:19.542575 Skipping C:\\dev\\play\\brainwave-data\\2024-11-19-21-29-04\\raw.average_slow_wave.png, identical file already exists in GCS.\n",
      "2024-12-19 18:06:19.669627 Skipping C:\\dev\\play\\brainwave-data\\2024-11-19-21-29-04\\raw.edf, identical file already exists in GCS.\n",
      "2024-12-19 18:06:19.845689 Skipping C:\\dev\\play\\brainwave-data\\2024-11-19-21-29-04\\raw.fif, identical file already exists in GCS.\n",
      "2024-12-19 18:06:19.890903 Skipping C:\\dev\\play\\brainwave-data\\2024-11-19-21-29-04\\raw.final_wake_model.csv, identical file already exists in GCS.\n",
      "2024-12-19 18:06:19.945697 Skipping C:\\dev\\play\\brainwave-data\\2024-11-19-21-29-04\\raw.final_wake_model_post_human.csv, identical file already exists in GCS.\n",
      "2024-12-19 18:06:19.993954 C:\\dev\\play\\brainwave-data\\2024-11-19-21-29-04\\raw.final_wake_model_post_human.json uploading to 2024-11-19-21-29-04/raw.final_wake_model_post_human.json, does_not_exist=True has_changed=True\n",
      "2024-12-19 18:06:20.175401 Skipping C:\\dev\\play\\brainwave-data\\2024-11-19-21-29-04\\raw.microwakings.csv, identical file already exists in GCS.\n",
      "2024-12-19 18:06:20.214535 Skipping C:\\dev\\play\\brainwave-data\\2024-11-19-21-29-04\\raw.night_events.csv, identical file already exists in GCS.\n",
      "2024-12-19 18:06:20.271741 Skipping C:\\dev\\play\\brainwave-data\\2024-11-19-21-29-04\\raw.physical_features.csv, identical file already exists in GCS.\n",
      "2024-12-19 18:06:20.318686 Skipping C:\\dev\\play\\brainwave-data\\2024-11-19-21-29-04\\raw.post_filter_psd_plot.png, identical file already exists in GCS.\n",
      "2024-12-19 18:06:20.408293 Skipping C:\\dev\\play\\brainwave-data\\2024-11-19-21-29-04\\raw.post_human.csv, identical file already exists in GCS.\n",
      "2024-12-19 18:06:20.496341 Skipping C:\\dev\\play\\brainwave-data\\2024-11-19-21-29-04\\raw.post_yasa.csv, identical file already exists in GCS.\n",
      "2024-12-19 18:06:20.562986 Skipping C:\\dev\\play\\brainwave-data\\2024-11-19-21-29-04\\raw.pre_filter_psd_plot.png, identical file already exists in GCS.\n",
      "2024-12-19 18:06:20.609634 Skipping C:\\dev\\play\\brainwave-data\\2024-11-19-21-29-04\\raw.sleep.json, identical file already exists in GCS.\n",
      "2024-12-19 18:06:20.664023 Skipping C:\\dev\\play\\brainwave-data\\2024-11-19-21-29-04\\raw.sleep_stages.csv, identical file already exists in GCS.\n",
      "2024-12-19 18:06:20.727451 Skipping C:\\dev\\play\\brainwave-data\\2024-11-19-21-29-04\\raw.sleep_stages.Fpz-M1.csv, identical file already exists in GCS.\n",
      "2024-12-19 18:06:20.791538 Skipping C:\\dev\\play\\brainwave-data\\2024-11-19-21-29-04\\raw.spectrogram.Fpz-M1.png, identical file already exists in GCS.\n",
      "2024-12-19 18:06:20.822532 Skipping C:\\dev\\play\\brainwave-data\\2024-11-19-21-29-04\\raw.sw_summary.csv, identical file already exists in GCS.\n"
     ]
    },
    {
     "name": "stderr",
     "output_type": "stream",
     "text": [
      " 71%|███████   | 79/111 [05:41<02:17,  4.31s/it]"
     ]
    },
    {
     "name": "stdout",
     "output_type": "stream",
     "text": [
      "2024-12-19 18:06:20.907232 Skipping C:\\dev\\play\\brainwave-data\\2024-11-19-21-29-04\\raw.with_features.csv, identical file already exists in GCS.\n",
      "2024-12-19 18:06:21.005913 Skipping C:\\dev\\play\\brainwave-data\\2024-11-19-21-29-04\\raw.yasa.csv, identical file already exists in GCS.\n",
      "2024-12-19 18:06:21.105656 Uploaded directory checksum for C:\\dev\\play\\brainwave-data\\2024-11-19-21-29-04 to 2024-11-19-21-29-04/directory_checksum.md5\n",
      "2024-12-19 18:06:23.465400 Skipping C:\\dev\\play\\brainwave-data\\2024-11-20-21-30-29\\2024-11-20-21-30-29.brainflow.csv.bz2, identical file already exists in GCS.\n",
      "2024-12-19 18:06:23.514119 Skipping C:\\dev\\play\\brainwave-data\\2024-11-20-21-30-29\\raw.average_slow_wave.png, identical file already exists in GCS.\n",
      "2024-12-19 18:06:23.600700 Skipping C:\\dev\\play\\brainwave-data\\2024-11-20-21-30-29\\raw.edf, identical file already exists in GCS.\n",
      "2024-12-19 18:06:23.712223 Skipping C:\\dev\\play\\brainwave-data\\2024-11-20-21-30-29\\raw.fif, identical file already exists in GCS.\n",
      "2024-12-19 18:06:23.775639 Skipping C:\\dev\\play\\brainwave-data\\2024-11-20-21-30-29\\raw.final_wake_model.csv, identical file already exists in GCS.\n",
      "2024-12-19 18:06:23.826005 Skipping C:\\dev\\play\\brainwave-data\\2024-11-20-21-30-29\\raw.final_wake_model_post_human.csv, identical file already exists in GCS.\n",
      "2024-12-19 18:06:23.897979 C:\\dev\\play\\brainwave-data\\2024-11-20-21-30-29\\raw.final_wake_model_post_human.json uploading to 2024-11-20-21-30-29/raw.final_wake_model_post_human.json, does_not_exist=True has_changed=True\n",
      "2024-12-19 18:06:24.061827 Skipping C:\\dev\\play\\brainwave-data\\2024-11-20-21-30-29\\raw.microwakings.csv, identical file already exists in GCS.\n",
      "2024-12-19 18:06:24.133864 Skipping C:\\dev\\play\\brainwave-data\\2024-11-20-21-30-29\\raw.night_events.csv, identical file already exists in GCS.\n",
      "2024-12-19 18:06:24.199116 Skipping C:\\dev\\play\\brainwave-data\\2024-11-20-21-30-29\\raw.physical_features.csv, identical file already exists in GCS.\n",
      "2024-12-19 18:06:24.255895 Skipping C:\\dev\\play\\brainwave-data\\2024-11-20-21-30-29\\raw.post_filter_psd_plot.png, identical file already exists in GCS.\n",
      "2024-12-19 18:06:24.299736 Skipping C:\\dev\\play\\brainwave-data\\2024-11-20-21-30-29\\raw.post_human.csv, identical file already exists in GCS.\n",
      "2024-12-19 18:06:24.362100 Skipping C:\\dev\\play\\brainwave-data\\2024-11-20-21-30-29\\raw.post_yasa.csv, identical file already exists in GCS.\n",
      "2024-12-19 18:06:24.420354 Skipping C:\\dev\\play\\brainwave-data\\2024-11-20-21-30-29\\raw.pre_filter_psd_plot.png, identical file already exists in GCS.\n",
      "2024-12-19 18:06:24.476125 Skipping C:\\dev\\play\\brainwave-data\\2024-11-20-21-30-29\\raw.sleep.json, identical file already exists in GCS.\n",
      "2024-12-19 18:06:24.532375 Skipping C:\\dev\\play\\brainwave-data\\2024-11-20-21-30-29\\raw.sleep_stages.csv, identical file already exists in GCS.\n",
      "2024-12-19 18:06:24.591499 Skipping C:\\dev\\play\\brainwave-data\\2024-11-20-21-30-29\\raw.sleep_stages.Fpz-M1.csv, identical file already exists in GCS.\n",
      "2024-12-19 18:06:24.647444 Skipping C:\\dev\\play\\brainwave-data\\2024-11-20-21-30-29\\raw.spectrogram.Fpz-M1.png, identical file already exists in GCS.\n",
      "2024-12-19 18:06:24.701320 Skipping C:\\dev\\play\\brainwave-data\\2024-11-20-21-30-29\\raw.sw_summary.csv, identical file already exists in GCS.\n"
     ]
    },
    {
     "name": "stderr",
     "output_type": "stream",
     "text": [
      " 72%|███████▏  | 80/111 [05:45<02:09,  4.17s/it]"
     ]
    },
    {
     "name": "stdout",
     "output_type": "stream",
     "text": [
      "2024-12-19 18:06:24.773476 Skipping C:\\dev\\play\\brainwave-data\\2024-11-20-21-30-29\\raw.with_features.csv, identical file already exists in GCS.\n",
      "2024-12-19 18:06:24.836611 Skipping C:\\dev\\play\\brainwave-data\\2024-11-20-21-30-29\\raw.yasa.csv, identical file already exists in GCS.\n",
      "2024-12-19 18:06:24.945364 Uploaded directory checksum for C:\\dev\\play\\brainwave-data\\2024-11-20-21-30-29 to 2024-11-20-21-30-29/directory_checksum.md5\n",
      "2024-12-19 18:06:27.614264 Skipping C:\\dev\\play\\brainwave-data\\2024-11-21-21-15-26\\2024-11-21-21-15-26.brainflow.csv.bz2, identical file already exists in GCS.\n",
      "2024-12-19 18:06:27.660509 Skipping C:\\dev\\play\\brainwave-data\\2024-11-21-21-15-26\\raw.average_slow_wave.png, identical file already exists in GCS.\n",
      "2024-12-19 18:06:27.768208 Skipping C:\\dev\\play\\brainwave-data\\2024-11-21-21-15-26\\raw.edf, identical file already exists in GCS.\n",
      "2024-12-19 18:06:27.932377 Skipping C:\\dev\\play\\brainwave-data\\2024-11-21-21-15-26\\raw.fif, identical file already exists in GCS.\n",
      "2024-12-19 18:06:27.985734 Skipping C:\\dev\\play\\brainwave-data\\2024-11-21-21-15-26\\raw.final_wake_model.csv, identical file already exists in GCS.\n",
      "2024-12-19 18:06:28.016955 Skipping C:\\dev\\play\\brainwave-data\\2024-11-21-21-15-26\\raw.final_wake_model_post_human.csv, identical file already exists in GCS.\n",
      "2024-12-19 18:06:28.072524 C:\\dev\\play\\brainwave-data\\2024-11-21-21-15-26\\raw.final_wake_model_post_human.json uploading to 2024-11-21-21-15-26/raw.final_wake_model_post_human.json, does_not_exist=True has_changed=True\n",
      "2024-12-19 18:06:28.282551 Skipping C:\\dev\\play\\brainwave-data\\2024-11-21-21-15-26\\raw.microwakings.csv, identical file already exists in GCS.\n",
      "2024-12-19 18:06:28.367975 Skipping C:\\dev\\play\\brainwave-data\\2024-11-21-21-15-26\\raw.night_events.csv, identical file already exists in GCS.\n",
      "2024-12-19 18:06:28.427407 Skipping C:\\dev\\play\\brainwave-data\\2024-11-21-21-15-26\\raw.physical_features.csv, identical file already exists in GCS.\n",
      "2024-12-19 18:06:28.473814 Skipping C:\\dev\\play\\brainwave-data\\2024-11-21-21-15-26\\raw.post_filter_psd_plot.png, identical file already exists in GCS.\n",
      "2024-12-19 18:06:28.568308 Skipping C:\\dev\\play\\brainwave-data\\2024-11-21-21-15-26\\raw.post_human.csv, identical file already exists in GCS.\n",
      "2024-12-19 18:06:28.647799 Skipping C:\\dev\\play\\brainwave-data\\2024-11-21-21-15-26\\raw.post_yasa.csv, identical file already exists in GCS.\n",
      "2024-12-19 18:06:28.681531 Skipping C:\\dev\\play\\brainwave-data\\2024-11-21-21-15-26\\raw.pre_filter_psd_plot.png, identical file already exists in GCS.\n",
      "2024-12-19 18:06:28.740104 Skipping C:\\dev\\play\\brainwave-data\\2024-11-21-21-15-26\\raw.sleep.json, identical file already exists in GCS.\n",
      "2024-12-19 18:06:28.779349 Skipping C:\\dev\\play\\brainwave-data\\2024-11-21-21-15-26\\raw.sleep_stages.csv, identical file already exists in GCS.\n",
      "2024-12-19 18:06:28.824790 Skipping C:\\dev\\play\\brainwave-data\\2024-11-21-21-15-26\\raw.sleep_stages.Fpz-M1.csv, identical file already exists in GCS.\n",
      "2024-12-19 18:06:28.878429 Skipping C:\\dev\\play\\brainwave-data\\2024-11-21-21-15-26\\raw.spectrogram.Fpz-M1.png, identical file already exists in GCS.\n",
      "2024-12-19 18:06:28.925729 Skipping C:\\dev\\play\\brainwave-data\\2024-11-21-21-15-26\\raw.sw_summary.csv, identical file already exists in GCS.\n",
      "2024-12-19 18:06:28.973005 Skipping C:\\dev\\play\\brainwave-data\\2024-11-21-21-15-26\\raw.with_features.csv, identical file already exists in GCS.\n"
     ]
    },
    {
     "name": "stderr",
     "output_type": "stream",
     "text": [
      " 73%|███████▎  | 81/111 [05:49<02:04,  4.17s/it]"
     ]
    },
    {
     "name": "stdout",
     "output_type": "stream",
     "text": [
      "2024-12-19 18:06:29.033260 Skipping C:\\dev\\play\\brainwave-data\\2024-11-21-21-15-26\\raw.yasa.csv, identical file already exists in GCS.\n",
      "2024-12-19 18:06:29.112268 Uploaded directory checksum for C:\\dev\\play\\brainwave-data\\2024-11-21-21-15-26 to 2024-11-21-21-15-26/directory_checksum.md5\n",
      "2024-12-19 18:06:31.763954 Skipping C:\\dev\\play\\brainwave-data\\2024-11-22-21-30-12\\2024-11-22-21-30-12.brainflow.csv.bz2, identical file already exists in GCS.\n",
      "2024-12-19 18:06:31.823550 Skipping C:\\dev\\play\\brainwave-data\\2024-11-22-21-30-12\\raw.average_slow_wave.png, identical file already exists in GCS.\n",
      "2024-12-19 18:06:31.922302 Skipping C:\\dev\\play\\brainwave-data\\2024-11-22-21-30-12\\raw.edf, identical file already exists in GCS.\n",
      "2024-12-19 18:06:32.060059 Skipping C:\\dev\\play\\brainwave-data\\2024-11-22-21-30-12\\raw.fif, identical file already exists in GCS.\n",
      "2024-12-19 18:06:32.111418 Skipping C:\\dev\\play\\brainwave-data\\2024-11-22-21-30-12\\raw.final_wake_model.csv, identical file already exists in GCS.\n",
      "2024-12-19 18:06:32.166607 Skipping C:\\dev\\play\\brainwave-data\\2024-11-22-21-30-12\\raw.final_wake_model_post_human.csv, identical file already exists in GCS.\n",
      "2024-12-19 18:06:32.213092 C:\\dev\\play\\brainwave-data\\2024-11-22-21-30-12\\raw.final_wake_model_post_human.json uploading to 2024-11-22-21-30-12/raw.final_wake_model_post_human.json, does_not_exist=True has_changed=True\n",
      "2024-12-19 18:06:32.355331 Skipping C:\\dev\\play\\brainwave-data\\2024-11-22-21-30-12\\raw.microwakings.csv, identical file already exists in GCS.\n",
      "2024-12-19 18:06:32.387047 Skipping C:\\dev\\play\\brainwave-data\\2024-11-22-21-30-12\\raw.night_events.csv, identical file already exists in GCS.\n",
      "2024-12-19 18:06:32.441192 Skipping C:\\dev\\play\\brainwave-data\\2024-11-22-21-30-12\\raw.physical_features.csv, identical file already exists in GCS.\n",
      "2024-12-19 18:06:32.497500 Skipping C:\\dev\\play\\brainwave-data\\2024-11-22-21-30-12\\raw.post_filter_psd_plot.png, identical file already exists in GCS.\n",
      "2024-12-19 18:06:32.552881 Skipping C:\\dev\\play\\brainwave-data\\2024-11-22-21-30-12\\raw.post_human.csv, identical file already exists in GCS.\n",
      "2024-12-19 18:06:32.632177 Skipping C:\\dev\\play\\brainwave-data\\2024-11-22-21-30-12\\raw.post_yasa.csv, identical file already exists in GCS.\n",
      "2024-12-19 18:06:32.709256 Skipping C:\\dev\\play\\brainwave-data\\2024-11-22-21-30-12\\raw.pre_filter_psd_plot.png, identical file already exists in GCS.\n",
      "2024-12-19 18:06:32.762633 Skipping C:\\dev\\play\\brainwave-data\\2024-11-22-21-30-12\\raw.sleep.json, identical file already exists in GCS.\n",
      "2024-12-19 18:06:32.825492 Skipping C:\\dev\\play\\brainwave-data\\2024-11-22-21-30-12\\raw.sleep_stages.csv, identical file already exists in GCS.\n",
      "2024-12-19 18:06:32.879519 Skipping C:\\dev\\play\\brainwave-data\\2024-11-22-21-30-12\\raw.sleep_stages.Fpz-M1.csv, identical file already exists in GCS.\n",
      "2024-12-19 18:06:32.929054 Skipping C:\\dev\\play\\brainwave-data\\2024-11-22-21-30-12\\raw.spectrogram.Fpz-M1.png, identical file already exists in GCS.\n",
      "2024-12-19 18:06:32.969201 Skipping C:\\dev\\play\\brainwave-data\\2024-11-22-21-30-12\\raw.sw_summary.csv, identical file already exists in GCS.\n",
      "2024-12-19 18:06:33.055944 Skipping C:\\dev\\play\\brainwave-data\\2024-11-22-21-30-12\\raw.with_features.csv, identical file already exists in GCS.\n"
     ]
    },
    {
     "name": "stderr",
     "output_type": "stream",
     "text": [
      " 74%|███████▍  | 82/111 [05:54<02:00,  4.15s/it]"
     ]
    },
    {
     "name": "stdout",
     "output_type": "stream",
     "text": [
      "2024-12-19 18:06:33.105672 Skipping C:\\dev\\play\\brainwave-data\\2024-11-22-21-30-12\\raw.yasa.csv, identical file already exists in GCS.\n",
      "2024-12-19 18:06:33.236448 Uploaded directory checksum for C:\\dev\\play\\brainwave-data\\2024-11-22-21-30-12 to 2024-11-22-21-30-12/directory_checksum.md5\n",
      "2024-12-19 18:06:36.016329 Skipping C:\\dev\\play\\brainwave-data\\2024-11-23-21-14-58\\2024-11-23-21-14-58.brainflow.csv.bz2, identical file already exists in GCS.\n",
      "2024-12-19 18:06:36.064575 Skipping C:\\dev\\play\\brainwave-data\\2024-11-23-21-14-58\\raw.average_slow_wave.png, identical file already exists in GCS.\n",
      "2024-12-19 18:06:36.165638 Skipping C:\\dev\\play\\brainwave-data\\2024-11-23-21-14-58\\raw.edf, identical file already exists in GCS.\n",
      "2024-12-19 18:06:36.339642 Skipping C:\\dev\\play\\brainwave-data\\2024-11-23-21-14-58\\raw.fif, identical file already exists in GCS.\n",
      "2024-12-19 18:06:36.400085 Skipping C:\\dev\\play\\brainwave-data\\2024-11-23-21-14-58\\raw.final_wake_model.csv, identical file already exists in GCS.\n",
      "2024-12-19 18:06:36.453579 Skipping C:\\dev\\play\\brainwave-data\\2024-11-23-21-14-58\\raw.final_wake_model_post_human.csv, identical file already exists in GCS.\n",
      "2024-12-19 18:06:36.510006 C:\\dev\\play\\brainwave-data\\2024-11-23-21-14-58\\raw.final_wake_model_post_human.json uploading to 2024-11-23-21-14-58/raw.final_wake_model_post_human.json, does_not_exist=True has_changed=True\n",
      "2024-12-19 18:06:36.666836 Skipping C:\\dev\\play\\brainwave-data\\2024-11-23-21-14-58\\raw.microwakings.csv, identical file already exists in GCS.\n",
      "2024-12-19 18:06:36.713027 Skipping C:\\dev\\play\\brainwave-data\\2024-11-23-21-14-58\\raw.night_events.csv, identical file already exists in GCS.\n",
      "2024-12-19 18:06:36.793570 Skipping C:\\dev\\play\\brainwave-data\\2024-11-23-21-14-58\\raw.physical_features.csv, identical file already exists in GCS.\n",
      "2024-12-19 18:06:36.835440 Skipping C:\\dev\\play\\brainwave-data\\2024-11-23-21-14-58\\raw.post_filter_psd_plot.png, identical file already exists in GCS.\n",
      "2024-12-19 18:06:36.907817 Skipping C:\\dev\\play\\brainwave-data\\2024-11-23-21-14-58\\raw.post_human.csv, identical file already exists in GCS.\n",
      "2024-12-19 18:06:36.991728 Skipping C:\\dev\\play\\brainwave-data\\2024-11-23-21-14-58\\raw.post_yasa.csv, identical file already exists in GCS.\n",
      "2024-12-19 18:06:37.037690 Skipping C:\\dev\\play\\brainwave-data\\2024-11-23-21-14-58\\raw.pre_filter_psd_plot.png, identical file already exists in GCS.\n",
      "2024-12-19 18:06:37.091130 Skipping C:\\dev\\play\\brainwave-data\\2024-11-23-21-14-58\\raw.sleep.json, identical file already exists in GCS.\n",
      "2024-12-19 18:06:37.133657 Skipping C:\\dev\\play\\brainwave-data\\2024-11-23-21-14-58\\raw.sleep_stages.csv, identical file already exists in GCS.\n",
      "2024-12-19 18:06:37.183649 Skipping C:\\dev\\play\\brainwave-data\\2024-11-23-21-14-58\\raw.sleep_stages.Fpz-M1.csv, identical file already exists in GCS.\n",
      "2024-12-19 18:06:37.234619 Skipping C:\\dev\\play\\brainwave-data\\2024-11-23-21-14-58\\raw.spectrogram.Fpz-M1.png, identical file already exists in GCS.\n",
      "2024-12-19 18:06:37.307103 Skipping C:\\dev\\play\\brainwave-data\\2024-11-23-21-14-58\\raw.sw_summary.csv, identical file already exists in GCS.\n"
     ]
    },
    {
     "name": "stderr",
     "output_type": "stream",
     "text": [
      " 75%|███████▍  | 83/111 [05:58<01:57,  4.19s/it]"
     ]
    },
    {
     "name": "stdout",
     "output_type": "stream",
     "text": [
      "2024-12-19 18:06:37.385739 Skipping C:\\dev\\play\\brainwave-data\\2024-11-23-21-14-58\\raw.with_features.csv, identical file already exists in GCS.\n",
      "2024-12-19 18:06:37.442097 Skipping C:\\dev\\play\\brainwave-data\\2024-11-23-21-14-58\\raw.yasa.csv, identical file already exists in GCS.\n",
      "2024-12-19 18:06:37.526609 Uploaded directory checksum for C:\\dev\\play\\brainwave-data\\2024-11-23-21-14-58 to 2024-11-23-21-14-58/directory_checksum.md5\n",
      "2024-12-19 18:06:39.494212 Skipping C:\\dev\\play\\brainwave-data\\2024-11-24-21-21-31\\2024-11-24-21-21-31.brainflow.csv.bz2, identical file already exists in GCS.\n",
      "2024-12-19 18:06:39.558062 Skipping C:\\dev\\play\\brainwave-data\\2024-11-24-21-21-31\\raw.average_slow_wave.png, identical file already exists in GCS.\n",
      "2024-12-19 18:06:39.622371 Skipping C:\\dev\\play\\brainwave-data\\2024-11-24-21-21-31\\raw.edf, identical file already exists in GCS.\n",
      "2024-12-19 18:06:39.700709 Skipping C:\\dev\\play\\brainwave-data\\2024-11-24-21-21-31\\raw.fif, identical file already exists in GCS.\n",
      "2024-12-19 18:06:39.756795 Skipping C:\\dev\\play\\brainwave-data\\2024-11-24-21-21-31\\raw.final_wake_model.csv, identical file already exists in GCS.\n",
      "2024-12-19 18:06:39.789991 Skipping C:\\dev\\play\\brainwave-data\\2024-11-24-21-21-31\\raw.final_wake_model_post_human.csv, identical file already exists in GCS.\n",
      "2024-12-19 18:06:39.842828 C:\\dev\\play\\brainwave-data\\2024-11-24-21-21-31\\raw.final_wake_model_post_human.json uploading to 2024-11-24-21-21-31/raw.final_wake_model_post_human.json, does_not_exist=True has_changed=True\n",
      "2024-12-19 18:06:40.031529 Skipping C:\\dev\\play\\brainwave-data\\2024-11-24-21-21-31\\raw.microwakings.csv, identical file already exists in GCS.\n",
      "2024-12-19 18:06:40.063221 Skipping C:\\dev\\play\\brainwave-data\\2024-11-24-21-21-31\\raw.night_events.csv, identical file already exists in GCS.\n",
      "2024-12-19 18:06:40.111597 Skipping C:\\dev\\play\\brainwave-data\\2024-11-24-21-21-31\\raw.physical_features.csv, identical file already exists in GCS.\n",
      "2024-12-19 18:06:40.159851 Skipping C:\\dev\\play\\brainwave-data\\2024-11-24-21-21-31\\raw.post_filter_psd_plot.png, identical file already exists in GCS.\n",
      "2024-12-19 18:06:40.222758 Skipping C:\\dev\\play\\brainwave-data\\2024-11-24-21-21-31\\raw.post_human.csv, identical file already exists in GCS.\n",
      "2024-12-19 18:06:40.285311 Skipping C:\\dev\\play\\brainwave-data\\2024-11-24-21-21-31\\raw.post_yasa.csv, identical file already exists in GCS.\n",
      "2024-12-19 18:06:40.348691 Skipping C:\\dev\\play\\brainwave-data\\2024-11-24-21-21-31\\raw.pre_filter_psd_plot.png, identical file already exists in GCS.\n",
      "2024-12-19 18:06:40.396039 Skipping C:\\dev\\play\\brainwave-data\\2024-11-24-21-21-31\\raw.sleep.json, identical file already exists in GCS.\n",
      "2024-12-19 18:06:40.446569 Skipping C:\\dev\\play\\brainwave-data\\2024-11-24-21-21-31\\raw.sleep_stages.csv, identical file already exists in GCS.\n",
      "2024-12-19 18:06:40.496596 Skipping C:\\dev\\play\\brainwave-data\\2024-11-24-21-21-31\\raw.sleep_stages.Fpz-M1.csv, identical file already exists in GCS.\n",
      "2024-12-19 18:06:40.543932 Skipping C:\\dev\\play\\brainwave-data\\2024-11-24-21-21-31\\raw.spectrogram.Fpz-M1.png, identical file already exists in GCS.\n",
      "2024-12-19 18:06:40.618775 Skipping C:\\dev\\play\\brainwave-data\\2024-11-24-21-21-31\\raw.with_features.csv, identical file already exists in GCS.\n",
      "2024-12-19 18:06:40.669647 Skipping C:\\dev\\play\\brainwave-data\\2024-11-24-21-21-31\\raw.yasa.csv, identical file already exists in GCS.\n"
     ]
    },
    {
     "name": "stderr",
     "output_type": "stream",
     "text": [
      " 76%|███████▌  | 84/111 [06:01<01:45,  3.90s/it]"
     ]
    },
    {
     "name": "stdout",
     "output_type": "stream",
     "text": [
      "2024-12-19 18:06:40.749526 Uploaded directory checksum for C:\\dev\\play\\brainwave-data\\2024-11-24-21-21-31 to 2024-11-24-21-21-31/directory_checksum.md5\n",
      "2024-12-19 18:06:42.902189 Skipping C:\\dev\\play\\brainwave-data\\2024-11-24-22-33-06\\2024-11-24-22-33-06.brainflow.csv.bz2, identical file already exists in GCS.\n",
      "2024-12-19 18:06:42.952671 Skipping C:\\dev\\play\\brainwave-data\\2024-11-24-22-33-06\\raw.average_slow_wave.png, identical file already exists in GCS.\n",
      "2024-12-19 18:06:43.005316 Skipping C:\\dev\\play\\brainwave-data\\2024-11-24-22-33-06\\raw.edf, identical file already exists in GCS.\n",
      "2024-12-19 18:06:43.055893 Skipping C:\\dev\\play\\brainwave-data\\2024-11-24-22-33-06\\raw.fif, identical file already exists in GCS.\n",
      "2024-12-19 18:06:43.102415 Skipping C:\\dev\\play\\brainwave-data\\2024-11-24-22-33-06\\raw.final_wake_model.csv, identical file already exists in GCS.\n",
      "2024-12-19 18:06:43.143328 Skipping C:\\dev\\play\\brainwave-data\\2024-11-24-22-33-06\\raw.final_wake_model_post_human.csv, identical file already exists in GCS.\n",
      "2024-12-19 18:06:43.190130 C:\\dev\\play\\brainwave-data\\2024-11-24-22-33-06\\raw.final_wake_model_post_human.json uploading to 2024-11-24-22-33-06/raw.final_wake_model_post_human.json, does_not_exist=True has_changed=True\n",
      "2024-12-19 18:06:43.324007 Skipping C:\\dev\\play\\brainwave-data\\2024-11-24-22-33-06\\raw.microwakings.csv, identical file already exists in GCS.\n",
      "2024-12-19 18:06:43.386961 Skipping C:\\dev\\play\\brainwave-data\\2024-11-24-22-33-06\\raw.night_events.csv, identical file already exists in GCS.\n",
      "2024-12-19 18:06:43.447304 Skipping C:\\dev\\play\\brainwave-data\\2024-11-24-22-33-06\\raw.physical_features.csv, identical file already exists in GCS.\n",
      "2024-12-19 18:06:43.489440 Skipping C:\\dev\\play\\brainwave-data\\2024-11-24-22-33-06\\raw.post_filter_psd_plot.png, identical file already exists in GCS.\n",
      "2024-12-19 18:06:43.538994 Skipping C:\\dev\\play\\brainwave-data\\2024-11-24-22-33-06\\raw.post_human.csv, identical file already exists in GCS.\n",
      "2024-12-19 18:06:43.585453 Skipping C:\\dev\\play\\brainwave-data\\2024-11-24-22-33-06\\raw.post_yasa.csv, identical file already exists in GCS.\n",
      "2024-12-19 18:06:43.637417 Skipping C:\\dev\\play\\brainwave-data\\2024-11-24-22-33-06\\raw.pre_filter_psd_plot.png, identical file already exists in GCS.\n",
      "2024-12-19 18:06:43.672223 Skipping C:\\dev\\play\\brainwave-data\\2024-11-24-22-33-06\\raw.sleep.json, identical file already exists in GCS.\n",
      "2024-12-19 18:06:43.719710 Skipping C:\\dev\\play\\brainwave-data\\2024-11-24-22-33-06\\raw.sleep_stages.csv, identical file already exists in GCS.\n",
      "2024-12-19 18:06:43.767058 Skipping C:\\dev\\play\\brainwave-data\\2024-11-24-22-33-06\\raw.sleep_stages.Fpz-M1.csv, identical file already exists in GCS.\n",
      "2024-12-19 18:06:43.816111 Skipping C:\\dev\\play\\brainwave-data\\2024-11-24-22-33-06\\raw.spectrogram.Fpz-M1.png, identical file already exists in GCS.\n"
     ]
    },
    {
     "name": "stderr",
     "output_type": "stream",
     "text": [
      " 77%|███████▋  | 85/111 [06:04<01:36,  3.71s/it]"
     ]
    },
    {
     "name": "stdout",
     "output_type": "stream",
     "text": [
      "2024-12-19 18:06:43.871153 Skipping C:\\dev\\play\\brainwave-data\\2024-11-24-22-33-06\\raw.with_features.csv, identical file already exists in GCS.\n",
      "2024-12-19 18:06:43.915030 Skipping C:\\dev\\play\\brainwave-data\\2024-11-24-22-33-06\\raw.yasa.csv, identical file already exists in GCS.\n",
      "2024-12-19 18:06:44.016110 Uploaded directory checksum for C:\\dev\\play\\brainwave-data\\2024-11-24-22-33-06 to 2024-11-24-22-33-06/directory_checksum.md5\n",
      "2024-12-19 18:06:45.782238 Skipping C:\\dev\\play\\brainwave-data\\2024-11-24-22-37-54\\2024-11-24-22-37-54.brainflow.csv.bz2, identical file already exists in GCS.\n",
      "2024-12-19 18:06:45.829644 Skipping C:\\dev\\play\\brainwave-data\\2024-11-24-22-37-54\\raw.average_slow_wave.png, identical file already exists in GCS.\n",
      "2024-12-19 18:06:45.867595 Skipping C:\\dev\\play\\brainwave-data\\2024-11-24-22-37-54\\raw.edf, identical file already exists in GCS.\n",
      "2024-12-19 18:06:45.924126 Skipping C:\\dev\\play\\brainwave-data\\2024-11-24-22-37-54\\raw.fif, identical file already exists in GCS.\n",
      "2024-12-19 18:06:45.978755 Skipping C:\\dev\\play\\brainwave-data\\2024-11-24-22-37-54\\raw.final_wake_model.csv, identical file already exists in GCS.\n",
      "2024-12-19 18:06:46.030634 Skipping C:\\dev\\play\\brainwave-data\\2024-11-24-22-37-54\\raw.final_wake_model_post_human.csv, identical file already exists in GCS.\n",
      "2024-12-19 18:06:46.095446 C:\\dev\\play\\brainwave-data\\2024-11-24-22-37-54\\raw.final_wake_model_post_human.json uploading to 2024-11-24-22-37-54/raw.final_wake_model_post_human.json, does_not_exist=True has_changed=True\n",
      "2024-12-19 18:06:46.242217 Skipping C:\\dev\\play\\brainwave-data\\2024-11-24-22-37-54\\raw.microwakings.csv, identical file already exists in GCS.\n",
      "2024-12-19 18:06:46.301816 Skipping C:\\dev\\play\\brainwave-data\\2024-11-24-22-37-54\\raw.night_events.csv, identical file already exists in GCS.\n",
      "2024-12-19 18:06:46.402553 Skipping C:\\dev\\play\\brainwave-data\\2024-11-24-22-37-54\\raw.physical_features.csv, identical file already exists in GCS.\n",
      "2024-12-19 18:06:46.467193 Skipping C:\\dev\\play\\brainwave-data\\2024-11-24-22-37-54\\raw.post_filter_psd_plot.png, identical file already exists in GCS.\n",
      "2024-12-19 18:06:46.518262 Skipping C:\\dev\\play\\brainwave-data\\2024-11-24-22-37-54\\raw.post_human.csv, identical file already exists in GCS.\n",
      "2024-12-19 18:06:46.565073 Skipping C:\\dev\\play\\brainwave-data\\2024-11-24-22-37-54\\raw.post_yasa.csv, identical file already exists in GCS.\n",
      "2024-12-19 18:06:46.614121 Skipping C:\\dev\\play\\brainwave-data\\2024-11-24-22-37-54\\raw.pre_filter_psd_plot.png, identical file already exists in GCS.\n",
      "2024-12-19 18:06:46.656156 Skipping C:\\dev\\play\\brainwave-data\\2024-11-24-22-37-54\\raw.sleep.json, identical file already exists in GCS.\n",
      "2024-12-19 18:06:46.724679 Skipping C:\\dev\\play\\brainwave-data\\2024-11-24-22-37-54\\raw.sleep_stages.csv, identical file already exists in GCS.\n",
      "2024-12-19 18:06:46.785440 Skipping C:\\dev\\play\\brainwave-data\\2024-11-24-22-37-54\\raw.sleep_stages.Fpz-M1.csv, identical file already exists in GCS.\n",
      "2024-12-19 18:06:46.834151 Skipping C:\\dev\\play\\brainwave-data\\2024-11-24-22-37-54\\raw.spectrogram.Fpz-M1.png, identical file already exists in GCS.\n",
      "2024-12-19 18:06:46.891246 Skipping C:\\dev\\play\\brainwave-data\\2024-11-24-22-37-54\\raw.with_features.csv, identical file already exists in GCS.\n",
      "2024-12-19 18:06:46.937092 Skipping C:\\dev\\play\\brainwave-data\\2024-11-24-22-37-54\\raw.yasa.csv, identical file already exists in GCS.\n"
     ]
    },
    {
     "name": "stderr",
     "output_type": "stream",
     "text": [
      " 77%|███████▋  | 86/111 [06:07<01:27,  3.50s/it]"
     ]
    },
    {
     "name": "stdout",
     "output_type": "stream",
     "text": [
      "2024-12-19 18:06:47.019735 Uploaded directory checksum for C:\\dev\\play\\brainwave-data\\2024-11-24-22-37-54 to 2024-11-24-22-37-54/directory_checksum.md5\n",
      "2024-12-19 18:06:49.897221 Skipping C:\\dev\\play\\brainwave-data\\2024-11-25-21-27-21\\2024-11-25-21-27-21.brainflow.csv.bz2, identical file already exists in GCS.\n",
      "2024-12-19 18:06:49.944668 Skipping C:\\dev\\play\\brainwave-data\\2024-11-25-21-27-21\\raw.average_slow_wave.png, identical file already exists in GCS.\n",
      "2024-12-19 18:06:50.041892 Skipping C:\\dev\\play\\brainwave-data\\2024-11-25-21-27-21\\raw.edf, identical file already exists in GCS.\n",
      "2024-12-19 18:06:50.218032 Skipping C:\\dev\\play\\brainwave-data\\2024-11-25-21-27-21\\raw.fif, identical file already exists in GCS.\n",
      "2024-12-19 18:06:50.265815 Skipping C:\\dev\\play\\brainwave-data\\2024-11-25-21-27-21\\raw.final_wake_model.csv, identical file already exists in GCS.\n",
      "2024-12-19 18:06:50.325140 Skipping C:\\dev\\play\\brainwave-data\\2024-11-25-21-27-21\\raw.final_wake_model_post_human.csv, identical file already exists in GCS.\n",
      "2024-12-19 18:06:50.372119 C:\\dev\\play\\brainwave-data\\2024-11-25-21-27-21\\raw.final_wake_model_post_human.json uploading to 2024-11-25-21-27-21/raw.final_wake_model_post_human.json, does_not_exist=True has_changed=True\n",
      "2024-12-19 18:06:50.560522 Skipping C:\\dev\\play\\brainwave-data\\2024-11-25-21-27-21\\raw.microwakings.csv, identical file already exists in GCS.\n",
      "2024-12-19 18:06:50.607691 Skipping C:\\dev\\play\\brainwave-data\\2024-11-25-21-27-21\\raw.night_events.csv, identical file already exists in GCS.\n",
      "2024-12-19 18:06:50.689344 Skipping C:\\dev\\play\\brainwave-data\\2024-11-25-21-27-21\\raw.physical_features.csv, identical file already exists in GCS.\n",
      "2024-12-19 18:06:50.747541 Skipping C:\\dev\\play\\brainwave-data\\2024-11-25-21-27-21\\raw.post_filter_psd_plot.png, identical file already exists in GCS.\n",
      "2024-12-19 18:06:50.808795 Skipping C:\\dev\\play\\brainwave-data\\2024-11-25-21-27-21\\raw.post_human.csv, identical file already exists in GCS.\n",
      "2024-12-19 18:06:50.887084 Skipping C:\\dev\\play\\brainwave-data\\2024-11-25-21-27-21\\raw.post_yasa.csv, identical file already exists in GCS.\n",
      "2024-12-19 18:06:50.935724 Skipping C:\\dev\\play\\brainwave-data\\2024-11-25-21-27-21\\raw.pre_filter_psd_plot.png, identical file already exists in GCS.\n",
      "2024-12-19 18:06:51.005753 Skipping C:\\dev\\play\\brainwave-data\\2024-11-25-21-27-21\\raw.sleep.json, identical file already exists in GCS.\n",
      "2024-12-19 18:06:51.075331 Skipping C:\\dev\\play\\brainwave-data\\2024-11-25-21-27-21\\raw.sleep_stages.csv, identical file already exists in GCS.\n",
      "2024-12-19 18:06:51.131599 Skipping C:\\dev\\play\\brainwave-data\\2024-11-25-21-27-21\\raw.sleep_stages.Fpz-M1.csv, identical file already exists in GCS.\n",
      "2024-12-19 18:06:51.199593 Skipping C:\\dev\\play\\brainwave-data\\2024-11-25-21-27-21\\raw.spectrogram.Fpz-M1.png, identical file already exists in GCS.\n",
      "2024-12-19 18:06:51.265038 Skipping C:\\dev\\play\\brainwave-data\\2024-11-25-21-27-21\\raw.sw_summary.csv, identical file already exists in GCS.\n"
     ]
    },
    {
     "name": "stderr",
     "output_type": "stream",
     "text": [
      " 78%|███████▊  | 87/111 [06:12<01:30,  3.79s/it]"
     ]
    },
    {
     "name": "stdout",
     "output_type": "stream",
     "text": [
      "2024-12-19 18:06:51.338890 Skipping C:\\dev\\play\\brainwave-data\\2024-11-25-21-27-21\\raw.with_features.csv, identical file already exists in GCS.\n",
      "2024-12-19 18:06:51.393086 Skipping C:\\dev\\play\\brainwave-data\\2024-11-25-21-27-21\\raw.yasa.csv, identical file already exists in GCS.\n",
      "2024-12-19 18:06:51.482379 Uploaded directory checksum for C:\\dev\\play\\brainwave-data\\2024-11-25-21-27-21 to 2024-11-25-21-27-21/directory_checksum.md5\n",
      "2024-12-19 18:06:54.242997 Skipping C:\\dev\\play\\brainwave-data\\2024-11-26-21-35-46\\2024-11-26-21-35-46.brainflow.csv.bz2, identical file already exists in GCS.\n",
      "2024-12-19 18:06:54.290733 Skipping C:\\dev\\play\\brainwave-data\\2024-11-26-21-35-46\\raw.average_slow_wave.png, identical file already exists in GCS.\n",
      "2024-12-19 18:06:54.407567 Skipping C:\\dev\\play\\brainwave-data\\2024-11-26-21-35-46\\raw.edf, identical file already exists in GCS.\n",
      "2024-12-19 18:06:54.534743 Skipping C:\\dev\\play\\brainwave-data\\2024-11-26-21-35-46\\raw.fif, identical file already exists in GCS.\n",
      "2024-12-19 18:06:54.601542 Skipping C:\\dev\\play\\brainwave-data\\2024-11-26-21-35-46\\raw.final_wake_model.csv, identical file already exists in GCS.\n",
      "2024-12-19 18:06:54.659813 Skipping C:\\dev\\play\\brainwave-data\\2024-11-26-21-35-46\\raw.final_wake_model_post_human.csv, identical file already exists in GCS.\n",
      "2024-12-19 18:06:54.709358 C:\\dev\\play\\brainwave-data\\2024-11-26-21-35-46\\raw.final_wake_model_post_human.json uploading to 2024-11-26-21-35-46/raw.final_wake_model_post_human.json, does_not_exist=True has_changed=True\n",
      "2024-12-19 18:06:54.879267 Skipping C:\\dev\\play\\brainwave-data\\2024-11-26-21-35-46\\raw.microwakings.csv, identical file already exists in GCS.\n",
      "2024-12-19 18:06:54.948399 Skipping C:\\dev\\play\\brainwave-data\\2024-11-26-21-35-46\\raw.night_events.csv, identical file already exists in GCS.\n",
      "2024-12-19 18:06:55.000875 Skipping C:\\dev\\play\\brainwave-data\\2024-11-26-21-35-46\\raw.physical_features.csv, identical file already exists in GCS.\n",
      "2024-12-19 18:06:55.054648 Skipping C:\\dev\\play\\brainwave-data\\2024-11-26-21-35-46\\raw.post_filter_psd_plot.png, identical file already exists in GCS.\n",
      "2024-12-19 18:06:55.132702 Skipping C:\\dev\\play\\brainwave-data\\2024-11-26-21-35-46\\raw.post_human.csv, identical file already exists in GCS.\n",
      "2024-12-19 18:06:55.206051 Skipping C:\\dev\\play\\brainwave-data\\2024-11-26-21-35-46\\raw.post_yasa.csv, identical file already exists in GCS.\n",
      "2024-12-19 18:06:55.260566 Skipping C:\\dev\\play\\brainwave-data\\2024-11-26-21-35-46\\raw.pre_filter_psd_plot.png, identical file already exists in GCS.\n",
      "2024-12-19 18:06:55.314047 Skipping C:\\dev\\play\\brainwave-data\\2024-11-26-21-35-46\\raw.sleep.json, identical file already exists in GCS.\n",
      "2024-12-19 18:06:55.360013 Skipping C:\\dev\\play\\brainwave-data\\2024-11-26-21-35-46\\raw.sleep_stages.csv, identical file already exists in GCS.\n",
      "2024-12-19 18:06:55.399589 Skipping C:\\dev\\play\\brainwave-data\\2024-11-26-21-35-46\\raw.sleep_stages.Fpz-M1.csv, identical file already exists in GCS.\n",
      "2024-12-19 18:06:55.438919 Skipping C:\\dev\\play\\brainwave-data\\2024-11-26-21-35-46\\raw.spectrogram.Fpz-M1.png, identical file already exists in GCS.\n",
      "2024-12-19 18:06:55.508686 Skipping C:\\dev\\play\\brainwave-data\\2024-11-26-21-35-46\\raw.with_features.csv, identical file already exists in GCS.\n",
      "2024-12-19 18:06:55.548832 Skipping C:\\dev\\play\\brainwave-data\\2024-11-26-21-35-46\\raw.yasa.csv, identical file already exists in GCS.\n"
     ]
    },
    {
     "name": "stderr",
     "output_type": "stream",
     "text": [
      " 79%|███████▉  | 88/111 [06:16<01:29,  3.90s/it]"
     ]
    },
    {
     "name": "stdout",
     "output_type": "stream",
     "text": [
      "2024-12-19 18:06:55.649256 Uploaded directory checksum for C:\\dev\\play\\brainwave-data\\2024-11-26-21-35-46 to 2024-11-26-21-35-46/directory_checksum.md5\n",
      "2024-12-19 18:06:57.647598 Skipping C:\\dev\\play\\brainwave-data\\2024-11-27-21-14-24\\2024-11-27-21-14-24.brainflow.csv.bz2, identical file already exists in GCS.\n",
      "2024-12-19 18:06:57.707511 Skipping C:\\dev\\play\\brainwave-data\\2024-11-27-21-14-24\\raw.average_slow_wave.png, identical file already exists in GCS.\n",
      "2024-12-19 18:06:57.745300 Skipping C:\\dev\\play\\brainwave-data\\2024-11-27-21-14-24\\raw.edf, identical file already exists in GCS.\n",
      "2024-12-19 18:06:57.797565 Skipping C:\\dev\\play\\brainwave-data\\2024-11-27-21-14-24\\raw.fif, identical file already exists in GCS.\n",
      "2024-12-19 18:06:57.848680 Skipping C:\\dev\\play\\brainwave-data\\2024-11-27-21-14-24\\raw.final_wake_model.csv, identical file already exists in GCS.\n",
      "2024-12-19 18:06:57.895081 Skipping C:\\dev\\play\\brainwave-data\\2024-11-27-21-14-24\\raw.final_wake_model_post_human.csv, identical file already exists in GCS.\n",
      "2024-12-19 18:06:57.935256 C:\\dev\\play\\brainwave-data\\2024-11-27-21-14-24\\raw.final_wake_model_post_human.json uploading to 2024-11-27-21-14-24/raw.final_wake_model_post_human.json, does_not_exist=True has_changed=True\n",
      "2024-12-19 18:06:58.131129 Skipping C:\\dev\\play\\brainwave-data\\2024-11-27-21-14-24\\raw.microwakings.csv, identical file already exists in GCS.\n",
      "2024-12-19 18:06:58.187225 Skipping C:\\dev\\play\\brainwave-data\\2024-11-27-21-14-24\\raw.night_events.csv, identical file already exists in GCS.\n",
      "2024-12-19 18:06:58.236729 Skipping C:\\dev\\play\\brainwave-data\\2024-11-27-21-14-24\\raw.physical_features.csv, identical file already exists in GCS.\n",
      "2024-12-19 18:06:58.277134 Skipping C:\\dev\\play\\brainwave-data\\2024-11-27-21-14-24\\raw.post_filter_psd_plot.png, identical file already exists in GCS.\n",
      "2024-12-19 18:06:58.333569 Skipping C:\\dev\\play\\brainwave-data\\2024-11-27-21-14-24\\raw.post_human.csv, identical file already exists in GCS.\n",
      "2024-12-19 18:06:58.372103 Skipping C:\\dev\\play\\brainwave-data\\2024-11-27-21-14-24\\raw.post_yasa.csv, identical file already exists in GCS.\n",
      "2024-12-19 18:06:58.412312 Skipping C:\\dev\\play\\brainwave-data\\2024-11-27-21-14-24\\raw.pre_filter_psd_plot.png, identical file already exists in GCS.\n",
      "2024-12-19 18:06:58.472421 Skipping C:\\dev\\play\\brainwave-data\\2024-11-27-21-14-24\\raw.sleep.json, identical file already exists in GCS.\n",
      "2024-12-19 18:06:58.522550 Skipping C:\\dev\\play\\brainwave-data\\2024-11-27-21-14-24\\raw.sleep_stages.csv, identical file already exists in GCS.\n",
      "2024-12-19 18:06:58.576645 Skipping C:\\dev\\play\\brainwave-data\\2024-11-27-21-14-24\\raw.sleep_stages.Fpz-M1.csv, identical file already exists in GCS.\n",
      "2024-12-19 18:06:58.620251 Skipping C:\\dev\\play\\brainwave-data\\2024-11-27-21-14-24\\raw.spectrogram.Fpz-M1.png, identical file already exists in GCS.\n",
      "2024-12-19 18:06:58.675696 Skipping C:\\dev\\play\\brainwave-data\\2024-11-27-21-14-24\\raw.with_features.csv, identical file already exists in GCS.\n",
      "2024-12-19 18:06:58.736791 Skipping C:\\dev\\play\\brainwave-data\\2024-11-27-21-14-24\\raw.yasa.csv, identical file already exists in GCS.\n"
     ]
    },
    {
     "name": "stderr",
     "output_type": "stream",
     "text": [
      " 80%|████████  | 89/111 [06:19<01:21,  3.69s/it]"
     ]
    },
    {
     "name": "stdout",
     "output_type": "stream",
     "text": [
      "2024-12-19 18:06:58.818110 Uploaded directory checksum for C:\\dev\\play\\brainwave-data\\2024-11-27-21-14-24 to 2024-11-27-21-14-24/directory_checksum.md5\n",
      "2024-12-19 18:07:01.510366 Skipping C:\\dev\\play\\brainwave-data\\2024-11-27-21-18-50\\2024-11-27-21-18-50.brainflow.csv.bz2, identical file already exists in GCS.\n",
      "2024-12-19 18:07:01.560885 Skipping C:\\dev\\play\\brainwave-data\\2024-11-27-21-18-50\\raw.average_slow_wave.png, identical file already exists in GCS.\n",
      "2024-12-19 18:07:01.665373 Skipping C:\\dev\\play\\brainwave-data\\2024-11-27-21-18-50\\raw.edf, identical file already exists in GCS.\n",
      "2024-12-19 18:07:01.810132 Skipping C:\\dev\\play\\brainwave-data\\2024-11-27-21-18-50\\raw.fif, identical file already exists in GCS.\n",
      "2024-12-19 18:07:01.859826 Skipping C:\\dev\\play\\brainwave-data\\2024-11-27-21-18-50\\raw.final_wake_model.csv, identical file already exists in GCS.\n",
      "2024-12-19 18:07:01.925464 Skipping C:\\dev\\play\\brainwave-data\\2024-11-27-21-18-50\\raw.final_wake_model_post_human.csv, identical file already exists in GCS.\n",
      "2024-12-19 18:07:01.973011 C:\\dev\\play\\brainwave-data\\2024-11-27-21-18-50\\raw.final_wake_model_post_human.json uploading to 2024-11-27-21-18-50/raw.final_wake_model_post_human.json, does_not_exist=True has_changed=True\n",
      "2024-12-19 18:07:02.118729 Skipping C:\\dev\\play\\brainwave-data\\2024-11-27-21-18-50\\raw.microwakings.csv, identical file already exists in GCS.\n",
      "2024-12-19 18:07:02.168179 Skipping C:\\dev\\play\\brainwave-data\\2024-11-27-21-18-50\\raw.night_events.csv, identical file already exists in GCS.\n",
      "2024-12-19 18:07:02.216510 Skipping C:\\dev\\play\\brainwave-data\\2024-11-27-21-18-50\\raw.physical_features.csv, identical file already exists in GCS.\n",
      "2024-12-19 18:07:02.263224 Skipping C:\\dev\\play\\brainwave-data\\2024-11-27-21-18-50\\raw.post_filter_psd_plot.png, identical file already exists in GCS.\n",
      "2024-12-19 18:07:02.337759 Skipping C:\\dev\\play\\brainwave-data\\2024-11-27-21-18-50\\raw.post_human.csv, identical file already exists in GCS.\n",
      "2024-12-19 18:07:02.389693 Skipping C:\\dev\\play\\brainwave-data\\2024-11-27-21-18-50\\raw.post_yasa.csv, identical file already exists in GCS.\n",
      "2024-12-19 18:07:02.465542 Skipping C:\\dev\\play\\brainwave-data\\2024-11-27-21-18-50\\raw.pre_filter_psd_plot.png, identical file already exists in GCS.\n",
      "2024-12-19 18:07:02.517469 Skipping C:\\dev\\play\\brainwave-data\\2024-11-27-21-18-50\\raw.sleep.json, identical file already exists in GCS.\n",
      "2024-12-19 18:07:02.552039 Skipping C:\\dev\\play\\brainwave-data\\2024-11-27-21-18-50\\raw.sleep_stages.csv, identical file already exists in GCS.\n",
      "2024-12-19 18:07:02.613965 Skipping C:\\dev\\play\\brainwave-data\\2024-11-27-21-18-50\\raw.sleep_stages.Fpz-M1.csv, identical file already exists in GCS.\n",
      "2024-12-19 18:07:02.663834 Skipping C:\\dev\\play\\brainwave-data\\2024-11-27-21-18-50\\raw.spectrogram.Fpz-M1.png, identical file already exists in GCS.\n",
      "2024-12-19 18:07:02.727489 Skipping C:\\dev\\play\\brainwave-data\\2024-11-27-21-18-50\\raw.with_features.csv, identical file already exists in GCS.\n"
     ]
    },
    {
     "name": "stderr",
     "output_type": "stream",
     "text": [
      " 81%|████████  | 90/111 [06:23<01:19,  3.79s/it]"
     ]
    },
    {
     "name": "stdout",
     "output_type": "stream",
     "text": [
      "2024-12-19 18:07:02.767930 Skipping C:\\dev\\play\\brainwave-data\\2024-11-27-21-18-50\\raw.yasa.csv, identical file already exists in GCS.\n",
      "2024-12-19 18:07:02.859831 Uploaded directory checksum for C:\\dev\\play\\brainwave-data\\2024-11-27-21-18-50 to 2024-11-27-21-18-50/directory_checksum.md5\n",
      "2024-12-19 18:07:05.331636 Skipping C:\\dev\\play\\brainwave-data\\2024-11-28-21-50-57\\2024-11-28-21-50-57.brainflow.csv.bz2, identical file already exists in GCS.\n",
      "2024-12-19 18:07:05.389348 Skipping C:\\dev\\play\\brainwave-data\\2024-11-28-21-50-57\\raw.average_slow_wave.png, identical file already exists in GCS.\n",
      "2024-12-19 18:07:05.509743 Skipping C:\\dev\\play\\brainwave-data\\2024-11-28-21-50-57\\raw.edf, identical file already exists in GCS.\n",
      "2024-12-19 18:07:05.645208 Skipping C:\\dev\\play\\brainwave-data\\2024-11-28-21-50-57\\raw.fif, identical file already exists in GCS.\n",
      "2024-12-19 18:07:05.705308 Skipping C:\\dev\\play\\brainwave-data\\2024-11-28-21-50-57\\raw.final_wake_model.csv, identical file already exists in GCS.\n",
      "2024-12-19 18:07:05.755429 Skipping C:\\dev\\play\\brainwave-data\\2024-11-28-21-50-57\\raw.final_wake_model_post_human.csv, identical file already exists in GCS.\n",
      "2024-12-19 18:07:05.814012 C:\\dev\\play\\brainwave-data\\2024-11-28-21-50-57\\raw.final_wake_model_post_human.json uploading to 2024-11-28-21-50-57/raw.final_wake_model_post_human.json, does_not_exist=True has_changed=True\n",
      "2024-12-19 18:07:05.950198 Skipping C:\\dev\\play\\brainwave-data\\2024-11-28-21-50-57\\raw.microwakings.csv, identical file already exists in GCS.\n",
      "2024-12-19 18:07:06.010587 Skipping C:\\dev\\play\\brainwave-data\\2024-11-28-21-50-57\\raw.night_events.csv, identical file already exists in GCS.\n",
      "2024-12-19 18:07:06.050727 Skipping C:\\dev\\play\\brainwave-data\\2024-11-28-21-50-57\\raw.physical_features.csv, identical file already exists in GCS.\n",
      "2024-12-19 18:07:06.100854 Skipping C:\\dev\\play\\brainwave-data\\2024-11-28-21-50-57\\raw.post_filter_psd_plot.png, identical file already exists in GCS.\n",
      "2024-12-19 18:07:06.161228 Skipping C:\\dev\\play\\brainwave-data\\2024-11-28-21-50-57\\raw.post_human.csv, identical file already exists in GCS.\n",
      "2024-12-19 18:07:06.232082 Skipping C:\\dev\\play\\brainwave-data\\2024-11-28-21-50-57\\raw.post_yasa.csv, identical file already exists in GCS.\n",
      "2024-12-19 18:07:06.282159 Skipping C:\\dev\\play\\brainwave-data\\2024-11-28-21-50-57\\raw.pre_filter_psd_plot.png, identical file already exists in GCS.\n",
      "2024-12-19 18:07:06.336143 Skipping C:\\dev\\play\\brainwave-data\\2024-11-28-21-50-57\\raw.sleep.json, identical file already exists in GCS.\n",
      "2024-12-19 18:07:06.386485 Skipping C:\\dev\\play\\brainwave-data\\2024-11-28-21-50-57\\raw.sleep_stages.csv, identical file already exists in GCS.\n",
      "2024-12-19 18:07:06.446680 Skipping C:\\dev\\play\\brainwave-data\\2024-11-28-21-50-57\\raw.sleep_stages.Fpz-M1.csv, identical file already exists in GCS.\n",
      "2024-12-19 18:07:06.514864 Skipping C:\\dev\\play\\brainwave-data\\2024-11-28-21-50-57\\raw.spectrogram.Fpz-M1.png, identical file already exists in GCS.\n",
      "2024-12-19 18:07:06.588903 Skipping C:\\dev\\play\\brainwave-data\\2024-11-28-21-50-57\\raw.with_features.csv, identical file already exists in GCS.\n"
     ]
    },
    {
     "name": "stderr",
     "output_type": "stream",
     "text": [
      " 82%|████████▏ | 91/111 [06:27<01:16,  3.83s/it]"
     ]
    },
    {
     "name": "stdout",
     "output_type": "stream",
     "text": [
      "2024-12-19 18:07:06.669693 Skipping C:\\dev\\play\\brainwave-data\\2024-11-28-21-50-57\\raw.yasa.csv, identical file already exists in GCS.\n",
      "2024-12-19 18:07:06.771751 Uploaded directory checksum for C:\\dev\\play\\brainwave-data\\2024-11-28-21-50-57 to 2024-11-28-21-50-57/directory_checksum.md5\n",
      "2024-12-19 18:07:09.476201 Skipping C:\\dev\\play\\brainwave-data\\2024-11-29-21-18-33\\2024-11-29-21-18-33.brainflow.csv.bz2, identical file already exists in GCS.\n",
      "2024-12-19 18:07:09.539198 Skipping C:\\dev\\play\\brainwave-data\\2024-11-29-21-18-33\\raw.average_slow_wave.png, identical file already exists in GCS.\n",
      "2024-12-19 18:07:09.655940 Skipping C:\\dev\\play\\brainwave-data\\2024-11-29-21-18-33\\raw.edf, identical file already exists in GCS.\n",
      "2024-12-19 18:07:09.815756 Skipping C:\\dev\\play\\brainwave-data\\2024-11-29-21-18-33\\raw.fif, identical file already exists in GCS.\n",
      "2024-12-19 18:07:09.880287 Skipping C:\\dev\\play\\brainwave-data\\2024-11-29-21-18-33\\raw.final_wake_model.csv, identical file already exists in GCS.\n",
      "2024-12-19 18:07:09.926229 Skipping C:\\dev\\play\\brainwave-data\\2024-11-29-21-18-33\\raw.final_wake_model_post_human.csv, identical file already exists in GCS.\n",
      "2024-12-19 18:07:09.975058 C:\\dev\\play\\brainwave-data\\2024-11-29-21-18-33\\raw.final_wake_model_post_human.json uploading to 2024-11-29-21-18-33/raw.final_wake_model_post_human.json, does_not_exist=True has_changed=True\n",
      "2024-12-19 18:07:10.170224 Skipping C:\\dev\\play\\brainwave-data\\2024-11-29-21-18-33\\raw.microwakings.csv, identical file already exists in GCS.\n",
      "2024-12-19 18:07:10.233209 Skipping C:\\dev\\play\\brainwave-data\\2024-11-29-21-18-33\\raw.night_events.csv, identical file already exists in GCS.\n",
      "2024-12-19 18:07:10.283024 Skipping C:\\dev\\play\\brainwave-data\\2024-11-29-21-18-33\\raw.physical_features.csv, identical file already exists in GCS.\n",
      "2024-12-19 18:07:10.327821 Skipping C:\\dev\\play\\brainwave-data\\2024-11-29-21-18-33\\raw.post_filter_psd_plot.png, identical file already exists in GCS.\n",
      "2024-12-19 18:07:10.406832 Skipping C:\\dev\\play\\brainwave-data\\2024-11-29-21-18-33\\raw.post_human.csv, identical file already exists in GCS.\n",
      "2024-12-19 18:07:10.497829 Skipping C:\\dev\\play\\brainwave-data\\2024-11-29-21-18-33\\raw.post_yasa.csv, identical file already exists in GCS.\n",
      "2024-12-19 18:07:10.561561 Skipping C:\\dev\\play\\brainwave-data\\2024-11-29-21-18-33\\raw.pre_filter_psd_plot.png, identical file already exists in GCS.\n",
      "2024-12-19 18:07:10.609735 Skipping C:\\dev\\play\\brainwave-data\\2024-11-29-21-18-33\\raw.sleep.json, identical file already exists in GCS.\n",
      "2024-12-19 18:07:10.675443 Skipping C:\\dev\\play\\brainwave-data\\2024-11-29-21-18-33\\raw.sleep_stages.csv, identical file already exists in GCS.\n",
      "2024-12-19 18:07:10.734873 Skipping C:\\dev\\play\\brainwave-data\\2024-11-29-21-18-33\\raw.sleep_stages.Fpz-M1.csv, identical file already exists in GCS.\n",
      "2024-12-19 18:07:10.796367 Skipping C:\\dev\\play\\brainwave-data\\2024-11-29-21-18-33\\raw.spectrogram.Fpz-M1.png, identical file already exists in GCS.\n"
     ]
    },
    {
     "name": "stderr",
     "output_type": "stream",
     "text": [
      " 83%|████████▎ | 92/111 [06:31<01:15,  3.95s/it]"
     ]
    },
    {
     "name": "stdout",
     "output_type": "stream",
     "text": [
      "2024-12-19 18:07:10.876932 Skipping C:\\dev\\play\\brainwave-data\\2024-11-29-21-18-33\\raw.with_features.csv, identical file already exists in GCS.\n",
      "2024-12-19 18:07:10.926915 Skipping C:\\dev\\play\\brainwave-data\\2024-11-29-21-18-33\\raw.yasa.csv, identical file already exists in GCS.\n",
      "2024-12-19 18:07:11.027446 Uploaded directory checksum for C:\\dev\\play\\brainwave-data\\2024-11-29-21-18-33 to 2024-11-29-21-18-33/directory_checksum.md5\n",
      "2024-12-19 18:07:13.817965 Skipping C:\\dev\\play\\brainwave-data\\2024-11-30-21-21-05\\2024-11-30-21-21-05.brainflow.csv.bz2, identical file already exists in GCS.\n",
      "2024-12-19 18:07:13.871694 Skipping C:\\dev\\play\\brainwave-data\\2024-11-30-21-21-05\\raw.average_slow_wave.png, identical file already exists in GCS.\n",
      "2024-12-19 18:07:13.988813 Skipping C:\\dev\\play\\brainwave-data\\2024-11-30-21-21-05\\raw.edf, identical file already exists in GCS.\n",
      "2024-12-19 18:07:14.126215 Skipping C:\\dev\\play\\brainwave-data\\2024-11-30-21-21-05\\raw.fif, identical file already exists in GCS.\n",
      "2024-12-19 18:07:14.168221 Skipping C:\\dev\\play\\brainwave-data\\2024-11-30-21-21-05\\raw.final_wake_model.csv, identical file already exists in GCS.\n",
      "2024-12-19 18:07:14.214078 Skipping C:\\dev\\play\\brainwave-data\\2024-11-30-21-21-05\\raw.final_wake_model_post_human.csv, identical file already exists in GCS.\n",
      "2024-12-19 18:07:14.260566 C:\\dev\\play\\brainwave-data\\2024-11-30-21-21-05\\raw.final_wake_model_post_human.json uploading to 2024-11-30-21-21-05/raw.final_wake_model_post_human.json, does_not_exist=True has_changed=True\n",
      "2024-12-19 18:07:14.405954 Skipping C:\\dev\\play\\brainwave-data\\2024-11-30-21-21-05\\raw.microwakings.csv, identical file already exists in GCS.\n",
      "2024-12-19 18:07:14.460964 Skipping C:\\dev\\play\\brainwave-data\\2024-11-30-21-21-05\\raw.night_events.csv, identical file already exists in GCS.\n",
      "2024-12-19 18:07:14.529518 Skipping C:\\dev\\play\\brainwave-data\\2024-11-30-21-21-05\\raw.physical_features.csv, identical file already exists in GCS.\n",
      "2024-12-19 18:07:14.580612 Skipping C:\\dev\\play\\brainwave-data\\2024-11-30-21-21-05\\raw.post_filter_psd_plot.png, identical file already exists in GCS.\n",
      "2024-12-19 18:07:14.639868 Skipping C:\\dev\\play\\brainwave-data\\2024-11-30-21-21-05\\raw.post_human.csv, identical file already exists in GCS.\n",
      "2024-12-19 18:07:14.702010 Skipping C:\\dev\\play\\brainwave-data\\2024-11-30-21-21-05\\raw.post_yasa.csv, identical file already exists in GCS.\n",
      "2024-12-19 18:07:14.748492 Skipping C:\\dev\\play\\brainwave-data\\2024-11-30-21-21-05\\raw.pre_filter_psd_plot.png, identical file already exists in GCS.\n",
      "2024-12-19 18:07:14.794476 Skipping C:\\dev\\play\\brainwave-data\\2024-11-30-21-21-05\\raw.sleep.json, identical file already exists in GCS.\n",
      "2024-12-19 18:07:14.834819 Skipping C:\\dev\\play\\brainwave-data\\2024-11-30-21-21-05\\raw.sleep_stages.csv, identical file already exists in GCS.\n",
      "2024-12-19 18:07:14.877055 Skipping C:\\dev\\play\\brainwave-data\\2024-11-30-21-21-05\\raw.sleep_stages.Fpz-M1.csv, identical file already exists in GCS.\n",
      "2024-12-19 18:07:14.936643 Skipping C:\\dev\\play\\brainwave-data\\2024-11-30-21-21-05\\raw.spectrogram.Fpz-M1.png, identical file already exists in GCS.\n",
      "2024-12-19 18:07:15.035525 Skipping C:\\dev\\play\\brainwave-data\\2024-11-30-21-21-05\\raw.with_features.csv, identical file already exists in GCS.\n"
     ]
    },
    {
     "name": "stderr",
     "output_type": "stream",
     "text": [
      " 84%|████████▍ | 93/111 [06:36<01:12,  4.01s/it]"
     ]
    },
    {
     "name": "stdout",
     "output_type": "stream",
     "text": [
      "2024-12-19 18:07:15.085585 Skipping C:\\dev\\play\\brainwave-data\\2024-11-30-21-21-05\\raw.yasa.csv, identical file already exists in GCS.\n",
      "2024-12-19 18:07:15.181284 Uploaded directory checksum for C:\\dev\\play\\brainwave-data\\2024-11-30-21-21-05 to 2024-11-30-21-21-05/directory_checksum.md5\n",
      "2024-12-19 18:07:17.745369 Skipping C:\\dev\\play\\brainwave-data\\2024-12-01-21-29-13\\2024-12-01-21-29-13.brainflow.csv.bz2, identical file already exists in GCS.\n",
      "2024-12-19 18:07:17.814789 Skipping C:\\dev\\play\\brainwave-data\\2024-12-01-21-29-13\\raw.average_slow_wave.png, identical file already exists in GCS.\n",
      "2024-12-19 18:07:17.902122 Skipping C:\\dev\\play\\brainwave-data\\2024-12-01-21-29-13\\raw.edf, identical file already exists in GCS.\n",
      "2024-12-19 18:07:17.990467 Skipping C:\\dev\\play\\brainwave-data\\2024-12-01-21-29-13\\raw.fif, identical file already exists in GCS.\n",
      "2024-12-19 18:07:18.040178 Skipping C:\\dev\\play\\brainwave-data\\2024-12-01-21-29-13\\raw.final_wake_model.csv, identical file already exists in GCS.\n",
      "2024-12-19 18:07:18.086765 Skipping C:\\dev\\play\\brainwave-data\\2024-12-01-21-29-13\\raw.final_wake_model_post_human.csv, identical file already exists in GCS.\n",
      "2024-12-19 18:07:18.131957 C:\\dev\\play\\brainwave-data\\2024-12-01-21-29-13\\raw.final_wake_model_post_human.json uploading to 2024-12-01-21-29-13/raw.final_wake_model_post_human.json, does_not_exist=True has_changed=True\n",
      "2024-12-19 18:07:18.304162 Skipping C:\\dev\\play\\brainwave-data\\2024-12-01-21-29-13\\raw.microwakings.csv, identical file already exists in GCS.\n",
      "2024-12-19 18:07:18.344531 Skipping C:\\dev\\play\\brainwave-data\\2024-12-01-21-29-13\\raw.night_events.csv, identical file already exists in GCS.\n",
      "2024-12-19 18:07:18.398600 Skipping C:\\dev\\play\\brainwave-data\\2024-12-01-21-29-13\\raw.physical_features.csv, identical file already exists in GCS.\n",
      "2024-12-19 18:07:18.442882 Skipping C:\\dev\\play\\brainwave-data\\2024-12-01-21-29-13\\raw.post_filter_psd_plot.png, identical file already exists in GCS.\n",
      "2024-12-19 18:07:18.508096 Skipping C:\\dev\\play\\brainwave-data\\2024-12-01-21-29-13\\raw.post_human.csv, identical file already exists in GCS.\n",
      "2024-12-19 18:07:18.568481 Skipping C:\\dev\\play\\brainwave-data\\2024-12-01-21-29-13\\raw.post_yasa.csv, identical file already exists in GCS.\n",
      "2024-12-19 18:07:18.608942 Skipping C:\\dev\\play\\brainwave-data\\2024-12-01-21-29-13\\raw.pre_filter_psd_plot.png, identical file already exists in GCS.\n",
      "2024-12-19 18:07:18.669178 Skipping C:\\dev\\play\\brainwave-data\\2024-12-01-21-29-13\\raw.sleep.json, identical file already exists in GCS.\n",
      "2024-12-19 18:07:18.733675 Skipping C:\\dev\\play\\brainwave-data\\2024-12-01-21-29-13\\raw.sleep_stages.csv, identical file already exists in GCS.\n",
      "2024-12-19 18:07:18.777914 Skipping C:\\dev\\play\\brainwave-data\\2024-12-01-21-29-13\\raw.sleep_stages.Fpz-M1.csv, identical file already exists in GCS.\n",
      "2024-12-19 18:07:18.857575 Skipping C:\\dev\\play\\brainwave-data\\2024-12-01-21-29-13\\raw.spectrogram.Fpz-M1.png, identical file already exists in GCS.\n",
      "2024-12-19 18:07:18.916096 Skipping C:\\dev\\play\\brainwave-data\\2024-12-01-21-29-13\\raw.with_features.csv, identical file already exists in GCS.\n"
     ]
    },
    {
     "name": "stderr",
     "output_type": "stream",
     "text": [
      " 85%|████████▍ | 94/111 [06:39<01:07,  3.97s/it]"
     ]
    },
    {
     "name": "stdout",
     "output_type": "stream",
     "text": [
      "2024-12-19 18:07:18.964897 Skipping C:\\dev\\play\\brainwave-data\\2024-12-01-21-29-13\\raw.yasa.csv, identical file already exists in GCS.\n",
      "2024-12-19 18:07:19.061760 Uploaded directory checksum for C:\\dev\\play\\brainwave-data\\2024-12-01-21-29-13 to 2024-12-01-21-29-13/directory_checksum.md5\n",
      "2024-12-19 18:07:21.151254 Skipping C:\\dev\\play\\brainwave-data\\2024-12-03-21-15-08\\2024-12-03-21-15-08.brainflow.csv.bz2, identical file already exists in GCS.\n",
      "2024-12-19 18:07:21.207688 Skipping C:\\dev\\play\\brainwave-data\\2024-12-03-21-15-08\\raw.average_slow_wave.png, identical file already exists in GCS.\n",
      "2024-12-19 18:07:21.278320 Skipping C:\\dev\\play\\brainwave-data\\2024-12-03-21-15-08\\raw.edf, identical file already exists in GCS.\n",
      "2024-12-19 18:07:21.376458 Skipping C:\\dev\\play\\brainwave-data\\2024-12-03-21-15-08\\raw.fif, identical file already exists in GCS.\n",
      "2024-12-19 18:07:21.418117 Skipping C:\\dev\\play\\brainwave-data\\2024-12-03-21-15-08\\raw.final_wake_model.csv, identical file already exists in GCS.\n",
      "2024-12-19 18:07:21.463993 Skipping C:\\dev\\play\\brainwave-data\\2024-12-03-21-15-08\\raw.final_wake_model_post_human.csv, identical file already exists in GCS.\n",
      "2024-12-19 18:07:21.530796 C:\\dev\\play\\brainwave-data\\2024-12-03-21-15-08\\raw.final_wake_model_post_human.json uploading to 2024-12-03-21-15-08/raw.final_wake_model_post_human.json, does_not_exist=True has_changed=True\n",
      "2024-12-19 18:07:21.659746 Skipping C:\\dev\\play\\brainwave-data\\2024-12-03-21-15-08\\raw.microwakings.csv, identical file already exists in GCS.\n",
      "2024-12-19 18:07:21.701524 Skipping C:\\dev\\play\\brainwave-data\\2024-12-03-21-15-08\\raw.night_events.csv, identical file already exists in GCS.\n",
      "2024-12-19 18:07:21.776479 Skipping C:\\dev\\play\\brainwave-data\\2024-12-03-21-15-08\\raw.physical_features.csv, identical file already exists in GCS.\n",
      "2024-12-19 18:07:21.831469 Skipping C:\\dev\\play\\brainwave-data\\2024-12-03-21-15-08\\raw.post_filter_psd_plot.png, identical file already exists in GCS.\n",
      "2024-12-19 18:07:21.893219 Skipping C:\\dev\\play\\brainwave-data\\2024-12-03-21-15-08\\raw.post_human.csv, identical file already exists in GCS.\n",
      "2024-12-19 18:07:21.943870 Skipping C:\\dev\\play\\brainwave-data\\2024-12-03-21-15-08\\raw.post_yasa.csv, identical file already exists in GCS.\n",
      "2024-12-19 18:07:22.002218 Skipping C:\\dev\\play\\brainwave-data\\2024-12-03-21-15-08\\raw.pre_filter_psd_plot.png, identical file already exists in GCS.\n",
      "2024-12-19 18:07:22.051556 Skipping C:\\dev\\play\\brainwave-data\\2024-12-03-21-15-08\\raw.sleep.json, identical file already exists in GCS.\n",
      "2024-12-19 18:07:22.096054 Skipping C:\\dev\\play\\brainwave-data\\2024-12-03-21-15-08\\raw.sleep_stages.csv, identical file already exists in GCS.\n",
      "2024-12-19 18:07:22.143139 Skipping C:\\dev\\play\\brainwave-data\\2024-12-03-21-15-08\\raw.sleep_stages.Fpz-M1.csv, identical file already exists in GCS.\n",
      "2024-12-19 18:07:22.201659 Skipping C:\\dev\\play\\brainwave-data\\2024-12-03-21-15-08\\raw.spectrogram.Fpz-M1.png, identical file already exists in GCS.\n",
      "2024-12-19 18:07:22.267910 Skipping C:\\dev\\play\\brainwave-data\\2024-12-03-21-15-08\\raw.with_features.csv, identical file already exists in GCS.\n",
      "2024-12-19 18:07:22.306258 Skipping C:\\dev\\play\\brainwave-data\\2024-12-03-21-15-08\\raw.yasa.csv, identical file already exists in GCS.\n"
     ]
    },
    {
     "name": "stderr",
     "output_type": "stream",
     "text": [
      " 86%|████████▌ | 95/111 [06:43<01:00,  3.79s/it]"
     ]
    },
    {
     "name": "stdout",
     "output_type": "stream",
     "text": [
      "2024-12-19 18:07:22.406741 Uploaded directory checksum for C:\\dev\\play\\brainwave-data\\2024-12-03-21-15-08 to 2024-12-03-21-15-08/directory_checksum.md5\n",
      "2024-12-19 18:07:25.397379 Skipping C:\\dev\\play\\brainwave-data\\2024-12-04-21-15-17\\2024-12-04-21-15-17.brainflow.csv.bz2, identical file already exists in GCS.\n",
      "2024-12-19 18:07:25.443557 Skipping C:\\dev\\play\\brainwave-data\\2024-12-04-21-15-17\\raw.average_slow_wave.png, identical file already exists in GCS.\n",
      "2024-12-19 18:07:25.540195 Skipping C:\\dev\\play\\brainwave-data\\2024-12-04-21-15-17\\raw.edf, identical file already exists in GCS.\n",
      "2024-12-19 18:07:25.785609 Skipping C:\\dev\\play\\brainwave-data\\2024-12-04-21-15-17\\raw.fif, identical file already exists in GCS.\n",
      "2024-12-19 18:07:25.843172 Skipping C:\\dev\\play\\brainwave-data\\2024-12-04-21-15-17\\raw.final_wake_model.csv, identical file already exists in GCS.\n",
      "2024-12-19 18:07:25.892927 Skipping C:\\dev\\play\\brainwave-data\\2024-12-04-21-15-17\\raw.final_wake_model_post_human.csv, identical file already exists in GCS.\n",
      "2024-12-19 18:07:25.948074 C:\\dev\\play\\brainwave-data\\2024-12-04-21-15-17\\raw.final_wake_model_post_human.json uploading to 2024-12-04-21-15-17/raw.final_wake_model_post_human.json, does_not_exist=True has_changed=True\n",
      "2024-12-19 18:07:26.077477 Skipping C:\\dev\\play\\brainwave-data\\2024-12-04-21-15-17\\raw.microwakings.csv, identical file already exists in GCS.\n",
      "2024-12-19 18:07:26.122438 Skipping C:\\dev\\play\\brainwave-data\\2024-12-04-21-15-17\\raw.night_events.csv, identical file already exists in GCS.\n",
      "2024-12-19 18:07:26.169731 Skipping C:\\dev\\play\\brainwave-data\\2024-12-04-21-15-17\\raw.physical_features.csv, identical file already exists in GCS.\n",
      "2024-12-19 18:07:26.223727 Skipping C:\\dev\\play\\brainwave-data\\2024-12-04-21-15-17\\raw.post_filter_psd_plot.png, identical file already exists in GCS.\n",
      "2024-12-19 18:07:26.293096 Skipping C:\\dev\\play\\brainwave-data\\2024-12-04-21-15-17\\raw.post_human.csv, identical file already exists in GCS.\n",
      "2024-12-19 18:07:26.368466 Skipping C:\\dev\\play\\brainwave-data\\2024-12-04-21-15-17\\raw.post_yasa.csv, identical file already exists in GCS.\n",
      "2024-12-19 18:07:26.427467 Skipping C:\\dev\\play\\brainwave-data\\2024-12-04-21-15-17\\raw.pre_filter_psd_plot.png, identical file already exists in GCS.\n",
      "2024-12-19 18:07:26.489034 Skipping C:\\dev\\play\\brainwave-data\\2024-12-04-21-15-17\\raw.sleep.json, identical file already exists in GCS.\n",
      "2024-12-19 18:07:26.550525 Skipping C:\\dev\\play\\brainwave-data\\2024-12-04-21-15-17\\raw.sleep_stages.csv, identical file already exists in GCS.\n",
      "2024-12-19 18:07:26.611028 Skipping C:\\dev\\play\\brainwave-data\\2024-12-04-21-15-17\\raw.sleep_stages.Fpz-M1.csv, identical file already exists in GCS.\n",
      "2024-12-19 18:07:26.688875 Skipping C:\\dev\\play\\brainwave-data\\2024-12-04-21-15-17\\raw.spectrogram.Fpz-M1.png, identical file already exists in GCS.\n"
     ]
    },
    {
     "name": "stderr",
     "output_type": "stream",
     "text": [
      " 86%|████████▋ | 96/111 [06:47<00:59,  4.00s/it]"
     ]
    },
    {
     "name": "stdout",
     "output_type": "stream",
     "text": [
      "2024-12-19 18:07:26.756817 Skipping C:\\dev\\play\\brainwave-data\\2024-12-04-21-15-17\\raw.with_features.csv, identical file already exists in GCS.\n",
      "2024-12-19 18:07:26.806802 Skipping C:\\dev\\play\\brainwave-data\\2024-12-04-21-15-17\\raw.yasa.csv, identical file already exists in GCS.\n",
      "2024-12-19 18:07:26.899356 Uploaded directory checksum for C:\\dev\\play\\brainwave-data\\2024-12-04-21-15-17 to 2024-12-04-21-15-17/directory_checksum.md5\n",
      "2024-12-19 18:07:29.825733 Skipping C:\\dev\\play\\brainwave-data\\2024-12-05-21-15-24\\2024-12-05-21-15-24.brainflow.csv.bz2, identical file already exists in GCS.\n",
      "2024-12-19 18:07:29.881226 Skipping C:\\dev\\play\\brainwave-data\\2024-12-05-21-15-24\\raw.average_slow_wave.png, identical file already exists in GCS.\n",
      "2024-12-19 18:07:29.968084 Skipping C:\\dev\\play\\brainwave-data\\2024-12-05-21-15-24\\raw.edf, identical file already exists in GCS.\n",
      "2024-12-19 18:07:30.154991 Skipping C:\\dev\\play\\brainwave-data\\2024-12-05-21-15-24\\raw.fif, identical file already exists in GCS.\n",
      "2024-12-19 18:07:30.201515 Skipping C:\\dev\\play\\brainwave-data\\2024-12-05-21-15-24\\raw.final_wake_model.csv, identical file already exists in GCS.\n",
      "2024-12-19 18:07:30.250758 Skipping C:\\dev\\play\\brainwave-data\\2024-12-05-21-15-24\\raw.final_wake_model_post_human.csv, identical file already exists in GCS.\n",
      "2024-12-19 18:07:30.300541 C:\\dev\\play\\brainwave-data\\2024-12-05-21-15-24\\raw.final_wake_model_post_human.json uploading to 2024-12-05-21-15-24/raw.final_wake_model_post_human.json, does_not_exist=True has_changed=True\n",
      "2024-12-19 18:07:30.446332 Skipping C:\\dev\\play\\brainwave-data\\2024-12-05-21-15-24\\raw.microwakings.csv, identical file already exists in GCS.\n",
      "2024-12-19 18:07:30.490268 Skipping C:\\dev\\play\\brainwave-data\\2024-12-05-21-15-24\\raw.night_events.csv, identical file already exists in GCS.\n",
      "2024-12-19 18:07:30.551415 Skipping C:\\dev\\play\\brainwave-data\\2024-12-05-21-15-24\\raw.physical_features.csv, identical file already exists in GCS.\n",
      "2024-12-19 18:07:30.604169 Skipping C:\\dev\\play\\brainwave-data\\2024-12-05-21-15-24\\raw.post_filter_psd_plot.png, identical file already exists in GCS.\n",
      "2024-12-19 18:07:30.689847 Skipping C:\\dev\\play\\brainwave-data\\2024-12-05-21-15-24\\raw.post_human.csv, identical file already exists in GCS.\n",
      "2024-12-19 18:07:30.776733 Skipping C:\\dev\\play\\brainwave-data\\2024-12-05-21-15-24\\raw.post_yasa.csv, identical file already exists in GCS.\n",
      "2024-12-19 18:07:30.820600 Skipping C:\\dev\\play\\brainwave-data\\2024-12-05-21-15-24\\raw.pre_filter_psd_plot.png, identical file already exists in GCS.\n",
      "2024-12-19 18:07:30.872153 Skipping C:\\dev\\play\\brainwave-data\\2024-12-05-21-15-24\\raw.scorings.json, identical file already exists in GCS.\n",
      "2024-12-19 18:07:30.947143 Skipping C:\\dev\\play\\brainwave-data\\2024-12-05-21-15-24\\raw.sleep.json, identical file already exists in GCS.\n",
      "2024-12-19 18:07:31.005513 Skipping C:\\dev\\play\\brainwave-data\\2024-12-05-21-15-24\\raw.sleep_stages.csv, identical file already exists in GCS.\n",
      "2024-12-19 18:07:31.070894 Skipping C:\\dev\\play\\brainwave-data\\2024-12-05-21-15-24\\raw.sleep_stages.Fpz-M1.csv, identical file already exists in GCS.\n",
      "2024-12-19 18:07:31.124071 Skipping C:\\dev\\play\\brainwave-data\\2024-12-05-21-15-24\\raw.spectrogram.Fpz-M1.png, identical file already exists in GCS.\n"
     ]
    },
    {
     "name": "stderr",
     "output_type": "stream",
     "text": [
      " 87%|████████▋ | 97/111 [06:52<00:58,  4.14s/it]"
     ]
    },
    {
     "name": "stdout",
     "output_type": "stream",
     "text": [
      "2024-12-19 18:07:31.204431 Skipping C:\\dev\\play\\brainwave-data\\2024-12-05-21-15-24\\raw.with_features.csv, identical file already exists in GCS.\n",
      "2024-12-19 18:07:31.268674 Skipping C:\\dev\\play\\brainwave-data\\2024-12-05-21-15-24\\raw.yasa.csv, identical file already exists in GCS.\n",
      "2024-12-19 18:07:31.383454 Uploaded directory checksum for C:\\dev\\play\\brainwave-data\\2024-12-05-21-15-24 to 2024-12-05-21-15-24/directory_checksum.md5\n",
      "2024-12-19 18:07:33.957368 Skipping C:\\dev\\play\\brainwave-data\\2024-12-06-21-32-04\\2024-12-06-21-32-04.brainflow.csv.bz2, identical file already exists in GCS.\n",
      "2024-12-19 18:07:34.005655 Skipping C:\\dev\\play\\brainwave-data\\2024-12-06-21-32-04\\raw.average_slow_wave.png, identical file already exists in GCS.\n",
      "2024-12-19 18:07:34.113991 Skipping C:\\dev\\play\\brainwave-data\\2024-12-06-21-32-04\\raw.edf, identical file already exists in GCS.\n",
      "2024-12-19 18:07:34.355461 Skipping C:\\dev\\play\\brainwave-data\\2024-12-06-21-32-04\\raw.fif, identical file already exists in GCS.\n",
      "2024-12-19 18:07:34.397405 Skipping C:\\dev\\play\\brainwave-data\\2024-12-06-21-32-04\\raw.final_wake_model.csv, identical file already exists in GCS.\n",
      "2024-12-19 18:07:34.447787 Skipping C:\\dev\\play\\brainwave-data\\2024-12-06-21-32-04\\raw.final_wake_model_post_human.csv, identical file already exists in GCS.\n",
      "2024-12-19 18:07:34.497349 C:\\dev\\play\\brainwave-data\\2024-12-06-21-32-04\\raw.final_wake_model_post_human.json uploading to 2024-12-06-21-32-04/raw.final_wake_model_post_human.json, does_not_exist=True has_changed=True\n",
      "2024-12-19 18:07:34.672299 Skipping C:\\dev\\play\\brainwave-data\\2024-12-06-21-32-04\\raw.microwakings.csv, identical file already exists in GCS.\n",
      "2024-12-19 18:07:34.726786 Skipping C:\\dev\\play\\brainwave-data\\2024-12-06-21-32-04\\raw.night_events.csv, identical file already exists in GCS.\n",
      "2024-12-19 18:07:34.776867 Skipping C:\\dev\\play\\brainwave-data\\2024-12-06-21-32-04\\raw.physical_features.csv, identical file already exists in GCS.\n",
      "2024-12-19 18:07:34.840537 Skipping C:\\dev\\play\\brainwave-data\\2024-12-06-21-32-04\\raw.post_filter_psd_plot.png, identical file already exists in GCS.\n",
      "2024-12-19 18:07:34.923024 Skipping C:\\dev\\play\\brainwave-data\\2024-12-06-21-32-04\\raw.post_human.csv, identical file already exists in GCS.\n",
      "2024-12-19 18:07:35.018144 Skipping C:\\dev\\play\\brainwave-data\\2024-12-06-21-32-04\\raw.post_yasa.csv, identical file already exists in GCS.\n",
      "2024-12-19 18:07:35.089983 Skipping C:\\dev\\play\\brainwave-data\\2024-12-06-21-32-04\\raw.pre_filter_psd_plot.png, identical file already exists in GCS.\n",
      "2024-12-19 18:07:35.131772 Skipping C:\\dev\\play\\brainwave-data\\2024-12-06-21-32-04\\raw.scorings.json, identical file already exists in GCS.\n",
      "2024-12-19 18:07:35.190331 Skipping C:\\dev\\play\\brainwave-data\\2024-12-06-21-32-04\\raw.sleep.json, identical file already exists in GCS.\n",
      "2024-12-19 18:07:35.243851 Skipping C:\\dev\\play\\brainwave-data\\2024-12-06-21-32-04\\raw.sleep_stages.csv, identical file already exists in GCS.\n",
      "2024-12-19 18:07:35.291946 Skipping C:\\dev\\play\\brainwave-data\\2024-12-06-21-32-04\\raw.sleep_stages.Fpz-M1.csv, identical file already exists in GCS.\n",
      "2024-12-19 18:07:35.370886 Skipping C:\\dev\\play\\brainwave-data\\2024-12-06-21-32-04\\raw.spectrogram.Fpz-M1.png, identical file already exists in GCS.\n",
      "2024-12-19 18:07:35.447163 Skipping C:\\dev\\play\\brainwave-data\\2024-12-06-21-32-04\\raw.with_features.csv, identical file already exists in GCS.\n",
      "2024-12-19 18:07:35.484090 Skipping C:\\dev\\play\\brainwave-data\\2024-12-06-21-32-04\\raw.yasa.csv, identical file already exists in GCS.\n"
     ]
    },
    {
     "name": "stderr",
     "output_type": "stream",
     "text": [
      " 88%|████████▊ | 98/111 [06:56<00:54,  4.16s/it]"
     ]
    },
    {
     "name": "stdout",
     "output_type": "stream",
     "text": [
      "2024-12-19 18:07:35.590527 Uploaded directory checksum for C:\\dev\\play\\brainwave-data\\2024-12-06-21-32-04 to 2024-12-06-21-32-04/directory_checksum.md5\n",
      "2024-12-19 18:07:38.278457 Skipping C:\\dev\\play\\brainwave-data\\2024-12-07-21-19-09\\2024-12-07-21-19-09.brainflow.csv.bz2, identical file already exists in GCS.\n",
      "2024-12-19 18:07:38.318636 Skipping C:\\dev\\play\\brainwave-data\\2024-12-07-21-19-09\\raw.average_slow_wave.png, identical file already exists in GCS.\n",
      "2024-12-19 18:07:38.420647 Skipping C:\\dev\\play\\brainwave-data\\2024-12-07-21-19-09\\raw.edf, identical file already exists in GCS.\n",
      "2024-12-19 18:07:38.633245 Skipping C:\\dev\\play\\brainwave-data\\2024-12-07-21-19-09\\raw.fif, identical file already exists in GCS.\n",
      "2024-12-19 18:07:38.700522 Skipping C:\\dev\\play\\brainwave-data\\2024-12-07-21-19-09\\raw.final_wake_model.csv, identical file already exists in GCS.\n",
      "2024-12-19 18:07:38.744018 Skipping C:\\dev\\play\\brainwave-data\\2024-12-07-21-19-09\\raw.final_wake_model_post_human.csv, identical file already exists in GCS.\n",
      "2024-12-19 18:07:38.801387 C:\\dev\\play\\brainwave-data\\2024-12-07-21-19-09\\raw.final_wake_model_post_human.json uploading to 2024-12-07-21-19-09/raw.final_wake_model_post_human.json, does_not_exist=True has_changed=True\n",
      "2024-12-19 18:07:38.952904 Skipping C:\\dev\\play\\brainwave-data\\2024-12-07-21-19-09\\raw.microwakings.csv, identical file already exists in GCS.\n",
      "2024-12-19 18:07:39.023637 Skipping C:\\dev\\play\\brainwave-data\\2024-12-07-21-19-09\\raw.night_events.csv, identical file already exists in GCS.\n",
      "2024-12-19 18:07:39.082741 Skipping C:\\dev\\play\\brainwave-data\\2024-12-07-21-19-09\\raw.physical_features.csv, identical file already exists in GCS.\n",
      "2024-12-19 18:07:39.130159 Skipping C:\\dev\\play\\brainwave-data\\2024-12-07-21-19-09\\raw.post_filter_psd_plot.png, identical file already exists in GCS.\n",
      "2024-12-19 18:07:39.225556 Skipping C:\\dev\\play\\brainwave-data\\2024-12-07-21-19-09\\raw.post_human.csv, identical file already exists in GCS.\n",
      "2024-12-19 18:07:39.293523 Skipping C:\\dev\\play\\brainwave-data\\2024-12-07-21-19-09\\raw.post_yasa.csv, identical file already exists in GCS.\n",
      "2024-12-19 18:07:39.369686 Skipping C:\\dev\\play\\brainwave-data\\2024-12-07-21-19-09\\raw.pre_filter_psd_plot.png, identical file already exists in GCS.\n",
      "2024-12-19 18:07:39.411877 Skipping C:\\dev\\play\\brainwave-data\\2024-12-07-21-19-09\\raw.sleep.json, identical file already exists in GCS.\n",
      "2024-12-19 18:07:39.475645 Skipping C:\\dev\\play\\brainwave-data\\2024-12-07-21-19-09\\raw.sleep_stages.csv, identical file already exists in GCS.\n",
      "2024-12-19 18:07:39.524489 Skipping C:\\dev\\play\\brainwave-data\\2024-12-07-21-19-09\\raw.sleep_stages.Fpz-M1.csv, identical file already exists in GCS.\n",
      "2024-12-19 18:07:39.571697 Skipping C:\\dev\\play\\brainwave-data\\2024-12-07-21-19-09\\raw.spectrogram.Fpz-M1.png, identical file already exists in GCS.\n",
      "2024-12-19 18:07:39.659755 Skipping C:\\dev\\play\\brainwave-data\\2024-12-07-21-19-09\\raw.with_features.csv, identical file already exists in GCS.\n"
     ]
    },
    {
     "name": "stderr",
     "output_type": "stream",
     "text": [
      " 89%|████████▉ | 99/111 [07:00<00:50,  4.18s/it]"
     ]
    },
    {
     "name": "stdout",
     "output_type": "stream",
     "text": [
      "2024-12-19 18:07:39.730448 Skipping C:\\dev\\play\\brainwave-data\\2024-12-07-21-19-09\\raw.yasa.csv, identical file already exists in GCS.\n",
      "2024-12-19 18:07:39.819380 Uploaded directory checksum for C:\\dev\\play\\brainwave-data\\2024-12-07-21-19-09 to 2024-12-07-21-19-09/directory_checksum.md5\n",
      "2024-12-19 18:07:42.317953 Skipping C:\\dev\\play\\brainwave-data\\2024-12-08-21-23-50\\2024-12-08-21-23-50.brainflow.csv.bz2, identical file already exists in GCS.\n",
      "2024-12-19 18:07:42.418678 Skipping C:\\dev\\play\\brainwave-data\\2024-12-08-21-23-50\\raw.average_slow_wave.png, identical file already exists in GCS.\n",
      "2024-12-19 18:07:42.530764 Skipping C:\\dev\\play\\brainwave-data\\2024-12-08-21-23-50\\raw.edf, identical file already exists in GCS.\n",
      "2024-12-19 18:07:42.720209 Skipping C:\\dev\\play\\brainwave-data\\2024-12-08-21-23-50\\raw.fif, identical file already exists in GCS.\n",
      "2024-12-19 18:07:42.769154 Skipping C:\\dev\\play\\brainwave-data\\2024-12-08-21-23-50\\raw.final_wake_model.csv, identical file already exists in GCS.\n",
      "2024-12-19 18:07:42.820172 Skipping C:\\dev\\play\\brainwave-data\\2024-12-08-21-23-50\\raw.final_wake_model_post_human.csv, identical file already exists in GCS.\n",
      "2024-12-19 18:07:42.879429 C:\\dev\\play\\brainwave-data\\2024-12-08-21-23-50\\raw.final_wake_model_post_human.json uploading to 2024-12-08-21-23-50/raw.final_wake_model_post_human.json, does_not_exist=True has_changed=True\n",
      "2024-12-19 18:07:43.031484 Skipping C:\\dev\\play\\brainwave-data\\2024-12-08-21-23-50\\raw.microwakings.csv, identical file already exists in GCS.\n",
      "2024-12-19 18:07:43.092845 Skipping C:\\dev\\play\\brainwave-data\\2024-12-08-21-23-50\\raw.night_events.csv, identical file already exists in GCS.\n",
      "2024-12-19 18:07:43.152676 Skipping C:\\dev\\play\\brainwave-data\\2024-12-08-21-23-50\\raw.physical_features.csv, identical file already exists in GCS.\n",
      "2024-12-19 18:07:43.194556 Skipping C:\\dev\\play\\brainwave-data\\2024-12-08-21-23-50\\raw.post_filter_psd_plot.png, identical file already exists in GCS.\n",
      "2024-12-19 18:07:43.265890 Skipping C:\\dev\\play\\brainwave-data\\2024-12-08-21-23-50\\raw.post_human.csv, identical file already exists in GCS.\n",
      "2024-12-19 18:07:43.337600 Skipping C:\\dev\\play\\brainwave-data\\2024-12-08-21-23-50\\raw.post_yasa.csv, identical file already exists in GCS.\n",
      "2024-12-19 18:07:43.395469 Skipping C:\\dev\\play\\brainwave-data\\2024-12-08-21-23-50\\raw.pre_filter_psd_plot.png, identical file already exists in GCS.\n",
      "2024-12-19 18:07:43.427328 Skipping C:\\dev\\play\\brainwave-data\\2024-12-08-21-23-50\\raw.sleep.json, identical file already exists in GCS.\n",
      "2024-12-19 18:07:43.477639 Skipping C:\\dev\\play\\brainwave-data\\2024-12-08-21-23-50\\raw.sleep_stages.csv, identical file already exists in GCS.\n",
      "2024-12-19 18:07:43.529818 Skipping C:\\dev\\play\\brainwave-data\\2024-12-08-21-23-50\\raw.sleep_stages.Fpz-M1.csv, identical file already exists in GCS.\n",
      "2024-12-19 18:07:43.585637 Skipping C:\\dev\\play\\brainwave-data\\2024-12-08-21-23-50\\raw.spectrogram.Fpz-M1.png, identical file already exists in GCS.\n",
      "2024-12-19 18:07:43.651232 Skipping C:\\dev\\play\\brainwave-data\\2024-12-08-21-23-50\\raw.with_features.csv, identical file already exists in GCS.\n"
     ]
    },
    {
     "name": "stderr",
     "output_type": "stream",
     "text": [
      " 90%|█████████ | 100/111 [07:04<00:45,  4.12s/it]"
     ]
    },
    {
     "name": "stdout",
     "output_type": "stream",
     "text": [
      "2024-12-19 18:07:43.689492 Skipping C:\\dev\\play\\brainwave-data\\2024-12-08-21-23-50\\raw.yasa.csv, identical file already exists in GCS.\n",
      "2024-12-19 18:07:43.779448 Uploaded directory checksum for C:\\dev\\play\\brainwave-data\\2024-12-08-21-23-50 to 2024-12-08-21-23-50/directory_checksum.md5\n",
      "2024-12-19 18:07:47.255555 Skipping C:\\dev\\play\\brainwave-data\\2024-12-09-21-29-08\\2024-12-09-21-29-08.brainflow.csv.bz2, identical file already exists in GCS.\n",
      "2024-12-19 18:07:47.308060 Skipping C:\\dev\\play\\brainwave-data\\2024-12-09-21-29-08\\raw.average_slow_wave.png, identical file already exists in GCS.\n",
      "2024-12-19 18:07:47.431969 Skipping C:\\dev\\play\\brainwave-data\\2024-12-09-21-29-08\\raw.edf, identical file already exists in GCS.\n",
      "2024-12-19 18:07:47.636713 Skipping C:\\dev\\play\\brainwave-data\\2024-12-09-21-29-08\\raw.fif, identical file already exists in GCS.\n",
      "2024-12-19 18:07:47.695419 Skipping C:\\dev\\play\\brainwave-data\\2024-12-09-21-29-08\\raw.final_wake_model.csv, identical file already exists in GCS.\n",
      "2024-12-19 18:07:47.747749 Skipping C:\\dev\\play\\brainwave-data\\2024-12-09-21-29-08\\raw.final_wake_model_post_human.csv, identical file already exists in GCS.\n",
      "2024-12-19 18:07:47.796637 C:\\dev\\play\\brainwave-data\\2024-12-09-21-29-08\\raw.final_wake_model_post_human.json uploading to 2024-12-09-21-29-08/raw.final_wake_model_post_human.json, does_not_exist=True has_changed=True\n",
      "2024-12-19 18:07:47.957351 Skipping C:\\dev\\play\\brainwave-data\\2024-12-09-21-29-08\\raw.microwakings.csv, identical file already exists in GCS.\n",
      "2024-12-19 18:07:48.017210 Skipping C:\\dev\\play\\brainwave-data\\2024-12-09-21-29-08\\raw.night_events.csv, identical file already exists in GCS.\n",
      "2024-12-19 18:07:48.056205 Skipping C:\\dev\\play\\brainwave-data\\2024-12-09-21-29-08\\raw.physical_features.csv, identical file already exists in GCS.\n",
      "2024-12-19 18:07:48.109216 Skipping C:\\dev\\play\\brainwave-data\\2024-12-09-21-29-08\\raw.post_filter_psd_plot.png, identical file already exists in GCS.\n",
      "2024-12-19 18:07:48.171316 Skipping C:\\dev\\play\\brainwave-data\\2024-12-09-21-29-08\\raw.post_human.csv, identical file already exists in GCS.\n",
      "2024-12-19 18:07:48.282447 Skipping C:\\dev\\play\\brainwave-data\\2024-12-09-21-29-08\\raw.post_yasa.csv, identical file already exists in GCS.\n",
      "2024-12-19 18:07:48.357183 Skipping C:\\dev\\play\\brainwave-data\\2024-12-09-21-29-08\\raw.pre_filter_psd_plot.png, identical file already exists in GCS.\n",
      "2024-12-19 18:07:48.409687 Skipping C:\\dev\\play\\brainwave-data\\2024-12-09-21-29-08\\raw.scorings.json, identical file already exists in GCS.\n",
      "2024-12-19 18:07:48.441679 Skipping C:\\dev\\play\\brainwave-data\\2024-12-09-21-29-08\\raw.sleep.json, identical file already exists in GCS.\n",
      "2024-12-19 18:07:48.505686 Skipping C:\\dev\\play\\brainwave-data\\2024-12-09-21-29-08\\raw.sleep_stages.csv, identical file already exists in GCS.\n",
      "2024-12-19 18:07:48.559880 Skipping C:\\dev\\play\\brainwave-data\\2024-12-09-21-29-08\\raw.sleep_stages.Fpz-M1.csv, identical file already exists in GCS.\n",
      "2024-12-19 18:07:48.626217 Skipping C:\\dev\\play\\brainwave-data\\2024-12-09-21-29-08\\raw.spectrogram.Fpz-M1.png, identical file already exists in GCS.\n",
      "2024-12-19 18:07:48.700219 Skipping C:\\dev\\play\\brainwave-data\\2024-12-09-21-29-08\\raw.with_features.csv, identical file already exists in GCS.\n",
      "2024-12-19 18:07:48.754934 Skipping C:\\dev\\play\\brainwave-data\\2024-12-09-21-29-08\\raw.yasa.csv, identical file already exists in GCS.\n"
     ]
    },
    {
     "name": "stderr",
     "output_type": "stream",
     "text": [
      " 91%|█████████ | 101/111 [07:09<00:43,  4.40s/it]"
     ]
    },
    {
     "name": "stdout",
     "output_type": "stream",
     "text": [
      "2024-12-19 18:07:48.841736 Uploaded directory checksum for C:\\dev\\play\\brainwave-data\\2024-12-09-21-29-08 to 2024-12-09-21-29-08/directory_checksum.md5\n",
      "2024-12-19 18:07:51.530618 Skipping C:\\dev\\play\\brainwave-data\\2024-12-10-21-14-13\\2024-12-10-21-14-13.brainflow.csv.bz2, identical file already exists in GCS.\n",
      "2024-12-19 18:07:51.577221 Skipping C:\\dev\\play\\brainwave-data\\2024-12-10-21-14-13\\raw.average_slow_wave.png, identical file already exists in GCS.\n",
      "2024-12-19 18:07:51.688871 Skipping C:\\dev\\play\\brainwave-data\\2024-12-10-21-14-13\\raw.edf, identical file already exists in GCS.\n",
      "2024-12-19 18:07:51.832583 Skipping C:\\dev\\play\\brainwave-data\\2024-12-10-21-14-13\\raw.fif, identical file already exists in GCS.\n",
      "2024-12-19 18:07:51.879326 Skipping C:\\dev\\play\\brainwave-data\\2024-12-10-21-14-13\\raw.final_wake_model.csv, identical file already exists in GCS.\n",
      "2024-12-19 18:07:51.926683 Skipping C:\\dev\\play\\brainwave-data\\2024-12-10-21-14-13\\raw.final_wake_model_post_human.csv, identical file already exists in GCS.\n",
      "2024-12-19 18:07:51.957945 C:\\dev\\play\\brainwave-data\\2024-12-10-21-14-13\\raw.final_wake_model_post_human.json uploading to 2024-12-10-21-14-13/raw.final_wake_model_post_human.json, does_not_exist=True has_changed=True\n",
      "2024-12-19 18:07:52.113833 Skipping C:\\dev\\play\\brainwave-data\\2024-12-10-21-14-13\\raw.microwakings.csv, identical file already exists in GCS.\n",
      "2024-12-19 18:07:52.169482 Skipping C:\\dev\\play\\brainwave-data\\2024-12-10-21-14-13\\raw.night_events.csv, identical file already exists in GCS.\n",
      "2024-12-19 18:07:52.217286 Skipping C:\\dev\\play\\brainwave-data\\2024-12-10-21-14-13\\raw.physical_features.csv, identical file already exists in GCS.\n",
      "2024-12-19 18:07:52.264163 Skipping C:\\dev\\play\\brainwave-data\\2024-12-10-21-14-13\\raw.post_filter_psd_plot.png, identical file already exists in GCS.\n",
      "2024-12-19 18:07:52.347075 Skipping C:\\dev\\play\\brainwave-data\\2024-12-10-21-14-13\\raw.post_human.csv, identical file already exists in GCS.\n",
      "2024-12-19 18:07:52.449307 Skipping C:\\dev\\play\\brainwave-data\\2024-12-10-21-14-13\\raw.post_yasa.csv, identical file already exists in GCS.\n",
      "2024-12-19 18:07:52.493049 Skipping C:\\dev\\play\\brainwave-data\\2024-12-10-21-14-13\\raw.pre_filter_psd_plot.png, identical file already exists in GCS.\n",
      "2024-12-19 18:07:52.551298 Skipping C:\\dev\\play\\brainwave-data\\2024-12-10-21-14-13\\raw.sleep.json, identical file already exists in GCS.\n",
      "2024-12-19 18:07:52.601338 Skipping C:\\dev\\play\\brainwave-data\\2024-12-10-21-14-13\\raw.sleep_stages.csv, identical file already exists in GCS.\n",
      "2024-12-19 18:07:52.646670 Skipping C:\\dev\\play\\brainwave-data\\2024-12-10-21-14-13\\raw.sleep_stages.Fpz-M1.csv, identical file already exists in GCS.\n",
      "2024-12-19 18:07:52.704097 Skipping C:\\dev\\play\\brainwave-data\\2024-12-10-21-14-13\\raw.spectrogram.Fpz-M1.png, identical file already exists in GCS.\n",
      "2024-12-19 18:07:52.785277 Skipping C:\\dev\\play\\brainwave-data\\2024-12-10-21-14-13\\raw.with_features.csv, identical file already exists in GCS.\n"
     ]
    },
    {
     "name": "stderr",
     "output_type": "stream",
     "text": [
      " 92%|█████████▏| 102/111 [07:13<00:38,  4.31s/it]"
     ]
    },
    {
     "name": "stdout",
     "output_type": "stream",
     "text": [
      "2024-12-19 18:07:52.861667 Skipping C:\\dev\\play\\brainwave-data\\2024-12-10-21-14-13\\raw.yasa.csv, identical file already exists in GCS.\n",
      "2024-12-19 18:07:52.940577 Uploaded directory checksum for C:\\dev\\play\\brainwave-data\\2024-12-10-21-14-13 to 2024-12-10-21-14-13/directory_checksum.md5\n",
      "2024-12-19 18:07:55.655589 Skipping C:\\dev\\play\\brainwave-data\\2024-12-11-21-31-37\\2024-12-11-21-31-37.brainflow.csv.bz2, identical file already exists in GCS.\n",
      "2024-12-19 18:07:55.707608 Skipping C:\\dev\\play\\brainwave-data\\2024-12-11-21-31-37\\raw.average_slow_wave.png, identical file already exists in GCS.\n",
      "2024-12-19 18:07:55.830107 Skipping C:\\dev\\play\\brainwave-data\\2024-12-11-21-31-37\\raw.edf, identical file already exists in GCS.\n",
      "2024-12-19 18:07:56.002618 Skipping C:\\dev\\play\\brainwave-data\\2024-12-11-21-31-37\\raw.fif, identical file already exists in GCS.\n",
      "2024-12-19 18:07:56.043489 Skipping C:\\dev\\play\\brainwave-data\\2024-12-11-21-31-37\\raw.final_wake_model.csv, identical file already exists in GCS.\n",
      "2024-12-19 18:07:56.093658 Skipping C:\\dev\\play\\brainwave-data\\2024-12-11-21-31-37\\raw.final_wake_model.json, identical file already exists in GCS.\n",
      "2024-12-19 18:07:56.145173 Skipping C:\\dev\\play\\brainwave-data\\2024-12-11-21-31-37\\raw.final_wake_model_post_human.csv, identical file already exists in GCS.\n",
      "2024-12-19 18:07:56.187138 C:\\dev\\play\\brainwave-data\\2024-12-11-21-31-37\\raw.final_wake_model_post_human.json uploading to 2024-12-11-21-31-37/raw.final_wake_model_post_human.json, does_not_exist=True has_changed=True\n",
      "2024-12-19 18:07:56.362483 Skipping C:\\dev\\play\\brainwave-data\\2024-12-11-21-31-37\\raw.microwakings.csv, identical file already exists in GCS.\n",
      "2024-12-19 18:07:56.413533 Skipping C:\\dev\\play\\brainwave-data\\2024-12-11-21-31-37\\raw.night_events.csv, identical file already exists in GCS.\n",
      "2024-12-19 18:07:56.464315 Skipping C:\\dev\\play\\brainwave-data\\2024-12-11-21-31-37\\raw.physical_features.csv, identical file already exists in GCS.\n",
      "2024-12-19 18:07:56.521128 Skipping C:\\dev\\play\\brainwave-data\\2024-12-11-21-31-37\\raw.post_filter_psd_plot.png, identical file already exists in GCS.\n",
      "2024-12-19 18:07:56.573351 Skipping C:\\dev\\play\\brainwave-data\\2024-12-11-21-31-37\\raw.post_human.csv, identical file already exists in GCS.\n",
      "2024-12-19 18:07:56.653765 Skipping C:\\dev\\play\\brainwave-data\\2024-12-11-21-31-37\\raw.post_yasa.csv, identical file already exists in GCS.\n",
      "2024-12-19 18:07:56.708671 Skipping C:\\dev\\play\\brainwave-data\\2024-12-11-21-31-37\\raw.pre_filter_psd_plot.png, identical file already exists in GCS.\n",
      "2024-12-19 18:07:56.744155 Skipping C:\\dev\\play\\brainwave-data\\2024-12-11-21-31-37\\raw.sleep.json, identical file already exists in GCS.\n",
      "2024-12-19 18:07:56.785375 Skipping C:\\dev\\play\\brainwave-data\\2024-12-11-21-31-37\\raw.sleep_stages.csv, identical file already exists in GCS.\n",
      "2024-12-19 18:07:56.828223 Skipping C:\\dev\\play\\brainwave-data\\2024-12-11-21-31-37\\raw.sleep_stages.Fpz-M1.csv, identical file already exists in GCS.\n",
      "2024-12-19 18:07:56.884761 Skipping C:\\dev\\play\\brainwave-data\\2024-12-11-21-31-37\\raw.spectrogram.Fpz-M1.png, identical file already exists in GCS.\n",
      "2024-12-19 18:07:56.965463 Skipping C:\\dev\\play\\brainwave-data\\2024-12-11-21-31-37\\raw.with_features.csv, identical file already exists in GCS.\n"
     ]
    },
    {
     "name": "stderr",
     "output_type": "stream",
     "text": [
      " 93%|█████████▎| 103/111 [07:17<00:34,  4.27s/it]"
     ]
    },
    {
     "name": "stdout",
     "output_type": "stream",
     "text": [
      "2024-12-19 18:07:57.028581 Skipping C:\\dev\\play\\brainwave-data\\2024-12-11-21-31-37\\raw.yasa.csv, identical file already exists in GCS.\n",
      "2024-12-19 18:07:57.125392 Uploaded directory checksum for C:\\dev\\play\\brainwave-data\\2024-12-11-21-31-37 to 2024-12-11-21-31-37/directory_checksum.md5\n"
     ]
    },
    {
     "name": "stderr",
     "output_type": "stream",
     "text": [
      " 94%|█████████▎| 104/111 [07:20<00:26,  3.81s/it]"
     ]
    },
    {
     "name": "stdout",
     "output_type": "stream",
     "text": [
      "2024-12-19 18:07:59.853095 Skipping upload of C:\\dev\\play\\brainwave-data\\2024-12-12-21-20-17, identical directory already exists in GCS.\n"
     ]
    },
    {
     "name": "stderr",
     "output_type": "stream",
     "text": [
      " 95%|█████████▍| 105/111 [07:23<00:20,  3.39s/it]"
     ]
    },
    {
     "name": "stdout",
     "output_type": "stream",
     "text": [
      "2024-12-19 18:08:02.254835 Skipping upload of C:\\dev\\play\\brainwave-data\\2024-12-13-21-23-37, identical directory already exists in GCS.\n"
     ]
    },
    {
     "name": "stderr",
     "output_type": "stream",
     "text": [
      " 95%|█████████▌| 106/111 [07:25<00:15,  3.11s/it]"
     ]
    },
    {
     "name": "stdout",
     "output_type": "stream",
     "text": [
      "2024-12-19 18:08:04.716588 Skipping upload of C:\\dev\\play\\brainwave-data\\2024-12-14-21-26-54, identical directory already exists in GCS.\n"
     ]
    },
    {
     "name": "stderr",
     "output_type": "stream",
     "text": [
      " 96%|█████████▋| 107/111 [07:28<00:11,  2.94s/it]"
     ]
    },
    {
     "name": "stdout",
     "output_type": "stream",
     "text": [
      "2024-12-19 18:08:07.259924 Skipping upload of C:\\dev\\play\\brainwave-data\\2024-12-16-21-26-57, identical directory already exists in GCS.\n"
     ]
    },
    {
     "name": "stderr",
     "output_type": "stream",
     "text": [
      " 97%|█████████▋| 108/111 [07:30<00:08,  2.75s/it]"
     ]
    },
    {
     "name": "stdout",
     "output_type": "stream",
     "text": [
      "2024-12-19 18:08:09.554618 Skipping upload of C:\\dev\\play\\brainwave-data\\2024-12-17-21-24-11, identical directory already exists in GCS.\n",
      "2024-12-19 18:08:12.549438 Skipping C:\\dev\\play\\brainwave-data\\2024-12-18-21-32-18\\2024-12-18-21-32-18.brainflow.csv.bz2, identical file already exists in GCS.\n",
      "2024-12-19 18:08:12.607394 Skipping C:\\dev\\play\\brainwave-data\\2024-12-18-21-32-18\\raw.average_slow_wave.png, identical file already exists in GCS.\n",
      "2024-12-19 18:08:12.729121 Skipping C:\\dev\\play\\brainwave-data\\2024-12-18-21-32-18\\raw.edf, identical file already exists in GCS.\n",
      "2024-12-19 18:08:12.875931 Skipping C:\\dev\\play\\brainwave-data\\2024-12-18-21-32-18\\raw.fif, identical file already exists in GCS.\n",
      "2024-12-19 18:08:12.937689 C:\\dev\\play\\brainwave-data\\2024-12-18-21-32-18\\raw.final_wake_model.csv uploading to 2024-12-18-21-32-18/raw.final_wake_model.csv, does_not_exist=True has_changed=True\n",
      "2024-12-19 18:08:13.118863 Skipping C:\\dev\\play\\brainwave-data\\2024-12-18-21-32-18\\raw.microwakings.csv, identical file already exists in GCS.\n",
      "2024-12-19 18:08:13.182285 Skipping C:\\dev\\play\\brainwave-data\\2024-12-18-21-32-18\\raw.physical_features.csv, identical file already exists in GCS.\n",
      "2024-12-19 18:08:13.230367 Skipping C:\\dev\\play\\brainwave-data\\2024-12-18-21-32-18\\raw.post_filter_psd_plot.png, identical file already exists in GCS.\n",
      "2024-12-19 18:08:13.308513 Skipping C:\\dev\\play\\brainwave-data\\2024-12-18-21-32-18\\raw.post_yasa.csv, identical file already exists in GCS.\n",
      "2024-12-19 18:08:13.357370 Skipping C:\\dev\\play\\brainwave-data\\2024-12-18-21-32-18\\raw.pre_filter_psd_plot.png, identical file already exists in GCS.\n",
      "2024-12-19 18:08:13.404967 Skipping C:\\dev\\play\\brainwave-data\\2024-12-18-21-32-18\\raw.sleep.json, identical file already exists in GCS.\n",
      "2024-12-19 18:08:13.451789 Skipping C:\\dev\\play\\brainwave-data\\2024-12-18-21-32-18\\raw.sleep_stages.csv, identical file already exists in GCS.\n",
      "2024-12-19 18:08:13.514341 Skipping C:\\dev\\play\\brainwave-data\\2024-12-18-21-32-18\\raw.sleep_stages.Fpz-M1.csv, identical file already exists in GCS.\n",
      "2024-12-19 18:08:13.567490 Skipping C:\\dev\\play\\brainwave-data\\2024-12-18-21-32-18\\raw.spectrogram.Fpz-M1.png, identical file already exists in GCS.\n",
      "2024-12-19 18:08:13.627324 Skipping C:\\dev\\play\\brainwave-data\\2024-12-18-21-32-18\\raw.with_features.csv, identical file already exists in GCS.\n",
      "2024-12-19 18:08:13.688907 Skipping C:\\dev\\play\\brainwave-data\\2024-12-18-21-32-18\\raw.yasa.csv, identical file already exists in GCS.\n"
     ]
    },
    {
     "name": "stderr",
     "output_type": "stream",
     "text": [
      " 98%|█████████▊| 109/111 [07:34<00:06,  3.19s/it]"
     ]
    },
    {
     "name": "stdout",
     "output_type": "stream",
     "text": [
      "2024-12-19 18:08:13.784327 Uploaded directory checksum for C:\\dev\\play\\brainwave-data\\2024-12-18-21-32-18 to 2024-12-18-21-32-18/directory_checksum.md5\n"
     ]
    },
    {
     "name": "stderr",
     "output_type": "stream",
     "text": [
      " 99%|█████████▉| 110/111 [07:36<00:02,  2.87s/it]"
     ]
    },
    {
     "name": "stdout",
     "output_type": "stream",
     "text": [
      "2024-12-19 18:08:15.918298 Skipping upload of C:\\dev\\play\\brainwave-data\\compressed_files, identical directory already exists in GCS.\n"
     ]
    },
    {
     "name": "stderr",
     "output_type": "stream",
     "text": [
      "100%|██████████| 111/111 [07:42<00:00,  4.17s/it]"
     ]
    },
    {
     "name": "stdout",
     "output_type": "stream",
     "text": [
      "2024-12-19 18:08:21.777241 Skipping upload of C:\\dev\\play\\brainwave-data\\nonnight, identical directory already exists in GCS.\n",
      "2024-12-19 18:08:21.780240 All uploaded\n"
     ]
    },
    {
     "name": "stderr",
     "output_type": "stream",
     "text": [
      "\n"
     ]
    }
   ],
   "execution_count": 6
  },
  {
   "metadata": {},
   "cell_type": "markdown",
   "source": "# Check if can delete Brainwave files that are safely backed up",
   "id": "6896e4e6423b928b"
  },
  {
   "metadata": {},
   "cell_type": "code",
   "source": [
    "\n",
    "import os\n",
    "\n",
    "errors = []\n",
    "can_delete = []\n",
    "cannot_delete = []\n",
    "\n",
    "for root, dirs, files in os.walk(input_dir):\n",
    "    for idx, file_name in enumerate(files):\n",
    "        full_input_filename = os.path.join(root, file_name)\n",
    "        if full_input_filename.endswith(\".brainflow.csv\"):\n",
    "            compressed_full_output_filename = get_brainflow_compressed_filename(full_input_filename)\n",
    "                \n",
    "            if os.path.exists(compressed_full_output_filename):\n",
    "                can_delete.append({\n",
    "                    'backed_up': compressed_full_output_filename,\n",
    "                    'full_filename': full_input_filename\n",
    "                })\n",
    "            else:\n",
    "                cannot_delete.append(full_input_filename)\n",
    "    "
   ],
   "id": "54b1ee685c111770",
   "outputs": [],
   "execution_count": null
  },
  {
   "metadata": {},
   "cell_type": "code",
   "source": [
    "can_delete_df = pd.DataFrame(can_delete)\n",
    "can_delete_df"
   ],
   "id": "1b99c37e9a4b39e8",
   "outputs": [],
   "execution_count": null
  },
  {
   "metadata": {},
   "cell_type": "code",
   "source": "cannot_delete",
   "id": "d7c0794b5a6e8351",
   "outputs": [],
   "execution_count": null
  },
  {
   "metadata": {},
   "cell_type": "code",
   "source": "can_delete_df['full_filename']",
   "id": "83646d0ee8f59e2",
   "outputs": [],
   "execution_count": null
  },
  {
   "metadata": {},
   "cell_type": "markdown",
   "source": "# Check if can delete Cyton files that are safely backed up",
   "id": "555248de86908ae3"
  },
  {
   "metadata": {},
   "cell_type": "code",
   "source": [
    "import webserver\n",
    "import bz2\n",
    "import shutil\n",
    "import os\n",
    "import time\n",
    "\n",
    "\n",
    "errors = []\n",
    "can_delete = []\n",
    "cannot_delete = []\n",
    "\n",
    "for root, dirs, files in os.walk(input_dir):\n",
    "    for idx, file_name in enumerate(files):\n",
    "        full_input_filename = os.path.join(root, file_name)\n",
    "        if file_name.startswith(\"OBCI_\") and file_name.endswith(\".TXT.bz2\"):\n",
    "            can_delete.append({\n",
    "                'file_name': file_name.removesuffix(\".bz2\"),\n",
    "                'full_filename': full_input_filename\n",
    "            })"
   ],
   "id": "b436cf8c7ef3a74",
   "outputs": [],
   "execution_count": null
  },
  {
   "metadata": {},
   "cell_type": "code",
   "source": "can_delete",
   "id": "f6c68ce46d843ec5",
   "outputs": [],
   "execution_count": null
  },
  {
   "metadata": {},
   "cell_type": "code",
   "source": [
    "cyton_file_locations = [input_dir, \"d:\", \"e:\", \"x:\"]\n",
    "\n",
    "for cyton_file_location in cyton_file_locations:\n",
    "    for root, dirs, files in os.walk(cyton_file_location):\n",
    "        for idx, file in enumerate(files):\n",
    "            matching_record = next((f for f in can_delete if f['file_name'] == file), None)\n",
    "            if matching_record:\n",
    "                full_filename = os.path.join(root, file)\n",
    "                log(f\"Could delete {full_filename} as backed up in {matching_record['full_filename']}\")"
   ],
   "id": "c73f7b9864e19c20",
   "outputs": [],
   "execution_count": null
  },
  {
   "metadata": {},
   "cell_type": "code",
   "source": [
    "import memory\n",
    "\n",
    "memory.garbage_collect(log)"
   ],
   "id": "80fb15db155e0758",
   "outputs": [],
   "execution_count": null
  },
  {
   "metadata": {},
   "cell_type": "code",
   "source": [
    "import ctypes\n",
    "\n",
    "ctypes.windll.user32.MessageBoxW(0, \"Compression is complete!\", \"Alert\", 0x40 | 0x1)"
   ],
   "id": "18263c6577d32646",
   "outputs": [],
   "execution_count": null
  },
  {
   "metadata": {},
   "cell_type": "code",
   "source": "",
   "id": "4815003e12deaa7b",
   "outputs": [],
   "execution_count": null
  },
  {
   "metadata": {},
   "cell_type": "code",
   "source": "",
   "id": "d41cc48fcebc5da1",
   "outputs": [],
   "execution_count": null
  }
 ],
 "metadata": {
  "kernelspec": {
   "display_name": "Python 3",
   "language": "python",
   "name": "python3"
  },
  "language_info": {
   "codemirror_mode": {
    "name": "ipython",
    "version": 2
   },
   "file_extension": ".py",
   "mimetype": "text/x-python",
   "name": "python",
   "nbconvert_exporter": "python",
   "pygments_lexer": "ipython2",
   "version": "2.7.6"
  }
 },
 "nbformat": 4,
 "nbformat_minor": 5
}
