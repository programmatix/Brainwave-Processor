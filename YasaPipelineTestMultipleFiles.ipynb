{
 "cells": [
  {
   "cell_type": "code",
   "execution_count": 41,
   "id": "b178a68bb8fe3276",
   "metadata": {
    "jupyter": {
     "is_executing": true
    }
   },
   "outputs": [],
   "source": [
    "# Autoreload possibly interferes with IntelliJ debugging\n",
    "# %reload_ext autoreload\n",
    "# %autoreload 2\n",
    "import logging\n",
    "from datetime import datetime\n",
    "# class FlushHandler(logging.StreamHandler):\n",
    "#     def emit(self, record):e\n",
    "#         super().emit(record)\n",
    "#         self.flush()\n",
    "import io\n",
    "import sys\n",
    "import contextlib\n",
    "import traceback\n",
    "from tqdm.auto import tqdm\n",
    "\n",
    "from importlib import reload\n",
    "\n",
    "logging.basicConfig(level=logging.INFO, format='%(asctime)s - %(levelname)s - %(message)s')\n",
    "# log = lambda msg: logging.info(msg)\n",
    "log = lambda msg: print(f\"{datetime.today()} {msg}\")\n",
    "\n",
    "#assert False\n",
    "global_force = False\n",
    "\n",
    "import pandas as pd\n",
    "import os\n",
    "\n",
    "input_dir = \"C:\\\\dev\\\\play\\\\brainwave-data\"\n",
    "stats_df = pd.read_csv(input_dir + os.path.sep + \"stats.csv\")"
   ]
  },
  {
   "cell_type": "code",
   "execution_count": null,
   "id": "c3ad25fa",
   "metadata": {},
   "outputs": [],
   "source": []
  },
  {
   "cell_type": "markdown",
   "id": "f89ac5fec644dc7a",
   "metadata": {},
   "source": [
    "\n"
   ]
  },
  {
   "cell_type": "markdown",
   "id": "a68b61c44f8dcdc1",
   "metadata": {},
   "source": [
    "# Find Brainflow files that haven't been copied over"
   ]
  },
  {
   "cell_type": "code",
   "execution_count": 42,
   "id": "de7c66d190ca587d",
   "metadata": {
    "jupyter": {
     "is_executing": true
    }
   },
   "outputs": [
    {
     "name": "stderr",
     "output_type": "stream",
     "text": [
      "2025-03-10 08:15:35,048 - INFO - Connected (version 2.0, client OpenSSH_9.6)\n",
      "2025-03-10 08:15:35,168 - INFO - Authentication (password) successful!\n"
     ]
    }
   ],
   "source": [
    "import pytz\n",
    "from tqdm import tqdm\n",
    "import paramiko\n",
    "import re\n",
    "from datetime import datetime, timedelta\n",
    "import os\n",
    "import dotenv\n",
    "dotenv.load_dotenv()\n",
    "\n",
    "# Define the time window\n",
    "time_window = timedelta(minutes=10)\n",
    "\n",
    "# Define the remote server details\n",
    "hostname = os.getenv('SSH_HOST')\n",
    "username = os.getenv('SSH_USERNAME')\n",
    "password = os.getenv('SSH_PASSWORD')\n",
    "remote_dir = '/home/graham/dev/Brainwave-Data'\n",
    "local_dir = input_dir\n",
    "\n",
    "# Create an SSH client\n",
    "ssh = paramiko.SSHClient()\n",
    "ssh.set_missing_host_key_policy(paramiko.AutoAddPolicy())\n",
    "ssh.connect(hostname, username=username, password=password, compress=True)\n",
    "\n",
    "# List files in the remote directory\n",
    "stdin, stdout, stderr = ssh.exec_command(f'ls {remote_dir}')\n",
    "remote_brainflow_files = [f for f in stdout.read().decode().splitlines() if f.endswith(\".brainflow.csv\")]\n"
   ]
  },
  {
   "cell_type": "code",
   "execution_count": 43,
   "id": "575825f9db239c2d",
   "metadata": {
    "ExecuteTime": {
     "end_time": "2025-02-27T08:51:37.434098500Z",
     "start_time": "2025-02-16T07:36:21.998543Z"
    }
   },
   "outputs": [
    {
     "data": {
      "text/plain": [
       "['2024-09-30-21-27-49.brainflow.csv',\n",
       " '2024-10-01-21-36-11.brainflow.csv',\n",
       " '2024-10-02-21-21-15.brainflow.csv',\n",
       " '2024-10-04-21-13-39.brainflow.csv',\n",
       " '2024-10-05-21-09-47.brainflow.csv',\n",
       " '2024-10-06-21-29-18.brainflow.csv',\n",
       " '2024-10-07-21-35-18.brainflow.csv',\n",
       " '2024-10-08-21-21-34.brainflow.csv',\n",
       " '2024-10-09-21-22-04.brainflow.csv',\n",
       " '2024-10-11-21-16-27.brainflow.csv',\n",
       " '2024-10-15-22-01-52.brainflow.csv',\n",
       " '2024-10-21-21-30-19.brainflow.csv',\n",
       " '2024-10-23-21-24-03.brainflow.csv',\n",
       " '2024-10-24-21-35-33.brainflow.csv',\n",
       " '2024-10-29-20-42-12.brainflow.csv',\n",
       " '2024-10-30-21-26-55.brainflow.csv',\n",
       " '2024-11-01-21-32-22.brainflow.csv',\n",
       " '2024-11-02-21-29-03.brainflow.csv',\n",
       " '2024-11-04-21-20-51.brainflow.csv',\n",
       " '2024-11-05-21-34-15.brainflow.csv',\n",
       " '2024-11-07-21-26-18.brainflow.csv',\n",
       " '2024-11-08-21-16-53.brainflow.csv',\n",
       " '2024-11-09-21-27-51.brainflow.csv',\n",
       " '2024-11-12-21-11-43.brainflow.csv',\n",
       " '2024-11-16-21-54-46.brainflow.csv',\n",
       " '2024-11-19-21-29-04.brainflow.csv',\n",
       " '2024-11-20-21-30-29.brainflow.csv',\n",
       " '2024-11-21-21-15-26.brainflow.csv',\n",
       " '2024-11-22-21-30-12.brainflow.csv',\n",
       " '2024-11-23-21-14-58.brainflow.csv',\n",
       " '2024-11-24-21-21-31.brainflow.csv',\n",
       " '2024-11-24-22-33-06.brainflow.csv',\n",
       " '2024-11-24-22-37-54.brainflow.csv',\n",
       " '2024-11-26-21-35-46.brainflow.csv',\n",
       " '2024-11-27-21-18-50.brainflow.csv',\n",
       " '2024-11-28-21-50-57.brainflow.csv',\n",
       " '2024-11-29-21-18-33.brainflow.csv',\n",
       " '2024-11-30-21-21-05.brainflow.csv',\n",
       " '2024-12-01-21-29-13.brainflow.csv',\n",
       " '2024-12-03-21-15-08.brainflow.csv',\n",
       " '2024-12-04-21-15-17.brainflow.csv',\n",
       " '2024-12-05-21-15-24.brainflow.csv',\n",
       " '2024-12-06-21-32-04.brainflow.csv',\n",
       " '2024-12-07-21-19-09.brainflow.csv',\n",
       " '2024-12-08-21-23-50.brainflow.csv',\n",
       " '2024-12-09-21-29-08.brainflow.csv',\n",
       " '2024-12-10-21-14-13.brainflow.csv',\n",
       " '2024-12-11-21-31-37.brainflow.csv',\n",
       " '2024-12-12-21-20-17.brainflow.csv',\n",
       " '2024-12-13-21-23-37.brainflow.csv',\n",
       " '2024-12-14-21-26-54.brainflow.csv',\n",
       " '2024-12-16-21-26-57.brainflow.csv',\n",
       " '2024-12-17-21-24-11.brainflow.csv',\n",
       " '2024-12-18-21-32-18.brainflow.csv',\n",
       " '2024-12-19-21-18-48.brainflow.csv',\n",
       " '2024-12-20-21-31-19.brainflow.csv',\n",
       " '2024-12-21-21-43-12.brainflow.csv',\n",
       " '2024-12-27-21-21-34.brainflow.csv',\n",
       " '2024-12-28-21-33-53.brainflow.csv',\n",
       " '2024-12-29-21-15-24.brainflow.csv',\n",
       " '2024-12-30-21-34-52.brainflow.csv',\n",
       " '2024-12-31-21-12-28.brainflow.csv',\n",
       " '2025-01-01-21-42-08.brainflow.csv',\n",
       " '2025-01-05-21-10-59.brainflow.csv',\n",
       " '2025-01-06-21-35-21.brainflow.csv',\n",
       " '2025-01-07-21-12-58.brainflow.csv',\n",
       " '2025-01-08-21-41-09.brainflow.csv',\n",
       " '2025-01-11-21-19-30.brainflow.csv',\n",
       " '2025-01-16-21-34-19.brainflow.csv',\n",
       " '2025-01-17-21-32-40.brainflow.csv',\n",
       " '2025-01-19-22-07-23.brainflow.csv',\n",
       " '2025-01-21-21-39-45.brainflow.csv',\n",
       " '2025-01-22-21-42-13.brainflow.csv',\n",
       " '2025-01-23-21-33-32.brainflow.csv',\n",
       " '2025-01-27-21-31-51.brainflow.csv',\n",
       " '2025-01-28-21-50-35.brainflow.csv',\n",
       " '2025-01-30-21-49-17.brainflow.csv',\n",
       " '2025-01-31-21-45-23.brainflow.csv',\n",
       " '2025-02-02-21-31-45.brainflow.csv',\n",
       " '2025-02-03-21-09-39.brainflow.csv',\n",
       " '2025-02-04-21-21-26.brainflow.csv',\n",
       " '2025-02-05-21-15-57.brainflow.csv',\n",
       " '2025-02-09-21-19-01.brainflow.csv',\n",
       " '2025-02-10-21-45-36.brainflow.csv',\n",
       " '2025-02-11-21-47-04.brainflow.csv',\n",
       " '2025-02-12-20-34-56.brainflow.csv',\n",
       " '2025-02-13-20-52-43.brainflow.csv',\n",
       " '2025-02-15-21-37-56.brainflow.csv',\n",
       " '2025-02-16-21-26-48.brainflow.csv',\n",
       " '2025-02-17-21-43-00.brainflow.csv',\n",
       " '2025-02-18-21-50-50.brainflow.csv',\n",
       " '2025-02-19-21-29-50.brainflow.csv',\n",
       " '2025-02-20-21-31-45.brainflow.csv',\n",
       " '2025-02-23-21-28-38.brainflow.csv',\n",
       " '2025-02-24-22-00-38.brainflow.csv',\n",
       " '2025-02-26-21-21-01.brainflow.csv',\n",
       " '2025-02-27-21-22-47.brainflow.csv',\n",
       " '2025-03-01-21-46-54.brainflow.csv',\n",
       " '2025-03-05-21-59-37.brainflow.csv',\n",
       " '2025-03-07-21-50-51.brainflow.csv',\n",
       " '2025-03-08-21-45-12.brainflow.csv']"
      ]
     },
     "execution_count": 43,
     "metadata": {},
     "output_type": "execute_result"
    }
   ],
   "source": [
    "remote_brainflow_files"
   ]
  },
  {
   "cell_type": "code",
   "execution_count": 44,
   "id": "5cb4213ad55fa5c8",
   "metadata": {
    "ExecuteTime": {
     "end_time": "2025-02-27T08:51:37.439606500Z",
     "start_time": "2025-02-16T07:36:22.023525Z"
    }
   },
   "outputs": [
    {
     "name": "stdout",
     "output_type": "stream",
     "text": [
      "Already have C:\\dev\\play\\brainwave-data\\08-07-2024--22-51-16\\08-07-2024--22-51-16.brainflow.csv.bz2: False\n",
      "Already have C:\\dev\\play\\brainwave-data\\09-07-2024--22-52-25\\09-07-2024--22-52-25.brainflow.csv.bz2: False\n",
      "Already have C:\\dev\\play\\brainwave-data\\2024-07-15-09-10-07\\2024-07-15-09-10-07.brainflow.csv.bz2: False\n",
      "Already have C:\\dev\\play\\brainwave-data\\2024-07-16-23-14-52\\2024-07-16-23-14-52.brainflow.csv.bz2: False\n",
      "Already have C:\\dev\\play\\brainwave-data\\2024-07-24-18-57-03\\2024-07-24-18-57-03.brainflow.csv.bz2: False\n",
      "Already have C:\\dev\\play\\brainwave-data\\2024-09-03-21-10-58\\2024-09-03-21-10-58.brainflow.csv.bz2: False\n",
      "Already have C:\\dev\\play\\brainwave-data\\2024-09-04-21-44-08\\2024-09-04-21-44-08.brainflow.csv.bz2: False\n",
      "Already have C:\\dev\\play\\brainwave-data\\2024-09-08-21-01-39\\2024-09-08-21-01-39.brainflow.csv.bz2: False\n",
      "Already have C:\\dev\\play\\brainwave-data\\2024-09-10-21-22-21\\2024-09-10-21-22-21.brainflow.csv.bz2: False\n",
      "Already have C:\\dev\\play\\brainwave-data\\2024-09-11-21-19-21\\2024-09-11-21-19-21.brainflow.csv.bz2: False\n",
      "Already have C:\\dev\\play\\brainwave-data\\2024-09-13-21-24-32\\2024-09-13-21-24-32.brainflow.csv.bz2: False\n",
      "Already have C:\\dev\\play\\brainwave-data\\2024-09-15-21-14-05\\2024-09-15-21-14-05.brainflow.csv.bz2: False\n",
      "Already have C:\\dev\\play\\brainwave-data\\2024-09-16-21-04-27\\2024-09-16-21-04-27.brainflow.csv.bz2: False\n",
      "Already have C:\\dev\\play\\brainwave-data\\2024-09-17-21-33-14\\2024-09-17-21-33-14.brainflow.csv.bz2: False\n",
      "Already have C:\\dev\\play\\brainwave-data\\2024-09-18-21-28-11\\2024-09-18-21-28-11.brainflow.csv.bz2: False\n",
      "Already have C:\\dev\\play\\brainwave-data\\2024-09-19-21-29-42\\2024-09-19-21-29-42.brainflow.csv.bz2: False\n",
      "Already have C:\\dev\\play\\brainwave-data\\2024-09-20-21-19-28\\2024-09-20-21-19-28.brainflow.csv.bz2: False\n",
      "Already have C:\\dev\\play\\brainwave-data\\2024-09-22-21-30-59\\2024-09-22-21-30-59.brainflow.csv.bz2: False\n",
      "Already have C:\\dev\\play\\brainwave-data\\2024-09-24-22-43-12\\2024-09-24-22-43-12.brainflow.csv.bz2: False\n",
      "Already have C:\\dev\\play\\brainwave-data\\2024-09-25-21-57-01\\2024-09-25-21-57-01.brainflow.csv.bz2: False\n",
      "Already have C:\\dev\\play\\brainwave-data\\2024-09-26-21-24-52\\2024-09-26-21-24-52.brainflow.csv.bz2: False\n",
      "Already have C:\\dev\\play\\brainwave-data\\2024-09-28-21-33-28\\2024-09-28-21-33-28.brainflow.csv.bz2: False\n",
      "Already have C:\\dev\\play\\brainwave-data\\2024-09-30-21-27-49\\2024-09-30-21-27-49.brainflow.csv.bz2: True\n",
      "Already have C:\\dev\\play\\brainwave-data\\2024-10-01-21-36-11\\2024-10-01-21-36-11.brainflow.csv.bz2: True\n",
      "Already have C:\\dev\\play\\brainwave-data\\2024-10-02-21-20-34\\2024-10-02-21-20-34.brainflow.csv.bz2: False\n",
      "Already have C:\\dev\\play\\brainwave-data\\2024-10-02-21-21-15\\2024-10-02-21-21-15.brainflow.csv.bz2: True\n",
      "Already have C:\\dev\\play\\brainwave-data\\2024-10-04-21-13-39\\2024-10-04-21-13-39.brainflow.csv.bz2: True\n",
      "Already have C:\\dev\\play\\brainwave-data\\2024-10-05-21-09-46\\2024-10-05-21-09-47.brainflow.csv.bz2: True\n",
      "Already have C:\\dev\\play\\brainwave-data\\2024-10-06-21-29-18\\2024-10-06-21-29-18.brainflow.csv.bz2: True\n",
      "Already have C:\\dev\\play\\brainwave-data\\2024-10-07-21-35-17\\2024-10-07-21-35-18.brainflow.csv.bz2: True\n",
      "Already have C:\\dev\\play\\brainwave-data\\2024-10-08-21-21-34\\2024-10-08-21-21-34.brainflow.csv.bz2: True\n",
      "Already have C:\\dev\\play\\brainwave-data\\2024-10-09-21-22-04\\2024-10-09-21-22-04.brainflow.csv.bz2: True\n",
      "Already have C:\\dev\\play\\brainwave-data\\2024-10-11-21-16-27\\2024-10-11-21-16-27.brainflow.csv.bz2: True\n",
      "Already have C:\\dev\\play\\brainwave-data\\2024-10-15-22-01-52\\2024-10-15-22-01-52.brainflow.csv.bz2: True\n",
      "Already have C:\\dev\\play\\brainwave-data\\2024-10-20-20-09-48\\2024-10-20-20-09-48.brainflow.csv.bz2: False\n",
      "Already have C:\\dev\\play\\brainwave-data\\2024-10-21-21-30-18\\2024-10-21-21-30-19.brainflow.csv.bz2: True\n",
      "Already have C:\\dev\\play\\brainwave-data\\2024-10-23-21-24-02\\2024-10-23-21-24-03.brainflow.csv.bz2: True\n",
      "Already have C:\\dev\\play\\brainwave-data\\2024-10-24-21-35-33\\2024-10-24-21-35-33.brainflow.csv.bz2: True\n",
      "Already have C:\\dev\\play\\brainwave-data\\2024-10-29-20-42-12\\2024-10-29-20-42-12.brainflow.csv.bz2: True\n",
      "Already have C:\\dev\\play\\brainwave-data\\2024-10-30-21-26-55\\2024-10-30-21-26-55.brainflow.csv.bz2: True\n",
      "Already have C:\\dev\\play\\brainwave-data\\2024-11-01-21-32-22\\2024-11-01-21-32-22.brainflow.csv.bz2: True\n",
      "Already have C:\\dev\\play\\brainwave-data\\2024-11-02-21-29-03\\2024-11-02-21-29-03.brainflow.csv.bz2: True\n",
      "Already have C:\\dev\\play\\brainwave-data\\2024-11-03-21-20-37\\2024-11-03-21-20-37.brainflow.csv.bz2: False\n",
      "Already have C:\\dev\\play\\brainwave-data\\2024-11-04-21-20-51\\2024-11-04-21-20-51.brainflow.csv.bz2: True\n",
      "Already have C:\\dev\\play\\brainwave-data\\2024-11-05-21-34-15\\2024-11-05-21-34-15.brainflow.csv.bz2: True\n",
      "Already have C:\\dev\\play\\brainwave-data\\2024-11-07-21-26-18\\2024-11-07-21-26-18.brainflow.csv.bz2: True\n",
      "Already have C:\\dev\\play\\brainwave-data\\2024-11-08-21-16-53\\2024-11-08-21-16-53.brainflow.csv.bz2: True\n",
      "Already have C:\\dev\\play\\brainwave-data\\2024-11-09-21-27-51\\2024-11-09-21-27-51.brainflow.csv.bz2: True\n",
      "Already have C:\\dev\\play\\brainwave-data\\2024-11-12-21-11-43\\2024-11-12-21-11-43.brainflow.csv.bz2: True\n",
      "Already have C:\\dev\\play\\brainwave-data\\2024-11-16-21-54-46\\2024-11-16-21-54-46.brainflow.csv.bz2: True\n",
      "Already have C:\\dev\\play\\brainwave-data\\2024-11-19-21-29-04\\2024-11-19-21-29-04.brainflow.csv.bz2: True\n",
      "Already have C:\\dev\\play\\brainwave-data\\2024-11-20-21-30-29\\2024-11-20-21-30-29.brainflow.csv.bz2: True\n",
      "Already have C:\\dev\\play\\brainwave-data\\2024-11-21-21-15-26\\2024-11-21-21-15-26.brainflow.csv.bz2: True\n",
      "Already have C:\\dev\\play\\brainwave-data\\2024-11-22-21-30-12\\2024-11-22-21-30-12.brainflow.csv.bz2: True\n",
      "Already have C:\\dev\\play\\brainwave-data\\2024-11-23-21-14-58\\2024-11-23-21-14-58.brainflow.csv.bz2: True\n",
      "Already have C:\\dev\\play\\brainwave-data\\2024-11-24-21-21-31\\2024-11-24-21-21-31.brainflow.csv.bz2: True\n",
      "Already have C:\\dev\\play\\brainwave-data\\2024-11-24-22-33-06\\2024-11-24-22-33-06.brainflow.csv.bz2: True\n",
      "Already have C:\\dev\\play\\brainwave-data\\2024-11-24-22-37-54\\2024-11-24-22-37-54.brainflow.csv.bz2: True\n",
      "Already have C:\\dev\\play\\brainwave-data\\2024-11-25-21-27-21\\2024-11-25-21-27-21.brainflow.csv.bz2: False\n",
      "Already have C:\\dev\\play\\brainwave-data\\2024-11-26-21-35-46\\2024-11-26-21-35-46.brainflow.csv.bz2: True\n",
      "Already have C:\\dev\\play\\brainwave-data\\2024-11-27-21-14-24\\2024-11-27-21-14-24.brainflow.csv.bz2: False\n",
      "Already have C:\\dev\\play\\brainwave-data\\2024-11-27-21-18-50\\2024-11-27-21-18-50.brainflow.csv.bz2: True\n",
      "Already have C:\\dev\\play\\brainwave-data\\2024-11-28-21-50-57\\2024-11-28-21-50-57.brainflow.csv.bz2: True\n",
      "Already have C:\\dev\\play\\brainwave-data\\2024-11-29-21-18-33\\2024-11-29-21-18-33.brainflow.csv.bz2: True\n",
      "Already have C:\\dev\\play\\brainwave-data\\2024-11-30-21-21-05\\2024-11-30-21-21-05.brainflow.csv.bz2: True\n",
      "Already have C:\\dev\\play\\brainwave-data\\2024-12-01-21-29-13\\2024-12-01-21-29-13.brainflow.csv.bz2: True\n",
      "Already have C:\\dev\\play\\brainwave-data\\2024-12-03-21-15-08\\2024-12-03-21-15-08.brainflow.csv.bz2: True\n",
      "Already have C:\\dev\\play\\brainwave-data\\2024-12-04-21-15-17\\2024-12-04-21-15-17.brainflow.csv.bz2: True\n",
      "Already have C:\\dev\\play\\brainwave-data\\2024-12-05-21-15-24\\2024-12-05-21-15-24.brainflow.csv.bz2: True\n",
      "Already have C:\\dev\\play\\brainwave-data\\2024-12-06-21-32-04\\2024-12-06-21-32-04.brainflow.csv.bz2: True\n",
      "Already have C:\\dev\\play\\brainwave-data\\2024-12-07-21-19-09\\2024-12-07-21-19-09.brainflow.csv.bz2: True\n",
      "Already have C:\\dev\\play\\brainwave-data\\2024-12-08-21-23-50\\2024-12-08-21-23-50.brainflow.csv.bz2: True\n",
      "Already have C:\\dev\\play\\brainwave-data\\2024-12-09-21-29-08\\2024-12-09-21-29-08.brainflow.csv.bz2: True\n",
      "Already have C:\\dev\\play\\brainwave-data\\2024-12-10-21-14-13\\2024-12-10-21-14-13.brainflow.csv.bz2: True\n",
      "Already have C:\\dev\\play\\brainwave-data\\2024-12-11-21-31-37\\2024-12-11-21-31-37.brainflow.csv.bz2: True\n",
      "Already have C:\\dev\\play\\brainwave-data\\2024-12-12-21-20-17\\2024-12-12-21-20-17.brainflow.csv.bz2: True\n",
      "Already have C:\\dev\\play\\brainwave-data\\2024-12-13-21-23-37\\2024-12-13-21-23-37.brainflow.csv.bz2: True\n",
      "Already have C:\\dev\\play\\brainwave-data\\2024-12-14-21-26-54\\2024-12-14-21-26-54.brainflow.csv.bz2: True\n",
      "Already have C:\\dev\\play\\brainwave-data\\2024-12-16-21-26-57\\2024-12-16-21-26-57.brainflow.csv.bz2: True\n",
      "Already have C:\\dev\\play\\brainwave-data\\2024-12-17-21-24-11\\2024-12-17-21-24-11.brainflow.csv.bz2: True\n",
      "Already have C:\\dev\\play\\brainwave-data\\2024-12-18-21-32-18\\2024-12-18-21-32-18.brainflow.csv.bz2: True\n",
      "Already have C:\\dev\\play\\brainwave-data\\2024-12-19-21-18-48\\2024-12-19-21-18-48.brainflow.csv.bz2: True\n",
      "Already have C:\\dev\\play\\brainwave-data\\2024-12-20-21-31-19\\2024-12-20-21-31-19.brainflow.csv.bz2: True\n",
      "Already have C:\\dev\\play\\brainwave-data\\2024-12-21-21-43-12\\2024-12-21-21-43-12.brainflow.csv.bz2: True\n",
      "Already have C:\\dev\\play\\brainwave-data\\2024-12-27-21-21-34\\2024-12-27-21-21-34.brainflow.csv.bz2: True\n",
      "Already have C:\\dev\\play\\brainwave-data\\2024-12-28-21-33-53\\2024-12-28-21-33-53.brainflow.csv.bz2: True\n",
      "Already have C:\\dev\\play\\brainwave-data\\2024-12-29-21-15-24\\2024-12-29-21-15-24.brainflow.csv.bz2: True\n",
      "Already have C:\\dev\\play\\brainwave-data\\2024-12-30-21-34-52\\2024-12-30-21-34-52.brainflow.csv.bz2: True\n",
      "Already have C:\\dev\\play\\brainwave-data\\2024-12-31-21-12-28\\2024-12-31-21-12-28.brainflow.csv.bz2: True\n",
      "Already have C:\\dev\\play\\brainwave-data\\2025-01-01-21-40-36\\2025-01-01-21-40-36.brainflow.csv.bz2: False\n",
      "Already have C:\\dev\\play\\brainwave-data\\2025-01-01-21-42-08\\2025-01-01-21-42-08.brainflow.csv.bz2: True\n",
      "Already have C:\\dev\\play\\brainwave-data\\2025-01-05-21-10-59\\2025-01-05-21-10-59.brainflow.csv.bz2: True\n",
      "Already have C:\\dev\\play\\brainwave-data\\2025-01-06-21-35-21\\2025-01-06-21-35-21.brainflow.csv.bz2: True\n",
      "Already have C:\\dev\\play\\brainwave-data\\2025-01-07-21-12-58\\2025-01-07-21-12-58.brainflow.csv.bz2: True\n",
      "Already have C:\\dev\\play\\brainwave-data\\2025-01-08-21-38-53\\2025-01-08-21-38-53.brainflow.csv.bz2: False\n",
      "Already have C:\\dev\\play\\brainwave-data\\2025-01-08-21-39-36\\2025-01-08-21-39-36.brainflow.csv.bz2: False\n",
      "Already have C:\\dev\\play\\brainwave-data\\2025-01-08-21-40-21\\2025-01-08-21-40-21.brainflow.csv.bz2: False\n",
      "Already have C:\\dev\\play\\brainwave-data\\2025-01-08-21-41-09\\2025-01-08-21-41-09.brainflow.csv.bz2: True\n",
      "Already have C:\\dev\\play\\brainwave-data\\2025-01-11-21-19-30\\2025-01-11-21-19-30.brainflow.csv.bz2: True\n",
      "Already have C:\\dev\\play\\brainwave-data\\2025-01-16-21-34-19\\2025-01-16-21-34-19.brainflow.csv.bz2: True\n",
      "Already have C:\\dev\\play\\brainwave-data\\2025-01-17-21-32-40\\2025-01-17-21-32-40.brainflow.csv.bz2: True\n",
      "Already have C:\\dev\\play\\brainwave-data\\2025-01-19-22-07-23\\2025-01-19-22-07-23.brainflow.csv.bz2: True\n",
      "Already have C:\\dev\\play\\brainwave-data\\2025-01-21-21-39-45\\2025-01-21-21-39-45.brainflow.csv.bz2: True\n",
      "Already have C:\\dev\\play\\brainwave-data\\2025-01-22-21-42-13\\2025-01-22-21-42-13.brainflow.csv.bz2: True\n",
      "Already have C:\\dev\\play\\brainwave-data\\2025-01-23-21-33-32\\2025-01-23-21-33-32.brainflow.csv.bz2: True\n",
      "Already have C:\\dev\\play\\brainwave-data\\2025-01-27-21-31-51\\2025-01-27-21-31-51.brainflow.csv.bz2: True\n",
      "Already have C:\\dev\\play\\brainwave-data\\2025-01-28-21-50-35\\2025-01-28-21-50-35.brainflow.csv.bz2: True\n",
      "Already have C:\\dev\\play\\brainwave-data\\2025-01-30-21-49-17\\2025-01-30-21-49-17.brainflow.csv.bz2: True\n",
      "Already have C:\\dev\\play\\brainwave-data\\2025-01-31-21-45-23\\2025-01-31-21-45-23.brainflow.csv.bz2: True\n",
      "Already have C:\\dev\\play\\brainwave-data\\2025-02-02-21-31-45\\2025-02-02-21-31-45.brainflow.csv.bz2: True\n",
      "Already have C:\\dev\\play\\brainwave-data\\2025-02-03-21-09-39\\2025-02-03-21-09-39.brainflow.csv.bz2: True\n",
      "Already have C:\\dev\\play\\brainwave-data\\2025-02-04-21-21-26\\2025-02-04-21-21-26.brainflow.csv.bz2: True\n",
      "Already have C:\\dev\\play\\brainwave-data\\2025-02-05-21-15-57\\2025-02-05-21-15-57.brainflow.csv.bz2: True\n",
      "Already have C:\\dev\\play\\brainwave-data\\2025-02-09-21-19-01\\2025-02-09-21-19-01.brainflow.csv.bz2: True\n",
      "Already have C:\\dev\\play\\brainwave-data\\2025-02-10-21-45-36\\2025-02-10-21-45-36.brainflow.csv.bz2: True\n",
      "Already have C:\\dev\\play\\brainwave-data\\2025-02-11-21-47-04\\2025-02-11-21-47-04.brainflow.csv.bz2: True\n",
      "Already have C:\\dev\\play\\brainwave-data\\2025-02-12-20-34-56\\2025-02-12-20-34-56.brainflow.csv.bz2: True\n",
      "Already have C:\\dev\\play\\brainwave-data\\2025-02-13-20-52-43\\2025-02-13-20-52-43.brainflow.csv.bz2: True\n",
      "Already have C:\\dev\\play\\brainwave-data\\2025-02-15-21-37-56\\2025-02-15-21-37-56.brainflow.csv.bz2: True\n",
      "Already have C:\\dev\\play\\brainwave-data\\2025-02-16-21-26-48\\2025-02-16-21-26-48.brainflow.csv.bz2: True\n",
      "Already have C:\\dev\\play\\brainwave-data\\2025-02-17-21-43-00\\2025-02-17-21-43-00.brainflow.csv.bz2: True\n",
      "Already have C:\\dev\\play\\brainwave-data\\2025-02-18-21-50-50\\2025-02-18-21-50-50.brainflow.csv.bz2: True\n",
      "Already have C:\\dev\\play\\brainwave-data\\2025-02-19-21-29-50\\2025-02-19-21-29-50.brainflow.csv.bz2: True\n",
      "Already have C:\\dev\\play\\brainwave-data\\2025-02-20-21-31-45\\2025-02-20-21-31-45.brainflow.csv.bz2: True\n",
      "Already have C:\\dev\\play\\brainwave-data\\2025-02-23-21-28-38\\2025-02-23-21-28-38.brainflow.csv.bz2: True\n",
      "Already have C:\\dev\\play\\brainwave-data\\2025-02-24-22-00-38\\2025-02-24-22-00-38.brainflow.csv.bz2: True\n",
      "Already have C:\\dev\\play\\brainwave-data\\2025-02-26-21-21-01\\2025-02-26-21-21-01.brainflow.csv.bz2: True\n",
      "Already have C:\\dev\\play\\brainwave-data\\2025-02-27-21-22-47\\2025-02-27-21-22-47.brainflow.csv.bz2: True\n",
      "Already have C:\\dev\\play\\brainwave-data\\2025-03-01-21-46-54\\2025-03-01-21-46-54.brainflow.csv.bz2: True\n",
      "Already have C:\\dev\\play\\brainwave-data\\2025-03-05-21-59-37\\2025-03-05-21-59-37.brainflow.csv.bz2: True\n",
      "Already have C:\\dev\\play\\brainwave-data\\2025-03-07-21-50-51\\2025-03-07-21-50-51.brainflow.csv.bz2: True\n",
      "Already have C:\\dev\\play\\brainwave-data\\2025-03-08-21-45-12\\2025-03-08-21-45-12.brainflow.csv.bz2: True\n",
      "Already have C:\\dev\\play\\brainwave-data\\nonnight\\2024-07-15-09-10-07\\2024-07-15-09-10-07.brainflow.csv.bz2: False\n",
      "Already have C:\\dev\\play\\brainwave-data\\nonnight\\2024-07-16-07-17-07\\2024-07-16-07-17-07.brainflow.csv.bz2: False\n",
      "Already have C:\\dev\\play\\brainwave-data\\nonnight\\2024-07-17-08-17-29\\2024-07-17-08-17-29.brainflow.csv.bz2: False\n",
      "Already have C:\\dev\\play\\brainwave-data\\nonnight\\2024-07-18-09-10-29\\2024-07-18-09-10-29.brainflow.csv.bz2: False\n",
      "Already have C:\\dev\\play\\brainwave-data\\nonnight\\2024-07-22-09-14-52\\2024-07-22-09-14-52.brainflow.csv.bz2: False\n",
      "Already have C:\\dev\\play\\brainwave-data\\nonnight\\2024-07-27-09-40-07\\2024-07-27-09-40-07.brainflow.csv.bz2: False\n",
      "Already have C:\\dev\\play\\brainwave-data\\nonnight\\2024-07-28-22-29-49\\2024-07-28-22-29-49.brainflow.csv.bz2: False\n",
      "Already have C:\\dev\\play\\brainwave-data\\nonnight\\2024-07-29-08-39-51\\2024-07-29-08-39-51.brainflow.csv.bz2: False\n",
      "Already have C:\\dev\\play\\brainwave-data\\nonnight\\2024-07-30-20-52-24\\2024-07-30-20-52-24.brainflow.csv.bz2: False\n",
      "Already have C:\\dev\\play\\brainwave-data\\nonnight\\2024-08-01-17-03-14\\2024-08-01-17-03-14.brainflow.csv.bz2: False\n",
      "Already have C:\\dev\\play\\brainwave-data\\nonnight\\2024-08-02-10-27-18\\2024-08-02-10-27-18.brainflow.csv.bz2: False\n",
      "Already have C:\\dev\\play\\brainwave-data\\nonnight\\2024-08-04-08-15-28\\2024-08-04-08-15-28.brainflow.csv.bz2: False\n"
     ]
    }
   ],
   "source": [
    "files_to_copy = remote_brainflow_files.copy()\n",
    "\n",
    "\n",
    "for root, dirs, files in os.walk(input_dir):\n",
    "    #for idx, file_name in enumerate(tqdm(dirs, desc=\"Converting Brainflow to FIF\")):\n",
    "    for idx, file_name in enumerate(files):\n",
    "        full_input_filename = os.path.join(root, file_name)\n",
    "        if \".brainflow.csv.bz2\" in full_input_filename:\n",
    "            #print(f\"Processing {full_input_filename}\")\n",
    "            file_name_without_bz2 = file_name.removesuffix(\".bz2\")\n",
    "            already_have = file_name_without_bz2 in remote_brainflow_files\n",
    "            print(f\"Already have {full_input_filename}: {already_have}\")\n",
    "            if already_have:\n",
    "                files_to_copy.remove(file_name_without_bz2)\n",
    "\n"
   ]
  },
  {
   "cell_type": "code",
   "execution_count": 45,
   "id": "423cd6c357456f29",
   "metadata": {
    "ExecuteTime": {
     "end_time": "2025-02-27T08:51:37.441614900Z",
     "start_time": "2025-02-16T07:36:22.079570Z"
    }
   },
   "outputs": [
    {
     "data": {
      "text/plain": [
       "[]"
      ]
     },
     "execution_count": 45,
     "metadata": {},
     "output_type": "execute_result"
    }
   ],
   "source": [
    "files_to_copy"
   ]
  },
  {
   "cell_type": "code",
   "execution_count": 46,
   "id": "cb454f01364aee73",
   "metadata": {
    "ExecuteTime": {
     "end_time": "2025-02-27T08:51:37.443055900Z",
     "start_time": "2025-02-16T07:36:22.106853Z"
    }
   },
   "outputs": [
    {
     "name": "stderr",
     "output_type": "stream",
     "text": [
      "2025-03-10 08:15:36,726 - INFO - [chan 1] Opened sftp connection (server version 3)\n",
      "2025-03-10 08:15:36,729 - INFO - [chan 1] sftp session closed.\n"
     ]
    }
   ],
   "source": [
    "import os\n",
    "import bz2\n",
    "from tqdm import tqdm\n",
    "\n",
    "sftp = ssh.open_sftp()\n",
    "for file in files_to_copy:\n",
    "    remote_file_path = remote_dir + \"/\" + file\n",
    "    local_file_path = os.path.join(input_dir, file)\n",
    "    log(f\"Copying Brainflow backup remote:{remote_file_path} to {local_file_path}\")\n",
    "\n",
    "    # Get the file size\n",
    "    remote_file_size = sftp.stat(remote_file_path).st_size\n",
    "\n",
    "    with tqdm(total=remote_file_size, unit='B', unit_scale=True, desc=file, ascii=True) as pbar:\n",
    "        local_file_path = os.path.join(input_dir, file)\n",
    "    \n",
    "        def callback(transferred_so_far, total_to_transfer):\n",
    "            pbar.update(transferred_so_far - pbar.n)\n",
    "    \n",
    "        # Create a file-like object that writes to the local file\n",
    "        with open(local_file_path, 'wb') as local_file:\n",
    "            sftp.getfo(remote_file_path, local_file, callback=callback)\n",
    "sftp.close()\n",
    "ssh.close()\n"
   ]
  },
  {
   "cell_type": "markdown",
   "id": "6558e15223cc8efc",
   "metadata": {},
   "source": [
    "## Convert Brainflow files to FIF"
   ]
  },
  {
   "cell_type": "code",
   "execution_count": 47,
   "id": "e93d35cf861b09fa",
   "metadata": {
    "ExecuteTime": {
     "end_time": "2025-02-27T08:51:37.445268100Z",
     "start_time": "2025-02-16T07:36:22.607468Z"
    }
   },
   "outputs": [],
   "source": [
    "def get_brainflow_compressed_filename(full_input_filename: str) -> str:\n",
    "    full_output_dirname = webserver.output_dirname(full_input_filename)\n",
    "    compressed_full_output_filename = str(os.path.join(full_output_dirname, os.path.basename(full_input_filename))) + '.bz2'\n",
    "    return compressed_full_output_filename"
   ]
  },
  {
   "cell_type": "code",
   "execution_count": 48,
   "id": "21a84723f63a57a8",
   "metadata": {
    "ExecuteTime": {
     "end_time": "2025-02-27T08:51:37.446592500Z",
     "start_time": "2025-02-16T07:36:22.627508Z"
    }
   },
   "outputs": [
    {
     "name": "stdout",
     "output_type": "stream",
     "text": [
      "2025-03-10 08:15:36.911140 Skipping file C:\\dev\\play\\brainwave-data\\2024-12-28-21-33-53.brainflow.csv as C:\\dev\\play\\brainwave-data\\2024-12-28-21-33-53\\raw.fif and C:\\dev\\play\\brainwave-data\\2024-12-28-21-33-53\\2024-12-28-21-33-53.brainflow.csv.bz2 already exist\n",
      "2025-03-10 08:15:36.911140 Skipping file C:\\dev\\play\\brainwave-data\\2024-12-29-21-15-24.brainflow.csv as C:\\dev\\play\\brainwave-data\\2024-12-29-21-15-24\\raw.fif and C:\\dev\\play\\brainwave-data\\2024-12-29-21-15-24\\2024-12-29-21-15-24.brainflow.csv.bz2 already exist\n",
      "2025-03-10 08:15:36.911140 Skipping file C:\\dev\\play\\brainwave-data\\2024-12-30-21-34-52.brainflow.csv as C:\\dev\\play\\brainwave-data\\2024-12-30-21-34-52\\raw.fif and C:\\dev\\play\\brainwave-data\\2024-12-30-21-34-52\\2024-12-30-21-34-52.brainflow.csv.bz2 already exist\n",
      "2025-03-10 08:15:36.911140 Skipping file C:\\dev\\play\\brainwave-data\\2024-12-31-21-12-28.brainflow.csv as C:\\dev\\play\\brainwave-data\\2024-12-31-21-12-28\\raw.fif and C:\\dev\\play\\brainwave-data\\2024-12-31-21-12-28\\2024-12-31-21-12-28.brainflow.csv.bz2 already exist\n",
      "2025-03-10 08:15:36.911140 Skipping file C:\\dev\\play\\brainwave-data\\2025-01-01-21-42-08.brainflow.csv as C:\\dev\\play\\brainwave-data\\2025-01-01-21-42-08\\raw.fif and C:\\dev\\play\\brainwave-data\\2025-01-01-21-42-08\\2025-01-01-21-42-08.brainflow.csv.bz2 already exist\n",
      "2025-03-10 08:15:36.912143 Skipping file C:\\dev\\play\\brainwave-data\\2025-01-05-21-10-59.brainflow.csv as C:\\dev\\play\\brainwave-data\\2025-01-05-21-10-59\\raw.fif and C:\\dev\\play\\brainwave-data\\2025-01-05-21-10-59\\2025-01-05-21-10-59.brainflow.csv.bz2 already exist\n",
      "2025-03-10 08:15:36.913076 Skipping file C:\\dev\\play\\brainwave-data\\2025-01-06-21-35-21.brainflow.csv as C:\\dev\\play\\brainwave-data\\2025-01-06-21-35-21\\raw.fif and C:\\dev\\play\\brainwave-data\\2025-01-06-21-35-21\\2025-01-06-21-35-21.brainflow.csv.bz2 already exist\n",
      "2025-03-10 08:15:36.915082 Skipping file C:\\dev\\play\\brainwave-data\\2025-01-07-21-12-58.brainflow.csv as C:\\dev\\play\\brainwave-data\\2025-01-07-21-12-58\\raw.fif and C:\\dev\\play\\brainwave-data\\2025-01-07-21-12-58\\2025-01-07-21-12-58.brainflow.csv.bz2 already exist\n",
      "2025-03-10 08:15:36.915156 Skipping file C:\\dev\\play\\brainwave-data\\2025-01-08-21-41-09.brainflow.csv as C:\\dev\\play\\brainwave-data\\2025-01-08-21-41-09\\raw.fif and C:\\dev\\play\\brainwave-data\\2025-01-08-21-41-09\\2025-01-08-21-41-09.brainflow.csv.bz2 already exist\n",
      "2025-03-10 08:15:36.916164 Skipping file C:\\dev\\play\\brainwave-data\\2025-01-11-21-19-30.brainflow.csv as C:\\dev\\play\\brainwave-data\\2025-01-11-21-19-30\\raw.fif and C:\\dev\\play\\brainwave-data\\2025-01-11-21-19-30\\2025-01-11-21-19-30.brainflow.csv.bz2 already exist\n",
      "2025-03-10 08:15:36.916164 Skipping file C:\\dev\\play\\brainwave-data\\2025-01-16-21-34-19.brainflow.csv as C:\\dev\\play\\brainwave-data\\2025-01-16-21-34-19\\raw.fif and C:\\dev\\play\\brainwave-data\\2025-01-16-21-34-19\\2025-01-16-21-34-19.brainflow.csv.bz2 already exist\n",
      "2025-03-10 08:15:36.917241 Skipping file C:\\dev\\play\\brainwave-data\\2025-01-17-21-32-40.brainflow.csv as C:\\dev\\play\\brainwave-data\\2025-01-17-21-32-40\\raw.fif and C:\\dev\\play\\brainwave-data\\2025-01-17-21-32-40\\2025-01-17-21-32-40.brainflow.csv.bz2 already exist\n",
      "2025-03-10 08:15:36.917241 Skipping file C:\\dev\\play\\brainwave-data\\2025-01-19-22-07-23.brainflow.csv as C:\\dev\\play\\brainwave-data\\2025-01-19-22-07-23\\raw.fif and C:\\dev\\play\\brainwave-data\\2025-01-19-22-07-23\\2025-01-19-22-07-23.brainflow.csv.bz2 already exist\n",
      "2025-03-10 08:15:36.918290 Skipping file C:\\dev\\play\\brainwave-data\\2025-01-21-21-39-45.brainflow.csv as C:\\dev\\play\\brainwave-data\\2025-01-21-21-39-45\\raw.fif and C:\\dev\\play\\brainwave-data\\2025-01-21-21-39-45\\2025-01-21-21-39-45.brainflow.csv.bz2 already exist\n",
      "2025-03-10 08:15:36.918290 Skipping file C:\\dev\\play\\brainwave-data\\2025-01-22-21-42-13.brainflow.csv as C:\\dev\\play\\brainwave-data\\2025-01-22-21-42-13\\raw.fif and C:\\dev\\play\\brainwave-data\\2025-01-22-21-42-13\\2025-01-22-21-42-13.brainflow.csv.bz2 already exist\n",
      "2025-03-10 08:15:36.919291 Skipping file C:\\dev\\play\\brainwave-data\\2025-01-23-21-33-32.brainflow.csv as C:\\dev\\play\\brainwave-data\\2025-01-23-21-33-32\\raw.fif and C:\\dev\\play\\brainwave-data\\2025-01-23-21-33-32\\2025-01-23-21-33-32.brainflow.csv.bz2 already exist\n",
      "2025-03-10 08:15:36.919291 Skipping file C:\\dev\\play\\brainwave-data\\2025-01-27-21-31-51.brainflow.csv as C:\\dev\\play\\brainwave-data\\2025-01-27-21-31-51\\raw.fif and C:\\dev\\play\\brainwave-data\\2025-01-27-21-31-51\\2025-01-27-21-31-51.brainflow.csv.bz2 already exist\n",
      "2025-03-10 08:15:36.919291 Skipping file C:\\dev\\play\\brainwave-data\\2025-01-28-21-50-35.brainflow.csv as C:\\dev\\play\\brainwave-data\\2025-01-28-21-50-35\\raw.fif and C:\\dev\\play\\brainwave-data\\2025-01-28-21-50-35\\2025-01-28-21-50-35.brainflow.csv.bz2 already exist\n",
      "2025-03-10 08:15:36.920290 Skipping file C:\\dev\\play\\brainwave-data\\2025-01-30-21-49-17.brainflow.csv as C:\\dev\\play\\brainwave-data\\2025-01-30-21-49-17\\raw.fif and C:\\dev\\play\\brainwave-data\\2025-01-30-21-49-17\\2025-01-30-21-49-17.brainflow.csv.bz2 already exist\n",
      "2025-03-10 08:15:36.920290 Skipping file C:\\dev\\play\\brainwave-data\\2025-01-31-21-45-23.brainflow.csv as C:\\dev\\play\\brainwave-data\\2025-01-31-21-45-23\\raw.fif and C:\\dev\\play\\brainwave-data\\2025-01-31-21-45-23\\2025-01-31-21-45-23.brainflow.csv.bz2 already exist\n",
      "2025-03-10 08:15:36.921393 Skipping file C:\\dev\\play\\brainwave-data\\2025-02-02-21-31-45.brainflow.csv as C:\\dev\\play\\brainwave-data\\2025-02-02-21-31-45\\raw.fif and C:\\dev\\play\\brainwave-data\\2025-02-02-21-31-45\\2025-02-02-21-31-45.brainflow.csv.bz2 already exist\n",
      "2025-03-10 08:15:36.921393 Skipping file C:\\dev\\play\\brainwave-data\\2025-02-03-21-09-39.brainflow.csv as C:\\dev\\play\\brainwave-data\\2025-02-03-21-09-39\\raw.fif and C:\\dev\\play\\brainwave-data\\2025-02-03-21-09-39\\2025-02-03-21-09-39.brainflow.csv.bz2 already exist\n",
      "2025-03-10 08:15:36.921393 Skipping file C:\\dev\\play\\brainwave-data\\2025-02-04-21-21-26.brainflow.csv as C:\\dev\\play\\brainwave-data\\2025-02-04-21-21-26\\raw.fif and C:\\dev\\play\\brainwave-data\\2025-02-04-21-21-26\\2025-02-04-21-21-26.brainflow.csv.bz2 already exist\n",
      "2025-03-10 08:15:36.922411 Skipping file C:\\dev\\play\\brainwave-data\\2025-02-05-21-15-57.brainflow.csv as C:\\dev\\play\\brainwave-data\\2025-02-05-21-15-57\\raw.fif and C:\\dev\\play\\brainwave-data\\2025-02-05-21-15-57\\2025-02-05-21-15-57.brainflow.csv.bz2 already exist\n",
      "2025-03-10 08:15:36.922411 Skipping file C:\\dev\\play\\brainwave-data\\2025-02-09-21-19-01.brainflow.csv as C:\\dev\\play\\brainwave-data\\2025-02-09-21-19-01\\raw.fif and C:\\dev\\play\\brainwave-data\\2025-02-09-21-19-01\\2025-02-09-21-19-01.brainflow.csv.bz2 already exist\n",
      "2025-03-10 08:15:36.922411 Skipping file C:\\dev\\play\\brainwave-data\\2025-02-10-21-45-36.brainflow.csv as C:\\dev\\play\\brainwave-data\\2025-02-10-21-45-36\\raw.fif and C:\\dev\\play\\brainwave-data\\2025-02-10-21-45-36\\2025-02-10-21-45-36.brainflow.csv.bz2 already exist\n",
      "2025-03-10 08:15:36.923411 Skipping file C:\\dev\\play\\brainwave-data\\2025-02-11-21-47-04.brainflow.csv as C:\\dev\\play\\brainwave-data\\2025-02-11-21-47-04\\raw.fif and C:\\dev\\play\\brainwave-data\\2025-02-11-21-47-04\\2025-02-11-21-47-04.brainflow.csv.bz2 already exist\n",
      "2025-03-10 08:15:36.923411 Skipping file C:\\dev\\play\\brainwave-data\\2025-02-12-20-34-56.brainflow.csv as C:\\dev\\play\\brainwave-data\\2025-02-12-20-34-56\\raw.fif and C:\\dev\\play\\brainwave-data\\2025-02-12-20-34-56\\2025-02-12-20-34-56.brainflow.csv.bz2 already exist\n",
      "2025-03-10 08:15:36.923411 Skipping file C:\\dev\\play\\brainwave-data\\2025-02-13-20-52-43.brainflow.csv as C:\\dev\\play\\brainwave-data\\2025-02-13-20-52-43\\raw.fif and C:\\dev\\play\\brainwave-data\\2025-02-13-20-52-43\\2025-02-13-20-52-43.brainflow.csv.bz2 already exist\n",
      "2025-03-10 08:15:36.923411 Skipping file C:\\dev\\play\\brainwave-data\\2025-02-15-21-37-56.brainflow.csv as C:\\dev\\play\\brainwave-data\\2025-02-15-21-37-56\\raw.fif and C:\\dev\\play\\brainwave-data\\2025-02-15-21-37-56\\2025-02-15-21-37-56.brainflow.csv.bz2 already exist\n",
      "2025-03-10 08:15:36.924442 Skipping file C:\\dev\\play\\brainwave-data\\2025-02-16-21-26-48.brainflow.csv as C:\\dev\\play\\brainwave-data\\2025-02-16-21-26-48\\raw.fif and C:\\dev\\play\\brainwave-data\\2025-02-16-21-26-48\\2025-02-16-21-26-48.brainflow.csv.bz2 already exist\n",
      "2025-03-10 08:15:36.924442 Skipping file C:\\dev\\play\\brainwave-data\\2025-02-17-21-43-00.brainflow.csv as C:\\dev\\play\\brainwave-data\\2025-02-17-21-43-00\\raw.fif and C:\\dev\\play\\brainwave-data\\2025-02-17-21-43-00\\2025-02-17-21-43-00.brainflow.csv.bz2 already exist\n",
      "2025-03-10 08:15:36.925304 Skipping file C:\\dev\\play\\brainwave-data\\2025-02-18-21-50-50.brainflow.csv as C:\\dev\\play\\brainwave-data\\2025-02-18-21-50-50\\raw.fif and C:\\dev\\play\\brainwave-data\\2025-02-18-21-50-50\\2025-02-18-21-50-50.brainflow.csv.bz2 already exist\n",
      "2025-03-10 08:15:36.925610 Skipping file C:\\dev\\play\\brainwave-data\\2025-02-19-21-29-50.brainflow.csv as C:\\dev\\play\\brainwave-data\\2025-02-19-21-29-50\\raw.fif and C:\\dev\\play\\brainwave-data\\2025-02-19-21-29-50\\2025-02-19-21-29-50.brainflow.csv.bz2 already exist\n",
      "2025-03-10 08:15:36.925610 Skipping file C:\\dev\\play\\brainwave-data\\2025-02-20-21-31-45.brainflow.csv as C:\\dev\\play\\brainwave-data\\2025-02-20-21-31-45\\raw.fif and C:\\dev\\play\\brainwave-data\\2025-02-20-21-31-45\\2025-02-20-21-31-45.brainflow.csv.bz2 already exist\n",
      "2025-03-10 08:15:36.925610 Skipping file C:\\dev\\play\\brainwave-data\\2025-02-23-21-28-38.brainflow.csv as C:\\dev\\play\\brainwave-data\\2025-02-23-21-28-38\\raw.fif and C:\\dev\\play\\brainwave-data\\2025-02-23-21-28-38\\2025-02-23-21-28-38.brainflow.csv.bz2 already exist\n",
      "2025-03-10 08:15:36.925610 Skipping file C:\\dev\\play\\brainwave-data\\2025-02-24-22-00-38.brainflow.csv as C:\\dev\\play\\brainwave-data\\2025-02-24-22-00-38\\raw.fif and C:\\dev\\play\\brainwave-data\\2025-02-24-22-00-38\\2025-02-24-22-00-38.brainflow.csv.bz2 already exist\n",
      "2025-03-10 08:15:36.926615 Skipping file C:\\dev\\play\\brainwave-data\\2025-02-26-21-21-01.brainflow.csv as C:\\dev\\play\\brainwave-data\\2025-02-26-21-21-01\\raw.fif and C:\\dev\\play\\brainwave-data\\2025-02-26-21-21-01\\2025-02-26-21-21-01.brainflow.csv.bz2 already exist\n",
      "2025-03-10 08:15:36.926615 Skipping file C:\\dev\\play\\brainwave-data\\2025-02-27-21-22-47.brainflow.csv as C:\\dev\\play\\brainwave-data\\2025-02-27-21-22-47\\raw.fif and C:\\dev\\play\\brainwave-data\\2025-02-27-21-22-47\\2025-02-27-21-22-47.brainflow.csv.bz2 already exist\n",
      "2025-03-10 08:15:36.926615 Skipping file C:\\dev\\play\\brainwave-data\\2025-03-01-21-46-54.brainflow.csv as C:\\dev\\play\\brainwave-data\\2025-03-01-21-46-54\\raw.fif and C:\\dev\\play\\brainwave-data\\2025-03-01-21-46-54\\2025-03-01-21-46-54.brainflow.csv.bz2 already exist\n",
      "2025-03-10 08:15:36.926615 Skipping file C:\\dev\\play\\brainwave-data\\2025-03-05-21-59-37.brainflow.csv as C:\\dev\\play\\brainwave-data\\2025-03-05-21-59-37\\raw.fif and C:\\dev\\play\\brainwave-data\\2025-03-05-21-59-37\\2025-03-05-21-59-37.brainflow.csv.bz2 already exist\n",
      "2025-03-10 08:15:36.926615 Skipping file C:\\dev\\play\\brainwave-data\\2025-03-07-21-50-51.brainflow.csv as C:\\dev\\play\\brainwave-data\\2025-03-07-21-50-51\\raw.fif and C:\\dev\\play\\brainwave-data\\2025-03-07-21-50-51\\2025-03-07-21-50-51.brainflow.csv.bz2 already exist\n",
      "2025-03-10 08:15:36.927615 Skipping file C:\\dev\\play\\brainwave-data\\2025-03-08-21-45-12.brainflow.csv as C:\\dev\\play\\brainwave-data\\2025-03-08-21-45-12\\raw.fif and C:\\dev\\play\\brainwave-data\\2025-03-08-21-45-12\\2025-03-08-21-45-12.brainflow.csv.bz2 already exist\n"
     ]
    }
   ],
   "source": [
    "from datetime import datetime\n",
    "\n",
    "import webserver\n",
    "import convert\n",
    "# import zstandard as zstd\n",
    "import os\n",
    "import bz2\n",
    "import time\n",
    "import shutil\n",
    "\n",
    "errors = []\n",
    "processed = []\n",
    "\n",
    "# Could get these working later\n",
    "skip_list = ['2024-09-10-21-22-21']\n",
    "\n",
    "def compress_bz2(input_file, output_file):\n",
    "    start_time = time.time()\n",
    "    with open(input_file, 'rb') as f_in:\n",
    "        with bz2.open(output_file, 'wb', compresslevel=9) as f_out:\n",
    "            shutil.copyfileobj(f_in, f_out)\n",
    "    end_time = time.time()\n",
    "    return end_time - start_time, os.path.getsize(output_file)\n",
    "\n",
    "for root, dirs, files in os.walk(input_dir):\n",
    "    #for idx, file_name in enumerate(tqdm(dirs, desc=\"Converting Brainflow to FIF\")):\n",
    "    for idx, file_name in enumerate(files):\n",
    "        full_input_filename = os.path.join(root, file_name)\n",
    "        try:\n",
    "            if full_input_filename.endswith(\".brainflow.csv\"):\n",
    "                full_output_dirname = webserver.output_dirname(full_input_filename)\n",
    "                full_output_filename = str(os.path.join(full_output_dirname, 'raw.fif'))\n",
    "                \n",
    "                compressed_full_output_filename = get_brainflow_compressed_filename(full_input_filename)\n",
    "                \n",
    "                if not os.path.exists(compressed_full_output_filename):\n",
    "                    log(f\"Compressing file {full_input_filename} to \" + compressed_full_output_filename)\n",
    "                    processed.append(\"Compressing \" + full_input_filename)\n",
    "                    try:\n",
    "                        os.mkdir(os.path.dirname(compressed_full_output_filename))\n",
    "                    except:\n",
    "                        pass\n",
    "                    compress_bz2(full_input_filename, compressed_full_output_filename) \n",
    "                    \n",
    "                if os.path.exists(full_output_filename):\n",
    "                    log(f\"Skipping file {full_input_filename} as {full_output_filename} and {compressed_full_output_filename} already exist\")\n",
    "                    continue\n",
    "                should_skip = False\n",
    "                for s in skip_list:\n",
    "                    if s in full_input_filename:\n",
    "                        log(f\"Skipping file {full_input_filename}\")\n",
    "                        should_skip = True\n",
    "                if not should_skip:\n",
    "                    log(f\"Processing file {full_input_filename}\")\n",
    "                    processed.append(\"Processing \" + full_input_filename)\n",
    "                    channels = None\n",
    "                    date_time_str = os.path.basename(full_input_filename).removesuffix(\".brainflow.csv\")\n",
    "                    date_time_obj = datetime.strptime(date_time_str, '%Y-%m-%d-%H-%M-%S')\n",
    "                    if (date_time_obj > datetime(2024, 9, 1, 0, 0, 0)):\n",
    "                        channels = ['Fpz-M1']\n",
    "        \n",
    "                    if channels is not None:\n",
    "                        log(f\"Processing file {full_input_filename} with channels {channels}\")\n",
    "                        # Changing to gap-filling on 30th Nov\n",
    "                        convert.convert_and_save_brainflow_file_with_gap_filling(log, full_input_filename, full_output_filename, channels)\n",
    "\n",
    "        except Exception as e:\n",
    "            msg = \"Error processing file: \" + full_input_filename\n",
    "            log(msg)\n",
    "            log(e)\n",
    "            errors.append(msg)\n"
   ]
  },
  {
   "cell_type": "code",
   "execution_count": 49,
   "id": "b26100fa9d445409",
   "metadata": {
    "ExecuteTime": {
     "end_time": "2025-02-27T08:51:37.448605200Z",
     "start_time": "2025-02-16T07:36:28.206183Z"
    }
   },
   "outputs": [
    {
     "data": {
      "text/plain": [
       "[]"
      ]
     },
     "execution_count": 49,
     "metadata": {},
     "output_type": "execute_result"
    }
   ],
   "source": [
    "errors"
   ]
  },
  {
   "cell_type": "code",
   "execution_count": 50,
   "id": "5b5561ec7207ccd0",
   "metadata": {
    "ExecuteTime": {
     "end_time": "2025-02-27T08:51:37.450603400Z",
     "start_time": "2025-02-16T07:36:28.251064Z"
    }
   },
   "outputs": [
    {
     "data": {
      "text/plain": [
       "[]"
      ]
     },
     "execution_count": 50,
     "metadata": {},
     "output_type": "execute_result"
    }
   ],
   "source": [
    "processed"
   ]
  },
  {
   "cell_type": "markdown",
   "id": "fd7176771a519eb7",
   "metadata": {},
   "source": [
    "## Run YASA pipeline on FIF files"
   ]
  },
  {
   "cell_type": "code",
   "execution_count": 51,
   "id": "92b7b91355d9b1f7",
   "metadata": {
    "ExecuteTime": {
     "end_time": "2025-02-27T08:51:37.452038600Z",
     "start_time": "2025-02-16T07:36:28.288498Z"
    }
   },
   "outputs": [],
   "source": [
    "import pandas as pd\n",
    "import run_feature_pipeline\n",
    "import os\n",
    "from concurrent.futures import ThreadPoolExecutor, as_completed\n",
    "\n",
    "errors = []\n",
    "dataframes = []\n",
    "\n",
    "# Could get these working later\n",
    "skip_list = ['2024-07-23-22-40-25', '2024-07-28-22-29-49', '2024-09-18-21-25-08', '2024-09-18-21-28-11', '2024-09-19-21-29-42']\n",
    "import io\n",
    "import sys\n",
    "import contextlib\n",
    "import traceback\n",
    "from importlib import reload\n",
    "\n",
    "reload(run_feature_pipeline)\n",
    "\n",
    "def process_file(root, dir_name, force=False):\n",
    "    output_buffer = io.StringIO()\n",
    "    with contextlib.redirect_stdout(output_buffer), contextlib.redirect_stderr(output_buffer):\n",
    "\n",
    "        try:\n",
    "            input_file = os.path.join(root, dir_name, \"raw.fif\")\n",
    "            if dir_name in skip_list:\n",
    "                log(f\"Skipping {dir_name}: {input_file}\")\n",
    "                return None, False, output_buffer.getvalue(), \"Skipped\"\n",
    "\n",
    "            log(f\"Processing file: {input_file}\")\n",
    "            if os.path.exists(input_file):\n",
    "                yasa_df, cached = run_feature_pipeline.cached_pipeline(log, input_file, force or global_force)\n",
    "                return yasa_df, cached, output_buffer.getvalue(), True\n",
    "            else:\n",
    "                log(f\"File not found: {input_file}\")\n",
    "                return None, False, output_buffer.getvalue(), \"File not found\"\n",
    "\n",
    "        except Exception as e:\n",
    "            msg = f\"Error processing file: {input_file} - {e}\"\n",
    "            log(msg)\n",
    "            errors.append(msg)\n",
    "            return None, False, output_buffer.getvalue(), \"Error: \" + str(e)\n",
    "\n",
    "# Testing\n",
    "# yasa_df, cached, stdout, success_or_msg = process_file(\"C:\\\\dev\\\\play\\\\brainwave-data\", \"2024-07-16-23-14-52\", False)\n",
    "# stdout, success_or_msg"
   ]
  },
  {
   "cell_type": "code",
   "execution_count": 52,
   "id": "3742c3bb21229387",
   "metadata": {
    "ExecuteTime": {
     "end_time": "2025-02-27T08:51:37.454398800Z",
     "start_time": "2025-02-16T07:36:28.333300Z"
    }
   },
   "outputs": [
    {
     "data": {
      "application/vnd.jupyter.widget-view+json": {
       "model_id": "23d5852ffa944c24be83afca2c191f9b",
       "version_major": 2,
       "version_minor": 0
      },
      "text/plain": [
       "YASA pipeline:   0%|          | 0/162 [00:00<?, ?it/s]"
      ]
     },
     "metadata": {},
     "output_type": "display_data"
    },
    {
     "data": {
      "text/html": [
       "<div>\n",
       "<style scoped>\n",
       "    .dataframe tbody tr th:only-of-type {\n",
       "        vertical-align: middle;\n",
       "    }\n",
       "\n",
       "    .dataframe tbody tr th {\n",
       "        vertical-align: top;\n",
       "    }\n",
       "\n",
       "    .dataframe thead th {\n",
       "        text-align: right;\n",
       "    }\n",
       "</style>\n",
       "<table border=\"1\" class=\"dataframe\">\n",
       "  <thead>\n",
       "    <tr style=\"text-align: right;\">\n",
       "      <th></th>\n",
       "      <th>dir_name</th>\n",
       "      <th>cached</th>\n",
       "      <th>stdout</th>\n",
       "      <th>success_or_msg</th>\n",
       "    </tr>\n",
       "  </thead>\n",
       "  <tbody>\n",
       "    <tr>\n",
       "      <th>0</th>\n",
       "      <td>08-07-2024--22-51-16</td>\n",
       "      <td>False</td>\n",
       "      <td>2025-03-10 08:15:40.084610 Processing file: C:...</td>\n",
       "      <td>File not found</td>\n",
       "    </tr>\n",
       "    <tr>\n",
       "      <th>1</th>\n",
       "      <td>09-07-2024--22-52-25</td>\n",
       "      <td>False</td>\n",
       "      <td>2025-03-10 08:15:40.088277 Processing file: C:...</td>\n",
       "      <td>File not found</td>\n",
       "    </tr>\n",
       "    <tr>\n",
       "      <th>2</th>\n",
       "      <td>2024-07-08-22-51-16</td>\n",
       "      <td>True</td>\n",
       "      <td>2025-03-10 08:15:40.093140 Processing file: C:...</td>\n",
       "      <td>True</td>\n",
       "    </tr>\n",
       "    <tr>\n",
       "      <th>3</th>\n",
       "      <td>2024-07-11-22-46-18</td>\n",
       "      <td>True</td>\n",
       "      <td>2025-03-10 08:15:40.118223 Processing file: C:...</td>\n",
       "      <td>True</td>\n",
       "    </tr>\n",
       "    <tr>\n",
       "      <th>4</th>\n",
       "      <td>2024-07-12-22-38-58</td>\n",
       "      <td>True</td>\n",
       "      <td>2025-03-10 08:15:40.125235 Processing file: C:...</td>\n",
       "      <td>True</td>\n",
       "    </tr>\n",
       "    <tr>\n",
       "      <th>...</th>\n",
       "      <td>...</td>\n",
       "      <td>...</td>\n",
       "      <td>...</td>\n",
       "      <td>...</td>\n",
       "    </tr>\n",
       "    <tr>\n",
       "      <th>157</th>\n",
       "      <td>2025-03-05-21-59-37</td>\n",
       "      <td>True</td>\n",
       "      <td>2025-03-10 08:15:44.096284 Processing file: C:...</td>\n",
       "      <td>True</td>\n",
       "    </tr>\n",
       "    <tr>\n",
       "      <th>158</th>\n",
       "      <td>2025-03-07-21-50-51</td>\n",
       "      <td>True</td>\n",
       "      <td>2025-03-10 08:15:44.101633 Processing file: C:...</td>\n",
       "      <td>True</td>\n",
       "    </tr>\n",
       "    <tr>\n",
       "      <th>159</th>\n",
       "      <td>2025-03-08-21-45-12</td>\n",
       "      <td>True</td>\n",
       "      <td>2025-03-10 08:15:44.105717 Processing file: C:...</td>\n",
       "      <td>True</td>\n",
       "    </tr>\n",
       "    <tr>\n",
       "      <th>160</th>\n",
       "      <td>compressed_files</td>\n",
       "      <td>False</td>\n",
       "      <td>2025-03-10 08:15:44.110947 Processing file: C:...</td>\n",
       "      <td>File not found</td>\n",
       "    </tr>\n",
       "    <tr>\n",
       "      <th>161</th>\n",
       "      <td>nonnight</td>\n",
       "      <td>False</td>\n",
       "      <td>2025-03-10 08:15:44.111703 Processing file: C:...</td>\n",
       "      <td>File not found</td>\n",
       "    </tr>\n",
       "  </tbody>\n",
       "</table>\n",
       "<p>162 rows × 4 columns</p>\n",
       "</div>"
      ],
      "text/plain": [
       "                 dir_name  cached  \\\n",
       "0    08-07-2024--22-51-16   False   \n",
       "1    09-07-2024--22-52-25   False   \n",
       "2     2024-07-08-22-51-16    True   \n",
       "3     2024-07-11-22-46-18    True   \n",
       "4     2024-07-12-22-38-58    True   \n",
       "..                    ...     ...   \n",
       "157   2025-03-05-21-59-37    True   \n",
       "158   2025-03-07-21-50-51    True   \n",
       "159   2025-03-08-21-45-12    True   \n",
       "160      compressed_files   False   \n",
       "161              nonnight   False   \n",
       "\n",
       "                                                stdout  success_or_msg  \n",
       "0    2025-03-10 08:15:40.084610 Processing file: C:...  File not found  \n",
       "1    2025-03-10 08:15:40.088277 Processing file: C:...  File not found  \n",
       "2    2025-03-10 08:15:40.093140 Processing file: C:...            True  \n",
       "3    2025-03-10 08:15:40.118223 Processing file: C:...            True  \n",
       "4    2025-03-10 08:15:40.125235 Processing file: C:...            True  \n",
       "..                                                 ...             ...  \n",
       "157  2025-03-10 08:15:44.096284 Processing file: C:...            True  \n",
       "158  2025-03-10 08:15:44.101633 Processing file: C:...            True  \n",
       "159  2025-03-10 08:15:44.105717 Processing file: C:...            True  \n",
       "160  2025-03-10 08:15:44.110947 Processing file: C:...  File not found  \n",
       "161  2025-03-10 08:15:44.111703 Processing file: C:...  File not found  \n",
       "\n",
       "[162 rows x 4 columns]"
      ]
     },
     "execution_count": 52,
     "metadata": {},
     "output_type": "execute_result"
    }
   ],
   "source": [
    "results = pd.DataFrame(columns=['dir_name', 'cached', 'stdout', 'success_or_msg'])\n",
    "\n",
    "from tqdm.auto import tqdm\n",
    "\n",
    "dirs = next(os.walk(input_dir))[1]\n",
    "for idx, dir_name in enumerate(tqdm(dirs, desc=\"YASA pipeline\")):\n",
    "    yasa_df, cached, stdout, success_or_msg = process_file(input_dir, dir_name)\n",
    "    results.loc[len(results)] = [dir_name, cached, stdout, success_or_msg]\n",
    "\n",
    "results"
   ]
  },
  {
   "cell_type": "markdown",
   "id": "cddbf368",
   "metadata": {},
   "source": [
    "# Artifacts"
   ]
  },
  {
   "cell_type": "code",
   "execution_count": 54,
   "id": "4fb8edb1",
   "metadata": {},
   "outputs": [
    {
     "name": "stdout",
     "output_type": "stream",
     "text": [
      "Processing file: C:\\dev\\play\\brainwave-data\\2025-02-12-20-34-56\\raw.fif\n"
     ]
    },
    {
     "name": "stdout",
     "output_type": "stream",
     "text": [
      "Reading file C:\\dev\\play\\brainwave-data\\2025-02-12-20-34-56\\raw.fif\n",
      "Finished reading file C:\\dev\\play\\brainwave-data\\2025-02-12-20-34-56\\raw.fif\n"
     ]
    },
    {
     "data": {
      "text/plain": [
       "('', True)"
      ]
     },
     "execution_count": 54,
     "metadata": {},
     "output_type": "execute_result"
    }
   ],
   "source": [
    "import os\n",
    "import io\n",
    "\n",
    "from importlib import reload\n",
    "import notebooks.EEGArtifacts.eeg_artifacts\n",
    "reload(notebooks.EEGArtifacts.eeg_artifacts)\n",
    "\n",
    "\n",
    "# Testing\n",
    "artifacts_df, cached, stdout, success_or_msg = notebooks.EEGArtifacts.eeg_artifacts.process_artifacts(\"C:\\\\dev\\\\play\\\\brainwave-data\", \"2025-02-12-20-34-56\", False)\n",
    "stdout, success_or_msg"
   ]
  },
  {
   "cell_type": "code",
   "execution_count": 57,
   "id": "0eb1a6b1",
   "metadata": {},
   "outputs": [
    {
     "data": {
      "application/vnd.jupyter.widget-view+json": {
       "model_id": "6c94dfa242144cbbaf2cc0afa3201e22",
       "version_major": 2,
       "version_minor": 0
      },
      "text/plain": [
       "Artifacts pipeline:   0%|          | 0/162 [00:00<?, ?it/s]"
      ]
     },
     "metadata": {},
     "output_type": "display_data"
    },
    {
     "name": "stdout",
     "output_type": "stream",
     "text": [
      "Processing file: C:\\dev\\play\\brainwave-data\\08-07-2024--22-51-16\\raw.fif\n",
      "Processing file: C:\\dev\\play\\brainwave-data\\09-07-2024--22-52-25\\raw.fif\n",
      "Processing file: C:\\dev\\play\\brainwave-data\\2024-07-08-22-51-16\\raw.fif\n",
      "Processing file: C:\\dev\\play\\brainwave-data\\2024-07-11-22-46-18\\raw.fif\n",
      "Processing file: C:\\dev\\play\\brainwave-data\\2024-07-12-22-38-58\\raw.fif\n",
      "Processing file: C:\\dev\\play\\brainwave-data\\2024-07-13-21-41-55\\raw.fif\n",
      "Processing file: C:\\dev\\play\\brainwave-data\\2024-07-14-22-27-26\\raw.fif\n",
      "Processing file: C:\\dev\\play\\brainwave-data\\2024-07-15-09-10-07\\raw.fif\n",
      "Processing file: C:\\dev\\play\\brainwave-data\\2024-07-15-22-33-27\\raw.fif\n",
      "Processing file: C:\\dev\\play\\brainwave-data\\2024-07-16-23-14-52\\raw.fif\n",
      "Processing file: C:\\dev\\play\\brainwave-data\\2024-07-17-22-48-49\\raw.fif\n",
      "Processing file: C:\\dev\\play\\brainwave-data\\2024-07-21-22-22-16\\raw.fif\n",
      "Processing file: C:\\dev\\play\\brainwave-data\\2024-07-22-22-24-06\\raw.fif\n",
      "Processing file: C:\\dev\\play\\brainwave-data\\2024-07-23-22-40-25\\raw.fif\n",
      "Processing file: C:\\dev\\play\\brainwave-data\\2024-07-24-18-57-03\\raw.fif\n",
      "Processing file: C:\\dev\\play\\brainwave-data\\2024-07-24-22-42-26\\raw.fif\n",
      "Processing file: C:\\dev\\play\\brainwave-data\\2024-07-26-22-36-26\\raw.fif\n",
      "Processing file: C:\\dev\\play\\brainwave-data\\2024-07-27-22-16-21\\raw.fif\n",
      "Reading file C:\\dev\\play\\brainwave-data\\2024-07-27-22-16-21\\raw.fif\n",
      "Finished reading file C:\\dev\\play\\brainwave-data\\2024-07-27-22-16-21\\raw.fif\n",
      "Processing file: C:\\dev\\play\\brainwave-data\\2024-07-28-22-29-49\\raw.fif\n",
      "Reading file C:\\dev\\play\\brainwave-data\\2024-07-28-22-29-49\\raw.fif\n",
      "Finished reading file C:\\dev\\play\\brainwave-data\\2024-07-28-22-29-49\\raw.fif\n",
      "Processing file: C:\\dev\\play\\brainwave-data\\2024-08-03-22-57-15\\raw.fif\n",
      "Reading file C:\\dev\\play\\brainwave-data\\2024-08-03-22-57-15\\raw.fif\n",
      "Finished reading file C:\\dev\\play\\brainwave-data\\2024-08-03-22-57-15\\raw.fif\n",
      "Processing file: C:\\dev\\play\\brainwave-data\\2024-08-18-21-33-07\\raw.fif\n",
      "Reading file C:\\dev\\play\\brainwave-data\\2024-08-18-21-33-07\\raw.fif\n",
      "Finished reading file C:\\dev\\play\\brainwave-data\\2024-08-18-21-33-07\\raw.fif\n",
      "Processing file: C:\\dev\\play\\brainwave-data\\2024-08-19-21-43-56\\raw.fif\n",
      "Reading file C:\\dev\\play\\brainwave-data\\2024-08-19-21-43-56\\raw.fif\n",
      "Finished reading file C:\\dev\\play\\brainwave-data\\2024-08-19-21-43-56\\raw.fif\n",
      "Processing file: C:\\dev\\play\\brainwave-data\\2024-08-20-21-17-32\\raw.fif\n",
      "Reading file C:\\dev\\play\\brainwave-data\\2024-08-20-21-17-32\\raw.fif\n",
      "Finished reading file C:\\dev\\play\\brainwave-data\\2024-08-20-21-17-32\\raw.fif\n",
      "Processing file: C:\\dev\\play\\brainwave-data\\2024-08-21-21-40-16\\raw.fif\n",
      "Reading file C:\\dev\\play\\brainwave-data\\2024-08-21-21-40-16\\raw.fif\n",
      "Finished reading file C:\\dev\\play\\brainwave-data\\2024-08-21-21-40-16\\raw.fif\n",
      "Processing file: C:\\dev\\play\\brainwave-data\\2024-08-22-21-26-19\\raw.fif\n",
      "Reading file C:\\dev\\play\\brainwave-data\\2024-08-22-21-26-19\\raw.fif\n",
      "Finished reading file C:\\dev\\play\\brainwave-data\\2024-08-22-21-26-19\\raw.fif\n",
      "Processing file: C:\\dev\\play\\brainwave-data\\2024-08-23-21-29-46\\raw.fif\n",
      "Reading file C:\\dev\\play\\brainwave-data\\2024-08-23-21-29-46\\raw.fif\n",
      "Finished reading file C:\\dev\\play\\brainwave-data\\2024-08-23-21-29-46\\raw.fif\n",
      "Processing file: C:\\dev\\play\\brainwave-data\\2024-08-24-21-11-51\\raw.fif\n",
      "Reading file C:\\dev\\play\\brainwave-data\\2024-08-24-21-11-51\\raw.fif\n",
      "Finished reading file C:\\dev\\play\\brainwave-data\\2024-08-24-21-11-51\\raw.fif\n",
      "Processing file: C:\\dev\\play\\brainwave-data\\2024-08-25-21-25-33\\raw.fif\n",
      "Reading file C:\\dev\\play\\brainwave-data\\2024-08-25-21-25-33\\raw.fif\n",
      "Finished reading file C:\\dev\\play\\brainwave-data\\2024-08-25-21-25-33\\raw.fif\n",
      "Processing file: C:\\dev\\play\\brainwave-data\\2024-08-26-20-56-10\\raw.fif\n",
      "Reading file C:\\dev\\play\\brainwave-data\\2024-08-26-20-56-10\\raw.fif\n",
      "Finished reading file C:\\dev\\play\\brainwave-data\\2024-08-26-20-56-10\\raw.fif\n",
      "Processing file: C:\\dev\\play\\brainwave-data\\2024-09-01-21-11-15\\raw.fif\n",
      "Reading file C:\\dev\\play\\brainwave-data\\2024-09-01-21-11-15\\raw.fif\n",
      "Finished reading file C:\\dev\\play\\brainwave-data\\2024-09-01-21-11-15\\raw.fif\n",
      "Processing file: C:\\dev\\play\\brainwave-data\\2024-09-02-21-42-00\\raw.fif\n",
      "Reading file C:\\dev\\play\\brainwave-data\\2024-09-02-21-42-00\\raw.fif\n",
      "Finished reading file C:\\dev\\play\\brainwave-data\\2024-09-02-21-42-00\\raw.fif\n",
      "Processing file: C:\\dev\\play\\brainwave-data\\2024-09-03-21-10-58\\raw.fif\n",
      "Reading file C:\\dev\\play\\brainwave-data\\2024-09-03-21-10-58\\raw.fif\n",
      "Finished reading file C:\\dev\\play\\brainwave-data\\2024-09-03-21-10-58\\raw.fif\n",
      "Processing file: C:\\dev\\play\\brainwave-data\\2024-09-04-21-44-08\\raw.fif\n",
      "Reading file C:\\dev\\play\\brainwave-data\\2024-09-04-21-44-08\\raw.fif\n",
      "Finished reading file C:\\dev\\play\\brainwave-data\\2024-09-04-21-44-08\\raw.fif\n",
      "Processing file: C:\\dev\\play\\brainwave-data\\2024-09-05-21-32-05\\raw.fif\n",
      "Reading file C:\\dev\\play\\brainwave-data\\2024-09-05-21-32-05\\raw.fif\n",
      "Finished reading file C:\\dev\\play\\brainwave-data\\2024-09-05-21-32-05\\raw.fif\n",
      "Processing file: C:\\dev\\play\\brainwave-data\\2024-09-08-21-01-39\\raw.fif\n",
      "Reading file C:\\dev\\play\\brainwave-data\\2024-09-08-21-01-39\\raw.fif\n",
      "Finished reading file C:\\dev\\play\\brainwave-data\\2024-09-08-21-01-39\\raw.fif\n",
      "Processing file: C:\\dev\\play\\brainwave-data\\2024-09-10-21-22-21\\raw.fif\n",
      "Processing file: C:\\dev\\play\\brainwave-data\\2024-09-11-21-19-21\\raw.fif\n",
      "Reading file C:\\dev\\play\\brainwave-data\\2024-09-11-21-19-21\\raw.fif\n",
      "Finished reading file C:\\dev\\play\\brainwave-data\\2024-09-11-21-19-21\\raw.fif\n",
      "Processing file: C:\\dev\\play\\brainwave-data\\2024-09-13-21-24-32\\raw.fif\n",
      "Reading file C:\\dev\\play\\brainwave-data\\2024-09-13-21-24-32\\raw.fif\n",
      "Finished reading file C:\\dev\\play\\brainwave-data\\2024-09-13-21-24-32\\raw.fif\n",
      "Processing file: C:\\dev\\play\\brainwave-data\\2024-09-15-21-14-05\\raw.fif\n",
      "Reading file C:\\dev\\play\\brainwave-data\\2024-09-15-21-14-05\\raw.fif\n",
      "Finished reading file C:\\dev\\play\\brainwave-data\\2024-09-15-21-14-05\\raw.fif\n",
      "Processing file: C:\\dev\\play\\brainwave-data\\2024-09-16-21-04-27\\raw.fif\n",
      "Reading file C:\\dev\\play\\brainwave-data\\2024-09-16-21-04-27\\raw.fif\n",
      "Finished reading file C:\\dev\\play\\brainwave-data\\2024-09-16-21-04-27\\raw.fif\n",
      "Processing file: C:\\dev\\play\\brainwave-data\\2024-09-17-21-33-14\\raw.fif\n",
      "Reading file C:\\dev\\play\\brainwave-data\\2024-09-17-21-33-14\\raw.fif\n",
      "Finished reading file C:\\dev\\play\\brainwave-data\\2024-09-17-21-33-14\\raw.fif\n",
      "Processing file: C:\\dev\\play\\brainwave-data\\2024-09-18-21-28-11\\raw.fif\n",
      "Reading file C:\\dev\\play\\brainwave-data\\2024-09-18-21-28-11\\raw.fif\n",
      "Finished reading file C:\\dev\\play\\brainwave-data\\2024-09-18-21-28-11\\raw.fif\n",
      "Processing file: C:\\dev\\play\\brainwave-data\\2024-09-19-21-29-42\\raw.fif\n",
      "Reading file C:\\dev\\play\\brainwave-data\\2024-09-19-21-29-42\\raw.fif\n",
      "Finished reading file C:\\dev\\play\\brainwave-data\\2024-09-19-21-29-42\\raw.fif\n",
      "Processing file: C:\\dev\\play\\brainwave-data\\2024-09-20-21-19-28\\raw.fif\n",
      "Reading file C:\\dev\\play\\brainwave-data\\2024-09-20-21-19-28\\raw.fif\n",
      "Finished reading file C:\\dev\\play\\brainwave-data\\2024-09-20-21-19-28\\raw.fif\n",
      "Processing file: C:\\dev\\play\\brainwave-data\\2024-09-22-21-30-59\\raw.fif\n",
      "Reading file C:\\dev\\play\\brainwave-data\\2024-09-22-21-30-59\\raw.fif\n",
      "Finished reading file C:\\dev\\play\\brainwave-data\\2024-09-22-21-30-59\\raw.fif\n",
      "Processing file: C:\\dev\\play\\brainwave-data\\2024-09-24-22-43-11\\raw.fif\n",
      "Reading file C:\\dev\\play\\brainwave-data\\2024-09-24-22-43-11\\raw.fif\n",
      "Finished reading file C:\\dev\\play\\brainwave-data\\2024-09-24-22-43-11\\raw.fif\n",
      "Processing file: C:\\dev\\play\\brainwave-data\\2024-09-24-22-43-12\\raw.fif\n",
      "Reading file C:\\dev\\play\\brainwave-data\\2024-09-24-22-43-12\\raw.fif\n",
      "Finished reading file C:\\dev\\play\\brainwave-data\\2024-09-24-22-43-12\\raw.fif\n",
      "Processing file: C:\\dev\\play\\brainwave-data\\2024-09-25-21-57-01\\raw.fif\n",
      "Reading file C:\\dev\\play\\brainwave-data\\2024-09-25-21-57-01\\raw.fif\n",
      "Finished reading file C:\\dev\\play\\brainwave-data\\2024-09-25-21-57-01\\raw.fif\n",
      "Processing file: C:\\dev\\play\\brainwave-data\\2024-09-26-21-24-52\\raw.fif\n",
      "Reading file C:\\dev\\play\\brainwave-data\\2024-09-26-21-24-52\\raw.fif\n",
      "Finished reading file C:\\dev\\play\\brainwave-data\\2024-09-26-21-24-52\\raw.fif\n",
      "Processing file: C:\\dev\\play\\brainwave-data\\2024-09-28-21-33-28\\raw.fif\n",
      "Reading file C:\\dev\\play\\brainwave-data\\2024-09-28-21-33-28\\raw.fif\n",
      "Finished reading file C:\\dev\\play\\brainwave-data\\2024-09-28-21-33-28\\raw.fif\n",
      "Processing file: C:\\dev\\play\\brainwave-data\\2024-09-30-21-27-49\\raw.fif\n",
      "Reading file C:\\dev\\play\\brainwave-data\\2024-09-30-21-27-49\\raw.fif\n",
      "Finished reading file C:\\dev\\play\\brainwave-data\\2024-09-30-21-27-49\\raw.fif\n",
      "Processing file: C:\\dev\\play\\brainwave-data\\2024-10-01-21-36-11\\raw.fif\n",
      "Reading file C:\\dev\\play\\brainwave-data\\2024-10-01-21-36-11\\raw.fif\n",
      "Finished reading file C:\\dev\\play\\brainwave-data\\2024-10-01-21-36-11\\raw.fif\n",
      "Processing file: C:\\dev\\play\\brainwave-data\\2024-10-02-21-20-34\\raw.fif\n",
      "Reading file C:\\dev\\play\\brainwave-data\\2024-10-02-21-20-34\\raw.fif\n",
      "Finished reading file C:\\dev\\play\\brainwave-data\\2024-10-02-21-20-34\\raw.fif\n",
      "Processing file: C:\\dev\\play\\brainwave-data\\2024-10-02-21-21-15\\raw.fif\n",
      "Reading file C:\\dev\\play\\brainwave-data\\2024-10-02-21-21-15\\raw.fif\n",
      "Finished reading file C:\\dev\\play\\brainwave-data\\2024-10-02-21-21-15\\raw.fif\n",
      "Processing file: C:\\dev\\play\\brainwave-data\\2024-10-04-21-13-39\\raw.fif\n",
      "Reading file C:\\dev\\play\\brainwave-data\\2024-10-04-21-13-39\\raw.fif\n",
      "Finished reading file C:\\dev\\play\\brainwave-data\\2024-10-04-21-13-39\\raw.fif\n",
      "Processing file: C:\\dev\\play\\brainwave-data\\2024-10-05-21-09-46\\raw.fif\n",
      "Reading file C:\\dev\\play\\brainwave-data\\2024-10-05-21-09-46\\raw.fif\n",
      "Finished reading file C:\\dev\\play\\brainwave-data\\2024-10-05-21-09-46\\raw.fif\n",
      "Processing file: C:\\dev\\play\\brainwave-data\\2024-10-06-21-29-18\\raw.fif\n",
      "Reading file C:\\dev\\play\\brainwave-data\\2024-10-06-21-29-18\\raw.fif\n",
      "Finished reading file C:\\dev\\play\\brainwave-data\\2024-10-06-21-29-18\\raw.fif\n",
      "Processing file: C:\\dev\\play\\brainwave-data\\2024-10-07-21-35-17\\raw.fif\n",
      "Reading file C:\\dev\\play\\brainwave-data\\2024-10-07-21-35-17\\raw.fif\n",
      "Finished reading file C:\\dev\\play\\brainwave-data\\2024-10-07-21-35-17\\raw.fif\n",
      "Processing file: C:\\dev\\play\\brainwave-data\\2024-10-08-21-21-34\\raw.fif\n",
      "Reading file C:\\dev\\play\\brainwave-data\\2024-10-08-21-21-34\\raw.fif\n",
      "Finished reading file C:\\dev\\play\\brainwave-data\\2024-10-08-21-21-34\\raw.fif\n",
      "Processing file: C:\\dev\\play\\brainwave-data\\2024-10-09-21-22-04\\raw.fif\n",
      "Reading file C:\\dev\\play\\brainwave-data\\2024-10-09-21-22-04\\raw.fif\n",
      "Finished reading file C:\\dev\\play\\brainwave-data\\2024-10-09-21-22-04\\raw.fif\n",
      "Processing file: C:\\dev\\play\\brainwave-data\\2024-10-11-21-16-27\\raw.fif\n",
      "Reading file C:\\dev\\play\\brainwave-data\\2024-10-11-21-16-27\\raw.fif\n",
      "Finished reading file C:\\dev\\play\\brainwave-data\\2024-10-11-21-16-27\\raw.fif\n",
      "Processing file: C:\\dev\\play\\brainwave-data\\2024-10-15-22-01-52\\raw.fif\n",
      "Reading file C:\\dev\\play\\brainwave-data\\2024-10-15-22-01-52\\raw.fif\n",
      "Finished reading file C:\\dev\\play\\brainwave-data\\2024-10-15-22-01-52\\raw.fif\n",
      "Processing file: C:\\dev\\play\\brainwave-data\\2024-10-20-20-09-48\\raw.fif\n",
      "Reading file C:\\dev\\play\\brainwave-data\\2024-10-20-20-09-48\\raw.fif\n",
      "Finished reading file C:\\dev\\play\\brainwave-data\\2024-10-20-20-09-48\\raw.fif\n",
      "Processing file: C:\\dev\\play\\brainwave-data\\2024-10-21-21-30-18\\raw.fif\n",
      "Reading file C:\\dev\\play\\brainwave-data\\2024-10-21-21-30-18\\raw.fif\n",
      "Finished reading file C:\\dev\\play\\brainwave-data\\2024-10-21-21-30-18\\raw.fif\n",
      "Processing file: C:\\dev\\play\\brainwave-data\\2024-10-23-21-24-02\\raw.fif\n",
      "Reading file C:\\dev\\play\\brainwave-data\\2024-10-23-21-24-02\\raw.fif\n",
      "Finished reading file C:\\dev\\play\\brainwave-data\\2024-10-23-21-24-02\\raw.fif\n",
      "Processing file: C:\\dev\\play\\brainwave-data\\2024-10-24-21-35-33\\raw.fif\n",
      "Reading file C:\\dev\\play\\brainwave-data\\2024-10-24-21-35-33\\raw.fif\n",
      "Finished reading file C:\\dev\\play\\brainwave-data\\2024-10-24-21-35-33\\raw.fif\n",
      "Processing file: C:\\dev\\play\\brainwave-data\\2024-10-29-20-42-12\\raw.fif\n",
      "Reading file C:\\dev\\play\\brainwave-data\\2024-10-29-20-42-12\\raw.fif\n",
      "Finished reading file C:\\dev\\play\\brainwave-data\\2024-10-29-20-42-12\\raw.fif\n",
      "Processing file: C:\\dev\\play\\brainwave-data\\2024-10-30-21-26-55\\raw.fif\n",
      "Reading file C:\\dev\\play\\brainwave-data\\2024-10-30-21-26-55\\raw.fif\n",
      "Finished reading file C:\\dev\\play\\brainwave-data\\2024-10-30-21-26-55\\raw.fif\n",
      "Processing file: C:\\dev\\play\\brainwave-data\\2024-11-01-21-32-22\\raw.fif\n",
      "Reading file C:\\dev\\play\\brainwave-data\\2024-11-01-21-32-22\\raw.fif\n",
      "Finished reading file C:\\dev\\play\\brainwave-data\\2024-11-01-21-32-22\\raw.fif\n",
      "Processing file: C:\\dev\\play\\brainwave-data\\2024-11-02-21-29-03\\raw.fif\n",
      "Reading file C:\\dev\\play\\brainwave-data\\2024-11-02-21-29-03\\raw.fif\n",
      "Finished reading file C:\\dev\\play\\brainwave-data\\2024-11-02-21-29-03\\raw.fif\n",
      "Processing file: C:\\dev\\play\\brainwave-data\\2024-11-03-21-20-37\\raw.fif\n",
      "Reading file C:\\dev\\play\\brainwave-data\\2024-11-03-21-20-37\\raw.fif\n",
      "Finished reading file C:\\dev\\play\\brainwave-data\\2024-11-03-21-20-37\\raw.fif\n",
      "Processing file: C:\\dev\\play\\brainwave-data\\2024-11-04-21-20-51\\raw.fif\n",
      "Reading file C:\\dev\\play\\brainwave-data\\2024-11-04-21-20-51\\raw.fif\n",
      "Finished reading file C:\\dev\\play\\brainwave-data\\2024-11-04-21-20-51\\raw.fif\n",
      "Processing file: C:\\dev\\play\\brainwave-data\\2024-11-05-21-34-15\\raw.fif\n",
      "Reading file C:\\dev\\play\\brainwave-data\\2024-11-05-21-34-15\\raw.fif\n",
      "Finished reading file C:\\dev\\play\\brainwave-data\\2024-11-05-21-34-15\\raw.fif\n",
      "Processing file: C:\\dev\\play\\brainwave-data\\2024-11-07-21-26-18\\raw.fif\n",
      "Reading file C:\\dev\\play\\brainwave-data\\2024-11-07-21-26-18\\raw.fif\n",
      "Finished reading file C:\\dev\\play\\brainwave-data\\2024-11-07-21-26-18\\raw.fif\n",
      "Processing file: C:\\dev\\play\\brainwave-data\\2024-11-08-21-16-53\\raw.fif\n",
      "Reading file C:\\dev\\play\\brainwave-data\\2024-11-08-21-16-53\\raw.fif\n",
      "Finished reading file C:\\dev\\play\\brainwave-data\\2024-11-08-21-16-53\\raw.fif\n",
      "Processing file: C:\\dev\\play\\brainwave-data\\2024-11-09-21-27-51\\raw.fif\n",
      "Reading file C:\\dev\\play\\brainwave-data\\2024-11-09-21-27-51\\raw.fif\n",
      "Finished reading file C:\\dev\\play\\brainwave-data\\2024-11-09-21-27-51\\raw.fif\n",
      "Processing file: C:\\dev\\play\\brainwave-data\\2024-11-12-21-11-43\\raw.fif\n",
      "Reading file C:\\dev\\play\\brainwave-data\\2024-11-12-21-11-43\\raw.fif\n",
      "Finished reading file C:\\dev\\play\\brainwave-data\\2024-11-12-21-11-43\\raw.fif\n",
      "Processing file: C:\\dev\\play\\brainwave-data\\2024-11-16-21-54-46\\raw.fif\n",
      "Reading file C:\\dev\\play\\brainwave-data\\2024-11-16-21-54-46\\raw.fif\n",
      "Finished reading file C:\\dev\\play\\brainwave-data\\2024-11-16-21-54-46\\raw.fif\n",
      "Processing file: C:\\dev\\play\\brainwave-data\\2024-11-19-21-29-04\\raw.fif\n",
      "Reading file C:\\dev\\play\\brainwave-data\\2024-11-19-21-29-04\\raw.fif\n",
      "Finished reading file C:\\dev\\play\\brainwave-data\\2024-11-19-21-29-04\\raw.fif\n",
      "Processing file: C:\\dev\\play\\brainwave-data\\2024-11-20-21-30-29\\raw.fif\n",
      "Reading file C:\\dev\\play\\brainwave-data\\2024-11-20-21-30-29\\raw.fif\n",
      "Finished reading file C:\\dev\\play\\brainwave-data\\2024-11-20-21-30-29\\raw.fif\n",
      "Processing file: C:\\dev\\play\\brainwave-data\\2024-11-21-21-15-26\\raw.fif\n",
      "Reading file C:\\dev\\play\\brainwave-data\\2024-11-21-21-15-26\\raw.fif\n",
      "Finished reading file C:\\dev\\play\\brainwave-data\\2024-11-21-21-15-26\\raw.fif\n",
      "Processing file: C:\\dev\\play\\brainwave-data\\2024-11-22-21-30-12\\raw.fif\n",
      "Reading file C:\\dev\\play\\brainwave-data\\2024-11-22-21-30-12\\raw.fif\n",
      "Finished reading file C:\\dev\\play\\brainwave-data\\2024-11-22-21-30-12\\raw.fif\n",
      "Processing file: C:\\dev\\play\\brainwave-data\\2024-11-23-21-14-58\\raw.fif\n",
      "Reading file C:\\dev\\play\\brainwave-data\\2024-11-23-21-14-58\\raw.fif\n",
      "Finished reading file C:\\dev\\play\\brainwave-data\\2024-11-23-21-14-58\\raw.fif\n",
      "Processing file: C:\\dev\\play\\brainwave-data\\2024-11-24-21-21-31\\raw.fif\n",
      "Reading file C:\\dev\\play\\brainwave-data\\2024-11-24-21-21-31\\raw.fif\n",
      "Finished reading file C:\\dev\\play\\brainwave-data\\2024-11-24-21-21-31\\raw.fif\n",
      "Processing file: C:\\dev\\play\\brainwave-data\\2024-11-24-22-33-06\\raw.fif\n",
      "Reading file C:\\dev\\play\\brainwave-data\\2024-11-24-22-33-06\\raw.fif\n",
      "Finished reading file C:\\dev\\play\\brainwave-data\\2024-11-24-22-33-06\\raw.fif\n",
      "Processing file: C:\\dev\\play\\brainwave-data\\2024-11-24-22-37-54\\raw.fif\n",
      "Reading file C:\\dev\\play\\brainwave-data\\2024-11-24-22-37-54\\raw.fif\n",
      "Finished reading file C:\\dev\\play\\brainwave-data\\2024-11-24-22-37-54\\raw.fif\n",
      "Processing file: C:\\dev\\play\\brainwave-data\\2024-11-25-21-27-21\\raw.fif\n",
      "Reading file C:\\dev\\play\\brainwave-data\\2024-11-25-21-27-21\\raw.fif\n",
      "Finished reading file C:\\dev\\play\\brainwave-data\\2024-11-25-21-27-21\\raw.fif\n",
      "Processing file: C:\\dev\\play\\brainwave-data\\2024-11-26-21-35-46\\raw.fif\n",
      "Reading file C:\\dev\\play\\brainwave-data\\2024-11-26-21-35-46\\raw.fif\n",
      "Finished reading file C:\\dev\\play\\brainwave-data\\2024-11-26-21-35-46\\raw.fif\n",
      "Processing file: C:\\dev\\play\\brainwave-data\\2024-11-27-21-14-24\\raw.fif\n",
      "Reading file C:\\dev\\play\\brainwave-data\\2024-11-27-21-14-24\\raw.fif\n",
      "Finished reading file C:\\dev\\play\\brainwave-data\\2024-11-27-21-14-24\\raw.fif\n",
      "Processing file: C:\\dev\\play\\brainwave-data\\2024-11-27-21-18-50\\raw.fif\n",
      "Reading file C:\\dev\\play\\brainwave-data\\2024-11-27-21-18-50\\raw.fif\n",
      "Finished reading file C:\\dev\\play\\brainwave-data\\2024-11-27-21-18-50\\raw.fif\n",
      "Processing file: C:\\dev\\play\\brainwave-data\\2024-11-28-21-50-57\\raw.fif\n",
      "Reading file C:\\dev\\play\\brainwave-data\\2024-11-28-21-50-57\\raw.fif\n",
      "Finished reading file C:\\dev\\play\\brainwave-data\\2024-11-28-21-50-57\\raw.fif\n",
      "Processing file: C:\\dev\\play\\brainwave-data\\2024-11-29-21-18-33\\raw.fif\n",
      "Reading file C:\\dev\\play\\brainwave-data\\2024-11-29-21-18-33\\raw.fif\n",
      "Finished reading file C:\\dev\\play\\brainwave-data\\2024-11-29-21-18-33\\raw.fif\n",
      "Processing file: C:\\dev\\play\\brainwave-data\\2024-11-30-21-21-05\\raw.fif\n",
      "Reading file C:\\dev\\play\\brainwave-data\\2024-11-30-21-21-05\\raw.fif\n",
      "Finished reading file C:\\dev\\play\\brainwave-data\\2024-11-30-21-21-05\\raw.fif\n",
      "Processing file: C:\\dev\\play\\brainwave-data\\2024-12-01-21-29-13\\raw.fif\n",
      "Reading file C:\\dev\\play\\brainwave-data\\2024-12-01-21-29-13\\raw.fif\n",
      "Finished reading file C:\\dev\\play\\brainwave-data\\2024-12-01-21-29-13\\raw.fif\n",
      "Processing file: C:\\dev\\play\\brainwave-data\\2024-12-03-21-15-08\\raw.fif\n",
      "Reading file C:\\dev\\play\\brainwave-data\\2024-12-03-21-15-08\\raw.fif\n",
      "Finished reading file C:\\dev\\play\\brainwave-data\\2024-12-03-21-15-08\\raw.fif\n",
      "Processing file: C:\\dev\\play\\brainwave-data\\2024-12-04-21-15-17\\raw.fif\n",
      "Reading file C:\\dev\\play\\brainwave-data\\2024-12-04-21-15-17\\raw.fif\n",
      "Finished reading file C:\\dev\\play\\brainwave-data\\2024-12-04-21-15-17\\raw.fif\n",
      "Processing file: C:\\dev\\play\\brainwave-data\\2024-12-05-21-15-24\\raw.fif\n",
      "Reading file C:\\dev\\play\\brainwave-data\\2024-12-05-21-15-24\\raw.fif\n",
      "Finished reading file C:\\dev\\play\\brainwave-data\\2024-12-05-21-15-24\\raw.fif\n",
      "Processing file: C:\\dev\\play\\brainwave-data\\2024-12-06-21-32-04\\raw.fif\n",
      "Reading file C:\\dev\\play\\brainwave-data\\2024-12-06-21-32-04\\raw.fif\n",
      "Finished reading file C:\\dev\\play\\brainwave-data\\2024-12-06-21-32-04\\raw.fif\n",
      "Processing file: C:\\dev\\play\\brainwave-data\\2024-12-07-21-19-09\\raw.fif\n",
      "Reading file C:\\dev\\play\\brainwave-data\\2024-12-07-21-19-09\\raw.fif\n",
      "Finished reading file C:\\dev\\play\\brainwave-data\\2024-12-07-21-19-09\\raw.fif\n",
      "Processing file: C:\\dev\\play\\brainwave-data\\2024-12-08-21-23-50\\raw.fif\n",
      "Reading file C:\\dev\\play\\brainwave-data\\2024-12-08-21-23-50\\raw.fif\n",
      "Finished reading file C:\\dev\\play\\brainwave-data\\2024-12-08-21-23-50\\raw.fif\n",
      "Processing file: C:\\dev\\play\\brainwave-data\\2024-12-09-21-29-08\\raw.fif\n",
      "Reading file C:\\dev\\play\\brainwave-data\\2024-12-09-21-29-08\\raw.fif\n",
      "Finished reading file C:\\dev\\play\\brainwave-data\\2024-12-09-21-29-08\\raw.fif\n",
      "Processing file: C:\\dev\\play\\brainwave-data\\2024-12-10-21-14-13\\raw.fif\n",
      "Reading file C:\\dev\\play\\brainwave-data\\2024-12-10-21-14-13\\raw.fif\n",
      "Finished reading file C:\\dev\\play\\brainwave-data\\2024-12-10-21-14-13\\raw.fif\n",
      "Processing file: C:\\dev\\play\\brainwave-data\\2024-12-11-21-31-37\\raw.fif\n",
      "Reading file C:\\dev\\play\\brainwave-data\\2024-12-11-21-31-37\\raw.fif\n",
      "Finished reading file C:\\dev\\play\\brainwave-data\\2024-12-11-21-31-37\\raw.fif\n",
      "Processing file: C:\\dev\\play\\brainwave-data\\2024-12-12-21-20-17\\raw.fif\n",
      "Reading file C:\\dev\\play\\brainwave-data\\2024-12-12-21-20-17\\raw.fif\n",
      "Finished reading file C:\\dev\\play\\brainwave-data\\2024-12-12-21-20-17\\raw.fif\n",
      "Processing file: C:\\dev\\play\\brainwave-data\\2024-12-13-21-23-37\\raw.fif\n",
      "Reading file C:\\dev\\play\\brainwave-data\\2024-12-13-21-23-37\\raw.fif\n",
      "Finished reading file C:\\dev\\play\\brainwave-data\\2024-12-13-21-23-37\\raw.fif\n",
      "Processing file: C:\\dev\\play\\brainwave-data\\2024-12-14-21-26-54\\raw.fif\n",
      "Reading file C:\\dev\\play\\brainwave-data\\2024-12-14-21-26-54\\raw.fif\n",
      "Finished reading file C:\\dev\\play\\brainwave-data\\2024-12-14-21-26-54\\raw.fif\n",
      "Processing file: C:\\dev\\play\\brainwave-data\\2024-12-16-21-26-57\\raw.fif\n",
      "Reading file C:\\dev\\play\\brainwave-data\\2024-12-16-21-26-57\\raw.fif\n",
      "Finished reading file C:\\dev\\play\\brainwave-data\\2024-12-16-21-26-57\\raw.fif\n",
      "Processing file: C:\\dev\\play\\brainwave-data\\2024-12-17-21-24-11\\raw.fif\n",
      "Reading file C:\\dev\\play\\brainwave-data\\2024-12-17-21-24-11\\raw.fif\n",
      "Finished reading file C:\\dev\\play\\brainwave-data\\2024-12-17-21-24-11\\raw.fif\n",
      "Processing file: C:\\dev\\play\\brainwave-data\\2024-12-18-21-32-18\\raw.fif\n",
      "Reading file C:\\dev\\play\\brainwave-data\\2024-12-18-21-32-18\\raw.fif\n",
      "Finished reading file C:\\dev\\play\\brainwave-data\\2024-12-18-21-32-18\\raw.fif\n",
      "Processing file: C:\\dev\\play\\brainwave-data\\2024-12-19-21-18-48\\raw.fif\n",
      "Reading file C:\\dev\\play\\brainwave-data\\2024-12-19-21-18-48\\raw.fif\n",
      "Finished reading file C:\\dev\\play\\brainwave-data\\2024-12-19-21-18-48\\raw.fif\n",
      "Processing file: C:\\dev\\play\\brainwave-data\\2024-12-20-21-31-19\\raw.fif\n",
      "Reading file C:\\dev\\play\\brainwave-data\\2024-12-20-21-31-19\\raw.fif\n",
      "Finished reading file C:\\dev\\play\\brainwave-data\\2024-12-20-21-31-19\\raw.fif\n",
      "Processing file: C:\\dev\\play\\brainwave-data\\2024-12-21-21-43-12\\raw.fif\n",
      "Reading file C:\\dev\\play\\brainwave-data\\2024-12-21-21-43-12\\raw.fif\n",
      "Finished reading file C:\\dev\\play\\brainwave-data\\2024-12-21-21-43-12\\raw.fif\n",
      "Processing file: C:\\dev\\play\\brainwave-data\\2024-12-27-21-21-34\\raw.fif\n",
      "Reading file C:\\dev\\play\\brainwave-data\\2024-12-27-21-21-34\\raw.fif\n",
      "Finished reading file C:\\dev\\play\\brainwave-data\\2024-12-27-21-21-34\\raw.fif\n",
      "Processing file: C:\\dev\\play\\brainwave-data\\2024-12-28-21-33-53\\raw.fif\n",
      "Reading file C:\\dev\\play\\brainwave-data\\2024-12-28-21-33-53\\raw.fif\n",
      "Finished reading file C:\\dev\\play\\brainwave-data\\2024-12-28-21-33-53\\raw.fif\n",
      "Processing file: C:\\dev\\play\\brainwave-data\\2024-12-29-21-15-24\\raw.fif\n",
      "Reading file C:\\dev\\play\\brainwave-data\\2024-12-29-21-15-24\\raw.fif\n",
      "Finished reading file C:\\dev\\play\\brainwave-data\\2024-12-29-21-15-24\\raw.fif\n",
      "Processing file: C:\\dev\\play\\brainwave-data\\2024-12-30-21-34-52\\raw.fif\n",
      "Reading file C:\\dev\\play\\brainwave-data\\2024-12-30-21-34-52\\raw.fif\n",
      "Finished reading file C:\\dev\\play\\brainwave-data\\2024-12-30-21-34-52\\raw.fif\n",
      "Processing file: C:\\dev\\play\\brainwave-data\\2024-12-31-21-12-28\\raw.fif\n",
      "Reading file C:\\dev\\play\\brainwave-data\\2024-12-31-21-12-28\\raw.fif\n",
      "Finished reading file C:\\dev\\play\\brainwave-data\\2024-12-31-21-12-28\\raw.fif\n",
      "Processing file: C:\\dev\\play\\brainwave-data\\2025-01-01-21-40-36\\raw.fif\n",
      "Processing file: C:\\dev\\play\\brainwave-data\\2025-01-01-21-42-08\\raw.fif\n",
      "Reading file C:\\dev\\play\\brainwave-data\\2025-01-01-21-42-08\\raw.fif\n",
      "Finished reading file C:\\dev\\play\\brainwave-data\\2025-01-01-21-42-08\\raw.fif\n",
      "Processing file: C:\\dev\\play\\brainwave-data\\2025-01-05-21-10-59\\raw.fif\n",
      "Reading file C:\\dev\\play\\brainwave-data\\2025-01-05-21-10-59\\raw.fif\n",
      "Finished reading file C:\\dev\\play\\brainwave-data\\2025-01-05-21-10-59\\raw.fif\n",
      "Processing file: C:\\dev\\play\\brainwave-data\\2025-01-06-21-35-21\\raw.fif\n",
      "Reading file C:\\dev\\play\\brainwave-data\\2025-01-06-21-35-21\\raw.fif\n",
      "Finished reading file C:\\dev\\play\\brainwave-data\\2025-01-06-21-35-21\\raw.fif\n",
      "Processing file: C:\\dev\\play\\brainwave-data\\2025-01-07-21-12-58\\raw.fif\n",
      "Reading file C:\\dev\\play\\brainwave-data\\2025-01-07-21-12-58\\raw.fif\n",
      "Finished reading file C:\\dev\\play\\brainwave-data\\2025-01-07-21-12-58\\raw.fif\n",
      "Processing file: C:\\dev\\play\\brainwave-data\\2025-01-08-21-38-53\\raw.fif\n",
      "Reading file C:\\dev\\play\\brainwave-data\\2025-01-08-21-38-53\\raw.fif\n",
      "Finished reading file C:\\dev\\play\\brainwave-data\\2025-01-08-21-38-53\\raw.fif\n",
      "Processing file: C:\\dev\\play\\brainwave-data\\2025-01-08-21-39-36\\raw.fif\n",
      "Reading file C:\\dev\\play\\brainwave-data\\2025-01-08-21-39-36\\raw.fif\n",
      "Finished reading file C:\\dev\\play\\brainwave-data\\2025-01-08-21-39-36\\raw.fif\n",
      "Processing file: C:\\dev\\play\\brainwave-data\\2025-01-08-21-40-21\\raw.fif\n",
      "Processing file: C:\\dev\\play\\brainwave-data\\2025-01-08-21-41-09\\raw.fif\n",
      "Reading file C:\\dev\\play\\brainwave-data\\2025-01-08-21-41-09\\raw.fif\n",
      "Finished reading file C:\\dev\\play\\brainwave-data\\2025-01-08-21-41-09\\raw.fif\n",
      "Processing file: C:\\dev\\play\\brainwave-data\\2025-01-11-21-19-30\\raw.fif\n",
      "Reading file C:\\dev\\play\\brainwave-data\\2025-01-11-21-19-30\\raw.fif\n",
      "Finished reading file C:\\dev\\play\\brainwave-data\\2025-01-11-21-19-30\\raw.fif\n",
      "Processing file: C:\\dev\\play\\brainwave-data\\2025-01-16-21-34-19\\raw.fif\n",
      "Reading file C:\\dev\\play\\brainwave-data\\2025-01-16-21-34-19\\raw.fif\n",
      "Finished reading file C:\\dev\\play\\brainwave-data\\2025-01-16-21-34-19\\raw.fif\n",
      "Processing file: C:\\dev\\play\\brainwave-data\\2025-01-17-21-32-40\\raw.fif\n",
      "Reading file C:\\dev\\play\\brainwave-data\\2025-01-17-21-32-40\\raw.fif\n",
      "Finished reading file C:\\dev\\play\\brainwave-data\\2025-01-17-21-32-40\\raw.fif\n",
      "Processing file: C:\\dev\\play\\brainwave-data\\2025-01-19-22-07-23\\raw.fif\n",
      "Reading file C:\\dev\\play\\brainwave-data\\2025-01-19-22-07-23\\raw.fif\n",
      "Finished reading file C:\\dev\\play\\brainwave-data\\2025-01-19-22-07-23\\raw.fif\n",
      "Processing file: C:\\dev\\play\\brainwave-data\\2025-01-21-21-39-45\\raw.fif\n",
      "Reading file C:\\dev\\play\\brainwave-data\\2025-01-21-21-39-45\\raw.fif\n",
      "Finished reading file C:\\dev\\play\\brainwave-data\\2025-01-21-21-39-45\\raw.fif\n",
      "Processing file: C:\\dev\\play\\brainwave-data\\2025-01-22-21-42-13\\raw.fif\n",
      "Reading file C:\\dev\\play\\brainwave-data\\2025-01-22-21-42-13\\raw.fif\n",
      "Finished reading file C:\\dev\\play\\brainwave-data\\2025-01-22-21-42-13\\raw.fif\n",
      "Processing file: C:\\dev\\play\\brainwave-data\\2025-01-23-21-33-32\\raw.fif\n",
      "Reading file C:\\dev\\play\\brainwave-data\\2025-01-23-21-33-32\\raw.fif\n",
      "Finished reading file C:\\dev\\play\\brainwave-data\\2025-01-23-21-33-32\\raw.fif\n",
      "Processing file: C:\\dev\\play\\brainwave-data\\2025-01-27-21-31-51\\raw.fif\n",
      "Reading file C:\\dev\\play\\brainwave-data\\2025-01-27-21-31-51\\raw.fif\n",
      "Finished reading file C:\\dev\\play\\brainwave-data\\2025-01-27-21-31-51\\raw.fif\n",
      "Processing file: C:\\dev\\play\\brainwave-data\\2025-01-28-21-50-35\\raw.fif\n",
      "Reading file C:\\dev\\play\\brainwave-data\\2025-01-28-21-50-35\\raw.fif\n",
      "Finished reading file C:\\dev\\play\\brainwave-data\\2025-01-28-21-50-35\\raw.fif\n",
      "Processing file: C:\\dev\\play\\brainwave-data\\2025-01-30-21-49-17\\raw.fif\n",
      "Reading file C:\\dev\\play\\brainwave-data\\2025-01-30-21-49-17\\raw.fif\n",
      "Finished reading file C:\\dev\\play\\brainwave-data\\2025-01-30-21-49-17\\raw.fif\n",
      "Processing file: C:\\dev\\play\\brainwave-data\\2025-01-31-21-45-23\\raw.fif\n",
      "Reading file C:\\dev\\play\\brainwave-data\\2025-01-31-21-45-23\\raw.fif\n",
      "Finished reading file C:\\dev\\play\\brainwave-data\\2025-01-31-21-45-23\\raw.fif\n",
      "Processing file: C:\\dev\\play\\brainwave-data\\2025-02-02-21-31-45\\raw.fif\n",
      "Reading file C:\\dev\\play\\brainwave-data\\2025-02-02-21-31-45\\raw.fif\n",
      "Finished reading file C:\\dev\\play\\brainwave-data\\2025-02-02-21-31-45\\raw.fif\n",
      "Processing file: C:\\dev\\play\\brainwave-data\\2025-02-03-21-09-39\\raw.fif\n",
      "Reading file C:\\dev\\play\\brainwave-data\\2025-02-03-21-09-39\\raw.fif\n",
      "Finished reading file C:\\dev\\play\\brainwave-data\\2025-02-03-21-09-39\\raw.fif\n",
      "Processing file: C:\\dev\\play\\brainwave-data\\2025-02-04-21-21-26\\raw.fif\n",
      "Reading file C:\\dev\\play\\brainwave-data\\2025-02-04-21-21-26\\raw.fif\n",
      "Finished reading file C:\\dev\\play\\brainwave-data\\2025-02-04-21-21-26\\raw.fif\n",
      "Processing file: C:\\dev\\play\\brainwave-data\\2025-02-05-21-15-57\\raw.fif\n",
      "Reading file C:\\dev\\play\\brainwave-data\\2025-02-05-21-15-57\\raw.fif\n",
      "Finished reading file C:\\dev\\play\\brainwave-data\\2025-02-05-21-15-57\\raw.fif\n",
      "Processing file: C:\\dev\\play\\brainwave-data\\2025-02-09-21-19-01\\raw.fif\n",
      "Reading file C:\\dev\\play\\brainwave-data\\2025-02-09-21-19-01\\raw.fif\n",
      "Finished reading file C:\\dev\\play\\brainwave-data\\2025-02-09-21-19-01\\raw.fif\n",
      "Processing file: C:\\dev\\play\\brainwave-data\\2025-02-10-21-45-36\\raw.fif\n",
      "Reading file C:\\dev\\play\\brainwave-data\\2025-02-10-21-45-36\\raw.fif\n",
      "Finished reading file C:\\dev\\play\\brainwave-data\\2025-02-10-21-45-36\\raw.fif\n",
      "Processing file: C:\\dev\\play\\brainwave-data\\2025-02-11-21-47-04\\raw.fif\n",
      "Reading file C:\\dev\\play\\brainwave-data\\2025-02-11-21-47-04\\raw.fif\n",
      "Finished reading file C:\\dev\\play\\brainwave-data\\2025-02-11-21-47-04\\raw.fif\n",
      "Processing file: C:\\dev\\play\\brainwave-data\\2025-02-12-20-34-56\\raw.fif\n",
      "Processing file: C:\\dev\\play\\brainwave-data\\2025-02-13-20-52-43\\raw.fif\n",
      "Reading file C:\\dev\\play\\brainwave-data\\2025-02-13-20-52-43\\raw.fif\n",
      "Finished reading file C:\\dev\\play\\brainwave-data\\2025-02-13-20-52-43\\raw.fif\n",
      "Processing file: C:\\dev\\play\\brainwave-data\\2025-02-15-21-37-56\\raw.fif\n",
      "Reading file C:\\dev\\play\\brainwave-data\\2025-02-15-21-37-56\\raw.fif\n",
      "Finished reading file C:\\dev\\play\\brainwave-data\\2025-02-15-21-37-56\\raw.fif\n",
      "Processing file: C:\\dev\\play\\brainwave-data\\2025-02-16-21-26-48\\raw.fif\n",
      "Reading file C:\\dev\\play\\brainwave-data\\2025-02-16-21-26-48\\raw.fif\n",
      "Finished reading file C:\\dev\\play\\brainwave-data\\2025-02-16-21-26-48\\raw.fif\n",
      "Processing file: C:\\dev\\play\\brainwave-data\\2025-02-17-21-43-00\\raw.fif\n",
      "Reading file C:\\dev\\play\\brainwave-data\\2025-02-17-21-43-00\\raw.fif\n",
      "Finished reading file C:\\dev\\play\\brainwave-data\\2025-02-17-21-43-00\\raw.fif\n",
      "Processing file: C:\\dev\\play\\brainwave-data\\2025-02-18-21-50-50\\raw.fif\n",
      "Reading file C:\\dev\\play\\brainwave-data\\2025-02-18-21-50-50\\raw.fif\n",
      "Finished reading file C:\\dev\\play\\brainwave-data\\2025-02-18-21-50-50\\raw.fif\n",
      "Processing file: C:\\dev\\play\\brainwave-data\\2025-02-19-21-29-50\\raw.fif\n",
      "Reading file C:\\dev\\play\\brainwave-data\\2025-02-19-21-29-50\\raw.fif\n",
      "Finished reading file C:\\dev\\play\\brainwave-data\\2025-02-19-21-29-50\\raw.fif\n",
      "Processing file: C:\\dev\\play\\brainwave-data\\2025-02-20-21-31-45\\raw.fif\n",
      "Reading file C:\\dev\\play\\brainwave-data\\2025-02-20-21-31-45\\raw.fif\n",
      "Finished reading file C:\\dev\\play\\brainwave-data\\2025-02-20-21-31-45\\raw.fif\n",
      "Processing file: C:\\dev\\play\\brainwave-data\\2025-02-23-21-28-38\\raw.fif\n",
      "Reading file C:\\dev\\play\\brainwave-data\\2025-02-23-21-28-38\\raw.fif\n",
      "Finished reading file C:\\dev\\play\\brainwave-data\\2025-02-23-21-28-38\\raw.fif\n",
      "Processing file: C:\\dev\\play\\brainwave-data\\2025-02-24-22-00-38\\raw.fif\n",
      "Reading file C:\\dev\\play\\brainwave-data\\2025-02-24-22-00-38\\raw.fif\n",
      "Finished reading file C:\\dev\\play\\brainwave-data\\2025-02-24-22-00-38\\raw.fif\n",
      "Processing file: C:\\dev\\play\\brainwave-data\\2025-02-26-21-21-01\\raw.fif\n",
      "Reading file C:\\dev\\play\\brainwave-data\\2025-02-26-21-21-01\\raw.fif\n",
      "Finished reading file C:\\dev\\play\\brainwave-data\\2025-02-26-21-21-01\\raw.fif\n",
      "Processing file: C:\\dev\\play\\brainwave-data\\2025-02-27-21-22-47\\raw.fif\n",
      "Reading file C:\\dev\\play\\brainwave-data\\2025-02-27-21-22-47\\raw.fif\n",
      "Finished reading file C:\\dev\\play\\brainwave-data\\2025-02-27-21-22-47\\raw.fif\n",
      "Processing file: C:\\dev\\play\\brainwave-data\\2025-03-01-21-46-54\\raw.fif\n",
      "Reading file C:\\dev\\play\\brainwave-data\\2025-03-01-21-46-54\\raw.fif\n",
      "Finished reading file C:\\dev\\play\\brainwave-data\\2025-03-01-21-46-54\\raw.fif\n",
      "Processing file: C:\\dev\\play\\brainwave-data\\2025-03-05-21-59-37\\raw.fif\n",
      "Reading file C:\\dev\\play\\brainwave-data\\2025-03-05-21-59-37\\raw.fif\n",
      "Finished reading file C:\\dev\\play\\brainwave-data\\2025-03-05-21-59-37\\raw.fif\n",
      "Processing file: C:\\dev\\play\\brainwave-data\\2025-03-07-21-50-51\\raw.fif\n",
      "Processing file: C:\\dev\\play\\brainwave-data\\2025-03-08-21-45-12\\raw.fif\n",
      "Reading file C:\\dev\\play\\brainwave-data\\2025-03-08-21-45-12\\raw.fif\n",
      "Finished reading file C:\\dev\\play\\brainwave-data\\2025-03-08-21-45-12\\raw.fif\n",
      "Processing file: C:\\dev\\play\\brainwave-data\\compressed_files\\raw.fif\n",
      "Processing file: C:\\dev\\play\\brainwave-data\\nonnight\\raw.fif\n"
     ]
    },
    {
     "data": {
      "text/html": [
       "<div>\n",
       "<style scoped>\n",
       "    .dataframe tbody tr th:only-of-type {\n",
       "        vertical-align: middle;\n",
       "    }\n",
       "\n",
       "    .dataframe tbody tr th {\n",
       "        vertical-align: top;\n",
       "    }\n",
       "\n",
       "    .dataframe thead th {\n",
       "        text-align: right;\n",
       "    }\n",
       "</style>\n",
       "<table border=\"1\" class=\"dataframe\">\n",
       "  <thead>\n",
       "    <tr style=\"text-align: right;\">\n",
       "      <th></th>\n",
       "      <th>dir_name</th>\n",
       "      <th>cached</th>\n",
       "      <th>stdout</th>\n",
       "      <th>success_or_msg</th>\n",
       "    </tr>\n",
       "  </thead>\n",
       "  <tbody>\n",
       "    <tr>\n",
       "      <th>0</th>\n",
       "      <td>08-07-2024--22-51-16</td>\n",
       "      <td>False</td>\n",
       "      <td></td>\n",
       "      <td>File not found C:\\dev\\play\\brainwave-data\\08-0...</td>\n",
       "    </tr>\n",
       "    <tr>\n",
       "      <th>1</th>\n",
       "      <td>09-07-2024--22-52-25</td>\n",
       "      <td>False</td>\n",
       "      <td></td>\n",
       "      <td>File not found C:\\dev\\play\\brainwave-data\\09-0...</td>\n",
       "    </tr>\n",
       "    <tr>\n",
       "      <th>2</th>\n",
       "      <td>2024-07-08-22-51-16</td>\n",
       "      <td>True</td>\n",
       "      <td></td>\n",
       "      <td>True</td>\n",
       "    </tr>\n",
       "    <tr>\n",
       "      <th>3</th>\n",
       "      <td>2024-07-11-22-46-18</td>\n",
       "      <td>True</td>\n",
       "      <td></td>\n",
       "      <td>True</td>\n",
       "    </tr>\n",
       "    <tr>\n",
       "      <th>4</th>\n",
       "      <td>2024-07-12-22-38-58</td>\n",
       "      <td>True</td>\n",
       "      <td></td>\n",
       "      <td>True</td>\n",
       "    </tr>\n",
       "    <tr>\n",
       "      <th>...</th>\n",
       "      <td>...</td>\n",
       "      <td>...</td>\n",
       "      <td>...</td>\n",
       "      <td>...</td>\n",
       "    </tr>\n",
       "    <tr>\n",
       "      <th>157</th>\n",
       "      <td>2025-03-05-21-59-37</td>\n",
       "      <td>False</td>\n",
       "      <td></td>\n",
       "      <td>True</td>\n",
       "    </tr>\n",
       "    <tr>\n",
       "      <th>158</th>\n",
       "      <td>2025-03-07-21-50-51</td>\n",
       "      <td>True</td>\n",
       "      <td></td>\n",
       "      <td>True</td>\n",
       "    </tr>\n",
       "    <tr>\n",
       "      <th>159</th>\n",
       "      <td>2025-03-08-21-45-12</td>\n",
       "      <td>False</td>\n",
       "      <td></td>\n",
       "      <td>True</td>\n",
       "    </tr>\n",
       "    <tr>\n",
       "      <th>160</th>\n",
       "      <td>compressed_files</td>\n",
       "      <td>False</td>\n",
       "      <td></td>\n",
       "      <td>File not found C:\\dev\\play\\brainwave-data\\comp...</td>\n",
       "    </tr>\n",
       "    <tr>\n",
       "      <th>161</th>\n",
       "      <td>nonnight</td>\n",
       "      <td>False</td>\n",
       "      <td></td>\n",
       "      <td>File not found C:\\dev\\play\\brainwave-data\\nonn...</td>\n",
       "    </tr>\n",
       "  </tbody>\n",
       "</table>\n",
       "<p>162 rows × 4 columns</p>\n",
       "</div>"
      ],
      "text/plain": [
       "                 dir_name  cached stdout  \\\n",
       "0    08-07-2024--22-51-16   False          \n",
       "1    09-07-2024--22-52-25   False          \n",
       "2     2024-07-08-22-51-16    True          \n",
       "3     2024-07-11-22-46-18    True          \n",
       "4     2024-07-12-22-38-58    True          \n",
       "..                    ...     ...    ...   \n",
       "157   2025-03-05-21-59-37   False          \n",
       "158   2025-03-07-21-50-51    True          \n",
       "159   2025-03-08-21-45-12   False          \n",
       "160      compressed_files   False          \n",
       "161              nonnight   False          \n",
       "\n",
       "                                        success_or_msg  \n",
       "0    File not found C:\\dev\\play\\brainwave-data\\08-0...  \n",
       "1    File not found C:\\dev\\play\\brainwave-data\\09-0...  \n",
       "2                                                 True  \n",
       "3                                                 True  \n",
       "4                                                 True  \n",
       "..                                                 ...  \n",
       "157                                               True  \n",
       "158                                               True  \n",
       "159                                               True  \n",
       "160  File not found C:\\dev\\play\\brainwave-data\\comp...  \n",
       "161  File not found C:\\dev\\play\\brainwave-data\\nonn...  \n",
       "\n",
       "[162 rows x 4 columns]"
      ]
     },
     "execution_count": 57,
     "metadata": {},
     "output_type": "execute_result"
    }
   ],
   "source": [
    "results = pd.DataFrame(columns=['dir_name', 'cached', 'stdout', 'success_or_msg'])\n",
    "\n",
    "dirs = next(os.walk(input_dir))[1]\n",
    "for idx, dir_name in enumerate(tqdm(dirs, desc=\"Artifacts pipeline\")):\n",
    "# for idx, dir_name in enumerate(dirs):\n",
    "    # print(dir_name)\n",
    "    artifacts_df, cached, stdout, success_or_msg = notebooks.EEGArtifacts.eeg_artifacts.process_artifacts(input_dir, dir_name, global_force)\n",
    "    results.loc[len(results)] = [dir_name, cached, stdout, success_or_msg]\n",
    "\n",
    "results"
   ]
  },
  {
   "cell_type": "markdown",
   "id": "ca8ab9ca6c09b972",
   "metadata": {},
   "source": [
    "# Physiological pipeline"
   ]
  },
  {
   "cell_type": "code",
   "execution_count": 13,
   "id": "9443abcb2ee130b2",
   "metadata": {
    "ExecuteTime": {
     "end_time": "2025-02-27T08:51:37.456816Z",
     "start_time": "2025-02-16T07:36:32.482488Z"
    }
   },
   "outputs": [],
   "source": [
    "import traceback\n",
    "import os\n",
    "\n",
    "from importlib import reload\n",
    "import run_physical_features_pipeline\n",
    "reload(run_physical_features_pipeline)\n",
    "import io\n",
    "import contextlib\n",
    "from datetime import datetime, timedelta\n",
    "\n",
    "\n",
    "def process_file_for_physical(root, dir_name, force=False):\n",
    "    output_buffer = io.StringIO()\n",
    "    with contextlib.redirect_stdout(output_buffer), contextlib.redirect_stderr(output_buffer):\n",
    "        input_fif_file = os.path.join(root, dir_name, \"raw.fif\")\n",
    "        input_csv_file = os.path.join(root, dir_name, \"raw.yasa.csv\")\n",
    "        try:\n",
    "            if os.path.exists(input_csv_file):\n",
    "                yasa_df = pd.read_csv(input_csv_file)\n",
    "                physical_features_df, cached = run_physical_features_pipeline.cached_physical_features_pipeline(log, input_fif_file, yasa_df, force or global_force)\n",
    "                return physical_features_df, cached, output_buffer.getvalue(), True\n",
    "            else:\n",
    "                log(f\"File not found: {input_fif_file} or {input_csv_file}\")\n",
    "                return None, False, output_buffer.getvalue(), \"File not found\"\n",
    "        except Exception as e:\n",
    "            return None, False, output_buffer.getvalue(), (str(e) + \" \" + traceback.format_exc())\n",
    "\n",
    "# Testing\n",
    "# physical_features_df, cached, stdout, success_or_msg = process_file_for_physical(\"C:\\\\dev\\\\play\\\\brainwave-data\", \"2024-12-11-21-31-37\", False)\n",
    "# display(stdout)\n",
    "# display(success_or_msg)\n",
    "# display(physical_features_df)"
   ]
  },
  {
   "cell_type": "code",
   "execution_count": null,
   "id": "75c23704fb11b7eb",
   "metadata": {
    "ExecuteTime": {
     "end_time": "2025-02-27T08:51:37.458817700Z",
     "start_time": "2025-02-16T07:36:35.767754Z"
    }
   },
   "outputs": [],
   "source": [
    "from tqdm.auto import tqdm\n",
    "\n",
    "results = pd.DataFrame(columns=['dir_name', 'cached', 'stdout', 'success_or_msg'])\n",
    "\n",
    "dirs = next(os.walk(input_dir))[1]\n",
    "for idx, dir_name in enumerate(tqdm(dirs, desc=\"Physiological pipeline\")):\n",
    "    physical_features_df, cached, stdout, success_or_msg = process_file_for_physical(input_dir, dir_name)\n",
    "    results.loc[len(results)] = [dir_name, cached, stdout, success_or_msg]\n",
    "\n",
    "results"
   ]
  },
  {
   "cell_type": "markdown",
   "id": "e25d23e0136d1aa1",
   "metadata": {},
   "source": [
    "# Post-YASA pipeline"
   ]
  },
  {
   "cell_type": "code",
   "execution_count": 63,
   "id": "ac4c838f3988591c",
   "metadata": {
    "ExecuteTime": {
     "end_time": "2025-02-27T08:51:37.460812500Z",
     "start_time": "2025-02-16T07:36:37.141477Z"
    }
   },
   "outputs": [
    {
     "name": "stdout",
     "output_type": "stream",
     "text": [
      "2025-03-10 08:31:41.661254 Processing file: C:\\dev\\play\\brainwave-data\\2025-01-11-21-19-30\\raw.fif\n",
      "YASA file: C:\\dev\\play\\brainwave-data\\2025-01-11-21-19-30\\raw.yasa.csv\n",
      "Artifacts file: C:\\dev\\play\\brainwave-data\\2025-01-11-21-19-30\\raw.artifacts.csv\n",
      "2025-03-10 08:31:41.667726 Loading cached file C:\\dev\\play\\brainwave-data\\2025-01-11-21-19-30\\raw.post_yasa.csv\n",
      "2025-03-10 08:31:41.779855 Artifacts file C:\\dev\\play\\brainwave-data\\2025-01-11-21-19-30\\raw.artifacts.csv mod date 2025-03-10 08:22:42.332614 is > 2025-01-12 09:54:40, rebuilding\n",
      "2025-03-10 08:31:41.779855 Loading MNE file C:\\dev\\play\\brainwave-data\\2025-01-11-21-19-30\\raw.fif\n",
      "2025-03-10 08:31:41.779855 Reading file C:\\dev\\play\\brainwave-data\\2025-01-11-21-19-30\\raw.fif\n",
      "2025-03-10 08:31:42.153933 Finished reading file C:\\dev\\play\\brainwave-data\\2025-01-11-21-19-30\\raw.fif\n",
      "2025-03-10 08:31:43.101370 Memory Usage: 779.20 MB GC to 779.20 MB\n",
      "2025-03-10 08:31:43.101370 Extracting YASA features\n",
      "    Using multitaper spectrum estimation with 7 DPSS windows\n"
     ]
    },
    {
     "name": "stderr",
     "output_type": "stream",
     "text": [
      "c:\\dev\\Brainwave-Processor\\yasa_features.py:120: RuntimeWarning: Iterative multi-taper PSD computation did not converge.\n",
      "  psd, freqs = psd_array_multitaper(epochs, sf, adaptive=True, normalization='full', verbose=0)\n",
      "c:\\dev\\Brainwave-Processor\\yasa_features.py:120: RuntimeWarning: Iterative multi-taper PSD computation did not converge.\n",
      "  psd, freqs = psd_array_multitaper(epochs, sf, adaptive=True, normalization='full', verbose=0)\n",
      "c:\\dev\\Brainwave-Processor\\yasa_features.py:120: RuntimeWarning: Iterative multi-taper PSD computation did not converge.\n",
      "  psd, freqs = psd_array_multitaper(epochs, sf, adaptive=True, normalization='full', verbose=0)\n",
      "c:\\dev\\Brainwave-Processor\\yasa_features.py:120: RuntimeWarning: Iterative multi-taper PSD computation did not converge.\n",
      "  psd, freqs = psd_array_multitaper(epochs, sf, adaptive=True, normalization='full', verbose=0)\n",
      "c:\\dev\\Brainwave-Processor\\yasa_features.py:120: RuntimeWarning: Iterative multi-taper PSD computation did not converge.\n",
      "  psd, freqs = psd_array_multitaper(epochs, sf, adaptive=True, normalization='full', verbose=0)\n",
      "c:\\dev\\Brainwave-Processor\\yasa_features.py:120: RuntimeWarning: Iterative multi-taper PSD computation did not converge.\n",
      "  psd, freqs = psd_array_multitaper(epochs, sf, adaptive=True, normalization='full', verbose=0)\n"
     ]
    },
    {
     "name": "stdout",
     "output_type": "stream",
     "text": [
      "2025-03-10 08:31:53.935163 All done! C:\\dev\\play\\brainwave-data\\2025-01-11-21-19-30\\raw.fif\n",
      "2025-03-10 08:31:53.942642 Saving to: C:\\dev\\play\\brainwave-data\\2025-01-11-21-19-30\\raw.post_yasa.csv\n"
     ]
    },
    {
     "data": {
      "text/plain": [
       "''"
      ]
     },
     "metadata": {},
     "output_type": "display_data"
    },
    {
     "data": {
      "text/plain": [
       "True"
      ]
     },
     "metadata": {},
     "output_type": "display_data"
    }
   ],
   "source": [
    "import traceback\n",
    "import os\n",
    "\n",
    "from importlib import reload\n",
    "import run_post_yasa_pipeline\n",
    "reload(run_post_yasa_pipeline)\n",
    "import yasa_features\n",
    "reload(yasa_features)\n",
    "\n",
    "\n",
    "def process_file_for_post_yasa(root, dir_name, force=False):\n",
    "    output_buffer = io.StringIO()\n",
    "    # with contextlib.redirect_stdout(output_buffer), contextlib.redirect_stderr(output_buffer):\n",
    "\n",
    "    input_fif_file = os.path.join(root, dir_name, \"raw.fif\")\n",
    "    input_csv_file = os.path.join(root, dir_name, \"raw.yasa.csv\")\n",
    "    artifacts_csv_path = os.path.join(root, dir_name, \"raw.artifacts.csv\")\n",
    "\n",
    "    try:\n",
    "        log(f\"Processing file: \" + input_fif_file)\n",
    "        if os.path.exists(input_fif_file) and os.path.exists(input_csv_file) and os.path.exists(artifacts_csv_path):\n",
    "            yasa_df = pd.read_csv(input_csv_file)\n",
    "            artifacts_df = pd.read_csv(artifacts_csv_path)\n",
    "            post_yasa_df, cached = run_post_yasa_pipeline.cached_post_yasa_pipeline(log, input_fif_file, yasa_df, stats_df, artifacts_df, force or global_force)\n",
    "            return post_yasa_df, cached, output_buffer.getvalue(), True\n",
    "        else:\n",
    "            log(f\"File not found: {input_fif_file} or {input_csv_file}\")\n",
    "            return None, False, output_buffer.getvalue(), \"File not found\"\n",
    "    except Exception as e:\n",
    "        traceback.print_exc()\n",
    "        return None, False, output_buffer.getvalue(), e\n",
    "\n",
    "# Testing\n",
    "post_yasa_df, cached, stdout, success_or_msg = process_file_for_post_yasa(\"C:\\\\dev\\\\play\\\\brainwave-data\", \"2025-01-11-21-19-30\", False)\n",
    "display(stdout)\n",
    "display(success_or_msg)"
   ]
  },
  {
   "cell_type": "code",
   "execution_count": null,
   "id": "83319905fde09809",
   "metadata": {
    "ExecuteTime": {
     "end_time": "2025-02-27T08:51:37.462812800Z",
     "start_time": "2025-02-16T07:36:37.324716Z"
    }
   },
   "outputs": [],
   "source": [
    "results = pd.DataFrame(columns=['dir_name', 'cached', 'stdout', 'success_or_msg'])\n",
    "\n",
    "all_post_yasa_dfs = []\n",
    "\n",
    "dirs = next(os.walk(input_dir))[1]\n",
    "for idx, dir_name in enumerate(tqdm(dirs, desc=\"Post YASA pipeline\")):\n",
    "    post_yasa_df, cached, stdout, success_or_msg = process_file_for_post_yasa(input_dir, dir_name)\n",
    "    all_post_yasa_dfs.append(post_yasa_df)\n",
    "    results.loc[len(results)] = [dir_name, cached, stdout, success_or_msg]\n",
    "    # error_count = len(results[results['success_or_msg'] != True])\n",
    "    # if (error_count > 5):\n",
    "    #     log(f\"Stopping due to {error_count} errors\")\n",
    "    #     break\n",
    "\n",
    "results\n"
   ]
  },
  {
   "cell_type": "markdown",
   "id": "4c487ce7a385265e",
   "metadata": {},
   "source": [
    "# Recalculate scalings\n",
    "N.b. can be run frequently but will only be picked up by new runs.  Maybe worth occasionally regenerating all old files.\n",
    "And yes, for new features have to rerun the pipeline on everything, then generate the stats here, then rerun the pipeline again on everything to have them use those."
   ]
  },
  {
   "cell_type": "code",
   "execution_count": 17,
   "id": "60c194d4c115d030",
   "metadata": {
    "ExecuteTime": {
     "end_time": "2025-02-27T08:51:37.464814600Z",
     "start_time": "2025-02-16T07:36:49.714878Z"
    }
   },
   "outputs": [],
   "source": [
    "# post_yasa_dfs_combined = pd.concat(all_post_yasa_dfs)"
   ]
  },
  {
   "cell_type": "code",
   "execution_count": 18,
   "id": "ea7c30608a88ddd9",
   "metadata": {
    "ExecuteTime": {
     "end_time": "2025-02-27T08:51:37.465817900Z",
     "start_time": "2025-02-16T07:36:49.877717Z"
    }
   },
   "outputs": [],
   "source": [
    "# from scaling import only_eeg\n",
    "#\n",
    "# only_eeg_cols = list(only_eeg(post_yasa_dfs_combined).columns)\n",
    "# assert any(col.startswith(\"Main\") for col in only_eeg_cols), \"No column starting with 'Main' found in only_eeg_cols\""
   ]
  },
  {
   "cell_type": "code",
   "execution_count": 19,
   "id": "b45325b82b166f42",
   "metadata": {
    "ExecuteTime": {
     "end_time": "2025-02-27T08:51:37.468334Z",
     "start_time": "2025-02-16T07:36:49.960504Z"
    }
   },
   "outputs": [],
   "source": [
    "# #Expensive to do every time now\n",
    "# import scaling\n",
    "# reload(scaling)\n",
    "#\n",
    "# stats = scaling.stats(post_yasa_dfs_combined)\n",
    "# stats.to_csv(input_dir + \"/stats.csv\")\n",
    "# # assert any(stats['Column'].str.startswith(\"Main\")), \"No row starting with 'Main' found in column_name\"\n",
    "# stats"
   ]
  },
  {
   "cell_type": "markdown",
   "id": "6e825bb10b9e135a",
   "metadata": {
    "ExecuteTime": {
     "start_time": "2024-12-14T14:21:26.533907Z"
    }
   },
   "source": [
    "# Microwakings"
   ]
  },
  {
   "cell_type": "code",
   "execution_count": null,
   "id": "d62e36ec5e5980cd",
   "metadata": {
    "ExecuteTime": {
     "end_time": "2025-02-27T08:51:37.469339100Z",
     "start_time": "2025-02-16T07:36:49.984727Z"
    }
   },
   "outputs": [],
   "source": [
    "from models.microwakings_1 import microwakings_pipeline, microwakings1\n",
    "import os\n",
    "\n",
    "import io\n",
    "\n",
    "from importlib import reload\n",
    "reload(microwakings_pipeline)\n",
    "reload(microwakings1)\n",
    "\n",
    "def process_microwakings(root, dir_name, force=False):\n",
    "    output_buffer = io.StringIO()\n",
    "    # with contextlib.redirect_stdout(output_buffer), contextlib.redirect_stderr(output_buffer):\n",
    "    input_fif_file = os.path.join(root, dir_name, \"raw.fif\")\n",
    "    input_csv_file = os.path.join(root, dir_name, \"raw.post_yasa.csv\")\n",
    "    try:\n",
    "        print(f\"Processing file: \" + input_fif_file, flush=True)\n",
    "        log(f\"Processing file: \" + input_fif_file)\n",
    "        tqdm.write(f\"Processing file: \" + input_fif_file)\n",
    "        if not os.path.exists(input_fif_file):\n",
    "            return None, False, output_buffer.getvalue(), \"File not found \" + input_fif_file\n",
    "        if not os.path.exists(input_csv_file):\n",
    "            return None, False, output_buffer.getvalue(), \"File not found \" + input_csv_file\n",
    "\n",
    "        post_yasa_df = pd.read_csv(input_csv_file)\n",
    "        microwakings_df, cached = microwakings_pipeline.cached_microwakings_pipeline(log, input_fif_file, post_yasa_df, force or global_force)\n",
    "        return microwakings_df, cached, output_buffer.getvalue(), True\n",
    "    except Exception as e:\n",
    "        return None, False, output_buffer.getvalue(), \"Error: \" + str(e)\n",
    "\n",
    "# Testing\n",
    "microwakings_df, cached, stdout, success_or_msg = process_microwakings(\"C:\\\\dev\\\\play\\\\brainwave-data\", \"2025-02-12-20-34-56\", False)\n",
    "stdout, success_or_msg"
   ]
  },
  {
   "cell_type": "code",
   "execution_count": null,
   "id": "32e5f01fcd1ed033",
   "metadata": {
    "ExecuteTime": {
     "end_time": "2025-02-27T08:51:37.471339300Z",
     "start_time": "2025-02-16T07:36:50.088664Z"
    }
   },
   "outputs": [],
   "source": [
    "results = pd.DataFrame(columns=['dir_name', 'cached', 'stdout', 'success_or_msg'])\n",
    "\n",
    "dirs = next(os.walk(input_dir))[1]\n",
    "# for idx, dir_name in enumerate(tqdm(dirs, desc=\"Microwakings pipeline\")):\n",
    "for idx, dir_name in enumerate(dirs):\n",
    "    # print(dir_name)\n",
    "    microwakings_df, cached, stdout, success_or_msg = process_microwakings(input_dir, dir_name, global_force)\n",
    "    results.loc[len(results)] = [dir_name, cached, stdout, success_or_msg]\n",
    "\n",
    "results"
   ]
  },
  {
   "cell_type": "markdown",
   "id": "7ebf4c256a66aab1",
   "metadata": {},
   "source": [
    "# Post-human pipeline\n",
    "This requires user interaction first to provide sleep times etc."
   ]
  },
  {
   "cell_type": "code",
   "execution_count": 22,
   "id": "224421aa114f231b",
   "metadata": {
    "ExecuteTime": {
     "end_time": "2025-02-27T08:51:37.473335Z",
     "start_time": "2025-02-16T07:37:02.301076Z"
    }
   },
   "outputs": [],
   "source": [
    "import sleep_events\n",
    "from importlib import reload\n",
    "\n",
    "reload(sleep_events)\n",
    "\n",
    "from sleep_events import load_days_data\n",
    "from sleep_events import pimp_my_days_data\n",
    "\n",
    "days_data = load_days_data(True)"
   ]
  },
  {
   "cell_type": "code",
   "execution_count": null,
   "id": "0cb38a32",
   "metadata": {},
   "outputs": [],
   "source": [
    "days = days_data['dayAndNightOf'].unique()\n",
    "[d for d in days if str(d).startswith('2025-03')]"
   ]
  },
  {
   "cell_type": "code",
   "execution_count": null,
   "id": "a786118aa556417d",
   "metadata": {
    "ExecuteTime": {
     "end_time": "2025-02-27T08:51:37.474662200Z",
     "start_time": "2025-02-16T07:37:17.100295Z"
    }
   },
   "outputs": [],
   "source": [
    "from models.eeg_states.eeg_states import load_and_prepare_settling_eeg_state_events\n",
    "\n",
    "tired_wired_eeg_state_events = load_and_prepare_settling_eeg_state_events()"
   ]
  },
  {
   "cell_type": "code",
   "execution_count": 25,
   "id": "8810c9b6d565e572",
   "metadata": {
    "ExecuteTime": {
     "end_time": "2025-02-27T08:51:37.475672700Z",
     "start_time": "2025-02-16T07:37:18.124240Z"
    }
   },
   "outputs": [],
   "source": [
    "import run_post_human_pipeline\n",
    "reload(run_post_human_pipeline)\n",
    "from run_post_human_pipeline import cached_post_human_pipeline\n",
    "\n",
    "def process_file_for_post_human(root, dir_name, force=False):\n",
    "    output_buffer = io.StringIO()\n",
    "    with contextlib.redirect_stdout(output_buffer), contextlib.redirect_stderr(output_buffer):\n",
    "\n",
    "        input_fif_file = os.path.join(root, dir_name, \"raw.fif\")\n",
    "        input_csv_file = os.path.join(root, dir_name, \"raw.post_yasa.csv\")\n",
    "        try:\n",
    "            log(f\"Processing file: \" + input_fif_file)\n",
    "            if not os.path.exists(input_fif_file):\n",
    "                return None, False, output_buffer.getvalue(), \"File not found \" + input_fif_file\n",
    "            if not os.path.exists(input_csv_file):\n",
    "                return None, False, output_buffer.getvalue(), \"File not found \" + input_csv_file\n",
    "\n",
    "            post_yasa_df = pd.read_csv(input_csv_file)\n",
    "            post_human_df, cached = cached_post_human_pipeline(log, dir_name, input_fif_file, stats_df, days_data, post_yasa_df, tired_wired_eeg_state_events, force or global_force)\n",
    "            return post_human_df, cached, output_buffer.getvalue(), True\n",
    "        except Exception as e:\n",
    "            return None, False, output_buffer.getvalue(), \"Error: \" + str(e)\n",
    "\n",
    "# Testing\n",
    "# post_human_df, cached, stdout, success_or_msg = process_file_for_post_human(\"C:\\\\dev\\\\play\\\\brainwave-data\", \"2025-03-05-21-59-37\", False)\n",
    "# stdout, success_or_msg"
   ]
  },
  {
   "cell_type": "code",
   "execution_count": null,
   "id": "2a453c74dcb57ac3",
   "metadata": {
    "ExecuteTime": {
     "end_time": "2025-02-27T08:51:37.478676600Z",
     "start_time": "2025-02-16T07:37:18.296703Z"
    }
   },
   "outputs": [],
   "source": []
  },
  {
   "cell_type": "code",
   "execution_count": null,
   "id": "dc932146086b8cb0",
   "metadata": {
    "ExecuteTime": {
     "end_time": "2025-02-27T08:51:37.479672700Z",
     "start_time": "2025-02-16T07:37:18.309798Z"
    }
   },
   "outputs": [],
   "source": [
    "from run_post_human_pipeline import cached_post_human_pipeline\n",
    "\n",
    "results = pd.DataFrame(columns=['dir_name', 'cached', 'stdout', 'success_or_msg'])\n",
    "\n",
    "dirs = next(os.walk(input_dir))[1]\n",
    "for idx, dir_name in enumerate(tqdm(dirs, desc=\"Post human pipeline\")):\n",
    "    post_human_df, cached, stdout, success_or_msg = process_file_for_post_human(input_dir, dir_name, global_force   )\n",
    "    results.loc[len(results)] = [dir_name, cached, stdout, success_or_msg]\n",
    "\n",
    "results"
   ]
  },
  {
   "cell_type": "markdown",
   "id": "a5ae5c62e5b1eb",
   "metadata": {},
   "source": [
    "# Stitch all pipelines together"
   ]
  },
  {
   "cell_type": "code",
   "execution_count": null,
   "id": "820967d55d46177c",
   "metadata": {
    "ExecuteTime": {
     "end_time": "2025-02-27T08:51:37.485123700Z",
     "start_time": "2025-02-16T07:40:39.036594Z"
    }
   },
   "outputs": [],
   "source": [
    "from stitch_pipeline_results import stitch_day_optimised\n",
    "import io\n",
    "import contextlib\n",
    "import os\n",
    "\n",
    "def process_pipeline_stitch(root, dir_name, force=False):\n",
    "    output_buffer = io.StringIO()\n",
    "    with contextlib.redirect_stdout(output_buffer), contextlib.redirect_stderr(output_buffer):\n",
    "\n",
    "        post_yasa_file = os.path.join(root, dir_name, \"raw.post_yasa.csv\")\n",
    "\n",
    "        try:\n",
    "            if os.path.exists(post_yasa_file):\n",
    "                # Multiple consumers expect this file\n",
    "                with_features = os.path.join(root, dir_name, \"raw.with_features.csv\")\n",
    "                if not os.path.exists(with_features) or force:\n",
    "                    stitched = stitch_day_optimised(input_dir, dir_name, force or global_force)\n",
    "                    assert(\"Main_eeg_sigmaabs\" in stitched.columns), \"Main_eeg_sigmaabs not found in stitched columns\"\n",
    "                    stitched.to_csv(with_features, index=False)\n",
    "\n",
    "            return output_buffer.getvalue(), True\n",
    "        except Exception as e:\n",
    "            return output_buffer.getvalue(), \"Error: \" + str(e)\n",
    "\n",
    "\n",
    "# Testing\n",
    "stdout, success_or_msg = process_pipeline_stitch(\"C:\\\\dev\\\\play\\\\brainwave-data\", \"2024-12-21-21-43-12\", True)\n",
    "stdout, success_or_msg\n"
   ]
  },
  {
   "cell_type": "code",
   "execution_count": null,
   "id": "574c63e466850c33",
   "metadata": {
    "ExecuteTime": {
     "end_time": "2025-02-27T08:51:37.492710800Z",
     "start_time": "2025-02-16T07:40:40.112881Z"
    }
   },
   "outputs": [],
   "source": [
    "from tqdm.auto import tqdm\n",
    "\n",
    "\n",
    "results = pd.DataFrame(columns=['dir_name', 'stdout', 'success_or_msg'])\n",
    "\n",
    "dirs = next(os.walk(input_dir))[1]\n",
    "for idx, dir_name in enumerate(tqdm(dirs, desc=\"Stitching pipelines\")):\n",
    "    stdout, success_or_msg = process_pipeline_stitch(input_dir, dir_name, False)\n",
    "    results.loc[len(results)] = [dir_name, stdout, success_or_msg]\n",
    "\n",
    "results"
   ]
  },
  {
   "cell_type": "markdown",
   "id": "fb165f2ba385f1aa",
   "metadata": {},
   "source": [
    "# Analyse data completeness"
   ]
  },
  {
   "cell_type": "code",
   "execution_count": 29,
   "id": "4912068076cbcdcf",
   "metadata": {
    "ExecuteTime": {
     "end_time": "2025-02-27T08:51:37.493707800Z",
     "start_time": "2025-02-16T07:40:40.659192Z"
    }
   },
   "outputs": [],
   "source": [
    "# import os\n",
    "# import pandas as pd\n",
    "# from datetime import datetime\n",
    "#\n",
    "# dfs = []\n",
    "# modification_times = []\n",
    "#\n",
    "# for root, dirs, files in os.walk(input_dir):\n",
    "#     for idx, dir_name in enumerate(dirs):\n",
    "#         input_file = os.path.join(root, dir_name, \"raw.post_human.csv\")\n",
    "#         if os.path.exists(input_file):\n",
    "#             df = pd.read_csv(input_file)\n",
    "#             dfs.append(df)\n",
    "#\n",
    "#             # Get the last modification time of the file\n",
    "#             mod_time = os.path.getmtime(input_file)\n",
    "#             mod_time_dt = datetime.fromtimestamp(mod_time)\n",
    "#             modification_times.append(mod_time_dt)\n",
    "#\n",
    "# # Concatenate all dataframes\n",
    "# yasa_df = pd.concat(dfs, ignore_index=True)\n",
    "#\n",
    "# # Calculate the number of days from today for each modification time\n",
    "# today = datetime.now()\n",
    "# days_since_modification = [(today - mod_time).days for mod_time in modification_times]\n",
    "#\n",
    "# # Create a DataFrame with the modification times and days since modification\n",
    "# modification_df = pd.DataFrame({\n",
    "#     'file': [os.path.join(root, dir_name, \"raw.post_human.csv\") for root, dirs, files in os.walk(input_dir) for dir_name in dirs if os.path.exists(os.path.join(root, dir_name, \"raw.post_human.csv\"))],\n",
    "#     'modification_time': modification_times,\n",
    "#     'days_since_modification': days_since_modification\n",
    "# })\n",
    "#\n",
    "# modification_df"
   ]
  },
  {
   "cell_type": "markdown",
   "id": "482f89663710fa04",
   "metadata": {},
   "source": [
    "# Upload to GCS"
   ]
  },
  {
   "cell_type": "code",
   "execution_count": 30,
   "id": "50a00489c871a939",
   "metadata": {
    "ExecuteTime": {
     "end_time": "2025-02-27T08:51:37.495708400Z",
     "start_time": "2025-02-16T07:40:41.060558Z"
    }
   },
   "outputs": [],
   "source": [
    "# Test\n",
    "import upload\n",
    "from importlib import reload\n",
    "reload(upload)\n",
    "from upload import upload_dir_to_gcs_skipping_existing, upload_dir_to_gcs\n",
    "\n",
    "import os\n",
    "os.environ[\"GOOGLE_CLOUD_PROJECT\"] = \"examined-life-dd234\" \n",
    "\n",
    "# Test\n",
    "#upload_dir_to_gcs(lambda x: tqdm.write(x), 'examined-life-derived-eeg', \"C:\\\\dev\\\\play\\\\brainwave-data\\\\2025-03-01-21-46-54\", \"2025-03-01-21-46-54\")\n"
   ]
  },
  {
   "cell_type": "code",
   "execution_count": null,
   "id": "30732b799791e42d",
   "metadata": {
    "ExecuteTime": {
     "end_time": "2025-02-27T08:51:37.496708200Z",
     "start_time": "2025-02-16T07:40:41.476898Z"
    }
   },
   "outputs": [],
   "source": [
    "from upload import upload_dir_to_gcs_skipping_existing\n",
    "import os\n",
    "\n",
    "errors = []\n",
    "dataframes = []\n",
    "\n",
    "from tqdm.auto import tqdm\n",
    "\n",
    "dirs = next(os.walk(input_dir))[1]\n",
    "for idx, dir_name in enumerate(tqdm(dirs)):\n",
    "# for root, dirs, files in os.walk(input_dir):\n",
    "#     for dir_name in reversed(dirs):\n",
    "    input_file = os.path.join(input_dir, dir_name, \"raw.fif\")\n",
    "    full_dir_name = os.path.join(input_dir, dir_name)\n",
    "    try:\n",
    "        upload_dir_to_gcs_skipping_existing(lambda x: tqdm.write(x), 'examined-life-derived-eeg', full_dir_name, dir_name)\n",
    "    except Exception as e:\n",
    "        log(\"Error processing file: \" + input_dir)\n",
    "        errors.append(\"Error processing file: \" + input_file + \" - \" + str(e))\n",
    "        log(e)\n",
    "\n",
    "for error in errors:\n",
    "    log(error)\n",
    "\n",
    "log(\"All uploaded\")"
   ]
  },
  {
   "cell_type": "markdown",
   "id": "6896e4e6423b928b",
   "metadata": {},
   "source": [
    "# Check if can delete Brainwave files that are safely backed up"
   ]
  },
  {
   "cell_type": "code",
   "execution_count": 32,
   "id": "54b1ee685c111770",
   "metadata": {
    "ExecuteTime": {
     "end_time": "2025-02-27T08:51:37.498708300Z",
     "start_time": "2025-02-16T08:11:58.032147Z"
    }
   },
   "outputs": [],
   "source": [
    "\n",
    "import os\n",
    "\n",
    "errors = []\n",
    "can_delete = []\n",
    "cannot_delete = []\n",
    "\n",
    "for root, dirs, files in os.walk(input_dir):\n",
    "    for idx, file_name in enumerate(files):\n",
    "        full_input_filename = os.path.join(root, file_name)\n",
    "        if full_input_filename.endswith(\".brainflow.csv\"):\n",
    "            compressed_full_output_filename = get_brainflow_compressed_filename(full_input_filename)\n",
    "                \n",
    "            if os.path.exists(compressed_full_output_filename):\n",
    "                can_delete.append({\n",
    "                    'backed_up': compressed_full_output_filename,\n",
    "                    'full_filename': full_input_filename\n",
    "                })\n",
    "            else:\n",
    "                cannot_delete.append(full_input_filename)\n",
    "    "
   ]
  },
  {
   "cell_type": "code",
   "execution_count": null,
   "id": "1b99c37e9a4b39e8",
   "metadata": {
    "ExecuteTime": {
     "end_time": "2025-02-27T08:51:37.500707500Z",
     "start_time": "2025-02-16T08:11:58.197756Z"
    }
   },
   "outputs": [],
   "source": [
    "can_delete_df = pd.DataFrame(can_delete)\n",
    "can_delete_df"
   ]
  },
  {
   "cell_type": "code",
   "execution_count": null,
   "id": "d7c0794b5a6e8351",
   "metadata": {
    "ExecuteTime": {
     "end_time": "2025-02-27T08:51:37.503707800Z",
     "start_time": "2025-02-16T08:11:58.335388Z"
    }
   },
   "outputs": [],
   "source": [
    "cannot_delete"
   ]
  },
  {
   "cell_type": "code",
   "execution_count": null,
   "id": "83646d0ee8f59e2",
   "metadata": {
    "ExecuteTime": {
     "end_time": "2025-02-27T08:51:37.505712500Z",
     "start_time": "2025-02-16T08:11:58.460601Z"
    }
   },
   "outputs": [],
   "source": [
    "can_delete_df['full_filename']"
   ]
  },
  {
   "cell_type": "markdown",
   "id": "555248de86908ae3",
   "metadata": {},
   "source": [
    "# Check if can delete Cyton files that are safely backed up"
   ]
  },
  {
   "cell_type": "code",
   "execution_count": 36,
   "id": "b436cf8c7ef3a74",
   "metadata": {
    "ExecuteTime": {
     "end_time": "2025-02-27T08:51:37.507715300Z",
     "start_time": "2025-02-16T08:11:58.534129Z"
    }
   },
   "outputs": [],
   "source": [
    "import webserver\n",
    "import bz2\n",
    "import shutil\n",
    "import os\n",
    "import time\n",
    "\n",
    "\n",
    "errors = []\n",
    "can_delete = []\n",
    "cannot_delete = []\n",
    "\n",
    "for root, dirs, files in os.walk(input_dir):\n",
    "    for idx, file_name in enumerate(files):\n",
    "        full_input_filename = os.path.join(root, file_name)\n",
    "        if file_name.startswith(\"OBCI_\") and file_name.endswith(\".TXT.bz2\"):\n",
    "            can_delete.append({\n",
    "                'file_name': file_name.removesuffix(\".bz2\"),\n",
    "                'full_filename': full_input_filename\n",
    "            })"
   ]
  },
  {
   "cell_type": "code",
   "execution_count": null,
   "id": "f6c68ce46d843ec5",
   "metadata": {
    "ExecuteTime": {
     "end_time": "2025-02-27T08:51:37.509707300Z",
     "start_time": "2025-02-16T08:11:58.657009Z"
    }
   },
   "outputs": [],
   "source": [
    "can_delete"
   ]
  },
  {
   "cell_type": "code",
   "execution_count": 38,
   "id": "c73f7b9864e19c20",
   "metadata": {
    "ExecuteTime": {
     "end_time": "2025-02-27T08:51:37.511711900Z",
     "start_time": "2025-02-16T08:11:58.740778Z"
    }
   },
   "outputs": [],
   "source": [
    "cyton_file_locations = [input_dir, \"d:\", \"e:\", \"x:\"]\n",
    "\n",
    "for cyton_file_location in cyton_file_locations:\n",
    "    for root, dirs, files in os.walk(cyton_file_location):\n",
    "        for idx, file in enumerate(files):\n",
    "            matching_record = next((f for f in can_delete if f['file_name'] == file), None)\n",
    "            if matching_record:\n",
    "                full_filename = os.path.join(root, file)\n",
    "                log(f\"Could delete {full_filename} as backed up in {matching_record['full_filename']}\")"
   ]
  },
  {
   "cell_type": "code",
   "execution_count": null,
   "id": "80fb15db155e0758",
   "metadata": {
    "ExecuteTime": {
     "end_time": "2025-02-27T08:51:37.513708900Z",
     "start_time": "2025-02-16T08:11:58.816354Z"
    }
   },
   "outputs": [],
   "source": [
    "import memory\n",
    "\n",
    "memory.garbage_collect(log)"
   ]
  },
  {
   "cell_type": "code",
   "execution_count": null,
   "id": "18263c6577d32646",
   "metadata": {
    "ExecuteTime": {
     "end_time": "2025-02-27T08:51:37.514976700Z",
     "start_time": "2025-02-16T08:12:00.063677Z"
    }
   },
   "outputs": [],
   "source": [
    "import ctypes\n",
    "\n",
    "ctypes.windll.user32.MessageBoxW(0, \"Compression is complete!\", \"Alert\", 0x40 | 0x1)"
   ]
  },
  {
   "cell_type": "code",
   "execution_count": null,
   "id": "4815003e12deaa7b",
   "metadata": {
    "ExecuteTime": {
     "end_time": "2025-02-27T08:51:37.517324500Z",
     "start_time": "2025-02-16T08:19:01.815412Z"
    }
   },
   "outputs": [],
   "source": []
  },
  {
   "cell_type": "code",
   "execution_count": null,
   "id": "d41cc48fcebc5da1",
   "metadata": {
    "ExecuteTime": {
     "end_time": "2025-02-27T08:51:37.518324100Z",
     "start_time": "2025-02-16T08:19:01.881401Z"
    }
   },
   "outputs": [],
   "source": []
  }
 ],
 "metadata": {
  "kernelspec": {
   "display_name": "3.10-tf",
   "language": "python",
   "name": "python3"
  },
  "language_info": {
   "codemirror_mode": {
    "name": "ipython",
    "version": 3
   },
   "file_extension": ".py",
   "mimetype": "text/x-python",
   "name": "python",
   "nbconvert_exporter": "python",
   "pygments_lexer": "ipython3",
   "version": "3.10.16"
  }
 },
 "nbformat": 4,
 "nbformat_minor": 5
}
