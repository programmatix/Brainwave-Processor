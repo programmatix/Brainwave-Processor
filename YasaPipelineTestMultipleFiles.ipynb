{
 "cells": [
  {
   "cell_type": "code",
   "execution_count": 1,
   "id": "b178a68bb8fe3276",
   "metadata": {
    "jupyter": {
     "is_executing": true
    }
   },
   "outputs": [
    {
     "name": "stderr",
     "output_type": "stream",
     "text": [
      "c:\\Users\\graha\\.conda\\envs\\py3.13\\Lib\\site-packages\\tqdm\\auto.py:21: TqdmWarning: IProgress not found. Please update jupyter and ipywidgets. See https://ipywidgets.readthedocs.io/en/stable/user_install.html\n",
      "  from .autonotebook import tqdm as notebook_tqdm\n"
     ]
    }
   ],
   "source": [
    "# Autoreload possibly interferes with IntelliJ debugging\n",
    "# %reload_ext autoreload\n",
    "# %autoreload 2\n",
    "import logging\n",
    "from datetime import datetime\n",
    "# class FlushHandler(logging.StreamHandler):\n",
    "#     def emit(self, record):e\n",
    "#         super().emit(record)\n",
    "#         self.flush()\n",
    "import io\n",
    "import sys\n",
    "import contextlib\n",
    "import traceback\n",
    "from tqdm.auto import tqdm\n",
    "\n",
    "from importlib import reload\n",
    "\n",
    "logging.basicConfig(level=logging.INFO, format='%(asctime)s - %(levelname)s - %(message)s')\n",
    "# log = lambda msg: logging.info(msg)\n",
    "log = lambda msg: print(f\"{datetime.today()} {msg}\")\n",
    "\n",
    "#assert False\n",
    "global_force = False\n",
    "\n",
    "import pandas as pd\n",
    "import os\n",
    "\n",
    "input_dir = \"C:\\\\dev\\\\play\\\\brainwave-data\"\n",
    "stats_df = pd.read_csv(input_dir + os.path.sep + \"stats.csv\")"
   ]
  },
  {
   "cell_type": "markdown",
   "id": "f89ac5fec644dc7a",
   "metadata": {},
   "source": [
    "\n"
   ]
  },
  {
   "cell_type": "markdown",
   "id": "a68b61c44f8dcdc1",
   "metadata": {},
   "source": [
    "# Find Brainflow files that haven't been copied over"
   ]
  },
  {
   "cell_type": "code",
   "execution_count": 3,
   "id": "de7c66d190ca587d",
   "metadata": {
    "jupyter": {
     "is_executing": true
    }
   },
   "outputs": [
    {
     "name": "stderr",
     "output_type": "stream",
     "text": [
      "2025-04-22 07:07:37,897 - INFO - Connected (version 2.0, client OpenSSH_9.6)\n",
      "2025-04-22 07:07:38,078 - INFO - Authentication (password) successful!\n"
     ]
    }
   ],
   "source": [
    "import pytz\n",
    "from tqdm import tqdm\n",
    "import paramiko\n",
    "import re\n",
    "from datetime import datetime, timedelta\n",
    "import os\n",
    "import dotenv\n",
    "dotenv.load_dotenv()\n",
    "\n",
    "# Define the time window\n",
    "time_window = timedelta(minutes=10)\n",
    "\n",
    "# Define the remote server details\n",
    "hostname = os.getenv('SSH_HOST')\n",
    "username = os.getenv('SSH_USERNAME')\n",
    "password = os.getenv('SSH_PASSWORD')\n",
    "remote_dir = '/home/graham/dev/Brainwave-Data'\n",
    "local_dir = input_dir\n",
    "\n",
    "# Create an SSH client\n",
    "ssh = paramiko.SSHClient()\n",
    "ssh.set_missing_host_key_policy(paramiko.AutoAddPolicy())\n",
    "ssh.connect(hostname, username=username, password=password, compress=True)\n",
    "\n",
    "# List files in the remote directory\n",
    "stdin, stdout, stderr = ssh.exec_command(f'find {remote_dir} -name \"*.brainflow.csv\" -size +200M -printf \"%f\\\\n\"')\n",
    "remote_brainflow_files = stdout.read().decode().splitlines()\n"
   ]
  },
  {
   "cell_type": "code",
   "execution_count": 4,
   "id": "575825f9db239c2d",
   "metadata": {
    "ExecuteTime": {
     "end_time": "2025-02-27T08:51:37.434098500Z",
     "start_time": "2025-02-16T07:36:21.998543Z"
    }
   },
   "outputs": [
    {
     "data": {
      "text/plain": [
       "['2024-09-30-21-27-49.brainflow.csv',\n",
       " '2024-10-01-21-36-11.brainflow.csv',\n",
       " '2024-10-02-21-21-15.brainflow.csv',\n",
       " '2024-10-04-21-13-39.brainflow.csv',\n",
       " '2024-10-05-21-09-47.brainflow.csv',\n",
       " '2024-10-06-21-29-18.brainflow.csv',\n",
       " '2024-10-07-21-35-18.brainflow.csv',\n",
       " '2024-10-08-21-21-34.brainflow.csv',\n",
       " '2024-10-09-21-22-04.brainflow.csv',\n",
       " '2024-10-11-21-16-27.brainflow.csv',\n",
       " '2024-10-15-22-01-52.brainflow.csv',\n",
       " '2024-10-21-21-30-19.brainflow.csv',\n",
       " '2024-10-23-21-24-03.brainflow.csv',\n",
       " '2024-10-24-21-35-33.brainflow.csv',\n",
       " '2024-10-29-20-42-12.brainflow.csv',\n",
       " '2024-10-30-21-26-55.brainflow.csv',\n",
       " '2024-11-01-21-32-22.brainflow.csv',\n",
       " '2024-11-02-21-29-03.brainflow.csv',\n",
       " '2024-11-04-21-20-51.brainflow.csv',\n",
       " '2024-11-05-21-34-15.brainflow.csv',\n",
       " '2024-11-07-21-26-18.brainflow.csv',\n",
       " '2024-11-08-21-16-53.brainflow.csv',\n",
       " '2024-11-09-21-27-51.brainflow.csv',\n",
       " '2024-11-12-21-11-43.brainflow.csv',\n",
       " '2024-11-16-21-54-46.brainflow.csv',\n",
       " '2024-11-19-21-29-04.brainflow.csv',\n",
       " '2024-11-20-21-30-29.brainflow.csv',\n",
       " '2024-11-21-21-15-26.brainflow.csv',\n",
       " '2024-11-22-21-30-12.brainflow.csv',\n",
       " '2024-11-23-21-14-58.brainflow.csv',\n",
       " '2024-11-24-21-21-31.brainflow.csv',\n",
       " '2024-11-26-21-35-46.brainflow.csv',\n",
       " '2024-11-27-21-18-50.brainflow.csv',\n",
       " '2024-11-28-21-50-57.brainflow.csv',\n",
       " '2024-11-29-21-18-33.brainflow.csv',\n",
       " '2024-11-30-21-21-05.brainflow.csv',\n",
       " '2024-12-01-21-29-13.brainflow.csv',\n",
       " '2024-12-03-21-15-08.brainflow.csv',\n",
       " '2024-12-04-21-15-17.brainflow.csv',\n",
       " '2024-12-05-21-15-24.brainflow.csv',\n",
       " '2024-12-06-21-32-04.brainflow.csv',\n",
       " '2024-12-07-21-19-09.brainflow.csv',\n",
       " '2024-12-08-21-23-50.brainflow.csv',\n",
       " '2024-12-09-21-29-08.brainflow.csv',\n",
       " '2024-12-10-21-14-13.brainflow.csv',\n",
       " '2024-12-11-21-31-37.brainflow.csv',\n",
       " '2024-12-12-21-20-17.brainflow.csv',\n",
       " '2024-12-13-21-23-37.brainflow.csv',\n",
       " '2024-12-14-21-26-54.brainflow.csv',\n",
       " '2024-12-16-21-26-57.brainflow.csv',\n",
       " '2024-12-17-21-24-11.brainflow.csv',\n",
       " '2024-12-18-21-32-18.brainflow.csv',\n",
       " '2024-12-19-21-18-48.brainflow.csv',\n",
       " '2024-12-20-21-31-19.brainflow.csv',\n",
       " '2024-12-21-21-43-12.brainflow.csv',\n",
       " '2024-12-27-21-21-34.brainflow.csv',\n",
       " '2024-12-28-21-33-53.brainflow.csv',\n",
       " '2024-12-29-21-15-24.brainflow.csv',\n",
       " '2024-12-30-21-34-52.brainflow.csv',\n",
       " '2024-12-31-21-12-28.brainflow.csv',\n",
       " '2025-01-01-21-42-08.brainflow.csv',\n",
       " '2025-01-05-21-10-59.brainflow.csv',\n",
       " '2025-01-06-21-35-21.brainflow.csv',\n",
       " '2025-01-07-21-12-58.brainflow.csv',\n",
       " '2025-01-08-21-41-09.brainflow.csv',\n",
       " '2025-01-11-21-19-30.brainflow.csv',\n",
       " '2025-01-16-21-34-19.brainflow.csv',\n",
       " '2025-01-17-21-32-40.brainflow.csv',\n",
       " '2025-01-19-22-07-23.brainflow.csv',\n",
       " '2025-01-21-21-39-45.brainflow.csv',\n",
       " '2025-01-22-21-42-13.brainflow.csv',\n",
       " '2025-01-23-21-33-32.brainflow.csv',\n",
       " '2025-01-27-21-31-51.brainflow.csv',\n",
       " '2025-01-28-21-50-35.brainflow.csv',\n",
       " '2025-01-30-21-49-17.brainflow.csv',\n",
       " '2025-01-31-21-45-23.brainflow.csv',\n",
       " '2025-02-02-21-31-45.brainflow.csv',\n",
       " '2025-02-03-21-09-39.brainflow.csv',\n",
       " '2025-02-04-21-21-26.brainflow.csv',\n",
       " '2025-02-05-21-15-57.brainflow.csv',\n",
       " '2025-02-09-21-19-01.brainflow.csv',\n",
       " '2025-02-10-21-45-36.brainflow.csv',\n",
       " '2025-02-11-21-47-04.brainflow.csv',\n",
       " '2025-02-12-20-34-56.brainflow.csv',\n",
       " '2025-02-13-20-52-43.brainflow.csv',\n",
       " '2025-02-15-21-37-56.brainflow.csv',\n",
       " '2025-02-16-21-26-48.brainflow.csv',\n",
       " '2025-02-17-21-43-00.brainflow.csv',\n",
       " '2025-02-18-21-50-50.brainflow.csv',\n",
       " '2025-02-19-21-29-50.brainflow.csv',\n",
       " '2025-02-20-21-31-45.brainflow.csv',\n",
       " '2025-02-23-21-28-38.brainflow.csv',\n",
       " '2025-02-24-22-00-38.brainflow.csv',\n",
       " '2025-02-26-21-21-01.brainflow.csv',\n",
       " '2025-02-27-21-22-47.brainflow.csv',\n",
       " '2025-03-01-21-46-54.brainflow.csv',\n",
       " '2025-03-05-21-59-37.brainflow.csv',\n",
       " '2025-03-07-21-50-51.brainflow.csv',\n",
       " '2025-03-08-21-45-12.brainflow.csv',\n",
       " '2025-03-12-21-43-35.brainflow.csv',\n",
       " '2025-03-18-21-40-28.brainflow.csv',\n",
       " '2025-03-19-21-45-19.brainflow.csv',\n",
       " '2025-03-20-21-22-08.brainflow.csv',\n",
       " '2025-03-22-21-39-28.brainflow.csv',\n",
       " '2025-03-23-21-09-37.brainflow.csv',\n",
       " '2025-03-29-21-14-52.brainflow.csv',\n",
       " '2025-03-30-21-18-19.brainflow.csv',\n",
       " '2025-04-01-21-17-30.brainflow.csv',\n",
       " '2025-04-03-21-05-17.brainflow.csv',\n",
       " '2025-04-04-20-56-30.brainflow.csv',\n",
       " '2025-04-11-21-07-33.brainflow.csv',\n",
       " '2025-04-21-21-33-06.brainflow.csv']"
      ]
     },
     "execution_count": 4,
     "metadata": {},
     "output_type": "execute_result"
    }
   ],
   "source": [
    "remote_brainflow_files"
   ]
  },
  {
   "cell_type": "code",
   "execution_count": 5,
   "id": "5cb4213ad55fa5c8",
   "metadata": {
    "ExecuteTime": {
     "end_time": "2025-02-27T08:51:37.439606500Z",
     "start_time": "2025-02-16T07:36:22.023525Z"
    }
   },
   "outputs": [
    {
     "name": "stdout",
     "output_type": "stream",
     "text": [
      "Already have C:\\dev\\play\\brainwave-data\\08-07-2024--22-51-16\\08-07-2024--22-51-16.brainflow.csv.bz2: False\n",
      "Already have C:\\dev\\play\\brainwave-data\\09-07-2024--22-52-25\\09-07-2024--22-52-25.brainflow.csv.bz2: False\n",
      "Already have C:\\dev\\play\\brainwave-data\\2024-07-15-09-10-07\\2024-07-15-09-10-07.brainflow.csv.bz2: False\n",
      "Already have C:\\dev\\play\\brainwave-data\\2024-07-16-23-14-52\\2024-07-16-23-14-52.brainflow.csv.bz2: False\n",
      "Already have C:\\dev\\play\\brainwave-data\\2024-07-24-18-57-03\\2024-07-24-18-57-03.brainflow.csv.bz2: False\n",
      "Already have C:\\dev\\play\\brainwave-data\\2024-09-03-21-10-58\\2024-09-03-21-10-58.brainflow.csv.bz2: False\n",
      "Already have C:\\dev\\play\\brainwave-data\\2024-09-04-21-44-08\\2024-09-04-21-44-08.brainflow.csv.bz2: False\n",
      "Already have C:\\dev\\play\\brainwave-data\\2024-09-08-21-01-39\\2024-09-08-21-01-39.brainflow.csv.bz2: False\n",
      "Already have C:\\dev\\play\\brainwave-data\\2024-09-10-21-22-21\\2024-09-10-21-22-21.brainflow.csv.bz2: False\n",
      "Already have C:\\dev\\play\\brainwave-data\\2024-09-11-21-19-21\\2024-09-11-21-19-21.brainflow.csv.bz2: False\n",
      "Already have C:\\dev\\play\\brainwave-data\\2024-09-13-21-24-32\\2024-09-13-21-24-32.brainflow.csv.bz2: False\n",
      "Already have C:\\dev\\play\\brainwave-data\\2024-09-15-21-14-05\\2024-09-15-21-14-05.brainflow.csv.bz2: False\n",
      "Already have C:\\dev\\play\\brainwave-data\\2024-09-16-21-04-27\\2024-09-16-21-04-27.brainflow.csv.bz2: False\n",
      "Already have C:\\dev\\play\\brainwave-data\\2024-09-17-21-33-14\\2024-09-17-21-33-14.brainflow.csv.bz2: False\n",
      "Already have C:\\dev\\play\\brainwave-data\\2024-09-18-21-28-11\\2024-09-18-21-28-11.brainflow.csv.bz2: False\n",
      "Already have C:\\dev\\play\\brainwave-data\\2024-09-19-21-29-42\\2024-09-19-21-29-42.brainflow.csv.bz2: False\n",
      "Already have C:\\dev\\play\\brainwave-data\\2024-09-20-21-19-28\\2024-09-20-21-19-28.brainflow.csv.bz2: False\n",
      "Already have C:\\dev\\play\\brainwave-data\\2024-09-22-21-30-59\\2024-09-22-21-30-59.brainflow.csv.bz2: False\n",
      "Already have C:\\dev\\play\\brainwave-data\\2024-09-24-22-43-12\\2024-09-24-22-43-12.brainflow.csv.bz2: False\n",
      "Already have C:\\dev\\play\\brainwave-data\\2024-09-25-21-57-01\\2024-09-25-21-57-01.brainflow.csv.bz2: False\n",
      "Already have C:\\dev\\play\\brainwave-data\\2024-09-26-21-24-52\\2024-09-26-21-24-52.brainflow.csv.bz2: False\n",
      "Already have C:\\dev\\play\\brainwave-data\\2024-09-28-21-33-28\\2024-09-28-21-33-28.brainflow.csv.bz2: False\n",
      "Already have C:\\dev\\play\\brainwave-data\\2024-09-30-21-27-49\\2024-09-30-21-27-49.brainflow.csv.bz2: True\n",
      "Already have C:\\dev\\play\\brainwave-data\\2024-10-01-21-36-11\\2024-10-01-21-36-11.brainflow.csv.bz2: True\n",
      "Already have C:\\dev\\play\\brainwave-data\\2024-10-02-21-21-15\\2024-10-02-21-21-15.brainflow.csv.bz2: True\n",
      "Already have C:\\dev\\play\\brainwave-data\\2024-10-04-21-13-39\\2024-10-04-21-13-39.brainflow.csv.bz2: True\n",
      "Already have C:\\dev\\play\\brainwave-data\\2024-10-05-21-09-46\\2024-10-05-21-09-47.brainflow.csv.bz2: True\n",
      "Already have C:\\dev\\play\\brainwave-data\\2024-10-06-21-29-18\\2024-10-06-21-29-18.brainflow.csv.bz2: True\n",
      "Already have C:\\dev\\play\\brainwave-data\\2024-10-07-21-35-17\\2024-10-07-21-35-18.brainflow.csv.bz2: True\n",
      "Already have C:\\dev\\play\\brainwave-data\\2024-10-08-21-21-34\\2024-10-08-21-21-34.brainflow.csv.bz2: True\n",
      "Already have C:\\dev\\play\\brainwave-data\\2024-10-09-21-22-04\\2024-10-09-21-22-04.brainflow.csv.bz2: True\n",
      "Already have C:\\dev\\play\\brainwave-data\\2024-10-11-21-16-27\\2024-10-11-21-16-27.brainflow.csv.bz2: True\n",
      "Already have C:\\dev\\play\\brainwave-data\\2024-10-15-22-01-52\\2024-10-15-22-01-52.brainflow.csv.bz2: True\n",
      "Already have C:\\dev\\play\\brainwave-data\\2024-10-20-20-09-48\\2024-10-20-20-09-48.brainflow.csv.bz2: False\n",
      "Already have C:\\dev\\play\\brainwave-data\\2024-10-21-21-30-18\\2024-10-21-21-30-19.brainflow.csv.bz2: True\n",
      "Already have C:\\dev\\play\\brainwave-data\\2024-10-23-21-24-02\\2024-10-23-21-24-03.brainflow.csv.bz2: True\n",
      "Already have C:\\dev\\play\\brainwave-data\\2024-10-24-21-35-33\\2024-10-24-21-35-33.brainflow.csv.bz2: True\n",
      "Already have C:\\dev\\play\\brainwave-data\\2024-10-29-20-42-12\\2024-10-29-20-42-12.brainflow.csv.bz2: True\n",
      "Already have C:\\dev\\play\\brainwave-data\\2024-10-30-21-26-55\\2024-10-30-21-26-55.brainflow.csv.bz2: True\n",
      "Already have C:\\dev\\play\\brainwave-data\\2024-11-01-21-32-22\\2024-11-01-21-32-22.brainflow.csv.bz2: True\n",
      "Already have C:\\dev\\play\\brainwave-data\\2024-11-02-21-29-03\\2024-11-02-21-29-03.brainflow.csv.bz2: True\n",
      "Already have C:\\dev\\play\\brainwave-data\\2024-11-03-21-20-37\\2024-11-03-21-20-37.brainflow.csv.bz2: False\n",
      "Already have C:\\dev\\play\\brainwave-data\\2024-11-04-21-20-51\\2024-11-04-21-20-51.brainflow.csv.bz2: True\n",
      "Already have C:\\dev\\play\\brainwave-data\\2024-11-05-21-34-15\\2024-11-05-21-34-15.brainflow.csv.bz2: True\n",
      "Already have C:\\dev\\play\\brainwave-data\\2024-11-07-21-26-18\\2024-11-07-21-26-18.brainflow.csv.bz2: True\n",
      "Already have C:\\dev\\play\\brainwave-data\\2024-11-08-21-16-53\\2024-11-08-21-16-53.brainflow.csv.bz2: True\n",
      "Already have C:\\dev\\play\\brainwave-data\\2024-11-09-21-27-51\\2024-11-09-21-27-51.brainflow.csv.bz2: True\n",
      "Already have C:\\dev\\play\\brainwave-data\\2024-11-12-21-11-43\\2024-11-12-21-11-43.brainflow.csv.bz2: True\n",
      "Already have C:\\dev\\play\\brainwave-data\\2024-11-16-21-54-46\\2024-11-16-21-54-46.brainflow.csv.bz2: True\n",
      "Already have C:\\dev\\play\\brainwave-data\\2024-11-19-21-29-04\\2024-11-19-21-29-04.brainflow.csv.bz2: True\n",
      "Already have C:\\dev\\play\\brainwave-data\\2024-11-20-21-30-29\\2024-11-20-21-30-29.brainflow.csv.bz2: True\n",
      "Already have C:\\dev\\play\\brainwave-data\\2024-11-21-21-15-26\\2024-11-21-21-15-26.brainflow.csv.bz2: True\n",
      "Already have C:\\dev\\play\\brainwave-data\\2024-11-22-21-30-12\\2024-11-22-21-30-12.brainflow.csv.bz2: True\n",
      "Already have C:\\dev\\play\\brainwave-data\\2024-11-23-21-14-58\\2024-11-23-21-14-58.brainflow.csv.bz2: True\n",
      "Already have C:\\dev\\play\\brainwave-data\\2024-11-24-21-21-31\\2024-11-24-21-21-31.brainflow.csv.bz2: True\n",
      "Already have C:\\dev\\play\\brainwave-data\\2024-11-24-22-33-06\\2024-11-24-22-33-06.brainflow.csv.bz2: False\n",
      "Already have C:\\dev\\play\\brainwave-data\\2024-11-24-22-37-54\\2024-11-24-22-37-54.brainflow.csv.bz2: False\n",
      "Already have C:\\dev\\play\\brainwave-data\\2024-11-25-21-27-21\\2024-11-25-21-27-21.brainflow.csv.bz2: False\n",
      "Already have C:\\dev\\play\\brainwave-data\\2024-11-26-21-35-46\\2024-11-26-21-35-46.brainflow.csv.bz2: True\n",
      "Already have C:\\dev\\play\\brainwave-data\\2024-11-27-21-18-50\\2024-11-27-21-18-50.brainflow.csv.bz2: True\n",
      "Already have C:\\dev\\play\\brainwave-data\\2024-11-28-21-50-57\\2024-11-28-21-50-57.brainflow.csv.bz2: True\n",
      "Already have C:\\dev\\play\\brainwave-data\\2024-11-29-21-18-33\\2024-11-29-21-18-33.brainflow.csv.bz2: True\n",
      "Already have C:\\dev\\play\\brainwave-data\\2024-11-30-21-21-05\\2024-11-30-21-21-05.brainflow.csv.bz2: True\n",
      "Already have C:\\dev\\play\\brainwave-data\\2024-12-01-21-29-13\\2024-12-01-21-29-13.brainflow.csv.bz2: True\n",
      "Already have C:\\dev\\play\\brainwave-data\\2024-12-03-21-15-08\\2024-12-03-21-15-08.brainflow.csv.bz2: True\n",
      "Already have C:\\dev\\play\\brainwave-data\\2024-12-04-21-15-17\\2024-12-04-21-15-17.brainflow.csv.bz2: True\n",
      "Already have C:\\dev\\play\\brainwave-data\\2024-12-05-21-15-24\\2024-12-05-21-15-24.brainflow.csv.bz2: True\n",
      "Already have C:\\dev\\play\\brainwave-data\\2024-12-06-21-32-04\\2024-12-06-21-32-04.brainflow.csv.bz2: True\n",
      "Already have C:\\dev\\play\\brainwave-data\\2024-12-07-21-19-09\\2024-12-07-21-19-09.brainflow.csv.bz2: True\n",
      "Already have C:\\dev\\play\\brainwave-data\\2024-12-08-21-23-50\\2024-12-08-21-23-50.brainflow.csv.bz2: True\n",
      "Already have C:\\dev\\play\\brainwave-data\\2024-12-09-21-29-08\\2024-12-09-21-29-08.brainflow.csv.bz2: True\n",
      "Already have C:\\dev\\play\\brainwave-data\\2024-12-10-21-14-13\\2024-12-10-21-14-13.brainflow.csv.bz2: True\n",
      "Already have C:\\dev\\play\\brainwave-data\\2024-12-11-21-31-37\\2024-12-11-21-31-37.brainflow.csv.bz2: True\n",
      "Already have C:\\dev\\play\\brainwave-data\\2024-12-12-21-20-17\\2024-12-12-21-20-17.brainflow.csv.bz2: True\n",
      "Already have C:\\dev\\play\\brainwave-data\\2024-12-13-21-23-37\\2024-12-13-21-23-37.brainflow.csv.bz2: True\n",
      "Already have C:\\dev\\play\\brainwave-data\\2024-12-14-21-26-54\\2024-12-14-21-26-54.brainflow.csv.bz2: True\n",
      "Already have C:\\dev\\play\\brainwave-data\\2024-12-16-21-26-57\\2024-12-16-21-26-57.brainflow.csv.bz2: True\n",
      "Already have C:\\dev\\play\\brainwave-data\\2024-12-17-21-24-11\\2024-12-17-21-24-11.brainflow.csv.bz2: True\n",
      "Already have C:\\dev\\play\\brainwave-data\\2024-12-18-21-32-18\\2024-12-18-21-32-18.brainflow.csv.bz2: True\n",
      "Already have C:\\dev\\play\\brainwave-data\\2024-12-19-21-18-48\\2024-12-19-21-18-48.brainflow.csv.bz2: True\n",
      "Already have C:\\dev\\play\\brainwave-data\\2024-12-20-21-31-19\\2024-12-20-21-31-19.brainflow.csv.bz2: True\n",
      "Already have C:\\dev\\play\\brainwave-data\\2024-12-21-21-43-12\\2024-12-21-21-43-12.brainflow.csv.bz2: True\n",
      "Already have C:\\dev\\play\\brainwave-data\\2024-12-27-21-21-34\\2024-12-27-21-21-34.brainflow.csv.bz2: True\n",
      "Already have C:\\dev\\play\\brainwave-data\\2024-12-28-21-33-53\\2024-12-28-21-33-53.brainflow.csv.bz2: True\n",
      "Already have C:\\dev\\play\\brainwave-data\\2024-12-29-21-15-24\\2024-12-29-21-15-24.brainflow.csv.bz2: True\n",
      "Already have C:\\dev\\play\\brainwave-data\\2024-12-30-21-34-52\\2024-12-30-21-34-52.brainflow.csv.bz2: True\n",
      "Already have C:\\dev\\play\\brainwave-data\\2024-12-31-21-12-28\\2024-12-31-21-12-28.brainflow.csv.bz2: True\n",
      "Already have C:\\dev\\play\\brainwave-data\\2025-01-01-21-42-08\\2025-01-01-21-42-08.brainflow.csv.bz2: True\n",
      "Already have C:\\dev\\play\\brainwave-data\\2025-01-05-21-10-59\\2025-01-05-21-10-59.brainflow.csv.bz2: True\n",
      "Already have C:\\dev\\play\\brainwave-data\\2025-01-06-21-35-21\\2025-01-06-21-35-21.brainflow.csv.bz2: True\n",
      "Already have C:\\dev\\play\\brainwave-data\\2025-01-07-21-12-58\\2025-01-07-21-12-58.brainflow.csv.bz2: True\n",
      "Already have C:\\dev\\play\\brainwave-data\\2025-01-08-21-41-09\\2025-01-08-21-41-09.brainflow.csv.bz2: True\n",
      "Already have C:\\dev\\play\\brainwave-data\\2025-01-11-21-19-30\\2025-01-11-21-19-30.brainflow.csv.bz2: True\n",
      "Already have C:\\dev\\play\\brainwave-data\\2025-01-16-21-34-19\\2025-01-16-21-34-19.brainflow.csv.bz2: True\n",
      "Already have C:\\dev\\play\\brainwave-data\\2025-01-17-21-32-40\\2025-01-17-21-32-40.brainflow.csv.bz2: True\n",
      "Already have C:\\dev\\play\\brainwave-data\\2025-01-19-22-07-23\\2025-01-19-22-07-23.brainflow.csv.bz2: True\n",
      "Already have C:\\dev\\play\\brainwave-data\\2025-01-21-21-39-45\\2025-01-21-21-39-45.brainflow.csv.bz2: True\n",
      "Already have C:\\dev\\play\\brainwave-data\\2025-01-22-21-42-13\\2025-01-22-21-42-13.brainflow.csv.bz2: True\n",
      "Already have C:\\dev\\play\\brainwave-data\\2025-01-23-21-33-32\\2025-01-23-21-33-32.brainflow.csv.bz2: True\n",
      "Already have C:\\dev\\play\\brainwave-data\\2025-01-27-21-31-51\\2025-01-27-21-31-51.brainflow.csv.bz2: True\n",
      "Already have C:\\dev\\play\\brainwave-data\\2025-01-28-21-50-35\\2025-01-28-21-50-35.brainflow.csv.bz2: True\n",
      "Already have C:\\dev\\play\\brainwave-data\\2025-01-30-21-49-17\\2025-01-30-21-49-17.brainflow.csv.bz2: True\n",
      "Already have C:\\dev\\play\\brainwave-data\\2025-01-31-21-45-23\\2025-01-31-21-45-23.brainflow.csv.bz2: True\n",
      "Already have C:\\dev\\play\\brainwave-data\\2025-02-02-21-31-45\\2025-02-02-21-31-45.brainflow.csv.bz2: True\n",
      "Already have C:\\dev\\play\\brainwave-data\\2025-02-03-21-09-39\\2025-02-03-21-09-39.brainflow.csv.bz2: True\n",
      "Already have C:\\dev\\play\\brainwave-data\\2025-02-04-21-21-26\\2025-02-04-21-21-26.brainflow.csv.bz2: True\n",
      "Already have C:\\dev\\play\\brainwave-data\\2025-02-05-21-15-57\\2025-02-05-21-15-57.brainflow.csv.bz2: True\n",
      "Already have C:\\dev\\play\\brainwave-data\\2025-02-09-21-19-01\\2025-02-09-21-19-01.brainflow.csv.bz2: True\n",
      "Already have C:\\dev\\play\\brainwave-data\\2025-02-10-21-45-36\\2025-02-10-21-45-36.brainflow.csv.bz2: True\n",
      "Already have C:\\dev\\play\\brainwave-data\\2025-02-11-21-47-04\\2025-02-11-21-47-04.brainflow.csv.bz2: True\n",
      "Already have C:\\dev\\play\\brainwave-data\\2025-02-12-20-34-56\\2025-02-12-20-34-56.brainflow.csv.bz2: True\n",
      "Already have C:\\dev\\play\\brainwave-data\\2025-02-13-20-52-43\\2025-02-13-20-52-43.brainflow.csv.bz2: True\n",
      "Already have C:\\dev\\play\\brainwave-data\\2025-02-15-21-37-56\\2025-02-15-21-37-56.brainflow.csv.bz2: True\n",
      "Already have C:\\dev\\play\\brainwave-data\\2025-02-16-21-26-48\\2025-02-16-21-26-48.brainflow.csv.bz2: True\n",
      "Already have C:\\dev\\play\\brainwave-data\\2025-02-17-21-43-00\\2025-02-17-21-43-00.brainflow.csv.bz2: True\n",
      "Already have C:\\dev\\play\\brainwave-data\\2025-02-18-21-50-50\\2025-02-18-21-50-50.brainflow.csv.bz2: True\n",
      "Already have C:\\dev\\play\\brainwave-data\\2025-02-19-21-29-50\\2025-02-19-21-29-50.brainflow.csv.bz2: True\n",
      "Already have C:\\dev\\play\\brainwave-data\\2025-02-20-21-31-45\\2025-02-20-21-31-45.brainflow.csv.bz2: True\n",
      "Already have C:\\dev\\play\\brainwave-data\\2025-02-23-21-28-38\\2025-02-23-21-28-38.brainflow.csv.bz2: True\n",
      "Already have C:\\dev\\play\\brainwave-data\\2025-02-24-22-00-38\\2025-02-24-22-00-38.brainflow.csv.bz2: True\n",
      "Already have C:\\dev\\play\\brainwave-data\\2025-02-26-21-21-01\\2025-02-26-21-21-01.brainflow.csv.bz2: True\n",
      "Already have C:\\dev\\play\\brainwave-data\\2025-02-27-21-22-47\\2025-02-27-21-22-47.brainflow.csv.bz2: True\n",
      "Already have C:\\dev\\play\\brainwave-data\\2025-03-01-21-46-54\\2025-03-01-21-46-54.brainflow.csv.bz2: True\n",
      "Already have C:\\dev\\play\\brainwave-data\\2025-03-05-21-59-37\\2025-03-05-21-59-37.brainflow.csv.bz2: True\n",
      "Already have C:\\dev\\play\\brainwave-data\\2025-03-07-21-50-51\\2025-03-07-21-50-51.brainflow.csv.bz2: True\n",
      "Already have C:\\dev\\play\\brainwave-data\\2025-03-08-21-45-12\\2025-03-08-21-45-12.brainflow.csv.bz2: True\n",
      "Already have C:\\dev\\play\\brainwave-data\\2025-03-12-21-43-35\\2025-03-12-21-43-35.brainflow.csv.bz2: True\n",
      "Already have C:\\dev\\play\\brainwave-data\\2025-03-18-21-40-28\\2025-03-18-21-40-28.brainflow.csv.bz2: True\n",
      "Already have C:\\dev\\play\\brainwave-data\\2025-03-19-21-45-19\\2025-03-19-21-45-19.brainflow.csv.bz2: True\n",
      "Already have C:\\dev\\play\\brainwave-data\\2025-03-20-21-22-08\\2025-03-20-21-22-08.brainflow.csv.bz2: True\n",
      "Already have C:\\dev\\play\\brainwave-data\\2025-03-22-21-39-28\\2025-03-22-21-39-28.brainflow.csv.bz2: True\n",
      "Already have C:\\dev\\play\\brainwave-data\\2025-03-23-21-09-37\\2025-03-23-21-09-37.brainflow.csv.bz2: True\n",
      "Already have C:\\dev\\play\\brainwave-data\\2025-03-29-21-14-52\\2025-03-29-21-14-52.brainflow.csv.bz2: True\n",
      "Already have C:\\dev\\play\\brainwave-data\\2025-03-30-21-18-19\\2025-03-30-21-18-19.brainflow.csv.bz2: True\n",
      "Already have C:\\dev\\play\\brainwave-data\\2025-04-01-21-17-30\\2025-04-01-21-17-30.brainflow.csv.bz2: True\n",
      "Already have C:\\dev\\play\\brainwave-data\\2025-04-03-21-05-17\\2025-04-03-21-05-17.brainflow.csv.bz2: True\n",
      "Already have C:\\dev\\play\\brainwave-data\\2025-04-04-20-56-30\\2025-04-04-20-56-30.brainflow.csv.bz2: True\n",
      "Already have C:\\dev\\play\\brainwave-data\\2025-04-11-21-07-33\\2025-04-11-21-07-33.brainflow.csv.bz2: True\n",
      "Already have C:\\dev\\play\\brainwave-data\\nonnight\\2024-07-15-09-10-07\\2024-07-15-09-10-07.brainflow.csv.bz2: False\n",
      "Already have C:\\dev\\play\\brainwave-data\\nonnight\\2024-07-16-07-17-07\\2024-07-16-07-17-07.brainflow.csv.bz2: False\n",
      "Already have C:\\dev\\play\\brainwave-data\\nonnight\\2024-07-17-08-17-29\\2024-07-17-08-17-29.brainflow.csv.bz2: False\n",
      "Already have C:\\dev\\play\\brainwave-data\\nonnight\\2024-07-18-09-10-29\\2024-07-18-09-10-29.brainflow.csv.bz2: False\n",
      "Already have C:\\dev\\play\\brainwave-data\\nonnight\\2024-07-22-09-14-52\\2024-07-22-09-14-52.brainflow.csv.bz2: False\n",
      "Already have C:\\dev\\play\\brainwave-data\\nonnight\\2024-07-27-09-40-07\\2024-07-27-09-40-07.brainflow.csv.bz2: False\n",
      "Already have C:\\dev\\play\\brainwave-data\\nonnight\\2024-07-28-22-29-49\\2024-07-28-22-29-49.brainflow.csv.bz2: False\n",
      "Already have C:\\dev\\play\\brainwave-data\\nonnight\\2024-07-29-08-39-51\\2024-07-29-08-39-51.brainflow.csv.bz2: False\n",
      "Already have C:\\dev\\play\\brainwave-data\\nonnight\\2024-07-30-20-52-24\\2024-07-30-20-52-24.brainflow.csv.bz2: False\n",
      "Already have C:\\dev\\play\\brainwave-data\\nonnight\\2024-08-01-17-03-14\\2024-08-01-17-03-14.brainflow.csv.bz2: False\n",
      "Already have C:\\dev\\play\\brainwave-data\\nonnight\\2024-08-02-10-27-18\\2024-08-02-10-27-18.brainflow.csv.bz2: False\n",
      "Already have C:\\dev\\play\\brainwave-data\\nonnight\\2024-08-04-08-15-28\\2024-08-04-08-15-28.brainflow.csv.bz2: False\n"
     ]
    }
   ],
   "source": [
    "files_to_copy = remote_brainflow_files.copy()\n",
    "\n",
    "\n",
    "for root, dirs, files in os.walk(input_dir):\n",
    "    #for idx, file_name in enumerate(tqdm(dirs, desc=\"Converting Brainflow to FIF\")):\n",
    "    for idx, file_name in enumerate(files):\n",
    "        full_input_filename = os.path.join(root, file_name)\n",
    "        if \".brainflow.csv.bz2\" in full_input_filename:\n",
    "            #print(f\"Processing {full_input_filename}\")\n",
    "            file_name_without_bz2 = file_name.removesuffix(\".bz2\")\n",
    "            already_have = file_name_without_bz2 in remote_brainflow_files\n",
    "            print(f\"Already have {full_input_filename}: {already_have}\")\n",
    "            if already_have:\n",
    "                files_to_copy.remove(file_name_without_bz2)\n",
    "\n"
   ]
  },
  {
   "cell_type": "code",
   "execution_count": 6,
   "id": "423cd6c357456f29",
   "metadata": {
    "ExecuteTime": {
     "end_time": "2025-02-27T08:51:37.441614900Z",
     "start_time": "2025-02-16T07:36:22.079570Z"
    }
   },
   "outputs": [
    {
     "data": {
      "text/plain": [
       "['2025-04-21-21-33-06.brainflow.csv']"
      ]
     },
     "execution_count": 6,
     "metadata": {},
     "output_type": "execute_result"
    }
   ],
   "source": [
    "files_to_copy"
   ]
  },
  {
   "cell_type": "code",
   "execution_count": 7,
   "id": "cb454f01364aee73",
   "metadata": {
    "ExecuteTime": {
     "end_time": "2025-02-27T08:51:37.443055900Z",
     "start_time": "2025-02-16T07:36:22.106853Z"
    }
   },
   "outputs": [
    {
     "name": "stderr",
     "output_type": "stream",
     "text": [
      "2025-04-22 07:07:39,683 - INFO - [chan 1] Opened sftp connection (server version 3)\n"
     ]
    },
    {
     "name": "stdout",
     "output_type": "stream",
     "text": [
      "2025-04-22 07:07:39.684680 Copying Brainflow backup remote:/home/graham/dev/Brainwave-Data/2025-04-21-21-33-06.brainflow.csv to C:\\dev\\play\\brainwave-data\\2025-04-21-21-33-06.brainflow.csv\n"
     ]
    },
    {
     "name": "stderr",
     "output_type": "stream",
     "text": [
      "2025-04-21-21-33-06.brainflow.csv: 100%|##########| 1.96G/1.96G [00:25<00:00, 75.9MB/s]\n",
      "2025-04-22 07:08:05,535 - INFO - [chan 1] sftp session closed.\n"
     ]
    }
   ],
   "source": [
    "import os\n",
    "import bz2\n",
    "from tqdm import tqdm\n",
    "\n",
    "sftp = ssh.open_sftp()\n",
    "for file in files_to_copy:\n",
    "    remote_file_path = remote_dir + \"/\" + file\n",
    "    local_file_path = os.path.join(input_dir, file)\n",
    "    log(f\"Copying Brainflow backup remote:{remote_file_path} to {local_file_path}\")\n",
    "\n",
    "    # Get the file size\n",
    "    remote_file_size = sftp.stat(remote_file_path).st_size\n",
    "\n",
    "    with tqdm(total=remote_file_size, unit='B', unit_scale=True, desc=file, ascii=True) as pbar:\n",
    "        local_file_path = os.path.join(input_dir, file)\n",
    "    \n",
    "        def callback(transferred_so_far, total_to_transfer):\n",
    "            pbar.update(transferred_so_far - pbar.n)\n",
    "    \n",
    "        # Create a file-like object that writes to the local file\n",
    "        with open(local_file_path, 'wb') as local_file:\n",
    "            sftp.getfo(remote_file_path, local_file, callback=callback)\n",
    "sftp.close()\n",
    "ssh.close()\n"
   ]
  },
  {
   "cell_type": "markdown",
   "id": "6558e15223cc8efc",
   "metadata": {},
   "source": [
    "## Convert Brainflow files to FIF"
   ]
  },
  {
   "cell_type": "code",
   "execution_count": 8,
   "id": "e93d35cf861b09fa",
   "metadata": {
    "ExecuteTime": {
     "end_time": "2025-02-27T08:51:37.445268100Z",
     "start_time": "2025-02-16T07:36:22.607468Z"
    }
   },
   "outputs": [],
   "source": [
    "def get_brainflow_compressed_filename(full_input_filename: str) -> str:\n",
    "    full_output_dirname = webserver.output_dirname(full_input_filename)\n",
    "    compressed_full_output_filename = str(os.path.join(full_output_dirname, os.path.basename(full_input_filename))) + '.bz2'\n",
    "    return compressed_full_output_filename"
   ]
  },
  {
   "cell_type": "code",
   "execution_count": 16,
   "id": "21a84723f63a57a8",
   "metadata": {
    "ExecuteTime": {
     "end_time": "2025-02-27T08:51:37.446592500Z",
     "start_time": "2025-02-16T07:36:22.627508Z"
    }
   },
   "outputs": [
    {
     "name": "stdout",
     "output_type": "stream",
     "text": [
      "2025-04-22 07:25:41.561056 Skipping file C:\\dev\\play\\brainwave-data\\2024-12-28-21-33-53.brainflow.csv as C:\\dev\\play\\brainwave-data\\2024-12-28-21-33-53\\raw.fif and C:\\dev\\play\\brainwave-data\\2024-12-28-21-33-53\\2024-12-28-21-33-53.brainflow.csv.bz2 already exist\n",
      "2025-04-22 07:25:41.561364 Skipping file C:\\dev\\play\\brainwave-data\\2024-12-29-21-15-24.brainflow.csv as C:\\dev\\play\\brainwave-data\\2024-12-29-21-15-24\\raw.fif and C:\\dev\\play\\brainwave-data\\2024-12-29-21-15-24\\2024-12-29-21-15-24.brainflow.csv.bz2 already exist\n",
      "2025-04-22 07:25:41.561461 Skipping file C:\\dev\\play\\brainwave-data\\2024-12-30-21-34-52.brainflow.csv as C:\\dev\\play\\brainwave-data\\2024-12-30-21-34-52\\raw.fif and C:\\dev\\play\\brainwave-data\\2024-12-30-21-34-52\\2024-12-30-21-34-52.brainflow.csv.bz2 already exist\n",
      "2025-04-22 07:25:41.561538 Skipping file C:\\dev\\play\\brainwave-data\\2024-12-31-21-12-28.brainflow.csv as C:\\dev\\play\\brainwave-data\\2024-12-31-21-12-28\\raw.fif and C:\\dev\\play\\brainwave-data\\2024-12-31-21-12-28\\2024-12-31-21-12-28.brainflow.csv.bz2 already exist\n",
      "2025-04-22 07:25:41.561605 Skipping file C:\\dev\\play\\brainwave-data\\2025-01-01-21-42-08.brainflow.csv as C:\\dev\\play\\brainwave-data\\2025-01-01-21-42-08\\raw.fif and C:\\dev\\play\\brainwave-data\\2025-01-01-21-42-08\\2025-01-01-21-42-08.brainflow.csv.bz2 already exist\n",
      "2025-04-22 07:25:41.561672 Skipping file C:\\dev\\play\\brainwave-data\\2025-01-05-21-10-59.brainflow.csv as C:\\dev\\play\\brainwave-data\\2025-01-05-21-10-59\\raw.fif and C:\\dev\\play\\brainwave-data\\2025-01-05-21-10-59\\2025-01-05-21-10-59.brainflow.csv.bz2 already exist\n",
      "2025-04-22 07:25:41.561735 Skipping file C:\\dev\\play\\brainwave-data\\2025-01-06-21-35-21.brainflow.csv as C:\\dev\\play\\brainwave-data\\2025-01-06-21-35-21\\raw.fif and C:\\dev\\play\\brainwave-data\\2025-01-06-21-35-21\\2025-01-06-21-35-21.brainflow.csv.bz2 already exist\n",
      "2025-04-22 07:25:41.561799 Skipping file C:\\dev\\play\\brainwave-data\\2025-01-07-21-12-58.brainflow.csv as C:\\dev\\play\\brainwave-data\\2025-01-07-21-12-58\\raw.fif and C:\\dev\\play\\brainwave-data\\2025-01-07-21-12-58\\2025-01-07-21-12-58.brainflow.csv.bz2 already exist\n",
      "2025-04-22 07:25:41.561867 Skipping file C:\\dev\\play\\brainwave-data\\2025-01-08-21-41-09.brainflow.csv as C:\\dev\\play\\brainwave-data\\2025-01-08-21-41-09\\raw.fif and C:\\dev\\play\\brainwave-data\\2025-01-08-21-41-09\\2025-01-08-21-41-09.brainflow.csv.bz2 already exist\n",
      "2025-04-22 07:25:41.561930 Skipping file C:\\dev\\play\\brainwave-data\\2025-01-11-21-19-30.brainflow.csv as C:\\dev\\play\\brainwave-data\\2025-01-11-21-19-30\\raw.fif and C:\\dev\\play\\brainwave-data\\2025-01-11-21-19-30\\2025-01-11-21-19-30.brainflow.csv.bz2 already exist\n",
      "2025-04-22 07:25:41.561999 Skipping file C:\\dev\\play\\brainwave-data\\2025-01-16-21-34-19.brainflow.csv as C:\\dev\\play\\brainwave-data\\2025-01-16-21-34-19\\raw.fif and C:\\dev\\play\\brainwave-data\\2025-01-16-21-34-19\\2025-01-16-21-34-19.brainflow.csv.bz2 already exist\n",
      "2025-04-22 07:25:41.562062 Skipping file C:\\dev\\play\\brainwave-data\\2025-01-17-21-32-40.brainflow.csv as C:\\dev\\play\\brainwave-data\\2025-01-17-21-32-40\\raw.fif and C:\\dev\\play\\brainwave-data\\2025-01-17-21-32-40\\2025-01-17-21-32-40.brainflow.csv.bz2 already exist\n",
      "2025-04-22 07:25:41.562132 Skipping file C:\\dev\\play\\brainwave-data\\2025-01-19-22-07-23.brainflow.csv as C:\\dev\\play\\brainwave-data\\2025-01-19-22-07-23\\raw.fif and C:\\dev\\play\\brainwave-data\\2025-01-19-22-07-23\\2025-01-19-22-07-23.brainflow.csv.bz2 already exist\n",
      "2025-04-22 07:25:41.562200 Skipping file C:\\dev\\play\\brainwave-data\\2025-01-21-21-39-45.brainflow.csv as C:\\dev\\play\\brainwave-data\\2025-01-21-21-39-45\\raw.fif and C:\\dev\\play\\brainwave-data\\2025-01-21-21-39-45\\2025-01-21-21-39-45.brainflow.csv.bz2 already exist\n",
      "2025-04-22 07:25:41.562267 Skipping file C:\\dev\\play\\brainwave-data\\2025-01-22-21-42-13.brainflow.csv as C:\\dev\\play\\brainwave-data\\2025-01-22-21-42-13\\raw.fif and C:\\dev\\play\\brainwave-data\\2025-01-22-21-42-13\\2025-01-22-21-42-13.brainflow.csv.bz2 already exist\n",
      "2025-04-22 07:25:41.562332 Skipping file C:\\dev\\play\\brainwave-data\\2025-01-23-21-33-32.brainflow.csv as C:\\dev\\play\\brainwave-data\\2025-01-23-21-33-32\\raw.fif and C:\\dev\\play\\brainwave-data\\2025-01-23-21-33-32\\2025-01-23-21-33-32.brainflow.csv.bz2 already exist\n",
      "2025-04-22 07:25:41.562398 Skipping file C:\\dev\\play\\brainwave-data\\2025-01-27-21-31-51.brainflow.csv as C:\\dev\\play\\brainwave-data\\2025-01-27-21-31-51\\raw.fif and C:\\dev\\play\\brainwave-data\\2025-01-27-21-31-51\\2025-01-27-21-31-51.brainflow.csv.bz2 already exist\n",
      "2025-04-22 07:25:41.562464 Skipping file C:\\dev\\play\\brainwave-data\\2025-01-28-21-50-35.brainflow.csv as C:\\dev\\play\\brainwave-data\\2025-01-28-21-50-35\\raw.fif and C:\\dev\\play\\brainwave-data\\2025-01-28-21-50-35\\2025-01-28-21-50-35.brainflow.csv.bz2 already exist\n",
      "2025-04-22 07:25:41.562540 Skipping file C:\\dev\\play\\brainwave-data\\2025-01-30-21-49-17.brainflow.csv as C:\\dev\\play\\brainwave-data\\2025-01-30-21-49-17\\raw.fif and C:\\dev\\play\\brainwave-data\\2025-01-30-21-49-17\\2025-01-30-21-49-17.brainflow.csv.bz2 already exist\n",
      "2025-04-22 07:25:41.562610 Skipping file C:\\dev\\play\\brainwave-data\\2025-01-31-21-45-23.brainflow.csv as C:\\dev\\play\\brainwave-data\\2025-01-31-21-45-23\\raw.fif and C:\\dev\\play\\brainwave-data\\2025-01-31-21-45-23\\2025-01-31-21-45-23.brainflow.csv.bz2 already exist\n",
      "2025-04-22 07:25:41.562675 Skipping file C:\\dev\\play\\brainwave-data\\2025-02-02-21-31-45.brainflow.csv as C:\\dev\\play\\brainwave-data\\2025-02-02-21-31-45\\raw.fif and C:\\dev\\play\\brainwave-data\\2025-02-02-21-31-45\\2025-02-02-21-31-45.brainflow.csv.bz2 already exist\n",
      "2025-04-22 07:25:41.562742 Skipping file C:\\dev\\play\\brainwave-data\\2025-02-03-21-09-39.brainflow.csv as C:\\dev\\play\\brainwave-data\\2025-02-03-21-09-39\\raw.fif and C:\\dev\\play\\brainwave-data\\2025-02-03-21-09-39\\2025-02-03-21-09-39.brainflow.csv.bz2 already exist\n",
      "2025-04-22 07:25:41.562804 Skipping file C:\\dev\\play\\brainwave-data\\2025-02-04-21-21-26.brainflow.csv as C:\\dev\\play\\brainwave-data\\2025-02-04-21-21-26\\raw.fif and C:\\dev\\play\\brainwave-data\\2025-02-04-21-21-26\\2025-02-04-21-21-26.brainflow.csv.bz2 already exist\n",
      "2025-04-22 07:25:41.562868 Skipping file C:\\dev\\play\\brainwave-data\\2025-02-05-21-15-57.brainflow.csv as C:\\dev\\play\\brainwave-data\\2025-02-05-21-15-57\\raw.fif and C:\\dev\\play\\brainwave-data\\2025-02-05-21-15-57\\2025-02-05-21-15-57.brainflow.csv.bz2 already exist\n",
      "2025-04-22 07:25:41.562930 Skipping file C:\\dev\\play\\brainwave-data\\2025-02-09-21-19-01.brainflow.csv as C:\\dev\\play\\brainwave-data\\2025-02-09-21-19-01\\raw.fif and C:\\dev\\play\\brainwave-data\\2025-02-09-21-19-01\\2025-02-09-21-19-01.brainflow.csv.bz2 already exist\n",
      "2025-04-22 07:25:41.562995 Skipping file C:\\dev\\play\\brainwave-data\\2025-02-10-21-45-36.brainflow.csv as C:\\dev\\play\\brainwave-data\\2025-02-10-21-45-36\\raw.fif and C:\\dev\\play\\brainwave-data\\2025-02-10-21-45-36\\2025-02-10-21-45-36.brainflow.csv.bz2 already exist\n",
      "2025-04-22 07:25:41.563061 Skipping file C:\\dev\\play\\brainwave-data\\2025-02-11-21-47-04.brainflow.csv as C:\\dev\\play\\brainwave-data\\2025-02-11-21-47-04\\raw.fif and C:\\dev\\play\\brainwave-data\\2025-02-11-21-47-04\\2025-02-11-21-47-04.brainflow.csv.bz2 already exist\n",
      "2025-04-22 07:25:41.563129 Skipping file C:\\dev\\play\\brainwave-data\\2025-02-12-20-34-56.brainflow.csv as C:\\dev\\play\\brainwave-data\\2025-02-12-20-34-56\\raw.fif and C:\\dev\\play\\brainwave-data\\2025-02-12-20-34-56\\2025-02-12-20-34-56.brainflow.csv.bz2 already exist\n",
      "2025-04-22 07:25:41.563193 Skipping file C:\\dev\\play\\brainwave-data\\2025-02-13-20-52-43.brainflow.csv as C:\\dev\\play\\brainwave-data\\2025-02-13-20-52-43\\raw.fif and C:\\dev\\play\\brainwave-data\\2025-02-13-20-52-43\\2025-02-13-20-52-43.brainflow.csv.bz2 already exist\n",
      "2025-04-22 07:25:41.563267 Skipping file C:\\dev\\play\\brainwave-data\\2025-02-15-21-37-56.brainflow.csv as C:\\dev\\play\\brainwave-data\\2025-02-15-21-37-56\\raw.fif and C:\\dev\\play\\brainwave-data\\2025-02-15-21-37-56\\2025-02-15-21-37-56.brainflow.csv.bz2 already exist\n",
      "2025-04-22 07:25:41.563338 Skipping file C:\\dev\\play\\brainwave-data\\2025-02-16-21-26-48.brainflow.csv as C:\\dev\\play\\brainwave-data\\2025-02-16-21-26-48\\raw.fif and C:\\dev\\play\\brainwave-data\\2025-02-16-21-26-48\\2025-02-16-21-26-48.brainflow.csv.bz2 already exist\n",
      "2025-04-22 07:25:41.563402 Skipping file C:\\dev\\play\\brainwave-data\\2025-02-17-21-43-00.brainflow.csv as C:\\dev\\play\\brainwave-data\\2025-02-17-21-43-00\\raw.fif and C:\\dev\\play\\brainwave-data\\2025-02-17-21-43-00\\2025-02-17-21-43-00.brainflow.csv.bz2 already exist\n",
      "2025-04-22 07:25:41.563468 Skipping file C:\\dev\\play\\brainwave-data\\2025-02-18-21-50-50.brainflow.csv as C:\\dev\\play\\brainwave-data\\2025-02-18-21-50-50\\raw.fif and C:\\dev\\play\\brainwave-data\\2025-02-18-21-50-50\\2025-02-18-21-50-50.brainflow.csv.bz2 already exist\n",
      "2025-04-22 07:25:41.563533 Skipping file C:\\dev\\play\\brainwave-data\\2025-02-19-21-29-50.brainflow.csv as C:\\dev\\play\\brainwave-data\\2025-02-19-21-29-50\\raw.fif and C:\\dev\\play\\brainwave-data\\2025-02-19-21-29-50\\2025-02-19-21-29-50.brainflow.csv.bz2 already exist\n",
      "2025-04-22 07:25:41.563599 Skipping file C:\\dev\\play\\brainwave-data\\2025-02-20-21-31-45.brainflow.csv as C:\\dev\\play\\brainwave-data\\2025-02-20-21-31-45\\raw.fif and C:\\dev\\play\\brainwave-data\\2025-02-20-21-31-45\\2025-02-20-21-31-45.brainflow.csv.bz2 already exist\n",
      "2025-04-22 07:25:41.563664 Skipping file C:\\dev\\play\\brainwave-data\\2025-02-23-21-28-38.brainflow.csv as C:\\dev\\play\\brainwave-data\\2025-02-23-21-28-38\\raw.fif and C:\\dev\\play\\brainwave-data\\2025-02-23-21-28-38\\2025-02-23-21-28-38.brainflow.csv.bz2 already exist\n",
      "2025-04-22 07:25:41.563729 Skipping file C:\\dev\\play\\brainwave-data\\2025-02-24-22-00-38.brainflow.csv as C:\\dev\\play\\brainwave-data\\2025-02-24-22-00-38\\raw.fif and C:\\dev\\play\\brainwave-data\\2025-02-24-22-00-38\\2025-02-24-22-00-38.brainflow.csv.bz2 already exist\n",
      "2025-04-22 07:25:41.563793 Skipping file C:\\dev\\play\\brainwave-data\\2025-02-26-21-21-01.brainflow.csv as C:\\dev\\play\\brainwave-data\\2025-02-26-21-21-01\\raw.fif and C:\\dev\\play\\brainwave-data\\2025-02-26-21-21-01\\2025-02-26-21-21-01.brainflow.csv.bz2 already exist\n",
      "2025-04-22 07:25:41.563860 Skipping file C:\\dev\\play\\brainwave-data\\2025-02-27-21-22-47.brainflow.csv as C:\\dev\\play\\brainwave-data\\2025-02-27-21-22-47\\raw.fif and C:\\dev\\play\\brainwave-data\\2025-02-27-21-22-47\\2025-02-27-21-22-47.brainflow.csv.bz2 already exist\n",
      "2025-04-22 07:25:41.563933 Skipping file C:\\dev\\play\\brainwave-data\\2025-03-01-21-46-54.brainflow.csv as C:\\dev\\play\\brainwave-data\\2025-03-01-21-46-54\\raw.fif and C:\\dev\\play\\brainwave-data\\2025-03-01-21-46-54\\2025-03-01-21-46-54.brainflow.csv.bz2 already exist\n",
      "2025-04-22 07:25:41.564016 Skipping file C:\\dev\\play\\brainwave-data\\2025-03-05-21-59-37.brainflow.csv as C:\\dev\\play\\brainwave-data\\2025-03-05-21-59-37\\raw.fif and C:\\dev\\play\\brainwave-data\\2025-03-05-21-59-37\\2025-03-05-21-59-37.brainflow.csv.bz2 already exist\n",
      "2025-04-22 07:25:41.564089 Skipping file C:\\dev\\play\\brainwave-data\\2025-03-07-21-50-51.brainflow.csv as C:\\dev\\play\\brainwave-data\\2025-03-07-21-50-51\\raw.fif and C:\\dev\\play\\brainwave-data\\2025-03-07-21-50-51\\2025-03-07-21-50-51.brainflow.csv.bz2 already exist\n",
      "2025-04-22 07:25:41.564158 Skipping file C:\\dev\\play\\brainwave-data\\2025-03-08-21-45-12.brainflow.csv as C:\\dev\\play\\brainwave-data\\2025-03-08-21-45-12\\raw.fif and C:\\dev\\play\\brainwave-data\\2025-03-08-21-45-12\\2025-03-08-21-45-12.brainflow.csv.bz2 already exist\n",
      "2025-04-22 07:25:41.564228 Skipping file C:\\dev\\play\\brainwave-data\\2025-03-12-21-43-35.brainflow.csv as C:\\dev\\play\\brainwave-data\\2025-03-12-21-43-35\\raw.fif and C:\\dev\\play\\brainwave-data\\2025-03-12-21-43-35\\2025-03-12-21-43-35.brainflow.csv.bz2 already exist\n",
      "2025-04-22 07:25:41.564294 Skipping file C:\\dev\\play\\brainwave-data\\2025-03-18-21-40-28.brainflow.csv as C:\\dev\\play\\brainwave-data\\2025-03-18-21-40-28\\raw.fif and C:\\dev\\play\\brainwave-data\\2025-03-18-21-40-28\\2025-03-18-21-40-28.brainflow.csv.bz2 already exist\n",
      "2025-04-22 07:25:41.564364 Skipping file C:\\dev\\play\\brainwave-data\\2025-03-19-21-45-19.brainflow.csv as C:\\dev\\play\\brainwave-data\\2025-03-19-21-45-19\\raw.fif and C:\\dev\\play\\brainwave-data\\2025-03-19-21-45-19\\2025-03-19-21-45-19.brainflow.csv.bz2 already exist\n",
      "2025-04-22 07:25:41.564433 Skipping file C:\\dev\\play\\brainwave-data\\2025-03-20-21-22-08.brainflow.csv as C:\\dev\\play\\brainwave-data\\2025-03-20-21-22-08\\raw.fif and C:\\dev\\play\\brainwave-data\\2025-03-20-21-22-08\\2025-03-20-21-22-08.brainflow.csv.bz2 already exist\n",
      "2025-04-22 07:25:41.564527 Skipping file C:\\dev\\play\\brainwave-data\\2025-03-22-21-39-28.brainflow.csv as C:\\dev\\play\\brainwave-data\\2025-03-22-21-39-28\\raw.fif and C:\\dev\\play\\brainwave-data\\2025-03-22-21-39-28\\2025-03-22-21-39-28.brainflow.csv.bz2 already exist\n",
      "2025-04-22 07:25:41.564607 Skipping file C:\\dev\\play\\brainwave-data\\2025-03-23-21-09-37.brainflow.csv as C:\\dev\\play\\brainwave-data\\2025-03-23-21-09-37\\raw.fif and C:\\dev\\play\\brainwave-data\\2025-03-23-21-09-37\\2025-03-23-21-09-37.brainflow.csv.bz2 already exist\n",
      "2025-04-22 07:25:41.564674 Skipping file C:\\dev\\play\\brainwave-data\\2025-03-29-21-14-52.brainflow.csv as C:\\dev\\play\\brainwave-data\\2025-03-29-21-14-52\\raw.fif and C:\\dev\\play\\brainwave-data\\2025-03-29-21-14-52\\2025-03-29-21-14-52.brainflow.csv.bz2 already exist\n",
      "2025-04-22 07:25:41.564740 Skipping file C:\\dev\\play\\brainwave-data\\2025-03-30-21-18-19.brainflow.csv as C:\\dev\\play\\brainwave-data\\2025-03-30-21-18-19\\raw.fif and C:\\dev\\play\\brainwave-data\\2025-03-30-21-18-19\\2025-03-30-21-18-19.brainflow.csv.bz2 already exist\n",
      "2025-04-22 07:25:41.564809 Skipping file C:\\dev\\play\\brainwave-data\\2025-04-01-21-17-30.brainflow.csv as C:\\dev\\play\\brainwave-data\\2025-04-01-21-17-30\\raw.fif and C:\\dev\\play\\brainwave-data\\2025-04-01-21-17-30\\2025-04-01-21-17-30.brainflow.csv.bz2 already exist\n",
      "2025-04-22 07:25:41.564878 Skipping file C:\\dev\\play\\brainwave-data\\2025-04-03-21-05-17.brainflow.csv as C:\\dev\\play\\brainwave-data\\2025-04-03-21-05-17\\raw.fif and C:\\dev\\play\\brainwave-data\\2025-04-03-21-05-17\\2025-04-03-21-05-17.brainflow.csv.bz2 already exist\n",
      "2025-04-22 07:25:41.564946 Skipping file C:\\dev\\play\\brainwave-data\\2025-04-04-20-56-30.brainflow.csv as C:\\dev\\play\\brainwave-data\\2025-04-04-20-56-30\\raw.fif and C:\\dev\\play\\brainwave-data\\2025-04-04-20-56-30\\2025-04-04-20-56-30.brainflow.csv.bz2 already exist\n",
      "2025-04-22 07:25:41.565015 Skipping file C:\\dev\\play\\brainwave-data\\2025-04-11-21-07-33.brainflow.csv as C:\\dev\\play\\brainwave-data\\2025-04-11-21-07-33\\raw.fif and C:\\dev\\play\\brainwave-data\\2025-04-11-21-07-33\\2025-04-11-21-07-33.brainflow.csv.bz2 already exist\n",
      "2025-04-22 07:25:41.565050 Compressing file C:\\dev\\play\\brainwave-data\\2025-04-21-21-33-06.brainflow.csv to C:\\dev\\play\\brainwave-data\\2025-04-21-21-33-06\\2025-04-21-21-33-06.brainflow.csv.bz2\n",
      "2025-04-22 07:29:11.457583 Processing file C:\\dev\\play\\brainwave-data\\2025-04-21-21-33-06.brainflow.csv\n",
      "2025-04-22 07:29:11.462115 Date time obj: 2025-04-21 21:33:06 True 2025-04-21-21-33-06\n",
      "2025-04-22 07:29:11.462141 Processing file C:\\dev\\play\\brainwave-data\\2025-04-21-21-33-06.brainflow.csv with channels ['Fpz-M1']\n",
      "2025-04-22 07:29:11.585895 Memory Usage: 338.25 MB GC to 338.25 MB\n",
      "2025-04-22 07:29:11.585932 Reading Brainflow file C:\\dev\\play\\brainwave-data\\2025-04-21-21-33-06.brainflow.csv\n",
      "2025-04-22 07:30:49.833209 Finished reading Brainflow file\n",
      "2025-04-22 07:30:49.963450 Memory Usage: 1832.01 MB GC to 1832.01 MB\n",
      "2025-04-22 07:30:50.386593 EEG channels: [1, 2, 3, 4, 5, 6, 7, 8]\n"
     ]
    },
    {
     "name": "stderr",
     "output_type": "stream",
     "text": [
      "c:\\dev\\Brainwave-Processor\\convert.py:183: SettingWithCopyWarning: \n",
      "A value is trying to be set on a copy of a slice from a DataFrame.\n",
      "Try using .loc[row_indexer,col_indexer] = value instead\n",
      "\n",
      "See the caveats in the documentation: https://pandas.pydata.org/pandas-docs/stable/user_guide/indexing.html#returning-a-view-versus-a-copy\n",
      "  idx_and_eeg_channels_and_timestamp['datetime'] = pd.to_datetime(idx_and_eeg_channels_and_timestamp['timestamp'],unit=\"s\").dt.tz_localize('UTC')\n",
      "Processing rows: 100%|██████████| 8156133/8156133 [00:02<00:00, 3274098.28it/s]\n"
     ]
    },
    {
     "name": "stdout",
     "output_type": "stream",
     "text": [
      "Gaps:  datetime\n",
      "False    8147529\n",
      "True          32\n",
      "Name: count, dtype: int64\n"
     ]
    },
    {
     "name": "stderr",
     "output_type": "stream",
     "text": [
      "Processing rows:   5%|▌         | 429287/8147560 [00:01<00:21, 354461.79it/s]"
     ]
    },
    {
     "name": "stdout",
     "output_type": "stream",
     "text": [
      "Gap 352565 start time:  2025-04-21 20:56:34.258784055+00:00\n",
      "Gap 352565 end time:  2025-04-21 20:56:35.154676914+00:00\n",
      "Gap 352605 start time:  2025-04-21 20:56:35.554447889+00:00\n",
      "Gap 352605 end time:  2025-04-21 20:56:36.357337952+00:00\n",
      "Gap 355321 start time:  2025-04-21 20:56:47.347744942+00:00\n",
      "Gap 355321 end time:  2025-04-21 20:56:48.192625999+00:00\n"
     ]
    },
    {
     "name": "stderr",
     "output_type": "stream",
     "text": [
      "Processing rows:   8%|▊         | 641584/8147560 [00:03<01:21, 92156.20it/s] "
     ]
    },
    {
     "name": "stdout",
     "output_type": "stream",
     "text": [
      "Gap 643646 start time:  2025-04-21 21:15:59.724458933+00:00\n",
      "Gap 643646 end time:  2025-04-21 21:16:18.424668074+00:00\n",
      "Gap 643647 start time:  2025-04-21 21:16:18.424668074+00:00\n",
      "Gap 643647 end time:  2025-04-21 21:16:36.418163061+00:00\n"
     ]
    },
    {
     "name": "stderr",
     "output_type": "stream",
     "text": [
      "Processing rows:   8%|▊         | 650803/8147560 [00:03<02:41, 46407.91it/s]"
     ]
    },
    {
     "name": "stdout",
     "output_type": "stream",
     "text": [
      "Gap 643778 start time:  2025-04-21 21:16:37.074431896+00:00\n",
      "Gap 643778 end time:  2025-04-21 21:16:37.975779057+00:00\n",
      "Gap 644034 start time:  2025-04-21 21:16:39.038248062+00:00\n",
      "Gap 644034 end time:  2025-04-21 21:16:40.047713995+00:00\n",
      "Gap 644162 start time:  2025-04-21 21:16:40.719504118+00:00\n",
      "Gap 644162 end time:  2025-04-21 21:16:42.630362034+00:00\n",
      "Gap 644313 start time:  2025-04-21 21:16:43.418168068+00:00\n",
      "Gap 644313 end time:  2025-04-21 21:16:44.180023909+00:00\n"
     ]
    },
    {
     "name": "stderr",
     "output_type": "stream",
     "text": [
      "Processing rows:  13%|█▎        | 1074039/8147560 [00:08<01:19, 89480.49it/s]"
     ]
    },
    {
     "name": "stdout",
     "output_type": "stream",
     "text": [
      "Gap 1058702 start time:  2025-04-21 21:44:19.386857033+00:00\n",
      "Gap 1058702 end time:  2025-04-21 21:44:20.407208920+00:00\n"
     ]
    },
    {
     "name": "stderr",
     "output_type": "stream",
     "text": [
      "Processing rows:  26%|██▋       | 2152673/8147560 [00:20<01:02, 95347.59it/s]"
     ]
    },
    {
     "name": "stdout",
     "output_type": "stream",
     "text": [
      "Gap 2133979 start time:  2025-04-21 22:55:54.327977896+00:00\n",
      "Gap 2133979 end time:  2025-04-21 22:55:55.348119020+00:00\n"
     ]
    },
    {
     "name": "stderr",
     "output_type": "stream",
     "text": [
      "Processing rows:  40%|███▉      | 3226479/8147560 [00:31<00:54, 91081.12it/s] "
     ]
    },
    {
     "name": "stdout",
     "output_type": "stream",
     "text": [
      "Gap 3209252 start time:  2025-04-22 00:07:29.265360117+00:00\n",
      "Gap 3209252 end time:  2025-04-22 00:07:30.285533905+00:00\n"
     ]
    },
    {
     "name": "stderr",
     "output_type": "stream",
     "text": [
      "Processing rows:  50%|█████     | 4099431/8147560 [00:41<00:47, 85852.42it/s] "
     ]
    },
    {
     "name": "stdout",
     "output_type": "stream",
     "text": [
      "Gap 4085242 start time:  2025-04-22 01:05:48.375477076+00:00\n",
      "Gap 4085242 end time:  2025-04-22 01:05:49.396423101+00:00\n"
     ]
    },
    {
     "name": "stderr",
     "output_type": "stream",
     "text": [
      "Processing rows:  53%|█████▎    | 4302236/8147560 [00:44<00:44, 86285.44it/s]"
     ]
    },
    {
     "name": "stdout",
     "output_type": "stream",
     "text": [
      "Gap 4284287 start time:  2025-04-22 01:19:04.249787092+00:00\n",
      "Gap 4284287 end time:  2025-04-22 01:19:05.269390106+00:00\n"
     ]
    },
    {
     "name": "stderr",
     "output_type": "stream",
     "text": [
      "Processing rows:  57%|█████▋    | 4627099/8147560 [00:48<00:36, 96248.94it/s] "
     ]
    },
    {
     "name": "stdout",
     "output_type": "stream",
     "text": [
      "Gap 4634284 start time:  2025-04-22 01:42:23.118295908+00:00\n",
      "Gap 4634284 end time:  2025-04-22 01:42:43.500164986+00:00\n",
      "Gap 4634285 start time:  2025-04-22 01:42:43.500164986+00:00\n",
      "Gap 4634285 end time:  2025-04-22 01:43:04.941204071+00:00\n",
      "Gap 4634286 start time:  2025-04-22 01:43:04.941204071+00:00\n",
      "Gap 4634286 end time:  2025-04-22 01:43:06.154273033+00:00\n",
      "Gap 4634287 start time:  2025-04-22 01:43:06.154273033+00:00\n",
      "Gap 4634287 end time:  2025-04-22 01:43:07.032947063+00:00\n",
      "Gap 4634288 start time:  2025-04-22 01:43:07.032947063+00:00\n",
      "Gap 4634288 end time:  2025-04-22 01:43:09.200485945+00:00\n",
      "Gap 4634289 start time:  2025-04-22 01:43:09.200485945+00:00\n",
      "Gap 4634289 end time:  2025-04-22 01:43:12.262476920+00:00\n",
      "Gap 4634290 start time:  2025-04-22 01:43:12.262476920+00:00\n",
      "Gap 4634290 end time:  2025-04-22 01:43:16.227890015+00:00\n",
      "Gap 4634291 start time:  2025-04-22 01:43:16.227890015+00:00\n",
      "Gap 4634291 end time:  2025-04-22 01:43:18.266556978+00:00\n",
      "Gap 4634292 start time:  2025-04-22 01:43:18.266556978+00:00\n",
      "Gap 4634292 end time:  2025-04-22 01:43:20.426970005+00:00\n",
      "Gap 4634293 start time:  2025-04-22 01:43:20.426970005+00:00\n",
      "Gap 4634293 end time:  2025-04-22 01:43:21.283659935+00:00\n",
      "Gap 4634294 start time:  2025-04-22 01:43:21.283659935+00:00\n",
      "Gap 4634294 end time:  2025-04-22 01:43:32.543644905+00:00\n"
     ]
    },
    {
     "name": "stderr",
     "output_type": "stream",
     "text": [
      "Processing rows:  57%|█████▋    | 4644885/8147560 [00:48<01:25, 41084.13it/s]"
     ]
    },
    {
     "name": "stdout",
     "output_type": "stream",
     "text": [
      "Gap 4634295 start time:  2025-04-22 01:43:32.543644905+00:00\n",
      "Gap 4634295 end time:  2025-04-22 01:43:33.724049091+00:00\n",
      "Gap 4634296 start time:  2025-04-22 01:43:33.724049091+00:00\n",
      "Gap 4634296 end time:  2025-04-22 01:43:34.529057026+00:00\n",
      "Gap 4634374 start time:  2025-04-22 01:43:34.926279068+00:00\n",
      "Gap 4634374 end time:  2025-04-22 01:43:35.884198904+00:00\n",
      "Gap 4634637 start time:  2025-04-22 01:43:36.973098993+00:00\n",
      "Gap 4634637 end time:  2025-04-22 01:43:37.899357080+00:00\n"
     ]
    },
    {
     "name": "stderr",
     "output_type": "stream",
     "text": [
      "Processing rows:  66%|██████▌   | 5353756/8147560 [00:56<00:47, 58589.33it/s]"
     ]
    },
    {
     "name": "stdout",
     "output_type": "stream",
     "text": [
      "Gap 5341137 start time:  2025-04-22 02:30:39.214242935+00:00\n",
      "Gap 5341137 end time:  2025-04-22 02:30:40.234272957+00:00\n"
     ]
    },
    {
     "name": "stderr",
     "output_type": "stream",
     "text": [
      "Processing rows:  79%|███████▉  | 6428346/8147560 [01:08<00:23, 73355.77it/s] "
     ]
    },
    {
     "name": "stdout",
     "output_type": "stream",
     "text": [
      "Gap 6416458 start time:  2025-04-22 03:42:14.138766050+00:00\n",
      "Gap 6416458 end time:  2025-04-22 03:42:15.160543919+00:00\n"
     ]
    },
    {
     "name": "stderr",
     "output_type": "stream",
     "text": [
      "Processing rows:  93%|█████████▎| 7560137/8147560 [01:19<00:01, 339702.05it/s]"
     ]
    },
    {
     "name": "stdout",
     "output_type": "stream",
     "text": [
      "Gap 7491809 start time:  2025-04-22 04:53:49.126204014+00:00\n",
      "Gap 7491809 end time:  2025-04-22 04:53:50.147222042+00:00\n"
     ]
    },
    {
     "name": "stderr",
     "output_type": "stream",
     "text": [
      "Processing rows: 100%|██████████| 8147560/8147560 [01:21<00:00, 100033.44it/s]\n",
      "c:\\dev\\Brainwave-Processor\\convert.py:153: FutureWarning: Setting an item of incompatible dtype is deprecated and will raise an error in a future version of pandas. Value '' has dtype incompatible with float64, please explicitly cast to a compatible dtype first.\n",
      "  copied.fillna('', inplace=True)\n"
     ]
    },
    {
     "name": "stdout",
     "output_type": "stream",
     "text": [
      "2025-04-22 07:32:18.096917 Initial timestamp: 2025-04-21 20:33:06.530083895+00:00 from 1745267586.530084\n",
      "2025-04-22 07:32:18.138739 Info <Info | 7 non-empty values\n",
      " bads: []\n",
      " ch_names: Fpz-M1\n",
      " chs: 1 EEG\n",
      " custom_ref_applied: False\n",
      " highpass: 0.0 Hz\n",
      " lowpass: 125.2 Hz\n",
      " meas_date: 2025-04-21 20:33:06 UTC\n",
      " nchan: 1\n",
      " projs: []\n",
      " sfreq: 250.4 Hz\n",
      ">\n",
      "2025-04-22 07:32:18.246154 Memory Usage: 2596.26 MB GC to 2596.26 MB\n",
      "2025-04-22 07:32:18.246812 Saving to C:\\dev\\play\\brainwave-data\\2025-04-21-21-33-06\\raw.fif\n"
     ]
    }
   ],
   "source": [
    "from datetime import datetime\n",
    "\n",
    "import webserver\n",
    "import convert\n",
    "# import zstandard as zstd\n",
    "import os\n",
    "import bz2\n",
    "import time\n",
    "import shutil\n",
    "\n",
    "errors = []\n",
    "processed = []\n",
    "\n",
    "from sample_rates import real_sample_rate\n",
    "\n",
    "# Could get these working later\n",
    "skip_list = ['2024-09-10-21-22-21']\n",
    "\n",
    "def compress_bz2(input_file, output_file):\n",
    "    start_time = time.time()\n",
    "    with open(input_file, 'rb') as f_in:\n",
    "        with bz2.open(output_file, 'wb', compresslevel=9) as f_out:\n",
    "            shutil.copyfileobj(f_in, f_out)\n",
    "    end_time = time.time()\n",
    "    return end_time - start_time, os.path.getsize(output_file)\n",
    "\n",
    "for root, dirs, files in os.walk(input_dir):\n",
    "    #for idx, file_name in enumerate(tqdm(dirs, desc=\"Converting Brainflow to FIF\")):\n",
    "    for idx, file_name in enumerate(files):\n",
    "        full_input_filename = os.path.join(root, file_name)\n",
    "        try:\n",
    "            if full_input_filename.endswith(\".brainflow.csv\"):\n",
    "                full_output_dirname = webserver.output_dirname(full_input_filename)\n",
    "                full_output_filename = str(os.path.join(full_output_dirname, 'raw.fif'))\n",
    "                \n",
    "                compressed_full_output_filename = get_brainflow_compressed_filename(full_input_filename)\n",
    "                \n",
    "                if not os.path.exists(compressed_full_output_filename):\n",
    "                    log(f\"Compressing file {full_input_filename} to \" + compressed_full_output_filename)\n",
    "                    processed.append(\"Compressing \" + full_input_filename)\n",
    "                    try:\n",
    "                        os.mkdir(os.path.dirname(compressed_full_output_filename))\n",
    "                    except:\n",
    "                        pass\n",
    "                    compress_bz2(full_input_filename, compressed_full_output_filename) \n",
    "                    \n",
    "                if os.path.exists(full_output_filename):\n",
    "                    log(f\"Skipping file {full_input_filename} as {full_output_filename} and {compressed_full_output_filename} already exist\")\n",
    "                    continue\n",
    "                should_skip = False\n",
    "                for s in skip_list:\n",
    "                    if s in full_input_filename:\n",
    "                        log(f\"Skipping file {full_input_filename}\")\n",
    "                        should_skip = True\n",
    "                if not should_skip:\n",
    "                    log(f\"Processing file {full_input_filename}\")\n",
    "                    processed.append(\"Processing \" + full_input_filename)\n",
    "                    channels = None\n",
    "                    date_time_str = os.path.basename(full_input_filename).removesuffix(\".brainflow.csv\")\n",
    "                    date_time_obj = datetime.strptime(date_time_str, '%Y-%m-%d-%H-%M-%S')\n",
    "                    log(f\"Date time obj: {date_time_obj} {date_time_obj > datetime(2025, 3, 12, 0, 0, 0)} {date_time_str}\")\n",
    "                    if (date_time_obj > datetime(2025, 3, 12, 0, 0, 0) and date_time_obj < datetime(2025, 3, 14, 0, 0, 0)):\n",
    "                        channels = ['Fpz-M1', 'O2-M1']\n",
    "                    elif (date_time_obj > datetime(2024, 9, 1, 0, 0, 0)):\n",
    "                        channels = ['Fpz-M1']\n",
    "        \n",
    "                    if channels is not None:\n",
    "                        log(f\"Processing file {full_input_filename} with channels {channels}\")\n",
    "                        # Changing to gap-filling on 30th Nov '24\n",
    "                        # Fixing sample rate on 21st Mar '25\n",
    "                        convert.convert_and_save_brainflow_file_with_gap_filling(log, full_input_filename, full_output_filename, channels, real_sample_rate)\n",
    "\n",
    "        except Exception as e:\n",
    "            msg = \"Error processing file: \" + full_input_filename\n",
    "            log(msg)\n",
    "            log(e)\n",
    "            errors.append(msg)\n"
   ]
  },
  {
   "cell_type": "code",
   "execution_count": 17,
   "id": "b26100fa9d445409",
   "metadata": {
    "ExecuteTime": {
     "end_time": "2025-02-27T08:51:37.448605200Z",
     "start_time": "2025-02-16T07:36:28.206183Z"
    }
   },
   "outputs": [
    {
     "data": {
      "text/plain": [
       "[]"
      ]
     },
     "execution_count": 17,
     "metadata": {},
     "output_type": "execute_result"
    }
   ],
   "source": [
    "errors"
   ]
  },
  {
   "cell_type": "code",
   "execution_count": 18,
   "id": "5b5561ec7207ccd0",
   "metadata": {
    "ExecuteTime": {
     "end_time": "2025-02-27T08:51:37.450603400Z",
     "start_time": "2025-02-16T07:36:28.251064Z"
    }
   },
   "outputs": [
    {
     "data": {
      "text/plain": [
       "['Compressing C:\\\\dev\\\\play\\\\brainwave-data\\\\2025-04-21-21-33-06.brainflow.csv',\n",
       " 'Processing C:\\\\dev\\\\play\\\\brainwave-data\\\\2025-04-21-21-33-06.brainflow.csv']"
      ]
     },
     "execution_count": 18,
     "metadata": {},
     "output_type": "execute_result"
    }
   ],
   "source": [
    "processed"
   ]
  },
  {
   "cell_type": "markdown",
   "id": "fd7176771a519eb7",
   "metadata": {},
   "source": [
    "## Run YASA pipeline on FIF files"
   ]
  },
  {
   "cell_type": "code",
   "execution_count": 19,
   "id": "92b7b91355d9b1f7",
   "metadata": {
    "ExecuteTime": {
     "end_time": "2025-02-27T08:51:37.452038600Z",
     "start_time": "2025-02-16T07:36:28.288498Z"
    }
   },
   "outputs": [
    {
     "data": {
      "text/plain": [
       "(\"2025-04-22 07:32:19.469734 Processing file: C:\\\\dev\\\\play\\\\brainwave-data\\\\2024-09-19-21-29-42\\\\raw.fif\\n2025-04-22 07:32:19.469870 Loading cached file C:\\\\dev\\\\play\\\\brainwave-data\\\\2024-09-19-21-29-42\\\\raw.yasa.csv\\n2025-04-22 07:32:19.473902 Forced rebuild\\n2025-04-22 07:32:19.473933 Loading MNE file C:\\\\dev\\\\play\\\\brainwave-data\\\\2024-09-19-21-29-42\\\\raw.fif\\n2025-04-22 07:32:19.473938 Reading file C:\\\\dev\\\\play\\\\brainwave-data\\\\2024-09-19-21-29-42\\\\raw.fif\\n2025-04-22 07:32:20.035142 Finished reading file C:\\\\dev\\\\play\\\\brainwave-data\\\\2024-09-19-21-29-42\\\\raw.fif\\n2025-04-22 07:32:20.861371 Start date: 2024-09-19 20:29:51.950311+00:00 channels: ['Fpz-M1'] sfreq: 250.0\\n2025-04-22 07:32:20.986059 Memory Usage: 507.88 MB GC to 507.88 MB\\n2025-04-22 07:32:20.986078 Saving as EDF\\nSaved metadata to C:\\\\dev\\\\play\\\\brainwave-data\\\\2024-09-19-21-29-42\\\\raw.json\\nSaved recording data to C:\\\\dev\\\\play\\\\brainwave-data\\\\2024-09-19-21-29-42\\\\raw.bin\\nFile size: 16.87 MB\\n2025-04-22 07:32:21.191007 Memory Usage: 507.89 MB GC to 507.89 MB\\n2025-04-22 07:32:21.191030 Running YASA\\n2025-04-22 07:32:21.310331 Memory Usage: 507.89 MB GC to 507.89 MB\\n2025-04-22 07:32:30.288825 Writing to C:\\\\dev\\\\play\\\\brainwave-data\\\\2024-09-19-21-29-42\\\\raw.sleep_stages.csv\\n2025-04-22 07:32:30.431607 Memory Usage: 797.48 MB GC to 797.48 MB\\n2025-04-22 07:32:30.431630 Processing sleep statistics\\n2025-04-22 07:32:30.582591 Memory Usage: 797.49 MB GC to 797.49 MB\\n2025-04-22 07:32:30.582614 Processing sleep stability\\n2025-04-22 07:32:30.708493 Memory Usage: 797.49 MB GC to 797.49 MB\\nSetting up band-pass filter from 0.3 - 1.5 Hz\\n\\nFIR filter parameters\\n---------------------\\nDesigning a one-pass, zero-phase, non-causal bandpass filter:\\n- Windowed time-domain design (firwin) method\\n- Hamming window with 0.0194 passband ripple and 53 dB stopband attenuation\\n- Lower passband edge: 0.30\\n- Lower transition bandwidth: 0.20 Hz (-6 dB cutoff frequency: 0.20 Hz)\\n- Upper passband edge: 1.50 Hz\\n- Upper transition bandwidth: 0.20 Hz (-6 dB cutoff frequency: 1.60 Hz)\\n- Filter length: 4125 samples (16.500 s)\\n\\n2025-04-22 07:32:37.656606 Memory Usage: 850.64 MB GC to 811.20 MB\\n2025-04-22 07:32:37.657256 YASA all done!\\n2025-04-22 07:32:37.673036 Saving to: C:\\\\dev\\\\play\\\\brainwave-data\\\\2024-09-19-21-29-42\\\\raw.yasa.csv\\n\",\n",
       " True)"
      ]
     },
     "execution_count": 19,
     "metadata": {},
     "output_type": "execute_result"
    },
    {
     "data": {
      "image/png": "[encoded data removed]",
      "text/plain": [
       "<MNELineFigure size 1000x350 with 1 Axes>"
      ]
     },
     "metadata": {},
     "output_type": "display_data"
    },
    {
     "data": {
      "image/png": "[encoded data removed]",
      "text/plain": [
       "<MNELineFigure size 1000x350 with 1 Axes>"
      ]
     },
     "metadata": {},
     "output_type": "display_data"
    },
    {
     "data": {
      "image/png": "[encoded data removed]",
      "text/plain": [
       "<Figure size 600x450 with 1 Axes>"
      ]
     },
     "metadata": {},
     "output_type": "display_data"
    }
   ],
   "source": [
    "import pandas as pd\n",
    "import run_feature_pipeline\n",
    "import os\n",
    "from concurrent.futures import ThreadPoolExecutor, as_completed\n",
    "\n",
    "errors = []\n",
    "dataframes = []\n",
    "\n",
    "# Could get these working later\n",
    "skip_list = ['2024-07-23-22-40-25', '2024-07-28-22-29-49', '2024-09-18-21-25-08', '2024-09-18-21-28-11']\n",
    "import io\n",
    "import sys\n",
    "import contextlib\n",
    "import traceback\n",
    "from importlib import reload\n",
    "\n",
    "import convert\n",
    "reload(convert)\n",
    "\n",
    "reload(run_feature_pipeline)\n",
    "\n",
    "import run_yasa\n",
    "reload(run_yasa)\n",
    "\n",
    "def process_file(root, dir_name, force=False):\n",
    "    output_buffer = io.StringIO()\n",
    "    with contextlib.redirect_stdout(output_buffer), contextlib.redirect_stderr(output_buffer):\n",
    "\n",
    "        try:\n",
    "            input_file = os.path.join(root, dir_name, \"raw.fif\")\n",
    "            if dir_name in skip_list:\n",
    "                log(f\"Skipping {dir_name}: {input_file}\")\n",
    "                return None, False, output_buffer.getvalue(), \"Skipped\"\n",
    "\n",
    "            log(f\"Processing file: {input_file}\")\n",
    "            if os.path.exists(input_file):\n",
    "                yasa_df, cached = run_feature_pipeline.cached_pipeline(log, input_file, force or global_force)\n",
    "                return yasa_df, cached, output_buffer.getvalue(), True\n",
    "            else:\n",
    "                log(f\"File not found: {input_file}\")\n",
    "                return None, False, output_buffer.getvalue(), \"File not found\"\n",
    "\n",
    "        except Exception as e:\n",
    "            traceback.print_exc()\n",
    "            msg = f\"Error processing file: {input_file} - {e}\"\n",
    "            log(msg)\n",
    "            errors.append(msg)\n",
    "            return None, False, output_buffer.getvalue(), \"Error: \" + str(e)\n",
    "\n",
    "# Testing\n",
    "yasa_df, cached, stdout, success_or_msg = process_file(\"C:\\\\dev\\\\play\\\\brainwave-data\", \"2024-09-19-21-29-42\", True)\n",
    "stdout, success_or_msg"
   ]
  },
  {
   "cell_type": "code",
   "execution_count": 20,
   "id": "3742c3bb21229387",
   "metadata": {
    "ExecuteTime": {
     "end_time": "2025-02-27T08:51:37.454398800Z",
     "start_time": "2025-02-16T07:36:28.333300Z"
    }
   },
   "outputs": [
    {
     "name": "stderr",
     "output_type": "stream",
     "text": [
      "YASA pipeline: 100%|██████████| 169/169 [00:14<00:00, 11.97it/s] \n"
     ]
    },
    {
     "data": {
      "text/html": [
       "<div>\n",
       "<style scoped>\n",
       "    .dataframe tbody tr th:only-of-type {\n",
       "        vertical-align: middle;\n",
       "    }\n",
       "\n",
       "    .dataframe tbody tr th {\n",
       "        vertical-align: top;\n",
       "    }\n",
       "\n",
       "    .dataframe thead th {\n",
       "        text-align: right;\n",
       "    }\n",
       "</style>\n",
       "<table border=\"1\" class=\"dataframe\">\n",
       "  <thead>\n",
       "    <tr style=\"text-align: right;\">\n",
       "      <th></th>\n",
       "      <th>dir_name</th>\n",
       "      <th>cached</th>\n",
       "      <th>stdout</th>\n",
       "      <th>success_or_msg</th>\n",
       "    </tr>\n",
       "  </thead>\n",
       "  <tbody>\n",
       "    <tr>\n",
       "      <th>0</th>\n",
       "      <td>08-07-2024--22-51-16</td>\n",
       "      <td>False</td>\n",
       "      <td>2025-04-22 07:32:37.943564 Processing file: C:...</td>\n",
       "      <td>File not found</td>\n",
       "    </tr>\n",
       "    <tr>\n",
       "      <th>1</th>\n",
       "      <td>09-07-2024--22-52-25</td>\n",
       "      <td>False</td>\n",
       "      <td>2025-04-22 07:32:37.944081 Processing file: C:...</td>\n",
       "      <td>File not found</td>\n",
       "    </tr>\n",
       "    <tr>\n",
       "      <th>2</th>\n",
       "      <td>2024-07-08-22-51-16</td>\n",
       "      <td>True</td>\n",
       "      <td>2025-04-22 07:32:37.945706 Processing file: C:...</td>\n",
       "      <td>True</td>\n",
       "    </tr>\n",
       "    <tr>\n",
       "      <th>3</th>\n",
       "      <td>2024-07-11-22-46-18</td>\n",
       "      <td>True</td>\n",
       "      <td>2025-04-22 07:32:37.950285 Processing file: C:...</td>\n",
       "      <td>True</td>\n",
       "    </tr>\n",
       "    <tr>\n",
       "      <th>4</th>\n",
       "      <td>2024-07-12-22-38-58</td>\n",
       "      <td>True</td>\n",
       "      <td>2025-04-22 07:32:37.956040 Processing file: C:...</td>\n",
       "      <td>True</td>\n",
       "    </tr>\n",
       "    <tr>\n",
       "      <th>...</th>\n",
       "      <td>...</td>\n",
       "      <td>...</td>\n",
       "      <td>...</td>\n",
       "      <td>...</td>\n",
       "    </tr>\n",
       "    <tr>\n",
       "      <th>164</th>\n",
       "      <td>2025-04-04-20-56-30</td>\n",
       "      <td>True</td>\n",
       "      <td>2025-04-22 07:32:38.598735 Processing file: C:...</td>\n",
       "      <td>True</td>\n",
       "    </tr>\n",
       "    <tr>\n",
       "      <th>165</th>\n",
       "      <td>2025-04-11-21-07-33</td>\n",
       "      <td>True</td>\n",
       "      <td>2025-04-22 07:32:38.602891 Processing file: C:...</td>\n",
       "      <td>True</td>\n",
       "    </tr>\n",
       "    <tr>\n",
       "      <th>166</th>\n",
       "      <td>2025-04-21-21-33-06</td>\n",
       "      <td>False</td>\n",
       "      <td>2025-04-22 07:32:38.607095 Processing file: C:...</td>\n",
       "      <td>True</td>\n",
       "    </tr>\n",
       "    <tr>\n",
       "      <th>167</th>\n",
       "      <td>compressed_files</td>\n",
       "      <td>False</td>\n",
       "      <td>2025-04-22 07:32:52.056362 Processing file: C:...</td>\n",
       "      <td>File not found</td>\n",
       "    </tr>\n",
       "    <tr>\n",
       "      <th>168</th>\n",
       "      <td>nonnight</td>\n",
       "      <td>False</td>\n",
       "      <td>2025-04-22 07:32:52.056958 Processing file: C:...</td>\n",
       "      <td>File not found</td>\n",
       "    </tr>\n",
       "  </tbody>\n",
       "</table>\n",
       "<p>169 rows × 4 columns</p>\n",
       "</div>"
      ],
      "text/plain": [
       "                 dir_name  cached  \\\n",
       "0    08-07-2024--22-51-16   False   \n",
       "1    09-07-2024--22-52-25   False   \n",
       "2     2024-07-08-22-51-16    True   \n",
       "3     2024-07-11-22-46-18    True   \n",
       "4     2024-07-12-22-38-58    True   \n",
       "..                    ...     ...   \n",
       "164   2025-04-04-20-56-30    True   \n",
       "165   2025-04-11-21-07-33    True   \n",
       "166   2025-04-21-21-33-06   False   \n",
       "167      compressed_files   False   \n",
       "168              nonnight   False   \n",
       "\n",
       "                                                stdout  success_or_msg  \n",
       "0    2025-04-22 07:32:37.943564 Processing file: C:...  File not found  \n",
       "1    2025-04-22 07:32:37.944081 Processing file: C:...  File not found  \n",
       "2    2025-04-22 07:32:37.945706 Processing file: C:...            True  \n",
       "3    2025-04-22 07:32:37.950285 Processing file: C:...            True  \n",
       "4    2025-04-22 07:32:37.956040 Processing file: C:...            True  \n",
       "..                                                 ...             ...  \n",
       "164  2025-04-22 07:32:38.598735 Processing file: C:...            True  \n",
       "165  2025-04-22 07:32:38.602891 Processing file: C:...            True  \n",
       "166  2025-04-22 07:32:38.607095 Processing file: C:...            True  \n",
       "167  2025-04-22 07:32:52.056362 Processing file: C:...  File not found  \n",
       "168  2025-04-22 07:32:52.056958 Processing file: C:...  File not found  \n",
       "\n",
       "[169 rows x 4 columns]"
      ]
     },
     "execution_count": 20,
     "metadata": {},
     "output_type": "execute_result"
    }
   ],
   "source": [
    "results = pd.DataFrame(columns=['dir_name', 'cached', 'stdout', 'success_or_msg'])\n",
    "\n",
    "from tqdm.auto import tqdm\n",
    "\n",
    "dirs = next(os.walk(input_dir))[1]\n",
    "for idx, dir_name in enumerate(tqdm(dirs, desc=\"YASA pipeline\")):\n",
    "    yasa_df, cached, stdout, success_or_msg = process_file(input_dir, dir_name)\n",
    "    results.loc[len(results)] = [dir_name, cached, stdout, success_or_msg]\n",
    "\n",
    "results"
   ]
  },
  {
   "cell_type": "markdown",
   "id": "cddbf368",
   "metadata": {},
   "source": [
    "# Artifacts"
   ]
  },
  {
   "cell_type": "code",
   "execution_count": 21,
   "id": "4fb8edb1",
   "metadata": {},
   "outputs": [
    {
     "data": {
      "text/plain": [
       "('Processing file: C:\\\\dev\\\\play\\\\brainwave-data\\\\2025-02-12-20-34-56\\\\raw.fif\\n',\n",
       " True)"
      ]
     },
     "execution_count": 21,
     "metadata": {},
     "output_type": "execute_result"
    }
   ],
   "source": [
    "import os\n",
    "import io\n",
    "\n",
    "from importlib import reload\n",
    "import notebooks.EEGArtifacts.eeg_artifacts\n",
    "reload(notebooks.EEGArtifacts.eeg_artifacts)\n",
    "\n",
    "\n",
    "# Testing\n",
    "artifacts_df, cached, stdout, success_or_msg = notebooks.EEGArtifacts.eeg_artifacts.process_artifacts(\"C:\\\\dev\\\\play\\\\brainwave-data\", \"2025-02-12-20-34-56\", False)\n",
    "stdout, success_or_msg"
   ]
  },
  {
   "cell_type": "code",
   "execution_count": 22,
   "id": "0eb1a6b1",
   "metadata": {},
   "outputs": [
    {
     "name": "stderr",
     "output_type": "stream",
     "text": [
      "Artifacts pipeline: 100%|██████████| 169/169 [00:02<00:00, 71.76it/s] \n"
     ]
    },
    {
     "data": {
      "text/html": [
       "<div>\n",
       "<style scoped>\n",
       "    .dataframe tbody tr th:only-of-type {\n",
       "        vertical-align: middle;\n",
       "    }\n",
       "\n",
       "    .dataframe tbody tr th {\n",
       "        vertical-align: top;\n",
       "    }\n",
       "\n",
       "    .dataframe thead th {\n",
       "        text-align: right;\n",
       "    }\n",
       "</style>\n",
       "<table border=\"1\" class=\"dataframe\">\n",
       "  <thead>\n",
       "    <tr style=\"text-align: right;\">\n",
       "      <th></th>\n",
       "      <th>dir_name</th>\n",
       "      <th>cached</th>\n",
       "      <th>stdout</th>\n",
       "      <th>success_or_msg</th>\n",
       "    </tr>\n",
       "  </thead>\n",
       "  <tbody>\n",
       "    <tr>\n",
       "      <th>0</th>\n",
       "      <td>08-07-2024--22-51-16</td>\n",
       "      <td>False</td>\n",
       "      <td>Processing file: C:\\dev\\play\\brainwave-data\\08...</td>\n",
       "      <td>File not found C:\\dev\\play\\brainwave-data\\08-0...</td>\n",
       "    </tr>\n",
       "    <tr>\n",
       "      <th>1</th>\n",
       "      <td>09-07-2024--22-52-25</td>\n",
       "      <td>False</td>\n",
       "      <td>Processing file: C:\\dev\\play\\brainwave-data\\09...</td>\n",
       "      <td>File not found C:\\dev\\play\\brainwave-data\\09-0...</td>\n",
       "    </tr>\n",
       "    <tr>\n",
       "      <th>2</th>\n",
       "      <td>2024-07-08-22-51-16</td>\n",
       "      <td>True</td>\n",
       "      <td>Processing file: C:\\dev\\play\\brainwave-data\\20...</td>\n",
       "      <td>True</td>\n",
       "    </tr>\n",
       "    <tr>\n",
       "      <th>3</th>\n",
       "      <td>2024-07-11-22-46-18</td>\n",
       "      <td>True</td>\n",
       "      <td>Processing file: C:\\dev\\play\\brainwave-data\\20...</td>\n",
       "      <td>True</td>\n",
       "    </tr>\n",
       "    <tr>\n",
       "      <th>4</th>\n",
       "      <td>2024-07-12-22-38-58</td>\n",
       "      <td>True</td>\n",
       "      <td>Processing file: C:\\dev\\play\\brainwave-data\\20...</td>\n",
       "      <td>True</td>\n",
       "    </tr>\n",
       "    <tr>\n",
       "      <th>...</th>\n",
       "      <td>...</td>\n",
       "      <td>...</td>\n",
       "      <td>...</td>\n",
       "      <td>...</td>\n",
       "    </tr>\n",
       "    <tr>\n",
       "      <th>164</th>\n",
       "      <td>2025-04-04-20-56-30</td>\n",
       "      <td>True</td>\n",
       "      <td>Processing file: C:\\dev\\play\\brainwave-data\\20...</td>\n",
       "      <td>True</td>\n",
       "    </tr>\n",
       "    <tr>\n",
       "      <th>165</th>\n",
       "      <td>2025-04-11-21-07-33</td>\n",
       "      <td>True</td>\n",
       "      <td>Processing file: C:\\dev\\play\\brainwave-data\\20...</td>\n",
       "      <td>True</td>\n",
       "    </tr>\n",
       "    <tr>\n",
       "      <th>166</th>\n",
       "      <td>2025-04-21-21-33-06</td>\n",
       "      <td>False</td>\n",
       "      <td>Processing file: C:\\dev\\play\\brainwave-data\\20...</td>\n",
       "      <td>True</td>\n",
       "    </tr>\n",
       "    <tr>\n",
       "      <th>167</th>\n",
       "      <td>compressed_files</td>\n",
       "      <td>False</td>\n",
       "      <td>Processing file: C:\\dev\\play\\brainwave-data\\co...</td>\n",
       "      <td>File not found C:\\dev\\play\\brainwave-data\\comp...</td>\n",
       "    </tr>\n",
       "    <tr>\n",
       "      <th>168</th>\n",
       "      <td>nonnight</td>\n",
       "      <td>False</td>\n",
       "      <td>Processing file: C:\\dev\\play\\brainwave-data\\no...</td>\n",
       "      <td>File not found C:\\dev\\play\\brainwave-data\\nonn...</td>\n",
       "    </tr>\n",
       "  </tbody>\n",
       "</table>\n",
       "<p>169 rows × 4 columns</p>\n",
       "</div>"
      ],
      "text/plain": [
       "                 dir_name  cached  \\\n",
       "0    08-07-2024--22-51-16   False   \n",
       "1    09-07-2024--22-52-25   False   \n",
       "2     2024-07-08-22-51-16    True   \n",
       "3     2024-07-11-22-46-18    True   \n",
       "4     2024-07-12-22-38-58    True   \n",
       "..                    ...     ...   \n",
       "164   2025-04-04-20-56-30    True   \n",
       "165   2025-04-11-21-07-33    True   \n",
       "166   2025-04-21-21-33-06   False   \n",
       "167      compressed_files   False   \n",
       "168              nonnight   False   \n",
       "\n",
       "                                                stdout  \\\n",
       "0    Processing file: C:\\dev\\play\\brainwave-data\\08...   \n",
       "1    Processing file: C:\\dev\\play\\brainwave-data\\09...   \n",
       "2    Processing file: C:\\dev\\play\\brainwave-data\\20...   \n",
       "3    Processing file: C:\\dev\\play\\brainwave-data\\20...   \n",
       "4    Processing file: C:\\dev\\play\\brainwave-data\\20...   \n",
       "..                                                 ...   \n",
       "164  Processing file: C:\\dev\\play\\brainwave-data\\20...   \n",
       "165  Processing file: C:\\dev\\play\\brainwave-data\\20...   \n",
       "166  Processing file: C:\\dev\\play\\brainwave-data\\20...   \n",
       "167  Processing file: C:\\dev\\play\\brainwave-data\\co...   \n",
       "168  Processing file: C:\\dev\\play\\brainwave-data\\no...   \n",
       "\n",
       "                                        success_or_msg  \n",
       "0    File not found C:\\dev\\play\\brainwave-data\\08-0...  \n",
       "1    File not found C:\\dev\\play\\brainwave-data\\09-0...  \n",
       "2                                                 True  \n",
       "3                                                 True  \n",
       "4                                                 True  \n",
       "..                                                 ...  \n",
       "164                                               True  \n",
       "165                                               True  \n",
       "166                                               True  \n",
       "167  File not found C:\\dev\\play\\brainwave-data\\comp...  \n",
       "168  File not found C:\\dev\\play\\brainwave-data\\nonn...  \n",
       "\n",
       "[169 rows x 4 columns]"
      ]
     },
     "execution_count": 22,
     "metadata": {},
     "output_type": "execute_result"
    }
   ],
   "source": [
    "from importlib import reload\n",
    "import notebooks.EEGArtifacts.eeg_artifacts\n",
    "reload(notebooks.EEGArtifacts.eeg_artifacts)\n",
    "\n",
    "results = pd.DataFrame(columns=['dir_name', 'cached', 'stdout', 'success_or_msg'])\n",
    "\n",
    "dirs = next(os.walk(input_dir))[1]\n",
    "for idx, dir_name in enumerate(tqdm(dirs, desc=\"Artifacts pipeline\")):\n",
    "# for idx, dir_name in enumerate(dirs):\n",
    "    # print(dir_name)\n",
    "    artifacts_df, cached, stdout, success_or_msg = notebooks.EEGArtifacts.eeg_artifacts.process_artifacts(input_dir, dir_name, global_force)\n",
    "    results.loc[len(results)] = [dir_name, cached, stdout, success_or_msg]\n",
    "\n",
    "results"
   ]
  },
  {
   "cell_type": "markdown",
   "id": "ca8ab9ca6c09b972",
   "metadata": {},
   "source": [
    "# Physiological pipeline"
   ]
  },
  {
   "cell_type": "code",
   "execution_count": null,
   "id": "9443abcb2ee130b2",
   "metadata": {
    "ExecuteTime": {
     "end_time": "2025-02-27T08:51:37.456816Z",
     "start_time": "2025-02-16T07:36:32.482488Z"
    }
   },
   "outputs": [],
   "source": [
    "import traceback\n",
    "import os\n",
    "\n",
    "from importlib import reload\n",
    "import run_physical_features_pipeline\n",
    "reload(run_physical_features_pipeline)\n",
    "import io\n",
    "import contextlib\n",
    "from datetime import datetime, timedelta\n",
    "\n",
    "\n",
    "def process_file_for_physical(root, dir_name, force=False):\n",
    "    output_buffer = io.StringIO()\n",
    "    with contextlib.redirect_stdout(output_buffer), contextlib.redirect_stderr(output_buffer):\n",
    "        input_fif_file = os.path.join(root, dir_name, \"raw.fif\")\n",
    "        input_csv_file = os.path.join(root, dir_name, \"raw.yasa.csv\")\n",
    "    #     try:\n",
    "        if os.path.exists(input_csv_file):\n",
    "            yasa_df = pd.read_csv(input_csv_file)\n",
    "            physical_features_df_30s, physical_features_df_1s, cached = run_physical_features_pipeline.cached_physical_features_pipeline(log, input_fif_file, yasa_df, force or global_force)\n",
    "            return physical_features_df_30s, physical_features_df_1s, cached, output_buffer.getvalue(), True\n",
    "        else:\n",
    "            log(f\"File not found: {input_fif_file} or {input_csv_file}\")\n",
    "            return None, None, False, output_buffer.getvalue(), \"File not found\"\n",
    "        # except Exception as e:\n",
    "        #     return None, False, output_buffer.getvalue(), (str(e) + \" \" + traceback.format_exc())\n",
    "\n",
    "# Testing\n",
    "# physical_features_df_30s, physical_features_df_1s, cached, stdout, success_or_msg = process_file_for_physical(\"C:\\\\dev\\\\play\\\\brainwave-data\", \"2025-03-20-21-22-08\", True)\n",
    "# # display(stdout)\n",
    "# display(success_or_msg)\n",
    "# # display(physical_features_df_30s)"
   ]
  },
  {
   "cell_type": "code",
   "execution_count": 25,
   "id": "75c23704fb11b7eb",
   "metadata": {
    "ExecuteTime": {
     "end_time": "2025-02-27T08:51:37.458817700Z",
     "start_time": "2025-02-16T07:36:35.767754Z"
    }
   },
   "outputs": [
    {
     "name": "stderr",
     "output_type": "stream",
     "text": [
      "Physiological pipeline: 100%|██████████| 169/169 [00:06<00:00, 25.37it/s]\n"
     ]
    },
    {
     "data": {
      "text/html": [
       "<div>\n",
       "<style scoped>\n",
       "    .dataframe tbody tr th:only-of-type {\n",
       "        vertical-align: middle;\n",
       "    }\n",
       "\n",
       "    .dataframe tbody tr th {\n",
       "        vertical-align: top;\n",
       "    }\n",
       "\n",
       "    .dataframe thead th {\n",
       "        text-align: right;\n",
       "    }\n",
       "</style>\n",
       "<table border=\"1\" class=\"dataframe\">\n",
       "  <thead>\n",
       "    <tr style=\"text-align: right;\">\n",
       "      <th></th>\n",
       "      <th>dir_name</th>\n",
       "      <th>cached</th>\n",
       "      <th>stdout</th>\n",
       "      <th>success_or_msg</th>\n",
       "    </tr>\n",
       "  </thead>\n",
       "  <tbody>\n",
       "    <tr>\n",
       "      <th>0</th>\n",
       "      <td>08-07-2024--22-51-16</td>\n",
       "      <td>False</td>\n",
       "      <td>2025-04-22 07:41:21.598559 File not found: C:\\...</td>\n",
       "      <td>File not found</td>\n",
       "    </tr>\n",
       "    <tr>\n",
       "      <th>1</th>\n",
       "      <td>09-07-2024--22-52-25</td>\n",
       "      <td>False</td>\n",
       "      <td>2025-04-22 07:41:21.599081 File not found: C:\\...</td>\n",
       "      <td>File not found</td>\n",
       "    </tr>\n",
       "    <tr>\n",
       "      <th>2</th>\n",
       "      <td>2024-07-08-22-51-16</td>\n",
       "      <td>True</td>\n",
       "      <td>2025-04-22 07:41:21.601721 Loading cached 30s ...</td>\n",
       "      <td>True</td>\n",
       "    </tr>\n",
       "    <tr>\n",
       "      <th>3</th>\n",
       "      <td>2024-07-11-22-46-18</td>\n",
       "      <td>True</td>\n",
       "      <td>2025-04-22 07:41:21.608225 Loading cached 30s ...</td>\n",
       "      <td>True</td>\n",
       "    </tr>\n",
       "    <tr>\n",
       "      <th>4</th>\n",
       "      <td>2024-07-12-22-38-58</td>\n",
       "      <td>True</td>\n",
       "      <td>2025-04-22 07:41:21.614138 Loading cached 30s ...</td>\n",
       "      <td>True</td>\n",
       "    </tr>\n",
       "    <tr>\n",
       "      <th>...</th>\n",
       "      <td>...</td>\n",
       "      <td>...</td>\n",
       "      <td>...</td>\n",
       "      <td>...</td>\n",
       "    </tr>\n",
       "    <tr>\n",
       "      <th>164</th>\n",
       "      <td>2025-04-04-20-56-30</td>\n",
       "      <td>True</td>\n",
       "      <td>2025-04-22 07:41:25.688046 Loading cached 30s ...</td>\n",
       "      <td>True</td>\n",
       "    </tr>\n",
       "    <tr>\n",
       "      <th>165</th>\n",
       "      <td>2025-04-11-21-07-33</td>\n",
       "      <td>True</td>\n",
       "      <td>2025-04-22 07:41:25.713931 Loading cached 30s ...</td>\n",
       "      <td>True</td>\n",
       "    </tr>\n",
       "    <tr>\n",
       "      <th>166</th>\n",
       "      <td>2025-04-21-21-33-06</td>\n",
       "      <td>False</td>\n",
       "      <td>2025-04-22 07:41:25.737410 Generating 30s data...</td>\n",
       "      <td>True</td>\n",
       "    </tr>\n",
       "    <tr>\n",
       "      <th>167</th>\n",
       "      <td>compressed_files</td>\n",
       "      <td>False</td>\n",
       "      <td>2025-04-22 07:41:28.258212 File not found: C:\\...</td>\n",
       "      <td>File not found</td>\n",
       "    </tr>\n",
       "    <tr>\n",
       "      <th>168</th>\n",
       "      <td>nonnight</td>\n",
       "      <td>False</td>\n",
       "      <td>2025-04-22 07:41:28.258979 File not found: C:\\...</td>\n",
       "      <td>File not found</td>\n",
       "    </tr>\n",
       "  </tbody>\n",
       "</table>\n",
       "<p>169 rows × 4 columns</p>\n",
       "</div>"
      ],
      "text/plain": [
       "                 dir_name  cached  \\\n",
       "0    08-07-2024--22-51-16   False   \n",
       "1    09-07-2024--22-52-25   False   \n",
       "2     2024-07-08-22-51-16    True   \n",
       "3     2024-07-11-22-46-18    True   \n",
       "4     2024-07-12-22-38-58    True   \n",
       "..                    ...     ...   \n",
       "164   2025-04-04-20-56-30    True   \n",
       "165   2025-04-11-21-07-33    True   \n",
       "166   2025-04-21-21-33-06   False   \n",
       "167      compressed_files   False   \n",
       "168              nonnight   False   \n",
       "\n",
       "                                                stdout  success_or_msg  \n",
       "0    2025-04-22 07:41:21.598559 File not found: C:\\...  File not found  \n",
       "1    2025-04-22 07:41:21.599081 File not found: C:\\...  File not found  \n",
       "2    2025-04-22 07:41:21.601721 Loading cached 30s ...            True  \n",
       "3    2025-04-22 07:41:21.608225 Loading cached 30s ...            True  \n",
       "4    2025-04-22 07:41:21.614138 Loading cached 30s ...            True  \n",
       "..                                                 ...             ...  \n",
       "164  2025-04-22 07:41:25.688046 Loading cached 30s ...            True  \n",
       "165  2025-04-22 07:41:25.713931 Loading cached 30s ...            True  \n",
       "166  2025-04-22 07:41:25.737410 Generating 30s data...            True  \n",
       "167  2025-04-22 07:41:28.258212 File not found: C:\\...  File not found  \n",
       "168  2025-04-22 07:41:28.258979 File not found: C:\\...  File not found  \n",
       "\n",
       "[169 rows x 4 columns]"
      ]
     },
     "execution_count": 25,
     "metadata": {},
     "output_type": "execute_result"
    }
   ],
   "source": [
    "from tqdm.auto import tqdm\n",
    "\n",
    "results = pd.DataFrame(columns=['dir_name', 'cached', 'stdout', 'success_or_msg'])\n",
    "\n",
    "dirs = next(os.walk(input_dir))[1]\n",
    "for idx, dir_name in enumerate(tqdm(dirs, desc=\"Physiological pipeline\")):\n",
    "    _, _, cached, stdout, success_or_msg = process_file_for_physical(input_dir, dir_name)\n",
    "    results.loc[len(results)] = [dir_name, cached, stdout, success_or_msg]\n",
    "\n",
    "results"
   ]
  },
  {
   "cell_type": "markdown",
   "id": "e25d23e0136d1aa1",
   "metadata": {},
   "source": [
    "# Post-YASA pipeline"
   ]
  },
  {
   "cell_type": "code",
   "execution_count": 26,
   "id": "ac4c838f3988591c",
   "metadata": {
    "ExecuteTime": {
     "end_time": "2025-02-27T08:51:37.460812500Z",
     "start_time": "2025-02-16T07:36:37.141477Z"
    }
   },
   "outputs": [],
   "source": [
    "import traceback\n",
    "import os\n",
    "\n",
    "from importlib import reload\n",
    "import run_post_yasa_pipeline\n",
    "reload(run_post_yasa_pipeline)\n",
    "import yasa_features\n",
    "reload(yasa_features)\n",
    "\n",
    "\n",
    "def process_file_for_post_yasa(root, dir_name, force=False):\n",
    "    output_buffer = io.StringIO()\n",
    "    # with contextlib.redirect_stdout(output_buffer), contextlib.redirect_stderr(output_buffer):\n",
    "\n",
    "    input_fif_file = os.path.join(root, dir_name, \"raw.fif\")\n",
    "    input_csv_file = os.path.join(root, dir_name, \"raw.yasa.csv\")\n",
    "    artifacts_csv_path = os.path.join(root, dir_name, \"raw.artifacts.csv\")\n",
    "\n",
    "    try:\n",
    "        log(f\"Processing file: \" + input_fif_file)\n",
    "        if os.path.exists(input_fif_file) and os.path.exists(input_csv_file) and os.path.exists(artifacts_csv_path):\n",
    "            yasa_df = pd.read_csv(input_csv_file)\n",
    "            artifacts_df = pd.read_csv(artifacts_csv_path)\n",
    "            post_yasa_df, cached = run_post_yasa_pipeline.cached_post_yasa_pipeline(log, input_fif_file, yasa_df, stats_df, artifacts_df, force or global_force)\n",
    "            return post_yasa_df, cached, output_buffer.getvalue(), True\n",
    "        else:\n",
    "            log(f\"File not found: {input_fif_file} or {input_csv_file}\")\n",
    "            return None, False, output_buffer.getvalue(), \"File not found\"\n",
    "    except Exception as e:\n",
    "        traceback.print_exc()\n",
    "        return None, False, output_buffer.getvalue(), e\n",
    "\n",
    "# Testing\n",
    "# post_yasa_df, cached, stdout, success_or_msg = process_file_for_post_yasa(\"C:\\\\dev\\\\play\\\\brainwave-data\", \"2024-09-19-21-29-42\", True)\n",
    "# display(stdout)\n",
    "# display(success_or_msg)"
   ]
  },
  {
   "cell_type": "code",
   "execution_count": 27,
   "id": "83319905fde09809",
   "metadata": {
    "ExecuteTime": {
     "end_time": "2025-02-27T08:51:37.462812800Z",
     "start_time": "2025-02-16T07:36:37.324716Z"
    }
   },
   "outputs": [
    {
     "name": "stderr",
     "output_type": "stream",
     "text": [
      "Post YASA pipeline:   2%|▏         | 3/169 [00:00<00:08, 18.93it/s]"
     ]
    },
    {
     "name": "stdout",
     "output_type": "stream",
     "text": [
      "2025-04-22 07:41:28.293591 Processing file: C:\\dev\\play\\brainwave-data\\08-07-2024--22-51-16\\raw.fif\n",
      "2025-04-22 07:41:28.293686 File not found: C:\\dev\\play\\brainwave-data\\08-07-2024--22-51-16\\raw.fif or C:\\dev\\play\\brainwave-data\\08-07-2024--22-51-16\\raw.yasa.csv\n",
      "2025-04-22 07:41:28.294212 Processing file: C:\\dev\\play\\brainwave-data\\09-07-2024--22-52-25\\raw.fif\n",
      "2025-04-22 07:41:28.294264 File not found: C:\\dev\\play\\brainwave-data\\09-07-2024--22-52-25\\raw.fif or C:\\dev\\play\\brainwave-data\\09-07-2024--22-52-25\\raw.yasa.csv\n",
      "2025-04-22 07:41:28.294834 Processing file: C:\\dev\\play\\brainwave-data\\2024-07-08-22-51-16\\raw.fif\n",
      "YASA file: C:\\dev\\play\\brainwave-data\\2024-07-08-22-51-16\\raw.yasa.csv\n",
      "Artifacts file: C:\\dev\\play\\brainwave-data\\2024-07-08-22-51-16\\raw.artifacts.csv\n",
      "2025-04-22 07:41:28.298094 Loading cached file C:\\dev\\play\\brainwave-data\\2024-07-08-22-51-16\\raw.post_yasa.csv\n",
      "2025-04-22 07:41:28.452731 Processing file: C:\\dev\\play\\brainwave-data\\2024-07-11-22-46-18\\raw.fif\n",
      "YASA file: C:\\dev\\play\\brainwave-data\\2024-07-11-22-46-18\\raw.yasa.csv\n",
      "Artifacts file: C:\\dev\\play\\brainwave-data\\2024-07-11-22-46-18\\raw.artifacts.csv\n",
      "2025-04-22 07:41:28.457363 Loading cached file C:\\dev\\play\\brainwave-data\\2024-07-11-22-46-18\\raw.post_yasa.csv\n",
      "2025-04-22 07:41:28.833703 Processing file: C:\\dev\\play\\brainwave-data\\2024-07-12-22-38-58\\raw.fif\n",
      "YASA file: C:\\dev\\play\\brainwave-data\\2024-07-12-22-38-58\\raw.yasa.csv\n",
      "Artifacts file: C:\\dev\\play\\brainwave-data\\2024-07-12-22-38-58\\raw.artifacts.csv\n",
      "2025-04-22 07:41:28.837945 Loading cached file C:\\dev\\play\\brainwave-data\\2024-07-12-22-38-58\\raw.post_yasa.csv\n"
     ]
    },
    {
     "name": "stderr",
     "output_type": "stream",
     "text": [
      "Post YASA pipeline:   3%|▎         | 5/169 [00:00<00:35,  4.67it/s]"
     ]
    },
    {
     "name": "stdout",
     "output_type": "stream",
     "text": [
      "2025-04-22 07:41:29.220320 Processing file: C:\\dev\\play\\brainwave-data\\2024-07-13-21-41-55\\raw.fif\n",
      "YASA file: C:\\dev\\play\\brainwave-data\\2024-07-13-21-41-55\\raw.yasa.csv\n",
      "Artifacts file: C:\\dev\\play\\brainwave-data\\2024-07-13-21-41-55\\raw.artifacts.csv\n",
      "2025-04-22 07:41:29.224261 Loading cached file C:\\dev\\play\\brainwave-data\\2024-07-13-21-41-55\\raw.post_yasa.csv\n"
     ]
    },
    {
     "name": "stderr",
     "output_type": "stream",
     "text": [
      "Post YASA pipeline:   4%|▎         | 6/169 [00:01<00:39,  4.11it/s]"
     ]
    },
    {
     "name": "stdout",
     "output_type": "stream",
     "text": [
      "2025-04-22 07:41:29.547835 Processing file: C:\\dev\\play\\brainwave-data\\2024-07-14-22-27-26\\raw.fif\n",
      "YASA file: C:\\dev\\play\\brainwave-data\\2024-07-14-22-27-26\\raw.yasa.csv\n",
      "Artifacts file: C:\\dev\\play\\brainwave-data\\2024-07-14-22-27-26\\raw.artifacts.csv\n",
      "2025-04-22 07:41:29.551956 Loading cached file C:\\dev\\play\\brainwave-data\\2024-07-14-22-27-26\\raw.post_yasa.csv\n"
     ]
    },
    {
     "name": "stderr",
     "output_type": "stream",
     "text": [
      "Post YASA pipeline:   4%|▍         | 7/169 [00:01<00:44,  3.61it/s]"
     ]
    },
    {
     "name": "stdout",
     "output_type": "stream",
     "text": [
      "2025-04-22 07:41:29.916624 Processing file: C:\\dev\\play\\brainwave-data\\2024-07-15-09-10-07\\raw.fif\n",
      "2025-04-22 07:41:29.916706 File not found: C:\\dev\\play\\brainwave-data\\2024-07-15-09-10-07\\raw.fif or C:\\dev\\play\\brainwave-data\\2024-07-15-09-10-07\\raw.yasa.csv\n",
      "2025-04-22 07:41:29.917300 Processing file: C:\\dev\\play\\brainwave-data\\2024-07-15-22-33-27\\raw.fif\n",
      "YASA file: C:\\dev\\play\\brainwave-data\\2024-07-15-22-33-27\\raw.yasa.csv\n",
      "Artifacts file: C:\\dev\\play\\brainwave-data\\2024-07-15-22-33-27\\raw.artifacts.csv\n",
      "2025-04-22 07:41:29.921421 Loading cached file C:\\dev\\play\\brainwave-data\\2024-07-15-22-33-27\\raw.post_yasa.csv\n"
     ]
    },
    {
     "name": "stderr",
     "output_type": "stream",
     "text": [
      "Post YASA pipeline:   6%|▌         | 10/169 [00:02<00:35,  4.54it/s]"
     ]
    },
    {
     "name": "stdout",
     "output_type": "stream",
     "text": [
      "2025-04-22 07:41:30.253057 Processing file: C:\\dev\\play\\brainwave-data\\2024-07-16-23-14-52\\raw.fif\n",
      "YASA file: C:\\dev\\play\\brainwave-data\\2024-07-16-23-14-52\\raw.yasa.csv\n",
      "Artifacts file: C:\\dev\\play\\brainwave-data\\2024-07-16-23-14-52\\raw.artifacts.csv\n",
      "2025-04-22 07:41:30.256951 Loading cached file C:\\dev\\play\\brainwave-data\\2024-07-16-23-14-52\\raw.post_yasa.csv\n",
      "2025-04-22 07:41:30.442833 Processing file: C:\\dev\\play\\brainwave-data\\2024-07-17-22-48-49\\raw.fif\n",
      "YASA file: C:\\dev\\play\\brainwave-data\\2024-07-17-22-48-49\\raw.yasa.csv\n",
      "Artifacts file: C:\\dev\\play\\brainwave-data\\2024-07-17-22-48-49\\raw.artifacts.csv\n",
      "2025-04-22 07:41:30.447443 Loading cached file C:\\dev\\play\\brainwave-data\\2024-07-17-22-48-49\\raw.post_yasa.csv\n"
     ]
    },
    {
     "name": "stderr",
     "output_type": "stream",
     "text": [
      "Post YASA pipeline:   7%|▋         | 12/169 [00:02<00:34,  4.61it/s]"
     ]
    },
    {
     "name": "stdout",
     "output_type": "stream",
     "text": [
      "2025-04-22 07:41:30.813785 Processing file: C:\\dev\\play\\brainwave-data\\2024-07-21-22-22-16\\raw.fif\n",
      "YASA file: C:\\dev\\play\\brainwave-data\\2024-07-21-22-22-16\\raw.yasa.csv\n",
      "Artifacts file: C:\\dev\\play\\brainwave-data\\2024-07-21-22-22-16\\raw.artifacts.csv\n",
      "2025-04-22 07:41:30.817591 Loading cached file C:\\dev\\play\\brainwave-data\\2024-07-21-22-22-16\\raw.post_yasa.csv\n",
      "2025-04-22 07:41:30.915003 Processing file: C:\\dev\\play\\brainwave-data\\2024-07-22-22-24-06\\raw.fif\n",
      "YASA file: C:\\dev\\play\\brainwave-data\\2024-07-22-22-24-06\\raw.yasa.csv\n",
      "Artifacts file: C:\\dev\\play\\brainwave-data\\2024-07-22-22-24-06\\raw.artifacts.csv\n",
      "2025-04-22 07:41:30.918876 Loading cached file C:\\dev\\play\\brainwave-data\\2024-07-22-22-24-06\\raw.post_yasa.csv\n"
     ]
    },
    {
     "name": "stderr",
     "output_type": "stream",
     "text": [
      "Post YASA pipeline:   9%|▉         | 16/169 [00:03<00:21,  7.17it/s]"
     ]
    },
    {
     "name": "stdout",
     "output_type": "stream",
     "text": [
      "2025-04-22 07:41:31.291660 Processing file: C:\\dev\\play\\brainwave-data\\2024-07-23-22-40-25\\raw.fif\n",
      "2025-04-22 07:41:31.291770 File not found: C:\\dev\\play\\brainwave-data\\2024-07-23-22-40-25\\raw.fif or C:\\dev\\play\\brainwave-data\\2024-07-23-22-40-25\\raw.yasa.csv\n",
      "2025-04-22 07:41:31.292339 Processing file: C:\\dev\\play\\brainwave-data\\2024-07-24-18-57-03\\raw.fif\n",
      "2025-04-22 07:41:31.292506 File not found: C:\\dev\\play\\brainwave-data\\2024-07-24-18-57-03\\raw.fif or C:\\dev\\play\\brainwave-data\\2024-07-24-18-57-03\\raw.yasa.csv\n",
      "2025-04-22 07:41:31.293099 Processing file: C:\\dev\\play\\brainwave-data\\2024-07-24-22-42-26\\raw.fif\n",
      "YASA file: C:\\dev\\play\\brainwave-data\\2024-07-24-22-42-26\\raw.yasa.csv\n",
      "Artifacts file: C:\\dev\\play\\brainwave-data\\2024-07-24-22-42-26\\raw.artifacts.csv\n",
      "2025-04-22 07:41:31.297455 Loading cached file C:\\dev\\play\\brainwave-data\\2024-07-24-22-42-26\\raw.post_yasa.csv\n",
      "2025-04-22 07:41:31.401716 Processing file: C:\\dev\\play\\brainwave-data\\2024-07-26-22-36-26\\raw.fif\n",
      "YASA file: C:\\dev\\play\\brainwave-data\\2024-07-26-22-36-26\\raw.yasa.csv\n",
      "Artifacts file: C:\\dev\\play\\brainwave-data\\2024-07-26-22-36-26\\raw.artifacts.csv\n",
      "2025-04-22 07:41:31.405517 Loading cached file C:\\dev\\play\\brainwave-data\\2024-07-26-22-36-26\\raw.post_yasa.csv\n",
      "2025-04-22 07:41:31.794771 Processing file: C:\\dev\\play\\brainwave-data\\2024-07-27-22-16-21\\raw.fif\n",
      "YASA file: C:\\dev\\play\\brainwave-data\\2024-07-27-22-16-21\\raw.yasa.csv\n",
      "Artifacts file: C:\\dev\\play\\brainwave-data\\2024-07-27-22-16-21\\raw.artifacts.csv\n",
      "2025-04-22 07:41:31.799513 Loading cached file C:\\dev\\play\\brainwave-data\\2024-07-27-22-16-21\\raw.post_yasa.csv\n"
     ]
    },
    {
     "name": "stderr",
     "output_type": "stream",
     "text": [
      "Post YASA pipeline:  12%|█▏        | 20/169 [00:04<00:27,  5.44it/s]"
     ]
    },
    {
     "name": "stdout",
     "output_type": "stream",
     "text": [
      "2025-04-22 07:41:32.193360 Processing file: C:\\dev\\play\\brainwave-data\\2024-07-28-22-29-49\\raw.fif\n",
      "2025-04-22 07:41:32.193687 File not found: C:\\dev\\play\\brainwave-data\\2024-07-28-22-29-49\\raw.fif or C:\\dev\\play\\brainwave-data\\2024-07-28-22-29-49\\raw.yasa.csv\n",
      "2025-04-22 07:41:32.194277 Processing file: C:\\dev\\play\\brainwave-data\\2024-08-03-22-57-15\\raw.fif\n",
      "YASA file: C:\\dev\\play\\brainwave-data\\2024-08-03-22-57-15\\raw.yasa.csv\n",
      "Artifacts file: C:\\dev\\play\\brainwave-data\\2024-08-03-22-57-15\\raw.artifacts.csv\n",
      "2025-04-22 07:41:32.198126 Loading cached file C:\\dev\\play\\brainwave-data\\2024-08-03-22-57-15\\raw.post_yasa.csv\n",
      "2025-04-22 07:41:32.384593 Processing file: C:\\dev\\play\\brainwave-data\\2024-08-18-21-33-07\\raw.fif\n",
      "YASA file: C:\\dev\\play\\brainwave-data\\2024-08-18-21-33-07\\raw.yasa.csv\n",
      "Artifacts file: C:\\dev\\play\\brainwave-data\\2024-08-18-21-33-07\\raw.artifacts.csv\n",
      "2025-04-22 07:41:32.388925 Loading cached file C:\\dev\\play\\brainwave-data\\2024-08-18-21-33-07\\raw.post_yasa.csv\n"
     ]
    },
    {
     "name": "stderr",
     "output_type": "stream",
     "text": [
      "Post YASA pipeline:  12%|█▏        | 21/169 [00:04<00:32,  4.53it/s]"
     ]
    },
    {
     "name": "stdout",
     "output_type": "stream",
     "text": [
      "2025-04-22 07:41:32.763177 Processing file: C:\\dev\\play\\brainwave-data\\2024-08-19-21-43-56\\raw.fif\n",
      "YASA file: C:\\dev\\play\\brainwave-data\\2024-08-19-21-43-56\\raw.yasa.csv\n",
      "Artifacts file: C:\\dev\\play\\brainwave-data\\2024-08-19-21-43-56\\raw.artifacts.csv\n",
      "2025-04-22 07:41:32.769691 Loading cached file C:\\dev\\play\\brainwave-data\\2024-08-19-21-43-56\\raw.post_yasa.csv\n"
     ]
    },
    {
     "name": "stderr",
     "output_type": "stream",
     "text": [
      "Post YASA pipeline:  13%|█▎        | 22/169 [00:04<00:35,  4.09it/s]"
     ]
    },
    {
     "name": "stdout",
     "output_type": "stream",
     "text": [
      "2025-04-22 07:41:33.094484 Processing file: C:\\dev\\play\\brainwave-data\\2024-08-20-21-17-32\\raw.fif\n",
      "YASA file: C:\\dev\\play\\brainwave-data\\2024-08-20-21-17-32\\raw.yasa.csv\n",
      "Artifacts file: C:\\dev\\play\\brainwave-data\\2024-08-20-21-17-32\\raw.artifacts.csv\n",
      "2025-04-22 07:41:33.100981 Loading cached file C:\\dev\\play\\brainwave-data\\2024-08-20-21-17-32\\raw.post_yasa.csv\n"
     ]
    },
    {
     "name": "stderr",
     "output_type": "stream",
     "text": [
      "Post YASA pipeline:  14%|█▎        | 23/169 [00:05<00:36,  3.97it/s]"
     ]
    },
    {
     "name": "stdout",
     "output_type": "stream",
     "text": [
      "2025-04-22 07:41:33.370703 Processing file: C:\\dev\\play\\brainwave-data\\2024-08-21-21-40-16\\raw.fif\n",
      "YASA file: C:\\dev\\play\\brainwave-data\\2024-08-21-21-40-16\\raw.yasa.csv\n",
      "Artifacts file: C:\\dev\\play\\brainwave-data\\2024-08-21-21-40-16\\raw.artifacts.csv\n",
      "2025-04-22 07:41:33.374747 Loading cached file C:\\dev\\play\\brainwave-data\\2024-08-21-21-40-16\\raw.post_yasa.csv\n"
     ]
    },
    {
     "name": "stderr",
     "output_type": "stream",
     "text": [
      "Post YASA pipeline:  15%|█▍        | 25/169 [00:05<00:33,  4.33it/s]"
     ]
    },
    {
     "name": "stdout",
     "output_type": "stream",
     "text": [
      "2025-04-22 07:41:33.627450 Processing file: C:\\dev\\play\\brainwave-data\\2024-08-22-21-26-19\\raw.fif\n",
      "YASA file: C:\\dev\\play\\brainwave-data\\2024-08-22-21-26-19\\raw.yasa.csv\n",
      "Artifacts file: C:\\dev\\play\\brainwave-data\\2024-08-22-21-26-19\\raw.artifacts.csv\n",
      "2025-04-22 07:41:33.631117 Loading cached file C:\\dev\\play\\brainwave-data\\2024-08-22-21-26-19\\raw.post_yasa.csv\n",
      "2025-04-22 07:41:33.796962 Processing file: C:\\dev\\play\\brainwave-data\\2024-08-23-21-29-46\\raw.fif\n",
      "YASA file: C:\\dev\\play\\brainwave-data\\2024-08-23-21-29-46\\raw.yasa.csv\n",
      "Artifacts file: C:\\dev\\play\\brainwave-data\\2024-08-23-21-29-46\\raw.artifacts.csv\n",
      "2025-04-22 07:41:33.801268 Loading cached file C:\\dev\\play\\brainwave-data\\2024-08-23-21-29-46\\raw.post_yasa.csv\n"
     ]
    },
    {
     "name": "stderr",
     "output_type": "stream",
     "text": [
      "Post YASA pipeline:  15%|█▌        | 26/169 [00:05<00:32,  4.43it/s]"
     ]
    },
    {
     "name": "stdout",
     "output_type": "stream",
     "text": [
      "2025-04-22 07:41:34.008200 Processing file: C:\\dev\\play\\brainwave-data\\2024-08-24-21-11-51\\raw.fif\n",
      "YASA file: C:\\dev\\play\\brainwave-data\\2024-08-24-21-11-51\\raw.yasa.csv\n",
      "Artifacts file: C:\\dev\\play\\brainwave-data\\2024-08-24-21-11-51\\raw.artifacts.csv\n",
      "2025-04-22 07:41:34.012608 Loading cached file C:\\dev\\play\\brainwave-data\\2024-08-24-21-11-51\\raw.post_yasa.csv\n"
     ]
    },
    {
     "name": "stderr",
     "output_type": "stream",
     "text": [
      "Post YASA pipeline:  16%|█▌        | 27/169 [00:05<00:32,  4.38it/s]"
     ]
    },
    {
     "name": "stdout",
     "output_type": "stream",
     "text": [
      "2025-04-22 07:41:34.244206 Processing file: C:\\dev\\play\\brainwave-data\\2024-08-25-21-25-33\\raw.fif\n",
      "YASA file: C:\\dev\\play\\brainwave-data\\2024-08-25-21-25-33\\raw.yasa.csv\n",
      "Artifacts file: C:\\dev\\play\\brainwave-data\\2024-08-25-21-25-33\\raw.artifacts.csv\n",
      "2025-04-22 07:41:34.249052 Loading cached file C:\\dev\\play\\brainwave-data\\2024-08-25-21-25-33\\raw.post_yasa.csv\n"
     ]
    },
    {
     "name": "stderr",
     "output_type": "stream",
     "text": [
      "Post YASA pipeline:  17%|█▋        | 28/169 [00:06<00:32,  4.36it/s]"
     ]
    },
    {
     "name": "stdout",
     "output_type": "stream",
     "text": [
      "2025-04-22 07:41:34.474876 Processing file: C:\\dev\\play\\brainwave-data\\2024-08-26-20-56-10\\raw.fif\n",
      "YASA file: C:\\dev\\play\\brainwave-data\\2024-08-26-20-56-10\\raw.yasa.csv\n",
      "Artifacts file: C:\\dev\\play\\brainwave-data\\2024-08-26-20-56-10\\raw.artifacts.csv\n",
      "2025-04-22 07:41:34.479983 Loading cached file C:\\dev\\play\\brainwave-data\\2024-08-26-20-56-10\\raw.post_yasa.csv\n"
     ]
    },
    {
     "name": "stderr",
     "output_type": "stream",
     "text": [
      "Post YASA pipeline:  18%|█▊        | 30/169 [00:06<00:32,  4.31it/s]"
     ]
    },
    {
     "name": "stdout",
     "output_type": "stream",
     "text": [
      "2025-04-22 07:41:34.897478 Processing file: C:\\dev\\play\\brainwave-data\\2024-09-01-21-11-15\\raw.fif\n",
      "YASA file: C:\\dev\\play\\brainwave-data\\2024-09-01-21-11-15\\raw.yasa.csv\n",
      "Artifacts file: C:\\dev\\play\\brainwave-data\\2024-09-01-21-11-15\\raw.artifacts.csv\n",
      "2025-04-22 07:41:34.901897 Loading cached file C:\\dev\\play\\brainwave-data\\2024-09-01-21-11-15\\raw.post_yasa.csv\n",
      "2025-04-22 07:41:35.001655 Processing file: C:\\dev\\play\\brainwave-data\\2024-09-02-21-42-00\\raw.fif\n",
      "YASA file: C:\\dev\\play\\brainwave-data\\2024-09-02-21-42-00\\raw.yasa.csv\n",
      "Artifacts file: C:\\dev\\play\\brainwave-data\\2024-09-02-21-42-00\\raw.artifacts.csv\n",
      "2025-04-22 07:41:35.005156 Loading cached file C:\\dev\\play\\brainwave-data\\2024-09-02-21-42-00\\raw.post_yasa.csv\n"
     ]
    },
    {
     "name": "stderr",
     "output_type": "stream",
     "text": [
      "Post YASA pipeline:  19%|█▉        | 32/169 [00:06<00:25,  5.45it/s]"
     ]
    },
    {
     "name": "stdout",
     "output_type": "stream",
     "text": [
      "2025-04-22 07:41:35.113558 Processing file: C:\\dev\\play\\brainwave-data\\2024-09-03-21-10-58\\raw.fif\n",
      "YASA file: C:\\dev\\play\\brainwave-data\\2024-09-03-21-10-58\\raw.yasa.csv\n",
      "Artifacts file: C:\\dev\\play\\brainwave-data\\2024-09-03-21-10-58\\raw.artifacts.csv\n",
      "2025-04-22 07:41:35.117841 Loading cached file C:\\dev\\play\\brainwave-data\\2024-09-03-21-10-58\\raw.post_yasa.csv\n",
      "2025-04-22 07:41:35.265458 Processing file: C:\\dev\\play\\brainwave-data\\2024-09-04-21-44-08\\raw.fif\n",
      "YASA file: C:\\dev\\play\\brainwave-data\\2024-09-04-21-44-08\\raw.yasa.csv\n",
      "Artifacts file: C:\\dev\\play\\brainwave-data\\2024-09-04-21-44-08\\raw.artifacts.csv\n",
      "2025-04-22 07:41:35.269117 Loading cached file C:\\dev\\play\\brainwave-data\\2024-09-04-21-44-08\\raw.post_yasa.csv\n"
     ]
    },
    {
     "name": "stderr",
     "output_type": "stream",
     "text": [
      "Post YASA pipeline:  20%|██        | 34/169 [00:07<00:20,  6.73it/s]"
     ]
    },
    {
     "name": "stdout",
     "output_type": "stream",
     "text": [
      "2025-04-22 07:41:35.379211 Processing file: C:\\dev\\play\\brainwave-data\\2024-09-05-21-32-05\\raw.fif\n",
      "YASA file: C:\\dev\\play\\brainwave-data\\2024-09-05-21-32-05\\raw.yasa.csv\n",
      "Artifacts file: C:\\dev\\play\\brainwave-data\\2024-09-05-21-32-05\\raw.artifacts.csv\n",
      "2025-04-22 07:41:35.383458 Loading cached file C:\\dev\\play\\brainwave-data\\2024-09-05-21-32-05\\raw.post_yasa.csv\n",
      "2025-04-22 07:41:35.494622 Processing file: C:\\dev\\play\\brainwave-data\\2024-09-08-21-01-39\\raw.fif\n",
      "YASA file: C:\\dev\\play\\brainwave-data\\2024-09-08-21-01-39\\raw.yasa.csv\n",
      "Artifacts file: C:\\dev\\play\\brainwave-data\\2024-09-08-21-01-39\\raw.artifacts.csv\n",
      "2025-04-22 07:41:35.498666 Loading cached file C:\\dev\\play\\brainwave-data\\2024-09-08-21-01-39\\raw.post_yasa.csv\n"
     ]
    },
    {
     "name": "stderr",
     "output_type": "stream",
     "text": [
      "Post YASA pipeline:  22%|██▏       | 37/169 [00:07<00:13,  9.77it/s]"
     ]
    },
    {
     "name": "stdout",
     "output_type": "stream",
     "text": [
      "2025-04-22 07:41:35.613823 Processing file: C:\\dev\\play\\brainwave-data\\2024-09-10-21-22-21\\raw.fif\n",
      "2025-04-22 07:41:35.614153 File not found: C:\\dev\\play\\brainwave-data\\2024-09-10-21-22-21\\raw.fif or C:\\dev\\play\\brainwave-data\\2024-09-10-21-22-21\\raw.yasa.csv\n",
      "2025-04-22 07:41:35.614823 Processing file: C:\\dev\\play\\brainwave-data\\2024-09-11-21-19-21\\raw.fif\n",
      "YASA file: C:\\dev\\play\\brainwave-data\\2024-09-11-21-19-21\\raw.yasa.csv\n",
      "Artifacts file: C:\\dev\\play\\brainwave-data\\2024-09-11-21-19-21\\raw.artifacts.csv\n",
      "2025-04-22 07:41:35.618224 Loading cached file C:\\dev\\play\\brainwave-data\\2024-09-11-21-19-21\\raw.post_yasa.csv\n",
      "2025-04-22 07:41:35.730706 Processing file: C:\\dev\\play\\brainwave-data\\2024-09-13-21-24-32\\raw.fif\n",
      "YASA file: C:\\dev\\play\\brainwave-data\\2024-09-13-21-24-32\\raw.yasa.csv\n",
      "Artifacts file: C:\\dev\\play\\brainwave-data\\2024-09-13-21-24-32\\raw.artifacts.csv\n",
      "2025-04-22 07:41:35.734400 Loading cached file C:\\dev\\play\\brainwave-data\\2024-09-13-21-24-32\\raw.post_yasa.csv\n"
     ]
    },
    {
     "name": "stderr",
     "output_type": "stream",
     "text": [
      "Post YASA pipeline:  23%|██▎       | 39/169 [00:07<00:14,  9.20it/s]"
     ]
    },
    {
     "name": "stdout",
     "output_type": "stream",
     "text": [
      "2025-04-22 07:41:35.844492 Processing file: C:\\dev\\play\\brainwave-data\\2024-09-15-21-14-05\\raw.fif\n",
      "YASA file: C:\\dev\\play\\brainwave-data\\2024-09-15-21-14-05\\raw.yasa.csv\n",
      "Artifacts file: C:\\dev\\play\\brainwave-data\\2024-09-15-21-14-05\\raw.artifacts.csv\n",
      "2025-04-22 07:41:35.848863 Loading cached file C:\\dev\\play\\brainwave-data\\2024-09-15-21-14-05\\raw.post_yasa.csv\n",
      "2025-04-22 07:41:35.967365 Processing file: C:\\dev\\play\\brainwave-data\\2024-09-16-21-04-27\\raw.fif\n",
      "YASA file: C:\\dev\\play\\brainwave-data\\2024-09-16-21-04-27\\raw.yasa.csv\n",
      "Artifacts file: C:\\dev\\play\\brainwave-data\\2024-09-16-21-04-27\\raw.artifacts.csv\n",
      "2025-04-22 07:41:35.969609 Loading cached file C:\\dev\\play\\brainwave-data\\2024-09-16-21-04-27\\raw.post_yasa.csv\n",
      "2025-04-22 07:41:36.009252 Processing file: C:\\dev\\play\\brainwave-data\\2024-09-17-21-33-14\\raw.fif\n",
      "YASA file: C:\\dev\\play\\brainwave-data\\2024-09-17-21-33-14\\raw.yasa.csv\n",
      "Artifacts file: C:\\dev\\play\\brainwave-data\\2024-09-17-21-33-14\\raw.artifacts.csv\n",
      "2025-04-22 07:41:36.012952 Loading cached file C:\\dev\\play\\brainwave-data\\2024-09-17-21-33-14\\raw.post_yasa.csv\n"
     ]
    },
    {
     "name": "stderr",
     "output_type": "stream",
     "text": [
      "Post YASA pipeline:  24%|██▍       | 41/169 [00:07<00:12, 10.07it/s]"
     ]
    },
    {
     "name": "stdout",
     "output_type": "stream",
     "text": [
      "2025-04-22 07:41:36.132496 Processing file: C:\\dev\\play\\brainwave-data\\2024-09-18-21-28-11\\raw.fif\n",
      "2025-04-22 07:41:36.132719 File not found: C:\\dev\\play\\brainwave-data\\2024-09-18-21-28-11\\raw.fif or C:\\dev\\play\\brainwave-data\\2024-09-18-21-28-11\\raw.yasa.csv\n",
      "2025-04-22 07:41:36.133249 Processing file: C:\\dev\\play\\brainwave-data\\2024-09-19-21-29-42\\raw.fif\n",
      "YASA file: C:\\dev\\play\\brainwave-data\\2024-09-19-21-29-42\\raw.yasa.csv\n",
      "Artifacts file: C:\\dev\\play\\brainwave-data\\2024-09-19-21-29-42\\raw.artifacts.csv\n",
      "2025-04-22 07:41:36.136325 Loading cached file C:\\dev\\play\\brainwave-data\\2024-09-19-21-29-42\\raw.post_yasa.csv\n",
      "2025-04-22 07:41:36.193029 YASA file C:\\dev\\play\\brainwave-data\\2024-09-19-21-29-42\\raw.yasa.csv mod date 2025-04-22 07:32:37.681262 is > 2025-04-12 07:07:00.193066, rebuilding\n",
      "2025-04-22 07:41:36.193078 Loading MNE file C:\\dev\\play\\brainwave-data\\2024-09-19-21-29-42\\raw.fif\n",
      "2025-04-22 07:41:36.193086 Reading file C:\\dev\\play\\brainwave-data\\2024-09-19-21-29-42\\raw.fif\n",
      "2025-04-22 07:41:36.674909 Finished reading file C:\\dev\\play\\brainwave-data\\2024-09-19-21-29-42\\raw.fif\n",
      "2025-04-22 07:41:37.610896 Memory Usage: 1341.91 MB GC to 1341.91 MB\n",
      "2025-04-22 07:41:37.611047 Extracting YASA features\n",
      "    Using multitaper spectrum estimation with 7 DPSS windows\n"
     ]
    },
    {
     "name": "stderr",
     "output_type": "stream",
     "text": [
      "c:\\Users\\graha\\.conda\\envs\\py3.13\\Lib\\site-packages\\joblib\\parallel.py:1847: RuntimeWarning: Iterative multi-taper PSD computation did not converge.\n",
      "  res = func(*args, **kwargs)\n",
      "c:\\dev\\Brainwave-Processor\\yasa_features.py:223: RuntimeWarning: Iterative multi-taper PSD computation did not converge.\n",
      "  psd, freqs = psd_array_multitaper(epochs, sf, adaptive=True, normalization='full', verbose=0)\n",
      "c:\\dev\\Brainwave-Processor\\yasa_features.py:223: RuntimeWarning: Iterative multi-taper PSD computation did not converge.\n",
      "  psd, freqs = psd_array_multitaper(epochs, sf, adaptive=True, normalization='full', verbose=0)\n"
     ]
    },
    {
     "name": "stdout",
     "output_type": "stream",
     "text": [
      "    Using multitaper spectrum estimation with 7 DPSS windows\n"
     ]
    },
    {
     "name": "stderr",
     "output_type": "stream",
     "text": [
      "c:\\Users\\graha\\.conda\\envs\\py3.13\\Lib\\site-packages\\joblib\\parallel.py:1847: RuntimeWarning: Iterative multi-taper PSD computation did not converge.\n",
      "  res = func(*args, **kwargs)\n",
      "c:\\Users\\graha\\.conda\\envs\\py3.13\\Lib\\site-packages\\joblib\\parallel.py:1847: RuntimeWarning: Iterative multi-taper PSD computation did not converge.\n",
      "  res = func(*args, **kwargs)\n",
      "c:\\Users\\graha\\.conda\\envs\\py3.13\\Lib\\site-packages\\joblib\\parallel.py:1847: RuntimeWarning: Iterative multi-taper PSD computation did not converge.\n",
      "  res = func(*args, **kwargs)\n",
      "c:\\Users\\graha\\.conda\\envs\\py3.13\\Lib\\site-packages\\joblib\\parallel.py:1847: RuntimeWarning: Iterative multi-taper PSD computation did not converge.\n",
      "  res = func(*args, **kwargs)\n",
      "c:\\Users\\graha\\.conda\\envs\\py3.13\\Lib\\site-packages\\joblib\\parallel.py:1847: RuntimeWarning: Iterative multi-taper PSD computation did not converge.\n",
      "  res = func(*args, **kwargs)\n",
      "c:\\Users\\graha\\.conda\\envs\\py3.13\\Lib\\site-packages\\joblib\\parallel.py:1847: RuntimeWarning: Iterative multi-taper PSD computation did not converge.\n",
      "  res = func(*args, **kwargs)\n",
      "c:\\Users\\graha\\.conda\\envs\\py3.13\\Lib\\site-packages\\joblib\\parallel.py:1847: RuntimeWarning: Iterative multi-taper PSD computation did not converge.\n",
      "  res = func(*args, **kwargs)\n",
      "c:\\Users\\graha\\.conda\\envs\\py3.13\\Lib\\site-packages\\joblib\\parallel.py:1847: RuntimeWarning: Iterative multi-taper PSD computation did not converge.\n",
      "  res = func(*args, **kwargs)\n",
      "c:\\Users\\graha\\.conda\\envs\\py3.13\\Lib\\site-packages\\joblib\\parallel.py:1847: RuntimeWarning: Iterative multi-taper PSD computation did not converge.\n",
      "  res = func(*args, **kwargs)\n",
      "c:\\Users\\graha\\.conda\\envs\\py3.13\\Lib\\site-packages\\joblib\\parallel.py:1847: RuntimeWarning: Iterative multi-taper PSD computation did not converge.\n",
      "  res = func(*args, **kwargs)\n",
      "c:\\Users\\graha\\.conda\\envs\\py3.13\\Lib\\site-packages\\joblib\\parallel.py:1847: RuntimeWarning: Iterative multi-taper PSD computation did not converge.\n",
      "  res = func(*args, **kwargs)\n",
      "c:\\Users\\graha\\.conda\\envs\\py3.13\\Lib\\site-packages\\joblib\\parallel.py:1847: RuntimeWarning: Iterative multi-taper PSD computation did not converge.\n",
      "  res = func(*args, **kwargs)\n",
      "c:\\dev\\Brainwave-Processor\\yasa_features.py:223: RuntimeWarning: Iterative multi-taper PSD computation did not converge.\n",
      "  psd, freqs = psd_array_multitaper(epochs, sf, adaptive=True, normalization='full', verbose=0)\n",
      "c:\\dev\\Brainwave-Processor\\yasa_features.py:223: RuntimeWarning: Iterative multi-taper PSD computation did not converge.\n",
      "  psd, freqs = psd_array_multitaper(epochs, sf, adaptive=True, normalization='full', verbose=0)\n",
      "c:\\dev\\Brainwave-Processor\\yasa_features.py:223: RuntimeWarning: Iterative multi-taper PSD computation did not converge.\n",
      "  psd, freqs = psd_array_multitaper(epochs, sf, adaptive=True, normalization='full', verbose=0)\n",
      "c:\\dev\\Brainwave-Processor\\yasa_features.py:223: RuntimeWarning: Iterative multi-taper PSD computation did not converge.\n",
      "  psd, freqs = psd_array_multitaper(epochs, sf, adaptive=True, normalization='full', verbose=0)\n",
      "c:\\dev\\Brainwave-Processor\\yasa_features.py:223: RuntimeWarning: Iterative multi-taper PSD computation did not converge.\n",
      "  psd, freqs = psd_array_multitaper(epochs, sf, adaptive=True, normalization='full', verbose=0)\n",
      "c:\\dev\\Brainwave-Processor\\yasa_features.py:223: RuntimeWarning: Iterative multi-taper PSD computation did not converge.\n",
      "  psd, freqs = psd_array_multitaper(epochs, sf, adaptive=True, normalization='full', verbose=0)\n",
      "c:\\dev\\Brainwave-Processor\\yasa_features.py:223: RuntimeWarning: Iterative multi-taper PSD computation did not converge.\n",
      "  psd, freqs = psd_array_multitaper(epochs, sf, adaptive=True, normalization='full', verbose=0)\n",
      "c:\\dev\\Brainwave-Processor\\yasa_features.py:223: RuntimeWarning: Iterative multi-taper PSD computation did not converge.\n",
      "  psd, freqs = psd_array_multitaper(epochs, sf, adaptive=True, normalization='full', verbose=0)\n",
      "c:\\dev\\Brainwave-Processor\\yasa_features.py:223: RuntimeWarning: Iterative multi-taper PSD computation did not converge.\n",
      "  psd, freqs = psd_array_multitaper(epochs, sf, adaptive=True, normalization='full', verbose=0)\n",
      "c:\\dev\\Brainwave-Processor\\yasa_features.py:223: RuntimeWarning: Iterative multi-taper PSD computation did not converge.\n",
      "  psd, freqs = psd_array_multitaper(epochs, sf, adaptive=True, normalization='full', verbose=0)\n",
      "c:\\dev\\Brainwave-Processor\\yasa_features.py:223: RuntimeWarning: Iterative multi-taper PSD computation did not converge.\n",
      "  psd, freqs = psd_array_multitaper(epochs, sf, adaptive=True, normalization='full', verbose=0)\n",
      "c:\\dev\\Brainwave-Processor\\yasa_features.py:223: RuntimeWarning: Iterative multi-taper PSD computation did not converge.\n",
      "  psd, freqs = psd_array_multitaper(epochs, sf, adaptive=True, normalization='full', verbose=0)\n",
      "c:\\dev\\Brainwave-Processor\\yasa_features.py:223: RuntimeWarning: Iterative multi-taper PSD computation did not converge.\n",
      "  psd, freqs = psd_array_multitaper(epochs, sf, adaptive=True, normalization='full', verbose=0)\n",
      "c:\\dev\\Brainwave-Processor\\yasa_features.py:223: RuntimeWarning: Iterative multi-taper PSD computation did not converge.\n",
      "  psd, freqs = psd_array_multitaper(epochs, sf, adaptive=True, normalization='full', verbose=0)\n",
      "c:\\dev\\Brainwave-Processor\\yasa_features.py:223: RuntimeWarning: Iterative multi-taper PSD computation did not converge.\n",
      "  psd, freqs = psd_array_multitaper(epochs, sf, adaptive=True, normalization='full', verbose=0)\n",
      "c:\\dev\\Brainwave-Processor\\yasa_features.py:223: RuntimeWarning: Iterative multi-taper PSD computation did not converge.\n",
      "  psd, freqs = psd_array_multitaper(epochs, sf, adaptive=True, normalization='full', verbose=0)\n",
      "c:\\dev\\Brainwave-Processor\\yasa_features.py:223: RuntimeWarning: Iterative multi-taper PSD computation did not converge.\n",
      "  psd, freqs = psd_array_multitaper(epochs, sf, adaptive=True, normalization='full', verbose=0)\n",
      "c:\\dev\\Brainwave-Processor\\yasa_features.py:223: RuntimeWarning: Iterative multi-taper PSD computation did not converge.\n",
      "  psd, freqs = psd_array_multitaper(epochs, sf, adaptive=True, normalization='full', verbose=0)\n",
      "c:\\dev\\Brainwave-Processor\\yasa_features.py:223: RuntimeWarning: Iterative multi-taper PSD computation did not converge.\n",
      "  psd, freqs = psd_array_multitaper(epochs, sf, adaptive=True, normalization='full', verbose=0)\n",
      "Post YASA pipeline:  24%|██▍       | 41/169 [00:24<00:12, 10.07it/s]c:\\dev\\Brainwave-Processor\\yasa_features.py:223: RuntimeWarning: Iterative multi-taper PSD computation did not converge.\n",
      "  psd, freqs = psd_array_multitaper(epochs, sf, adaptive=True, normalization='full', verbose=0)\n",
      "c:\\dev\\Brainwave-Processor\\yasa_features.py:223: RuntimeWarning: Iterative multi-taper PSD computation did not converge.\n",
      "  psd, freqs = psd_array_multitaper(epochs, sf, adaptive=True, normalization='full', verbose=0)\n",
      "c:\\dev\\Brainwave-Processor\\yasa_features.py:223: RuntimeWarning: Iterative multi-taper PSD computation did not converge.\n",
      "  psd, freqs = psd_array_multitaper(epochs, sf, adaptive=True, normalization='full', verbose=0)\n",
      "c:\\dev\\Brainwave-Processor\\yasa_features.py:223: RuntimeWarning: Iterative multi-taper PSD computation did not converge.\n",
      "  psd, freqs = psd_array_multitaper(epochs, sf, adaptive=True, normalization='full', verbose=0)\n",
      "c:\\dev\\Brainwave-Processor\\yasa_features.py:223: RuntimeWarning: Iterative multi-taper PSD computation did not converge.\n",
      "  psd, freqs = psd_array_multitaper(epochs, sf, adaptive=True, normalization='full', verbose=0)\n",
      "c:\\dev\\Brainwave-Processor\\yasa_features.py:223: RuntimeWarning: Iterative multi-taper PSD computation did not converge.\n",
      "  psd, freqs = psd_array_multitaper(epochs, sf, adaptive=True, normalization='full', verbose=0)\n",
      "c:\\dev\\Brainwave-Processor\\yasa_features.py:223: RuntimeWarning: Iterative multi-taper PSD computation did not converge.\n",
      "  psd, freqs = psd_array_multitaper(epochs, sf, adaptive=True, normalization='full', verbose=0)\n",
      "c:\\dev\\Brainwave-Processor\\yasa_features.py:223: RuntimeWarning: Iterative multi-taper PSD computation did not converge.\n",
      "  psd, freqs = psd_array_multitaper(epochs, sf, adaptive=True, normalization='full', verbose=0)\n",
      "c:\\dev\\Brainwave-Processor\\yasa_features.py:223: RuntimeWarning: Iterative multi-taper PSD computation did not converge.\n",
      "  psd, freqs = psd_array_multitaper(epochs, sf, adaptive=True, normalization='full', verbose=0)\n",
      "c:\\dev\\Brainwave-Processor\\yasa_features.py:223: RuntimeWarning: Iterative multi-taper PSD computation did not converge.\n",
      "  psd, freqs = psd_array_multitaper(epochs, sf, adaptive=True, normalization='full', verbose=0)\n",
      "c:\\dev\\Brainwave-Processor\\yasa_features.py:223: RuntimeWarning: Iterative multi-taper PSD computation did not converge.\n",
      "  psd, freqs = psd_array_multitaper(epochs, sf, adaptive=True, normalization='full', verbose=0)\n",
      "c:\\dev\\Brainwave-Processor\\yasa_features.py:223: RuntimeWarning: Iterative multi-taper PSD computation did not converge.\n",
      "  psd, freqs = psd_array_multitaper(epochs, sf, adaptive=True, normalization='full', verbose=0)\n",
      "c:\\dev\\Brainwave-Processor\\yasa_features.py:223: RuntimeWarning: Iterative multi-taper PSD computation did not converge.\n",
      "  psd, freqs = psd_array_multitaper(epochs, sf, adaptive=True, normalization='full', verbose=0)\n",
      "c:\\dev\\Brainwave-Processor\\yasa_features.py:223: RuntimeWarning: Iterative multi-taper PSD computation did not converge.\n",
      "  psd, freqs = psd_array_multitaper(epochs, sf, adaptive=True, normalization='full', verbose=0)\n",
      "c:\\dev\\Brainwave-Processor\\yasa_features.py:223: RuntimeWarning: Iterative multi-taper PSD computation did not converge.\n",
      "  psd, freqs = psd_array_multitaper(epochs, sf, adaptive=True, normalization='full', verbose=0)\n",
      "c:\\dev\\Brainwave-Processor\\yasa_features.py:223: RuntimeWarning: Iterative multi-taper PSD computation did not converge.\n",
      "  psd, freqs = psd_array_multitaper(epochs, sf, adaptive=True, normalization='full', verbose=0)\n",
      "c:\\dev\\Brainwave-Processor\\yasa_features.py:223: RuntimeWarning: Iterative multi-taper PSD computation did not converge.\n",
      "  psd, freqs = psd_array_multitaper(epochs, sf, adaptive=True, normalization='full', verbose=0)\n",
      "c:\\dev\\Brainwave-Processor\\yasa_features.py:223: RuntimeWarning: Iterative multi-taper PSD computation did not converge.\n",
      "  psd, freqs = psd_array_multitaper(epochs, sf, adaptive=True, normalization='full', verbose=0)\n",
      "c:\\dev\\Brainwave-Processor\\yasa_features.py:223: RuntimeWarning: Iterative multi-taper PSD computation did not converge.\n",
      "  psd, freqs = psd_array_multitaper(epochs, sf, adaptive=True, normalization='full', verbose=0)\n",
      "c:\\dev\\Brainwave-Processor\\yasa_features.py:223: RuntimeWarning: Iterative multi-taper PSD computation did not converge.\n",
      "  psd, freqs = psd_array_multitaper(epochs, sf, adaptive=True, normalization='full', verbose=0)\n",
      "c:\\dev\\Brainwave-Processor\\yasa_features.py:223: RuntimeWarning: Iterative multi-taper PSD computation did not converge.\n",
      "  psd, freqs = psd_array_multitaper(epochs, sf, adaptive=True, normalization='full', verbose=0)\n",
      "c:\\dev\\Brainwave-Processor\\yasa_features.py:223: RuntimeWarning: Iterative multi-taper PSD computation did not converge.\n",
      "  psd, freqs = psd_array_multitaper(epochs, sf, adaptive=True, normalization='full', verbose=0)\n",
      "c:\\dev\\Brainwave-Processor\\yasa_features.py:223: RuntimeWarning: Iterative multi-taper PSD computation did not converge.\n",
      "  psd, freqs = psd_array_multitaper(epochs, sf, adaptive=True, normalization='full', verbose=0)\n",
      "c:\\dev\\Brainwave-Processor\\yasa_features.py:223: RuntimeWarning: Iterative multi-taper PSD computation did not converge.\n",
      "  psd, freqs = psd_array_multitaper(epochs, sf, adaptive=True, normalization='full', verbose=0)\n",
      "c:\\dev\\Brainwave-Processor\\yasa_features.py:223: RuntimeWarning: Iterative multi-taper PSD computation did not converge.\n",
      "  psd, freqs = psd_array_multitaper(epochs, sf, adaptive=True, normalization='full', verbose=0)\n",
      "c:\\dev\\Brainwave-Processor\\yasa_features.py:223: RuntimeWarning: Iterative multi-taper PSD computation did not converge.\n",
      "  psd, freqs = psd_array_multitaper(epochs, sf, adaptive=True, normalization='full', verbose=0)\n",
      "c:\\dev\\Brainwave-Processor\\yasa_features.py:223: RuntimeWarning: Iterative multi-taper PSD computation did not converge.\n",
      "  psd, freqs = psd_array_multitaper(epochs, sf, adaptive=True, normalization='full', verbose=0)\n",
      "c:\\dev\\Brainwave-Processor\\yasa_features.py:223: RuntimeWarning: Iterative multi-taper PSD computation did not converge.\n",
      "  psd, freqs = psd_array_multitaper(epochs, sf, adaptive=True, normalization='full', verbose=0)\n",
      "c:\\dev\\Brainwave-Processor\\yasa_features.py:223: RuntimeWarning: Iterative multi-taper PSD computation did not converge.\n",
      "  psd, freqs = psd_array_multitaper(epochs, sf, adaptive=True, normalization='full', verbose=0)\n",
      "c:\\dev\\Brainwave-Processor\\yasa_features.py:223: RuntimeWarning: Iterative multi-taper PSD computation did not converge.\n",
      "  psd, freqs = psd_array_multitaper(epochs, sf, adaptive=True, normalization='full', verbose=0)\n",
      "c:\\dev\\Brainwave-Processor\\yasa_features.py:223: RuntimeWarning: Iterative multi-taper PSD computation did not converge.\n",
      "  psd, freqs = psd_array_multitaper(epochs, sf, adaptive=True, normalization='full', verbose=0)\n",
      "c:\\dev\\Brainwave-Processor\\yasa_features.py:223: RuntimeWarning: Iterative multi-taper PSD computation did not converge.\n",
      "  psd, freqs = psd_array_multitaper(epochs, sf, adaptive=True, normalization='full', verbose=0)\n",
      "c:\\dev\\Brainwave-Processor\\yasa_features.py:223: RuntimeWarning: Iterative multi-taper PSD computation did not converge.\n",
      "  psd, freqs = psd_array_multitaper(epochs, sf, adaptive=True, normalization='full', verbose=0)\n",
      "c:\\dev\\Brainwave-Processor\\yasa_features.py:223: RuntimeWarning: Iterative multi-taper PSD computation did not converge.\n",
      "  psd, freqs = psd_array_multitaper(epochs, sf, adaptive=True, normalization='full', verbose=0)\n",
      "c:\\dev\\Brainwave-Processor\\yasa_features.py:223: RuntimeWarning: Iterative multi-taper PSD computation did not converge.\n",
      "  psd, freqs = psd_array_multitaper(epochs, sf, adaptive=True, normalization='full', verbose=0)\n",
      "c:\\dev\\Brainwave-Processor\\yasa_features.py:223: RuntimeWarning: Iterative multi-taper PSD computation did not converge.\n",
      "  psd, freqs = psd_array_multitaper(epochs, sf, adaptive=True, normalization='full', verbose=0)\n",
      "c:\\dev\\Brainwave-Processor\\yasa_features.py:223: RuntimeWarning: Iterative multi-taper PSD computation did not converge.\n",
      "  psd, freqs = psd_array_multitaper(epochs, sf, adaptive=True, normalization='full', verbose=0)\n",
      "c:\\dev\\Brainwave-Processor\\yasa_features.py:223: RuntimeWarning: Iterative multi-taper PSD computation did not converge.\n",
      "  psd, freqs = psd_array_multitaper(epochs, sf, adaptive=True, normalization='full', verbose=0)\n",
      "c:\\dev\\Brainwave-Processor\\yasa_features.py:223: RuntimeWarning: Iterative multi-taper PSD computation did not converge.\n",
      "  psd, freqs = psd_array_multitaper(epochs, sf, adaptive=True, normalization='full', verbose=0)\n",
      "c:\\dev\\Brainwave-Processor\\yasa_features.py:223: RuntimeWarning: Iterative multi-taper PSD computation did not converge.\n",
      "  psd, freqs = psd_array_multitaper(epochs, sf, adaptive=True, normalization='full', verbose=0)\n",
      "c:\\dev\\Brainwave-Processor\\yasa_features.py:223: RuntimeWarning: Iterative multi-taper PSD computation did not converge.\n",
      "  psd, freqs = psd_array_multitaper(epochs, sf, adaptive=True, normalization='full', verbose=0)\n",
      "c:\\dev\\Brainwave-Processor\\yasa_features.py:223: RuntimeWarning: Iterative multi-taper PSD computation did not converge.\n",
      "  psd, freqs = psd_array_multitaper(epochs, sf, adaptive=True, normalization='full', verbose=0)\n",
      "c:\\dev\\Brainwave-Processor\\yasa_features.py:223: RuntimeWarning: Iterative multi-taper PSD computation did not converge.\n",
      "  psd, freqs = psd_array_multitaper(epochs, sf, adaptive=True, normalization='full', verbose=0)\n",
      "c:\\dev\\Brainwave-Processor\\yasa_features.py:223: RuntimeWarning: Iterative multi-taper PSD computation did not converge.\n",
      "  psd, freqs = psd_array_multitaper(epochs, sf, adaptive=True, normalization='full', verbose=0)\n",
      "c:\\dev\\Brainwave-Processor\\yasa_features.py:223: RuntimeWarning: Iterative multi-taper PSD computation did not converge.\n",
      "  psd, freqs = psd_array_multitaper(epochs, sf, adaptive=True, normalization='full', verbose=0)\n",
      "c:\\dev\\Brainwave-Processor\\yasa_features.py:223: RuntimeWarning: Iterative multi-taper PSD computation did not converge.\n",
      "  psd, freqs = psd_array_multitaper(epochs, sf, adaptive=True, normalization='full', verbose=0)\n",
      "c:\\dev\\Brainwave-Processor\\yasa_features.py:223: RuntimeWarning: Iterative multi-taper PSD computation did not converge.\n",
      "  psd, freqs = psd_array_multitaper(epochs, sf, adaptive=True, normalization='full', verbose=0)\n",
      "c:\\dev\\Brainwave-Processor\\yasa_features.py:223: RuntimeWarning: Iterative multi-taper PSD computation did not converge.\n",
      "  psd, freqs = psd_array_multitaper(epochs, sf, adaptive=True, normalization='full', verbose=0)\n",
      "c:\\dev\\Brainwave-Processor\\yasa_features.py:223: RuntimeWarning: Iterative multi-taper PSD computation did not converge.\n",
      "  psd, freqs = psd_array_multitaper(epochs, sf, adaptive=True, normalization='full', verbose=0)\n",
      "c:\\dev\\Brainwave-Processor\\yasa_features.py:223: RuntimeWarning: Iterative multi-taper PSD computation did not converge.\n",
      "  psd, freqs = psd_array_multitaper(epochs, sf, adaptive=True, normalization='full', verbose=0)\n",
      "c:\\dev\\Brainwave-Processor\\yasa_features.py:223: RuntimeWarning: Iterative multi-taper PSD computation did not converge.\n",
      "  psd, freqs = psd_array_multitaper(epochs, sf, adaptive=True, normalization='full', verbose=0)\n",
      "c:\\dev\\Brainwave-Processor\\yasa_features.py:223: RuntimeWarning: Iterative multi-taper PSD computation did not converge.\n",
      "  psd, freqs = psd_array_multitaper(epochs, sf, adaptive=True, normalization='full', verbose=0)\n",
      "c:\\dev\\Brainwave-Processor\\yasa_features.py:223: RuntimeWarning: Iterative multi-taper PSD computation did not converge.\n",
      "  psd, freqs = psd_array_multitaper(epochs, sf, adaptive=True, normalization='full', verbose=0)\n",
      "c:\\dev\\Brainwave-Processor\\yasa_features.py:223: RuntimeWarning: Iterative multi-taper PSD computation did not converge.\n",
      "  psd, freqs = psd_array_multitaper(epochs, sf, adaptive=True, normalization='full', verbose=0)\n"
     ]
    },
    {
     "name": "stdout",
     "output_type": "stream",
     "text": [
      "2025-04-22 07:42:02.058890 All done! C:\\dev\\play\\brainwave-data\\2024-09-19-21-29-42\\raw.fif\n",
      "2025-04-22 07:42:02.070113 Saving to: C:\\dev\\play\\brainwave-data\\2024-09-19-21-29-42\\raw.post_yasa.csv\n"
     ]
    },
    {
     "name": "stderr",
     "output_type": "stream",
     "text": [
      "Post YASA pipeline:  26%|██▌       | 44/169 [00:34<07:39,  3.67s/it]"
     ]
    },
    {
     "name": "stdout",
     "output_type": "stream",
     "text": [
      "2025-04-22 07:42:02.361070 Processing file: C:\\dev\\play\\brainwave-data\\2024-09-20-21-19-28\\raw.fif\n",
      "YASA file: C:\\dev\\play\\brainwave-data\\2024-09-20-21-19-28\\raw.yasa.csv\n",
      "Artifacts file: C:\\dev\\play\\brainwave-data\\2024-09-20-21-19-28\\raw.artifacts.csv\n",
      "2025-04-22 07:42:02.367866 Loading cached file C:\\dev\\play\\brainwave-data\\2024-09-20-21-19-28\\raw.post_yasa.csv\n",
      "2025-04-22 07:42:02.493049 Processing file: C:\\dev\\play\\brainwave-data\\2024-09-22-21-30-59\\raw.fif\n",
      "YASA file: C:\\dev\\play\\brainwave-data\\2024-09-22-21-30-59\\raw.yasa.csv\n",
      "Artifacts file: C:\\dev\\play\\brainwave-data\\2024-09-22-21-30-59\\raw.artifacts.csv\n",
      "2025-04-22 07:42:02.497051 Loading cached file C:\\dev\\play\\brainwave-data\\2024-09-22-21-30-59\\raw.post_yasa.csv\n"
     ]
    },
    {
     "name": "stderr",
     "output_type": "stream",
     "text": [
      "Post YASA pipeline:  28%|██▊       | 47/169 [00:34<03:26,  1.69s/it]"
     ]
    },
    {
     "name": "stdout",
     "output_type": "stream",
     "text": [
      "2025-04-22 07:42:02.602321 Processing file: C:\\dev\\play\\brainwave-data\\2024-09-24-22-43-11\\raw.fif\n",
      "YASA file: C:\\dev\\play\\brainwave-data\\2024-09-24-22-43-11\\raw.yasa.csv\n",
      "Artifacts file: C:\\dev\\play\\brainwave-data\\2024-09-24-22-43-11\\raw.artifacts.csv\n",
      "2025-04-22 07:42:02.605459 Loading cached file C:\\dev\\play\\brainwave-data\\2024-09-24-22-43-11\\raw.post_yasa.csv\n",
      "2025-04-22 07:42:02.702638 Processing file: C:\\dev\\play\\brainwave-data\\2024-09-24-22-43-12\\raw.fif\n",
      "YASA file: C:\\dev\\play\\brainwave-data\\2024-09-24-22-43-12\\raw.yasa.csv\n",
      "Artifacts file: C:\\dev\\play\\brainwave-data\\2024-09-24-22-43-12\\raw.artifacts.csv\n",
      "2025-04-22 07:42:02.705388 Loading cached file C:\\dev\\play\\brainwave-data\\2024-09-24-22-43-12\\raw.post_yasa.csv\n"
     ]
    },
    {
     "name": "stderr",
     "output_type": "stream",
     "text": [
      "Post YASA pipeline:  28%|██▊       | 48/169 [00:34<02:33,  1.27s/it]"
     ]
    },
    {
     "name": "stdout",
     "output_type": "stream",
     "text": [
      "2025-04-22 07:42:02.806395 Processing file: C:\\dev\\play\\brainwave-data\\2024-09-25-21-57-01\\raw.fif\n",
      "YASA file: C:\\dev\\play\\brainwave-data\\2024-09-25-21-57-01\\raw.yasa.csv\n",
      "Artifacts file: C:\\dev\\play\\brainwave-data\\2024-09-25-21-57-01\\raw.artifacts.csv\n",
      "2025-04-22 07:42:02.810454 Loading cached file C:\\dev\\play\\brainwave-data\\2024-09-25-21-57-01\\raw.post_yasa.csv\n",
      "2025-04-22 07:42:02.920939 Processing file: C:\\dev\\play\\brainwave-data\\2024-09-26-21-24-52\\raw.fif\n",
      "YASA file: C:\\dev\\play\\brainwave-data\\2024-09-26-21-24-52\\raw.yasa.csv\n",
      "Artifacts file: C:\\dev\\play\\brainwave-data\\2024-09-26-21-24-52\\raw.artifacts.csv\n",
      "2025-04-22 07:42:02.924116 Loading cached file C:\\dev\\play\\brainwave-data\\2024-09-26-21-24-52\\raw.post_yasa.csv\n"
     ]
    },
    {
     "name": "stderr",
     "output_type": "stream",
     "text": [
      "Post YASA pipeline:  30%|██▉       | 50/169 [00:34<01:31,  1.30it/s]"
     ]
    },
    {
     "name": "stdout",
     "output_type": "stream",
     "text": [
      "2025-04-22 07:42:03.019713 Processing file: C:\\dev\\play\\brainwave-data\\2024-09-28-21-33-28\\raw.fif\n",
      "YASA file: C:\\dev\\play\\brainwave-data\\2024-09-28-21-33-28\\raw.yasa.csv\n",
      "Artifacts file: C:\\dev\\play\\brainwave-data\\2024-09-28-21-33-28\\raw.artifacts.csv\n",
      "2025-04-22 07:42:03.023082 Loading cached file C:\\dev\\play\\brainwave-data\\2024-09-28-21-33-28\\raw.post_yasa.csv\n",
      "2025-04-22 07:42:03.135819 Processing file: C:\\dev\\play\\brainwave-data\\2024-09-30-21-27-49\\raw.fif\n",
      "YASA file: C:\\dev\\play\\brainwave-data\\2024-09-30-21-27-49\\raw.yasa.csv\n",
      "Artifacts file: C:\\dev\\play\\brainwave-data\\2024-09-30-21-27-49\\raw.artifacts.csv\n",
      "2025-04-22 07:42:03.138498 Loading cached file C:\\dev\\play\\brainwave-data\\2024-09-30-21-27-49\\raw.post_yasa.csv\n"
     ]
    },
    {
     "name": "stderr",
     "output_type": "stream",
     "text": [
      "Post YASA pipeline:  31%|███       | 52/169 [00:35<00:56,  2.06it/s]"
     ]
    },
    {
     "name": "stdout",
     "output_type": "stream",
     "text": [
      "2025-04-22 07:42:03.237762 Processing file: C:\\dev\\play\\brainwave-data\\2024-10-01-21-36-11\\raw.fif\n",
      "YASA file: C:\\dev\\play\\brainwave-data\\2024-10-01-21-36-11\\raw.yasa.csv\n",
      "Artifacts file: C:\\dev\\play\\brainwave-data\\2024-10-01-21-36-11\\raw.artifacts.csv\n",
      "2025-04-22 07:42:03.241226 Loading cached file C:\\dev\\play\\brainwave-data\\2024-10-01-21-36-11\\raw.post_yasa.csv\n",
      "2025-04-22 07:42:03.351253 Processing file: C:\\dev\\play\\brainwave-data\\2024-10-02-21-21-15\\raw.fif\n",
      "YASA file: C:\\dev\\play\\brainwave-data\\2024-10-02-21-21-15\\raw.yasa.csv\n",
      "Artifacts file: C:\\dev\\play\\brainwave-data\\2024-10-02-21-21-15\\raw.artifacts.csv\n",
      "2025-04-22 07:42:03.354692 Loading cached file C:\\dev\\play\\brainwave-data\\2024-10-02-21-21-15\\raw.post_yasa.csv\n"
     ]
    },
    {
     "name": "stderr",
     "output_type": "stream",
     "text": [
      "Post YASA pipeline:  32%|███▏      | 54/169 [00:35<00:35,  3.22it/s]"
     ]
    },
    {
     "name": "stdout",
     "output_type": "stream",
     "text": [
      "2025-04-22 07:42:03.462867 Processing file: C:\\dev\\play\\brainwave-data\\2024-10-04-21-13-39\\raw.fif\n",
      "YASA file: C:\\dev\\play\\brainwave-data\\2024-10-04-21-13-39\\raw.yasa.csv\n",
      "Artifacts file: C:\\dev\\play\\brainwave-data\\2024-10-04-21-13-39\\raw.artifacts.csv\n",
      "2025-04-22 07:42:03.466131 Loading cached file C:\\dev\\play\\brainwave-data\\2024-10-04-21-13-39\\raw.post_yasa.csv\n",
      "2025-04-22 07:42:03.572193 Processing file: C:\\dev\\play\\brainwave-data\\2024-10-05-21-09-46\\raw.fif\n",
      "YASA file: C:\\dev\\play\\brainwave-data\\2024-10-05-21-09-46\\raw.yasa.csv\n",
      "Artifacts file: C:\\dev\\play\\brainwave-data\\2024-10-05-21-09-46\\raw.artifacts.csv\n",
      "2025-04-22 07:42:03.575742 Loading cached file C:\\dev\\play\\brainwave-data\\2024-10-05-21-09-46\\raw.post_yasa.csv\n"
     ]
    },
    {
     "name": "stderr",
     "output_type": "stream",
     "text": [
      "Post YASA pipeline:  33%|███▎      | 56/169 [00:35<00:23,  4.76it/s]"
     ]
    },
    {
     "name": "stdout",
     "output_type": "stream",
     "text": [
      "2025-04-22 07:42:03.680505 Processing file: C:\\dev\\play\\brainwave-data\\2024-10-06-21-29-18\\raw.fif\n",
      "YASA file: C:\\dev\\play\\brainwave-data\\2024-10-06-21-29-18\\raw.yasa.csv\n",
      "Artifacts file: C:\\dev\\play\\brainwave-data\\2024-10-06-21-29-18\\raw.artifacts.csv\n",
      "2025-04-22 07:42:03.683515 Loading cached file C:\\dev\\play\\brainwave-data\\2024-10-06-21-29-18\\raw.post_yasa.csv\n",
      "2025-04-22 07:42:03.781507 Processing file: C:\\dev\\play\\brainwave-data\\2024-10-07-21-35-17\\raw.fif\n",
      "YASA file: C:\\dev\\play\\brainwave-data\\2024-10-07-21-35-17\\raw.yasa.csv\n",
      "Artifacts file: C:\\dev\\play\\brainwave-data\\2024-10-07-21-35-17\\raw.artifacts.csv\n",
      "2025-04-22 07:42:03.784105 Loading cached file C:\\dev\\play\\brainwave-data\\2024-10-07-21-35-17\\raw.post_yasa.csv\n",
      "2025-04-22 07:42:03.877145 Processing file: C:\\dev\\play\\brainwave-data\\2024-10-08-21-21-34\\raw.fif\n",
      "YASA file: C:\\dev\\play\\brainwave-data\\2024-10-08-21-21-34\\raw.yasa.csv\n",
      "Artifacts file: C:\\dev\\play\\brainwave-data\\2024-10-08-21-21-34\\raw.artifacts.csv\n",
      "2025-04-22 07:42:03.879683 Loading cached file C:\\dev\\play\\brainwave-data\\2024-10-08-21-21-34\\raw.post_yasa.csv\n"
     ]
    },
    {
     "name": "stderr",
     "output_type": "stream",
     "text": [
      "Post YASA pipeline:  35%|███▍      | 59/169 [00:35<00:16,  6.75it/s]"
     ]
    },
    {
     "name": "stdout",
     "output_type": "stream",
     "text": [
      "2025-04-22 07:42:03.975546 Processing file: C:\\dev\\play\\brainwave-data\\2024-10-09-21-22-04\\raw.fif\n",
      "YASA file: C:\\dev\\play\\brainwave-data\\2024-10-09-21-22-04\\raw.yasa.csv\n",
      "Artifacts file: C:\\dev\\play\\brainwave-data\\2024-10-09-21-22-04\\raw.artifacts.csv\n",
      "2025-04-22 07:42:03.979668 Loading cached file C:\\dev\\play\\brainwave-data\\2024-10-09-21-22-04\\raw.post_yasa.csv\n",
      "2025-04-22 07:42:04.089663 Processing file: C:\\dev\\play\\brainwave-data\\2024-10-11-21-16-27\\raw.fif\n",
      "YASA file: C:\\dev\\play\\brainwave-data\\2024-10-11-21-16-27\\raw.yasa.csv\n",
      "Artifacts file: C:\\dev\\play\\brainwave-data\\2024-10-11-21-16-27\\raw.artifacts.csv\n",
      "2025-04-22 07:42:04.093528 Loading cached file C:\\dev\\play\\brainwave-data\\2024-10-11-21-16-27\\raw.post_yasa.csv\n"
     ]
    },
    {
     "name": "stderr",
     "output_type": "stream",
     "text": [
      "Post YASA pipeline:  36%|███▌      | 61/169 [00:36<00:14,  7.33it/s]"
     ]
    },
    {
     "name": "stdout",
     "output_type": "stream",
     "text": [
      "2025-04-22 07:42:04.214348 Processing file: C:\\dev\\play\\brainwave-data\\2024-10-15-22-01-52\\raw.fif\n",
      "YASA file: C:\\dev\\play\\brainwave-data\\2024-10-15-22-01-52\\raw.yasa.csv\n",
      "Artifacts file: C:\\dev\\play\\brainwave-data\\2024-10-15-22-01-52\\raw.artifacts.csv\n",
      "2025-04-22 07:42:04.217828 Loading cached file C:\\dev\\play\\brainwave-data\\2024-10-15-22-01-52\\raw.post_yasa.csv\n",
      "2025-04-22 07:42:04.335448 Processing file: C:\\dev\\play\\brainwave-data\\2024-10-20-20-09-48\\raw.fif\n",
      "YASA file: C:\\dev\\play\\brainwave-data\\2024-10-20-20-09-48\\raw.yasa.csv\n",
      "Artifacts file: C:\\dev\\play\\brainwave-data\\2024-10-20-20-09-48\\raw.artifacts.csv\n",
      "2025-04-22 07:42:04.337449 Loading cached file C:\\dev\\play\\brainwave-data\\2024-10-20-20-09-48\\raw.post_yasa.csv\n",
      "2025-04-22 07:42:04.355361 Processing file: C:\\dev\\play\\brainwave-data\\2024-10-21-21-30-18\\raw.fif\n",
      "YASA file: C:\\dev\\play\\brainwave-data\\2024-10-21-21-30-18\\raw.yasa.csv\n",
      "Artifacts file: C:\\dev\\play\\brainwave-data\\2024-10-21-21-30-18\\raw.artifacts.csv\n",
      "2025-04-22 07:42:04.359028 Loading cached file C:\\dev\\play\\brainwave-data\\2024-10-21-21-30-18\\raw.post_yasa.csv\n"
     ]
    },
    {
     "name": "stderr",
     "output_type": "stream",
     "text": [
      "Post YASA pipeline:  38%|███▊      | 65/169 [00:36<00:10,  9.54it/s]"
     ]
    },
    {
     "name": "stdout",
     "output_type": "stream",
     "text": [
      "2025-04-22 07:42:04.469340 Processing file: C:\\dev\\play\\brainwave-data\\2024-10-23-21-24-02\\raw.fif\n",
      "YASA file: C:\\dev\\play\\brainwave-data\\2024-10-23-21-24-02\\raw.yasa.csv\n",
      "Artifacts file: C:\\dev\\play\\brainwave-data\\2024-10-23-21-24-02\\raw.artifacts.csv\n",
      "2025-04-22 07:42:04.472797 Loading cached file C:\\dev\\play\\brainwave-data\\2024-10-23-21-24-02\\raw.post_yasa.csv\n",
      "2025-04-22 07:42:04.587898 Processing file: C:\\dev\\play\\brainwave-data\\2024-10-24-21-35-33\\raw.fif\n",
      "YASA file: C:\\dev\\play\\brainwave-data\\2024-10-24-21-35-33\\raw.yasa.csv\n",
      "Artifacts file: C:\\dev\\play\\brainwave-data\\2024-10-24-21-35-33\\raw.artifacts.csv\n",
      "2025-04-22 07:42:04.590472 Loading cached file C:\\dev\\play\\brainwave-data\\2024-10-24-21-35-33\\raw.post_yasa.csv\n"
     ]
    },
    {
     "name": "stderr",
     "output_type": "stream",
     "text": [
      "Post YASA pipeline:  40%|███▉      | 67/169 [00:36<00:09, 11.02it/s]"
     ]
    },
    {
     "name": "stdout",
     "output_type": "stream",
     "text": [
      "2025-04-22 07:42:04.674350 Processing file: C:\\dev\\play\\brainwave-data\\2024-10-29-20-42-12\\raw.fif\n",
      "YASA file: C:\\dev\\play\\brainwave-data\\2024-10-29-20-42-12\\raw.yasa.csv\n",
      "Artifacts file: C:\\dev\\play\\brainwave-data\\2024-10-29-20-42-12\\raw.artifacts.csv\n",
      "2025-04-22 07:42:04.676591 Loading cached file C:\\dev\\play\\brainwave-data\\2024-10-29-20-42-12\\raw.post_yasa.csv\n",
      "2025-04-22 07:42:04.698969 Processing file: C:\\dev\\play\\brainwave-data\\2024-10-30-21-26-55\\raw.fif\n",
      "YASA file: C:\\dev\\play\\brainwave-data\\2024-10-30-21-26-55\\raw.yasa.csv\n",
      "Artifacts file: C:\\dev\\play\\brainwave-data\\2024-10-30-21-26-55\\raw.artifacts.csv\n",
      "2025-04-22 07:42:04.701906 Loading cached file C:\\dev\\play\\brainwave-data\\2024-10-30-21-26-55\\raw.post_yasa.csv\n",
      "2025-04-22 07:42:04.804583 Processing file: C:\\dev\\play\\brainwave-data\\2024-11-01-21-32-22\\raw.fif\n",
      "YASA file: C:\\dev\\play\\brainwave-data\\2024-11-01-21-32-22\\raw.yasa.csv\n",
      "Artifacts file: C:\\dev\\play\\brainwave-data\\2024-11-01-21-32-22\\raw.artifacts.csv\n",
      "2025-04-22 07:42:04.808254 Loading cached file C:\\dev\\play\\brainwave-data\\2024-11-01-21-32-22\\raw.post_yasa.csv\n"
     ]
    },
    {
     "name": "stderr",
     "output_type": "stream",
     "text": [
      "Post YASA pipeline:  41%|████      | 69/169 [00:36<00:09, 10.46it/s]"
     ]
    },
    {
     "name": "stdout",
     "output_type": "stream",
     "text": [
      "2025-04-22 07:42:04.904106 Processing file: C:\\dev\\play\\brainwave-data\\2024-11-02-21-29-03\\raw.fif\n",
      "YASA file: C:\\dev\\play\\brainwave-data\\2024-11-02-21-29-03\\raw.yasa.csv\n",
      "Artifacts file: C:\\dev\\play\\brainwave-data\\2024-11-02-21-29-03\\raw.artifacts.csv\n",
      "2025-04-22 07:42:04.907670 Loading cached file C:\\dev\\play\\brainwave-data\\2024-11-02-21-29-03\\raw.post_yasa.csv\n",
      "2025-04-22 07:42:05.015109 Processing file: C:\\dev\\play\\brainwave-data\\2024-11-03-21-20-37\\raw.fif\n",
      "YASA file: C:\\dev\\play\\brainwave-data\\2024-11-03-21-20-37\\raw.yasa.csv\n",
      "Artifacts file: C:\\dev\\play\\brainwave-data\\2024-11-03-21-20-37\\raw.artifacts.csv\n",
      "2025-04-22 07:42:05.017275 Loading cached file C:\\dev\\play\\brainwave-data\\2024-11-03-21-20-37\\raw.post_yasa.csv\n",
      "2025-04-22 07:42:05.038741 Processing file: C:\\dev\\play\\brainwave-data\\2024-11-04-21-20-51\\raw.fif\n",
      "YASA file: C:\\dev\\play\\brainwave-data\\2024-11-04-21-20-51\\raw.yasa.csv\n",
      "Artifacts file: C:\\dev\\play\\brainwave-data\\2024-11-04-21-20-51\\raw.artifacts.csv\n",
      "2025-04-22 07:42:05.042524 Loading cached file C:\\dev\\play\\brainwave-data\\2024-11-04-21-20-51\\raw.post_yasa.csv\n"
     ]
    },
    {
     "name": "stderr",
     "output_type": "stream",
     "text": [
      "Post YASA pipeline:  42%|████▏     | 71/169 [00:36<00:09, 10.39it/s]"
     ]
    },
    {
     "name": "stdout",
     "output_type": "stream",
     "text": [
      "2025-04-22 07:42:05.209985 Processing file: C:\\dev\\play\\brainwave-data\\2024-11-05-21-34-15\\raw.fif\n",
      "YASA file: C:\\dev\\play\\brainwave-data\\2024-11-05-21-34-15\\raw.yasa.csv\n",
      "Artifacts file: C:\\dev\\play\\brainwave-data\\2024-11-05-21-34-15\\raw.artifacts.csv\n",
      "2025-04-22 07:42:05.215747 Loading cached file C:\\dev\\play\\brainwave-data\\2024-11-05-21-34-15\\raw.post_yasa.csv\n",
      "2025-04-22 07:42:05.304263 Processing file: C:\\dev\\play\\brainwave-data\\2024-11-07-21-26-18\\raw.fif\n",
      "YASA file: C:\\dev\\play\\brainwave-data\\2024-11-07-21-26-18\\raw.yasa.csv\n",
      "Artifacts file: C:\\dev\\play\\brainwave-data\\2024-11-07-21-26-18\\raw.artifacts.csv\n",
      "2025-04-22 07:42:05.307597 Loading cached file C:\\dev\\play\\brainwave-data\\2024-11-07-21-26-18\\raw.post_yasa.csv\n"
     ]
    },
    {
     "name": "stderr",
     "output_type": "stream",
     "text": [
      "Post YASA pipeline:  43%|████▎     | 73/169 [00:37<00:09,  9.98it/s]"
     ]
    },
    {
     "name": "stdout",
     "output_type": "stream",
     "text": [
      "2025-04-22 07:42:05.427512 Processing file: C:\\dev\\play\\brainwave-data\\2024-11-08-21-16-53\\raw.fif\n",
      "YASA file: C:\\dev\\play\\brainwave-data\\2024-11-08-21-16-53\\raw.yasa.csv\n",
      "Artifacts file: C:\\dev\\play\\brainwave-data\\2024-11-08-21-16-53\\raw.artifacts.csv\n",
      "2025-04-22 07:42:05.430868 Loading cached file C:\\dev\\play\\brainwave-data\\2024-11-08-21-16-53\\raw.post_yasa.csv\n",
      "2025-04-22 07:42:05.543996 Processing file: C:\\dev\\play\\brainwave-data\\2024-11-09-21-27-51\\raw.fif\n",
      "YASA file: C:\\dev\\play\\brainwave-data\\2024-11-09-21-27-51\\raw.yasa.csv\n",
      "Artifacts file: C:\\dev\\play\\brainwave-data\\2024-11-09-21-27-51\\raw.artifacts.csv\n",
      "2025-04-22 07:42:05.547352 Loading cached file C:\\dev\\play\\brainwave-data\\2024-11-09-21-27-51\\raw.post_yasa.csv\n"
     ]
    },
    {
     "name": "stderr",
     "output_type": "stream",
     "text": [
      "Post YASA pipeline:  45%|████▍     | 76/169 [00:37<00:10,  9.10it/s]"
     ]
    },
    {
     "name": "stdout",
     "output_type": "stream",
     "text": [
      "2025-04-22 07:42:05.679720 Processing file: C:\\dev\\play\\brainwave-data\\2024-11-12-21-11-43\\raw.fif\n",
      "YASA file: C:\\dev\\play\\brainwave-data\\2024-11-12-21-11-43\\raw.yasa.csv\n",
      "Artifacts file: C:\\dev\\play\\brainwave-data\\2024-11-12-21-11-43\\raw.artifacts.csv\n",
      "2025-04-22 07:42:05.683889 Loading cached file C:\\dev\\play\\brainwave-data\\2024-11-12-21-11-43\\raw.post_yasa.csv\n",
      "2025-04-22 07:42:05.797061 Processing file: C:\\dev\\play\\brainwave-data\\2024-11-16-21-54-46\\raw.fif\n",
      "YASA file: C:\\dev\\play\\brainwave-data\\2024-11-16-21-54-46\\raw.yasa.csv\n",
      "Artifacts file: C:\\dev\\play\\brainwave-data\\2024-11-16-21-54-46\\raw.artifacts.csv\n",
      "2025-04-22 07:42:05.800681 Loading cached file C:\\dev\\play\\brainwave-data\\2024-11-16-21-54-46\\raw.post_yasa.csv\n"
     ]
    },
    {
     "name": "stderr",
     "output_type": "stream",
     "text": [
      "Post YASA pipeline:  46%|████▌     | 78/169 [00:37<00:10,  8.84it/s]"
     ]
    },
    {
     "name": "stdout",
     "output_type": "stream",
     "text": [
      "2025-04-22 07:42:05.915713 Processing file: C:\\dev\\play\\brainwave-data\\2024-11-19-21-29-04\\raw.fif\n",
      "YASA file: C:\\dev\\play\\brainwave-data\\2024-11-19-21-29-04\\raw.yasa.csv\n",
      "Artifacts file: C:\\dev\\play\\brainwave-data\\2024-11-19-21-29-04\\raw.artifacts.csv\n",
      "2025-04-22 07:42:05.920222 Loading cached file C:\\dev\\play\\brainwave-data\\2024-11-19-21-29-04\\raw.post_yasa.csv\n",
      "2025-04-22 07:42:06.033976 Processing file: C:\\dev\\play\\brainwave-data\\2024-11-20-21-30-29\\raw.fif\n",
      "YASA file: C:\\dev\\play\\brainwave-data\\2024-11-20-21-30-29\\raw.yasa.csv\n",
      "Artifacts file: C:\\dev\\play\\brainwave-data\\2024-11-20-21-30-29\\raw.artifacts.csv\n",
      "2025-04-22 07:42:06.036297 Loading cached file C:\\dev\\play\\brainwave-data\\2024-11-20-21-30-29\\raw.post_yasa.csv\n",
      "2025-04-22 07:42:06.107470 Processing file: C:\\dev\\play\\brainwave-data\\2024-11-21-21-15-26\\raw.fif\n",
      "YASA file: C:\\dev\\play\\brainwave-data\\2024-11-21-21-15-26\\raw.yasa.csv\n",
      "Artifacts file: C:\\dev\\play\\brainwave-data\\2024-11-21-21-15-26\\raw.artifacts.csv\n",
      "2025-04-22 07:42:06.110754 Loading cached file C:\\dev\\play\\brainwave-data\\2024-11-21-21-15-26\\raw.post_yasa.csv\n"
     ]
    },
    {
     "name": "stderr",
     "output_type": "stream",
     "text": [
      "Post YASA pipeline:  47%|████▋     | 80/169 [00:37<00:09,  9.43it/s]"
     ]
    },
    {
     "name": "stdout",
     "output_type": "stream",
     "text": [
      "2025-04-22 07:42:06.223897 Processing file: C:\\dev\\play\\brainwave-data\\2024-11-22-21-30-12\\raw.fif\n",
      "YASA file: C:\\dev\\play\\brainwave-data\\2024-11-22-21-30-12\\raw.yasa.csv\n",
      "Artifacts file: C:\\dev\\play\\brainwave-data\\2024-11-22-21-30-12\\raw.artifacts.csv\n",
      "2025-04-22 07:42:06.226913 Loading cached file C:\\dev\\play\\brainwave-data\\2024-11-22-21-30-12\\raw.post_yasa.csv\n",
      "2025-04-22 07:42:06.309779 Processing file: C:\\dev\\play\\brainwave-data\\2024-11-23-21-14-58\\raw.fif\n",
      "YASA file: C:\\dev\\play\\brainwave-data\\2024-11-23-21-14-58\\raw.yasa.csv\n",
      "Artifacts file: C:\\dev\\play\\brainwave-data\\2024-11-23-21-14-58\\raw.artifacts.csv\n",
      "2025-04-22 07:42:06.313401 Loading cached file C:\\dev\\play\\brainwave-data\\2024-11-23-21-14-58\\raw.post_yasa.csv\n"
     ]
    },
    {
     "name": "stderr",
     "output_type": "stream",
     "text": [
      "Post YASA pipeline:  51%|█████     | 86/169 [00:38<00:06, 13.67it/s]"
     ]
    },
    {
     "name": "stdout",
     "output_type": "stream",
     "text": [
      "2025-04-22 07:42:06.435509 Processing file: C:\\dev\\play\\brainwave-data\\2024-11-24-21-21-31\\raw.fif\n",
      "YASA file: C:\\dev\\play\\brainwave-data\\2024-11-24-21-21-31\\raw.yasa.csv\n",
      "Artifacts file: C:\\dev\\play\\brainwave-data\\2024-11-24-21-21-31\\raw.artifacts.csv\n",
      "2025-04-22 07:42:06.437451 Loading cached file C:\\dev\\play\\brainwave-data\\2024-11-24-21-21-31\\raw.post_yasa.csv\n",
      "2025-04-22 07:42:06.460956 Processing file: C:\\dev\\play\\brainwave-data\\2024-11-24-22-33-06\\raw.fif\n",
      "YASA file: C:\\dev\\play\\brainwave-data\\2024-11-24-22-33-06\\raw.yasa.csv\n",
      "Artifacts file: C:\\dev\\play\\brainwave-data\\2024-11-24-22-33-06\\raw.artifacts.csv\n",
      "2025-04-22 07:42:06.462760 Loading cached file C:\\dev\\play\\brainwave-data\\2024-11-24-22-33-06\\raw.post_yasa.csv\n",
      "2025-04-22 07:42:06.473992 Processing file: C:\\dev\\play\\brainwave-data\\2024-11-24-22-37-54\\raw.fif\n",
      "YASA file: C:\\dev\\play\\brainwave-data\\2024-11-24-22-37-54\\raw.yasa.csv\n",
      "Artifacts file: C:\\dev\\play\\brainwave-data\\2024-11-24-22-37-54\\raw.artifacts.csv\n",
      "2025-04-22 07:42:06.476428 Loading cached file C:\\dev\\play\\brainwave-data\\2024-11-24-22-37-54\\raw.post_yasa.csv\n",
      "2025-04-22 07:42:06.488603 Processing file: C:\\dev\\play\\brainwave-data\\2024-11-25-21-27-21\\raw.fif\n",
      "YASA file: C:\\dev\\play\\brainwave-data\\2024-11-25-21-27-21\\raw.yasa.csv\n",
      "Artifacts file: C:\\dev\\play\\brainwave-data\\2024-11-25-21-27-21\\raw.artifacts.csv\n",
      "2025-04-22 07:42:06.491576 Loading cached file C:\\dev\\play\\brainwave-data\\2024-11-25-21-27-21\\raw.post_yasa.csv\n",
      "2025-04-22 07:42:06.600516 Processing file: C:\\dev\\play\\brainwave-data\\2024-11-26-21-35-46\\raw.fif\n",
      "YASA file: C:\\dev\\play\\brainwave-data\\2024-11-26-21-35-46\\raw.yasa.csv\n",
      "Artifacts file: C:\\dev\\play\\brainwave-data\\2024-11-26-21-35-46\\raw.artifacts.csv\n",
      "2025-04-22 07:42:06.604030 Loading cached file C:\\dev\\play\\brainwave-data\\2024-11-26-21-35-46\\raw.post_yasa.csv\n"
     ]
    },
    {
     "name": "stderr",
     "output_type": "stream",
     "text": [
      "Post YASA pipeline:  52%|█████▏    | 88/169 [00:38<00:06, 12.40it/s]"
     ]
    },
    {
     "name": "stdout",
     "output_type": "stream",
     "text": [
      "2025-04-22 07:42:06.711891 Processing file: C:\\dev\\play\\brainwave-data\\2024-11-27-21-18-50\\raw.fif\n",
      "YASA file: C:\\dev\\play\\brainwave-data\\2024-11-27-21-18-50\\raw.yasa.csv\n",
      "Artifacts file: C:\\dev\\play\\brainwave-data\\2024-11-27-21-18-50\\raw.artifacts.csv\n",
      "2025-04-22 07:42:06.715285 Loading cached file C:\\dev\\play\\brainwave-data\\2024-11-27-21-18-50\\raw.post_yasa.csv\n",
      "2025-04-22 07:42:06.803379 Processing file: C:\\dev\\play\\brainwave-data\\2024-11-28-21-50-57\\raw.fif\n",
      "YASA file: C:\\dev\\play\\brainwave-data\\2024-11-28-21-50-57\\raw.yasa.csv\n",
      "Artifacts file: C:\\dev\\play\\brainwave-data\\2024-11-28-21-50-57\\raw.artifacts.csv\n",
      "2025-04-22 07:42:06.807010 Loading cached file C:\\dev\\play\\brainwave-data\\2024-11-28-21-50-57\\raw.post_yasa.csv\n",
      "2025-04-22 07:42:06.909951 Processing file: C:\\dev\\play\\brainwave-data\\2024-11-29-21-18-33\\raw.fif\n",
      "YASA file: C:\\dev\\play\\brainwave-data\\2024-11-29-21-18-33\\raw.yasa.csv\n",
      "Artifacts file: C:\\dev\\play\\brainwave-data\\2024-11-29-21-18-33\\raw.artifacts.csv\n",
      "2025-04-22 07:42:06.913910 Loading cached file C:\\dev\\play\\brainwave-data\\2024-11-29-21-18-33\\raw.post_yasa.csv\n"
     ]
    },
    {
     "name": "stderr",
     "output_type": "stream",
     "text": [
      "Post YASA pipeline:  54%|█████▍    | 92/169 [00:38<00:06, 11.08it/s]"
     ]
    },
    {
     "name": "stdout",
     "output_type": "stream",
     "text": [
      "2025-04-22 07:42:07.020223 Processing file: C:\\dev\\play\\brainwave-data\\2024-11-30-21-21-05\\raw.fif\n",
      "YASA file: C:\\dev\\play\\brainwave-data\\2024-11-30-21-21-05\\raw.yasa.csv\n",
      "Artifacts file: C:\\dev\\play\\brainwave-data\\2024-11-30-21-21-05\\raw.artifacts.csv\n",
      "2025-04-22 07:42:07.024374 Loading cached file C:\\dev\\play\\brainwave-data\\2024-11-30-21-21-05\\raw.post_yasa.csv\n",
      "2025-04-22 07:42:07.150863 Processing file: C:\\dev\\play\\brainwave-data\\2024-12-01-21-29-13\\raw.fif\n",
      "YASA file: C:\\dev\\play\\brainwave-data\\2024-12-01-21-29-13\\raw.yasa.csv\n",
      "Artifacts file: C:\\dev\\play\\brainwave-data\\2024-12-01-21-29-13\\raw.artifacts.csv\n",
      "2025-04-22 07:42:07.153264 Loading cached file C:\\dev\\play\\brainwave-data\\2024-12-01-21-29-13\\raw.post_yasa.csv\n",
      "2025-04-22 07:42:07.211037 Processing file: C:\\dev\\play\\brainwave-data\\2024-12-03-21-15-08\\raw.fif\n",
      "YASA file: C:\\dev\\play\\brainwave-data\\2024-12-03-21-15-08\\raw.yasa.csv\n",
      "Artifacts file: C:\\dev\\play\\brainwave-data\\2024-12-03-21-15-08\\raw.artifacts.csv\n",
      "2025-04-22 07:42:07.213160 Loading cached file C:\\dev\\play\\brainwave-data\\2024-12-03-21-15-08\\raw.post_yasa.csv\n"
     ]
    },
    {
     "name": "stderr",
     "output_type": "stream",
     "text": [
      "Post YASA pipeline:  56%|█████▌    | 94/169 [00:39<00:06, 11.55it/s]"
     ]
    },
    {
     "name": "stdout",
     "output_type": "stream",
     "text": [
      "2025-04-22 07:42:07.250475 Processing file: C:\\dev\\play\\brainwave-data\\2024-12-04-21-15-17\\raw.fif\n",
      "YASA file: C:\\dev\\play\\brainwave-data\\2024-12-04-21-15-17\\raw.yasa.csv\n",
      "Artifacts file: C:\\dev\\play\\brainwave-data\\2024-12-04-21-15-17\\raw.artifacts.csv\n",
      "2025-04-22 07:42:07.253773 Loading cached file C:\\dev\\play\\brainwave-data\\2024-12-04-21-15-17\\raw.post_yasa.csv\n",
      "2025-04-22 07:42:07.365816 Processing file: C:\\dev\\play\\brainwave-data\\2024-12-05-21-15-24\\raw.fif\n",
      "YASA file: C:\\dev\\play\\brainwave-data\\2024-12-05-21-15-24\\raw.yasa.csv\n",
      "Artifacts file: C:\\dev\\play\\brainwave-data\\2024-12-05-21-15-24\\raw.artifacts.csv\n",
      "2025-04-22 07:42:07.369567 Loading cached file C:\\dev\\play\\brainwave-data\\2024-12-05-21-15-24\\raw.post_yasa.csv\n"
     ]
    },
    {
     "name": "stderr",
     "output_type": "stream",
     "text": [
      "Post YASA pipeline:  57%|█████▋    | 96/169 [00:39<00:07, 10.28it/s]"
     ]
    },
    {
     "name": "stdout",
     "output_type": "stream",
     "text": [
      "2025-04-22 07:42:07.492621 Processing file: C:\\dev\\play\\brainwave-data\\2024-12-06-21-32-04\\raw.fif\n",
      "YASA file: C:\\dev\\play\\brainwave-data\\2024-12-06-21-32-04\\raw.yasa.csv\n",
      "Artifacts file: C:\\dev\\play\\brainwave-data\\2024-12-06-21-32-04\\raw.artifacts.csv\n",
      "2025-04-22 07:42:07.496654 Loading cached file C:\\dev\\play\\brainwave-data\\2024-12-06-21-32-04\\raw.post_yasa.csv\n",
      "2025-04-22 07:42:07.612568 Processing file: C:\\dev\\play\\brainwave-data\\2024-12-07-21-19-09\\raw.fif\n",
      "YASA file: C:\\dev\\play\\brainwave-data\\2024-12-07-21-19-09\\raw.yasa.csv\n",
      "Artifacts file: C:\\dev\\play\\brainwave-data\\2024-12-07-21-19-09\\raw.artifacts.csv\n",
      "2025-04-22 07:42:07.616077 Loading cached file C:\\dev\\play\\brainwave-data\\2024-12-07-21-19-09\\raw.post_yasa.csv\n"
     ]
    },
    {
     "name": "stderr",
     "output_type": "stream",
     "text": [
      "Post YASA pipeline:  58%|█████▊    | 98/169 [00:39<00:07,  9.71it/s]"
     ]
    },
    {
     "name": "stdout",
     "output_type": "stream",
     "text": [
      "2025-04-22 07:42:07.734277 Processing file: C:\\dev\\play\\brainwave-data\\2024-12-08-21-23-50\\raw.fif\n",
      "YASA file: C:\\dev\\play\\brainwave-data\\2024-12-08-21-23-50\\raw.yasa.csv\n",
      "Artifacts file: C:\\dev\\play\\brainwave-data\\2024-12-08-21-23-50\\raw.artifacts.csv\n",
      "2025-04-22 07:42:07.737646 Loading cached file C:\\dev\\play\\brainwave-data\\2024-12-08-21-23-50\\raw.post_yasa.csv\n",
      "2025-04-22 07:42:07.846247 Processing file: C:\\dev\\play\\brainwave-data\\2024-12-09-21-29-08\\raw.fif\n",
      "YASA file: C:\\dev\\play\\brainwave-data\\2024-12-09-21-29-08\\raw.yasa.csv\n",
      "Artifacts file: C:\\dev\\play\\brainwave-data\\2024-12-09-21-29-08\\raw.artifacts.csv\n",
      "2025-04-22 07:42:07.849813 Loading cached file C:\\dev\\play\\brainwave-data\\2024-12-09-21-29-08\\raw.post_yasa.csv\n"
     ]
    },
    {
     "name": "stderr",
     "output_type": "stream",
     "text": [
      "Post YASA pipeline:  59%|█████▉    | 100/169 [00:39<00:07,  9.21it/s]"
     ]
    },
    {
     "name": "stdout",
     "output_type": "stream",
     "text": [
      "2025-04-22 07:42:07.968913 Processing file: C:\\dev\\play\\brainwave-data\\2024-12-10-21-14-13\\raw.fif\n",
      "YASA file: C:\\dev\\play\\brainwave-data\\2024-12-10-21-14-13\\raw.yasa.csv\n",
      "Artifacts file: C:\\dev\\play\\brainwave-data\\2024-12-10-21-14-13\\raw.artifacts.csv\n",
      "2025-04-22 07:42:07.972421 Loading cached file C:\\dev\\play\\brainwave-data\\2024-12-10-21-14-13\\raw.post_yasa.csv\n",
      "2025-04-22 07:42:08.090042 Processing file: C:\\dev\\play\\brainwave-data\\2024-12-11-21-31-37\\raw.fif\n",
      "YASA file: C:\\dev\\play\\brainwave-data\\2024-12-11-21-31-37\\raw.yasa.csv\n",
      "Artifacts file: C:\\dev\\play\\brainwave-data\\2024-12-11-21-31-37\\raw.artifacts.csv\n",
      "2025-04-22 07:42:08.093247 Loading cached file C:\\dev\\play\\brainwave-data\\2024-12-11-21-31-37\\raw.post_yasa.csv\n"
     ]
    },
    {
     "name": "stderr",
     "output_type": "stream",
     "text": [
      "Post YASA pipeline:  60%|██████    | 102/169 [00:40<00:08,  8.16it/s]Traceback (most recent call last):\n",
      "  File \"C:\\Users\\graha\\AppData\\Local\\Temp\\ipykernel_35320\\404251101.py\", line 23, in process_file_for_post_yasa\n",
      "    artifacts_df = pd.read_csv(artifacts_csv_path)\n",
      "  File \"c:\\Users\\graha\\.conda\\envs\\py3.13\\Lib\\site-packages\\pandas\\io\\parsers\\readers.py\", line 1026, in read_csv\n",
      "    return _read(filepath_or_buffer, kwds)\n",
      "  File \"c:\\Users\\graha\\.conda\\envs\\py3.13\\Lib\\site-packages\\pandas\\io\\parsers\\readers.py\", line 620, in _read\n",
      "    parser = TextFileReader(filepath_or_buffer, **kwds)\n",
      "  File \"c:\\Users\\graha\\.conda\\envs\\py3.13\\Lib\\site-packages\\pandas\\io\\parsers\\readers.py\", line 1620, in __init__\n",
      "    self._engine = self._make_engine(f, self.engine)\n",
      "                   ~~~~~~~~~~~~~~~~~^^^^^^^^^^^^^^^^\n",
      "  File \"c:\\Users\\graha\\.conda\\envs\\py3.13\\Lib\\site-packages\\pandas\\io\\parsers\\readers.py\", line 1898, in _make_engine\n",
      "    return mapping[engine](f, **self.options)\n",
      "           ~~~~~~~~~~~~~~~^^^^^^^^^^^^^^^^^^^\n",
      "  File \"c:\\Users\\graha\\.conda\\envs\\py3.13\\Lib\\site-packages\\pandas\\io\\parsers\\c_parser_wrapper.py\", line 93, in __init__\n",
      "    self._reader = parsers.TextReader(src, **kwds)\n",
      "                   ~~~~~~~~~~~~~~~~~~^^^^^^^^^^^^^\n",
      "  File \"parsers.pyx\", line 581, in pandas._libs.parsers.TextReader.__cinit__\n",
      "pandas.errors.EmptyDataError: No columns to parse from file\n"
     ]
    },
    {
     "name": "stdout",
     "output_type": "stream",
     "text": [
      "2025-04-22 07:42:08.217433 Processing file: C:\\dev\\play\\brainwave-data\\2024-12-12-21-20-17\\raw.fif\n",
      "YASA file: C:\\dev\\play\\brainwave-data\\2024-12-12-21-20-17\\raw.yasa.csv\n",
      "Artifacts file: C:\\dev\\play\\brainwave-data\\2024-12-12-21-20-17\\raw.artifacts.csv\n",
      "2025-04-22 07:42:08.224977 Loading cached file C:\\dev\\play\\brainwave-data\\2024-12-12-21-20-17\\raw.post_yasa.csv\n",
      "2025-04-22 07:42:08.382752 Processing file: C:\\dev\\play\\brainwave-data\\2024-12-13-21-23-37\\raw.fif\n",
      "2025-04-22 07:42:08.410172 Processing file: C:\\dev\\play\\brainwave-data\\2024-12-14-21-26-54\\raw.fif\n",
      "YASA file: C:\\dev\\play\\brainwave-data\\2024-12-14-21-26-54\\raw.yasa.csv\n",
      "Artifacts file: C:\\dev\\play\\brainwave-data\\2024-12-14-21-26-54\\raw.artifacts.csv\n",
      "2025-04-22 07:42:08.414392 Loading cached file C:\\dev\\play\\brainwave-data\\2024-12-14-21-26-54\\raw.post_yasa.csv\n"
     ]
    },
    {
     "name": "stderr",
     "output_type": "stream",
     "text": [
      "Post YASA pipeline:  62%|██████▏   | 104/169 [00:40<00:06,  9.71it/s]"
     ]
    },
    {
     "name": "stdout",
     "output_type": "stream",
     "text": [
      "2025-04-22 07:42:08.520262 Processing file: C:\\dev\\play\\brainwave-data\\2024-12-16-21-26-57\\raw.fif\n",
      "YASA file: C:\\dev\\play\\brainwave-data\\2024-12-16-21-26-57\\raw.yasa.csv\n",
      "Artifacts file: C:\\dev\\play\\brainwave-data\\2024-12-16-21-26-57\\raw.artifacts.csv\n",
      "2025-04-22 07:42:08.523708 Loading cached file C:\\dev\\play\\brainwave-data\\2024-12-16-21-26-57\\raw.post_yasa.csv\n",
      "2025-04-22 07:42:08.640782 Processing file: C:\\dev\\play\\brainwave-data\\2024-12-17-21-24-11\\raw.fif\n",
      "YASA file: C:\\dev\\play\\brainwave-data\\2024-12-17-21-24-11\\raw.yasa.csv\n",
      "Artifacts file: C:\\dev\\play\\brainwave-data\\2024-12-17-21-24-11\\raw.artifacts.csv\n",
      "2025-04-22 07:42:08.645227 Loading cached file C:\\dev\\play\\brainwave-data\\2024-12-17-21-24-11\\raw.post_yasa.csv\n"
     ]
    },
    {
     "name": "stderr",
     "output_type": "stream",
     "text": [
      "Post YASA pipeline:  63%|██████▎   | 107/169 [00:40<00:06,  9.11it/s]"
     ]
    },
    {
     "name": "stdout",
     "output_type": "stream",
     "text": [
      "2025-04-22 07:42:08.748807 Processing file: C:\\dev\\play\\brainwave-data\\2024-12-18-21-32-18\\raw.fif\n",
      "YASA file: C:\\dev\\play\\brainwave-data\\2024-12-18-21-32-18\\raw.yasa.csv\n",
      "Artifacts file: C:\\dev\\play\\brainwave-data\\2024-12-18-21-32-18\\raw.artifacts.csv\n",
      "2025-04-22 07:42:08.752421 Loading cached file C:\\dev\\play\\brainwave-data\\2024-12-18-21-32-18\\raw.post_yasa.csv\n",
      "2025-04-22 07:42:08.870723 Processing file: C:\\dev\\play\\brainwave-data\\2024-12-19-21-18-48\\raw.fif\n",
      "YASA file: C:\\dev\\play\\brainwave-data\\2024-12-19-21-18-48\\raw.yasa.csv\n",
      "Artifacts file: C:\\dev\\play\\brainwave-data\\2024-12-19-21-18-48\\raw.artifacts.csv\n",
      "2025-04-22 07:42:08.874146 Loading cached file C:\\dev\\play\\brainwave-data\\2024-12-19-21-18-48\\raw.post_yasa.csv\n"
     ]
    },
    {
     "name": "stderr",
     "output_type": "stream",
     "text": [
      "Post YASA pipeline:  64%|██████▍   | 109/169 [00:40<00:06,  8.90it/s]"
     ]
    },
    {
     "name": "stdout",
     "output_type": "stream",
     "text": [
      "2025-04-22 07:42:08.990337 Processing file: C:\\dev\\play\\brainwave-data\\2024-12-20-21-31-19\\raw.fif\n",
      "YASA file: C:\\dev\\play\\brainwave-data\\2024-12-20-21-31-19\\raw.yasa.csv\n",
      "Artifacts file: C:\\dev\\play\\brainwave-data\\2024-12-20-21-31-19\\raw.artifacts.csv\n",
      "2025-04-22 07:42:08.994397 Loading cached file C:\\dev\\play\\brainwave-data\\2024-12-20-21-31-19\\raw.post_yasa.csv\n",
      "2025-04-22 07:42:09.104339 Processing file: C:\\dev\\play\\brainwave-data\\2024-12-21-21-43-12\\raw.fif\n",
      "YASA file: C:\\dev\\play\\brainwave-data\\2024-12-21-21-43-12\\raw.yasa.csv\n",
      "Artifacts file: C:\\dev\\play\\brainwave-data\\2024-12-21-21-43-12\\raw.artifacts.csv\n",
      "2025-04-22 07:42:09.107916 Loading cached file C:\\dev\\play\\brainwave-data\\2024-12-21-21-43-12\\raw.post_yasa.csv\n"
     ]
    },
    {
     "name": "stderr",
     "output_type": "stream",
     "text": [
      "Post YASA pipeline:  66%|██████▌   | 111/169 [00:41<00:07,  8.17it/s]"
     ]
    },
    {
     "name": "stdout",
     "output_type": "stream",
     "text": [
      "2025-04-22 07:42:09.231075 Processing file: C:\\dev\\play\\brainwave-data\\2024-12-27-21-21-34\\raw.fif\n",
      "YASA file: C:\\dev\\play\\brainwave-data\\2024-12-27-21-21-34\\raw.yasa.csv\n",
      "Artifacts file: C:\\dev\\play\\brainwave-data\\2024-12-27-21-21-34\\raw.artifacts.csv\n",
      "2025-04-22 07:42:09.234532 Loading cached file C:\\dev\\play\\brainwave-data\\2024-12-27-21-21-34\\raw.post_yasa.csv\n",
      "2025-04-22 07:42:09.370823 Processing file: C:\\dev\\play\\brainwave-data\\2024-12-28-21-33-53\\raw.fif\n",
      "YASA file: C:\\dev\\play\\brainwave-data\\2024-12-28-21-33-53\\raw.yasa.csv\n",
      "Artifacts file: C:\\dev\\play\\brainwave-data\\2024-12-28-21-33-53\\raw.artifacts.csv\n",
      "2025-04-22 07:42:09.374309 Loading cached file C:\\dev\\play\\brainwave-data\\2024-12-28-21-33-53\\raw.post_yasa.csv\n"
     ]
    },
    {
     "name": "stderr",
     "output_type": "stream",
     "text": [
      "Post YASA pipeline:  67%|██████▋   | 113/169 [00:41<00:07,  7.99it/s]"
     ]
    },
    {
     "name": "stdout",
     "output_type": "stream",
     "text": [
      "2025-04-22 07:42:09.502037 Processing file: C:\\dev\\play\\brainwave-data\\2024-12-29-21-15-24\\raw.fif\n",
      "YASA file: C:\\dev\\play\\brainwave-data\\2024-12-29-21-15-24\\raw.yasa.csv\n",
      "Artifacts file: C:\\dev\\play\\brainwave-data\\2024-12-29-21-15-24\\raw.artifacts.csv\n",
      "2025-04-22 07:42:09.506056 Loading cached file C:\\dev\\play\\brainwave-data\\2024-12-29-21-15-24\\raw.post_yasa.csv\n",
      "2025-04-22 07:42:09.628591 Processing file: C:\\dev\\play\\brainwave-data\\2024-12-30-21-34-52\\raw.fif\n",
      "YASA file: C:\\dev\\play\\brainwave-data\\2024-12-30-21-34-52\\raw.yasa.csv\n",
      "Artifacts file: C:\\dev\\play\\brainwave-data\\2024-12-30-21-34-52\\raw.artifacts.csv\n",
      "2025-04-22 07:42:09.632139 Loading cached file C:\\dev\\play\\brainwave-data\\2024-12-30-21-34-52\\raw.post_yasa.csv\n"
     ]
    },
    {
     "name": "stderr",
     "output_type": "stream",
     "text": [
      "Post YASA pipeline:  68%|██████▊   | 115/169 [00:41<00:06,  7.88it/s]"
     ]
    },
    {
     "name": "stdout",
     "output_type": "stream",
     "text": [
      "2025-04-22 07:42:09.756394 Processing file: C:\\dev\\play\\brainwave-data\\2024-12-31-21-12-28\\raw.fif\n",
      "YASA file: C:\\dev\\play\\brainwave-data\\2024-12-31-21-12-28\\raw.yasa.csv\n",
      "Artifacts file: C:\\dev\\play\\brainwave-data\\2024-12-31-21-12-28\\raw.artifacts.csv\n",
      "2025-04-22 07:42:09.760138 Loading cached file C:\\dev\\play\\brainwave-data\\2024-12-31-21-12-28\\raw.post_yasa.csv\n",
      "2025-04-22 07:42:09.885012 Processing file: C:\\dev\\play\\brainwave-data\\2025-01-01-21-42-08\\raw.fif\n",
      "YASA file: C:\\dev\\play\\brainwave-data\\2025-01-01-21-42-08\\raw.yasa.csv\n",
      "Artifacts file: C:\\dev\\play\\brainwave-data\\2025-01-01-21-42-08\\raw.artifacts.csv\n",
      "2025-04-22 07:42:09.888283 Loading cached file C:\\dev\\play\\brainwave-data\\2025-01-01-21-42-08\\raw.post_yasa.csv\n"
     ]
    },
    {
     "name": "stderr",
     "output_type": "stream",
     "text": [
      "Post YASA pipeline:  69%|██████▉   | 117/169 [00:41<00:06,  8.02it/s]"
     ]
    },
    {
     "name": "stdout",
     "output_type": "stream",
     "text": [
      "2025-04-22 07:42:10.003892 Processing file: C:\\dev\\play\\brainwave-data\\2025-01-05-21-10-59\\raw.fif\n",
      "YASA file: C:\\dev\\play\\brainwave-data\\2025-01-05-21-10-59\\raw.yasa.csv\n",
      "Artifacts file: C:\\dev\\play\\brainwave-data\\2025-01-05-21-10-59\\raw.artifacts.csv\n",
      "2025-04-22 07:42:10.007576 Loading cached file C:\\dev\\play\\brainwave-data\\2025-01-05-21-10-59\\raw.post_yasa.csv\n",
      "2025-04-22 07:42:10.129130 Processing file: C:\\dev\\play\\brainwave-data\\2025-01-06-21-35-21\\raw.fif\n",
      "YASA file: C:\\dev\\play\\brainwave-data\\2025-01-06-21-35-21\\raw.yasa.csv\n",
      "Artifacts file: C:\\dev\\play\\brainwave-data\\2025-01-06-21-35-21\\raw.artifacts.csv\n",
      "2025-04-22 07:42:10.132828 Loading cached file C:\\dev\\play\\brainwave-data\\2025-01-06-21-35-21\\raw.post_yasa.csv\n"
     ]
    },
    {
     "name": "stderr",
     "output_type": "stream",
     "text": [
      "Post YASA pipeline:  70%|███████   | 119/169 [00:42<00:06,  8.03it/s]"
     ]
    },
    {
     "name": "stdout",
     "output_type": "stream",
     "text": [
      "2025-04-22 07:42:10.244954 Processing file: C:\\dev\\play\\brainwave-data\\2025-01-07-21-12-58\\raw.fif\n",
      "YASA file: C:\\dev\\play\\brainwave-data\\2025-01-07-21-12-58\\raw.yasa.csv\n",
      "Artifacts file: C:\\dev\\play\\brainwave-data\\2025-01-07-21-12-58\\raw.artifacts.csv\n",
      "2025-04-22 07:42:10.249805 Loading cached file C:\\dev\\play\\brainwave-data\\2025-01-07-21-12-58\\raw.post_yasa.csv\n",
      "2025-04-22 07:42:10.375156 Processing file: C:\\dev\\play\\brainwave-data\\2025-01-08-21-41-09\\raw.fif\n",
      "YASA file: C:\\dev\\play\\brainwave-data\\2025-01-08-21-41-09\\raw.yasa.csv\n",
      "Artifacts file: C:\\dev\\play\\brainwave-data\\2025-01-08-21-41-09\\raw.artifacts.csv\n",
      "2025-04-22 07:42:10.379068 Loading cached file C:\\dev\\play\\brainwave-data\\2025-01-08-21-41-09\\raw.post_yasa.csv\n"
     ]
    },
    {
     "name": "stderr",
     "output_type": "stream",
     "text": [
      "Post YASA pipeline:  72%|███████▏  | 121/169 [00:42<00:05,  8.52it/s]"
     ]
    },
    {
     "name": "stdout",
     "output_type": "stream",
     "text": [
      "2025-04-22 07:42:10.475077 Processing file: C:\\dev\\play\\brainwave-data\\2025-01-11-21-19-30\\raw.fif\n",
      "YASA file: C:\\dev\\play\\brainwave-data\\2025-01-11-21-19-30\\raw.yasa.csv\n",
      "Artifacts file: C:\\dev\\play\\brainwave-data\\2025-01-11-21-19-30\\raw.artifacts.csv\n",
      "2025-04-22 07:42:10.478825 Loading cached file C:\\dev\\play\\brainwave-data\\2025-01-11-21-19-30\\raw.post_yasa.csv\n",
      "2025-04-22 07:42:10.592863 Processing file: C:\\dev\\play\\brainwave-data\\2025-01-16-21-34-19\\raw.fif\n",
      "YASA file: C:\\dev\\play\\brainwave-data\\2025-01-16-21-34-19\\raw.yasa.csv\n",
      "Artifacts file: C:\\dev\\play\\brainwave-data\\2025-01-16-21-34-19\\raw.artifacts.csv\n",
      "2025-04-22 07:42:10.596945 Loading cached file C:\\dev\\play\\brainwave-data\\2025-01-16-21-34-19\\raw.post_yasa.csv\n"
     ]
    },
    {
     "name": "stderr",
     "output_type": "stream",
     "text": [
      "Post YASA pipeline:  72%|███████▏  | 122/169 [00:42<00:05,  8.35it/s]"
     ]
    },
    {
     "name": "stdout",
     "output_type": "stream",
     "text": [
      "2025-04-22 07:42:10.718185 Processing file: C:\\dev\\play\\brainwave-data\\2025-01-17-21-32-40\\raw.fif\n",
      "YASA file: C:\\dev\\play\\brainwave-data\\2025-01-17-21-32-40\\raw.yasa.csv\n",
      "Artifacts file: C:\\dev\\play\\brainwave-data\\2025-01-17-21-32-40\\raw.artifacts.csv\n",
      "2025-04-22 07:42:10.721250 Loading cached file C:\\dev\\play\\brainwave-data\\2025-01-17-21-32-40\\raw.post_yasa.csv\n",
      "2025-04-22 07:42:10.815310 Processing file: C:\\dev\\play\\brainwave-data\\2025-01-19-22-07-23\\raw.fif\n",
      "YASA file: C:\\dev\\play\\brainwave-data\\2025-01-19-22-07-23\\raw.yasa.csv\n",
      "Artifacts file: C:\\dev\\play\\brainwave-data\\2025-01-19-22-07-23\\raw.artifacts.csv\n",
      "2025-04-22 07:42:10.818822 Loading cached file C:\\dev\\play\\brainwave-data\\2025-01-19-22-07-23\\raw.post_yasa.csv\n"
     ]
    },
    {
     "name": "stderr",
     "output_type": "stream",
     "text": [
      "Post YASA pipeline:  74%|███████▍  | 125/169 [00:42<00:05,  8.68it/s]"
     ]
    },
    {
     "name": "stdout",
     "output_type": "stream",
     "text": [
      "2025-04-22 07:42:10.933841 Processing file: C:\\dev\\play\\brainwave-data\\2025-01-21-21-39-45\\raw.fif\n",
      "YASA file: C:\\dev\\play\\brainwave-data\\2025-01-21-21-39-45\\raw.yasa.csv\n",
      "Artifacts file: C:\\dev\\play\\brainwave-data\\2025-01-21-21-39-45\\raw.artifacts.csv\n",
      "2025-04-22 07:42:10.937487 Loading cached file C:\\dev\\play\\brainwave-data\\2025-01-21-21-39-45\\raw.post_yasa.csv\n",
      "2025-04-22 07:42:11.052025 Processing file: C:\\dev\\play\\brainwave-data\\2025-01-22-21-42-13\\raw.fif\n",
      "YASA file: C:\\dev\\play\\brainwave-data\\2025-01-22-21-42-13\\raw.yasa.csv\n",
      "Artifacts file: C:\\dev\\play\\brainwave-data\\2025-01-22-21-42-13\\raw.artifacts.csv\n",
      "2025-04-22 07:42:11.055538 Loading cached file C:\\dev\\play\\brainwave-data\\2025-01-22-21-42-13\\raw.post_yasa.csv\n"
     ]
    },
    {
     "name": "stderr",
     "output_type": "stream",
     "text": [
      "Post YASA pipeline:  75%|███████▌  | 127/169 [00:43<00:05,  7.77it/s]"
     ]
    },
    {
     "name": "stdout",
     "output_type": "stream",
     "text": [
      "2025-04-22 07:42:11.171815 Processing file: C:\\dev\\play\\brainwave-data\\2025-01-23-21-33-32\\raw.fif\n",
      "YASA file: C:\\dev\\play\\brainwave-data\\2025-01-23-21-33-32\\raw.yasa.csv\n",
      "Artifacts file: C:\\dev\\play\\brainwave-data\\2025-01-23-21-33-32\\raw.artifacts.csv\n",
      "2025-04-22 07:42:11.175418 Loading cached file C:\\dev\\play\\brainwave-data\\2025-01-23-21-33-32\\raw.post_yasa.csv\n",
      "2025-04-22 07:42:11.333580 Processing file: C:\\dev\\play\\brainwave-data\\2025-01-27-21-31-51\\raw.fif\n",
      "YASA file: C:\\dev\\play\\brainwave-data\\2025-01-27-21-31-51\\raw.yasa.csv\n",
      "Artifacts file: C:\\dev\\play\\brainwave-data\\2025-01-27-21-31-51\\raw.artifacts.csv\n",
      "2025-04-22 07:42:11.340368 Loading cached file C:\\dev\\play\\brainwave-data\\2025-01-27-21-31-51\\raw.post_yasa.csv\n"
     ]
    },
    {
     "name": "stderr",
     "output_type": "stream",
     "text": [
      "Post YASA pipeline:  76%|███████▋  | 129/169 [00:43<00:04,  8.17it/s]"
     ]
    },
    {
     "name": "stdout",
     "output_type": "stream",
     "text": [
      "2025-04-22 07:42:11.448510 Processing file: C:\\dev\\play\\brainwave-data\\2025-01-28-21-50-35\\raw.fif\n",
      "YASA file: C:\\dev\\play\\brainwave-data\\2025-01-28-21-50-35\\raw.yasa.csv\n",
      "Artifacts file: C:\\dev\\play\\brainwave-data\\2025-01-28-21-50-35\\raw.artifacts.csv\n",
      "2025-04-22 07:42:11.451922 Loading cached file C:\\dev\\play\\brainwave-data\\2025-01-28-21-50-35\\raw.post_yasa.csv\n",
      "2025-04-22 07:42:11.564801 Processing file: C:\\dev\\play\\brainwave-data\\2025-01-30-21-49-17\\raw.fif\n",
      "YASA file: C:\\dev\\play\\brainwave-data\\2025-01-30-21-49-17\\raw.yasa.csv\n",
      "Artifacts file: C:\\dev\\play\\brainwave-data\\2025-01-30-21-49-17\\raw.artifacts.csv\n",
      "2025-04-22 07:42:11.568426 Loading cached file C:\\dev\\play\\brainwave-data\\2025-01-30-21-49-17\\raw.post_yasa.csv\n"
     ]
    },
    {
     "name": "stderr",
     "output_type": "stream",
     "text": [
      "Post YASA pipeline:  78%|███████▊  | 131/169 [00:43<00:04,  8.07it/s]"
     ]
    },
    {
     "name": "stdout",
     "output_type": "stream",
     "text": [
      "2025-04-22 07:42:11.694302 Processing file: C:\\dev\\play\\brainwave-data\\2025-01-31-21-45-23\\raw.fif\n",
      "YASA file: C:\\dev\\play\\brainwave-data\\2025-01-31-21-45-23\\raw.yasa.csv\n",
      "Artifacts file: C:\\dev\\play\\brainwave-data\\2025-01-31-21-45-23\\raw.artifacts.csv\n",
      "2025-04-22 07:42:11.698416 Loading cached file C:\\dev\\play\\brainwave-data\\2025-01-31-21-45-23\\raw.post_yasa.csv\n",
      "2025-04-22 07:42:11.816544 Processing file: C:\\dev\\play\\brainwave-data\\2025-02-02-21-31-45\\raw.fif\n",
      "YASA file: C:\\dev\\play\\brainwave-data\\2025-02-02-21-31-45\\raw.yasa.csv\n",
      "Artifacts file: C:\\dev\\play\\brainwave-data\\2025-02-02-21-31-45\\raw.artifacts.csv\n",
      "2025-04-22 07:42:11.819981 Loading cached file C:\\dev\\play\\brainwave-data\\2025-02-02-21-31-45\\raw.post_yasa.csv\n"
     ]
    },
    {
     "name": "stderr",
     "output_type": "stream",
     "text": [
      "Post YASA pipeline:  78%|███████▊  | 132/169 [00:43<00:04,  8.20it/s]"
     ]
    },
    {
     "name": "stdout",
     "output_type": "stream",
     "text": [
      "2025-04-22 07:42:11.934079 Processing file: C:\\dev\\play\\brainwave-data\\2025-02-03-21-09-39\\raw.fif\n",
      "YASA file: C:\\dev\\play\\brainwave-data\\2025-02-03-21-09-39\\raw.yasa.csv\n",
      "Artifacts file: C:\\dev\\play\\brainwave-data\\2025-02-03-21-09-39\\raw.artifacts.csv\n",
      "2025-04-22 07:42:11.940803 Loading cached file C:\\dev\\play\\brainwave-data\\2025-02-03-21-09-39\\raw.post_yasa.csv\n"
     ]
    },
    {
     "name": "stderr",
     "output_type": "stream",
     "text": [
      "Post YASA pipeline:  79%|███████▉  | 134/169 [00:44<00:05,  6.61it/s]"
     ]
    },
    {
     "name": "stdout",
     "output_type": "stream",
     "text": [
      "2025-04-22 07:42:12.184508 Processing file: C:\\dev\\play\\brainwave-data\\2025-02-04-21-21-26\\raw.fif\n",
      "YASA file: C:\\dev\\play\\brainwave-data\\2025-02-04-21-21-26\\raw.yasa.csv\n",
      "Artifacts file: C:\\dev\\play\\brainwave-data\\2025-02-04-21-21-26\\raw.artifacts.csv\n",
      "2025-04-22 07:42:12.188927 Loading cached file C:\\dev\\play\\brainwave-data\\2025-02-04-21-21-26\\raw.post_yasa.csv\n",
      "2025-04-22 07:42:12.315636 Processing file: C:\\dev\\play\\brainwave-data\\2025-02-05-21-15-57\\raw.fif\n",
      "YASA file: C:\\dev\\play\\brainwave-data\\2025-02-05-21-15-57\\raw.yasa.csv\n",
      "Artifacts file: C:\\dev\\play\\brainwave-data\\2025-02-05-21-15-57\\raw.artifacts.csv\n",
      "2025-04-22 07:42:12.319069 Loading cached file C:\\dev\\play\\brainwave-data\\2025-02-05-21-15-57\\raw.post_yasa.csv\n"
     ]
    },
    {
     "name": "stderr",
     "output_type": "stream",
     "text": [
      "Post YASA pipeline:  80%|████████  | 136/169 [00:44<00:04,  7.24it/s]"
     ]
    },
    {
     "name": "stdout",
     "output_type": "stream",
     "text": [
      "2025-04-22 07:42:12.437603 Processing file: C:\\dev\\play\\brainwave-data\\2025-02-09-21-19-01\\raw.fif\n",
      "YASA file: C:\\dev\\play\\brainwave-data\\2025-02-09-21-19-01\\raw.yasa.csv\n",
      "Artifacts file: C:\\dev\\play\\brainwave-data\\2025-02-09-21-19-01\\raw.artifacts.csv\n",
      "2025-04-22 07:42:12.441196 Loading cached file C:\\dev\\play\\brainwave-data\\2025-02-09-21-19-01\\raw.post_yasa.csv\n",
      "2025-04-22 07:42:12.565186 Processing file: C:\\dev\\play\\brainwave-data\\2025-02-10-21-45-36\\raw.fif\n",
      "YASA file: C:\\dev\\play\\brainwave-data\\2025-02-10-21-45-36\\raw.yasa.csv\n",
      "Artifacts file: C:\\dev\\play\\brainwave-data\\2025-02-10-21-45-36\\raw.artifacts.csv\n",
      "2025-04-22 07:42:12.569145 Loading cached file C:\\dev\\play\\brainwave-data\\2025-02-10-21-45-36\\raw.post_yasa.csv\n"
     ]
    },
    {
     "name": "stderr",
     "output_type": "stream",
     "text": [
      "Post YASA pipeline:  82%|████████▏ | 138/169 [00:44<00:04,  7.66it/s]"
     ]
    },
    {
     "name": "stdout",
     "output_type": "stream",
     "text": [
      "2025-04-22 07:42:12.698328 Processing file: C:\\dev\\play\\brainwave-data\\2025-02-11-21-47-04\\raw.fif\n",
      "YASA file: C:\\dev\\play\\brainwave-data\\2025-02-11-21-47-04\\raw.yasa.csv\n",
      "Artifacts file: C:\\dev\\play\\brainwave-data\\2025-02-11-21-47-04\\raw.artifacts.csv\n",
      "2025-04-22 07:42:12.701783 Loading cached file C:\\dev\\play\\brainwave-data\\2025-02-11-21-47-04\\raw.post_yasa.csv\n",
      "2025-04-22 07:42:12.814375 Processing file: C:\\dev\\play\\brainwave-data\\2025-02-12-20-34-56\\raw.fif\n",
      "YASA file: C:\\dev\\play\\brainwave-data\\2025-02-12-20-34-56\\raw.yasa.csv\n",
      "Artifacts file: C:\\dev\\play\\brainwave-data\\2025-02-12-20-34-56\\raw.artifacts.csv\n",
      "2025-04-22 07:42:12.818007 Loading cached file C:\\dev\\play\\brainwave-data\\2025-02-12-20-34-56\\raw.post_yasa.csv\n"
     ]
    },
    {
     "name": "stderr",
     "output_type": "stream",
     "text": [
      "Post YASA pipeline:  83%|████████▎ | 140/169 [00:44<00:03,  7.96it/s]"
     ]
    },
    {
     "name": "stdout",
     "output_type": "stream",
     "text": [
      "2025-04-22 07:42:12.938264 Processing file: C:\\dev\\play\\brainwave-data\\2025-02-13-20-52-43\\raw.fif\n",
      "YASA file: C:\\dev\\play\\brainwave-data\\2025-02-13-20-52-43\\raw.yasa.csv\n",
      "Artifacts file: C:\\dev\\play\\brainwave-data\\2025-02-13-20-52-43\\raw.artifacts.csv\n",
      "2025-04-22 07:42:12.942174 Loading cached file C:\\dev\\play\\brainwave-data\\2025-02-13-20-52-43\\raw.post_yasa.csv\n",
      "2025-04-22 07:42:13.056957 Processing file: C:\\dev\\play\\brainwave-data\\2025-02-15-21-37-56\\raw.fif\n",
      "YASA file: C:\\dev\\play\\brainwave-data\\2025-02-15-21-37-56\\raw.yasa.csv\n",
      "Artifacts file: C:\\dev\\play\\brainwave-data\\2025-02-15-21-37-56\\raw.artifacts.csv\n",
      "2025-04-22 07:42:13.060124 Loading cached file C:\\dev\\play\\brainwave-data\\2025-02-15-21-37-56\\raw.post_yasa.csv\n"
     ]
    },
    {
     "name": "stderr",
     "output_type": "stream",
     "text": [
      "Post YASA pipeline:  84%|████████▍ | 142/169 [00:45<00:03,  7.96it/s]"
     ]
    },
    {
     "name": "stdout",
     "output_type": "stream",
     "text": [
      "2025-04-22 07:42:13.172442 Processing file: C:\\dev\\play\\brainwave-data\\2025-02-16-21-26-48\\raw.fif\n",
      "YASA file: C:\\dev\\play\\brainwave-data\\2025-02-16-21-26-48\\raw.yasa.csv\n",
      "Artifacts file: C:\\dev\\play\\brainwave-data\\2025-02-16-21-26-48\\raw.artifacts.csv\n",
      "2025-04-22 07:42:13.175998 Loading cached file C:\\dev\\play\\brainwave-data\\2025-02-16-21-26-48\\raw.post_yasa.csv\n",
      "2025-04-22 07:42:13.305674 Processing file: C:\\dev\\play\\brainwave-data\\2025-02-17-21-43-00\\raw.fif\n",
      "YASA file: C:\\dev\\play\\brainwave-data\\2025-02-17-21-43-00\\raw.yasa.csv\n",
      "Artifacts file: C:\\dev\\play\\brainwave-data\\2025-02-17-21-43-00\\raw.artifacts.csv\n",
      "2025-04-22 07:42:13.308124 Loading cached file C:\\dev\\play\\brainwave-data\\2025-02-17-21-43-00\\raw.post_yasa.csv\n",
      "2025-04-22 07:42:13.374083 Processing file: C:\\dev\\play\\brainwave-data\\2025-02-18-21-50-50\\raw.fif\n",
      "YASA file: C:\\dev\\play\\brainwave-data\\2025-02-18-21-50-50\\raw.yasa.csv\n",
      "Artifacts file: C:\\dev\\play\\brainwave-data\\2025-02-18-21-50-50\\raw.artifacts.csv\n",
      "2025-04-22 07:42:13.376765 Loading cached file C:\\dev\\play\\brainwave-data\\2025-02-18-21-50-50\\raw.post_yasa.csv\n"
     ]
    },
    {
     "name": "stderr",
     "output_type": "stream",
     "text": [
      "Post YASA pipeline:  86%|████████▋ | 146/169 [00:45<00:02,  9.43it/s]"
     ]
    },
    {
     "name": "stdout",
     "output_type": "stream",
     "text": [
      "2025-04-22 07:42:13.479553 Processing file: C:\\dev\\play\\brainwave-data\\2025-02-19-21-29-50\\raw.fif\n",
      "YASA file: C:\\dev\\play\\brainwave-data\\2025-02-19-21-29-50\\raw.yasa.csv\n",
      "Artifacts file: C:\\dev\\play\\brainwave-data\\2025-02-19-21-29-50\\raw.artifacts.csv\n",
      "2025-04-22 07:42:13.482995 Loading cached file C:\\dev\\play\\brainwave-data\\2025-02-19-21-29-50\\raw.post_yasa.csv\n",
      "2025-04-22 07:42:13.583059 Processing file: C:\\dev\\play\\brainwave-data\\2025-02-20-21-31-45\\raw.fif\n",
      "YASA file: C:\\dev\\play\\brainwave-data\\2025-02-20-21-31-45\\raw.yasa.csv\n",
      "Artifacts file: C:\\dev\\play\\brainwave-data\\2025-02-20-21-31-45\\raw.artifacts.csv\n",
      "2025-04-22 07:42:13.585721 Loading cached file C:\\dev\\play\\brainwave-data\\2025-02-20-21-31-45\\raw.post_yasa.csv\n"
     ]
    },
    {
     "name": "stderr",
     "output_type": "stream",
     "text": [
      "Post YASA pipeline:  87%|████████▋ | 147/169 [00:45<00:02,  8.73it/s]"
     ]
    },
    {
     "name": "stdout",
     "output_type": "stream",
     "text": [
      "2025-04-22 07:42:13.687050 Processing file: C:\\dev\\play\\brainwave-data\\2025-02-23-21-28-38\\raw.fif\n",
      "YASA file: C:\\dev\\play\\brainwave-data\\2025-02-23-21-28-38\\raw.yasa.csv\n",
      "Artifacts file: C:\\dev\\play\\brainwave-data\\2025-02-23-21-28-38\\raw.artifacts.csv\n",
      "2025-04-22 07:42:13.690823 Loading cached file C:\\dev\\play\\brainwave-data\\2025-02-23-21-28-38\\raw.post_yasa.csv\n",
      "2025-04-22 07:42:13.824678 Processing file: C:\\dev\\play\\brainwave-data\\2025-02-24-22-00-38\\raw.fif\n",
      "YASA file: C:\\dev\\play\\brainwave-data\\2025-02-24-22-00-38\\raw.yasa.csv\n",
      "Artifacts file: C:\\dev\\play\\brainwave-data\\2025-02-24-22-00-38\\raw.artifacts.csv\n",
      "2025-04-22 07:42:13.828617 Loading cached file C:\\dev\\play\\brainwave-data\\2025-02-24-22-00-38\\raw.post_yasa.csv\n"
     ]
    },
    {
     "name": "stderr",
     "output_type": "stream",
     "text": [
      "Post YASA pipeline:  88%|████████▊ | 149/169 [00:45<00:02,  8.29it/s]"
     ]
    },
    {
     "name": "stdout",
     "output_type": "stream",
     "text": [
      "2025-04-22 07:42:13.944368 Processing file: C:\\dev\\play\\brainwave-data\\2025-02-26-21-21-01\\raw.fif\n",
      "YASA file: C:\\dev\\play\\brainwave-data\\2025-02-26-21-21-01\\raw.yasa.csv\n",
      "Artifacts file: C:\\dev\\play\\brainwave-data\\2025-02-26-21-21-01\\raw.artifacts.csv\n",
      "2025-04-22 07:42:13.951254 Loading cached file C:\\dev\\play\\brainwave-data\\2025-02-26-21-21-01\\raw.post_yasa.csv\n",
      "2025-04-22 07:42:14.076592 Processing file: C:\\dev\\play\\brainwave-data\\2025-02-27-21-22-47\\raw.fif\n",
      "YASA file: C:\\dev\\play\\brainwave-data\\2025-02-27-21-22-47\\raw.yasa.csv\n",
      "Artifacts file: C:\\dev\\play\\brainwave-data\\2025-02-27-21-22-47\\raw.artifacts.csv\n",
      "2025-04-22 07:42:14.080005 Loading cached file C:\\dev\\play\\brainwave-data\\2025-02-27-21-22-47\\raw.post_yasa.csv\n"
     ]
    },
    {
     "name": "stderr",
     "output_type": "stream",
     "text": [
      "Post YASA pipeline:  89%|████████▉ | 151/169 [00:46<00:02,  7.99it/s]"
     ]
    },
    {
     "name": "stdout",
     "output_type": "stream",
     "text": [
      "2025-04-22 07:42:14.212701 Processing file: C:\\dev\\play\\brainwave-data\\2025-03-01-21-46-54\\raw.fif\n",
      "YASA file: C:\\dev\\play\\brainwave-data\\2025-03-01-21-46-54\\raw.yasa.csv\n",
      "Artifacts file: C:\\dev\\play\\brainwave-data\\2025-03-01-21-46-54\\raw.artifacts.csv\n",
      "2025-04-22 07:42:14.220018 Loading cached file C:\\dev\\play\\brainwave-data\\2025-03-01-21-46-54\\raw.post_yasa.csv\n",
      "2025-04-22 07:42:14.337800 Processing file: C:\\dev\\play\\brainwave-data\\2025-03-05-21-59-37\\raw.fif\n",
      "YASA file: C:\\dev\\play\\brainwave-data\\2025-03-05-21-59-37\\raw.yasa.csv\n",
      "Artifacts file: C:\\dev\\play\\brainwave-data\\2025-03-05-21-59-37\\raw.artifacts.csv\n",
      "2025-04-22 07:42:14.341197 Loading cached file C:\\dev\\play\\brainwave-data\\2025-03-05-21-59-37\\raw.post_yasa.csv\n"
     ]
    },
    {
     "name": "stderr",
     "output_type": "stream",
     "text": [
      "Post YASA pipeline:  90%|████████▉ | 152/169 [00:46<00:02,  8.41it/s]"
     ]
    },
    {
     "name": "stdout",
     "output_type": "stream",
     "text": [
      "2025-04-22 07:42:14.441596 Processing file: C:\\dev\\play\\brainwave-data\\2025-03-07-21-50-51\\raw.fif\n",
      "YASA file: C:\\dev\\play\\brainwave-data\\2025-03-07-21-50-51\\raw.yasa.csv\n",
      "Artifacts file: C:\\dev\\play\\brainwave-data\\2025-03-07-21-50-51\\raw.artifacts.csv\n",
      "2025-04-22 07:42:14.445042 Loading cached file C:\\dev\\play\\brainwave-data\\2025-03-07-21-50-51\\raw.post_yasa.csv\n",
      "2025-04-22 07:42:14.509235 Cached file C:\\dev\\play\\brainwave-data\\2025-03-07-21-50-51\\raw.post_yasa.csv mod date 2025-03-08 09:44:08.402566 is < 2025-03-11 00:00:00, rebuilding\n",
      "2025-04-22 07:42:14.509277 Loading MNE file C:\\dev\\play\\brainwave-data\\2025-03-07-21-50-51\\raw.fif\n",
      "2025-04-22 07:42:14.509287 Reading file C:\\dev\\play\\brainwave-data\\2025-03-07-21-50-51\\raw.fif\n",
      "2025-04-22 07:42:14.978220 Finished reading file C:\\dev\\play\\brainwave-data\\2025-03-07-21-50-51\\raw.fif\n",
      "2025-04-22 07:42:15.765476 Memory Usage: 2104.12 MB GC to 2104.12 MB\n",
      "2025-04-22 07:42:15.765616 Extracting YASA features\n",
      "    Using multitaper spectrum estimation with 7 DPSS windows\n"
     ]
    },
    {
     "name": "stderr",
     "output_type": "stream",
     "text": [
      "c:\\dev\\Brainwave-Processor\\yasa_features.py:223: RuntimeWarning: Iterative multi-taper PSD computation did not converge.\n",
      "  psd, freqs = psd_array_multitaper(epochs, sf, adaptive=True, normalization='full', verbose=0)\n",
      "c:\\dev\\Brainwave-Processor\\yasa_features.py:223: RuntimeWarning: Iterative multi-taper PSD computation did not converge.\n",
      "  psd, freqs = psd_array_multitaper(epochs, sf, adaptive=True, normalization='full', verbose=0)\n",
      "c:\\dev\\Brainwave-Processor\\yasa_features.py:223: RuntimeWarning: Iterative multi-taper PSD computation did not converge.\n",
      "  psd, freqs = psd_array_multitaper(epochs, sf, adaptive=True, normalization='full', verbose=0)\n",
      "c:\\dev\\Brainwave-Processor\\yasa_features.py:223: RuntimeWarning: Iterative multi-taper PSD computation did not converge.\n",
      "  psd, freqs = psd_array_multitaper(epochs, sf, adaptive=True, normalization='full', verbose=0)\n",
      "Traceback (most recent call last):\n",
      "  File \"c:\\Users\\graha\\.conda\\envs\\py3.13\\Lib\\site-packages\\pandas\\core\\indexes\\base.py\", line 3805, in get_loc\n",
      "    return self._engine.get_loc(casted_key)\n",
      "           ~~~~~~~~~~~~~~~~~~~~^^^^^^^^^^^^\n",
      "  File \"index.pyx\", line 167, in pandas._libs.index.IndexEngine.get_loc\n",
      "  File \"index.pyx\", line 196, in pandas._libs.index.IndexEngine.get_loc\n",
      "  File \"pandas\\\\_libs\\\\hashtable_class_helper.pxi\", line 7081, in pandas._libs.hashtable.PyObjectHashTable.get_item\n",
      "  File \"pandas\\\\_libs\\\\hashtable_class_helper.pxi\", line 7089, in pandas._libs.hashtable.PyObjectHashTable.get_item\n",
      "KeyError: 'channel'\n",
      "\n",
      "The above exception was the direct cause of the following exception:\n",
      "\n",
      "Traceback (most recent call last):\n",
      "  File \"C:\\Users\\graha\\AppData\\Local\\Temp\\ipykernel_35320\\404251101.py\", line 24, in process_file_for_post_yasa\n",
      "    post_yasa_df, cached = run_post_yasa_pipeline.cached_post_yasa_pipeline(log, input_fif_file, yasa_df, stats_df, artifacts_df, force or global_force)\n",
      "                           ~~~~~~~~~~~~~~~~~~~~~~~~~~~~~~~~~~~~~~~~~~~~~~~~^^^^^^^^^^^^^^^^^^^^^^^^^^^^^^^^^^^^^^^^^^^^^^^^^^^^^^^^^^^^^^^^^^^^^^^^^^^^^\n",
      "  File \"c:\\dev\\Brainwave-Processor\\run_post_yasa_pipeline.py\", line 63, in cached_post_yasa_pipeline\n",
      "    return regenerate()\n",
      "  File \"c:\\dev\\Brainwave-Processor\\run_post_yasa_pipeline.py\", line 41, in regenerate\n",
      "    out = post_yasa_pipeline(log, input_file, yasa_df, stats_df, artifacts_df)\n",
      "  File \"c:\\dev\\Brainwave-Processor\\run_post_yasa_pipeline.py\", line 103, in post_yasa_pipeline\n",
      "    yasa_feats, channel_feats_dict = yasa_features.extract_yasa_features2(log, channels, mne_filtered, artifacts_df, True)\n",
      "                                     ~~~~~~~~~~~~~~~~~~~~~~~~~~~~~~~~~~~~^^^^^^^^^^^^^^^^^^^^^^^^^^^^^^^^^^^^^^^^^^^^^^^^^\n",
      "  File \"c:\\dev\\Brainwave-Processor\\yasa_features.py\", line 410, in extract_yasa_features2\n",
      "    artifacts_for_channel = artifacts_df[artifacts_df['channel'] == channel][['start', 'end']].values\n",
      "                                         ~~~~~~~~~~~~^^^^^^^^^^^\n",
      "  File \"c:\\Users\\graha\\.conda\\envs\\py3.13\\Lib\\site-packages\\pandas\\core\\frame.py\", line 4102, in __getitem__\n",
      "    indexer = self.columns.get_loc(key)\n",
      "  File \"c:\\Users\\graha\\.conda\\envs\\py3.13\\Lib\\site-packages\\pandas\\core\\indexes\\base.py\", line 3812, in get_loc\n",
      "    raise KeyError(key) from err\n",
      "KeyError: 'channel'\n",
      "Post YASA pipeline:  91%|█████████ | 154/169 [00:56<00:33,  2.22s/it]"
     ]
    },
    {
     "name": "stdout",
     "output_type": "stream",
     "text": [
      "2025-04-22 07:42:24.667066 Processing file: C:\\dev\\play\\brainwave-data\\2025-03-08-21-45-12\\raw.fif\n",
      "YASA file: C:\\dev\\play\\brainwave-data\\2025-03-08-21-45-12\\raw.yasa.csv\n",
      "Artifacts file: C:\\dev\\play\\brainwave-data\\2025-03-08-21-45-12\\raw.artifacts.csv\n",
      "2025-04-22 07:42:24.669945 Loading cached file C:\\dev\\play\\brainwave-data\\2025-03-08-21-45-12\\raw.post_yasa.csv\n",
      "2025-04-22 07:42:24.772377 Processing file: C:\\dev\\play\\brainwave-data\\2025-03-12-21-43-35\\raw.fif\n",
      "YASA file: C:\\dev\\play\\brainwave-data\\2025-03-12-21-43-35\\raw.yasa.csv\n",
      "Artifacts file: C:\\dev\\play\\brainwave-data\\2025-03-12-21-43-35\\raw.artifacts.csv\n",
      "2025-04-22 07:42:24.775740 Loading cached file C:\\dev\\play\\brainwave-data\\2025-03-12-21-43-35\\raw.post_yasa.csv\n"
     ]
    },
    {
     "name": "stderr",
     "output_type": "stream",
     "text": [
      "Post YASA pipeline:  93%|█████████▎| 157/169 [00:56<00:10,  1.09it/s]"
     ]
    },
    {
     "name": "stdout",
     "output_type": "stream",
     "text": [
      "2025-04-22 07:42:24.959909 Processing file: C:\\dev\\play\\brainwave-data\\2025-03-18-21-40-28\\raw.fif\n",
      "YASA file: C:\\dev\\play\\brainwave-data\\2025-03-18-21-40-28\\raw.yasa.csv\n",
      "Artifacts file: C:\\dev\\play\\brainwave-data\\2025-03-18-21-40-28\\raw.artifacts.csv\n",
      "2025-04-22 07:42:24.963354 Loading cached file C:\\dev\\play\\brainwave-data\\2025-03-18-21-40-28\\raw.post_yasa.csv\n",
      "2025-04-22 07:42:25.057014 Processing file: C:\\dev\\play\\brainwave-data\\2025-03-19-21-45-19\\raw.fif\n",
      "YASA file: C:\\dev\\play\\brainwave-data\\2025-03-19-21-45-19\\raw.yasa.csv\n",
      "Artifacts file: C:\\dev\\play\\brainwave-data\\2025-03-19-21-45-19\\raw.artifacts.csv\n",
      "2025-04-22 07:42:25.059514 Loading cached file C:\\dev\\play\\brainwave-data\\2025-03-19-21-45-19\\raw.post_yasa.csv\n",
      "2025-04-22 07:42:25.147712 Processing file: C:\\dev\\play\\brainwave-data\\2025-03-20-21-22-08\\raw.fif\n",
      "YASA file: C:\\dev\\play\\brainwave-data\\2025-03-20-21-22-08\\raw.yasa.csv\n",
      "Artifacts file: C:\\dev\\play\\brainwave-data\\2025-03-20-21-22-08\\raw.artifacts.csv\n",
      "2025-04-22 07:42:25.150996 Loading cached file C:\\dev\\play\\brainwave-data\\2025-03-20-21-22-08\\raw.post_yasa.csv\n"
     ]
    },
    {
     "name": "stderr",
     "output_type": "stream",
     "text": [
      "Post YASA pipeline:  95%|█████████▍| 160/169 [00:57<00:03,  2.26it/s]"
     ]
    },
    {
     "name": "stdout",
     "output_type": "stream",
     "text": [
      "2025-04-22 07:42:25.255647 Processing file: C:\\dev\\play\\brainwave-data\\2025-03-22-21-39-28\\raw.fif\n",
      "YASA file: C:\\dev\\play\\brainwave-data\\2025-03-22-21-39-28\\raw.yasa.csv\n",
      "Artifacts file: C:\\dev\\play\\brainwave-data\\2025-03-22-21-39-28\\raw.artifacts.csv\n",
      "2025-04-22 07:42:25.259028 Loading cached file C:\\dev\\play\\brainwave-data\\2025-03-22-21-39-28\\raw.post_yasa.csv\n",
      "2025-04-22 07:42:25.313102 Processing file: C:\\dev\\play\\brainwave-data\\2025-03-23-21-09-37\\raw.fif\n",
      "YASA file: C:\\dev\\play\\brainwave-data\\2025-03-23-21-09-37\\raw.yasa.csv\n",
      "Artifacts file: C:\\dev\\play\\brainwave-data\\2025-03-23-21-09-37\\raw.artifacts.csv\n",
      "2025-04-22 07:42:25.316177 Loading cached file C:\\dev\\play\\brainwave-data\\2025-03-23-21-09-37\\raw.post_yasa.csv\n",
      "2025-04-22 07:42:25.369994 Processing file: C:\\dev\\play\\brainwave-data\\2025-03-29-21-14-52\\raw.fif\n",
      "YASA file: C:\\dev\\play\\brainwave-data\\2025-03-29-21-14-52\\raw.yasa.csv\n",
      "Artifacts file: C:\\dev\\play\\brainwave-data\\2025-03-29-21-14-52\\raw.artifacts.csv\n",
      "2025-04-22 07:42:25.373530 Loading cached file C:\\dev\\play\\brainwave-data\\2025-03-29-21-14-52\\raw.post_yasa.csv\n",
      "2025-04-22 07:42:25.425812 Processing file: C:\\dev\\play\\brainwave-data\\2025-03-30-21-18-19\\raw.fif\n",
      "YASA file: C:\\dev\\play\\brainwave-data\\2025-03-30-21-18-19\\raw.yasa.csv\n",
      "Artifacts file: C:\\dev\\play\\brainwave-data\\2025-03-30-21-18-19\\raw.artifacts.csv\n",
      "2025-04-22 07:42:25.429035 Loading cached file C:\\dev\\play\\brainwave-data\\2025-03-30-21-18-19\\raw.post_yasa.csv\n"
     ]
    },
    {
     "name": "stderr",
     "output_type": "stream",
     "text": [
      "Post YASA pipeline:  97%|█████████▋| 164/169 [00:57<00:01,  4.61it/s]"
     ]
    },
    {
     "name": "stdout",
     "output_type": "stream",
     "text": [
      "2025-04-22 07:42:25.484332 Processing file: C:\\dev\\play\\brainwave-data\\2025-04-01-21-17-30\\raw.fif\n",
      "YASA file: C:\\dev\\play\\brainwave-data\\2025-04-01-21-17-30\\raw.yasa.csv\n",
      "Artifacts file: C:\\dev\\play\\brainwave-data\\2025-04-01-21-17-30\\raw.artifacts.csv\n",
      "2025-04-22 07:42:25.489142 Loading cached file C:\\dev\\play\\brainwave-data\\2025-04-01-21-17-30\\raw.post_yasa.csv\n",
      "2025-04-22 07:42:25.547022 Processing file: C:\\dev\\play\\brainwave-data\\2025-04-03-21-05-17\\raw.fif\n",
      "YASA file: C:\\dev\\play\\brainwave-data\\2025-04-03-21-05-17\\raw.yasa.csv\n",
      "Artifacts file: C:\\dev\\play\\brainwave-data\\2025-04-03-21-05-17\\raw.artifacts.csv\n",
      "2025-04-22 07:42:25.550170 Loading cached file C:\\dev\\play\\brainwave-data\\2025-04-03-21-05-17\\raw.post_yasa.csv\n",
      "2025-04-22 07:42:25.607933 Processing file: C:\\dev\\play\\brainwave-data\\2025-04-04-20-56-30\\raw.fif\n",
      "YASA file: C:\\dev\\play\\brainwave-data\\2025-04-04-20-56-30\\raw.yasa.csv\n",
      "Artifacts file: C:\\dev\\play\\brainwave-data\\2025-04-04-20-56-30\\raw.artifacts.csv\n",
      "2025-04-22 07:42:25.611473 Loading cached file C:\\dev\\play\\brainwave-data\\2025-04-04-20-56-30\\raw.post_yasa.csv\n",
      "2025-04-22 07:42:25.668120 Processing file: C:\\dev\\play\\brainwave-data\\2025-04-11-21-07-33\\raw.fif\n",
      "YASA file: C:\\dev\\play\\brainwave-data\\2025-04-11-21-07-33\\raw.yasa.csv\n",
      "Artifacts file: C:\\dev\\play\\brainwave-data\\2025-04-11-21-07-33\\raw.artifacts.csv\n",
      "2025-04-22 07:42:25.671537 Loading cached file C:\\dev\\play\\brainwave-data\\2025-04-11-21-07-33\\raw.post_yasa.csv\n"
     ]
    },
    {
     "name": "stderr",
     "output_type": "stream",
     "text": [
      "Post YASA pipeline:  98%|█████████▊| 166/169 [00:57<00:00,  6.10it/s]"
     ]
    },
    {
     "name": "stdout",
     "output_type": "stream",
     "text": [
      "2025-04-22 07:42:25.721486 Processing file: C:\\dev\\play\\brainwave-data\\2025-04-21-21-33-06\\raw.fif\n",
      "YASA file: C:\\dev\\play\\brainwave-data\\2025-04-21-21-33-06\\raw.yasa.csv\n",
      "Artifacts file: C:\\dev\\play\\brainwave-data\\2025-04-21-21-33-06\\raw.artifacts.csv\n",
      "2025-04-22 07:42:25.725784 No cached file C:\\dev\\play\\brainwave-data\\2025-04-21-21-33-06\\raw.post_yasa.csv, rebuilding\n",
      "2025-04-22 07:42:25.725814 Loading MNE file C:\\dev\\play\\brainwave-data\\2025-04-21-21-33-06\\raw.fif\n",
      "2025-04-22 07:42:25.725821 Reading file C:\\dev\\play\\brainwave-data\\2025-04-21-21-33-06\\raw.fif\n",
      "2025-04-22 07:42:26.038476 Finished reading file C:\\dev\\play\\brainwave-data\\2025-04-21-21-33-06\\raw.fif\n",
      "2025-04-22 07:42:27.011559 Memory Usage: 2382.53 MB GC to 2382.53 MB\n",
      "2025-04-22 07:42:27.011692 Extracting YASA features\n",
      "    Using multitaper spectrum estimation with 7 DPSS windows\n"
     ]
    },
    {
     "name": "stderr",
     "output_type": "stream",
     "text": [
      "c:\\Users\\graha\\.conda\\envs\\py3.13\\Lib\\site-packages\\joblib\\parallel.py:1847: RuntimeWarning: Iterative multi-taper PSD computation did not converge.\n",
      "  res = func(*args, **kwargs)\n",
      "c:\\Users\\graha\\.conda\\envs\\py3.13\\Lib\\site-packages\\joblib\\parallel.py:1847: RuntimeWarning: Iterative multi-taper PSD computation did not converge.\n",
      "  res = func(*args, **kwargs)\n",
      "c:\\Users\\graha\\.conda\\envs\\py3.13\\Lib\\site-packages\\joblib\\parallel.py:1847: RuntimeWarning: Iterative multi-taper PSD computation did not converge.\n",
      "  res = func(*args, **kwargs)\n",
      "c:\\dev\\Brainwave-Processor\\yasa_features.py:223: RuntimeWarning: Iterative multi-taper PSD computation did not converge.\n",
      "  psd, freqs = psd_array_multitaper(epochs, sf, adaptive=True, normalization='full', verbose=0)\n",
      "c:\\dev\\Brainwave-Processor\\yasa_features.py:223: RuntimeWarning: Iterative multi-taper PSD computation did not converge.\n",
      "  psd, freqs = psd_array_multitaper(epochs, sf, adaptive=True, normalization='full', verbose=0)\n",
      "c:\\dev\\Brainwave-Processor\\yasa_features.py:223: RuntimeWarning: Iterative multi-taper PSD computation did not converge.\n",
      "  psd, freqs = psd_array_multitaper(epochs, sf, adaptive=True, normalization='full', verbose=0)\n",
      "c:\\dev\\Brainwave-Processor\\yasa_features.py:223: RuntimeWarning: Iterative multi-taper PSD computation did not converge.\n",
      "  psd, freqs = psd_array_multitaper(epochs, sf, adaptive=True, normalization='full', verbose=0)\n",
      "c:\\dev\\Brainwave-Processor\\yasa_features.py:223: RuntimeWarning: Iterative multi-taper PSD computation did not converge.\n",
      "  psd, freqs = psd_array_multitaper(epochs, sf, adaptive=True, normalization='full', verbose=0)\n",
      "c:\\dev\\Brainwave-Processor\\yasa_features.py:223: RuntimeWarning: Iterative multi-taper PSD computation did not converge.\n",
      "  psd, freqs = psd_array_multitaper(epochs, sf, adaptive=True, normalization='full', verbose=0)\n"
     ]
    },
    {
     "name": "stdout",
     "output_type": "stream",
     "text": [
      "    Using multitaper spectrum estimation with 7 DPSS windows\n"
     ]
    },
    {
     "name": "stderr",
     "output_type": "stream",
     "text": [
      "c:\\Users\\graha\\.conda\\envs\\py3.13\\Lib\\site-packages\\joblib\\parallel.py:1847: RuntimeWarning: Iterative multi-taper PSD computation did not converge.\n",
      "  res = func(*args, **kwargs)\n",
      "c:\\Users\\graha\\.conda\\envs\\py3.13\\Lib\\site-packages\\joblib\\parallel.py:1847: RuntimeWarning: Iterative multi-taper PSD computation did not converge.\n",
      "  res = func(*args, **kwargs)\n",
      "c:\\Users\\graha\\.conda\\envs\\py3.13\\Lib\\site-packages\\joblib\\parallel.py:1847: RuntimeWarning: Iterative multi-taper PSD computation did not converge.\n",
      "  res = func(*args, **kwargs)\n",
      "c:\\Users\\graha\\.conda\\envs\\py3.13\\Lib\\site-packages\\joblib\\parallel.py:1847: RuntimeWarning: Iterative multi-taper PSD computation did not converge.\n",
      "  res = func(*args, **kwargs)\n",
      "c:\\Users\\graha\\.conda\\envs\\py3.13\\Lib\\site-packages\\joblib\\parallel.py:1847: RuntimeWarning: Iterative multi-taper PSD computation did not converge.\n",
      "  res = func(*args, **kwargs)\n",
      "c:\\Users\\graha\\.conda\\envs\\py3.13\\Lib\\site-packages\\joblib\\parallel.py:1847: RuntimeWarning: Iterative multi-taper PSD computation did not converge.\n",
      "  res = func(*args, **kwargs)\n",
      "c:\\Users\\graha\\.conda\\envs\\py3.13\\Lib\\site-packages\\joblib\\parallel.py:1847: RuntimeWarning: Iterative multi-taper PSD computation did not converge.\n",
      "  res = func(*args, **kwargs)\n",
      "c:\\Users\\graha\\.conda\\envs\\py3.13\\Lib\\site-packages\\joblib\\parallel.py:1847: RuntimeWarning: Iterative multi-taper PSD computation did not converge.\n",
      "  res = func(*args, **kwargs)\n",
      "c:\\Users\\graha\\.conda\\envs\\py3.13\\Lib\\site-packages\\joblib\\parallel.py:1847: RuntimeWarning: Iterative multi-taper PSD computation did not converge.\n",
      "  res = func(*args, **kwargs)\n",
      "c:\\Users\\graha\\.conda\\envs\\py3.13\\Lib\\site-packages\\joblib\\parallel.py:1847: RuntimeWarning: Iterative multi-taper PSD computation did not converge.\n",
      "  res = func(*args, **kwargs)\n",
      "c:\\Users\\graha\\.conda\\envs\\py3.13\\Lib\\site-packages\\joblib\\parallel.py:1847: RuntimeWarning: Iterative multi-taper PSD computation did not converge.\n",
      "  res = func(*args, **kwargs)\n",
      "c:\\Users\\graha\\.conda\\envs\\py3.13\\Lib\\site-packages\\joblib\\parallel.py:1847: RuntimeWarning: Iterative multi-taper PSD computation did not converge.\n",
      "  res = func(*args, **kwargs)\n",
      "c:\\Users\\graha\\.conda\\envs\\py3.13\\Lib\\site-packages\\joblib\\parallel.py:1847: RuntimeWarning: Iterative multi-taper PSD computation did not converge.\n",
      "  res = func(*args, **kwargs)\n",
      "c:\\Users\\graha\\.conda\\envs\\py3.13\\Lib\\site-packages\\joblib\\parallel.py:1847: RuntimeWarning: Iterative multi-taper PSD computation did not converge.\n",
      "  res = func(*args, **kwargs)\n",
      "c:\\Users\\graha\\.conda\\envs\\py3.13\\Lib\\site-packages\\joblib\\parallel.py:1847: RuntimeWarning: Iterative multi-taper PSD computation did not converge.\n",
      "  res = func(*args, **kwargs)\n",
      "c:\\Users\\graha\\.conda\\envs\\py3.13\\Lib\\site-packages\\joblib\\parallel.py:1847: RuntimeWarning: Iterative multi-taper PSD computation did not converge.\n",
      "  res = func(*args, **kwargs)\n",
      "c:\\Users\\graha\\.conda\\envs\\py3.13\\Lib\\site-packages\\joblib\\parallel.py:1847: RuntimeWarning: Iterative multi-taper PSD computation did not converge.\n",
      "  res = func(*args, **kwargs)\n",
      "c:\\Users\\graha\\.conda\\envs\\py3.13\\Lib\\site-packages\\joblib\\parallel.py:1847: RuntimeWarning: Iterative multi-taper PSD computation did not converge.\n",
      "  res = func(*args, **kwargs)\n",
      "c:\\Users\\graha\\.conda\\envs\\py3.13\\Lib\\site-packages\\joblib\\parallel.py:1847: RuntimeWarning: Iterative multi-taper PSD computation did not converge.\n",
      "  res = func(*args, **kwargs)\n",
      "c:\\Users\\graha\\.conda\\envs\\py3.13\\Lib\\site-packages\\joblib\\parallel.py:1847: RuntimeWarning: Iterative multi-taper PSD computation did not converge.\n",
      "  res = func(*args, **kwargs)\n",
      "c:\\Users\\graha\\.conda\\envs\\py3.13\\Lib\\site-packages\\joblib\\parallel.py:1847: RuntimeWarning: Iterative multi-taper PSD computation did not converge.\n",
      "  res = func(*args, **kwargs)\n",
      "c:\\Users\\graha\\.conda\\envs\\py3.13\\Lib\\site-packages\\joblib\\parallel.py:1847: RuntimeWarning: Iterative multi-taper PSD computation did not converge.\n",
      "  res = func(*args, **kwargs)\n",
      "c:\\Users\\graha\\.conda\\envs\\py3.13\\Lib\\site-packages\\joblib\\parallel.py:1847: RuntimeWarning: Iterative multi-taper PSD computation did not converge.\n",
      "  res = func(*args, **kwargs)\n",
      "c:\\Users\\graha\\.conda\\envs\\py3.13\\Lib\\site-packages\\joblib\\parallel.py:1847: RuntimeWarning: Iterative multi-taper PSD computation did not converge.\n",
      "  res = func(*args, **kwargs)\n",
      "c:\\Users\\graha\\.conda\\envs\\py3.13\\Lib\\site-packages\\joblib\\parallel.py:1847: RuntimeWarning: Iterative multi-taper PSD computation did not converge.\n",
      "  res = func(*args, **kwargs)\n",
      "c:\\Users\\graha\\.conda\\envs\\py3.13\\Lib\\site-packages\\joblib\\parallel.py:1847: RuntimeWarning: Iterative multi-taper PSD computation did not converge.\n",
      "  res = func(*args, **kwargs)\n",
      "c:\\Users\\graha\\.conda\\envs\\py3.13\\Lib\\site-packages\\joblib\\parallel.py:1847: RuntimeWarning: Iterative multi-taper PSD computation did not converge.\n",
      "  res = func(*args, **kwargs)\n",
      "c:\\Users\\graha\\.conda\\envs\\py3.13\\Lib\\site-packages\\joblib\\parallel.py:1847: RuntimeWarning: Iterative multi-taper PSD computation did not converge.\n",
      "  res = func(*args, **kwargs)\n",
      "c:\\Users\\graha\\.conda\\envs\\py3.13\\Lib\\site-packages\\joblib\\parallel.py:1847: RuntimeWarning: Iterative multi-taper PSD computation did not converge.\n",
      "  res = func(*args, **kwargs)\n",
      "c:\\Users\\graha\\.conda\\envs\\py3.13\\Lib\\site-packages\\joblib\\parallel.py:1847: RuntimeWarning: Iterative multi-taper PSD computation did not converge.\n",
      "  res = func(*args, **kwargs)\n",
      "c:\\Users\\graha\\.conda\\envs\\py3.13\\Lib\\site-packages\\joblib\\parallel.py:1847: RuntimeWarning: Iterative multi-taper PSD computation did not converge.\n",
      "  res = func(*args, **kwargs)\n",
      "c:\\Users\\graha\\.conda\\envs\\py3.13\\Lib\\site-packages\\joblib\\parallel.py:1847: RuntimeWarning: Iterative multi-taper PSD computation did not converge.\n",
      "  res = func(*args, **kwargs)\n",
      "c:\\Users\\graha\\.conda\\envs\\py3.13\\Lib\\site-packages\\joblib\\parallel.py:1847: RuntimeWarning: Iterative multi-taper PSD computation did not converge.\n",
      "  res = func(*args, **kwargs)\n",
      "c:\\Users\\graha\\.conda\\envs\\py3.13\\Lib\\site-packages\\joblib\\parallel.py:1847: RuntimeWarning: Iterative multi-taper PSD computation did not converge.\n",
      "  res = func(*args, **kwargs)\n",
      "c:\\Users\\graha\\.conda\\envs\\py3.13\\Lib\\site-packages\\joblib\\parallel.py:1847: RuntimeWarning: Iterative multi-taper PSD computation did not converge.\n",
      "  res = func(*args, **kwargs)\n",
      "c:\\Users\\graha\\.conda\\envs\\py3.13\\Lib\\site-packages\\joblib\\parallel.py:1847: RuntimeWarning: Iterative multi-taper PSD computation did not converge.\n",
      "  res = func(*args, **kwargs)\n",
      "c:\\Users\\graha\\.conda\\envs\\py3.13\\Lib\\site-packages\\joblib\\parallel.py:1847: RuntimeWarning: Iterative multi-taper PSD computation did not converge.\n",
      "  res = func(*args, **kwargs)\n",
      "c:\\Users\\graha\\.conda\\envs\\py3.13\\Lib\\site-packages\\joblib\\parallel.py:1847: RuntimeWarning: Iterative multi-taper PSD computation did not converge.\n",
      "  res = func(*args, **kwargs)\n",
      "c:\\Users\\graha\\.conda\\envs\\py3.13\\Lib\\site-packages\\joblib\\parallel.py:1847: RuntimeWarning: Iterative multi-taper PSD computation did not converge.\n",
      "  res = func(*args, **kwargs)\n",
      "c:\\Users\\graha\\.conda\\envs\\py3.13\\Lib\\site-packages\\joblib\\parallel.py:1847: RuntimeWarning: Iterative multi-taper PSD computation did not converge.\n",
      "  res = func(*args, **kwargs)\n",
      "c:\\Users\\graha\\.conda\\envs\\py3.13\\Lib\\site-packages\\joblib\\parallel.py:1847: RuntimeWarning: Iterative multi-taper PSD computation did not converge.\n",
      "  res = func(*args, **kwargs)\n",
      "Post YASA pipeline:  98%|█████████▊| 166/169 [01:14<00:00,  6.10it/s]c:\\Users\\graha\\.conda\\envs\\py3.13\\Lib\\site-packages\\joblib\\parallel.py:1847: RuntimeWarning: Iterative multi-taper PSD computation did not converge.\n",
      "  res = func(*args, **kwargs)\n",
      "c:\\Users\\graha\\.conda\\envs\\py3.13\\Lib\\site-packages\\joblib\\parallel.py:1847: RuntimeWarning: Iterative multi-taper PSD computation did not converge.\n",
      "  res = func(*args, **kwargs)\n",
      "c:\\Users\\graha\\.conda\\envs\\py3.13\\Lib\\site-packages\\joblib\\parallel.py:1847: RuntimeWarning: Iterative multi-taper PSD computation did not converge.\n",
      "  res = func(*args, **kwargs)\n",
      "c:\\Users\\graha\\.conda\\envs\\py3.13\\Lib\\site-packages\\joblib\\parallel.py:1847: RuntimeWarning: Iterative multi-taper PSD computation did not converge.\n",
      "  res = func(*args, **kwargs)\n",
      "c:\\Users\\graha\\.conda\\envs\\py3.13\\Lib\\site-packages\\joblib\\parallel.py:1847: RuntimeWarning: Iterative multi-taper PSD computation did not converge.\n",
      "  res = func(*args, **kwargs)\n",
      "c:\\Users\\graha\\.conda\\envs\\py3.13\\Lib\\site-packages\\joblib\\parallel.py:1847: RuntimeWarning: Iterative multi-taper PSD computation did not converge.\n",
      "  res = func(*args, **kwargs)\n",
      "c:\\Users\\graha\\.conda\\envs\\py3.13\\Lib\\site-packages\\joblib\\parallel.py:1847: RuntimeWarning: Iterative multi-taper PSD computation did not converge.\n",
      "  res = func(*args, **kwargs)\n",
      "c:\\dev\\Brainwave-Processor\\yasa_features.py:223: RuntimeWarning: Iterative multi-taper PSD computation did not converge.\n",
      "  psd, freqs = psd_array_multitaper(epochs, sf, adaptive=True, normalization='full', verbose=0)\n",
      "c:\\dev\\Brainwave-Processor\\yasa_features.py:223: RuntimeWarning: Iterative multi-taper PSD computation did not converge.\n",
      "  psd, freqs = psd_array_multitaper(epochs, sf, adaptive=True, normalization='full', verbose=0)\n",
      "c:\\dev\\Brainwave-Processor\\yasa_features.py:223: RuntimeWarning: Iterative multi-taper PSD computation did not converge.\n",
      "  psd, freqs = psd_array_multitaper(epochs, sf, adaptive=True, normalization='full', verbose=0)\n",
      "c:\\dev\\Brainwave-Processor\\yasa_features.py:223: RuntimeWarning: Iterative multi-taper PSD computation did not converge.\n",
      "  psd, freqs = psd_array_multitaper(epochs, sf, adaptive=True, normalization='full', verbose=0)\n",
      "c:\\dev\\Brainwave-Processor\\yasa_features.py:223: RuntimeWarning: Iterative multi-taper PSD computation did not converge.\n",
      "  psd, freqs = psd_array_multitaper(epochs, sf, adaptive=True, normalization='full', verbose=0)\n",
      "c:\\dev\\Brainwave-Processor\\yasa_features.py:223: RuntimeWarning: Iterative multi-taper PSD computation did not converge.\n",
      "  psd, freqs = psd_array_multitaper(epochs, sf, adaptive=True, normalization='full', verbose=0)\n",
      "c:\\dev\\Brainwave-Processor\\yasa_features.py:223: RuntimeWarning: Iterative multi-taper PSD computation did not converge.\n",
      "  psd, freqs = psd_array_multitaper(epochs, sf, adaptive=True, normalization='full', verbose=0)\n",
      "c:\\dev\\Brainwave-Processor\\yasa_features.py:223: RuntimeWarning: Iterative multi-taper PSD computation did not converge.\n",
      "  psd, freqs = psd_array_multitaper(epochs, sf, adaptive=True, normalization='full', verbose=0)\n",
      "c:\\dev\\Brainwave-Processor\\yasa_features.py:223: RuntimeWarning: Iterative multi-taper PSD computation did not converge.\n",
      "  psd, freqs = psd_array_multitaper(epochs, sf, adaptive=True, normalization='full', verbose=0)\n",
      "c:\\dev\\Brainwave-Processor\\yasa_features.py:223: RuntimeWarning: Iterative multi-taper PSD computation did not converge.\n",
      "  psd, freqs = psd_array_multitaper(epochs, sf, adaptive=True, normalization='full', verbose=0)\n",
      "c:\\dev\\Brainwave-Processor\\yasa_features.py:223: RuntimeWarning: Iterative multi-taper PSD computation did not converge.\n",
      "  psd, freqs = psd_array_multitaper(epochs, sf, adaptive=True, normalization='full', verbose=0)\n",
      "c:\\dev\\Brainwave-Processor\\yasa_features.py:223: RuntimeWarning: Iterative multi-taper PSD computation did not converge.\n",
      "  psd, freqs = psd_array_multitaper(epochs, sf, adaptive=True, normalization='full', verbose=0)\n",
      "c:\\dev\\Brainwave-Processor\\yasa_features.py:223: RuntimeWarning: Iterative multi-taper PSD computation did not converge.\n",
      "  psd, freqs = psd_array_multitaper(epochs, sf, adaptive=True, normalization='full', verbose=0)\n",
      "c:\\dev\\Brainwave-Processor\\yasa_features.py:223: RuntimeWarning: Iterative multi-taper PSD computation did not converge.\n",
      "  psd, freqs = psd_array_multitaper(epochs, sf, adaptive=True, normalization='full', verbose=0)\n",
      "c:\\dev\\Brainwave-Processor\\yasa_features.py:223: RuntimeWarning: Iterative multi-taper PSD computation did not converge.\n",
      "  psd, freqs = psd_array_multitaper(epochs, sf, adaptive=True, normalization='full', verbose=0)\n",
      "c:\\dev\\Brainwave-Processor\\yasa_features.py:223: RuntimeWarning: Iterative multi-taper PSD computation did not converge.\n",
      "  psd, freqs = psd_array_multitaper(epochs, sf, adaptive=True, normalization='full', verbose=0)\n",
      "c:\\dev\\Brainwave-Processor\\yasa_features.py:223: RuntimeWarning: Iterative multi-taper PSD computation did not converge.\n",
      "  psd, freqs = psd_array_multitaper(epochs, sf, adaptive=True, normalization='full', verbose=0)\n",
      "c:\\dev\\Brainwave-Processor\\yasa_features.py:223: RuntimeWarning: Iterative multi-taper PSD computation did not converge.\n",
      "  psd, freqs = psd_array_multitaper(epochs, sf, adaptive=True, normalization='full', verbose=0)\n",
      "c:\\dev\\Brainwave-Processor\\yasa_features.py:223: RuntimeWarning: Iterative multi-taper PSD computation did not converge.\n",
      "  psd, freqs = psd_array_multitaper(epochs, sf, adaptive=True, normalization='full', verbose=0)\n",
      "c:\\dev\\Brainwave-Processor\\yasa_features.py:223: RuntimeWarning: Iterative multi-taper PSD computation did not converge.\n",
      "  psd, freqs = psd_array_multitaper(epochs, sf, adaptive=True, normalization='full', verbose=0)\n",
      "c:\\dev\\Brainwave-Processor\\yasa_features.py:223: RuntimeWarning: Iterative multi-taper PSD computation did not converge.\n",
      "  psd, freqs = psd_array_multitaper(epochs, sf, adaptive=True, normalization='full', verbose=0)\n",
      "c:\\dev\\Brainwave-Processor\\yasa_features.py:223: RuntimeWarning: Iterative multi-taper PSD computation did not converge.\n",
      "  psd, freqs = psd_array_multitaper(epochs, sf, adaptive=True, normalization='full', verbose=0)\n",
      "c:\\dev\\Brainwave-Processor\\yasa_features.py:223: RuntimeWarning: Iterative multi-taper PSD computation did not converge.\n",
      "  psd, freqs = psd_array_multitaper(epochs, sf, adaptive=True, normalization='full', verbose=0)\n",
      "c:\\dev\\Brainwave-Processor\\yasa_features.py:223: RuntimeWarning: Iterative multi-taper PSD computation did not converge.\n",
      "  psd, freqs = psd_array_multitaper(epochs, sf, adaptive=True, normalization='full', verbose=0)\n",
      "c:\\dev\\Brainwave-Processor\\yasa_features.py:223: RuntimeWarning: Iterative multi-taper PSD computation did not converge.\n",
      "  psd, freqs = psd_array_multitaper(epochs, sf, adaptive=True, normalization='full', verbose=0)\n",
      "c:\\dev\\Brainwave-Processor\\yasa_features.py:223: RuntimeWarning: Iterative multi-taper PSD computation did not converge.\n",
      "  psd, freqs = psd_array_multitaper(epochs, sf, adaptive=True, normalization='full', verbose=0)\n",
      "c:\\dev\\Brainwave-Processor\\yasa_features.py:223: RuntimeWarning: Iterative multi-taper PSD computation did not converge.\n",
      "  psd, freqs = psd_array_multitaper(epochs, sf, adaptive=True, normalization='full', verbose=0)\n",
      "c:\\dev\\Brainwave-Processor\\yasa_features.py:223: RuntimeWarning: Iterative multi-taper PSD computation did not converge.\n",
      "  psd, freqs = psd_array_multitaper(epochs, sf, adaptive=True, normalization='full', verbose=0)\n",
      "c:\\dev\\Brainwave-Processor\\yasa_features.py:223: RuntimeWarning: Iterative multi-taper PSD computation did not converge.\n",
      "  psd, freqs = psd_array_multitaper(epochs, sf, adaptive=True, normalization='full', verbose=0)\n",
      "c:\\dev\\Brainwave-Processor\\yasa_features.py:223: RuntimeWarning: Iterative multi-taper PSD computation did not converge.\n",
      "  psd, freqs = psd_array_multitaper(epochs, sf, adaptive=True, normalization='full', verbose=0)\n",
      "c:\\dev\\Brainwave-Processor\\yasa_features.py:223: RuntimeWarning: Iterative multi-taper PSD computation did not converge.\n",
      "  psd, freqs = psd_array_multitaper(epochs, sf, adaptive=True, normalization='full', verbose=0)\n",
      "c:\\dev\\Brainwave-Processor\\yasa_features.py:223: RuntimeWarning: Iterative multi-taper PSD computation did not converge.\n",
      "  psd, freqs = psd_array_multitaper(epochs, sf, adaptive=True, normalization='full', verbose=0)\n",
      "c:\\dev\\Brainwave-Processor\\yasa_features.py:223: RuntimeWarning: Iterative multi-taper PSD computation did not converge.\n",
      "  psd, freqs = psd_array_multitaper(epochs, sf, adaptive=True, normalization='full', verbose=0)\n",
      "c:\\dev\\Brainwave-Processor\\yasa_features.py:223: RuntimeWarning: Iterative multi-taper PSD computation did not converge.\n",
      "  psd, freqs = psd_array_multitaper(epochs, sf, adaptive=True, normalization='full', verbose=0)\n",
      "c:\\dev\\Brainwave-Processor\\yasa_features.py:223: RuntimeWarning: Iterative multi-taper PSD computation did not converge.\n",
      "  psd, freqs = psd_array_multitaper(epochs, sf, adaptive=True, normalization='full', verbose=0)\n",
      "c:\\dev\\Brainwave-Processor\\yasa_features.py:223: RuntimeWarning: Iterative multi-taper PSD computation did not converge.\n",
      "  psd, freqs = psd_array_multitaper(epochs, sf, adaptive=True, normalization='full', verbose=0)\n",
      "c:\\dev\\Brainwave-Processor\\yasa_features.py:223: RuntimeWarning: Iterative multi-taper PSD computation did not converge.\n",
      "  psd, freqs = psd_array_multitaper(epochs, sf, adaptive=True, normalization='full', verbose=0)\n",
      "c:\\dev\\Brainwave-Processor\\yasa_features.py:223: RuntimeWarning: Iterative multi-taper PSD computation did not converge.\n",
      "  psd, freqs = psd_array_multitaper(epochs, sf, adaptive=True, normalization='full', verbose=0)\n",
      "c:\\dev\\Brainwave-Processor\\yasa_features.py:223: RuntimeWarning: Iterative multi-taper PSD computation did not converge.\n",
      "  psd, freqs = psd_array_multitaper(epochs, sf, adaptive=True, normalization='full', verbose=0)\n",
      "c:\\dev\\Brainwave-Processor\\yasa_features.py:223: RuntimeWarning: Iterative multi-taper PSD computation did not converge.\n",
      "  psd, freqs = psd_array_multitaper(epochs, sf, adaptive=True, normalization='full', verbose=0)\n",
      "c:\\dev\\Brainwave-Processor\\yasa_features.py:223: RuntimeWarning: Iterative multi-taper PSD computation did not converge.\n",
      "  psd, freqs = psd_array_multitaper(epochs, sf, adaptive=True, normalization='full', verbose=0)\n",
      "c:\\dev\\Brainwave-Processor\\yasa_features.py:223: RuntimeWarning: Iterative multi-taper PSD computation did not converge.\n",
      "  psd, freqs = psd_array_multitaper(epochs, sf, adaptive=True, normalization='full', verbose=0)\n",
      "c:\\dev\\Brainwave-Processor\\yasa_features.py:223: RuntimeWarning: Iterative multi-taper PSD computation did not converge.\n",
      "  psd, freqs = psd_array_multitaper(epochs, sf, adaptive=True, normalization='full', verbose=0)\n",
      "c:\\dev\\Brainwave-Processor\\yasa_features.py:223: RuntimeWarning: Iterative multi-taper PSD computation did not converge.\n",
      "  psd, freqs = psd_array_multitaper(epochs, sf, adaptive=True, normalization='full', verbose=0)\n",
      "c:\\dev\\Brainwave-Processor\\yasa_features.py:223: RuntimeWarning: Iterative multi-taper PSD computation did not converge.\n",
      "  psd, freqs = psd_array_multitaper(epochs, sf, adaptive=True, normalization='full', verbose=0)\n",
      "c:\\dev\\Brainwave-Processor\\yasa_features.py:223: RuntimeWarning: Iterative multi-taper PSD computation did not converge.\n",
      "  psd, freqs = psd_array_multitaper(epochs, sf, adaptive=True, normalization='full', verbose=0)\n",
      "c:\\dev\\Brainwave-Processor\\yasa_features.py:223: RuntimeWarning: Iterative multi-taper PSD computation did not converge.\n",
      "  psd, freqs = psd_array_multitaper(epochs, sf, adaptive=True, normalization='full', verbose=0)\n",
      "c:\\dev\\Brainwave-Processor\\yasa_features.py:223: RuntimeWarning: Iterative multi-taper PSD computation did not converge.\n",
      "  psd, freqs = psd_array_multitaper(epochs, sf, adaptive=True, normalization='full', verbose=0)\n",
      "c:\\dev\\Brainwave-Processor\\yasa_features.py:223: RuntimeWarning: Iterative multi-taper PSD computation did not converge.\n",
      "  psd, freqs = psd_array_multitaper(epochs, sf, adaptive=True, normalization='full', verbose=0)\n",
      "c:\\dev\\Brainwave-Processor\\yasa_features.py:223: RuntimeWarning: Iterative multi-taper PSD computation did not converge.\n",
      "  psd, freqs = psd_array_multitaper(epochs, sf, adaptive=True, normalization='full', verbose=0)\n",
      "c:\\dev\\Brainwave-Processor\\yasa_features.py:223: RuntimeWarning: Iterative multi-taper PSD computation did not converge.\n",
      "  psd, freqs = psd_array_multitaper(epochs, sf, adaptive=True, normalization='full', verbose=0)\n",
      "c:\\dev\\Brainwave-Processor\\yasa_features.py:223: RuntimeWarning: Iterative multi-taper PSD computation did not converge.\n",
      "  psd, freqs = psd_array_multitaper(epochs, sf, adaptive=True, normalization='full', verbose=0)\n",
      "c:\\dev\\Brainwave-Processor\\yasa_features.py:223: RuntimeWarning: Iterative multi-taper PSD computation did not converge.\n",
      "  psd, freqs = psd_array_multitaper(epochs, sf, adaptive=True, normalization='full', verbose=0)\n",
      "c:\\dev\\Brainwave-Processor\\yasa_features.py:223: RuntimeWarning: Iterative multi-taper PSD computation did not converge.\n",
      "  psd, freqs = psd_array_multitaper(epochs, sf, adaptive=True, normalization='full', verbose=0)\n",
      "c:\\dev\\Brainwave-Processor\\yasa_features.py:223: RuntimeWarning: Iterative multi-taper PSD computation did not converge.\n",
      "  psd, freqs = psd_array_multitaper(epochs, sf, adaptive=True, normalization='full', verbose=0)\n",
      "c:\\dev\\Brainwave-Processor\\yasa_features.py:223: RuntimeWarning: Iterative multi-taper PSD computation did not converge.\n",
      "  psd, freqs = psd_array_multitaper(epochs, sf, adaptive=True, normalization='full', verbose=0)\n",
      "c:\\dev\\Brainwave-Processor\\yasa_features.py:223: RuntimeWarning: Iterative multi-taper PSD computation did not converge.\n",
      "  psd, freqs = psd_array_multitaper(epochs, sf, adaptive=True, normalization='full', verbose=0)\n",
      "c:\\dev\\Brainwave-Processor\\yasa_features.py:223: RuntimeWarning: Iterative multi-taper PSD computation did not converge.\n",
      "  psd, freqs = psd_array_multitaper(epochs, sf, adaptive=True, normalization='full', verbose=0)\n",
      "c:\\dev\\Brainwave-Processor\\yasa_features.py:223: RuntimeWarning: Iterative multi-taper PSD computation did not converge.\n",
      "  psd, freqs = psd_array_multitaper(epochs, sf, adaptive=True, normalization='full', verbose=0)\n",
      "c:\\dev\\Brainwave-Processor\\yasa_features.py:223: RuntimeWarning: Iterative multi-taper PSD computation did not converge.\n",
      "  psd, freqs = psd_array_multitaper(epochs, sf, adaptive=True, normalization='full', verbose=0)\n",
      "c:\\dev\\Brainwave-Processor\\yasa_features.py:223: RuntimeWarning: Iterative multi-taper PSD computation did not converge.\n",
      "  psd, freqs = psd_array_multitaper(epochs, sf, adaptive=True, normalization='full', verbose=0)\n",
      "c:\\dev\\Brainwave-Processor\\yasa_features.py:223: RuntimeWarning: Iterative multi-taper PSD computation did not converge.\n",
      "  psd, freqs = psd_array_multitaper(epochs, sf, adaptive=True, normalization='full', verbose=0)\n",
      "c:\\dev\\Brainwave-Processor\\yasa_features.py:223: RuntimeWarning: Iterative multi-taper PSD computation did not converge.\n",
      "  psd, freqs = psd_array_multitaper(epochs, sf, adaptive=True, normalization='full', verbose=0)\n",
      "c:\\dev\\Brainwave-Processor\\yasa_features.py:223: RuntimeWarning: Iterative multi-taper PSD computation did not converge.\n",
      "  psd, freqs = psd_array_multitaper(epochs, sf, adaptive=True, normalization='full', verbose=0)\n",
      "c:\\dev\\Brainwave-Processor\\yasa_features.py:223: RuntimeWarning: Iterative multi-taper PSD computation did not converge.\n",
      "  psd, freqs = psd_array_multitaper(epochs, sf, adaptive=True, normalization='full', verbose=0)\n",
      "c:\\dev\\Brainwave-Processor\\yasa_features.py:223: RuntimeWarning: Iterative multi-taper PSD computation did not converge.\n",
      "  psd, freqs = psd_array_multitaper(epochs, sf, adaptive=True, normalization='full', verbose=0)\n",
      "c:\\dev\\Brainwave-Processor\\yasa_features.py:223: RuntimeWarning: Iterative multi-taper PSD computation did not converge.\n",
      "  psd, freqs = psd_array_multitaper(epochs, sf, adaptive=True, normalization='full', verbose=0)\n",
      "c:\\dev\\Brainwave-Processor\\yasa_features.py:223: RuntimeWarning: Iterative multi-taper PSD computation did not converge.\n",
      "  psd, freqs = psd_array_multitaper(epochs, sf, adaptive=True, normalization='full', verbose=0)\n",
      "c:\\dev\\Brainwave-Processor\\yasa_features.py:223: RuntimeWarning: Iterative multi-taper PSD computation did not converge.\n",
      "  psd, freqs = psd_array_multitaper(epochs, sf, adaptive=True, normalization='full', verbose=0)\n",
      "c:\\dev\\Brainwave-Processor\\yasa_features.py:223: RuntimeWarning: Iterative multi-taper PSD computation did not converge.\n",
      "  psd, freqs = psd_array_multitaper(epochs, sf, adaptive=True, normalization='full', verbose=0)\n",
      "c:\\dev\\Brainwave-Processor\\yasa_features.py:223: RuntimeWarning: Iterative multi-taper PSD computation did not converge.\n",
      "  psd, freqs = psd_array_multitaper(epochs, sf, adaptive=True, normalization='full', verbose=0)\n",
      "c:\\dev\\Brainwave-Processor\\yasa_features.py:223: RuntimeWarning: Iterative multi-taper PSD computation did not converge.\n",
      "  psd, freqs = psd_array_multitaper(epochs, sf, adaptive=True, normalization='full', verbose=0)\n",
      "c:\\dev\\Brainwave-Processor\\yasa_features.py:223: RuntimeWarning: Iterative multi-taper PSD computation did not converge.\n",
      "  psd, freqs = psd_array_multitaper(epochs, sf, adaptive=True, normalization='full', verbose=0)\n",
      "c:\\dev\\Brainwave-Processor\\yasa_features.py:223: RuntimeWarning: Iterative multi-taper PSD computation did not converge.\n",
      "  psd, freqs = psd_array_multitaper(epochs, sf, adaptive=True, normalization='full', verbose=0)\n",
      "c:\\dev\\Brainwave-Processor\\yasa_features.py:223: RuntimeWarning: Iterative multi-taper PSD computation did not converge.\n",
      "  psd, freqs = psd_array_multitaper(epochs, sf, adaptive=True, normalization='full', verbose=0)\n",
      "c:\\dev\\Brainwave-Processor\\yasa_features.py:223: RuntimeWarning: Iterative multi-taper PSD computation did not converge.\n",
      "  psd, freqs = psd_array_multitaper(epochs, sf, adaptive=True, normalization='full', verbose=0)\n",
      "c:\\dev\\Brainwave-Processor\\yasa_features.py:223: RuntimeWarning: Iterative multi-taper PSD computation did not converge.\n",
      "  psd, freqs = psd_array_multitaper(epochs, sf, adaptive=True, normalization='full', verbose=0)\n",
      "c:\\dev\\Brainwave-Processor\\yasa_features.py:223: RuntimeWarning: Iterative multi-taper PSD computation did not converge.\n",
      "  psd, freqs = psd_array_multitaper(epochs, sf, adaptive=True, normalization='full', verbose=0)\n",
      "c:\\dev\\Brainwave-Processor\\yasa_features.py:223: RuntimeWarning: Iterative multi-taper PSD computation did not converge.\n",
      "  psd, freqs = psd_array_multitaper(epochs, sf, adaptive=True, normalization='full', verbose=0)\n",
      "c:\\dev\\Brainwave-Processor\\yasa_features.py:223: RuntimeWarning: Iterative multi-taper PSD computation did not converge.\n",
      "  psd, freqs = psd_array_multitaper(epochs, sf, adaptive=True, normalization='full', verbose=0)\n",
      "c:\\dev\\Brainwave-Processor\\yasa_features.py:223: RuntimeWarning: Iterative multi-taper PSD computation did not converge.\n",
      "  psd, freqs = psd_array_multitaper(epochs, sf, adaptive=True, normalization='full', verbose=0)\n",
      "c:\\dev\\Brainwave-Processor\\yasa_features.py:223: RuntimeWarning: Iterative multi-taper PSD computation did not converge.\n",
      "  psd, freqs = psd_array_multitaper(epochs, sf, adaptive=True, normalization='full', verbose=0)\n",
      "c:\\dev\\Brainwave-Processor\\yasa_features.py:223: RuntimeWarning: Iterative multi-taper PSD computation did not converge.\n",
      "  psd, freqs = psd_array_multitaper(epochs, sf, adaptive=True, normalization='full', verbose=0)\n",
      "c:\\dev\\Brainwave-Processor\\yasa_features.py:223: RuntimeWarning: Iterative multi-taper PSD computation did not converge.\n",
      "  psd, freqs = psd_array_multitaper(epochs, sf, adaptive=True, normalization='full', verbose=0)\n",
      "c:\\dev\\Brainwave-Processor\\yasa_features.py:223: RuntimeWarning: Iterative multi-taper PSD computation did not converge.\n",
      "  psd, freqs = psd_array_multitaper(epochs, sf, adaptive=True, normalization='full', verbose=0)\n",
      "c:\\dev\\Brainwave-Processor\\yasa_features.py:223: RuntimeWarning: Iterative multi-taper PSD computation did not converge.\n",
      "  psd, freqs = psd_array_multitaper(epochs, sf, adaptive=True, normalization='full', verbose=0)\n",
      "c:\\dev\\Brainwave-Processor\\yasa_features.py:223: RuntimeWarning: Iterative multi-taper PSD computation did not converge.\n",
      "  psd, freqs = psd_array_multitaper(epochs, sf, adaptive=True, normalization='full', verbose=0)\n",
      "c:\\dev\\Brainwave-Processor\\yasa_features.py:223: RuntimeWarning: Iterative multi-taper PSD computation did not converge.\n",
      "  psd, freqs = psd_array_multitaper(epochs, sf, adaptive=True, normalization='full', verbose=0)\n",
      "c:\\dev\\Brainwave-Processor\\yasa_features.py:223: RuntimeWarning: Iterative multi-taper PSD computation did not converge.\n",
      "  psd, freqs = psd_array_multitaper(epochs, sf, adaptive=True, normalization='full', verbose=0)\n",
      "c:\\dev\\Brainwave-Processor\\yasa_features.py:223: RuntimeWarning: Iterative multi-taper PSD computation did not converge.\n",
      "  psd, freqs = psd_array_multitaper(epochs, sf, adaptive=True, normalization='full', verbose=0)\n",
      "c:\\dev\\Brainwave-Processor\\yasa_features.py:223: RuntimeWarning: Iterative multi-taper PSD computation did not converge.\n",
      "  psd, freqs = psd_array_multitaper(epochs, sf, adaptive=True, normalization='full', verbose=0)\n",
      "c:\\dev\\Brainwave-Processor\\yasa_features.py:223: RuntimeWarning: Iterative multi-taper PSD computation did not converge.\n",
      "  psd, freqs = psd_array_multitaper(epochs, sf, adaptive=True, normalization='full', verbose=0)\n",
      "c:\\dev\\Brainwave-Processor\\yasa_features.py:223: RuntimeWarning: Iterative multi-taper PSD computation did not converge.\n",
      "  psd, freqs = psd_array_multitaper(epochs, sf, adaptive=True, normalization='full', verbose=0)\n",
      "c:\\dev\\Brainwave-Processor\\yasa_features.py:223: RuntimeWarning: Iterative multi-taper PSD computation did not converge.\n",
      "  psd, freqs = psd_array_multitaper(epochs, sf, adaptive=True, normalization='full', verbose=0)\n",
      "c:\\dev\\Brainwave-Processor\\yasa_features.py:223: RuntimeWarning: Iterative multi-taper PSD computation did not converge.\n",
      "  psd, freqs = psd_array_multitaper(epochs, sf, adaptive=True, normalization='full', verbose=0)\n",
      "c:\\dev\\Brainwave-Processor\\yasa_features.py:223: RuntimeWarning: Iterative multi-taper PSD computation did not converge.\n",
      "  psd, freqs = psd_array_multitaper(epochs, sf, adaptive=True, normalization='full', verbose=0)\n",
      "c:\\dev\\Brainwave-Processor\\yasa_features.py:223: RuntimeWarning: Iterative multi-taper PSD computation did not converge.\n",
      "  psd, freqs = psd_array_multitaper(epochs, sf, adaptive=True, normalization='full', verbose=0)\n",
      "c:\\dev\\Brainwave-Processor\\yasa_features.py:223: RuntimeWarning: Iterative multi-taper PSD computation did not converge.\n",
      "  psd, freqs = psd_array_multitaper(epochs, sf, adaptive=True, normalization='full', verbose=0)\n",
      "c:\\dev\\Brainwave-Processor\\yasa_features.py:223: RuntimeWarning: Iterative multi-taper PSD computation did not converge.\n",
      "  psd, freqs = psd_array_multitaper(epochs, sf, adaptive=True, normalization='full', verbose=0)\n",
      "c:\\dev\\Brainwave-Processor\\yasa_features.py:223: RuntimeWarning: Iterative multi-taper PSD computation did not converge.\n",
      "  psd, freqs = psd_array_multitaper(epochs, sf, adaptive=True, normalization='full', verbose=0)\n",
      "c:\\dev\\Brainwave-Processor\\yasa_features.py:223: RuntimeWarning: Iterative multi-taper PSD computation did not converge.\n",
      "  psd, freqs = psd_array_multitaper(epochs, sf, adaptive=True, normalization='full', verbose=0)\n",
      "c:\\dev\\Brainwave-Processor\\yasa_features.py:223: RuntimeWarning: Iterative multi-taper PSD computation did not converge.\n",
      "  psd, freqs = psd_array_multitaper(epochs, sf, adaptive=True, normalization='full', verbose=0)\n",
      "c:\\dev\\Brainwave-Processor\\yasa_features.py:223: RuntimeWarning: Iterative multi-taper PSD computation did not converge.\n",
      "  psd, freqs = psd_array_multitaper(epochs, sf, adaptive=True, normalization='full', verbose=0)\n",
      "c:\\dev\\Brainwave-Processor\\yasa_features.py:223: RuntimeWarning: Iterative multi-taper PSD computation did not converge.\n",
      "  psd, freqs = psd_array_multitaper(epochs, sf, adaptive=True, normalization='full', verbose=0)\n",
      "c:\\dev\\Brainwave-Processor\\yasa_features.py:223: RuntimeWarning: Iterative multi-taper PSD computation did not converge.\n",
      "  psd, freqs = psd_array_multitaper(epochs, sf, adaptive=True, normalization='full', verbose=0)\n",
      "c:\\dev\\Brainwave-Processor\\yasa_features.py:223: RuntimeWarning: Iterative multi-taper PSD computation did not converge.\n",
      "  psd, freqs = psd_array_multitaper(epochs, sf, adaptive=True, normalization='full', verbose=0)\n",
      "c:\\dev\\Brainwave-Processor\\yasa_features.py:223: RuntimeWarning: Iterative multi-taper PSD computation did not converge.\n",
      "  psd, freqs = psd_array_multitaper(epochs, sf, adaptive=True, normalization='full', verbose=0)\n",
      "c:\\dev\\Brainwave-Processor\\yasa_features.py:223: RuntimeWarning: Iterative multi-taper PSD computation did not converge.\n",
      "  psd, freqs = psd_array_multitaper(epochs, sf, adaptive=True, normalization='full', verbose=0)\n",
      "c:\\dev\\Brainwave-Processor\\yasa_features.py:223: RuntimeWarning: Iterative multi-taper PSD computation did not converge.\n",
      "  psd, freqs = psd_array_multitaper(epochs, sf, adaptive=True, normalization='full', verbose=0)\n",
      "c:\\dev\\Brainwave-Processor\\yasa_features.py:223: RuntimeWarning: Iterative multi-taper PSD computation did not converge.\n",
      "  psd, freqs = psd_array_multitaper(epochs, sf, adaptive=True, normalization='full', verbose=0)\n",
      "c:\\dev\\Brainwave-Processor\\yasa_features.py:223: RuntimeWarning: Iterative multi-taper PSD computation did not converge.\n",
      "  psd, freqs = psd_array_multitaper(epochs, sf, adaptive=True, normalization='full', verbose=0)\n",
      "c:\\dev\\Brainwave-Processor\\yasa_features.py:223: RuntimeWarning: Iterative multi-taper PSD computation did not converge.\n",
      "  psd, freqs = psd_array_multitaper(epochs, sf, adaptive=True, normalization='full', verbose=0)\n",
      "c:\\dev\\Brainwave-Processor\\yasa_features.py:223: RuntimeWarning: Iterative multi-taper PSD computation did not converge.\n",
      "  psd, freqs = psd_array_multitaper(epochs, sf, adaptive=True, normalization='full', verbose=0)\n",
      "c:\\dev\\Brainwave-Processor\\yasa_features.py:223: RuntimeWarning: Iterative multi-taper PSD computation did not converge.\n",
      "  psd, freqs = psd_array_multitaper(epochs, sf, adaptive=True, normalization='full', verbose=0)\n",
      "c:\\dev\\Brainwave-Processor\\yasa_features.py:223: RuntimeWarning: Iterative multi-taper PSD computation did not converge.\n",
      "  psd, freqs = psd_array_multitaper(epochs, sf, adaptive=True, normalization='full', verbose=0)\n",
      "c:\\dev\\Brainwave-Processor\\yasa_features.py:223: RuntimeWarning: Iterative multi-taper PSD computation did not converge.\n",
      "  psd, freqs = psd_array_multitaper(epochs, sf, adaptive=True, normalization='full', verbose=0)\n",
      "c:\\dev\\Brainwave-Processor\\yasa_features.py:223: RuntimeWarning: Iterative multi-taper PSD computation did not converge.\n",
      "  psd, freqs = psd_array_multitaper(epochs, sf, adaptive=True, normalization='full', verbose=0)\n",
      "c:\\dev\\Brainwave-Processor\\yasa_features.py:223: RuntimeWarning: Iterative multi-taper PSD computation did not converge.\n",
      "  psd, freqs = psd_array_multitaper(epochs, sf, adaptive=True, normalization='full', verbose=0)\n",
      "c:\\dev\\Brainwave-Processor\\yasa_features.py:223: RuntimeWarning: Iterative multi-taper PSD computation did not converge.\n",
      "  psd, freqs = psd_array_multitaper(epochs, sf, adaptive=True, normalization='full', verbose=0)\n",
      "c:\\dev\\Brainwave-Processor\\yasa_features.py:223: RuntimeWarning: Iterative multi-taper PSD computation did not converge.\n",
      "  psd, freqs = psd_array_multitaper(epochs, sf, adaptive=True, normalization='full', verbose=0)\n",
      "c:\\dev\\Brainwave-Processor\\yasa_features.py:223: RuntimeWarning: Iterative multi-taper PSD computation did not converge.\n",
      "  psd, freqs = psd_array_multitaper(epochs, sf, adaptive=True, normalization='full', verbose=0)\n",
      "c:\\dev\\Brainwave-Processor\\yasa_features.py:223: RuntimeWarning: Iterative multi-taper PSD computation did not converge.\n",
      "  psd, freqs = psd_array_multitaper(epochs, sf, adaptive=True, normalization='full', verbose=0)\n",
      "c:\\dev\\Brainwave-Processor\\yasa_features.py:223: RuntimeWarning: Iterative multi-taper PSD computation did not converge.\n",
      "  psd, freqs = psd_array_multitaper(epochs, sf, adaptive=True, normalization='full', verbose=0)\n",
      "c:\\dev\\Brainwave-Processor\\yasa_features.py:223: RuntimeWarning: Iterative multi-taper PSD computation did not converge.\n",
      "  psd, freqs = psd_array_multitaper(epochs, sf, adaptive=True, normalization='full', verbose=0)\n",
      "c:\\dev\\Brainwave-Processor\\yasa_features.py:223: RuntimeWarning: Iterative multi-taper PSD computation did not converge.\n",
      "  psd, freqs = psd_array_multitaper(epochs, sf, adaptive=True, normalization='full', verbose=0)\n",
      "c:\\dev\\Brainwave-Processor\\yasa_features.py:223: RuntimeWarning: Iterative multi-taper PSD computation did not converge.\n",
      "  psd, freqs = psd_array_multitaper(epochs, sf, adaptive=True, normalization='full', verbose=0)\n",
      "c:\\dev\\Brainwave-Processor\\yasa_features.py:223: RuntimeWarning: Iterative multi-taper PSD computation did not converge.\n",
      "  psd, freqs = psd_array_multitaper(epochs, sf, adaptive=True, normalization='full', verbose=0)\n",
      "c:\\dev\\Brainwave-Processor\\yasa_features.py:223: RuntimeWarning: Iterative multi-taper PSD computation did not converge.\n",
      "  psd, freqs = psd_array_multitaper(epochs, sf, adaptive=True, normalization='full', verbose=0)\n",
      "c:\\dev\\Brainwave-Processor\\yasa_features.py:223: RuntimeWarning: Iterative multi-taper PSD computation did not converge.\n",
      "  psd, freqs = psd_array_multitaper(epochs, sf, adaptive=True, normalization='full', verbose=0)\n",
      "c:\\dev\\Brainwave-Processor\\yasa_features.py:223: RuntimeWarning: Iterative multi-taper PSD computation did not converge.\n",
      "  psd, freqs = psd_array_multitaper(epochs, sf, adaptive=True, normalization='full', verbose=0)\n",
      "c:\\dev\\Brainwave-Processor\\yasa_features.py:223: RuntimeWarning: Iterative multi-taper PSD computation did not converge.\n",
      "  psd, freqs = psd_array_multitaper(epochs, sf, adaptive=True, normalization='full', verbose=0)\n",
      "c:\\dev\\Brainwave-Processor\\yasa_features.py:223: RuntimeWarning: Iterative multi-taper PSD computation did not converge.\n",
      "  psd, freqs = psd_array_multitaper(epochs, sf, adaptive=True, normalization='full', verbose=0)\n",
      "c:\\dev\\Brainwave-Processor\\yasa_features.py:223: RuntimeWarning: Iterative multi-taper PSD computation did not converge.\n",
      "  psd, freqs = psd_array_multitaper(epochs, sf, adaptive=True, normalization='full', verbose=0)\n",
      "c:\\dev\\Brainwave-Processor\\yasa_features.py:223: RuntimeWarning: Iterative multi-taper PSD computation did not converge.\n",
      "  psd, freqs = psd_array_multitaper(epochs, sf, adaptive=True, normalization='full', verbose=0)\n",
      "c:\\dev\\Brainwave-Processor\\yasa_features.py:223: RuntimeWarning: Iterative multi-taper PSD computation did not converge.\n",
      "  psd, freqs = psd_array_multitaper(epochs, sf, adaptive=True, normalization='full', verbose=0)\n",
      "c:\\dev\\Brainwave-Processor\\yasa_features.py:223: RuntimeWarning: Iterative multi-taper PSD computation did not converge.\n",
      "  psd, freqs = psd_array_multitaper(epochs, sf, adaptive=True, normalization='full', verbose=0)\n",
      "c:\\dev\\Brainwave-Processor\\yasa_features.py:223: RuntimeWarning: Iterative multi-taper PSD computation did not converge.\n",
      "  psd, freqs = psd_array_multitaper(epochs, sf, adaptive=True, normalization='full', verbose=0)\n",
      "c:\\dev\\Brainwave-Processor\\yasa_features.py:223: RuntimeWarning: Iterative multi-taper PSD computation did not converge.\n",
      "  psd, freqs = psd_array_multitaper(epochs, sf, adaptive=True, normalization='full', verbose=0)\n",
      "c:\\dev\\Brainwave-Processor\\yasa_features.py:223: RuntimeWarning: Iterative multi-taper PSD computation did not converge.\n",
      "  psd, freqs = psd_array_multitaper(epochs, sf, adaptive=True, normalization='full', verbose=0)\n"
     ]
    },
    {
     "name": "stdout",
     "output_type": "stream",
     "text": [
      "2025-04-22 07:42:58.594938 All done! C:\\dev\\play\\brainwave-data\\2025-04-21-21-33-06\\raw.fif\n",
      "2025-04-22 07:42:58.604750 Saving to: C:\\dev\\play\\brainwave-data\\2025-04-21-21-33-06\\raw.post_yasa.csv\n"
     ]
    },
    {
     "name": "stderr",
     "output_type": "stream",
     "text": [
      "Post YASA pipeline: 100%|██████████| 169/169 [01:30<00:00,  1.87it/s]"
     ]
    },
    {
     "name": "stdout",
     "output_type": "stream",
     "text": [
      "2025-04-22 07:42:58.887618 Processing file: C:\\dev\\play\\brainwave-data\\compressed_files\\raw.fif\n",
      "2025-04-22 07:42:58.887793 File not found: C:\\dev\\play\\brainwave-data\\compressed_files\\raw.fif or C:\\dev\\play\\brainwave-data\\compressed_files\\raw.yasa.csv\n",
      "2025-04-22 07:42:58.888338 Processing file: C:\\dev\\play\\brainwave-data\\nonnight\\raw.fif\n",
      "2025-04-22 07:42:58.888383 File not found: C:\\dev\\play\\brainwave-data\\nonnight\\raw.fif or C:\\dev\\play\\brainwave-data\\nonnight\\raw.yasa.csv\n"
     ]
    },
    {
     "name": "stderr",
     "output_type": "stream",
     "text": [
      "\n"
     ]
    },
    {
     "data": {
      "text/html": [
       "<div>\n",
       "<style scoped>\n",
       "    .dataframe tbody tr th:only-of-type {\n",
       "        vertical-align: middle;\n",
       "    }\n",
       "\n",
       "    .dataframe tbody tr th {\n",
       "        vertical-align: top;\n",
       "    }\n",
       "\n",
       "    .dataframe thead th {\n",
       "        text-align: right;\n",
       "    }\n",
       "</style>\n",
       "<table border=\"1\" class=\"dataframe\">\n",
       "  <thead>\n",
       "    <tr style=\"text-align: right;\">\n",
       "      <th></th>\n",
       "      <th>dir_name</th>\n",
       "      <th>cached</th>\n",
       "      <th>stdout</th>\n",
       "      <th>success_or_msg</th>\n",
       "    </tr>\n",
       "  </thead>\n",
       "  <tbody>\n",
       "    <tr>\n",
       "      <th>0</th>\n",
       "      <td>08-07-2024--22-51-16</td>\n",
       "      <td>False</td>\n",
       "      <td></td>\n",
       "      <td>File not found</td>\n",
       "    </tr>\n",
       "    <tr>\n",
       "      <th>1</th>\n",
       "      <td>09-07-2024--22-52-25</td>\n",
       "      <td>False</td>\n",
       "      <td></td>\n",
       "      <td>File not found</td>\n",
       "    </tr>\n",
       "    <tr>\n",
       "      <th>2</th>\n",
       "      <td>2024-07-08-22-51-16</td>\n",
       "      <td>True</td>\n",
       "      <td></td>\n",
       "      <td>True</td>\n",
       "    </tr>\n",
       "    <tr>\n",
       "      <th>3</th>\n",
       "      <td>2024-07-11-22-46-18</td>\n",
       "      <td>True</td>\n",
       "      <td></td>\n",
       "      <td>True</td>\n",
       "    </tr>\n",
       "    <tr>\n",
       "      <th>4</th>\n",
       "      <td>2024-07-12-22-38-58</td>\n",
       "      <td>True</td>\n",
       "      <td></td>\n",
       "      <td>True</td>\n",
       "    </tr>\n",
       "    <tr>\n",
       "      <th>...</th>\n",
       "      <td>...</td>\n",
       "      <td>...</td>\n",
       "      <td>...</td>\n",
       "      <td>...</td>\n",
       "    </tr>\n",
       "    <tr>\n",
       "      <th>164</th>\n",
       "      <td>2025-04-04-20-56-30</td>\n",
       "      <td>True</td>\n",
       "      <td></td>\n",
       "      <td>True</td>\n",
       "    </tr>\n",
       "    <tr>\n",
       "      <th>165</th>\n",
       "      <td>2025-04-11-21-07-33</td>\n",
       "      <td>True</td>\n",
       "      <td></td>\n",
       "      <td>True</td>\n",
       "    </tr>\n",
       "    <tr>\n",
       "      <th>166</th>\n",
       "      <td>2025-04-21-21-33-06</td>\n",
       "      <td>False</td>\n",
       "      <td></td>\n",
       "      <td>True</td>\n",
       "    </tr>\n",
       "    <tr>\n",
       "      <th>167</th>\n",
       "      <td>compressed_files</td>\n",
       "      <td>False</td>\n",
       "      <td></td>\n",
       "      <td>File not found</td>\n",
       "    </tr>\n",
       "    <tr>\n",
       "      <th>168</th>\n",
       "      <td>nonnight</td>\n",
       "      <td>False</td>\n",
       "      <td></td>\n",
       "      <td>File not found</td>\n",
       "    </tr>\n",
       "  </tbody>\n",
       "</table>\n",
       "<p>169 rows × 4 columns</p>\n",
       "</div>"
      ],
      "text/plain": [
       "                 dir_name  cached stdout  success_or_msg\n",
       "0    08-07-2024--22-51-16   False         File not found\n",
       "1    09-07-2024--22-52-25   False         File not found\n",
       "2     2024-07-08-22-51-16    True                   True\n",
       "3     2024-07-11-22-46-18    True                   True\n",
       "4     2024-07-12-22-38-58    True                   True\n",
       "..                    ...     ...    ...             ...\n",
       "164   2025-04-04-20-56-30    True                   True\n",
       "165   2025-04-11-21-07-33    True                   True\n",
       "166   2025-04-21-21-33-06   False                   True\n",
       "167      compressed_files   False         File not found\n",
       "168              nonnight   False         File not found\n",
       "\n",
       "[169 rows x 4 columns]"
      ]
     },
     "execution_count": 27,
     "metadata": {},
     "output_type": "execute_result"
    }
   ],
   "source": [
    "results = pd.DataFrame(columns=['dir_name', 'cached', 'stdout', 'success_or_msg'])\n",
    "\n",
    "all_post_yasa_dfs = []\n",
    "\n",
    "dirs = next(os.walk(input_dir))[1]\n",
    "for idx, dir_name in enumerate(tqdm(dirs, desc=\"Post YASA pipeline\")):\n",
    "    post_yasa_df, cached, stdout, success_or_msg = process_file_for_post_yasa(input_dir, dir_name)\n",
    "    all_post_yasa_dfs.append(post_yasa_df)\n",
    "    results.loc[len(results)] = [dir_name, cached, stdout, success_or_msg]\n",
    "    # error_count = len(results[results['success_or_msg'] != True])\n",
    "    # if (error_count > 5):\n",
    "    #     log(f\"Stopping due to {error_count} errors\")\n",
    "    #     break\n",
    "\n",
    "results\n"
   ]
  },
  {
   "cell_type": "markdown",
   "id": "4c487ce7a385265e",
   "metadata": {},
   "source": [
    "# Recalculate scalings\n",
    "N.b. can be run frequently but will only be picked up by new runs.  Maybe worth occasionally regenerating all old files.\n",
    "And yes, for new features have to rerun the pipeline on everything, then generate the stats here, then rerun the pipeline again on everything to have them use those."
   ]
  },
  {
   "cell_type": "code",
   "execution_count": 28,
   "id": "60c194d4c115d030",
   "metadata": {
    "ExecuteTime": {
     "end_time": "2025-02-27T08:51:37.464814600Z",
     "start_time": "2025-02-16T07:36:49.714878Z"
    }
   },
   "outputs": [],
   "source": [
    "# post_yasa_dfs_combined = pd.concat(all_post_yasa_dfs)"
   ]
  },
  {
   "cell_type": "code",
   "execution_count": 29,
   "id": "ea7c30608a88ddd9",
   "metadata": {
    "ExecuteTime": {
     "end_time": "2025-02-27T08:51:37.465817900Z",
     "start_time": "2025-02-16T07:36:49.877717Z"
    }
   },
   "outputs": [],
   "source": [
    "# from scaling import only_eeg\n",
    "\n",
    "# only_eeg_cols = list(only_eeg(post_yasa_dfs_combined).columns)\n",
    "# assert any(col.startswith(\"Main\") for col in only_eeg_cols), \"No column starting with 'Main' found in only_eeg_cols\""
   ]
  },
  {
   "cell_type": "code",
   "execution_count": 30,
   "id": "b45325b82b166f42",
   "metadata": {
    "ExecuteTime": {
     "end_time": "2025-02-27T08:51:37.468334Z",
     "start_time": "2025-02-16T07:36:49.960504Z"
    }
   },
   "outputs": [],
   "source": [
    "# #Expensive to do every time now\n",
    "# import scaling\n",
    "# reload(scaling)\n",
    "\n",
    "# stats = scaling.stats(post_yasa_dfs_combined)\n",
    "# stats.to_csv(input_dir + \"/stats.csv\")\n",
    "# # assert any(stats['Column'].str.startswith(\"Main\")), \"No row starting with 'Main' found in column_name\"\n",
    "# stats"
   ]
  },
  {
   "cell_type": "markdown",
   "id": "6e825bb10b9e135a",
   "metadata": {
    "ExecuteTime": {
     "start_time": "2024-12-14T14:21:26.533907Z"
    }
   },
   "source": [
    "# Microwakings"
   ]
  },
  {
   "cell_type": "code",
   "execution_count": 31,
   "id": "d62e36ec5e5980cd",
   "metadata": {
    "ExecuteTime": {
     "end_time": "2025-02-27T08:51:37.469339100Z",
     "start_time": "2025-02-16T07:36:49.984727Z"
    }
   },
   "outputs": [],
   "source": [
    "# from models.microwakings_1 import microwakings_pipeline, microwakings1\n",
    "# import os\n",
    "\n",
    "# import io\n",
    "\n",
    "# from importlib import reload\n",
    "# reload(microwakings_pipeline)\n",
    "# reload(microwakings1)\n",
    "\n",
    "# def process_microwakings(root, dir_name, force=False):\n",
    "#     output_buffer = io.StringIO()\n",
    "#     # with contextlib.redirect_stdout(output_buffer), contextlib.redirect_stderr(output_buffer):\n",
    "#     input_fif_file = os.path.join(root, dir_name, \"raw.fif\")\n",
    "#     input_csv_file = os.path.join(root, dir_name, \"raw.post_yasa.csv\")\n",
    "#     try:\n",
    "#         print(f\"Processing file: \" + input_fif_file, flush=True)\n",
    "#         log(f\"Processing file: \" + input_fif_file)\n",
    "#         tqdm.write(f\"Processing file: \" + input_fif_file)\n",
    "#         if not os.path.exists(input_fif_file):\n",
    "#             return None, False, output_buffer.getvalue(), \"File not found \" + input_fif_file\n",
    "#         if not os.path.exists(input_csv_file):\n",
    "#             return None, False, output_buffer.getvalue(), \"File not found \" + input_csv_file\n",
    "\n",
    "#         post_yasa_df = pd.read_csv(input_csv_file)\n",
    "#         microwakings_df, cached = microwakings_pipeline.cached_microwakings_pipeline(log, input_fif_file, post_yasa_df, force or global_force)\n",
    "#         return microwakings_df, cached, output_buffer.getvalue(), True\n",
    "#     except Exception as e:\n",
    "#         return None, False, output_buffer.getvalue(), \"Error: \" + str(e)\n",
    "\n",
    "# Testing\n",
    "# microwakings_df, cached, stdout, success_or_msg = process_microwakings(\"C:\\\\dev\\\\play\\\\brainwave-data\", \"2025-03-20-21-22-08\", False)\n",
    "# stdout, success_or_msg"
   ]
  },
  {
   "cell_type": "code",
   "execution_count": 32,
   "id": "32e5f01fcd1ed033",
   "metadata": {
    "ExecuteTime": {
     "end_time": "2025-02-27T08:51:37.471339300Z",
     "start_time": "2025-02-16T07:36:50.088664Z"
    }
   },
   "outputs": [],
   "source": [
    "# results = pd.DataFrame(columns=['dir_name', 'cached', 'stdout', 'success_or_msg'])\n",
    "\n",
    "# dirs = next(os.walk(input_dir))[1]\n",
    "# # for idx, dir_name in enumerate(tqdm(dirs, desc=\"Microwakings pipeline\")):\n",
    "# for idx, dir_name in enumerate(dirs):\n",
    "#     # print(dir_name)\n",
    "#     microwakings_df, cached, stdout, success_or_msg = process_microwakings(input_dir, dir_name, global_force)\n",
    "#     results.loc[len(results)] = [dir_name, cached, stdout, success_or_msg]\n",
    "\n",
    "# results"
   ]
  },
  {
   "cell_type": "markdown",
   "id": "7ebf4c256a66aab1",
   "metadata": {},
   "source": [
    "# Post-human pipeline\n",
    "This requires user interaction first to provide sleep times etc."
   ]
  },
  {
   "cell_type": "code",
   "execution_count": 33,
   "id": "224421aa114f231b",
   "metadata": {
    "ExecuteTime": {
     "end_time": "2025-02-27T08:51:37.473335Z",
     "start_time": "2025-02-16T07:37:02.301076Z"
    }
   },
   "outputs": [],
   "source": [
    "import sleep_events\n",
    "from importlib import reload\n",
    "\n",
    "reload(sleep_events)\n",
    "\n",
    "from sleep_events import load_days_data\n",
    "from sleep_events import pimp_my_days_data\n",
    "\n",
    "days_data = load_days_data(True)"
   ]
  },
  {
   "cell_type": "code",
   "execution_count": 34,
   "id": "a786118aa556417d",
   "metadata": {
    "ExecuteTime": {
     "end_time": "2025-02-27T08:51:37.474662200Z",
     "start_time": "2025-02-16T07:37:17.100295Z"
    }
   },
   "outputs": [
    {
     "name": "stderr",
     "output_type": "stream",
     "text": [
      "c:\\Users\\graha\\.conda\\envs\\py3.13\\Lib\\site-packages\\google\\cloud\\firestore_v1\\base_collection.py:303: UserWarning: Detected filter using positional arguments. Prefer using the 'filter' keyword argument instead.\n",
      "  return query.where(field_path, op_string, value)\n",
      "c:\\dev\\Brainwave-Processor\\models\\eeg_states\\eeg_states.py:130: FutureWarning: Setting an item of incompatible dtype is deprecated and will raise an error in a future version of pandas. Value '2024-10-09 20:17:27.992000+00:00' has dtype incompatible with datetime64[ns], please explicitly cast to a compatible dtype first.\n",
      "  events.at[i, 'since'] = since_time\n",
      "c:\\dev\\Brainwave-Processor\\models\\eeg_states\\eeg_states.py:132: PerformanceWarning: Adding/subtracting object-dtype array to DatetimeArray not vectorized.\n",
      "  events['duration'] = events['timestamp'] - events['since']\n"
     ]
    }
   ],
   "source": [
    "import models.eeg_states.eeg_states\n",
    "reload(models.eeg_states.eeg_states)\n",
    "\n",
    "from models.eeg_states.eeg_states import load_and_prepare_settling_eeg_state_events\n",
    "\n",
    "tired_wired_eeg_state_events = load_and_prepare_settling_eeg_state_events()"
   ]
  },
  {
   "cell_type": "code",
   "execution_count": null,
   "metadata": {},
   "outputs": [],
   "source": []
  },
  {
   "cell_type": "code",
   "execution_count": null,
   "id": "0e6d73cf",
   "metadata": {},
   "outputs": [],
   "source": []
  },
  {
   "cell_type": "code",
   "execution_count": 36,
   "id": "8810c9b6d565e572",
   "metadata": {
    "ExecuteTime": {
     "end_time": "2025-02-27T08:51:37.475672700Z",
     "start_time": "2025-02-16T07:37:18.124240Z"
    }
   },
   "outputs": [
    {
     "data": {
      "text/plain": [
       "('2025-04-22 07:57:59.784404 Processing file: C:\\\\dev\\\\play\\\\brainwave-data\\\\2024-09-19-21-29-42\\\\raw.fif\\n2025-04-22 07:57:59.842611 Loading cached file C:\\\\dev\\\\play\\\\brainwave-data\\\\2024-09-19-21-29-42\\\\raw.post_human.csv\\n2025-04-22 07:57:59.898721 Cached file C:\\\\dev\\\\play\\\\brainwave-data\\\\2024-09-19-21-29-42\\\\raw.post_human.csv is missing SettlingScorePrediction, rebuilding\\n\\r  0%|          | 0/1179 [00:00<?, ?it/s]\\r 74%|#######4  | 874/1179 [00:00<00:00, 8738.07it/s]\\r100%|##########| 1179/1179 [00:00<00:00, 9127.76it/s]\\n2025-04-22 07:58:00.491181 Saving to: C:\\\\dev\\\\play\\\\brainwave-data\\\\2024-09-19-21-29-42\\\\raw.post_human.csv\\n',\n",
       " True)"
      ]
     },
     "execution_count": 36,
     "metadata": {},
     "output_type": "execute_result"
    }
   ],
   "source": [
    "import models.eeg_states.eeg_states\n",
    "reload(models.eeg_states.eeg_states)\n",
    "import run_post_human_pipeline\n",
    "reload(run_post_human_pipeline)\n",
    "from run_post_human_pipeline import cached_post_human_pipeline\n",
    "\n",
    "\n",
    "def process_file_for_post_human(root, dir_name, force=False):\n",
    "    output_buffer = io.StringIO()\n",
    "    with contextlib.redirect_stdout(output_buffer), contextlib.redirect_stderr(output_buffer):\n",
    "\n",
    "        input_fif_file = os.path.join(root, dir_name, \"raw.fif\")\n",
    "        input_csv_file = os.path.join(root, dir_name, \"raw.post_yasa.csv\")\n",
    "        try:\n",
    "            log(f\"Processing file: \" + input_fif_file)\n",
    "            if not os.path.exists(input_fif_file):\n",
    "                return None, False, output_buffer.getvalue(), \"File not found \" + input_fif_file\n",
    "            if not os.path.exists(input_csv_file):\n",
    "                return None, False, output_buffer.getvalue(), \"File not found \" + input_csv_file\n",
    "            post_yasa_df = pd.read_csv(input_csv_file)\n",
    "            post_human_df, cached = cached_post_human_pipeline(log, dir_name, input_fif_file, stats_df, days_data, post_yasa_df, tired_wired_eeg_state_events, force or global_force)\n",
    "            return post_human_df, cached, output_buffer.getvalue(), True\n",
    "        except Exception as e:\n",
    "            traceback.print_exc()\n",
    "            return None, False, output_buffer.getvalue(), \"Error: \" + str(e)\n",
    "\n",
    "# Testing\n",
    "post_human_df, cached, stdout, success_or_msg = process_file_for_post_human(\"C:\\\\dev\\\\play\\\\brainwave-data\", \"2024-09-19-21-29-42\", False)\n",
    "stdout, success_or_msg"
   ]
  },
  {
   "cell_type": "code",
   "execution_count": 37,
   "id": "dc932146086b8cb0",
   "metadata": {
    "ExecuteTime": {
     "end_time": "2025-02-27T08:51:37.479672700Z",
     "start_time": "2025-02-16T07:37:18.309798Z"
    }
   },
   "outputs": [
    {
     "name": "stderr",
     "output_type": "stream",
     "text": [
      "Post human pipeline: 100%|██████████| 169/169 [05:42<00:00,  2.02s/it]\n"
     ]
    },
    {
     "data": {
      "text/html": [
       "<div>\n",
       "<style scoped>\n",
       "    .dataframe tbody tr th:only-of-type {\n",
       "        vertical-align: middle;\n",
       "    }\n",
       "\n",
       "    .dataframe tbody tr th {\n",
       "        vertical-align: top;\n",
       "    }\n",
       "\n",
       "    .dataframe thead th {\n",
       "        text-align: right;\n",
       "    }\n",
       "</style>\n",
       "<table border=\"1\" class=\"dataframe\">\n",
       "  <thead>\n",
       "    <tr style=\"text-align: right;\">\n",
       "      <th></th>\n",
       "      <th>dir_name</th>\n",
       "      <th>cached</th>\n",
       "      <th>stdout</th>\n",
       "      <th>success_or_msg</th>\n",
       "    </tr>\n",
       "  </thead>\n",
       "  <tbody>\n",
       "    <tr>\n",
       "      <th>0</th>\n",
       "      <td>08-07-2024--22-51-16</td>\n",
       "      <td>False</td>\n",
       "      <td>2025-04-22 07:58:00.809865 Processing file: C:...</td>\n",
       "      <td>File not found C:\\dev\\play\\brainwave-data\\08-0...</td>\n",
       "    </tr>\n",
       "    <tr>\n",
       "      <th>1</th>\n",
       "      <td>09-07-2024--22-52-25</td>\n",
       "      <td>False</td>\n",
       "      <td>2025-04-22 07:58:00.810702 Processing file: C:...</td>\n",
       "      <td>File not found C:\\dev\\play\\brainwave-data\\09-0...</td>\n",
       "    </tr>\n",
       "    <tr>\n",
       "      <th>2</th>\n",
       "      <td>2024-07-08-22-51-16</td>\n",
       "      <td>False</td>\n",
       "      <td>2025-04-22 07:58:00.811556 Processing file: C:...</td>\n",
       "      <td>True</td>\n",
       "    </tr>\n",
       "    <tr>\n",
       "      <th>3</th>\n",
       "      <td>2024-07-11-22-46-18</td>\n",
       "      <td>False</td>\n",
       "      <td>2025-04-22 07:58:01.864013 Processing file: C:...</td>\n",
       "      <td>True</td>\n",
       "    </tr>\n",
       "    <tr>\n",
       "      <th>4</th>\n",
       "      <td>2024-07-12-22-38-58</td>\n",
       "      <td>False</td>\n",
       "      <td>2025-04-22 07:58:04.889628 Processing file: C:...</td>\n",
       "      <td>True</td>\n",
       "    </tr>\n",
       "    <tr>\n",
       "      <th>...</th>\n",
       "      <td>...</td>\n",
       "      <td>...</td>\n",
       "      <td>...</td>\n",
       "      <td>...</td>\n",
       "    </tr>\n",
       "    <tr>\n",
       "      <th>164</th>\n",
       "      <td>2025-04-04-20-56-30</td>\n",
       "      <td>False</td>\n",
       "      <td>2025-04-22 08:03:40.266743 Processing file: C:...</td>\n",
       "      <td>True</td>\n",
       "    </tr>\n",
       "    <tr>\n",
       "      <th>165</th>\n",
       "      <td>2025-04-11-21-07-33</td>\n",
       "      <td>False</td>\n",
       "      <td>2025-04-22 08:03:41.383617 Processing file: C:...</td>\n",
       "      <td>True</td>\n",
       "    </tr>\n",
       "    <tr>\n",
       "      <th>166</th>\n",
       "      <td>2025-04-21-21-33-06</td>\n",
       "      <td>False</td>\n",
       "      <td>2025-04-22 08:03:42.404174 Processing file: C:...</td>\n",
       "      <td>Error: Don't have human data yet for 2025-04-2...</td>\n",
       "    </tr>\n",
       "    <tr>\n",
       "      <th>167</th>\n",
       "      <td>compressed_files</td>\n",
       "      <td>False</td>\n",
       "      <td>2025-04-22 08:03:42.933956 Processing file: C:...</td>\n",
       "      <td>File not found C:\\dev\\play\\brainwave-data\\comp...</td>\n",
       "    </tr>\n",
       "    <tr>\n",
       "      <th>168</th>\n",
       "      <td>nonnight</td>\n",
       "      <td>False</td>\n",
       "      <td>2025-04-22 08:03:42.934654 Processing file: C:...</td>\n",
       "      <td>File not found C:\\dev\\play\\brainwave-data\\nonn...</td>\n",
       "    </tr>\n",
       "  </tbody>\n",
       "</table>\n",
       "<p>169 rows × 4 columns</p>\n",
       "</div>"
      ],
      "text/plain": [
       "                 dir_name  cached  \\\n",
       "0    08-07-2024--22-51-16   False   \n",
       "1    09-07-2024--22-52-25   False   \n",
       "2     2024-07-08-22-51-16   False   \n",
       "3     2024-07-11-22-46-18   False   \n",
       "4     2024-07-12-22-38-58   False   \n",
       "..                    ...     ...   \n",
       "164   2025-04-04-20-56-30   False   \n",
       "165   2025-04-11-21-07-33   False   \n",
       "166   2025-04-21-21-33-06   False   \n",
       "167      compressed_files   False   \n",
       "168              nonnight   False   \n",
       "\n",
       "                                                stdout  \\\n",
       "0    2025-04-22 07:58:00.809865 Processing file: C:...   \n",
       "1    2025-04-22 07:58:00.810702 Processing file: C:...   \n",
       "2    2025-04-22 07:58:00.811556 Processing file: C:...   \n",
       "3    2025-04-22 07:58:01.864013 Processing file: C:...   \n",
       "4    2025-04-22 07:58:04.889628 Processing file: C:...   \n",
       "..                                                 ...   \n",
       "164  2025-04-22 08:03:40.266743 Processing file: C:...   \n",
       "165  2025-04-22 08:03:41.383617 Processing file: C:...   \n",
       "166  2025-04-22 08:03:42.404174 Processing file: C:...   \n",
       "167  2025-04-22 08:03:42.933956 Processing file: C:...   \n",
       "168  2025-04-22 08:03:42.934654 Processing file: C:...   \n",
       "\n",
       "                                        success_or_msg  \n",
       "0    File not found C:\\dev\\play\\brainwave-data\\08-0...  \n",
       "1    File not found C:\\dev\\play\\brainwave-data\\09-0...  \n",
       "2                                                 True  \n",
       "3                                                 True  \n",
       "4                                                 True  \n",
       "..                                                 ...  \n",
       "164                                               True  \n",
       "165                                               True  \n",
       "166  Error: Don't have human data yet for 2025-04-2...  \n",
       "167  File not found C:\\dev\\play\\brainwave-data\\comp...  \n",
       "168  File not found C:\\dev\\play\\brainwave-data\\nonn...  \n",
       "\n",
       "[169 rows x 4 columns]"
      ]
     },
     "execution_count": 37,
     "metadata": {},
     "output_type": "execute_result"
    }
   ],
   "source": [
    "from run_post_human_pipeline import cached_post_human_pipeline\n",
    "\n",
    "results = pd.DataFrame(columns=['dir_name', 'cached', 'stdout', 'success_or_msg'])\n",
    "\n",
    "dirs = next(os.walk(input_dir))[1]\n",
    "for idx, dir_name in enumerate(tqdm(dirs, desc=\"Post human pipeline\")):\n",
    "    post_human_df, cached, stdout, success_or_msg = process_file_for_post_human(input_dir, dir_name, global_force   )\n",
    "    results.loc[len(results)] = [dir_name, cached, stdout, success_or_msg]\n",
    "\n",
    "results"
   ]
  },
  {
   "cell_type": "markdown",
   "id": "a5ae5c62e5b1eb",
   "metadata": {},
   "source": [
    "# Stitch all pipelines together"
   ]
  },
  {
   "cell_type": "code",
   "execution_count": 40,
   "id": "820967d55d46177c",
   "metadata": {
    "ExecuteTime": {
     "end_time": "2025-02-27T08:51:37.485123700Z",
     "start_time": "2025-02-16T07:40:39.036594Z"
    }
   },
   "outputs": [
    {
     "data": {
      "text/html": [
       "\n",
       "    <div style=\"background-color: 'black'; padding: 10px; border-radius: 5px; font-family: monospace; white-space: pre-wrap; overflow-x: auto; border: 1px solid #ddd;\">\n",
       "    \n",
       "    </div>\n",
       "    "
      ],
      "text/plain": [
       "<IPython.core.display.HTML object>"
      ]
     },
     "metadata": {},
     "output_type": "display_data"
    }
   ],
   "source": [
    "import stitch_pipeline_results\n",
    "reload(stitch_pipeline_results)\n",
    "from stitch_pipeline_results import stitch_day_optimised\n",
    "\n",
    "import io\n",
    "import contextlib\n",
    "import os\n",
    "\n",
    "def process_pipeline_stitch(root, dir_name, force=False):\n",
    "    output_buffer = io.StringIO()\n",
    "    with contextlib.redirect_stdout(output_buffer), contextlib.redirect_stderr(output_buffer):\n",
    "\n",
    "        post_yasa_file = os.path.join(root, dir_name, \"raw.post_yasa.csv\")\n",
    "\n",
    "        try:\n",
    "            if os.path.exists(post_yasa_file):\n",
    "                # Multiple consumers expect this file\n",
    "                with_features = os.path.join(root, dir_name, \"raw.with_features.csv\")\n",
    "                post_yasa_modification_time = os.path.getmtime(post_yasa_file)\n",
    "                post_yasa_modification_date = datetime.fromtimestamp(post_yasa_modification_time)\n",
    "\n",
    "                needs_creating = force\n",
    "\n",
    "                if os.path.exists(with_features):\n",
    "                    with_features_modification_time = os.path.getmtime(with_features)\n",
    "                    with_features_modification_date = datetime.fromtimestamp(with_features_modification_time)\n",
    "\n",
    "                    if post_yasa_modification_date > with_features_modification_date:\n",
    "                        needs_creating = True\n",
    "                        \n",
    "                else:\n",
    "                    needs_creating = True\n",
    "\n",
    "                \n",
    "                if needs_creating:\n",
    "                    stitched = stitch_day_optimised(input_dir, dir_name, force or global_force)\n",
    "                    assert(\"Main_eeg_sigmaabs\" in stitched.columns), \"Main_eeg_sigmaabs not found in stitched columns\"\n",
    "                    stitched.to_csv(with_features, index=False)\n",
    "\n",
    "            return output_buffer.getvalue(), True\n",
    "        except Exception as e:\n",
    "            traceback.print_exc()\n",
    "            return output_buffer.getvalue(), \"Error: \" + str(e)\n",
    "\n",
    "\n",
    "def format_stdout(stdout_content):\n",
    "    \"\"\"\n",
    "    Format stdout content to make it more readable.\n",
    "    \n",
    "    Args:\n",
    "        stdout_content: The raw stdout string\n",
    "        \n",
    "    Returns:\n",
    "        Formatted string with proper line breaks and indentation\n",
    "    \"\"\"\n",
    "    import re\n",
    "    \n",
    "    # Replace escaped newlines with actual newlines\n",
    "    formatted = re.sub(r'\\\\n', '\\n', stdout_content)\n",
    "    \n",
    "    # Remove other escape sequences\n",
    "    formatted = re.sub(r'\\\\[rt]', '', formatted)\n",
    "    \n",
    "    # Split into lines for better handling\n",
    "    lines = formatted.split('\\n')\n",
    "    \n",
    "    # Process traceback to add indentation\n",
    "    result = []\n",
    "    indent_level = 0\n",
    "    \n",
    "    for line in lines:\n",
    "        # Adjust indentation based on traceback structure\n",
    "        if 'Traceback' in line:\n",
    "            result.append(\"\\n\" + line)\n",
    "            indent_level = 2\n",
    "        elif line.strip().startswith('File '):\n",
    "            result.append(\" \" * indent_level + line)\n",
    "            indent_level = 4  # Increase indent for the next line\n",
    "        elif indent_level > 0 and line.strip():\n",
    "            result.append(\" \" * indent_level + line)\n",
    "            if not line.startswith(' '):\n",
    "                indent_level = 2  # Reset indent after the error message\n",
    "        else:\n",
    "            result.append(line)\n",
    "    \n",
    "    return '\\n'.join(result)\n",
    "\n",
    "# Display the formatted stdout\n",
    "from IPython.display import display, HTML\n",
    "\n",
    "def display_formatted_stdout(stdout_content):\n",
    "    formatted = format_stdout(stdout_content)\n",
    "    \n",
    "    # Create styled HTML output\n",
    "    html = f\"\"\"\n",
    "    <div style=\"background-color: 'black'; padding: 10px; border-radius: 5px; font-family: monospace; white-space: pre-wrap; overflow-x: auto; border: 1px solid #ddd;\">\n",
    "    {formatted.replace('<', '&lt;').replace('>', '&gt;')}\n",
    "    </div>\n",
    "    \"\"\"\n",
    "    \n",
    "    display(HTML(html))\n",
    "\n",
    "# Example usage\n",
    "stdout, success_or_msg = process_pipeline_stitch(\"C:\\\\dev\\\\play\\\\brainwave-data\", \"2025-03-29-21-14-52\", True)\n",
    "display_formatted_stdout(stdout)\n",
    "\n",
    "# Testing\n",
    "# display(stdout)\n",
    "#, success_or_msg\n"
   ]
  },
  {
   "cell_type": "code",
   "execution_count": 41,
   "id": "574c63e466850c33",
   "metadata": {
    "ExecuteTime": {
     "end_time": "2025-02-27T08:51:37.492710800Z",
     "start_time": "2025-02-16T07:40:40.112881Z"
    }
   },
   "outputs": [
    {
     "name": "stderr",
     "output_type": "stream",
     "text": [
      "Stitching pipelines: 100%|██████████| 169/169 [00:00<00:00, 269.29it/s]\n"
     ]
    },
    {
     "data": {
      "text/html": [
       "<div>\n",
       "<style scoped>\n",
       "    .dataframe tbody tr th:only-of-type {\n",
       "        vertical-align: middle;\n",
       "    }\n",
       "\n",
       "    .dataframe tbody tr th {\n",
       "        vertical-align: top;\n",
       "    }\n",
       "\n",
       "    .dataframe thead th {\n",
       "        text-align: right;\n",
       "    }\n",
       "</style>\n",
       "<table border=\"1\" class=\"dataframe\">\n",
       "  <thead>\n",
       "    <tr style=\"text-align: right;\">\n",
       "      <th></th>\n",
       "      <th>dir_name</th>\n",
       "      <th>stdout</th>\n",
       "      <th>success_or_msg</th>\n",
       "    </tr>\n",
       "  </thead>\n",
       "  <tbody>\n",
       "    <tr>\n",
       "      <th>0</th>\n",
       "      <td>08-07-2024--22-51-16</td>\n",
       "      <td></td>\n",
       "      <td>True</td>\n",
       "    </tr>\n",
       "    <tr>\n",
       "      <th>1</th>\n",
       "      <td>09-07-2024--22-52-25</td>\n",
       "      <td></td>\n",
       "      <td>True</td>\n",
       "    </tr>\n",
       "    <tr>\n",
       "      <th>2</th>\n",
       "      <td>2024-07-08-22-51-16</td>\n",
       "      <td></td>\n",
       "      <td>True</td>\n",
       "    </tr>\n",
       "    <tr>\n",
       "      <th>3</th>\n",
       "      <td>2024-07-11-22-46-18</td>\n",
       "      <td></td>\n",
       "      <td>True</td>\n",
       "    </tr>\n",
       "    <tr>\n",
       "      <th>4</th>\n",
       "      <td>2024-07-12-22-38-58</td>\n",
       "      <td></td>\n",
       "      <td>True</td>\n",
       "    </tr>\n",
       "    <tr>\n",
       "      <th>...</th>\n",
       "      <td>...</td>\n",
       "      <td>...</td>\n",
       "      <td>...</td>\n",
       "    </tr>\n",
       "    <tr>\n",
       "      <th>164</th>\n",
       "      <td>2025-04-04-20-56-30</td>\n",
       "      <td></td>\n",
       "      <td>True</td>\n",
       "    </tr>\n",
       "    <tr>\n",
       "      <th>165</th>\n",
       "      <td>2025-04-11-21-07-33</td>\n",
       "      <td></td>\n",
       "      <td>True</td>\n",
       "    </tr>\n",
       "    <tr>\n",
       "      <th>166</th>\n",
       "      <td>2025-04-21-21-33-06</td>\n",
       "      <td></td>\n",
       "      <td>True</td>\n",
       "    </tr>\n",
       "    <tr>\n",
       "      <th>167</th>\n",
       "      <td>compressed_files</td>\n",
       "      <td></td>\n",
       "      <td>True</td>\n",
       "    </tr>\n",
       "    <tr>\n",
       "      <th>168</th>\n",
       "      <td>nonnight</td>\n",
       "      <td></td>\n",
       "      <td>True</td>\n",
       "    </tr>\n",
       "  </tbody>\n",
       "</table>\n",
       "<p>169 rows × 3 columns</p>\n",
       "</div>"
      ],
      "text/plain": [
       "                 dir_name stdout  success_or_msg\n",
       "0    08-07-2024--22-51-16                   True\n",
       "1    09-07-2024--22-52-25                   True\n",
       "2     2024-07-08-22-51-16                   True\n",
       "3     2024-07-11-22-46-18                   True\n",
       "4     2024-07-12-22-38-58                   True\n",
       "..                    ...    ...             ...\n",
       "164   2025-04-04-20-56-30                   True\n",
       "165   2025-04-11-21-07-33                   True\n",
       "166   2025-04-21-21-33-06                   True\n",
       "167      compressed_files                   True\n",
       "168              nonnight                   True\n",
       "\n",
       "[169 rows x 3 columns]"
      ]
     },
     "execution_count": 41,
     "metadata": {},
     "output_type": "execute_result"
    }
   ],
   "source": [
    "from tqdm.auto import tqdm\n",
    "\n",
    "\n",
    "results = pd.DataFrame(columns=['dir_name', 'stdout', 'success_or_msg'])\n",
    "\n",
    "dirs = next(os.walk(input_dir))[1]\n",
    "for idx, dir_name in enumerate(tqdm(dirs, desc=\"Stitching pipelines\")):\n",
    "    stdout, success_or_msg = process_pipeline_stitch(input_dir, dir_name, False)\n",
    "    results.loc[len(results)] = [dir_name, stdout, success_or_msg]\n",
    "\n",
    "results"
   ]
  },
  {
   "cell_type": "markdown",
   "id": "fb165f2ba385f1aa",
   "metadata": {},
   "source": [
    "# Analyse data completeness"
   ]
  },
  {
   "cell_type": "code",
   "execution_count": 42,
   "id": "4912068076cbcdcf",
   "metadata": {
    "ExecuteTime": {
     "end_time": "2025-02-27T08:51:37.493707800Z",
     "start_time": "2025-02-16T07:40:40.659192Z"
    }
   },
   "outputs": [],
   "source": [
    "# import os\n",
    "# import pandas as pd\n",
    "# from datetime import datetime\n",
    "#\n",
    "# dfs = []\n",
    "# modification_times = []\n",
    "#\n",
    "# for root, dirs, files in os.walk(input_dir):\n",
    "#     for idx, dir_name in enumerate(dirs):\n",
    "#         input_file = os.path.join(root, dir_name, \"raw.post_human.csv\")\n",
    "#         if os.path.exists(input_file):\n",
    "#             df = pd.read_csv(input_file)\n",
    "#             dfs.append(df)\n",
    "#\n",
    "#             # Get the last modification time of the file\n",
    "#             mod_time = os.path.getmtime(input_file)\n",
    "#             mod_time_dt = datetime.fromtimestamp(mod_time)\n",
    "#             modification_times.append(mod_time_dt)\n",
    "#\n",
    "# # Concatenate all dataframes\n",
    "# yasa_df = pd.concat(dfs, ignore_index=True)\n",
    "#\n",
    "# # Calculate the number of days from today for each modification time\n",
    "# today = datetime.now()\n",
    "# days_since_modification = [(today - mod_time).days for mod_time in modification_times]\n",
    "#\n",
    "# # Create a DataFrame with the modification times and days since modification\n",
    "# modification_df = pd.DataFrame({\n",
    "#     'file': [os.path.join(root, dir_name, \"raw.post_human.csv\") for root, dirs, files in os.walk(input_dir) for dir_name in dirs if os.path.exists(os.path.join(root, dir_name, \"raw.post_human.csv\"))],\n",
    "#     'modification_time': modification_times,\n",
    "#     'days_since_modification': days_since_modification\n",
    "# })\n",
    "#\n",
    "# modification_df"
   ]
  },
  {
   "cell_type": "markdown",
   "id": "482f89663710fa04",
   "metadata": {},
   "source": [
    "# Upload to GCS"
   ]
  },
  {
   "cell_type": "code",
   "execution_count": 43,
   "id": "50a00489c871a939",
   "metadata": {
    "ExecuteTime": {
     "end_time": "2025-02-27T08:51:37.495708400Z",
     "start_time": "2025-02-16T07:40:41.060558Z"
    }
   },
   "outputs": [],
   "source": [
    "# Test\n",
    "import upload\n",
    "from importlib import reload\n",
    "reload(upload)\n",
    "from upload import upload_dir_to_gcs_skipping_existing, upload_dir_to_gcs\n",
    "\n",
    "import os\n",
    "os.environ[\"GOOGLE_CLOUD_PROJECT\"] = \"examined-life-dd234\" \n",
    "\n",
    "# Test\n",
    "#upload_dir_to_gcs(lambda x: tqdm.write(x), 'examined-life-derived-eeg', \"C:\\\\dev\\\\play\\\\brainwave-data\\\\2025-03-01-21-46-54\", \"2025-03-01-21-46-54\")\n"
   ]
  },
  {
   "cell_type": "code",
   "execution_count": 32,
   "id": "30732b799791e42d",
   "metadata": {
    "ExecuteTime": {
     "end_time": "2025-02-27T08:51:37.496708200Z",
     "start_time": "2025-02-16T07:40:41.476898Z"
    }
   },
   "outputs": [
    {
     "name": "stderr",
     "output_type": "stream",
     "text": [
      "  0%|          | 0/169 [00:00<?, ?it/s]"
     ]
    },
    {
     "name": "stdout",
     "output_type": "stream",
     "text": [
      "File C:\\dev\\play\\brainwave-data\\08-07-2024--22-51-16\\08-07-2024--22-51-16.brainflow.csv.bz2 modified at 2024-09-25 18:43:54\n",
      "File C:\\dev\\play\\brainwave-data\\08-07-2024--22-51-16\\directory_checksum.md5 modified at 2024-12-21 08:41:22\n",
      "Skipping upload of C:\\dev\\play\\brainwave-data\\08-07-2024--22-51-16, no files modified since last checksum.\n",
      "File C:\\dev\\play\\brainwave-data\\09-07-2024--22-52-25\\09-07-2024--22-52-25.brainflow.csv.bz2 modified at 2024-09-25 18:45:04\n",
      "File C:\\dev\\play\\brainwave-data\\09-07-2024--22-52-25\\directory_checksum.md5 modified at 2024-12-21 08:41:24\n",
      "Skipping upload of C:\\dev\\play\\brainwave-data\\09-07-2024--22-52-25, no files modified since last checksum.\n",
      "File C:\\dev\\play\\brainwave-data\\2024-07-08-22-51-16\\directory_checksum.md5 modified at 2025-04-12 07:14:08.346497\n",
      "File C:\\dev\\play\\brainwave-data\\2024-07-08-22-51-16\\raw.artifacts.csv modified at 2025-03-11 19:08:41.812881\n",
      "File C:\\dev\\play\\brainwave-data\\2024-07-08-22-51-16\\raw.average_slow_wave.png modified at 2025-01-10 17:37:22\n",
      "File C:\\dev\\play\\brainwave-data\\2024-07-08-22-51-16\\raw.edf modified at 2025-01-11 08:30:48\n",
      "File C:\\dev\\play\\brainwave-data\\2024-07-08-22-51-16\\raw.fif modified at 2024-07-13 12:01:58\n",
      "File C:\\dev\\play\\brainwave-data\\2024-07-08-22-51-16\\raw.final_wake_model.csv modified at 2024-12-19 17:58:48\n",
      "File C:\\dev\\play\\brainwave-data\\2024-07-08-22-51-16\\raw.final_wake_model_post_human.csv modified at 2024-12-19 17:58:50\n",
      "File C:\\dev\\play\\brainwave-data\\2024-07-08-22-51-16\\raw.final_wake_model_post_human.json modified at 2024-12-19 17:58:50\n",
      "File C:\\dev\\play\\brainwave-data\\2024-07-08-22-51-16\\raw.microwakings.csv modified at 2025-01-08 11:13:20\n",
      "File C:\\dev\\play\\brainwave-data\\2024-07-08-22-51-16\\raw.night_events.csv modified at 2024-12-02 03:02:26\n",
      "File C:\\dev\\play\\brainwave-data\\2024-07-08-22-51-16\\raw.physical_features.1s.csv modified at 2025-03-20 07:41:21.726946\n",
      "File C:\\dev\\play\\brainwave-data\\2024-07-08-22-51-16\\raw.physical_features.csv modified at 2025-01-10 18:32:16\n",
      "File C:\\dev\\play\\brainwave-data\\2024-07-08-22-51-16\\raw.post_filter_psd_plot.png modified at 2025-01-11 08:30:50\n",
      "File C:\\dev\\play\\brainwave-data\\2024-07-08-22-51-16\\raw.post_human.csv modified at 2025-04-22 07:58:01.859696\n"
     ]
    },
    {
     "name": "stderr",
     "output_type": "stream",
     "text": [
      "  0%|          | 0/169 [00:11<?, ?it/s]"
     ]
    },
    {
     "name": "stdout",
     "output_type": "stream",
     "text": [
      "C:\\dev\\play\\brainwave-data\\2024-07-08-22-51-16\\directory_checksum.md5 uploading to 2024-07-08-22-51-16/directory_checksum.md5, does_not_exist=False has_changed=True\n"
     ]
    },
    {
     "name": "stderr",
     "output_type": "stream",
     "text": [
      "  0%|          | 0/169 [00:12<?, ?it/s]"
     ]
    },
    {
     "name": "stdout",
     "output_type": "stream",
     "text": [
      "Skipping C:\\dev\\play\\brainwave-data\\2024-07-08-22-51-16\\raw.artifacts.csv, identical file already exists in GCS.\n",
      "Skipping C:\\dev\\play\\brainwave-data\\2024-07-08-22-51-16\\raw.average_slow_wave.png, identical file already exists in GCS.\n",
      "Skipping C:\\dev\\play\\brainwave-data\\2024-07-08-22-51-16\\raw.edf, identical file already exists in GCS.\n"
     ]
    },
    {
     "name": "stderr",
     "output_type": "stream",
     "text": [
      "  0%|          | 0/169 [00:12<?, ?it/s]"
     ]
    },
    {
     "name": "stdout",
     "output_type": "stream",
     "text": [
      "Skipping C:\\dev\\play\\brainwave-data\\2024-07-08-22-51-16\\raw.fif, identical file already exists in GCS.\n",
      "Skipping C:\\dev\\play\\brainwave-data\\2024-07-08-22-51-16\\raw.final_wake_model.csv, identical file already exists in GCS.\n",
      "Skipping C:\\dev\\play\\brainwave-data\\2024-07-08-22-51-16\\raw.final_wake_model_post_human.csv, identical file already exists in GCS.\n",
      "Skipping C:\\dev\\play\\brainwave-data\\2024-07-08-22-51-16\\raw.final_wake_model_post_human.json, identical file already exists in GCS.\n",
      "Skipping C:\\dev\\play\\brainwave-data\\2024-07-08-22-51-16\\raw.microwakings.csv, identical file already exists in GCS.\n"
     ]
    },
    {
     "name": "stderr",
     "output_type": "stream",
     "text": [
      "  0%|          | 0/169 [00:12<?, ?it/s]"
     ]
    },
    {
     "name": "stdout",
     "output_type": "stream",
     "text": [
      "Skipping C:\\dev\\play\\brainwave-data\\2024-07-08-22-51-16\\raw.night_events.csv, identical file already exists in GCS.\n",
      "Skipping C:\\dev\\play\\brainwave-data\\2024-07-08-22-51-16\\raw.physical_features.1s.csv, identical file already exists in GCS.\n",
      "Skipping C:\\dev\\play\\brainwave-data\\2024-07-08-22-51-16\\raw.physical_features.csv, identical file already exists in GCS.\n",
      "Skipping C:\\dev\\play\\brainwave-data\\2024-07-08-22-51-16\\raw.post_filter_psd_plot.png, identical file already exists in GCS.\n"
     ]
    },
    {
     "name": "stderr",
     "output_type": "stream",
     "text": [
      "  0%|          | 0/169 [00:12<?, ?it/s]"
     ]
    },
    {
     "name": "stdout",
     "output_type": "stream",
     "text": [
      "Skipping C:\\dev\\play\\brainwave-data\\2024-07-08-22-51-16\\raw.post_human.csv, identical file already exists in GCS.\n",
      "Skipping C:\\dev\\play\\brainwave-data\\2024-07-08-22-51-16\\raw.post_yasa.csv, identical file already exists in GCS.\n",
      "Skipping C:\\dev\\play\\brainwave-data\\2024-07-08-22-51-16\\raw.pre_filter_psd_plot.png, identical file already exists in GCS.\n",
      "Skipping C:\\dev\\play\\brainwave-data\\2024-07-08-22-51-16\\raw.sleep.json, identical file already exists in GCS.\n"
     ]
    },
    {
     "name": "stderr",
     "output_type": "stream",
     "text": [
      "  0%|          | 0/169 [00:13<?, ?it/s]"
     ]
    },
    {
     "name": "stdout",
     "output_type": "stream",
     "text": [
      "Skipping C:\\dev\\play\\brainwave-data\\2024-07-08-22-51-16\\raw.sleep_stages.csv, identical file already exists in GCS.\n",
      "Skipping C:\\dev\\play\\brainwave-data\\2024-07-08-22-51-16\\raw.sleep_stages.F8-M1.csv, identical file already exists in GCS.\n",
      "Skipping C:\\dev\\play\\brainwave-data\\2024-07-08-22-51-16\\raw.sleep_stages.O2-M1.csv, identical file already exists in GCS.\n",
      "Skipping C:\\dev\\play\\brainwave-data\\2024-07-08-22-51-16\\raw.sleep_stages.T4-M1.csv, identical file already exists in GCS.\n",
      "Skipping C:\\dev\\play\\brainwave-data\\2024-07-08-22-51-16\\raw.spectrogram.F8-M1.png, identical file already exists in GCS.\n"
     ]
    },
    {
     "name": "stderr",
     "output_type": "stream",
     "text": [
      "  0%|          | 0/169 [00:13<?, ?it/s]"
     ]
    },
    {
     "name": "stdout",
     "output_type": "stream",
     "text": [
      "Skipping C:\\dev\\play\\brainwave-data\\2024-07-08-22-51-16\\raw.spectrogram.O2-M1.png, identical file already exists in GCS.\n",
      "Skipping C:\\dev\\play\\brainwave-data\\2024-07-08-22-51-16\\raw.spectrogram.T4-M1.png, identical file already exists in GCS.\n",
      "Skipping C:\\dev\\play\\brainwave-data\\2024-07-08-22-51-16\\raw.spindle_summary.csv, identical file already exists in GCS.\n",
      "Skipping C:\\dev\\play\\brainwave-data\\2024-07-08-22-51-16\\raw.sw_summary.csv, identical file already exists in GCS.\n",
      "Skipping C:\\dev\\play\\brainwave-data\\2024-07-08-22-51-16\\raw.with_features.csv, identical file already exists in GCS.\n"
     ]
    },
    {
     "name": "stderr",
     "output_type": "stream",
     "text": [
      "  2%|▏         | 3/169 [00:13<12:32,  4.53s/it]"
     ]
    },
    {
     "name": "stdout",
     "output_type": "stream",
     "text": [
      "Skipping C:\\dev\\play\\brainwave-data\\2024-07-08-22-51-16\\raw.with_microwakings_multi1_debug.edf, identical file already exists in GCS.\n",
      "Skipping C:\\dev\\play\\brainwave-data\\2024-07-08-22-51-16\\raw.yasa.csv, identical file already exists in GCS.\n",
      "Uploaded directory checksum for C:\\dev\\play\\brainwave-data\\2024-07-08-22-51-16 to 2024-07-08-22-51-16/directory_checksum.md5\n",
      "File C:\\dev\\play\\brainwave-data\\2024-07-11-22-46-18\\directory_checksum.md5 modified at 2025-04-12 07:14:21.334132\n",
      "File C:\\dev\\play\\brainwave-data\\2024-07-11-22-46-18\\raw.artifacts.csv modified at 2025-03-11 19:08:52.490156\n",
      "File C:\\dev\\play\\brainwave-data\\2024-07-11-22-46-18\\raw.average_slow_wave.png modified at 2025-01-10 17:38:12\n",
      "File C:\\dev\\play\\brainwave-data\\2024-07-11-22-46-18\\raw.edf modified at 2025-01-10 17:37:26\n",
      "File C:\\dev\\play\\brainwave-data\\2024-07-11-22-46-18\\raw.fif modified at 2024-09-09 09:06:58\n",
      "File C:\\dev\\play\\brainwave-data\\2024-07-11-22-46-18\\raw.final_wake_model.csv modified at 2024-12-19 17:22:26\n",
      "File C:\\dev\\play\\brainwave-data\\2024-07-11-22-46-18\\raw.final_wake_model_post_human.csv modified at 2024-12-19 17:22:26\n",
      "File C:\\dev\\play\\brainwave-data\\2024-07-11-22-46-18\\raw.final_wake_model_post_human.json modified at 2024-12-19 17:22:26\n",
      "File C:\\dev\\play\\brainwave-data\\2024-07-11-22-46-18\\raw.microwakings.csv modified at 2025-01-08 11:13:30\n",
      "File C:\\dev\\play\\brainwave-data\\2024-07-11-22-46-18\\raw.night_events.csv modified at 2024-12-02 03:03:30\n",
      "File C:\\dev\\play\\brainwave-data\\2024-07-11-22-46-18\\raw.physical_features.1s.csv modified at 2025-03-20 07:41:22.847839\n",
      "File C:\\dev\\play\\brainwave-data\\2024-07-11-22-46-18\\raw.physical_features.csv modified at 2025-01-10 18:32:16\n",
      "File C:\\dev\\play\\brainwave-data\\2024-07-11-22-46-18\\raw.post_filter_psd_plot.png modified at 2025-01-10 17:37:28\n",
      "File C:\\dev\\play\\brainwave-data\\2024-07-11-22-46-18\\raw.post_human.csv modified at 2025-04-22 07:58:04.881378\n"
     ]
    },
    {
     "name": "stderr",
     "output_type": "stream",
     "text": [
      "  2%|▏         | 3/169 [00:16<12:32,  4.53s/it]"
     ]
    },
    {
     "name": "stdout",
     "output_type": "stream",
     "text": [
      "C:\\dev\\play\\brainwave-data\\2024-07-11-22-46-18\\directory_checksum.md5 uploading to 2024-07-11-22-46-18/directory_checksum.md5, does_not_exist=False has_changed=True\n"
     ]
    },
    {
     "name": "stderr",
     "output_type": "stream",
     "text": [
      "  2%|▏         | 3/169 [00:17<12:32,  4.53s/it]"
     ]
    },
    {
     "name": "stdout",
     "output_type": "stream",
     "text": [
      "Skipping C:\\dev\\play\\brainwave-data\\2024-07-11-22-46-18\\raw.artifacts.csv, identical file already exists in GCS.\n",
      "Skipping C:\\dev\\play\\brainwave-data\\2024-07-11-22-46-18\\raw.average_slow_wave.png, identical file already exists in GCS.\n",
      "Skipping C:\\dev\\play\\brainwave-data\\2024-07-11-22-46-18\\raw.edf, identical file already exists in GCS.\n"
     ]
    },
    {
     "name": "stderr",
     "output_type": "stream",
     "text": [
      "  2%|▏         | 3/169 [00:17<12:32,  4.53s/it]"
     ]
    },
    {
     "name": "stdout",
     "output_type": "stream",
     "text": [
      "Skipping C:\\dev\\play\\brainwave-data\\2024-07-11-22-46-18\\raw.fif, identical file already exists in GCS.\n",
      "Skipping C:\\dev\\play\\brainwave-data\\2024-07-11-22-46-18\\raw.final_wake_model.csv, identical file already exists in GCS.\n",
      "Skipping C:\\dev\\play\\brainwave-data\\2024-07-11-22-46-18\\raw.final_wake_model_post_human.csv, identical file already exists in GCS.\n",
      "Skipping C:\\dev\\play\\brainwave-data\\2024-07-11-22-46-18\\raw.final_wake_model_post_human.json, identical file already exists in GCS.\n",
      "Skipping C:\\dev\\play\\brainwave-data\\2024-07-11-22-46-18\\raw.microwakings.csv, identical file already exists in GCS.\n"
     ]
    },
    {
     "name": "stderr",
     "output_type": "stream",
     "text": [
      "  2%|▏         | 3/169 [00:17<12:32,  4.53s/it]"
     ]
    },
    {
     "name": "stdout",
     "output_type": "stream",
     "text": [
      "Skipping C:\\dev\\play\\brainwave-data\\2024-07-11-22-46-18\\raw.night_events.csv, identical file already exists in GCS.\n",
      "Skipping C:\\dev\\play\\brainwave-data\\2024-07-11-22-46-18\\raw.physical_features.1s.csv, identical file already exists in GCS.\n",
      "Skipping C:\\dev\\play\\brainwave-data\\2024-07-11-22-46-18\\raw.physical_features.csv, identical file already exists in GCS.\n",
      "Skipping C:\\dev\\play\\brainwave-data\\2024-07-11-22-46-18\\raw.post_filter_psd_plot.png, identical file already exists in GCS.\n"
     ]
    },
    {
     "name": "stderr",
     "output_type": "stream",
     "text": [
      "  2%|▏         | 3/169 [00:18<12:32,  4.53s/it]"
     ]
    },
    {
     "name": "stdout",
     "output_type": "stream",
     "text": [
      "Skipping C:\\dev\\play\\brainwave-data\\2024-07-11-22-46-18\\raw.post_human.csv, identical file already exists in GCS.\n",
      "Skipping C:\\dev\\play\\brainwave-data\\2024-07-11-22-46-18\\raw.post_yasa.csv, identical file already exists in GCS.\n",
      "Skipping C:\\dev\\play\\brainwave-data\\2024-07-11-22-46-18\\raw.pre_filter_psd_plot.png, identical file already exists in GCS.\n",
      "Skipping C:\\dev\\play\\brainwave-data\\2024-07-11-22-46-18\\raw.sleep.json, identical file already exists in GCS.\n"
     ]
    },
    {
     "name": "stderr",
     "output_type": "stream",
     "text": [
      "  2%|▏         | 3/169 [00:18<12:32,  4.53s/it]"
     ]
    },
    {
     "name": "stdout",
     "output_type": "stream",
     "text": [
      "Skipping C:\\dev\\play\\brainwave-data\\2024-07-11-22-46-18\\raw.sleep_stages.csv, identical file already exists in GCS.\n",
      "Skipping C:\\dev\\play\\brainwave-data\\2024-07-11-22-46-18\\raw.sleep_stages.F8-M1.csv, identical file already exists in GCS.\n",
      "Skipping C:\\dev\\play\\brainwave-data\\2024-07-11-22-46-18\\raw.sleep_stages.O2-M1.csv, identical file already exists in GCS.\n",
      "Skipping C:\\dev\\play\\brainwave-data\\2024-07-11-22-46-18\\raw.sleep_stages.T4-M1.csv, identical file already exists in GCS.\n",
      "Skipping C:\\dev\\play\\brainwave-data\\2024-07-11-22-46-18\\raw.spectrogram.F8-M1.png, identical file already exists in GCS.\n"
     ]
    },
    {
     "name": "stderr",
     "output_type": "stream",
     "text": [
      "  2%|▏         | 3/169 [00:18<12:32,  4.53s/it]"
     ]
    },
    {
     "name": "stdout",
     "output_type": "stream",
     "text": [
      "Skipping C:\\dev\\play\\brainwave-data\\2024-07-11-22-46-18\\raw.spectrogram.O2-M1.png, identical file already exists in GCS.\n",
      "Skipping C:\\dev\\play\\brainwave-data\\2024-07-11-22-46-18\\raw.spectrogram.T4-M1.png, identical file already exists in GCS.\n",
      "Skipping C:\\dev\\play\\brainwave-data\\2024-07-11-22-46-18\\raw.spindle_summary.csv, identical file already exists in GCS.\n",
      "Skipping C:\\dev\\play\\brainwave-data\\2024-07-11-22-46-18\\raw.sw_summary.csv, identical file already exists in GCS.\n",
      "Skipping C:\\dev\\play\\brainwave-data\\2024-07-11-22-46-18\\raw.with_features.csv, identical file already exists in GCS.\n"
     ]
    },
    {
     "name": "stderr",
     "output_type": "stream",
     "text": [
      "  2%|▏         | 4/169 [00:18<13:01,  4.73s/it]"
     ]
    },
    {
     "name": "stdout",
     "output_type": "stream",
     "text": [
      "Skipping C:\\dev\\play\\brainwave-data\\2024-07-11-22-46-18\\raw.with_microwakings_multi1_debug.edf, identical file already exists in GCS.\n",
      "Skipping C:\\dev\\play\\brainwave-data\\2024-07-11-22-46-18\\raw.yasa.csv, identical file already exists in GCS.\n",
      "Uploaded directory checksum for C:\\dev\\play\\brainwave-data\\2024-07-11-22-46-18 to 2024-07-11-22-46-18/directory_checksum.md5\n",
      "File C:\\dev\\play\\brainwave-data\\2024-07-12-22-38-58\\directory_checksum.md5 modified at 2025-04-12 07:14:27.377302\n",
      "File C:\\dev\\play\\brainwave-data\\2024-07-12-22-38-58\\raw.artifacts.csv modified at 2025-03-11 19:09:03.238924\n",
      "File C:\\dev\\play\\brainwave-data\\2024-07-12-22-38-58\\raw.average_slow_wave.png modified at 2025-01-10 17:39:02\n",
      "File C:\\dev\\play\\brainwave-data\\2024-07-12-22-38-58\\raw.edf modified at 2025-01-10 17:38:16\n",
      "File C:\\dev\\play\\brainwave-data\\2024-07-12-22-38-58\\raw.fif modified at 2024-09-09 09:08:56\n",
      "File C:\\dev\\play\\brainwave-data\\2024-07-12-22-38-58\\raw.final_wake_model.csv modified at 2024-12-19 17:22:28\n",
      "File C:\\dev\\play\\brainwave-data\\2024-07-12-22-38-58\\raw.final_wake_model_post_human.csv modified at 2024-12-19 17:22:28\n",
      "File C:\\dev\\play\\brainwave-data\\2024-07-12-22-38-58\\raw.final_wake_model_post_human.json modified at 2024-12-19 17:22:30\n",
      "File C:\\dev\\play\\brainwave-data\\2024-07-12-22-38-58\\raw.microwakings.csv modified at 2025-01-08 11:13:40\n",
      "File C:\\dev\\play\\brainwave-data\\2024-07-12-22-38-58\\raw.night_events.csv modified at 2024-12-02 03:04:56\n",
      "File C:\\dev\\play\\brainwave-data\\2024-07-12-22-38-58\\raw.physical_features.1s.csv modified at 2025-03-20 07:41:23.978315\n",
      "File C:\\dev\\play\\brainwave-data\\2024-07-12-22-38-58\\raw.physical_features.csv modified at 2025-01-10 18:32:16\n",
      "File C:\\dev\\play\\brainwave-data\\2024-07-12-22-38-58\\raw.post_filter_psd_plot.png modified at 2025-01-10 17:38:20\n",
      "File C:\\dev\\play\\brainwave-data\\2024-07-12-22-38-58\\raw.post_human.csv modified at 2025-04-22 07:58:07.867253\n"
     ]
    },
    {
     "name": "stderr",
     "output_type": "stream",
     "text": [
      "  2%|▏         | 4/169 [00:21<13:01,  4.73s/it]"
     ]
    },
    {
     "name": "stdout",
     "output_type": "stream",
     "text": [
      "C:\\dev\\play\\brainwave-data\\2024-07-12-22-38-58\\directory_checksum.md5 uploading to 2024-07-12-22-38-58/directory_checksum.md5, does_not_exist=False has_changed=True\n"
     ]
    },
    {
     "name": "stderr",
     "output_type": "stream",
     "text": [
      "  2%|▏         | 4/169 [00:22<13:01,  4.73s/it]"
     ]
    },
    {
     "name": "stdout",
     "output_type": "stream",
     "text": [
      "Skipping C:\\dev\\play\\brainwave-data\\2024-07-12-22-38-58\\raw.artifacts.csv, identical file already exists in GCS.\n",
      "Skipping C:\\dev\\play\\brainwave-data\\2024-07-12-22-38-58\\raw.average_slow_wave.png, identical file already exists in GCS.\n",
      "Skipping C:\\dev\\play\\brainwave-data\\2024-07-12-22-38-58\\raw.edf, identical file already exists in GCS.\n"
     ]
    },
    {
     "name": "stderr",
     "output_type": "stream",
     "text": [
      "  2%|▏         | 4/169 [00:22<13:01,  4.73s/it]"
     ]
    },
    {
     "name": "stdout",
     "output_type": "stream",
     "text": [
      "Skipping C:\\dev\\play\\brainwave-data\\2024-07-12-22-38-58\\raw.fif, identical file already exists in GCS.\n",
      "Skipping C:\\dev\\play\\brainwave-data\\2024-07-12-22-38-58\\raw.final_wake_model.csv, identical file already exists in GCS.\n",
      "Skipping C:\\dev\\play\\brainwave-data\\2024-07-12-22-38-58\\raw.final_wake_model_post_human.csv, identical file already exists in GCS.\n",
      "Skipping C:\\dev\\play\\brainwave-data\\2024-07-12-22-38-58\\raw.final_wake_model_post_human.json, identical file already exists in GCS.\n",
      "Skipping C:\\dev\\play\\brainwave-data\\2024-07-12-22-38-58\\raw.microwakings.csv, identical file already exists in GCS.\n"
     ]
    },
    {
     "name": "stderr",
     "output_type": "stream",
     "text": [
      "  2%|▏         | 4/169 [00:22<13:01,  4.73s/it]"
     ]
    },
    {
     "name": "stdout",
     "output_type": "stream",
     "text": [
      "Skipping C:\\dev\\play\\brainwave-data\\2024-07-12-22-38-58\\raw.night_events.csv, identical file already exists in GCS.\n",
      "Skipping C:\\dev\\play\\brainwave-data\\2024-07-12-22-38-58\\raw.physical_features.1s.csv, identical file already exists in GCS.\n",
      "Skipping C:\\dev\\play\\brainwave-data\\2024-07-12-22-38-58\\raw.physical_features.csv, identical file already exists in GCS.\n",
      "Skipping C:\\dev\\play\\brainwave-data\\2024-07-12-22-38-58\\raw.post_filter_psd_plot.png, identical file already exists in GCS.\n"
     ]
    },
    {
     "name": "stderr",
     "output_type": "stream",
     "text": [
      "  2%|▏         | 4/169 [00:23<13:01,  4.73s/it]"
     ]
    },
    {
     "name": "stdout",
     "output_type": "stream",
     "text": [
      "Skipping C:\\dev\\play\\brainwave-data\\2024-07-12-22-38-58\\raw.post_human.csv, identical file already exists in GCS.\n",
      "Skipping C:\\dev\\play\\brainwave-data\\2024-07-12-22-38-58\\raw.post_yasa.csv, identical file already exists in GCS.\n",
      "Skipping C:\\dev\\play\\brainwave-data\\2024-07-12-22-38-58\\raw.pre_filter_psd_plot.png, identical file already exists in GCS.\n"
     ]
    },
    {
     "name": "stderr",
     "output_type": "stream",
     "text": [
      "  2%|▏         | 4/169 [00:23<13:01,  4.73s/it]"
     ]
    },
    {
     "name": "stdout",
     "output_type": "stream",
     "text": [
      "Skipping C:\\dev\\play\\brainwave-data\\2024-07-12-22-38-58\\raw.sleep.json, identical file already exists in GCS.\n",
      "Skipping C:\\dev\\play\\brainwave-data\\2024-07-12-22-38-58\\raw.sleep_stages.csv, identical file already exists in GCS.\n",
      "Skipping C:\\dev\\play\\brainwave-data\\2024-07-12-22-38-58\\raw.sleep_stages.F8-M1.csv, identical file already exists in GCS.\n",
      "Skipping C:\\dev\\play\\brainwave-data\\2024-07-12-22-38-58\\raw.sleep_stages.O2-M1.csv, identical file already exists in GCS.\n",
      "Skipping C:\\dev\\play\\brainwave-data\\2024-07-12-22-38-58\\raw.sleep_stages.T4-M1.csv, identical file already exists in GCS.\n"
     ]
    },
    {
     "name": "stderr",
     "output_type": "stream",
     "text": [
      "  2%|▏         | 4/169 [00:23<13:01,  4.73s/it]"
     ]
    },
    {
     "name": "stdout",
     "output_type": "stream",
     "text": [
      "Skipping C:\\dev\\play\\brainwave-data\\2024-07-12-22-38-58\\raw.spectrogram.F8-M1.png, identical file already exists in GCS.\n",
      "Skipping C:\\dev\\play\\brainwave-data\\2024-07-12-22-38-58\\raw.spectrogram.O2-M1.png, identical file already exists in GCS.\n",
      "Skipping C:\\dev\\play\\brainwave-data\\2024-07-12-22-38-58\\raw.spectrogram.T4-M1.png, identical file already exists in GCS.\n",
      "Skipping C:\\dev\\play\\brainwave-data\\2024-07-12-22-38-58\\raw.spindle_summary.csv, identical file already exists in GCS.\n",
      "Skipping C:\\dev\\play\\brainwave-data\\2024-07-12-22-38-58\\raw.sw_summary.csv, identical file already exists in GCS.\n"
     ]
    },
    {
     "name": "stderr",
     "output_type": "stream",
     "text": [
      "  2%|▏         | 4/169 [00:23<13:01,  4.73s/it]"
     ]
    },
    {
     "name": "stdout",
     "output_type": "stream",
     "text": [
      "Skipping C:\\dev\\play\\brainwave-data\\2024-07-12-22-38-58\\raw.with_features.csv, identical file already exists in GCS.\n",
      "Skipping C:\\dev\\play\\brainwave-data\\2024-07-12-22-38-58\\raw.with_microwakings_multi1_debug.edf, identical file already exists in GCS.\n",
      "Skipping C:\\dev\\play\\brainwave-data\\2024-07-12-22-38-58\\raw.yasa.csv, identical file already exists in GCS.\n"
     ]
    },
    {
     "name": "stderr",
     "output_type": "stream",
     "text": [
      "  3%|▎         | 5/169 [00:23<13:14,  4.84s/it]"
     ]
    },
    {
     "name": "stdout",
     "output_type": "stream",
     "text": [
      "Uploaded directory checksum for C:\\dev\\play\\brainwave-data\\2024-07-12-22-38-58 to 2024-07-12-22-38-58/directory_checksum.md5\n",
      "File C:\\dev\\play\\brainwave-data\\2024-07-13-21-41-55\\directory_checksum.md5 modified at 2025-04-12 07:14:32.457447\n",
      "File C:\\dev\\play\\brainwave-data\\2024-07-13-21-41-55\\raw.artifacts.csv modified at 2025-03-11 19:09:11.987511\n",
      "File C:\\dev\\play\\brainwave-data\\2024-07-13-21-41-55\\raw.average_slow_wave.png modified at 2025-01-10 17:39:52\n",
      "File C:\\dev\\play\\brainwave-data\\2024-07-13-21-41-55\\raw.edf modified at 2025-01-10 17:39:10\n",
      "File C:\\dev\\play\\brainwave-data\\2024-07-13-21-41-55\\raw.fif modified at 2024-09-09 09:10:38\n",
      "File C:\\dev\\play\\brainwave-data\\2024-07-13-21-41-55\\raw.final_wake_model.csv modified at 2024-12-19 17:22:30\n",
      "File C:\\dev\\play\\brainwave-data\\2024-07-13-21-41-55\\raw.final_wake_model_post_human.csv modified at 2024-12-19 17:22:32\n",
      "File C:\\dev\\play\\brainwave-data\\2024-07-13-21-41-55\\raw.final_wake_model_post_human.json modified at 2024-12-19 17:22:32\n",
      "File C:\\dev\\play\\brainwave-data\\2024-07-13-21-41-55\\raw.microwakings.csv modified at 2025-01-08 11:13:50\n",
      "File C:\\dev\\play\\brainwave-data\\2024-07-13-21-41-55\\raw.night_events.csv modified at 2024-12-02 03:06:30\n",
      "File C:\\dev\\play\\brainwave-data\\2024-07-13-21-41-55\\raw.physical_features.1s.csv modified at 2025-03-20 07:41:24.956780\n",
      "File C:\\dev\\play\\brainwave-data\\2024-07-13-21-41-55\\raw.physical_features.csv modified at 2025-01-10 18:32:18\n",
      "File C:\\dev\\play\\brainwave-data\\2024-07-13-21-41-55\\raw.post_filter_psd_plot.png modified at 2025-01-10 17:39:14\n",
      "File C:\\dev\\play\\brainwave-data\\2024-07-13-21-41-55\\raw.post_human.csv modified at 2025-04-22 07:58:10.415690\n"
     ]
    },
    {
     "name": "stderr",
     "output_type": "stream",
     "text": [
      "  3%|▎         | 5/169 [00:26<13:14,  4.84s/it]"
     ]
    },
    {
     "name": "stdout",
     "output_type": "stream",
     "text": [
      "C:\\dev\\play\\brainwave-data\\2024-07-13-21-41-55\\directory_checksum.md5 uploading to 2024-07-13-21-41-55/directory_checksum.md5, does_not_exist=False has_changed=True\n"
     ]
    },
    {
     "name": "stderr",
     "output_type": "stream",
     "text": [
      "  3%|▎         | 5/169 [00:27<13:14,  4.84s/it]"
     ]
    },
    {
     "name": "stdout",
     "output_type": "stream",
     "text": [
      "Skipping C:\\dev\\play\\brainwave-data\\2024-07-13-21-41-55\\raw.artifacts.csv, identical file already exists in GCS.\n",
      "Skipping C:\\dev\\play\\brainwave-data\\2024-07-13-21-41-55\\raw.average_slow_wave.png, identical file already exists in GCS.\n",
      "Skipping C:\\dev\\play\\brainwave-data\\2024-07-13-21-41-55\\raw.edf, identical file already exists in GCS.\n"
     ]
    },
    {
     "name": "stderr",
     "output_type": "stream",
     "text": [
      "  3%|▎         | 5/169 [00:27<13:14,  4.84s/it]"
     ]
    },
    {
     "name": "stdout",
     "output_type": "stream",
     "text": [
      "Skipping C:\\dev\\play\\brainwave-data\\2024-07-13-21-41-55\\raw.fif, identical file already exists in GCS.\n",
      "Skipping C:\\dev\\play\\brainwave-data\\2024-07-13-21-41-55\\raw.final_wake_model.csv, identical file already exists in GCS.\n",
      "Skipping C:\\dev\\play\\brainwave-data\\2024-07-13-21-41-55\\raw.final_wake_model_post_human.csv, identical file already exists in GCS.\n",
      "Skipping C:\\dev\\play\\brainwave-data\\2024-07-13-21-41-55\\raw.final_wake_model_post_human.json, identical file already exists in GCS.\n",
      "Skipping C:\\dev\\play\\brainwave-data\\2024-07-13-21-41-55\\raw.microwakings.csv, identical file already exists in GCS.\n"
     ]
    },
    {
     "name": "stderr",
     "output_type": "stream",
     "text": [
      "  3%|▎         | 5/169 [00:27<13:14,  4.84s/it]"
     ]
    },
    {
     "name": "stdout",
     "output_type": "stream",
     "text": [
      "Skipping C:\\dev\\play\\brainwave-data\\2024-07-13-21-41-55\\raw.night_events.csv, identical file already exists in GCS.\n",
      "Skipping C:\\dev\\play\\brainwave-data\\2024-07-13-21-41-55\\raw.physical_features.1s.csv, identical file already exists in GCS.\n",
      "Skipping C:\\dev\\play\\brainwave-data\\2024-07-13-21-41-55\\raw.physical_features.csv, identical file already exists in GCS.\n",
      "Skipping C:\\dev\\play\\brainwave-data\\2024-07-13-21-41-55\\raw.post_filter_psd_plot.png, identical file already exists in GCS.\n"
     ]
    },
    {
     "name": "stderr",
     "output_type": "stream",
     "text": [
      "  3%|▎         | 5/169 [00:27<13:14,  4.84s/it]"
     ]
    },
    {
     "name": "stdout",
     "output_type": "stream",
     "text": [
      "Skipping C:\\dev\\play\\brainwave-data\\2024-07-13-21-41-55\\raw.post_human.csv, identical file already exists in GCS.\n",
      "Skipping C:\\dev\\play\\brainwave-data\\2024-07-13-21-41-55\\raw.post_yasa.csv, identical file already exists in GCS.\n",
      "Skipping C:\\dev\\play\\brainwave-data\\2024-07-13-21-41-55\\raw.pre_filter_psd_plot.png, identical file already exists in GCS.\n"
     ]
    },
    {
     "name": "stderr",
     "output_type": "stream",
     "text": [
      "                                               "
     ]
    },
    {
     "name": "stdout",
     "output_type": "stream",
     "text": [
      "Skipping C:\\dev\\play\\brainwave-data\\2024-07-13-21-41-55\\raw.sleep.json, identical file already exists in GCS.\n",
      "Skipping C:\\dev\\play\\brainwave-data\\2024-07-13-21-41-55\\raw.sleep_stages.csv, identical file already exists in GCS.\n",
      "Skipping C:\\dev\\play\\brainwave-data\\2024-07-13-21-41-55\\raw.sleep_stages.F8-M1.csv, identical file already exists in GCS.\n",
      "Skipping C:\\dev\\play\\brainwave-data\\2024-07-13-21-41-55\\raw.sleep_stages.O2-M1.csv, identical file already exists in GCS.\n"
     ]
    },
    {
     "name": "stderr",
     "output_type": "stream",
     "text": [
      "  3%|▎         | 5/169 [00:28<13:14,  4.84s/it]"
     ]
    },
    {
     "name": "stdout",
     "output_type": "stream",
     "text": [
      "Skipping C:\\dev\\play\\brainwave-data\\2024-07-13-21-41-55\\raw.sleep_stages.T4-M1.csv, identical file already exists in GCS.\n",
      "Skipping C:\\dev\\play\\brainwave-data\\2024-07-13-21-41-55\\raw.spectrogram.F8-M1.png, identical file already exists in GCS.\n",
      "Skipping C:\\dev\\play\\brainwave-data\\2024-07-13-21-41-55\\raw.spectrogram.O2-M1.png, identical file already exists in GCS.\n",
      "Skipping C:\\dev\\play\\brainwave-data\\2024-07-13-21-41-55\\raw.spectrogram.T4-M1.png, identical file already exists in GCS.\n",
      "Skipping C:\\dev\\play\\brainwave-data\\2024-07-13-21-41-55\\raw.spindle_summary.csv, identical file already exists in GCS.\n"
     ]
    },
    {
     "name": "stderr",
     "output_type": "stream",
     "text": [
      "  3%|▎         | 5/169 [00:28<13:14,  4.84s/it]"
     ]
    },
    {
     "name": "stdout",
     "output_type": "stream",
     "text": [
      "Skipping C:\\dev\\play\\brainwave-data\\2024-07-13-21-41-55\\raw.sw_summary.csv, identical file already exists in GCS.\n",
      "Skipping C:\\dev\\play\\brainwave-data\\2024-07-13-21-41-55\\raw.with_features.csv, identical file already exists in GCS.\n",
      "Skipping C:\\dev\\play\\brainwave-data\\2024-07-13-21-41-55\\raw.with_microwakings_multi1_debug.edf, identical file already exists in GCS.\n",
      "Skipping C:\\dev\\play\\brainwave-data\\2024-07-13-21-41-55\\raw.yasa.csv, identical file already exists in GCS.\n"
     ]
    },
    {
     "name": "stderr",
     "output_type": "stream",
     "text": [
      "  4%|▎         | 6/169 [00:28<13:12,  4.86s/it]"
     ]
    },
    {
     "name": "stdout",
     "output_type": "stream",
     "text": [
      "Uploaded directory checksum for C:\\dev\\play\\brainwave-data\\2024-07-13-21-41-55 to 2024-07-13-21-41-55/directory_checksum.md5\n",
      "File C:\\dev\\play\\brainwave-data\\2024-07-14-22-27-26\\directory_checksum.md5 modified at 2025-04-12 07:14:37.554784\n",
      "File C:\\dev\\play\\brainwave-data\\2024-07-14-22-27-26\\raw.artifacts.csv modified at 2025-03-11 19:09:21.417455\n",
      "File C:\\dev\\play\\brainwave-data\\2024-07-14-22-27-26\\raw.average_slow_wave.png modified at 2025-01-10 17:40:40\n",
      "File C:\\dev\\play\\brainwave-data\\2024-07-14-22-27-26\\raw.edf modified at 2025-01-10 17:39:58\n",
      "File C:\\dev\\play\\brainwave-data\\2024-07-14-22-27-26\\raw.fif modified at 2024-09-09 09:12:26\n",
      "File C:\\dev\\play\\brainwave-data\\2024-07-14-22-27-26\\raw.final_wake_model.csv modified at 2024-12-19 17:22:34\n",
      "File C:\\dev\\play\\brainwave-data\\2024-07-14-22-27-26\\raw.final_wake_model_post_human.csv modified at 2024-12-19 17:22:36\n",
      "File C:\\dev\\play\\brainwave-data\\2024-07-14-22-27-26\\raw.final_wake_model_post_human.json modified at 2024-12-19 17:22:38\n",
      "File C:\\dev\\play\\brainwave-data\\2024-07-14-22-27-26\\raw.microwakings.csv modified at 2025-01-08 11:14:02\n",
      "File C:\\dev\\play\\brainwave-data\\2024-07-14-22-27-26\\raw.night_events.csv modified at 2024-12-02 03:07:42\n",
      "File C:\\dev\\play\\brainwave-data\\2024-07-14-22-27-26\\raw.physical_features.1s.csv modified at 2025-03-20 07:41:26.701973\n",
      "File C:\\dev\\play\\brainwave-data\\2024-07-14-22-27-26\\raw.physical_features.csv modified at 2025-01-10 18:32:18\n",
      "File C:\\dev\\play\\brainwave-data\\2024-07-14-22-27-26\\raw.post_filter_psd_plot.png modified at 2025-01-10 17:40:02\n",
      "File C:\\dev\\play\\brainwave-data\\2024-07-14-22-27-26\\raw.post_human.csv modified at 2025-04-22 07:58:13.186728\n"
     ]
    },
    {
     "name": "stderr",
     "output_type": "stream",
     "text": [
      "  4%|▎         | 6/169 [00:32<13:12,  4.86s/it]"
     ]
    },
    {
     "name": "stdout",
     "output_type": "stream",
     "text": [
      "C:\\dev\\play\\brainwave-data\\2024-07-14-22-27-26\\directory_checksum.md5 uploading to 2024-07-14-22-27-26/directory_checksum.md5, does_not_exist=False has_changed=True\n"
     ]
    },
    {
     "name": "stderr",
     "output_type": "stream",
     "text": [
      "  4%|▎         | 6/169 [00:32<13:12,  4.86s/it]"
     ]
    },
    {
     "name": "stdout",
     "output_type": "stream",
     "text": [
      "Skipping C:\\dev\\play\\brainwave-data\\2024-07-14-22-27-26\\raw.artifacts.csv, identical file already exists in GCS.\n",
      "Skipping C:\\dev\\play\\brainwave-data\\2024-07-14-22-27-26\\raw.average_slow_wave.png, identical file already exists in GCS.\n",
      "Skipping C:\\dev\\play\\brainwave-data\\2024-07-14-22-27-26\\raw.edf, identical file already exists in GCS.\n"
     ]
    },
    {
     "name": "stderr",
     "output_type": "stream",
     "text": [
      "  4%|▎         | 6/169 [00:32<13:12,  4.86s/it]"
     ]
    },
    {
     "name": "stdout",
     "output_type": "stream",
     "text": [
      "Skipping C:\\dev\\play\\brainwave-data\\2024-07-14-22-27-26\\raw.fif, identical file already exists in GCS.\n",
      "Skipping C:\\dev\\play\\brainwave-data\\2024-07-14-22-27-26\\raw.final_wake_model.csv, identical file already exists in GCS.\n",
      "Skipping C:\\dev\\play\\brainwave-data\\2024-07-14-22-27-26\\raw.final_wake_model_post_human.csv, identical file already exists in GCS.\n",
      "Skipping C:\\dev\\play\\brainwave-data\\2024-07-14-22-27-26\\raw.final_wake_model_post_human.json, identical file already exists in GCS.\n"
     ]
    },
    {
     "name": "stderr",
     "output_type": "stream",
     "text": [
      "  4%|▎         | 6/169 [00:33<13:12,  4.86s/it]"
     ]
    },
    {
     "name": "stdout",
     "output_type": "stream",
     "text": [
      "Skipping C:\\dev\\play\\brainwave-data\\2024-07-14-22-27-26\\raw.microwakings.csv, identical file already exists in GCS.\n",
      "Skipping C:\\dev\\play\\brainwave-data\\2024-07-14-22-27-26\\raw.night_events.csv, identical file already exists in GCS.\n",
      "Skipping C:\\dev\\play\\brainwave-data\\2024-07-14-22-27-26\\raw.physical_features.1s.csv, identical file already exists in GCS.\n",
      "Skipping C:\\dev\\play\\brainwave-data\\2024-07-14-22-27-26\\raw.physical_features.csv, identical file already exists in GCS.\n"
     ]
    },
    {
     "name": "stderr",
     "output_type": "stream",
     "text": [
      "  4%|▎         | 6/169 [00:33<13:12,  4.86s/it]"
     ]
    },
    {
     "name": "stdout",
     "output_type": "stream",
     "text": [
      "Skipping C:\\dev\\play\\brainwave-data\\2024-07-14-22-27-26\\raw.post_filter_psd_plot.png, identical file already exists in GCS.\n",
      "Skipping C:\\dev\\play\\brainwave-data\\2024-07-14-22-27-26\\raw.post_human.csv, identical file already exists in GCS.\n"
     ]
    },
    {
     "name": "stderr",
     "output_type": "stream",
     "text": [
      "  4%|▎         | 6/169 [00:33<13:12,  4.86s/it]"
     ]
    },
    {
     "name": "stdout",
     "output_type": "stream",
     "text": [
      "Skipping C:\\dev\\play\\brainwave-data\\2024-07-14-22-27-26\\raw.post_yasa.csv, identical file already exists in GCS.\n",
      "Skipping C:\\dev\\play\\brainwave-data\\2024-07-14-22-27-26\\raw.pre_filter_psd_plot.png, identical file already exists in GCS.\n",
      "Skipping C:\\dev\\play\\brainwave-data\\2024-07-14-22-27-26\\raw.sleep.json, identical file already exists in GCS.\n",
      "Skipping C:\\dev\\play\\brainwave-data\\2024-07-14-22-27-26\\raw.sleep_stages.csv, identical file already exists in GCS.\n"
     ]
    },
    {
     "name": "stderr",
     "output_type": "stream",
     "text": [
      "  4%|▎         | 6/169 [00:33<13:12,  4.86s/it]"
     ]
    },
    {
     "name": "stdout",
     "output_type": "stream",
     "text": [
      "Skipping C:\\dev\\play\\brainwave-data\\2024-07-14-22-27-26\\raw.sleep_stages.F8-M1.csv, identical file already exists in GCS.\n",
      "Skipping C:\\dev\\play\\brainwave-data\\2024-07-14-22-27-26\\raw.sleep_stages.O2-M1.csv, identical file already exists in GCS.\n",
      "Skipping C:\\dev\\play\\brainwave-data\\2024-07-14-22-27-26\\raw.sleep_stages.T4-M1.csv, identical file already exists in GCS.\n",
      "Skipping C:\\dev\\play\\brainwave-data\\2024-07-14-22-27-26\\raw.spectrogram.F8-M1.png, identical file already exists in GCS.\n"
     ]
    },
    {
     "name": "stderr",
     "output_type": "stream",
     "text": [
      "  4%|▎         | 6/169 [00:34<13:12,  4.86s/it]"
     ]
    },
    {
     "name": "stdout",
     "output_type": "stream",
     "text": [
      "Skipping C:\\dev\\play\\brainwave-data\\2024-07-14-22-27-26\\raw.spectrogram.O2-M1.png, identical file already exists in GCS.\n",
      "Skipping C:\\dev\\play\\brainwave-data\\2024-07-14-22-27-26\\raw.spectrogram.T4-M1.png, identical file already exists in GCS.\n",
      "Skipping C:\\dev\\play\\brainwave-data\\2024-07-14-22-27-26\\raw.spindle_summary.csv, identical file already exists in GCS.\n",
      "Skipping C:\\dev\\play\\brainwave-data\\2024-07-14-22-27-26\\raw.sw_summary.csv, identical file already exists in GCS.\n"
     ]
    },
    {
     "name": "stderr",
     "output_type": "stream",
     "text": [
      "  4%|▎         | 6/169 [00:34<13:12,  4.86s/it]"
     ]
    },
    {
     "name": "stdout",
     "output_type": "stream",
     "text": [
      "Skipping C:\\dev\\play\\brainwave-data\\2024-07-14-22-27-26\\raw.with_features.csv, identical file already exists in GCS.\n",
      "Skipping C:\\dev\\play\\brainwave-data\\2024-07-14-22-27-26\\raw.with_microwakings_multi1_debug.edf, identical file already exists in GCS.\n",
      "Skipping C:\\dev\\play\\brainwave-data\\2024-07-14-22-27-26\\raw.yasa.csv, identical file already exists in GCS.\n"
     ]
    },
    {
     "name": "stderr",
     "output_type": "stream",
     "text": [
      "  4%|▍         | 7/169 [00:34<13:42,  5.08s/it]"
     ]
    },
    {
     "name": "stdout",
     "output_type": "stream",
     "text": [
      "Uploaded directory checksum for C:\\dev\\play\\brainwave-data\\2024-07-14-22-27-26 to 2024-07-14-22-27-26/directory_checksum.md5\n",
      "File C:\\dev\\play\\brainwave-data\\2024-07-15-09-10-07\\2024-07-15-09-10-07.brainflow.csv.bz2 modified at 2024-09-25 18:47:10\n",
      "File C:\\dev\\play\\brainwave-data\\2024-07-15-09-10-07\\directory_checksum.md5 modified at 2024-12-21 08:41:38\n",
      "Skipping upload of C:\\dev\\play\\brainwave-data\\2024-07-15-09-10-07, no files modified since last checksum.\n",
      "File C:\\dev\\play\\brainwave-data\\2024-07-15-22-33-27\\directory_checksum.md5 modified at 2025-04-12 07:14:42.509977\n",
      "File C:\\dev\\play\\brainwave-data\\2024-07-15-22-33-27\\raw.artifacts.csv modified at 2025-03-11 19:09:31.070780\n",
      "File C:\\dev\\play\\brainwave-data\\2024-07-15-22-33-27\\raw.average_slow_wave.png modified at 2025-01-10 17:41:26\n",
      "File C:\\dev\\play\\brainwave-data\\2024-07-15-22-33-27\\raw.edf modified at 2025-01-10 17:40:44\n",
      "File C:\\dev\\play\\brainwave-data\\2024-07-15-22-33-27\\raw.fif modified at 2024-09-09 09:14:12\n",
      "File C:\\dev\\play\\brainwave-data\\2024-07-15-22-33-27\\raw.final_wake_model.csv modified at 2024-12-19 17:22:42\n",
      "File C:\\dev\\play\\brainwave-data\\2024-07-15-22-33-27\\raw.final_wake_model_post_human.csv modified at 2024-12-19 17:22:46\n",
      "File C:\\dev\\play\\brainwave-data\\2024-07-15-22-33-27\\raw.final_wake_model_post_human.json modified at 2024-12-19 17:22:48\n",
      "File C:\\dev\\play\\brainwave-data\\2024-07-15-22-33-27\\raw.microwakings.csv modified at 2025-01-08 11:14:12\n",
      "File C:\\dev\\play\\brainwave-data\\2024-07-15-22-33-27\\raw.night_events.csv modified at 2024-12-02 03:09:16\n",
      "File C:\\dev\\play\\brainwave-data\\2024-07-15-22-33-27\\raw.physical_features.1s.csv modified at 2025-03-20 07:41:28.610008\n",
      "File C:\\dev\\play\\brainwave-data\\2024-07-15-22-33-27\\raw.physical_features.csv modified at 2025-01-10 18:32:18\n",
      "File C:\\dev\\play\\brainwave-data\\2024-07-15-22-33-27\\raw.post_filter_psd_plot.png modified at 2025-01-10 17:40:48\n",
      "File C:\\dev\\play\\brainwave-data\\2024-07-15-22-33-27\\raw.post_human.csv modified at 2025-04-22 07:58:15.871806\n"
     ]
    },
    {
     "name": "stderr",
     "output_type": "stream",
     "text": [
      "  4%|▍         | 7/169 [00:37<13:42,  5.08s/it]"
     ]
    },
    {
     "name": "stdout",
     "output_type": "stream",
     "text": [
      "C:\\dev\\play\\brainwave-data\\2024-07-15-22-33-27\\directory_checksum.md5 uploading to 2024-07-15-22-33-27/directory_checksum.md5, does_not_exist=False has_changed=True\n"
     ]
    },
    {
     "name": "stderr",
     "output_type": "stream",
     "text": [
      "  4%|▍         | 7/169 [00:37<13:42,  5.08s/it]"
     ]
    },
    {
     "name": "stdout",
     "output_type": "stream",
     "text": [
      "Skipping C:\\dev\\play\\brainwave-data\\2024-07-15-22-33-27\\raw.artifacts.csv, identical file already exists in GCS.\n",
      "Skipping C:\\dev\\play\\brainwave-data\\2024-07-15-22-33-27\\raw.average_slow_wave.png, identical file already exists in GCS.\n",
      "Skipping C:\\dev\\play\\brainwave-data\\2024-07-15-22-33-27\\raw.edf, identical file already exists in GCS.\n"
     ]
    },
    {
     "name": "stderr",
     "output_type": "stream",
     "text": [
      "  4%|▍         | 7/169 [00:38<13:42,  5.08s/it]"
     ]
    },
    {
     "name": "stdout",
     "output_type": "stream",
     "text": [
      "Skipping C:\\dev\\play\\brainwave-data\\2024-07-15-22-33-27\\raw.fif, identical file already exists in GCS.\n",
      "Skipping C:\\dev\\play\\brainwave-data\\2024-07-15-22-33-27\\raw.final_wake_model.csv, identical file already exists in GCS.\n",
      "Skipping C:\\dev\\play\\brainwave-data\\2024-07-15-22-33-27\\raw.final_wake_model_post_human.csv, identical file already exists in GCS.\n",
      "Skipping C:\\dev\\play\\brainwave-data\\2024-07-15-22-33-27\\raw.final_wake_model_post_human.json, identical file already exists in GCS.\n"
     ]
    },
    {
     "name": "stderr",
     "output_type": "stream",
     "text": [
      "  4%|▍         | 7/169 [00:38<13:42,  5.08s/it]"
     ]
    },
    {
     "name": "stdout",
     "output_type": "stream",
     "text": [
      "Skipping C:\\dev\\play\\brainwave-data\\2024-07-15-22-33-27\\raw.microwakings.csv, identical file already exists in GCS.\n",
      "Skipping C:\\dev\\play\\brainwave-data\\2024-07-15-22-33-27\\raw.night_events.csv, identical file already exists in GCS.\n",
      "Skipping C:\\dev\\play\\brainwave-data\\2024-07-15-22-33-27\\raw.physical_features.1s.csv, identical file already exists in GCS.\n",
      "Skipping C:\\dev\\play\\brainwave-data\\2024-07-15-22-33-27\\raw.physical_features.csv, identical file already exists in GCS.\n"
     ]
    },
    {
     "name": "stderr",
     "output_type": "stream",
     "text": [
      "  4%|▍         | 7/169 [00:38<13:42,  5.08s/it]"
     ]
    },
    {
     "name": "stdout",
     "output_type": "stream",
     "text": [
      "Skipping C:\\dev\\play\\brainwave-data\\2024-07-15-22-33-27\\raw.post_filter_psd_plot.png, identical file already exists in GCS.\n",
      "Skipping C:\\dev\\play\\brainwave-data\\2024-07-15-22-33-27\\raw.post_human.csv, identical file already exists in GCS.\n",
      "Skipping C:\\dev\\play\\brainwave-data\\2024-07-15-22-33-27\\raw.post_yasa.csv, identical file already exists in GCS.\n"
     ]
    },
    {
     "name": "stderr",
     "output_type": "stream",
     "text": [
      "  4%|▍         | 7/169 [00:38<13:42,  5.08s/it]"
     ]
    },
    {
     "name": "stdout",
     "output_type": "stream",
     "text": [
      "Skipping C:\\dev\\play\\brainwave-data\\2024-07-15-22-33-27\\raw.pre_filter_psd_plot.png, identical file already exists in GCS.\n",
      "Skipping C:\\dev\\play\\brainwave-data\\2024-07-15-22-33-27\\raw.sleep.json, identical file already exists in GCS.\n",
      "Skipping C:\\dev\\play\\brainwave-data\\2024-07-15-22-33-27\\raw.sleep_stages.csv, identical file already exists in GCS.\n",
      "Skipping C:\\dev\\play\\brainwave-data\\2024-07-15-22-33-27\\raw.sleep_stages.F8-M1.csv, identical file already exists in GCS.\n"
     ]
    },
    {
     "name": "stderr",
     "output_type": "stream",
     "text": [
      "  4%|▍         | 7/169 [00:38<13:42,  5.08s/it]"
     ]
    },
    {
     "name": "stdout",
     "output_type": "stream",
     "text": [
      "Skipping C:\\dev\\play\\brainwave-data\\2024-07-15-22-33-27\\raw.sleep_stages.O2-M1.csv, identical file already exists in GCS.\n",
      "Skipping C:\\dev\\play\\brainwave-data\\2024-07-15-22-33-27\\raw.sleep_stages.T4-M1.csv, identical file already exists in GCS.\n",
      "Skipping C:\\dev\\play\\brainwave-data\\2024-07-15-22-33-27\\raw.spectrogram.F8-M1.png, identical file already exists in GCS.\n",
      "Skipping C:\\dev\\play\\brainwave-data\\2024-07-15-22-33-27\\raw.spectrogram.O2-M1.png, identical file already exists in GCS.\n"
     ]
    },
    {
     "name": "stderr",
     "output_type": "stream",
     "text": [
      "  4%|▍         | 7/169 [00:39<13:42,  5.08s/it]"
     ]
    },
    {
     "name": "stdout",
     "output_type": "stream",
     "text": [
      "Skipping C:\\dev\\play\\brainwave-data\\2024-07-15-22-33-27\\raw.spectrogram.T4-M1.png, identical file already exists in GCS.\n",
      "Skipping C:\\dev\\play\\brainwave-data\\2024-07-15-22-33-27\\raw.spindle_summary.csv, identical file already exists in GCS.\n",
      "Skipping C:\\dev\\play\\brainwave-data\\2024-07-15-22-33-27\\raw.sw_summary.csv, identical file already exists in GCS.\n",
      "Skipping C:\\dev\\play\\brainwave-data\\2024-07-15-22-33-27\\raw.with_features.csv, identical file already exists in GCS.\n"
     ]
    },
    {
     "name": "stderr",
     "output_type": "stream",
     "text": [
      "  5%|▌         | 9/169 [00:39<10:20,  3.88s/it]"
     ]
    },
    {
     "name": "stdout",
     "output_type": "stream",
     "text": [
      "Skipping C:\\dev\\play\\brainwave-data\\2024-07-15-22-33-27\\raw.with_microwakings_multi1_debug.edf, identical file already exists in GCS.\n",
      "Skipping C:\\dev\\play\\brainwave-data\\2024-07-15-22-33-27\\raw.yasa.csv, identical file already exists in GCS.\n",
      "Uploaded directory checksum for C:\\dev\\play\\brainwave-data\\2024-07-15-22-33-27 to 2024-07-15-22-33-27/directory_checksum.md5\n",
      "File C:\\dev\\play\\brainwave-data\\2024-07-16-23-14-52\\2024-07-16-23-14-52.brainflow.csv.bz2 modified at 2024-09-25 18:41:04\n",
      "File C:\\dev\\play\\brainwave-data\\2024-07-16-23-14-52\\directory_checksum.md5 modified at 2025-04-12 07:14:47.550703\n",
      "File C:\\dev\\play\\brainwave-data\\2024-07-16-23-14-52\\raw.artifacts.csv modified at 2025-03-11 19:09:38.183764\n",
      "File C:\\dev\\play\\brainwave-data\\2024-07-16-23-14-52\\raw.average_slow_wave.png modified at 2025-01-10 17:42:00\n",
      "File C:\\dev\\play\\brainwave-data\\2024-07-16-23-14-52\\raw.edf modified at 2025-01-10 17:41:30\n",
      "File C:\\dev\\play\\brainwave-data\\2024-07-16-23-14-52\\raw.fif modified at 2024-09-09 09:15:30\n",
      "File C:\\dev\\play\\brainwave-data\\2024-07-16-23-14-52\\raw.fif.bz2 modified at 2024-09-25 18:38:28\n",
      "File C:\\dev\\play\\brainwave-data\\2024-07-16-23-14-52\\raw.final_wake_model.csv modified at 2024-12-19 17:22:50\n",
      "File C:\\dev\\play\\brainwave-data\\2024-07-16-23-14-52\\raw.final_wake_model_post_human.csv modified at 2024-12-19 17:22:52\n",
      "File C:\\dev\\play\\brainwave-data\\2024-07-16-23-14-52\\raw.final_wake_model_post_human.json modified at 2024-12-19 17:22:54\n",
      "File C:\\dev\\play\\brainwave-data\\2024-07-16-23-14-52\\raw.microwakings.csv modified at 2025-01-08 11:14:22\n",
      "File C:\\dev\\play\\brainwave-data\\2024-07-16-23-14-52\\raw.night_events.csv modified at 2024-12-02 03:10:48\n",
      "File C:\\dev\\play\\brainwave-data\\2024-07-16-23-14-52\\raw.physical_features.1s.csv modified at 2025-03-20 07:41:30.814844\n",
      "File C:\\dev\\play\\brainwave-data\\2024-07-16-23-14-52\\raw.physical_features.csv modified at 2025-01-10 18:32:20\n",
      "File C:\\dev\\play\\brainwave-data\\2024-07-16-23-14-52\\raw.post_filter_psd_plot.png modified at 2025-01-10 17:41:32\n",
      "File C:\\dev\\play\\brainwave-data\\2024-07-16-23-14-52\\raw.post_human.csv modified at 2025-04-22 07:58:17.708426\n"
     ]
    },
    {
     "name": "stderr",
     "output_type": "stream",
     "text": [
      "  5%|▌         | 9/169 [00:42<10:20,  3.88s/it]"
     ]
    },
    {
     "name": "stdout",
     "output_type": "stream",
     "text": [
      "Skipping C:\\dev\\play\\brainwave-data\\2024-07-16-23-14-52\\2024-07-16-23-14-52.brainflow.csv.bz2, identical file already exists in GCS.\n",
      "C:\\dev\\play\\brainwave-data\\2024-07-16-23-14-52\\directory_checksum.md5 uploading to 2024-07-16-23-14-52/directory_checksum.md5, does_not_exist=False has_changed=True\n"
     ]
    },
    {
     "name": "stderr",
     "output_type": "stream",
     "text": [
      "  5%|▌         | 9/169 [00:42<10:20,  3.88s/it]"
     ]
    },
    {
     "name": "stdout",
     "output_type": "stream",
     "text": [
      "Skipping C:\\dev\\play\\brainwave-data\\2024-07-16-23-14-52\\raw.artifacts.csv, identical file already exists in GCS.\n",
      "Skipping C:\\dev\\play\\brainwave-data\\2024-07-16-23-14-52\\raw.average_slow_wave.png, identical file already exists in GCS.\n",
      "Skipping C:\\dev\\play\\brainwave-data\\2024-07-16-23-14-52\\raw.edf, identical file already exists in GCS.\n"
     ]
    },
    {
     "name": "stderr",
     "output_type": "stream",
     "text": [
      "  5%|▌         | 9/169 [00:43<10:20,  3.88s/it]"
     ]
    },
    {
     "name": "stdout",
     "output_type": "stream",
     "text": [
      "Skipping C:\\dev\\play\\brainwave-data\\2024-07-16-23-14-52\\raw.fif, identical file already exists in GCS.\n",
      "Skipping C:\\dev\\play\\brainwave-data\\2024-07-16-23-14-52\\raw.fif.bz2, identical file already exists in GCS.\n",
      "Skipping C:\\dev\\play\\brainwave-data\\2024-07-16-23-14-52\\raw.final_wake_model.csv, identical file already exists in GCS.\n"
     ]
    },
    {
     "name": "stderr",
     "output_type": "stream",
     "text": [
      "  5%|▌         | 9/169 [00:43<10:20,  3.88s/it]"
     ]
    },
    {
     "name": "stdout",
     "output_type": "stream",
     "text": [
      "Skipping C:\\dev\\play\\brainwave-data\\2024-07-16-23-14-52\\raw.final_wake_model_post_human.csv, identical file already exists in GCS.\n",
      "Skipping C:\\dev\\play\\brainwave-data\\2024-07-16-23-14-52\\raw.final_wake_model_post_human.json, identical file already exists in GCS.\n",
      "Skipping C:\\dev\\play\\brainwave-data\\2024-07-16-23-14-52\\raw.microwakings.csv, identical file already exists in GCS.\n",
      "Skipping C:\\dev\\play\\brainwave-data\\2024-07-16-23-14-52\\raw.night_events.csv, identical file already exists in GCS.\n"
     ]
    },
    {
     "name": "stderr",
     "output_type": "stream",
     "text": [
      "  5%|▌         | 9/169 [00:43<10:20,  3.88s/it]"
     ]
    },
    {
     "name": "stdout",
     "output_type": "stream",
     "text": [
      "Skipping C:\\dev\\play\\brainwave-data\\2024-07-16-23-14-52\\raw.physical_features.1s.csv, identical file already exists in GCS.\n",
      "Skipping C:\\dev\\play\\brainwave-data\\2024-07-16-23-14-52\\raw.physical_features.csv, identical file already exists in GCS.\n",
      "Skipping C:\\dev\\play\\brainwave-data\\2024-07-16-23-14-52\\raw.post_filter_psd_plot.png, identical file already exists in GCS.\n"
     ]
    },
    {
     "name": "stderr",
     "output_type": "stream",
     "text": [
      "  5%|▌         | 9/169 [00:43<10:20,  3.88s/it]"
     ]
    },
    {
     "name": "stdout",
     "output_type": "stream",
     "text": [
      "Skipping C:\\dev\\play\\brainwave-data\\2024-07-16-23-14-52\\raw.post_human.csv, identical file already exists in GCS.\n"
     ]
    },
    {
     "name": "stderr",
     "output_type": "stream",
     "text": [
      "  5%|▌         | 9/169 [00:44<10:20,  3.88s/it]"
     ]
    },
    {
     "name": "stdout",
     "output_type": "stream",
     "text": [
      "Skipping C:\\dev\\play\\brainwave-data\\2024-07-16-23-14-52\\raw.post_yasa.csv, identical file already exists in GCS.\n",
      "Skipping C:\\dev\\play\\brainwave-data\\2024-07-16-23-14-52\\raw.pre_filter_psd_plot.png, identical file already exists in GCS.\n",
      "Skipping C:\\dev\\play\\brainwave-data\\2024-07-16-23-14-52\\raw.sleep.json, identical file already exists in GCS.\n",
      "Skipping C:\\dev\\play\\brainwave-data\\2024-07-16-23-14-52\\raw.sleep_stages.csv, identical file already exists in GCS.\n"
     ]
    },
    {
     "name": "stderr",
     "output_type": "stream",
     "text": [
      "  5%|▌         | 9/169 [00:44<10:20,  3.88s/it]"
     ]
    },
    {
     "name": "stdout",
     "output_type": "stream",
     "text": [
      "Skipping C:\\dev\\play\\brainwave-data\\2024-07-16-23-14-52\\raw.sleep_stages.F8-M1.csv, identical file already exists in GCS.\n",
      "Skipping C:\\dev\\play\\brainwave-data\\2024-07-16-23-14-52\\raw.sleep_stages.O2-M1.csv, identical file already exists in GCS.\n",
      "Skipping C:\\dev\\play\\brainwave-data\\2024-07-16-23-14-52\\raw.sleep_stages.T4-M1.csv, identical file already exists in GCS.\n"
     ]
    },
    {
     "name": "stderr",
     "output_type": "stream",
     "text": [
      "  5%|▌         | 9/169 [00:44<10:20,  3.88s/it]"
     ]
    },
    {
     "name": "stdout",
     "output_type": "stream",
     "text": [
      "Skipping C:\\dev\\play\\brainwave-data\\2024-07-16-23-14-52\\raw.spectrogram.F8-M1.png, identical file already exists in GCS.\n",
      "Skipping C:\\dev\\play\\brainwave-data\\2024-07-16-23-14-52\\raw.spectrogram.O2-M1.png, identical file already exists in GCS.\n",
      "Skipping C:\\dev\\play\\brainwave-data\\2024-07-16-23-14-52\\raw.spectrogram.T4-M1.png, identical file already exists in GCS.\n",
      "Skipping C:\\dev\\play\\brainwave-data\\2024-07-16-23-14-52\\raw.spindle_summary.csv, identical file already exists in GCS.\n"
     ]
    },
    {
     "name": "stderr",
     "output_type": "stream",
     "text": [
      "  5%|▌         | 9/169 [00:44<10:20,  3.88s/it]"
     ]
    },
    {
     "name": "stdout",
     "output_type": "stream",
     "text": [
      "Skipping C:\\dev\\play\\brainwave-data\\2024-07-16-23-14-52\\raw.sw_summary.csv, identical file already exists in GCS.\n",
      "Skipping C:\\dev\\play\\brainwave-data\\2024-07-16-23-14-52\\raw.with_features.csv, identical file already exists in GCS.\n",
      "Skipping C:\\dev\\play\\brainwave-data\\2024-07-16-23-14-52\\raw.with_microwakings_multi1_debug.edf, identical file already exists in GCS.\n"
     ]
    },
    {
     "name": "stderr",
     "output_type": "stream",
     "text": [
      "  6%|▌         | 10/169 [00:45<11:31,  4.35s/it]"
     ]
    },
    {
     "name": "stdout",
     "output_type": "stream",
     "text": [
      "Skipping C:\\dev\\play\\brainwave-data\\2024-07-16-23-14-52\\raw.yasa.csv, identical file already exists in GCS.\n",
      "Uploaded directory checksum for C:\\dev\\play\\brainwave-data\\2024-07-16-23-14-52 to 2024-07-16-23-14-52/directory_checksum.md5\n",
      "File C:\\dev\\play\\brainwave-data\\2024-07-17-22-48-49\\directory_checksum.md5 modified at 2025-04-12 07:14:52.650696\n",
      "File C:\\dev\\play\\brainwave-data\\2024-07-17-22-48-49\\raw.artifacts.csv modified at 2025-03-11 19:09:48.838454\n",
      "File C:\\dev\\play\\brainwave-data\\2024-07-17-22-48-49\\raw.average_slow_wave.png modified at 2025-01-10 17:42:48\n",
      "File C:\\dev\\play\\brainwave-data\\2024-07-17-22-48-49\\raw.edf modified at 2025-01-10 17:42:02\n",
      "File C:\\dev\\play\\brainwave-data\\2024-07-17-22-48-49\\raw.fif modified at 2024-09-09 09:17:22\n",
      "File C:\\dev\\play\\brainwave-data\\2024-07-17-22-48-49\\raw.final_wake_model.csv modified at 2024-12-19 17:22:58\n",
      "File C:\\dev\\play\\brainwave-data\\2024-07-17-22-48-49\\raw.final_wake_model_post_human.csv modified at 2024-12-19 17:23:00\n",
      "File C:\\dev\\play\\brainwave-data\\2024-07-17-22-48-49\\raw.final_wake_model_post_human.json modified at 2024-12-19 17:23:02\n",
      "File C:\\dev\\play\\brainwave-data\\2024-07-17-22-48-49\\raw.microwakings.csv modified at 2025-01-08 11:14:32\n",
      "File C:\\dev\\play\\brainwave-data\\2024-07-17-22-48-49\\raw.night_events.csv modified at 2024-12-02 03:12:00\n",
      "File C:\\dev\\play\\brainwave-data\\2024-07-17-22-48-49\\raw.physical_features.1s.csv modified at 2025-03-20 07:41:32.787312\n",
      "File C:\\dev\\play\\brainwave-data\\2024-07-17-22-48-49\\raw.physical_features.csv modified at 2025-01-10 18:32:20\n",
      "File C:\\dev\\play\\brainwave-data\\2024-07-17-22-48-49\\raw.post_filter_psd_plot.png modified at 2025-01-10 17:42:06\n",
      "File C:\\dev\\play\\brainwave-data\\2024-07-17-22-48-49\\raw.post_human.csv modified at 2025-04-22 07:58:20.643212\n"
     ]
    },
    {
     "name": "stderr",
     "output_type": "stream",
     "text": [
      "  6%|▌         | 10/169 [00:49<11:31,  4.35s/it]"
     ]
    },
    {
     "name": "stdout",
     "output_type": "stream",
     "text": [
      "C:\\dev\\play\\brainwave-data\\2024-07-17-22-48-49\\directory_checksum.md5 uploading to 2024-07-17-22-48-49/directory_checksum.md5, does_not_exist=False has_changed=True\n"
     ]
    },
    {
     "name": "stderr",
     "output_type": "stream",
     "text": [
      "  6%|▌         | 10/169 [00:49<11:31,  4.35s/it]"
     ]
    },
    {
     "name": "stdout",
     "output_type": "stream",
     "text": [
      "Skipping C:\\dev\\play\\brainwave-data\\2024-07-17-22-48-49\\raw.artifacts.csv, identical file already exists in GCS.\n",
      "Skipping C:\\dev\\play\\brainwave-data\\2024-07-17-22-48-49\\raw.average_slow_wave.png, identical file already exists in GCS.\n"
     ]
    },
    {
     "name": "stderr",
     "output_type": "stream",
     "text": [
      "  6%|▌         | 10/169 [00:49<11:31,  4.35s/it]"
     ]
    },
    {
     "name": "stdout",
     "output_type": "stream",
     "text": [
      "Skipping C:\\dev\\play\\brainwave-data\\2024-07-17-22-48-49\\raw.edf, identical file already exists in GCS.\n"
     ]
    },
    {
     "name": "stderr",
     "output_type": "stream",
     "text": [
      "  6%|▌         | 10/169 [00:50<11:31,  4.35s/it]"
     ]
    },
    {
     "name": "stdout",
     "output_type": "stream",
     "text": [
      "Skipping C:\\dev\\play\\brainwave-data\\2024-07-17-22-48-49\\raw.fif, identical file already exists in GCS.\n",
      "Skipping C:\\dev\\play\\brainwave-data\\2024-07-17-22-48-49\\raw.final_wake_model.csv, identical file already exists in GCS.\n",
      "Skipping C:\\dev\\play\\brainwave-data\\2024-07-17-22-48-49\\raw.final_wake_model_post_human.csv, identical file already exists in GCS.\n",
      "Skipping C:\\dev\\play\\brainwave-data\\2024-07-17-22-48-49\\raw.final_wake_model_post_human.json, identical file already exists in GCS.\n"
     ]
    },
    {
     "name": "stderr",
     "output_type": "stream",
     "text": [
      "  6%|▌         | 10/169 [00:50<11:31,  4.35s/it]"
     ]
    },
    {
     "name": "stdout",
     "output_type": "stream",
     "text": [
      "Skipping C:\\dev\\play\\brainwave-data\\2024-07-17-22-48-49\\raw.microwakings.csv, identical file already exists in GCS.\n",
      "Skipping C:\\dev\\play\\brainwave-data\\2024-07-17-22-48-49\\raw.night_events.csv, identical file already exists in GCS.\n",
      "Skipping C:\\dev\\play\\brainwave-data\\2024-07-17-22-48-49\\raw.physical_features.1s.csv, identical file already exists in GCS.\n",
      "Skipping C:\\dev\\play\\brainwave-data\\2024-07-17-22-48-49\\raw.physical_features.csv, identical file already exists in GCS.\n"
     ]
    },
    {
     "name": "stderr",
     "output_type": "stream",
     "text": [
      "  6%|▌         | 10/169 [00:50<11:31,  4.35s/it]"
     ]
    },
    {
     "name": "stdout",
     "output_type": "stream",
     "text": [
      "Skipping C:\\dev\\play\\brainwave-data\\2024-07-17-22-48-49\\raw.post_filter_psd_plot.png, identical file already exists in GCS.\n"
     ]
    },
    {
     "name": "stderr",
     "output_type": "stream",
     "text": [
      "  6%|▌         | 10/169 [00:51<11:31,  4.35s/it]"
     ]
    },
    {
     "name": "stdout",
     "output_type": "stream",
     "text": [
      "Skipping C:\\dev\\play\\brainwave-data\\2024-07-17-22-48-49\\raw.post_human.csv, identical file already exists in GCS.\n"
     ]
    },
    {
     "name": "stderr",
     "output_type": "stream",
     "text": [
      "  6%|▌         | 10/169 [00:51<11:31,  4.35s/it]"
     ]
    },
    {
     "name": "stdout",
     "output_type": "stream",
     "text": [
      "Skipping C:\\dev\\play\\brainwave-data\\2024-07-17-22-48-49\\raw.post_yasa.csv, identical file already exists in GCS.\n",
      "Skipping C:\\dev\\play\\brainwave-data\\2024-07-17-22-48-49\\raw.pre_filter_psd_plot.png, identical file already exists in GCS.\n",
      "Skipping C:\\dev\\play\\brainwave-data\\2024-07-17-22-48-49\\raw.sleep.json, identical file already exists in GCS.\n",
      "Skipping C:\\dev\\play\\brainwave-data\\2024-07-17-22-48-49\\raw.sleep_stages.csv, identical file already exists in GCS.\n",
      "Skipping C:\\dev\\play\\brainwave-data\\2024-07-17-22-48-49\\raw.sleep_stages.F8-M1.csv, identical file already exists in GCS.\n"
     ]
    },
    {
     "name": "stderr",
     "output_type": "stream",
     "text": [
      "  6%|▌         | 10/169 [00:51<11:31,  4.35s/it]"
     ]
    },
    {
     "name": "stdout",
     "output_type": "stream",
     "text": [
      "Skipping C:\\dev\\play\\brainwave-data\\2024-07-17-22-48-49\\raw.sleep_stages.O2-M1.csv, identical file already exists in GCS.\n",
      "Skipping C:\\dev\\play\\brainwave-data\\2024-07-17-22-48-49\\raw.sleep_stages.T4-M1.csv, identical file already exists in GCS.\n"
     ]
    },
    {
     "name": "stderr",
     "output_type": "stream",
     "text": [
      "  6%|▌         | 10/169 [00:52<11:31,  4.35s/it]"
     ]
    },
    {
     "name": "stdout",
     "output_type": "stream",
     "text": [
      "Skipping C:\\dev\\play\\brainwave-data\\2024-07-17-22-48-49\\raw.spectrogram.F8-M1.png, identical file already exists in GCS.\n",
      "Skipping C:\\dev\\play\\brainwave-data\\2024-07-17-22-48-49\\raw.spectrogram.O2-M1.png, identical file already exists in GCS.\n",
      "Skipping C:\\dev\\play\\brainwave-data\\2024-07-17-22-48-49\\raw.spectrogram.T4-M1.png, identical file already exists in GCS.\n"
     ]
    },
    {
     "name": "stderr",
     "output_type": "stream",
     "text": [
      "  6%|▌         | 10/169 [00:52<11:31,  4.35s/it]"
     ]
    },
    {
     "name": "stdout",
     "output_type": "stream",
     "text": [
      "Skipping C:\\dev\\play\\brainwave-data\\2024-07-17-22-48-49\\raw.spindle_summary.csv, identical file already exists in GCS.\n",
      "Skipping C:\\dev\\play\\brainwave-data\\2024-07-17-22-48-49\\raw.sw_summary.csv, identical file already exists in GCS.\n",
      "Skipping C:\\dev\\play\\brainwave-data\\2024-07-17-22-48-49\\raw.with_features.csv, identical file already exists in GCS.\n"
     ]
    },
    {
     "name": "stderr",
     "output_type": "stream",
     "text": [
      "  7%|▋         | 11/169 [00:52<13:34,  5.16s/it]"
     ]
    },
    {
     "name": "stdout",
     "output_type": "stream",
     "text": [
      "Skipping C:\\dev\\play\\brainwave-data\\2024-07-17-22-48-49\\raw.with_microwakings_multi1_debug.edf, identical file already exists in GCS.\n",
      "Skipping C:\\dev\\play\\brainwave-data\\2024-07-17-22-48-49\\raw.yasa.csv, identical file already exists in GCS.\n",
      "Uploaded directory checksum for C:\\dev\\play\\brainwave-data\\2024-07-17-22-48-49 to 2024-07-17-22-48-49/directory_checksum.md5\n",
      "File C:\\dev\\play\\brainwave-data\\2024-07-21-22-22-16\\directory_checksum.md5 modified at 2025-04-12 07:14:57.494529\n",
      "File C:\\dev\\play\\brainwave-data\\2024-07-21-22-22-16\\raw.artifacts.csv modified at 2025-03-11 19:09:53.245711\n",
      "File C:\\dev\\play\\brainwave-data\\2024-07-21-22-22-16\\raw.average_slow_wave.png modified at 2025-01-10 17:43:10\n",
      "File C:\\dev\\play\\brainwave-data\\2024-07-21-22-22-16\\raw.edf modified at 2025-01-10 17:42:52\n",
      "File C:\\dev\\play\\brainwave-data\\2024-07-21-22-22-16\\raw.fif modified at 2024-09-09 09:18:12\n",
      "File C:\\dev\\play\\brainwave-data\\2024-07-21-22-22-16\\raw.final_wake_model.csv modified at 2024-12-19 17:23:06\n"
     ]
    },
    {
     "name": "stderr",
     "output_type": "stream",
     "text": [
      "  7%|▋         | 11/169 [00:52<13:34,  5.16s/it]"
     ]
    },
    {
     "name": "stdout",
     "output_type": "stream",
     "text": [
      "File C:\\dev\\play\\brainwave-data\\2024-07-21-22-22-16\\raw.final_wake_model_post_human.csv modified at 2024-12-19 17:23:08\n",
      "File C:\\dev\\play\\brainwave-data\\2024-07-21-22-22-16\\raw.final_wake_model_post_human.json modified at 2024-12-19 17:23:08\n",
      "File C:\\dev\\play\\brainwave-data\\2024-07-21-22-22-16\\raw.microwakings.csv modified at 2025-01-08 11:14:40\n",
      "File C:\\dev\\play\\brainwave-data\\2024-07-21-22-22-16\\raw.night_events.csv modified at 2024-12-02 03:13:12\n",
      "File C:\\dev\\play\\brainwave-data\\2024-07-21-22-22-16\\raw.physical_features.1s.csv modified at 2025-03-20 07:41:34.814641\n",
      "File C:\\dev\\play\\brainwave-data\\2024-07-21-22-22-16\\raw.physical_features.csv modified at 2025-01-10 18:32:22\n",
      "File C:\\dev\\play\\brainwave-data\\2024-07-21-22-22-16\\raw.post_filter_psd_plot.png modified at 2025-01-10 17:42:56\n",
      "File C:\\dev\\play\\brainwave-data\\2024-07-21-22-22-16\\raw.post_human.csv modified at 2025-04-22 07:58:21.841672\n"
     ]
    },
    {
     "name": "stderr",
     "output_type": "stream",
     "text": [
      "  7%|▋         | 11/169 [00:55<13:34,  5.16s/it]"
     ]
    },
    {
     "name": "stdout",
     "output_type": "stream",
     "text": [
      "C:\\dev\\play\\brainwave-data\\2024-07-21-22-22-16\\directory_checksum.md5 uploading to 2024-07-21-22-22-16/directory_checksum.md5, does_not_exist=False has_changed=True\n"
     ]
    },
    {
     "name": "stderr",
     "output_type": "stream",
     "text": [
      "  7%|▋         | 11/169 [00:56<13:34,  5.16s/it]"
     ]
    },
    {
     "name": "stdout",
     "output_type": "stream",
     "text": [
      "Skipping C:\\dev\\play\\brainwave-data\\2024-07-21-22-22-16\\raw.artifacts.csv, identical file already exists in GCS.\n",
      "Skipping C:\\dev\\play\\brainwave-data\\2024-07-21-22-22-16\\raw.average_slow_wave.png, identical file already exists in GCS.\n"
     ]
    },
    {
     "name": "stderr",
     "output_type": "stream",
     "text": [
      "  7%|▋         | 11/169 [00:56<13:34,  5.16s/it]"
     ]
    },
    {
     "name": "stdout",
     "output_type": "stream",
     "text": [
      "Skipping C:\\dev\\play\\brainwave-data\\2024-07-21-22-22-16\\raw.edf, identical file already exists in GCS.\n"
     ]
    },
    {
     "name": "stderr",
     "output_type": "stream",
     "text": [
      "  7%|▋         | 11/169 [00:56<13:34,  5.16s/it]"
     ]
    },
    {
     "name": "stdout",
     "output_type": "stream",
     "text": [
      "Skipping C:\\dev\\play\\brainwave-data\\2024-07-21-22-22-16\\raw.fif, identical file already exists in GCS.\n",
      "Skipping C:\\dev\\play\\brainwave-data\\2024-07-21-22-22-16\\raw.final_wake_model.csv, identical file already exists in GCS.\n",
      "Skipping C:\\dev\\play\\brainwave-data\\2024-07-21-22-22-16\\raw.final_wake_model_post_human.csv, identical file already exists in GCS.\n",
      "Skipping C:\\dev\\play\\brainwave-data\\2024-07-21-22-22-16\\raw.final_wake_model_post_human.json, identical file already exists in GCS.\n",
      "Skipping C:\\dev\\play\\brainwave-data\\2024-07-21-22-22-16\\raw.microwakings.csv, identical file already exists in GCS.\n"
     ]
    },
    {
     "name": "stderr",
     "output_type": "stream",
     "text": [
      "  7%|▋         | 11/169 [00:57<13:34,  5.16s/it]"
     ]
    },
    {
     "name": "stdout",
     "output_type": "stream",
     "text": [
      "Skipping C:\\dev\\play\\brainwave-data\\2024-07-21-22-22-16\\raw.night_events.csv, identical file already exists in GCS.\n",
      "Skipping C:\\dev\\play\\brainwave-data\\2024-07-21-22-22-16\\raw.physical_features.1s.csv, identical file already exists in GCS.\n",
      "Skipping C:\\dev\\play\\brainwave-data\\2024-07-21-22-22-16\\raw.physical_features.csv, identical file already exists in GCS.\n",
      "Skipping C:\\dev\\play\\brainwave-data\\2024-07-21-22-22-16\\raw.post_filter_psd_plot.png, identical file already exists in GCS.\n"
     ]
    },
    {
     "name": "stderr",
     "output_type": "stream",
     "text": [
      "  7%|▋         | 11/169 [00:57<13:34,  5.16s/it]"
     ]
    },
    {
     "name": "stdout",
     "output_type": "stream",
     "text": [
      "Skipping C:\\dev\\play\\brainwave-data\\2024-07-21-22-22-16\\raw.post_human.csv, identical file already exists in GCS.\n",
      "Skipping C:\\dev\\play\\brainwave-data\\2024-07-21-22-22-16\\raw.post_yasa.csv, identical file already exists in GCS.\n",
      "Skipping C:\\dev\\play\\brainwave-data\\2024-07-21-22-22-16\\raw.pre_filter_psd_plot.png, identical file already exists in GCS.\n"
     ]
    },
    {
     "name": "stderr",
     "output_type": "stream",
     "text": [
      "  7%|▋         | 11/169 [00:57<13:34,  5.16s/it]"
     ]
    },
    {
     "name": "stdout",
     "output_type": "stream",
     "text": [
      "Skipping C:\\dev\\play\\brainwave-data\\2024-07-21-22-22-16\\raw.sleep.json, identical file already exists in GCS.\n",
      "Skipping C:\\dev\\play\\brainwave-data\\2024-07-21-22-22-16\\raw.sleep_stages.csv, identical file already exists in GCS.\n",
      "Skipping C:\\dev\\play\\brainwave-data\\2024-07-21-22-22-16\\raw.sleep_stages.F8-M1.csv, identical file already exists in GCS.\n",
      "Skipping C:\\dev\\play\\brainwave-data\\2024-07-21-22-22-16\\raw.sleep_stages.O2-M1.csv, identical file already exists in GCS.\n"
     ]
    },
    {
     "name": "stderr",
     "output_type": "stream",
     "text": [
      "  7%|▋         | 11/169 [00:57<13:34,  5.16s/it]"
     ]
    },
    {
     "name": "stdout",
     "output_type": "stream",
     "text": [
      "Skipping C:\\dev\\play\\brainwave-data\\2024-07-21-22-22-16\\raw.sleep_stages.T4-M1.csv, identical file already exists in GCS.\n",
      "Skipping C:\\dev\\play\\brainwave-data\\2024-07-21-22-22-16\\raw.spectrogram.F8-M1.png, identical file already exists in GCS.\n",
      "Skipping C:\\dev\\play\\brainwave-data\\2024-07-21-22-22-16\\raw.spectrogram.O2-M1.png, identical file already exists in GCS.\n",
      "Skipping C:\\dev\\play\\brainwave-data\\2024-07-21-22-22-16\\raw.spectrogram.T4-M1.png, identical file already exists in GCS.\n"
     ]
    },
    {
     "name": "stderr",
     "output_type": "stream",
     "text": [
      "  7%|▋         | 11/169 [00:58<13:34,  5.16s/it]"
     ]
    },
    {
     "name": "stdout",
     "output_type": "stream",
     "text": [
      "Skipping C:\\dev\\play\\brainwave-data\\2024-07-21-22-22-16\\raw.spindle_summary.csv, identical file already exists in GCS.\n",
      "Skipping C:\\dev\\play\\brainwave-data\\2024-07-21-22-22-16\\raw.sw_summary.csv, identical file already exists in GCS.\n",
      "Skipping C:\\dev\\play\\brainwave-data\\2024-07-21-22-22-16\\raw.with_features.csv, identical file already exists in GCS.\n"
     ]
    },
    {
     "name": "stderr",
     "output_type": "stream",
     "text": [
      "  7%|▋         | 12/169 [00:58<13:57,  5.34s/it]"
     ]
    },
    {
     "name": "stdout",
     "output_type": "stream",
     "text": [
      "Skipping C:\\dev\\play\\brainwave-data\\2024-07-21-22-22-16\\raw.with_microwakings_multi1_debug.edf, identical file already exists in GCS.\n",
      "Skipping C:\\dev\\play\\brainwave-data\\2024-07-21-22-22-16\\raw.yasa.csv, identical file already exists in GCS.\n",
      "Uploaded directory checksum for C:\\dev\\play\\brainwave-data\\2024-07-21-22-22-16 to 2024-07-21-22-22-16/directory_checksum.md5\n",
      "File C:\\dev\\play\\brainwave-data\\2024-07-22-22-24-06\\directory_checksum.md5 modified at 2025-04-12 07:15:02.374995\n",
      "File C:\\dev\\play\\brainwave-data\\2024-07-22-22-24-06\\raw.artifacts.csv modified at 2025-03-11 19:10:03.933457\n",
      "File C:\\dev\\play\\brainwave-data\\2024-07-22-22-24-06\\raw.average_slow_wave.png modified at 2025-01-10 17:43:58\n",
      "File C:\\dev\\play\\brainwave-data\\2024-07-22-22-24-06\\raw.edf modified at 2025-01-10 17:43:14\n",
      "File C:\\dev\\play\\brainwave-data\\2024-07-22-22-24-06\\raw.fif modified at 2024-09-09 09:20:08\n",
      "File C:\\dev\\play\\brainwave-data\\2024-07-22-22-24-06\\raw.final_wake_model.csv modified at 2024-12-19 17:23:10\n",
      "File C:\\dev\\play\\brainwave-data\\2024-07-22-22-24-06\\raw.final_wake_model_post_human.csv modified at 2024-12-19 17:23:14\n",
      "File C:\\dev\\play\\brainwave-data\\2024-07-22-22-24-06\\raw.final_wake_model_post_human.json modified at 2024-12-19 17:23:16\n",
      "File C:\\dev\\play\\brainwave-data\\2024-07-22-22-24-06\\raw.microwakings.csv modified at 2025-01-08 11:14:50\n",
      "File C:\\dev\\play\\brainwave-data\\2024-07-22-22-24-06\\raw.night_events.csv modified at 2024-12-02 03:13:40\n"
     ]
    },
    {
     "name": "stderr",
     "output_type": "stream",
     "text": [
      "  7%|▋         | 12/169 [00:58<13:57,  5.34s/it]"
     ]
    },
    {
     "name": "stdout",
     "output_type": "stream",
     "text": [
      "File C:\\dev\\play\\brainwave-data\\2024-07-22-22-24-06\\raw.physical_features.1s.csv modified at 2025-03-20 07:41:37.318682\n",
      "File C:\\dev\\play\\brainwave-data\\2024-07-22-22-24-06\\raw.physical_features.csv modified at 2025-01-10 18:32:22\n",
      "File C:\\dev\\play\\brainwave-data\\2024-07-22-22-24-06\\raw.post_filter_psd_plot.png modified at 2025-01-10 17:43:18\n",
      "File C:\\dev\\play\\brainwave-data\\2024-07-22-22-24-06\\raw.post_human.csv modified at 2025-04-22 07:58:24.814302\n"
     ]
    },
    {
     "name": "stderr",
     "output_type": "stream",
     "text": [
      "  7%|▋         | 12/169 [01:02<13:57,  5.34s/it]"
     ]
    },
    {
     "name": "stdout",
     "output_type": "stream",
     "text": [
      "C:\\dev\\play\\brainwave-data\\2024-07-22-22-24-06\\directory_checksum.md5 uploading to 2024-07-22-22-24-06/directory_checksum.md5, does_not_exist=False has_changed=True\n"
     ]
    },
    {
     "name": "stderr",
     "output_type": "stream",
     "text": [
      "  7%|▋         | 12/169 [01:02<13:57,  5.34s/it]"
     ]
    },
    {
     "name": "stdout",
     "output_type": "stream",
     "text": [
      "Skipping C:\\dev\\play\\brainwave-data\\2024-07-22-22-24-06\\raw.artifacts.csv, identical file already exists in GCS.\n",
      "Skipping C:\\dev\\play\\brainwave-data\\2024-07-22-22-24-06\\raw.average_slow_wave.png, identical file already exists in GCS.\n"
     ]
    },
    {
     "name": "stderr",
     "output_type": "stream",
     "text": [
      "  7%|▋         | 12/169 [01:03<13:57,  5.34s/it]"
     ]
    },
    {
     "name": "stdout",
     "output_type": "stream",
     "text": [
      "Skipping C:\\dev\\play\\brainwave-data\\2024-07-22-22-24-06\\raw.edf, identical file already exists in GCS.\n"
     ]
    },
    {
     "name": "stderr",
     "output_type": "stream",
     "text": [
      "  7%|▋         | 12/169 [01:03<13:57,  5.34s/it]"
     ]
    },
    {
     "name": "stdout",
     "output_type": "stream",
     "text": [
      "Skipping C:\\dev\\play\\brainwave-data\\2024-07-22-22-24-06\\raw.fif, identical file already exists in GCS.\n",
      "Skipping C:\\dev\\play\\brainwave-data\\2024-07-22-22-24-06\\raw.final_wake_model.csv, identical file already exists in GCS.\n",
      "Skipping C:\\dev\\play\\brainwave-data\\2024-07-22-22-24-06\\raw.final_wake_model_post_human.csv, identical file already exists in GCS.\n",
      "Skipping C:\\dev\\play\\brainwave-data\\2024-07-22-22-24-06\\raw.final_wake_model_post_human.json, identical file already exists in GCS.\n"
     ]
    },
    {
     "name": "stderr",
     "output_type": "stream",
     "text": [
      "  7%|▋         | 12/169 [01:04<13:57,  5.34s/it]"
     ]
    },
    {
     "name": "stdout",
     "output_type": "stream",
     "text": [
      "Skipping C:\\dev\\play\\brainwave-data\\2024-07-22-22-24-06\\raw.microwakings.csv, identical file already exists in GCS.\n",
      "Skipping C:\\dev\\play\\brainwave-data\\2024-07-22-22-24-06\\raw.night_events.csv, identical file already exists in GCS.\n",
      "Skipping C:\\dev\\play\\brainwave-data\\2024-07-22-22-24-06\\raw.physical_features.1s.csv, identical file already exists in GCS.\n",
      "Skipping C:\\dev\\play\\brainwave-data\\2024-07-22-22-24-06\\raw.physical_features.csv, identical file already exists in GCS.\n"
     ]
    },
    {
     "name": "stderr",
     "output_type": "stream",
     "text": [
      "  7%|▋         | 12/169 [01:04<13:57,  5.34s/it]"
     ]
    },
    {
     "name": "stdout",
     "output_type": "stream",
     "text": [
      "Skipping C:\\dev\\play\\brainwave-data\\2024-07-22-22-24-06\\raw.post_filter_psd_plot.png, identical file already exists in GCS.\n"
     ]
    },
    {
     "name": "stderr",
     "output_type": "stream",
     "text": [
      "  7%|▋         | 12/169 [01:04<13:57,  5.34s/it]"
     ]
    },
    {
     "name": "stdout",
     "output_type": "stream",
     "text": [
      "Skipping C:\\dev\\play\\brainwave-data\\2024-07-22-22-24-06\\raw.post_human.csv, identical file already exists in GCS.\n"
     ]
    },
    {
     "name": "stderr",
     "output_type": "stream",
     "text": [
      "  7%|▋         | 12/169 [01:04<13:57,  5.34s/it]"
     ]
    },
    {
     "name": "stdout",
     "output_type": "stream",
     "text": [
      "Skipping C:\\dev\\play\\brainwave-data\\2024-07-22-22-24-06\\raw.post_yasa.csv, identical file already exists in GCS.\n",
      "Skipping C:\\dev\\play\\brainwave-data\\2024-07-22-22-24-06\\raw.pre_filter_psd_plot.png, identical file already exists in GCS.\n",
      "Skipping C:\\dev\\play\\brainwave-data\\2024-07-22-22-24-06\\raw.sleep.json, identical file already exists in GCS.\n",
      "Skipping C:\\dev\\play\\brainwave-data\\2024-07-22-22-24-06\\raw.sleep_stages.csv, identical file already exists in GCS.\n"
     ]
    },
    {
     "name": "stderr",
     "output_type": "stream",
     "text": [
      "  7%|▋         | 12/169 [01:05<13:57,  5.34s/it]"
     ]
    },
    {
     "name": "stdout",
     "output_type": "stream",
     "text": [
      "Skipping C:\\dev\\play\\brainwave-data\\2024-07-22-22-24-06\\raw.sleep_stages.F8-M1.csv, identical file already exists in GCS.\n",
      "Skipping C:\\dev\\play\\brainwave-data\\2024-07-22-22-24-06\\raw.sleep_stages.O2-M1.csv, identical file already exists in GCS.\n",
      "Skipping C:\\dev\\play\\brainwave-data\\2024-07-22-22-24-06\\raw.sleep_stages.T4-M1.csv, identical file already exists in GCS.\n",
      "Skipping C:\\dev\\play\\brainwave-data\\2024-07-22-22-24-06\\raw.spectrogram.F8-M1.png, identical file already exists in GCS.\n"
     ]
    },
    {
     "name": "stderr",
     "output_type": "stream",
     "text": [
      "  7%|▋         | 12/169 [01:05<13:57,  5.34s/it]"
     ]
    },
    {
     "name": "stdout",
     "output_type": "stream",
     "text": [
      "Skipping C:\\dev\\play\\brainwave-data\\2024-07-22-22-24-06\\raw.spectrogram.O2-M1.png, identical file already exists in GCS.\n",
      "Skipping C:\\dev\\play\\brainwave-data\\2024-07-22-22-24-06\\raw.spectrogram.T4-M1.png, identical file already exists in GCS.\n",
      "Skipping C:\\dev\\play\\brainwave-data\\2024-07-22-22-24-06\\raw.spindle_summary.csv, identical file already exists in GCS.\n",
      "Skipping C:\\dev\\play\\brainwave-data\\2024-07-22-22-24-06\\raw.sw_summary.csv, identical file already exists in GCS.\n"
     ]
    },
    {
     "name": "stderr",
     "output_type": "stream",
     "text": [
      "  7%|▋         | 12/169 [01:05<13:57,  5.34s/it]"
     ]
    },
    {
     "name": "stdout",
     "output_type": "stream",
     "text": [
      "Skipping C:\\dev\\play\\brainwave-data\\2024-07-22-22-24-06\\raw.with_features.csv, identical file already exists in GCS.\n",
      "Skipping C:\\dev\\play\\brainwave-data\\2024-07-22-22-24-06\\raw.with_microwakings_multi1_debug.edf, identical file already exists in GCS.\n",
      "Skipping C:\\dev\\play\\brainwave-data\\2024-07-22-22-24-06\\raw.yasa.csv, identical file already exists in GCS.\n"
     ]
    },
    {
     "name": "stderr",
     "output_type": "stream",
     "text": [
      "                                                \r"
     ]
    },
    {
     "name": "stdout",
     "output_type": "stream",
     "text": [
      "Uploaded directory checksum for C:\\dev\\play\\brainwave-data\\2024-07-22-22-24-06 to 2024-07-22-22-24-06/directory_checksum.md5\n",
      "File C:\\dev\\play\\brainwave-data\\2024-07-23-22-40-25\\directory_checksum.md5 modified at 2025-03-11 20:51:37.130036\n",
      "File C:\\dev\\play\\brainwave-data\\2024-07-23-22-40-25\\raw.artifacts.csv modified at 2025-03-11 19:10:14.287826\n",
      "File C:\\dev\\play\\brainwave-data\\2024-07-23-22-40-25\\raw.edf modified at 2024-09-21 09:21:02\n",
      "File C:\\dev\\play\\brainwave-data\\2024-07-23-22-40-25\\raw.fif modified at 2024-09-09 09:22:06\n",
      "File C:\\dev\\play\\brainwave-data\\2024-07-23-22-40-25\\raw.night_events.csv modified at 2024-09-21 09:21:02\n",
      "File C:\\dev\\play\\brainwave-data\\2024-07-23-22-40-25\\raw.post_filter_psd_plot.png modified at 2024-09-21 09:21:10\n",
      "File C:\\dev\\play\\brainwave-data\\2024-07-23-22-40-25\\raw.pre_filter_psd_plot.png modified at 2024-09-21 09:21:08\n",
      "File C:\\dev\\play\\brainwave-data\\2024-07-23-22-40-25\\raw.sleep_stages.csv modified at 2024-09-09 09:22:06\n",
      "File C:\\dev\\play\\brainwave-data\\2024-07-23-22-40-25\\raw.sleep_stages.F8-M1.csv modified at 2024-09-21 09:21:12\n",
      "File C:\\dev\\play\\brainwave-data\\2024-07-23-22-40-25\\raw.sleep_stages.O2-M1.csv modified at 2024-09-09 09:22:06\n",
      "File C:\\dev\\play\\brainwave-data\\2024-07-23-22-40-25\\raw.sleep_stages.T4-M1.csv modified at 2024-09-21 09:21:20\n",
      "File C:\\dev\\play\\brainwave-data\\2024-07-23-22-40-25\\raw.spectrogram.F8-M1.png modified at 2024-09-21 09:21:18\n",
      "File C:\\dev\\play\\brainwave-data\\2024-07-23-22-40-25\\raw.spectrogram.O2-M1.png modified at 2024-09-09 09:22:10\n",
      "File C:\\dev\\play\\brainwave-data\\2024-07-23-22-40-25\\raw.spectrogram.T4-M1.png modified at 2024-09-21 09:21:28\n",
      "Skipping upload of C:\\dev\\play\\brainwave-data\\2024-07-23-22-40-25, no files modified since last checksum.\n",
      "File C:\\dev\\play\\brainwave-data\\2024-07-24-18-57-03\\2024-07-24-18-57-03.brainflow.csv.bz2 modified at 2024-09-25 19:07:28\n",
      "File C:\\dev\\play\\brainwave-data\\2024-07-24-18-57-03\\directory_checksum.md5 modified at 2024-12-21 08:41:54\n",
      "File C:\\dev\\play\\brainwave-data\\2024-07-24-18-57-03\\raw.edf modified at 2024-09-09 09:22:12\n",
      "File C:\\dev\\play\\brainwave-data\\2024-07-24-18-57-03\\raw.fif.bz2 modified at 2024-09-25 18:39:04\n",
      "Skipping upload of C:\\dev\\play\\brainwave-data\\2024-07-24-18-57-03, no files modified since last checksum.\n",
      "File C:\\dev\\play\\brainwave-data\\2024-07-24-22-42-26\\directory_checksum.md5 modified at 2025-04-12 07:15:07.149157\n",
      "File C:\\dev\\play\\brainwave-data\\2024-07-24-22-42-26\\raw.artifacts.csv modified at 2025-03-11 19:10:19.068795\n",
      "File C:\\dev\\play\\brainwave-data\\2024-07-24-22-42-26\\raw.average_slow_wave.png modified at 2025-01-10 17:44:20\n",
      "File C:\\dev\\play\\brainwave-data\\2024-07-24-22-42-26\\raw.edf modified at 2025-01-10 17:44:02\n",
      "File C:\\dev\\play\\brainwave-data\\2024-07-24-22-42-26\\raw.fif modified at 2024-09-09 09:22:50\n",
      "File C:\\dev\\play\\brainwave-data\\2024-07-24-22-42-26\\raw.final_wake_model.csv modified at 2024-12-19 17:23:20\n",
      "File C:\\dev\\play\\brainwave-data\\2024-07-24-22-42-26\\raw.final_wake_model_post_human.csv modified at 2024-12-19 17:23:22\n",
      "File C:\\dev\\play\\brainwave-data\\2024-07-24-22-42-26\\raw.final_wake_model_post_human.json modified at 2024-12-19 17:23:24\n",
      "File C:\\dev\\play\\brainwave-data\\2024-07-24-22-42-26\\raw.microwakings.csv modified at 2025-01-08 11:15:00\n",
      "File C:\\dev\\play\\brainwave-data\\2024-07-24-22-42-26\\raw.night_events.csv modified at 2024-12-02 03:14:38\n",
      "File C:\\dev\\play\\brainwave-data\\2024-07-24-22-42-26\\raw.physical_features.1s.csv modified at 2025-03-20 07:41:39.473580\n"
     ]
    },
    {
     "name": "stderr",
     "output_type": "stream",
     "text": [
      "  8%|▊         | 14/169 [01:05<10:56,  4.24s/it]"
     ]
    },
    {
     "name": "stdout",
     "output_type": "stream",
     "text": [
      "File C:\\dev\\play\\brainwave-data\\2024-07-24-22-42-26\\raw.physical_features.csv modified at 2025-01-10 18:32:24\n",
      "File C:\\dev\\play\\brainwave-data\\2024-07-24-22-42-26\\raw.post_filter_psd_plot.png modified at 2025-01-10 17:44:04\n",
      "File C:\\dev\\play\\brainwave-data\\2024-07-24-22-42-26\\raw.post_human.csv modified at 2025-04-22 07:58:26.078297\n"
     ]
    },
    {
     "name": "stderr",
     "output_type": "stream",
     "text": [
      "  8%|▊         | 14/169 [01:09<10:56,  4.24s/it]"
     ]
    },
    {
     "name": "stdout",
     "output_type": "stream",
     "text": [
      "C:\\dev\\play\\brainwave-data\\2024-07-24-22-42-26\\directory_checksum.md5 uploading to 2024-07-24-22-42-26/directory_checksum.md5, does_not_exist=False has_changed=True\n"
     ]
    },
    {
     "name": "stderr",
     "output_type": "stream",
     "text": [
      "  8%|▊         | 14/169 [01:09<10:56,  4.24s/it]"
     ]
    },
    {
     "name": "stdout",
     "output_type": "stream",
     "text": [
      "Skipping C:\\dev\\play\\brainwave-data\\2024-07-24-22-42-26\\raw.artifacts.csv, identical file already exists in GCS.\n",
      "Skipping C:\\dev\\play\\brainwave-data\\2024-07-24-22-42-26\\raw.average_slow_wave.png, identical file already exists in GCS.\n",
      "Skipping C:\\dev\\play\\brainwave-data\\2024-07-24-22-42-26\\raw.edf, identical file already exists in GCS.\n"
     ]
    },
    {
     "name": "stderr",
     "output_type": "stream",
     "text": [
      "  8%|▊         | 14/169 [01:10<10:56,  4.24s/it]"
     ]
    },
    {
     "name": "stdout",
     "output_type": "stream",
     "text": [
      "Skipping C:\\dev\\play\\brainwave-data\\2024-07-24-22-42-26\\raw.fif, identical file already exists in GCS.\n",
      "Skipping C:\\dev\\play\\brainwave-data\\2024-07-24-22-42-26\\raw.final_wake_model.csv, identical file already exists in GCS.\n",
      "Skipping C:\\dev\\play\\brainwave-data\\2024-07-24-22-42-26\\raw.final_wake_model_post_human.csv, identical file already exists in GCS.\n",
      "Skipping C:\\dev\\play\\brainwave-data\\2024-07-24-22-42-26\\raw.final_wake_model_post_human.json, identical file already exists in GCS.\n"
     ]
    },
    {
     "name": "stderr",
     "output_type": "stream",
     "text": [
      "  8%|▊         | 14/169 [01:10<10:56,  4.24s/it]"
     ]
    },
    {
     "name": "stdout",
     "output_type": "stream",
     "text": [
      "Skipping C:\\dev\\play\\brainwave-data\\2024-07-24-22-42-26\\raw.microwakings.csv, identical file already exists in GCS.\n",
      "Skipping C:\\dev\\play\\brainwave-data\\2024-07-24-22-42-26\\raw.night_events.csv, identical file already exists in GCS.\n",
      "Skipping C:\\dev\\play\\brainwave-data\\2024-07-24-22-42-26\\raw.physical_features.1s.csv, identical file already exists in GCS.\n",
      "Skipping C:\\dev\\play\\brainwave-data\\2024-07-24-22-42-26\\raw.physical_features.csv, identical file already exists in GCS.\n"
     ]
    },
    {
     "name": "stderr",
     "output_type": "stream",
     "text": [
      "  8%|▊         | 14/169 [01:10<10:56,  4.24s/it]"
     ]
    },
    {
     "name": "stdout",
     "output_type": "stream",
     "text": [
      "Skipping C:\\dev\\play\\brainwave-data\\2024-07-24-22-42-26\\raw.post_filter_psd_plot.png, identical file already exists in GCS.\n",
      "Skipping C:\\dev\\play\\brainwave-data\\2024-07-24-22-42-26\\raw.post_human.csv, identical file already exists in GCS.\n"
     ]
    },
    {
     "name": "stderr",
     "output_type": "stream",
     "text": [
      "  8%|▊         | 14/169 [01:10<10:56,  4.24s/it]"
     ]
    },
    {
     "name": "stdout",
     "output_type": "stream",
     "text": [
      "Skipping C:\\dev\\play\\brainwave-data\\2024-07-24-22-42-26\\raw.post_yasa.csv, identical file already exists in GCS.\n",
      "Skipping C:\\dev\\play\\brainwave-data\\2024-07-24-22-42-26\\raw.pre_filter_psd_plot.png, identical file already exists in GCS.\n",
      "Skipping C:\\dev\\play\\brainwave-data\\2024-07-24-22-42-26\\raw.sleep.json, identical file already exists in GCS.\n",
      "Skipping C:\\dev\\play\\brainwave-data\\2024-07-24-22-42-26\\raw.sleep_stages.csv, identical file already exists in GCS.\n",
      "Skipping C:\\dev\\play\\brainwave-data\\2024-07-24-22-42-26\\raw.sleep_stages.F8-M1.csv, identical file already exists in GCS.\n"
     ]
    },
    {
     "name": "stderr",
     "output_type": "stream",
     "text": [
      "  8%|▊         | 14/169 [01:11<10:56,  4.24s/it]"
     ]
    },
    {
     "name": "stdout",
     "output_type": "stream",
     "text": [
      "Skipping C:\\dev\\play\\brainwave-data\\2024-07-24-22-42-26\\raw.sleep_stages.O2-M1.csv, identical file already exists in GCS.\n",
      "Skipping C:\\dev\\play\\brainwave-data\\2024-07-24-22-42-26\\raw.sleep_stages.T4-M1.csv, identical file already exists in GCS.\n",
      "Skipping C:\\dev\\play\\brainwave-data\\2024-07-24-22-42-26\\raw.spectrogram.F8-M1.png, identical file already exists in GCS.\n",
      "Skipping C:\\dev\\play\\brainwave-data\\2024-07-24-22-42-26\\raw.spectrogram.O2-M1.png, identical file already exists in GCS.\n"
     ]
    },
    {
     "name": "stderr",
     "output_type": "stream",
     "text": [
      "  8%|▊         | 14/169 [01:11<10:56,  4.24s/it]"
     ]
    },
    {
     "name": "stdout",
     "output_type": "stream",
     "text": [
      "Skipping C:\\dev\\play\\brainwave-data\\2024-07-24-22-42-26\\raw.spectrogram.T4-M1.png, identical file already exists in GCS.\n",
      "Skipping C:\\dev\\play\\brainwave-data\\2024-07-24-22-42-26\\raw.spindle_summary.csv, identical file already exists in GCS.\n",
      "Skipping C:\\dev\\play\\brainwave-data\\2024-07-24-22-42-26\\raw.sw_summary.csv, identical file already exists in GCS.\n",
      "Skipping C:\\dev\\play\\brainwave-data\\2024-07-24-22-42-26\\raw.with_features.csv, identical file already exists in GCS.\n"
     ]
    },
    {
     "name": "stderr",
     "output_type": "stream",
     "text": [
      "                                                \r"
     ]
    },
    {
     "name": "stdout",
     "output_type": "stream",
     "text": [
      "Skipping C:\\dev\\play\\brainwave-data\\2024-07-24-22-42-26\\raw.with_microwakings_multi1_debug.edf, identical file already exists in GCS.\n",
      "Skipping C:\\dev\\play\\brainwave-data\\2024-07-24-22-42-26\\raw.yasa.csv, identical file already exists in GCS.\n",
      "Uploaded directory checksum for C:\\dev\\play\\brainwave-data\\2024-07-24-22-42-26 to 2024-07-24-22-42-26/directory_checksum.md5\n",
      "File C:\\dev\\play\\brainwave-data\\2024-07-26-22-36-26\\directory_checksum.md5 modified at 2025-04-12 07:15:12.221400\n",
      "File C:\\dev\\play\\brainwave-data\\2024-07-26-22-36-26\\raw.artifacts.csv modified at 2025-03-11 19:10:34.508272\n",
      "File C:\\dev\\play\\brainwave-data\\2024-07-26-22-36-26\\raw.average_slow_wave.png modified at 2025-01-10 17:45:12\n",
      "File C:\\dev\\play\\brainwave-data\\2024-07-26-22-36-26\\raw.edf modified at 2025-01-10 17:44:24\n",
      "File C:\\dev\\play\\brainwave-data\\2024-07-26-22-36-26\\raw.fif modified at 2024-09-09 09:24:54\n",
      "File C:\\dev\\play\\brainwave-data\\2024-07-26-22-36-26\\raw.final_wake_model.csv modified at 2024-12-19 17:23:26\n"
     ]
    },
    {
     "name": "stderr",
     "output_type": "stream",
     "text": [
      "  9%|▉         | 16/169 [01:11<09:14,  3.62s/it]"
     ]
    },
    {
     "name": "stdout",
     "output_type": "stream",
     "text": [
      "File C:\\dev\\play\\brainwave-data\\2024-07-26-22-36-26\\raw.final_wake_model_post_human.csv modified at 2024-12-19 17:23:30\n",
      "File C:\\dev\\play\\brainwave-data\\2024-07-26-22-36-26\\raw.final_wake_model_post_human.json modified at 2024-12-19 17:23:32\n",
      "File C:\\dev\\play\\brainwave-data\\2024-07-26-22-36-26\\raw.microwakings.csv modified at 2025-01-08 11:15:10\n",
      "File C:\\dev\\play\\brainwave-data\\2024-07-26-22-36-26\\raw.night_events.csv modified at 2024-12-02 03:15:06\n",
      "File C:\\dev\\play\\brainwave-data\\2024-07-26-22-36-26\\raw.physical_features.1s.csv modified at 2025-03-20 07:41:41.850151\n",
      "File C:\\dev\\play\\brainwave-data\\2024-07-26-22-36-26\\raw.physical_features.csv modified at 2025-01-10 18:32:24\n",
      "File C:\\dev\\play\\brainwave-data\\2024-07-26-22-36-26\\raw.post_filter_psd_plot.png modified at 2025-01-10 17:44:28\n",
      "File C:\\dev\\play\\brainwave-data\\2024-07-26-22-36-26\\raw.post_human.csv modified at 2025-04-22 07:58:29.197815\n"
     ]
    },
    {
     "name": "stderr",
     "output_type": "stream",
     "text": [
      "  9%|▉         | 16/169 [01:15<09:14,  3.62s/it]"
     ]
    },
    {
     "name": "stdout",
     "output_type": "stream",
     "text": [
      "C:\\dev\\play\\brainwave-data\\2024-07-26-22-36-26\\directory_checksum.md5 uploading to 2024-07-26-22-36-26/directory_checksum.md5, does_not_exist=False has_changed=True\n"
     ]
    },
    {
     "name": "stderr",
     "output_type": "stream",
     "text": [
      "  9%|▉         | 16/169 [01:15<09:14,  3.62s/it]"
     ]
    },
    {
     "name": "stdout",
     "output_type": "stream",
     "text": [
      "Skipping C:\\dev\\play\\brainwave-data\\2024-07-26-22-36-26\\raw.artifacts.csv, identical file already exists in GCS.\n",
      "Skipping C:\\dev\\play\\brainwave-data\\2024-07-26-22-36-26\\raw.average_slow_wave.png, identical file already exists in GCS.\n"
     ]
    },
    {
     "name": "stderr",
     "output_type": "stream",
     "text": [
      "  9%|▉         | 16/169 [01:16<09:14,  3.62s/it]"
     ]
    },
    {
     "name": "stdout",
     "output_type": "stream",
     "text": [
      "Skipping C:\\dev\\play\\brainwave-data\\2024-07-26-22-36-26\\raw.edf, identical file already exists in GCS.\n"
     ]
    },
    {
     "name": "stderr",
     "output_type": "stream",
     "text": [
      "  9%|▉         | 16/169 [01:17<09:14,  3.62s/it]"
     ]
    },
    {
     "name": "stdout",
     "output_type": "stream",
     "text": [
      "Skipping C:\\dev\\play\\brainwave-data\\2024-07-26-22-36-26\\raw.fif, identical file already exists in GCS.\n",
      "Skipping C:\\dev\\play\\brainwave-data\\2024-07-26-22-36-26\\raw.final_wake_model.csv, identical file already exists in GCS.\n",
      "Skipping C:\\dev\\play\\brainwave-data\\2024-07-26-22-36-26\\raw.final_wake_model_post_human.csv, identical file already exists in GCS.\n",
      "Skipping C:\\dev\\play\\brainwave-data\\2024-07-26-22-36-26\\raw.final_wake_model_post_human.json, identical file already exists in GCS.\n"
     ]
    },
    {
     "name": "stderr",
     "output_type": "stream",
     "text": [
      "  9%|▉         | 16/169 [01:17<09:14,  3.62s/it]"
     ]
    },
    {
     "name": "stdout",
     "output_type": "stream",
     "text": [
      "Skipping C:\\dev\\play\\brainwave-data\\2024-07-26-22-36-26\\raw.microwakings.csv, identical file already exists in GCS.\n",
      "Skipping C:\\dev\\play\\brainwave-data\\2024-07-26-22-36-26\\raw.night_events.csv, identical file already exists in GCS.\n",
      "Skipping C:\\dev\\play\\brainwave-data\\2024-07-26-22-36-26\\raw.physical_features.1s.csv, identical file already exists in GCS.\n",
      "Skipping C:\\dev\\play\\brainwave-data\\2024-07-26-22-36-26\\raw.physical_features.csv, identical file already exists in GCS.\n"
     ]
    },
    {
     "name": "stderr",
     "output_type": "stream",
     "text": [
      "  9%|▉         | 16/169 [01:17<09:14,  3.62s/it]"
     ]
    },
    {
     "name": "stdout",
     "output_type": "stream",
     "text": [
      "Skipping C:\\dev\\play\\brainwave-data\\2024-07-26-22-36-26\\raw.post_filter_psd_plot.png, identical file already exists in GCS.\n"
     ]
    },
    {
     "name": "stderr",
     "output_type": "stream",
     "text": [
      "  9%|▉         | 16/169 [01:17<09:14,  3.62s/it]"
     ]
    },
    {
     "name": "stdout",
     "output_type": "stream",
     "text": [
      "Skipping C:\\dev\\play\\brainwave-data\\2024-07-26-22-36-26\\raw.post_human.csv, identical file already exists in GCS.\n"
     ]
    },
    {
     "name": "stderr",
     "output_type": "stream",
     "text": [
      "  9%|▉         | 16/169 [01:18<09:14,  3.62s/it]"
     ]
    },
    {
     "name": "stdout",
     "output_type": "stream",
     "text": [
      "Skipping C:\\dev\\play\\brainwave-data\\2024-07-26-22-36-26\\raw.post_yasa.csv, identical file already exists in GCS.\n",
      "Skipping C:\\dev\\play\\brainwave-data\\2024-07-26-22-36-26\\raw.pre_filter_psd_plot.png, identical file already exists in GCS.\n",
      "Skipping C:\\dev\\play\\brainwave-data\\2024-07-26-22-36-26\\raw.sleep.json, identical file already exists in GCS.\n",
      "Skipping C:\\dev\\play\\brainwave-data\\2024-07-26-22-36-26\\raw.sleep_stages.csv, identical file already exists in GCS.\n"
     ]
    },
    {
     "name": "stderr",
     "output_type": "stream",
     "text": [
      "  9%|▉         | 16/169 [01:18<09:14,  3.62s/it]"
     ]
    },
    {
     "name": "stdout",
     "output_type": "stream",
     "text": [
      "Skipping C:\\dev\\play\\brainwave-data\\2024-07-26-22-36-26\\raw.sleep_stages.F8-M1.csv, identical file already exists in GCS.\n",
      "Skipping C:\\dev\\play\\brainwave-data\\2024-07-26-22-36-26\\raw.sleep_stages.O2-M1.csv, identical file already exists in GCS.\n",
      "Skipping C:\\dev\\play\\brainwave-data\\2024-07-26-22-36-26\\raw.sleep_stages.T4-M1.csv, identical file already exists in GCS.\n",
      "Skipping C:\\dev\\play\\brainwave-data\\2024-07-26-22-36-26\\raw.spectrogram.F8-M1.png, identical file already exists in GCS.\n"
     ]
    },
    {
     "name": "stderr",
     "output_type": "stream",
     "text": [
      "  9%|▉         | 16/169 [01:18<09:14,  3.62s/it]"
     ]
    },
    {
     "name": "stdout",
     "output_type": "stream",
     "text": [
      "Skipping C:\\dev\\play\\brainwave-data\\2024-07-26-22-36-26\\raw.spectrogram.O2-M1.png, identical file already exists in GCS.\n",
      "Skipping C:\\dev\\play\\brainwave-data\\2024-07-26-22-36-26\\raw.spectrogram.T4-M1.png, identical file already exists in GCS.\n",
      "Skipping C:\\dev\\play\\brainwave-data\\2024-07-26-22-36-26\\raw.spindle_summary.csv, identical file already exists in GCS.\n",
      "Skipping C:\\dev\\play\\brainwave-data\\2024-07-26-22-36-26\\raw.sw_summary.csv, identical file already exists in GCS.\n"
     ]
    },
    {
     "name": "stderr",
     "output_type": "stream",
     "text": [
      "  9%|▉         | 16/169 [01:18<09:14,  3.62s/it]"
     ]
    },
    {
     "name": "stdout",
     "output_type": "stream",
     "text": [
      "Skipping C:\\dev\\play\\brainwave-data\\2024-07-26-22-36-26\\raw.with_features.csv, identical file already exists in GCS.\n",
      "Skipping C:\\dev\\play\\brainwave-data\\2024-07-26-22-36-26\\raw.with_microwakings_multi1_debug.edf, identical file already exists in GCS.\n",
      "Skipping C:\\dev\\play\\brainwave-data\\2024-07-26-22-36-26\\raw.yasa.csv, identical file already exists in GCS.\n"
     ]
    },
    {
     "name": "stderr",
     "output_type": "stream",
     "text": [
      " 10%|█         | 17/169 [01:19<11:31,  4.55s/it]"
     ]
    },
    {
     "name": "stdout",
     "output_type": "stream",
     "text": [
      "Uploaded directory checksum for C:\\dev\\play\\brainwave-data\\2024-07-26-22-36-26 to 2024-07-26-22-36-26/directory_checksum.md5\n",
      "File C:\\dev\\play\\brainwave-data\\2024-07-27-22-16-21\\directory_checksum.md5 modified at 2025-04-12 07:15:17.559199\n",
      "File C:\\dev\\play\\brainwave-data\\2024-07-27-22-16-21\\raw.artifacts.csv modified at 2025-03-11 19:10:46.229510\n",
      "File C:\\dev\\play\\brainwave-data\\2024-07-27-22-16-21\\raw.average_slow_wave.png modified at 2025-01-10 17:46:06\n",
      "File C:\\dev\\play\\brainwave-data\\2024-07-27-22-16-21\\raw.edf modified at 2025-01-10 17:45:16\n",
      "File C:\\dev\\play\\brainwave-data\\2024-07-27-22-16-21\\raw.fif modified at 2024-09-09 09:27:00\n",
      "File C:\\dev\\play\\brainwave-data\\2024-07-27-22-16-21\\raw.final_wake_model.csv modified at 2024-12-19 17:23:34\n",
      "File C:\\dev\\play\\brainwave-data\\2024-07-27-22-16-21\\raw.final_wake_model_post_human.csv modified at 2024-12-19 17:23:38\n",
      "File C:\\dev\\play\\brainwave-data\\2024-07-27-22-16-21\\raw.final_wake_model_post_human.json modified at 2024-12-19 17:23:40\n",
      "File C:\\dev\\play\\brainwave-data\\2024-07-27-22-16-21\\raw.microwakings.csv modified at 2025-01-08 11:15:22\n",
      "File C:\\dev\\play\\brainwave-data\\2024-07-27-22-16-21\\raw.night_events.csv modified at 2024-12-02 03:16:12\n",
      "File C:\\dev\\play\\brainwave-data\\2024-07-27-22-16-21\\raw.physical_features.1s.csv modified at 2025-03-20 07:41:44.472950\n",
      "File C:\\dev\\play\\brainwave-data\\2024-07-27-22-16-21\\raw.physical_features.csv modified at 2025-01-10 18:32:26\n",
      "File C:\\dev\\play\\brainwave-data\\2024-07-27-22-16-21\\raw.post_filter_psd_plot.png modified at 2025-01-10 17:45:20\n",
      "File C:\\dev\\play\\brainwave-data\\2024-07-27-22-16-21\\raw.post_human.csv modified at 2025-04-22 07:58:32.483106\n"
     ]
    },
    {
     "name": "stderr",
     "output_type": "stream",
     "text": [
      " 10%|█         | 17/169 [01:22<11:31,  4.55s/it]"
     ]
    },
    {
     "name": "stdout",
     "output_type": "stream",
     "text": [
      "C:\\dev\\play\\brainwave-data\\2024-07-27-22-16-21\\directory_checksum.md5 uploading to 2024-07-27-22-16-21/directory_checksum.md5, does_not_exist=False has_changed=True\n"
     ]
    },
    {
     "name": "stderr",
     "output_type": "stream",
     "text": [
      " 10%|█         | 17/169 [01:23<11:31,  4.55s/it]"
     ]
    },
    {
     "name": "stdout",
     "output_type": "stream",
     "text": [
      "Skipping C:\\dev\\play\\brainwave-data\\2024-07-27-22-16-21\\raw.artifacts.csv, identical file already exists in GCS.\n",
      "Skipping C:\\dev\\play\\brainwave-data\\2024-07-27-22-16-21\\raw.average_slow_wave.png, identical file already exists in GCS.\n"
     ]
    },
    {
     "name": "stderr",
     "output_type": "stream",
     "text": [
      " 10%|█         | 17/169 [01:23<11:31,  4.55s/it]"
     ]
    },
    {
     "name": "stdout",
     "output_type": "stream",
     "text": [
      "Skipping C:\\dev\\play\\brainwave-data\\2024-07-27-22-16-21\\raw.edf, identical file already exists in GCS.\n"
     ]
    },
    {
     "name": "stderr",
     "output_type": "stream",
     "text": [
      " 10%|█         | 17/169 [01:24<11:31,  4.55s/it]"
     ]
    },
    {
     "name": "stdout",
     "output_type": "stream",
     "text": [
      "Skipping C:\\dev\\play\\brainwave-data\\2024-07-27-22-16-21\\raw.fif, identical file already exists in GCS.\n",
      "Skipping C:\\dev\\play\\brainwave-data\\2024-07-27-22-16-21\\raw.final_wake_model.csv, identical file already exists in GCS.\n",
      "Skipping C:\\dev\\play\\brainwave-data\\2024-07-27-22-16-21\\raw.final_wake_model_post_human.csv, identical file already exists in GCS.\n",
      "Skipping C:\\dev\\play\\brainwave-data\\2024-07-27-22-16-21\\raw.final_wake_model_post_human.json, identical file already exists in GCS.\n"
     ]
    },
    {
     "name": "stderr",
     "output_type": "stream",
     "text": [
      " 10%|█         | 17/169 [01:24<11:31,  4.55s/it]"
     ]
    },
    {
     "name": "stdout",
     "output_type": "stream",
     "text": [
      "Skipping C:\\dev\\play\\brainwave-data\\2024-07-27-22-16-21\\raw.microwakings.csv, identical file already exists in GCS.\n",
      "Skipping C:\\dev\\play\\brainwave-data\\2024-07-27-22-16-21\\raw.night_events.csv, identical file already exists in GCS.\n",
      "Skipping C:\\dev\\play\\brainwave-data\\2024-07-27-22-16-21\\raw.physical_features.1s.csv, identical file already exists in GCS.\n",
      "Skipping C:\\dev\\play\\brainwave-data\\2024-07-27-22-16-21\\raw.physical_features.csv, identical file already exists in GCS.\n"
     ]
    },
    {
     "name": "stderr",
     "output_type": "stream",
     "text": [
      " 10%|█         | 17/169 [01:24<11:31,  4.55s/it]"
     ]
    },
    {
     "name": "stdout",
     "output_type": "stream",
     "text": [
      "Skipping C:\\dev\\play\\brainwave-data\\2024-07-27-22-16-21\\raw.post_filter_psd_plot.png, identical file already exists in GCS.\n"
     ]
    },
    {
     "name": "stderr",
     "output_type": "stream",
     "text": [
      " 10%|█         | 17/169 [01:24<11:31,  4.55s/it]"
     ]
    },
    {
     "name": "stdout",
     "output_type": "stream",
     "text": [
      "Skipping C:\\dev\\play\\brainwave-data\\2024-07-27-22-16-21\\raw.post_human.csv, identical file already exists in GCS.\n"
     ]
    },
    {
     "name": "stderr",
     "output_type": "stream",
     "text": [
      " 10%|█         | 17/169 [01:25<11:31,  4.55s/it]"
     ]
    },
    {
     "name": "stdout",
     "output_type": "stream",
     "text": [
      "Skipping C:\\dev\\play\\brainwave-data\\2024-07-27-22-16-21\\raw.post_yasa.csv, identical file already exists in GCS.\n",
      "Skipping C:\\dev\\play\\brainwave-data\\2024-07-27-22-16-21\\raw.pre_filter_psd_plot.png, identical file already exists in GCS.\n",
      "Skipping C:\\dev\\play\\brainwave-data\\2024-07-27-22-16-21\\raw.sleep.json, identical file already exists in GCS.\n",
      "Skipping C:\\dev\\play\\brainwave-data\\2024-07-27-22-16-21\\raw.sleep_stages.csv, identical file already exists in GCS.\n"
     ]
    },
    {
     "name": "stderr",
     "output_type": "stream",
     "text": [
      " 10%|█         | 17/169 [01:25<11:31,  4.55s/it]"
     ]
    },
    {
     "name": "stdout",
     "output_type": "stream",
     "text": [
      "Skipping C:\\dev\\play\\brainwave-data\\2024-07-27-22-16-21\\raw.sleep_stages.F8-M1.csv, identical file already exists in GCS.\n",
      "Skipping C:\\dev\\play\\brainwave-data\\2024-07-27-22-16-21\\raw.sleep_stages.O2-M1.csv, identical file already exists in GCS.\n",
      "Skipping C:\\dev\\play\\brainwave-data\\2024-07-27-22-16-21\\raw.sleep_stages.T4-M1.csv, identical file already exists in GCS.\n",
      "Skipping C:\\dev\\play\\brainwave-data\\2024-07-27-22-16-21\\raw.spectrogram.F8-M1.png, identical file already exists in GCS.\n"
     ]
    },
    {
     "name": "stderr",
     "output_type": "stream",
     "text": [
      " 10%|█         | 17/169 [01:25<11:31,  4.55s/it]"
     ]
    },
    {
     "name": "stdout",
     "output_type": "stream",
     "text": [
      "Skipping C:\\dev\\play\\brainwave-data\\2024-07-27-22-16-21\\raw.spectrogram.O2-M1.png, identical file already exists in GCS.\n",
      "Skipping C:\\dev\\play\\brainwave-data\\2024-07-27-22-16-21\\raw.spectrogram.T4-M1.png, identical file already exists in GCS.\n",
      "Skipping C:\\dev\\play\\brainwave-data\\2024-07-27-22-16-21\\raw.spindle_summary.csv, identical file already exists in GCS.\n",
      "Skipping C:\\dev\\play\\brainwave-data\\2024-07-27-22-16-21\\raw.sw_summary.csv, identical file already exists in GCS.\n"
     ]
    },
    {
     "name": "stderr",
     "output_type": "stream",
     "text": [
      " 10%|█         | 17/169 [01:26<11:31,  4.55s/it]"
     ]
    },
    {
     "name": "stdout",
     "output_type": "stream",
     "text": [
      "Skipping C:\\dev\\play\\brainwave-data\\2024-07-27-22-16-21\\raw.with_features.csv, identical file already exists in GCS.\n",
      "Skipping C:\\dev\\play\\brainwave-data\\2024-07-27-22-16-21\\raw.with_microwakings_multi1_debug.edf, identical file already exists in GCS.\n",
      "Skipping C:\\dev\\play\\brainwave-data\\2024-07-27-22-16-21\\raw.yasa.csv, identical file already exists in GCS.\n"
     ]
    },
    {
     "name": "stderr",
     "output_type": "stream",
     "text": [
      "                                                \r"
     ]
    },
    {
     "name": "stdout",
     "output_type": "stream",
     "text": [
      "Uploaded directory checksum for C:\\dev\\play\\brainwave-data\\2024-07-27-22-16-21 to 2024-07-27-22-16-21/directory_checksum.md5\n",
      "File C:\\dev\\play\\brainwave-data\\2024-07-28-22-29-49\\directory_checksum.md5 modified at 2025-03-11 20:53:21.746533\n",
      "File C:\\dev\\play\\brainwave-data\\2024-07-28-22-29-49\\raw.artifacts.csv modified at 2025-03-11 19:10:56.516922\n",
      "File C:\\dev\\play\\brainwave-data\\2024-07-28-22-29-49\\raw.average_slow_wave.png modified at 2024-09-14 08:23:12\n",
      "File C:\\dev\\play\\brainwave-data\\2024-07-28-22-29-49\\raw.edf modified at 2024-09-14 08:23:30\n",
      "File C:\\dev\\play\\brainwave-data\\2024-07-28-22-29-49\\raw.fif modified at 2024-09-09 09:28:42\n",
      "File C:\\dev\\play\\brainwave-data\\2024-07-28-22-29-49\\raw.microwakings.csv modified at 2024-09-14 08:23:26\n",
      "File C:\\dev\\play\\brainwave-data\\2024-07-28-22-29-49\\raw.night_events.csv modified at 2024-09-14 08:21:00\n",
      "File C:\\dev\\play\\brainwave-data\\2024-07-28-22-29-49\\raw.post_filter_psd_plot.png modified at 2024-09-14 08:21:20\n",
      "File C:\\dev\\play\\brainwave-data\\2024-07-28-22-29-49\\raw.pre_filter_psd_plot.png modified at 2024-09-14 08:21:14\n",
      "File C:\\dev\\play\\brainwave-data\\2024-07-28-22-29-49\\raw.sleep.json modified at 2024-09-14 08:23:14\n",
      "File C:\\dev\\play\\brainwave-data\\2024-07-28-22-29-49\\raw.sleep_stages.csv modified at 2024-09-14 08:22:36\n",
      "File C:\\dev\\play\\brainwave-data\\2024-07-28-22-29-49\\raw.sleep_stages.F8-M1.csv modified at 2024-09-14 08:21:24\n",
      "File C:\\dev\\play\\brainwave-data\\2024-07-28-22-29-49\\raw.sleep_stages.O2-M1.csv modified at 2024-09-14 08:22:14\n",
      "File C:\\dev\\play\\brainwave-data\\2024-07-28-22-29-49\\raw.sleep_stages.T4-M1.csv modified at 2024-09-14 08:21:50\n",
      "File C:\\dev\\play\\brainwave-data\\2024-07-28-22-29-49\\raw.spectrogram.F8-M1.png modified at 2024-09-14 08:21:46\n",
      "File C:\\dev\\play\\brainwave-data\\2024-07-28-22-29-49\\raw.spectrogram.O2-M1.png modified at 2024-09-14 08:22:36\n",
      "File C:\\dev\\play\\brainwave-data\\2024-07-28-22-29-49\\raw.spectrogram.T4-M1.png modified at 2024-09-14 08:22:10\n",
      "File C:\\dev\\play\\brainwave-data\\2024-07-28-22-29-49\\raw.sw_summary.csv modified at 2024-09-14 08:21:12\n"
     ]
    },
    {
     "name": "stderr",
     "output_type": "stream",
     "text": [
      " 11%|█         | 19/169 [01:26<09:43,  3.89s/it]"
     ]
    },
    {
     "name": "stdout",
     "output_type": "stream",
     "text": [
      "File C:\\dev\\play\\brainwave-data\\2024-07-28-22-29-49\\raw.with_features.csv modified at 2024-09-14 08:23:16\n",
      "Skipping upload of C:\\dev\\play\\brainwave-data\\2024-07-28-22-29-49, no files modified since last checksum.\n",
      "File C:\\dev\\play\\brainwave-data\\2024-08-03-22-57-15\\directory_checksum.md5 modified at 2025-04-12 07:15:22.404225\n",
      "File C:\\dev\\play\\brainwave-data\\2024-08-03-22-57-15\\raw.artifacts.csv modified at 2025-03-11 19:11:03.767797\n",
      "File C:\\dev\\play\\brainwave-data\\2024-08-03-22-57-15\\raw.average_slow_wave.png modified at 2025-01-10 17:46:40\n",
      "File C:\\dev\\play\\brainwave-data\\2024-08-03-22-57-15\\raw.edf modified at 2025-01-10 17:46:10\n",
      "File C:\\dev\\play\\brainwave-data\\2024-08-03-22-57-15\\raw.fif modified at 2024-09-09 09:29:56\n",
      "File C:\\dev\\play\\brainwave-data\\2024-08-03-22-57-15\\raw.final_wake_model.csv modified at 2024-12-18 07:41:58\n",
      "File C:\\dev\\play\\brainwave-data\\2024-08-03-22-57-15\\raw.microwakings.csv modified at 2025-01-08 11:15:32\n",
      "File C:\\dev\\play\\brainwave-data\\2024-08-03-22-57-15\\raw.night_events.csv modified at 2024-12-02 03:17:18\n",
      "File C:\\dev\\play\\brainwave-data\\2024-08-03-22-57-15\\raw.physical_features.1s.csv modified at 2025-03-20 07:41:46.513906\n",
      "File C:\\dev\\play\\brainwave-data\\2024-08-03-22-57-15\\raw.physical_features.csv modified at 2025-01-10 18:32:26\n",
      "File C:\\dev\\play\\brainwave-data\\2024-08-03-22-57-15\\raw.post_filter_psd_plot.png modified at 2025-01-10 17:46:14\n",
      "File C:\\dev\\play\\brainwave-data\\2024-08-03-22-57-15\\raw.post_human.csv modified at 2025-04-22 07:58:34.401898\n"
     ]
    },
    {
     "name": "stderr",
     "output_type": "stream",
     "text": [
      " 11%|█         | 19/169 [01:30<09:43,  3.89s/it]"
     ]
    },
    {
     "name": "stdout",
     "output_type": "stream",
     "text": [
      "C:\\dev\\play\\brainwave-data\\2024-08-03-22-57-15\\directory_checksum.md5 uploading to 2024-08-03-22-57-15/directory_checksum.md5, does_not_exist=False has_changed=True\n"
     ]
    },
    {
     "name": "stderr",
     "output_type": "stream",
     "text": [
      " 11%|█         | 19/169 [01:30<09:43,  3.89s/it]"
     ]
    },
    {
     "name": "stdout",
     "output_type": "stream",
     "text": [
      "Skipping C:\\dev\\play\\brainwave-data\\2024-08-03-22-57-15\\raw.artifacts.csv, identical file already exists in GCS.\n",
      "Skipping C:\\dev\\play\\brainwave-data\\2024-08-03-22-57-15\\raw.average_slow_wave.png, identical file already exists in GCS.\n"
     ]
    },
    {
     "name": "stderr",
     "output_type": "stream",
     "text": [
      " 11%|█         | 19/169 [01:30<09:43,  3.89s/it]"
     ]
    },
    {
     "name": "stdout",
     "output_type": "stream",
     "text": [
      "Skipping C:\\dev\\play\\brainwave-data\\2024-08-03-22-57-15\\raw.edf, identical file already exists in GCS.\n"
     ]
    },
    {
     "name": "stderr",
     "output_type": "stream",
     "text": [
      " 11%|█         | 19/169 [01:31<09:43,  3.89s/it]"
     ]
    },
    {
     "name": "stdout",
     "output_type": "stream",
     "text": [
      "Skipping C:\\dev\\play\\brainwave-data\\2024-08-03-22-57-15\\raw.fif, identical file already exists in GCS.\n",
      "Skipping C:\\dev\\play\\brainwave-data\\2024-08-03-22-57-15\\raw.final_wake_model.csv, identical file already exists in GCS.\n",
      "Skipping C:\\dev\\play\\brainwave-data\\2024-08-03-22-57-15\\raw.microwakings.csv, identical file already exists in GCS.\n",
      "Skipping C:\\dev\\play\\brainwave-data\\2024-08-03-22-57-15\\raw.night_events.csv, identical file already exists in GCS.\n"
     ]
    },
    {
     "name": "stderr",
     "output_type": "stream",
     "text": [
      " 11%|█         | 19/169 [01:31<09:43,  3.89s/it]"
     ]
    },
    {
     "name": "stdout",
     "output_type": "stream",
     "text": [
      "Skipping C:\\dev\\play\\brainwave-data\\2024-08-03-22-57-15\\raw.physical_features.1s.csv, identical file already exists in GCS.\n",
      "Skipping C:\\dev\\play\\brainwave-data\\2024-08-03-22-57-15\\raw.physical_features.csv, identical file already exists in GCS.\n",
      "Skipping C:\\dev\\play\\brainwave-data\\2024-08-03-22-57-15\\raw.post_filter_psd_plot.png, identical file already exists in GCS.\n"
     ]
    },
    {
     "name": "stderr",
     "output_type": "stream",
     "text": [
      "                                                \r"
     ]
    },
    {
     "name": "stdout",
     "output_type": "stream",
     "text": [
      "Skipping C:\\dev\\play\\brainwave-data\\2024-08-03-22-57-15\\raw.post_human.csv, identical file already exists in GCS.\n",
      "Skipping C:\\dev\\play\\brainwave-data\\2024-08-03-22-57-15\\raw.post_yasa.csv, identical file already exists in GCS.\n"
     ]
    },
    {
     "name": "stderr",
     "output_type": "stream",
     "text": [
      " 11%|█         | 19/169 [01:32<09:43,  3.89s/it]"
     ]
    },
    {
     "name": "stdout",
     "output_type": "stream",
     "text": [
      "Skipping C:\\dev\\play\\brainwave-data\\2024-08-03-22-57-15\\raw.pre_filter_psd_plot.png, identical file already exists in GCS.\n",
      "Skipping C:\\dev\\play\\brainwave-data\\2024-08-03-22-57-15\\raw.sleep.json, identical file already exists in GCS.\n",
      "Skipping C:\\dev\\play\\brainwave-data\\2024-08-03-22-57-15\\raw.sleep_stages.csv, identical file already exists in GCS.\n",
      "Skipping C:\\dev\\play\\brainwave-data\\2024-08-03-22-57-15\\raw.sleep_stages.F8-M1.csv, identical file already exists in GCS.\n"
     ]
    },
    {
     "name": "stderr",
     "output_type": "stream",
     "text": [
      " 11%|█         | 19/169 [01:32<09:43,  3.89s/it]"
     ]
    },
    {
     "name": "stdout",
     "output_type": "stream",
     "text": [
      "Skipping C:\\dev\\play\\brainwave-data\\2024-08-03-22-57-15\\raw.sleep_stages.O2-M1.csv, identical file already exists in GCS.\n",
      "Skipping C:\\dev\\play\\brainwave-data\\2024-08-03-22-57-15\\raw.sleep_stages.T4-M1.csv, identical file already exists in GCS.\n",
      "Skipping C:\\dev\\play\\brainwave-data\\2024-08-03-22-57-15\\raw.spectrogram.F8-M1.png, identical file already exists in GCS.\n",
      "Skipping C:\\dev\\play\\brainwave-data\\2024-08-03-22-57-15\\raw.spectrogram.O2-M1.png, identical file already exists in GCS.\n",
      "Skipping C:\\dev\\play\\brainwave-data\\2024-08-03-22-57-15\\raw.spectrogram.T4-M1.png, identical file already exists in GCS.\n"
     ]
    },
    {
     "name": "stderr",
     "output_type": "stream",
     "text": [
      " 11%|█         | 19/169 [01:32<09:43,  3.89s/it]"
     ]
    },
    {
     "name": "stdout",
     "output_type": "stream",
     "text": [
      "Skipping C:\\dev\\play\\brainwave-data\\2024-08-03-22-57-15\\raw.spindle_summary.csv, identical file already exists in GCS.\n",
      "Skipping C:\\dev\\play\\brainwave-data\\2024-08-03-22-57-15\\raw.sw_summary.csv, identical file already exists in GCS.\n",
      "Skipping C:\\dev\\play\\brainwave-data\\2024-08-03-22-57-15\\raw.with_features.csv, identical file already exists in GCS.\n",
      "Skipping C:\\dev\\play\\brainwave-data\\2024-08-03-22-57-15\\raw.with_microwakings_multi1_debug.edf, identical file already exists in GCS.\n",
      "Skipping C:\\dev\\play\\brainwave-data\\2024-08-03-22-57-15\\raw.yasa.csv, identical file already exists in GCS.\n"
     ]
    },
    {
     "name": "stderr",
     "output_type": "stream",
     "text": [
      " 12%|█▏        | 20/169 [01:32<11:18,  4.55s/it]"
     ]
    },
    {
     "name": "stdout",
     "output_type": "stream",
     "text": [
      "Uploaded directory checksum for C:\\dev\\play\\brainwave-data\\2024-08-03-22-57-15 to 2024-08-03-22-57-15/directory_checksum.md5\n",
      "File C:\\dev\\play\\brainwave-data\\2024-08-18-21-33-07\\directory_checksum.md5 modified at 2025-04-12 07:15:27.213560\n",
      "File C:\\dev\\play\\brainwave-data\\2024-08-18-21-33-07\\raw.artifacts.csv modified at 2025-03-11 19:11:14.770861\n",
      "File C:\\dev\\play\\brainwave-data\\2024-08-18-21-33-07\\raw.average_slow_wave.png modified at 2025-01-10 17:47:34\n",
      "File C:\\dev\\play\\brainwave-data\\2024-08-18-21-33-07\\raw.average_spindle.png modified at 2024-09-09 09:30:12\n",
      "File C:\\dev\\play\\brainwave-data\\2024-08-18-21-33-07\\raw.edf modified at 2025-01-10 17:46:44\n",
      "File C:\\dev\\play\\brainwave-data\\2024-08-18-21-33-07\\raw.fif modified at 2024-09-09 09:31:54\n",
      "File C:\\dev\\play\\brainwave-data\\2024-08-18-21-33-07\\raw.final_wake_model.csv modified at 2024-12-19 17:23:44\n",
      "File C:\\dev\\play\\brainwave-data\\2024-08-18-21-33-07\\raw.final_wake_model_post_human.csv modified at 2024-12-19 17:23:48\n",
      "File C:\\dev\\play\\brainwave-data\\2024-08-18-21-33-07\\raw.final_wake_model_post_human.json modified at 2024-12-19 17:23:50\n",
      "File C:\\dev\\play\\brainwave-data\\2024-08-18-21-33-07\\raw.microwakings.csv modified at 2025-01-08 11:15:42\n",
      "File C:\\dev\\play\\brainwave-data\\2024-08-18-21-33-07\\raw.night_events.csv modified at 2024-12-02 03:18:02\n",
      "File C:\\dev\\play\\brainwave-data\\2024-08-18-21-33-07\\raw.physical_features.1s.csv modified at 2025-03-20 07:41:48.637285\n",
      "File C:\\dev\\play\\brainwave-data\\2024-08-18-21-33-07\\raw.physical_features.csv modified at 2025-01-10 18:32:26\n",
      "File C:\\dev\\play\\brainwave-data\\2024-08-18-21-33-07\\raw.post_filter_psd_plot.png modified at 2025-01-10 17:46:48\n",
      "File C:\\dev\\play\\brainwave-data\\2024-08-18-21-33-07\\raw.post_human.csv modified at 2025-04-22 07:58:37.442652\n"
     ]
    },
    {
     "name": "stderr",
     "output_type": "stream",
     "text": [
      " 12%|█▏        | 20/169 [01:35<11:18,  4.55s/it]"
     ]
    },
    {
     "name": "stdout",
     "output_type": "stream",
     "text": [
      "C:\\dev\\play\\brainwave-data\\2024-08-18-21-33-07\\directory_checksum.md5 uploading to 2024-08-18-21-33-07/directory_checksum.md5, does_not_exist=False has_changed=True\n"
     ]
    },
    {
     "name": "stderr",
     "output_type": "stream",
     "text": [
      " 12%|█▏        | 20/169 [01:36<11:18,  4.55s/it]"
     ]
    },
    {
     "name": "stdout",
     "output_type": "stream",
     "text": [
      "Skipping C:\\dev\\play\\brainwave-data\\2024-08-18-21-33-07\\raw.artifacts.csv, identical file already exists in GCS.\n",
      "Skipping C:\\dev\\play\\brainwave-data\\2024-08-18-21-33-07\\raw.average_slow_wave.png, identical file already exists in GCS.\n",
      "Skipping C:\\dev\\play\\brainwave-data\\2024-08-18-21-33-07\\raw.average_spindle.png, identical file already exists in GCS.\n"
     ]
    },
    {
     "name": "stderr",
     "output_type": "stream",
     "text": [
      " 12%|█▏        | 20/169 [01:36<11:18,  4.55s/it]"
     ]
    },
    {
     "name": "stdout",
     "output_type": "stream",
     "text": [
      "Skipping C:\\dev\\play\\brainwave-data\\2024-08-18-21-33-07\\raw.edf, identical file already exists in GCS.\n"
     ]
    },
    {
     "name": "stderr",
     "output_type": "stream",
     "text": [
      " 12%|█▏        | 20/169 [01:36<11:18,  4.55s/it]"
     ]
    },
    {
     "name": "stdout",
     "output_type": "stream",
     "text": [
      "Skipping C:\\dev\\play\\brainwave-data\\2024-08-18-21-33-07\\raw.fif, identical file already exists in GCS.\n",
      "Skipping C:\\dev\\play\\brainwave-data\\2024-08-18-21-33-07\\raw.final_wake_model.csv, identical file already exists in GCS.\n",
      "Skipping C:\\dev\\play\\brainwave-data\\2024-08-18-21-33-07\\raw.final_wake_model_post_human.csv, identical file already exists in GCS.\n",
      "Skipping C:\\dev\\play\\brainwave-data\\2024-08-18-21-33-07\\raw.final_wake_model_post_human.json, identical file already exists in GCS.\n",
      "Skipping C:\\dev\\play\\brainwave-data\\2024-08-18-21-33-07\\raw.microwakings.csv, identical file already exists in GCS.\n"
     ]
    },
    {
     "name": "stderr",
     "output_type": "stream",
     "text": [
      " 12%|█▏        | 20/169 [01:36<11:18,  4.55s/it]"
     ]
    },
    {
     "name": "stdout",
     "output_type": "stream",
     "text": [
      "Skipping C:\\dev\\play\\brainwave-data\\2024-08-18-21-33-07\\raw.night_events.csv, identical file already exists in GCS.\n",
      "Skipping C:\\dev\\play\\brainwave-data\\2024-08-18-21-33-07\\raw.physical_features.1s.csv, identical file already exists in GCS.\n",
      "Skipping C:\\dev\\play\\brainwave-data\\2024-08-18-21-33-07\\raw.physical_features.csv, identical file already exists in GCS.\n",
      "Skipping C:\\dev\\play\\brainwave-data\\2024-08-18-21-33-07\\raw.post_filter_psd_plot.png, identical file already exists in GCS.\n"
     ]
    },
    {
     "name": "stderr",
     "output_type": "stream",
     "text": [
      " 12%|█▏        | 20/169 [01:37<11:18,  4.55s/it]"
     ]
    },
    {
     "name": "stdout",
     "output_type": "stream",
     "text": [
      "Skipping C:\\dev\\play\\brainwave-data\\2024-08-18-21-33-07\\raw.post_human.csv, identical file already exists in GCS.\n",
      "Skipping C:\\dev\\play\\brainwave-data\\2024-08-18-21-33-07\\raw.post_yasa.csv, identical file already exists in GCS.\n",
      "Skipping C:\\dev\\play\\brainwave-data\\2024-08-18-21-33-07\\raw.pre_filter_psd_plot.png, identical file already exists in GCS.\n",
      "Skipping C:\\dev\\play\\brainwave-data\\2024-08-18-21-33-07\\raw.sleep.json, identical file already exists in GCS.\n"
     ]
    },
    {
     "name": "stderr",
     "output_type": "stream",
     "text": [
      " 12%|█▏        | 20/169 [01:37<11:18,  4.55s/it]"
     ]
    },
    {
     "name": "stdout",
     "output_type": "stream",
     "text": [
      "Skipping C:\\dev\\play\\brainwave-data\\2024-08-18-21-33-07\\raw.sleep_stages.csv, identical file already exists in GCS.\n",
      "Skipping C:\\dev\\play\\brainwave-data\\2024-08-18-21-33-07\\raw.sleep_stages.F4-M1.csv, identical file already exists in GCS.\n",
      "Skipping C:\\dev\\play\\brainwave-data\\2024-08-18-21-33-07\\raw.sleep_stages.F8-M1.csv, identical file already exists in GCS.\n",
      "Skipping C:\\dev\\play\\brainwave-data\\2024-08-18-21-33-07\\raw.sleep_stages.Fpz-M1.csv, identical file already exists in GCS.\n",
      "Skipping C:\\dev\\play\\brainwave-data\\2024-08-18-21-33-07\\raw.spectrogram.F4-M1.png, identical file already exists in GCS.\n"
     ]
    },
    {
     "name": "stderr",
     "output_type": "stream",
     "text": [
      " 12%|█▏        | 20/169 [01:37<11:18,  4.55s/it]"
     ]
    },
    {
     "name": "stdout",
     "output_type": "stream",
     "text": [
      "Skipping C:\\dev\\play\\brainwave-data\\2024-08-18-21-33-07\\raw.spectrogram.F8-M1.png, identical file already exists in GCS.\n",
      "Skipping C:\\dev\\play\\brainwave-data\\2024-08-18-21-33-07\\raw.spectrogram.Fpz-M1.png, identical file already exists in GCS.\n",
      "Skipping C:\\dev\\play\\brainwave-data\\2024-08-18-21-33-07\\raw.spindle_summary.csv, identical file already exists in GCS.\n",
      "Skipping C:\\dev\\play\\brainwave-data\\2024-08-18-21-33-07\\raw.sw_summary.csv, identical file already exists in GCS.\n",
      "Skipping C:\\dev\\play\\brainwave-data\\2024-08-18-21-33-07\\raw.with_features.csv, identical file already exists in GCS.\n"
     ]
    },
    {
     "name": "stderr",
     "output_type": "stream",
     "text": [
      " 12%|█▏        | 20/169 [01:37<11:18,  4.55s/it]"
     ]
    },
    {
     "name": "stdout",
     "output_type": "stream",
     "text": [
      "Skipping C:\\dev\\play\\brainwave-data\\2024-08-18-21-33-07\\raw.with_microwakings_multi1_debug.edf, identical file already exists in GCS.\n",
      "Skipping C:\\dev\\play\\brainwave-data\\2024-08-18-21-33-07\\raw.with_predictions.edf, identical file already exists in GCS.\n",
      "Skipping C:\\dev\\play\\brainwave-data\\2024-08-18-21-33-07\\raw.with_predictions.scorings.json, identical file already exists in GCS.\n",
      "Skipping C:\\dev\\play\\brainwave-data\\2024-08-18-21-33-07\\raw.yasa.csv, identical file already exists in GCS.\n"
     ]
    },
    {
     "name": "stderr",
     "output_type": "stream",
     "text": [
      " 12%|█▏        | 21/169 [01:37<11:45,  4.77s/it]"
     ]
    },
    {
     "name": "stdout",
     "output_type": "stream",
     "text": [
      "Uploaded directory checksum for C:\\dev\\play\\brainwave-data\\2024-08-18-21-33-07 to 2024-08-18-21-33-07/directory_checksum.md5\n",
      "File C:\\dev\\play\\brainwave-data\\2024-08-19-21-43-56\\directory_checksum.md5 modified at 2025-04-12 07:15:32.759071\n",
      "File C:\\dev\\play\\brainwave-data\\2024-08-19-21-43-56\\raw.artifacts.csv modified at 2025-03-11 19:11:27.648352\n",
      "File C:\\dev\\play\\brainwave-data\\2024-08-19-21-43-56\\raw.average_slow_wave.png modified at 2025-01-10 17:48:28\n",
      "File C:\\dev\\play\\brainwave-data\\2024-08-19-21-43-56\\raw.edf modified at 2025-01-10 17:47:38\n",
      "File C:\\dev\\play\\brainwave-data\\2024-08-19-21-43-56\\raw.fif modified at 2024-09-09 09:34:20\n",
      "File C:\\dev\\play\\brainwave-data\\2024-08-19-21-43-56\\raw.final_wake_model.csv modified at 2024-12-19 17:23:54\n",
      "File C:\\dev\\play\\brainwave-data\\2024-08-19-21-43-56\\raw.final_wake_model_post_human.csv modified at 2024-12-19 17:23:58\n",
      "File C:\\dev\\play\\brainwave-data\\2024-08-19-21-43-56\\raw.final_wake_model_post_human.json modified at 2024-12-19 17:24:02\n",
      "File C:\\dev\\play\\brainwave-data\\2024-08-19-21-43-56\\raw.microwakings.csv modified at 2025-01-08 11:15:58\n",
      "File C:\\dev\\play\\brainwave-data\\2024-08-19-21-43-56\\raw.night_events.csv modified at 2024-12-02 03:19:06\n",
      "File C:\\dev\\play\\brainwave-data\\2024-08-19-21-43-56\\raw.physical_features.1s.csv modified at 2025-03-20 07:41:52.361689\n",
      "File C:\\dev\\play\\brainwave-data\\2024-08-19-21-43-56\\raw.physical_features.csv modified at 2025-01-10 18:32:28\n",
      "File C:\\dev\\play\\brainwave-data\\2024-08-19-21-43-56\\raw.post_filter_psd_plot.png modified at 2025-01-10 17:47:42\n",
      "File C:\\dev\\play\\brainwave-data\\2024-08-19-21-43-56\\raw.post_human.csv modified at 2025-04-22 07:58:40.826294\n"
     ]
    },
    {
     "name": "stderr",
     "output_type": "stream",
     "text": [
      " 12%|█▏        | 21/169 [01:41<11:45,  4.77s/it]"
     ]
    },
    {
     "name": "stdout",
     "output_type": "stream",
     "text": [
      "C:\\dev\\play\\brainwave-data\\2024-08-19-21-43-56\\directory_checksum.md5 uploading to 2024-08-19-21-43-56/directory_checksum.md5, does_not_exist=False has_changed=True\n"
     ]
    },
    {
     "name": "stderr",
     "output_type": "stream",
     "text": [
      " 12%|█▏        | 21/169 [01:41<11:45,  4.77s/it]"
     ]
    },
    {
     "name": "stdout",
     "output_type": "stream",
     "text": [
      "Skipping C:\\dev\\play\\brainwave-data\\2024-08-19-21-43-56\\raw.artifacts.csv, identical file already exists in GCS.\n",
      "Skipping C:\\dev\\play\\brainwave-data\\2024-08-19-21-43-56\\raw.average_slow_wave.png, identical file already exists in GCS.\n"
     ]
    },
    {
     "name": "stderr",
     "output_type": "stream",
     "text": [
      " 12%|█▏        | 21/169 [01:42<11:45,  4.77s/it]"
     ]
    },
    {
     "name": "stdout",
     "output_type": "stream",
     "text": [
      "Skipping C:\\dev\\play\\brainwave-data\\2024-08-19-21-43-56\\raw.edf, identical file already exists in GCS.\n"
     ]
    },
    {
     "name": "stderr",
     "output_type": "stream",
     "text": [
      " 12%|█▏        | 21/169 [01:42<11:45,  4.77s/it]"
     ]
    },
    {
     "name": "stdout",
     "output_type": "stream",
     "text": [
      "Skipping C:\\dev\\play\\brainwave-data\\2024-08-19-21-43-56\\raw.fif, identical file already exists in GCS.\n",
      "Skipping C:\\dev\\play\\brainwave-data\\2024-08-19-21-43-56\\raw.final_wake_model.csv, identical file already exists in GCS.\n",
      "Skipping C:\\dev\\play\\brainwave-data\\2024-08-19-21-43-56\\raw.final_wake_model_post_human.csv, identical file already exists in GCS.\n"
     ]
    },
    {
     "name": "stderr",
     "output_type": "stream",
     "text": [
      " 12%|█▏        | 21/169 [01:42<11:45,  4.77s/it]"
     ]
    },
    {
     "name": "stdout",
     "output_type": "stream",
     "text": [
      "Skipping C:\\dev\\play\\brainwave-data\\2024-08-19-21-43-56\\raw.final_wake_model_post_human.json, identical file already exists in GCS.\n",
      "Skipping C:\\dev\\play\\brainwave-data\\2024-08-19-21-43-56\\raw.microwakings.csv, identical file already exists in GCS.\n",
      "Skipping C:\\dev\\play\\brainwave-data\\2024-08-19-21-43-56\\raw.night_events.csv, identical file already exists in GCS.\n"
     ]
    },
    {
     "name": "stderr",
     "output_type": "stream",
     "text": [
      " 12%|█▏        | 21/169 [01:42<11:45,  4.77s/it]"
     ]
    },
    {
     "name": "stdout",
     "output_type": "stream",
     "text": [
      "Skipping C:\\dev\\play\\brainwave-data\\2024-08-19-21-43-56\\raw.physical_features.1s.csv, identical file already exists in GCS.\n",
      "Skipping C:\\dev\\play\\brainwave-data\\2024-08-19-21-43-56\\raw.physical_features.csv, identical file already exists in GCS.\n",
      "Skipping C:\\dev\\play\\brainwave-data\\2024-08-19-21-43-56\\raw.post_filter_psd_plot.png, identical file already exists in GCS.\n"
     ]
    },
    {
     "name": "stderr",
     "output_type": "stream",
     "text": [
      " 12%|█▏        | 21/169 [01:43<11:45,  4.77s/it]"
     ]
    },
    {
     "name": "stdout",
     "output_type": "stream",
     "text": [
      "Skipping C:\\dev\\play\\brainwave-data\\2024-08-19-21-43-56\\raw.post_human.csv, identical file already exists in GCS.\n",
      "Skipping C:\\dev\\play\\brainwave-data\\2024-08-19-21-43-56\\raw.post_yasa.csv, identical file already exists in GCS.\n",
      "Skipping C:\\dev\\play\\brainwave-data\\2024-08-19-21-43-56\\raw.pre_filter_psd_plot.png, identical file already exists in GCS.\n",
      "Skipping C:\\dev\\play\\brainwave-data\\2024-08-19-21-43-56\\raw.scorings.json, identical file already exists in GCS.\n"
     ]
    },
    {
     "name": "stderr",
     "output_type": "stream",
     "text": [
      " 12%|█▏        | 21/169 [01:43<11:45,  4.77s/it]"
     ]
    },
    {
     "name": "stdout",
     "output_type": "stream",
     "text": [
      "Skipping C:\\dev\\play\\brainwave-data\\2024-08-19-21-43-56\\raw.sleep.json, identical file already exists in GCS.\n",
      "Skipping C:\\dev\\play\\brainwave-data\\2024-08-19-21-43-56\\raw.sleep_stages.csv, identical file already exists in GCS.\n",
      "Skipping C:\\dev\\play\\brainwave-data\\2024-08-19-21-43-56\\raw.sleep_stages.F8-M1.csv, identical file already exists in GCS.\n",
      "Skipping C:\\dev\\play\\brainwave-data\\2024-08-19-21-43-56\\raw.sleep_stages.Fpz-M1.csv, identical file already exists in GCS.\n",
      "Skipping C:\\dev\\play\\brainwave-data\\2024-08-19-21-43-56\\raw.spectrogram.F8-M1.png, identical file already exists in GCS.\n"
     ]
    },
    {
     "name": "stderr",
     "output_type": "stream",
     "text": [
      " 12%|█▏        | 21/169 [01:43<11:45,  4.77s/it]"
     ]
    },
    {
     "name": "stdout",
     "output_type": "stream",
     "text": [
      "Skipping C:\\dev\\play\\brainwave-data\\2024-08-19-21-43-56\\raw.spectrogram.Fpz-M1.png, identical file already exists in GCS.\n",
      "Skipping C:\\dev\\play\\brainwave-data\\2024-08-19-21-43-56\\raw.spindle_summary.csv, identical file already exists in GCS.\n",
      "Skipping C:\\dev\\play\\brainwave-data\\2024-08-19-21-43-56\\raw.sw_summary.csv, identical file already exists in GCS.\n",
      "Skipping C:\\dev\\play\\brainwave-data\\2024-08-19-21-43-56\\raw.with_features.csv, identical file already exists in GCS.\n",
      "Skipping C:\\dev\\play\\brainwave-data\\2024-08-19-21-43-56\\raw.with_microwakings_multi1_debug.edf, identical file already exists in GCS.\n"
     ]
    },
    {
     "name": "stderr",
     "output_type": "stream",
     "text": [
      " 13%|█▎        | 22/169 [01:43<12:28,  5.09s/it]"
     ]
    },
    {
     "name": "stdout",
     "output_type": "stream",
     "text": [
      "Skipping C:\\dev\\play\\brainwave-data\\2024-08-19-21-43-56\\raw.with_predictions.edf, identical file already exists in GCS.\n",
      "Skipping C:\\dev\\play\\brainwave-data\\2024-08-19-21-43-56\\raw.with_predictions.scorings.json, identical file already exists in GCS.\n",
      "Skipping C:\\dev\\play\\brainwave-data\\2024-08-19-21-43-56\\raw.yasa.csv, identical file already exists in GCS.\n",
      "Uploaded directory checksum for C:\\dev\\play\\brainwave-data\\2024-08-19-21-43-56 to 2024-08-19-21-43-56/directory_checksum.md5\n",
      "File C:\\dev\\play\\brainwave-data\\2024-08-20-21-17-32\\directory_checksum.md5 modified at 2025-04-12 07:15:37.734251\n",
      "File C:\\dev\\play\\brainwave-data\\2024-08-20-21-17-32\\raw.artifacts.csv modified at 2025-03-11 19:11:38.560422\n",
      "File C:\\dev\\play\\brainwave-data\\2024-08-20-21-17-32\\raw.average_slow_wave.png modified at 2025-01-10 17:49:16\n",
      "File C:\\dev\\play\\brainwave-data\\2024-08-20-21-17-32\\raw.edf modified at 2025-01-10 17:48:32\n",
      "File C:\\dev\\play\\brainwave-data\\2024-08-20-21-17-32\\raw.fif modified at 2024-09-09 09:36:24\n"
     ]
    },
    {
     "name": "stderr",
     "output_type": "stream",
     "text": [
      " 13%|█▎        | 22/169 [01:43<12:28,  5.09s/it]"
     ]
    },
    {
     "name": "stdout",
     "output_type": "stream",
     "text": [
      "File C:\\dev\\play\\brainwave-data\\2024-08-20-21-17-32\\raw.final_wake_model.csv modified at 2024-12-19 17:24:04\n",
      "File C:\\dev\\play\\brainwave-data\\2024-08-20-21-17-32\\raw.final_wake_model_post_human.csv modified at 2024-12-19 17:24:08\n",
      "File C:\\dev\\play\\brainwave-data\\2024-08-20-21-17-32\\raw.final_wake_model_post_human.json modified at 2024-12-19 17:24:10\n",
      "File C:\\dev\\play\\brainwave-data\\2024-08-20-21-17-32\\raw.microwakings.csv modified at 2025-01-08 11:16:12\n",
      "File C:\\dev\\play\\brainwave-data\\2024-08-20-21-17-32\\raw.night_events.csv modified at 2024-12-02 03:20:18\n",
      "File C:\\dev\\play\\brainwave-data\\2024-08-20-21-17-32\\raw.physical_features.1s.csv modified at 2025-03-20 07:41:55.084112\n",
      "File C:\\dev\\play\\brainwave-data\\2024-08-20-21-17-32\\raw.physical_features.csv modified at 2025-01-10 18:32:30\n",
      "File C:\\dev\\play\\brainwave-data\\2024-08-20-21-17-32\\raw.post_filter_psd_plot.png modified at 2025-01-10 17:48:36\n",
      "File C:\\dev\\play\\brainwave-data\\2024-08-20-21-17-32\\raw.post_human.csv modified at 2025-04-22 07:58:43.706682\n"
     ]
    },
    {
     "name": "stderr",
     "output_type": "stream",
     "text": [
      " 13%|█▎        | 22/169 [01:46<12:28,  5.09s/it]"
     ]
    },
    {
     "name": "stdout",
     "output_type": "stream",
     "text": [
      "C:\\dev\\play\\brainwave-data\\2024-08-20-21-17-32\\directory_checksum.md5 uploading to 2024-08-20-21-17-32/directory_checksum.md5, does_not_exist=False has_changed=True\n"
     ]
    },
    {
     "name": "stderr",
     "output_type": "stream",
     "text": [
      " 13%|█▎        | 22/169 [01:47<12:28,  5.09s/it]"
     ]
    },
    {
     "name": "stdout",
     "output_type": "stream",
     "text": [
      "Skipping C:\\dev\\play\\brainwave-data\\2024-08-20-21-17-32\\raw.artifacts.csv, identical file already exists in GCS.\n",
      "Skipping C:\\dev\\play\\brainwave-data\\2024-08-20-21-17-32\\raw.average_slow_wave.png, identical file already exists in GCS.\n",
      "Skipping C:\\dev\\play\\brainwave-data\\2024-08-20-21-17-32\\raw.edf, identical file already exists in GCS.\n"
     ]
    },
    {
     "name": "stderr",
     "output_type": "stream",
     "text": [
      " 13%|█▎        | 22/169 [01:47<12:28,  5.09s/it]"
     ]
    },
    {
     "name": "stdout",
     "output_type": "stream",
     "text": [
      "Skipping C:\\dev\\play\\brainwave-data\\2024-08-20-21-17-32\\raw.fif, identical file already exists in GCS.\n",
      "Skipping C:\\dev\\play\\brainwave-data\\2024-08-20-21-17-32\\raw.final_wake_model.csv, identical file already exists in GCS.\n",
      "Skipping C:\\dev\\play\\brainwave-data\\2024-08-20-21-17-32\\raw.final_wake_model_post_human.csv, identical file already exists in GCS.\n",
      "Skipping C:\\dev\\play\\brainwave-data\\2024-08-20-21-17-32\\raw.final_wake_model_post_human.json, identical file already exists in GCS.\n",
      "Skipping C:\\dev\\play\\brainwave-data\\2024-08-20-21-17-32\\raw.microwakings.csv, identical file already exists in GCS.\n"
     ]
    },
    {
     "name": "stderr",
     "output_type": "stream",
     "text": [
      " 13%|█▎        | 22/169 [01:47<12:28,  5.09s/it]"
     ]
    },
    {
     "name": "stdout",
     "output_type": "stream",
     "text": [
      "Skipping C:\\dev\\play\\brainwave-data\\2024-08-20-21-17-32\\raw.night_events.csv, identical file already exists in GCS.\n",
      "Skipping C:\\dev\\play\\brainwave-data\\2024-08-20-21-17-32\\raw.physical_features.1s.csv, identical file already exists in GCS.\n",
      "Skipping C:\\dev\\play\\brainwave-data\\2024-08-20-21-17-32\\raw.physical_features.csv, identical file already exists in GCS.\n",
      "Skipping C:\\dev\\play\\brainwave-data\\2024-08-20-21-17-32\\raw.post_filter_psd_plot.png, identical file already exists in GCS.\n"
     ]
    },
    {
     "name": "stderr",
     "output_type": "stream",
     "text": [
      " 13%|█▎        | 22/169 [01:48<12:28,  5.09s/it]"
     ]
    },
    {
     "name": "stdout",
     "output_type": "stream",
     "text": [
      "Skipping C:\\dev\\play\\brainwave-data\\2024-08-20-21-17-32\\raw.post_human.csv, identical file already exists in GCS.\n",
      "Skipping C:\\dev\\play\\brainwave-data\\2024-08-20-21-17-32\\raw.post_yasa.csv, identical file already exists in GCS.\n",
      "Skipping C:\\dev\\play\\brainwave-data\\2024-08-20-21-17-32\\raw.pre_filter_psd_plot.png, identical file already exists in GCS.\n"
     ]
    },
    {
     "name": "stderr",
     "output_type": "stream",
     "text": [
      " 13%|█▎        | 22/169 [01:48<12:28,  5.09s/it]"
     ]
    },
    {
     "name": "stdout",
     "output_type": "stream",
     "text": [
      "Skipping C:\\dev\\play\\brainwave-data\\2024-08-20-21-17-32\\raw.scorings.json, identical file already exists in GCS.\n",
      "Skipping C:\\dev\\play\\brainwave-data\\2024-08-20-21-17-32\\raw.sleep.json, identical file already exists in GCS.\n",
      "Skipping C:\\dev\\play\\brainwave-data\\2024-08-20-21-17-32\\raw.sleep_stages.csv, identical file already exists in GCS.\n",
      "Skipping C:\\dev\\play\\brainwave-data\\2024-08-20-21-17-32\\raw.sleep_stages.F8-M1.csv, identical file already exists in GCS.\n",
      "Skipping C:\\dev\\play\\brainwave-data\\2024-08-20-21-17-32\\raw.sleep_stages.Fpz-M1.csv, identical file already exists in GCS.\n"
     ]
    },
    {
     "name": "stderr",
     "output_type": "stream",
     "text": [
      " 13%|█▎        | 22/169 [01:48<12:28,  5.09s/it]"
     ]
    },
    {
     "name": "stdout",
     "output_type": "stream",
     "text": [
      "Skipping C:\\dev\\play\\brainwave-data\\2024-08-20-21-17-32\\raw.spectrogram.F8-M1.png, identical file already exists in GCS.\n",
      "Skipping C:\\dev\\play\\brainwave-data\\2024-08-20-21-17-32\\raw.spectrogram.Fpz-M1.png, identical file already exists in GCS.\n",
      "Skipping C:\\dev\\play\\brainwave-data\\2024-08-20-21-17-32\\raw.spindle_summary.csv, identical file already exists in GCS.\n",
      "Skipping C:\\dev\\play\\brainwave-data\\2024-08-20-21-17-32\\raw.sw_summary.csv, identical file already exists in GCS.\n"
     ]
    },
    {
     "name": "stderr",
     "output_type": "stream",
     "text": [
      " 13%|█▎        | 22/169 [01:48<12:28,  5.09s/it]"
     ]
    },
    {
     "name": "stdout",
     "output_type": "stream",
     "text": [
      "Skipping C:\\dev\\play\\brainwave-data\\2024-08-20-21-17-32\\raw.with_features.csv, identical file already exists in GCS.\n",
      "Skipping C:\\dev\\play\\brainwave-data\\2024-08-20-21-17-32\\raw.with_microwakings_multi1_debug.edf, identical file already exists in GCS.\n",
      "Skipping C:\\dev\\play\\brainwave-data\\2024-08-20-21-17-32\\raw.yasa.csv, identical file already exists in GCS.\n"
     ]
    },
    {
     "name": "stderr",
     "output_type": "stream",
     "text": [
      " 14%|█▎        | 23/169 [01:48<12:18,  5.06s/it]"
     ]
    },
    {
     "name": "stdout",
     "output_type": "stream",
     "text": [
      "Uploaded directory checksum for C:\\dev\\play\\brainwave-data\\2024-08-20-21-17-32 to 2024-08-20-21-17-32/directory_checksum.md5\n",
      "File C:\\dev\\play\\brainwave-data\\2024-08-21-21-40-16\\directory_checksum.md5 modified at 2025-04-12 07:15:45.027773\n",
      "File C:\\dev\\play\\brainwave-data\\2024-08-21-21-40-16\\raw.artifacts.csv modified at 2025-03-11 19:11:46.750125\n",
      "File C:\\dev\\play\\brainwave-data\\2024-08-21-21-40-16\\raw.average_slow_wave.png modified at 2025-01-10 17:49:58\n",
      "File C:\\dev\\play\\brainwave-data\\2024-08-21-21-40-16\\raw.edf modified at 2025-01-10 17:49:22\n",
      "File C:\\dev\\play\\brainwave-data\\2024-08-21-21-40-16\\raw.fif modified at 2024-09-09 09:37:58\n",
      "File C:\\dev\\play\\brainwave-data\\2024-08-21-21-40-16\\raw.final_wake_model.csv modified at 2024-12-19 17:24:14\n",
      "File C:\\dev\\play\\brainwave-data\\2024-08-21-21-40-16\\raw.final_wake_model_post_human.csv modified at 2024-12-19 17:24:18\n",
      "File C:\\dev\\play\\brainwave-data\\2024-08-21-21-40-16\\raw.final_wake_model_post_human.json modified at 2024-12-19 17:24:20\n",
      "File C:\\dev\\play\\brainwave-data\\2024-08-21-21-40-16\\raw.microwakings.csv modified at 2025-01-08 11:16:26\n",
      "File C:\\dev\\play\\brainwave-data\\2024-08-21-21-40-16\\raw.night_events.csv modified at 2024-12-02 03:21:22\n",
      "File C:\\dev\\play\\brainwave-data\\2024-08-21-21-40-16\\raw.physical_features.1s.csv modified at 2025-03-20 07:41:56.852153\n",
      "File C:\\dev\\play\\brainwave-data\\2024-08-21-21-40-16\\raw.physical_features.csv modified at 2025-01-10 18:32:30\n",
      "File C:\\dev\\play\\brainwave-data\\2024-08-21-21-40-16\\raw.post_filter_psd_plot.png modified at 2025-01-10 17:49:26\n",
      "File C:\\dev\\play\\brainwave-data\\2024-08-21-21-40-16\\raw.post_human.csv modified at 2025-04-22 07:58:45.883100\n"
     ]
    },
    {
     "name": "stderr",
     "output_type": "stream",
     "text": [
      " 14%|█▎        | 23/169 [01:51<12:18,  5.06s/it]"
     ]
    },
    {
     "name": "stdout",
     "output_type": "stream",
     "text": [
      "C:\\dev\\play\\brainwave-data\\2024-08-21-21-40-16\\directory_checksum.md5 uploading to 2024-08-21-21-40-16/directory_checksum.md5, does_not_exist=False has_changed=True\n"
     ]
    },
    {
     "name": "stderr",
     "output_type": "stream",
     "text": [
      " 14%|█▎        | 23/169 [01:52<12:18,  5.06s/it]"
     ]
    },
    {
     "name": "stdout",
     "output_type": "stream",
     "text": [
      "Skipping C:\\dev\\play\\brainwave-data\\2024-08-21-21-40-16\\raw.artifacts.csv, identical file already exists in GCS.\n",
      "Skipping C:\\dev\\play\\brainwave-data\\2024-08-21-21-40-16\\raw.average_slow_wave.png, identical file already exists in GCS.\n",
      "Skipping C:\\dev\\play\\brainwave-data\\2024-08-21-21-40-16\\raw.edf, identical file already exists in GCS.\n"
     ]
    },
    {
     "name": "stderr",
     "output_type": "stream",
     "text": [
      "                                                "
     ]
    },
    {
     "name": "stdout",
     "output_type": "stream",
     "text": [
      "Skipping C:\\dev\\play\\brainwave-data\\2024-08-21-21-40-16\\raw.fif, identical file already exists in GCS.\n",
      "Skipping C:\\dev\\play\\brainwave-data\\2024-08-21-21-40-16\\raw.final_wake_model.csv, identical file already exists in GCS.\n",
      "Skipping C:\\dev\\play\\brainwave-data\\2024-08-21-21-40-16\\raw.final_wake_model_post_human.csv, identical file already exists in GCS.\n",
      "Skipping C:\\dev\\play\\brainwave-data\\2024-08-21-21-40-16\\raw.final_wake_model_post_human.json, identical file already exists in GCS.\n",
      "Skipping C:\\dev\\play\\brainwave-data\\2024-08-21-21-40-16\\raw.microwakings.csv, identical file already exists in GCS.\n"
     ]
    },
    {
     "name": "stderr",
     "output_type": "stream",
     "text": [
      " 14%|█▎        | 23/169 [01:52<12:18,  5.06s/it]"
     ]
    },
    {
     "name": "stdout",
     "output_type": "stream",
     "text": [
      "Skipping C:\\dev\\play\\brainwave-data\\2024-08-21-21-40-16\\raw.night_events.csv, identical file already exists in GCS.\n",
      "Skipping C:\\dev\\play\\brainwave-data\\2024-08-21-21-40-16\\raw.physical_features.1s.csv, identical file already exists in GCS.\n",
      "Skipping C:\\dev\\play\\brainwave-data\\2024-08-21-21-40-16\\raw.physical_features.csv, identical file already exists in GCS.\n",
      "Skipping C:\\dev\\play\\brainwave-data\\2024-08-21-21-40-16\\raw.post_filter_psd_plot.png, identical file already exists in GCS.\n"
     ]
    },
    {
     "name": "stderr",
     "output_type": "stream",
     "text": [
      " 14%|█▎        | 23/169 [01:52<12:18,  5.06s/it]"
     ]
    },
    {
     "name": "stdout",
     "output_type": "stream",
     "text": [
      "Skipping C:\\dev\\play\\brainwave-data\\2024-08-21-21-40-16\\raw.post_human.csv, identical file already exists in GCS.\n",
      "Skipping C:\\dev\\play\\brainwave-data\\2024-08-21-21-40-16\\raw.post_yasa.csv, identical file already exists in GCS.\n",
      "Skipping C:\\dev\\play\\brainwave-data\\2024-08-21-21-40-16\\raw.pre_filter_psd_plot.png, identical file already exists in GCS.\n",
      "Skipping C:\\dev\\play\\brainwave-data\\2024-08-21-21-40-16\\raw.sleep.json, identical file already exists in GCS.\n"
     ]
    },
    {
     "name": "stderr",
     "output_type": "stream",
     "text": [
      " 14%|█▎        | 23/169 [01:53<12:18,  5.06s/it]"
     ]
    },
    {
     "name": "stdout",
     "output_type": "stream",
     "text": [
      "Skipping C:\\dev\\play\\brainwave-data\\2024-08-21-21-40-16\\raw.sleep_stages.csv, identical file already exists in GCS.\n",
      "Skipping C:\\dev\\play\\brainwave-data\\2024-08-21-21-40-16\\raw.sleep_stages.F8-M1.csv, identical file already exists in GCS.\n",
      "Skipping C:\\dev\\play\\brainwave-data\\2024-08-21-21-40-16\\raw.sleep_stages.Fpz-M1.csv, identical file already exists in GCS.\n",
      "Skipping C:\\dev\\play\\brainwave-data\\2024-08-21-21-40-16\\raw.spectrogram.F8-M1.png, identical file already exists in GCS.\n",
      "Skipping C:\\dev\\play\\brainwave-data\\2024-08-21-21-40-16\\raw.spectrogram.Fpz-M1.png, identical file already exists in GCS.\n"
     ]
    },
    {
     "name": "stderr",
     "output_type": "stream",
     "text": [
      " 14%|█▎        | 23/169 [01:53<12:18,  5.06s/it]"
     ]
    },
    {
     "name": "stdout",
     "output_type": "stream",
     "text": [
      "Skipping C:\\dev\\play\\brainwave-data\\2024-08-21-21-40-16\\raw.spindle_summary.csv, identical file already exists in GCS.\n",
      "Skipping C:\\dev\\play\\brainwave-data\\2024-08-21-21-40-16\\raw.sw_summary.csv, identical file already exists in GCS.\n",
      "Skipping C:\\dev\\play\\brainwave-data\\2024-08-21-21-40-16\\raw.with_features.csv, identical file already exists in GCS.\n",
      "Skipping C:\\dev\\play\\brainwave-data\\2024-08-21-21-40-16\\raw.with_microwakings_multi1_debug.edf, identical file already exists in GCS.\n"
     ]
    },
    {
     "name": "stderr",
     "output_type": "stream",
     "text": [
      " 14%|█▍        | 24/169 [01:53<11:52,  4.92s/it]"
     ]
    },
    {
     "name": "stdout",
     "output_type": "stream",
     "text": [
      "Skipping C:\\dev\\play\\brainwave-data\\2024-08-21-21-40-16\\raw.yasa.csv, identical file already exists in GCS.\n",
      "Uploaded directory checksum for C:\\dev\\play\\brainwave-data\\2024-08-21-21-40-16 to 2024-08-21-21-40-16/directory_checksum.md5\n",
      "File C:\\dev\\play\\brainwave-data\\2024-08-22-21-26-19\\directory_checksum.md5 modified at 2025-04-12 07:15:50.668539\n",
      "File C:\\dev\\play\\brainwave-data\\2024-08-22-21-26-19\\raw.artifacts.csv modified at 2025-03-11 19:11:52.792000\n",
      "File C:\\dev\\play\\brainwave-data\\2024-08-22-21-26-19\\raw.average_slow_wave.png modified at 2025-01-10 17:50:30\n",
      "File C:\\dev\\play\\brainwave-data\\2024-08-22-21-26-19\\raw.edf modified at 2025-01-10 17:50:02\n",
      "File C:\\dev\\play\\brainwave-data\\2024-08-22-21-26-19\\raw.fif modified at 2024-09-09 09:39:12\n",
      "File C:\\dev\\play\\brainwave-data\\2024-08-22-21-26-19\\raw.final_wake_model.csv modified at 2024-12-19 17:24:22\n",
      "File C:\\dev\\play\\brainwave-data\\2024-08-22-21-26-19\\raw.final_wake_model_post_human.csv modified at 2024-12-19 17:24:24\n",
      "File C:\\dev\\play\\brainwave-data\\2024-08-22-21-26-19\\raw.final_wake_model_post_human.json modified at 2024-12-19 17:24:26\n",
      "File C:\\dev\\play\\brainwave-data\\2024-08-22-21-26-19\\raw.microwakings.csv modified at 2025-01-08 11:16:38\n",
      "File C:\\dev\\play\\brainwave-data\\2024-08-22-21-26-19\\raw.night_events.csv modified at 2024-12-02 03:22:12\n",
      "File C:\\dev\\play\\brainwave-data\\2024-08-22-21-26-19\\raw.physical_features.1s.csv modified at 2025-03-20 07:41:58.897615\n",
      "File C:\\dev\\play\\brainwave-data\\2024-08-22-21-26-19\\raw.physical_features.csv modified at 2025-01-10 18:32:30\n",
      "File C:\\dev\\play\\brainwave-data\\2024-08-22-21-26-19\\raw.post_filter_psd_plot.png modified at 2025-01-10 17:50:04\n",
      "File C:\\dev\\play\\brainwave-data\\2024-08-22-21-26-19\\raw.post_human.csv modified at 2025-04-22 07:58:47.555319\n"
     ]
    },
    {
     "name": "stderr",
     "output_type": "stream",
     "text": [
      " 14%|█▍        | 24/169 [01:56<11:52,  4.92s/it]"
     ]
    },
    {
     "name": "stdout",
     "output_type": "stream",
     "text": [
      "C:\\dev\\play\\brainwave-data\\2024-08-22-21-26-19\\directory_checksum.md5 uploading to 2024-08-22-21-26-19/directory_checksum.md5, does_not_exist=False has_changed=True\n"
     ]
    },
    {
     "name": "stderr",
     "output_type": "stream",
     "text": [
      " 14%|█▍        | 24/169 [01:56<11:52,  4.92s/it]"
     ]
    },
    {
     "name": "stdout",
     "output_type": "stream",
     "text": [
      "Skipping C:\\dev\\play\\brainwave-data\\2024-08-22-21-26-19\\raw.artifacts.csv, identical file already exists in GCS.\n",
      "Skipping C:\\dev\\play\\brainwave-data\\2024-08-22-21-26-19\\raw.average_slow_wave.png, identical file already exists in GCS.\n",
      "Skipping C:\\dev\\play\\brainwave-data\\2024-08-22-21-26-19\\raw.edf, identical file already exists in GCS.\n"
     ]
    },
    {
     "name": "stderr",
     "output_type": "stream",
     "text": [
      " 14%|█▍        | 24/169 [01:56<11:52,  4.92s/it]"
     ]
    },
    {
     "name": "stdout",
     "output_type": "stream",
     "text": [
      "Skipping C:\\dev\\play\\brainwave-data\\2024-08-22-21-26-19\\raw.fif, identical file already exists in GCS.\n",
      "Skipping C:\\dev\\play\\brainwave-data\\2024-08-22-21-26-19\\raw.final_wake_model.csv, identical file already exists in GCS.\n",
      "Skipping C:\\dev\\play\\brainwave-data\\2024-08-22-21-26-19\\raw.final_wake_model_post_human.csv, identical file already exists in GCS.\n",
      "Skipping C:\\dev\\play\\brainwave-data\\2024-08-22-21-26-19\\raw.final_wake_model_post_human.json, identical file already exists in GCS.\n",
      "Skipping C:\\dev\\play\\brainwave-data\\2024-08-22-21-26-19\\raw.microwakings.csv, identical file already exists in GCS.\n"
     ]
    },
    {
     "name": "stderr",
     "output_type": "stream",
     "text": [
      " 14%|█▍        | 24/169 [01:56<11:52,  4.92s/it]"
     ]
    },
    {
     "name": "stdout",
     "output_type": "stream",
     "text": [
      "Skipping C:\\dev\\play\\brainwave-data\\2024-08-22-21-26-19\\raw.night_events.csv, identical file already exists in GCS.\n",
      "Skipping C:\\dev\\play\\brainwave-data\\2024-08-22-21-26-19\\raw.physical_features.1s.csv, identical file already exists in GCS.\n",
      "Skipping C:\\dev\\play\\brainwave-data\\2024-08-22-21-26-19\\raw.physical_features.csv, identical file already exists in GCS.\n",
      "Skipping C:\\dev\\play\\brainwave-data\\2024-08-22-21-26-19\\raw.post_filter_psd_plot.png, identical file already exists in GCS.\n"
     ]
    },
    {
     "name": "stderr",
     "output_type": "stream",
     "text": [
      " 14%|█▍        | 24/169 [01:57<11:52,  4.92s/it]"
     ]
    },
    {
     "name": "stdout",
     "output_type": "stream",
     "text": [
      "Skipping C:\\dev\\play\\brainwave-data\\2024-08-22-21-26-19\\raw.post_human.csv, identical file already exists in GCS.\n",
      "Skipping C:\\dev\\play\\brainwave-data\\2024-08-22-21-26-19\\raw.post_yasa.csv, identical file already exists in GCS.\n",
      "Skipping C:\\dev\\play\\brainwave-data\\2024-08-22-21-26-19\\raw.pre_filter_psd_plot.png, identical file already exists in GCS.\n",
      "Skipping C:\\dev\\play\\brainwave-data\\2024-08-22-21-26-19\\raw.scorings.json, identical file already exists in GCS.\n"
     ]
    },
    {
     "name": "stderr",
     "output_type": "stream",
     "text": [
      " 14%|█▍        | 24/169 [01:57<11:52,  4.92s/it]"
     ]
    },
    {
     "name": "stdout",
     "output_type": "stream",
     "text": [
      "Skipping C:\\dev\\play\\brainwave-data\\2024-08-22-21-26-19\\raw.sleep.json, identical file already exists in GCS.\n",
      "Skipping C:\\dev\\play\\brainwave-data\\2024-08-22-21-26-19\\raw.sleep_stages.csv, identical file already exists in GCS.\n",
      "Skipping C:\\dev\\play\\brainwave-data\\2024-08-22-21-26-19\\raw.sleep_stages.F8-M1.csv, identical file already exists in GCS.\n",
      "Skipping C:\\dev\\play\\brainwave-data\\2024-08-22-21-26-19\\raw.sleep_stages.Fpz-M1.csv, identical file already exists in GCS.\n"
     ]
    },
    {
     "name": "stderr",
     "output_type": "stream",
     "text": [
      " 14%|█▍        | 24/169 [01:57<11:52,  4.92s/it]"
     ]
    },
    {
     "name": "stdout",
     "output_type": "stream",
     "text": [
      "Skipping C:\\dev\\play\\brainwave-data\\2024-08-22-21-26-19\\raw.spectrogram.F8-M1.png, identical file already exists in GCS.\n",
      "Skipping C:\\dev\\play\\brainwave-data\\2024-08-22-21-26-19\\raw.spectrogram.Fpz-M1.png, identical file already exists in GCS.\n",
      "Skipping C:\\dev\\play\\brainwave-data\\2024-08-22-21-26-19\\raw.spindle_summary.csv, identical file already exists in GCS.\n",
      "Skipping C:\\dev\\play\\brainwave-data\\2024-08-22-21-26-19\\raw.sw_summary.csv, identical file already exists in GCS.\n",
      "Skipping C:\\dev\\play\\brainwave-data\\2024-08-22-21-26-19\\raw.with_features.csv, identical file already exists in GCS.\n"
     ]
    },
    {
     "name": "stderr",
     "output_type": "stream",
     "text": [
      " 15%|█▍        | 25/169 [01:57<11:31,  4.80s/it]"
     ]
    },
    {
     "name": "stdout",
     "output_type": "stream",
     "text": [
      "Skipping C:\\dev\\play\\brainwave-data\\2024-08-22-21-26-19\\raw.with_microwakings_multi1_debug.edf, identical file already exists in GCS.\n",
      "Skipping C:\\dev\\play\\brainwave-data\\2024-08-22-21-26-19\\raw.with_predictions.edf, identical file already exists in GCS.\n",
      "Skipping C:\\dev\\play\\brainwave-data\\2024-08-22-21-26-19\\raw.yasa.csv, identical file already exists in GCS.\n",
      "Uploaded directory checksum for C:\\dev\\play\\brainwave-data\\2024-08-22-21-26-19 to 2024-08-22-21-26-19/directory_checksum.md5\n",
      "File C:\\dev\\play\\brainwave-data\\2024-08-23-21-29-46\\directory_checksum.md5 modified at 2025-04-12 07:15:57.351176\n",
      "File C:\\dev\\play\\brainwave-data\\2024-08-23-21-29-46\\raw.artifacts.csv modified at 2025-03-11 19:12:00.526592\n",
      "File C:\\dev\\play\\brainwave-data\\2024-08-23-21-29-46\\raw.average_slow_wave.png modified at 2025-01-10 17:51:08\n",
      "File C:\\dev\\play\\brainwave-data\\2024-08-23-21-29-46\\raw.edf modified at 2025-01-10 17:50:34\n",
      "File C:\\dev\\play\\brainwave-data\\2024-08-23-21-29-46\\raw.fif modified at 2024-09-09 09:40:40\n",
      "File C:\\dev\\play\\brainwave-data\\2024-08-23-21-29-46\\raw.final_wake_model.csv modified at 2024-12-19 17:24:28\n",
      "File C:\\dev\\play\\brainwave-data\\2024-08-23-21-29-46\\raw.final_wake_model_post_human.csv modified at 2024-12-19 17:24:32\n",
      "File C:\\dev\\play\\brainwave-data\\2024-08-23-21-29-46\\raw.final_wake_model_post_human.json modified at 2024-12-19 17:24:34\n"
     ]
    },
    {
     "name": "stderr",
     "output_type": "stream",
     "text": [
      " 15%|█▍        | 25/169 [01:57<11:31,  4.80s/it]"
     ]
    },
    {
     "name": "stdout",
     "output_type": "stream",
     "text": [
      "File C:\\dev\\play\\brainwave-data\\2024-08-23-21-29-46\\raw.microwakings.csv modified at 2025-01-08 11:16:46\n",
      "File C:\\dev\\play\\brainwave-data\\2024-08-23-21-29-46\\raw.night_events.csv modified at 2024-12-02 03:22:54\n",
      "File C:\\dev\\play\\brainwave-data\\2024-08-23-21-29-46\\raw.physical_features.1s.csv modified at 2025-03-20 07:42:00.794455\n",
      "File C:\\dev\\play\\brainwave-data\\2024-08-23-21-29-46\\raw.physical_features.csv modified at 2025-01-10 18:32:32\n",
      "File C:\\dev\\play\\brainwave-data\\2024-08-23-21-29-46\\raw.post_filter_psd_plot.png modified at 2025-01-10 17:50:38\n",
      "File C:\\dev\\play\\brainwave-data\\2024-08-23-21-29-46\\raw.post_human.csv modified at 2025-04-22 07:58:49.597475\n"
     ]
    },
    {
     "name": "stderr",
     "output_type": "stream",
     "text": [
      " 15%|█▍        | 25/169 [02:00<11:31,  4.80s/it]"
     ]
    },
    {
     "name": "stdout",
     "output_type": "stream",
     "text": [
      "C:\\dev\\play\\brainwave-data\\2024-08-23-21-29-46\\directory_checksum.md5 uploading to 2024-08-23-21-29-46/directory_checksum.md5, does_not_exist=False has_changed=True\n"
     ]
    },
    {
     "name": "stderr",
     "output_type": "stream",
     "text": [
      " 15%|█▍        | 25/169 [02:01<11:31,  4.80s/it]"
     ]
    },
    {
     "name": "stdout",
     "output_type": "stream",
     "text": [
      "Skipping C:\\dev\\play\\brainwave-data\\2024-08-23-21-29-46\\raw.artifacts.csv, identical file already exists in GCS.\n",
      "Skipping C:\\dev\\play\\brainwave-data\\2024-08-23-21-29-46\\raw.average_slow_wave.png, identical file already exists in GCS.\n",
      "Skipping C:\\dev\\play\\brainwave-data\\2024-08-23-21-29-46\\raw.edf, identical file already exists in GCS.\n"
     ]
    },
    {
     "name": "stderr",
     "output_type": "stream",
     "text": [
      " 15%|█▍        | 25/169 [02:01<11:31,  4.80s/it]"
     ]
    },
    {
     "name": "stdout",
     "output_type": "stream",
     "text": [
      "Skipping C:\\dev\\play\\brainwave-data\\2024-08-23-21-29-46\\raw.fif, identical file already exists in GCS.\n",
      "Skipping C:\\dev\\play\\brainwave-data\\2024-08-23-21-29-46\\raw.final_wake_model.csv, identical file already exists in GCS.\n",
      "Skipping C:\\dev\\play\\brainwave-data\\2024-08-23-21-29-46\\raw.final_wake_model_post_human.csv, identical file already exists in GCS.\n",
      "Skipping C:\\dev\\play\\brainwave-data\\2024-08-23-21-29-46\\raw.final_wake_model_post_human.json, identical file already exists in GCS.\n",
      "Skipping C:\\dev\\play\\brainwave-data\\2024-08-23-21-29-46\\raw.microwakings.csv, identical file already exists in GCS.\n"
     ]
    },
    {
     "name": "stderr",
     "output_type": "stream",
     "text": [
      " 15%|█▍        | 25/169 [02:01<11:31,  4.80s/it]"
     ]
    },
    {
     "name": "stdout",
     "output_type": "stream",
     "text": [
      "Skipping C:\\dev\\play\\brainwave-data\\2024-08-23-21-29-46\\raw.night_events.csv, identical file already exists in GCS.\n",
      "Skipping C:\\dev\\play\\brainwave-data\\2024-08-23-21-29-46\\raw.physical_features.1s.csv, identical file already exists in GCS.\n",
      "Skipping C:\\dev\\play\\brainwave-data\\2024-08-23-21-29-46\\raw.physical_features.csv, identical file already exists in GCS.\n",
      "Skipping C:\\dev\\play\\brainwave-data\\2024-08-23-21-29-46\\raw.post_filter_psd_plot.png, identical file already exists in GCS.\n"
     ]
    },
    {
     "name": "stderr",
     "output_type": "stream",
     "text": [
      " 15%|█▍        | 25/169 [02:01<11:31,  4.80s/it]"
     ]
    },
    {
     "name": "stdout",
     "output_type": "stream",
     "text": [
      "Skipping C:\\dev\\play\\brainwave-data\\2024-08-23-21-29-46\\raw.post_human.csv, identical file already exists in GCS.\n",
      "Skipping C:\\dev\\play\\brainwave-data\\2024-08-23-21-29-46\\raw.post_yasa.csv, identical file already exists in GCS.\n",
      "Skipping C:\\dev\\play\\brainwave-data\\2024-08-23-21-29-46\\raw.pre_filter_psd_plot.png, identical file already exists in GCS.\n",
      "Skipping C:\\dev\\play\\brainwave-data\\2024-08-23-21-29-46\\raw.sleep.json, identical file already exists in GCS.\n"
     ]
    },
    {
     "name": "stderr",
     "output_type": "stream",
     "text": [
      " 15%|█▍        | 25/169 [02:02<11:31,  4.80s/it]"
     ]
    },
    {
     "name": "stdout",
     "output_type": "stream",
     "text": [
      "Skipping C:\\dev\\play\\brainwave-data\\2024-08-23-21-29-46\\raw.sleep_stages.csv, identical file already exists in GCS.\n",
      "Skipping C:\\dev\\play\\brainwave-data\\2024-08-23-21-29-46\\raw.sleep_stages.F8-M1.csv, identical file already exists in GCS.\n",
      "Skipping C:\\dev\\play\\brainwave-data\\2024-08-23-21-29-46\\raw.sleep_stages.Fpz-M1.csv, identical file already exists in GCS.\n",
      "Skipping C:\\dev\\play\\brainwave-data\\2024-08-23-21-29-46\\raw.spectrogram.F8-M1.png, identical file already exists in GCS.\n"
     ]
    },
    {
     "name": "stderr",
     "output_type": "stream",
     "text": [
      " 15%|█▍        | 25/169 [02:02<11:31,  4.80s/it]"
     ]
    },
    {
     "name": "stdout",
     "output_type": "stream",
     "text": [
      "Skipping C:\\dev\\play\\brainwave-data\\2024-08-23-21-29-46\\raw.spectrogram.Fpz-M1.png, identical file already exists in GCS.\n",
      "Skipping C:\\dev\\play\\brainwave-data\\2024-08-23-21-29-46\\raw.spindle_summary.csv, identical file already exists in GCS.\n",
      "Skipping C:\\dev\\play\\brainwave-data\\2024-08-23-21-29-46\\raw.sw_summary.csv, identical file already exists in GCS.\n",
      "Skipping C:\\dev\\play\\brainwave-data\\2024-08-23-21-29-46\\raw.with_features.csv, identical file already exists in GCS.\n",
      "Skipping C:\\dev\\play\\brainwave-data\\2024-08-23-21-29-46\\raw.with_microwakings_multi1_debug.edf, identical file already exists in GCS.\n"
     ]
    },
    {
     "name": "stderr",
     "output_type": "stream",
     "text": [
      " 15%|█▌        | 26/169 [02:02<11:19,  4.75s/it]"
     ]
    },
    {
     "name": "stdout",
     "output_type": "stream",
     "text": [
      "Skipping C:\\dev\\play\\brainwave-data\\2024-08-23-21-29-46\\raw.yasa.csv, identical file already exists in GCS.\n",
      "Uploaded directory checksum for C:\\dev\\play\\brainwave-data\\2024-08-23-21-29-46 to 2024-08-23-21-29-46/directory_checksum.md5\n",
      "File C:\\dev\\play\\brainwave-data\\2024-08-24-21-11-51\\directory_checksum.md5 modified at 2025-04-12 07:16:02.581750\n",
      "File C:\\dev\\play\\brainwave-data\\2024-08-24-21-11-51\\raw.artifacts.csv modified at 2025-03-11 19:12:09.883297\n",
      "File C:\\dev\\play\\brainwave-data\\2024-08-24-21-11-51\\raw.average_slow_wave.png modified at 2025-01-10 17:51:54\n",
      "File C:\\dev\\play\\brainwave-data\\2024-08-24-21-11-51\\raw.edf modified at 2025-01-10 17:51:16\n",
      "File C:\\dev\\play\\brainwave-data\\2024-08-24-21-11-51\\raw.fif modified at 2024-09-09 09:42:22\n",
      "File C:\\dev\\play\\brainwave-data\\2024-08-24-21-11-51\\raw.final_wake_model.csv modified at 2024-12-19 17:24:38\n",
      "File C:\\dev\\play\\brainwave-data\\2024-08-24-21-11-51\\raw.final_wake_model_post_human.csv modified at 2024-12-19 17:24:42\n",
      "File C:\\dev\\play\\brainwave-data\\2024-08-24-21-11-51\\raw.final_wake_model_post_human.json modified at 2024-12-19 17:24:42\n",
      "File C:\\dev\\play\\brainwave-data\\2024-08-24-21-11-51\\raw.microwakings.csv modified at 2025-01-08 11:16:56\n",
      "File C:\\dev\\play\\brainwave-data\\2024-08-24-21-11-51\\raw.night_events.csv modified at 2024-12-02 03:23:42\n",
      "File C:\\dev\\play\\brainwave-data\\2024-08-24-21-11-51\\raw.physical_features.1s.csv modified at 2025-03-20 07:42:03.364272\n",
      "File C:\\dev\\play\\brainwave-data\\2024-08-24-21-11-51\\raw.physical_features.csv modified at 2025-01-10 18:32:32\n",
      "File C:\\dev\\play\\brainwave-data\\2024-08-24-21-11-51\\raw.post_filter_psd_plot.png modified at 2025-01-10 17:51:20\n",
      "File C:\\dev\\play\\brainwave-data\\2024-08-24-21-11-51\\raw.post_human.csv modified at 2025-04-22 07:58:51.940502\n"
     ]
    },
    {
     "name": "stderr",
     "output_type": "stream",
     "text": [
      " 15%|█▌        | 26/169 [02:05<11:19,  4.75s/it]"
     ]
    },
    {
     "name": "stdout",
     "output_type": "stream",
     "text": [
      "C:\\dev\\play\\brainwave-data\\2024-08-24-21-11-51\\directory_checksum.md5 uploading to 2024-08-24-21-11-51/directory_checksum.md5, does_not_exist=False has_changed=True\n"
     ]
    },
    {
     "name": "stderr",
     "output_type": "stream",
     "text": [
      " 15%|█▌        | 26/169 [02:05<11:19,  4.75s/it]"
     ]
    },
    {
     "name": "stdout",
     "output_type": "stream",
     "text": [
      "Skipping C:\\dev\\play\\brainwave-data\\2024-08-24-21-11-51\\raw.artifacts.csv, identical file already exists in GCS.\n",
      "Skipping C:\\dev\\play\\brainwave-data\\2024-08-24-21-11-51\\raw.average_slow_wave.png, identical file already exists in GCS.\n",
      "Skipping C:\\dev\\play\\brainwave-data\\2024-08-24-21-11-51\\raw.edf, identical file already exists in GCS.\n"
     ]
    },
    {
     "name": "stderr",
     "output_type": "stream",
     "text": [
      " 15%|█▌        | 26/169 [02:06<11:19,  4.75s/it]"
     ]
    },
    {
     "name": "stdout",
     "output_type": "stream",
     "text": [
      "Skipping C:\\dev\\play\\brainwave-data\\2024-08-24-21-11-51\\raw.fif, identical file already exists in GCS.\n",
      "Skipping C:\\dev\\play\\brainwave-data\\2024-08-24-21-11-51\\raw.final_wake_model.csv, identical file already exists in GCS.\n",
      "Skipping C:\\dev\\play\\brainwave-data\\2024-08-24-21-11-51\\raw.final_wake_model_post_human.csv, identical file already exists in GCS.\n",
      "Skipping C:\\dev\\play\\brainwave-data\\2024-08-24-21-11-51\\raw.final_wake_model_post_human.json, identical file already exists in GCS.\n",
      "Skipping C:\\dev\\play\\brainwave-data\\2024-08-24-21-11-51\\raw.microwakings.csv, identical file already exists in GCS.\n"
     ]
    },
    {
     "name": "stderr",
     "output_type": "stream",
     "text": [
      " 15%|█▌        | 26/169 [02:06<11:19,  4.75s/it]"
     ]
    },
    {
     "name": "stdout",
     "output_type": "stream",
     "text": [
      "Skipping C:\\dev\\play\\brainwave-data\\2024-08-24-21-11-51\\raw.night_events.csv, identical file already exists in GCS.\n",
      "Skipping C:\\dev\\play\\brainwave-data\\2024-08-24-21-11-51\\raw.physical_features.1s.csv, identical file already exists in GCS.\n",
      "Skipping C:\\dev\\play\\brainwave-data\\2024-08-24-21-11-51\\raw.physical_features.csv, identical file already exists in GCS.\n",
      "Skipping C:\\dev\\play\\brainwave-data\\2024-08-24-21-11-51\\raw.post_filter_psd_plot.png, identical file already exists in GCS.\n"
     ]
    },
    {
     "name": "stderr",
     "output_type": "stream",
     "text": [
      " 15%|█▌        | 26/169 [02:06<11:19,  4.75s/it]"
     ]
    },
    {
     "name": "stdout",
     "output_type": "stream",
     "text": [
      "Skipping C:\\dev\\play\\brainwave-data\\2024-08-24-21-11-51\\raw.post_human.csv, identical file already exists in GCS.\n",
      "Skipping C:\\dev\\play\\brainwave-data\\2024-08-24-21-11-51\\raw.post_yasa.csv, identical file already exists in GCS.\n",
      "Skipping C:\\dev\\play\\brainwave-data\\2024-08-24-21-11-51\\raw.pre_filter_psd_plot.png, identical file already exists in GCS.\n",
      "Skipping C:\\dev\\play\\brainwave-data\\2024-08-24-21-11-51\\raw.sleep.json, identical file already exists in GCS.\n"
     ]
    },
    {
     "name": "stderr",
     "output_type": "stream",
     "text": [
      " 15%|█▌        | 26/169 [02:06<11:19,  4.75s/it]"
     ]
    },
    {
     "name": "stdout",
     "output_type": "stream",
     "text": [
      "Skipping C:\\dev\\play\\brainwave-data\\2024-08-24-21-11-51\\raw.sleep_stages.csv, identical file already exists in GCS.\n",
      "Skipping C:\\dev\\play\\brainwave-data\\2024-08-24-21-11-51\\raw.sleep_stages.F8-M1.csv, identical file already exists in GCS.\n",
      "Skipping C:\\dev\\play\\brainwave-data\\2024-08-24-21-11-51\\raw.sleep_stages.Fpz-M1.csv, identical file already exists in GCS.\n",
      "Skipping C:\\dev\\play\\brainwave-data\\2024-08-24-21-11-51\\raw.spectrogram.F8-M1.png, identical file already exists in GCS.\n",
      "Skipping C:\\dev\\play\\brainwave-data\\2024-08-24-21-11-51\\raw.spectrogram.Fpz-M1.png, identical file already exists in GCS.\n"
     ]
    },
    {
     "name": "stderr",
     "output_type": "stream",
     "text": [
      " 15%|█▌        | 26/169 [02:07<11:19,  4.75s/it]"
     ]
    },
    {
     "name": "stdout",
     "output_type": "stream",
     "text": [
      "Skipping C:\\dev\\play\\brainwave-data\\2024-08-24-21-11-51\\raw.spindle_summary.csv, identical file already exists in GCS.\n",
      "Skipping C:\\dev\\play\\brainwave-data\\2024-08-24-21-11-51\\raw.sw_summary.csv, identical file already exists in GCS.\n",
      "Skipping C:\\dev\\play\\brainwave-data\\2024-08-24-21-11-51\\raw.with_features.csv, identical file already exists in GCS.\n",
      "Skipping C:\\dev\\play\\brainwave-data\\2024-08-24-21-11-51\\raw.with_microwakings_multi1_debug.edf, identical file already exists in GCS.\n",
      "Skipping C:\\dev\\play\\brainwave-data\\2024-08-24-21-11-51\\raw.yasa.csv, identical file already exists in GCS.\n"
     ]
    },
    {
     "name": "stderr",
     "output_type": "stream",
     "text": [
      " 16%|█▌        | 27/169 [02:07<11:06,  4.70s/it]"
     ]
    },
    {
     "name": "stdout",
     "output_type": "stream",
     "text": [
      "Uploaded directory checksum for C:\\dev\\play\\brainwave-data\\2024-08-24-21-11-51 to 2024-08-24-21-11-51/directory_checksum.md5\n",
      "File C:\\dev\\play\\brainwave-data\\2024-08-25-21-25-33\\directory_checksum.md5 modified at 2025-04-12 07:16:12.181273\n",
      "File C:\\dev\\play\\brainwave-data\\2024-08-25-21-25-33\\raw.artifacts.csv modified at 2025-03-11 19:12:19.155007\n",
      "File C:\\dev\\play\\brainwave-data\\2024-08-25-21-25-33\\raw.average_slow_wave.png modified at 2025-01-10 17:52:40\n",
      "File C:\\dev\\play\\brainwave-data\\2024-08-25-21-25-33\\raw.edf modified at 2025-01-10 17:51:58\n",
      "File C:\\dev\\play\\brainwave-data\\2024-08-25-21-25-33\\raw.fif modified at 2024-09-09 09:44:02\n",
      "File C:\\dev\\play\\brainwave-data\\2024-08-25-21-25-33\\raw.final_wake_model.csv modified at 2024-12-19 17:24:46\n",
      "File C:\\dev\\play\\brainwave-data\\2024-08-25-21-25-33\\raw.final_wake_model_post_human.csv modified at 2024-12-19 17:24:48\n",
      "File C:\\dev\\play\\brainwave-data\\2024-08-25-21-25-33\\raw.final_wake_model_post_human.json modified at 2024-12-19 17:24:50\n",
      "File C:\\dev\\play\\brainwave-data\\2024-08-25-21-25-33\\raw.microwakings.csv modified at 2025-01-08 11:17:10\n",
      "File C:\\dev\\play\\brainwave-data\\2024-08-25-21-25-33\\raw.night_events.csv modified at 2024-12-02 03:24:38\n",
      "File C:\\dev\\play\\brainwave-data\\2024-08-25-21-25-33\\raw.physical_features.1s.csv modified at 2025-03-20 07:42:06.268777\n",
      "File C:\\dev\\play\\brainwave-data\\2024-08-25-21-25-33\\raw.physical_features.csv modified at 2025-01-10 18:32:34\n",
      "File C:\\dev\\play\\brainwave-data\\2024-08-25-21-25-33\\raw.post_filter_psd_plot.png modified at 2025-01-10 17:52:02\n",
      "File C:\\dev\\play\\brainwave-data\\2024-08-25-21-25-33\\raw.post_human.csv modified at 2025-04-22 07:58:54.282170\n"
     ]
    },
    {
     "name": "stderr",
     "output_type": "stream",
     "text": [
      " 16%|█▌        | 27/169 [02:09<11:06,  4.70s/it]"
     ]
    },
    {
     "name": "stdout",
     "output_type": "stream",
     "text": [
      "C:\\dev\\play\\brainwave-data\\2024-08-25-21-25-33\\directory_checksum.md5 uploading to 2024-08-25-21-25-33/directory_checksum.md5, does_not_exist=False has_changed=True\n"
     ]
    },
    {
     "name": "stderr",
     "output_type": "stream",
     "text": [
      " 16%|█▌        | 27/169 [02:10<11:06,  4.70s/it]"
     ]
    },
    {
     "name": "stdout",
     "output_type": "stream",
     "text": [
      "Skipping C:\\dev\\play\\brainwave-data\\2024-08-25-21-25-33\\raw.artifacts.csv, identical file already exists in GCS.\n",
      "Skipping C:\\dev\\play\\brainwave-data\\2024-08-25-21-25-33\\raw.average_slow_wave.png, identical file already exists in GCS.\n",
      "Skipping C:\\dev\\play\\brainwave-data\\2024-08-25-21-25-33\\raw.edf, identical file already exists in GCS.\n"
     ]
    },
    {
     "name": "stderr",
     "output_type": "stream",
     "text": [
      " 16%|█▌        | 27/169 [02:10<11:06,  4.70s/it]"
     ]
    },
    {
     "name": "stdout",
     "output_type": "stream",
     "text": [
      "Skipping C:\\dev\\play\\brainwave-data\\2024-08-25-21-25-33\\raw.fif, identical file already exists in GCS.\n",
      "Skipping C:\\dev\\play\\brainwave-data\\2024-08-25-21-25-33\\raw.final_wake_model.csv, identical file already exists in GCS.\n",
      "Skipping C:\\dev\\play\\brainwave-data\\2024-08-25-21-25-33\\raw.final_wake_model_post_human.csv, identical file already exists in GCS.\n",
      "Skipping C:\\dev\\play\\brainwave-data\\2024-08-25-21-25-33\\raw.final_wake_model_post_human.json, identical file already exists in GCS.\n",
      "Skipping C:\\dev\\play\\brainwave-data\\2024-08-25-21-25-33\\raw.microwakings.csv, identical file already exists in GCS.\n"
     ]
    },
    {
     "name": "stderr",
     "output_type": "stream",
     "text": [
      " 16%|█▌        | 27/169 [02:10<11:06,  4.70s/it]"
     ]
    },
    {
     "name": "stdout",
     "output_type": "stream",
     "text": [
      "Skipping C:\\dev\\play\\brainwave-data\\2024-08-25-21-25-33\\raw.night_events.csv, identical file already exists in GCS.\n",
      "Skipping C:\\dev\\play\\brainwave-data\\2024-08-25-21-25-33\\raw.physical_features.1s.csv, identical file already exists in GCS.\n",
      "Skipping C:\\dev\\play\\brainwave-data\\2024-08-25-21-25-33\\raw.physical_features.csv, identical file already exists in GCS.\n",
      "Skipping C:\\dev\\play\\brainwave-data\\2024-08-25-21-25-33\\raw.post_filter_psd_plot.png, identical file already exists in GCS.\n"
     ]
    },
    {
     "name": "stderr",
     "output_type": "stream",
     "text": [
      " 16%|█▌        | 27/169 [02:11<11:06,  4.70s/it]"
     ]
    },
    {
     "name": "stdout",
     "output_type": "stream",
     "text": [
      "Skipping C:\\dev\\play\\brainwave-data\\2024-08-25-21-25-33\\raw.post_human.csv, identical file already exists in GCS.\n",
      "Skipping C:\\dev\\play\\brainwave-data\\2024-08-25-21-25-33\\raw.post_yasa.csv, identical file already exists in GCS.\n",
      "Skipping C:\\dev\\play\\brainwave-data\\2024-08-25-21-25-33\\raw.pre_filter_psd_plot.png, identical file already exists in GCS.\n",
      "Skipping C:\\dev\\play\\brainwave-data\\2024-08-25-21-25-33\\raw.scorings.json, identical file already exists in GCS.\n"
     ]
    },
    {
     "name": "stderr",
     "output_type": "stream",
     "text": [
      " 16%|█▌        | 27/169 [02:11<11:06,  4.70s/it]"
     ]
    },
    {
     "name": "stdout",
     "output_type": "stream",
     "text": [
      "Skipping C:\\dev\\play\\brainwave-data\\2024-08-25-21-25-33\\raw.sleep.json, identical file already exists in GCS.\n",
      "Skipping C:\\dev\\play\\brainwave-data\\2024-08-25-21-25-33\\raw.sleep_stages.csv, identical file already exists in GCS.\n",
      "Skipping C:\\dev\\play\\brainwave-data\\2024-08-25-21-25-33\\raw.sleep_stages.F8-M1.csv, identical file already exists in GCS.\n",
      "Skipping C:\\dev\\play\\brainwave-data\\2024-08-25-21-25-33\\raw.sleep_stages.Fpz-M1.csv, identical file already exists in GCS.\n",
      "Skipping C:\\dev\\play\\brainwave-data\\2024-08-25-21-25-33\\raw.spectrogram.F8-M1.png, identical file already exists in GCS.\n"
     ]
    },
    {
     "name": "stderr",
     "output_type": "stream",
     "text": [
      " 16%|█▌        | 27/169 [02:11<11:06,  4.70s/it]"
     ]
    },
    {
     "name": "stdout",
     "output_type": "stream",
     "text": [
      "Skipping C:\\dev\\play\\brainwave-data\\2024-08-25-21-25-33\\raw.spectrogram.Fpz-M1.png, identical file already exists in GCS.\n",
      "Skipping C:\\dev\\play\\brainwave-data\\2024-08-25-21-25-33\\raw.spindle_summary.csv, identical file already exists in GCS.\n",
      "Skipping C:\\dev\\play\\brainwave-data\\2024-08-25-21-25-33\\raw.sw_summary.csv, identical file already exists in GCS.\n",
      "Skipping C:\\dev\\play\\brainwave-data\\2024-08-25-21-25-33\\raw.with_features.csv, identical file already exists in GCS.\n",
      "Skipping C:\\dev\\play\\brainwave-data\\2024-08-25-21-25-33\\raw.with_microwakings_multi1_debug.edf, identical file already exists in GCS.\n"
     ]
    },
    {
     "name": "stderr",
     "output_type": "stream",
     "text": [
      " 17%|█▋        | 28/169 [02:11<11:01,  4.69s/it]"
     ]
    },
    {
     "name": "stdout",
     "output_type": "stream",
     "text": [
      "Skipping C:\\dev\\play\\brainwave-data\\2024-08-25-21-25-33\\raw.yasa.csv, identical file already exists in GCS.\n",
      "Uploaded directory checksum for C:\\dev\\play\\brainwave-data\\2024-08-25-21-25-33 to 2024-08-25-21-25-33/directory_checksum.md5\n",
      "File C:\\dev\\play\\brainwave-data\\2024-08-26-20-56-10\\directory_checksum.md5 modified at 2025-04-12 07:16:17.030331\n",
      "File C:\\dev\\play\\brainwave-data\\2024-08-26-20-56-10\\raw.artifacts.csv modified at 2025-03-11 19:12:31.356914\n",
      "File C:\\dev\\play\\brainwave-data\\2024-08-26-20-56-10\\raw.average_slow_wave.png modified at 2025-01-10 17:53:38\n",
      "File C:\\dev\\play\\brainwave-data\\2024-08-26-20-56-10\\raw.bak.scorings.temp.json modified at 2024-09-09 09:44:18\n",
      "File C:\\dev\\play\\brainwave-data\\2024-08-26-20-56-10\\raw.edf modified at 2025-01-10 17:52:44\n",
      "File C:\\dev\\play\\brainwave-data\\2024-08-26-20-56-10\\raw.fif modified at 2024-09-09 09:46:22\n",
      "File C:\\dev\\play\\brainwave-data\\2024-08-26-20-56-10\\raw.final_wake_model.csv modified at 2024-12-19 17:24:54\n",
      "File C:\\dev\\play\\brainwave-data\\2024-08-26-20-56-10\\raw.final_wake_model_post_human.csv modified at 2024-12-19 17:24:58\n",
      "File C:\\dev\\play\\brainwave-data\\2024-08-26-20-56-10\\raw.final_wake_model_post_human.json modified at 2024-12-19 17:25:00\n",
      "File C:\\dev\\play\\brainwave-data\\2024-08-26-20-56-10\\raw.fitbit_hypnogram.csv modified at 2024-09-09 09:46:22\n",
      "File C:\\dev\\play\\brainwave-data\\2024-08-26-20-56-10\\raw.microwakings.csv modified at 2025-01-08 11:17:22\n",
      "File C:\\dev\\play\\brainwave-data\\2024-08-26-20-56-10\\raw.night_events.csv modified at 2024-12-02 03:25:36\n",
      "File C:\\dev\\play\\brainwave-data\\2024-08-26-20-56-10\\raw.physical_features.1s.csv modified at 2025-03-20 07:42:08.456371\n",
      "File C:\\dev\\play\\brainwave-data\\2024-08-26-20-56-10\\raw.physical_features.csv modified at 2025-01-10 18:32:34\n",
      "File C:\\dev\\play\\brainwave-data\\2024-08-26-20-56-10\\raw.post_filter_psd_plot.png modified at 2025-01-10 17:52:48\n",
      "File C:\\dev\\play\\brainwave-data\\2024-08-26-20-56-10\\raw.post_human.csv modified at 2025-04-22 07:58:57.775478\n"
     ]
    },
    {
     "name": "stderr",
     "output_type": "stream",
     "text": [
      " 17%|█▋        | 28/169 [02:14<11:01,  4.69s/it]"
     ]
    },
    {
     "name": "stdout",
     "output_type": "stream",
     "text": [
      "C:\\dev\\play\\brainwave-data\\2024-08-26-20-56-10\\directory_checksum.md5 uploading to 2024-08-26-20-56-10/directory_checksum.md5, does_not_exist=False has_changed=True\n"
     ]
    },
    {
     "name": "stderr",
     "output_type": "stream",
     "text": [
      " 17%|█▋        | 28/169 [02:15<11:01,  4.69s/it]"
     ]
    },
    {
     "name": "stdout",
     "output_type": "stream",
     "text": [
      "Skipping C:\\dev\\play\\brainwave-data\\2024-08-26-20-56-10\\raw.artifacts.csv, identical file already exists in GCS.\n",
      "Skipping C:\\dev\\play\\brainwave-data\\2024-08-26-20-56-10\\raw.average_slow_wave.png, identical file already exists in GCS.\n",
      "Skipping C:\\dev\\play\\brainwave-data\\2024-08-26-20-56-10\\raw.bak.scorings.temp.json, identical file already exists in GCS.\n"
     ]
    },
    {
     "name": "stderr",
     "output_type": "stream",
     "text": [
      " 17%|█▋        | 28/169 [02:15<11:01,  4.69s/it]"
     ]
    },
    {
     "name": "stdout",
     "output_type": "stream",
     "text": [
      "Skipping C:\\dev\\play\\brainwave-data\\2024-08-26-20-56-10\\raw.edf, identical file already exists in GCS.\n"
     ]
    },
    {
     "name": "stderr",
     "output_type": "stream",
     "text": [
      " 17%|█▋        | 28/169 [02:15<11:01,  4.69s/it]"
     ]
    },
    {
     "name": "stdout",
     "output_type": "stream",
     "text": [
      "Skipping C:\\dev\\play\\brainwave-data\\2024-08-26-20-56-10\\raw.fif, identical file already exists in GCS.\n",
      "Skipping C:\\dev\\play\\brainwave-data\\2024-08-26-20-56-10\\raw.final_wake_model.csv, identical file already exists in GCS.\n",
      "Skipping C:\\dev\\play\\brainwave-data\\2024-08-26-20-56-10\\raw.final_wake_model_post_human.csv, identical file already exists in GCS.\n",
      "Skipping C:\\dev\\play\\brainwave-data\\2024-08-26-20-56-10\\raw.final_wake_model_post_human.json, identical file already exists in GCS.\n",
      "Skipping C:\\dev\\play\\brainwave-data\\2024-08-26-20-56-10\\raw.fitbit_hypnogram.csv, identical file already exists in GCS.\n"
     ]
    },
    {
     "name": "stderr",
     "output_type": "stream",
     "text": [
      " 17%|█▋        | 28/169 [02:15<11:01,  4.69s/it]"
     ]
    },
    {
     "name": "stdout",
     "output_type": "stream",
     "text": [
      "Skipping C:\\dev\\play\\brainwave-data\\2024-08-26-20-56-10\\raw.microwakings.csv, identical file already exists in GCS.\n",
      "Skipping C:\\dev\\play\\brainwave-data\\2024-08-26-20-56-10\\raw.night_events.csv, identical file already exists in GCS.\n",
      "Skipping C:\\dev\\play\\brainwave-data\\2024-08-26-20-56-10\\raw.physical_features.1s.csv, identical file already exists in GCS.\n",
      "Skipping C:\\dev\\play\\brainwave-data\\2024-08-26-20-56-10\\raw.physical_features.csv, identical file already exists in GCS.\n",
      "Skipping C:\\dev\\play\\brainwave-data\\2024-08-26-20-56-10\\raw.post_filter_psd_plot.png, identical file already exists in GCS.\n"
     ]
    },
    {
     "name": "stderr",
     "output_type": "stream",
     "text": [
      " 17%|█▋        | 28/169 [02:16<11:01,  4.69s/it]"
     ]
    },
    {
     "name": "stdout",
     "output_type": "stream",
     "text": [
      "Skipping C:\\dev\\play\\brainwave-data\\2024-08-26-20-56-10\\raw.post_human.csv, identical file already exists in GCS.\n",
      "Skipping C:\\dev\\play\\brainwave-data\\2024-08-26-20-56-10\\raw.post_yasa.csv, identical file already exists in GCS.\n",
      "Skipping C:\\dev\\play\\brainwave-data\\2024-08-26-20-56-10\\raw.pre_filter_psd_plot.png, identical file already exists in GCS.\n"
     ]
    },
    {
     "name": "stderr",
     "output_type": "stream",
     "text": [
      " 17%|█▋        | 28/169 [02:16<11:01,  4.69s/it]"
     ]
    },
    {
     "name": "stdout",
     "output_type": "stream",
     "text": [
      "Skipping C:\\dev\\play\\brainwave-data\\2024-08-26-20-56-10\\raw.scorings.json, identical file already exists in GCS.\n",
      "Skipping C:\\dev\\play\\brainwave-data\\2024-08-26-20-56-10\\raw.scorings.temp.json, identical file already exists in GCS.\n",
      "Skipping C:\\dev\\play\\brainwave-data\\2024-08-26-20-56-10\\raw.sleep.json, identical file already exists in GCS.\n",
      "Skipping C:\\dev\\play\\brainwave-data\\2024-08-26-20-56-10\\raw.sleep_stages.csv, identical file already exists in GCS.\n",
      "Skipping C:\\dev\\play\\brainwave-data\\2024-08-26-20-56-10\\raw.sleep_stages.F4-M1.csv, identical file already exists in GCS.\n"
     ]
    },
    {
     "name": "stderr",
     "output_type": "stream",
     "text": [
      " 17%|█▋        | 28/169 [02:16<11:01,  4.69s/it]"
     ]
    },
    {
     "name": "stdout",
     "output_type": "stream",
     "text": [
      "Skipping C:\\dev\\play\\brainwave-data\\2024-08-26-20-56-10\\raw.sleep_stages.F8-M1.csv, identical file already exists in GCS.\n",
      "Skipping C:\\dev\\play\\brainwave-data\\2024-08-26-20-56-10\\raw.sleep_stages.Fpz-M1.csv, identical file already exists in GCS.\n",
      "Skipping C:\\dev\\play\\brainwave-data\\2024-08-26-20-56-10\\raw.spectrogram.F4-M1.png, identical file already exists in GCS.\n",
      "Skipping C:\\dev\\play\\brainwave-data\\2024-08-26-20-56-10\\raw.spectrogram.F8-M1.png, identical file already exists in GCS.\n",
      "Skipping C:\\dev\\play\\brainwave-data\\2024-08-26-20-56-10\\raw.spectrogram.Fpz-M1.png, identical file already exists in GCS.\n"
     ]
    },
    {
     "name": "stderr",
     "output_type": "stream",
     "text": [
      " 17%|█▋        | 28/169 [02:16<11:01,  4.69s/it]"
     ]
    },
    {
     "name": "stdout",
     "output_type": "stream",
     "text": [
      "Skipping C:\\dev\\play\\brainwave-data\\2024-08-26-20-56-10\\raw.spindle_summary.csv, identical file already exists in GCS.\n",
      "Skipping C:\\dev\\play\\brainwave-data\\2024-08-26-20-56-10\\raw.sw_summary.csv, identical file already exists in GCS.\n",
      "Skipping C:\\dev\\play\\brainwave-data\\2024-08-26-20-56-10\\raw.with_features.csv, identical file already exists in GCS.\n",
      "Skipping C:\\dev\\play\\brainwave-data\\2024-08-26-20-56-10\\raw.with_microwakings_multi1_debug.edf, identical file already exists in GCS.\n",
      "Skipping C:\\dev\\play\\brainwave-data\\2024-08-26-20-56-10\\raw.with_predictions.csv, identical file already exists in GCS.\n"
     ]
    },
    {
     "name": "stderr",
     "output_type": "stream",
     "text": [
      " 17%|█▋        | 29/169 [02:17<11:26,  4.90s/it]"
     ]
    },
    {
     "name": "stdout",
     "output_type": "stream",
     "text": [
      "Skipping C:\\dev\\play\\brainwave-data\\2024-08-26-20-56-10\\raw.with_predictions.edf, identical file already exists in GCS.\n",
      "Skipping C:\\dev\\play\\brainwave-data\\2024-08-26-20-56-10\\raw.with_predictions.scorings.json, identical file already exists in GCS.\n",
      "Skipping C:\\dev\\play\\brainwave-data\\2024-08-26-20-56-10\\raw.yasa.csv, identical file already exists in GCS.\n",
      "Uploaded directory checksum for C:\\dev\\play\\brainwave-data\\2024-08-26-20-56-10 to 2024-08-26-20-56-10/directory_checksum.md5\n",
      "File C:\\dev\\play\\brainwave-data\\2024-09-01-21-11-15\\directory_checksum.md5 modified at 2025-04-12 07:16:23.158644\n",
      "File C:\\dev\\play\\brainwave-data\\2024-09-01-21-11-15\\raw.artifacts.csv modified at 2025-03-11 19:12:36.216618\n",
      "File C:\\dev\\play\\brainwave-data\\2024-09-01-21-11-15\\raw.average_slow_wave.png modified at 2025-01-10 17:54:02\n",
      "File C:\\dev\\play\\brainwave-data\\2024-09-01-21-11-15\\raw.edf modified at 2025-01-10 17:53:42\n",
      "File C:\\dev\\play\\brainwave-data\\2024-09-01-21-11-15\\raw.fif modified at 2024-09-09 09:47:24\n",
      "File C:\\dev\\play\\brainwave-data\\2024-09-01-21-11-15\\raw.final_wake_model.csv modified at 2024-12-19 17:25:04\n",
      "File C:\\dev\\play\\brainwave-data\\2024-09-01-21-11-15\\raw.final_wake_model_post_human.csv modified at 2024-12-19 17:25:06\n",
      "File C:\\dev\\play\\brainwave-data\\2024-09-01-21-11-15\\raw.final_wake_model_post_human.json modified at 2024-12-19 17:25:08\n",
      "File C:\\dev\\play\\brainwave-data\\2024-09-01-21-11-15\\raw.manual_sleep_scoring_model.pkl modified at 2024-09-09 09:47:26\n",
      "File C:\\dev\\play\\brainwave-data\\2024-09-01-21-11-15\\raw.microwakings.csv modified at 2025-01-08 11:17:32\n"
     ]
    },
    {
     "name": "stderr",
     "output_type": "stream",
     "text": [
      " 17%|█▋        | 29/169 [02:17<11:26,  4.90s/it]"
     ]
    },
    {
     "name": "stdout",
     "output_type": "stream",
     "text": [
      "File C:\\dev\\play\\brainwave-data\\2024-09-01-21-11-15\\raw.night_events.csv modified at 2024-12-02 03:26:50\n",
      "File C:\\dev\\play\\brainwave-data\\2024-09-01-21-11-15\\raw.physical_features.1s.csv modified at 2025-03-20 07:42:11.322494\n",
      "File C:\\dev\\play\\brainwave-data\\2024-09-01-21-11-15\\raw.physical_features.csv modified at 2025-01-10 18:32:36\n",
      "File C:\\dev\\play\\brainwave-data\\2024-09-01-21-11-15\\raw.post_filter_psd_plot.png modified at 2025-01-10 17:53:44\n",
      "File C:\\dev\\play\\brainwave-data\\2024-09-01-21-11-15\\raw.post_human.csv modified at 2025-04-22 07:58:59.095834\n"
     ]
    },
    {
     "name": "stderr",
     "output_type": "stream",
     "text": [
      " 17%|█▋        | 29/169 [02:19<11:26,  4.90s/it]"
     ]
    },
    {
     "name": "stdout",
     "output_type": "stream",
     "text": [
      "C:\\dev\\play\\brainwave-data\\2024-09-01-21-11-15\\directory_checksum.md5 uploading to 2024-09-01-21-11-15/directory_checksum.md5, does_not_exist=False has_changed=True\n"
     ]
    },
    {
     "name": "stderr",
     "output_type": "stream",
     "text": [
      " 17%|█▋        | 29/169 [02:20<11:26,  4.90s/it]"
     ]
    },
    {
     "name": "stdout",
     "output_type": "stream",
     "text": [
      "Skipping C:\\dev\\play\\brainwave-data\\2024-09-01-21-11-15\\raw.artifacts.csv, identical file already exists in GCS.\n",
      "Skipping C:\\dev\\play\\brainwave-data\\2024-09-01-21-11-15\\raw.average_slow_wave.png, identical file already exists in GCS.\n",
      "Skipping C:\\dev\\play\\brainwave-data\\2024-09-01-21-11-15\\raw.edf, identical file already exists in GCS.\n"
     ]
    },
    {
     "name": "stderr",
     "output_type": "stream",
     "text": [
      " 17%|█▋        | 29/169 [02:20<11:26,  4.90s/it]"
     ]
    },
    {
     "name": "stdout",
     "output_type": "stream",
     "text": [
      "Skipping C:\\dev\\play\\brainwave-data\\2024-09-01-21-11-15\\raw.fif, identical file already exists in GCS.\n",
      "Skipping C:\\dev\\play\\brainwave-data\\2024-09-01-21-11-15\\raw.final_wake_model.csv, identical file already exists in GCS.\n",
      "Skipping C:\\dev\\play\\brainwave-data\\2024-09-01-21-11-15\\raw.final_wake_model_post_human.csv, identical file already exists in GCS.\n",
      "Skipping C:\\dev\\play\\brainwave-data\\2024-09-01-21-11-15\\raw.final_wake_model_post_human.json, identical file already exists in GCS.\n",
      "Skipping C:\\dev\\play\\brainwave-data\\2024-09-01-21-11-15\\raw.manual_sleep_scoring_model.pkl, identical file already exists in GCS.\n"
     ]
    },
    {
     "name": "stderr",
     "output_type": "stream",
     "text": [
      " 17%|█▋        | 29/169 [02:20<11:26,  4.90s/it]"
     ]
    },
    {
     "name": "stdout",
     "output_type": "stream",
     "text": [
      "Skipping C:\\dev\\play\\brainwave-data\\2024-09-01-21-11-15\\raw.microwakings.csv, identical file already exists in GCS.\n",
      "Skipping C:\\dev\\play\\brainwave-data\\2024-09-01-21-11-15\\raw.night_events.csv, identical file already exists in GCS.\n",
      "Skipping C:\\dev\\play\\brainwave-data\\2024-09-01-21-11-15\\raw.physical_features.1s.csv, identical file already exists in GCS.\n",
      "Skipping C:\\dev\\play\\brainwave-data\\2024-09-01-21-11-15\\raw.physical_features.csv, identical file already exists in GCS.\n",
      "Skipping C:\\dev\\play\\brainwave-data\\2024-09-01-21-11-15\\raw.post_filter_psd_plot.png, identical file already exists in GCS.\n"
     ]
    },
    {
     "name": "stderr",
     "output_type": "stream",
     "text": [
      "                                                "
     ]
    },
    {
     "name": "stdout",
     "output_type": "stream",
     "text": [
      "Skipping C:\\dev\\play\\brainwave-data\\2024-09-01-21-11-15\\raw.post_human.csv, identical file already exists in GCS.\n",
      "Skipping C:\\dev\\play\\brainwave-data\\2024-09-01-21-11-15\\raw.post_yasa.csv, identical file already exists in GCS.\n",
      "Skipping C:\\dev\\play\\brainwave-data\\2024-09-01-21-11-15\\raw.pre_filter_psd_plot.png, identical file already exists in GCS.\n",
      "Skipping C:\\dev\\play\\brainwave-data\\2024-09-01-21-11-15\\raw.scorings - Copy.json, identical file already exists in GCS.\n"
     ]
    },
    {
     "name": "stderr",
     "output_type": "stream",
     "text": [
      " 17%|█▋        | 29/169 [02:21<11:26,  4.90s/it]"
     ]
    },
    {
     "name": "stdout",
     "output_type": "stream",
     "text": [
      "Skipping C:\\dev\\play\\brainwave-data\\2024-09-01-21-11-15\\raw.scorings.json, identical file already exists in GCS.\n",
      "Skipping C:\\dev\\play\\brainwave-data\\2024-09-01-21-11-15\\raw.sleep.json, identical file already exists in GCS.\n",
      "Skipping C:\\dev\\play\\brainwave-data\\2024-09-01-21-11-15\\raw.sleep_scoring_catboost_model.cbm, identical file already exists in GCS.\n",
      "Skipping C:\\dev\\play\\brainwave-data\\2024-09-01-21-11-15\\raw.sleep_stages.csv, identical file already exists in GCS.\n"
     ]
    },
    {
     "name": "stderr",
     "output_type": "stream",
     "text": [
      " 17%|█▋        | 29/169 [02:21<11:26,  4.90s/it]"
     ]
    },
    {
     "name": "stdout",
     "output_type": "stream",
     "text": [
      "Skipping C:\\dev\\play\\brainwave-data\\2024-09-01-21-11-15\\raw.sleep_stages.Fpz-M1.csv, identical file already exists in GCS.\n",
      "Skipping C:\\dev\\play\\brainwave-data\\2024-09-01-21-11-15\\raw.spectrogram.Fpz-M1.png, identical file already exists in GCS.\n",
      "Skipping C:\\dev\\play\\brainwave-data\\2024-09-01-21-11-15\\raw.spindle_summary.csv, identical file already exists in GCS.\n",
      "Skipping C:\\dev\\play\\brainwave-data\\2024-09-01-21-11-15\\raw.sw_summary.csv, identical file already exists in GCS.\n"
     ]
    },
    {
     "name": "stderr",
     "output_type": "stream",
     "text": [
      " 17%|█▋        | 29/169 [02:21<11:26,  4.90s/it]"
     ]
    },
    {
     "name": "stdout",
     "output_type": "stream",
     "text": [
      "Skipping C:\\dev\\play\\brainwave-data\\2024-09-01-21-11-15\\raw.trained_models.pkl, identical file already exists in GCS.\n",
      "Skipping C:\\dev\\play\\brainwave-data\\2024-09-01-21-11-15\\raw.with_features.csv, identical file already exists in GCS.\n",
      "Skipping C:\\dev\\play\\brainwave-data\\2024-09-01-21-11-15\\raw.with_microwakings_multi1_debug.edf, identical file already exists in GCS.\n",
      "Skipping C:\\dev\\play\\brainwave-data\\2024-09-01-21-11-15\\raw.yasa.csv, identical file already exists in GCS.\n"
     ]
    },
    {
     "name": "stderr",
     "output_type": "stream",
     "text": [
      " 18%|█▊        | 30/169 [02:21<11:05,  4.79s/it]"
     ]
    },
    {
     "name": "stdout",
     "output_type": "stream",
     "text": [
      "Uploaded directory checksum for C:\\dev\\play\\brainwave-data\\2024-09-01-21-11-15 to 2024-09-01-21-11-15/directory_checksum.md5\n",
      "File C:\\dev\\play\\brainwave-data\\2024-09-02-21-42-00\\directory_checksum.md5 modified at 2025-04-12 07:16:29.684464\n",
      "File C:\\dev\\play\\brainwave-data\\2024-09-02-21-42-00\\raw.artifacts.csv modified at 2025-03-11 19:12:40.808173\n",
      "File C:\\dev\\play\\brainwave-data\\2024-09-02-21-42-00\\raw.average_slow_wave.png modified at 2025-01-10 17:54:24\n",
      "File C:\\dev\\play\\brainwave-data\\2024-09-02-21-42-00\\raw.edf modified at 2025-01-10 17:54:04\n",
      "File C:\\dev\\play\\brainwave-data\\2024-09-02-21-42-00\\raw.fif modified at 2024-09-09 09:48:18\n",
      "File C:\\dev\\play\\brainwave-data\\2024-09-02-21-42-00\\raw.final_wake_model.csv modified at 2024-12-19 17:25:10\n",
      "File C:\\dev\\play\\brainwave-data\\2024-09-02-21-42-00\\raw.final_wake_model_post_human.csv modified at 2024-12-19 17:25:12\n",
      "File C:\\dev\\play\\brainwave-data\\2024-09-02-21-42-00\\raw.final_wake_model_post_human.json modified at 2024-12-19 17:25:12\n",
      "File C:\\dev\\play\\brainwave-data\\2024-09-02-21-42-00\\raw.microwakings.csv modified at 2025-01-08 11:17:40\n",
      "File C:\\dev\\play\\brainwave-data\\2024-09-02-21-42-00\\raw.microwakins.csv modified at 2024-09-09 09:48:18\n",
      "File C:\\dev\\play\\brainwave-data\\2024-09-02-21-42-00\\raw.night_events.csv modified at 2024-12-02 03:27:20\n",
      "File C:\\dev\\play\\brainwave-data\\2024-09-02-21-42-00\\raw.physical_features.1s.csv modified at 2025-03-20 07:42:13.553283\n",
      "File C:\\dev\\play\\brainwave-data\\2024-09-02-21-42-00\\raw.physical_features.csv modified at 2025-01-10 18:32:36\n",
      "File C:\\dev\\play\\brainwave-data\\2024-09-02-21-42-00\\raw.post_filter_psd_plot.png modified at 2025-01-10 17:54:08\n",
      "File C:\\dev\\play\\brainwave-data\\2024-09-02-21-42-00\\raw.post_human.csv modified at 2025-04-22 07:59:00.396906\n"
     ]
    },
    {
     "name": "stderr",
     "output_type": "stream",
     "text": [
      " 18%|█▊        | 30/169 [02:24<11:05,  4.79s/it]"
     ]
    },
    {
     "name": "stdout",
     "output_type": "stream",
     "text": [
      "C:\\dev\\play\\brainwave-data\\2024-09-02-21-42-00\\directory_checksum.md5 uploading to 2024-09-02-21-42-00/directory_checksum.md5, does_not_exist=False has_changed=True\n"
     ]
    },
    {
     "name": "stderr",
     "output_type": "stream",
     "text": [
      " 18%|█▊        | 30/169 [02:24<11:05,  4.79s/it]"
     ]
    },
    {
     "name": "stdout",
     "output_type": "stream",
     "text": [
      "Skipping C:\\dev\\play\\brainwave-data\\2024-09-02-21-42-00\\raw.artifacts.csv, identical file already exists in GCS.\n",
      "Skipping C:\\dev\\play\\brainwave-data\\2024-09-02-21-42-00\\raw.average_slow_wave.png, identical file already exists in GCS.\n",
      "Skipping C:\\dev\\play\\brainwave-data\\2024-09-02-21-42-00\\raw.edf, identical file already exists in GCS.\n"
     ]
    },
    {
     "name": "stderr",
     "output_type": "stream",
     "text": [
      " 18%|█▊        | 30/169 [02:25<11:05,  4.79s/it]"
     ]
    },
    {
     "name": "stdout",
     "output_type": "stream",
     "text": [
      "Skipping C:\\dev\\play\\brainwave-data\\2024-09-02-21-42-00\\raw.fif, identical file already exists in GCS.\n",
      "Skipping C:\\dev\\play\\brainwave-data\\2024-09-02-21-42-00\\raw.final_wake_model.csv, identical file already exists in GCS.\n",
      "Skipping C:\\dev\\play\\brainwave-data\\2024-09-02-21-42-00\\raw.final_wake_model_post_human.csv, identical file already exists in GCS.\n",
      "Skipping C:\\dev\\play\\brainwave-data\\2024-09-02-21-42-00\\raw.final_wake_model_post_human.json, identical file already exists in GCS.\n",
      "Skipping C:\\dev\\play\\brainwave-data\\2024-09-02-21-42-00\\raw.microwakings.csv, identical file already exists in GCS.\n"
     ]
    },
    {
     "name": "stderr",
     "output_type": "stream",
     "text": [
      " 18%|█▊        | 30/169 [02:25<11:05,  4.79s/it]"
     ]
    },
    {
     "name": "stdout",
     "output_type": "stream",
     "text": [
      "Skipping C:\\dev\\play\\brainwave-data\\2024-09-02-21-42-00\\raw.microwakins.csv, identical file already exists in GCS.\n",
      "Skipping C:\\dev\\play\\brainwave-data\\2024-09-02-21-42-00\\raw.night_events.csv, identical file already exists in GCS.\n",
      "Skipping C:\\dev\\play\\brainwave-data\\2024-09-02-21-42-00\\raw.physical_features.1s.csv, identical file already exists in GCS.\n",
      "Skipping C:\\dev\\play\\brainwave-data\\2024-09-02-21-42-00\\raw.physical_features.csv, identical file already exists in GCS.\n",
      "Skipping C:\\dev\\play\\brainwave-data\\2024-09-02-21-42-00\\raw.post_filter_psd_plot.png, identical file already exists in GCS.\n"
     ]
    },
    {
     "name": "stderr",
     "output_type": "stream",
     "text": [
      " 18%|█▊        | 30/169 [02:25<11:05,  4.79s/it]"
     ]
    },
    {
     "name": "stdout",
     "output_type": "stream",
     "text": [
      "Skipping C:\\dev\\play\\brainwave-data\\2024-09-02-21-42-00\\raw.post_human.csv, identical file already exists in GCS.\n",
      "Skipping C:\\dev\\play\\brainwave-data\\2024-09-02-21-42-00\\raw.post_yasa.csv, identical file already exists in GCS.\n",
      "Skipping C:\\dev\\play\\brainwave-data\\2024-09-02-21-42-00\\raw.pre_filter_psd_plot.png, identical file already exists in GCS.\n",
      "Skipping C:\\dev\\play\\brainwave-data\\2024-09-02-21-42-00\\raw.scorings - Copy.json, identical file already exists in GCS.\n"
     ]
    },
    {
     "name": "stderr",
     "output_type": "stream",
     "text": [
      " 18%|█▊        | 30/169 [02:25<11:05,  4.79s/it]"
     ]
    },
    {
     "name": "stdout",
     "output_type": "stream",
     "text": [
      "Skipping C:\\dev\\play\\brainwave-data\\2024-09-02-21-42-00\\raw.scorings.json, identical file already exists in GCS.\n",
      "Skipping C:\\dev\\play\\brainwave-data\\2024-09-02-21-42-00\\raw.sleep.json, identical file already exists in GCS.\n",
      "Skipping C:\\dev\\play\\brainwave-data\\2024-09-02-21-42-00\\raw.sleep_stages.csv, identical file already exists in GCS.\n",
      "Skipping C:\\dev\\play\\brainwave-data\\2024-09-02-21-42-00\\raw.sleep_stages.Fpz-M1.csv, identical file already exists in GCS.\n",
      "Skipping C:\\dev\\play\\brainwave-data\\2024-09-02-21-42-00\\raw.spectrogram.Fpz-M1.png, identical file already exists in GCS.\n"
     ]
    },
    {
     "name": "stderr",
     "output_type": "stream",
     "text": [
      " 18%|█▊        | 30/169 [02:26<11:05,  4.79s/it]"
     ]
    },
    {
     "name": "stdout",
     "output_type": "stream",
     "text": [
      "Skipping C:\\dev\\play\\brainwave-data\\2024-09-02-21-42-00\\raw.spindle_summary.csv, identical file already exists in GCS.\n",
      "Skipping C:\\dev\\play\\brainwave-data\\2024-09-02-21-42-00\\raw.sw_summary.csv, identical file already exists in GCS.\n",
      "Skipping C:\\dev\\play\\brainwave-data\\2024-09-02-21-42-00\\raw.with_features.csv, identical file already exists in GCS.\n",
      "Skipping C:\\dev\\play\\brainwave-data\\2024-09-02-21-42-00\\raw.with_microwakings_multi1_debug.edf, identical file already exists in GCS.\n",
      "Skipping C:\\dev\\play\\brainwave-data\\2024-09-02-21-42-00\\raw.yasa.csv, identical file already exists in GCS.\n"
     ]
    },
    {
     "name": "stderr",
     "output_type": "stream",
     "text": [
      " 18%|█▊        | 31/169 [02:26<10:43,  4.67s/it]"
     ]
    },
    {
     "name": "stdout",
     "output_type": "stream",
     "text": [
      "Uploaded directory checksum for C:\\dev\\play\\brainwave-data\\2024-09-02-21-42-00 to 2024-09-02-21-42-00/directory_checksum.md5\n",
      "File C:\\dev\\play\\brainwave-data\\2024-09-03-21-10-58\\2024-09-03-21-10-58.brainflow.csv.bz2 modified at 2024-09-25 19:58:32\n",
      "File C:\\dev\\play\\brainwave-data\\2024-09-03-21-10-58\\directory_checksum.md5 modified at 2025-04-12 07:16:36.364944\n",
      "File C:\\dev\\play\\brainwave-data\\2024-09-03-21-10-58\\raw.artifacts.csv modified at 2025-03-11 19:12:48.419290\n",
      "File C:\\dev\\play\\brainwave-data\\2024-09-03-21-10-58\\raw.average_slow_wave.png modified at 2025-01-10 17:55:12\n",
      "File C:\\dev\\play\\brainwave-data\\2024-09-03-21-10-58\\raw.edf modified at 2025-01-10 17:54:32\n",
      "File C:\\dev\\play\\brainwave-data\\2024-09-03-21-10-58\\raw.fif modified at 2024-09-25 13:03:10\n",
      "File C:\\dev\\play\\brainwave-data\\2024-09-03-21-10-58\\raw.fif.bz2 modified at 2024-09-25 18:38:32\n",
      "File C:\\dev\\play\\brainwave-data\\2024-09-03-21-10-58\\raw.final_wake_model.csv modified at 2024-12-19 17:25:16\n",
      "File C:\\dev\\play\\brainwave-data\\2024-09-03-21-10-58\\raw.final_wake_model_post_human.csv modified at 2024-12-19 17:25:18\n",
      "File C:\\dev\\play\\brainwave-data\\2024-09-03-21-10-58\\raw.final_wake_model_post_human.json modified at 2024-12-19 17:25:20\n",
      "File C:\\dev\\play\\brainwave-data\\2024-09-03-21-10-58\\raw.microwakings.csv modified at 2025-01-08 11:17:52\n",
      "File C:\\dev\\play\\brainwave-data\\2024-09-03-21-10-58\\raw.night_events.csv modified at 2024-12-02 03:27:54\n",
      "File C:\\dev\\play\\brainwave-data\\2024-09-03-21-10-58\\raw.physical_features.1s.csv modified at 2025-03-20 07:42:17.572556\n",
      "File C:\\dev\\play\\brainwave-data\\2024-09-03-21-10-58\\raw.physical_features.csv modified at 2025-01-10 18:32:38\n",
      "File C:\\dev\\play\\brainwave-data\\2024-09-03-21-10-58\\raw.post_filter_psd_plot.png modified at 2025-01-10 17:54:36\n",
      "File C:\\dev\\play\\brainwave-data\\2024-09-03-21-10-58\\raw.post_human.csv modified at 2025-04-22 07:59:02.414275\n"
     ]
    },
    {
     "name": "stderr",
     "output_type": "stream",
     "text": [
      " 18%|█▊        | 31/169 [02:29<10:43,  4.67s/it]"
     ]
    },
    {
     "name": "stdout",
     "output_type": "stream",
     "text": [
      "Skipping C:\\dev\\play\\brainwave-data\\2024-09-03-21-10-58\\2024-09-03-21-10-58.brainflow.csv.bz2, identical file already exists in GCS.\n",
      "C:\\dev\\play\\brainwave-data\\2024-09-03-21-10-58\\directory_checksum.md5 uploading to 2024-09-03-21-10-58/directory_checksum.md5, does_not_exist=False has_changed=True\n"
     ]
    },
    {
     "name": "stderr",
     "output_type": "stream",
     "text": [
      " 18%|█▊        | 31/169 [02:29<10:43,  4.67s/it]"
     ]
    }
   ],
   "source": [
    "from upload import upload_dir_to_gcs_skipping_existing\n",
    "import os\n",
    "\n",
    "errors = []\n",
    "dataframes = []\n",
    "\n",
    "from tqdm.auto import tqdm\n",
    "\n",
    "dirs = next(os.walk(input_dir))[1]\n",
    "for idx, dir_name in enumerate(tqdm(dirs)):\n",
    "# for root, dirs, files in os.walk(input_dir):\n",
    "#     for dir_name in reversed(dirs):\n",
    "    input_file = os.path.join(input_dir, dir_name, \"raw.fif\")\n",
    "    full_dir_name = os.path.join(input_dir, dir_name)\n",
    "    try:\n",
    "        upload_dir_to_gcs_skipping_existing(lambda x: tqdm.write(x), 'examined-life-derived-eeg', full_dir_name, dir_name)\n",
    "    except Exception as e:\n",
    "        log(\"Error processing file: \" + input_dir)\n",
    "        errors.append(\"Error processing file: \" + input_file + \" - \" + str(e))\n",
    "        log(e)\n",
    "\n",
    "for error in errors:\n",
    "    log(error)\n",
    "\n",
    "log(\"All uploaded\")"
   ]
  },
  {
   "cell_type": "markdown",
   "id": "6896e4e6423b928b",
   "metadata": {},
   "source": [
    "# Check if can delete Brainwave files that are safely backed up"
   ]
  },
  {
   "cell_type": "code",
   "execution_count": 33,
   "id": "54b1ee685c111770",
   "metadata": {
    "ExecuteTime": {
     "end_time": "2025-02-27T08:51:37.498708300Z",
     "start_time": "2025-02-16T08:11:58.032147Z"
    }
   },
   "outputs": [],
   "source": [
    "\n",
    "import os\n",
    "\n",
    "errors = []\n",
    "can_delete = []\n",
    "cannot_delete = []\n",
    "\n",
    "for root, dirs, files in os.walk(input_dir):\n",
    "    for idx, file_name in enumerate(files):\n",
    "        full_input_filename = os.path.join(root, file_name)\n",
    "        if full_input_filename.endswith(\".brainflow.csv\"):\n",
    "            compressed_full_output_filename = get_brainflow_compressed_filename(full_input_filename)\n",
    "                \n",
    "            if os.path.exists(compressed_full_output_filename):\n",
    "                can_delete.append({\n",
    "                    'backed_up': compressed_full_output_filename,\n",
    "                    'full_filename': full_input_filename\n",
    "                })\n",
    "            else:\n",
    "                cannot_delete.append(full_input_filename)\n",
    "    "
   ]
  },
  {
   "cell_type": "code",
   "execution_count": 34,
   "id": "1b99c37e9a4b39e8",
   "metadata": {
    "ExecuteTime": {
     "end_time": "2025-02-27T08:51:37.500707500Z",
     "start_time": "2025-02-16T08:11:58.197756Z"
    }
   },
   "outputs": [
    {
     "data": {
      "text/html": [
       "<div>\n",
       "<style scoped>\n",
       "    .dataframe tbody tr th:only-of-type {\n",
       "        vertical-align: middle;\n",
       "    }\n",
       "\n",
       "    .dataframe tbody tr th {\n",
       "        vertical-align: top;\n",
       "    }\n",
       "\n",
       "    .dataframe thead th {\n",
       "        text-align: right;\n",
       "    }\n",
       "</style>\n",
       "<table border=\"1\" class=\"dataframe\">\n",
       "  <thead>\n",
       "    <tr style=\"text-align: right;\">\n",
       "      <th></th>\n",
       "      <th>backed_up</th>\n",
       "      <th>full_filename</th>\n",
       "    </tr>\n",
       "  </thead>\n",
       "  <tbody>\n",
       "    <tr>\n",
       "      <th>0</th>\n",
       "      <td>C:\\dev\\play\\brainwave-data\\2024-12-28-21-33-53...</td>\n",
       "      <td>C:\\dev\\play\\brainwave-data\\2024-12-28-21-33-53...</td>\n",
       "    </tr>\n",
       "    <tr>\n",
       "      <th>1</th>\n",
       "      <td>C:\\dev\\play\\brainwave-data\\2024-12-29-21-15-24...</td>\n",
       "      <td>C:\\dev\\play\\brainwave-data\\2024-12-29-21-15-24...</td>\n",
       "    </tr>\n",
       "    <tr>\n",
       "      <th>2</th>\n",
       "      <td>C:\\dev\\play\\brainwave-data\\2024-12-30-21-34-52...</td>\n",
       "      <td>C:\\dev\\play\\brainwave-data\\2024-12-30-21-34-52...</td>\n",
       "    </tr>\n",
       "    <tr>\n",
       "      <th>3</th>\n",
       "      <td>C:\\dev\\play\\brainwave-data\\2024-12-31-21-12-28...</td>\n",
       "      <td>C:\\dev\\play\\brainwave-data\\2024-12-31-21-12-28...</td>\n",
       "    </tr>\n",
       "    <tr>\n",
       "      <th>4</th>\n",
       "      <td>C:\\dev\\play\\brainwave-data\\2025-01-01-21-42-08...</td>\n",
       "      <td>C:\\dev\\play\\brainwave-data\\2025-01-01-21-42-08...</td>\n",
       "    </tr>\n",
       "    <tr>\n",
       "      <th>5</th>\n",
       "      <td>C:\\dev\\play\\brainwave-data\\2025-01-05-21-10-59...</td>\n",
       "      <td>C:\\dev\\play\\brainwave-data\\2025-01-05-21-10-59...</td>\n",
       "    </tr>\n",
       "    <tr>\n",
       "      <th>6</th>\n",
       "      <td>C:\\dev\\play\\brainwave-data\\2025-01-06-21-35-21...</td>\n",
       "      <td>C:\\dev\\play\\brainwave-data\\2025-01-06-21-35-21...</td>\n",
       "    </tr>\n",
       "    <tr>\n",
       "      <th>7</th>\n",
       "      <td>C:\\dev\\play\\brainwave-data\\2025-01-07-21-12-58...</td>\n",
       "      <td>C:\\dev\\play\\brainwave-data\\2025-01-07-21-12-58...</td>\n",
       "    </tr>\n",
       "    <tr>\n",
       "      <th>8</th>\n",
       "      <td>C:\\dev\\play\\brainwave-data\\2025-01-08-21-41-09...</td>\n",
       "      <td>C:\\dev\\play\\brainwave-data\\2025-01-08-21-41-09...</td>\n",
       "    </tr>\n",
       "    <tr>\n",
       "      <th>9</th>\n",
       "      <td>C:\\dev\\play\\brainwave-data\\2025-01-11-21-19-30...</td>\n",
       "      <td>C:\\dev\\play\\brainwave-data\\2025-01-11-21-19-30...</td>\n",
       "    </tr>\n",
       "    <tr>\n",
       "      <th>10</th>\n",
       "      <td>C:\\dev\\play\\brainwave-data\\2025-01-16-21-34-19...</td>\n",
       "      <td>C:\\dev\\play\\brainwave-data\\2025-01-16-21-34-19...</td>\n",
       "    </tr>\n",
       "    <tr>\n",
       "      <th>11</th>\n",
       "      <td>C:\\dev\\play\\brainwave-data\\2025-01-17-21-32-40...</td>\n",
       "      <td>C:\\dev\\play\\brainwave-data\\2025-01-17-21-32-40...</td>\n",
       "    </tr>\n",
       "    <tr>\n",
       "      <th>12</th>\n",
       "      <td>C:\\dev\\play\\brainwave-data\\2025-01-19-22-07-23...</td>\n",
       "      <td>C:\\dev\\play\\brainwave-data\\2025-01-19-22-07-23...</td>\n",
       "    </tr>\n",
       "    <tr>\n",
       "      <th>13</th>\n",
       "      <td>C:\\dev\\play\\brainwave-data\\2025-01-21-21-39-45...</td>\n",
       "      <td>C:\\dev\\play\\brainwave-data\\2025-01-21-21-39-45...</td>\n",
       "    </tr>\n",
       "    <tr>\n",
       "      <th>14</th>\n",
       "      <td>C:\\dev\\play\\brainwave-data\\2025-01-22-21-42-13...</td>\n",
       "      <td>C:\\dev\\play\\brainwave-data\\2025-01-22-21-42-13...</td>\n",
       "    </tr>\n",
       "    <tr>\n",
       "      <th>15</th>\n",
       "      <td>C:\\dev\\play\\brainwave-data\\2025-01-23-21-33-32...</td>\n",
       "      <td>C:\\dev\\play\\brainwave-data\\2025-01-23-21-33-32...</td>\n",
       "    </tr>\n",
       "    <tr>\n",
       "      <th>16</th>\n",
       "      <td>C:\\dev\\play\\brainwave-data\\2025-01-27-21-31-51...</td>\n",
       "      <td>C:\\dev\\play\\brainwave-data\\2025-01-27-21-31-51...</td>\n",
       "    </tr>\n",
       "    <tr>\n",
       "      <th>17</th>\n",
       "      <td>C:\\dev\\play\\brainwave-data\\2025-01-28-21-50-35...</td>\n",
       "      <td>C:\\dev\\play\\brainwave-data\\2025-01-28-21-50-35...</td>\n",
       "    </tr>\n",
       "    <tr>\n",
       "      <th>18</th>\n",
       "      <td>C:\\dev\\play\\brainwave-data\\2025-01-30-21-49-17...</td>\n",
       "      <td>C:\\dev\\play\\brainwave-data\\2025-01-30-21-49-17...</td>\n",
       "    </tr>\n",
       "    <tr>\n",
       "      <th>19</th>\n",
       "      <td>C:\\dev\\play\\brainwave-data\\2025-01-31-21-45-23...</td>\n",
       "      <td>C:\\dev\\play\\brainwave-data\\2025-01-31-21-45-23...</td>\n",
       "    </tr>\n",
       "    <tr>\n",
       "      <th>20</th>\n",
       "      <td>C:\\dev\\play\\brainwave-data\\2025-02-02-21-31-45...</td>\n",
       "      <td>C:\\dev\\play\\brainwave-data\\2025-02-02-21-31-45...</td>\n",
       "    </tr>\n",
       "    <tr>\n",
       "      <th>21</th>\n",
       "      <td>C:\\dev\\play\\brainwave-data\\2025-02-03-21-09-39...</td>\n",
       "      <td>C:\\dev\\play\\brainwave-data\\2025-02-03-21-09-39...</td>\n",
       "    </tr>\n",
       "    <tr>\n",
       "      <th>22</th>\n",
       "      <td>C:\\dev\\play\\brainwave-data\\2025-02-04-21-21-26...</td>\n",
       "      <td>C:\\dev\\play\\brainwave-data\\2025-02-04-21-21-26...</td>\n",
       "    </tr>\n",
       "    <tr>\n",
       "      <th>23</th>\n",
       "      <td>C:\\dev\\play\\brainwave-data\\2025-02-05-21-15-57...</td>\n",
       "      <td>C:\\dev\\play\\brainwave-data\\2025-02-05-21-15-57...</td>\n",
       "    </tr>\n",
       "    <tr>\n",
       "      <th>24</th>\n",
       "      <td>C:\\dev\\play\\brainwave-data\\2025-02-09-21-19-01...</td>\n",
       "      <td>C:\\dev\\play\\brainwave-data\\2025-02-09-21-19-01...</td>\n",
       "    </tr>\n",
       "    <tr>\n",
       "      <th>25</th>\n",
       "      <td>C:\\dev\\play\\brainwave-data\\2025-02-10-21-45-36...</td>\n",
       "      <td>C:\\dev\\play\\brainwave-data\\2025-02-10-21-45-36...</td>\n",
       "    </tr>\n",
       "    <tr>\n",
       "      <th>26</th>\n",
       "      <td>C:\\dev\\play\\brainwave-data\\2025-02-11-21-47-04...</td>\n",
       "      <td>C:\\dev\\play\\brainwave-data\\2025-02-11-21-47-04...</td>\n",
       "    </tr>\n",
       "    <tr>\n",
       "      <th>27</th>\n",
       "      <td>C:\\dev\\play\\brainwave-data\\2025-02-12-20-34-56...</td>\n",
       "      <td>C:\\dev\\play\\brainwave-data\\2025-02-12-20-34-56...</td>\n",
       "    </tr>\n",
       "    <tr>\n",
       "      <th>28</th>\n",
       "      <td>C:\\dev\\play\\brainwave-data\\2025-02-13-20-52-43...</td>\n",
       "      <td>C:\\dev\\play\\brainwave-data\\2025-02-13-20-52-43...</td>\n",
       "    </tr>\n",
       "    <tr>\n",
       "      <th>29</th>\n",
       "      <td>C:\\dev\\play\\brainwave-data\\2025-02-15-21-37-56...</td>\n",
       "      <td>C:\\dev\\play\\brainwave-data\\2025-02-15-21-37-56...</td>\n",
       "    </tr>\n",
       "    <tr>\n",
       "      <th>30</th>\n",
       "      <td>C:\\dev\\play\\brainwave-data\\2025-02-16-21-26-48...</td>\n",
       "      <td>C:\\dev\\play\\brainwave-data\\2025-02-16-21-26-48...</td>\n",
       "    </tr>\n",
       "    <tr>\n",
       "      <th>31</th>\n",
       "      <td>C:\\dev\\play\\brainwave-data\\2025-02-17-21-43-00...</td>\n",
       "      <td>C:\\dev\\play\\brainwave-data\\2025-02-17-21-43-00...</td>\n",
       "    </tr>\n",
       "    <tr>\n",
       "      <th>32</th>\n",
       "      <td>C:\\dev\\play\\brainwave-data\\2025-02-18-21-50-50...</td>\n",
       "      <td>C:\\dev\\play\\brainwave-data\\2025-02-18-21-50-50...</td>\n",
       "    </tr>\n",
       "    <tr>\n",
       "      <th>33</th>\n",
       "      <td>C:\\dev\\play\\brainwave-data\\2025-02-19-21-29-50...</td>\n",
       "      <td>C:\\dev\\play\\brainwave-data\\2025-02-19-21-29-50...</td>\n",
       "    </tr>\n",
       "    <tr>\n",
       "      <th>34</th>\n",
       "      <td>C:\\dev\\play\\brainwave-data\\2025-02-20-21-31-45...</td>\n",
       "      <td>C:\\dev\\play\\brainwave-data\\2025-02-20-21-31-45...</td>\n",
       "    </tr>\n",
       "    <tr>\n",
       "      <th>35</th>\n",
       "      <td>C:\\dev\\play\\brainwave-data\\2025-02-23-21-28-38...</td>\n",
       "      <td>C:\\dev\\play\\brainwave-data\\2025-02-23-21-28-38...</td>\n",
       "    </tr>\n",
       "    <tr>\n",
       "      <th>36</th>\n",
       "      <td>C:\\dev\\play\\brainwave-data\\2025-02-24-22-00-38...</td>\n",
       "      <td>C:\\dev\\play\\brainwave-data\\2025-02-24-22-00-38...</td>\n",
       "    </tr>\n",
       "    <tr>\n",
       "      <th>37</th>\n",
       "      <td>C:\\dev\\play\\brainwave-data\\2025-02-26-21-21-01...</td>\n",
       "      <td>C:\\dev\\play\\brainwave-data\\2025-02-26-21-21-01...</td>\n",
       "    </tr>\n",
       "    <tr>\n",
       "      <th>38</th>\n",
       "      <td>C:\\dev\\play\\brainwave-data\\2025-02-27-21-22-47...</td>\n",
       "      <td>C:\\dev\\play\\brainwave-data\\2025-02-27-21-22-47...</td>\n",
       "    </tr>\n",
       "    <tr>\n",
       "      <th>39</th>\n",
       "      <td>C:\\dev\\play\\brainwave-data\\2025-03-01-21-46-54...</td>\n",
       "      <td>C:\\dev\\play\\brainwave-data\\2025-03-01-21-46-54...</td>\n",
       "    </tr>\n",
       "    <tr>\n",
       "      <th>40</th>\n",
       "      <td>C:\\dev\\play\\brainwave-data\\2025-03-05-21-59-37...</td>\n",
       "      <td>C:\\dev\\play\\brainwave-data\\2025-03-05-21-59-37...</td>\n",
       "    </tr>\n",
       "    <tr>\n",
       "      <th>41</th>\n",
       "      <td>C:\\dev\\play\\brainwave-data\\2025-03-07-21-50-51...</td>\n",
       "      <td>C:\\dev\\play\\brainwave-data\\2025-03-07-21-50-51...</td>\n",
       "    </tr>\n",
       "    <tr>\n",
       "      <th>42</th>\n",
       "      <td>C:\\dev\\play\\brainwave-data\\2025-03-08-21-45-12...</td>\n",
       "      <td>C:\\dev\\play\\brainwave-data\\2025-03-08-21-45-12...</td>\n",
       "    </tr>\n",
       "    <tr>\n",
       "      <th>43</th>\n",
       "      <td>C:\\dev\\play\\brainwave-data\\2025-03-12-21-43-35...</td>\n",
       "      <td>C:\\dev\\play\\brainwave-data\\2025-03-12-21-43-35...</td>\n",
       "    </tr>\n",
       "    <tr>\n",
       "      <th>44</th>\n",
       "      <td>C:\\dev\\play\\brainwave-data\\2025-03-18-21-40-28...</td>\n",
       "      <td>C:\\dev\\play\\brainwave-data\\2025-03-18-21-40-28...</td>\n",
       "    </tr>\n",
       "    <tr>\n",
       "      <th>45</th>\n",
       "      <td>C:\\dev\\play\\brainwave-data\\2025-03-19-21-45-19...</td>\n",
       "      <td>C:\\dev\\play\\brainwave-data\\2025-03-19-21-45-19...</td>\n",
       "    </tr>\n",
       "    <tr>\n",
       "      <th>46</th>\n",
       "      <td>C:\\dev\\play\\brainwave-data\\2025-03-20-21-22-08...</td>\n",
       "      <td>C:\\dev\\play\\brainwave-data\\2025-03-20-21-22-08...</td>\n",
       "    </tr>\n",
       "    <tr>\n",
       "      <th>47</th>\n",
       "      <td>C:\\dev\\play\\brainwave-data\\2025-03-22-21-39-28...</td>\n",
       "      <td>C:\\dev\\play\\brainwave-data\\2025-03-22-21-39-28...</td>\n",
       "    </tr>\n",
       "    <tr>\n",
       "      <th>48</th>\n",
       "      <td>C:\\dev\\play\\brainwave-data\\2025-03-23-21-09-37...</td>\n",
       "      <td>C:\\dev\\play\\brainwave-data\\2025-03-23-21-09-37...</td>\n",
       "    </tr>\n",
       "    <tr>\n",
       "      <th>49</th>\n",
       "      <td>C:\\dev\\play\\brainwave-data\\2025-03-29-21-14-52...</td>\n",
       "      <td>C:\\dev\\play\\brainwave-data\\2025-03-29-21-14-52...</td>\n",
       "    </tr>\n",
       "    <tr>\n",
       "      <th>50</th>\n",
       "      <td>C:\\dev\\play\\brainwave-data\\2025-03-30-21-18-19...</td>\n",
       "      <td>C:\\dev\\play\\brainwave-data\\2025-03-30-21-18-19...</td>\n",
       "    </tr>\n",
       "    <tr>\n",
       "      <th>51</th>\n",
       "      <td>C:\\dev\\play\\brainwave-data\\2025-04-01-21-17-30...</td>\n",
       "      <td>C:\\dev\\play\\brainwave-data\\2025-04-01-21-17-30...</td>\n",
       "    </tr>\n",
       "    <tr>\n",
       "      <th>52</th>\n",
       "      <td>C:\\dev\\play\\brainwave-data\\2025-04-03-21-05-17...</td>\n",
       "      <td>C:\\dev\\play\\brainwave-data\\2025-04-03-21-05-17...</td>\n",
       "    </tr>\n",
       "    <tr>\n",
       "      <th>53</th>\n",
       "      <td>C:\\dev\\play\\brainwave-data\\2025-04-04-20-56-30...</td>\n",
       "      <td>C:\\dev\\play\\brainwave-data\\2025-04-04-20-56-30...</td>\n",
       "    </tr>\n",
       "    <tr>\n",
       "      <th>54</th>\n",
       "      <td>C:\\dev\\play\\brainwave-data\\2025-04-11-21-07-33...</td>\n",
       "      <td>C:\\dev\\play\\brainwave-data\\2025-04-11-21-07-33...</td>\n",
       "    </tr>\n",
       "  </tbody>\n",
       "</table>\n",
       "</div>"
      ],
      "text/plain": [
       "                                            backed_up  \\\n",
       "0   C:\\dev\\play\\brainwave-data\\2024-12-28-21-33-53...   \n",
       "1   C:\\dev\\play\\brainwave-data\\2024-12-29-21-15-24...   \n",
       "2   C:\\dev\\play\\brainwave-data\\2024-12-30-21-34-52...   \n",
       "3   C:\\dev\\play\\brainwave-data\\2024-12-31-21-12-28...   \n",
       "4   C:\\dev\\play\\brainwave-data\\2025-01-01-21-42-08...   \n",
       "5   C:\\dev\\play\\brainwave-data\\2025-01-05-21-10-59...   \n",
       "6   C:\\dev\\play\\brainwave-data\\2025-01-06-21-35-21...   \n",
       "7   C:\\dev\\play\\brainwave-data\\2025-01-07-21-12-58...   \n",
       "8   C:\\dev\\play\\brainwave-data\\2025-01-08-21-41-09...   \n",
       "9   C:\\dev\\play\\brainwave-data\\2025-01-11-21-19-30...   \n",
       "10  C:\\dev\\play\\brainwave-data\\2025-01-16-21-34-19...   \n",
       "11  C:\\dev\\play\\brainwave-data\\2025-01-17-21-32-40...   \n",
       "12  C:\\dev\\play\\brainwave-data\\2025-01-19-22-07-23...   \n",
       "13  C:\\dev\\play\\brainwave-data\\2025-01-21-21-39-45...   \n",
       "14  C:\\dev\\play\\brainwave-data\\2025-01-22-21-42-13...   \n",
       "15  C:\\dev\\play\\brainwave-data\\2025-01-23-21-33-32...   \n",
       "16  C:\\dev\\play\\brainwave-data\\2025-01-27-21-31-51...   \n",
       "17  C:\\dev\\play\\brainwave-data\\2025-01-28-21-50-35...   \n",
       "18  C:\\dev\\play\\brainwave-data\\2025-01-30-21-49-17...   \n",
       "19  C:\\dev\\play\\brainwave-data\\2025-01-31-21-45-23...   \n",
       "20  C:\\dev\\play\\brainwave-data\\2025-02-02-21-31-45...   \n",
       "21  C:\\dev\\play\\brainwave-data\\2025-02-03-21-09-39...   \n",
       "22  C:\\dev\\play\\brainwave-data\\2025-02-04-21-21-26...   \n",
       "23  C:\\dev\\play\\brainwave-data\\2025-02-05-21-15-57...   \n",
       "24  C:\\dev\\play\\brainwave-data\\2025-02-09-21-19-01...   \n",
       "25  C:\\dev\\play\\brainwave-data\\2025-02-10-21-45-36...   \n",
       "26  C:\\dev\\play\\brainwave-data\\2025-02-11-21-47-04...   \n",
       "27  C:\\dev\\play\\brainwave-data\\2025-02-12-20-34-56...   \n",
       "28  C:\\dev\\play\\brainwave-data\\2025-02-13-20-52-43...   \n",
       "29  C:\\dev\\play\\brainwave-data\\2025-02-15-21-37-56...   \n",
       "30  C:\\dev\\play\\brainwave-data\\2025-02-16-21-26-48...   \n",
       "31  C:\\dev\\play\\brainwave-data\\2025-02-17-21-43-00...   \n",
       "32  C:\\dev\\play\\brainwave-data\\2025-02-18-21-50-50...   \n",
       "33  C:\\dev\\play\\brainwave-data\\2025-02-19-21-29-50...   \n",
       "34  C:\\dev\\play\\brainwave-data\\2025-02-20-21-31-45...   \n",
       "35  C:\\dev\\play\\brainwave-data\\2025-02-23-21-28-38...   \n",
       "36  C:\\dev\\play\\brainwave-data\\2025-02-24-22-00-38...   \n",
       "37  C:\\dev\\play\\brainwave-data\\2025-02-26-21-21-01...   \n",
       "38  C:\\dev\\play\\brainwave-data\\2025-02-27-21-22-47...   \n",
       "39  C:\\dev\\play\\brainwave-data\\2025-03-01-21-46-54...   \n",
       "40  C:\\dev\\play\\brainwave-data\\2025-03-05-21-59-37...   \n",
       "41  C:\\dev\\play\\brainwave-data\\2025-03-07-21-50-51...   \n",
       "42  C:\\dev\\play\\brainwave-data\\2025-03-08-21-45-12...   \n",
       "43  C:\\dev\\play\\brainwave-data\\2025-03-12-21-43-35...   \n",
       "44  C:\\dev\\play\\brainwave-data\\2025-03-18-21-40-28...   \n",
       "45  C:\\dev\\play\\brainwave-data\\2025-03-19-21-45-19...   \n",
       "46  C:\\dev\\play\\brainwave-data\\2025-03-20-21-22-08...   \n",
       "47  C:\\dev\\play\\brainwave-data\\2025-03-22-21-39-28...   \n",
       "48  C:\\dev\\play\\brainwave-data\\2025-03-23-21-09-37...   \n",
       "49  C:\\dev\\play\\brainwave-data\\2025-03-29-21-14-52...   \n",
       "50  C:\\dev\\play\\brainwave-data\\2025-03-30-21-18-19...   \n",
       "51  C:\\dev\\play\\brainwave-data\\2025-04-01-21-17-30...   \n",
       "52  C:\\dev\\play\\brainwave-data\\2025-04-03-21-05-17...   \n",
       "53  C:\\dev\\play\\brainwave-data\\2025-04-04-20-56-30...   \n",
       "54  C:\\dev\\play\\brainwave-data\\2025-04-11-21-07-33...   \n",
       "\n",
       "                                        full_filename  \n",
       "0   C:\\dev\\play\\brainwave-data\\2024-12-28-21-33-53...  \n",
       "1   C:\\dev\\play\\brainwave-data\\2024-12-29-21-15-24...  \n",
       "2   C:\\dev\\play\\brainwave-data\\2024-12-30-21-34-52...  \n",
       "3   C:\\dev\\play\\brainwave-data\\2024-12-31-21-12-28...  \n",
       "4   C:\\dev\\play\\brainwave-data\\2025-01-01-21-42-08...  \n",
       "5   C:\\dev\\play\\brainwave-data\\2025-01-05-21-10-59...  \n",
       "6   C:\\dev\\play\\brainwave-data\\2025-01-06-21-35-21...  \n",
       "7   C:\\dev\\play\\brainwave-data\\2025-01-07-21-12-58...  \n",
       "8   C:\\dev\\play\\brainwave-data\\2025-01-08-21-41-09...  \n",
       "9   C:\\dev\\play\\brainwave-data\\2025-01-11-21-19-30...  \n",
       "10  C:\\dev\\play\\brainwave-data\\2025-01-16-21-34-19...  \n",
       "11  C:\\dev\\play\\brainwave-data\\2025-01-17-21-32-40...  \n",
       "12  C:\\dev\\play\\brainwave-data\\2025-01-19-22-07-23...  \n",
       "13  C:\\dev\\play\\brainwave-data\\2025-01-21-21-39-45...  \n",
       "14  C:\\dev\\play\\brainwave-data\\2025-01-22-21-42-13...  \n",
       "15  C:\\dev\\play\\brainwave-data\\2025-01-23-21-33-32...  \n",
       "16  C:\\dev\\play\\brainwave-data\\2025-01-27-21-31-51...  \n",
       "17  C:\\dev\\play\\brainwave-data\\2025-01-28-21-50-35...  \n",
       "18  C:\\dev\\play\\brainwave-data\\2025-01-30-21-49-17...  \n",
       "19  C:\\dev\\play\\brainwave-data\\2025-01-31-21-45-23...  \n",
       "20  C:\\dev\\play\\brainwave-data\\2025-02-02-21-31-45...  \n",
       "21  C:\\dev\\play\\brainwave-data\\2025-02-03-21-09-39...  \n",
       "22  C:\\dev\\play\\brainwave-data\\2025-02-04-21-21-26...  \n",
       "23  C:\\dev\\play\\brainwave-data\\2025-02-05-21-15-57...  \n",
       "24  C:\\dev\\play\\brainwave-data\\2025-02-09-21-19-01...  \n",
       "25  C:\\dev\\play\\brainwave-data\\2025-02-10-21-45-36...  \n",
       "26  C:\\dev\\play\\brainwave-data\\2025-02-11-21-47-04...  \n",
       "27  C:\\dev\\play\\brainwave-data\\2025-02-12-20-34-56...  \n",
       "28  C:\\dev\\play\\brainwave-data\\2025-02-13-20-52-43...  \n",
       "29  C:\\dev\\play\\brainwave-data\\2025-02-15-21-37-56...  \n",
       "30  C:\\dev\\play\\brainwave-data\\2025-02-16-21-26-48...  \n",
       "31  C:\\dev\\play\\brainwave-data\\2025-02-17-21-43-00...  \n",
       "32  C:\\dev\\play\\brainwave-data\\2025-02-18-21-50-50...  \n",
       "33  C:\\dev\\play\\brainwave-data\\2025-02-19-21-29-50...  \n",
       "34  C:\\dev\\play\\brainwave-data\\2025-02-20-21-31-45...  \n",
       "35  C:\\dev\\play\\brainwave-data\\2025-02-23-21-28-38...  \n",
       "36  C:\\dev\\play\\brainwave-data\\2025-02-24-22-00-38...  \n",
       "37  C:\\dev\\play\\brainwave-data\\2025-02-26-21-21-01...  \n",
       "38  C:\\dev\\play\\brainwave-data\\2025-02-27-21-22-47...  \n",
       "39  C:\\dev\\play\\brainwave-data\\2025-03-01-21-46-54...  \n",
       "40  C:\\dev\\play\\brainwave-data\\2025-03-05-21-59-37...  \n",
       "41  C:\\dev\\play\\brainwave-data\\2025-03-07-21-50-51...  \n",
       "42  C:\\dev\\play\\brainwave-data\\2025-03-08-21-45-12...  \n",
       "43  C:\\dev\\play\\brainwave-data\\2025-03-12-21-43-35...  \n",
       "44  C:\\dev\\play\\brainwave-data\\2025-03-18-21-40-28...  \n",
       "45  C:\\dev\\play\\brainwave-data\\2025-03-19-21-45-19...  \n",
       "46  C:\\dev\\play\\brainwave-data\\2025-03-20-21-22-08...  \n",
       "47  C:\\dev\\play\\brainwave-data\\2025-03-22-21-39-28...  \n",
       "48  C:\\dev\\play\\brainwave-data\\2025-03-23-21-09-37...  \n",
       "49  C:\\dev\\play\\brainwave-data\\2025-03-29-21-14-52...  \n",
       "50  C:\\dev\\play\\brainwave-data\\2025-03-30-21-18-19...  \n",
       "51  C:\\dev\\play\\brainwave-data\\2025-04-01-21-17-30...  \n",
       "52  C:\\dev\\play\\brainwave-data\\2025-04-03-21-05-17...  \n",
       "53  C:\\dev\\play\\brainwave-data\\2025-04-04-20-56-30...  \n",
       "54  C:\\dev\\play\\brainwave-data\\2025-04-11-21-07-33...  "
      ]
     },
     "execution_count": 34,
     "metadata": {},
     "output_type": "execute_result"
    }
   ],
   "source": [
    "can_delete_df = pd.DataFrame(can_delete)\n",
    "can_delete_df"
   ]
  },
  {
   "cell_type": "code",
   "execution_count": 35,
   "id": "d7c0794b5a6e8351",
   "metadata": {
    "ExecuteTime": {
     "end_time": "2025-02-27T08:51:37.503707800Z",
     "start_time": "2025-02-16T08:11:58.335388Z"
    }
   },
   "outputs": [
    {
     "data": {
      "text/plain": [
       "[]"
      ]
     },
     "execution_count": 35,
     "metadata": {},
     "output_type": "execute_result"
    }
   ],
   "source": [
    "cannot_delete"
   ]
  },
  {
   "cell_type": "code",
   "execution_count": 36,
   "id": "83646d0ee8f59e2",
   "metadata": {
    "ExecuteTime": {
     "end_time": "2025-02-27T08:51:37.505712500Z",
     "start_time": "2025-02-16T08:11:58.460601Z"
    }
   },
   "outputs": [
    {
     "data": {
      "text/plain": [
       "0     C:\\dev\\play\\brainwave-data\\2024-12-28-21-33-53...\n",
       "1     C:\\dev\\play\\brainwave-data\\2024-12-29-21-15-24...\n",
       "2     C:\\dev\\play\\brainwave-data\\2024-12-30-21-34-52...\n",
       "3     C:\\dev\\play\\brainwave-data\\2024-12-31-21-12-28...\n",
       "4     C:\\dev\\play\\brainwave-data\\2025-01-01-21-42-08...\n",
       "5     C:\\dev\\play\\brainwave-data\\2025-01-05-21-10-59...\n",
       "6     C:\\dev\\play\\brainwave-data\\2025-01-06-21-35-21...\n",
       "7     C:\\dev\\play\\brainwave-data\\2025-01-07-21-12-58...\n",
       "8     C:\\dev\\play\\brainwave-data\\2025-01-08-21-41-09...\n",
       "9     C:\\dev\\play\\brainwave-data\\2025-01-11-21-19-30...\n",
       "10    C:\\dev\\play\\brainwave-data\\2025-01-16-21-34-19...\n",
       "11    C:\\dev\\play\\brainwave-data\\2025-01-17-21-32-40...\n",
       "12    C:\\dev\\play\\brainwave-data\\2025-01-19-22-07-23...\n",
       "13    C:\\dev\\play\\brainwave-data\\2025-01-21-21-39-45...\n",
       "14    C:\\dev\\play\\brainwave-data\\2025-01-22-21-42-13...\n",
       "15    C:\\dev\\play\\brainwave-data\\2025-01-23-21-33-32...\n",
       "16    C:\\dev\\play\\brainwave-data\\2025-01-27-21-31-51...\n",
       "17    C:\\dev\\play\\brainwave-data\\2025-01-28-21-50-35...\n",
       "18    C:\\dev\\play\\brainwave-data\\2025-01-30-21-49-17...\n",
       "19    C:\\dev\\play\\brainwave-data\\2025-01-31-21-45-23...\n",
       "20    C:\\dev\\play\\brainwave-data\\2025-02-02-21-31-45...\n",
       "21    C:\\dev\\play\\brainwave-data\\2025-02-03-21-09-39...\n",
       "22    C:\\dev\\play\\brainwave-data\\2025-02-04-21-21-26...\n",
       "23    C:\\dev\\play\\brainwave-data\\2025-02-05-21-15-57...\n",
       "24    C:\\dev\\play\\brainwave-data\\2025-02-09-21-19-01...\n",
       "25    C:\\dev\\play\\brainwave-data\\2025-02-10-21-45-36...\n",
       "26    C:\\dev\\play\\brainwave-data\\2025-02-11-21-47-04...\n",
       "27    C:\\dev\\play\\brainwave-data\\2025-02-12-20-34-56...\n",
       "28    C:\\dev\\play\\brainwave-data\\2025-02-13-20-52-43...\n",
       "29    C:\\dev\\play\\brainwave-data\\2025-02-15-21-37-56...\n",
       "30    C:\\dev\\play\\brainwave-data\\2025-02-16-21-26-48...\n",
       "31    C:\\dev\\play\\brainwave-data\\2025-02-17-21-43-00...\n",
       "32    C:\\dev\\play\\brainwave-data\\2025-02-18-21-50-50...\n",
       "33    C:\\dev\\play\\brainwave-data\\2025-02-19-21-29-50...\n",
       "34    C:\\dev\\play\\brainwave-data\\2025-02-20-21-31-45...\n",
       "35    C:\\dev\\play\\brainwave-data\\2025-02-23-21-28-38...\n",
       "36    C:\\dev\\play\\brainwave-data\\2025-02-24-22-00-38...\n",
       "37    C:\\dev\\play\\brainwave-data\\2025-02-26-21-21-01...\n",
       "38    C:\\dev\\play\\brainwave-data\\2025-02-27-21-22-47...\n",
       "39    C:\\dev\\play\\brainwave-data\\2025-03-01-21-46-54...\n",
       "40    C:\\dev\\play\\brainwave-data\\2025-03-05-21-59-37...\n",
       "41    C:\\dev\\play\\brainwave-data\\2025-03-07-21-50-51...\n",
       "42    C:\\dev\\play\\brainwave-data\\2025-03-08-21-45-12...\n",
       "43    C:\\dev\\play\\brainwave-data\\2025-03-12-21-43-35...\n",
       "44    C:\\dev\\play\\brainwave-data\\2025-03-18-21-40-28...\n",
       "45    C:\\dev\\play\\brainwave-data\\2025-03-19-21-45-19...\n",
       "46    C:\\dev\\play\\brainwave-data\\2025-03-20-21-22-08...\n",
       "47    C:\\dev\\play\\brainwave-data\\2025-03-22-21-39-28...\n",
       "48    C:\\dev\\play\\brainwave-data\\2025-03-23-21-09-37...\n",
       "49    C:\\dev\\play\\brainwave-data\\2025-03-29-21-14-52...\n",
       "50    C:\\dev\\play\\brainwave-data\\2025-03-30-21-18-19...\n",
       "51    C:\\dev\\play\\brainwave-data\\2025-04-01-21-17-30...\n",
       "52    C:\\dev\\play\\brainwave-data\\2025-04-03-21-05-17...\n",
       "53    C:\\dev\\play\\brainwave-data\\2025-04-04-20-56-30...\n",
       "54    C:\\dev\\play\\brainwave-data\\2025-04-11-21-07-33...\n",
       "Name: full_filename, dtype: object"
      ]
     },
     "execution_count": 36,
     "metadata": {},
     "output_type": "execute_result"
    }
   ],
   "source": [
    "can_delete_df['full_filename']"
   ]
  },
  {
   "cell_type": "markdown",
   "id": "555248de86908ae3",
   "metadata": {},
   "source": [
    "# Check if can delete Cyton files that are safely backed up"
   ]
  },
  {
   "cell_type": "code",
   "execution_count": 37,
   "id": "b436cf8c7ef3a74",
   "metadata": {
    "ExecuteTime": {
     "end_time": "2025-02-27T08:51:37.507715300Z",
     "start_time": "2025-02-16T08:11:58.534129Z"
    }
   },
   "outputs": [],
   "source": [
    "import webserver\n",
    "import bz2\n",
    "import shutil\n",
    "import os\n",
    "import time\n",
    "\n",
    "\n",
    "errors = []\n",
    "can_delete = []\n",
    "cannot_delete = []\n",
    "\n",
    "for root, dirs, files in os.walk(input_dir):\n",
    "    for idx, file_name in enumerate(files):\n",
    "        full_input_filename = os.path.join(root, file_name)\n",
    "        if file_name.startswith(\"OBCI_\") and file_name.endswith(\".TXT.bz2\"):\n",
    "            can_delete.append({\n",
    "                'file_name': file_name.removesuffix(\".bz2\"),\n",
    "                'full_filename': full_input_filename\n",
    "            })"
   ]
  },
  {
   "cell_type": "code",
   "execution_count": 38,
   "id": "f6c68ce46d843ec5",
   "metadata": {
    "ExecuteTime": {
     "end_time": "2025-02-27T08:51:37.509707300Z",
     "start_time": "2025-02-16T08:11:58.657009Z"
    }
   },
   "outputs": [
    {
     "data": {
      "text/plain": [
       "[{'file_name': 'OBCI_0B.TXT',\n",
       "  'full_filename': 'C:\\\\dev\\\\play\\\\brainwave-data\\\\2024-09-24-22-43-11\\\\OBCI_0B.TXT.bz2'},\n",
       " {'file_name': 'OBCI_0D.TXT',\n",
       "  'full_filename': 'C:\\\\dev\\\\play\\\\brainwave-data\\\\2024-09-25-21-57-01\\\\OBCI_0D.TXT.bz2'},\n",
       " {'file_name': 'OBCI_1F.TXT',\n",
       "  'full_filename': 'C:\\\\dev\\\\play\\\\brainwave-data\\\\2024-10-01-21-36-11\\\\OBCI_1F.TXT.bz2'},\n",
       " {'file_name': 'OBCI_22.TXT',\n",
       "  'full_filename': 'C:\\\\dev\\\\play\\\\brainwave-data\\\\2024-10-04-21-13-39\\\\OBCI_22.TXT.bz2'},\n",
       " {'file_name': 'OBCI_23.TXT',\n",
       "  'full_filename': 'C:\\\\dev\\\\play\\\\brainwave-data\\\\2024-10-05-21-09-46\\\\OBCI_23.TXT.bz2'},\n",
       " {'file_name': 'OBCI_F7.TXT',\n",
       "  'full_filename': 'C:\\\\dev\\\\play\\\\brainwave-data\\\\2024-10-21-21-30-18\\\\OBCI_F7.TXT.bz2'},\n",
       " {'file_name': 'OBCI_03.TXT',\n",
       "  'full_filename': 'C:\\\\dev\\\\play\\\\brainwave-data\\\\2024-10-23-21-24-02\\\\OBCI_03.TXT.bz2'},\n",
       " {'file_name': 'OBCI_08.TXT',\n",
       "  'full_filename': 'C:\\\\dev\\\\play\\\\brainwave-data\\\\compressed_files\\\\OBCI_08.TXT.bz2'}]"
      ]
     },
     "execution_count": 38,
     "metadata": {},
     "output_type": "execute_result"
    }
   ],
   "source": [
    "can_delete"
   ]
  },
  {
   "cell_type": "code",
   "execution_count": 39,
   "id": "c73f7b9864e19c20",
   "metadata": {
    "ExecuteTime": {
     "end_time": "2025-02-27T08:51:37.511711900Z",
     "start_time": "2025-02-16T08:11:58.740778Z"
    }
   },
   "outputs": [],
   "source": [
    "cyton_file_locations = [input_dir, \"d:\", \"e:\", \"x:\"]\n",
    "\n",
    "for cyton_file_location in cyton_file_locations:\n",
    "    for root, dirs, files in os.walk(cyton_file_location):\n",
    "        for idx, file in enumerate(files):\n",
    "            matching_record = next((f for f in can_delete if f['file_name'] == file), None)\n",
    "            if matching_record:\n",
    "                full_filename = os.path.join(root, file)\n",
    "                log(f\"Could delete {full_filename} as backed up in {matching_record['full_filename']}\")"
   ]
  },
  {
   "cell_type": "code",
   "execution_count": 40,
   "id": "80fb15db155e0758",
   "metadata": {
    "ExecuteTime": {
     "end_time": "2025-02-27T08:51:37.513708900Z",
     "start_time": "2025-02-16T08:11:58.816354Z"
    }
   },
   "outputs": [
    {
     "name": "stdout",
     "output_type": "stream",
     "text": [
      "2025-04-12 07:29:36.545772 Memory Usage: 2276.93 MB GC to 2271.93 MB\n"
     ]
    }
   ],
   "source": [
    "import memory\n",
    "\n",
    "memory.garbage_collect(log)"
   ]
  },
  {
   "cell_type": "code",
   "execution_count": 41,
   "id": "18263c6577d32646",
   "metadata": {
    "ExecuteTime": {
     "end_time": "2025-02-27T08:51:37.514976700Z",
     "start_time": "2025-02-16T08:12:00.063677Z"
    }
   },
   "outputs": [
    {
     "data": {
      "text/plain": [
       "1"
      ]
     },
     "execution_count": 41,
     "metadata": {},
     "output_type": "execute_result"
    }
   ],
   "source": [
    "import ctypes\n",
    "\n",
    "ctypes.windll.user32.MessageBoxW(0, \"Compression is complete!\", \"Alert\", 0x40 | 0x1)"
   ]
  },
  {
   "cell_type": "code",
   "execution_count": null,
   "id": "4815003e12deaa7b",
   "metadata": {
    "ExecuteTime": {
     "end_time": "2025-02-27T08:51:37.517324500Z",
     "start_time": "2025-02-16T08:19:01.815412Z"
    }
   },
   "outputs": [],
   "source": []
  },
  {
   "cell_type": "code",
   "execution_count": null,
   "id": "d41cc48fcebc5da1",
   "metadata": {
    "ExecuteTime": {
     "end_time": "2025-02-27T08:51:37.518324100Z",
     "start_time": "2025-02-16T08:19:01.881401Z"
    }
   },
   "outputs": [],
   "source": []
  }
 ],
 "metadata": {
  "kernelspec": {
   "display_name": "py3.13",
   "language": "python",
   "name": "python3"
  },
  "language_info": {
   "codemirror_mode": {
    "name": "ipython",
    "version": 3
   },
   "file_extension": ".py",
   "mimetype": "text/x-python",
   "name": "python",
   "nbconvert_exporter": "python",
   "pygments_lexer": "ipython3",
   "version": "3.13.2"
  }
 },
 "nbformat": 4,
 "nbformat_minor": 5
}
