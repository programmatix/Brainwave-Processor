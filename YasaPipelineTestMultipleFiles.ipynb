{
 "cells": [
  {
   "metadata": {
    "ExecuteTime": {
     "end_time": "2024-10-03T18:21:49.346727Z",
     "start_time": "2024-10-03T18:21:49.319585Z"
    }
   },
   "cell_type": "code",
   "source": [
    "# Autoreload possibly interferes with IntelliJ debugging\n",
    "# %reload_ext autoreload\n",
    "# %autoreload 2\n",
    "import logging\n",
    "logging.basicConfig(level=logging.INFO, format='%(asctime)s - %(levelname)s - %(message)s')\n",
    "log = lambda msg: logging.info(msg)\n"
   ],
   "id": "34b2ec6a149ab9b1",
   "outputs": [],
   "execution_count": 6
  },
  {
   "metadata": {},
   "cell_type": "markdown",
   "source": "# Full pipeline (multiple files)",
   "id": "2177b708d94480ca"
  },
  {
   "metadata": {
    "ExecuteTime": {
     "end_time": "2024-10-03T18:21:49.469558Z",
     "start_time": "2024-10-03T18:21:49.438201Z"
    }
   },
   "cell_type": "code",
   "source": [
    "import pandas as pd\n",
    "import os\n",
    "\n",
    "input_dir = \"C:\\\\dev\\\\play\\\\brainwave-data\"\n",
    "stats_df = pd.read_csv(input_dir + os.path.sep + \"stats.csv\")"
   ],
   "id": "4b29301dac33b36d",
   "outputs": [],
   "execution_count": 7
  },
  {
   "metadata": {},
   "cell_type": "markdown",
   "source": "## Convert Brainflow files to FIF",
   "id": "6558e15223cc8efc"
  },
  {
   "metadata": {
    "ExecuteTime": {
     "end_time": "2024-10-03T18:21:49.500993Z",
     "start_time": "2024-10-03T18:21:49.485350Z"
    }
   },
   "cell_type": "code",
   "source": [
    "def get_brainflow_compressed_filename(full_input_filename: str) -> str:\n",
    "    full_output_dirname = webserver.output_dirname(full_input_filename)\n",
    "    compressed_full_output_filename = str(os.path.join(full_output_dirname, os.path.basename(full_input_filename))) + '.bz2'\n",
    "    return compressed_full_output_filename"
   ],
   "id": "e93d35cf861b09fa",
   "outputs": [],
   "execution_count": 8
  },
  {
   "metadata": {
    "ExecuteTime": {
     "end_time": "2024-10-03T18:21:49.658609Z",
     "start_time": "2024-10-03T18:21:49.532656Z"
    }
   },
   "cell_type": "code",
   "source": [
    "from datetime import datetime\n",
    "\n",
    "import webserver\n",
    "import convert\n",
    "# import zstandard as zstd\n",
    "import os\n",
    "import bz2\n",
    "import time\n",
    "import shutil\n",
    "\n",
    "errors = []\n",
    "processed = []\n",
    "\n",
    "# Could get these working later\n",
    "skip_list = ['2024-09-10-21-22-21']\n",
    "\n",
    "def compress_bz2(input_file, output_file):\n",
    "    start_time = time.time()\n",
    "    with open(input_file, 'rb') as f_in:\n",
    "        with bz2.open(output_file, 'wb', compresslevel=9) as f_out:\n",
    "            shutil.copyfileobj(f_in, f_out)\n",
    "    end_time = time.time()\n",
    "    return end_time - start_time, os.path.getsize(output_file)\n",
    "\n",
    "for root, dirs, files in os.walk(input_dir):\n",
    "    #for idx, file_name in enumerate(tqdm(dirs, desc=\"Converting Brainflow to FIF\")):\n",
    "    for idx, file_name in enumerate(files):\n",
    "        full_input_filename = os.path.join(root, file_name)\n",
    "        try:\n",
    "            if full_input_filename.endswith(\".brainflow.csv\"):\n",
    "                full_output_dirname = webserver.output_dirname(full_input_filename)\n",
    "                full_output_filename = str(os.path.join(full_output_dirname, 'raw.fif'))\n",
    "                \n",
    "                compressed_full_output_filename = get_brainflow_compressed_filename(full_input_filename)\n",
    "                \n",
    "                if not os.path.exists(compressed_full_output_filename):\n",
    "                    log(f\"Compressing file {full_input_filename} to \" + compressed_full_output_filename)\n",
    "                    processed.append(\"Compressing \" + full_input_filename)\n",
    "                    try:\n",
    "                        os.mkdir(os.path.dirname(compressed_full_output_filename))\n",
    "                    except:\n",
    "                        pass\n",
    "                    compress_bz2(full_input_filename, compressed_full_output_filename) \n",
    "                    \n",
    "                if os.path.exists(full_output_filename):\n",
    "                    log(f\"Skipping file {full_input_filename} as {full_output_filename} and {compressed_full_output_filename} already exist\")\n",
    "                    continue\n",
    "                should_skip = False\n",
    "                for s in skip_list:\n",
    "                    if s in full_input_filename:\n",
    "                        log(f\"Skipping file {full_input_filename}\")\n",
    "                        should_skip = True\n",
    "                if not should_skip:\n",
    "                    log(f\"Processing file {full_input_filename}\")\n",
    "                    processed.append(\"Processing \" + full_input_filename)\n",
    "                    channels = None\n",
    "                    date_time_str = os.path.basename(full_input_filename).removesuffix(\".brainflow.csv\")\n",
    "                    date_time_obj = datetime.strptime(date_time_str, '%Y-%m-%d-%H-%M-%S')\n",
    "                    if (date_time_obj > datetime(2024, 9, 1, 0, 0, 0)):\n",
    "                        channels = ['Fpz']\n",
    "        \n",
    "                    if channels is not None:\n",
    "                        log(f\"Processing file {full_input_filename} with channels {channels}\")\n",
    "                        convert.convert_and_save_brainflow_file(log, full_input_filename, full_output_filename, channels)\n",
    "\n",
    "        except Exception as e:\n",
    "            msg = \"Error processing file: \" + full_input_filename\n",
    "            log(msg)\n",
    "            log(e)\n",
    "            errors.append(msg)\n"
   ],
   "id": "21a84723f63a57a8",
   "outputs": [],
   "execution_count": 9
  },
  {
   "metadata": {
    "ExecuteTime": {
     "end_time": "2024-10-03T18:21:49.668483Z",
     "start_time": "2024-10-03T18:21:49.658609Z"
    }
   },
   "cell_type": "code",
   "source": "errors",
   "id": "b26100fa9d445409",
   "outputs": [
    {
     "data": {
      "text/plain": [
       "[]"
      ]
     },
     "execution_count": 10,
     "metadata": {},
     "output_type": "execute_result"
    }
   ],
   "execution_count": 10
  },
  {
   "metadata": {
    "ExecuteTime": {
     "end_time": "2024-10-03T18:21:49.684033Z",
     "start_time": "2024-10-03T18:21:49.668483Z"
    }
   },
   "cell_type": "code",
   "source": "processed",
   "id": "5b5561ec7207ccd0",
   "outputs": [
    {
     "data": {
      "text/plain": [
       "[]"
      ]
     },
     "execution_count": 11,
     "metadata": {},
     "output_type": "execute_result"
    }
   ],
   "execution_count": 11
  },
  {
   "metadata": {},
   "cell_type": "markdown",
   "source": "## Run pipeline on FIF files",
   "id": "fd7176771a519eb7"
  },
  {
   "metadata": {
    "ExecuteTime": {
     "end_time": "2024-10-03T18:21:52.508164Z",
     "start_time": "2024-10-03T18:21:49.684814Z"
    }
   },
   "cell_type": "code",
   "source": [
    "import pandas as pd\n",
    "import run_feature_pipeline\n",
    "import os\n",
    "\n",
    "errors = []\n",
    "dataframes = []\n",
    "\n",
    "# Could get these working later\n",
    "skip_list = ['2024-07-23-22-40-25', '2024-07-28-22-29-49', '2024-09-18-21-25-08', '2024-09-18-21-28-11', '2024-09-19-21-29-42']\n",
    "\n",
    "for root, dirs, files in os.walk(input_dir):\n",
    "    # for idx, dir_name in enumerate(tqdm(dirs, desc=\"Running pipeline\")):\n",
    "    for idx, dir_name in enumerate(dirs):\n",
    "        input_file = os.path.join(root, dir_name, \"raw.fif\")\n",
    "        if dir_name in skip_list:\n",
    "            log(f\"Skipping {idx} of {len(dirs)}: \" + input_file)\n",
    "            continue\n",
    "        try:\n",
    "            log(f\"Processing file {idx} of {len(dirs)}: \" + input_file)\n",
    "                        \n",
    "            if os.path.exists(input_file):                \n",
    "                yasa_df = run_feature_pipeline.cached_pipeline(log, input_file, stats_df)\n",
    "                dataframes.append(yasa_df)\n",
    "        except Exception as e:\n",
    "            msg = f\"Error processing file {idx} of {len(dirs)}: \" + input_file + \" - \" + str(e)\n",
    "            log(msg)\n",
    "            errors.append(msg)\n",
    "            log(e)\n",
    "\n",
    "for error in errors:\n",
    "    log(error)\n",
    "\n",
    "all = pd.concat(dataframes)\n",
    "log(f\"Finished processing, have {len(all)} files of {idx} total\")\n"
   ],
   "id": "92b7b91355d9b1f7",
   "outputs": [
    {
     "name": "stderr",
     "output_type": "stream",
     "text": [
      "2024-10-03 19:21:49,702 - INFO - Processing file 0 of 55: C:\\dev\\play\\brainwave-data\\08-07-2024--22-51-16\\raw.fif\n",
      "2024-10-03 19:21:49,702 - INFO - Processing file 1 of 55: C:\\dev\\play\\brainwave-data\\09-07-2024--22-52-25\\raw.fif\n",
      "2024-10-03 19:21:49,703 - INFO - Processing file 2 of 55: C:\\dev\\play\\brainwave-data\\2024-07-08-22-51-16\\raw.fif\n",
      "2024-10-03 19:21:49,705 - INFO - Loading cached file C:\\dev\\play\\brainwave-data\\2024-07-08-22-51-16\\raw.with_features.csv\n",
      "2024-10-03 19:21:49,740 - INFO - Processing file 3 of 55: C:\\dev\\play\\brainwave-data\\2024-07-11-22-46-18\\raw.fif\n",
      "2024-10-03 19:21:49,740 - INFO - Loading cached file C:\\dev\\play\\brainwave-data\\2024-07-11-22-46-18\\raw.with_features.csv\n",
      "2024-10-03 19:21:49,815 - INFO - Processing file 4 of 55: C:\\dev\\play\\brainwave-data\\2024-07-12-22-38-58\\raw.fif\n",
      "2024-10-03 19:21:49,815 - INFO - Loading cached file C:\\dev\\play\\brainwave-data\\2024-07-12-22-38-58\\raw.with_features.csv\n",
      "2024-10-03 19:21:49,883 - INFO - Processing file 5 of 55: C:\\dev\\play\\brainwave-data\\2024-07-13-21-41-55\\raw.fif\n",
      "2024-10-03 19:21:49,894 - INFO - Loading cached file C:\\dev\\play\\brainwave-data\\2024-07-13-21-41-55\\raw.with_features.csv\n",
      "2024-10-03 19:21:49,957 - INFO - Processing file 6 of 55: C:\\dev\\play\\brainwave-data\\2024-07-14-22-27-26\\raw.fif\n",
      "2024-10-03 19:21:49,957 - INFO - Loading cached file C:\\dev\\play\\brainwave-data\\2024-07-14-22-27-26\\raw.with_features.csv\n",
      "2024-10-03 19:21:50,020 - INFO - Processing file 7 of 55: C:\\dev\\play\\brainwave-data\\2024-07-15-09-10-07\\raw.fif\n",
      "2024-10-03 19:21:50,020 - INFO - Processing file 8 of 55: C:\\dev\\play\\brainwave-data\\2024-07-15-22-33-27\\raw.fif\n",
      "2024-10-03 19:21:50,020 - INFO - Loading cached file C:\\dev\\play\\brainwave-data\\2024-07-15-22-33-27\\raw.with_features.csv\n",
      "2024-10-03 19:21:50,084 - INFO - Processing file 9 of 55: C:\\dev\\play\\brainwave-data\\2024-07-16-23-14-52\\raw.fif\n",
      "2024-10-03 19:21:50,099 - INFO - Loading cached file C:\\dev\\play\\brainwave-data\\2024-07-16-23-14-52\\raw.with_features.csv\n",
      "2024-10-03 19:21:50,131 - INFO - Processing file 10 of 55: C:\\dev\\play\\brainwave-data\\2024-07-17-22-48-49\\raw.fif\n",
      "2024-10-03 19:21:50,131 - INFO - Loading cached file C:\\dev\\play\\brainwave-data\\2024-07-17-22-48-49\\raw.with_features.csv\n",
      "2024-10-03 19:21:50,212 - INFO - Processing file 11 of 55: C:\\dev\\play\\brainwave-data\\2024-07-21-22-22-16\\raw.fif\n",
      "2024-10-03 19:21:50,212 - INFO - Loading cached file C:\\dev\\play\\brainwave-data\\2024-07-21-22-22-16\\raw.with_features.csv\n",
      "2024-10-03 19:21:50,228 - INFO - Processing file 12 of 55: C:\\dev\\play\\brainwave-data\\2024-07-22-22-24-06\\raw.fif\n",
      "2024-10-03 19:21:50,228 - INFO - Loading cached file C:\\dev\\play\\brainwave-data\\2024-07-22-22-24-06\\raw.with_features.csv\n",
      "2024-10-03 19:21:50,292 - INFO - Skipping 13 of 55: C:\\dev\\play\\brainwave-data\\2024-07-23-22-40-25\\raw.fif\n",
      "2024-10-03 19:21:50,292 - INFO - Processing file 14 of 55: C:\\dev\\play\\brainwave-data\\2024-07-24-18-57-03\\raw.fif\n",
      "2024-10-03 19:21:50,292 - INFO - Processing file 15 of 55: C:\\dev\\play\\brainwave-data\\2024-07-24-22-42-26\\raw.fif\n",
      "2024-10-03 19:21:50,292 - INFO - Loading cached file C:\\dev\\play\\brainwave-data\\2024-07-24-22-42-26\\raw.with_features.csv\n",
      "2024-10-03 19:21:50,323 - INFO - Processing file 16 of 55: C:\\dev\\play\\brainwave-data\\2024-07-26-22-36-26\\raw.fif\n",
      "2024-10-03 19:21:50,323 - INFO - Loading cached file C:\\dev\\play\\brainwave-data\\2024-07-26-22-36-26\\raw.with_features.csv\n",
      "2024-10-03 19:21:50,386 - INFO - Processing file 17 of 55: C:\\dev\\play\\brainwave-data\\2024-07-27-22-16-21\\raw.fif\n",
      "2024-10-03 19:21:50,386 - INFO - Loading cached file C:\\dev\\play\\brainwave-data\\2024-07-27-22-16-21\\raw.with_features.csv\n",
      "2024-10-03 19:21:50,468 - INFO - Skipping 18 of 55: C:\\dev\\play\\brainwave-data\\2024-07-28-22-29-49\\raw.fif\n",
      "2024-10-03 19:21:50,468 - INFO - Processing file 19 of 55: C:\\dev\\play\\brainwave-data\\2024-08-03-22-57-15\\raw.fif\n",
      "2024-10-03 19:21:50,474 - INFO - Loading cached file C:\\dev\\play\\brainwave-data\\2024-08-03-22-57-15\\raw.with_features.csv\n",
      "2024-10-03 19:21:50,504 - INFO - Processing file 20 of 55: C:\\dev\\play\\brainwave-data\\2024-08-18-21-33-07\\raw.fif\n",
      "2024-10-03 19:21:50,521 - INFO - Loading cached file C:\\dev\\play\\brainwave-data\\2024-08-18-21-33-07\\raw.with_features.csv\n",
      "2024-10-03 19:21:50,610 - INFO - Processing file 21 of 55: C:\\dev\\play\\brainwave-data\\2024-08-19-21-43-56\\raw.fif\n",
      "2024-10-03 19:21:50,614 - INFO - Loading cached file C:\\dev\\play\\brainwave-data\\2024-08-19-21-43-56\\raw.with_features.csv\n",
      "2024-10-03 19:21:50,693 - INFO - Processing file 22 of 55: C:\\dev\\play\\brainwave-data\\2024-08-20-21-17-32\\raw.fif\n",
      "2024-10-03 19:21:50,693 - INFO - Loading cached file C:\\dev\\play\\brainwave-data\\2024-08-20-21-17-32\\raw.with_features.csv\n",
      "2024-10-03 19:21:50,771 - INFO - Processing file 23 of 55: C:\\dev\\play\\brainwave-data\\2024-08-21-21-40-16\\raw.fif\n",
      "2024-10-03 19:21:50,771 - INFO - Loading cached file C:\\dev\\play\\brainwave-data\\2024-08-21-21-40-16\\raw.with_features.csv\n",
      "2024-10-03 19:21:50,822 - INFO - Processing file 24 of 55: C:\\dev\\play\\brainwave-data\\2024-08-22-21-26-19\\raw.fif\n",
      "2024-10-03 19:21:50,827 - INFO - Loading cached file C:\\dev\\play\\brainwave-data\\2024-08-22-21-26-19\\raw.with_features.csv\n",
      "2024-10-03 19:21:50,868 - INFO - Processing file 25 of 55: C:\\dev\\play\\brainwave-data\\2024-08-23-21-29-46\\raw.fif\n",
      "2024-10-03 19:21:50,868 - INFO - Loading cached file C:\\dev\\play\\brainwave-data\\2024-08-23-21-29-46\\raw.with_features.csv\n",
      "2024-10-03 19:21:50,925 - INFO - Processing file 26 of 55: C:\\dev\\play\\brainwave-data\\2024-08-24-21-11-51\\raw.fif\n",
      "2024-10-03 19:21:50,925 - INFO - Loading cached file C:\\dev\\play\\brainwave-data\\2024-08-24-21-11-51\\raw.with_features.csv\n",
      "2024-10-03 19:21:50,988 - INFO - Processing file 27 of 55: C:\\dev\\play\\brainwave-data\\2024-08-25-21-25-33\\raw.fif\n",
      "2024-10-03 19:21:50,988 - INFO - Loading cached file C:\\dev\\play\\brainwave-data\\2024-08-25-21-25-33\\raw.with_features.csv\n",
      "2024-10-03 19:21:51,036 - INFO - Processing file 28 of 55: C:\\dev\\play\\brainwave-data\\2024-08-26-20-56-10\\raw.fif\n",
      "2024-10-03 19:21:51,036 - INFO - Loading cached file C:\\dev\\play\\brainwave-data\\2024-08-26-20-56-10\\raw.with_features.csv\n",
      "2024-10-03 19:21:51,123 - INFO - Processing file 29 of 55: C:\\dev\\play\\brainwave-data\\2024-09-01-21-11-15\\raw.fif\n",
      "2024-10-03 19:21:51,136 - INFO - Loading cached file C:\\dev\\play\\brainwave-data\\2024-09-01-21-11-15\\raw.with_features.csv\n",
      "2024-10-03 19:21:51,167 - INFO - Processing file 30 of 55: C:\\dev\\play\\brainwave-data\\2024-09-02-21-42-00\\raw.fif\n",
      "2024-10-03 19:21:51,167 - INFO - Loading cached file C:\\dev\\play\\brainwave-data\\2024-09-02-21-42-00\\raw.with_features.csv\n",
      "2024-10-03 19:21:51,197 - INFO - Processing file 31 of 55: C:\\dev\\play\\brainwave-data\\2024-09-03-21-10-58\\raw.fif\n",
      "2024-10-03 19:21:51,199 - INFO - Loading cached file C:\\dev\\play\\brainwave-data\\2024-09-03-21-10-58\\raw.with_features.csv\n",
      "2024-10-03 19:21:51,246 - INFO - Processing file 32 of 55: C:\\dev\\play\\brainwave-data\\2024-09-04-21-44-08\\raw.fif\n",
      "2024-10-03 19:21:51,246 - INFO - Loading cached file C:\\dev\\play\\brainwave-data\\2024-09-04-21-44-08\\raw.with_features.csv\n",
      "2024-10-03 19:21:51,289 - INFO - Processing file 33 of 55: C:\\dev\\play\\brainwave-data\\2024-09-05-21-32-05\\raw.fif\n",
      "2024-10-03 19:21:51,289 - INFO - Loading cached file C:\\dev\\play\\brainwave-data\\2024-09-05-21-32-05\\raw.with_features.csv\n",
      "2024-10-03 19:21:51,319 - INFO - Processing file 34 of 55: C:\\dev\\play\\brainwave-data\\2024-09-08-21-01-39\\raw.fif\n",
      "2024-10-03 19:21:51,319 - INFO - Loading cached file C:\\dev\\play\\brainwave-data\\2024-09-08-21-01-39\\raw.with_features.csv\n",
      "2024-10-03 19:21:51,360 - INFO - Processing file 35 of 55: C:\\dev\\play\\brainwave-data\\2024-09-10-21-22-21\\raw.fif\n",
      "2024-10-03 19:21:51,360 - INFO - Processing file 36 of 55: C:\\dev\\play\\brainwave-data\\2024-09-11-21-19-21\\raw.fif\n",
      "2024-10-03 19:21:51,360 - INFO - Loading cached file C:\\dev\\play\\brainwave-data\\2024-09-11-21-19-21\\raw.with_features.csv\n",
      "2024-10-03 19:21:51,390 - INFO - Processing file 37 of 55: C:\\dev\\play\\brainwave-data\\2024-09-13-21-24-32\\raw.fif\n",
      "2024-10-03 19:21:51,390 - INFO - Loading cached file C:\\dev\\play\\brainwave-data\\2024-09-13-21-24-32\\raw.with_features.csv\n",
      "2024-10-03 19:21:51,437 - INFO - Processing file 38 of 55: C:\\dev\\play\\brainwave-data\\2024-09-15-21-14-05\\raw.fif\n",
      "2024-10-03 19:21:51,447 - INFO - Loading cached file C:\\dev\\play\\brainwave-data\\2024-09-15-21-14-05\\raw.with_features.csv\n",
      "2024-10-03 19:21:51,483 - INFO - Processing file 39 of 55: C:\\dev\\play\\brainwave-data\\2024-09-16-21-04-27\\raw.fif\n",
      "2024-10-03 19:21:51,483 - INFO - Loading cached file C:\\dev\\play\\brainwave-data\\2024-09-16-21-04-27\\raw.with_features.csv\n",
      "2024-10-03 19:21:51,516 - INFO - Processing file 40 of 55: C:\\dev\\play\\brainwave-data\\2024-09-17-21-33-14\\raw.fif\n",
      "2024-10-03 19:21:51,516 - INFO - Loading cached file C:\\dev\\play\\brainwave-data\\2024-09-17-21-33-14\\raw.with_features.csv\n",
      "2024-10-03 19:21:51,544 - INFO - Skipping 41 of 55: C:\\dev\\play\\brainwave-data\\2024-09-18-21-28-11\\raw.fif\n",
      "2024-10-03 19:21:51,544 - INFO - Skipping 42 of 55: C:\\dev\\play\\brainwave-data\\2024-09-19-21-29-42\\raw.fif\n",
      "2024-10-03 19:21:51,544 - INFO - Processing file 43 of 55: C:\\dev\\play\\brainwave-data\\2024-09-20-21-19-28\\raw.fif\n",
      "2024-10-03 19:21:51,551 - INFO - Loading cached file C:\\dev\\play\\brainwave-data\\2024-09-20-21-19-28\\raw.with_features.csv\n",
      "2024-10-03 19:21:51,590 - INFO - Processing file 44 of 55: C:\\dev\\play\\brainwave-data\\2024-09-22-21-30-59\\raw.fif\n",
      "2024-10-03 19:21:51,593 - INFO - Loading cached file C:\\dev\\play\\brainwave-data\\2024-09-22-21-30-59\\raw.with_features.csv\n",
      "2024-10-03 19:21:51,631 - INFO - Processing file 45 of 55: C:\\dev\\play\\brainwave-data\\2024-09-24-22-43-11\\raw.fif\n",
      "2024-10-03 19:21:51,641 - INFO - Loading cached file C:\\dev\\play\\brainwave-data\\2024-09-24-22-43-11\\raw.with_features.csv\n",
      "2024-10-03 19:21:51,662 - INFO - Processing file 46 of 55: C:\\dev\\play\\brainwave-data\\2024-09-24-22-43-12\\raw.fif\n",
      "2024-10-03 19:21:51,671 - INFO - Loading cached file C:\\dev\\play\\brainwave-data\\2024-09-24-22-43-12\\raw.with_features.csv\n",
      "2024-10-03 19:21:51,697 - INFO - Processing file 47 of 55: C:\\dev\\play\\brainwave-data\\2024-09-25-21-57-01\\raw.fif\n",
      "2024-10-03 19:21:51,697 - INFO - Loading cached file C:\\dev\\play\\brainwave-data\\2024-09-25-21-57-01\\raw.with_features.csv\n",
      "2024-10-03 19:21:51,731 - INFO - Processing file 48 of 55: C:\\dev\\play\\brainwave-data\\2024-09-26-21-24-52\\raw.fif\n",
      "2024-10-03 19:21:51,731 - INFO - Loading cached file C:\\dev\\play\\brainwave-data\\2024-09-26-21-24-52\\raw.with_features.csv\n",
      "2024-10-03 19:21:51,771 - INFO - Processing file 49 of 55: C:\\dev\\play\\brainwave-data\\2024-09-28-21-33-28\\raw.fif\n",
      "2024-10-03 19:21:51,784 - INFO - Loading cached file C:\\dev\\play\\brainwave-data\\2024-09-28-21-33-28\\raw.with_features.csv\n",
      "2024-10-03 19:21:51,821 - INFO - Processing file 50 of 55: C:\\dev\\play\\brainwave-data\\2024-09-30-21-27-49\\raw.fif\n",
      "2024-10-03 19:21:51,821 - INFO - Loading cached file C:\\dev\\play\\brainwave-data\\2024-09-30-21-27-49\\raw.with_features.csv\n",
      "2024-10-03 19:21:51,860 - INFO - Processing file 51 of 55: C:\\dev\\play\\brainwave-data\\2024-10-01-21-36-11\\raw.fif\n",
      "2024-10-03 19:21:51,860 - INFO - Loading cached file C:\\dev\\play\\brainwave-data\\2024-10-01-21-36-11\\raw.with_features.csv\n",
      "2024-10-03 19:21:51,895 - INFO - Processing file 52 of 55: C:\\dev\\play\\brainwave-data\\2024-10-02-21-21-15\\raw.fif\n",
      "2024-10-03 19:21:51,895 - INFO - Loading cached file C:\\dev\\play\\brainwave-data\\2024-10-02-21-21-15\\raw.with_features.csv\n",
      "2024-10-03 19:21:51,935 - INFO - Processing file 53 of 55: C:\\dev\\play\\brainwave-data\\compressed_files\\raw.fif\n",
      "2024-10-03 19:21:51,935 - INFO - Processing file 54 of 55: C:\\dev\\play\\brainwave-data\\nonnight\\raw.fif\n",
      "2024-10-03 19:21:51,953 - INFO - Processing file 0 of 12: C:\\dev\\play\\brainwave-data\\nonnight\\2024-07-15-09-10-07\\raw.fif\n",
      "2024-10-03 19:21:51,963 - INFO - Processing file 1 of 12: C:\\dev\\play\\brainwave-data\\nonnight\\2024-07-16-07-17-07\\raw.fif\n",
      "2024-10-03 19:21:51,963 - INFO - Processing file 2 of 12: C:\\dev\\play\\brainwave-data\\nonnight\\2024-07-17-08-17-29\\raw.fif\n",
      "2024-10-03 19:21:51,963 - INFO - Processing file 3 of 12: C:\\dev\\play\\brainwave-data\\nonnight\\2024-07-18-09-10-29\\raw.fif\n",
      "2024-10-03 19:21:51,963 - INFO - Processing file 4 of 12: C:\\dev\\play\\brainwave-data\\nonnight\\2024-07-22-09-14-52\\raw.fif\n",
      "2024-10-03 19:21:51,963 - INFO - Processing file 5 of 12: C:\\dev\\play\\brainwave-data\\nonnight\\2024-07-27-09-40-07\\raw.fif\n",
      "2024-10-03 19:21:51,963 - INFO - Skipping 6 of 12: C:\\dev\\play\\brainwave-data\\nonnight\\2024-07-28-22-29-49\\raw.fif\n",
      "2024-10-03 19:21:51,963 - INFO - Processing file 7 of 12: C:\\dev\\play\\brainwave-data\\nonnight\\2024-07-29-08-39-51\\raw.fif\n",
      "2024-10-03 19:21:51,963 - INFO - Processing file 8 of 12: C:\\dev\\play\\brainwave-data\\nonnight\\2024-07-30-20-52-24\\raw.fif\n",
      "2024-10-03 19:21:51,963 - INFO - Processing file 9 of 12: C:\\dev\\play\\brainwave-data\\nonnight\\2024-08-01-17-03-14\\raw.fif\n",
      "2024-10-03 19:21:51,963 - INFO - Processing file 10 of 12: C:\\dev\\play\\brainwave-data\\nonnight\\2024-08-02-10-27-18\\raw.fif\n",
      "2024-10-03 19:21:51,963 - INFO - Processing file 11 of 12: C:\\dev\\play\\brainwave-data\\nonnight\\2024-08-04-08-15-28\\raw.fif\n",
      "2024-10-03 19:21:52,497 - INFO - Finished processing, have 48361 files of 11 total\n"
     ]
    }
   ],
   "execution_count": 12
  },
  {
   "metadata": {
    "ExecuteTime": {
     "end_time": "2024-10-03T18:21:52.520457Z",
     "start_time": "2024-10-03T18:21:52.510220Z"
    }
   },
   "cell_type": "code",
   "source": "errors",
   "id": "9b4587583e3b58ad",
   "outputs": [
    {
     "data": {
      "text/plain": [
       "[]"
      ]
     },
     "execution_count": 13,
     "metadata": {},
     "output_type": "execute_result"
    }
   ],
   "execution_count": 13
  },
  {
   "metadata": {
    "ExecuteTime": {
     "end_time": "2024-10-03T18:21:52.530477Z",
     "start_time": "2024-10-03T18:21:52.520457Z"
    }
   },
   "cell_type": "code",
   "source": "# yasa_df",
   "id": "e80f850794549465",
   "outputs": [],
   "execution_count": 14
  },
  {
   "metadata": {},
   "cell_type": "markdown",
   "source": [
    "# Recalculate scalings\n",
    "N.b. can be run frequently but will only be picked up by new runs.  Maybe worth occasionally regenerating all old files."
   ],
   "id": "e8807e90215b2ad8"
  },
  {
   "metadata": {
    "ExecuteTime": {
     "end_time": "2024-10-03T18:21:54.257612Z",
     "start_time": "2024-10-03T18:21:52.532119Z"
    }
   },
   "cell_type": "code",
   "source": [
    "import scaling\n",
    "\n",
    "stats = scaling.stats(all)\n",
    "stats.to_csv(input_dir + \"stats.csv\")\n",
    "stats"
   ],
   "id": "fdf438800f68bdd7",
   "outputs": [
    {
     "data": {
      "text/plain": [
       "                          Column          Mean           P10           P90  \\\n",
       "0               F8-M1_eeg_abspow  1.921968e-07  4.772690e-11  9.516579e-10   \n",
       "1    F8-M1_eeg_abspow_c7min_norm  4.070216e+01 -8.968809e-02  5.672409e-01   \n",
       "2    F8-M1_eeg_abspow_p2min_norm  4.897505e+01 -6.837685e-02  5.577247e-01   \n",
       "3                F8-M1_eeg_alpha  6.848900e-02  1.244090e-02  1.253551e-01   \n",
       "4     F8-M1_eeg_alpha_c7min_norm -3.206412e-02 -5.190218e-01  3.788195e-01   \n",
       "..                           ...           ...           ...           ...   \n",
       "970  Fpz_eeg_svdent_c7min_norm_s  5.113044e-18  0.000000e+00  0.000000e+00   \n",
       "971  Fpz_eeg_svdent_p2min_norm_s  0.000000e+00  0.000000e+00  0.000000e+00   \n",
       "972              Fpz_eeg_theta_s  4.607205e-01 -2.131948e-02  9.361571e-01   \n",
       "973   Fpz_eeg_theta_c7min_norm_s  5.782887e-01  1.919589e-04  1.023071e+00   \n",
       "974   Fpz_eeg_theta_p2min_norm_s  5.707758e-01 -1.030288e-04  1.037228e+00   \n",
       "\n",
       "              Min           Max        StdDev  \n",
       "0    8.534915e-35  7.769647e-04  9.439601e-06  \n",
       "1   -2.093740e-01  4.783267e+04  8.481547e+02  \n",
       "2   -2.503299e-01  7.904638e+04  1.356728e+03  \n",
       "3    8.034852e-05  3.983974e-01  4.803263e-02  \n",
       "4   -7.588421e-01  1.428529e+00  3.329315e-01  \n",
       "..            ...           ...           ...  \n",
       "970 -7.105427e-15  7.105427e-15  3.184371e-16  \n",
       "971  0.000000e+00  0.000000e+00  0.000000e+00  \n",
       "972 -1.621347e-01  2.960850e+00  3.563970e-01  \n",
       "973 -2.815854e-01  1.576032e+00  3.674755e-01  \n",
       "974 -3.464848e-01  1.982579e+00  3.777451e-01  \n",
       "\n",
       "[975 rows x 7 columns]"
      ],
      "text/html": [
       "<div>\n",
       "<style scoped>\n",
       "    .dataframe tbody tr th:only-of-type {\n",
       "        vertical-align: middle;\n",
       "    }\n",
       "\n",
       "    .dataframe tbody tr th {\n",
       "        vertical-align: top;\n",
       "    }\n",
       "\n",
       "    .dataframe thead th {\n",
       "        text-align: right;\n",
       "    }\n",
       "</style>\n",
       "<table border=\"1\" class=\"dataframe\">\n",
       "  <thead>\n",
       "    <tr style=\"text-align: right;\">\n",
       "      <th></th>\n",
       "      <th>Column</th>\n",
       "      <th>Mean</th>\n",
       "      <th>P10</th>\n",
       "      <th>P90</th>\n",
       "      <th>Min</th>\n",
       "      <th>Max</th>\n",
       "      <th>StdDev</th>\n",
       "    </tr>\n",
       "  </thead>\n",
       "  <tbody>\n",
       "    <tr>\n",
       "      <th>0</th>\n",
       "      <td>F8-M1_eeg_abspow</td>\n",
       "      <td>1.921968e-07</td>\n",
       "      <td>4.772690e-11</td>\n",
       "      <td>9.516579e-10</td>\n",
       "      <td>8.534915e-35</td>\n",
       "      <td>7.769647e-04</td>\n",
       "      <td>9.439601e-06</td>\n",
       "    </tr>\n",
       "    <tr>\n",
       "      <th>1</th>\n",
       "      <td>F8-M1_eeg_abspow_c7min_norm</td>\n",
       "      <td>4.070216e+01</td>\n",
       "      <td>-8.968809e-02</td>\n",
       "      <td>5.672409e-01</td>\n",
       "      <td>-2.093740e-01</td>\n",
       "      <td>4.783267e+04</td>\n",
       "      <td>8.481547e+02</td>\n",
       "    </tr>\n",
       "    <tr>\n",
       "      <th>2</th>\n",
       "      <td>F8-M1_eeg_abspow_p2min_norm</td>\n",
       "      <td>4.897505e+01</td>\n",
       "      <td>-6.837685e-02</td>\n",
       "      <td>5.577247e-01</td>\n",
       "      <td>-2.503299e-01</td>\n",
       "      <td>7.904638e+04</td>\n",
       "      <td>1.356728e+03</td>\n",
       "    </tr>\n",
       "    <tr>\n",
       "      <th>3</th>\n",
       "      <td>F8-M1_eeg_alpha</td>\n",
       "      <td>6.848900e-02</td>\n",
       "      <td>1.244090e-02</td>\n",
       "      <td>1.253551e-01</td>\n",
       "      <td>8.034852e-05</td>\n",
       "      <td>3.983974e-01</td>\n",
       "      <td>4.803263e-02</td>\n",
       "    </tr>\n",
       "    <tr>\n",
       "      <th>4</th>\n",
       "      <td>F8-M1_eeg_alpha_c7min_norm</td>\n",
       "      <td>-3.206412e-02</td>\n",
       "      <td>-5.190218e-01</td>\n",
       "      <td>3.788195e-01</td>\n",
       "      <td>-7.588421e-01</td>\n",
       "      <td>1.428529e+00</td>\n",
       "      <td>3.329315e-01</td>\n",
       "    </tr>\n",
       "    <tr>\n",
       "      <th>...</th>\n",
       "      <td>...</td>\n",
       "      <td>...</td>\n",
       "      <td>...</td>\n",
       "      <td>...</td>\n",
       "      <td>...</td>\n",
       "      <td>...</td>\n",
       "      <td>...</td>\n",
       "    </tr>\n",
       "    <tr>\n",
       "      <th>970</th>\n",
       "      <td>Fpz_eeg_svdent_c7min_norm_s</td>\n",
       "      <td>5.113044e-18</td>\n",
       "      <td>0.000000e+00</td>\n",
       "      <td>0.000000e+00</td>\n",
       "      <td>-7.105427e-15</td>\n",
       "      <td>7.105427e-15</td>\n",
       "      <td>3.184371e-16</td>\n",
       "    </tr>\n",
       "    <tr>\n",
       "      <th>971</th>\n",
       "      <td>Fpz_eeg_svdent_p2min_norm_s</td>\n",
       "      <td>0.000000e+00</td>\n",
       "      <td>0.000000e+00</td>\n",
       "      <td>0.000000e+00</td>\n",
       "      <td>0.000000e+00</td>\n",
       "      <td>0.000000e+00</td>\n",
       "      <td>0.000000e+00</td>\n",
       "    </tr>\n",
       "    <tr>\n",
       "      <th>972</th>\n",
       "      <td>Fpz_eeg_theta_s</td>\n",
       "      <td>4.607205e-01</td>\n",
       "      <td>-2.131948e-02</td>\n",
       "      <td>9.361571e-01</td>\n",
       "      <td>-1.621347e-01</td>\n",
       "      <td>2.960850e+00</td>\n",
       "      <td>3.563970e-01</td>\n",
       "    </tr>\n",
       "    <tr>\n",
       "      <th>973</th>\n",
       "      <td>Fpz_eeg_theta_c7min_norm_s</td>\n",
       "      <td>5.782887e-01</td>\n",
       "      <td>1.919589e-04</td>\n",
       "      <td>1.023071e+00</td>\n",
       "      <td>-2.815854e-01</td>\n",
       "      <td>1.576032e+00</td>\n",
       "      <td>3.674755e-01</td>\n",
       "    </tr>\n",
       "    <tr>\n",
       "      <th>974</th>\n",
       "      <td>Fpz_eeg_theta_p2min_norm_s</td>\n",
       "      <td>5.707758e-01</td>\n",
       "      <td>-1.030288e-04</td>\n",
       "      <td>1.037228e+00</td>\n",
       "      <td>-3.464848e-01</td>\n",
       "      <td>1.982579e+00</td>\n",
       "      <td>3.777451e-01</td>\n",
       "    </tr>\n",
       "  </tbody>\n",
       "</table>\n",
       "<p>975 rows × 7 columns</p>\n",
       "</div>"
      ]
     },
     "execution_count": 15,
     "metadata": {},
     "output_type": "execute_result"
    }
   ],
   "execution_count": 15
  },
  {
   "metadata": {},
   "cell_type": "markdown",
   "source": "# Upload to GCS",
   "id": "482f89663710fa04"
  },
  {
   "metadata": {
    "ExecuteTime": {
     "end_time": "2024-10-03T18:24:54.312103Z",
     "start_time": "2024-10-03T18:21:54.257612Z"
    }
   },
   "cell_type": "code",
   "source": [
    "from upload import upload_dir_to_gcs_skipping_existing\n",
    "import os\n",
    "\n",
    "errors = []\n",
    "dataframes = []\n",
    "\n",
    "for root, dirs, files in os.walk(input_dir):\n",
    "    for dir_name in reversed(dirs):\n",
    "        input_file = os.path.join(root, dir_name, \"raw.fif\")\n",
    "        full_dir_name = os.path.join(root, dir_name)\n",
    "        try:\n",
    "            upload_dir_to_gcs_skipping_existing(log, 'examined-life-derived-eeg', full_dir_name, dir_name)\n",
    "        except Exception as e:\n",
    "            log(\"Error processing file: \" + input_dir)\n",
    "            errors.append(\"Error processing file: \" + input_file + \" - \" + str(e))\n",
    "            log(e)\n",
    "\n",
    "for error in errors:\n",
    "    log(error)\n",
    "\n",
    "log(\"All uploaded\")"
   ],
   "id": "30732b799791e42d",
   "outputs": [
    {
     "name": "stderr",
     "output_type": "stream",
     "text": [
      "2024-10-03 19:21:59,813 - INFO - Skipping upload of C:\\dev\\play\\brainwave-data\\nonnight, identical directory already exists in GCS.\n",
      "2024-10-03 19:22:01,616 - INFO - Skipping upload of C:\\dev\\play\\brainwave-data\\compressed_files, identical directory already exists in GCS.\n",
      "2024-10-03 19:22:03,618 - INFO - Skipping C:\\dev\\play\\brainwave-data\\2024-10-02-21-21-15\\2024-10-02-21-21-15.brainflow.csv.bz2, identical file already exists in GCS.\n",
      "2024-10-03 19:22:03,672 - INFO - C:\\dev\\play\\brainwave-data\\2024-10-02-21-21-15\\raw.average_slow_wave.png uploading to 2024-10-02-21-21-15/raw.average_slow_wave.png, does_not_exist=False has_changed=True\n",
      "2024-10-03 19:22:04,023 - INFO - C:\\dev\\play\\brainwave-data\\2024-10-02-21-21-15\\raw.edf uploading to 2024-10-02-21-21-15/raw.edf, does_not_exist=False has_changed=True\n",
      "2024-10-03 19:22:17,620 - INFO - Skipping C:\\dev\\play\\brainwave-data\\2024-10-02-21-21-15\\raw.fif, identical file already exists in GCS.\n",
      "2024-10-03 19:22:17,677 - INFO - C:\\dev\\play\\brainwave-data\\2024-10-02-21-21-15\\raw.microwakings.csv uploading to 2024-10-02-21-21-15/raw.microwakings.csv, does_not_exist=True has_changed=True\n",
      "2024-10-03 19:22:17,976 - INFO - Skipping C:\\dev\\play\\brainwave-data\\2024-10-02-21-21-15\\raw.night_events.csv, identical file already exists in GCS.\n",
      "2024-10-03 19:22:18,039 - INFO - C:\\dev\\play\\brainwave-data\\2024-10-02-21-21-15\\raw.post_filter_psd_plot.png uploading to 2024-10-02-21-21-15/raw.post_filter_psd_plot.png, does_not_exist=False has_changed=True\n",
      "2024-10-03 19:22:18,294 - INFO - C:\\dev\\play\\brainwave-data\\2024-10-02-21-21-15\\raw.pre_filter_psd_plot.png uploading to 2024-10-02-21-21-15/raw.pre_filter_psd_plot.png, does_not_exist=False has_changed=True\n",
      "2024-10-03 19:22:18,687 - INFO - Skipping C:\\dev\\play\\brainwave-data\\2024-10-02-21-21-15\\raw.sleep.json, identical file already exists in GCS.\n",
      "2024-10-03 19:22:18,750 - INFO - Skipping C:\\dev\\play\\brainwave-data\\2024-10-02-21-21-15\\raw.sleep_stages.csv, identical file already exists in GCS.\n",
      "2024-10-03 19:22:18,798 - INFO - Skipping C:\\dev\\play\\brainwave-data\\2024-10-02-21-21-15\\raw.sleep_stages.Fpz.csv, identical file already exists in GCS.\n",
      "2024-10-03 19:22:18,861 - INFO - C:\\dev\\play\\brainwave-data\\2024-10-02-21-21-15\\raw.spectrogram.Fpz.png uploading to 2024-10-02-21-21-15/raw.spectrogram.Fpz.png, does_not_exist=False has_changed=True\n",
      "2024-10-03 19:22:20,605 - INFO - Skipping C:\\dev\\play\\brainwave-data\\2024-10-02-21-21-15\\raw.sw_summary.csv, identical file already exists in GCS.\n",
      "2024-10-03 19:22:20,676 - INFO - Skipping C:\\dev\\play\\brainwave-data\\2024-10-02-21-21-15\\raw.with_features.csv, identical file already exists in GCS.\n",
      "2024-10-03 19:22:20,772 - INFO - Uploaded directory checksum for C:\\dev\\play\\brainwave-data\\2024-10-02-21-21-15 to 2024-10-02-21-21-15/directory_checksum.md5\n",
      "2024-10-03 19:22:23,604 - INFO - Skipping C:\\dev\\play\\brainwave-data\\2024-10-01-21-36-11\\2024-10-01-21-36-11.brainflow.csv.bz2, identical file already exists in GCS.\n",
      "2024-10-03 19:22:23,805 - INFO - Skipping C:\\dev\\play\\brainwave-data\\2024-10-01-21-36-11\\OBCI_1F.TXT.bz2, identical file already exists in GCS.\n",
      "2024-10-03 19:22:23,850 - INFO - C:\\dev\\play\\brainwave-data\\2024-10-01-21-36-11\\raw.average_slow_wave.png uploading to 2024-10-01-21-36-11/raw.average_slow_wave.png, does_not_exist=False has_changed=True\n",
      "2024-10-03 19:22:24,413 - INFO - C:\\dev\\play\\brainwave-data\\2024-10-01-21-36-11\\raw.edf uploading to 2024-10-01-21-36-11/raw.edf, does_not_exist=False has_changed=True\n",
      "2024-10-03 19:22:38,365 - INFO - Skipping C:\\dev\\play\\brainwave-data\\2024-10-01-21-36-11\\raw.fif, identical file already exists in GCS.\n",
      "2024-10-03 19:22:38,421 - INFO - C:\\dev\\play\\brainwave-data\\2024-10-01-21-36-11\\raw.microwakings.csv uploading to 2024-10-01-21-36-11/raw.microwakings.csv, does_not_exist=True has_changed=True\n",
      "2024-10-03 19:22:38,721 - INFO - Skipping C:\\dev\\play\\brainwave-data\\2024-10-01-21-36-11\\raw.night_events.csv, identical file already exists in GCS.\n",
      "2024-10-03 19:22:38,784 - INFO - C:\\dev\\play\\brainwave-data\\2024-10-01-21-36-11\\raw.post_filter_psd_plot.png uploading to 2024-10-01-21-36-11/raw.post_filter_psd_plot.png, does_not_exist=False has_changed=True\n",
      "2024-10-03 19:22:39,080 - INFO - C:\\dev\\play\\brainwave-data\\2024-10-01-21-36-11\\raw.pre_filter_psd_plot.png uploading to 2024-10-01-21-36-11/raw.pre_filter_psd_plot.png, does_not_exist=False has_changed=True\n",
      "2024-10-03 19:22:39,350 - INFO - Skipping C:\\dev\\play\\brainwave-data\\2024-10-01-21-36-11\\raw.sleep.json, identical file already exists in GCS.\n",
      "2024-10-03 19:22:39,414 - INFO - Skipping C:\\dev\\play\\brainwave-data\\2024-10-01-21-36-11\\raw.sleep_stages.csv, identical file already exists in GCS.\n",
      "2024-10-03 19:22:39,461 - INFO - Skipping C:\\dev\\play\\brainwave-data\\2024-10-01-21-36-11\\raw.sleep_stages.Fpz.csv, identical file already exists in GCS.\n",
      "2024-10-03 19:22:39,525 - INFO - C:\\dev\\play\\brainwave-data\\2024-10-01-21-36-11\\raw.spectrogram.Fpz.png uploading to 2024-10-01-21-36-11/raw.spectrogram.Fpz.png, does_not_exist=False has_changed=True\n",
      "2024-10-03 19:22:41,271 - INFO - Skipping C:\\dev\\play\\brainwave-data\\2024-10-01-21-36-11\\raw.sw_summary.csv, identical file already exists in GCS.\n",
      "2024-10-03 19:22:41,345 - INFO - Skipping C:\\dev\\play\\brainwave-data\\2024-10-01-21-36-11\\raw.with_features.csv, identical file already exists in GCS.\n",
      "2024-10-03 19:22:41,446 - INFO - Uploaded directory checksum for C:\\dev\\play\\brainwave-data\\2024-10-01-21-36-11 to 2024-10-01-21-36-11/directory_checksum.md5\n",
      "2024-10-03 19:22:43,684 - INFO - Skipping upload of C:\\dev\\play\\brainwave-data\\2024-09-30-21-27-49, identical directory already exists in GCS.\n",
      "2024-10-03 19:22:45,648 - INFO - Skipping upload of C:\\dev\\play\\brainwave-data\\2024-09-28-21-33-28, identical directory already exists in GCS.\n",
      "2024-10-03 19:22:47,716 - INFO - Skipping upload of C:\\dev\\play\\brainwave-data\\2024-09-26-21-24-52, identical directory already exists in GCS.\n",
      "2024-10-03 19:22:49,959 - INFO - Skipping upload of C:\\dev\\play\\brainwave-data\\2024-09-25-21-57-01, identical directory already exists in GCS.\n",
      "2024-10-03 19:22:51,876 - INFO - Skipping upload of C:\\dev\\play\\brainwave-data\\2024-09-24-22-43-12, identical directory already exists in GCS.\n",
      "2024-10-03 19:22:53,895 - INFO - Skipping upload of C:\\dev\\play\\brainwave-data\\2024-09-24-22-43-11, identical directory already exists in GCS.\n",
      "2024-10-03 19:22:55,992 - INFO - Skipping upload of C:\\dev\\play\\brainwave-data\\2024-09-22-21-30-59, identical directory already exists in GCS.\n",
      "2024-10-03 19:22:58,155 - INFO - Skipping upload of C:\\dev\\play\\brainwave-data\\2024-09-20-21-19-28, identical directory already exists in GCS.\n",
      "2024-10-03 19:23:00,286 - INFO - Skipping upload of C:\\dev\\play\\brainwave-data\\2024-09-19-21-29-42, identical directory already exists in GCS.\n",
      "2024-10-03 19:23:02,482 - INFO - Skipping upload of C:\\dev\\play\\brainwave-data\\2024-09-18-21-28-11, identical directory already exists in GCS.\n",
      "2024-10-03 19:23:04,626 - INFO - Skipping upload of C:\\dev\\play\\brainwave-data\\2024-09-17-21-33-14, identical directory already exists in GCS.\n",
      "2024-10-03 19:23:06,334 - INFO - Skipping upload of C:\\dev\\play\\brainwave-data\\2024-09-16-21-04-27, identical directory already exists in GCS.\n",
      "2024-10-03 19:23:08,578 - INFO - Skipping upload of C:\\dev\\play\\brainwave-data\\2024-09-15-21-14-05, identical directory already exists in GCS.\n",
      "2024-10-03 19:23:10,744 - INFO - Skipping upload of C:\\dev\\play\\brainwave-data\\2024-09-13-21-24-32, identical directory already exists in GCS.\n",
      "2024-10-03 19:23:12,852 - INFO - Skipping upload of C:\\dev\\play\\brainwave-data\\2024-09-11-21-19-21, identical directory already exists in GCS.\n",
      "2024-10-03 19:23:14,567 - INFO - Skipping upload of C:\\dev\\play\\brainwave-data\\2024-09-10-21-22-21, identical directory already exists in GCS.\n",
      "2024-10-03 19:23:17,233 - INFO - Skipping upload of C:\\dev\\play\\brainwave-data\\2024-09-08-21-01-39, identical directory already exists in GCS.\n",
      "2024-10-03 19:23:18,924 - INFO - Skipping upload of C:\\dev\\play\\brainwave-data\\2024-09-05-21-32-05, identical directory already exists in GCS.\n",
      "2024-10-03 19:23:21,119 - INFO - Skipping upload of C:\\dev\\play\\brainwave-data\\2024-09-04-21-44-08, identical directory already exists in GCS.\n",
      "2024-10-03 19:23:23,643 - INFO - Skipping upload of C:\\dev\\play\\brainwave-data\\2024-09-03-21-10-58, identical directory already exists in GCS.\n",
      "2024-10-03 19:23:25,474 - INFO - Skipping upload of C:\\dev\\play\\brainwave-data\\2024-09-02-21-42-00, identical directory already exists in GCS.\n",
      "2024-10-03 19:23:27,593 - INFO - Skipping upload of C:\\dev\\play\\brainwave-data\\2024-09-01-21-11-15, identical directory already exists in GCS.\n",
      "2024-10-03 19:23:30,150 - INFO - Skipping upload of C:\\dev\\play\\brainwave-data\\2024-08-26-20-56-10, identical directory already exists in GCS.\n",
      "2024-10-03 19:23:32,524 - INFO - Skipping upload of C:\\dev\\play\\brainwave-data\\2024-08-25-21-25-33, identical directory already exists in GCS.\n",
      "2024-10-03 19:23:34,461 - INFO - Skipping upload of C:\\dev\\play\\brainwave-data\\2024-08-24-21-11-51, identical directory already exists in GCS.\n",
      "2024-10-03 19:23:36,684 - INFO - Skipping upload of C:\\dev\\play\\brainwave-data\\2024-08-23-21-29-46, identical directory already exists in GCS.\n",
      "2024-10-03 19:23:38,685 - INFO - Skipping upload of C:\\dev\\play\\brainwave-data\\2024-08-22-21-26-19, identical directory already exists in GCS.\n",
      "2024-10-03 19:23:40,863 - INFO - Skipping upload of C:\\dev\\play\\brainwave-data\\2024-08-21-21-40-16, identical directory already exists in GCS.\n",
      "2024-10-03 19:23:43,094 - INFO - Skipping upload of C:\\dev\\play\\brainwave-data\\2024-08-20-21-17-32, identical directory already exists in GCS.\n",
      "2024-10-03 19:23:45,093 - INFO - Skipping upload of C:\\dev\\play\\brainwave-data\\2024-08-19-21-43-56, identical directory already exists in GCS.\n",
      "2024-10-03 19:23:47,621 - INFO - Skipping upload of C:\\dev\\play\\brainwave-data\\2024-08-18-21-33-07, identical directory already exists in GCS.\n",
      "2024-10-03 19:23:49,479 - INFO - Skipping upload of C:\\dev\\play\\brainwave-data\\2024-08-03-22-57-15, identical directory already exists in GCS.\n",
      "2024-10-03 19:23:51,604 - INFO - Skipping C:\\dev\\play\\brainwave-data\\2024-07-28-22-29-49\\raw.average_slow_wave.png, identical file already exists in GCS.\n",
      "2024-10-03 19:23:51,784 - INFO - Skipping C:\\dev\\play\\brainwave-data\\2024-07-28-22-29-49\\raw.edf, identical file already exists in GCS.\n",
      "2024-10-03 19:23:52,379 - INFO - Skipping C:\\dev\\play\\brainwave-data\\2024-07-28-22-29-49\\raw.fif, identical file already exists in GCS.\n",
      "2024-10-03 19:23:52,435 - INFO - Skipping C:\\dev\\play\\brainwave-data\\2024-07-28-22-29-49\\raw.microwakings.csv, identical file already exists in GCS.\n",
      "2024-10-03 19:23:52,509 - INFO - Skipping C:\\dev\\play\\brainwave-data\\2024-07-28-22-29-49\\raw.night_events.csv, identical file already exists in GCS.\n",
      "2024-10-03 19:23:52,560 - INFO - Skipping C:\\dev\\play\\brainwave-data\\2024-07-28-22-29-49\\raw.post_filter_psd_plot.png, identical file already exists in GCS.\n",
      "2024-10-03 19:23:52,631 - INFO - Skipping C:\\dev\\play\\brainwave-data\\2024-07-28-22-29-49\\raw.pre_filter_psd_plot.png, identical file already exists in GCS.\n",
      "2024-10-03 19:23:52,680 - INFO - Skipping C:\\dev\\play\\brainwave-data\\2024-07-28-22-29-49\\raw.sleep.json, identical file already exists in GCS.\n",
      "2024-10-03 19:23:52,742 - INFO - Skipping C:\\dev\\play\\brainwave-data\\2024-07-28-22-29-49\\raw.sleep_stages.csv, identical file already exists in GCS.\n",
      "2024-10-03 19:23:52,811 - INFO - Skipping C:\\dev\\play\\brainwave-data\\2024-07-28-22-29-49\\raw.sleep_stages.F8-M1.csv, identical file already exists in GCS.\n",
      "2024-10-03 19:23:52,877 - INFO - Skipping C:\\dev\\play\\brainwave-data\\2024-07-28-22-29-49\\raw.sleep_stages.O2-M1.csv, identical file already exists in GCS.\n",
      "2024-10-03 19:23:52,926 - INFO - Skipping C:\\dev\\play\\brainwave-data\\2024-07-28-22-29-49\\raw.sleep_stages.T4-M1.csv, identical file already exists in GCS.\n",
      "2024-10-03 19:23:53,006 - INFO - Skipping C:\\dev\\play\\brainwave-data\\2024-07-28-22-29-49\\raw.spectrogram.F8-M1.png, identical file already exists in GCS.\n",
      "2024-10-03 19:23:53,070 - INFO - Skipping C:\\dev\\play\\brainwave-data\\2024-07-28-22-29-49\\raw.spectrogram.O2-M1.png, identical file already exists in GCS.\n",
      "2024-10-03 19:23:53,135 - INFO - Skipping C:\\dev\\play\\brainwave-data\\2024-07-28-22-29-49\\raw.spectrogram.T4-M1.png, identical file already exists in GCS.\n",
      "2024-10-03 19:23:53,196 - INFO - Skipping C:\\dev\\play\\brainwave-data\\2024-07-28-22-29-49\\raw.sw_summary.csv, identical file already exists in GCS.\n",
      "2024-10-03 19:23:53,256 - INFO - Skipping C:\\dev\\play\\brainwave-data\\2024-07-28-22-29-49\\raw.with_features.csv, identical file already exists in GCS.\n",
      "2024-10-03 19:23:53,335 - INFO - Uploaded directory checksum for C:\\dev\\play\\brainwave-data\\2024-07-28-22-29-49 to 2024-07-28-22-29-49/directory_checksum.md5\n",
      "2024-10-03 19:23:55,354 - INFO - Skipping upload of C:\\dev\\play\\brainwave-data\\2024-07-27-22-16-21, identical directory already exists in GCS.\n",
      "2024-10-03 19:23:57,586 - INFO - Skipping upload of C:\\dev\\play\\brainwave-data\\2024-07-26-22-36-26, identical directory already exists in GCS.\n",
      "2024-10-03 19:23:59,392 - INFO - Skipping upload of C:\\dev\\play\\brainwave-data\\2024-07-24-22-42-26, identical directory already exists in GCS.\n",
      "2024-10-03 19:24:00,872 - INFO - Skipping upload of C:\\dev\\play\\brainwave-data\\2024-07-24-18-57-03, identical directory already exists in GCS.\n",
      "2024-10-03 19:24:02,820 - INFO - Skipping upload of C:\\dev\\play\\brainwave-data\\2024-07-23-22-40-25, identical directory already exists in GCS.\n",
      "2024-10-03 19:24:05,097 - INFO - Skipping upload of C:\\dev\\play\\brainwave-data\\2024-07-22-22-24-06, identical directory already exists in GCS.\n",
      "2024-10-03 19:24:06,933 - INFO - Skipping upload of C:\\dev\\play\\brainwave-data\\2024-07-21-22-22-16, identical directory already exists in GCS.\n",
      "2024-10-03 19:24:09,314 - INFO - Skipping upload of C:\\dev\\play\\brainwave-data\\2024-07-17-22-48-49, identical directory already exists in GCS.\n",
      "2024-10-03 19:24:11,513 - INFO - Skipping upload of C:\\dev\\play\\brainwave-data\\2024-07-16-23-14-52, identical directory already exists in GCS.\n",
      "2024-10-03 19:24:13,592 - INFO - Skipping upload of C:\\dev\\play\\brainwave-data\\2024-07-15-22-33-27, identical directory already exists in GCS.\n",
      "2024-10-03 19:24:15,219 - INFO - Skipping upload of C:\\dev\\play\\brainwave-data\\2024-07-15-09-10-07, identical directory already exists in GCS.\n",
      "2024-10-03 19:24:17,491 - INFO - Skipping upload of C:\\dev\\play\\brainwave-data\\2024-07-14-22-27-26, identical directory already exists in GCS.\n",
      "2024-10-03 19:24:19,877 - INFO - Skipping upload of C:\\dev\\play\\brainwave-data\\2024-07-13-21-41-55, identical directory already exists in GCS.\n",
      "2024-10-03 19:24:22,081 - INFO - Skipping upload of C:\\dev\\play\\brainwave-data\\2024-07-12-22-38-58, identical directory already exists in GCS.\n",
      "2024-10-03 19:24:24,338 - INFO - Skipping upload of C:\\dev\\play\\brainwave-data\\2024-07-11-22-46-18, identical directory already exists in GCS.\n",
      "2024-10-03 19:24:26,188 - INFO - Skipping upload of C:\\dev\\play\\brainwave-data\\2024-07-08-22-51-16, identical directory already exists in GCS.\n",
      "2024-10-03 19:24:28,340 - INFO - Skipping upload of C:\\dev\\play\\brainwave-data\\09-07-2024--22-52-25, identical directory already exists in GCS.\n",
      "2024-10-03 19:24:29,964 - INFO - Skipping upload of C:\\dev\\play\\brainwave-data\\08-07-2024--22-51-16, identical directory already exists in GCS.\n",
      "2024-10-03 19:24:31,734 - INFO - Skipping upload of C:\\dev\\play\\brainwave-data\\nonnight\\2024-08-04-08-15-28, identical directory already exists in GCS.\n",
      "2024-10-03 19:24:34,127 - INFO - Skipping upload of C:\\dev\\play\\brainwave-data\\nonnight\\2024-08-02-10-27-18, identical directory already exists in GCS.\n",
      "2024-10-03 19:24:35,724 - INFO - Skipping upload of C:\\dev\\play\\brainwave-data\\nonnight\\2024-08-01-17-03-14, identical directory already exists in GCS.\n",
      "2024-10-03 19:24:38,948 - INFO - Skipping upload of C:\\dev\\play\\brainwave-data\\nonnight\\2024-07-30-20-52-24, identical directory already exists in GCS.\n",
      "2024-10-03 19:24:40,636 - INFO - Skipping upload of C:\\dev\\play\\brainwave-data\\nonnight\\2024-07-29-08-39-51, identical directory already exists in GCS.\n",
      "2024-10-03 19:24:43,560 - INFO - Skipping C:\\dev\\play\\brainwave-data\\nonnight\\2024-07-28-22-29-49\\2024-07-28-22-29-49.brainflow.csv.bz2, identical file already exists in GCS.\n",
      "2024-10-03 19:24:43,650 - INFO - Uploaded directory checksum for C:\\dev\\play\\brainwave-data\\nonnight\\2024-07-28-22-29-49 to 2024-07-28-22-29-49/directory_checksum.md5\n",
      "2024-10-03 19:24:45,821 - INFO - Skipping upload of C:\\dev\\play\\brainwave-data\\nonnight\\2024-07-27-09-40-07, identical directory already exists in GCS.\n",
      "2024-10-03 19:24:47,372 - INFO - Skipping upload of C:\\dev\\play\\brainwave-data\\nonnight\\2024-07-22-09-14-52, identical directory already exists in GCS.\n",
      "2024-10-03 19:24:49,057 - INFO - Skipping upload of C:\\dev\\play\\brainwave-data\\nonnight\\2024-07-18-09-10-29, identical directory already exists in GCS.\n",
      "2024-10-03 19:24:50,729 - INFO - Skipping upload of C:\\dev\\play\\brainwave-data\\nonnight\\2024-07-17-08-17-29, identical directory already exists in GCS.\n",
      "2024-10-03 19:24:52,524 - INFO - Skipping upload of C:\\dev\\play\\brainwave-data\\nonnight\\2024-07-16-07-17-07, identical directory already exists in GCS.\n",
      "2024-10-03 19:24:54,295 - INFO - Skipping upload of C:\\dev\\play\\brainwave-data\\nonnight\\2024-07-15-09-10-07, identical directory already exists in GCS.\n",
      "2024-10-03 19:24:54,300 - INFO - All uploaded\n"
     ]
    }
   ],
   "execution_count": 16
  },
  {
   "metadata": {
    "ExecuteTime": {
     "end_time": "2024-10-03T18:24:56.658576Z",
     "start_time": "2024-10-03T18:24:54.315130Z"
    }
   },
   "cell_type": "code",
   "source": "upload_dir_to_gcs_skipping_existing(log, 'examined-life-derived-eeg', \"C:\\\\dev\\\\play\\\\brainwave-data\\\\2024-07-12-22-38-58\", \"2024-07-12-22-38-58\")",
   "id": "c4576e4d5bd8aba6",
   "outputs": [
    {
     "name": "stderr",
     "output_type": "stream",
     "text": [
      "2024-10-03 19:24:56,647 - INFO - Skipping upload of C:\\dev\\play\\brainwave-data\\2024-07-12-22-38-58, identical directory already exists in GCS.\n"
     ]
    }
   ],
   "execution_count": 17
  },
  {
   "metadata": {},
   "cell_type": "markdown",
   "source": "# Delete Brainwave files that are safely backed up",
   "id": "6896e4e6423b928b"
  },
  {
   "metadata": {
    "ExecuteTime": {
     "end_time": "2024-10-03T18:24:56.719265Z",
     "start_time": "2024-10-03T18:24:56.665033Z"
    }
   },
   "cell_type": "code",
   "source": [
    "\n",
    "import os\n",
    "\n",
    "errors = []\n",
    "can_delete = []\n",
    "cannot_delete = []\n",
    "\n",
    "for root, dirs, files in os.walk(input_dir):\n",
    "    for idx, file_name in enumerate(files):\n",
    "        full_input_filename = os.path.join(root, file_name)\n",
    "        if full_input_filename.endswith(\".brainflow.csv\"):\n",
    "            compressed_full_output_filename = get_brainflow_compressed_filename(full_input_filename)\n",
    "                \n",
    "            if os.path.exists(compressed_full_output_filename):\n",
    "                can_delete.append({\n",
    "                    'backed_up': compressed_full_output_filename,\n",
    "                    'full_filename': full_input_filename\n",
    "                })\n",
    "            else:\n",
    "                cannot_delete.append(full_input_filename)\n",
    "    "
   ],
   "id": "54b1ee685c111770",
   "outputs": [],
   "execution_count": 18
  },
  {
   "metadata": {
    "ExecuteTime": {
     "end_time": "2024-10-03T18:24:56.745837Z",
     "start_time": "2024-10-03T18:24:56.727202Z"
    }
   },
   "cell_type": "code",
   "source": [
    "can_delete_df = pd.DataFrame(can_delete)\n",
    "can_delete_df"
   ],
   "id": "1b99c37e9a4b39e8",
   "outputs": [
    {
     "data": {
      "text/plain": [
       "Empty DataFrame\n",
       "Columns: []\n",
       "Index: []"
      ],
      "text/html": [
       "<div>\n",
       "<style scoped>\n",
       "    .dataframe tbody tr th:only-of-type {\n",
       "        vertical-align: middle;\n",
       "    }\n",
       "\n",
       "    .dataframe tbody tr th {\n",
       "        vertical-align: top;\n",
       "    }\n",
       "\n",
       "    .dataframe thead th {\n",
       "        text-align: right;\n",
       "    }\n",
       "</style>\n",
       "<table border=\"1\" class=\"dataframe\">\n",
       "  <thead>\n",
       "    <tr style=\"text-align: right;\">\n",
       "      <th></th>\n",
       "    </tr>\n",
       "  </thead>\n",
       "  <tbody>\n",
       "  </tbody>\n",
       "</table>\n",
       "</div>"
      ]
     },
     "execution_count": 19,
     "metadata": {},
     "output_type": "execute_result"
    }
   ],
   "execution_count": 19
  },
  {
   "metadata": {
    "ExecuteTime": {
     "end_time": "2024-10-03T18:24:56.761658Z",
     "start_time": "2024-10-03T18:24:56.748078Z"
    }
   },
   "cell_type": "code",
   "source": "cannot_delete",
   "id": "d7c0794b5a6e8351",
   "outputs": [
    {
     "data": {
      "text/plain": [
       "[]"
      ]
     },
     "execution_count": 20,
     "metadata": {},
     "output_type": "execute_result"
    }
   ],
   "execution_count": 20
  },
  {
   "metadata": {
    "ExecuteTime": {
     "end_time": "2024-10-03T18:24:57.871478Z",
     "start_time": "2024-10-03T18:24:56.764744Z"
    }
   },
   "cell_type": "code",
   "source": "can_delete_df['full_filename']",
   "id": "83646d0ee8f59e2",
   "outputs": [
    {
     "ename": "KeyError",
     "evalue": "'full_filename'",
     "output_type": "error",
     "traceback": [
      "\u001B[1;31m---------------------------------------------------------------------------\u001B[0m",
      "\u001B[1;31mKeyError\u001B[0m                                  Traceback (most recent call last)",
      "Cell \u001B[1;32mIn[21], line 1\u001B[0m\n\u001B[1;32m----> 1\u001B[0m \u001B[43mcan_delete_df\u001B[49m\u001B[43m[\u001B[49m\u001B[38;5;124;43m'\u001B[39;49m\u001B[38;5;124;43mfull_filename\u001B[39;49m\u001B[38;5;124;43m'\u001B[39;49m\u001B[43m]\u001B[49m\n",
      "File \u001B[1;32m~\\.conda\\envs\\tf\\lib\\site-packages\\pandas\\core\\frame.py:4102\u001B[0m, in \u001B[0;36mDataFrame.__getitem__\u001B[1;34m(self, key)\u001B[0m\n\u001B[0;32m   4100\u001B[0m \u001B[38;5;28;01mif\u001B[39;00m \u001B[38;5;28mself\u001B[39m\u001B[38;5;241m.\u001B[39mcolumns\u001B[38;5;241m.\u001B[39mnlevels \u001B[38;5;241m>\u001B[39m \u001B[38;5;241m1\u001B[39m:\n\u001B[0;32m   4101\u001B[0m     \u001B[38;5;28;01mreturn\u001B[39;00m \u001B[38;5;28mself\u001B[39m\u001B[38;5;241m.\u001B[39m_getitem_multilevel(key)\n\u001B[1;32m-> 4102\u001B[0m indexer \u001B[38;5;241m=\u001B[39m \u001B[38;5;28;43mself\u001B[39;49m\u001B[38;5;241;43m.\u001B[39;49m\u001B[43mcolumns\u001B[49m\u001B[38;5;241;43m.\u001B[39;49m\u001B[43mget_loc\u001B[49m\u001B[43m(\u001B[49m\u001B[43mkey\u001B[49m\u001B[43m)\u001B[49m\n\u001B[0;32m   4103\u001B[0m \u001B[38;5;28;01mif\u001B[39;00m is_integer(indexer):\n\u001B[0;32m   4104\u001B[0m     indexer \u001B[38;5;241m=\u001B[39m [indexer]\n",
      "File \u001B[1;32m~\\.conda\\envs\\tf\\lib\\site-packages\\pandas\\core\\indexes\\range.py:417\u001B[0m, in \u001B[0;36mRangeIndex.get_loc\u001B[1;34m(self, key)\u001B[0m\n\u001B[0;32m    415\u001B[0m         \u001B[38;5;28;01mraise\u001B[39;00m \u001B[38;5;167;01mKeyError\u001B[39;00m(key) \u001B[38;5;28;01mfrom\u001B[39;00m \u001B[38;5;21;01merr\u001B[39;00m\n\u001B[0;32m    416\u001B[0m \u001B[38;5;28;01mif\u001B[39;00m \u001B[38;5;28misinstance\u001B[39m(key, Hashable):\n\u001B[1;32m--> 417\u001B[0m     \u001B[38;5;28;01mraise\u001B[39;00m \u001B[38;5;167;01mKeyError\u001B[39;00m(key)\n\u001B[0;32m    418\u001B[0m \u001B[38;5;28mself\u001B[39m\u001B[38;5;241m.\u001B[39m_check_indexing_error(key)\n\u001B[0;32m    419\u001B[0m \u001B[38;5;28;01mraise\u001B[39;00m \u001B[38;5;167;01mKeyError\u001B[39;00m(key)\n",
      "\u001B[1;31mKeyError\u001B[0m: 'full_filename'"
     ]
    }
   ],
   "execution_count": 21
  },
  {
   "metadata": {},
   "cell_type": "markdown",
   "source": "# Delete Cyton files that are safely backed up",
   "id": "555248de86908ae3"
  },
  {
   "metadata": {
    "ExecuteTime": {
     "end_time": "2024-10-03T18:24:57.876394Z",
     "start_time": "2024-10-03T18:24:57.874850Z"
    }
   },
   "cell_type": "code",
   "source": [
    "import webserver\n",
    "import bz2\n",
    "import shutil\n",
    "import os\n",
    "import time\n",
    "\n",
    "\n",
    "errors = []\n",
    "can_delete = []\n",
    "cannot_delete = []\n",
    "\n",
    "for root, dirs, files in os.walk(input_dir):\n",
    "    for idx, file_name in enumerate(files):\n",
    "        full_input_filename = os.path.join(root, file_name)\n",
    "        if file_name.startswith(\"OBCI_\") and file_name.endswith(\".TXT.bz2\"):\n",
    "            can_delete.append({\n",
    "                'file_name': file_name.removesuffix(\".bz2\"),\n",
    "                'full_filename': full_input_filename\n",
    "            })"
   ],
   "id": "b436cf8c7ef3a74",
   "outputs": [],
   "execution_count": null
  },
  {
   "metadata": {
    "ExecuteTime": {
     "end_time": "2024-10-03T18:24:57.878504Z",
     "start_time": "2024-10-03T18:24:57.878504Z"
    }
   },
   "cell_type": "code",
   "source": "can_delete",
   "id": "f6c68ce46d843ec5",
   "outputs": [],
   "execution_count": null
  },
  {
   "metadata": {},
   "cell_type": "code",
   "source": [
    "cyton_file_locations = [input_dir, \"d:\", \"e:\", \"x:\"]\n",
    "\n",
    "for cyton_file_location in cyton_file_locations:\n",
    "    for root, dirs, files in os.walk(cyton_file_location):\n",
    "        for idx, file in enumerate(files):\n",
    "            matching_record = next((f for f in can_delete if f['file_name'] == file), None)\n",
    "            if matching_record:\n",
    "                full_filename = os.path.join(root, file)\n",
    "                log(f\"Could delete {full_filename} as backed up in {matching_record['full_filename']}\")"
   ],
   "id": "c73f7b9864e19c20",
   "outputs": [],
   "execution_count": null
  },
  {
   "metadata": {},
   "cell_type": "code",
   "source": "",
   "id": "80fb15db155e0758",
   "outputs": [],
   "execution_count": null
  },
  {
   "metadata": {},
   "cell_type": "code",
   "source": "",
   "id": "18263c6577d32646",
   "outputs": [],
   "execution_count": null
  }
 ],
 "metadata": {
  "kernelspec": {
   "display_name": "Python 3",
   "language": "python",
   "name": "python3"
  },
  "language_info": {
   "codemirror_mode": {
    "name": "ipython",
    "version": 2
   },
   "file_extension": ".py",
   "mimetype": "text/x-python",
   "name": "python",
   "nbconvert_exporter": "python",
   "pygments_lexer": "ipython2",
   "version": "2.7.6"
  }
 },
 "nbformat": 4,
 "nbformat_minor": 5
}
